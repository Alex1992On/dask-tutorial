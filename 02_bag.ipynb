{
 "cells": [
  {
   "cell_type": "markdown",
   "metadata": {},
   "source": [
    "<img src=\"images/dask_horizontal.svg\" align=\"right\" width=\"30%\">"
   ]
  },
  {
   "cell_type": "markdown",
   "metadata": {},
   "source": [
    "# Bag: Parallel Lists for semi-structured data"
   ]
  },
  {
   "cell_type": "markdown",
   "metadata": {},
   "source": [
    "Dask-bag excels in processing data that can be represented as a sequence of arbitrary inputs. We'll refer to this as \"messy\" data, because it can contain complex nested structures, missing fields, mixtures of data types, etc. The *functional* programming style fits very nicely with standard Python iteration, such as can be found in the `itertools` module.\n",
    "\n",
    "Messy data is often encountered at the beginning of data processing pipelines when large volumes of raw data are first consumed. The initial set of data might be JSON, CSV, XML, or any other format that does not enforce strict structure and datatypes.\n",
    "For this reason, the initial data massaging and processing is often done with Python `list`s, `dict`s, and `set`s.\n",
    "\n",
    "These core data structures are optimized for general-purpose storage and processing.  Adding streaming computation with iterators/generator expressions or libraries like `itertools` or [`toolz`](https://toolz.readthedocs.io/en/latest/) let us process large volumes in a small space.  If we combine this with parallel processing then we can churn through a fair amount of data.\n",
    "\n",
    "Dask.bag is a high level Dask collection to automate common workloads of this form.  In a nutshell\n",
    "\n",
    "    dask.bag = map, filter, toolz + parallel execution\n",
    "    \n",
    "**Related Documentation**\n",
    "\n",
    "* [Bag documentation](https://docs.dask.org/en/latest/bag.html)\n",
    "* [Bag screencast](https://youtu.be/-qIiJ1XtSv0)\n",
    "* [Bag API](https://docs.dask.org/en/latest/bag-api.html)\n",
    "* [Bag examples](https://examples.dask.org/bag.html)"
   ]
  },
  {
   "cell_type": "markdown",
   "metadata": {},
   "source": [
    "## Create data"
   ]
  },
  {
   "cell_type": "code",
   "execution_count": 1,
   "metadata": {},
   "outputs": [],
   "source": [
    "%run prep.py -d accounts"
   ]
  },
  {
   "cell_type": "markdown",
   "metadata": {},
   "source": [
    "## Setup"
   ]
  },
  {
   "cell_type": "markdown",
   "metadata": {},
   "source": [
    "Again, we'll use the distributed scheduler. Schedulers will be explained in depth [later](05_distributed.ipynb)."
   ]
  },
  {
   "cell_type": "code",
   "execution_count": 2,
   "metadata": {},
   "outputs": [],
   "source": [
    "from dask.distributed import Client\n",
    "\n",
    "client = Client(n_workers=4)"
   ]
  },
  {
   "cell_type": "markdown",
   "metadata": {},
   "source": [
    "## Creation"
   ]
  },
  {
   "cell_type": "markdown",
   "metadata": {},
   "source": [
    "You can create a `Bag` from a Python sequence, from files, from data on S3, etc.\n",
    "We demonstrate using `.take()` to show elements of the data. (Doing `.take(1)` results in a tuple with one element)\n",
    "\n",
    "Note that the data are partitioned into blocks, and there are many items per block. In the first example, the two partitions contain five elements each, and in the following two, each file is partitioned into one or more bytes blocks."
   ]
  },
  {
   "cell_type": "code",
   "execution_count": 3,
   "metadata": {},
   "outputs": [
    {
     "data": {
      "text/plain": [
       "(1, 2, 3)"
      ]
     },
     "execution_count": 3,
     "metadata": {},
     "output_type": "execute_result"
    }
   ],
   "source": [
    "# each element is an integer\n",
    "import dask.bag as db\n",
    "b = db.from_sequence([1, 2, 3, 4, 5, 6, 7, 8, 9, 10], npartitions=2)\n",
    "b.take(3)"
   ]
  },
  {
   "cell_type": "code",
   "execution_count": 4,
   "metadata": {},
   "outputs": [
    {
     "data": {
      "text/plain": [
       "('{\"id\": 0, \"name\": \"Alice\", \"transactions\": [{\"transaction-id\": 32, \"amount\": -188}, {\"transaction-id\": 170, \"amount\": -292}, {\"transaction-id\": 455, \"amount\": -279}, {\"transaction-id\": 526, \"amount\": -338}, {\"transaction-id\": 617, \"amount\": -379}, {\"transaction-id\": 765, \"amount\": -249}, {\"transaction-id\": 823, \"amount\": -189}, {\"transaction-id\": 1161, \"amount\": -203}, {\"transaction-id\": 1385, \"amount\": -229}, {\"transaction-id\": 1632, \"amount\": -55}, {\"transaction-id\": 1726, \"amount\": -197}, {\"transaction-id\": 1943, \"amount\": -181}, {\"transaction-id\": 2516, \"amount\": -279}, {\"transaction-id\": 2601, \"amount\": -233}, {\"transaction-id\": 3227, \"amount\": -193}, {\"transaction-id\": 3269, \"amount\": -22}, {\"transaction-id\": 3439, \"amount\": -387}, {\"transaction-id\": 3765, \"amount\": -250}, {\"transaction-id\": 3837, \"amount\": -156}, {\"transaction-id\": 4162, \"amount\": -389}, {\"transaction-id\": 4355, \"amount\": -296}, {\"transaction-id\": 4455, \"amount\": 14}, {\"transaction-id\": 4495, \"amount\": -83}, {\"transaction-id\": 4713, \"amount\": -299}, {\"transaction-id\": 4800, \"amount\": -48}, {\"transaction-id\": 4818, \"amount\": -283}, {\"transaction-id\": 5228, \"amount\": -454}, {\"transaction-id\": 5362, \"amount\": -125}, {\"transaction-id\": 5392, \"amount\": -273}, {\"transaction-id\": 5504, \"amount\": -230}, {\"transaction-id\": 5549, \"amount\": -195}, {\"transaction-id\": 6013, \"amount\": -172}, {\"transaction-id\": 6118, \"amount\": -126}, {\"transaction-id\": 6219, \"amount\": -387}, {\"transaction-id\": 6304, \"amount\": -300}, {\"transaction-id\": 6434, \"amount\": -141}, {\"transaction-id\": 6630, \"amount\": -242}, {\"transaction-id\": 6697, \"amount\": -273}, {\"transaction-id\": 7560, \"amount\": -186}, {\"transaction-id\": 7578, \"amount\": -109}, {\"transaction-id\": 7641, \"amount\": -14}, {\"transaction-id\": 8038, \"amount\": -250}, {\"transaction-id\": 8055, \"amount\": -39}, {\"transaction-id\": 8857, \"amount\": -234}, {\"transaction-id\": 9019, \"amount\": 19}, {\"transaction-id\": 9071, \"amount\": -155}]}\\n',)"
      ]
     },
     "execution_count": 4,
     "metadata": {},
     "output_type": "execute_result"
    }
   ],
   "source": [
    "# each element is a text file, where each line is a JSON object\n",
    "# note that the compression is handled automatically\n",
    "import os\n",
    "b = db.read_text(os.path.join('data', 'accounts.*.json.gz'))\n",
    "b.take(1)"
   ]
  },
  {
   "cell_type": "code",
   "execution_count": 5,
   "metadata": {},
   "outputs": [
    {
     "data": {
      "text/plain": [
       "('VendorID,tpep_pickup_datetime,tpep_dropoff_datetime,passenger_count,trip_distance,pickup_longitude,pickup_latitude,RateCodeID,store_and_fwd_flag,dropoff_longitude,dropoff_latitude,payment_type,fare_amount,extra,mta_tax,tip_amount,tolls_amount,improvement_surcharge,total_amount\\n',)"
      ]
     },
     "execution_count": 5,
     "metadata": {},
     "output_type": "execute_result"
    }
   ],
   "source": [
    "# Requires `s3fs` library\n",
    "# each partition is a remote CSV text file\n",
    "b = db.read_text('s3://dask-data/nyc-taxi/2015/yellow_tripdata_2015-01.csv',\n",
    "                 storage_options={'anon': True})\n",
    "b.take(1)"
   ]
  },
  {
   "cell_type": "markdown",
   "metadata": {},
   "source": [
    "## Manipulation"
   ]
  },
  {
   "cell_type": "markdown",
   "metadata": {},
   "source": [
    "`Bag` objects hold the standard functional API found in projects like the Python standard library, `toolz`, or `pyspark`, including `map`, `filter`, `groupby`, etc..\n",
    "\n",
    "Operations on `Bag` objects create new bags.  Call the `.compute()` method to trigger execution, as we saw for `Delayed` objects.  "
   ]
  },
  {
   "cell_type": "code",
   "execution_count": 6,
   "metadata": {},
   "outputs": [
    {
     "data": {
      "text/plain": [
       "dask.bag<lambda, npartitions=10>"
      ]
     },
     "execution_count": 6,
     "metadata": {},
     "output_type": "execute_result"
    }
   ],
   "source": [
    "def is_even(n):\n",
    "    return n % 2 == 0\n",
    "\n",
    "b = db.from_sequence([1, 2, 3, 4, 5, 6, 7, 8, 9, 10])\n",
    "c = b.filter(is_even).map(lambda x: x ** 2)\n",
    "c"
   ]
  },
  {
   "cell_type": "code",
   "execution_count": 7,
   "metadata": {},
   "outputs": [
    {
     "data": {
      "text/plain": [
       "[4, 16, 36, 64, 100]"
      ]
     },
     "execution_count": 7,
     "metadata": {},
     "output_type": "execute_result"
    }
   ],
   "source": [
    "# blocking form: wait for completion (which is very fast in this case)\n",
    "c.compute()"
   ]
  },
  {
   "cell_type": "markdown",
   "metadata": {},
   "source": [
    "### Example: Accounts JSON data"
   ]
  },
  {
   "cell_type": "markdown",
   "metadata": {},
   "source": [
    "We've created a fake dataset of gzipped JSON data in your data directory.  This is like the example used in the `DataFrame` example we will see later, except that it has bundled up all of the entires for each individual `id` into a single record.  This is similar to data that you might collect off of a document store database or a web API.\n",
    "\n",
    "Each line is a JSON encoded dictionary with the following keys\n",
    "\n",
    "*  id: Unique identifier of the customer\n",
    "*  name: Name of the customer\n",
    "*  transactions: List of `transaction-id`, `amount` pairs, one for each transaction for the customer in that file"
   ]
  },
  {
   "cell_type": "code",
   "execution_count": 8,
   "metadata": {},
   "outputs": [
    {
     "data": {
      "text/plain": [
       "('{\"id\": 0, \"name\": \"Alice\", \"transactions\": [{\"transaction-id\": 32, \"amount\": -188}, {\"transaction-id\": 170, \"amount\": -292}, {\"transaction-id\": 455, \"amount\": -279}, {\"transaction-id\": 526, \"amount\": -338}, {\"transaction-id\": 617, \"amount\": -379}, {\"transaction-id\": 765, \"amount\": -249}, {\"transaction-id\": 823, \"amount\": -189}, {\"transaction-id\": 1161, \"amount\": -203}, {\"transaction-id\": 1385, \"amount\": -229}, {\"transaction-id\": 1632, \"amount\": -55}, {\"transaction-id\": 1726, \"amount\": -197}, {\"transaction-id\": 1943, \"amount\": -181}, {\"transaction-id\": 2516, \"amount\": -279}, {\"transaction-id\": 2601, \"amount\": -233}, {\"transaction-id\": 3227, \"amount\": -193}, {\"transaction-id\": 3269, \"amount\": -22}, {\"transaction-id\": 3439, \"amount\": -387}, {\"transaction-id\": 3765, \"amount\": -250}, {\"transaction-id\": 3837, \"amount\": -156}, {\"transaction-id\": 4162, \"amount\": -389}, {\"transaction-id\": 4355, \"amount\": -296}, {\"transaction-id\": 4455, \"amount\": 14}, {\"transaction-id\": 4495, \"amount\": -83}, {\"transaction-id\": 4713, \"amount\": -299}, {\"transaction-id\": 4800, \"amount\": -48}, {\"transaction-id\": 4818, \"amount\": -283}, {\"transaction-id\": 5228, \"amount\": -454}, {\"transaction-id\": 5362, \"amount\": -125}, {\"transaction-id\": 5392, \"amount\": -273}, {\"transaction-id\": 5504, \"amount\": -230}, {\"transaction-id\": 5549, \"amount\": -195}, {\"transaction-id\": 6013, \"amount\": -172}, {\"transaction-id\": 6118, \"amount\": -126}, {\"transaction-id\": 6219, \"amount\": -387}, {\"transaction-id\": 6304, \"amount\": -300}, {\"transaction-id\": 6434, \"amount\": -141}, {\"transaction-id\": 6630, \"amount\": -242}, {\"transaction-id\": 6697, \"amount\": -273}, {\"transaction-id\": 7560, \"amount\": -186}, {\"transaction-id\": 7578, \"amount\": -109}, {\"transaction-id\": 7641, \"amount\": -14}, {\"transaction-id\": 8038, \"amount\": -250}, {\"transaction-id\": 8055, \"amount\": -39}, {\"transaction-id\": 8857, \"amount\": -234}, {\"transaction-id\": 9019, \"amount\": 19}, {\"transaction-id\": 9071, \"amount\": -155}]}\\n',\n",
       " '{\"id\": 1, \"name\": \"Kevin\", \"transactions\": [{\"transaction-id\": 121, \"amount\": 3864}, {\"transaction-id\": 323, \"amount\": 4003}, {\"transaction-id\": 470, \"amount\": 4016}, {\"transaction-id\": 715, \"amount\": 3811}, {\"transaction-id\": 802, \"amount\": 3813}, {\"transaction-id\": 904, \"amount\": 4044}, {\"transaction-id\": 942, \"amount\": 3580}, {\"transaction-id\": 1059, \"amount\": 4263}, {\"transaction-id\": 1090, \"amount\": 3604}, {\"transaction-id\": 1097, \"amount\": 3805}, {\"transaction-id\": 1154, \"amount\": 3711}, {\"transaction-id\": 1156, \"amount\": 3978}, {\"transaction-id\": 1232, \"amount\": 4208}, {\"transaction-id\": 1356, \"amount\": 3733}, {\"transaction-id\": 1553, \"amount\": 4041}, {\"transaction-id\": 2085, \"amount\": 3422}, {\"transaction-id\": 2427, \"amount\": 4064}, {\"transaction-id\": 2612, \"amount\": 4173}, {\"transaction-id\": 2751, \"amount\": 4181}, {\"transaction-id\": 2893, \"amount\": 4176}, {\"transaction-id\": 3145, \"amount\": 4177}, {\"transaction-id\": 3404, \"amount\": 3554}, {\"transaction-id\": 3483, \"amount\": 4063}, {\"transaction-id\": 3484, \"amount\": 4037}, {\"transaction-id\": 3636, \"amount\": 3980}, {\"transaction-id\": 3919, \"amount\": 3553}, {\"transaction-id\": 4254, \"amount\": 4184}, {\"transaction-id\": 4426, \"amount\": 3818}, {\"transaction-id\": 5072, \"amount\": 4219}, {\"transaction-id\": 5267, \"amount\": 3951}, {\"transaction-id\": 5452, \"amount\": 3857}, {\"transaction-id\": 5614, \"amount\": 3675}, {\"transaction-id\": 5697, \"amount\": 4059}, {\"transaction-id\": 5852, \"amount\": 4173}, {\"transaction-id\": 5862, \"amount\": 3540}, {\"transaction-id\": 5968, \"amount\": 3559}, {\"transaction-id\": 6119, \"amount\": 4048}, {\"transaction-id\": 6213, \"amount\": 4320}, {\"transaction-id\": 6407, \"amount\": 3952}, {\"transaction-id\": 6954, \"amount\": 3812}, {\"transaction-id\": 7221, \"amount\": 3507}, {\"transaction-id\": 7554, \"amount\": 4040}, {\"transaction-id\": 7680, \"amount\": 4302}, {\"transaction-id\": 7938, \"amount\": 3858}, {\"transaction-id\": 8053, \"amount\": 4147}, {\"transaction-id\": 8114, \"amount\": 3874}, {\"transaction-id\": 8157, \"amount\": 4520}, {\"transaction-id\": 8197, \"amount\": 3982}, {\"transaction-id\": 8245, \"amount\": 3636}, {\"transaction-id\": 8374, \"amount\": 3996}, {\"transaction-id\": 8426, \"amount\": 4322}, {\"transaction-id\": 8568, \"amount\": 4294}, {\"transaction-id\": 8584, \"amount\": 3371}, {\"transaction-id\": 9170, \"amount\": 3733}, {\"transaction-id\": 9189, \"amount\": 4062}, {\"transaction-id\": 9718, \"amount\": 3822}, {\"transaction-id\": 9853, \"amount\": 3852}]}\\n',\n",
       " '{\"id\": 2, \"name\": \"Bob\", \"transactions\": [{\"transaction-id\": 69, \"amount\": 6678}, {\"transaction-id\": 329, \"amount\": 6903}, {\"transaction-id\": 333, \"amount\": 6815}, {\"transaction-id\": 917, \"amount\": 6960}, {\"transaction-id\": 1165, \"amount\": 6470}, {\"transaction-id\": 1406, \"amount\": 6717}, {\"transaction-id\": 1456, \"amount\": 6456}, {\"transaction-id\": 1748, \"amount\": 6534}, {\"transaction-id\": 1776, \"amount\": 6575}, {\"transaction-id\": 1788, \"amount\": 6607}, {\"transaction-id\": 2134, \"amount\": 6422}, {\"transaction-id\": 2257, \"amount\": 6400}, {\"transaction-id\": 2435, \"amount\": 6707}, {\"transaction-id\": 2571, \"amount\": 6946}, {\"transaction-id\": 2717, \"amount\": 6660}, {\"transaction-id\": 2896, \"amount\": 6624}, {\"transaction-id\": 3051, \"amount\": 6372}, {\"transaction-id\": 3196, \"amount\": 6694}, {\"transaction-id\": 3228, \"amount\": 6781}, {\"transaction-id\": 3354, \"amount\": 6485}, {\"transaction-id\": 3398, \"amount\": 6255}, {\"transaction-id\": 3616, \"amount\": 6604}, {\"transaction-id\": 3716, \"amount\": 6325}, {\"transaction-id\": 4003, \"amount\": 6788}, {\"transaction-id\": 4074, \"amount\": 6858}, {\"transaction-id\": 4138, \"amount\": 6378}, {\"transaction-id\": 4267, \"amount\": 6587}, {\"transaction-id\": 4325, \"amount\": 6531}, {\"transaction-id\": 4493, \"amount\": 6478}, {\"transaction-id\": 4727, \"amount\": 6666}, {\"transaction-id\": 4786, \"amount\": 6017}, {\"transaction-id\": 4931, \"amount\": 6530}, {\"transaction-id\": 5129, \"amount\": 6321}, {\"transaction-id\": 5167, \"amount\": 5731}, {\"transaction-id\": 5281, \"amount\": 6795}, {\"transaction-id\": 5310, \"amount\": 6438}, {\"transaction-id\": 5316, \"amount\": 6624}, {\"transaction-id\": 5442, \"amount\": 6702}, {\"transaction-id\": 5488, \"amount\": 6737}, {\"transaction-id\": 5625, \"amount\": 6397}, {\"transaction-id\": 5788, \"amount\": 6365}, {\"transaction-id\": 5798, \"amount\": 6695}, {\"transaction-id\": 5839, \"amount\": 6429}, {\"transaction-id\": 6140, \"amount\": 6771}, {\"transaction-id\": 6211, \"amount\": 6201}, {\"transaction-id\": 6556, \"amount\": 6913}, {\"transaction-id\": 6614, \"amount\": 6519}, {\"transaction-id\": 6632, \"amount\": 6171}, {\"transaction-id\": 6651, \"amount\": 6363}, {\"transaction-id\": 6895, \"amount\": 6218}, {\"transaction-id\": 6905, \"amount\": 6541}, {\"transaction-id\": 6912, \"amount\": 6481}, {\"transaction-id\": 6964, \"amount\": 6692}, {\"transaction-id\": 7118, \"amount\": 6987}, {\"transaction-id\": 7172, \"amount\": 6849}, {\"transaction-id\": 7193, \"amount\": 6497}, {\"transaction-id\": 7247, \"amount\": 6720}, {\"transaction-id\": 7315, \"amount\": 6998}, {\"transaction-id\": 7459, \"amount\": 6873}, {\"transaction-id\": 7619, \"amount\": 6441}, {\"transaction-id\": 7722, \"amount\": 6484}, {\"transaction-id\": 7913, \"amount\": 7070}, {\"transaction-id\": 7935, \"amount\": 7349}, {\"transaction-id\": 7978, \"amount\": 6427}, {\"transaction-id\": 7995, \"amount\": 6615}, {\"transaction-id\": 8030, \"amount\": 6735}, {\"transaction-id\": 8063, \"amount\": 6672}, {\"transaction-id\": 8462, \"amount\": 6699}, {\"transaction-id\": 8492, \"amount\": 6553}, {\"transaction-id\": 8770, \"amount\": 6696}, {\"transaction-id\": 8787, \"amount\": 6257}, {\"transaction-id\": 8819, \"amount\": 6719}, {\"transaction-id\": 8842, \"amount\": 6599}, {\"transaction-id\": 8911, \"amount\": 7013}, {\"transaction-id\": 9083, \"amount\": 6919}, {\"transaction-id\": 9314, \"amount\": 6637}, {\"transaction-id\": 9340, \"amount\": 6612}, {\"transaction-id\": 9410, \"amount\": 6736}, {\"transaction-id\": 9679, \"amount\": 6946}, {\"transaction-id\": 9713, \"amount\": 6686}, {\"transaction-id\": 9794, \"amount\": 6724}, {\"transaction-id\": 9996, \"amount\": 6764}]}\\n')"
      ]
     },
     "execution_count": 8,
     "metadata": {},
     "output_type": "execute_result"
    }
   ],
   "source": [
    "filename = os.path.join('data', 'accounts.*.json.gz')\n",
    "lines = db.read_text(filename)\n",
    "lines.take(3)"
   ]
  },
  {
   "cell_type": "markdown",
   "metadata": {},
   "source": [
    "Our data comes out of the file as lines of text. Notice that file decompression happened automatically. We can make this data look more reasonable by mapping the `json.loads` function onto our bag."
   ]
  },
  {
   "cell_type": "code",
   "execution_count": 9,
   "metadata": {},
   "outputs": [
    {
     "data": {
      "text/plain": [
       "({'id': 0,\n",
       "  'name': 'Alice',\n",
       "  'transactions': [{'transaction-id': 32, 'amount': -188},\n",
       "   {'transaction-id': 170, 'amount': -292},\n",
       "   {'transaction-id': 455, 'amount': -279},\n",
       "   {'transaction-id': 526, 'amount': -338},\n",
       "   {'transaction-id': 617, 'amount': -379},\n",
       "   {'transaction-id': 765, 'amount': -249},\n",
       "   {'transaction-id': 823, 'amount': -189},\n",
       "   {'transaction-id': 1161, 'amount': -203},\n",
       "   {'transaction-id': 1385, 'amount': -229},\n",
       "   {'transaction-id': 1632, 'amount': -55},\n",
       "   {'transaction-id': 1726, 'amount': -197},\n",
       "   {'transaction-id': 1943, 'amount': -181},\n",
       "   {'transaction-id': 2516, 'amount': -279},\n",
       "   {'transaction-id': 2601, 'amount': -233},\n",
       "   {'transaction-id': 3227, 'amount': -193},\n",
       "   {'transaction-id': 3269, 'amount': -22},\n",
       "   {'transaction-id': 3439, 'amount': -387},\n",
       "   {'transaction-id': 3765, 'amount': -250},\n",
       "   {'transaction-id': 3837, 'amount': -156},\n",
       "   {'transaction-id': 4162, 'amount': -389},\n",
       "   {'transaction-id': 4355, 'amount': -296},\n",
       "   {'transaction-id': 4455, 'amount': 14},\n",
       "   {'transaction-id': 4495, 'amount': -83},\n",
       "   {'transaction-id': 4713, 'amount': -299},\n",
       "   {'transaction-id': 4800, 'amount': -48},\n",
       "   {'transaction-id': 4818, 'amount': -283},\n",
       "   {'transaction-id': 5228, 'amount': -454},\n",
       "   {'transaction-id': 5362, 'amount': -125},\n",
       "   {'transaction-id': 5392, 'amount': -273},\n",
       "   {'transaction-id': 5504, 'amount': -230},\n",
       "   {'transaction-id': 5549, 'amount': -195},\n",
       "   {'transaction-id': 6013, 'amount': -172},\n",
       "   {'transaction-id': 6118, 'amount': -126},\n",
       "   {'transaction-id': 6219, 'amount': -387},\n",
       "   {'transaction-id': 6304, 'amount': -300},\n",
       "   {'transaction-id': 6434, 'amount': -141},\n",
       "   {'transaction-id': 6630, 'amount': -242},\n",
       "   {'transaction-id': 6697, 'amount': -273},\n",
       "   {'transaction-id': 7560, 'amount': -186},\n",
       "   {'transaction-id': 7578, 'amount': -109},\n",
       "   {'transaction-id': 7641, 'amount': -14},\n",
       "   {'transaction-id': 8038, 'amount': -250},\n",
       "   {'transaction-id': 8055, 'amount': -39},\n",
       "   {'transaction-id': 8857, 'amount': -234},\n",
       "   {'transaction-id': 9019, 'amount': 19},\n",
       "   {'transaction-id': 9071, 'amount': -155}]},\n",
       " {'id': 1,\n",
       "  'name': 'Kevin',\n",
       "  'transactions': [{'transaction-id': 121, 'amount': 3864},\n",
       "   {'transaction-id': 323, 'amount': 4003},\n",
       "   {'transaction-id': 470, 'amount': 4016},\n",
       "   {'transaction-id': 715, 'amount': 3811},\n",
       "   {'transaction-id': 802, 'amount': 3813},\n",
       "   {'transaction-id': 904, 'amount': 4044},\n",
       "   {'transaction-id': 942, 'amount': 3580},\n",
       "   {'transaction-id': 1059, 'amount': 4263},\n",
       "   {'transaction-id': 1090, 'amount': 3604},\n",
       "   {'transaction-id': 1097, 'amount': 3805},\n",
       "   {'transaction-id': 1154, 'amount': 3711},\n",
       "   {'transaction-id': 1156, 'amount': 3978},\n",
       "   {'transaction-id': 1232, 'amount': 4208},\n",
       "   {'transaction-id': 1356, 'amount': 3733},\n",
       "   {'transaction-id': 1553, 'amount': 4041},\n",
       "   {'transaction-id': 2085, 'amount': 3422},\n",
       "   {'transaction-id': 2427, 'amount': 4064},\n",
       "   {'transaction-id': 2612, 'amount': 4173},\n",
       "   {'transaction-id': 2751, 'amount': 4181},\n",
       "   {'transaction-id': 2893, 'amount': 4176},\n",
       "   {'transaction-id': 3145, 'amount': 4177},\n",
       "   {'transaction-id': 3404, 'amount': 3554},\n",
       "   {'transaction-id': 3483, 'amount': 4063},\n",
       "   {'transaction-id': 3484, 'amount': 4037},\n",
       "   {'transaction-id': 3636, 'amount': 3980},\n",
       "   {'transaction-id': 3919, 'amount': 3553},\n",
       "   {'transaction-id': 4254, 'amount': 4184},\n",
       "   {'transaction-id': 4426, 'amount': 3818},\n",
       "   {'transaction-id': 5072, 'amount': 4219},\n",
       "   {'transaction-id': 5267, 'amount': 3951},\n",
       "   {'transaction-id': 5452, 'amount': 3857},\n",
       "   {'transaction-id': 5614, 'amount': 3675},\n",
       "   {'transaction-id': 5697, 'amount': 4059},\n",
       "   {'transaction-id': 5852, 'amount': 4173},\n",
       "   {'transaction-id': 5862, 'amount': 3540},\n",
       "   {'transaction-id': 5968, 'amount': 3559},\n",
       "   {'transaction-id': 6119, 'amount': 4048},\n",
       "   {'transaction-id': 6213, 'amount': 4320},\n",
       "   {'transaction-id': 6407, 'amount': 3952},\n",
       "   {'transaction-id': 6954, 'amount': 3812},\n",
       "   {'transaction-id': 7221, 'amount': 3507},\n",
       "   {'transaction-id': 7554, 'amount': 4040},\n",
       "   {'transaction-id': 7680, 'amount': 4302},\n",
       "   {'transaction-id': 7938, 'amount': 3858},\n",
       "   {'transaction-id': 8053, 'amount': 4147},\n",
       "   {'transaction-id': 8114, 'amount': 3874},\n",
       "   {'transaction-id': 8157, 'amount': 4520},\n",
       "   {'transaction-id': 8197, 'amount': 3982},\n",
       "   {'transaction-id': 8245, 'amount': 3636},\n",
       "   {'transaction-id': 8374, 'amount': 3996},\n",
       "   {'transaction-id': 8426, 'amount': 4322},\n",
       "   {'transaction-id': 8568, 'amount': 4294},\n",
       "   {'transaction-id': 8584, 'amount': 3371},\n",
       "   {'transaction-id': 9170, 'amount': 3733},\n",
       "   {'transaction-id': 9189, 'amount': 4062},\n",
       "   {'transaction-id': 9718, 'amount': 3822},\n",
       "   {'transaction-id': 9853, 'amount': 3852}]},\n",
       " {'id': 2,\n",
       "  'name': 'Bob',\n",
       "  'transactions': [{'transaction-id': 69, 'amount': 6678},\n",
       "   {'transaction-id': 329, 'amount': 6903},\n",
       "   {'transaction-id': 333, 'amount': 6815},\n",
       "   {'transaction-id': 917, 'amount': 6960},\n",
       "   {'transaction-id': 1165, 'amount': 6470},\n",
       "   {'transaction-id': 1406, 'amount': 6717},\n",
       "   {'transaction-id': 1456, 'amount': 6456},\n",
       "   {'transaction-id': 1748, 'amount': 6534},\n",
       "   {'transaction-id': 1776, 'amount': 6575},\n",
       "   {'transaction-id': 1788, 'amount': 6607},\n",
       "   {'transaction-id': 2134, 'amount': 6422},\n",
       "   {'transaction-id': 2257, 'amount': 6400},\n",
       "   {'transaction-id': 2435, 'amount': 6707},\n",
       "   {'transaction-id': 2571, 'amount': 6946},\n",
       "   {'transaction-id': 2717, 'amount': 6660},\n",
       "   {'transaction-id': 2896, 'amount': 6624},\n",
       "   {'transaction-id': 3051, 'amount': 6372},\n",
       "   {'transaction-id': 3196, 'amount': 6694},\n",
       "   {'transaction-id': 3228, 'amount': 6781},\n",
       "   {'transaction-id': 3354, 'amount': 6485},\n",
       "   {'transaction-id': 3398, 'amount': 6255},\n",
       "   {'transaction-id': 3616, 'amount': 6604},\n",
       "   {'transaction-id': 3716, 'amount': 6325},\n",
       "   {'transaction-id': 4003, 'amount': 6788},\n",
       "   {'transaction-id': 4074, 'amount': 6858},\n",
       "   {'transaction-id': 4138, 'amount': 6378},\n",
       "   {'transaction-id': 4267, 'amount': 6587},\n",
       "   {'transaction-id': 4325, 'amount': 6531},\n",
       "   {'transaction-id': 4493, 'amount': 6478},\n",
       "   {'transaction-id': 4727, 'amount': 6666},\n",
       "   {'transaction-id': 4786, 'amount': 6017},\n",
       "   {'transaction-id': 4931, 'amount': 6530},\n",
       "   {'transaction-id': 5129, 'amount': 6321},\n",
       "   {'transaction-id': 5167, 'amount': 5731},\n",
       "   {'transaction-id': 5281, 'amount': 6795},\n",
       "   {'transaction-id': 5310, 'amount': 6438},\n",
       "   {'transaction-id': 5316, 'amount': 6624},\n",
       "   {'transaction-id': 5442, 'amount': 6702},\n",
       "   {'transaction-id': 5488, 'amount': 6737},\n",
       "   {'transaction-id': 5625, 'amount': 6397},\n",
       "   {'transaction-id': 5788, 'amount': 6365},\n",
       "   {'transaction-id': 5798, 'amount': 6695},\n",
       "   {'transaction-id': 5839, 'amount': 6429},\n",
       "   {'transaction-id': 6140, 'amount': 6771},\n",
       "   {'transaction-id': 6211, 'amount': 6201},\n",
       "   {'transaction-id': 6556, 'amount': 6913},\n",
       "   {'transaction-id': 6614, 'amount': 6519},\n",
       "   {'transaction-id': 6632, 'amount': 6171},\n",
       "   {'transaction-id': 6651, 'amount': 6363},\n",
       "   {'transaction-id': 6895, 'amount': 6218},\n",
       "   {'transaction-id': 6905, 'amount': 6541},\n",
       "   {'transaction-id': 6912, 'amount': 6481},\n",
       "   {'transaction-id': 6964, 'amount': 6692},\n",
       "   {'transaction-id': 7118, 'amount': 6987},\n",
       "   {'transaction-id': 7172, 'amount': 6849},\n",
       "   {'transaction-id': 7193, 'amount': 6497},\n",
       "   {'transaction-id': 7247, 'amount': 6720},\n",
       "   {'transaction-id': 7315, 'amount': 6998},\n",
       "   {'transaction-id': 7459, 'amount': 6873},\n",
       "   {'transaction-id': 7619, 'amount': 6441},\n",
       "   {'transaction-id': 7722, 'amount': 6484},\n",
       "   {'transaction-id': 7913, 'amount': 7070},\n",
       "   {'transaction-id': 7935, 'amount': 7349},\n",
       "   {'transaction-id': 7978, 'amount': 6427},\n",
       "   {'transaction-id': 7995, 'amount': 6615},\n",
       "   {'transaction-id': 8030, 'amount': 6735},\n",
       "   {'transaction-id': 8063, 'amount': 6672},\n",
       "   {'transaction-id': 8462, 'amount': 6699},\n",
       "   {'transaction-id': 8492, 'amount': 6553},\n",
       "   {'transaction-id': 8770, 'amount': 6696},\n",
       "   {'transaction-id': 8787, 'amount': 6257},\n",
       "   {'transaction-id': 8819, 'amount': 6719},\n",
       "   {'transaction-id': 8842, 'amount': 6599},\n",
       "   {'transaction-id': 8911, 'amount': 7013},\n",
       "   {'transaction-id': 9083, 'amount': 6919},\n",
       "   {'transaction-id': 9314, 'amount': 6637},\n",
       "   {'transaction-id': 9340, 'amount': 6612},\n",
       "   {'transaction-id': 9410, 'amount': 6736},\n",
       "   {'transaction-id': 9679, 'amount': 6946},\n",
       "   {'transaction-id': 9713, 'amount': 6686},\n",
       "   {'transaction-id': 9794, 'amount': 6724},\n",
       "   {'transaction-id': 9996, 'amount': 6764}]})"
      ]
     },
     "execution_count": 9,
     "metadata": {},
     "output_type": "execute_result"
    }
   ],
   "source": [
    "import json\n",
    "js = lines.map(json.loads)\n",
    "# take: inspect first few elements\n",
    "js.take(3)"
   ]
  },
  {
   "cell_type": "markdown",
   "metadata": {},
   "source": [
    "### Basic Queries"
   ]
  },
  {
   "cell_type": "markdown",
   "metadata": {},
   "source": [
    "Once we parse our JSON data into proper Python objects (`dict`s, `list`s, etc.) we can perform more interesting queries by creating small Python functions to run on our data."
   ]
  },
  {
   "cell_type": "code",
   "execution_count": 10,
   "metadata": {},
   "outputs": [
    {
     "data": {
      "text/plain": [
       "({'id': 0,\n",
       "  'name': 'Alice',\n",
       "  'transactions': [{'transaction-id': 32, 'amount': -188},\n",
       "   {'transaction-id': 170, 'amount': -292},\n",
       "   {'transaction-id': 455, 'amount': -279},\n",
       "   {'transaction-id': 526, 'amount': -338},\n",
       "   {'transaction-id': 617, 'amount': -379},\n",
       "   {'transaction-id': 765, 'amount': -249},\n",
       "   {'transaction-id': 823, 'amount': -189},\n",
       "   {'transaction-id': 1161, 'amount': -203},\n",
       "   {'transaction-id': 1385, 'amount': -229},\n",
       "   {'transaction-id': 1632, 'amount': -55},\n",
       "   {'transaction-id': 1726, 'amount': -197},\n",
       "   {'transaction-id': 1943, 'amount': -181},\n",
       "   {'transaction-id': 2516, 'amount': -279},\n",
       "   {'transaction-id': 2601, 'amount': -233},\n",
       "   {'transaction-id': 3227, 'amount': -193},\n",
       "   {'transaction-id': 3269, 'amount': -22},\n",
       "   {'transaction-id': 3439, 'amount': -387},\n",
       "   {'transaction-id': 3765, 'amount': -250},\n",
       "   {'transaction-id': 3837, 'amount': -156},\n",
       "   {'transaction-id': 4162, 'amount': -389},\n",
       "   {'transaction-id': 4355, 'amount': -296},\n",
       "   {'transaction-id': 4455, 'amount': 14},\n",
       "   {'transaction-id': 4495, 'amount': -83},\n",
       "   {'transaction-id': 4713, 'amount': -299},\n",
       "   {'transaction-id': 4800, 'amount': -48},\n",
       "   {'transaction-id': 4818, 'amount': -283},\n",
       "   {'transaction-id': 5228, 'amount': -454},\n",
       "   {'transaction-id': 5362, 'amount': -125},\n",
       "   {'transaction-id': 5392, 'amount': -273},\n",
       "   {'transaction-id': 5504, 'amount': -230},\n",
       "   {'transaction-id': 5549, 'amount': -195},\n",
       "   {'transaction-id': 6013, 'amount': -172},\n",
       "   {'transaction-id': 6118, 'amount': -126},\n",
       "   {'transaction-id': 6219, 'amount': -387},\n",
       "   {'transaction-id': 6304, 'amount': -300},\n",
       "   {'transaction-id': 6434, 'amount': -141},\n",
       "   {'transaction-id': 6630, 'amount': -242},\n",
       "   {'transaction-id': 6697, 'amount': -273},\n",
       "   {'transaction-id': 7560, 'amount': -186},\n",
       "   {'transaction-id': 7578, 'amount': -109},\n",
       "   {'transaction-id': 7641, 'amount': -14},\n",
       "   {'transaction-id': 8038, 'amount': -250},\n",
       "   {'transaction-id': 8055, 'amount': -39},\n",
       "   {'transaction-id': 8857, 'amount': -234},\n",
       "   {'transaction-id': 9019, 'amount': 19},\n",
       "   {'transaction-id': 9071, 'amount': -155}]},\n",
       " {'id': 7,\n",
       "  'name': 'Alice',\n",
       "  'transactions': [{'transaction-id': 3459, 'amount': 394},\n",
       "   {'transaction-id': 4001, 'amount': 370},\n",
       "   {'transaction-id': 4012, 'amount': 397},\n",
       "   {'transaction-id': 7674, 'amount': 421}]},\n",
       " {'id': 62,\n",
       "  'name': 'Alice',\n",
       "  'transactions': [{'transaction-id': 168, 'amount': 525},\n",
       "   {'transaction-id': 348, 'amount': 889},\n",
       "   {'transaction-id': 1251, 'amount': 816},\n",
       "   {'transaction-id': 1598, 'amount': 892},\n",
       "   {'transaction-id': 2480, 'amount': 855},\n",
       "   {'transaction-id': 2616, 'amount': 756},\n",
       "   {'transaction-id': 2687, 'amount': 921},\n",
       "   {'transaction-id': 2694, 'amount': 993},\n",
       "   {'transaction-id': 3115, 'amount': 782},\n",
       "   {'transaction-id': 6004, 'amount': 1141},\n",
       "   {'transaction-id': 6330, 'amount': 1103},\n",
       "   {'transaction-id': 6728, 'amount': 890},\n",
       "   {'transaction-id': 6858, 'amount': 660},\n",
       "   {'transaction-id': 7439, 'amount': 947},\n",
       "   {'transaction-id': 7580, 'amount': 1078},\n",
       "   {'transaction-id': 7727, 'amount': 1055},\n",
       "   {'transaction-id': 9073, 'amount': 1203},\n",
       "   {'transaction-id': 9284, 'amount': 1022},\n",
       "   {'transaction-id': 9991, 'amount': 1172}]},\n",
       " {'id': 107,\n",
       "  'name': 'Alice',\n",
       "  'transactions': [{'transaction-id': 421, 'amount': -336},\n",
       "   {'transaction-id': 1303, 'amount': -286},\n",
       "   {'transaction-id': 2890, 'amount': -229},\n",
       "   {'transaction-id': 3870, 'amount': -350},\n",
       "   {'transaction-id': 8774, 'amount': -260},\n",
       "   {'transaction-id': 8828, 'amount': -335},\n",
       "   {'transaction-id': 9396, 'amount': -232}]},\n",
       " {'id': 187,\n",
       "  'name': 'Alice',\n",
       "  'transactions': [{'transaction-id': 28, 'amount': 1168},\n",
       "   {'transaction-id': 305, 'amount': 1187},\n",
       "   {'transaction-id': 363, 'amount': 1360},\n",
       "   {'transaction-id': 423, 'amount': 1207},\n",
       "   {'transaction-id': 591, 'amount': 1333},\n",
       "   {'transaction-id': 858, 'amount': 1084},\n",
       "   {'transaction-id': 937, 'amount': 1213},\n",
       "   {'transaction-id': 987, 'amount': 1250},\n",
       "   {'transaction-id': 1025, 'amount': 1300},\n",
       "   {'transaction-id': 1143, 'amount': 1206},\n",
       "   {'transaction-id': 1301, 'amount': 1190},\n",
       "   {'transaction-id': 1383, 'amount': 1172},\n",
       "   {'transaction-id': 1386, 'amount': 1156},\n",
       "   {'transaction-id': 1393, 'amount': 1353},\n",
       "   {'transaction-id': 1493, 'amount': 1405},\n",
       "   {'transaction-id': 1496, 'amount': 1212},\n",
       "   {'transaction-id': 1847, 'amount': 1166},\n",
       "   {'transaction-id': 1866, 'amount': 1235},\n",
       "   {'transaction-id': 1956, 'amount': 1167},\n",
       "   {'transaction-id': 2004, 'amount': 1227},\n",
       "   {'transaction-id': 2141, 'amount': 1353},\n",
       "   {'transaction-id': 2144, 'amount': 1141},\n",
       "   {'transaction-id': 2176, 'amount': 1236},\n",
       "   {'transaction-id': 2290, 'amount': 1210},\n",
       "   {'transaction-id': 2444, 'amount': 1169},\n",
       "   {'transaction-id': 2534, 'amount': 1304},\n",
       "   {'transaction-id': 2724, 'amount': 1229},\n",
       "   {'transaction-id': 2757, 'amount': 1228},\n",
       "   {'transaction-id': 3195, 'amount': 1304},\n",
       "   {'transaction-id': 3241, 'amount': 1288},\n",
       "   {'transaction-id': 3330, 'amount': 1113},\n",
       "   {'transaction-id': 3391, 'amount': 1255},\n",
       "   {'transaction-id': 3462, 'amount': 1216},\n",
       "   {'transaction-id': 3794, 'amount': 1171},\n",
       "   {'transaction-id': 4005, 'amount': 1158},\n",
       "   {'transaction-id': 4036, 'amount': 1305},\n",
       "   {'transaction-id': 4323, 'amount': 1175},\n",
       "   {'transaction-id': 4467, 'amount': 1202},\n",
       "   {'transaction-id': 4524, 'amount': 1277},\n",
       "   {'transaction-id': 4613, 'amount': 1329},\n",
       "   {'transaction-id': 4865, 'amount': 1329},\n",
       "   {'transaction-id': 5253, 'amount': 1375},\n",
       "   {'transaction-id': 5402, 'amount': 1088},\n",
       "   {'transaction-id': 5525, 'amount': 1189},\n",
       "   {'transaction-id': 5711, 'amount': 1235},\n",
       "   {'transaction-id': 5780, 'amount': 1379},\n",
       "   {'transaction-id': 5865, 'amount': 1167},\n",
       "   {'transaction-id': 6068, 'amount': 1233},\n",
       "   {'transaction-id': 6268, 'amount': 1323},\n",
       "   {'transaction-id': 6631, 'amount': 1254},\n",
       "   {'transaction-id': 6817, 'amount': 1151},\n",
       "   {'transaction-id': 6909, 'amount': 1213},\n",
       "   {'transaction-id': 7009, 'amount': 1238},\n",
       "   {'transaction-id': 7213, 'amount': 1162},\n",
       "   {'transaction-id': 7304, 'amount': 1216},\n",
       "   {'transaction-id': 7437, 'amount': 1176},\n",
       "   {'transaction-id': 7561, 'amount': 1259},\n",
       "   {'transaction-id': 7705, 'amount': 1263},\n",
       "   {'transaction-id': 8166, 'amount': 1248},\n",
       "   {'transaction-id': 8391, 'amount': 1193},\n",
       "   {'transaction-id': 8505, 'amount': 1193},\n",
       "   {'transaction-id': 8534, 'amount': 1312},\n",
       "   {'transaction-id': 8579, 'amount': 1216},\n",
       "   {'transaction-id': 8642, 'amount': 1251},\n",
       "   {'transaction-id': 8657, 'amount': 1246},\n",
       "   {'transaction-id': 8879, 'amount': 1148},\n",
       "   {'transaction-id': 9012, 'amount': 1252},\n",
       "   {'transaction-id': 9246, 'amount': 1211},\n",
       "   {'transaction-id': 9328, 'amount': 1259},\n",
       "   {'transaction-id': 9438, 'amount': 1126},\n",
       "   {'transaction-id': 9594, 'amount': 1223},\n",
       "   {'transaction-id': 9636, 'amount': 1336},\n",
       "   {'transaction-id': 9657, 'amount': 1393},\n",
       "   {'transaction-id': 9704, 'amount': 1116},\n",
       "   {'transaction-id': 9805, 'amount': 1206},\n",
       "   {'transaction-id': 9931, 'amount': 1210},\n",
       "   {'transaction-id': 9933, 'amount': 1310}]})"
      ]
     },
     "execution_count": 10,
     "metadata": {},
     "output_type": "execute_result"
    }
   ],
   "source": [
    "# filter: keep only some elements of the sequence\n",
    "js.filter(lambda record: record['name'] == 'Alice').take(5)"
   ]
  },
  {
   "cell_type": "code",
   "execution_count": 11,
   "metadata": {},
   "outputs": [
    {
     "data": {
      "text/plain": [
       "({'name': 'Alice', 'count': 46},\n",
       " {'name': 'Alice', 'count': 4},\n",
       " {'name': 'Alice', 'count': 19},\n",
       " {'name': 'Alice', 'count': 7},\n",
       " {'name': 'Alice', 'count': 77})"
      ]
     },
     "execution_count": 11,
     "metadata": {},
     "output_type": "execute_result"
    }
   ],
   "source": [
    "def count_transactions(d):\n",
    "    return {'name': d['name'], 'count': len(d['transactions'])}\n",
    "\n",
    "# map: apply a function to each element\n",
    "(js.filter(lambda record: record['name'] == 'Alice')\n",
    "   .map(count_transactions)\n",
    "   .take(5))"
   ]
  },
  {
   "cell_type": "code",
   "execution_count": 12,
   "metadata": {},
   "outputs": [
    {
     "data": {
      "text/plain": [
       "(46, 4, 19, 7, 77)"
      ]
     },
     "execution_count": 12,
     "metadata": {},
     "output_type": "execute_result"
    }
   ],
   "source": [
    "# pluck: select a field, as from a dictionary, element[field]\n",
    "(js.filter(lambda record: record['name'] == 'Alice')\n",
    "   .map(count_transactions)\n",
    "   .pluck('count')\n",
    "   .take(5))"
   ]
  },
  {
   "cell_type": "code",
   "execution_count": 13,
   "metadata": {},
   "outputs": [
    {
     "data": {
      "text/plain": [
       "24.743295019157088"
      ]
     },
     "execution_count": 13,
     "metadata": {},
     "output_type": "execute_result"
    }
   ],
   "source": [
    "# Average number of transactions for all of the Alice entries\n",
    "(js.filter(lambda record: record['name'] == 'Alice')\n",
    "   .map(count_transactions)\n",
    "   .pluck('count')\n",
    "   .mean()\n",
    "   .compute())"
   ]
  },
  {
   "cell_type": "markdown",
   "metadata": {},
   "source": [
    "### Use `flatten` to de-nest"
   ]
  },
  {
   "cell_type": "markdown",
   "metadata": {},
   "source": [
    "In the example below we see the use of `.flatten()` to flatten results.  We compute the average amount for all transactions for all Alices."
   ]
  },
  {
   "cell_type": "code",
   "execution_count": 14,
   "metadata": {},
   "outputs": [
    {
     "data": {
      "text/plain": [
       "([{'transaction-id': 32, 'amount': -188},\n",
       "  {'transaction-id': 170, 'amount': -292},\n",
       "  {'transaction-id': 455, 'amount': -279},\n",
       "  {'transaction-id': 526, 'amount': -338},\n",
       "  {'transaction-id': 617, 'amount': -379},\n",
       "  {'transaction-id': 765, 'amount': -249},\n",
       "  {'transaction-id': 823, 'amount': -189},\n",
       "  {'transaction-id': 1161, 'amount': -203},\n",
       "  {'transaction-id': 1385, 'amount': -229},\n",
       "  {'transaction-id': 1632, 'amount': -55},\n",
       "  {'transaction-id': 1726, 'amount': -197},\n",
       "  {'transaction-id': 1943, 'amount': -181},\n",
       "  {'transaction-id': 2516, 'amount': -279},\n",
       "  {'transaction-id': 2601, 'amount': -233},\n",
       "  {'transaction-id': 3227, 'amount': -193},\n",
       "  {'transaction-id': 3269, 'amount': -22},\n",
       "  {'transaction-id': 3439, 'amount': -387},\n",
       "  {'transaction-id': 3765, 'amount': -250},\n",
       "  {'transaction-id': 3837, 'amount': -156},\n",
       "  {'transaction-id': 4162, 'amount': -389},\n",
       "  {'transaction-id': 4355, 'amount': -296},\n",
       "  {'transaction-id': 4455, 'amount': 14},\n",
       "  {'transaction-id': 4495, 'amount': -83},\n",
       "  {'transaction-id': 4713, 'amount': -299},\n",
       "  {'transaction-id': 4800, 'amount': -48},\n",
       "  {'transaction-id': 4818, 'amount': -283},\n",
       "  {'transaction-id': 5228, 'amount': -454},\n",
       "  {'transaction-id': 5362, 'amount': -125},\n",
       "  {'transaction-id': 5392, 'amount': -273},\n",
       "  {'transaction-id': 5504, 'amount': -230},\n",
       "  {'transaction-id': 5549, 'amount': -195},\n",
       "  {'transaction-id': 6013, 'amount': -172},\n",
       "  {'transaction-id': 6118, 'amount': -126},\n",
       "  {'transaction-id': 6219, 'amount': -387},\n",
       "  {'transaction-id': 6304, 'amount': -300},\n",
       "  {'transaction-id': 6434, 'amount': -141},\n",
       "  {'transaction-id': 6630, 'amount': -242},\n",
       "  {'transaction-id': 6697, 'amount': -273},\n",
       "  {'transaction-id': 7560, 'amount': -186},\n",
       "  {'transaction-id': 7578, 'amount': -109},\n",
       "  {'transaction-id': 7641, 'amount': -14},\n",
       "  {'transaction-id': 8038, 'amount': -250},\n",
       "  {'transaction-id': 8055, 'amount': -39},\n",
       "  {'transaction-id': 8857, 'amount': -234},\n",
       "  {'transaction-id': 9019, 'amount': 19},\n",
       "  {'transaction-id': 9071, 'amount': -155}],\n",
       " [{'transaction-id': 3459, 'amount': 394},\n",
       "  {'transaction-id': 4001, 'amount': 370},\n",
       "  {'transaction-id': 4012, 'amount': 397},\n",
       "  {'transaction-id': 7674, 'amount': 421}],\n",
       " [{'transaction-id': 168, 'amount': 525},\n",
       "  {'transaction-id': 348, 'amount': 889},\n",
       "  {'transaction-id': 1251, 'amount': 816},\n",
       "  {'transaction-id': 1598, 'amount': 892},\n",
       "  {'transaction-id': 2480, 'amount': 855},\n",
       "  {'transaction-id': 2616, 'amount': 756},\n",
       "  {'transaction-id': 2687, 'amount': 921},\n",
       "  {'transaction-id': 2694, 'amount': 993},\n",
       "  {'transaction-id': 3115, 'amount': 782},\n",
       "  {'transaction-id': 6004, 'amount': 1141},\n",
       "  {'transaction-id': 6330, 'amount': 1103},\n",
       "  {'transaction-id': 6728, 'amount': 890},\n",
       "  {'transaction-id': 6858, 'amount': 660},\n",
       "  {'transaction-id': 7439, 'amount': 947},\n",
       "  {'transaction-id': 7580, 'amount': 1078},\n",
       "  {'transaction-id': 7727, 'amount': 1055},\n",
       "  {'transaction-id': 9073, 'amount': 1203},\n",
       "  {'transaction-id': 9284, 'amount': 1022},\n",
       "  {'transaction-id': 9991, 'amount': 1172}])"
      ]
     },
     "execution_count": 14,
     "metadata": {},
     "output_type": "execute_result"
    }
   ],
   "source": [
    "js.filter(lambda record: record['name'] == 'Alice').pluck('transactions').take(3)"
   ]
  },
  {
   "cell_type": "code",
   "execution_count": 15,
   "metadata": {},
   "outputs": [
    {
     "data": {
      "text/plain": [
       "({'transaction-id': 32, 'amount': -188},\n",
       " {'transaction-id': 170, 'amount': -292},\n",
       " {'transaction-id': 455, 'amount': -279})"
      ]
     },
     "execution_count": 15,
     "metadata": {},
     "output_type": "execute_result"
    }
   ],
   "source": [
    "(js.filter(lambda record: record['name'] == 'Alice')\n",
    "   .pluck('transactions')\n",
    "   .flatten()\n",
    "   .take(3))"
   ]
  },
  {
   "cell_type": "code",
   "execution_count": 16,
   "metadata": {},
   "outputs": [
    {
     "data": {
      "text/plain": [
       "(-188, -292, -279)"
      ]
     },
     "execution_count": 16,
     "metadata": {},
     "output_type": "execute_result"
    }
   ],
   "source": [
    "(js.filter(lambda record: record['name'] == 'Alice')\n",
    "   .pluck('transactions')\n",
    "   .flatten()\n",
    "   .pluck('amount')\n",
    "   .take(3))"
   ]
  },
  {
   "cell_type": "code",
   "execution_count": 17,
   "metadata": {},
   "outputs": [
    {
     "data": {
      "text/plain": [
       "903.788866522143"
      ]
     },
     "execution_count": 17,
     "metadata": {},
     "output_type": "execute_result"
    }
   ],
   "source": [
    "(js.filter(lambda record: record['name'] == 'Alice')\n",
    "   .pluck('transactions')\n",
    "   .flatten()\n",
    "   .pluck('amount')\n",
    "   .mean()\n",
    "   .compute())"
   ]
  },
  {
   "cell_type": "markdown",
   "metadata": {},
   "source": [
    "### Groupby and Foldby"
   ]
  },
  {
   "cell_type": "markdown",
   "metadata": {},
   "source": [
    "Often we want to group data by some function or key.  We can do this either with the `.groupby` method, which is straightforward but forces a full shuffle of the data (expensive) or with the harder-to-use but faster `.foldby` method, which does a streaming combined groupby and reduction.\n",
    "\n",
    "*  `groupby`:  Shuffles data so that all items with the same key are in the same key-value pair\n",
    "*  `foldby`:  Walks through the data accumulating a result per key\n",
    "\n",
    "*Note: the full groupby is particularly bad. In actual workloads you would do well to use `foldby` or switch to `DataFrame`s if possible.*"
   ]
  },
  {
   "cell_type": "markdown",
   "metadata": {},
   "source": [
    "### `groupby`"
   ]
  },
  {
   "cell_type": "markdown",
   "metadata": {},
   "source": [
    "Groupby collects items in your collection so that all items with the same value under some function are collected together into a key-value pair."
   ]
  },
  {
   "cell_type": "code",
   "execution_count": 18,
   "metadata": {},
   "outputs": [
    {
     "data": {
      "text/plain": [
       "[(7, ['Charlie']), (3, ['Bob', 'Dan']), (5, ['Alice', 'Edith', 'Frank'])]"
      ]
     },
     "execution_count": 18,
     "metadata": {},
     "output_type": "execute_result"
    }
   ],
   "source": [
    "b = db.from_sequence(['Alice', 'Bob', 'Charlie', 'Dan', 'Edith', 'Frank'])\n",
    "b.groupby(len).compute()  # names grouped by length"
   ]
  },
  {
   "cell_type": "code",
   "execution_count": 19,
   "metadata": {},
   "outputs": [
    {
     "data": {
      "text/plain": [
       "[(0, [0, 2, 4, 6, 8]), (1, [1, 3, 5, 7, 9])]"
      ]
     },
     "execution_count": 19,
     "metadata": {},
     "output_type": "execute_result"
    }
   ],
   "source": [
    "b = db.from_sequence(list(range(10)))\n",
    "b.groupby(lambda x: x % 2).compute()"
   ]
  },
  {
   "cell_type": "code",
   "execution_count": 20,
   "metadata": {},
   "outputs": [
    {
     "data": {
      "text/plain": [
       "[(0, 8), (1, 9)]"
      ]
     },
     "execution_count": 20,
     "metadata": {},
     "output_type": "execute_result"
    }
   ],
   "source": [
    "b.groupby(lambda x: x % 2).starmap(lambda k, v: (k, max(v))).compute()"
   ]
  },
  {
   "cell_type": "markdown",
   "metadata": {},
   "source": [
    "### `foldby`"
   ]
  },
  {
   "cell_type": "markdown",
   "metadata": {},
   "source": [
    "Foldby can be quite odd at first.  It is similar to the following functions from other libraries:\n",
    "\n",
    "*  [`toolz.reduceby`](http://toolz.readthedocs.io/en/latest/streaming-analytics.html#streaming-split-apply-combine)\n",
    "*  [`pyspark.RDD.combineByKey`](http://abshinn.github.io/python/apache-spark/2014/10/11/using-combinebykey-in-apache-spark/)\n",
    "\n",
    "When using `foldby` you provide \n",
    "\n",
    "1.  A key function on which to group elements\n",
    "2.  A binary operator such as you would pass to `reduce` that you use to perform reduction per each group\n",
    "3.  A combine binary operator that can combine the results of two `reduce` calls on different parts of your dataset.\n",
    "\n",
    "Your reduction must be associative.  It will happen in parallel in each of the partitions of your dataset.  Then all of these intermediate results will be combined by the `combine` binary operator."
   ]
  },
  {
   "cell_type": "code",
   "execution_count": 21,
   "metadata": {},
   "outputs": [
    {
     "data": {
      "text/plain": [
       "[(0, 8), (1, 9)]"
      ]
     },
     "execution_count": 21,
     "metadata": {},
     "output_type": "execute_result"
    }
   ],
   "source": [
    "is_even = lambda x: x % 2\n",
    "b.foldby(is_even, binop=max, combine=max).compute()"
   ]
  },
  {
   "cell_type": "markdown",
   "metadata": {},
   "source": [
    "### Example with account data"
   ]
  },
  {
   "cell_type": "markdown",
   "metadata": {},
   "source": [
    "We find the number of people with the same name."
   ]
  },
  {
   "cell_type": "code",
   "execution_count": 22,
   "metadata": {},
   "outputs": [
    {
     "name": "stdout",
     "output_type": "stream",
     "text": [
      "[('Alice', 124), ('Alice', 126), ('Alice', 134), ('Alice', 138), ('Bob', 96), ('Bob', 104), ('Bob', 200), ('Charlie', 96), ('Charlie', 103), ('Charlie', 198), ('Dan', 108), ('Dan', 108), ('Dan', 117), ('Dan', 117), ('Edith', 131), ('Edith', 131), ('Edith', 140), ('Edith', 141), ('Frank', 72), ('Frank', 72), ('Frank', 78), ('Frank', 78), ('George', 59), ('George', 59), ('George', 65), ('George', 65), ('Hannah', 132), ('Hannah', 132), ('Hannah', 143), ('Hannah', 143), ('Ingrid', 115), ('Ingrid', 117), ('Ingrid', 126), ('Ingrid', 127), ('Jerry', 120), ('Jerry', 120), ('Jerry', 129), ('Jerry', 130), ('Kevin', 120), ('Kevin', 120), ('Kevin', 130), ('Kevin', 130), ('Laura', 144), ('Laura', 147), ('Laura', 156), ('Laura', 157), ('Michael', 56), ('Michael', 58), ('Michael', 62), ('Michael', 64), ('Norbert', 68), ('Norbert', 71), ('Norbert', 74), ('Norbert', 78), ('Oliver', 148), ('Oliver', 150), ('Oliver', 157), ('Oliver', 162), ('Patricia', 61), ('Patricia', 63), ('Patricia', 69), ('Patricia', 71), ('Quinn', 167), ('Quinn', 168), ('Quinn', 179), ('Quinn', 181), ('Ray', 154), ('Ray', 157), ('Ray', 167), ('Ray', 170), ('Sarah', 95), ('Sarah', 96), ('Sarah', 208), ('Tim', 129), ('Tim', 132), ('Tim', 139), ('Tim', 139), ('Ursula', 143), ('Ursula', 144), ('Ursula', 156), ('Ursula', 156), ('Victor', 148), ('Victor', 149), ('Victor', 163), ('Victor', 163), ('Wendy', 106), ('Wendy', 107), ('Wendy', 111), ('Wendy', 117), ('Xavier', 132), ('Xavier', 132), ('Xavier', 143), ('Xavier', 143), ('Yvonne', 84), ('Yvonne', 90), ('Yvonne', 174), ('Zelda', 96), ('Zelda', 96), ('Zelda', 104), ('Zelda', 104)]\n",
      "CPU times: user 4.4 s, sys: 290 ms, total: 4.69 s\n",
      "Wall time: 1min 6s\n"
     ]
    }
   ],
   "source": [
    "%%time\n",
    "# Warning, this one takes a while...\n",
    "result = js.groupby(lambda item: item['name']).starmap(lambda k, v: (k, len(v))).compute()\n",
    "print(sorted(result))"
   ]
  },
  {
   "cell_type": "code",
   "execution_count": 23,
   "metadata": {},
   "outputs": [
    {
     "name": "stdout",
     "output_type": "stream",
     "text": [
      "[('Alice', 522), ('Bob', 400), ('Charlie', 397), ('Dan', 450), ('Edith', 543), ('Frank', 300), ('George', 248), ('Hannah', 550), ('Ingrid', 485), ('Jerry', 499), ('Kevin', 500), ('Laura', 604), ('Michael', 240), ('Norbert', 291), ('Oliver', 617), ('Patricia', 264), ('Quinn', 695), ('Ray', 648), ('Sarah', 399), ('Tim', 539), ('Ursula', 599), ('Victor', 623), ('Wendy', 441), ('Xavier', 550), ('Yvonne', 348), ('Zelda', 400)]\n",
      "CPU times: user 174 ms, sys: 3.88 ms, total: 178 ms\n",
      "Wall time: 613 ms\n"
     ]
    }
   ],
   "source": [
    "%%time\n",
    "# This one is comparatively fast and produces the same result.\n",
    "from operator import add\n",
    "def incr(tot, _):\n",
    "    return tot+1\n",
    "\n",
    "result = js.foldby(key='name', \n",
    "                   binop=incr, \n",
    "                   initial=0, \n",
    "                   combine=add, \n",
    "                   combine_initial=0).compute()\n",
    "print(sorted(result))"
   ]
  },
  {
   "cell_type": "markdown",
   "metadata": {},
   "source": [
    "### Exercise: compute total amount per name"
   ]
  },
  {
   "cell_type": "markdown",
   "metadata": {},
   "source": [
    "We want to groupby (or foldby) the `name` key, then add up the all of the amounts for each name.\n",
    "\n",
    "Steps\n",
    "\n",
    "1.  Create a small function that, given a dictionary like \n",
    "\n",
    "        {'name': 'Alice', 'transactions': [{'amount': 1, 'id': 123}, {'amount': 2, 'id': 456}]}\n",
    "        \n",
    "    produces the sum of the amounts, e.g. `3`\n",
    "    \n",
    "2.  Slightly change the binary operator of the `foldby` example above so that the binary operator doesn't count the number of entries, but instead accumulates the sum of the amounts."
   ]
  },
  {
   "cell_type": "code",
   "execution_count": 24,
   "metadata": {},
   "outputs": [],
   "source": [
    "# Your code here..."
   ]
  },
  {
   "cell_type": "markdown",
   "metadata": {},
   "source": [
    "## DataFrames"
   ]
  },
  {
   "cell_type": "markdown",
   "metadata": {},
   "source": [
    "For the same reasons that Pandas is often faster than pure Python, `dask.dataframe` can be faster than `dask.bag`.  We will work more with DataFrames later, but from for the bag point of view, they are frequently the end-point of the \"messy\" part of data ingestion—once the data can be made into a data-frame, then complex split-apply-combine logic will become much more straight-forward and efficient.\n",
    "\n",
    "You can transform a bag with a simple tuple or flat dictionary structure into a `dask.dataframe` with the `to_dataframe` method."
   ]
  },
  {
   "cell_type": "code",
   "execution_count": 25,
   "metadata": {},
   "outputs": [
    {
     "data": {
      "text/html": [
       "<div>\n",
       "<style scoped>\n",
       "    .dataframe tbody tr th:only-of-type {\n",
       "        vertical-align: middle;\n",
       "    }\n",
       "\n",
       "    .dataframe tbody tr th {\n",
       "        vertical-align: top;\n",
       "    }\n",
       "\n",
       "    .dataframe thead th {\n",
       "        text-align: right;\n",
       "    }\n",
       "</style>\n",
       "<table border=\"1\" class=\"dataframe\">\n",
       "  <thead>\n",
       "    <tr style=\"text-align: right;\">\n",
       "      <th></th>\n",
       "      <th>id</th>\n",
       "      <th>name</th>\n",
       "      <th>transactions</th>\n",
       "    </tr>\n",
       "  </thead>\n",
       "  <tbody>\n",
       "    <tr>\n",
       "      <th>0</th>\n",
       "      <td>0</td>\n",
       "      <td>Alice</td>\n",
       "      <td>[{'transaction-id': 32, 'amount': -188}, {'tra...</td>\n",
       "    </tr>\n",
       "    <tr>\n",
       "      <th>1</th>\n",
       "      <td>1</td>\n",
       "      <td>Kevin</td>\n",
       "      <td>[{'transaction-id': 121, 'amount': 3864}, {'tr...</td>\n",
       "    </tr>\n",
       "    <tr>\n",
       "      <th>2</th>\n",
       "      <td>2</td>\n",
       "      <td>Bob</td>\n",
       "      <td>[{'transaction-id': 69, 'amount': 6678}, {'tra...</td>\n",
       "    </tr>\n",
       "    <tr>\n",
       "      <th>3</th>\n",
       "      <td>3</td>\n",
       "      <td>Jerry</td>\n",
       "      <td>[{'transaction-id': 2745, 'amount': 1452}, {'t...</td>\n",
       "    </tr>\n",
       "    <tr>\n",
       "      <th>4</th>\n",
       "      <td>4</td>\n",
       "      <td>Patricia</td>\n",
       "      <td>[{'transaction-id': 102, 'amount': 1061}, {'tr...</td>\n",
       "    </tr>\n",
       "  </tbody>\n",
       "</table>\n",
       "</div>"
      ],
      "text/plain": [
       "   id      name                                       transactions\n",
       "0   0     Alice  [{'transaction-id': 32, 'amount': -188}, {'tra...\n",
       "1   1     Kevin  [{'transaction-id': 121, 'amount': 3864}, {'tr...\n",
       "2   2       Bob  [{'transaction-id': 69, 'amount': 6678}, {'tra...\n",
       "3   3     Jerry  [{'transaction-id': 2745, 'amount': 1452}, {'t...\n",
       "4   4  Patricia  [{'transaction-id': 102, 'amount': 1061}, {'tr..."
      ]
     },
     "execution_count": 25,
     "metadata": {},
     "output_type": "execute_result"
    }
   ],
   "source": [
    "df1 = js.to_dataframe()\n",
    "df1.head()"
   ]
  },
  {
   "cell_type": "markdown",
   "metadata": {},
   "source": [
    "This now looks like a well-defined DataFrame, and we can apply Pandas-like computations to it efficiently."
   ]
  },
  {
   "cell_type": "markdown",
   "metadata": {},
   "source": [
    "Using a Dask DataFrame, how long does it take to do our prior computation of numbers of people with the same name?  It turns out that `dask.dataframe.groupby()` beats `dask.bag.groupby()` more than an order of magnitude; but it still cannot match `dask.bag.foldby()` for this case."
   ]
  },
  {
   "cell_type": "code",
   "execution_count": 26,
   "metadata": {},
   "outputs": [
    {
     "name": "stdout",
     "output_type": "stream",
     "text": [
      "CPU times: user 208 ms, sys: 20.9 ms, total: 229 ms\n",
      "Wall time: 1.71 s\n"
     ]
    },
    {
     "data": {
      "text/plain": [
       "name\n",
       "Alice      522\n",
       "Bob        400\n",
       "Charlie    397\n",
       "Dan        450\n",
       "Edith      543\n",
       "Name: id, dtype: int64"
      ]
     },
     "execution_count": 26,
     "metadata": {},
     "output_type": "execute_result"
    }
   ],
   "source": [
    "%time df1.groupby('name').id.count().compute().head()"
   ]
  },
  {
   "cell_type": "markdown",
   "metadata": {},
   "source": [
    "### Denormalization"
   ]
  },
  {
   "cell_type": "markdown",
   "metadata": {},
   "source": [
    "This DataFrame format is less-than-optimal because the `transactions` column is filled with nested data so Pandas has to revert to `object` dtype, which is quite slow in Pandas.  Ideally we want to transform to a dataframe only after we have flattened our data so that each record is a single `int`, `string`, `float`, etc.."
   ]
  },
  {
   "cell_type": "code",
   "execution_count": 27,
   "metadata": {},
   "outputs": [
    {
     "data": {
      "text/plain": [
       "({'id': 0, 'name': 'Alice', 'amount': -188, 'transaction-id': 32},\n",
       " {'id': 0, 'name': 'Alice', 'amount': -292, 'transaction-id': 170},\n",
       " {'id': 0, 'name': 'Alice', 'amount': -279, 'transaction-id': 455})"
      ]
     },
     "execution_count": 27,
     "metadata": {},
     "output_type": "execute_result"
    }
   ],
   "source": [
    "def denormalize(record):\n",
    "    # returns a list for every nested item, each transaction of each person\n",
    "    return [{'id': record['id'], \n",
    "             'name': record['name'], \n",
    "             'amount': transaction['amount'], \n",
    "             'transaction-id': transaction['transaction-id']}\n",
    "            for transaction in record['transactions']]\n",
    "\n",
    "transactions = js.map(denormalize).flatten()\n",
    "transactions.take(3)"
   ]
  },
  {
   "cell_type": "code",
   "execution_count": 28,
   "metadata": {},
   "outputs": [
    {
     "data": {
      "text/html": [
       "<div>\n",
       "<style scoped>\n",
       "    .dataframe tbody tr th:only-of-type {\n",
       "        vertical-align: middle;\n",
       "    }\n",
       "\n",
       "    .dataframe tbody tr th {\n",
       "        vertical-align: top;\n",
       "    }\n",
       "\n",
       "    .dataframe thead th {\n",
       "        text-align: right;\n",
       "    }\n",
       "</style>\n",
       "<table border=\"1\" class=\"dataframe\">\n",
       "  <thead>\n",
       "    <tr style=\"text-align: right;\">\n",
       "      <th></th>\n",
       "      <th>id</th>\n",
       "      <th>name</th>\n",
       "      <th>amount</th>\n",
       "      <th>transaction-id</th>\n",
       "    </tr>\n",
       "  </thead>\n",
       "  <tbody>\n",
       "    <tr>\n",
       "      <th>0</th>\n",
       "      <td>0</td>\n",
       "      <td>Alice</td>\n",
       "      <td>-188</td>\n",
       "      <td>32</td>\n",
       "    </tr>\n",
       "    <tr>\n",
       "      <th>1</th>\n",
       "      <td>0</td>\n",
       "      <td>Alice</td>\n",
       "      <td>-292</td>\n",
       "      <td>170</td>\n",
       "    </tr>\n",
       "    <tr>\n",
       "      <th>2</th>\n",
       "      <td>0</td>\n",
       "      <td>Alice</td>\n",
       "      <td>-279</td>\n",
       "      <td>455</td>\n",
       "    </tr>\n",
       "    <tr>\n",
       "      <th>3</th>\n",
       "      <td>0</td>\n",
       "      <td>Alice</td>\n",
       "      <td>-338</td>\n",
       "      <td>526</td>\n",
       "    </tr>\n",
       "    <tr>\n",
       "      <th>4</th>\n",
       "      <td>0</td>\n",
       "      <td>Alice</td>\n",
       "      <td>-379</td>\n",
       "      <td>617</td>\n",
       "    </tr>\n",
       "  </tbody>\n",
       "</table>\n",
       "</div>"
      ],
      "text/plain": [
       "   id   name  amount  transaction-id\n",
       "0   0  Alice    -188              32\n",
       "1   0  Alice    -292             170\n",
       "2   0  Alice    -279             455\n",
       "3   0  Alice    -338             526\n",
       "4   0  Alice    -379             617"
      ]
     },
     "execution_count": 28,
     "metadata": {},
     "output_type": "execute_result"
    }
   ],
   "source": [
    "df = transactions.to_dataframe()\n",
    "df.head()"
   ]
  },
  {
   "cell_type": "code",
   "execution_count": 29,
   "metadata": {},
   "outputs": [
    {
     "name": "stdout",
     "output_type": "stream",
     "text": [
      "CPU times: user 229 ms, sys: 7.67 ms, total: 236 ms\n",
      "Wall time: 1.47 s\n"
     ]
    },
    {
     "data": {
      "text/plain": [
       "name\n",
       "Alice       12916\n",
       "Bob         19311\n",
       "Charlie     16210\n",
       "Dan         20953\n",
       "Edith       18481\n",
       "Frank       10637\n",
       "George      13313\n",
       "Hannah      45080\n",
       "Ingrid      15357\n",
       "Jerry       21883\n",
       "Kevin       32985\n",
       "Laura       40615\n",
       "Michael      3597\n",
       "Norbert     14304\n",
       "Oliver      16383\n",
       "Patricia     4468\n",
       "Quinn       17239\n",
       "Ray         18769\n",
       "Sarah        8699\n",
       "Tim         24033\n",
       "Ursula      21110\n",
       "Victor      37550\n",
       "Wendy       15132\n",
       "Xavier      20187\n",
       "Yvonne       9869\n",
       "Zelda       20919\n",
       "Name: transaction-id, dtype: int64"
      ]
     },
     "execution_count": 29,
     "metadata": {},
     "output_type": "execute_result"
    }
   ],
   "source": [
    "%%time\n",
    "# number of transactions per name\n",
    "# note that the time here includes the data load and ingestion\n",
    "df.groupby('name')['transaction-id'].count().compute()"
   ]
  },
  {
   "cell_type": "markdown",
   "metadata": {},
   "source": [
    "## Limitations"
   ]
  },
  {
   "cell_type": "markdown",
   "metadata": {},
   "source": [
    "Bags provide very general computation (any Python function.)  This generality\n",
    "comes at cost.  Bags have the following known limitations\n",
    "\n",
    "1.  Bag operations tend to be slower than array/dataframe computations in the\n",
    "    same way that Python tends to be slower than NumPy/Pandas\n",
    "2.  ``Bag.groupby`` is slow.  You should try to use ``Bag.foldby`` if possible.\n",
    "    Using ``Bag.foldby`` requires more thought. Even better, consider creating\n",
    "    a normalised dataframe."
   ]
  },
  {
   "cell_type": "markdown",
   "metadata": {},
   "source": [
    "## Learn More\n",
    "\n",
    "* [Bag documentation](https://docs.dask.org/en/latest/bag.html)\n",
    "* [Bag screencast](https://youtu.be/-qIiJ1XtSv0)\n",
    "* [Bag API](https://docs.dask.org/en/latest/bag-api.html)\n",
    "* [Bag examples](https://examples.dask.org/bag.html)"
   ]
  },
  {
   "cell_type": "markdown",
   "metadata": {},
   "source": [
    "## Shutdown"
   ]
  },
  {
   "cell_type": "code",
   "execution_count": 30,
   "metadata": {},
   "outputs": [],
   "source": [
    "client.shutdown()"
   ]
  }
 ],
 "metadata": {
  "anaconda-cloud": {},
  "kernelspec": {
   "display_name": "Python 3",
   "language": "python",
   "name": "python3"
  },
  "language_info": {
   "codemirror_mode": {
    "name": "ipython",
    "version": 3
   },
   "file_extension": ".py",
   "mimetype": "text/x-python",
   "name": "python",
   "nbconvert_exporter": "python",
   "pygments_lexer": "ipython3",
   "version": "3.7.6"
  }
 },
 "nbformat": 4,
 "nbformat_minor": 4
}
