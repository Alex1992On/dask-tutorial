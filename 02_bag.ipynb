{
 "cells": [
  {
   "cell_type": "markdown",
   "metadata": {},
   "source": [
    "<img src=\"images/dask_horizontal.svg\" align=\"right\" width=\"30%\">"
   ]
  },
  {
   "cell_type": "markdown",
   "metadata": {},
   "source": [
    "# Bag: Parallel Lists for semi-structured data"
   ]
  },
  {
   "cell_type": "markdown",
   "metadata": {},
   "source": [
    "Dask-bag excels in processing data that can be represented as a sequence of arbitrary inputs. We'll refer to this as \"messy\" data, because it can contain complex nested structures, missing fields, mixtures of data types, etc. The *functional* programming style fits very nicely with standard Python iteration, such as can be found in the `itertools` module.\n",
    "\n",
    "Messy data is often encountered at the beginning of data processing pipelines when large volumes of raw data are first consumed. The initial set of data might be JSON, CSV, XML, or any other format that does not enforce strict structure and datatypes.\n",
    "For this reason, the initial data massaging and processing is often done with Python `list`s, `dict`s, and `set`s.\n",
    "\n",
    "These core data structures are optimized for general-purpose storage and processing.  Adding streaming computation with iterators/generator expressions or libraries like `itertools` or [`toolz`](https://toolz.readthedocs.io/en/latest/) let us process large volumes in a small space.  If we combine this with parallel processing then we can churn through a fair amount of data.\n",
    "\n",
    "Dask.bag is a high level Dask collection to automate common workloads of this form.  In a nutshell\n",
    "\n",
    "    dask.bag = map, filter, toolz + parallel execution\n",
    "    \n",
    "**Related Documentation**\n",
    "\n",
    "* [Bag documentation](https://docs.dask.org/en/latest/bag.html)\n",
    "* [Bag screencast](https://youtu.be/-qIiJ1XtSv0)\n",
    "* [Bag API](https://docs.dask.org/en/latest/bag-api.html)\n",
    "* [Bag examples](https://examples.dask.org/bag.html)"
   ]
  },
  {
   "cell_type": "markdown",
   "metadata": {},
   "source": [
    "## Create data"
   ]
  },
  {
   "cell_type": "code",
   "execution_count": 1,
   "metadata": {
    "execution": {
     "iopub.execute_input": "2020-10-27T21:20:09.672898Z",
     "iopub.status.busy": "2020-10-27T21:20:09.672294Z",
     "iopub.status.idle": "2020-10-27T21:20:10.179949Z",
     "shell.execute_reply": "2020-10-27T21:20:10.179446Z"
    }
   },
   "outputs": [],
   "source": [
    "%run prep.py -d accounts"
   ]
  },
  {
   "cell_type": "markdown",
   "metadata": {},
   "source": [
    "## Setup"
   ]
  },
  {
   "cell_type": "markdown",
   "metadata": {},
   "source": [
    "Again, we'll use the distributed scheduler. Schedulers will be explained in depth [later](05_distributed.ipynb)."
   ]
  },
  {
   "cell_type": "code",
   "execution_count": 2,
   "metadata": {
    "execution": {
     "iopub.execute_input": "2020-10-27T21:20:10.183954Z",
     "iopub.status.busy": "2020-10-27T21:20:10.183303Z",
     "iopub.status.idle": "2020-10-27T21:20:12.067655Z",
     "shell.execute_reply": "2020-10-27T21:20:12.067040Z"
    }
   },
   "outputs": [],
   "source": [
    "from dask.distributed import Client\n",
    "\n",
    "client = Client(n_workers=4)"
   ]
  },
  {
   "cell_type": "markdown",
   "metadata": {},
   "source": [
    "## Creation"
   ]
  },
  {
   "cell_type": "markdown",
   "metadata": {},
   "source": [
    "You can create a `Bag` from a Python sequence, from files, from data on S3, etc.\n",
    "We demonstrate using `.take()` to show elements of the data. (Doing `.take(1)` results in a tuple with one element)\n",
    "\n",
    "Note that the data are partitioned into blocks, and there are many items per block. In the first example, the two partitions contain five elements each, and in the following two, each file is partitioned into one or more bytes blocks."
   ]
  },
  {
   "cell_type": "code",
   "execution_count": 3,
   "metadata": {
    "execution": {
     "iopub.execute_input": "2020-10-27T21:20:12.072506Z",
     "iopub.status.busy": "2020-10-27T21:20:12.071643Z",
     "iopub.status.idle": "2020-10-27T21:20:12.115438Z",
     "shell.execute_reply": "2020-10-27T21:20:12.114955Z"
    }
   },
   "outputs": [
    {
     "data": {
      "text/plain": [
       "(1, 2, 3)"
      ]
     },
     "execution_count": 1,
     "metadata": {},
     "output_type": "execute_result"
    }
   ],
   "source": [
    "# each element is an integer\n",
    "import dask.bag as db\n",
    "b = db.from_sequence([1, 2, 3, 4, 5, 6, 7, 8, 9, 10], npartitions=2)\n",
    "b.take(3)"
   ]
  },
  {
   "cell_type": "code",
   "execution_count": 4,
   "metadata": {
    "execution": {
     "iopub.execute_input": "2020-10-27T21:20:12.119917Z",
     "iopub.status.busy": "2020-10-27T21:20:12.119281Z",
     "iopub.status.idle": "2020-10-27T21:20:12.145438Z",
     "shell.execute_reply": "2020-10-27T21:20:12.144911Z"
    }
   },
   "outputs": [
    {
     "data": {
      "text/plain": [
       "('{\"id\": 0, \"name\": \"Alice\", \"transactions\": [{\"transaction-id\": 1, \"amount\": 7123}, {\"transaction-id\": 54, \"amount\": 7361}, {\"transaction-id\": 153, \"amount\": 7007}, {\"transaction-id\": 271, \"amount\": 7192}, {\"transaction-id\": 423, \"amount\": 7241}, {\"transaction-id\": 519, \"amount\": 6958}, {\"transaction-id\": 602, \"amount\": 7173}, {\"transaction-id\": 710, \"amount\": 7015}, {\"transaction-id\": 784, \"amount\": 7039}, {\"transaction-id\": 1149, \"amount\": 6857}, {\"transaction-id\": 1225, \"amount\": 7209}, {\"transaction-id\": 1539, \"amount\": 7219}, {\"transaction-id\": 1547, \"amount\": 6738}, {\"transaction-id\": 1599, \"amount\": 7444}, {\"transaction-id\": 1794, \"amount\": 6864}, {\"transaction-id\": 1863, \"amount\": 6973}, {\"transaction-id\": 1894, \"amount\": 7284}, {\"transaction-id\": 1929, \"amount\": 7209}, {\"transaction-id\": 1947, \"amount\": 7112}, {\"transaction-id\": 1983, \"amount\": 7058}, {\"transaction-id\": 2005, \"amount\": 7282}, {\"transaction-id\": 2032, \"amount\": 6755}, {\"transaction-id\": 2067, \"amount\": 7452}, {\"transaction-id\": 2116, \"amount\": 7105}, {\"transaction-id\": 2208, \"amount\": 7238}, {\"transaction-id\": 2235, \"amount\": 7047}, {\"transaction-id\": 2846, \"amount\": 6896}, {\"transaction-id\": 2919, \"amount\": 6897}, {\"transaction-id\": 3300, \"amount\": 7405}, {\"transaction-id\": 3314, \"amount\": 7339}, {\"transaction-id\": 3326, \"amount\": 6889}, {\"transaction-id\": 3345, \"amount\": 7080}, {\"transaction-id\": 3423, \"amount\": 7118}, {\"transaction-id\": 3939, \"amount\": 7020}, {\"transaction-id\": 3992, \"amount\": 7195}, {\"transaction-id\": 4247, \"amount\": 7312}, {\"transaction-id\": 4454, \"amount\": 7109}, {\"transaction-id\": 4552, \"amount\": 6888}, {\"transaction-id\": 4725, \"amount\": 7399}, {\"transaction-id\": 5035, \"amount\": 7073}, {\"transaction-id\": 5113, \"amount\": 7087}, {\"transaction-id\": 5282, \"amount\": 7314}, {\"transaction-id\": 5338, \"amount\": 7163}, {\"transaction-id\": 5394, \"amount\": 7073}, {\"transaction-id\": 5503, \"amount\": 7298}, {\"transaction-id\": 5689, \"amount\": 6958}, {\"transaction-id\": 5727, \"amount\": 7025}, {\"transaction-id\": 5787, \"amount\": 6941}, {\"transaction-id\": 5826, \"amount\": 6804}, {\"transaction-id\": 5909, \"amount\": 6873}, {\"transaction-id\": 5968, \"amount\": 7484}, {\"transaction-id\": 5987, \"amount\": 7246}, {\"transaction-id\": 6132, \"amount\": 7116}, {\"transaction-id\": 6245, \"amount\": 7088}, {\"transaction-id\": 6368, \"amount\": 7363}, {\"transaction-id\": 6675, \"amount\": 7296}, {\"transaction-id\": 6884, \"amount\": 7178}, {\"transaction-id\": 7142, \"amount\": 7292}, {\"transaction-id\": 7240, \"amount\": 7230}, {\"transaction-id\": 7306, \"amount\": 7117}, {\"transaction-id\": 7315, \"amount\": 6967}, {\"transaction-id\": 7408, \"amount\": 6966}, {\"transaction-id\": 7431, \"amount\": 7034}, {\"transaction-id\": 7490, \"amount\": 7112}, {\"transaction-id\": 7557, \"amount\": 6785}, {\"transaction-id\": 7787, \"amount\": 7472}, {\"transaction-id\": 7788, \"amount\": 6847}, {\"transaction-id\": 7823, \"amount\": 7191}, {\"transaction-id\": 7934, \"amount\": 6847}, {\"transaction-id\": 7960, \"amount\": 6987}, {\"transaction-id\": 7980, \"amount\": 7077}, {\"transaction-id\": 7999, \"amount\": 7132}, {\"transaction-id\": 8306, \"amount\": 7390}, {\"transaction-id\": 8324, \"amount\": 7553}, {\"transaction-id\": 8515, \"amount\": 6975}, {\"transaction-id\": 8524, \"amount\": 6883}, {\"transaction-id\": 8777, \"amount\": 7104}, {\"transaction-id\": 8863, \"amount\": 6928}, {\"transaction-id\": 9595, \"amount\": 6776}, {\"transaction-id\": 9604, \"amount\": 6795}, {\"transaction-id\": 9781, \"amount\": 7343}, {\"transaction-id\": 9793, \"amount\": 7243}, {\"transaction-id\": 9858, \"amount\": 7166}, {\"transaction-id\": 9871, \"amount\": 7125}, {\"transaction-id\": 9991, \"amount\": 7093}]}\\n',)"
      ]
     },
     "execution_count": 1,
     "metadata": {},
     "output_type": "execute_result"
    }
   ],
   "source": [
    "# each element is a text file, where each line is a JSON object\n",
    "# note that the compression is handled automatically\n",
    "import os\n",
    "b = db.read_text(os.path.join('data', 'accounts.*.json.gz'))\n",
    "b.take(1)"
   ]
  },
  {
   "cell_type": "code",
   "execution_count": 5,
   "metadata": {
    "execution": {
     "iopub.execute_input": "2020-10-27T21:20:12.149515Z",
     "iopub.status.busy": "2020-10-27T21:20:12.148962Z",
     "iopub.status.idle": "2020-10-27T21:20:12.151595Z",
     "shell.execute_reply": "2020-10-27T21:20:12.152017Z"
    }
   },
   "outputs": [
    {
     "data": {
      "text/plain": [
       "'s3://dask-data/nyc-taxi/2015/yellow_tripdata_2015-01.csv'"
      ]
     },
     "execution_count": 1,
     "metadata": {},
     "output_type": "execute_result"
    }
   ],
   "source": [
    "# Edit sources.py to configure source locations\n",
    "import sources\n",
    "sources.bag_url"
   ]
  },
  {
   "cell_type": "code",
   "execution_count": 6,
   "metadata": {
    "execution": {
     "iopub.execute_input": "2020-10-27T21:20:12.156377Z",
     "iopub.status.busy": "2020-10-27T21:20:12.155755Z",
     "iopub.status.idle": "2020-10-27T21:20:12.975720Z",
     "shell.execute_reply": "2020-10-27T21:20:12.976657Z"
    }
   },
   "outputs": [
    {
     "data": {
      "text/plain": [
       "('VendorID,tpep_pickup_datetime,tpep_dropoff_datetime,passenger_count,trip_distance,pickup_longitude,pickup_latitude,RateCodeID,store_and_fwd_flag,dropoff_longitude,dropoff_latitude,payment_type,fare_amount,extra,mta_tax,tip_amount,tolls_amount,improvement_surcharge,total_amount\\n',)"
      ]
     },
     "execution_count": 1,
     "metadata": {},
     "output_type": "execute_result"
    }
   ],
   "source": [
    "# Requires `s3fs` library\n",
    "# each partition is a remote CSV text file\n",
    "b = db.read_text(sources.bag_url,\n",
    "                 storage_options={'anon': True})\n",
    "b.take(1)"
   ]
  },
  {
   "cell_type": "markdown",
   "metadata": {},
   "source": [
    "## Manipulation"
   ]
  },
  {
   "cell_type": "markdown",
   "metadata": {},
   "source": [
    "`Bag` objects hold the standard functional API found in projects like the Python standard library, `toolz`, or `pyspark`, including `map`, `filter`, `groupby`, etc..\n",
    "\n",
    "Operations on `Bag` objects create new bags.  Call the `.compute()` method to trigger execution, as we saw for `Delayed` objects.  "
   ]
  },
  {
   "cell_type": "code",
   "execution_count": 7,
   "metadata": {
    "execution": {
     "iopub.execute_input": "2020-10-27T21:20:12.981644Z",
     "iopub.status.busy": "2020-10-27T21:20:12.981226Z",
     "iopub.status.idle": "2020-10-27T21:20:12.985679Z",
     "shell.execute_reply": "2020-10-27T21:20:12.986126Z"
    }
   },
   "outputs": [
    {
     "data": {
      "text/plain": [
       "dask.bag<lambda, npartitions=10>"
      ]
     },
     "execution_count": 1,
     "metadata": {},
     "output_type": "execute_result"
    }
   ],
   "source": [
    "def is_even(n):\n",
    "    return n % 2 == 0\n",
    "\n",
    "b = db.from_sequence([1, 2, 3, 4, 5, 6, 7, 8, 9, 10])\n",
    "c = b.filter(is_even).map(lambda x: x ** 2)\n",
    "c"
   ]
  },
  {
   "cell_type": "code",
   "execution_count": 8,
   "metadata": {
    "execution": {
     "iopub.execute_input": "2020-10-27T21:20:12.992700Z",
     "iopub.status.busy": "2020-10-27T21:20:12.992292Z",
     "iopub.status.idle": "2020-10-27T21:20:13.076493Z",
     "shell.execute_reply": "2020-10-27T21:20:13.075746Z"
    }
   },
   "outputs": [
    {
     "data": {
      "text/plain": [
       "[4, 16, 36, 64, 100]"
      ]
     },
     "execution_count": 1,
     "metadata": {},
     "output_type": "execute_result"
    }
   ],
   "source": [
    "# blocking form: wait for completion (which is very fast in this case)\n",
    "c.compute()"
   ]
  },
  {
   "cell_type": "markdown",
   "metadata": {},
   "source": [
    "### Example: Accounts JSON data"
   ]
  },
  {
   "cell_type": "markdown",
   "metadata": {},
   "source": [
    "We've created a fake dataset of gzipped JSON data in your data directory.  This is like the example used in the `DataFrame` example we will see later, except that it has bundled up all of the entires for each individual `id` into a single record.  This is similar to data that you might collect off of a document store database or a web API.\n",
    "\n",
    "Each line is a JSON encoded dictionary with the following keys\n",
    "\n",
    "*  id: Unique identifier of the customer\n",
    "*  name: Name of the customer\n",
    "*  transactions: List of `transaction-id`, `amount` pairs, one for each transaction for the customer in that file"
   ]
  },
  {
   "cell_type": "code",
   "execution_count": 9,
   "metadata": {
    "execution": {
     "iopub.execute_input": "2020-10-27T21:20:13.083470Z",
     "iopub.status.busy": "2020-10-27T21:20:13.082809Z",
     "iopub.status.idle": "2020-10-27T21:20:13.104654Z",
     "shell.execute_reply": "2020-10-27T21:20:13.105090Z"
    }
   },
   "outputs": [
    {
     "data": {
      "text/plain": [
       "('{\"id\": 0, \"name\": \"Alice\", \"transactions\": [{\"transaction-id\": 1, \"amount\": 7123}, {\"transaction-id\": 54, \"amount\": 7361}, {\"transaction-id\": 153, \"amount\": 7007}, {\"transaction-id\": 271, \"amount\": 7192}, {\"transaction-id\": 423, \"amount\": 7241}, {\"transaction-id\": 519, \"amount\": 6958}, {\"transaction-id\": 602, \"amount\": 7173}, {\"transaction-id\": 710, \"amount\": 7015}, {\"transaction-id\": 784, \"amount\": 7039}, {\"transaction-id\": 1149, \"amount\": 6857}, {\"transaction-id\": 1225, \"amount\": 7209}, {\"transaction-id\": 1539, \"amount\": 7219}, {\"transaction-id\": 1547, \"amount\": 6738}, {\"transaction-id\": 1599, \"amount\": 7444}, {\"transaction-id\": 1794, \"amount\": 6864}, {\"transaction-id\": 1863, \"amount\": 6973}, {\"transaction-id\": 1894, \"amount\": 7284}, {\"transaction-id\": 1929, \"amount\": 7209}, {\"transaction-id\": 1947, \"amount\": 7112}, {\"transaction-id\": 1983, \"amount\": 7058}, {\"transaction-id\": 2005, \"amount\": 7282}, {\"transaction-id\": 2032, \"amount\": 6755}, {\"transaction-id\": 2067, \"amount\": 7452}, {\"transaction-id\": 2116, \"amount\": 7105}, {\"transaction-id\": 2208, \"amount\": 7238}, {\"transaction-id\": 2235, \"amount\": 7047}, {\"transaction-id\": 2846, \"amount\": 6896}, {\"transaction-id\": 2919, \"amount\": 6897}, {\"transaction-id\": 3300, \"amount\": 7405}, {\"transaction-id\": 3314, \"amount\": 7339}, {\"transaction-id\": 3326, \"amount\": 6889}, {\"transaction-id\": 3345, \"amount\": 7080}, {\"transaction-id\": 3423, \"amount\": 7118}, {\"transaction-id\": 3939, \"amount\": 7020}, {\"transaction-id\": 3992, \"amount\": 7195}, {\"transaction-id\": 4247, \"amount\": 7312}, {\"transaction-id\": 4454, \"amount\": 7109}, {\"transaction-id\": 4552, \"amount\": 6888}, {\"transaction-id\": 4725, \"amount\": 7399}, {\"transaction-id\": 5035, \"amount\": 7073}, {\"transaction-id\": 5113, \"amount\": 7087}, {\"transaction-id\": 5282, \"amount\": 7314}, {\"transaction-id\": 5338, \"amount\": 7163}, {\"transaction-id\": 5394, \"amount\": 7073}, {\"transaction-id\": 5503, \"amount\": 7298}, {\"transaction-id\": 5689, \"amount\": 6958}, {\"transaction-id\": 5727, \"amount\": 7025}, {\"transaction-id\": 5787, \"amount\": 6941}, {\"transaction-id\": 5826, \"amount\": 6804}, {\"transaction-id\": 5909, \"amount\": 6873}, {\"transaction-id\": 5968, \"amount\": 7484}, {\"transaction-id\": 5987, \"amount\": 7246}, {\"transaction-id\": 6132, \"amount\": 7116}, {\"transaction-id\": 6245, \"amount\": 7088}, {\"transaction-id\": 6368, \"amount\": 7363}, {\"transaction-id\": 6675, \"amount\": 7296}, {\"transaction-id\": 6884, \"amount\": 7178}, {\"transaction-id\": 7142, \"amount\": 7292}, {\"transaction-id\": 7240, \"amount\": 7230}, {\"transaction-id\": 7306, \"amount\": 7117}, {\"transaction-id\": 7315, \"amount\": 6967}, {\"transaction-id\": 7408, \"amount\": 6966}, {\"transaction-id\": 7431, \"amount\": 7034}, {\"transaction-id\": 7490, \"amount\": 7112}, {\"transaction-id\": 7557, \"amount\": 6785}, {\"transaction-id\": 7787, \"amount\": 7472}, {\"transaction-id\": 7788, \"amount\": 6847}, {\"transaction-id\": 7823, \"amount\": 7191}, {\"transaction-id\": 7934, \"amount\": 6847}, {\"transaction-id\": 7960, \"amount\": 6987}, {\"transaction-id\": 7980, \"amount\": 7077}, {\"transaction-id\": 7999, \"amount\": 7132}, {\"transaction-id\": 8306, \"amount\": 7390}, {\"transaction-id\": 8324, \"amount\": 7553}, {\"transaction-id\": 8515, \"amount\": 6975}, {\"transaction-id\": 8524, \"amount\": 6883}, {\"transaction-id\": 8777, \"amount\": 7104}, {\"transaction-id\": 8863, \"amount\": 6928}, {\"transaction-id\": 9595, \"amount\": 6776}, {\"transaction-id\": 9604, \"amount\": 6795}, {\"transaction-id\": 9781, \"amount\": 7343}, {\"transaction-id\": 9793, \"amount\": 7243}, {\"transaction-id\": 9858, \"amount\": 7166}, {\"transaction-id\": 9871, \"amount\": 7125}, {\"transaction-id\": 9991, \"amount\": 7093}]}\\n',\n",
       " '{\"id\": 1, \"name\": \"Xavier\", \"transactions\": [{\"transaction-id\": 7888, \"amount\": 1172}, {\"transaction-id\": 9883, \"amount\": 1348}, {\"transaction-id\": 9928, \"amount\": 1292}]}\\n',\n",
       " '{\"id\": 2, \"name\": \"Alice\", \"transactions\": [{\"transaction-id\": 4583, \"amount\": 2528}]}\\n')"
      ]
     },
     "execution_count": 1,
     "metadata": {},
     "output_type": "execute_result"
    }
   ],
   "source": [
    "filename = os.path.join('data', 'accounts.*.json.gz')\n",
    "lines = db.read_text(filename)\n",
    "lines.take(3)"
   ]
  },
  {
   "cell_type": "markdown",
   "metadata": {},
   "source": [
    "Our data comes out of the file as lines of text. Notice that file decompression happened automatically. We can make this data look more reasonable by mapping the `json.loads` function onto our bag."
   ]
  },
  {
   "cell_type": "code",
   "execution_count": 10,
   "metadata": {
    "execution": {
     "iopub.execute_input": "2020-10-27T21:20:13.110786Z",
     "iopub.status.busy": "2020-10-27T21:20:13.110164Z",
     "iopub.status.idle": "2020-10-27T21:20:13.133736Z",
     "shell.execute_reply": "2020-10-27T21:20:13.133203Z"
    }
   },
   "outputs": [
    {
     "data": {
      "text/plain": [
       "({'id': 0,\n",
       "  'name': 'Alice',\n",
       "  'transactions': [{'transaction-id': 1, 'amount': 7123},\n",
       "   {'transaction-id': 54, 'amount': 7361},\n",
       "   {'transaction-id': 153, 'amount': 7007},\n",
       "   {'transaction-id': 271, 'amount': 7192},\n",
       "   {'transaction-id': 423, 'amount': 7241},\n",
       "   {'transaction-id': 519, 'amount': 6958},\n",
       "   {'transaction-id': 602, 'amount': 7173},\n",
       "   {'transaction-id': 710, 'amount': 7015},\n",
       "   {'transaction-id': 784, 'amount': 7039},\n",
       "   {'transaction-id': 1149, 'amount': 6857},\n",
       "   {'transaction-id': 1225, 'amount': 7209},\n",
       "   {'transaction-id': 1539, 'amount': 7219},\n",
       "   {'transaction-id': 1547, 'amount': 6738},\n",
       "   {'transaction-id': 1599, 'amount': 7444},\n",
       "   {'transaction-id': 1794, 'amount': 6864},\n",
       "   {'transaction-id': 1863, 'amount': 6973},\n",
       "   {'transaction-id': 1894, 'amount': 7284},\n",
       "   {'transaction-id': 1929, 'amount': 7209},\n",
       "   {'transaction-id': 1947, 'amount': 7112},\n",
       "   {'transaction-id': 1983, 'amount': 7058},\n",
       "   {'transaction-id': 2005, 'amount': 7282},\n",
       "   {'transaction-id': 2032, 'amount': 6755},\n",
       "   {'transaction-id': 2067, 'amount': 7452},\n",
       "   {'transaction-id': 2116, 'amount': 7105},\n",
       "   {'transaction-id': 2208, 'amount': 7238},\n",
       "   {'transaction-id': 2235, 'amount': 7047},\n",
       "   {'transaction-id': 2846, 'amount': 6896},\n",
       "   {'transaction-id': 2919, 'amount': 6897},\n",
       "   {'transaction-id': 3300, 'amount': 7405},\n",
       "   {'transaction-id': 3314, 'amount': 7339},\n",
       "   {'transaction-id': 3326, 'amount': 6889},\n",
       "   {'transaction-id': 3345, 'amount': 7080},\n",
       "   {'transaction-id': 3423, 'amount': 7118},\n",
       "   {'transaction-id': 3939, 'amount': 7020},\n",
       "   {'transaction-id': 3992, 'amount': 7195},\n",
       "   {'transaction-id': 4247, 'amount': 7312},\n",
       "   {'transaction-id': 4454, 'amount': 7109},\n",
       "   {'transaction-id': 4552, 'amount': 6888},\n",
       "   {'transaction-id': 4725, 'amount': 7399},\n",
       "   {'transaction-id': 5035, 'amount': 7073},\n",
       "   {'transaction-id': 5113, 'amount': 7087},\n",
       "   {'transaction-id': 5282, 'amount': 7314},\n",
       "   {'transaction-id': 5338, 'amount': 7163},\n",
       "   {'transaction-id': 5394, 'amount': 7073},\n",
       "   {'transaction-id': 5503, 'amount': 7298},\n",
       "   {'transaction-id': 5689, 'amount': 6958},\n",
       "   {'transaction-id': 5727, 'amount': 7025},\n",
       "   {'transaction-id': 5787, 'amount': 6941},\n",
       "   {'transaction-id': 5826, 'amount': 6804},\n",
       "   {'transaction-id': 5909, 'amount': 6873},\n",
       "   {'transaction-id': 5968, 'amount': 7484},\n",
       "   {'transaction-id': 5987, 'amount': 7246},\n",
       "   {'transaction-id': 6132, 'amount': 7116},\n",
       "   {'transaction-id': 6245, 'amount': 7088},\n",
       "   {'transaction-id': 6368, 'amount': 7363},\n",
       "   {'transaction-id': 6675, 'amount': 7296},\n",
       "   {'transaction-id': 6884, 'amount': 7178},\n",
       "   {'transaction-id': 7142, 'amount': 7292},\n",
       "   {'transaction-id': 7240, 'amount': 7230},\n",
       "   {'transaction-id': 7306, 'amount': 7117},\n",
       "   {'transaction-id': 7315, 'amount': 6967},\n",
       "   {'transaction-id': 7408, 'amount': 6966},\n",
       "   {'transaction-id': 7431, 'amount': 7034},\n",
       "   {'transaction-id': 7490, 'amount': 7112},\n",
       "   {'transaction-id': 7557, 'amount': 6785},\n",
       "   {'transaction-id': 7787, 'amount': 7472},\n",
       "   {'transaction-id': 7788, 'amount': 6847},\n",
       "   {'transaction-id': 7823, 'amount': 7191},\n",
       "   {'transaction-id': 7934, 'amount': 6847},\n",
       "   {'transaction-id': 7960, 'amount': 6987},\n",
       "   {'transaction-id': 7980, 'amount': 7077},\n",
       "   {'transaction-id': 7999, 'amount': 7132},\n",
       "   {'transaction-id': 8306, 'amount': 7390},\n",
       "   {'transaction-id': 8324, 'amount': 7553},\n",
       "   {'transaction-id': 8515, 'amount': 6975},\n",
       "   {'transaction-id': 8524, 'amount': 6883},\n",
       "   {'transaction-id': 8777, 'amount': 7104},\n",
       "   {'transaction-id': 8863, 'amount': 6928},\n",
       "   {'transaction-id': 9595, 'amount': 6776},\n",
       "   {'transaction-id': 9604, 'amount': 6795},\n",
       "   {'transaction-id': 9781, 'amount': 7343},\n",
       "   {'transaction-id': 9793, 'amount': 7243},\n",
       "   {'transaction-id': 9858, 'amount': 7166},\n",
       "   {'transaction-id': 9871, 'amount': 7125},\n",
       "   {'transaction-id': 9991, 'amount': 7093}]},\n",
       " {'id': 1,\n",
       "  'name': 'Xavier',\n",
       "  'transactions': [{'transaction-id': 7888, 'amount': 1172},\n",
       "   {'transaction-id': 9883, 'amount': 1348},\n",
       "   {'transaction-id': 9928, 'amount': 1292}]},\n",
       " {'id': 2,\n",
       "  'name': 'Alice',\n",
       "  'transactions': [{'transaction-id': 4583, 'amount': 2528}]})"
      ]
     },
     "execution_count": 1,
     "metadata": {},
     "output_type": "execute_result"
    }
   ],
   "source": [
    "import json\n",
    "js = lines.map(json.loads)\n",
    "# take: inspect first few elements\n",
    "js.take(3)"
   ]
  },
  {
   "cell_type": "markdown",
   "metadata": {},
   "source": [
    "### Basic Queries"
   ]
  },
  {
   "cell_type": "markdown",
   "metadata": {},
   "source": [
    "Once we parse our JSON data into proper Python objects (`dict`s, `list`s, etc.) we can perform more interesting queries by creating small Python functions to run on our data."
   ]
  },
  {
   "cell_type": "code",
   "execution_count": 11,
   "metadata": {
    "execution": {
     "iopub.execute_input": "2020-10-27T21:20:13.139751Z",
     "iopub.status.busy": "2020-10-27T21:20:13.138521Z",
     "iopub.status.idle": "2020-10-27T21:20:13.171550Z",
     "shell.execute_reply": "2020-10-27T21:20:13.171163Z"
    }
   },
   "outputs": [
    {
     "data": {
      "text/plain": [
       "({'id': 0,\n",
       "  'name': 'Alice',\n",
       "  'transactions': [{'transaction-id': 1, 'amount': 7123},\n",
       "   {'transaction-id': 54, 'amount': 7361},\n",
       "   {'transaction-id': 153, 'amount': 7007},\n",
       "   {'transaction-id': 271, 'amount': 7192},\n",
       "   {'transaction-id': 423, 'amount': 7241},\n",
       "   {'transaction-id': 519, 'amount': 6958},\n",
       "   {'transaction-id': 602, 'amount': 7173},\n",
       "   {'transaction-id': 710, 'amount': 7015},\n",
       "   {'transaction-id': 784, 'amount': 7039},\n",
       "   {'transaction-id': 1149, 'amount': 6857},\n",
       "   {'transaction-id': 1225, 'amount': 7209},\n",
       "   {'transaction-id': 1539, 'amount': 7219},\n",
       "   {'transaction-id': 1547, 'amount': 6738},\n",
       "   {'transaction-id': 1599, 'amount': 7444},\n",
       "   {'transaction-id': 1794, 'amount': 6864},\n",
       "   {'transaction-id': 1863, 'amount': 6973},\n",
       "   {'transaction-id': 1894, 'amount': 7284},\n",
       "   {'transaction-id': 1929, 'amount': 7209},\n",
       "   {'transaction-id': 1947, 'amount': 7112},\n",
       "   {'transaction-id': 1983, 'amount': 7058},\n",
       "   {'transaction-id': 2005, 'amount': 7282},\n",
       "   {'transaction-id': 2032, 'amount': 6755},\n",
       "   {'transaction-id': 2067, 'amount': 7452},\n",
       "   {'transaction-id': 2116, 'amount': 7105},\n",
       "   {'transaction-id': 2208, 'amount': 7238},\n",
       "   {'transaction-id': 2235, 'amount': 7047},\n",
       "   {'transaction-id': 2846, 'amount': 6896},\n",
       "   {'transaction-id': 2919, 'amount': 6897},\n",
       "   {'transaction-id': 3300, 'amount': 7405},\n",
       "   {'transaction-id': 3314, 'amount': 7339},\n",
       "   {'transaction-id': 3326, 'amount': 6889},\n",
       "   {'transaction-id': 3345, 'amount': 7080},\n",
       "   {'transaction-id': 3423, 'amount': 7118},\n",
       "   {'transaction-id': 3939, 'amount': 7020},\n",
       "   {'transaction-id': 3992, 'amount': 7195},\n",
       "   {'transaction-id': 4247, 'amount': 7312},\n",
       "   {'transaction-id': 4454, 'amount': 7109},\n",
       "   {'transaction-id': 4552, 'amount': 6888},\n",
       "   {'transaction-id': 4725, 'amount': 7399},\n",
       "   {'transaction-id': 5035, 'amount': 7073},\n",
       "   {'transaction-id': 5113, 'amount': 7087},\n",
       "   {'transaction-id': 5282, 'amount': 7314},\n",
       "   {'transaction-id': 5338, 'amount': 7163},\n",
       "   {'transaction-id': 5394, 'amount': 7073},\n",
       "   {'transaction-id': 5503, 'amount': 7298},\n",
       "   {'transaction-id': 5689, 'amount': 6958},\n",
       "   {'transaction-id': 5727, 'amount': 7025},\n",
       "   {'transaction-id': 5787, 'amount': 6941},\n",
       "   {'transaction-id': 5826, 'amount': 6804},\n",
       "   {'transaction-id': 5909, 'amount': 6873},\n",
       "   {'transaction-id': 5968, 'amount': 7484},\n",
       "   {'transaction-id': 5987, 'amount': 7246},\n",
       "   {'transaction-id': 6132, 'amount': 7116},\n",
       "   {'transaction-id': 6245, 'amount': 7088},\n",
       "   {'transaction-id': 6368, 'amount': 7363},\n",
       "   {'transaction-id': 6675, 'amount': 7296},\n",
       "   {'transaction-id': 6884, 'amount': 7178},\n",
       "   {'transaction-id': 7142, 'amount': 7292},\n",
       "   {'transaction-id': 7240, 'amount': 7230},\n",
       "   {'transaction-id': 7306, 'amount': 7117},\n",
       "   {'transaction-id': 7315, 'amount': 6967},\n",
       "   {'transaction-id': 7408, 'amount': 6966},\n",
       "   {'transaction-id': 7431, 'amount': 7034},\n",
       "   {'transaction-id': 7490, 'amount': 7112},\n",
       "   {'transaction-id': 7557, 'amount': 6785},\n",
       "   {'transaction-id': 7787, 'amount': 7472},\n",
       "   {'transaction-id': 7788, 'amount': 6847},\n",
       "   {'transaction-id': 7823, 'amount': 7191},\n",
       "   {'transaction-id': 7934, 'amount': 6847},\n",
       "   {'transaction-id': 7960, 'amount': 6987},\n",
       "   {'transaction-id': 7980, 'amount': 7077},\n",
       "   {'transaction-id': 7999, 'amount': 7132},\n",
       "   {'transaction-id': 8306, 'amount': 7390},\n",
       "   {'transaction-id': 8324, 'amount': 7553},\n",
       "   {'transaction-id': 8515, 'amount': 6975},\n",
       "   {'transaction-id': 8524, 'amount': 6883},\n",
       "   {'transaction-id': 8777, 'amount': 7104},\n",
       "   {'transaction-id': 8863, 'amount': 6928},\n",
       "   {'transaction-id': 9595, 'amount': 6776},\n",
       "   {'transaction-id': 9604, 'amount': 6795},\n",
       "   {'transaction-id': 9781, 'amount': 7343},\n",
       "   {'transaction-id': 9793, 'amount': 7243},\n",
       "   {'transaction-id': 9858, 'amount': 7166},\n",
       "   {'transaction-id': 9871, 'amount': 7125},\n",
       "   {'transaction-id': 9991, 'amount': 7093}]},\n",
       " {'id': 2,\n",
       "  'name': 'Alice',\n",
       "  'transactions': [{'transaction-id': 4583, 'amount': 2528}]},\n",
       " {'id': 7,\n",
       "  'name': 'Alice',\n",
       "  'transactions': [{'transaction-id': 36, 'amount': 1885},\n",
       "   {'transaction-id': 64, 'amount': 1856},\n",
       "   {'transaction-id': 151, 'amount': 1629},\n",
       "   {'transaction-id': 162, 'amount': 1937},\n",
       "   {'transaction-id': 179, 'amount': 1816},\n",
       "   {'transaction-id': 198, 'amount': 1698},\n",
       "   {'transaction-id': 274, 'amount': 1704},\n",
       "   {'transaction-id': 299, 'amount': 1710},\n",
       "   {'transaction-id': 443, 'amount': 1902},\n",
       "   {'transaction-id': 573, 'amount': 1948},\n",
       "   {'transaction-id': 586, 'amount': 1591},\n",
       "   {'transaction-id': 595, 'amount': 1718},\n",
       "   {'transaction-id': 882, 'amount': 1725},\n",
       "   {'transaction-id': 1060, 'amount': 1957},\n",
       "   {'transaction-id': 1165, 'amount': 1760},\n",
       "   {'transaction-id': 1248, 'amount': 1796},\n",
       "   {'transaction-id': 1436, 'amount': 1695},\n",
       "   {'transaction-id': 1500, 'amount': 1702},\n",
       "   {'transaction-id': 1712, 'amount': 1886},\n",
       "   {'transaction-id': 1903, 'amount': 1758},\n",
       "   {'transaction-id': 2134, 'amount': 1834},\n",
       "   {'transaction-id': 2257, 'amount': 1848},\n",
       "   {'transaction-id': 2324, 'amount': 1715},\n",
       "   {'transaction-id': 2445, 'amount': 1848},\n",
       "   {'transaction-id': 2755, 'amount': 1933},\n",
       "   {'transaction-id': 2834, 'amount': 1850},\n",
       "   {'transaction-id': 3069, 'amount': 1767},\n",
       "   {'transaction-id': 3346, 'amount': 1863},\n",
       "   {'transaction-id': 3384, 'amount': 1772},\n",
       "   {'transaction-id': 3531, 'amount': 1795},\n",
       "   {'transaction-id': 3653, 'amount': 1713},\n",
       "   {'transaction-id': 3810, 'amount': 1785},\n",
       "   {'transaction-id': 3889, 'amount': 1783},\n",
       "   {'transaction-id': 4130, 'amount': 1766},\n",
       "   {'transaction-id': 4251, 'amount': 1676},\n",
       "   {'transaction-id': 4364, 'amount': 1847},\n",
       "   {'transaction-id': 4625, 'amount': 1728},\n",
       "   {'transaction-id': 4674, 'amount': 1611},\n",
       "   {'transaction-id': 4681, 'amount': 1953},\n",
       "   {'transaction-id': 4771, 'amount': 1731},\n",
       "   {'transaction-id': 4976, 'amount': 1726},\n",
       "   {'transaction-id': 5136, 'amount': 1579},\n",
       "   {'transaction-id': 5146, 'amount': 1900},\n",
       "   {'transaction-id': 5148, 'amount': 1691},\n",
       "   {'transaction-id': 5433, 'amount': 1685},\n",
       "   {'transaction-id': 5521, 'amount': 1687},\n",
       "   {'transaction-id': 5728, 'amount': 1800},\n",
       "   {'transaction-id': 5915, 'amount': 1525},\n",
       "   {'transaction-id': 5920, 'amount': 1688},\n",
       "   {'transaction-id': 5965, 'amount': 1696},\n",
       "   {'transaction-id': 6001, 'amount': 1782},\n",
       "   {'transaction-id': 6324, 'amount': 1634},\n",
       "   {'transaction-id': 6889, 'amount': 1589},\n",
       "   {'transaction-id': 6955, 'amount': 1704},\n",
       "   {'transaction-id': 6972, 'amount': 1589},\n",
       "   {'transaction-id': 7349, 'amount': 1822},\n",
       "   {'transaction-id': 8002, 'amount': 1777},\n",
       "   {'transaction-id': 8044, 'amount': 1818},\n",
       "   {'transaction-id': 8122, 'amount': 1883},\n",
       "   {'transaction-id': 8150, 'amount': 1877},\n",
       "   {'transaction-id': 8592, 'amount': 1849},\n",
       "   {'transaction-id': 8750, 'amount': 1892},\n",
       "   {'transaction-id': 8779, 'amount': 1960},\n",
       "   {'transaction-id': 8826, 'amount': 1915},\n",
       "   {'transaction-id': 9129, 'amount': 1704},\n",
       "   {'transaction-id': 9196, 'amount': 1901},\n",
       "   {'transaction-id': 9351, 'amount': 1628},\n",
       "   {'transaction-id': 9489, 'amount': 1801},\n",
       "   {'transaction-id': 9537, 'amount': 1805},\n",
       "   {'transaction-id': 9599, 'amount': 1801},\n",
       "   {'transaction-id': 9626, 'amount': 1824},\n",
       "   {'transaction-id': 9679, 'amount': 1684},\n",
       "   {'transaction-id': 9862, 'amount': 1624},\n",
       "   {'transaction-id': 9952, 'amount': 1819}]},\n",
       " {'id': 25,\n",
       "  'name': 'Alice',\n",
       "  'transactions': [{'transaction-id': 100, 'amount': -940},\n",
       "   {'transaction-id': 227, 'amount': -1115},\n",
       "   {'transaction-id': 954, 'amount': -1383},\n",
       "   {'transaction-id': 1282, 'amount': -1139},\n",
       "   {'transaction-id': 2145, 'amount': -679},\n",
       "   {'transaction-id': 2421, 'amount': -988},\n",
       "   {'transaction-id': 3168, 'amount': -923},\n",
       "   {'transaction-id': 3185, 'amount': -829},\n",
       "   {'transaction-id': 3425, 'amount': -918},\n",
       "   {'transaction-id': 4701, 'amount': -1059},\n",
       "   {'transaction-id': 4863, 'amount': -1122},\n",
       "   {'transaction-id': 6042, 'amount': -1206},\n",
       "   {'transaction-id': 6057, 'amount': -898},\n",
       "   {'transaction-id': 6835, 'amount': -1513},\n",
       "   {'transaction-id': 7148, 'amount': -1042},\n",
       "   {'transaction-id': 7313, 'amount': -1061},\n",
       "   {'transaction-id': 7702, 'amount': -1092}]},\n",
       " {'id': 26,\n",
       "  'name': 'Alice',\n",
       "  'transactions': [{'transaction-id': 458, 'amount': 1129},\n",
       "   {'transaction-id': 647, 'amount': 1225},\n",
       "   {'transaction-id': 858, 'amount': 944},\n",
       "   {'transaction-id': 907, 'amount': 1090},\n",
       "   {'transaction-id': 965, 'amount': 1063},\n",
       "   {'transaction-id': 1011, 'amount': 1193},\n",
       "   {'transaction-id': 1143, 'amount': 1275},\n",
       "   {'transaction-id': 1429, 'amount': 1110},\n",
       "   {'transaction-id': 1688, 'amount': 1195},\n",
       "   {'transaction-id': 1878, 'amount': 1213},\n",
       "   {'transaction-id': 2106, 'amount': 1175},\n",
       "   {'transaction-id': 2110, 'amount': 1074},\n",
       "   {'transaction-id': 2672, 'amount': 1102},\n",
       "   {'transaction-id': 3038, 'amount': 1066},\n",
       "   {'transaction-id': 3061, 'amount': 1095},\n",
       "   {'transaction-id': 3456, 'amount': 1097},\n",
       "   {'transaction-id': 3635, 'amount': 1128},\n",
       "   {'transaction-id': 3785, 'amount': 1239},\n",
       "   {'transaction-id': 4290, 'amount': 1226},\n",
       "   {'transaction-id': 4309, 'amount': 1115},\n",
       "   {'transaction-id': 4317, 'amount': 1043},\n",
       "   {'transaction-id': 4401, 'amount': 915},\n",
       "   {'transaction-id': 4696, 'amount': 1075},\n",
       "   {'transaction-id': 4756, 'amount': 1127},\n",
       "   {'transaction-id': 4775, 'amount': 1066},\n",
       "   {'transaction-id': 4795, 'amount': 1271},\n",
       "   {'transaction-id': 4817, 'amount': 1255},\n",
       "   {'transaction-id': 4839, 'amount': 982},\n",
       "   {'transaction-id': 5053, 'amount': 1277},\n",
       "   {'transaction-id': 5499, 'amount': 1157},\n",
       "   {'transaction-id': 5873, 'amount': 986},\n",
       "   {'transaction-id': 6004, 'amount': 795},\n",
       "   {'transaction-id': 6280, 'amount': 958},\n",
       "   {'transaction-id': 6498, 'amount': 1213},\n",
       "   {'transaction-id': 6531, 'amount': 1176},\n",
       "   {'transaction-id': 6573, 'amount': 1101},\n",
       "   {'transaction-id': 6709, 'amount': 921},\n",
       "   {'transaction-id': 6713, 'amount': 987},\n",
       "   {'transaction-id': 6766, 'amount': 1185},\n",
       "   {'transaction-id': 6825, 'amount': 1178},\n",
       "   {'transaction-id': 7086, 'amount': 1213},\n",
       "   {'transaction-id': 7406, 'amount': 904},\n",
       "   {'transaction-id': 7413, 'amount': 1001},\n",
       "   {'transaction-id': 7488, 'amount': 1057},\n",
       "   {'transaction-id': 7504, 'amount': 972},\n",
       "   {'transaction-id': 7909, 'amount': 1100},\n",
       "   {'transaction-id': 8137, 'amount': 1099},\n",
       "   {'transaction-id': 8146, 'amount': 1178},\n",
       "   {'transaction-id': 8472, 'amount': 915},\n",
       "   {'transaction-id': 9148, 'amount': 1016},\n",
       "   {'transaction-id': 9479, 'amount': 1125},\n",
       "   {'transaction-id': 9555, 'amount': 1008},\n",
       "   {'transaction-id': 9619, 'amount': 978},\n",
       "   {'transaction-id': 9782, 'amount': 1072},\n",
       "   {'transaction-id': 9840, 'amount': 950},\n",
       "   {'transaction-id': 9842, 'amount': 1219},\n",
       "   {'transaction-id': 9939, 'amount': 1126}]})"
      ]
     },
     "execution_count": 1,
     "metadata": {},
     "output_type": "execute_result"
    }
   ],
   "source": [
    "# filter: keep only some elements of the sequence\n",
    "js.filter(lambda record: record['name'] == 'Alice').take(5)"
   ]
  },
  {
   "cell_type": "code",
   "execution_count": 12,
   "metadata": {
    "execution": {
     "iopub.execute_input": "2020-10-27T21:20:13.176140Z",
     "iopub.status.busy": "2020-10-27T21:20:13.175747Z",
     "iopub.status.idle": "2020-10-27T21:20:13.195115Z",
     "shell.execute_reply": "2020-10-27T21:20:13.194342Z"
    }
   },
   "outputs": [
    {
     "data": {
      "text/plain": [
       "({'name': 'Alice', 'count': 85},\n",
       " {'name': 'Alice', 'count': 1},\n",
       " {'name': 'Alice', 'count': 74},\n",
       " {'name': 'Alice', 'count': 17},\n",
       " {'name': 'Alice', 'count': 57})"
      ]
     },
     "execution_count": 1,
     "metadata": {},
     "output_type": "execute_result"
    }
   ],
   "source": [
    "def count_transactions(d):\n",
    "    return {'name': d['name'], 'count': len(d['transactions'])}\n",
    "\n",
    "# map: apply a function to each element\n",
    "(js.filter(lambda record: record['name'] == 'Alice')\n",
    "   .map(count_transactions)\n",
    "   .take(5))"
   ]
  },
  {
   "cell_type": "code",
   "execution_count": 13,
   "metadata": {
    "execution": {
     "iopub.execute_input": "2020-10-27T21:20:13.203933Z",
     "iopub.status.busy": "2020-10-27T21:20:13.203265Z",
     "iopub.status.idle": "2020-10-27T21:20:13.217790Z",
     "shell.execute_reply": "2020-10-27T21:20:13.218310Z"
    }
   },
   "outputs": [
    {
     "data": {
      "text/plain": [
       "(85, 1, 74, 17, 57)"
      ]
     },
     "execution_count": 1,
     "metadata": {},
     "output_type": "execute_result"
    }
   ],
   "source": [
    "# pluck: select a field, as from a dictionary, element[field]\n",
    "(js.filter(lambda record: record['name'] == 'Alice')\n",
    "   .map(count_transactions)\n",
    "   .pluck('count')\n",
    "   .take(5))"
   ]
  },
  {
   "cell_type": "code",
   "execution_count": 14,
   "metadata": {
    "execution": {
     "iopub.execute_input": "2020-10-27T21:20:13.231996Z",
     "iopub.status.busy": "2020-10-27T21:20:13.220907Z",
     "iopub.status.idle": "2020-10-27T21:20:13.784634Z",
     "shell.execute_reply": "2020-10-27T21:20:13.784988Z"
    }
   },
   "outputs": [
    {
     "data": {
      "text/plain": [
       "43.790055248618785"
      ]
     },
     "execution_count": 1,
     "metadata": {},
     "output_type": "execute_result"
    }
   ],
   "source": [
    "# Average number of transactions for all of the Alice entries\n",
    "(js.filter(lambda record: record['name'] == 'Alice')\n",
    "   .map(count_transactions)\n",
    "   .pluck('count')\n",
    "   .mean()\n",
    "   .compute())"
   ]
  },
  {
   "cell_type": "markdown",
   "metadata": {},
   "source": [
    "### Use `flatten` to de-nest"
   ]
  },
  {
   "cell_type": "markdown",
   "metadata": {},
   "source": [
    "In the example below we see the use of `.flatten()` to flatten results.  We compute the average amount for all transactions for all Alices."
   ]
  },
  {
   "cell_type": "code",
   "execution_count": 15,
   "metadata": {
    "execution": {
     "iopub.execute_input": "2020-10-27T21:20:13.793883Z",
     "iopub.status.busy": "2020-10-27T21:20:13.792175Z",
     "iopub.status.idle": "2020-10-27T21:20:13.814464Z",
     "shell.execute_reply": "2020-10-27T21:20:13.815279Z"
    }
   },
   "outputs": [
    {
     "data": {
      "text/plain": [
       "([{'transaction-id': 1, 'amount': 7123},\n",
       "  {'transaction-id': 54, 'amount': 7361},\n",
       "  {'transaction-id': 153, 'amount': 7007},\n",
       "  {'transaction-id': 271, 'amount': 7192},\n",
       "  {'transaction-id': 423, 'amount': 7241},\n",
       "  {'transaction-id': 519, 'amount': 6958},\n",
       "  {'transaction-id': 602, 'amount': 7173},\n",
       "  {'transaction-id': 710, 'amount': 7015},\n",
       "  {'transaction-id': 784, 'amount': 7039},\n",
       "  {'transaction-id': 1149, 'amount': 6857},\n",
       "  {'transaction-id': 1225, 'amount': 7209},\n",
       "  {'transaction-id': 1539, 'amount': 7219},\n",
       "  {'transaction-id': 1547, 'amount': 6738},\n",
       "  {'transaction-id': 1599, 'amount': 7444},\n",
       "  {'transaction-id': 1794, 'amount': 6864},\n",
       "  {'transaction-id': 1863, 'amount': 6973},\n",
       "  {'transaction-id': 1894, 'amount': 7284},\n",
       "  {'transaction-id': 1929, 'amount': 7209},\n",
       "  {'transaction-id': 1947, 'amount': 7112},\n",
       "  {'transaction-id': 1983, 'amount': 7058},\n",
       "  {'transaction-id': 2005, 'amount': 7282},\n",
       "  {'transaction-id': 2032, 'amount': 6755},\n",
       "  {'transaction-id': 2067, 'amount': 7452},\n",
       "  {'transaction-id': 2116, 'amount': 7105},\n",
       "  {'transaction-id': 2208, 'amount': 7238},\n",
       "  {'transaction-id': 2235, 'amount': 7047},\n",
       "  {'transaction-id': 2846, 'amount': 6896},\n",
       "  {'transaction-id': 2919, 'amount': 6897},\n",
       "  {'transaction-id': 3300, 'amount': 7405},\n",
       "  {'transaction-id': 3314, 'amount': 7339},\n",
       "  {'transaction-id': 3326, 'amount': 6889},\n",
       "  {'transaction-id': 3345, 'amount': 7080},\n",
       "  {'transaction-id': 3423, 'amount': 7118},\n",
       "  {'transaction-id': 3939, 'amount': 7020},\n",
       "  {'transaction-id': 3992, 'amount': 7195},\n",
       "  {'transaction-id': 4247, 'amount': 7312},\n",
       "  {'transaction-id': 4454, 'amount': 7109},\n",
       "  {'transaction-id': 4552, 'amount': 6888},\n",
       "  {'transaction-id': 4725, 'amount': 7399},\n",
       "  {'transaction-id': 5035, 'amount': 7073},\n",
       "  {'transaction-id': 5113, 'amount': 7087},\n",
       "  {'transaction-id': 5282, 'amount': 7314},\n",
       "  {'transaction-id': 5338, 'amount': 7163},\n",
       "  {'transaction-id': 5394, 'amount': 7073},\n",
       "  {'transaction-id': 5503, 'amount': 7298},\n",
       "  {'transaction-id': 5689, 'amount': 6958},\n",
       "  {'transaction-id': 5727, 'amount': 7025},\n",
       "  {'transaction-id': 5787, 'amount': 6941},\n",
       "  {'transaction-id': 5826, 'amount': 6804},\n",
       "  {'transaction-id': 5909, 'amount': 6873},\n",
       "  {'transaction-id': 5968, 'amount': 7484},\n",
       "  {'transaction-id': 5987, 'amount': 7246},\n",
       "  {'transaction-id': 6132, 'amount': 7116},\n",
       "  {'transaction-id': 6245, 'amount': 7088},\n",
       "  {'transaction-id': 6368, 'amount': 7363},\n",
       "  {'transaction-id': 6675, 'amount': 7296},\n",
       "  {'transaction-id': 6884, 'amount': 7178},\n",
       "  {'transaction-id': 7142, 'amount': 7292},\n",
       "  {'transaction-id': 7240, 'amount': 7230},\n",
       "  {'transaction-id': 7306, 'amount': 7117},\n",
       "  {'transaction-id': 7315, 'amount': 6967},\n",
       "  {'transaction-id': 7408, 'amount': 6966},\n",
       "  {'transaction-id': 7431, 'amount': 7034},\n",
       "  {'transaction-id': 7490, 'amount': 7112},\n",
       "  {'transaction-id': 7557, 'amount': 6785},\n",
       "  {'transaction-id': 7787, 'amount': 7472},\n",
       "  {'transaction-id': 7788, 'amount': 6847},\n",
       "  {'transaction-id': 7823, 'amount': 7191},\n",
       "  {'transaction-id': 7934, 'amount': 6847},\n",
       "  {'transaction-id': 7960, 'amount': 6987},\n",
       "  {'transaction-id': 7980, 'amount': 7077},\n",
       "  {'transaction-id': 7999, 'amount': 7132},\n",
       "  {'transaction-id': 8306, 'amount': 7390},\n",
       "  {'transaction-id': 8324, 'amount': 7553},\n",
       "  {'transaction-id': 8515, 'amount': 6975},\n",
       "  {'transaction-id': 8524, 'amount': 6883},\n",
       "  {'transaction-id': 8777, 'amount': 7104},\n",
       "  {'transaction-id': 8863, 'amount': 6928},\n",
       "  {'transaction-id': 9595, 'amount': 6776},\n",
       "  {'transaction-id': 9604, 'amount': 6795},\n",
       "  {'transaction-id': 9781, 'amount': 7343},\n",
       "  {'transaction-id': 9793, 'amount': 7243},\n",
       "  {'transaction-id': 9858, 'amount': 7166},\n",
       "  {'transaction-id': 9871, 'amount': 7125},\n",
       "  {'transaction-id': 9991, 'amount': 7093}],\n",
       " [{'transaction-id': 4583, 'amount': 2528}],\n",
       " [{'transaction-id': 36, 'amount': 1885},\n",
       "  {'transaction-id': 64, 'amount': 1856},\n",
       "  {'transaction-id': 151, 'amount': 1629},\n",
       "  {'transaction-id': 162, 'amount': 1937},\n",
       "  {'transaction-id': 179, 'amount': 1816},\n",
       "  {'transaction-id': 198, 'amount': 1698},\n",
       "  {'transaction-id': 274, 'amount': 1704},\n",
       "  {'transaction-id': 299, 'amount': 1710},\n",
       "  {'transaction-id': 443, 'amount': 1902},\n",
       "  {'transaction-id': 573, 'amount': 1948},\n",
       "  {'transaction-id': 586, 'amount': 1591},\n",
       "  {'transaction-id': 595, 'amount': 1718},\n",
       "  {'transaction-id': 882, 'amount': 1725},\n",
       "  {'transaction-id': 1060, 'amount': 1957},\n",
       "  {'transaction-id': 1165, 'amount': 1760},\n",
       "  {'transaction-id': 1248, 'amount': 1796},\n",
       "  {'transaction-id': 1436, 'amount': 1695},\n",
       "  {'transaction-id': 1500, 'amount': 1702},\n",
       "  {'transaction-id': 1712, 'amount': 1886},\n",
       "  {'transaction-id': 1903, 'amount': 1758},\n",
       "  {'transaction-id': 2134, 'amount': 1834},\n",
       "  {'transaction-id': 2257, 'amount': 1848},\n",
       "  {'transaction-id': 2324, 'amount': 1715},\n",
       "  {'transaction-id': 2445, 'amount': 1848},\n",
       "  {'transaction-id': 2755, 'amount': 1933},\n",
       "  {'transaction-id': 2834, 'amount': 1850},\n",
       "  {'transaction-id': 3069, 'amount': 1767},\n",
       "  {'transaction-id': 3346, 'amount': 1863},\n",
       "  {'transaction-id': 3384, 'amount': 1772},\n",
       "  {'transaction-id': 3531, 'amount': 1795},\n",
       "  {'transaction-id': 3653, 'amount': 1713},\n",
       "  {'transaction-id': 3810, 'amount': 1785},\n",
       "  {'transaction-id': 3889, 'amount': 1783},\n",
       "  {'transaction-id': 4130, 'amount': 1766},\n",
       "  {'transaction-id': 4251, 'amount': 1676},\n",
       "  {'transaction-id': 4364, 'amount': 1847},\n",
       "  {'transaction-id': 4625, 'amount': 1728},\n",
       "  {'transaction-id': 4674, 'amount': 1611},\n",
       "  {'transaction-id': 4681, 'amount': 1953},\n",
       "  {'transaction-id': 4771, 'amount': 1731},\n",
       "  {'transaction-id': 4976, 'amount': 1726},\n",
       "  {'transaction-id': 5136, 'amount': 1579},\n",
       "  {'transaction-id': 5146, 'amount': 1900},\n",
       "  {'transaction-id': 5148, 'amount': 1691},\n",
       "  {'transaction-id': 5433, 'amount': 1685},\n",
       "  {'transaction-id': 5521, 'amount': 1687},\n",
       "  {'transaction-id': 5728, 'amount': 1800},\n",
       "  {'transaction-id': 5915, 'amount': 1525},\n",
       "  {'transaction-id': 5920, 'amount': 1688},\n",
       "  {'transaction-id': 5965, 'amount': 1696},\n",
       "  {'transaction-id': 6001, 'amount': 1782},\n",
       "  {'transaction-id': 6324, 'amount': 1634},\n",
       "  {'transaction-id': 6889, 'amount': 1589},\n",
       "  {'transaction-id': 6955, 'amount': 1704},\n",
       "  {'transaction-id': 6972, 'amount': 1589},\n",
       "  {'transaction-id': 7349, 'amount': 1822},\n",
       "  {'transaction-id': 8002, 'amount': 1777},\n",
       "  {'transaction-id': 8044, 'amount': 1818},\n",
       "  {'transaction-id': 8122, 'amount': 1883},\n",
       "  {'transaction-id': 8150, 'amount': 1877},\n",
       "  {'transaction-id': 8592, 'amount': 1849},\n",
       "  {'transaction-id': 8750, 'amount': 1892},\n",
       "  {'transaction-id': 8779, 'amount': 1960},\n",
       "  {'transaction-id': 8826, 'amount': 1915},\n",
       "  {'transaction-id': 9129, 'amount': 1704},\n",
       "  {'transaction-id': 9196, 'amount': 1901},\n",
       "  {'transaction-id': 9351, 'amount': 1628},\n",
       "  {'transaction-id': 9489, 'amount': 1801},\n",
       "  {'transaction-id': 9537, 'amount': 1805},\n",
       "  {'transaction-id': 9599, 'amount': 1801},\n",
       "  {'transaction-id': 9626, 'amount': 1824},\n",
       "  {'transaction-id': 9679, 'amount': 1684},\n",
       "  {'transaction-id': 9862, 'amount': 1624},\n",
       "  {'transaction-id': 9952, 'amount': 1819}])"
      ]
     },
     "execution_count": 1,
     "metadata": {},
     "output_type": "execute_result"
    }
   ],
   "source": [
    "js.filter(lambda record: record['name'] == 'Alice').pluck('transactions').take(3)"
   ]
  },
  {
   "cell_type": "code",
   "execution_count": 16,
   "metadata": {
    "execution": {
     "iopub.execute_input": "2020-10-27T21:20:13.822387Z",
     "iopub.status.busy": "2020-10-27T21:20:13.819386Z",
     "iopub.status.idle": "2020-10-27T21:20:13.840599Z",
     "shell.execute_reply": "2020-10-27T21:20:13.840172Z"
    }
   },
   "outputs": [
    {
     "data": {
      "text/plain": [
       "({'transaction-id': 1, 'amount': 7123},\n",
       " {'transaction-id': 54, 'amount': 7361},\n",
       " {'transaction-id': 153, 'amount': 7007})"
      ]
     },
     "execution_count": 1,
     "metadata": {},
     "output_type": "execute_result"
    }
   ],
   "source": [
    "(js.filter(lambda record: record['name'] == 'Alice')\n",
    "   .pluck('transactions')\n",
    "   .flatten()\n",
    "   .take(3))"
   ]
  },
  {
   "cell_type": "code",
   "execution_count": 17,
   "metadata": {
    "execution": {
     "iopub.execute_input": "2020-10-27T21:20:13.846341Z",
     "iopub.status.busy": "2020-10-27T21:20:13.845628Z",
     "iopub.status.idle": "2020-10-27T21:20:13.863653Z",
     "shell.execute_reply": "2020-10-27T21:20:13.864415Z"
    }
   },
   "outputs": [
    {
     "data": {
      "text/plain": [
       "(7123, 7361, 7007)"
      ]
     },
     "execution_count": 1,
     "metadata": {},
     "output_type": "execute_result"
    }
   ],
   "source": [
    "(js.filter(lambda record: record['name'] == 'Alice')\n",
    "   .pluck('transactions')\n",
    "   .flatten()\n",
    "   .pluck('amount')\n",
    "   .take(3))"
   ]
  },
  {
   "cell_type": "code",
   "execution_count": 18,
   "metadata": {
    "execution": {
     "iopub.execute_input": "2020-10-27T21:20:13.878909Z",
     "iopub.status.busy": "2020-10-27T21:20:13.878458Z",
     "iopub.status.idle": "2020-10-27T21:20:14.427408Z",
     "shell.execute_reply": "2020-10-27T21:20:14.428048Z"
    }
   },
   "outputs": [
    {
     "data": {
      "text/plain": [
       "1839.6960005046683"
      ]
     },
     "execution_count": 1,
     "metadata": {},
     "output_type": "execute_result"
    }
   ],
   "source": [
    "(js.filter(lambda record: record['name'] == 'Alice')\n",
    "   .pluck('transactions')\n",
    "   .flatten()\n",
    "   .pluck('amount')\n",
    "   .mean()\n",
    "   .compute())"
   ]
  },
  {
   "cell_type": "markdown",
   "metadata": {},
   "source": [
    "### Groupby and Foldby"
   ]
  },
  {
   "cell_type": "markdown",
   "metadata": {},
   "source": [
    "Often we want to group data by some function or key.  We can do this either with the `.groupby` method, which is straightforward but forces a full shuffle of the data (expensive) or with the harder-to-use but faster `.foldby` method, which does a streaming combined groupby and reduction.\n",
    "\n",
    "*  `groupby`:  Shuffles data so that all items with the same key are in the same key-value pair\n",
    "*  `foldby`:  Walks through the data accumulating a result per key\n",
    "\n",
    "*Note: the full groupby is particularly bad. In actual workloads you would do well to use `foldby` or switch to `DataFrame`s if possible.*"
   ]
  },
  {
   "cell_type": "markdown",
   "metadata": {},
   "source": [
    "### `groupby`"
   ]
  },
  {
   "cell_type": "markdown",
   "metadata": {},
   "source": [
    "Groupby collects items in your collection so that all items with the same value under some function are collected together into a key-value pair."
   ]
  },
  {
   "cell_type": "code",
   "execution_count": 19,
   "metadata": {
    "execution": {
     "iopub.execute_input": "2020-10-27T21:20:14.432337Z",
     "iopub.status.busy": "2020-10-27T21:20:14.431658Z",
     "iopub.status.idle": "2020-10-27T21:20:14.534671Z",
     "shell.execute_reply": "2020-10-27T21:20:14.533997Z"
    }
   },
   "outputs": [
    {
     "data": {
      "text/plain": [
       "[(7, ['Charlie']), (3, ['Bob', 'Dan']), (5, ['Alice', 'Edith', 'Frank'])]"
      ]
     },
     "execution_count": 1,
     "metadata": {},
     "output_type": "execute_result"
    }
   ],
   "source": [
    "b = db.from_sequence(['Alice', 'Bob', 'Charlie', 'Dan', 'Edith', 'Frank'])\n",
    "b.groupby(len).compute()  # names grouped by length"
   ]
  },
  {
   "cell_type": "code",
   "execution_count": 20,
   "metadata": {
    "execution": {
     "iopub.execute_input": "2020-10-27T21:20:14.538199Z",
     "iopub.status.busy": "2020-10-27T21:20:14.537522Z",
     "iopub.status.idle": "2020-10-27T21:20:14.711848Z",
     "shell.execute_reply": "2020-10-27T21:20:14.712224Z"
    }
   },
   "outputs": [
    {
     "data": {
      "text/plain": [
       "[(0, [0, 2, 4, 6, 8]), (1, [1, 3, 5, 7, 9])]"
      ]
     },
     "execution_count": 1,
     "metadata": {},
     "output_type": "execute_result"
    }
   ],
   "source": [
    "b = db.from_sequence(list(range(10)))\n",
    "b.groupby(lambda x: x % 2).compute()"
   ]
  },
  {
   "cell_type": "code",
   "execution_count": 21,
   "metadata": {
    "execution": {
     "iopub.execute_input": "2020-10-27T21:20:14.728335Z",
     "iopub.status.busy": "2020-10-27T21:20:14.722204Z",
     "iopub.status.idle": "2020-10-27T21:20:14.906227Z",
     "shell.execute_reply": "2020-10-27T21:20:14.906707Z"
    }
   },
   "outputs": [
    {
     "data": {
      "text/plain": [
       "[(0, 8), (1, 9)]"
      ]
     },
     "execution_count": 1,
     "metadata": {},
     "output_type": "execute_result"
    }
   ],
   "source": [
    "b.groupby(lambda x: x % 2).starmap(lambda k, v: (k, max(v))).compute()"
   ]
  },
  {
   "cell_type": "markdown",
   "metadata": {},
   "source": [
    "### `foldby`"
   ]
  },
  {
   "cell_type": "markdown",
   "metadata": {},
   "source": [
    "Foldby can be quite odd at first.  It is similar to the following functions from other libraries:\n",
    "\n",
    "*  [`toolz.reduceby`](http://toolz.readthedocs.io/en/latest/streaming-analytics.html#streaming-split-apply-combine)\n",
    "*  [`pyspark.RDD.combineByKey`](http://abshinn.github.io/python/apache-spark/2014/10/11/using-combinebykey-in-apache-spark/)\n",
    "\n",
    "When using `foldby` you provide \n",
    "\n",
    "1.  A key function on which to group elements\n",
    "2.  A binary operator such as you would pass to `reduce` that you use to perform reduction per each group\n",
    "3.  A combine binary operator that can combine the results of two `reduce` calls on different parts of your dataset.\n",
    "\n",
    "Your reduction must be associative.  It will happen in parallel in each of the partitions of your dataset.  Then all of these intermediate results will be combined by the `combine` binary operator."
   ]
  },
  {
   "cell_type": "code",
   "execution_count": 22,
   "metadata": {
    "execution": {
     "iopub.execute_input": "2020-10-27T21:20:14.916173Z",
     "iopub.status.busy": "2020-10-27T21:20:14.915516Z",
     "iopub.status.idle": "2020-10-27T21:20:14.964488Z",
     "shell.execute_reply": "2020-10-27T21:20:14.965076Z"
    }
   },
   "outputs": [
    {
     "data": {
      "text/plain": [
       "[(0, 8), (1, 9)]"
      ]
     },
     "execution_count": 1,
     "metadata": {},
     "output_type": "execute_result"
    }
   ],
   "source": [
    "is_even = lambda x: x % 2\n",
    "b.foldby(is_even, binop=max, combine=max).compute()"
   ]
  },
  {
   "cell_type": "markdown",
   "metadata": {},
   "source": [
    "### Example with account data"
   ]
  },
  {
   "cell_type": "markdown",
   "metadata": {},
   "source": [
    "We find the number of people with the same name."
   ]
  },
  {
   "cell_type": "code",
   "execution_count": 23,
   "metadata": {
    "execution": {
     "iopub.execute_input": "2020-10-27T21:20:14.987956Z",
     "iopub.status.busy": "2020-10-27T21:20:14.987108Z",
     "iopub.status.idle": "2020-10-27T21:20:23.631538Z",
     "shell.execute_reply": "2020-10-27T21:20:23.630895Z"
    }
   },
   "outputs": [
    {
     "name": "stdout",
     "output_type": "stream",
     "text": [
      "[('Alice', 174), ('Alice', 177), ('Alice', 373), ('Bob', 120), ('Bob', 120), ('Bob', 130), ('Bob', 130), ('Charlie', 117), ('Charlie', 118), ('Charlie', 124), ('Charlie', 129), ('Dan', 83), ('Dan', 83), ('Dan', 89), ('Dan', 90), ('Edith', 166), ('Edith', 166), ('Edith', 180), ('Edith', 181), ('Frank', 131), ('Frank', 132), ('Frank', 141), ('Frank', 143), ('George', 107), ('George', 108), ('George', 115), ('George', 116), ('Hannah', 57), ('Hannah', 59), ('Hannah', 61), ('Hannah', 64), ('Ingrid', 112), ('Ingrid', 118), ('Ingrid', 120), ('Ingrid', 124), ('Jerry', 98), ('Jerry', 98), ('Jerry', 109), ('Jerry', 113), ('Kevin', 182), ('Kevin', 186), ('Kevin', 198), ('Kevin', 204), ('Laura', 66), ('Laura', 72), ('Laura', 75), ('Laura', 76), ('Michael', 120), ('Michael', 120), ('Michael', 130), ('Michael', 130), ('Norbert', 131), ('Norbert', 132), ('Norbert', 143), ('Norbert', 143), ('Oliver', 108), ('Oliver', 108), ('Oliver', 117), ('Oliver', 117), ('Patricia', 105), ('Patricia', 106), ('Patricia', 113), ('Patricia', 114), ('Quinn', 76), ('Quinn', 82), ('Quinn', 84), ('Quinn', 86), ('Ray', 113), ('Ray', 116), ('Ray', 121), ('Ray', 126), ('Sarah', 120), ('Sarah', 120), ('Sarah', 130), ('Sarah', 130), ('Tim', 124), ('Tim', 124), ('Tim', 236), ('Ursula', 58), ('Ursula', 59), ('Ursula', 63), ('Ursula', 64), ('Victor', 93), ('Victor', 95), ('Victor', 100), ('Victor', 103), ('Wendy', 75), ('Wendy', 76), ('Wendy', 81), ('Wendy', 81), ('Xavier', 81), ('Xavier', 82), ('Xavier', 86), ('Xavier', 90), ('Yvonne', 164), ('Yvonne', 168), ('Yvonne', 177), ('Yvonne', 179), ('Zelda', 117), ('Zelda', 119), ('Zelda', 128), ('Zelda', 129)]\n",
      "CPU times: user 1.63 s, sys: 119 ms, total: 1.75 s\n",
      "Wall time: 8.66 s\n"
     ]
    }
   ],
   "source": [
    "%%time\n",
    "# Warning, this one takes a while...\n",
    "result = js.groupby(lambda item: item['name']).starmap(lambda k, v: (k, len(v))).compute()\n",
    "print(sorted(result))"
   ]
  },
  {
   "cell_type": "code",
   "execution_count": 24,
   "metadata": {
    "execution": {
     "iopub.execute_input": "2020-10-27T21:20:23.643013Z",
     "iopub.status.busy": "2020-10-27T21:20:23.642105Z",
     "iopub.status.idle": "2020-10-27T21:20:24.265916Z",
     "shell.execute_reply": "2020-10-27T21:20:24.265187Z"
    }
   },
   "outputs": [
    {
     "name": "stdout",
     "output_type": "stream",
     "text": [
      "[('Alice', 724), ('Bob', 500), ('Charlie', 488), ('Dan', 345), ('Edith', 693), ('Frank', 547), ('George', 446), ('Hannah', 241), ('Ingrid', 474), ('Jerry', 418), ('Kevin', 770), ('Laura', 289), ('Michael', 500), ('Norbert', 549), ('Oliver', 450), ('Patricia', 438), ('Quinn', 328), ('Ray', 476), ('Sarah', 500), ('Tim', 484), ('Ursula', 244), ('Victor', 391), ('Wendy', 313), ('Xavier', 339), ('Yvonne', 688), ('Zelda', 493)]\n",
      "CPU times: user 158 ms, sys: 11.9 ms, total: 169 ms\n",
      "Wall time: 625 ms\n"
     ]
    }
   ],
   "source": [
    "%%time\n",
    "# This one is comparatively fast and produces the same result.\n",
    "from operator import add\n",
    "def incr(tot, _):\n",
    "    return tot+1\n",
    "\n",
    "result = js.foldby(key='name', \n",
    "                   binop=incr, \n",
    "                   initial=0, \n",
    "                   combine=add, \n",
    "                   combine_initial=0).compute()\n",
    "print(sorted(result))"
   ]
  },
  {
   "cell_type": "markdown",
   "metadata": {},
   "source": [
    "### Exercise: compute total amount per name"
   ]
  },
  {
   "cell_type": "markdown",
   "metadata": {},
   "source": [
    "We want to groupby (or foldby) the `name` key, then add up the all of the amounts for each name.\n",
    "\n",
    "Steps\n",
    "\n",
    "1.  Create a small function that, given a dictionary like \n",
    "\n",
    "        {'name': 'Alice', 'transactions': [{'amount': 1, 'id': 123}, {'amount': 2, 'id': 456}]}\n",
    "        \n",
    "    produces the sum of the amounts, e.g. `3`\n",
    "    \n",
    "2.  Slightly change the binary operator of the `foldby` example above so that the binary operator doesn't count the number of entries, but instead accumulates the sum of the amounts."
   ]
  },
  {
   "cell_type": "code",
   "execution_count": 25,
   "metadata": {
    "execution": {
     "iopub.execute_input": "2020-10-27T21:20:24.269848Z",
     "iopub.status.busy": "2020-10-27T21:20:24.268964Z",
     "iopub.status.idle": "2020-10-27T21:20:24.271538Z",
     "shell.execute_reply": "2020-10-27T21:20:24.271051Z"
    }
   },
   "outputs": [],
   "source": [
    "# Your code here..."
   ]
  },
  {
   "cell_type": "markdown",
   "metadata": {},
   "source": [
    "## DataFrames"
   ]
  },
  {
   "cell_type": "markdown",
   "metadata": {},
   "source": [
    "For the same reasons that Pandas is often faster than pure Python, `dask.dataframe` can be faster than `dask.bag`.  We will work more with DataFrames later, but from for the bag point of view, they are frequently the end-point of the \"messy\" part of data ingestion—once the data can be made into a data-frame, then complex split-apply-combine logic will become much more straight-forward and efficient.\n",
    "\n",
    "You can transform a bag with a simple tuple or flat dictionary structure into a `dask.dataframe` with the `to_dataframe` method."
   ]
  },
  {
   "cell_type": "code",
   "execution_count": 26,
   "metadata": {
    "execution": {
     "iopub.execute_input": "2020-10-27T21:20:24.275109Z",
     "iopub.status.busy": "2020-10-27T21:20:24.274494Z",
     "iopub.status.idle": "2020-10-27T21:20:24.866190Z",
     "shell.execute_reply": "2020-10-27T21:20:24.865697Z"
    }
   },
   "outputs": [
    {
     "data": {
      "text/html": [
       "<div>\n",
       "<style scoped>\n",
       "    .dataframe tbody tr th:only-of-type {\n",
       "        vertical-align: middle;\n",
       "    }\n",
       "\n",
       "    .dataframe tbody tr th {\n",
       "        vertical-align: top;\n",
       "    }\n",
       "\n",
       "    .dataframe thead th {\n",
       "        text-align: right;\n",
       "    }\n",
       "</style>\n",
       "<table border=\"1\" class=\"dataframe\">\n",
       "  <thead>\n",
       "    <tr style=\"text-align: right;\">\n",
       "      <th></th>\n",
       "      <th>id</th>\n",
       "      <th>name</th>\n",
       "      <th>transactions</th>\n",
       "    </tr>\n",
       "  </thead>\n",
       "  <tbody>\n",
       "    <tr>\n",
       "      <th>0</th>\n",
       "      <td>0</td>\n",
       "      <td>Alice</td>\n",
       "      <td>[{'transaction-id': 1, 'amount': 7123}, {'tran...</td>\n",
       "    </tr>\n",
       "    <tr>\n",
       "      <th>1</th>\n",
       "      <td>1</td>\n",
       "      <td>Xavier</td>\n",
       "      <td>[{'transaction-id': 7888, 'amount': 1172}, {'t...</td>\n",
       "    </tr>\n",
       "    <tr>\n",
       "      <th>2</th>\n",
       "      <td>2</td>\n",
       "      <td>Alice</td>\n",
       "      <td>[{'transaction-id': 4583, 'amount': 2528}]</td>\n",
       "    </tr>\n",
       "    <tr>\n",
       "      <th>3</th>\n",
       "      <td>3</td>\n",
       "      <td>Yvonne</td>\n",
       "      <td>[{'transaction-id': 366, 'amount': 1982}, {'tr...</td>\n",
       "    </tr>\n",
       "    <tr>\n",
       "      <th>4</th>\n",
       "      <td>4</td>\n",
       "      <td>Kevin</td>\n",
       "      <td>[{'transaction-id': 544, 'amount': 518}, {'tra...</td>\n",
       "    </tr>\n",
       "  </tbody>\n",
       "</table>\n",
       "</div>"
      ],
      "text/plain": [
       "   id    name                                       transactions\n",
       "0   0   Alice  [{'transaction-id': 1, 'amount': 7123}, {'tran...\n",
       "1   1  Xavier  [{'transaction-id': 7888, 'amount': 1172}, {'t...\n",
       "2   2   Alice         [{'transaction-id': 4583, 'amount': 2528}]\n",
       "3   3  Yvonne  [{'transaction-id': 366, 'amount': 1982}, {'tr...\n",
       "4   4   Kevin  [{'transaction-id': 544, 'amount': 518}, {'tra..."
      ]
     },
     "execution_count": 1,
     "metadata": {},
     "output_type": "execute_result"
    }
   ],
   "source": [
    "df1 = js.to_dataframe()\n",
    "df1.head()"
   ]
  },
  {
   "cell_type": "markdown",
   "metadata": {},
   "source": [
    "This now looks like a well-defined DataFrame, and we can apply Pandas-like computations to it efficiently."
   ]
  },
  {
   "cell_type": "markdown",
   "metadata": {},
   "source": [
    "Using a Dask DataFrame, how long does it take to do our prior computation of numbers of people with the same name?  It turns out that `dask.dataframe.groupby()` beats `dask.bag.groupby()` more than an order of magnitude; but it still cannot match `dask.bag.foldby()` for this case."
   ]
  },
  {
   "cell_type": "code",
   "execution_count": 27,
   "metadata": {
    "execution": {
     "iopub.execute_input": "2020-10-27T21:20:24.874772Z",
     "iopub.status.busy": "2020-10-27T21:20:24.874138Z",
     "iopub.status.idle": "2020-10-27T21:20:26.662820Z",
     "shell.execute_reply": "2020-10-27T21:20:26.662426Z"
    }
   },
   "outputs": [
    {
     "name": "stdout",
     "output_type": "stream",
     "text": [
      "CPU times: user 198 ms, sys: 32.6 ms, total: 231 ms\n",
      "Wall time: 1.78 s\n"
     ]
    },
    {
     "data": {
      "text/plain": [
       "name\n",
       "Alice      724\n",
       "Bob        500\n",
       "Charlie    488\n",
       "Dan        345\n",
       "Edith      693\n",
       "Name: id, dtype: int64"
      ]
     },
     "execution_count": 1,
     "metadata": {},
     "output_type": "execute_result"
    }
   ],
   "source": [
    "%time df1.groupby('name').id.count().compute().head()"
   ]
  },
  {
   "cell_type": "markdown",
   "metadata": {},
   "source": [
    "### Denormalization"
   ]
  },
  {
   "cell_type": "markdown",
   "metadata": {},
   "source": [
    "This DataFrame format is less-than-optimal because the `transactions` column is filled with nested data so Pandas has to revert to `object` dtype, which is quite slow in Pandas.  Ideally we want to transform to a dataframe only after we have flattened our data so that each record is a single `int`, `string`, `float`, etc.."
   ]
  },
  {
   "cell_type": "code",
   "execution_count": 28,
   "metadata": {
    "execution": {
     "iopub.execute_input": "2020-10-27T21:20:26.669371Z",
     "iopub.status.busy": "2020-10-27T21:20:26.668651Z",
     "iopub.status.idle": "2020-10-27T21:20:26.686556Z",
     "shell.execute_reply": "2020-10-27T21:20:26.687105Z"
    }
   },
   "outputs": [
    {
     "data": {
      "text/plain": [
       "({'id': 0, 'name': 'Alice', 'amount': 7123, 'transaction-id': 1},\n",
       " {'id': 0, 'name': 'Alice', 'amount': 7361, 'transaction-id': 54},\n",
       " {'id': 0, 'name': 'Alice', 'amount': 7007, 'transaction-id': 153})"
      ]
     },
     "execution_count": 1,
     "metadata": {},
     "output_type": "execute_result"
    }
   ],
   "source": [
    "def denormalize(record):\n",
    "    # returns a list for every nested item, each transaction of each person\n",
    "    return [{'id': record['id'], \n",
    "             'name': record['name'], \n",
    "             'amount': transaction['amount'], \n",
    "             'transaction-id': transaction['transaction-id']}\n",
    "            for transaction in record['transactions']]\n",
    "\n",
    "transactions = js.map(denormalize).flatten()\n",
    "transactions.take(3)"
   ]
  },
  {
   "cell_type": "code",
   "execution_count": 29,
   "metadata": {
    "execution": {
     "iopub.execute_input": "2020-10-27T21:20:26.693141Z",
     "iopub.status.busy": "2020-10-27T21:20:26.692245Z",
     "iopub.status.idle": "2020-10-27T21:20:26.765527Z",
     "shell.execute_reply": "2020-10-27T21:20:26.766241Z"
    }
   },
   "outputs": [
    {
     "data": {
      "text/html": [
       "<div>\n",
       "<style scoped>\n",
       "    .dataframe tbody tr th:only-of-type {\n",
       "        vertical-align: middle;\n",
       "    }\n",
       "\n",
       "    .dataframe tbody tr th {\n",
       "        vertical-align: top;\n",
       "    }\n",
       "\n",
       "    .dataframe thead th {\n",
       "        text-align: right;\n",
       "    }\n",
       "</style>\n",
       "<table border=\"1\" class=\"dataframe\">\n",
       "  <thead>\n",
       "    <tr style=\"text-align: right;\">\n",
       "      <th></th>\n",
       "      <th>id</th>\n",
       "      <th>name</th>\n",
       "      <th>amount</th>\n",
       "      <th>transaction-id</th>\n",
       "    </tr>\n",
       "  </thead>\n",
       "  <tbody>\n",
       "    <tr>\n",
       "      <th>0</th>\n",
       "      <td>0</td>\n",
       "      <td>Alice</td>\n",
       "      <td>7123</td>\n",
       "      <td>1</td>\n",
       "    </tr>\n",
       "    <tr>\n",
       "      <th>1</th>\n",
       "      <td>0</td>\n",
       "      <td>Alice</td>\n",
       "      <td>7361</td>\n",
       "      <td>54</td>\n",
       "    </tr>\n",
       "    <tr>\n",
       "      <th>2</th>\n",
       "      <td>0</td>\n",
       "      <td>Alice</td>\n",
       "      <td>7007</td>\n",
       "      <td>153</td>\n",
       "    </tr>\n",
       "    <tr>\n",
       "      <th>3</th>\n",
       "      <td>0</td>\n",
       "      <td>Alice</td>\n",
       "      <td>7192</td>\n",
       "      <td>271</td>\n",
       "    </tr>\n",
       "    <tr>\n",
       "      <th>4</th>\n",
       "      <td>0</td>\n",
       "      <td>Alice</td>\n",
       "      <td>7241</td>\n",
       "      <td>423</td>\n",
       "    </tr>\n",
       "  </tbody>\n",
       "</table>\n",
       "</div>"
      ],
      "text/plain": [
       "   id   name  amount  transaction-id\n",
       "0   0  Alice    7123               1\n",
       "1   0  Alice    7361              54\n",
       "2   0  Alice    7007             153\n",
       "3   0  Alice    7192             271\n",
       "4   0  Alice    7241             423"
      ]
     },
     "execution_count": 1,
     "metadata": {},
     "output_type": "execute_result"
    }
   ],
   "source": [
    "df = transactions.to_dataframe()\n",
    "df.head()"
   ]
  },
  {
   "cell_type": "code",
   "execution_count": 30,
   "metadata": {
    "execution": {
     "iopub.execute_input": "2020-10-27T21:20:26.782873Z",
     "iopub.status.busy": "2020-10-27T21:20:26.782194Z",
     "iopub.status.idle": "2020-10-27T21:20:28.237657Z",
     "shell.execute_reply": "2020-10-27T21:20:28.238124Z"
    }
   },
   "outputs": [
    {
     "name": "stdout",
     "output_type": "stream",
     "text": [
      "CPU times: user 192 ms, sys: 22.2 ms, total: 214 ms\n",
      "Wall time: 1.46 s\n"
     ]
    },
    {
     "data": {
      "text/plain": [
       "name\n",
       "Alice       31704\n",
       "Bob         26088\n",
       "Charlie     26862\n",
       "Dan         13881\n",
       "Edith       19390\n",
       "Frank       17337\n",
       "George      17181\n",
       "Hannah       3595\n",
       "Ingrid      17293\n",
       "Jerry       11541\n",
       "Kevin       33192\n",
       "Laura       16341\n",
       "Michael     25756\n",
       "Norbert     22099\n",
       "Oliver      23322\n",
       "Patricia    25221\n",
       "Quinn        8797\n",
       "Ray         13918\n",
       "Sarah       31044\n",
       "Tim         28002\n",
       "Ursula       5249\n",
       "Victor      23326\n",
       "Wendy        5361\n",
       "Xavier      13068\n",
       "Yvonne      26016\n",
       "Zelda       14416\n",
       "Name: transaction-id, dtype: int64"
      ]
     },
     "execution_count": 1,
     "metadata": {},
     "output_type": "execute_result"
    }
   ],
   "source": [
    "%%time\n",
    "# number of transactions per name\n",
    "# note that the time here includes the data load and ingestion\n",
    "df.groupby('name')['transaction-id'].count().compute()"
   ]
  },
  {
   "cell_type": "markdown",
   "metadata": {},
   "source": [
    "## Limitations"
   ]
  },
  {
   "cell_type": "markdown",
   "metadata": {},
   "source": [
    "Bags provide very general computation (any Python function.)  This generality\n",
    "comes at cost.  Bags have the following known limitations\n",
    "\n",
    "1.  Bag operations tend to be slower than array/dataframe computations in the\n",
    "    same way that Python tends to be slower than NumPy/Pandas\n",
    "2.  ``Bag.groupby`` is slow.  You should try to use ``Bag.foldby`` if possible.\n",
    "    Using ``Bag.foldby`` requires more thought. Even better, consider creating\n",
    "    a normalised dataframe."
   ]
  },
  {
   "cell_type": "markdown",
   "metadata": {},
   "source": [
    "## Learn More\n",
    "\n",
    "* [Bag documentation](https://docs.dask.org/en/latest/bag.html)\n",
    "* [Bag screencast](https://youtu.be/-qIiJ1XtSv0)\n",
    "* [Bag API](https://docs.dask.org/en/latest/bag-api.html)\n",
    "* [Bag examples](https://examples.dask.org/bag.html)"
   ]
  },
  {
   "cell_type": "markdown",
   "metadata": {},
   "source": [
    "## Shutdown"
   ]
  },
  {
   "cell_type": "code",
   "execution_count": 31,
   "metadata": {
    "execution": {
     "iopub.execute_input": "2020-10-27T21:20:28.242508Z",
     "iopub.status.busy": "2020-10-27T21:20:28.240598Z",
     "iopub.status.idle": "2020-10-27T21:20:29.819697Z",
     "shell.execute_reply": "2020-10-27T21:20:29.819281Z"
    }
   },
   "outputs": [],
   "source": [
    "client.shutdown()"
   ]
  }
 ],
 "metadata": {
  "anaconda-cloud": {},
  "kernelspec": {
   "display_name": "Python 3",
   "language": "python",
   "name": "python3"
  },
  "language_info": {
   "codemirror_mode": {
    "name": "ipython",
    "version": 3
   },
   "file_extension": ".py",
   "mimetype": "text/x-python",
   "name": "python",
   "nbconvert_exporter": "python",
   "pygments_lexer": "ipython3",
   "version": "3.8.6"
  }
 },
 "nbformat": 4,
 "nbformat_minor": 4
}
