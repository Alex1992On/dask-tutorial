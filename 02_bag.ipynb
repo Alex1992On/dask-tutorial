{
 "cells": [
  {
   "cell_type": "markdown",
   "metadata": {},
   "source": [
    "<img src=\"images/dask_horizontal.svg\" align=\"right\" width=\"30%\">"
   ]
  },
  {
   "cell_type": "markdown",
   "metadata": {},
   "source": [
    "# Bag: Parallel Lists for semi-structured data"
   ]
  },
  {
   "cell_type": "markdown",
   "metadata": {},
   "source": [
    "Dask-bag excels in processing data that can be represented as a sequence of arbitrary inputs. We'll refer to this as \"messy\" data, because it can contain complex nested structures, missing fields, mixtures of data types, etc. The *functional* programming style fits very nicely with standard Python iteration, such as can be found in the `itertools` module.\n",
    "\n",
    "Messy data is often encountered at the beginning of data processing pipelines when large volumes of raw data are first consumed. The initial set of data might be JSON, CSV, XML, or any other format that does not enforce strict structure and datatypes.\n",
    "For this reason, the initial data massaging and processing is often done with Python `list`s, `dict`s, and `set`s.\n",
    "\n",
    "These core data structures are optimized for general-purpose storage and processing.  Adding streaming computation with iterators/generator expressions or libraries like `itertools` or [`toolz`](https://toolz.readthedocs.io/en/latest/) let us process large volumes in a small space.  If we combine this with parallel processing then we can churn through a fair amount of data.\n",
    "\n",
    "Dask.bag is a high level Dask collection to automate common workloads of this form.  In a nutshell\n",
    "\n",
    "    dask.bag = map, filter, toolz + parallel execution\n",
    "    \n",
    "**Related Documentation**\n",
    "\n",
    "* [Bag documentation](https://docs.dask.org/en/latest/bag.html)\n",
    "* [Bag screencast](https://youtu.be/-qIiJ1XtSv0)\n",
    "* [Bag API](https://docs.dask.org/en/latest/bag-api.html)\n",
    "* [Bag examples](https://examples.dask.org/bag.html)"
   ]
  },
  {
   "cell_type": "markdown",
   "metadata": {},
   "source": [
    "## Create data"
   ]
  },
  {
   "cell_type": "code",
   "execution_count": 1,
   "metadata": {},
   "outputs": [],
   "source": [
    "%run prep.py -d accounts"
   ]
  },
  {
   "cell_type": "markdown",
   "metadata": {},
   "source": [
    "## Setup"
   ]
  },
  {
   "cell_type": "markdown",
   "metadata": {},
   "source": [
    "Again, we'll use the distributed scheduler. Schedulers will be explained in depth [later](05_distributed.ipynb)."
   ]
  },
  {
   "cell_type": "code",
   "execution_count": 2,
   "metadata": {},
   "outputs": [],
   "source": [
    "from dask.distributed import Client\n",
    "\n",
    "client = Client(n_workers=4)"
   ]
  },
  {
   "cell_type": "markdown",
   "metadata": {},
   "source": [
    "## Creation"
   ]
  },
  {
   "cell_type": "markdown",
   "metadata": {},
   "source": [
    "You can create a `Bag` from a Python sequence, from files, from data on S3, etc.\n",
    "We demonstrate using `.take()` to show elements of the data. (Doing `.take(1)` results in a tuple with one element)\n",
    "\n",
    "Note that the data are partitioned into blocks, and there are many items per block. In the first example, the two partitions contain five elements each, and in the following two, each file is partitioned into one or more bytes blocks."
   ]
  },
  {
   "cell_type": "code",
   "execution_count": 3,
   "metadata": {},
   "outputs": [
    {
     "data": {
      "text/plain": [
       "(1, 2, 3)"
      ]
     },
     "execution_count": 3,
     "metadata": {},
     "output_type": "execute_result"
    }
   ],
   "source": [
    "# each element is an integer\n",
    "import dask.bag as db\n",
    "b = db.from_sequence([1, 2, 3, 4, 5, 6, 7, 8, 9, 10], npartitions=2)\n",
    "b.take(3)"
   ]
  },
  {
   "cell_type": "code",
   "execution_count": 4,
   "metadata": {},
   "outputs": [
    {
     "data": {
      "text/plain": [
       "('{\"id\": 0, \"name\": \"Victor\", \"transactions\": [{\"transaction-id\": 263, \"amount\": 8733}, {\"transaction-id\": 357, \"amount\": 8576}, {\"transaction-id\": 456, \"amount\": 9339}, {\"transaction-id\": 591, \"amount\": 8432}, {\"transaction-id\": 661, \"amount\": 7560}, {\"transaction-id\": 756, \"amount\": 9293}, {\"transaction-id\": 808, \"amount\": 7848}, {\"transaction-id\": 859, \"amount\": 8172}, {\"transaction-id\": 940, \"amount\": 8280}, {\"transaction-id\": 1417, \"amount\": 8667}, {\"transaction-id\": 1566, \"amount\": 8641}, {\"transaction-id\": 1897, \"amount\": 8323}, {\"transaction-id\": 2114, \"amount\": 8322}, {\"transaction-id\": 2176, \"amount\": 8178}, {\"transaction-id\": 2197, \"amount\": 8725}, {\"transaction-id\": 2198, \"amount\": 9324}, {\"transaction-id\": 2389, \"amount\": 8350}, {\"transaction-id\": 2439, \"amount\": 9230}, {\"transaction-id\": 2510, \"amount\": 9154}, {\"transaction-id\": 2568, \"amount\": 7961}, {\"transaction-id\": 2665, \"amount\": 7982}, {\"transaction-id\": 2975, \"amount\": 8327}, {\"transaction-id\": 3200, \"amount\": 7895}, {\"transaction-id\": 3325, \"amount\": 8003}, {\"transaction-id\": 3352, \"amount\": 7714}, {\"transaction-id\": 3408, \"amount\": 8896}, {\"transaction-id\": 3506, \"amount\": 8423}, {\"transaction-id\": 3515, \"amount\": 8488}, {\"transaction-id\": 3656, \"amount\": 8591}, {\"transaction-id\": 3722, \"amount\": 8776}, {\"transaction-id\": 3845, \"amount\": 8147}, {\"transaction-id\": 4048, \"amount\": 8468}, {\"transaction-id\": 4064, \"amount\": 8292}, {\"transaction-id\": 4280, \"amount\": 8139}, {\"transaction-id\": 4485, \"amount\": 8537}, {\"transaction-id\": 5013, \"amount\": 8403}, {\"transaction-id\": 5043, \"amount\": 8484}, {\"transaction-id\": 5105, \"amount\": 8097}, {\"transaction-id\": 5310, \"amount\": 9248}, {\"transaction-id\": 5535, \"amount\": 9072}, {\"transaction-id\": 5590, \"amount\": 7870}, {\"transaction-id\": 5699, \"amount\": 8634}, {\"transaction-id\": 5859, \"amount\": 7376}, {\"transaction-id\": 6094, \"amount\": 8481}, {\"transaction-id\": 6296, \"amount\": 8998}, {\"transaction-id\": 6472, \"amount\": 8045}, {\"transaction-id\": 6512, \"amount\": 8383}, {\"transaction-id\": 6548, \"amount\": 8328}, {\"transaction-id\": 6553, \"amount\": 8731}, {\"transaction-id\": 6760, \"amount\": 8340}, {\"transaction-id\": 6978, \"amount\": 8591}, {\"transaction-id\": 7041, \"amount\": 7825}, {\"transaction-id\": 7222, \"amount\": 8699}, {\"transaction-id\": 7430, \"amount\": 8579}, {\"transaction-id\": 7433, \"amount\": 8241}, {\"transaction-id\": 7526, \"amount\": 7691}, {\"transaction-id\": 7877, \"amount\": 8578}, {\"transaction-id\": 7993, \"amount\": 7704}, {\"transaction-id\": 8344, \"amount\": 8482}, {\"transaction-id\": 8586, \"amount\": 8934}, {\"transaction-id\": 8625, \"amount\": 8151}, {\"transaction-id\": 8978, \"amount\": 7541}, {\"transaction-id\": 9100, \"amount\": 6976}, {\"transaction-id\": 9131, \"amount\": 8617}, {\"transaction-id\": 9183, \"amount\": 8458}, {\"transaction-id\": 9355, \"amount\": 8586}, {\"transaction-id\": 9432, \"amount\": 7647}, {\"transaction-id\": 9563, \"amount\": 8397}, {\"transaction-id\": 9588, \"amount\": 8299}, {\"transaction-id\": 9619, \"amount\": 8685}, {\"transaction-id\": 9913, \"amount\": 8037}]}\\n',)"
      ]
     },
     "execution_count": 4,
     "metadata": {},
     "output_type": "execute_result"
    }
   ],
   "source": [
    "# each element is a text file, where each line is a JSON object\n",
    "# note that the compression is handled automatically\n",
    "import os\n",
    "b = db.read_text(os.path.join('data', 'accounts.*.json.gz'))\n",
    "b.take(1)"
   ]
  },
  {
   "cell_type": "code",
   "execution_count": 5,
   "metadata": {},
   "outputs": [
    {
     "data": {
      "text/plain": [
       "'s3://dask-data/nyc-taxi/2015/yellow_tripdata_2015-01.csv'"
      ]
     },
     "execution_count": 5,
     "metadata": {},
     "output_type": "execute_result"
    }
   ],
   "source": [
    "# Edit sources.py to configure source locations\n",
    "import sources\n",
    "sources.bag_url"
   ]
  },
  {
   "cell_type": "code",
   "execution_count": 6,
   "metadata": {},
   "outputs": [
    {
     "data": {
      "text/plain": [
       "('VendorID,tpep_pickup_datetime,tpep_dropoff_datetime,passenger_count,trip_distance,pickup_longitude,pickup_latitude,RateCodeID,store_and_fwd_flag,dropoff_longitude,dropoff_latitude,payment_type,fare_amount,extra,mta_tax,tip_amount,tolls_amount,improvement_surcharge,total_amount\\n',)"
      ]
     },
     "execution_count": 6,
     "metadata": {},
     "output_type": "execute_result"
    }
   ],
   "source": [
    "# Requires `s3fs` library\n",
    "# each partition is a remote CSV text file\n",
    "b = db.read_text(sources.bag_url,\n",
    "                 storage_options={'anon': True})\n",
    "b.take(1)"
   ]
  },
  {
   "cell_type": "markdown",
   "metadata": {},
   "source": [
    "## Manipulation"
   ]
  },
  {
   "cell_type": "markdown",
   "metadata": {},
   "source": [
    "`Bag` objects hold the standard functional API found in projects like the Python standard library, `toolz`, or `pyspark`, including `map`, `filter`, `groupby`, etc..\n",
    "\n",
    "Operations on `Bag` objects create new bags.  Call the `.compute()` method to trigger execution, as we saw for `Delayed` objects.  "
   ]
  },
  {
   "cell_type": "code",
   "execution_count": 7,
   "metadata": {},
   "outputs": [
    {
     "data": {
      "text/plain": [
       "dask.bag<lambda, npartitions=10>"
      ]
     },
     "execution_count": 7,
     "metadata": {},
     "output_type": "execute_result"
    }
   ],
   "source": [
    "def is_even(n):\n",
    "    return n % 2 == 0\n",
    "\n",
    "b = db.from_sequence([1, 2, 3, 4, 5, 6, 7, 8, 9, 10])\n",
    "c = b.filter(is_even).map(lambda x: x ** 2)\n",
    "c"
   ]
  },
  {
   "cell_type": "code",
   "execution_count": 8,
   "metadata": {},
   "outputs": [
    {
     "data": {
      "text/plain": [
       "[4, 16, 36, 64, 100]"
      ]
     },
     "execution_count": 8,
     "metadata": {},
     "output_type": "execute_result"
    }
   ],
   "source": [
    "# blocking form: wait for completion (which is very fast in this case)\n",
    "c.compute()"
   ]
  },
  {
   "cell_type": "markdown",
   "metadata": {},
   "source": [
    "### Example: Accounts JSON data"
   ]
  },
  {
   "cell_type": "markdown",
   "metadata": {},
   "source": [
    "We've created a fake dataset of gzipped JSON data in your data directory.  This is like the example used in the `DataFrame` example we will see later, except that it has bundled up all of the entires for each individual `id` into a single record.  This is similar to data that you might collect off of a document store database or a web API.\n",
    "\n",
    "Each line is a JSON encoded dictionary with the following keys\n",
    "\n",
    "*  id: Unique identifier of the customer\n",
    "*  name: Name of the customer\n",
    "*  transactions: List of `transaction-id`, `amount` pairs, one for each transaction for the customer in that file"
   ]
  },
  {
   "cell_type": "code",
   "execution_count": 9,
   "metadata": {},
   "outputs": [
    {
     "data": {
      "text/plain": [
       "('{\"id\": 0, \"name\": \"Victor\", \"transactions\": [{\"transaction-id\": 263, \"amount\": 8733}, {\"transaction-id\": 357, \"amount\": 8576}, {\"transaction-id\": 456, \"amount\": 9339}, {\"transaction-id\": 591, \"amount\": 8432}, {\"transaction-id\": 661, \"amount\": 7560}, {\"transaction-id\": 756, \"amount\": 9293}, {\"transaction-id\": 808, \"amount\": 7848}, {\"transaction-id\": 859, \"amount\": 8172}, {\"transaction-id\": 940, \"amount\": 8280}, {\"transaction-id\": 1417, \"amount\": 8667}, {\"transaction-id\": 1566, \"amount\": 8641}, {\"transaction-id\": 1897, \"amount\": 8323}, {\"transaction-id\": 2114, \"amount\": 8322}, {\"transaction-id\": 2176, \"amount\": 8178}, {\"transaction-id\": 2197, \"amount\": 8725}, {\"transaction-id\": 2198, \"amount\": 9324}, {\"transaction-id\": 2389, \"amount\": 8350}, {\"transaction-id\": 2439, \"amount\": 9230}, {\"transaction-id\": 2510, \"amount\": 9154}, {\"transaction-id\": 2568, \"amount\": 7961}, {\"transaction-id\": 2665, \"amount\": 7982}, {\"transaction-id\": 2975, \"amount\": 8327}, {\"transaction-id\": 3200, \"amount\": 7895}, {\"transaction-id\": 3325, \"amount\": 8003}, {\"transaction-id\": 3352, \"amount\": 7714}, {\"transaction-id\": 3408, \"amount\": 8896}, {\"transaction-id\": 3506, \"amount\": 8423}, {\"transaction-id\": 3515, \"amount\": 8488}, {\"transaction-id\": 3656, \"amount\": 8591}, {\"transaction-id\": 3722, \"amount\": 8776}, {\"transaction-id\": 3845, \"amount\": 8147}, {\"transaction-id\": 4048, \"amount\": 8468}, {\"transaction-id\": 4064, \"amount\": 8292}, {\"transaction-id\": 4280, \"amount\": 8139}, {\"transaction-id\": 4485, \"amount\": 8537}, {\"transaction-id\": 5013, \"amount\": 8403}, {\"transaction-id\": 5043, \"amount\": 8484}, {\"transaction-id\": 5105, \"amount\": 8097}, {\"transaction-id\": 5310, \"amount\": 9248}, {\"transaction-id\": 5535, \"amount\": 9072}, {\"transaction-id\": 5590, \"amount\": 7870}, {\"transaction-id\": 5699, \"amount\": 8634}, {\"transaction-id\": 5859, \"amount\": 7376}, {\"transaction-id\": 6094, \"amount\": 8481}, {\"transaction-id\": 6296, \"amount\": 8998}, {\"transaction-id\": 6472, \"amount\": 8045}, {\"transaction-id\": 6512, \"amount\": 8383}, {\"transaction-id\": 6548, \"amount\": 8328}, {\"transaction-id\": 6553, \"amount\": 8731}, {\"transaction-id\": 6760, \"amount\": 8340}, {\"transaction-id\": 6978, \"amount\": 8591}, {\"transaction-id\": 7041, \"amount\": 7825}, {\"transaction-id\": 7222, \"amount\": 8699}, {\"transaction-id\": 7430, \"amount\": 8579}, {\"transaction-id\": 7433, \"amount\": 8241}, {\"transaction-id\": 7526, \"amount\": 7691}, {\"transaction-id\": 7877, \"amount\": 8578}, {\"transaction-id\": 7993, \"amount\": 7704}, {\"transaction-id\": 8344, \"amount\": 8482}, {\"transaction-id\": 8586, \"amount\": 8934}, {\"transaction-id\": 8625, \"amount\": 8151}, {\"transaction-id\": 8978, \"amount\": 7541}, {\"transaction-id\": 9100, \"amount\": 6976}, {\"transaction-id\": 9131, \"amount\": 8617}, {\"transaction-id\": 9183, \"amount\": 8458}, {\"transaction-id\": 9355, \"amount\": 8586}, {\"transaction-id\": 9432, \"amount\": 7647}, {\"transaction-id\": 9563, \"amount\": 8397}, {\"transaction-id\": 9588, \"amount\": 8299}, {\"transaction-id\": 9619, \"amount\": 8685}, {\"transaction-id\": 9913, \"amount\": 8037}]}\\n',\n",
       " '{\"id\": 1, \"name\": \"Norbert\", \"transactions\": [{\"transaction-id\": 1811, \"amount\": 612}, {\"transaction-id\": 7257, \"amount\": 257}]}\\n',\n",
       " '{\"id\": 3, \"name\": \"Patricia\", \"transactions\": [{\"transaction-id\": 24, \"amount\": -153}, {\"transaction-id\": 260, \"amount\": -133}, {\"transaction-id\": 557, \"amount\": -116}, {\"transaction-id\": 574, \"amount\": -87}, {\"transaction-id\": 579, \"amount\": -131}, {\"transaction-id\": 660, \"amount\": -114}, {\"transaction-id\": 696, \"amount\": -89}, {\"transaction-id\": 868, \"amount\": -104}, {\"transaction-id\": 897, \"amount\": -69}, {\"transaction-id\": 1143, \"amount\": -110}, {\"transaction-id\": 1148, \"amount\": -103}, {\"transaction-id\": 1153, \"amount\": -85}, {\"transaction-id\": 1196, \"amount\": -141}, {\"transaction-id\": 1334, \"amount\": -141}, {\"transaction-id\": 1341, \"amount\": -133}, {\"transaction-id\": 1420, \"amount\": -129}, {\"transaction-id\": 1447, \"amount\": -82}, {\"transaction-id\": 1492, \"amount\": -122}, {\"transaction-id\": 1665, \"amount\": -129}, {\"transaction-id\": 1757, \"amount\": -161}, {\"transaction-id\": 1812, \"amount\": -142}, {\"transaction-id\": 1990, \"amount\": -123}, {\"transaction-id\": 2097, \"amount\": -126}, {\"transaction-id\": 2099, \"amount\": -147}, {\"transaction-id\": 2123, \"amount\": -102}, {\"transaction-id\": 2482, \"amount\": -171}, {\"transaction-id\": 2872, \"amount\": -156}, {\"transaction-id\": 2970, \"amount\": -107}, {\"transaction-id\": 3253, \"amount\": -127}, {\"transaction-id\": 3463, \"amount\": -103}, {\"transaction-id\": 3609, \"amount\": -95}, {\"transaction-id\": 3824, \"amount\": -162}, {\"transaction-id\": 4031, \"amount\": -96}, {\"transaction-id\": 4413, \"amount\": -120}, {\"transaction-id\": 4417, \"amount\": -141}, {\"transaction-id\": 4449, \"amount\": -162}, {\"transaction-id\": 4657, \"amount\": -149}, {\"transaction-id\": 4703, \"amount\": -89}, {\"transaction-id\": 4859, \"amount\": -100}, {\"transaction-id\": 4864, \"amount\": -109}, {\"transaction-id\": 4981, \"amount\": -81}, {\"transaction-id\": 5318, \"amount\": -68}, {\"transaction-id\": 5327, \"amount\": -99}, {\"transaction-id\": 5409, \"amount\": -129}, {\"transaction-id\": 5518, \"amount\": -117}, {\"transaction-id\": 6309, \"amount\": -109}, {\"transaction-id\": 6668, \"amount\": -114}, {\"transaction-id\": 6770, \"amount\": -112}, {\"transaction-id\": 7193, \"amount\": -128}, {\"transaction-id\": 7276, \"amount\": -84}, {\"transaction-id\": 7499, \"amount\": -54}, {\"transaction-id\": 7662, \"amount\": -148}, {\"transaction-id\": 7729, \"amount\": -128}, {\"transaction-id\": 7907, \"amount\": -152}, {\"transaction-id\": 8059, \"amount\": -129}, {\"transaction-id\": 8164, \"amount\": -159}, {\"transaction-id\": 8207, \"amount\": -114}, {\"transaction-id\": 8316, \"amount\": -106}, {\"transaction-id\": 8345, \"amount\": -91}, {\"transaction-id\": 8409, \"amount\": -112}, {\"transaction-id\": 8629, \"amount\": -206}, {\"transaction-id\": 8700, \"amount\": -80}, {\"transaction-id\": 8825, \"amount\": -90}, {\"transaction-id\": 8840, \"amount\": -94}, {\"transaction-id\": 8982, \"amount\": -124}, {\"transaction-id\": 9074, \"amount\": -92}, {\"transaction-id\": 9107, \"amount\": -129}, {\"transaction-id\": 9166, \"amount\": -122}, {\"transaction-id\": 9215, \"amount\": -153}, {\"transaction-id\": 9383, \"amount\": -97}, {\"transaction-id\": 9425, \"amount\": -105}, {\"transaction-id\": 9442, \"amount\": -112}, {\"transaction-id\": 9467, \"amount\": -160}, {\"transaction-id\": 9470, \"amount\": -101}, {\"transaction-id\": 9480, \"amount\": -80}, {\"transaction-id\": 9500, \"amount\": -70}, {\"transaction-id\": 9733, \"amount\": -110}, {\"transaction-id\": 9738, \"amount\": -177}]}\\n')"
      ]
     },
     "execution_count": 9,
     "metadata": {},
     "output_type": "execute_result"
    }
   ],
   "source": [
    "filename = os.path.join('data', 'accounts.*.json.gz')\n",
    "lines = db.read_text(filename)\n",
    "lines.take(3)"
   ]
  },
  {
   "cell_type": "markdown",
   "metadata": {},
   "source": [
    "Our data comes out of the file as lines of text. Notice that file decompression happened automatically. We can make this data look more reasonable by mapping the `json.loads` function onto our bag."
   ]
  },
  {
   "cell_type": "code",
   "execution_count": 10,
   "metadata": {},
   "outputs": [
    {
     "data": {
      "text/plain": [
       "({'id': 0,\n",
       "  'name': 'Victor',\n",
       "  'transactions': [{'transaction-id': 263, 'amount': 8733},\n",
       "   {'transaction-id': 357, 'amount': 8576},\n",
       "   {'transaction-id': 456, 'amount': 9339},\n",
       "   {'transaction-id': 591, 'amount': 8432},\n",
       "   {'transaction-id': 661, 'amount': 7560},\n",
       "   {'transaction-id': 756, 'amount': 9293},\n",
       "   {'transaction-id': 808, 'amount': 7848},\n",
       "   {'transaction-id': 859, 'amount': 8172},\n",
       "   {'transaction-id': 940, 'amount': 8280},\n",
       "   {'transaction-id': 1417, 'amount': 8667},\n",
       "   {'transaction-id': 1566, 'amount': 8641},\n",
       "   {'transaction-id': 1897, 'amount': 8323},\n",
       "   {'transaction-id': 2114, 'amount': 8322},\n",
       "   {'transaction-id': 2176, 'amount': 8178},\n",
       "   {'transaction-id': 2197, 'amount': 8725},\n",
       "   {'transaction-id': 2198, 'amount': 9324},\n",
       "   {'transaction-id': 2389, 'amount': 8350},\n",
       "   {'transaction-id': 2439, 'amount': 9230},\n",
       "   {'transaction-id': 2510, 'amount': 9154},\n",
       "   {'transaction-id': 2568, 'amount': 7961},\n",
       "   {'transaction-id': 2665, 'amount': 7982},\n",
       "   {'transaction-id': 2975, 'amount': 8327},\n",
       "   {'transaction-id': 3200, 'amount': 7895},\n",
       "   {'transaction-id': 3325, 'amount': 8003},\n",
       "   {'transaction-id': 3352, 'amount': 7714},\n",
       "   {'transaction-id': 3408, 'amount': 8896},\n",
       "   {'transaction-id': 3506, 'amount': 8423},\n",
       "   {'transaction-id': 3515, 'amount': 8488},\n",
       "   {'transaction-id': 3656, 'amount': 8591},\n",
       "   {'transaction-id': 3722, 'amount': 8776},\n",
       "   {'transaction-id': 3845, 'amount': 8147},\n",
       "   {'transaction-id': 4048, 'amount': 8468},\n",
       "   {'transaction-id': 4064, 'amount': 8292},\n",
       "   {'transaction-id': 4280, 'amount': 8139},\n",
       "   {'transaction-id': 4485, 'amount': 8537},\n",
       "   {'transaction-id': 5013, 'amount': 8403},\n",
       "   {'transaction-id': 5043, 'amount': 8484},\n",
       "   {'transaction-id': 5105, 'amount': 8097},\n",
       "   {'transaction-id': 5310, 'amount': 9248},\n",
       "   {'transaction-id': 5535, 'amount': 9072},\n",
       "   {'transaction-id': 5590, 'amount': 7870},\n",
       "   {'transaction-id': 5699, 'amount': 8634},\n",
       "   {'transaction-id': 5859, 'amount': 7376},\n",
       "   {'transaction-id': 6094, 'amount': 8481},\n",
       "   {'transaction-id': 6296, 'amount': 8998},\n",
       "   {'transaction-id': 6472, 'amount': 8045},\n",
       "   {'transaction-id': 6512, 'amount': 8383},\n",
       "   {'transaction-id': 6548, 'amount': 8328},\n",
       "   {'transaction-id': 6553, 'amount': 8731},\n",
       "   {'transaction-id': 6760, 'amount': 8340},\n",
       "   {'transaction-id': 6978, 'amount': 8591},\n",
       "   {'transaction-id': 7041, 'amount': 7825},\n",
       "   {'transaction-id': 7222, 'amount': 8699},\n",
       "   {'transaction-id': 7430, 'amount': 8579},\n",
       "   {'transaction-id': 7433, 'amount': 8241},\n",
       "   {'transaction-id': 7526, 'amount': 7691},\n",
       "   {'transaction-id': 7877, 'amount': 8578},\n",
       "   {'transaction-id': 7993, 'amount': 7704},\n",
       "   {'transaction-id': 8344, 'amount': 8482},\n",
       "   {'transaction-id': 8586, 'amount': 8934},\n",
       "   {'transaction-id': 8625, 'amount': 8151},\n",
       "   {'transaction-id': 8978, 'amount': 7541},\n",
       "   {'transaction-id': 9100, 'amount': 6976},\n",
       "   {'transaction-id': 9131, 'amount': 8617},\n",
       "   {'transaction-id': 9183, 'amount': 8458},\n",
       "   {'transaction-id': 9355, 'amount': 8586},\n",
       "   {'transaction-id': 9432, 'amount': 7647},\n",
       "   {'transaction-id': 9563, 'amount': 8397},\n",
       "   {'transaction-id': 9588, 'amount': 8299},\n",
       "   {'transaction-id': 9619, 'amount': 8685},\n",
       "   {'transaction-id': 9913, 'amount': 8037}]},\n",
       " {'id': 1,\n",
       "  'name': 'Norbert',\n",
       "  'transactions': [{'transaction-id': 1811, 'amount': 612},\n",
       "   {'transaction-id': 7257, 'amount': 257}]},\n",
       " {'id': 3,\n",
       "  'name': 'Patricia',\n",
       "  'transactions': [{'transaction-id': 24, 'amount': -153},\n",
       "   {'transaction-id': 260, 'amount': -133},\n",
       "   {'transaction-id': 557, 'amount': -116},\n",
       "   {'transaction-id': 574, 'amount': -87},\n",
       "   {'transaction-id': 579, 'amount': -131},\n",
       "   {'transaction-id': 660, 'amount': -114},\n",
       "   {'transaction-id': 696, 'amount': -89},\n",
       "   {'transaction-id': 868, 'amount': -104},\n",
       "   {'transaction-id': 897, 'amount': -69},\n",
       "   {'transaction-id': 1143, 'amount': -110},\n",
       "   {'transaction-id': 1148, 'amount': -103},\n",
       "   {'transaction-id': 1153, 'amount': -85},\n",
       "   {'transaction-id': 1196, 'amount': -141},\n",
       "   {'transaction-id': 1334, 'amount': -141},\n",
       "   {'transaction-id': 1341, 'amount': -133},\n",
       "   {'transaction-id': 1420, 'amount': -129},\n",
       "   {'transaction-id': 1447, 'amount': -82},\n",
       "   {'transaction-id': 1492, 'amount': -122},\n",
       "   {'transaction-id': 1665, 'amount': -129},\n",
       "   {'transaction-id': 1757, 'amount': -161},\n",
       "   {'transaction-id': 1812, 'amount': -142},\n",
       "   {'transaction-id': 1990, 'amount': -123},\n",
       "   {'transaction-id': 2097, 'amount': -126},\n",
       "   {'transaction-id': 2099, 'amount': -147},\n",
       "   {'transaction-id': 2123, 'amount': -102},\n",
       "   {'transaction-id': 2482, 'amount': -171},\n",
       "   {'transaction-id': 2872, 'amount': -156},\n",
       "   {'transaction-id': 2970, 'amount': -107},\n",
       "   {'transaction-id': 3253, 'amount': -127},\n",
       "   {'transaction-id': 3463, 'amount': -103},\n",
       "   {'transaction-id': 3609, 'amount': -95},\n",
       "   {'transaction-id': 3824, 'amount': -162},\n",
       "   {'transaction-id': 4031, 'amount': -96},\n",
       "   {'transaction-id': 4413, 'amount': -120},\n",
       "   {'transaction-id': 4417, 'amount': -141},\n",
       "   {'transaction-id': 4449, 'amount': -162},\n",
       "   {'transaction-id': 4657, 'amount': -149},\n",
       "   {'transaction-id': 4703, 'amount': -89},\n",
       "   {'transaction-id': 4859, 'amount': -100},\n",
       "   {'transaction-id': 4864, 'amount': -109},\n",
       "   {'transaction-id': 4981, 'amount': -81},\n",
       "   {'transaction-id': 5318, 'amount': -68},\n",
       "   {'transaction-id': 5327, 'amount': -99},\n",
       "   {'transaction-id': 5409, 'amount': -129},\n",
       "   {'transaction-id': 5518, 'amount': -117},\n",
       "   {'transaction-id': 6309, 'amount': -109},\n",
       "   {'transaction-id': 6668, 'amount': -114},\n",
       "   {'transaction-id': 6770, 'amount': -112},\n",
       "   {'transaction-id': 7193, 'amount': -128},\n",
       "   {'transaction-id': 7276, 'amount': -84},\n",
       "   {'transaction-id': 7499, 'amount': -54},\n",
       "   {'transaction-id': 7662, 'amount': -148},\n",
       "   {'transaction-id': 7729, 'amount': -128},\n",
       "   {'transaction-id': 7907, 'amount': -152},\n",
       "   {'transaction-id': 8059, 'amount': -129},\n",
       "   {'transaction-id': 8164, 'amount': -159},\n",
       "   {'transaction-id': 8207, 'amount': -114},\n",
       "   {'transaction-id': 8316, 'amount': -106},\n",
       "   {'transaction-id': 8345, 'amount': -91},\n",
       "   {'transaction-id': 8409, 'amount': -112},\n",
       "   {'transaction-id': 8629, 'amount': -206},\n",
       "   {'transaction-id': 8700, 'amount': -80},\n",
       "   {'transaction-id': 8825, 'amount': -90},\n",
       "   {'transaction-id': 8840, 'amount': -94},\n",
       "   {'transaction-id': 8982, 'amount': -124},\n",
       "   {'transaction-id': 9074, 'amount': -92},\n",
       "   {'transaction-id': 9107, 'amount': -129},\n",
       "   {'transaction-id': 9166, 'amount': -122},\n",
       "   {'transaction-id': 9215, 'amount': -153},\n",
       "   {'transaction-id': 9383, 'amount': -97},\n",
       "   {'transaction-id': 9425, 'amount': -105},\n",
       "   {'transaction-id': 9442, 'amount': -112},\n",
       "   {'transaction-id': 9467, 'amount': -160},\n",
       "   {'transaction-id': 9470, 'amount': -101},\n",
       "   {'transaction-id': 9480, 'amount': -80},\n",
       "   {'transaction-id': 9500, 'amount': -70},\n",
       "   {'transaction-id': 9733, 'amount': -110},\n",
       "   {'transaction-id': 9738, 'amount': -177}]})"
      ]
     },
     "execution_count": 10,
     "metadata": {},
     "output_type": "execute_result"
    }
   ],
   "source": [
    "import json\n",
    "js = lines.map(json.loads)\n",
    "# take: inspect first few elements\n",
    "js.take(3)"
   ]
  },
  {
   "cell_type": "markdown",
   "metadata": {},
   "source": [
    "### Basic Queries"
   ]
  },
  {
   "cell_type": "markdown",
   "metadata": {},
   "source": [
    "Once we parse our JSON data into proper Python objects (`dict`s, `list`s, etc.) we can perform more interesting queries by creating small Python functions to run on our data."
   ]
  },
  {
   "cell_type": "code",
   "execution_count": 11,
   "metadata": {},
   "outputs": [
    {
     "data": {
      "text/plain": [
       "({'id': 13,\n",
       "  'name': 'Alice',\n",
       "  'transactions': [{'transaction-id': 30, 'amount': 605}]},\n",
       " {'id': 38,\n",
       "  'name': 'Alice',\n",
       "  'transactions': [{'transaction-id': 8, 'amount': 467},\n",
       "   {'transaction-id': 468, 'amount': 459},\n",
       "   {'transaction-id': 901, 'amount': 419},\n",
       "   {'transaction-id': 1309, 'amount': 378},\n",
       "   {'transaction-id': 1684, 'amount': 571},\n",
       "   {'transaction-id': 1870, 'amount': 445},\n",
       "   {'transaction-id': 2257, 'amount': 523},\n",
       "   {'transaction-id': 2703, 'amount': 472},\n",
       "   {'transaction-id': 4083, 'amount': 503},\n",
       "   {'transaction-id': 4570, 'amount': 504},\n",
       "   {'transaction-id': 5140, 'amount': 460},\n",
       "   {'transaction-id': 5178, 'amount': 419},\n",
       "   {'transaction-id': 7037, 'amount': 587},\n",
       "   {'transaction-id': 7359, 'amount': 453},\n",
       "   {'transaction-id': 7875, 'amount': 508},\n",
       "   {'transaction-id': 8421, 'amount': 520},\n",
       "   {'transaction-id': 8749, 'amount': 406},\n",
       "   {'transaction-id': 8848, 'amount': 492}]},\n",
       " {'id': 59,\n",
       "  'name': 'Alice',\n",
       "  'transactions': [{'transaction-id': 423, 'amount': 2923},\n",
       "   {'transaction-id': 3121, 'amount': 3184},\n",
       "   {'transaction-id': 3349, 'amount': 3246},\n",
       "   {'transaction-id': 4260, 'amount': 3338},\n",
       "   {'transaction-id': 5206, 'amount': 3275},\n",
       "   {'transaction-id': 5687, 'amount': 3397},\n",
       "   {'transaction-id': 6214, 'amount': 3360},\n",
       "   {'transaction-id': 7077, 'amount': 3337}]},\n",
       " {'id': 66,\n",
       "  'name': 'Alice',\n",
       "  'transactions': [{'transaction-id': 405, 'amount': 830},\n",
       "   {'transaction-id': 673, 'amount': 761},\n",
       "   {'transaction-id': 870, 'amount': 749},\n",
       "   {'transaction-id': 1838, 'amount': 954},\n",
       "   {'transaction-id': 2029, 'amount': 974},\n",
       "   {'transaction-id': 2308, 'amount': 784},\n",
       "   {'transaction-id': 3334, 'amount': 653},\n",
       "   {'transaction-id': 3688, 'amount': 903},\n",
       "   {'transaction-id': 3910, 'amount': 967},\n",
       "   {'transaction-id': 4907, 'amount': 710},\n",
       "   {'transaction-id': 5235, 'amount': 912},\n",
       "   {'transaction-id': 7179, 'amount': 757},\n",
       "   {'transaction-id': 7920, 'amount': 889},\n",
       "   {'transaction-id': 8038, 'amount': 962},\n",
       "   {'transaction-id': 8306, 'amount': 683},\n",
       "   {'transaction-id': 8339, 'amount': 676},\n",
       "   {'transaction-id': 9853, 'amount': 771}]},\n",
       " {'id': 100,\n",
       "  'name': 'Alice',\n",
       "  'transactions': [{'transaction-id': 47, 'amount': 1388},\n",
       "   {'transaction-id': 77, 'amount': 1354},\n",
       "   {'transaction-id': 346, 'amount': 1258},\n",
       "   {'transaction-id': 572, 'amount': 1167},\n",
       "   {'transaction-id': 776, 'amount': 1296},\n",
       "   {'transaction-id': 797, 'amount': 1338},\n",
       "   {'transaction-id': 809, 'amount': 1180},\n",
       "   {'transaction-id': 865, 'amount': 1275},\n",
       "   {'transaction-id': 977, 'amount': 1192},\n",
       "   {'transaction-id': 1075, 'amount': 1285},\n",
       "   {'transaction-id': 1175, 'amount': 1134},\n",
       "   {'transaction-id': 1206, 'amount': 1262},\n",
       "   {'transaction-id': 1260, 'amount': 1397},\n",
       "   {'transaction-id': 1485, 'amount': 1142},\n",
       "   {'transaction-id': 1613, 'amount': 1266},\n",
       "   {'transaction-id': 1818, 'amount': 1187},\n",
       "   {'transaction-id': 2050, 'amount': 1249},\n",
       "   {'transaction-id': 2411, 'amount': 1371},\n",
       "   {'transaction-id': 2852, 'amount': 1274},\n",
       "   {'transaction-id': 2930, 'amount': 1181},\n",
       "   {'transaction-id': 3082, 'amount': 1136},\n",
       "   {'transaction-id': 3533, 'amount': 1206},\n",
       "   {'transaction-id': 3592, 'amount': 1239},\n",
       "   {'transaction-id': 3653, 'amount': 1280},\n",
       "   {'transaction-id': 3668, 'amount': 1297},\n",
       "   {'transaction-id': 3757, 'amount': 1286},\n",
       "   {'transaction-id': 4107, 'amount': 1276},\n",
       "   {'transaction-id': 4154, 'amount': 1213},\n",
       "   {'transaction-id': 4292, 'amount': 1148},\n",
       "   {'transaction-id': 4411, 'amount': 1259},\n",
       "   {'transaction-id': 4445, 'amount': 1232},\n",
       "   {'transaction-id': 4495, 'amount': 1228},\n",
       "   {'transaction-id': 4518, 'amount': 1270},\n",
       "   {'transaction-id': 4533, 'amount': 1295},\n",
       "   {'transaction-id': 4572, 'amount': 1335},\n",
       "   {'transaction-id': 4936, 'amount': 1274},\n",
       "   {'transaction-id': 5029, 'amount': 1227},\n",
       "   {'transaction-id': 5123, 'amount': 1172},\n",
       "   {'transaction-id': 5250, 'amount': 1234},\n",
       "   {'transaction-id': 5305, 'amount': 1189},\n",
       "   {'transaction-id': 5421, 'amount': 1211},\n",
       "   {'transaction-id': 5548, 'amount': 1210},\n",
       "   {'transaction-id': 5651, 'amount': 1263},\n",
       "   {'transaction-id': 5825, 'amount': 1282},\n",
       "   {'transaction-id': 5912, 'amount': 1233},\n",
       "   {'transaction-id': 6257, 'amount': 1164},\n",
       "   {'transaction-id': 6258, 'amount': 1286},\n",
       "   {'transaction-id': 6336, 'amount': 1236},\n",
       "   {'transaction-id': 6476, 'amount': 1203},\n",
       "   {'transaction-id': 6479, 'amount': 1180},\n",
       "   {'transaction-id': 6482, 'amount': 1197},\n",
       "   {'transaction-id': 6575, 'amount': 1282},\n",
       "   {'transaction-id': 6649, 'amount': 1147},\n",
       "   {'transaction-id': 6711, 'amount': 1314},\n",
       "   {'transaction-id': 6856, 'amount': 1189},\n",
       "   {'transaction-id': 6969, 'amount': 1282},\n",
       "   {'transaction-id': 7091, 'amount': 1241},\n",
       "   {'transaction-id': 7136, 'amount': 1317},\n",
       "   {'transaction-id': 7604, 'amount': 1290},\n",
       "   {'transaction-id': 7728, 'amount': 1227},\n",
       "   {'transaction-id': 7914, 'amount': 1229},\n",
       "   {'transaction-id': 8072, 'amount': 1304},\n",
       "   {'transaction-id': 8169, 'amount': 1237},\n",
       "   {'transaction-id': 8226, 'amount': 1211},\n",
       "   {'transaction-id': 8240, 'amount': 1297},\n",
       "   {'transaction-id': 8900, 'amount': 1224},\n",
       "   {'transaction-id': 9188, 'amount': 1261},\n",
       "   {'transaction-id': 9393, 'amount': 1051},\n",
       "   {'transaction-id': 9404, 'amount': 1336},\n",
       "   {'transaction-id': 9539, 'amount': 1323},\n",
       "   {'transaction-id': 9673, 'amount': 1157},\n",
       "   {'transaction-id': 9816, 'amount': 1377},\n",
       "   {'transaction-id': 9920, 'amount': 1255}]})"
      ]
     },
     "execution_count": 11,
     "metadata": {},
     "output_type": "execute_result"
    }
   ],
   "source": [
    "# filter: keep only some elements of the sequence\n",
    "js.filter(lambda record: record['name'] == 'Alice').take(5)"
   ]
  },
  {
   "cell_type": "code",
   "execution_count": 12,
   "metadata": {},
   "outputs": [
    {
     "data": {
      "text/plain": [
       "({'name': 'Alice', 'count': 1},\n",
       " {'name': 'Alice', 'count': 18},\n",
       " {'name': 'Alice', 'count': 8},\n",
       " {'name': 'Alice', 'count': 17},\n",
       " {'name': 'Alice', 'count': 73})"
      ]
     },
     "execution_count": 12,
     "metadata": {},
     "output_type": "execute_result"
    }
   ],
   "source": [
    "def count_transactions(d):\n",
    "    return {'name': d['name'], 'count': len(d['transactions'])}\n",
    "\n",
    "# map: apply a function to each element\n",
    "(js.filter(lambda record: record['name'] == 'Alice')\n",
    "   .map(count_transactions)\n",
    "   .take(5))"
   ]
  },
  {
   "cell_type": "code",
   "execution_count": 13,
   "metadata": {},
   "outputs": [
    {
     "data": {
      "text/plain": [
       "(1, 18, 8, 17, 73)"
      ]
     },
     "execution_count": 13,
     "metadata": {},
     "output_type": "execute_result"
    }
   ],
   "source": [
    "# pluck: select a field, as from a dictionary, element[field]\n",
    "(js.filter(lambda record: record['name'] == 'Alice')\n",
    "   .map(count_transactions)\n",
    "   .pluck('count')\n",
    "   .take(5))"
   ]
  },
  {
   "cell_type": "code",
   "execution_count": 14,
   "metadata": {},
   "outputs": [
    {
     "data": {
      "text/plain": [
       "32.475103734439834"
      ]
     },
     "execution_count": 14,
     "metadata": {},
     "output_type": "execute_result"
    }
   ],
   "source": [
    "# Average number of transactions for all of the Alice entries\n",
    "(js.filter(lambda record: record['name'] == 'Alice')\n",
    "   .map(count_transactions)\n",
    "   .pluck('count')\n",
    "   .mean()\n",
    "   .compute())"
   ]
  },
  {
   "cell_type": "markdown",
   "metadata": {},
   "source": [
    "### Use `flatten` to de-nest"
   ]
  },
  {
   "cell_type": "markdown",
   "metadata": {},
   "source": [
    "In the example below we see the use of `.flatten()` to flatten results.  We compute the average amount for all transactions for all Alices."
   ]
  },
  {
   "cell_type": "code",
   "execution_count": 15,
   "metadata": {},
   "outputs": [
    {
     "data": {
      "text/plain": [
       "([{'transaction-id': 30, 'amount': 605}],\n",
       " [{'transaction-id': 8, 'amount': 467},\n",
       "  {'transaction-id': 468, 'amount': 459},\n",
       "  {'transaction-id': 901, 'amount': 419},\n",
       "  {'transaction-id': 1309, 'amount': 378},\n",
       "  {'transaction-id': 1684, 'amount': 571},\n",
       "  {'transaction-id': 1870, 'amount': 445},\n",
       "  {'transaction-id': 2257, 'amount': 523},\n",
       "  {'transaction-id': 2703, 'amount': 472},\n",
       "  {'transaction-id': 4083, 'amount': 503},\n",
       "  {'transaction-id': 4570, 'amount': 504},\n",
       "  {'transaction-id': 5140, 'amount': 460},\n",
       "  {'transaction-id': 5178, 'amount': 419},\n",
       "  {'transaction-id': 7037, 'amount': 587},\n",
       "  {'transaction-id': 7359, 'amount': 453},\n",
       "  {'transaction-id': 7875, 'amount': 508},\n",
       "  {'transaction-id': 8421, 'amount': 520},\n",
       "  {'transaction-id': 8749, 'amount': 406},\n",
       "  {'transaction-id': 8848, 'amount': 492}],\n",
       " [{'transaction-id': 423, 'amount': 2923},\n",
       "  {'transaction-id': 3121, 'amount': 3184},\n",
       "  {'transaction-id': 3349, 'amount': 3246},\n",
       "  {'transaction-id': 4260, 'amount': 3338},\n",
       "  {'transaction-id': 5206, 'amount': 3275},\n",
       "  {'transaction-id': 5687, 'amount': 3397},\n",
       "  {'transaction-id': 6214, 'amount': 3360},\n",
       "  {'transaction-id': 7077, 'amount': 3337}])"
      ]
     },
     "execution_count": 15,
     "metadata": {},
     "output_type": "execute_result"
    }
   ],
   "source": [
    "js.filter(lambda record: record['name'] == 'Alice').pluck('transactions').take(3)"
   ]
  },
  {
   "cell_type": "code",
   "execution_count": 16,
   "metadata": {},
   "outputs": [
    {
     "data": {
      "text/plain": [
       "({'transaction-id': 30, 'amount': 605},\n",
       " {'transaction-id': 8, 'amount': 467},\n",
       " {'transaction-id': 468, 'amount': 459})"
      ]
     },
     "execution_count": 16,
     "metadata": {},
     "output_type": "execute_result"
    }
   ],
   "source": [
    "(js.filter(lambda record: record['name'] == 'Alice')\n",
    "   .pluck('transactions')\n",
    "   .flatten()\n",
    "   .take(3))"
   ]
  },
  {
   "cell_type": "code",
   "execution_count": 17,
   "metadata": {},
   "outputs": [
    {
     "data": {
      "text/plain": [
       "(605, 467, 459)"
      ]
     },
     "execution_count": 17,
     "metadata": {},
     "output_type": "execute_result"
    }
   ],
   "source": [
    "(js.filter(lambda record: record['name'] == 'Alice')\n",
    "   .pluck('transactions')\n",
    "   .flatten()\n",
    "   .pluck('amount')\n",
    "   .take(3))"
   ]
  },
  {
   "cell_type": "code",
   "execution_count": 18,
   "metadata": {},
   "outputs": [
    {
     "data": {
      "text/plain": [
       "1356.714048425222"
      ]
     },
     "execution_count": 18,
     "metadata": {},
     "output_type": "execute_result"
    }
   ],
   "source": [
    "(js.filter(lambda record: record['name'] == 'Alice')\n",
    "   .pluck('transactions')\n",
    "   .flatten()\n",
    "   .pluck('amount')\n",
    "   .mean()\n",
    "   .compute())"
   ]
  },
  {
   "cell_type": "markdown",
   "metadata": {},
   "source": [
    "### Groupby and Foldby"
   ]
  },
  {
   "cell_type": "markdown",
   "metadata": {},
   "source": [
    "Often we want to group data by some function or key.  We can do this either with the `.groupby` method, which is straightforward but forces a full shuffle of the data (expensive) or with the harder-to-use but faster `.foldby` method, which does a streaming combined groupby and reduction.\n",
    "\n",
    "*  `groupby`:  Shuffles data so that all items with the same key are in the same key-value pair\n",
    "*  `foldby`:  Walks through the data accumulating a result per key\n",
    "\n",
    "*Note: the full groupby is particularly bad. In actual workloads you would do well to use `foldby` or switch to `DataFrame`s if possible.*"
   ]
  },
  {
   "cell_type": "markdown",
   "metadata": {},
   "source": [
    "### `groupby`"
   ]
  },
  {
   "cell_type": "markdown",
   "metadata": {},
   "source": [
    "Groupby collects items in your collection so that all items with the same value under some function are collected together into a key-value pair."
   ]
  },
  {
   "cell_type": "code",
   "execution_count": 19,
   "metadata": {},
   "outputs": [
    {
     "data": {
      "text/plain": [
       "[(7, ['Charlie']), (3, ['Bob', 'Dan']), (5, ['Alice', 'Edith', 'Frank'])]"
      ]
     },
     "execution_count": 19,
     "metadata": {},
     "output_type": "execute_result"
    }
   ],
   "source": [
    "b = db.from_sequence(['Alice', 'Bob', 'Charlie', 'Dan', 'Edith', 'Frank'])\n",
    "b.groupby(len).compute()  # names grouped by length"
   ]
  },
  {
   "cell_type": "code",
   "execution_count": 20,
   "metadata": {},
   "outputs": [
    {
     "data": {
      "text/plain": [
       "[(0, [0, 2, 4, 6, 8]), (1, [1, 3, 5, 7, 9])]"
      ]
     },
     "execution_count": 20,
     "metadata": {},
     "output_type": "execute_result"
    }
   ],
   "source": [
    "b = db.from_sequence(list(range(10)))\n",
    "b.groupby(lambda x: x % 2).compute()"
   ]
  },
  {
   "cell_type": "code",
   "execution_count": 21,
   "metadata": {},
   "outputs": [
    {
     "data": {
      "text/plain": [
       "[(0, 8), (1, 9)]"
      ]
     },
     "execution_count": 21,
     "metadata": {},
     "output_type": "execute_result"
    }
   ],
   "source": [
    "b.groupby(lambda x: x % 2).starmap(lambda k, v: (k, max(v))).compute()"
   ]
  },
  {
   "cell_type": "markdown",
   "metadata": {},
   "source": [
    "### `foldby`"
   ]
  },
  {
   "cell_type": "markdown",
   "metadata": {},
   "source": [
    "Foldby can be quite odd at first.  It is similar to the following functions from other libraries:\n",
    "\n",
    "*  [`toolz.reduceby`](http://toolz.readthedocs.io/en/latest/streaming-analytics.html#streaming-split-apply-combine)\n",
    "*  [`pyspark.RDD.combineByKey`](http://abshinn.github.io/python/apache-spark/2014/10/11/using-combinebykey-in-apache-spark/)\n",
    "\n",
    "When using `foldby` you provide \n",
    "\n",
    "1.  A key function on which to group elements\n",
    "2.  A binary operator such as you would pass to `reduce` that you use to perform reduction per each group\n",
    "3.  A combine binary operator that can combine the results of two `reduce` calls on different parts of your dataset.\n",
    "\n",
    "Your reduction must be associative.  It will happen in parallel in each of the partitions of your dataset.  Then all of these intermediate results will be combined by the `combine` binary operator."
   ]
  },
  {
   "cell_type": "code",
   "execution_count": 22,
   "metadata": {},
   "outputs": [
    {
     "data": {
      "text/plain": [
       "[(0, 8), (1, 9)]"
      ]
     },
     "execution_count": 22,
     "metadata": {},
     "output_type": "execute_result"
    }
   ],
   "source": [
    "is_even = lambda x: x % 2\n",
    "b.foldby(is_even, binop=max, combine=max).compute()"
   ]
  },
  {
   "cell_type": "markdown",
   "metadata": {},
   "source": [
    "### Example with account data"
   ]
  },
  {
   "cell_type": "markdown",
   "metadata": {},
   "source": [
    "We find the number of people with the same name."
   ]
  },
  {
   "cell_type": "code",
   "execution_count": 23,
   "metadata": {},
   "outputs": [
    {
     "name": "stdout",
     "output_type": "stream",
     "text": [
      "[('Alice', 107), ('Alice', 119), ('Alice', 122), ('Alice', 134), ('Bob', 44), ('Bob', 48), ('Bob', 52), ('Bob', 56), ('Charlie', 110), ('Charlie', 120), ('Charlie', 130), ('Charlie', 140), ('Dan', 88), ('Dan', 96), ('Dan', 104), ('Dan', 112), ('Edith', 66), ('Edith', 72), ('Edith', 78), ('Edith', 84), ('Frank', 91), ('Frank', 98), ('Frank', 161), ('George', 107), ('George', 114), ('George', 122), ('George', 132), ('Hannah', 175), ('Hannah', 190), ('Hannah', 206), ('Hannah', 221), ('Ingrid', 110), ('Ingrid', 119), ('Ingrid', 130), ('Ingrid', 140), ('Jerry', 139), ('Jerry', 151), ('Jerry', 163), ('Jerry', 174), ('Kevin', 77), ('Kevin', 84), ('Kevin', 91), ('Kevin', 98), ('Laura', 144), ('Laura', 156), ('Laura', 300), ('Michael', 108), ('Michael', 116), ('Michael', 127), ('Michael', 140), ('Norbert', 121), ('Norbert', 132), ('Norbert', 143), ('Norbert', 154), ('Oliver', 110), ('Oliver', 116), ('Oliver', 126), ('Oliver', 135), ('Patricia', 89), ('Patricia', 96), ('Patricia', 106), ('Patricia', 113), ('Quinn', 116), ('Quinn', 126), ('Quinn', 138), ('Quinn', 148), ('Ray', 99), ('Ray', 108), ('Ray', 116), ('Ray', 125), ('Sarah', 139), ('Sarah', 150), ('Sarah', 162), ('Sarah', 175), ('Tim', 78), ('Tim', 87), ('Tim', 92), ('Tim', 98), ('Ursula', 55), ('Ursula', 58), ('Ursula', 64), ('Ursula', 68), ('Victor', 88), ('Victor', 96), ('Victor', 104), ('Victor', 112), ('Wendy', 102), ('Wendy', 110), ('Wendy', 178), ('Xavier', 139), ('Xavier', 154), ('Xavier', 168), ('Xavier', 181), ('Yvonne', 111), ('Yvonne', 130), ('Yvonne', 141), ('Yvonne', 150), ('Zelda', 84), ('Zelda', 100), ('Zelda', 105), ('Zelda', 109)]\n",
      "CPU times: user 1.4 s, sys: 81.5 ms, total: 1.48 s\n",
      "Wall time: 8.32 s\n"
     ]
    }
   ],
   "source": [
    "%%time\n",
    "# Warning, this one takes a while...\n",
    "result = js.groupby(lambda item: item['name']).starmap(lambda k, v: (k, len(v))).compute()\n",
    "print(sorted(result))"
   ]
  },
  {
   "cell_type": "code",
   "execution_count": 24,
   "metadata": {},
   "outputs": [
    {
     "name": "stdout",
     "output_type": "stream",
     "text": [
      "[('Alice', 482), ('Bob', 200), ('Charlie', 500), ('Dan', 400), ('Edith', 300), ('Frank', 350), ('George', 475), ('Hannah', 792), ('Ingrid', 499), ('Jerry', 627), ('Kevin', 350), ('Laura', 600), ('Michael', 491), ('Norbert', 550), ('Oliver', 487), ('Patricia', 404), ('Quinn', 528), ('Ray', 448), ('Sarah', 626), ('Tim', 355), ('Ursula', 245), ('Victor', 400), ('Wendy', 390), ('Xavier', 642), ('Yvonne', 532), ('Zelda', 398)]\n",
      "CPU times: user 127 ms, sys: 16.9 ms, total: 144 ms\n",
      "Wall time: 597 ms\n"
     ]
    }
   ],
   "source": [
    "%%time\n",
    "# This one is comparatively fast and produces the same result.\n",
    "from operator import add\n",
    "def incr(tot, _):\n",
    "    return tot+1\n",
    "\n",
    "result = js.foldby(key='name', \n",
    "                   binop=incr, \n",
    "                   initial=0, \n",
    "                   combine=add, \n",
    "                   combine_initial=0).compute()\n",
    "print(sorted(result))"
   ]
  },
  {
   "cell_type": "markdown",
   "metadata": {},
   "source": [
    "### Exercise: compute total amount per name"
   ]
  },
  {
   "cell_type": "markdown",
   "metadata": {},
   "source": [
    "We want to groupby (or foldby) the `name` key, then add up the all of the amounts for each name.\n",
    "\n",
    "Steps\n",
    "\n",
    "1.  Create a small function that, given a dictionary like \n",
    "\n",
    "        {'name': 'Alice', 'transactions': [{'amount': 1, 'id': 123}, {'amount': 2, 'id': 456}]}\n",
    "        \n",
    "    produces the sum of the amounts, e.g. `3`\n",
    "    \n",
    "2.  Slightly change the binary operator of the `foldby` example above so that the binary operator doesn't count the number of entries, but instead accumulates the sum of the amounts."
   ]
  },
  {
   "cell_type": "code",
   "execution_count": 25,
   "metadata": {},
   "outputs": [],
   "source": [
    "# Your code here..."
   ]
  },
  {
   "cell_type": "markdown",
   "metadata": {},
   "source": [
    "## DataFrames"
   ]
  },
  {
   "cell_type": "markdown",
   "metadata": {},
   "source": [
    "For the same reasons that Pandas is often faster than pure Python, `dask.dataframe` can be faster than `dask.bag`.  We will work more with DataFrames later, but from for the bag point of view, they are frequently the end-point of the \"messy\" part of data ingestion—once the data can be made into a data-frame, then complex split-apply-combine logic will become much more straight-forward and efficient.\n",
    "\n",
    "You can transform a bag with a simple tuple or flat dictionary structure into a `dask.dataframe` with the `to_dataframe` method."
   ]
  },
  {
   "cell_type": "code",
   "execution_count": 26,
   "metadata": {},
   "outputs": [
    {
     "data": {
      "text/html": [
       "<div>\n",
       "<style scoped>\n",
       "    .dataframe tbody tr th:only-of-type {\n",
       "        vertical-align: middle;\n",
       "    }\n",
       "\n",
       "    .dataframe tbody tr th {\n",
       "        vertical-align: top;\n",
       "    }\n",
       "\n",
       "    .dataframe thead th {\n",
       "        text-align: right;\n",
       "    }\n",
       "</style>\n",
       "<table border=\"1\" class=\"dataframe\">\n",
       "  <thead>\n",
       "    <tr style=\"text-align: right;\">\n",
       "      <th></th>\n",
       "      <th>id</th>\n",
       "      <th>name</th>\n",
       "      <th>transactions</th>\n",
       "    </tr>\n",
       "  </thead>\n",
       "  <tbody>\n",
       "    <tr>\n",
       "      <th>0</th>\n",
       "      <td>0</td>\n",
       "      <td>Victor</td>\n",
       "      <td>[{'transaction-id': 263, 'amount': 8733}, {'tr...</td>\n",
       "    </tr>\n",
       "    <tr>\n",
       "      <th>1</th>\n",
       "      <td>1</td>\n",
       "      <td>Norbert</td>\n",
       "      <td>[{'transaction-id': 1811, 'amount': 612}, {'tr...</td>\n",
       "    </tr>\n",
       "    <tr>\n",
       "      <th>2</th>\n",
       "      <td>3</td>\n",
       "      <td>Patricia</td>\n",
       "      <td>[{'transaction-id': 24, 'amount': -153}, {'tra...</td>\n",
       "    </tr>\n",
       "    <tr>\n",
       "      <th>3</th>\n",
       "      <td>4</td>\n",
       "      <td>Laura</td>\n",
       "      <td>[{'transaction-id': 115, 'amount': 3181}, {'tr...</td>\n",
       "    </tr>\n",
       "    <tr>\n",
       "      <th>4</th>\n",
       "      <td>5</td>\n",
       "      <td>Jerry</td>\n",
       "      <td>[{'transaction-id': 105, 'amount': 1872}, {'tr...</td>\n",
       "    </tr>\n",
       "  </tbody>\n",
       "</table>\n",
       "</div>"
      ],
      "text/plain": [
       "   id      name                                       transactions\n",
       "0   0    Victor  [{'transaction-id': 263, 'amount': 8733}, {'tr...\n",
       "1   1   Norbert  [{'transaction-id': 1811, 'amount': 612}, {'tr...\n",
       "2   3  Patricia  [{'transaction-id': 24, 'amount': -153}, {'tra...\n",
       "3   4     Laura  [{'transaction-id': 115, 'amount': 3181}, {'tr...\n",
       "4   5     Jerry  [{'transaction-id': 105, 'amount': 1872}, {'tr..."
      ]
     },
     "execution_count": 26,
     "metadata": {},
     "output_type": "execute_result"
    }
   ],
   "source": [
    "df1 = js.to_dataframe()\n",
    "df1.head()"
   ]
  },
  {
   "cell_type": "markdown",
   "metadata": {},
   "source": [
    "This now looks like a well-defined DataFrame, and we can apply Pandas-like computations to it efficiently."
   ]
  },
  {
   "cell_type": "markdown",
   "metadata": {},
   "source": [
    "Using a Dask DataFrame, how long does it take to do our prior computation of numbers of people with the same name?  It turns out that `dask.dataframe.groupby()` beats `dask.bag.groupby()` more than an order of magnitude; but it still cannot match `dask.bag.foldby()` for this case."
   ]
  },
  {
   "cell_type": "code",
   "execution_count": 27,
   "metadata": {},
   "outputs": [
    {
     "name": "stdout",
     "output_type": "stream",
     "text": [
      "CPU times: user 183 ms, sys: 6.19 ms, total: 189 ms\n",
      "Wall time: 1.62 s\n"
     ]
    },
    {
     "data": {
      "text/plain": [
       "name\n",
       "Alice      482\n",
       "Bob        200\n",
       "Charlie    500\n",
       "Dan        400\n",
       "Edith      300\n",
       "Name: id, dtype: int64"
      ]
     },
     "execution_count": 27,
     "metadata": {},
     "output_type": "execute_result"
    }
   ],
   "source": [
    "%time df1.groupby('name').id.count().compute().head()"
   ]
  },
  {
   "cell_type": "markdown",
   "metadata": {},
   "source": [
    "### Denormalization"
   ]
  },
  {
   "cell_type": "markdown",
   "metadata": {},
   "source": [
    "This DataFrame format is less-than-optimal because the `transactions` column is filled with nested data so Pandas has to revert to `object` dtype, which is quite slow in Pandas.  Ideally we want to transform to a dataframe only after we have flattened our data so that each record is a single `int`, `string`, `float`, etc.."
   ]
  },
  {
   "cell_type": "code",
   "execution_count": 28,
   "metadata": {},
   "outputs": [
    {
     "data": {
      "text/plain": [
       "({'id': 0, 'name': 'Victor', 'amount': 8733, 'transaction-id': 263},\n",
       " {'id': 0, 'name': 'Victor', 'amount': 8576, 'transaction-id': 357},\n",
       " {'id': 0, 'name': 'Victor', 'amount': 9339, 'transaction-id': 456})"
      ]
     },
     "execution_count": 28,
     "metadata": {},
     "output_type": "execute_result"
    }
   ],
   "source": [
    "def denormalize(record):\n",
    "    # returns a list for every nested item, each transaction of each person\n",
    "    return [{'id': record['id'], \n",
    "             'name': record['name'], \n",
    "             'amount': transaction['amount'], \n",
    "             'transaction-id': transaction['transaction-id']}\n",
    "            for transaction in record['transactions']]\n",
    "\n",
    "transactions = js.map(denormalize).flatten()\n",
    "transactions.take(3)"
   ]
  },
  {
   "cell_type": "code",
   "execution_count": 29,
   "metadata": {},
   "outputs": [
    {
     "data": {
      "text/html": [
       "<div>\n",
       "<style scoped>\n",
       "    .dataframe tbody tr th:only-of-type {\n",
       "        vertical-align: middle;\n",
       "    }\n",
       "\n",
       "    .dataframe tbody tr th {\n",
       "        vertical-align: top;\n",
       "    }\n",
       "\n",
       "    .dataframe thead th {\n",
       "        text-align: right;\n",
       "    }\n",
       "</style>\n",
       "<table border=\"1\" class=\"dataframe\">\n",
       "  <thead>\n",
       "    <tr style=\"text-align: right;\">\n",
       "      <th></th>\n",
       "      <th>id</th>\n",
       "      <th>name</th>\n",
       "      <th>amount</th>\n",
       "      <th>transaction-id</th>\n",
       "    </tr>\n",
       "  </thead>\n",
       "  <tbody>\n",
       "    <tr>\n",
       "      <th>0</th>\n",
       "      <td>0</td>\n",
       "      <td>Victor</td>\n",
       "      <td>8733</td>\n",
       "      <td>263</td>\n",
       "    </tr>\n",
       "    <tr>\n",
       "      <th>1</th>\n",
       "      <td>0</td>\n",
       "      <td>Victor</td>\n",
       "      <td>8576</td>\n",
       "      <td>357</td>\n",
       "    </tr>\n",
       "    <tr>\n",
       "      <th>2</th>\n",
       "      <td>0</td>\n",
       "      <td>Victor</td>\n",
       "      <td>9339</td>\n",
       "      <td>456</td>\n",
       "    </tr>\n",
       "    <tr>\n",
       "      <th>3</th>\n",
       "      <td>0</td>\n",
       "      <td>Victor</td>\n",
       "      <td>8432</td>\n",
       "      <td>591</td>\n",
       "    </tr>\n",
       "    <tr>\n",
       "      <th>4</th>\n",
       "      <td>0</td>\n",
       "      <td>Victor</td>\n",
       "      <td>7560</td>\n",
       "      <td>661</td>\n",
       "    </tr>\n",
       "  </tbody>\n",
       "</table>\n",
       "</div>"
      ],
      "text/plain": [
       "   id    name  amount  transaction-id\n",
       "0   0  Victor    8733             263\n",
       "1   0  Victor    8576             357\n",
       "2   0  Victor    9339             456\n",
       "3   0  Victor    8432             591\n",
       "4   0  Victor    7560             661"
      ]
     },
     "execution_count": 29,
     "metadata": {},
     "output_type": "execute_result"
    }
   ],
   "source": [
    "df = transactions.to_dataframe()\n",
    "df.head()"
   ]
  },
  {
   "cell_type": "code",
   "execution_count": 30,
   "metadata": {},
   "outputs": [
    {
     "name": "stdout",
     "output_type": "stream",
     "text": [
      "CPU times: user 170 ms, sys: 6.05 ms, total: 176 ms\n",
      "Wall time: 1.38 s\n"
     ]
    },
    {
     "data": {
      "text/plain": [
       "name\n",
       "Alice       15653\n",
       "Bob          4632\n",
       "Charlie     29152\n",
       "Dan         16864\n",
       "Edith        8697\n",
       "Frank       16002\n",
       "George      10003\n",
       "Hannah      26605\n",
       "Ingrid      23008\n",
       "Jerry       29980\n",
       "Kevin       18291\n",
       "Laura       29101\n",
       "Michael     21620\n",
       "Norbert     22259\n",
       "Oliver      16627\n",
       "Patricia    20293\n",
       "Quinn       20768\n",
       "Ray         14014\n",
       "Sarah       30872\n",
       "Tim         13257\n",
       "Ursula       6935\n",
       "Victor      18961\n",
       "Wendy       22861\n",
       "Xavier      36352\n",
       "Yvonne      18380\n",
       "Zelda        8813\n",
       "Name: transaction-id, dtype: int64"
      ]
     },
     "execution_count": 30,
     "metadata": {},
     "output_type": "execute_result"
    }
   ],
   "source": [
    "%%time\n",
    "# number of transactions per name\n",
    "# note that the time here includes the data load and ingestion\n",
    "df.groupby('name')['transaction-id'].count().compute()"
   ]
  },
  {
   "cell_type": "markdown",
   "metadata": {},
   "source": [
    "## Limitations"
   ]
  },
  {
   "cell_type": "markdown",
   "metadata": {},
   "source": [
    "Bags provide very general computation (any Python function.)  This generality\n",
    "comes at cost.  Bags have the following known limitations\n",
    "\n",
    "1.  Bag operations tend to be slower than array/dataframe computations in the\n",
    "    same way that Python tends to be slower than NumPy/Pandas\n",
    "2.  ``Bag.groupby`` is slow.  You should try to use ``Bag.foldby`` if possible.\n",
    "    Using ``Bag.foldby`` requires more thought. Even better, consider creating\n",
    "    a normalised dataframe."
   ]
  },
  {
   "cell_type": "markdown",
   "metadata": {},
   "source": [
    "## Learn More\n",
    "\n",
    "* [Bag documentation](https://docs.dask.org/en/latest/bag.html)\n",
    "* [Bag screencast](https://youtu.be/-qIiJ1XtSv0)\n",
    "* [Bag API](https://docs.dask.org/en/latest/bag-api.html)\n",
    "* [Bag examples](https://examples.dask.org/bag.html)"
   ]
  },
  {
   "cell_type": "markdown",
   "metadata": {},
   "source": [
    "## Shutdown"
   ]
  },
  {
   "cell_type": "code",
   "execution_count": 31,
   "metadata": {},
   "outputs": [],
   "source": [
    "client.shutdown()"
   ]
  }
 ],
 "metadata": {
  "anaconda-cloud": {},
  "kernelspec": {
   "display_name": "Python 3",
   "language": "python",
   "name": "python3"
  },
  "language_info": {
   "codemirror_mode": {
    "name": "ipython",
    "version": 3
   },
   "file_extension": ".py",
   "mimetype": "text/x-python",
   "name": "python",
   "nbconvert_exporter": "python",
   "pygments_lexer": "ipython3",
   "version": "3.8.3"
  }
 },
 "nbformat": 4,
 "nbformat_minor": 4
}
