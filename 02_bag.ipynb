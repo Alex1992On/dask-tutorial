{
 "cells": [
  {
   "cell_type": "markdown",
   "metadata": {},
   "source": [
    "<img src=\"images/dask_horizontal.svg\" align=\"right\" width=\"30%\">"
   ]
  },
  {
   "cell_type": "markdown",
   "metadata": {},
   "source": [
    "# Bag: Parallel Lists for semi-structured data"
   ]
  },
  {
   "cell_type": "markdown",
   "metadata": {},
   "source": [
    "Dask-bag excels in processing data that can be represented as a sequence of arbitrary inputs. We'll refer to this as \"messy\" data, because it can contain complex nested structures, missing fields, mixtures of data types, etc. The *functional* programming style fits very nicely with standard Python iteration, such as can be found in the `itertools` module.\n",
    "\n",
    "Messy data is often encountered at the beginning of data processing pipelines when large volumes of raw data are first consumed. The initial set of data might be JSON, CSV, XML, or any other format that does not enforce strict structure and datatypes.\n",
    "For this reason, the initial data massaging and processing is often done with Python `list`s, `dict`s, and `set`s.\n",
    "\n",
    "These core data structures are optimized for general-purpose storage and processing.  Adding streaming computation with iterators/generator expressions or libraries like `itertools` or [`toolz`](https://toolz.readthedocs.io/en/latest/) let us process large volumes in a small space.  If we combine this with parallel processing then we can churn through a fair amount of data.\n",
    "\n",
    "Dask.bag is a high level Dask collection to automate common workloads of this form.  In a nutshell\n",
    "\n",
    "    dask.bag = map, filter, toolz + parallel execution\n",
    "    \n",
    "**Related Documentation**\n",
    "\n",
    "* [Bag documentation](https://docs.dask.org/en/latest/bag.html)\n",
    "* [Bag screencast](https://youtu.be/-qIiJ1XtSv0)\n",
    "* [Bag API](https://docs.dask.org/en/latest/bag-api.html)\n",
    "* [Bag examples](https://examples.dask.org/bag.html)"
   ]
  },
  {
   "cell_type": "markdown",
   "metadata": {},
   "source": [
    "## Create data"
   ]
  },
  {
   "cell_type": "code",
   "execution_count": 1,
   "metadata": {
    "execution": {
     "iopub.execute_input": "2020-09-11T12:41:10.954730Z",
     "iopub.status.busy": "2020-09-11T12:41:10.954136Z",
     "iopub.status.idle": "2020-09-11T12:41:11.489998Z",
     "shell.execute_reply": "2020-09-11T12:41:11.490767Z"
    }
   },
   "outputs": [],
   "source": [
    "%run prep.py -d accounts"
   ]
  },
  {
   "cell_type": "markdown",
   "metadata": {},
   "source": [
    "## Setup"
   ]
  },
  {
   "cell_type": "markdown",
   "metadata": {},
   "source": [
    "Again, we'll use the distributed scheduler. Schedulers will be explained in depth [later](05_distributed.ipynb)."
   ]
  },
  {
   "cell_type": "code",
   "execution_count": 2,
   "metadata": {
    "execution": {
     "iopub.execute_input": "2020-09-11T12:41:11.495601Z",
     "iopub.status.busy": "2020-09-11T12:41:11.494835Z",
     "iopub.status.idle": "2020-09-11T12:41:13.405240Z",
     "shell.execute_reply": "2020-09-11T12:41:13.405586Z"
    }
   },
   "outputs": [],
   "source": [
    "from dask.distributed import Client\n",
    "\n",
    "client = Client(n_workers=4)"
   ]
  },
  {
   "cell_type": "markdown",
   "metadata": {},
   "source": [
    "## Creation"
   ]
  },
  {
   "cell_type": "markdown",
   "metadata": {},
   "source": [
    "You can create a `Bag` from a Python sequence, from files, from data on S3, etc.\n",
    "We demonstrate using `.take()` to show elements of the data. (Doing `.take(1)` results in a tuple with one element)\n",
    "\n",
    "Note that the data are partitioned into blocks, and there are many items per block. In the first example, the two partitions contain five elements each, and in the following two, each file is partitioned into one or more bytes blocks."
   ]
  },
  {
   "cell_type": "code",
   "execution_count": 3,
   "metadata": {
    "execution": {
     "iopub.execute_input": "2020-09-11T12:41:13.410391Z",
     "iopub.status.busy": "2020-09-11T12:41:13.409557Z",
     "iopub.status.idle": "2020-09-11T12:41:13.452056Z",
     "shell.execute_reply": "2020-09-11T12:41:13.451518Z"
    }
   },
   "outputs": [
    {
     "data": {
      "text/plain": [
       "(1, 2, 3)"
      ]
     },
     "execution_count": 3,
     "metadata": {},
     "output_type": "execute_result"
    }
   ],
   "source": [
    "# each element is an integer\n",
    "import dask.bag as db\n",
    "b = db.from_sequence([1, 2, 3, 4, 5, 6, 7, 8, 9, 10], npartitions=2)\n",
    "b.take(3)"
   ]
  },
  {
   "cell_type": "code",
   "execution_count": 4,
   "metadata": {
    "execution": {
     "iopub.execute_input": "2020-09-11T12:41:13.456200Z",
     "iopub.status.busy": "2020-09-11T12:41:13.455524Z",
     "iopub.status.idle": "2020-09-11T12:41:13.483653Z",
     "shell.execute_reply": "2020-09-11T12:41:13.482628Z"
    }
   },
   "outputs": [
    {
     "data": {
      "text/plain": [
       "('{\"id\": 0, \"name\": \"Alice\", \"transactions\": [{\"transaction-id\": 11, \"amount\": 6129}, {\"transaction-id\": 59, \"amount\": 5960}, {\"transaction-id\": 502, \"amount\": 5685}, {\"transaction-id\": 621, \"amount\": 6004}, {\"transaction-id\": 921, \"amount\": 6357}, {\"transaction-id\": 1423, \"amount\": 5755}, {\"transaction-id\": 1971, \"amount\": 5997}, {\"transaction-id\": 2786, \"amount\": 6063}, {\"transaction-id\": 3677, \"amount\": 5715}, {\"transaction-id\": 4406, \"amount\": 5720}, {\"transaction-id\": 5310, \"amount\": 6455}, {\"transaction-id\": 5490, \"amount\": 5775}, {\"transaction-id\": 5762, \"amount\": 5805}, {\"transaction-id\": 5825, \"amount\": 6412}, {\"transaction-id\": 6257, \"amount\": 5575}, {\"transaction-id\": 7086, \"amount\": 6723}, {\"transaction-id\": 7371, \"amount\": 5973}, {\"transaction-id\": 7465, \"amount\": 5767}, {\"transaction-id\": 7488, \"amount\": 6048}, {\"transaction-id\": 9568, \"amount\": 5802}]}\\n',)"
      ]
     },
     "execution_count": 4,
     "metadata": {},
     "output_type": "execute_result"
    }
   ],
   "source": [
    "# each element is a text file, where each line is a JSON object\n",
    "# note that the compression is handled automatically\n",
    "import os\n",
    "b = db.read_text(os.path.join('data', 'accounts.*.json.gz'))\n",
    "b.take(1)"
   ]
  },
  {
   "cell_type": "code",
   "execution_count": 5,
   "metadata": {
    "execution": {
     "iopub.execute_input": "2020-09-11T12:41:13.487788Z",
     "iopub.status.busy": "2020-09-11T12:41:13.487207Z",
     "iopub.status.idle": "2020-09-11T12:41:13.492274Z",
     "shell.execute_reply": "2020-09-11T12:41:13.491832Z"
    }
   },
   "outputs": [
    {
     "data": {
      "text/plain": [
       "'s3://dask-data/nyc-taxi/2015/yellow_tripdata_2015-01.csv'"
      ]
     },
     "execution_count": 5,
     "metadata": {},
     "output_type": "execute_result"
    }
   ],
   "source": [
    "# Edit sources.py to configure source locations\n",
    "import sources\n",
    "sources.bag_url"
   ]
  },
  {
   "cell_type": "code",
   "execution_count": 6,
   "metadata": {
    "execution": {
     "iopub.execute_input": "2020-09-11T12:41:13.497245Z",
     "iopub.status.busy": "2020-09-11T12:41:13.495297Z",
     "iopub.status.idle": "2020-09-11T12:41:14.573494Z",
     "shell.execute_reply": "2020-09-11T12:41:14.573976Z"
    }
   },
   "outputs": [
    {
     "data": {
      "text/plain": [
       "('VendorID,tpep_pickup_datetime,tpep_dropoff_datetime,passenger_count,trip_distance,pickup_longitude,pickup_latitude,RateCodeID,store_and_fwd_flag,dropoff_longitude,dropoff_latitude,payment_type,fare_amount,extra,mta_tax,tip_amount,tolls_amount,improvement_surcharge,total_amount\\n',)"
      ]
     },
     "execution_count": 6,
     "metadata": {},
     "output_type": "execute_result"
    }
   ],
   "source": [
    "# Requires `s3fs` library\n",
    "# each partition is a remote CSV text file\n",
    "b = db.read_text(sources.bag_url,\n",
    "                 storage_options={'anon': True})\n",
    "b.take(1)"
   ]
  },
  {
   "cell_type": "markdown",
   "metadata": {},
   "source": [
    "## Manipulation"
   ]
  },
  {
   "cell_type": "markdown",
   "metadata": {},
   "source": [
    "`Bag` objects hold the standard functional API found in projects like the Python standard library, `toolz`, or `pyspark`, including `map`, `filter`, `groupby`, etc..\n",
    "\n",
    "Operations on `Bag` objects create new bags.  Call the `.compute()` method to trigger execution, as we saw for `Delayed` objects.  "
   ]
  },
  {
   "cell_type": "code",
   "execution_count": 7,
   "metadata": {
    "execution": {
     "iopub.execute_input": "2020-09-11T12:41:14.579385Z",
     "iopub.status.busy": "2020-09-11T12:41:14.578965Z",
     "iopub.status.idle": "2020-09-11T12:41:14.585009Z",
     "shell.execute_reply": "2020-09-11T12:41:14.584464Z"
    }
   },
   "outputs": [
    {
     "data": {
      "text/plain": [
       "dask.bag<lambda, npartitions=10>"
      ]
     },
     "execution_count": 7,
     "metadata": {},
     "output_type": "execute_result"
    }
   ],
   "source": [
    "def is_even(n):\n",
    "    return n % 2 == 0\n",
    "\n",
    "b = db.from_sequence([1, 2, 3, 4, 5, 6, 7, 8, 9, 10])\n",
    "c = b.filter(is_even).map(lambda x: x ** 2)\n",
    "c"
   ]
  },
  {
   "cell_type": "code",
   "execution_count": 8,
   "metadata": {
    "execution": {
     "iopub.execute_input": "2020-09-11T12:41:14.594851Z",
     "iopub.status.busy": "2020-09-11T12:41:14.594420Z",
     "iopub.status.idle": "2020-09-11T12:41:14.677217Z",
     "shell.execute_reply": "2020-09-11T12:41:14.676448Z"
    }
   },
   "outputs": [
    {
     "data": {
      "text/plain": [
       "[4, 16, 36, 64, 100]"
      ]
     },
     "execution_count": 8,
     "metadata": {},
     "output_type": "execute_result"
    }
   ],
   "source": [
    "# blocking form: wait for completion (which is very fast in this case)\n",
    "c.compute()"
   ]
  },
  {
   "cell_type": "markdown",
   "metadata": {},
   "source": [
    "### Example: Accounts JSON data"
   ]
  },
  {
   "cell_type": "markdown",
   "metadata": {},
   "source": [
    "We've created a fake dataset of gzipped JSON data in your data directory.  This is like the example used in the `DataFrame` example we will see later, except that it has bundled up all of the entires for each individual `id` into a single record.  This is similar to data that you might collect off of a document store database or a web API.\n",
    "\n",
    "Each line is a JSON encoded dictionary with the following keys\n",
    "\n",
    "*  id: Unique identifier of the customer\n",
    "*  name: Name of the customer\n",
    "*  transactions: List of `transaction-id`, `amount` pairs, one for each transaction for the customer in that file"
   ]
  },
  {
   "cell_type": "code",
   "execution_count": 9,
   "metadata": {
    "execution": {
     "iopub.execute_input": "2020-09-11T12:41:14.681211Z",
     "iopub.status.busy": "2020-09-11T12:41:14.680550Z",
     "iopub.status.idle": "2020-09-11T12:41:14.706450Z",
     "shell.execute_reply": "2020-09-11T12:41:14.707062Z"
    }
   },
   "outputs": [
    {
     "data": {
      "text/plain": [
       "('{\"id\": 0, \"name\": \"Alice\", \"transactions\": [{\"transaction-id\": 11, \"amount\": 6129}, {\"transaction-id\": 59, \"amount\": 5960}, {\"transaction-id\": 502, \"amount\": 5685}, {\"transaction-id\": 621, \"amount\": 6004}, {\"transaction-id\": 921, \"amount\": 6357}, {\"transaction-id\": 1423, \"amount\": 5755}, {\"transaction-id\": 1971, \"amount\": 5997}, {\"transaction-id\": 2786, \"amount\": 6063}, {\"transaction-id\": 3677, \"amount\": 5715}, {\"transaction-id\": 4406, \"amount\": 5720}, {\"transaction-id\": 5310, \"amount\": 6455}, {\"transaction-id\": 5490, \"amount\": 5775}, {\"transaction-id\": 5762, \"amount\": 5805}, {\"transaction-id\": 5825, \"amount\": 6412}, {\"transaction-id\": 6257, \"amount\": 5575}, {\"transaction-id\": 7086, \"amount\": 6723}, {\"transaction-id\": 7371, \"amount\": 5973}, {\"transaction-id\": 7465, \"amount\": 5767}, {\"transaction-id\": 7488, \"amount\": 6048}, {\"transaction-id\": 9568, \"amount\": 5802}]}\\n',\n",
       " '{\"id\": 1, \"name\": \"Frank\", \"transactions\": [{\"transaction-id\": 114, \"amount\": -548}, {\"transaction-id\": 1497, \"amount\": -222}, {\"transaction-id\": 1556, \"amount\": 137}, {\"transaction-id\": 2044, \"amount\": -204}, {\"transaction-id\": 2216, \"amount\": -214}, {\"transaction-id\": 3160, \"amount\": -249}, {\"transaction-id\": 3843, \"amount\": -232}, {\"transaction-id\": 4509, \"amount\": -195}, {\"transaction-id\": 5157, \"amount\": -244}, {\"transaction-id\": 6504, \"amount\": -367}, {\"transaction-id\": 8587, \"amount\": -394}, {\"transaction-id\": 8616, \"amount\": -334}, {\"transaction-id\": 9440, \"amount\": -97}, {\"transaction-id\": 9898, \"amount\": -126}]}\\n',\n",
       " '{\"id\": 2, \"name\": \"Frank\", \"transactions\": [{\"transaction-id\": 277, \"amount\": -33}, {\"transaction-id\": 1306, \"amount\": -118}, {\"transaction-id\": 2391, \"amount\": -171}, {\"transaction-id\": 3828, \"amount\": -94}, {\"transaction-id\": 3997, \"amount\": -154}, {\"transaction-id\": 4057, \"amount\": -108}, {\"transaction-id\": 5130, \"amount\": -4}, {\"transaction-id\": 6165, \"amount\": -235}, {\"transaction-id\": 7094, \"amount\": -48}, {\"transaction-id\": 7360, \"amount\": -178}, {\"transaction-id\": 7537, \"amount\": -117}, {\"transaction-id\": 7901, \"amount\": -87}, {\"transaction-id\": 8173, \"amount\": -80}, {\"transaction-id\": 8776, \"amount\": -122}, {\"transaction-id\": 9318, \"amount\": -94}]}\\n')"
      ]
     },
     "execution_count": 9,
     "metadata": {},
     "output_type": "execute_result"
    }
   ],
   "source": [
    "filename = os.path.join('data', 'accounts.*.json.gz')\n",
    "lines = db.read_text(filename)\n",
    "lines.take(3)"
   ]
  },
  {
   "cell_type": "markdown",
   "metadata": {},
   "source": [
    "Our data comes out of the file as lines of text. Notice that file decompression happened automatically. We can make this data look more reasonable by mapping the `json.loads` function onto our bag."
   ]
  },
  {
   "cell_type": "code",
   "execution_count": 10,
   "metadata": {
    "execution": {
     "iopub.execute_input": "2020-09-11T12:41:14.712681Z",
     "iopub.status.busy": "2020-09-11T12:41:14.712016Z",
     "iopub.status.idle": "2020-09-11T12:41:14.733320Z",
     "shell.execute_reply": "2020-09-11T12:41:14.732805Z"
    }
   },
   "outputs": [
    {
     "data": {
      "text/plain": [
       "({'id': 0,\n",
       "  'name': 'Alice',\n",
       "  'transactions': [{'transaction-id': 11, 'amount': 6129},\n",
       "   {'transaction-id': 59, 'amount': 5960},\n",
       "   {'transaction-id': 502, 'amount': 5685},\n",
       "   {'transaction-id': 621, 'amount': 6004},\n",
       "   {'transaction-id': 921, 'amount': 6357},\n",
       "   {'transaction-id': 1423, 'amount': 5755},\n",
       "   {'transaction-id': 1971, 'amount': 5997},\n",
       "   {'transaction-id': 2786, 'amount': 6063},\n",
       "   {'transaction-id': 3677, 'amount': 5715},\n",
       "   {'transaction-id': 4406, 'amount': 5720},\n",
       "   {'transaction-id': 5310, 'amount': 6455},\n",
       "   {'transaction-id': 5490, 'amount': 5775},\n",
       "   {'transaction-id': 5762, 'amount': 5805},\n",
       "   {'transaction-id': 5825, 'amount': 6412},\n",
       "   {'transaction-id': 6257, 'amount': 5575},\n",
       "   {'transaction-id': 7086, 'amount': 6723},\n",
       "   {'transaction-id': 7371, 'amount': 5973},\n",
       "   {'transaction-id': 7465, 'amount': 5767},\n",
       "   {'transaction-id': 7488, 'amount': 6048},\n",
       "   {'transaction-id': 9568, 'amount': 5802}]},\n",
       " {'id': 1,\n",
       "  'name': 'Frank',\n",
       "  'transactions': [{'transaction-id': 114, 'amount': -548},\n",
       "   {'transaction-id': 1497, 'amount': -222},\n",
       "   {'transaction-id': 1556, 'amount': 137},\n",
       "   {'transaction-id': 2044, 'amount': -204},\n",
       "   {'transaction-id': 2216, 'amount': -214},\n",
       "   {'transaction-id': 3160, 'amount': -249},\n",
       "   {'transaction-id': 3843, 'amount': -232},\n",
       "   {'transaction-id': 4509, 'amount': -195},\n",
       "   {'transaction-id': 5157, 'amount': -244},\n",
       "   {'transaction-id': 6504, 'amount': -367},\n",
       "   {'transaction-id': 8587, 'amount': -394},\n",
       "   {'transaction-id': 8616, 'amount': -334},\n",
       "   {'transaction-id': 9440, 'amount': -97},\n",
       "   {'transaction-id': 9898, 'amount': -126}]},\n",
       " {'id': 2,\n",
       "  'name': 'Frank',\n",
       "  'transactions': [{'transaction-id': 277, 'amount': -33},\n",
       "   {'transaction-id': 1306, 'amount': -118},\n",
       "   {'transaction-id': 2391, 'amount': -171},\n",
       "   {'transaction-id': 3828, 'amount': -94},\n",
       "   {'transaction-id': 3997, 'amount': -154},\n",
       "   {'transaction-id': 4057, 'amount': -108},\n",
       "   {'transaction-id': 5130, 'amount': -4},\n",
       "   {'transaction-id': 6165, 'amount': -235},\n",
       "   {'transaction-id': 7094, 'amount': -48},\n",
       "   {'transaction-id': 7360, 'amount': -178},\n",
       "   {'transaction-id': 7537, 'amount': -117},\n",
       "   {'transaction-id': 7901, 'amount': -87},\n",
       "   {'transaction-id': 8173, 'amount': -80},\n",
       "   {'transaction-id': 8776, 'amount': -122},\n",
       "   {'transaction-id': 9318, 'amount': -94}]})"
      ]
     },
     "execution_count": 10,
     "metadata": {},
     "output_type": "execute_result"
    }
   ],
   "source": [
    "import json\n",
    "js = lines.map(json.loads)\n",
    "# take: inspect first few elements\n",
    "js.take(3)"
   ]
  },
  {
   "cell_type": "markdown",
   "metadata": {},
   "source": [
    "### Basic Queries"
   ]
  },
  {
   "cell_type": "markdown",
   "metadata": {},
   "source": [
    "Once we parse our JSON data into proper Python objects (`dict`s, `list`s, etc.) we can perform more interesting queries by creating small Python functions to run on our data."
   ]
  },
  {
   "cell_type": "code",
   "execution_count": 11,
   "metadata": {
    "execution": {
     "iopub.execute_input": "2020-09-11T12:41:14.738632Z",
     "iopub.status.busy": "2020-09-11T12:41:14.737954Z",
     "iopub.status.idle": "2020-09-11T12:41:14.767770Z",
     "shell.execute_reply": "2020-09-11T12:41:14.768418Z"
    }
   },
   "outputs": [
    {
     "data": {
      "text/plain": [
       "({'id': 0,\n",
       "  'name': 'Alice',\n",
       "  'transactions': [{'transaction-id': 11, 'amount': 6129},\n",
       "   {'transaction-id': 59, 'amount': 5960},\n",
       "   {'transaction-id': 502, 'amount': 5685},\n",
       "   {'transaction-id': 621, 'amount': 6004},\n",
       "   {'transaction-id': 921, 'amount': 6357},\n",
       "   {'transaction-id': 1423, 'amount': 5755},\n",
       "   {'transaction-id': 1971, 'amount': 5997},\n",
       "   {'transaction-id': 2786, 'amount': 6063},\n",
       "   {'transaction-id': 3677, 'amount': 5715},\n",
       "   {'transaction-id': 4406, 'amount': 5720},\n",
       "   {'transaction-id': 5310, 'amount': 6455},\n",
       "   {'transaction-id': 5490, 'amount': 5775},\n",
       "   {'transaction-id': 5762, 'amount': 5805},\n",
       "   {'transaction-id': 5825, 'amount': 6412},\n",
       "   {'transaction-id': 6257, 'amount': 5575},\n",
       "   {'transaction-id': 7086, 'amount': 6723},\n",
       "   {'transaction-id': 7371, 'amount': 5973},\n",
       "   {'transaction-id': 7465, 'amount': 5767},\n",
       "   {'transaction-id': 7488, 'amount': 6048},\n",
       "   {'transaction-id': 9568, 'amount': 5802}]},\n",
       " {'id': 5,\n",
       "  'name': 'Alice',\n",
       "  'transactions': [{'transaction-id': 188, 'amount': 331},\n",
       "   {'transaction-id': 244, 'amount': 388},\n",
       "   {'transaction-id': 343, 'amount': 386},\n",
       "   {'transaction-id': 453, 'amount': 341},\n",
       "   {'transaction-id': 924, 'amount': 419},\n",
       "   {'transaction-id': 1015, 'amount': 353},\n",
       "   {'transaction-id': 1156, 'amount': 421},\n",
       "   {'transaction-id': 2255, 'amount': 428},\n",
       "   {'transaction-id': 2824, 'amount': 445},\n",
       "   {'transaction-id': 3045, 'amount': 406},\n",
       "   {'transaction-id': 3088, 'amount': 436},\n",
       "   {'transaction-id': 3095, 'amount': 369},\n",
       "   {'transaction-id': 3112, 'amount': 401},\n",
       "   {'transaction-id': 3565, 'amount': 408},\n",
       "   {'transaction-id': 4626, 'amount': 389},\n",
       "   {'transaction-id': 4777, 'amount': 401},\n",
       "   {'transaction-id': 4955, 'amount': 352},\n",
       "   {'transaction-id': 5140, 'amount': 384},\n",
       "   {'transaction-id': 5965, 'amount': 382},\n",
       "   {'transaction-id': 6182, 'amount': 344},\n",
       "   {'transaction-id': 6354, 'amount': 422},\n",
       "   {'transaction-id': 6605, 'amount': 296},\n",
       "   {'transaction-id': 7021, 'amount': 356},\n",
       "   {'transaction-id': 7384, 'amount': 397},\n",
       "   {'transaction-id': 7428, 'amount': 323},\n",
       "   {'transaction-id': 7498, 'amount': 323},\n",
       "   {'transaction-id': 7854, 'amount': 356},\n",
       "   {'transaction-id': 7952, 'amount': 436},\n",
       "   {'transaction-id': 8112, 'amount': 390},\n",
       "   {'transaction-id': 8200, 'amount': 305},\n",
       "   {'transaction-id': 8279, 'amount': 394},\n",
       "   {'transaction-id': 8538, 'amount': 471},\n",
       "   {'transaction-id': 8999, 'amount': 406},\n",
       "   {'transaction-id': 9109, 'amount': 440},\n",
       "   {'transaction-id': 9272, 'amount': 457},\n",
       "   {'transaction-id': 9301, 'amount': 458},\n",
       "   {'transaction-id': 9359, 'amount': 390},\n",
       "   {'transaction-id': 9433, 'amount': 313},\n",
       "   {'transaction-id': 9471, 'amount': 443},\n",
       "   {'transaction-id': 9606, 'amount': 379},\n",
       "   {'transaction-id': 9811, 'amount': 416},\n",
       "   {'transaction-id': 9933, 'amount': 477}]},\n",
       " {'id': 45,\n",
       "  'name': 'Alice',\n",
       "  'transactions': [{'transaction-id': 413, 'amount': 212},\n",
       "   {'transaction-id': 434, 'amount': 220},\n",
       "   {'transaction-id': 535, 'amount': 228},\n",
       "   {'transaction-id': 739, 'amount': 223},\n",
       "   {'transaction-id': 885, 'amount': 217},\n",
       "   {'transaction-id': 1453, 'amount': 248},\n",
       "   {'transaction-id': 1760, 'amount': 229},\n",
       "   {'transaction-id': 2001, 'amount': 221},\n",
       "   {'transaction-id': 2137, 'amount': 221},\n",
       "   {'transaction-id': 2818, 'amount': 233},\n",
       "   {'transaction-id': 3005, 'amount': 246},\n",
       "   {'transaction-id': 3161, 'amount': 238},\n",
       "   {'transaction-id': 3572, 'amount': 242},\n",
       "   {'transaction-id': 3909, 'amount': 222},\n",
       "   {'transaction-id': 4073, 'amount': 246},\n",
       "   {'transaction-id': 4119, 'amount': 237},\n",
       "   {'transaction-id': 4734, 'amount': 262},\n",
       "   {'transaction-id': 6971, 'amount': 246},\n",
       "   {'transaction-id': 7009, 'amount': 248},\n",
       "   {'transaction-id': 7297, 'amount': 219},\n",
       "   {'transaction-id': 7432, 'amount': 242},\n",
       "   {'transaction-id': 7485, 'amount': 238},\n",
       "   {'transaction-id': 7599, 'amount': 222},\n",
       "   {'transaction-id': 8534, 'amount': 224},\n",
       "   {'transaction-id': 8679, 'amount': 184},\n",
       "   {'transaction-id': 8761, 'amount': 234},\n",
       "   {'transaction-id': 8765, 'amount': 215},\n",
       "   {'transaction-id': 9239, 'amount': 235},\n",
       "   {'transaction-id': 9436, 'amount': 211}]},\n",
       " {'id': 66,\n",
       "  'name': 'Alice',\n",
       "  'transactions': [{'transaction-id': 890, 'amount': -188},\n",
       "   {'transaction-id': 6045, 'amount': -160},\n",
       "   {'transaction-id': 8264, 'amount': -92},\n",
       "   {'transaction-id': 8602, 'amount': -88},\n",
       "   {'transaction-id': 8879, 'amount': -172},\n",
       "   {'transaction-id': 9773, 'amount': -197}]},\n",
       " {'id': 104,\n",
       "  'name': 'Alice',\n",
       "  'transactions': [{'transaction-id': 3685, 'amount': 8564},\n",
       "   {'transaction-id': 4320, 'amount': 8756},\n",
       "   {'transaction-id': 5853, 'amount': 8382},\n",
       "   {'transaction-id': 5915, 'amount': 8485},\n",
       "   {'transaction-id': 7500, 'amount': 8845},\n",
       "   {'transaction-id': 7613, 'amount': 8315}]})"
      ]
     },
     "execution_count": 11,
     "metadata": {},
     "output_type": "execute_result"
    }
   ],
   "source": [
    "# filter: keep only some elements of the sequence\n",
    "js.filter(lambda record: record['name'] == 'Alice').take(5)"
   ]
  },
  {
   "cell_type": "code",
   "execution_count": 12,
   "metadata": {
    "execution": {
     "iopub.execute_input": "2020-09-11T12:41:14.775101Z",
     "iopub.status.busy": "2020-09-11T12:41:14.774509Z",
     "iopub.status.idle": "2020-09-11T12:41:14.793988Z",
     "shell.execute_reply": "2020-09-11T12:41:14.794928Z"
    }
   },
   "outputs": [
    {
     "data": {
      "text/plain": [
       "({'name': 'Alice', 'count': 20},\n",
       " {'name': 'Alice', 'count': 42},\n",
       " {'name': 'Alice', 'count': 29},\n",
       " {'name': 'Alice', 'count': 6},\n",
       " {'name': 'Alice', 'count': 6})"
      ]
     },
     "execution_count": 12,
     "metadata": {},
     "output_type": "execute_result"
    }
   ],
   "source": [
    "def count_transactions(d):\n",
    "    return {'name': d['name'], 'count': len(d['transactions'])}\n",
    "\n",
    "# map: apply a function to each element\n",
    "(js.filter(lambda record: record['name'] == 'Alice')\n",
    "   .map(count_transactions)\n",
    "   .take(5))"
   ]
  },
  {
   "cell_type": "code",
   "execution_count": 13,
   "metadata": {
    "execution": {
     "iopub.execute_input": "2020-09-11T12:41:14.800992Z",
     "iopub.status.busy": "2020-09-11T12:41:14.800328Z",
     "iopub.status.idle": "2020-09-11T12:41:14.818033Z",
     "shell.execute_reply": "2020-09-11T12:41:14.817657Z"
    }
   },
   "outputs": [
    {
     "data": {
      "text/plain": [
       "(20, 42, 29, 6, 6)"
      ]
     },
     "execution_count": 13,
     "metadata": {},
     "output_type": "execute_result"
    }
   ],
   "source": [
    "# pluck: select a field, as from a dictionary, element[field]\n",
    "(js.filter(lambda record: record['name'] == 'Alice')\n",
    "   .map(count_transactions)\n",
    "   .pluck('count')\n",
    "   .take(5))"
   ]
  },
  {
   "cell_type": "code",
   "execution_count": 14,
   "metadata": {
    "execution": {
     "iopub.execute_input": "2020-09-11T12:41:14.843295Z",
     "iopub.status.busy": "2020-09-11T12:41:14.841285Z",
     "iopub.status.idle": "2020-09-11T12:41:15.372289Z",
     "shell.execute_reply": "2020-09-11T12:41:15.371822Z"
    }
   },
   "outputs": [
    {
     "data": {
      "text/plain": [
       "27.402"
      ]
     },
     "execution_count": 14,
     "metadata": {},
     "output_type": "execute_result"
    }
   ],
   "source": [
    "# Average number of transactions for all of the Alice entries\n",
    "(js.filter(lambda record: record['name'] == 'Alice')\n",
    "   .map(count_transactions)\n",
    "   .pluck('count')\n",
    "   .mean()\n",
    "   .compute())"
   ]
  },
  {
   "cell_type": "markdown",
   "metadata": {},
   "source": [
    "### Use `flatten` to de-nest"
   ]
  },
  {
   "cell_type": "markdown",
   "metadata": {},
   "source": [
    "In the example below we see the use of `.flatten()` to flatten results.  We compute the average amount for all transactions for all Alices."
   ]
  },
  {
   "cell_type": "code",
   "execution_count": 15,
   "metadata": {
    "execution": {
     "iopub.execute_input": "2020-09-11T12:41:15.374802Z",
     "iopub.status.busy": "2020-09-11T12:41:15.374196Z",
     "iopub.status.idle": "2020-09-11T12:41:15.401304Z",
     "shell.execute_reply": "2020-09-11T12:41:15.401714Z"
    }
   },
   "outputs": [
    {
     "data": {
      "text/plain": [
       "([{'transaction-id': 11, 'amount': 6129},\n",
       "  {'transaction-id': 59, 'amount': 5960},\n",
       "  {'transaction-id': 502, 'amount': 5685},\n",
       "  {'transaction-id': 621, 'amount': 6004},\n",
       "  {'transaction-id': 921, 'amount': 6357},\n",
       "  {'transaction-id': 1423, 'amount': 5755},\n",
       "  {'transaction-id': 1971, 'amount': 5997},\n",
       "  {'transaction-id': 2786, 'amount': 6063},\n",
       "  {'transaction-id': 3677, 'amount': 5715},\n",
       "  {'transaction-id': 4406, 'amount': 5720},\n",
       "  {'transaction-id': 5310, 'amount': 6455},\n",
       "  {'transaction-id': 5490, 'amount': 5775},\n",
       "  {'transaction-id': 5762, 'amount': 5805},\n",
       "  {'transaction-id': 5825, 'amount': 6412},\n",
       "  {'transaction-id': 6257, 'amount': 5575},\n",
       "  {'transaction-id': 7086, 'amount': 6723},\n",
       "  {'transaction-id': 7371, 'amount': 5973},\n",
       "  {'transaction-id': 7465, 'amount': 5767},\n",
       "  {'transaction-id': 7488, 'amount': 6048},\n",
       "  {'transaction-id': 9568, 'amount': 5802}],\n",
       " [{'transaction-id': 188, 'amount': 331},\n",
       "  {'transaction-id': 244, 'amount': 388},\n",
       "  {'transaction-id': 343, 'amount': 386},\n",
       "  {'transaction-id': 453, 'amount': 341},\n",
       "  {'transaction-id': 924, 'amount': 419},\n",
       "  {'transaction-id': 1015, 'amount': 353},\n",
       "  {'transaction-id': 1156, 'amount': 421},\n",
       "  {'transaction-id': 2255, 'amount': 428},\n",
       "  {'transaction-id': 2824, 'amount': 445},\n",
       "  {'transaction-id': 3045, 'amount': 406},\n",
       "  {'transaction-id': 3088, 'amount': 436},\n",
       "  {'transaction-id': 3095, 'amount': 369},\n",
       "  {'transaction-id': 3112, 'amount': 401},\n",
       "  {'transaction-id': 3565, 'amount': 408},\n",
       "  {'transaction-id': 4626, 'amount': 389},\n",
       "  {'transaction-id': 4777, 'amount': 401},\n",
       "  {'transaction-id': 4955, 'amount': 352},\n",
       "  {'transaction-id': 5140, 'amount': 384},\n",
       "  {'transaction-id': 5965, 'amount': 382},\n",
       "  {'transaction-id': 6182, 'amount': 344},\n",
       "  {'transaction-id': 6354, 'amount': 422},\n",
       "  {'transaction-id': 6605, 'amount': 296},\n",
       "  {'transaction-id': 7021, 'amount': 356},\n",
       "  {'transaction-id': 7384, 'amount': 397},\n",
       "  {'transaction-id': 7428, 'amount': 323},\n",
       "  {'transaction-id': 7498, 'amount': 323},\n",
       "  {'transaction-id': 7854, 'amount': 356},\n",
       "  {'transaction-id': 7952, 'amount': 436},\n",
       "  {'transaction-id': 8112, 'amount': 390},\n",
       "  {'transaction-id': 8200, 'amount': 305},\n",
       "  {'transaction-id': 8279, 'amount': 394},\n",
       "  {'transaction-id': 8538, 'amount': 471},\n",
       "  {'transaction-id': 8999, 'amount': 406},\n",
       "  {'transaction-id': 9109, 'amount': 440},\n",
       "  {'transaction-id': 9272, 'amount': 457},\n",
       "  {'transaction-id': 9301, 'amount': 458},\n",
       "  {'transaction-id': 9359, 'amount': 390},\n",
       "  {'transaction-id': 9433, 'amount': 313},\n",
       "  {'transaction-id': 9471, 'amount': 443},\n",
       "  {'transaction-id': 9606, 'amount': 379},\n",
       "  {'transaction-id': 9811, 'amount': 416},\n",
       "  {'transaction-id': 9933, 'amount': 477}],\n",
       " [{'transaction-id': 413, 'amount': 212},\n",
       "  {'transaction-id': 434, 'amount': 220},\n",
       "  {'transaction-id': 535, 'amount': 228},\n",
       "  {'transaction-id': 739, 'amount': 223},\n",
       "  {'transaction-id': 885, 'amount': 217},\n",
       "  {'transaction-id': 1453, 'amount': 248},\n",
       "  {'transaction-id': 1760, 'amount': 229},\n",
       "  {'transaction-id': 2001, 'amount': 221},\n",
       "  {'transaction-id': 2137, 'amount': 221},\n",
       "  {'transaction-id': 2818, 'amount': 233},\n",
       "  {'transaction-id': 3005, 'amount': 246},\n",
       "  {'transaction-id': 3161, 'amount': 238},\n",
       "  {'transaction-id': 3572, 'amount': 242},\n",
       "  {'transaction-id': 3909, 'amount': 222},\n",
       "  {'transaction-id': 4073, 'amount': 246},\n",
       "  {'transaction-id': 4119, 'amount': 237},\n",
       "  {'transaction-id': 4734, 'amount': 262},\n",
       "  {'transaction-id': 6971, 'amount': 246},\n",
       "  {'transaction-id': 7009, 'amount': 248},\n",
       "  {'transaction-id': 7297, 'amount': 219},\n",
       "  {'transaction-id': 7432, 'amount': 242},\n",
       "  {'transaction-id': 7485, 'amount': 238},\n",
       "  {'transaction-id': 7599, 'amount': 222},\n",
       "  {'transaction-id': 8534, 'amount': 224},\n",
       "  {'transaction-id': 8679, 'amount': 184},\n",
       "  {'transaction-id': 8761, 'amount': 234},\n",
       "  {'transaction-id': 8765, 'amount': 215},\n",
       "  {'transaction-id': 9239, 'amount': 235},\n",
       "  {'transaction-id': 9436, 'amount': 211}])"
      ]
     },
     "execution_count": 15,
     "metadata": {},
     "output_type": "execute_result"
    }
   ],
   "source": [
    "js.filter(lambda record: record['name'] == 'Alice').pluck('transactions').take(3)"
   ]
  },
  {
   "cell_type": "code",
   "execution_count": 16,
   "metadata": {
    "execution": {
     "iopub.execute_input": "2020-09-11T12:41:15.407102Z",
     "iopub.status.busy": "2020-09-11T12:41:15.406471Z",
     "iopub.status.idle": "2020-09-11T12:41:15.427484Z",
     "shell.execute_reply": "2020-09-11T12:41:15.426777Z"
    }
   },
   "outputs": [
    {
     "data": {
      "text/plain": [
       "({'transaction-id': 11, 'amount': 6129},\n",
       " {'transaction-id': 59, 'amount': 5960},\n",
       " {'transaction-id': 502, 'amount': 5685})"
      ]
     },
     "execution_count": 16,
     "metadata": {},
     "output_type": "execute_result"
    }
   ],
   "source": [
    "(js.filter(lambda record: record['name'] == 'Alice')\n",
    "   .pluck('transactions')\n",
    "   .flatten()\n",
    "   .take(3))"
   ]
  },
  {
   "cell_type": "code",
   "execution_count": 17,
   "metadata": {
    "execution": {
     "iopub.execute_input": "2020-09-11T12:41:15.432750Z",
     "iopub.status.busy": "2020-09-11T12:41:15.432225Z",
     "iopub.status.idle": "2020-09-11T12:41:15.449954Z",
     "shell.execute_reply": "2020-09-11T12:41:15.449609Z"
    }
   },
   "outputs": [
    {
     "data": {
      "text/plain": [
       "(6129, 5960, 5685)"
      ]
     },
     "execution_count": 17,
     "metadata": {},
     "output_type": "execute_result"
    }
   ],
   "source": [
    "(js.filter(lambda record: record['name'] == 'Alice')\n",
    "   .pluck('transactions')\n",
    "   .flatten()\n",
    "   .pluck('amount')\n",
    "   .take(3))"
   ]
  },
  {
   "cell_type": "code",
   "execution_count": 18,
   "metadata": {
    "execution": {
     "iopub.execute_input": "2020-09-11T12:41:15.463315Z",
     "iopub.status.busy": "2020-09-11T12:41:15.462905Z",
     "iopub.status.idle": "2020-09-11T12:41:15.982035Z",
     "shell.execute_reply": "2020-09-11T12:41:15.982547Z"
    }
   },
   "outputs": [
    {
     "data": {
      "text/plain": [
       "1732.4980658346105"
      ]
     },
     "execution_count": 18,
     "metadata": {},
     "output_type": "execute_result"
    }
   ],
   "source": [
    "(js.filter(lambda record: record['name'] == 'Alice')\n",
    "   .pluck('transactions')\n",
    "   .flatten()\n",
    "   .pluck('amount')\n",
    "   .mean()\n",
    "   .compute())"
   ]
  },
  {
   "cell_type": "markdown",
   "metadata": {},
   "source": [
    "### Groupby and Foldby"
   ]
  },
  {
   "cell_type": "markdown",
   "metadata": {},
   "source": [
    "Often we want to group data by some function or key.  We can do this either with the `.groupby` method, which is straightforward but forces a full shuffle of the data (expensive) or with the harder-to-use but faster `.foldby` method, which does a streaming combined groupby and reduction.\n",
    "\n",
    "*  `groupby`:  Shuffles data so that all items with the same key are in the same key-value pair\n",
    "*  `foldby`:  Walks through the data accumulating a result per key\n",
    "\n",
    "*Note: the full groupby is particularly bad. In actual workloads you would do well to use `foldby` or switch to `DataFrame`s if possible.*"
   ]
  },
  {
   "cell_type": "markdown",
   "metadata": {},
   "source": [
    "### `groupby`"
   ]
  },
  {
   "cell_type": "markdown",
   "metadata": {},
   "source": [
    "Groupby collects items in your collection so that all items with the same value under some function are collected together into a key-value pair."
   ]
  },
  {
   "cell_type": "code",
   "execution_count": 19,
   "metadata": {
    "execution": {
     "iopub.execute_input": "2020-09-11T12:41:15.994565Z",
     "iopub.status.busy": "2020-09-11T12:41:15.993929Z",
     "iopub.status.idle": "2020-09-11T12:41:16.089998Z",
     "shell.execute_reply": "2020-09-11T12:41:16.089557Z"
    }
   },
   "outputs": [
    {
     "data": {
      "text/plain": [
       "[(7, ['Charlie']), (3, ['Bob', 'Dan']), (5, ['Alice', 'Edith', 'Frank'])]"
      ]
     },
     "execution_count": 19,
     "metadata": {},
     "output_type": "execute_result"
    }
   ],
   "source": [
    "b = db.from_sequence(['Alice', 'Bob', 'Charlie', 'Dan', 'Edith', 'Frank'])\n",
    "b.groupby(len).compute()  # names grouped by length"
   ]
  },
  {
   "cell_type": "code",
   "execution_count": 20,
   "metadata": {
    "execution": {
     "iopub.execute_input": "2020-09-11T12:41:16.101756Z",
     "iopub.status.busy": "2020-09-11T12:41:16.101111Z",
     "iopub.status.idle": "2020-09-11T12:41:16.259514Z",
     "shell.execute_reply": "2020-09-11T12:41:16.259129Z"
    }
   },
   "outputs": [
    {
     "data": {
      "text/plain": [
       "[(0, [0, 2, 4, 6, 8]), (1, [1, 3, 5, 7, 9])]"
      ]
     },
     "execution_count": 20,
     "metadata": {},
     "output_type": "execute_result"
    }
   ],
   "source": [
    "b = db.from_sequence(list(range(10)))\n",
    "b.groupby(lambda x: x % 2).compute()"
   ]
  },
  {
   "cell_type": "code",
   "execution_count": 21,
   "metadata": {
    "execution": {
     "iopub.execute_input": "2020-09-11T12:41:16.262146Z",
     "iopub.status.busy": "2020-09-11T12:41:16.261736Z",
     "iopub.status.idle": "2020-09-11T12:41:16.455613Z",
     "shell.execute_reply": "2020-09-11T12:41:16.456055Z"
    }
   },
   "outputs": [
    {
     "data": {
      "text/plain": [
       "[(0, 8), (1, 9)]"
      ]
     },
     "execution_count": 21,
     "metadata": {},
     "output_type": "execute_result"
    }
   ],
   "source": [
    "b.groupby(lambda x: x % 2).starmap(lambda k, v: (k, max(v))).compute()"
   ]
  },
  {
   "cell_type": "markdown",
   "metadata": {},
   "source": [
    "### `foldby`"
   ]
  },
  {
   "cell_type": "markdown",
   "metadata": {},
   "source": [
    "Foldby can be quite odd at first.  It is similar to the following functions from other libraries:\n",
    "\n",
    "*  [`toolz.reduceby`](http://toolz.readthedocs.io/en/latest/streaming-analytics.html#streaming-split-apply-combine)\n",
    "*  [`pyspark.RDD.combineByKey`](http://abshinn.github.io/python/apache-spark/2014/10/11/using-combinebykey-in-apache-spark/)\n",
    "\n",
    "When using `foldby` you provide \n",
    "\n",
    "1.  A key function on which to group elements\n",
    "2.  A binary operator such as you would pass to `reduce` that you use to perform reduction per each group\n",
    "3.  A combine binary operator that can combine the results of two `reduce` calls on different parts of your dataset.\n",
    "\n",
    "Your reduction must be associative.  It will happen in parallel in each of the partitions of your dataset.  Then all of these intermediate results will be combined by the `combine` binary operator."
   ]
  },
  {
   "cell_type": "code",
   "execution_count": 22,
   "metadata": {
    "execution": {
     "iopub.execute_input": "2020-09-11T12:41:16.462028Z",
     "iopub.status.busy": "2020-09-11T12:41:16.459939Z",
     "iopub.status.idle": "2020-09-11T12:41:16.517665Z",
     "shell.execute_reply": "2020-09-11T12:41:16.517260Z"
    }
   },
   "outputs": [
    {
     "data": {
      "text/plain": [
       "[(0, 8), (1, 9)]"
      ]
     },
     "execution_count": 22,
     "metadata": {},
     "output_type": "execute_result"
    }
   ],
   "source": [
    "is_even = lambda x: x % 2\n",
    "b.foldby(is_even, binop=max, combine=max).compute()"
   ]
  },
  {
   "cell_type": "markdown",
   "metadata": {},
   "source": [
    "### Example with account data"
   ]
  },
  {
   "cell_type": "markdown",
   "metadata": {},
   "source": [
    "We find the number of people with the same name."
   ]
  },
  {
   "cell_type": "code",
   "execution_count": 23,
   "metadata": {
    "execution": {
     "iopub.execute_input": "2020-09-11T12:41:16.556275Z",
     "iopub.status.busy": "2020-09-11T12:41:16.519439Z",
     "iopub.status.idle": "2020-09-11T12:41:25.433091Z",
     "shell.execute_reply": "2020-09-11T12:41:25.432606Z"
    }
   },
   "outputs": [
    {
     "name": "stdout",
     "output_type": "stream",
     "text": [
      "[('Alice', 120), ('Alice', 120), ('Alice', 130), ('Alice', 130), ('Bob', 72), ('Bob', 72), ('Bob', 78), ('Bob', 78), ('Charlie', 117), ('Charlie', 120), ('Charlie', 128), ('Charlie', 130), ('Dan', 139), ('Dan', 140), ('Dan', 151), ('Dan', 153), ('Edith', 143), ('Edith', 143), ('Edith', 156), ('Edith', 156), ('Frank', 72), ('Frank', 72), ('Frank', 78), ('Frank', 78), ('George', 107), ('George', 108), ('George', 116), ('George', 117), ('Hannah', 144), ('Hannah', 144), ('Hannah', 156), ('Hannah', 156), ('Ingrid', 145), ('Ingrid', 145), ('Ingrid', 157), ('Ingrid', 159), ('Jerry', 60), ('Jerry', 60), ('Jerry', 65), ('Jerry', 65), ('Kevin', 120), ('Kevin', 120), ('Kevin', 130), ('Kevin', 130), ('Laura', 129), ('Laura', 133), ('Laura', 138), ('Laura', 140), ('Michael', 108), ('Michael', 108), ('Michael', 115), ('Michael', 117), ('Norbert', 96), ('Norbert', 96), ('Norbert', 104), ('Norbert', 104), ('Oliver', 180), ('Oliver', 180), ('Oliver', 195), ('Oliver', 195), ('Patricia', 156), ('Patricia', 156), ('Patricia', 168), ('Patricia', 169), ('Quinn', 119), ('Quinn', 120), ('Quinn', 260), ('Ray', 139), ('Ray', 141), ('Ray', 150), ('Ray', 151), ('Sarah', 46), ('Sarah', 48), ('Sarah', 50), ('Sarah', 51), ('Tim', 129), ('Tim', 129), ('Tim', 140), ('Tim', 141), ('Ursula', 90), ('Ursula', 93), ('Ursula', 101), ('Ursula', 101), ('Victor', 72), ('Victor', 72), ('Victor', 77), ('Victor', 78), ('Wendy', 62), ('Wendy', 62), ('Wendy', 67), ('Wendy', 69), ('Xavier', 144), ('Xavier', 144), ('Xavier', 156), ('Xavier', 156), ('Yvonne', 84), ('Yvonne', 84), ('Yvonne', 91), ('Yvonne', 91), ('Zelda', 131), ('Zelda', 132), ('Zelda', 140), ('Zelda', 143)]\n",
      "CPU times: user 1.65 s, sys: 93.3 ms, total: 1.74 s\n",
      "Wall time: 8.89 s\n"
     ]
    }
   ],
   "source": [
    "%%time\n",
    "# Warning, this one takes a while...\n",
    "result = js.groupby(lambda item: item['name']).starmap(lambda k, v: (k, len(v))).compute()\n",
    "print(sorted(result))"
   ]
  },
  {
   "cell_type": "code",
   "execution_count": 24,
   "metadata": {
    "execution": {
     "iopub.execute_input": "2020-09-11T12:41:25.446670Z",
     "iopub.status.busy": "2020-09-11T12:41:25.446071Z",
     "iopub.status.idle": "2020-09-11T12:41:26.039425Z",
     "shell.execute_reply": "2020-09-11T12:41:26.039762Z"
    }
   },
   "outputs": [
    {
     "name": "stdout",
     "output_type": "stream",
     "text": [
      "[('Alice', 500), ('Bob', 300), ('Charlie', 495), ('Dan', 583), ('Edith', 598), ('Frank', 300), ('George', 448), ('Hannah', 600), ('Ingrid', 606), ('Jerry', 250), ('Kevin', 500), ('Laura', 540), ('Michael', 448), ('Norbert', 400), ('Oliver', 750), ('Patricia', 649), ('Quinn', 499), ('Ray', 581), ('Sarah', 195), ('Tim', 539), ('Ursula', 385), ('Victor', 299), ('Wendy', 260), ('Xavier', 600), ('Yvonne', 350), ('Zelda', 546)]\n",
      "CPU times: user 134 ms, sys: 11.7 ms, total: 146 ms\n",
      "Wall time: 596 ms\n"
     ]
    }
   ],
   "source": [
    "%%time\n",
    "# This one is comparatively fast and produces the same result.\n",
    "from operator import add\n",
    "def incr(tot, _):\n",
    "    return tot+1\n",
    "\n",
    "result = js.foldby(key='name', \n",
    "                   binop=incr, \n",
    "                   initial=0, \n",
    "                   combine=add, \n",
    "                   combine_initial=0).compute()\n",
    "print(sorted(result))"
   ]
  },
  {
   "cell_type": "markdown",
   "metadata": {},
   "source": [
    "### Exercise: compute total amount per name"
   ]
  },
  {
   "cell_type": "markdown",
   "metadata": {},
   "source": [
    "We want to groupby (or foldby) the `name` key, then add up the all of the amounts for each name.\n",
    "\n",
    "Steps\n",
    "\n",
    "1.  Create a small function that, given a dictionary like \n",
    "\n",
    "        {'name': 'Alice', 'transactions': [{'amount': 1, 'id': 123}, {'amount': 2, 'id': 456}]}\n",
    "        \n",
    "    produces the sum of the amounts, e.g. `3`\n",
    "    \n",
    "2.  Slightly change the binary operator of the `foldby` example above so that the binary operator doesn't count the number of entries, but instead accumulates the sum of the amounts."
   ]
  },
  {
   "cell_type": "code",
   "execution_count": 25,
   "metadata": {
    "execution": {
     "iopub.execute_input": "2020-09-11T12:41:26.043071Z",
     "iopub.status.busy": "2020-09-11T12:41:26.042519Z",
     "iopub.status.idle": "2020-09-11T12:41:26.044766Z",
     "shell.execute_reply": "2020-09-11T12:41:26.044363Z"
    }
   },
   "outputs": [],
   "source": [
    "# Your code here..."
   ]
  },
  {
   "cell_type": "markdown",
   "metadata": {},
   "source": [
    "## DataFrames"
   ]
  },
  {
   "cell_type": "markdown",
   "metadata": {},
   "source": [
    "For the same reasons that Pandas is often faster than pure Python, `dask.dataframe` can be faster than `dask.bag`.  We will work more with DataFrames later, but from for the bag point of view, they are frequently the end-point of the \"messy\" part of data ingestion—once the data can be made into a data-frame, then complex split-apply-combine logic will become much more straight-forward and efficient.\n",
    "\n",
    "You can transform a bag with a simple tuple or flat dictionary structure into a `dask.dataframe` with the `to_dataframe` method."
   ]
  },
  {
   "cell_type": "code",
   "execution_count": 26,
   "metadata": {
    "execution": {
     "iopub.execute_input": "2020-09-11T12:41:26.052269Z",
     "iopub.status.busy": "2020-09-11T12:41:26.047587Z",
     "iopub.status.idle": "2020-09-11T12:41:26.614758Z",
     "shell.execute_reply": "2020-09-11T12:41:26.614287Z"
    }
   },
   "outputs": [
    {
     "data": {
      "text/html": [
       "<div>\n",
       "<style scoped>\n",
       "    .dataframe tbody tr th:only-of-type {\n",
       "        vertical-align: middle;\n",
       "    }\n",
       "\n",
       "    .dataframe tbody tr th {\n",
       "        vertical-align: top;\n",
       "    }\n",
       "\n",
       "    .dataframe thead th {\n",
       "        text-align: right;\n",
       "    }\n",
       "</style>\n",
       "<table border=\"1\" class=\"dataframe\">\n",
       "  <thead>\n",
       "    <tr style=\"text-align: right;\">\n",
       "      <th></th>\n",
       "      <th>id</th>\n",
       "      <th>name</th>\n",
       "      <th>transactions</th>\n",
       "    </tr>\n",
       "  </thead>\n",
       "  <tbody>\n",
       "    <tr>\n",
       "      <th>0</th>\n",
       "      <td>0</td>\n",
       "      <td>Alice</td>\n",
       "      <td>[{'transaction-id': 11, 'amount': 6129}, {'tra...</td>\n",
       "    </tr>\n",
       "    <tr>\n",
       "      <th>1</th>\n",
       "      <td>1</td>\n",
       "      <td>Frank</td>\n",
       "      <td>[{'transaction-id': 114, 'amount': -548}, {'tr...</td>\n",
       "    </tr>\n",
       "    <tr>\n",
       "      <th>2</th>\n",
       "      <td>2</td>\n",
       "      <td>Frank</td>\n",
       "      <td>[{'transaction-id': 277, 'amount': -33}, {'tra...</td>\n",
       "    </tr>\n",
       "    <tr>\n",
       "      <th>3</th>\n",
       "      <td>3</td>\n",
       "      <td>Sarah</td>\n",
       "      <td>[{'transaction-id': 4987, 'amount': 33}, {'tra...</td>\n",
       "    </tr>\n",
       "    <tr>\n",
       "      <th>4</th>\n",
       "      <td>4</td>\n",
       "      <td>Hannah</td>\n",
       "      <td>[{'transaction-id': 1325, 'amount': 240}, {'tr...</td>\n",
       "    </tr>\n",
       "  </tbody>\n",
       "</table>\n",
       "</div>"
      ],
      "text/plain": [
       "   id    name                                       transactions\n",
       "0   0   Alice  [{'transaction-id': 11, 'amount': 6129}, {'tra...\n",
       "1   1   Frank  [{'transaction-id': 114, 'amount': -548}, {'tr...\n",
       "2   2   Frank  [{'transaction-id': 277, 'amount': -33}, {'tra...\n",
       "3   3   Sarah  [{'transaction-id': 4987, 'amount': 33}, {'tra...\n",
       "4   4  Hannah  [{'transaction-id': 1325, 'amount': 240}, {'tr..."
      ]
     },
     "execution_count": 26,
     "metadata": {},
     "output_type": "execute_result"
    }
   ],
   "source": [
    "df1 = js.to_dataframe()\n",
    "df1.head()"
   ]
  },
  {
   "cell_type": "markdown",
   "metadata": {},
   "source": [
    "This now looks like a well-defined DataFrame, and we can apply Pandas-like computations to it efficiently."
   ]
  },
  {
   "cell_type": "markdown",
   "metadata": {},
   "source": [
    "Using a Dask DataFrame, how long does it take to do our prior computation of numbers of people with the same name?  It turns out that `dask.dataframe.groupby()` beats `dask.bag.groupby()` more than an order of magnitude; but it still cannot match `dask.bag.foldby()` for this case."
   ]
  },
  {
   "cell_type": "code",
   "execution_count": 27,
   "metadata": {
    "execution": {
     "iopub.execute_input": "2020-09-11T12:41:26.623080Z",
     "iopub.status.busy": "2020-09-11T12:41:26.622496Z",
     "iopub.status.idle": "2020-09-11T12:41:28.410590Z",
     "shell.execute_reply": "2020-09-11T12:41:28.410140Z"
    }
   },
   "outputs": [
    {
     "name": "stdout",
     "output_type": "stream",
     "text": [
      "CPU times: user 212 ms, sys: 14.5 ms, total: 226 ms\n",
      "Wall time: 1.78 s\n"
     ]
    },
    {
     "data": {
      "text/plain": [
       "name\n",
       "Alice      500\n",
       "Bob        300\n",
       "Charlie    495\n",
       "Dan        583\n",
       "Edith      598\n",
       "Name: id, dtype: int64"
      ]
     },
     "execution_count": 27,
     "metadata": {},
     "output_type": "execute_result"
    }
   ],
   "source": [
    "%time df1.groupby('name').id.count().compute().head()"
   ]
  },
  {
   "cell_type": "markdown",
   "metadata": {},
   "source": [
    "### Denormalization"
   ]
  },
  {
   "cell_type": "markdown",
   "metadata": {},
   "source": [
    "This DataFrame format is less-than-optimal because the `transactions` column is filled with nested data so Pandas has to revert to `object` dtype, which is quite slow in Pandas.  Ideally we want to transform to a dataframe only after we have flattened our data so that each record is a single `int`, `string`, `float`, etc.."
   ]
  },
  {
   "cell_type": "code",
   "execution_count": 28,
   "metadata": {
    "execution": {
     "iopub.execute_input": "2020-09-11T12:41:28.419151Z",
     "iopub.status.busy": "2020-09-11T12:41:28.418511Z",
     "iopub.status.idle": "2020-09-11T12:41:28.434273Z",
     "shell.execute_reply": "2020-09-11T12:41:28.434581Z"
    }
   },
   "outputs": [
    {
     "data": {
      "text/plain": [
       "({'id': 0, 'name': 'Alice', 'amount': 6129, 'transaction-id': 11},\n",
       " {'id': 0, 'name': 'Alice', 'amount': 5960, 'transaction-id': 59},\n",
       " {'id': 0, 'name': 'Alice', 'amount': 5685, 'transaction-id': 502})"
      ]
     },
     "execution_count": 28,
     "metadata": {},
     "output_type": "execute_result"
    }
   ],
   "source": [
    "def denormalize(record):\n",
    "    # returns a list for every nested item, each transaction of each person\n",
    "    return [{'id': record['id'], \n",
    "             'name': record['name'], \n",
    "             'amount': transaction['amount'], \n",
    "             'transaction-id': transaction['transaction-id']}\n",
    "            for transaction in record['transactions']]\n",
    "\n",
    "transactions = js.map(denormalize).flatten()\n",
    "transactions.take(3)"
   ]
  },
  {
   "cell_type": "code",
   "execution_count": 29,
   "metadata": {
    "execution": {
     "iopub.execute_input": "2020-09-11T12:41:28.438616Z",
     "iopub.status.busy": "2020-09-11T12:41:28.438240Z",
     "iopub.status.idle": "2020-09-11T12:41:28.513646Z",
     "shell.execute_reply": "2020-09-11T12:41:28.514219Z"
    }
   },
   "outputs": [
    {
     "data": {
      "text/html": [
       "<div>\n",
       "<style scoped>\n",
       "    .dataframe tbody tr th:only-of-type {\n",
       "        vertical-align: middle;\n",
       "    }\n",
       "\n",
       "    .dataframe tbody tr th {\n",
       "        vertical-align: top;\n",
       "    }\n",
       "\n",
       "    .dataframe thead th {\n",
       "        text-align: right;\n",
       "    }\n",
       "</style>\n",
       "<table border=\"1\" class=\"dataframe\">\n",
       "  <thead>\n",
       "    <tr style=\"text-align: right;\">\n",
       "      <th></th>\n",
       "      <th>id</th>\n",
       "      <th>name</th>\n",
       "      <th>amount</th>\n",
       "      <th>transaction-id</th>\n",
       "    </tr>\n",
       "  </thead>\n",
       "  <tbody>\n",
       "    <tr>\n",
       "      <th>0</th>\n",
       "      <td>0</td>\n",
       "      <td>Alice</td>\n",
       "      <td>6129</td>\n",
       "      <td>11</td>\n",
       "    </tr>\n",
       "    <tr>\n",
       "      <th>1</th>\n",
       "      <td>0</td>\n",
       "      <td>Alice</td>\n",
       "      <td>5960</td>\n",
       "      <td>59</td>\n",
       "    </tr>\n",
       "    <tr>\n",
       "      <th>2</th>\n",
       "      <td>0</td>\n",
       "      <td>Alice</td>\n",
       "      <td>5685</td>\n",
       "      <td>502</td>\n",
       "    </tr>\n",
       "    <tr>\n",
       "      <th>3</th>\n",
       "      <td>0</td>\n",
       "      <td>Alice</td>\n",
       "      <td>6004</td>\n",
       "      <td>621</td>\n",
       "    </tr>\n",
       "    <tr>\n",
       "      <th>4</th>\n",
       "      <td>0</td>\n",
       "      <td>Alice</td>\n",
       "      <td>6357</td>\n",
       "      <td>921</td>\n",
       "    </tr>\n",
       "  </tbody>\n",
       "</table>\n",
       "</div>"
      ],
      "text/plain": [
       "   id   name  amount  transaction-id\n",
       "0   0  Alice    6129              11\n",
       "1   0  Alice    5960              59\n",
       "2   0  Alice    5685             502\n",
       "3   0  Alice    6004             621\n",
       "4   0  Alice    6357             921"
      ]
     },
     "execution_count": 29,
     "metadata": {},
     "output_type": "execute_result"
    }
   ],
   "source": [
    "df = transactions.to_dataframe()\n",
    "df.head()"
   ]
  },
  {
   "cell_type": "code",
   "execution_count": 30,
   "metadata": {
    "execution": {
     "iopub.execute_input": "2020-09-11T12:41:28.530125Z",
     "iopub.status.busy": "2020-09-11T12:41:28.526484Z",
     "iopub.status.idle": "2020-09-11T12:41:29.999684Z",
     "shell.execute_reply": "2020-09-11T12:41:29.999245Z"
    }
   },
   "outputs": [
    {
     "name": "stdout",
     "output_type": "stream",
     "text": [
      "CPU times: user 197 ms, sys: 8.05 ms, total: 205 ms\n",
      "Wall time: 1.47 s\n"
     ]
    },
    {
     "data": {
      "text/plain": [
       "name\n",
       "Alice       13701\n",
       "Bob          6237\n",
       "Charlie     10938\n",
       "Dan         15302\n",
       "Edith       17646\n",
       "Frank        6253\n",
       "George      13763\n",
       "Hannah      21480\n",
       "Ingrid      29899\n",
       "Jerry        8009\n",
       "Kevin       31820\n",
       "Laura       30084\n",
       "Michael     21167\n",
       "Norbert     16450\n",
       "Oliver      37332\n",
       "Patricia    37205\n",
       "Quinn       35307\n",
       "Ray         24118\n",
       "Sarah        6229\n",
       "Tim         17534\n",
       "Ursula      13201\n",
       "Victor      14857\n",
       "Wendy       19645\n",
       "Xavier      15880\n",
       "Yvonne      18137\n",
       "Zelda       17806\n",
       "Name: transaction-id, dtype: int64"
      ]
     },
     "execution_count": 30,
     "metadata": {},
     "output_type": "execute_result"
    }
   ],
   "source": [
    "%%time\n",
    "# number of transactions per name\n",
    "# note that the time here includes the data load and ingestion\n",
    "df.groupby('name')['transaction-id'].count().compute()"
   ]
  },
  {
   "cell_type": "markdown",
   "metadata": {},
   "source": [
    "## Limitations"
   ]
  },
  {
   "cell_type": "markdown",
   "metadata": {},
   "source": [
    "Bags provide very general computation (any Python function.)  This generality\n",
    "comes at cost.  Bags have the following known limitations\n",
    "\n",
    "1.  Bag operations tend to be slower than array/dataframe computations in the\n",
    "    same way that Python tends to be slower than NumPy/Pandas\n",
    "2.  ``Bag.groupby`` is slow.  You should try to use ``Bag.foldby`` if possible.\n",
    "    Using ``Bag.foldby`` requires more thought. Even better, consider creating\n",
    "    a normalised dataframe."
   ]
  },
  {
   "cell_type": "markdown",
   "metadata": {},
   "source": [
    "## Learn More\n",
    "\n",
    "* [Bag documentation](https://docs.dask.org/en/latest/bag.html)\n",
    "* [Bag screencast](https://youtu.be/-qIiJ1XtSv0)\n",
    "* [Bag API](https://docs.dask.org/en/latest/bag-api.html)\n",
    "* [Bag examples](https://examples.dask.org/bag.html)"
   ]
  },
  {
   "cell_type": "markdown",
   "metadata": {},
   "source": [
    "## Shutdown"
   ]
  },
  {
   "cell_type": "code",
   "execution_count": 31,
   "metadata": {
    "execution": {
     "iopub.execute_input": "2020-09-11T12:41:30.003789Z",
     "iopub.status.busy": "2020-09-11T12:41:30.001425Z",
     "iopub.status.idle": "2020-09-11T12:41:31.635890Z",
     "shell.execute_reply": "2020-09-11T12:41:31.636370Z"
    }
   },
   "outputs": [],
   "source": [
    "client.shutdown()"
   ]
  }
 ],
 "metadata": {
  "anaconda-cloud": {},
  "kernelspec": {
   "display_name": "Python 3",
   "language": "python",
   "name": "python3"
  },
  "language_info": {
   "codemirror_mode": {
    "name": "ipython",
    "version": 3
   },
   "file_extension": ".py",
   "mimetype": "text/x-python",
   "name": "python",
   "nbconvert_exporter": "python",
   "pygments_lexer": "ipython3",
   "version": "3.8.5"
  }
 },
 "nbformat": 4,
 "nbformat_minor": 4
}
