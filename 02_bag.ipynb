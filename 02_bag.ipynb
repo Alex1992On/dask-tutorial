{
 "cells": [
  {
   "cell_type": "markdown",
   "metadata": {},
   "source": [
    "<img src=\"images/dask_horizontal.svg\" align=\"right\" width=\"30%\">"
   ]
  },
  {
   "cell_type": "markdown",
   "metadata": {},
   "source": [
    "# Bag: Parallel Lists for semi-structured data"
   ]
  },
  {
   "cell_type": "markdown",
   "metadata": {},
   "source": [
    "Dask-bag excels in processing data that can be represented as a sequence of arbitrary inputs. We'll refer to this as \"messy\" data, because it can contain complex nested structures, missing fields, mixtures of data types, etc. The *functional* programming style fits very nicely with standard Python iteration, such as can be found in the `itertools` module.\n",
    "\n",
    "Messy data is often encountered at the beginning of data processing pipelines when large volumes of raw data are first consumed. The initial set of data might be JSON, CSV, XML, or any other format that does not enforce strict structure and datatypes.\n",
    "For this reason, the initial data massaging and processing is often done with Python `list`s, `dict`s, and `set`s.\n",
    "\n",
    "These core data structures are optimized for general-purpose storage and processing.  Adding streaming computation with iterators/generator expressions or libraries like `itertools` or [`toolz`](https://toolz.readthedocs.io/en/latest/) let us process large volumes in a small space.  If we combine this with parallel processing then we can churn through a fair amount of data.\n",
    "\n",
    "Dask.bag is a high level Dask collection to automate common workloads of this form.  In a nutshell\n",
    "\n",
    "    dask.bag = map, filter, toolz + parallel execution\n",
    "    \n",
    "**Related Documentation**\n",
    "\n",
    "* [Bag documentation](https://docs.dask.org/en/latest/bag.html)\n",
    "* [Bag screencast](https://youtu.be/-qIiJ1XtSv0)\n",
    "* [Bag API](https://docs.dask.org/en/latest/bag-api.html)\n",
    "* [Bag examples](https://examples.dask.org/bag.html)"
   ]
  },
  {
   "cell_type": "markdown",
   "metadata": {},
   "source": [
    "## Create data"
   ]
  },
  {
   "cell_type": "code",
   "execution_count": 1,
   "metadata": {},
   "outputs": [],
   "source": [
    "%run prep.py -d accounts"
   ]
  },
  {
   "cell_type": "markdown",
   "metadata": {},
   "source": [
    "## Setup"
   ]
  },
  {
   "cell_type": "markdown",
   "metadata": {},
   "source": [
    "Again, we'll use the distributed scheduler. Schedulers will be explained in depth [later](05_distributed.ipynb)."
   ]
  },
  {
   "cell_type": "code",
   "execution_count": 2,
   "metadata": {},
   "outputs": [],
   "source": [
    "from dask.distributed import Client\n",
    "\n",
    "client = Client(n_workers=4)"
   ]
  },
  {
   "cell_type": "markdown",
   "metadata": {},
   "source": [
    "## Creation"
   ]
  },
  {
   "cell_type": "markdown",
   "metadata": {},
   "source": [
    "You can create a `Bag` from a Python sequence, from files, from data on S3, etc.\n",
    "We demonstrate using `.take()` to show elements of the data. (Doing `.take(1)` results in a tuple with one element)\n",
    "\n",
    "Note that the data are partitioned into blocks, and there are many items per block. In the first example, the two partitions contain five elements each, and in the following two, each file is partitioned into one or more bytes blocks."
   ]
  },
  {
   "cell_type": "code",
   "execution_count": 3,
   "metadata": {},
   "outputs": [
    {
     "data": {
      "text/plain": [
       "(1, 2, 3)"
      ]
     },
     "execution_count": 3,
     "metadata": {},
     "output_type": "execute_result"
    }
   ],
   "source": [
    "# each element is an integer\n",
    "import dask.bag as db\n",
    "b = db.from_sequence([1, 2, 3, 4, 5, 6, 7, 8, 9, 10], npartitions=2)\n",
    "b.take(3)"
   ]
  },
  {
   "cell_type": "code",
   "execution_count": 4,
   "metadata": {},
   "outputs": [
    {
     "data": {
      "text/plain": [
       "('{\"id\": 0, \"name\": \"Ursula\", \"transactions\": [{\"transaction-id\": 16, \"amount\": 131}, {\"transaction-id\": 164, \"amount\": 168}, {\"transaction-id\": 234, \"amount\": 121}, {\"transaction-id\": 237, \"amount\": 177}, {\"transaction-id\": 299, \"amount\": 126}, {\"transaction-id\": 325, \"amount\": 101}, {\"transaction-id\": 336, \"amount\": 141}, {\"transaction-id\": 763, \"amount\": 175}, {\"transaction-id\": 882, \"amount\": 131}, {\"transaction-id\": 1133, \"amount\": 109}, {\"transaction-id\": 1159, \"amount\": 136}, {\"transaction-id\": 1238, \"amount\": 132}, {\"transaction-id\": 1314, \"amount\": 112}, {\"transaction-id\": 1380, \"amount\": 143}, {\"transaction-id\": 1415, \"amount\": 126}, {\"transaction-id\": 1706, \"amount\": 118}, {\"transaction-id\": 2132, \"amount\": 148}, {\"transaction-id\": 2139, \"amount\": 113}, {\"transaction-id\": 2153, \"amount\": 158}, {\"transaction-id\": 2267, \"amount\": 130}, {\"transaction-id\": 2396, \"amount\": 112}, {\"transaction-id\": 2427, \"amount\": 122}, {\"transaction-id\": 2430, \"amount\": 123}, {\"transaction-id\": 2506, \"amount\": 154}, {\"transaction-id\": 2555, \"amount\": 134}, {\"transaction-id\": 2559, \"amount\": 136}, {\"transaction-id\": 2740, \"amount\": 122}, {\"transaction-id\": 2800, \"amount\": 117}, {\"transaction-id\": 2965, \"amount\": 124}, {\"transaction-id\": 3022, \"amount\": 165}, {\"transaction-id\": 3081, \"amount\": 139}, {\"transaction-id\": 3190, \"amount\": 158}, {\"transaction-id\": 3243, \"amount\": 132}, {\"transaction-id\": 3414, \"amount\": 117}, {\"transaction-id\": 3637, \"amount\": 132}, {\"transaction-id\": 3677, \"amount\": 150}, {\"transaction-id\": 3680, \"amount\": 143}, {\"transaction-id\": 3723, \"amount\": 103}, {\"transaction-id\": 3842, \"amount\": 146}, {\"transaction-id\": 3878, \"amount\": 141}, {\"transaction-id\": 3903, \"amount\": 115}, {\"transaction-id\": 4405, \"amount\": 165}, {\"transaction-id\": 4959, \"amount\": 153}, {\"transaction-id\": 4990, \"amount\": 140}, {\"transaction-id\": 5031, \"amount\": 165}, {\"transaction-id\": 5155, \"amount\": 184}, {\"transaction-id\": 5214, \"amount\": 118}, {\"transaction-id\": 5293, \"amount\": 144}, {\"transaction-id\": 5705, \"amount\": 138}, {\"transaction-id\": 5857, \"amount\": 138}, {\"transaction-id\": 5911, \"amount\": 133}, {\"transaction-id\": 5916, \"amount\": 136}, {\"transaction-id\": 6573, \"amount\": 141}, {\"transaction-id\": 6624, \"amount\": 171}, {\"transaction-id\": 7108, \"amount\": 113}, {\"transaction-id\": 7245, \"amount\": 121}, {\"transaction-id\": 7679, \"amount\": 110}, {\"transaction-id\": 8001, \"amount\": 85}, {\"transaction-id\": 8273, \"amount\": 159}, {\"transaction-id\": 8376, \"amount\": 173}, {\"transaction-id\": 8421, \"amount\": 136}, {\"transaction-id\": 8473, \"amount\": 114}, {\"transaction-id\": 8541, \"amount\": 147}, {\"transaction-id\": 8703, \"amount\": 114}, {\"transaction-id\": 8825, \"amount\": 141}, {\"transaction-id\": 9285, \"amount\": 129}, {\"transaction-id\": 9453, \"amount\": 137}, {\"transaction-id\": 9895, \"amount\": 130}, {\"transaction-id\": 9910, \"amount\": 162}]}\\n',)"
      ]
     },
     "execution_count": 4,
     "metadata": {},
     "output_type": "execute_result"
    }
   ],
   "source": [
    "# each element is a text file, where each line is a JSON object\n",
    "# note that the compression is handled automatically\n",
    "import os\n",
    "b = db.read_text(os.path.join('data', 'accounts.*.json.gz'))\n",
    "b.take(1)"
   ]
  },
  {
   "cell_type": "code",
   "execution_count": 5,
   "metadata": {},
   "outputs": [
    {
     "data": {
      "text/plain": [
       "('VendorID,tpep_pickup_datetime,tpep_dropoff_datetime,passenger_count,trip_distance,pickup_longitude,pickup_latitude,RateCodeID,store_and_fwd_flag,dropoff_longitude,dropoff_latitude,payment_type,fare_amount,extra,mta_tax,tip_amount,tolls_amount,improvement_surcharge,total_amount\\n',)"
      ]
     },
     "execution_count": 5,
     "metadata": {},
     "output_type": "execute_result"
    }
   ],
   "source": [
    "# Requires `s3fs` library\n",
    "# each partition is a remote CSV text file\n",
    "b = db.read_text('s3://dask-data/nyc-taxi/2015/yellow_tripdata_2015-01.csv',\n",
    "                 storage_options={'anon': True})\n",
    "b.take(1)"
   ]
  },
  {
   "cell_type": "markdown",
   "metadata": {},
   "source": [
    "## Manipulation"
   ]
  },
  {
   "cell_type": "markdown",
   "metadata": {},
   "source": [
    "`Bag` objects hold the standard functional API found in projects like the Python standard library, `toolz`, or `pyspark`, including `map`, `filter`, `groupby`, etc..\n",
    "\n",
    "Operations on `Bag` objects create new bags.  Call the `.compute()` method to trigger execution, as we saw for `Delayed` objects.  "
   ]
  },
  {
   "cell_type": "code",
   "execution_count": 6,
   "metadata": {},
   "outputs": [
    {
     "data": {
      "text/plain": [
       "dask.bag<lambda, npartitions=10>"
      ]
     },
     "execution_count": 6,
     "metadata": {},
     "output_type": "execute_result"
    }
   ],
   "source": [
    "def is_even(n):\n",
    "    return n % 2 == 0\n",
    "\n",
    "b = db.from_sequence([1, 2, 3, 4, 5, 6, 7, 8, 9, 10])\n",
    "c = b.filter(is_even).map(lambda x: x ** 2)\n",
    "c"
   ]
  },
  {
   "cell_type": "code",
   "execution_count": 7,
   "metadata": {},
   "outputs": [
    {
     "data": {
      "text/plain": [
       "[4, 16, 36, 64, 100]"
      ]
     },
     "execution_count": 7,
     "metadata": {},
     "output_type": "execute_result"
    }
   ],
   "source": [
    "# blocking form: wait for completion (which is very fast in this case)\n",
    "c.compute()"
   ]
  },
  {
   "cell_type": "markdown",
   "metadata": {},
   "source": [
    "### Example: Accounts JSON data"
   ]
  },
  {
   "cell_type": "markdown",
   "metadata": {},
   "source": [
    "We've created a fake dataset of gzipped JSON data in your data directory.  This is like the example used in the `DataFrame` example we will see later, except that it has bundled up all of the entires for each individual `id` into a single record.  This is similar to data that you might collect off of a document store database or a web API.\n",
    "\n",
    "Each line is a JSON encoded dictionary with the following keys\n",
    "\n",
    "*  id: Unique identifier of the customer\n",
    "*  name: Name of the customer\n",
    "*  transactions: List of `transaction-id`, `amount` pairs, one for each transaction for the customer in that file"
   ]
  },
  {
   "cell_type": "code",
   "execution_count": 8,
   "metadata": {},
   "outputs": [
    {
     "data": {
      "text/plain": [
       "('{\"id\": 0, \"name\": \"Ursula\", \"transactions\": [{\"transaction-id\": 16, \"amount\": 131}, {\"transaction-id\": 164, \"amount\": 168}, {\"transaction-id\": 234, \"amount\": 121}, {\"transaction-id\": 237, \"amount\": 177}, {\"transaction-id\": 299, \"amount\": 126}, {\"transaction-id\": 325, \"amount\": 101}, {\"transaction-id\": 336, \"amount\": 141}, {\"transaction-id\": 763, \"amount\": 175}, {\"transaction-id\": 882, \"amount\": 131}, {\"transaction-id\": 1133, \"amount\": 109}, {\"transaction-id\": 1159, \"amount\": 136}, {\"transaction-id\": 1238, \"amount\": 132}, {\"transaction-id\": 1314, \"amount\": 112}, {\"transaction-id\": 1380, \"amount\": 143}, {\"transaction-id\": 1415, \"amount\": 126}, {\"transaction-id\": 1706, \"amount\": 118}, {\"transaction-id\": 2132, \"amount\": 148}, {\"transaction-id\": 2139, \"amount\": 113}, {\"transaction-id\": 2153, \"amount\": 158}, {\"transaction-id\": 2267, \"amount\": 130}, {\"transaction-id\": 2396, \"amount\": 112}, {\"transaction-id\": 2427, \"amount\": 122}, {\"transaction-id\": 2430, \"amount\": 123}, {\"transaction-id\": 2506, \"amount\": 154}, {\"transaction-id\": 2555, \"amount\": 134}, {\"transaction-id\": 2559, \"amount\": 136}, {\"transaction-id\": 2740, \"amount\": 122}, {\"transaction-id\": 2800, \"amount\": 117}, {\"transaction-id\": 2965, \"amount\": 124}, {\"transaction-id\": 3022, \"amount\": 165}, {\"transaction-id\": 3081, \"amount\": 139}, {\"transaction-id\": 3190, \"amount\": 158}, {\"transaction-id\": 3243, \"amount\": 132}, {\"transaction-id\": 3414, \"amount\": 117}, {\"transaction-id\": 3637, \"amount\": 132}, {\"transaction-id\": 3677, \"amount\": 150}, {\"transaction-id\": 3680, \"amount\": 143}, {\"transaction-id\": 3723, \"amount\": 103}, {\"transaction-id\": 3842, \"amount\": 146}, {\"transaction-id\": 3878, \"amount\": 141}, {\"transaction-id\": 3903, \"amount\": 115}, {\"transaction-id\": 4405, \"amount\": 165}, {\"transaction-id\": 4959, \"amount\": 153}, {\"transaction-id\": 4990, \"amount\": 140}, {\"transaction-id\": 5031, \"amount\": 165}, {\"transaction-id\": 5155, \"amount\": 184}, {\"transaction-id\": 5214, \"amount\": 118}, {\"transaction-id\": 5293, \"amount\": 144}, {\"transaction-id\": 5705, \"amount\": 138}, {\"transaction-id\": 5857, \"amount\": 138}, {\"transaction-id\": 5911, \"amount\": 133}, {\"transaction-id\": 5916, \"amount\": 136}, {\"transaction-id\": 6573, \"amount\": 141}, {\"transaction-id\": 6624, \"amount\": 171}, {\"transaction-id\": 7108, \"amount\": 113}, {\"transaction-id\": 7245, \"amount\": 121}, {\"transaction-id\": 7679, \"amount\": 110}, {\"transaction-id\": 8001, \"amount\": 85}, {\"transaction-id\": 8273, \"amount\": 159}, {\"transaction-id\": 8376, \"amount\": 173}, {\"transaction-id\": 8421, \"amount\": 136}, {\"transaction-id\": 8473, \"amount\": 114}, {\"transaction-id\": 8541, \"amount\": 147}, {\"transaction-id\": 8703, \"amount\": 114}, {\"transaction-id\": 8825, \"amount\": 141}, {\"transaction-id\": 9285, \"amount\": 129}, {\"transaction-id\": 9453, \"amount\": 137}, {\"transaction-id\": 9895, \"amount\": 130}, {\"transaction-id\": 9910, \"amount\": 162}]}\\n',\n",
       " '{\"id\": 1, \"name\": \"Dan\", \"transactions\": [{\"transaction-id\": 813, \"amount\": 1486}, {\"transaction-id\": 1147, \"amount\": 1224}, {\"transaction-id\": 2265, \"amount\": 1369}, {\"transaction-id\": 2333, \"amount\": 1312}, {\"transaction-id\": 2732, \"amount\": 1382}, {\"transaction-id\": 2882, \"amount\": 1254}, {\"transaction-id\": 2897, \"amount\": 1220}, {\"transaction-id\": 3043, \"amount\": 1601}, {\"transaction-id\": 3830, \"amount\": 983}, {\"transaction-id\": 4581, \"amount\": 1661}, {\"transaction-id\": 4715, \"amount\": 1296}, {\"transaction-id\": 5561, \"amount\": 1400}, {\"transaction-id\": 6223, \"amount\": 1081}, {\"transaction-id\": 6347, \"amount\": 1304}, {\"transaction-id\": 6425, \"amount\": 1555}, {\"transaction-id\": 6649, \"amount\": 1248}, {\"transaction-id\": 6652, \"amount\": 1454}, {\"transaction-id\": 8802, \"amount\": 1078}, {\"transaction-id\": 9539, \"amount\": 1470}, {\"transaction-id\": 9857, \"amount\": 1112}]}\\n',\n",
       " '{\"id\": 2, \"name\": \"Patricia\", \"transactions\": [{\"transaction-id\": 531, \"amount\": 1319}, {\"transaction-id\": 1061, \"amount\": 1252}, {\"transaction-id\": 2144, \"amount\": 1244}, {\"transaction-id\": 2298, \"amount\": 1382}, {\"transaction-id\": 2662, \"amount\": 1339}, {\"transaction-id\": 3810, \"amount\": 1217}, {\"transaction-id\": 5539, \"amount\": 1350}, {\"transaction-id\": 5848, \"amount\": 1296}, {\"transaction-id\": 7498, \"amount\": 1356}, {\"transaction-id\": 7505, \"amount\": 1410}, {\"transaction-id\": 9264, \"amount\": 1276}]}\\n')"
      ]
     },
     "execution_count": 8,
     "metadata": {},
     "output_type": "execute_result"
    }
   ],
   "source": [
    "filename = os.path.join('data', 'accounts.*.json.gz')\n",
    "lines = db.read_text(filename)\n",
    "lines.take(3)"
   ]
  },
  {
   "cell_type": "markdown",
   "metadata": {},
   "source": [
    "Our data comes out of the file as lines of text. Notice that file decompression happened automatically. We can make this data look more reasonable by mapping the `json.loads` function onto our bag."
   ]
  },
  {
   "cell_type": "code",
   "execution_count": 9,
   "metadata": {},
   "outputs": [
    {
     "data": {
      "text/plain": [
       "({'id': 0,\n",
       "  'name': 'Ursula',\n",
       "  'transactions': [{'transaction-id': 16, 'amount': 131},\n",
       "   {'transaction-id': 164, 'amount': 168},\n",
       "   {'transaction-id': 234, 'amount': 121},\n",
       "   {'transaction-id': 237, 'amount': 177},\n",
       "   {'transaction-id': 299, 'amount': 126},\n",
       "   {'transaction-id': 325, 'amount': 101},\n",
       "   {'transaction-id': 336, 'amount': 141},\n",
       "   {'transaction-id': 763, 'amount': 175},\n",
       "   {'transaction-id': 882, 'amount': 131},\n",
       "   {'transaction-id': 1133, 'amount': 109},\n",
       "   {'transaction-id': 1159, 'amount': 136},\n",
       "   {'transaction-id': 1238, 'amount': 132},\n",
       "   {'transaction-id': 1314, 'amount': 112},\n",
       "   {'transaction-id': 1380, 'amount': 143},\n",
       "   {'transaction-id': 1415, 'amount': 126},\n",
       "   {'transaction-id': 1706, 'amount': 118},\n",
       "   {'transaction-id': 2132, 'amount': 148},\n",
       "   {'transaction-id': 2139, 'amount': 113},\n",
       "   {'transaction-id': 2153, 'amount': 158},\n",
       "   {'transaction-id': 2267, 'amount': 130},\n",
       "   {'transaction-id': 2396, 'amount': 112},\n",
       "   {'transaction-id': 2427, 'amount': 122},\n",
       "   {'transaction-id': 2430, 'amount': 123},\n",
       "   {'transaction-id': 2506, 'amount': 154},\n",
       "   {'transaction-id': 2555, 'amount': 134},\n",
       "   {'transaction-id': 2559, 'amount': 136},\n",
       "   {'transaction-id': 2740, 'amount': 122},\n",
       "   {'transaction-id': 2800, 'amount': 117},\n",
       "   {'transaction-id': 2965, 'amount': 124},\n",
       "   {'transaction-id': 3022, 'amount': 165},\n",
       "   {'transaction-id': 3081, 'amount': 139},\n",
       "   {'transaction-id': 3190, 'amount': 158},\n",
       "   {'transaction-id': 3243, 'amount': 132},\n",
       "   {'transaction-id': 3414, 'amount': 117},\n",
       "   {'transaction-id': 3637, 'amount': 132},\n",
       "   {'transaction-id': 3677, 'amount': 150},\n",
       "   {'transaction-id': 3680, 'amount': 143},\n",
       "   {'transaction-id': 3723, 'amount': 103},\n",
       "   {'transaction-id': 3842, 'amount': 146},\n",
       "   {'transaction-id': 3878, 'amount': 141},\n",
       "   {'transaction-id': 3903, 'amount': 115},\n",
       "   {'transaction-id': 4405, 'amount': 165},\n",
       "   {'transaction-id': 4959, 'amount': 153},\n",
       "   {'transaction-id': 4990, 'amount': 140},\n",
       "   {'transaction-id': 5031, 'amount': 165},\n",
       "   {'transaction-id': 5155, 'amount': 184},\n",
       "   {'transaction-id': 5214, 'amount': 118},\n",
       "   {'transaction-id': 5293, 'amount': 144},\n",
       "   {'transaction-id': 5705, 'amount': 138},\n",
       "   {'transaction-id': 5857, 'amount': 138},\n",
       "   {'transaction-id': 5911, 'amount': 133},\n",
       "   {'transaction-id': 5916, 'amount': 136},\n",
       "   {'transaction-id': 6573, 'amount': 141},\n",
       "   {'transaction-id': 6624, 'amount': 171},\n",
       "   {'transaction-id': 7108, 'amount': 113},\n",
       "   {'transaction-id': 7245, 'amount': 121},\n",
       "   {'transaction-id': 7679, 'amount': 110},\n",
       "   {'transaction-id': 8001, 'amount': 85},\n",
       "   {'transaction-id': 8273, 'amount': 159},\n",
       "   {'transaction-id': 8376, 'amount': 173},\n",
       "   {'transaction-id': 8421, 'amount': 136},\n",
       "   {'transaction-id': 8473, 'amount': 114},\n",
       "   {'transaction-id': 8541, 'amount': 147},\n",
       "   {'transaction-id': 8703, 'amount': 114},\n",
       "   {'transaction-id': 8825, 'amount': 141},\n",
       "   {'transaction-id': 9285, 'amount': 129},\n",
       "   {'transaction-id': 9453, 'amount': 137},\n",
       "   {'transaction-id': 9895, 'amount': 130},\n",
       "   {'transaction-id': 9910, 'amount': 162}]},\n",
       " {'id': 1,\n",
       "  'name': 'Dan',\n",
       "  'transactions': [{'transaction-id': 813, 'amount': 1486},\n",
       "   {'transaction-id': 1147, 'amount': 1224},\n",
       "   {'transaction-id': 2265, 'amount': 1369},\n",
       "   {'transaction-id': 2333, 'amount': 1312},\n",
       "   {'transaction-id': 2732, 'amount': 1382},\n",
       "   {'transaction-id': 2882, 'amount': 1254},\n",
       "   {'transaction-id': 2897, 'amount': 1220},\n",
       "   {'transaction-id': 3043, 'amount': 1601},\n",
       "   {'transaction-id': 3830, 'amount': 983},\n",
       "   {'transaction-id': 4581, 'amount': 1661},\n",
       "   {'transaction-id': 4715, 'amount': 1296},\n",
       "   {'transaction-id': 5561, 'amount': 1400},\n",
       "   {'transaction-id': 6223, 'amount': 1081},\n",
       "   {'transaction-id': 6347, 'amount': 1304},\n",
       "   {'transaction-id': 6425, 'amount': 1555},\n",
       "   {'transaction-id': 6649, 'amount': 1248},\n",
       "   {'transaction-id': 6652, 'amount': 1454},\n",
       "   {'transaction-id': 8802, 'amount': 1078},\n",
       "   {'transaction-id': 9539, 'amount': 1470},\n",
       "   {'transaction-id': 9857, 'amount': 1112}]},\n",
       " {'id': 2,\n",
       "  'name': 'Patricia',\n",
       "  'transactions': [{'transaction-id': 531, 'amount': 1319},\n",
       "   {'transaction-id': 1061, 'amount': 1252},\n",
       "   {'transaction-id': 2144, 'amount': 1244},\n",
       "   {'transaction-id': 2298, 'amount': 1382},\n",
       "   {'transaction-id': 2662, 'amount': 1339},\n",
       "   {'transaction-id': 3810, 'amount': 1217},\n",
       "   {'transaction-id': 5539, 'amount': 1350},\n",
       "   {'transaction-id': 5848, 'amount': 1296},\n",
       "   {'transaction-id': 7498, 'amount': 1356},\n",
       "   {'transaction-id': 7505, 'amount': 1410},\n",
       "   {'transaction-id': 9264, 'amount': 1276}]})"
      ]
     },
     "execution_count": 9,
     "metadata": {},
     "output_type": "execute_result"
    }
   ],
   "source": [
    "import json\n",
    "js = lines.map(json.loads)\n",
    "# take: inspect first few elements\n",
    "js.take(3)"
   ]
  },
  {
   "cell_type": "markdown",
   "metadata": {},
   "source": [
    "### Basic Queries"
   ]
  },
  {
   "cell_type": "markdown",
   "metadata": {},
   "source": [
    "Once we parse our JSON data into proper Python objects (`dict`s, `list`s, etc.) we can perform more interesting queries by creating small Python functions to run on our data."
   ]
  },
  {
   "cell_type": "code",
   "execution_count": 10,
   "metadata": {},
   "outputs": [
    {
     "data": {
      "text/plain": [
       "({'id': 15,\n",
       "  'name': 'Alice',\n",
       "  'transactions': [{'transaction-id': 111, 'amount': 398},\n",
       "   {'transaction-id': 1040, 'amount': 405},\n",
       "   {'transaction-id': 1121, 'amount': 500},\n",
       "   {'transaction-id': 1151, 'amount': 468},\n",
       "   {'transaction-id': 1457, 'amount': 388},\n",
       "   {'transaction-id': 1611, 'amount': 450},\n",
       "   {'transaction-id': 1675, 'amount': 396},\n",
       "   {'transaction-id': 1781, 'amount': 516},\n",
       "   {'transaction-id': 1815, 'amount': 415},\n",
       "   {'transaction-id': 1845, 'amount': 387},\n",
       "   {'transaction-id': 1861, 'amount': 503},\n",
       "   {'transaction-id': 1864, 'amount': 475},\n",
       "   {'transaction-id': 1900, 'amount': 373},\n",
       "   {'transaction-id': 2054, 'amount': 489},\n",
       "   {'transaction-id': 2161, 'amount': 427},\n",
       "   {'transaction-id': 2272, 'amount': 471},\n",
       "   {'transaction-id': 2880, 'amount': 453},\n",
       "   {'transaction-id': 3157, 'amount': 378},\n",
       "   {'transaction-id': 3248, 'amount': 472},\n",
       "   {'transaction-id': 3340, 'amount': 531},\n",
       "   {'transaction-id': 3396, 'amount': 548},\n",
       "   {'transaction-id': 3643, 'amount': 440},\n",
       "   {'transaction-id': 3679, 'amount': 370},\n",
       "   {'transaction-id': 3813, 'amount': 471},\n",
       "   {'transaction-id': 4061, 'amount': 405},\n",
       "   {'transaction-id': 4350, 'amount': 405},\n",
       "   {'transaction-id': 4851, 'amount': 448},\n",
       "   {'transaction-id': 4958, 'amount': 554},\n",
       "   {'transaction-id': 5485, 'amount': 436},\n",
       "   {'transaction-id': 5781, 'amount': 459},\n",
       "   {'transaction-id': 5831, 'amount': 380},\n",
       "   {'transaction-id': 5882, 'amount': 401},\n",
       "   {'transaction-id': 6057, 'amount': 442},\n",
       "   {'transaction-id': 6610, 'amount': 383},\n",
       "   {'transaction-id': 7237, 'amount': 526},\n",
       "   {'transaction-id': 7379, 'amount': 448},\n",
       "   {'transaction-id': 7481, 'amount': 452},\n",
       "   {'transaction-id': 7560, 'amount': 534},\n",
       "   {'transaction-id': 7986, 'amount': 511},\n",
       "   {'transaction-id': 8011, 'amount': 437},\n",
       "   {'transaction-id': 8035, 'amount': 354},\n",
       "   {'transaction-id': 8270, 'amount': 369},\n",
       "   {'transaction-id': 8426, 'amount': 417},\n",
       "   {'transaction-id': 8554, 'amount': 380},\n",
       "   {'transaction-id': 8586, 'amount': 376},\n",
       "   {'transaction-id': 8605, 'amount': 449},\n",
       "   {'transaction-id': 8728, 'amount': 372},\n",
       "   {'transaction-id': 8932, 'amount': 412},\n",
       "   {'transaction-id': 9365, 'amount': 497},\n",
       "   {'transaction-id': 9675, 'amount': 456},\n",
       "   {'transaction-id': 9790, 'amount': 467},\n",
       "   {'transaction-id': 9810, 'amount': 467},\n",
       "   {'transaction-id': 9931, 'amount': 401},\n",
       "   {'transaction-id': 9988, 'amount': 443}]},\n",
       " {'id': 41,\n",
       "  'name': 'Alice',\n",
       "  'transactions': [{'transaction-id': 49, 'amount': 1242},\n",
       "   {'transaction-id': 204, 'amount': 1132},\n",
       "   {'transaction-id': 248, 'amount': 1069},\n",
       "   {'transaction-id': 383, 'amount': 1067},\n",
       "   {'transaction-id': 389, 'amount': 980},\n",
       "   {'transaction-id': 554, 'amount': 1086},\n",
       "   {'transaction-id': 1222, 'amount': 1089},\n",
       "   {'transaction-id': 1551, 'amount': 1042},\n",
       "   {'transaction-id': 1751, 'amount': 1107},\n",
       "   {'transaction-id': 1768, 'amount': 1065},\n",
       "   {'transaction-id': 3040, 'amount': 1154},\n",
       "   {'transaction-id': 3319, 'amount': 1163},\n",
       "   {'transaction-id': 3476, 'amount': 1025},\n",
       "   {'transaction-id': 3551, 'amount': 1037},\n",
       "   {'transaction-id': 4150, 'amount': 1097},\n",
       "   {'transaction-id': 4586, 'amount': 985},\n",
       "   {'transaction-id': 4632, 'amount': 1061},\n",
       "   {'transaction-id': 5166, 'amount': 1130},\n",
       "   {'transaction-id': 5777, 'amount': 1078},\n",
       "   {'transaction-id': 5876, 'amount': 1107},\n",
       "   {'transaction-id': 6082, 'amount': 1092},\n",
       "   {'transaction-id': 6479, 'amount': 1038},\n",
       "   {'transaction-id': 7592, 'amount': 1075},\n",
       "   {'transaction-id': 7855, 'amount': 1048},\n",
       "   {'transaction-id': 7867, 'amount': 1071},\n",
       "   {'transaction-id': 8526, 'amount': 1094},\n",
       "   {'transaction-id': 8959, 'amount': 1104},\n",
       "   {'transaction-id': 9447, 'amount': 1134},\n",
       "   {'transaction-id': 9694, 'amount': 1060},\n",
       "   {'transaction-id': 9785, 'amount': 1119}]},\n",
       " {'id': 84,\n",
       "  'name': 'Alice',\n",
       "  'transactions': [{'transaction-id': 599, 'amount': 1409},\n",
       "   {'transaction-id': 643, 'amount': 1060},\n",
       "   {'transaction-id': 2922, 'amount': 1214},\n",
       "   {'transaction-id': 3091, 'amount': 1030},\n",
       "   {'transaction-id': 4706, 'amount': 977}]},\n",
       " {'id': 119,\n",
       "  'name': 'Alice',\n",
       "  'transactions': [{'transaction-id': 316, 'amount': 1300},\n",
       "   {'transaction-id': 534, 'amount': 1329},\n",
       "   {'transaction-id': 730, 'amount': 1325},\n",
       "   {'transaction-id': 999, 'amount': 1406},\n",
       "   {'transaction-id': 1134, 'amount': 1291},\n",
       "   {'transaction-id': 1468, 'amount': 1456},\n",
       "   {'transaction-id': 1894, 'amount': 1305},\n",
       "   {'transaction-id': 2199, 'amount': 1273},\n",
       "   {'transaction-id': 2280, 'amount': 1299},\n",
       "   {'transaction-id': 2813, 'amount': 1302},\n",
       "   {'transaction-id': 2975, 'amount': 1304},\n",
       "   {'transaction-id': 3059, 'amount': 1468},\n",
       "   {'transaction-id': 3149, 'amount': 1499},\n",
       "   {'transaction-id': 3612, 'amount': 1434},\n",
       "   {'transaction-id': 4168, 'amount': 1255},\n",
       "   {'transaction-id': 4355, 'amount': 1426},\n",
       "   {'transaction-id': 4714, 'amount': 1416},\n",
       "   {'transaction-id': 5817, 'amount': 1454},\n",
       "   {'transaction-id': 7188, 'amount': 1290},\n",
       "   {'transaction-id': 7350, 'amount': 1392},\n",
       "   {'transaction-id': 9494, 'amount': 1367},\n",
       "   {'transaction-id': 9496, 'amount': 1424},\n",
       "   {'transaction-id': 9721, 'amount': 1428}]},\n",
       " {'id': 124,\n",
       "  'name': 'Alice',\n",
       "  'transactions': [{'transaction-id': 129, 'amount': 4519},\n",
       "   {'transaction-id': 247, 'amount': 4244},\n",
       "   {'transaction-id': 267, 'amount': 4501},\n",
       "   {'transaction-id': 375, 'amount': 4482},\n",
       "   {'transaction-id': 566, 'amount': 5250},\n",
       "   {'transaction-id': 944, 'amount': 4307},\n",
       "   {'transaction-id': 1052, 'amount': 4675},\n",
       "   {'transaction-id': 1103, 'amount': 4338},\n",
       "   {'transaction-id': 1106, 'amount': 3967},\n",
       "   {'transaction-id': 1440, 'amount': 4164},\n",
       "   {'transaction-id': 1546, 'amount': 4396},\n",
       "   {'transaction-id': 1589, 'amount': 4325},\n",
       "   {'transaction-id': 1617, 'amount': 4722},\n",
       "   {'transaction-id': 1672, 'amount': 4591},\n",
       "   {'transaction-id': 1677, 'amount': 4593},\n",
       "   {'transaction-id': 1693, 'amount': 4327},\n",
       "   {'transaction-id': 1695, 'amount': 4335},\n",
       "   {'transaction-id': 1713, 'amount': 4808},\n",
       "   {'transaction-id': 1895, 'amount': 3826},\n",
       "   {'transaction-id': 1930, 'amount': 4001},\n",
       "   {'transaction-id': 1976, 'amount': 3788},\n",
       "   {'transaction-id': 2044, 'amount': 4623},\n",
       "   {'transaction-id': 2340, 'amount': 4029},\n",
       "   {'transaction-id': 2352, 'amount': 5096},\n",
       "   {'transaction-id': 2382, 'amount': 4426},\n",
       "   {'transaction-id': 2389, 'amount': 4733},\n",
       "   {'transaction-id': 2422, 'amount': 4965},\n",
       "   {'transaction-id': 2535, 'amount': 4158},\n",
       "   {'transaction-id': 2576, 'amount': 5101},\n",
       "   {'transaction-id': 2583, 'amount': 4533},\n",
       "   {'transaction-id': 2666, 'amount': 4607},\n",
       "   {'transaction-id': 2704, 'amount': 4131},\n",
       "   {'transaction-id': 2743, 'amount': 4633},\n",
       "   {'transaction-id': 3112, 'amount': 4230},\n",
       "   {'transaction-id': 3139, 'amount': 4882},\n",
       "   {'transaction-id': 3196, 'amount': 4470},\n",
       "   {'transaction-id': 3304, 'amount': 4770},\n",
       "   {'transaction-id': 3727, 'amount': 4676},\n",
       "   {'transaction-id': 3803, 'amount': 5330},\n",
       "   {'transaction-id': 3875, 'amount': 4767},\n",
       "   {'transaction-id': 3917, 'amount': 4520},\n",
       "   {'transaction-id': 4105, 'amount': 4215},\n",
       "   {'transaction-id': 4188, 'amount': 4201},\n",
       "   {'transaction-id': 4336, 'amount': 5529},\n",
       "   {'transaction-id': 4358, 'amount': 4943},\n",
       "   {'transaction-id': 4555, 'amount': 4457},\n",
       "   {'transaction-id': 4627, 'amount': 4597},\n",
       "   {'transaction-id': 4659, 'amount': 4753},\n",
       "   {'transaction-id': 4695, 'amount': 4728},\n",
       "   {'transaction-id': 5090, 'amount': 3863},\n",
       "   {'transaction-id': 5328, 'amount': 4846},\n",
       "   {'transaction-id': 5603, 'amount': 4062},\n",
       "   {'transaction-id': 5697, 'amount': 4783},\n",
       "   {'transaction-id': 5870, 'amount': 4376},\n",
       "   {'transaction-id': 5888, 'amount': 4834},\n",
       "   {'transaction-id': 5890, 'amount': 4497},\n",
       "   {'transaction-id': 5938, 'amount': 3949},\n",
       "   {'transaction-id': 5957, 'amount': 4043},\n",
       "   {'transaction-id': 6210, 'amount': 5050},\n",
       "   {'transaction-id': 6233, 'amount': 4720},\n",
       "   {'transaction-id': 6243, 'amount': 5033},\n",
       "   {'transaction-id': 6248, 'amount': 4619},\n",
       "   {'transaction-id': 6429, 'amount': 4612},\n",
       "   {'transaction-id': 6434, 'amount': 4803},\n",
       "   {'transaction-id': 6570, 'amount': 5736},\n",
       "   {'transaction-id': 6639, 'amount': 4680},\n",
       "   {'transaction-id': 7044, 'amount': 4161},\n",
       "   {'transaction-id': 7140, 'amount': 4734},\n",
       "   {'transaction-id': 7334, 'amount': 4120},\n",
       "   {'transaction-id': 7538, 'amount': 4769},\n",
       "   {'transaction-id': 7917, 'amount': 4657},\n",
       "   {'transaction-id': 8008, 'amount': 4330},\n",
       "   {'transaction-id': 8036, 'amount': 4883},\n",
       "   {'transaction-id': 8064, 'amount': 3920},\n",
       "   {'transaction-id': 8072, 'amount': 4512},\n",
       "   {'transaction-id': 8425, 'amount': 4697},\n",
       "   {'transaction-id': 8560, 'amount': 4474},\n",
       "   {'transaction-id': 8592, 'amount': 3791},\n",
       "   {'transaction-id': 8601, 'amount': 5018},\n",
       "   {'transaction-id': 8662, 'amount': 4382},\n",
       "   {'transaction-id': 8737, 'amount': 5797},\n",
       "   {'transaction-id': 9018, 'amount': 4694},\n",
       "   {'transaction-id': 9090, 'amount': 4339},\n",
       "   {'transaction-id': 9299, 'amount': 4123},\n",
       "   {'transaction-id': 9510, 'amount': 4145},\n",
       "   {'transaction-id': 9739, 'amount': 4823},\n",
       "   {'transaction-id': 9757, 'amount': 4745},\n",
       "   {'transaction-id': 9835, 'amount': 4048}]})"
      ]
     },
     "execution_count": 10,
     "metadata": {},
     "output_type": "execute_result"
    }
   ],
   "source": [
    "# filter: keep only some elements of the sequence\n",
    "js.filter(lambda record: record['name'] == 'Alice').take(5)"
   ]
  },
  {
   "cell_type": "code",
   "execution_count": 11,
   "metadata": {},
   "outputs": [
    {
     "data": {
      "text/plain": [
       "({'name': 'Alice', 'count': 54},\n",
       " {'name': 'Alice', 'count': 30},\n",
       " {'name': 'Alice', 'count': 5},\n",
       " {'name': 'Alice', 'count': 23},\n",
       " {'name': 'Alice', 'count': 88})"
      ]
     },
     "execution_count": 11,
     "metadata": {},
     "output_type": "execute_result"
    }
   ],
   "source": [
    "def count_transactions(d):\n",
    "    return {'name': d['name'], 'count': len(d['transactions'])}\n",
    "\n",
    "# map: apply a function to each element\n",
    "(js.filter(lambda record: record['name'] == 'Alice')\n",
    "   .map(count_transactions)\n",
    "   .take(5))"
   ]
  },
  {
   "cell_type": "code",
   "execution_count": 12,
   "metadata": {},
   "outputs": [
    {
     "data": {
      "text/plain": [
       "(54, 30, 5, 23, 88)"
      ]
     },
     "execution_count": 12,
     "metadata": {},
     "output_type": "execute_result"
    }
   ],
   "source": [
    "# pluck: select a field, as from a dictionary, element[field]\n",
    "(js.filter(lambda record: record['name'] == 'Alice')\n",
    "   .map(count_transactions)\n",
    "   .pluck('count')\n",
    "   .take(5))"
   ]
  },
  {
   "cell_type": "code",
   "execution_count": 13,
   "metadata": {},
   "outputs": [
    {
     "data": {
      "text/plain": [
       "39.749640287769786"
      ]
     },
     "execution_count": 13,
     "metadata": {},
     "output_type": "execute_result"
    }
   ],
   "source": [
    "# Average number of transactions for all of the Alice entries\n",
    "(js.filter(lambda record: record['name'] == 'Alice')\n",
    "   .map(count_transactions)\n",
    "   .pluck('count')\n",
    "   .mean()\n",
    "   .compute())"
   ]
  },
  {
   "cell_type": "markdown",
   "metadata": {},
   "source": [
    "### Use `flatten` to de-nest"
   ]
  },
  {
   "cell_type": "markdown",
   "metadata": {},
   "source": [
    "In the example below we see the use of `.flatten()` to flatten results.  We compute the average amount for all transactions for all Alices."
   ]
  },
  {
   "cell_type": "code",
   "execution_count": 14,
   "metadata": {},
   "outputs": [
    {
     "data": {
      "text/plain": [
       "([{'transaction-id': 111, 'amount': 398},\n",
       "  {'transaction-id': 1040, 'amount': 405},\n",
       "  {'transaction-id': 1121, 'amount': 500},\n",
       "  {'transaction-id': 1151, 'amount': 468},\n",
       "  {'transaction-id': 1457, 'amount': 388},\n",
       "  {'transaction-id': 1611, 'amount': 450},\n",
       "  {'transaction-id': 1675, 'amount': 396},\n",
       "  {'transaction-id': 1781, 'amount': 516},\n",
       "  {'transaction-id': 1815, 'amount': 415},\n",
       "  {'transaction-id': 1845, 'amount': 387},\n",
       "  {'transaction-id': 1861, 'amount': 503},\n",
       "  {'transaction-id': 1864, 'amount': 475},\n",
       "  {'transaction-id': 1900, 'amount': 373},\n",
       "  {'transaction-id': 2054, 'amount': 489},\n",
       "  {'transaction-id': 2161, 'amount': 427},\n",
       "  {'transaction-id': 2272, 'amount': 471},\n",
       "  {'transaction-id': 2880, 'amount': 453},\n",
       "  {'transaction-id': 3157, 'amount': 378},\n",
       "  {'transaction-id': 3248, 'amount': 472},\n",
       "  {'transaction-id': 3340, 'amount': 531},\n",
       "  {'transaction-id': 3396, 'amount': 548},\n",
       "  {'transaction-id': 3643, 'amount': 440},\n",
       "  {'transaction-id': 3679, 'amount': 370},\n",
       "  {'transaction-id': 3813, 'amount': 471},\n",
       "  {'transaction-id': 4061, 'amount': 405},\n",
       "  {'transaction-id': 4350, 'amount': 405},\n",
       "  {'transaction-id': 4851, 'amount': 448},\n",
       "  {'transaction-id': 4958, 'amount': 554},\n",
       "  {'transaction-id': 5485, 'amount': 436},\n",
       "  {'transaction-id': 5781, 'amount': 459},\n",
       "  {'transaction-id': 5831, 'amount': 380},\n",
       "  {'transaction-id': 5882, 'amount': 401},\n",
       "  {'transaction-id': 6057, 'amount': 442},\n",
       "  {'transaction-id': 6610, 'amount': 383},\n",
       "  {'transaction-id': 7237, 'amount': 526},\n",
       "  {'transaction-id': 7379, 'amount': 448},\n",
       "  {'transaction-id': 7481, 'amount': 452},\n",
       "  {'transaction-id': 7560, 'amount': 534},\n",
       "  {'transaction-id': 7986, 'amount': 511},\n",
       "  {'transaction-id': 8011, 'amount': 437},\n",
       "  {'transaction-id': 8035, 'amount': 354},\n",
       "  {'transaction-id': 8270, 'amount': 369},\n",
       "  {'transaction-id': 8426, 'amount': 417},\n",
       "  {'transaction-id': 8554, 'amount': 380},\n",
       "  {'transaction-id': 8586, 'amount': 376},\n",
       "  {'transaction-id': 8605, 'amount': 449},\n",
       "  {'transaction-id': 8728, 'amount': 372},\n",
       "  {'transaction-id': 8932, 'amount': 412},\n",
       "  {'transaction-id': 9365, 'amount': 497},\n",
       "  {'transaction-id': 9675, 'amount': 456},\n",
       "  {'transaction-id': 9790, 'amount': 467},\n",
       "  {'transaction-id': 9810, 'amount': 467},\n",
       "  {'transaction-id': 9931, 'amount': 401},\n",
       "  {'transaction-id': 9988, 'amount': 443}],\n",
       " [{'transaction-id': 49, 'amount': 1242},\n",
       "  {'transaction-id': 204, 'amount': 1132},\n",
       "  {'transaction-id': 248, 'amount': 1069},\n",
       "  {'transaction-id': 383, 'amount': 1067},\n",
       "  {'transaction-id': 389, 'amount': 980},\n",
       "  {'transaction-id': 554, 'amount': 1086},\n",
       "  {'transaction-id': 1222, 'amount': 1089},\n",
       "  {'transaction-id': 1551, 'amount': 1042},\n",
       "  {'transaction-id': 1751, 'amount': 1107},\n",
       "  {'transaction-id': 1768, 'amount': 1065},\n",
       "  {'transaction-id': 3040, 'amount': 1154},\n",
       "  {'transaction-id': 3319, 'amount': 1163},\n",
       "  {'transaction-id': 3476, 'amount': 1025},\n",
       "  {'transaction-id': 3551, 'amount': 1037},\n",
       "  {'transaction-id': 4150, 'amount': 1097},\n",
       "  {'transaction-id': 4586, 'amount': 985},\n",
       "  {'transaction-id': 4632, 'amount': 1061},\n",
       "  {'transaction-id': 5166, 'amount': 1130},\n",
       "  {'transaction-id': 5777, 'amount': 1078},\n",
       "  {'transaction-id': 5876, 'amount': 1107},\n",
       "  {'transaction-id': 6082, 'amount': 1092},\n",
       "  {'transaction-id': 6479, 'amount': 1038},\n",
       "  {'transaction-id': 7592, 'amount': 1075},\n",
       "  {'transaction-id': 7855, 'amount': 1048},\n",
       "  {'transaction-id': 7867, 'amount': 1071},\n",
       "  {'transaction-id': 8526, 'amount': 1094},\n",
       "  {'transaction-id': 8959, 'amount': 1104},\n",
       "  {'transaction-id': 9447, 'amount': 1134},\n",
       "  {'transaction-id': 9694, 'amount': 1060},\n",
       "  {'transaction-id': 9785, 'amount': 1119}],\n",
       " [{'transaction-id': 599, 'amount': 1409},\n",
       "  {'transaction-id': 643, 'amount': 1060},\n",
       "  {'transaction-id': 2922, 'amount': 1214},\n",
       "  {'transaction-id': 3091, 'amount': 1030},\n",
       "  {'transaction-id': 4706, 'amount': 977}])"
      ]
     },
     "execution_count": 14,
     "metadata": {},
     "output_type": "execute_result"
    }
   ],
   "source": [
    "js.filter(lambda record: record['name'] == 'Alice').pluck('transactions').take(3)"
   ]
  },
  {
   "cell_type": "code",
   "execution_count": 15,
   "metadata": {},
   "outputs": [
    {
     "data": {
      "text/plain": [
       "({'transaction-id': 111, 'amount': 398},\n",
       " {'transaction-id': 1040, 'amount': 405},\n",
       " {'transaction-id': 1121, 'amount': 500})"
      ]
     },
     "execution_count": 15,
     "metadata": {},
     "output_type": "execute_result"
    }
   ],
   "source": [
    "(js.filter(lambda record: record['name'] == 'Alice')\n",
    "   .pluck('transactions')\n",
    "   .flatten()\n",
    "   .take(3))"
   ]
  },
  {
   "cell_type": "code",
   "execution_count": 16,
   "metadata": {},
   "outputs": [
    {
     "data": {
      "text/plain": [
       "(398, 405, 500)"
      ]
     },
     "execution_count": 16,
     "metadata": {},
     "output_type": "execute_result"
    }
   ],
   "source": [
    "(js.filter(lambda record: record['name'] == 'Alice')\n",
    "   .pluck('transactions')\n",
    "   .flatten()\n",
    "   .pluck('amount')\n",
    "   .take(3))"
   ]
  },
  {
   "cell_type": "code",
   "execution_count": 17,
   "metadata": {},
   "outputs": [
    {
     "data": {
      "text/plain": [
       "1881.7921161224933"
      ]
     },
     "execution_count": 17,
     "metadata": {},
     "output_type": "execute_result"
    }
   ],
   "source": [
    "(js.filter(lambda record: record['name'] == 'Alice')\n",
    "   .pluck('transactions')\n",
    "   .flatten()\n",
    "   .pluck('amount')\n",
    "   .mean()\n",
    "   .compute())"
   ]
  },
  {
   "cell_type": "markdown",
   "metadata": {},
   "source": [
    "### Groupby and Foldby"
   ]
  },
  {
   "cell_type": "markdown",
   "metadata": {},
   "source": [
    "Often we want to group data by some function or key.  We can do this either with the `.groupby` method, which is straightforward but forces a full shuffle of the data (expensive) or with the harder-to-use but faster `.foldby` method, which does a streaming combined groupby and reduction.\n",
    "\n",
    "*  `groupby`:  Shuffles data so that all items with the same key are in the same key-value pair\n",
    "*  `foldby`:  Walks through the data accumulating a result per key\n",
    "\n",
    "*Note: the full groupby is particularly bad. In actual workloads you would do well to use `foldby` or switch to `DataFrame`s if possible.*"
   ]
  },
  {
   "cell_type": "markdown",
   "metadata": {},
   "source": [
    "### `groupby`"
   ]
  },
  {
   "cell_type": "markdown",
   "metadata": {},
   "source": [
    "Groupby collects items in your collection so that all items with the same value under some function are collected together into a key-value pair."
   ]
  },
  {
   "cell_type": "code",
   "execution_count": 18,
   "metadata": {},
   "outputs": [
    {
     "data": {
      "text/plain": [
       "[(7, ['Charlie']), (3, ['Bob', 'Dan']), (5, ['Alice', 'Edith', 'Frank'])]"
      ]
     },
     "execution_count": 18,
     "metadata": {},
     "output_type": "execute_result"
    }
   ],
   "source": [
    "b = db.from_sequence(['Alice', 'Bob', 'Charlie', 'Dan', 'Edith', 'Frank'])\n",
    "b.groupby(len).compute()  # names grouped by length"
   ]
  },
  {
   "cell_type": "code",
   "execution_count": 19,
   "metadata": {},
   "outputs": [
    {
     "data": {
      "text/plain": [
       "[(0, [0, 2, 4, 6, 8]), (1, [1, 3, 5, 7, 9])]"
      ]
     },
     "execution_count": 19,
     "metadata": {},
     "output_type": "execute_result"
    }
   ],
   "source": [
    "b = db.from_sequence(list(range(10)))\n",
    "b.groupby(lambda x: x % 2).compute()"
   ]
  },
  {
   "cell_type": "code",
   "execution_count": 20,
   "metadata": {},
   "outputs": [
    {
     "data": {
      "text/plain": [
       "[(0, 8), (1, 9)]"
      ]
     },
     "execution_count": 20,
     "metadata": {},
     "output_type": "execute_result"
    }
   ],
   "source": [
    "b.groupby(lambda x: x % 2).starmap(lambda k, v: (k, max(v))).compute()"
   ]
  },
  {
   "cell_type": "markdown",
   "metadata": {},
   "source": [
    "### `foldby`"
   ]
  },
  {
   "cell_type": "markdown",
   "metadata": {},
   "source": [
    "Foldby can be quite odd at first.  It is similar to the following functions from other libraries:\n",
    "\n",
    "*  [`toolz.reduceby`](http://toolz.readthedocs.io/en/latest/streaming-analytics.html#streaming-split-apply-combine)\n",
    "*  [`pyspark.RDD.combineByKey`](http://abshinn.github.io/python/apache-spark/2014/10/11/using-combinebykey-in-apache-spark/)\n",
    "\n",
    "When using `foldby` you provide \n",
    "\n",
    "1.  A key function on which to group elements\n",
    "2.  A binary operator such as you would pass to `reduce` that you use to perform reduction per each group\n",
    "3.  A combine binary operator that can combine the results of two `reduce` calls on different parts of your dataset.\n",
    "\n",
    "Your reduction must be associative.  It will happen in parallel in each of the partitions of your dataset.  Then all of these intermediate results will be combined by the `combine` binary operator."
   ]
  },
  {
   "cell_type": "code",
   "execution_count": 21,
   "metadata": {},
   "outputs": [
    {
     "data": {
      "text/plain": [
       "[(0, 8), (1, 9)]"
      ]
     },
     "execution_count": 21,
     "metadata": {},
     "output_type": "execute_result"
    }
   ],
   "source": [
    "is_even = lambda x: x % 2\n",
    "b.foldby(is_even, binop=max, combine=max).compute()"
   ]
  },
  {
   "cell_type": "markdown",
   "metadata": {},
   "source": [
    "### Example with account data"
   ]
  },
  {
   "cell_type": "markdown",
   "metadata": {},
   "source": [
    "We find the number of people with the same name."
   ]
  },
  {
   "cell_type": "code",
   "execution_count": 22,
   "metadata": {},
   "outputs": [
    {
     "name": "stdout",
     "output_type": "stream",
     "text": [
      "[('Alice', 168), ('Alice', 168), ('Alice', 179), ('Alice', 180), ('Bob', 36), ('Bob', 39), ('Bob', 75), ('Charlie', 118), ('Charlie', 119), ('Charlie', 128), ('Charlie', 129), ('Dan', 144), ('Dan', 144), ('Dan', 155), ('Dan', 156), ('Edith', 60), ('Edith', 60), ('Edith', 65), ('Edith', 65), ('Frank', 108), ('Frank', 108), ('Frank', 117), ('Frank', 117), ('George', 157), ('George', 158), ('George', 171), ('George', 172), ('Hannah', 81), ('Hannah', 82), ('Hannah', 88), ('Hannah', 88), ('Ingrid', 159), ('Ingrid', 165), ('Ingrid', 176), ('Ingrid', 178), ('Jerry', 72), ('Jerry', 72), ('Jerry', 78), ('Jerry', 78), ('Kevin', 108), ('Kevin', 108), ('Kevin', 117), ('Kevin', 117), ('Laura', 77), ('Laura', 78), ('Laura', 82), ('Laura', 83), ('Michael', 116), ('Michael', 118), ('Michael', 128), ('Michael', 129), ('Norbert', 116), ('Norbert', 116), ('Norbert', 123), ('Norbert', 126), ('Oliver', 39), ('Oliver', 39), ('Oliver', 72), ('Patricia', 139), ('Patricia', 142), ('Patricia', 149), ('Patricia', 151), ('Quinn', 71), ('Quinn', 71), ('Quinn', 76), ('Quinn', 78), ('Ray', 84), ('Ray', 84), ('Ray', 91), ('Ray', 91), ('Sarah', 95), ('Sarah', 95), ('Sarah', 103), ('Sarah', 104), ('Tim', 96), ('Tim', 96), ('Tim', 104), ('Tim', 104), ('Ursula', 180), ('Ursula', 180), ('Ursula', 195), ('Ursula', 195), ('Victor', 116), ('Victor', 117), ('Victor', 124), ('Victor', 125), ('Wendy', 163), ('Wendy', 182), ('Wendy', 348), ('Xavier', 140), ('Xavier', 142), ('Xavier', 151), ('Xavier', 152), ('Yvonne', 144), ('Yvonne', 144), ('Yvonne', 156), ('Yvonne', 156), ('Zelda', 139), ('Zelda', 142), ('Zelda', 152), ('Zelda', 153)]\n",
      "CPU times: user 4.95 s, sys: 321 ms, total: 5.27 s\n",
      "Wall time: 1min 1s\n"
     ]
    }
   ],
   "source": [
    "%%time\n",
    "# Warning, this one takes a while...\n",
    "result = js.groupby(lambda item: item['name']).starmap(lambda k, v: (k, len(v))).compute()\n",
    "print(sorted(result))"
   ]
  },
  {
   "cell_type": "code",
   "execution_count": 23,
   "metadata": {},
   "outputs": [
    {
     "name": "stdout",
     "output_type": "stream",
     "text": [
      "[('Alice', 695), ('Bob', 150), ('Charlie', 494), ('Dan', 599), ('Edith', 250), ('Frank', 450), ('George', 658), ('Hannah', 339), ('Ingrid', 678), ('Jerry', 300), ('Kevin', 450), ('Laura', 320), ('Michael', 491), ('Norbert', 481), ('Oliver', 150), ('Patricia', 581), ('Quinn', 296), ('Ray', 350), ('Sarah', 397), ('Tim', 400), ('Ursula', 750), ('Victor', 482), ('Wendy', 693), ('Xavier', 585), ('Yvonne', 600), ('Zelda', 586)]\n",
      "CPU times: user 197 ms, sys: 3.35 ms, total: 201 ms\n",
      "Wall time: 645 ms\n"
     ]
    }
   ],
   "source": [
    "%%time\n",
    "# This one is comparatively fast and produces the same result.\n",
    "from operator import add\n",
    "def incr(tot, _):\n",
    "    return tot+1\n",
    "\n",
    "result = js.foldby(key='name', \n",
    "                   binop=incr, \n",
    "                   initial=0, \n",
    "                   combine=add, \n",
    "                   combine_initial=0).compute()\n",
    "print(sorted(result))"
   ]
  },
  {
   "cell_type": "markdown",
   "metadata": {},
   "source": [
    "### Exercise: compute total amount per name"
   ]
  },
  {
   "cell_type": "markdown",
   "metadata": {},
   "source": [
    "We want to groupby (or foldby) the `name` key, then add up the all of the amounts for each name.\n",
    "\n",
    "Steps\n",
    "\n",
    "1.  Create a small function that, given a dictionary like \n",
    "\n",
    "        {'name': 'Alice', 'transactions': [{'amount': 1, 'id': 123}, {'amount': 2, 'id': 456}]}\n",
    "        \n",
    "    produces the sum of the amounts, e.g. `3`\n",
    "    \n",
    "2.  Slightly change the binary operator of the `foldby` example above so that the binary operator doesn't count the number of entries, but instead accumulates the sum of the amounts."
   ]
  },
  {
   "cell_type": "code",
   "execution_count": 24,
   "metadata": {},
   "outputs": [],
   "source": [
    "# Your code here..."
   ]
  },
  {
   "cell_type": "markdown",
   "metadata": {},
   "source": [
    "## DataFrames"
   ]
  },
  {
   "cell_type": "markdown",
   "metadata": {},
   "source": [
    "For the same reasons that Pandas is often faster than pure Python, `dask.dataframe` can be faster than `dask.bag`.  We will work more with DataFrames later, but from for the bag point of view, they are frequently the end-point of the \"messy\" part of data ingestion—once the data can be made into a data-frame, then complex split-apply-combine logic will become much more straight-forward and efficient.\n",
    "\n",
    "You can transform a bag with a simple tuple or flat dictionary structure into a `dask.dataframe` with the `to_dataframe` method."
   ]
  },
  {
   "cell_type": "code",
   "execution_count": 25,
   "metadata": {},
   "outputs": [
    {
     "data": {
      "text/html": [
       "<div>\n",
       "<style scoped>\n",
       "    .dataframe tbody tr th:only-of-type {\n",
       "        vertical-align: middle;\n",
       "    }\n",
       "\n",
       "    .dataframe tbody tr th {\n",
       "        vertical-align: top;\n",
       "    }\n",
       "\n",
       "    .dataframe thead th {\n",
       "        text-align: right;\n",
       "    }\n",
       "</style>\n",
       "<table border=\"1\" class=\"dataframe\">\n",
       "  <thead>\n",
       "    <tr style=\"text-align: right;\">\n",
       "      <th></th>\n",
       "      <th>id</th>\n",
       "      <th>name</th>\n",
       "      <th>transactions</th>\n",
       "    </tr>\n",
       "  </thead>\n",
       "  <tbody>\n",
       "    <tr>\n",
       "      <th>0</th>\n",
       "      <td>0</td>\n",
       "      <td>Ursula</td>\n",
       "      <td>[{'transaction-id': 16, 'amount': 131}, {'tran...</td>\n",
       "    </tr>\n",
       "    <tr>\n",
       "      <th>1</th>\n",
       "      <td>1</td>\n",
       "      <td>Dan</td>\n",
       "      <td>[{'transaction-id': 813, 'amount': 1486}, {'tr...</td>\n",
       "    </tr>\n",
       "    <tr>\n",
       "      <th>2</th>\n",
       "      <td>2</td>\n",
       "      <td>Patricia</td>\n",
       "      <td>[{'transaction-id': 531, 'amount': 1319}, {'tr...</td>\n",
       "    </tr>\n",
       "    <tr>\n",
       "      <th>3</th>\n",
       "      <td>3</td>\n",
       "      <td>Victor</td>\n",
       "      <td>[{'transaction-id': 1266, 'amount': 126}, {'tr...</td>\n",
       "    </tr>\n",
       "    <tr>\n",
       "      <th>4</th>\n",
       "      <td>4</td>\n",
       "      <td>Kevin</td>\n",
       "      <td>[{'transaction-id': 288, 'amount': -650}, {'tr...</td>\n",
       "    </tr>\n",
       "  </tbody>\n",
       "</table>\n",
       "</div>"
      ],
      "text/plain": [
       "   id      name                                       transactions\n",
       "0   0    Ursula  [{'transaction-id': 16, 'amount': 131}, {'tran...\n",
       "1   1       Dan  [{'transaction-id': 813, 'amount': 1486}, {'tr...\n",
       "2   2  Patricia  [{'transaction-id': 531, 'amount': 1319}, {'tr...\n",
       "3   3    Victor  [{'transaction-id': 1266, 'amount': 126}, {'tr...\n",
       "4   4     Kevin  [{'transaction-id': 288, 'amount': -650}, {'tr..."
      ]
     },
     "execution_count": 25,
     "metadata": {},
     "output_type": "execute_result"
    }
   ],
   "source": [
    "df1 = js.to_dataframe()\n",
    "df1.head()"
   ]
  },
  {
   "cell_type": "markdown",
   "metadata": {},
   "source": [
    "This now looks like a well-defined DataFrame, and we can apply Pandas-like computations to it efficiently."
   ]
  },
  {
   "cell_type": "markdown",
   "metadata": {},
   "source": [
    "Using a Dask DataFrame, how long does it take to do our prior computation of numbers of people with the same name?  It turns out that `dask.dataframe.groupby()` beats `dask.bag.groupby()` more than an order of magnitude; but it still cannot match `dask.bag.foldby()` for this case."
   ]
  },
  {
   "cell_type": "code",
   "execution_count": 26,
   "metadata": {},
   "outputs": [
    {
     "name": "stdout",
     "output_type": "stream",
     "text": [
      "CPU times: user 244 ms, sys: 17.2 ms, total: 262 ms\n",
      "Wall time: 1.85 s\n"
     ]
    },
    {
     "data": {
      "text/plain": [
       "name\n",
       "Alice      695\n",
       "Bob        150\n",
       "Charlie    494\n",
       "Dan        599\n",
       "Edith      250\n",
       "Name: id, dtype: int64"
      ]
     },
     "execution_count": 26,
     "metadata": {},
     "output_type": "execute_result"
    }
   ],
   "source": [
    "%time df1.groupby('name').id.count().compute().head()"
   ]
  },
  {
   "cell_type": "markdown",
   "metadata": {},
   "source": [
    "### Denormalization"
   ]
  },
  {
   "cell_type": "markdown",
   "metadata": {},
   "source": [
    "This DataFrame format is less-than-optimal because the `transactions` column is filled with nested data so Pandas has to revert to `object` dtype, which is quite slow in Pandas.  Ideally we want to transform to a dataframe only after we have flattened our data so that each record is a single `int`, `string`, `float`, etc.."
   ]
  },
  {
   "cell_type": "code",
   "execution_count": 27,
   "metadata": {},
   "outputs": [
    {
     "data": {
      "text/plain": [
       "({'id': 0, 'name': 'Ursula', 'amount': 131, 'transaction-id': 16},\n",
       " {'id': 0, 'name': 'Ursula', 'amount': 168, 'transaction-id': 164},\n",
       " {'id': 0, 'name': 'Ursula', 'amount': 121, 'transaction-id': 234})"
      ]
     },
     "execution_count": 27,
     "metadata": {},
     "output_type": "execute_result"
    }
   ],
   "source": [
    "def denormalize(record):\n",
    "    # returns a list for every nested item, each transaction of each person\n",
    "    return [{'id': record['id'], \n",
    "             'name': record['name'], \n",
    "             'amount': transaction['amount'], \n",
    "             'transaction-id': transaction['transaction-id']}\n",
    "            for transaction in record['transactions']]\n",
    "\n",
    "transactions = js.map(denormalize).flatten()\n",
    "transactions.take(3)"
   ]
  },
  {
   "cell_type": "code",
   "execution_count": 28,
   "metadata": {},
   "outputs": [
    {
     "data": {
      "text/html": [
       "<div>\n",
       "<style scoped>\n",
       "    .dataframe tbody tr th:only-of-type {\n",
       "        vertical-align: middle;\n",
       "    }\n",
       "\n",
       "    .dataframe tbody tr th {\n",
       "        vertical-align: top;\n",
       "    }\n",
       "\n",
       "    .dataframe thead th {\n",
       "        text-align: right;\n",
       "    }\n",
       "</style>\n",
       "<table border=\"1\" class=\"dataframe\">\n",
       "  <thead>\n",
       "    <tr style=\"text-align: right;\">\n",
       "      <th></th>\n",
       "      <th>id</th>\n",
       "      <th>name</th>\n",
       "      <th>amount</th>\n",
       "      <th>transaction-id</th>\n",
       "    </tr>\n",
       "  </thead>\n",
       "  <tbody>\n",
       "    <tr>\n",
       "      <th>0</th>\n",
       "      <td>0</td>\n",
       "      <td>Ursula</td>\n",
       "      <td>131</td>\n",
       "      <td>16</td>\n",
       "    </tr>\n",
       "    <tr>\n",
       "      <th>1</th>\n",
       "      <td>0</td>\n",
       "      <td>Ursula</td>\n",
       "      <td>168</td>\n",
       "      <td>164</td>\n",
       "    </tr>\n",
       "    <tr>\n",
       "      <th>2</th>\n",
       "      <td>0</td>\n",
       "      <td>Ursula</td>\n",
       "      <td>121</td>\n",
       "      <td>234</td>\n",
       "    </tr>\n",
       "    <tr>\n",
       "      <th>3</th>\n",
       "      <td>0</td>\n",
       "      <td>Ursula</td>\n",
       "      <td>177</td>\n",
       "      <td>237</td>\n",
       "    </tr>\n",
       "    <tr>\n",
       "      <th>4</th>\n",
       "      <td>0</td>\n",
       "      <td>Ursula</td>\n",
       "      <td>126</td>\n",
       "      <td>299</td>\n",
       "    </tr>\n",
       "  </tbody>\n",
       "</table>\n",
       "</div>"
      ],
      "text/plain": [
       "   id    name  amount  transaction-id\n",
       "0   0  Ursula     131              16\n",
       "1   0  Ursula     168             164\n",
       "2   0  Ursula     121             234\n",
       "3   0  Ursula     177             237\n",
       "4   0  Ursula     126             299"
      ]
     },
     "execution_count": 28,
     "metadata": {},
     "output_type": "execute_result"
    }
   ],
   "source": [
    "df = transactions.to_dataframe()\n",
    "df.head()"
   ]
  },
  {
   "cell_type": "code",
   "execution_count": 29,
   "metadata": {},
   "outputs": [
    {
     "name": "stdout",
     "output_type": "stream",
     "text": [
      "CPU times: user 247 ms, sys: 15.5 ms, total: 263 ms\n",
      "Wall time: 1.56 s\n"
     ]
    },
    {
     "data": {
      "text/plain": [
       "name\n",
       "Alice       27626\n",
       "Bob          5187\n",
       "Charlie     12249\n",
       "Dan         32516\n",
       "Edith        5778\n",
       "Frank       22268\n",
       "George      21735\n",
       "Hannah      17186\n",
       "Ingrid      18984\n",
       "Jerry       11212\n",
       "Kevin       17400\n",
       "Laura       14477\n",
       "Michael     32848\n",
       "Norbert     15071\n",
       "Oliver      11797\n",
       "Patricia    19442\n",
       "Quinn       10694\n",
       "Ray         11705\n",
       "Sarah       19191\n",
       "Tim         19510\n",
       "Ursula      29982\n",
       "Victor      19294\n",
       "Wendy       22265\n",
       "Xavier      27943\n",
       "Yvonne      26448\n",
       "Zelda       27192\n",
       "Name: transaction-id, dtype: int64"
      ]
     },
     "execution_count": 29,
     "metadata": {},
     "output_type": "execute_result"
    }
   ],
   "source": [
    "%%time\n",
    "# number of transactions per name\n",
    "# note that the time here includes the data load and ingestion\n",
    "df.groupby('name')['transaction-id'].count().compute()"
   ]
  },
  {
   "cell_type": "markdown",
   "metadata": {},
   "source": [
    "## Limitations"
   ]
  },
  {
   "cell_type": "markdown",
   "metadata": {},
   "source": [
    "Bags provide very general computation (any Python function.)  This generality\n",
    "comes at cost.  Bags have the following known limitations\n",
    "\n",
    "1.  Bag operations tend to be slower than array/dataframe computations in the\n",
    "    same way that Python tends to be slower than NumPy/Pandas\n",
    "2.  ``Bag.groupby`` is slow.  You should try to use ``Bag.foldby`` if possible.\n",
    "    Using ``Bag.foldby`` requires more thought. Even better, consider creating\n",
    "    a normalised dataframe."
   ]
  },
  {
   "cell_type": "markdown",
   "metadata": {},
   "source": [
    "## Learn More\n",
    "\n",
    "* [Bag documentation](https://docs.dask.org/en/latest/bag.html)\n",
    "* [Bag screencast](https://youtu.be/-qIiJ1XtSv0)\n",
    "* [Bag API](https://docs.dask.org/en/latest/bag-api.html)\n",
    "* [Bag examples](https://examples.dask.org/bag.html)"
   ]
  },
  {
   "cell_type": "markdown",
   "metadata": {},
   "source": [
    "## Shutdown"
   ]
  },
  {
   "cell_type": "code",
   "execution_count": 30,
   "metadata": {},
   "outputs": [],
   "source": [
    "client.shutdown()"
   ]
  }
 ],
 "metadata": {
  "anaconda-cloud": {},
  "kernelspec": {
   "display_name": "Python 3",
   "language": "python",
   "name": "python3"
  },
  "language_info": {
   "codemirror_mode": {
    "name": "ipython",
    "version": 3
   },
   "file_extension": ".py",
   "mimetype": "text/x-python",
   "name": "python",
   "nbconvert_exporter": "python",
   "pygments_lexer": "ipython3",
   "version": "3.7.6"
  }
 },
 "nbformat": 4,
 "nbformat_minor": 4
}
