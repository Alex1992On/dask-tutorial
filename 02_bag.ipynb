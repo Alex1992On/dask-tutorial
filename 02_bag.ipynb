{
 "cells": [
  {
   "cell_type": "markdown",
   "metadata": {},
   "source": [
    "<img src=\"images/dask_horizontal.svg\" align=\"right\" width=\"30%\">"
   ]
  },
  {
   "cell_type": "markdown",
   "metadata": {},
   "source": [
    "# Bag: Parallel Lists for semi-structured data"
   ]
  },
  {
   "cell_type": "markdown",
   "metadata": {},
   "source": [
    "Dask-bag excels in processing data that can be represented as a sequence of arbitrary inputs. We'll refer to this as \"messy\" data, because it can contain complex nested structures, missing fields, mixtures of data types, etc. The *functional* programming style fits very nicely with standard Python iteration, such as can be found in the `itertools` module.\n",
    "\n",
    "Messy data is often encountered at the beginning of data processing pipelines when large volumes of raw data are first consumed. The initial set of data might be JSON, CSV, XML, or any other format that does not enforce strict structure and datatypes.\n",
    "For this reason, the initial data massaging and processing is often done with Python `list`s, `dict`s, and `set`s.\n",
    "\n",
    "These core data structures are optimized for general-purpose storage and processing.  Adding streaming computation with iterators/generator expressions or libraries like `itertools` or [`toolz`](https://toolz.readthedocs.io/en/latest/) let us process large volumes in a small space.  If we combine this with parallel processing then we can churn through a fair amount of data.\n",
    "\n",
    "Dask.bag is a high level Dask collection to automate common workloads of this form.  In a nutshell\n",
    "\n",
    "    dask.bag = map, filter, toolz + parallel execution\n",
    "    \n",
    "**Related Documentation**\n",
    "\n",
    "* [Bag documentation](https://docs.dask.org/en/latest/bag.html)\n",
    "* [Bag screencast](https://youtu.be/-qIiJ1XtSv0)\n",
    "* [Bag API](https://docs.dask.org/en/latest/bag-api.html)\n",
    "* [Bag examples](https://examples.dask.org/bag.html)"
   ]
  },
  {
   "cell_type": "markdown",
   "metadata": {},
   "source": [
    "## Create data"
   ]
  },
  {
   "cell_type": "code",
   "execution_count": 1,
   "metadata": {},
   "outputs": [],
   "source": [
    "%run prep.py -d accounts"
   ]
  },
  {
   "cell_type": "markdown",
   "metadata": {},
   "source": [
    "## Setup"
   ]
  },
  {
   "cell_type": "markdown",
   "metadata": {},
   "source": [
    "Again, we'll use the distributed scheduler. Schedulers will be explained in depth [later](05_distributed.ipynb)."
   ]
  },
  {
   "cell_type": "code",
   "execution_count": 2,
   "metadata": {},
   "outputs": [],
   "source": [
    "from dask.distributed import Client\n",
    "\n",
    "client = Client(n_workers=4)"
   ]
  },
  {
   "cell_type": "markdown",
   "metadata": {},
   "source": [
    "## Creation"
   ]
  },
  {
   "cell_type": "markdown",
   "metadata": {},
   "source": [
    "You can create a `Bag` from a Python sequence, from files, from data on S3, etc.\n",
    "We demonstrate using `.take()` to show elements of the data. (Doing `.take(1)` results in a tuple with one element)\n",
    "\n",
    "Note that the data are partitioned into blocks, and there are many items per block. In the first example, the two partitions contain five elements each, and in the following two, each file is partitioned into one or more bytes blocks."
   ]
  },
  {
   "cell_type": "code",
   "execution_count": 3,
   "metadata": {},
   "outputs": [
    {
     "data": {
      "text/plain": [
       "(1, 2, 3)"
      ]
     },
     "execution_count": 3,
     "metadata": {},
     "output_type": "execute_result"
    }
   ],
   "source": [
    "# each element is an integer\n",
    "import dask.bag as db\n",
    "b = db.from_sequence([1, 2, 3, 4, 5, 6, 7, 8, 9, 10], npartitions=2)\n",
    "b.take(3)"
   ]
  },
  {
   "cell_type": "code",
   "execution_count": 4,
   "metadata": {},
   "outputs": [
    {
     "data": {
      "text/plain": [
       "('{\"id\": 0, \"name\": \"Victor\", \"transactions\": [{\"transaction-id\": 1, \"amount\": 1610}, {\"transaction-id\": 1277, \"amount\": 2452}, {\"transaction-id\": 2046, \"amount\": 1729}, {\"transaction-id\": 2164, \"amount\": 1850}, {\"transaction-id\": 2368, \"amount\": 2163}, {\"transaction-id\": 3705, \"amount\": 2749}, {\"transaction-id\": 4579, \"amount\": 2252}, {\"transaction-id\": 4878, \"amount\": 1885}, {\"transaction-id\": 5791, \"amount\": 2001}, {\"transaction-id\": 6362, \"amount\": 1873}, {\"transaction-id\": 6960, \"amount\": 1837}, {\"transaction-id\": 8057, \"amount\": 1928}, {\"transaction-id\": 9697, \"amount\": 2560}]}\\n',)"
      ]
     },
     "execution_count": 4,
     "metadata": {},
     "output_type": "execute_result"
    }
   ],
   "source": [
    "# each element is a text file, where each line is a JSON object\n",
    "# note that the compression is handled automatically\n",
    "import os\n",
    "b = db.read_text(os.path.join('data', 'accounts.*.json.gz'))\n",
    "b.take(1)"
   ]
  },
  {
   "cell_type": "code",
   "execution_count": 5,
   "metadata": {},
   "outputs": [
    {
     "data": {
      "text/plain": [
       "('VendorID,tpep_pickup_datetime,tpep_dropoff_datetime,passenger_count,trip_distance,pickup_longitude,pickup_latitude,RateCodeID,store_and_fwd_flag,dropoff_longitude,dropoff_latitude,payment_type,fare_amount,extra,mta_tax,tip_amount,tolls_amount,improvement_surcharge,total_amount\\n',)"
      ]
     },
     "execution_count": 5,
     "metadata": {},
     "output_type": "execute_result"
    }
   ],
   "source": [
    "# Requires `s3fs` library\n",
    "# each partition is a remote CSV text file\n",
    "b = db.read_text('s3://dask-data/nyc-taxi/2015/yellow_tripdata_2015-01.csv',\n",
    "                 storage_options={'anon': True})\n",
    "b.take(1)"
   ]
  },
  {
   "cell_type": "markdown",
   "metadata": {},
   "source": [
    "## Manipulation"
   ]
  },
  {
   "cell_type": "markdown",
   "metadata": {},
   "source": [
    "`Bag` objects hold the standard functional API found in projects like the Python standard library, `toolz`, or `pyspark`, including `map`, `filter`, `groupby`, etc..\n",
    "\n",
    "Operations on `Bag` objects create new bags.  Call the `.compute()` method to trigger execution, as we saw for `Delayed` objects.  "
   ]
  },
  {
   "cell_type": "code",
   "execution_count": 6,
   "metadata": {},
   "outputs": [
    {
     "data": {
      "text/plain": [
       "dask.bag<lambda, npartitions=10>"
      ]
     },
     "execution_count": 6,
     "metadata": {},
     "output_type": "execute_result"
    }
   ],
   "source": [
    "def is_even(n):\n",
    "    return n % 2 == 0\n",
    "\n",
    "b = db.from_sequence([1, 2, 3, 4, 5, 6, 7, 8, 9, 10])\n",
    "c = b.filter(is_even).map(lambda x: x ** 2)\n",
    "c"
   ]
  },
  {
   "cell_type": "code",
   "execution_count": 7,
   "metadata": {},
   "outputs": [
    {
     "data": {
      "text/plain": [
       "[4, 16, 36, 64, 100]"
      ]
     },
     "execution_count": 7,
     "metadata": {},
     "output_type": "execute_result"
    }
   ],
   "source": [
    "# blocking form: wait for completion (which is very fast in this case)\n",
    "c.compute()"
   ]
  },
  {
   "cell_type": "markdown",
   "metadata": {},
   "source": [
    "### Example: Accounts JSON data"
   ]
  },
  {
   "cell_type": "markdown",
   "metadata": {},
   "source": [
    "We've created a fake dataset of gzipped JSON data in your data directory.  This is like the example used in the `DataFrame` example we will see later, except that it has bundled up all of the entires for each individual `id` into a single record.  This is similar to data that you might collect off of a document store database or a web API.\n",
    "\n",
    "Each line is a JSON encoded dictionary with the following keys\n",
    "\n",
    "*  id: Unique identifier of the customer\n",
    "*  name: Name of the customer\n",
    "*  transactions: List of `transaction-id`, `amount` pairs, one for each transaction for the customer in that file"
   ]
  },
  {
   "cell_type": "code",
   "execution_count": 8,
   "metadata": {},
   "outputs": [
    {
     "data": {
      "text/plain": [
       "('{\"id\": 0, \"name\": \"Victor\", \"transactions\": [{\"transaction-id\": 1, \"amount\": 1610}, {\"transaction-id\": 1277, \"amount\": 2452}, {\"transaction-id\": 2046, \"amount\": 1729}, {\"transaction-id\": 2164, \"amount\": 1850}, {\"transaction-id\": 2368, \"amount\": 2163}, {\"transaction-id\": 3705, \"amount\": 2749}, {\"transaction-id\": 4579, \"amount\": 2252}, {\"transaction-id\": 4878, \"amount\": 1885}, {\"transaction-id\": 5791, \"amount\": 2001}, {\"transaction-id\": 6362, \"amount\": 1873}, {\"transaction-id\": 6960, \"amount\": 1837}, {\"transaction-id\": 8057, \"amount\": 1928}, {\"transaction-id\": 9697, \"amount\": 2560}]}\\n',\n",
       " '{\"id\": 1, \"name\": \"Ray\", \"transactions\": [{\"transaction-id\": 114, \"amount\": 1409}, {\"transaction-id\": 204, \"amount\": 1385}, {\"transaction-id\": 223, \"amount\": 1386}, {\"transaction-id\": 592, \"amount\": 1355}, {\"transaction-id\": 600, \"amount\": 1442}, {\"transaction-id\": 729, \"amount\": 1304}, {\"transaction-id\": 969, \"amount\": 1400}, {\"transaction-id\": 2010, \"amount\": 1438}, {\"transaction-id\": 2032, \"amount\": 1360}, {\"transaction-id\": 2361, \"amount\": 1186}, {\"transaction-id\": 2408, \"amount\": 1298}, {\"transaction-id\": 2546, \"amount\": 1299}, {\"transaction-id\": 2959, \"amount\": 1377}, {\"transaction-id\": 3148, \"amount\": 1447}, {\"transaction-id\": 3162, \"amount\": 1378}, {\"transaction-id\": 3269, \"amount\": 1285}, {\"transaction-id\": 3476, \"amount\": 1251}, {\"transaction-id\": 3707, \"amount\": 1476}, {\"transaction-id\": 3856, \"amount\": 1479}, {\"transaction-id\": 3988, \"amount\": 1291}, {\"transaction-id\": 4084, \"amount\": 1390}, {\"transaction-id\": 4350, \"amount\": 1338}, {\"transaction-id\": 4847, \"amount\": 1251}, {\"transaction-id\": 5594, \"amount\": 1355}, {\"transaction-id\": 5907, \"amount\": 1322}, {\"transaction-id\": 6294, \"amount\": 1353}, {\"transaction-id\": 6574, \"amount\": 1370}, {\"transaction-id\": 6780, \"amount\": 1348}, {\"transaction-id\": 6793, \"amount\": 1370}, {\"transaction-id\": 6860, \"amount\": 1346}, {\"transaction-id\": 6915, \"amount\": 1498}, {\"transaction-id\": 7538, \"amount\": 1526}, {\"transaction-id\": 7832, \"amount\": 1401}, {\"transaction-id\": 8281, \"amount\": 1424}, {\"transaction-id\": 8573, \"amount\": 1469}, {\"transaction-id\": 8704, \"amount\": 1501}, {\"transaction-id\": 9221, \"amount\": 1383}, {\"transaction-id\": 9476, \"amount\": 1405}, {\"transaction-id\": 9575, \"amount\": 1443}, {\"transaction-id\": 9786, \"amount\": 1464}]}\\n',\n",
       " '{\"id\": 2, \"name\": \"Frank\", \"transactions\": [{\"transaction-id\": 43, \"amount\": 637}, {\"transaction-id\": 352, \"amount\": 829}, {\"transaction-id\": 457, \"amount\": 813}, {\"transaction-id\": 633, \"amount\": 705}, {\"transaction-id\": 732, \"amount\": 757}, {\"transaction-id\": 1011, \"amount\": 588}, {\"transaction-id\": 1120, \"amount\": 803}, {\"transaction-id\": 1176, \"amount\": 646}, {\"transaction-id\": 1253, \"amount\": 729}, {\"transaction-id\": 1278, \"amount\": 780}, {\"transaction-id\": 1509, \"amount\": 824}, {\"transaction-id\": 1687, \"amount\": 859}, {\"transaction-id\": 1774, \"amount\": 663}, {\"transaction-id\": 1796, \"amount\": 652}, {\"transaction-id\": 1939, \"amount\": 750}, {\"transaction-id\": 2064, \"amount\": 612}, {\"transaction-id\": 2087, \"amount\": 791}, {\"transaction-id\": 2242, \"amount\": 704}, {\"transaction-id\": 2377, \"amount\": 884}, {\"transaction-id\": 2600, \"amount\": 1013}, {\"transaction-id\": 2785, \"amount\": 937}, {\"transaction-id\": 2865, \"amount\": 876}, {\"transaction-id\": 3229, \"amount\": 880}, {\"transaction-id\": 3661, \"amount\": 754}, {\"transaction-id\": 3777, \"amount\": 958}, {\"transaction-id\": 3912, \"amount\": 680}, {\"transaction-id\": 4050, \"amount\": 491}, {\"transaction-id\": 4614, \"amount\": 686}, {\"transaction-id\": 4737, \"amount\": 752}, {\"transaction-id\": 5082, \"amount\": 719}, {\"transaction-id\": 5109, \"amount\": 729}, {\"transaction-id\": 5724, \"amount\": 739}, {\"transaction-id\": 5747, \"amount\": 854}, {\"transaction-id\": 5794, \"amount\": 657}, {\"transaction-id\": 5991, \"amount\": 970}, {\"transaction-id\": 6013, \"amount\": 770}, {\"transaction-id\": 6211, \"amount\": 714}, {\"transaction-id\": 6364, \"amount\": 648}, {\"transaction-id\": 6452, \"amount\": 771}, {\"transaction-id\": 6636, \"amount\": 875}, {\"transaction-id\": 6801, \"amount\": 714}, {\"transaction-id\": 6819, \"amount\": 797}, {\"transaction-id\": 6865, \"amount\": 654}, {\"transaction-id\": 6908, \"amount\": 893}, {\"transaction-id\": 7869, \"amount\": 901}, {\"transaction-id\": 7991, \"amount\": 906}, {\"transaction-id\": 8055, \"amount\": 931}, {\"transaction-id\": 8381, \"amount\": 1050}, {\"transaction-id\": 8427, \"amount\": 845}, {\"transaction-id\": 8636, \"amount\": 648}, {\"transaction-id\": 8671, \"amount\": 794}, {\"transaction-id\": 8735, \"amount\": 817}, {\"transaction-id\": 8902, \"amount\": 755}, {\"transaction-id\": 9238, \"amount\": 517}, {\"transaction-id\": 9281, \"amount\": 754}, {\"transaction-id\": 9509, \"amount\": 763}, {\"transaction-id\": 9878, \"amount\": 714}]}\\n')"
      ]
     },
     "execution_count": 8,
     "metadata": {},
     "output_type": "execute_result"
    }
   ],
   "source": [
    "filename = os.path.join('data', 'accounts.*.json.gz')\n",
    "lines = db.read_text(filename)\n",
    "lines.take(3)"
   ]
  },
  {
   "cell_type": "markdown",
   "metadata": {},
   "source": [
    "Our data comes out of the file as lines of text. Notice that file decompression happened automatically. We can make this data look more reasonable by mapping the `json.loads` function onto our bag."
   ]
  },
  {
   "cell_type": "code",
   "execution_count": 9,
   "metadata": {},
   "outputs": [
    {
     "data": {
      "text/plain": [
       "({'id': 0,\n",
       "  'name': 'Victor',\n",
       "  'transactions': [{'transaction-id': 1, 'amount': 1610},\n",
       "   {'transaction-id': 1277, 'amount': 2452},\n",
       "   {'transaction-id': 2046, 'amount': 1729},\n",
       "   {'transaction-id': 2164, 'amount': 1850},\n",
       "   {'transaction-id': 2368, 'amount': 2163},\n",
       "   {'transaction-id': 3705, 'amount': 2749},\n",
       "   {'transaction-id': 4579, 'amount': 2252},\n",
       "   {'transaction-id': 4878, 'amount': 1885},\n",
       "   {'transaction-id': 5791, 'amount': 2001},\n",
       "   {'transaction-id': 6362, 'amount': 1873},\n",
       "   {'transaction-id': 6960, 'amount': 1837},\n",
       "   {'transaction-id': 8057, 'amount': 1928},\n",
       "   {'transaction-id': 9697, 'amount': 2560}]},\n",
       " {'id': 1,\n",
       "  'name': 'Ray',\n",
       "  'transactions': [{'transaction-id': 114, 'amount': 1409},\n",
       "   {'transaction-id': 204, 'amount': 1385},\n",
       "   {'transaction-id': 223, 'amount': 1386},\n",
       "   {'transaction-id': 592, 'amount': 1355},\n",
       "   {'transaction-id': 600, 'amount': 1442},\n",
       "   {'transaction-id': 729, 'amount': 1304},\n",
       "   {'transaction-id': 969, 'amount': 1400},\n",
       "   {'transaction-id': 2010, 'amount': 1438},\n",
       "   {'transaction-id': 2032, 'amount': 1360},\n",
       "   {'transaction-id': 2361, 'amount': 1186},\n",
       "   {'transaction-id': 2408, 'amount': 1298},\n",
       "   {'transaction-id': 2546, 'amount': 1299},\n",
       "   {'transaction-id': 2959, 'amount': 1377},\n",
       "   {'transaction-id': 3148, 'amount': 1447},\n",
       "   {'transaction-id': 3162, 'amount': 1378},\n",
       "   {'transaction-id': 3269, 'amount': 1285},\n",
       "   {'transaction-id': 3476, 'amount': 1251},\n",
       "   {'transaction-id': 3707, 'amount': 1476},\n",
       "   {'transaction-id': 3856, 'amount': 1479},\n",
       "   {'transaction-id': 3988, 'amount': 1291},\n",
       "   {'transaction-id': 4084, 'amount': 1390},\n",
       "   {'transaction-id': 4350, 'amount': 1338},\n",
       "   {'transaction-id': 4847, 'amount': 1251},\n",
       "   {'transaction-id': 5594, 'amount': 1355},\n",
       "   {'transaction-id': 5907, 'amount': 1322},\n",
       "   {'transaction-id': 6294, 'amount': 1353},\n",
       "   {'transaction-id': 6574, 'amount': 1370},\n",
       "   {'transaction-id': 6780, 'amount': 1348},\n",
       "   {'transaction-id': 6793, 'amount': 1370},\n",
       "   {'transaction-id': 6860, 'amount': 1346},\n",
       "   {'transaction-id': 6915, 'amount': 1498},\n",
       "   {'transaction-id': 7538, 'amount': 1526},\n",
       "   {'transaction-id': 7832, 'amount': 1401},\n",
       "   {'transaction-id': 8281, 'amount': 1424},\n",
       "   {'transaction-id': 8573, 'amount': 1469},\n",
       "   {'transaction-id': 8704, 'amount': 1501},\n",
       "   {'transaction-id': 9221, 'amount': 1383},\n",
       "   {'transaction-id': 9476, 'amount': 1405},\n",
       "   {'transaction-id': 9575, 'amount': 1443},\n",
       "   {'transaction-id': 9786, 'amount': 1464}]},\n",
       " {'id': 2,\n",
       "  'name': 'Frank',\n",
       "  'transactions': [{'transaction-id': 43, 'amount': 637},\n",
       "   {'transaction-id': 352, 'amount': 829},\n",
       "   {'transaction-id': 457, 'amount': 813},\n",
       "   {'transaction-id': 633, 'amount': 705},\n",
       "   {'transaction-id': 732, 'amount': 757},\n",
       "   {'transaction-id': 1011, 'amount': 588},\n",
       "   {'transaction-id': 1120, 'amount': 803},\n",
       "   {'transaction-id': 1176, 'amount': 646},\n",
       "   {'transaction-id': 1253, 'amount': 729},\n",
       "   {'transaction-id': 1278, 'amount': 780},\n",
       "   {'transaction-id': 1509, 'amount': 824},\n",
       "   {'transaction-id': 1687, 'amount': 859},\n",
       "   {'transaction-id': 1774, 'amount': 663},\n",
       "   {'transaction-id': 1796, 'amount': 652},\n",
       "   {'transaction-id': 1939, 'amount': 750},\n",
       "   {'transaction-id': 2064, 'amount': 612},\n",
       "   {'transaction-id': 2087, 'amount': 791},\n",
       "   {'transaction-id': 2242, 'amount': 704},\n",
       "   {'transaction-id': 2377, 'amount': 884},\n",
       "   {'transaction-id': 2600, 'amount': 1013},\n",
       "   {'transaction-id': 2785, 'amount': 937},\n",
       "   {'transaction-id': 2865, 'amount': 876},\n",
       "   {'transaction-id': 3229, 'amount': 880},\n",
       "   {'transaction-id': 3661, 'amount': 754},\n",
       "   {'transaction-id': 3777, 'amount': 958},\n",
       "   {'transaction-id': 3912, 'amount': 680},\n",
       "   {'transaction-id': 4050, 'amount': 491},\n",
       "   {'transaction-id': 4614, 'amount': 686},\n",
       "   {'transaction-id': 4737, 'amount': 752},\n",
       "   {'transaction-id': 5082, 'amount': 719},\n",
       "   {'transaction-id': 5109, 'amount': 729},\n",
       "   {'transaction-id': 5724, 'amount': 739},\n",
       "   {'transaction-id': 5747, 'amount': 854},\n",
       "   {'transaction-id': 5794, 'amount': 657},\n",
       "   {'transaction-id': 5991, 'amount': 970},\n",
       "   {'transaction-id': 6013, 'amount': 770},\n",
       "   {'transaction-id': 6211, 'amount': 714},\n",
       "   {'transaction-id': 6364, 'amount': 648},\n",
       "   {'transaction-id': 6452, 'amount': 771},\n",
       "   {'transaction-id': 6636, 'amount': 875},\n",
       "   {'transaction-id': 6801, 'amount': 714},\n",
       "   {'transaction-id': 6819, 'amount': 797},\n",
       "   {'transaction-id': 6865, 'amount': 654},\n",
       "   {'transaction-id': 6908, 'amount': 893},\n",
       "   {'transaction-id': 7869, 'amount': 901},\n",
       "   {'transaction-id': 7991, 'amount': 906},\n",
       "   {'transaction-id': 8055, 'amount': 931},\n",
       "   {'transaction-id': 8381, 'amount': 1050},\n",
       "   {'transaction-id': 8427, 'amount': 845},\n",
       "   {'transaction-id': 8636, 'amount': 648},\n",
       "   {'transaction-id': 8671, 'amount': 794},\n",
       "   {'transaction-id': 8735, 'amount': 817},\n",
       "   {'transaction-id': 8902, 'amount': 755},\n",
       "   {'transaction-id': 9238, 'amount': 517},\n",
       "   {'transaction-id': 9281, 'amount': 754},\n",
       "   {'transaction-id': 9509, 'amount': 763},\n",
       "   {'transaction-id': 9878, 'amount': 714}]})"
      ]
     },
     "execution_count": 9,
     "metadata": {},
     "output_type": "execute_result"
    }
   ],
   "source": [
    "import json\n",
    "js = lines.map(json.loads)\n",
    "# take: inspect first few elements\n",
    "js.take(3)"
   ]
  },
  {
   "cell_type": "markdown",
   "metadata": {},
   "source": [
    "### Basic Queries"
   ]
  },
  {
   "cell_type": "markdown",
   "metadata": {},
   "source": [
    "Once we parse our JSON data into proper Python objects (`dict`s, `list`s, etc.) we can perform more interesting queries by creating small Python functions to run on our data."
   ]
  },
  {
   "cell_type": "code",
   "execution_count": 10,
   "metadata": {},
   "outputs": [
    {
     "data": {
      "text/plain": [
       "({'id': 81,\n",
       "  'name': 'Alice',\n",
       "  'transactions': [{'transaction-id': 279, 'amount': 3838},\n",
       "   {'transaction-id': 345, 'amount': 3818},\n",
       "   {'transaction-id': 481, 'amount': 4023},\n",
       "   {'transaction-id': 517, 'amount': 3766},\n",
       "   {'transaction-id': 574, 'amount': 3983},\n",
       "   {'transaction-id': 1076, 'amount': 3853},\n",
       "   {'transaction-id': 1235, 'amount': 4109},\n",
       "   {'transaction-id': 1588, 'amount': 4392},\n",
       "   {'transaction-id': 1616, 'amount': 4033},\n",
       "   {'transaction-id': 1651, 'amount': 3967},\n",
       "   {'transaction-id': 1670, 'amount': 4122},\n",
       "   {'transaction-id': 1967, 'amount': 3709},\n",
       "   {'transaction-id': 2058, 'amount': 4053},\n",
       "   {'transaction-id': 2552, 'amount': 4047},\n",
       "   {'transaction-id': 2743, 'amount': 3619},\n",
       "   {'transaction-id': 2800, 'amount': 3689},\n",
       "   {'transaction-id': 2968, 'amount': 4171},\n",
       "   {'transaction-id': 3003, 'amount': 4009},\n",
       "   {'transaction-id': 3193, 'amount': 3892},\n",
       "   {'transaction-id': 3304, 'amount': 4131},\n",
       "   {'transaction-id': 3328, 'amount': 3811},\n",
       "   {'transaction-id': 3343, 'amount': 3784},\n",
       "   {'transaction-id': 3378, 'amount': 4190},\n",
       "   {'transaction-id': 3824, 'amount': 3954},\n",
       "   {'transaction-id': 3862, 'amount': 3931},\n",
       "   {'transaction-id': 3889, 'amount': 3850},\n",
       "   {'transaction-id': 3913, 'amount': 4066},\n",
       "   {'transaction-id': 4066, 'amount': 3966},\n",
       "   {'transaction-id': 4202, 'amount': 3775},\n",
       "   {'transaction-id': 4219, 'amount': 4277},\n",
       "   {'transaction-id': 4234, 'amount': 3744},\n",
       "   {'transaction-id': 4263, 'amount': 3815},\n",
       "   {'transaction-id': 4265, 'amount': 3846},\n",
       "   {'transaction-id': 4381, 'amount': 4093},\n",
       "   {'transaction-id': 4450, 'amount': 3927},\n",
       "   {'transaction-id': 4487, 'amount': 4013},\n",
       "   {'transaction-id': 4988, 'amount': 4018},\n",
       "   {'transaction-id': 5086, 'amount': 4182},\n",
       "   {'transaction-id': 5201, 'amount': 4023},\n",
       "   {'transaction-id': 5736, 'amount': 4164},\n",
       "   {'transaction-id': 6588, 'amount': 4135},\n",
       "   {'transaction-id': 6881, 'amount': 3980},\n",
       "   {'transaction-id': 6895, 'amount': 4016},\n",
       "   {'transaction-id': 6970, 'amount': 3980},\n",
       "   {'transaction-id': 7257, 'amount': 3866},\n",
       "   {'transaction-id': 7279, 'amount': 3926},\n",
       "   {'transaction-id': 7352, 'amount': 4120},\n",
       "   {'transaction-id': 7385, 'amount': 3945},\n",
       "   {'transaction-id': 7859, 'amount': 4176},\n",
       "   {'transaction-id': 7871, 'amount': 3970},\n",
       "   {'transaction-id': 7874, 'amount': 3970},\n",
       "   {'transaction-id': 8079, 'amount': 4223},\n",
       "   {'transaction-id': 8313, 'amount': 3941},\n",
       "   {'transaction-id': 8385, 'amount': 4122},\n",
       "   {'transaction-id': 8836, 'amount': 4128},\n",
       "   {'transaction-id': 9136, 'amount': 4110},\n",
       "   {'transaction-id': 9206, 'amount': 3817},\n",
       "   {'transaction-id': 9219, 'amount': 4113},\n",
       "   {'transaction-id': 9270, 'amount': 4232},\n",
       "   {'transaction-id': 9491, 'amount': 4018},\n",
       "   {'transaction-id': 9521, 'amount': 4154},\n",
       "   {'transaction-id': 9618, 'amount': 3696},\n",
       "   {'transaction-id': 9950, 'amount': 4045}]},\n",
       " {'id': 99,\n",
       "  'name': 'Alice',\n",
       "  'transactions': [{'transaction-id': 48, 'amount': -152},\n",
       "   {'transaction-id': 60, 'amount': 210},\n",
       "   {'transaction-id': 141, 'amount': -304},\n",
       "   {'transaction-id': 470, 'amount': -1627},\n",
       "   {'transaction-id': 658, 'amount': -775},\n",
       "   {'transaction-id': 727, 'amount': -281},\n",
       "   {'transaction-id': 903, 'amount': 643},\n",
       "   {'transaction-id': 1073, 'amount': -653},\n",
       "   {'transaction-id': 1299, 'amount': -645},\n",
       "   {'transaction-id': 1315, 'amount': 104},\n",
       "   {'transaction-id': 1357, 'amount': 209},\n",
       "   {'transaction-id': 1367, 'amount': 139},\n",
       "   {'transaction-id': 1393, 'amount': -116},\n",
       "   {'transaction-id': 1656, 'amount': -1071},\n",
       "   {'transaction-id': 2105, 'amount': -715},\n",
       "   {'transaction-id': 2123, 'amount': -1526},\n",
       "   {'transaction-id': 2555, 'amount': -128},\n",
       "   {'transaction-id': 2636, 'amount': -252},\n",
       "   {'transaction-id': 2957, 'amount': 267},\n",
       "   {'transaction-id': 3160, 'amount': -73},\n",
       "   {'transaction-id': 3276, 'amount': -922},\n",
       "   {'transaction-id': 3452, 'amount': -284},\n",
       "   {'transaction-id': 3635, 'amount': -438},\n",
       "   {'transaction-id': 4146, 'amount': -933},\n",
       "   {'transaction-id': 4507, 'amount': -454},\n",
       "   {'transaction-id': 4535, 'amount': -358},\n",
       "   {'transaction-id': 4625, 'amount': -439},\n",
       "   {'transaction-id': 4699, 'amount': -800},\n",
       "   {'transaction-id': 5057, 'amount': -481},\n",
       "   {'transaction-id': 5298, 'amount': 118},\n",
       "   {'transaction-id': 5768, 'amount': -723},\n",
       "   {'transaction-id': 5798, 'amount': -210},\n",
       "   {'transaction-id': 5950, 'amount': 243},\n",
       "   {'transaction-id': 5993, 'amount': 101},\n",
       "   {'transaction-id': 6111, 'amount': -1164},\n",
       "   {'transaction-id': 6537, 'amount': -87},\n",
       "   {'transaction-id': 6677, 'amount': -421},\n",
       "   {'transaction-id': 7085, 'amount': -323},\n",
       "   {'transaction-id': 7369, 'amount': 102},\n",
       "   {'transaction-id': 7408, 'amount': -852},\n",
       "   {'transaction-id': 7641, 'amount': -528},\n",
       "   {'transaction-id': 7732, 'amount': -225},\n",
       "   {'transaction-id': 7736, 'amount': 1},\n",
       "   {'transaction-id': 7844, 'amount': -130},\n",
       "   {'transaction-id': 8137, 'amount': -800},\n",
       "   {'transaction-id': 8146, 'amount': -330},\n",
       "   {'transaction-id': 8163, 'amount': -222},\n",
       "   {'transaction-id': 8212, 'amount': -514},\n",
       "   {'transaction-id': 8291, 'amount': -542},\n",
       "   {'transaction-id': 8629, 'amount': 322},\n",
       "   {'transaction-id': 8826, 'amount': -194},\n",
       "   {'transaction-id': 9015, 'amount': -158},\n",
       "   {'transaction-id': 9142, 'amount': -102},\n",
       "   {'transaction-id': 9581, 'amount': -759},\n",
       "   {'transaction-id': 9742, 'amount': -963},\n",
       "   {'transaction-id': 9891, 'amount': -263}]},\n",
       " {'id': 117,\n",
       "  'name': 'Alice',\n",
       "  'transactions': [{'transaction-id': 4489, 'amount': 492},\n",
       "   {'transaction-id': 5516, 'amount': 642},\n",
       "   {'transaction-id': 7048, 'amount': 743},\n",
       "   {'transaction-id': 7158, 'amount': 596},\n",
       "   {'transaction-id': 9917, 'amount': 724}]},\n",
       " {'id': 159,\n",
       "  'name': 'Alice',\n",
       "  'transactions': [{'transaction-id': 13, 'amount': 399},\n",
       "   {'transaction-id': 860, 'amount': 401},\n",
       "   {'transaction-id': 988, 'amount': 486},\n",
       "   {'transaction-id': 1189, 'amount': 517},\n",
       "   {'transaction-id': 1196, 'amount': 520},\n",
       "   {'transaction-id': 1550, 'amount': 308},\n",
       "   {'transaction-id': 1738, 'amount': 482},\n",
       "   {'transaction-id': 2386, 'amount': 356},\n",
       "   {'transaction-id': 2496, 'amount': 435},\n",
       "   {'transaction-id': 2514, 'amount': 435},\n",
       "   {'transaction-id': 3112, 'amount': 418},\n",
       "   {'transaction-id': 3330, 'amount': 316},\n",
       "   {'transaction-id': 4294, 'amount': 360},\n",
       "   {'transaction-id': 5084, 'amount': 506},\n",
       "   {'transaction-id': 5497, 'amount': 369},\n",
       "   {'transaction-id': 5659, 'amount': 372},\n",
       "   {'transaction-id': 5963, 'amount': 288},\n",
       "   {'transaction-id': 6196, 'amount': 370},\n",
       "   {'transaction-id': 6389, 'amount': 428},\n",
       "   {'transaction-id': 6519, 'amount': 377},\n",
       "   {'transaction-id': 7065, 'amount': 516},\n",
       "   {'transaction-id': 7443, 'amount': 437},\n",
       "   {'transaction-id': 7474, 'amount': 408},\n",
       "   {'transaction-id': 7980, 'amount': 419},\n",
       "   {'transaction-id': 8225, 'amount': 289},\n",
       "   {'transaction-id': 8708, 'amount': 342}]},\n",
       " {'id': 170,\n",
       "  'name': 'Alice',\n",
       "  'transactions': [{'transaction-id': 150, 'amount': 1794},\n",
       "   {'transaction-id': 875, 'amount': 1763},\n",
       "   {'transaction-id': 966, 'amount': 2011},\n",
       "   {'transaction-id': 3007, 'amount': 1758},\n",
       "   {'transaction-id': 6281, 'amount': 1825},\n",
       "   {'transaction-id': 6431, 'amount': 1882},\n",
       "   {'transaction-id': 8292, 'amount': 1532},\n",
       "   {'transaction-id': 9018, 'amount': 1757}]})"
      ]
     },
     "execution_count": 10,
     "metadata": {},
     "output_type": "execute_result"
    }
   ],
   "source": [
    "# filter: keep only some elements of the sequence\n",
    "js.filter(lambda record: record['name'] == 'Alice').take(5)"
   ]
  },
  {
   "cell_type": "code",
   "execution_count": 11,
   "metadata": {},
   "outputs": [
    {
     "data": {
      "text/plain": [
       "({'name': 'Alice', 'count': 63},\n",
       " {'name': 'Alice', 'count': 56},\n",
       " {'name': 'Alice', 'count': 5},\n",
       " {'name': 'Alice', 'count': 26},\n",
       " {'name': 'Alice', 'count': 8})"
      ]
     },
     "execution_count": 11,
     "metadata": {},
     "output_type": "execute_result"
    }
   ],
   "source": [
    "def count_transactions(d):\n",
    "    return {'name': d['name'], 'count': len(d['transactions'])}\n",
    "\n",
    "# map: apply a function to each element\n",
    "(js.filter(lambda record: record['name'] == 'Alice')\n",
    "   .map(count_transactions)\n",
    "   .take(5))"
   ]
  },
  {
   "cell_type": "code",
   "execution_count": 12,
   "metadata": {},
   "outputs": [
    {
     "data": {
      "text/plain": [
       "(63, 56, 5, 26, 8)"
      ]
     },
     "execution_count": 12,
     "metadata": {},
     "output_type": "execute_result"
    }
   ],
   "source": [
    "# pluck: select a field, as from a dictionary, element[field]\n",
    "(js.filter(lambda record: record['name'] == 'Alice')\n",
    "   .map(count_transactions)\n",
    "   .pluck('count')\n",
    "   .take(5))"
   ]
  },
  {
   "cell_type": "code",
   "execution_count": 13,
   "metadata": {},
   "outputs": [
    {
     "data": {
      "text/plain": [
       "33.512727272727275"
      ]
     },
     "execution_count": 13,
     "metadata": {},
     "output_type": "execute_result"
    }
   ],
   "source": [
    "# Average number of transactions for all of the Alice entries\n",
    "(js.filter(lambda record: record['name'] == 'Alice')\n",
    "   .map(count_transactions)\n",
    "   .pluck('count')\n",
    "   .mean()\n",
    "   .compute())"
   ]
  },
  {
   "cell_type": "markdown",
   "metadata": {},
   "source": [
    "### Use `flatten` to de-nest"
   ]
  },
  {
   "cell_type": "markdown",
   "metadata": {},
   "source": [
    "In the example below we see the use of `.flatten()` to flatten results.  We compute the average amount for all transactions for all Alices."
   ]
  },
  {
   "cell_type": "code",
   "execution_count": 14,
   "metadata": {},
   "outputs": [
    {
     "data": {
      "text/plain": [
       "([{'transaction-id': 279, 'amount': 3838},\n",
       "  {'transaction-id': 345, 'amount': 3818},\n",
       "  {'transaction-id': 481, 'amount': 4023},\n",
       "  {'transaction-id': 517, 'amount': 3766},\n",
       "  {'transaction-id': 574, 'amount': 3983},\n",
       "  {'transaction-id': 1076, 'amount': 3853},\n",
       "  {'transaction-id': 1235, 'amount': 4109},\n",
       "  {'transaction-id': 1588, 'amount': 4392},\n",
       "  {'transaction-id': 1616, 'amount': 4033},\n",
       "  {'transaction-id': 1651, 'amount': 3967},\n",
       "  {'transaction-id': 1670, 'amount': 4122},\n",
       "  {'transaction-id': 1967, 'amount': 3709},\n",
       "  {'transaction-id': 2058, 'amount': 4053},\n",
       "  {'transaction-id': 2552, 'amount': 4047},\n",
       "  {'transaction-id': 2743, 'amount': 3619},\n",
       "  {'transaction-id': 2800, 'amount': 3689},\n",
       "  {'transaction-id': 2968, 'amount': 4171},\n",
       "  {'transaction-id': 3003, 'amount': 4009},\n",
       "  {'transaction-id': 3193, 'amount': 3892},\n",
       "  {'transaction-id': 3304, 'amount': 4131},\n",
       "  {'transaction-id': 3328, 'amount': 3811},\n",
       "  {'transaction-id': 3343, 'amount': 3784},\n",
       "  {'transaction-id': 3378, 'amount': 4190},\n",
       "  {'transaction-id': 3824, 'amount': 3954},\n",
       "  {'transaction-id': 3862, 'amount': 3931},\n",
       "  {'transaction-id': 3889, 'amount': 3850},\n",
       "  {'transaction-id': 3913, 'amount': 4066},\n",
       "  {'transaction-id': 4066, 'amount': 3966},\n",
       "  {'transaction-id': 4202, 'amount': 3775},\n",
       "  {'transaction-id': 4219, 'amount': 4277},\n",
       "  {'transaction-id': 4234, 'amount': 3744},\n",
       "  {'transaction-id': 4263, 'amount': 3815},\n",
       "  {'transaction-id': 4265, 'amount': 3846},\n",
       "  {'transaction-id': 4381, 'amount': 4093},\n",
       "  {'transaction-id': 4450, 'amount': 3927},\n",
       "  {'transaction-id': 4487, 'amount': 4013},\n",
       "  {'transaction-id': 4988, 'amount': 4018},\n",
       "  {'transaction-id': 5086, 'amount': 4182},\n",
       "  {'transaction-id': 5201, 'amount': 4023},\n",
       "  {'transaction-id': 5736, 'amount': 4164},\n",
       "  {'transaction-id': 6588, 'amount': 4135},\n",
       "  {'transaction-id': 6881, 'amount': 3980},\n",
       "  {'transaction-id': 6895, 'amount': 4016},\n",
       "  {'transaction-id': 6970, 'amount': 3980},\n",
       "  {'transaction-id': 7257, 'amount': 3866},\n",
       "  {'transaction-id': 7279, 'amount': 3926},\n",
       "  {'transaction-id': 7352, 'amount': 4120},\n",
       "  {'transaction-id': 7385, 'amount': 3945},\n",
       "  {'transaction-id': 7859, 'amount': 4176},\n",
       "  {'transaction-id': 7871, 'amount': 3970},\n",
       "  {'transaction-id': 7874, 'amount': 3970},\n",
       "  {'transaction-id': 8079, 'amount': 4223},\n",
       "  {'transaction-id': 8313, 'amount': 3941},\n",
       "  {'transaction-id': 8385, 'amount': 4122},\n",
       "  {'transaction-id': 8836, 'amount': 4128},\n",
       "  {'transaction-id': 9136, 'amount': 4110},\n",
       "  {'transaction-id': 9206, 'amount': 3817},\n",
       "  {'transaction-id': 9219, 'amount': 4113},\n",
       "  {'transaction-id': 9270, 'amount': 4232},\n",
       "  {'transaction-id': 9491, 'amount': 4018},\n",
       "  {'transaction-id': 9521, 'amount': 4154},\n",
       "  {'transaction-id': 9618, 'amount': 3696},\n",
       "  {'transaction-id': 9950, 'amount': 4045}],\n",
       " [{'transaction-id': 48, 'amount': -152},\n",
       "  {'transaction-id': 60, 'amount': 210},\n",
       "  {'transaction-id': 141, 'amount': -304},\n",
       "  {'transaction-id': 470, 'amount': -1627},\n",
       "  {'transaction-id': 658, 'amount': -775},\n",
       "  {'transaction-id': 727, 'amount': -281},\n",
       "  {'transaction-id': 903, 'amount': 643},\n",
       "  {'transaction-id': 1073, 'amount': -653},\n",
       "  {'transaction-id': 1299, 'amount': -645},\n",
       "  {'transaction-id': 1315, 'amount': 104},\n",
       "  {'transaction-id': 1357, 'amount': 209},\n",
       "  {'transaction-id': 1367, 'amount': 139},\n",
       "  {'transaction-id': 1393, 'amount': -116},\n",
       "  {'transaction-id': 1656, 'amount': -1071},\n",
       "  {'transaction-id': 2105, 'amount': -715},\n",
       "  {'transaction-id': 2123, 'amount': -1526},\n",
       "  {'transaction-id': 2555, 'amount': -128},\n",
       "  {'transaction-id': 2636, 'amount': -252},\n",
       "  {'transaction-id': 2957, 'amount': 267},\n",
       "  {'transaction-id': 3160, 'amount': -73},\n",
       "  {'transaction-id': 3276, 'amount': -922},\n",
       "  {'transaction-id': 3452, 'amount': -284},\n",
       "  {'transaction-id': 3635, 'amount': -438},\n",
       "  {'transaction-id': 4146, 'amount': -933},\n",
       "  {'transaction-id': 4507, 'amount': -454},\n",
       "  {'transaction-id': 4535, 'amount': -358},\n",
       "  {'transaction-id': 4625, 'amount': -439},\n",
       "  {'transaction-id': 4699, 'amount': -800},\n",
       "  {'transaction-id': 5057, 'amount': -481},\n",
       "  {'transaction-id': 5298, 'amount': 118},\n",
       "  {'transaction-id': 5768, 'amount': -723},\n",
       "  {'transaction-id': 5798, 'amount': -210},\n",
       "  {'transaction-id': 5950, 'amount': 243},\n",
       "  {'transaction-id': 5993, 'amount': 101},\n",
       "  {'transaction-id': 6111, 'amount': -1164},\n",
       "  {'transaction-id': 6537, 'amount': -87},\n",
       "  {'transaction-id': 6677, 'amount': -421},\n",
       "  {'transaction-id': 7085, 'amount': -323},\n",
       "  {'transaction-id': 7369, 'amount': 102},\n",
       "  {'transaction-id': 7408, 'amount': -852},\n",
       "  {'transaction-id': 7641, 'amount': -528},\n",
       "  {'transaction-id': 7732, 'amount': -225},\n",
       "  {'transaction-id': 7736, 'amount': 1},\n",
       "  {'transaction-id': 7844, 'amount': -130},\n",
       "  {'transaction-id': 8137, 'amount': -800},\n",
       "  {'transaction-id': 8146, 'amount': -330},\n",
       "  {'transaction-id': 8163, 'amount': -222},\n",
       "  {'transaction-id': 8212, 'amount': -514},\n",
       "  {'transaction-id': 8291, 'amount': -542},\n",
       "  {'transaction-id': 8629, 'amount': 322},\n",
       "  {'transaction-id': 8826, 'amount': -194},\n",
       "  {'transaction-id': 9015, 'amount': -158},\n",
       "  {'transaction-id': 9142, 'amount': -102},\n",
       "  {'transaction-id': 9581, 'amount': -759},\n",
       "  {'transaction-id': 9742, 'amount': -963},\n",
       "  {'transaction-id': 9891, 'amount': -263}],\n",
       " [{'transaction-id': 4489, 'amount': 492},\n",
       "  {'transaction-id': 5516, 'amount': 642},\n",
       "  {'transaction-id': 7048, 'amount': 743},\n",
       "  {'transaction-id': 7158, 'amount': 596},\n",
       "  {'transaction-id': 9917, 'amount': 724}])"
      ]
     },
     "execution_count": 14,
     "metadata": {},
     "output_type": "execute_result"
    }
   ],
   "source": [
    "js.filter(lambda record: record['name'] == 'Alice').pluck('transactions').take(3)"
   ]
  },
  {
   "cell_type": "code",
   "execution_count": 15,
   "metadata": {},
   "outputs": [
    {
     "data": {
      "text/plain": [
       "({'transaction-id': 279, 'amount': 3838},\n",
       " {'transaction-id': 345, 'amount': 3818},\n",
       " {'transaction-id': 481, 'amount': 4023})"
      ]
     },
     "execution_count": 15,
     "metadata": {},
     "output_type": "execute_result"
    }
   ],
   "source": [
    "(js.filter(lambda record: record['name'] == 'Alice')\n",
    "   .pluck('transactions')\n",
    "   .flatten()\n",
    "   .take(3))"
   ]
  },
  {
   "cell_type": "code",
   "execution_count": 16,
   "metadata": {},
   "outputs": [
    {
     "data": {
      "text/plain": [
       "(3838, 3818, 4023)"
      ]
     },
     "execution_count": 16,
     "metadata": {},
     "output_type": "execute_result"
    }
   ],
   "source": [
    "(js.filter(lambda record: record['name'] == 'Alice')\n",
    "   .pluck('transactions')\n",
    "   .flatten()\n",
    "   .pluck('amount')\n",
    "   .take(3))"
   ]
  },
  {
   "cell_type": "code",
   "execution_count": 17,
   "metadata": {},
   "outputs": [
    {
     "data": {
      "text/plain": [
       "1106.6663953993057"
      ]
     },
     "execution_count": 17,
     "metadata": {},
     "output_type": "execute_result"
    }
   ],
   "source": [
    "(js.filter(lambda record: record['name'] == 'Alice')\n",
    "   .pluck('transactions')\n",
    "   .flatten()\n",
    "   .pluck('amount')\n",
    "   .mean()\n",
    "   .compute())"
   ]
  },
  {
   "cell_type": "markdown",
   "metadata": {},
   "source": [
    "### Groupby and Foldby"
   ]
  },
  {
   "cell_type": "markdown",
   "metadata": {},
   "source": [
    "Often we want to group data by some function or key.  We can do this either with the `.groupby` method, which is straightforward but forces a full shuffle of the data (expensive) or with the harder-to-use but faster `.foldby` method, which does a streaming combined groupby and reduction.\n",
    "\n",
    "*  `groupby`:  Shuffles data so that all items with the same key are in the same key-value pair\n",
    "*  `foldby`:  Walks through the data accumulating a result per key\n",
    "\n",
    "*Note: the full groupby is particularly bad. In actual workloads you would do well to use `foldby` or switch to `DataFrame`s if possible.*"
   ]
  },
  {
   "cell_type": "markdown",
   "metadata": {},
   "source": [
    "### `groupby`"
   ]
  },
  {
   "cell_type": "markdown",
   "metadata": {},
   "source": [
    "Groupby collects items in your collection so that all items with the same value under some function are collected together into a key-value pair."
   ]
  },
  {
   "cell_type": "code",
   "execution_count": 18,
   "metadata": {},
   "outputs": [
    {
     "data": {
      "text/plain": [
       "[(7, ['Charlie']), (3, ['Bob', 'Dan']), (5, ['Alice', 'Edith', 'Frank'])]"
      ]
     },
     "execution_count": 18,
     "metadata": {},
     "output_type": "execute_result"
    }
   ],
   "source": [
    "b = db.from_sequence(['Alice', 'Bob', 'Charlie', 'Dan', 'Edith', 'Frank'])\n",
    "b.groupby(len).compute()  # names grouped by length"
   ]
  },
  {
   "cell_type": "code",
   "execution_count": 19,
   "metadata": {},
   "outputs": [
    {
     "data": {
      "text/plain": [
       "[(0, [0, 2, 4, 6, 8]), (1, [1, 3, 5, 7, 9])]"
      ]
     },
     "execution_count": 19,
     "metadata": {},
     "output_type": "execute_result"
    }
   ],
   "source": [
    "b = db.from_sequence(list(range(10)))\n",
    "b.groupby(lambda x: x % 2).compute()"
   ]
  },
  {
   "cell_type": "code",
   "execution_count": 20,
   "metadata": {},
   "outputs": [
    {
     "data": {
      "text/plain": [
       "[(0, 8), (1, 9)]"
      ]
     },
     "execution_count": 20,
     "metadata": {},
     "output_type": "execute_result"
    }
   ],
   "source": [
    "b.groupby(lambda x: x % 2).starmap(lambda k, v: (k, max(v))).compute()"
   ]
  },
  {
   "cell_type": "markdown",
   "metadata": {},
   "source": [
    "### `foldby`"
   ]
  },
  {
   "cell_type": "markdown",
   "metadata": {},
   "source": [
    "Foldby can be quite odd at first.  It is similar to the following functions from other libraries:\n",
    "\n",
    "*  [`toolz.reduceby`](http://toolz.readthedocs.io/en/latest/streaming-analytics.html#streaming-split-apply-combine)\n",
    "*  [`pyspark.RDD.combineByKey`](http://abshinn.github.io/python/apache-spark/2014/10/11/using-combinebykey-in-apache-spark/)\n",
    "\n",
    "When using `foldby` you provide \n",
    "\n",
    "1.  A key function on which to group elements\n",
    "2.  A binary operator such as you would pass to `reduce` that you use to perform reduction per each group\n",
    "3.  A combine binary operator that can combine the results of two `reduce` calls on different parts of your dataset.\n",
    "\n",
    "Your reduction must be associative.  It will happen in parallel in each of the partitions of your dataset.  Then all of these intermediate results will be combined by the `combine` binary operator."
   ]
  },
  {
   "cell_type": "code",
   "execution_count": 21,
   "metadata": {},
   "outputs": [
    {
     "data": {
      "text/plain": [
       "[(0, 8), (1, 9)]"
      ]
     },
     "execution_count": 21,
     "metadata": {},
     "output_type": "execute_result"
    }
   ],
   "source": [
    "is_even = lambda x: x % 2\n",
    "b.foldby(is_even, binop=max, combine=max).compute()"
   ]
  },
  {
   "cell_type": "markdown",
   "metadata": {},
   "source": [
    "### Example with account data"
   ]
  },
  {
   "cell_type": "markdown",
   "metadata": {},
   "source": [
    "We find the number of people with the same name."
   ]
  },
  {
   "cell_type": "code",
   "execution_count": 22,
   "metadata": {},
   "outputs": [
    {
     "name": "stdout",
     "output_type": "stream",
     "text": [
      "[('Alice', 130), ('Alice', 134), ('Alice', 143), ('Alice', 143), ('Bob', 144), ('Bob', 144), ('Bob', 156), ('Bob', 156), ('Charlie', 120), ('Charlie', 120), ('Charlie', 130), ('Charlie', 130), ('Dan', 81), ('Dan', 91), ('Dan', 170), ('Edith', 120), ('Edith', 120), ('Edith', 130), ('Edith', 130), ('Frank', 130), ('Frank', 130), ('Frank', 240), ('George', 132), ('George', 132), ('George', 143), ('George', 143), ('Hannah', 107), ('Hannah', 108), ('Hannah', 116), ('Hannah', 117), ('Ingrid', 132), ('Ingrid', 132), ('Ingrid', 143), ('Ingrid', 143), ('Jerry', 107), ('Jerry', 108), ('Jerry', 115), ('Jerry', 116), ('Kevin', 93), ('Kevin', 94), ('Kevin', 104), ('Kevin', 104), ('Laura', 126), ('Laura', 128), ('Laura', 139), ('Laura', 141), ('Michael', 107), ('Michael', 108), ('Michael', 116), ('Michael', 117), ('Norbert', 144), ('Norbert', 144), ('Norbert', 153), ('Norbert', 156), ('Oliver', 96), ('Oliver', 96), ('Oliver', 103), ('Oliver', 104), ('Patricia', 144), ('Patricia', 144), ('Patricia', 156), ('Patricia', 156), ('Quinn', 132), ('Quinn', 143), ('Quinn', 275), ('Ray', 108), ('Ray', 108), ('Ray', 117), ('Ray', 117), ('Sarah', 168), ('Sarah', 168), ('Sarah', 363), ('Tim', 47), ('Tim', 48), ('Tim', 51), ('Tim', 52), ('Ursula', 100), ('Ursula', 102), ('Ursula', 106), ('Ursula', 111), ('Victor', 60), ('Victor', 65), ('Victor', 124), ('Wendy', 72), ('Wendy', 72), ('Wendy', 78), ('Wendy', 78), ('Xavier', 202), ('Xavier', 204), ('Xavier', 218), ('Xavier', 218), ('Yvonne', 72), ('Yvonne', 72), ('Yvonne', 78), ('Yvonne', 78), ('Zelda', 93), ('Zelda', 93), ('Zelda', 101), ('Zelda', 104)]\n",
      "CPU times: user 4.31 s, sys: 310 ms, total: 4.62 s\n",
      "Wall time: 1min 2s\n"
     ]
    }
   ],
   "source": [
    "%%time\n",
    "# Warning, this one takes a while...\n",
    "result = js.groupby(lambda item: item['name']).starmap(lambda k, v: (k, len(v))).compute()\n",
    "print(sorted(result))"
   ]
  },
  {
   "cell_type": "code",
   "execution_count": 23,
   "metadata": {},
   "outputs": [
    {
     "name": "stdout",
     "output_type": "stream",
     "text": [
      "[('Alice', 550), ('Bob', 600), ('Charlie', 500), ('Dan', 342), ('Edith', 500), ('Frank', 500), ('George', 550), ('Hannah', 448), ('Ingrid', 550), ('Jerry', 446), ('Kevin', 395), ('Laura', 534), ('Michael', 448), ('Norbert', 597), ('Oliver', 399), ('Patricia', 600), ('Quinn', 550), ('Ray', 450), ('Sarah', 699), ('Tim', 198), ('Ursula', 419), ('Victor', 249), ('Wendy', 300), ('Xavier', 842), ('Yvonne', 300), ('Zelda', 391)]\n",
      "CPU times: user 170 ms, sys: 12.2 ms, total: 182 ms\n",
      "Wall time: 622 ms\n"
     ]
    }
   ],
   "source": [
    "%%time\n",
    "# This one is comparatively fast and produces the same result.\n",
    "from operator import add\n",
    "def incr(tot, _):\n",
    "    return tot+1\n",
    "\n",
    "result = js.foldby(key='name', \n",
    "                   binop=incr, \n",
    "                   initial=0, \n",
    "                   combine=add, \n",
    "                   combine_initial=0).compute()\n",
    "print(sorted(result))"
   ]
  },
  {
   "cell_type": "markdown",
   "metadata": {},
   "source": [
    "### Exercise: compute total amount per name"
   ]
  },
  {
   "cell_type": "markdown",
   "metadata": {},
   "source": [
    "We want to groupby (or foldby) the `name` key, then add up the all of the amounts for each name.\n",
    "\n",
    "Steps\n",
    "\n",
    "1.  Create a small function that, given a dictionary like \n",
    "\n",
    "        {'name': 'Alice', 'transactions': [{'amount': 1, 'id': 123}, {'amount': 2, 'id': 456}]}\n",
    "        \n",
    "    produces the sum of the amounts, e.g. `3`\n",
    "    \n",
    "2.  Slightly change the binary operator of the `foldby` example above so that the binary operator doesn't count the number of entries, but instead accumulates the sum of the amounts."
   ]
  },
  {
   "cell_type": "code",
   "execution_count": 24,
   "metadata": {},
   "outputs": [],
   "source": [
    "# Your code here..."
   ]
  },
  {
   "cell_type": "markdown",
   "metadata": {},
   "source": [
    "## DataFrames"
   ]
  },
  {
   "cell_type": "markdown",
   "metadata": {},
   "source": [
    "For the same reasons that Pandas is often faster than pure Python, `dask.dataframe` can be faster than `dask.bag`.  We will work more with DataFrames later, but from for the bag point of view, they are frequently the end-point of the \"messy\" part of data ingestion—once the data can be made into a data-frame, then complex split-apply-combine logic will become much more straight-forward and efficient.\n",
    "\n",
    "You can transform a bag with a simple tuple or flat dictionary structure into a `dask.dataframe` with the `to_dataframe` method."
   ]
  },
  {
   "cell_type": "code",
   "execution_count": 25,
   "metadata": {},
   "outputs": [
    {
     "data": {
      "text/html": [
       "<div>\n",
       "<style scoped>\n",
       "    .dataframe tbody tr th:only-of-type {\n",
       "        vertical-align: middle;\n",
       "    }\n",
       "\n",
       "    .dataframe tbody tr th {\n",
       "        vertical-align: top;\n",
       "    }\n",
       "\n",
       "    .dataframe thead th {\n",
       "        text-align: right;\n",
       "    }\n",
       "</style>\n",
       "<table border=\"1\" class=\"dataframe\">\n",
       "  <thead>\n",
       "    <tr style=\"text-align: right;\">\n",
       "      <th></th>\n",
       "      <th>id</th>\n",
       "      <th>name</th>\n",
       "      <th>transactions</th>\n",
       "    </tr>\n",
       "  </thead>\n",
       "  <tbody>\n",
       "    <tr>\n",
       "      <th>0</th>\n",
       "      <td>0</td>\n",
       "      <td>Victor</td>\n",
       "      <td>[{'transaction-id': 1, 'amount': 1610}, {'tran...</td>\n",
       "    </tr>\n",
       "    <tr>\n",
       "      <th>1</th>\n",
       "      <td>1</td>\n",
       "      <td>Ray</td>\n",
       "      <td>[{'transaction-id': 114, 'amount': 1409}, {'tr...</td>\n",
       "    </tr>\n",
       "    <tr>\n",
       "      <th>2</th>\n",
       "      <td>2</td>\n",
       "      <td>Frank</td>\n",
       "      <td>[{'transaction-id': 43, 'amount': 637}, {'tran...</td>\n",
       "    </tr>\n",
       "    <tr>\n",
       "      <th>3</th>\n",
       "      <td>3</td>\n",
       "      <td>Edith</td>\n",
       "      <td>[{'transaction-id': 384, 'amount': 69}, {'tran...</td>\n",
       "    </tr>\n",
       "    <tr>\n",
       "      <th>4</th>\n",
       "      <td>4</td>\n",
       "      <td>Norbert</td>\n",
       "      <td>[{'transaction-id': 22, 'amount': 5311}, {'tra...</td>\n",
       "    </tr>\n",
       "  </tbody>\n",
       "</table>\n",
       "</div>"
      ],
      "text/plain": [
       "   id     name                                       transactions\n",
       "0   0   Victor  [{'transaction-id': 1, 'amount': 1610}, {'tran...\n",
       "1   1      Ray  [{'transaction-id': 114, 'amount': 1409}, {'tr...\n",
       "2   2    Frank  [{'transaction-id': 43, 'amount': 637}, {'tran...\n",
       "3   3    Edith  [{'transaction-id': 384, 'amount': 69}, {'tran...\n",
       "4   4  Norbert  [{'transaction-id': 22, 'amount': 5311}, {'tra..."
      ]
     },
     "execution_count": 25,
     "metadata": {},
     "output_type": "execute_result"
    }
   ],
   "source": [
    "df1 = js.to_dataframe()\n",
    "df1.head()"
   ]
  },
  {
   "cell_type": "markdown",
   "metadata": {},
   "source": [
    "This now looks like a well-defined DataFrame, and we can apply Pandas-like computations to it efficiently."
   ]
  },
  {
   "cell_type": "markdown",
   "metadata": {},
   "source": [
    "Using a Dask DataFrame, how long does it take to do our prior computation of numbers of people with the same name?  It turns out that `dask.dataframe.groupby()` beats `dask.bag.groupby()` more than an order of magnitude; but it still cannot match `dask.bag.foldby()` for this case."
   ]
  },
  {
   "cell_type": "code",
   "execution_count": 26,
   "metadata": {},
   "outputs": [
    {
     "name": "stdout",
     "output_type": "stream",
     "text": [
      "CPU times: user 229 ms, sys: 12.5 ms, total: 242 ms\n",
      "Wall time: 1.7 s\n"
     ]
    },
    {
     "data": {
      "text/plain": [
       "name\n",
       "Alice      550\n",
       "Bob        600\n",
       "Charlie    500\n",
       "Dan        342\n",
       "Edith      500\n",
       "Name: id, dtype: int64"
      ]
     },
     "execution_count": 26,
     "metadata": {},
     "output_type": "execute_result"
    }
   ],
   "source": [
    "%time df1.groupby('name').id.count().compute().head()"
   ]
  },
  {
   "cell_type": "markdown",
   "metadata": {},
   "source": [
    "### Denormalization"
   ]
  },
  {
   "cell_type": "markdown",
   "metadata": {},
   "source": [
    "This DataFrame format is less-than-optimal because the `transactions` column is filled with nested data so Pandas has to revert to `object` dtype, which is quite slow in Pandas.  Ideally we want to transform to a dataframe only after we have flattened our data so that each record is a single `int`, `string`, `float`, etc.."
   ]
  },
  {
   "cell_type": "code",
   "execution_count": 27,
   "metadata": {},
   "outputs": [
    {
     "data": {
      "text/plain": [
       "({'id': 0, 'name': 'Victor', 'amount': 1610, 'transaction-id': 1},\n",
       " {'id': 0, 'name': 'Victor', 'amount': 2452, 'transaction-id': 1277},\n",
       " {'id': 0, 'name': 'Victor', 'amount': 1729, 'transaction-id': 2046})"
      ]
     },
     "execution_count": 27,
     "metadata": {},
     "output_type": "execute_result"
    }
   ],
   "source": [
    "def denormalize(record):\n",
    "    # returns a list for every nested item, each transaction of each person\n",
    "    return [{'id': record['id'], \n",
    "             'name': record['name'], \n",
    "             'amount': transaction['amount'], \n",
    "             'transaction-id': transaction['transaction-id']}\n",
    "            for transaction in record['transactions']]\n",
    "\n",
    "transactions = js.map(denormalize).flatten()\n",
    "transactions.take(3)"
   ]
  },
  {
   "cell_type": "code",
   "execution_count": 28,
   "metadata": {},
   "outputs": [
    {
     "data": {
      "text/html": [
       "<div>\n",
       "<style scoped>\n",
       "    .dataframe tbody tr th:only-of-type {\n",
       "        vertical-align: middle;\n",
       "    }\n",
       "\n",
       "    .dataframe tbody tr th {\n",
       "        vertical-align: top;\n",
       "    }\n",
       "\n",
       "    .dataframe thead th {\n",
       "        text-align: right;\n",
       "    }\n",
       "</style>\n",
       "<table border=\"1\" class=\"dataframe\">\n",
       "  <thead>\n",
       "    <tr style=\"text-align: right;\">\n",
       "      <th></th>\n",
       "      <th>id</th>\n",
       "      <th>name</th>\n",
       "      <th>amount</th>\n",
       "      <th>transaction-id</th>\n",
       "    </tr>\n",
       "  </thead>\n",
       "  <tbody>\n",
       "    <tr>\n",
       "      <th>0</th>\n",
       "      <td>0</td>\n",
       "      <td>Victor</td>\n",
       "      <td>1610</td>\n",
       "      <td>1</td>\n",
       "    </tr>\n",
       "    <tr>\n",
       "      <th>1</th>\n",
       "      <td>0</td>\n",
       "      <td>Victor</td>\n",
       "      <td>2452</td>\n",
       "      <td>1277</td>\n",
       "    </tr>\n",
       "    <tr>\n",
       "      <th>2</th>\n",
       "      <td>0</td>\n",
       "      <td>Victor</td>\n",
       "      <td>1729</td>\n",
       "      <td>2046</td>\n",
       "    </tr>\n",
       "    <tr>\n",
       "      <th>3</th>\n",
       "      <td>0</td>\n",
       "      <td>Victor</td>\n",
       "      <td>1850</td>\n",
       "      <td>2164</td>\n",
       "    </tr>\n",
       "    <tr>\n",
       "      <th>4</th>\n",
       "      <td>0</td>\n",
       "      <td>Victor</td>\n",
       "      <td>2163</td>\n",
       "      <td>2368</td>\n",
       "    </tr>\n",
       "  </tbody>\n",
       "</table>\n",
       "</div>"
      ],
      "text/plain": [
       "   id    name  amount  transaction-id\n",
       "0   0  Victor    1610               1\n",
       "1   0  Victor    2452            1277\n",
       "2   0  Victor    1729            2046\n",
       "3   0  Victor    1850            2164\n",
       "4   0  Victor    2163            2368"
      ]
     },
     "execution_count": 28,
     "metadata": {},
     "output_type": "execute_result"
    }
   ],
   "source": [
    "df = transactions.to_dataframe()\n",
    "df.head()"
   ]
  },
  {
   "cell_type": "code",
   "execution_count": 29,
   "metadata": {},
   "outputs": [
    {
     "name": "stdout",
     "output_type": "stream",
     "text": [
      "CPU times: user 221 ms, sys: 22.3 ms, total: 244 ms\n",
      "Wall time: 1.5 s\n"
     ]
    },
    {
     "data": {
      "text/plain": [
       "name\n",
       "Alice       18432\n",
       "Bob         36421\n",
       "Charlie     24271\n",
       "Dan         10030\n",
       "Edith       21576\n",
       "Frank       22166\n",
       "George      20704\n",
       "Hannah      16232\n",
       "Ingrid      33400\n",
       "Jerry        7961\n",
       "Kevin       11691\n",
       "Laura       23128\n",
       "Michael     13093\n",
       "Norbert     28762\n",
       "Oliver      13681\n",
       "Patricia    20139\n",
       "Quinn       16461\n",
       "Ray         12405\n",
       "Sarah       31500\n",
       "Tim          7081\n",
       "Ursula       8076\n",
       "Victor       7914\n",
       "Wendy       28400\n",
       "Xavier      47468\n",
       "Yvonne      11784\n",
       "Zelda        7224\n",
       "Name: transaction-id, dtype: int64"
      ]
     },
     "execution_count": 29,
     "metadata": {},
     "output_type": "execute_result"
    }
   ],
   "source": [
    "%%time\n",
    "# number of transactions per name\n",
    "# note that the time here includes the data load and ingestion\n",
    "df.groupby('name')['transaction-id'].count().compute()"
   ]
  },
  {
   "cell_type": "markdown",
   "metadata": {},
   "source": [
    "## Limitations"
   ]
  },
  {
   "cell_type": "markdown",
   "metadata": {},
   "source": [
    "Bags provide very general computation (any Python function.)  This generality\n",
    "comes at cost.  Bags have the following known limitations\n",
    "\n",
    "1.  Bag operations tend to be slower than array/dataframe computations in the\n",
    "    same way that Python tends to be slower than NumPy/Pandas\n",
    "2.  ``Bag.groupby`` is slow.  You should try to use ``Bag.foldby`` if possible.\n",
    "    Using ``Bag.foldby`` requires more thought. Even better, consider creating\n",
    "    a normalised dataframe."
   ]
  },
  {
   "cell_type": "markdown",
   "metadata": {},
   "source": [
    "## Learn More\n",
    "\n",
    "* [Bag documentation](https://docs.dask.org/en/latest/bag.html)\n",
    "* [Bag screencast](https://youtu.be/-qIiJ1XtSv0)\n",
    "* [Bag API](https://docs.dask.org/en/latest/bag-api.html)\n",
    "* [Bag examples](https://examples.dask.org/bag.html)"
   ]
  },
  {
   "cell_type": "markdown",
   "metadata": {},
   "source": [
    "## Shutdown"
   ]
  },
  {
   "cell_type": "code",
   "execution_count": 30,
   "metadata": {},
   "outputs": [],
   "source": [
    "client.shutdown()"
   ]
  },
  {
   "cell_type": "code",
   "execution_count": null,
   "metadata": {},
   "outputs": [],
   "source": []
  }
 ],
 "metadata": {
  "anaconda-cloud": {},
  "kernelspec": {
   "display_name": "Python 3",
   "language": "python",
   "name": "python3"
  },
  "language_info": {
   "codemirror_mode": {
    "name": "ipython",
    "version": 3
   },
   "file_extension": ".py",
   "mimetype": "text/x-python",
   "name": "python",
   "nbconvert_exporter": "python",
   "pygments_lexer": "ipython3",
   "version": "3.7.6"
  }
 },
 "nbformat": 4,
 "nbformat_minor": 4
}
