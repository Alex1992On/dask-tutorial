{
 "cells": [
  {
   "cell_type": "markdown",
   "metadata": {},
   "source": [
    "<img src=\"images/dask_horizontal.svg\" align=\"right\" width=\"30%\">"
   ]
  },
  {
   "cell_type": "markdown",
   "metadata": {},
   "source": [
    "# Bag: Parallel Lists for semi-structured data"
   ]
  },
  {
   "cell_type": "markdown",
   "metadata": {},
   "source": [
    "Dask-bag excels in processing data that can be represented as a sequence of arbitrary inputs. We'll refer to this as \"messy\" data, because it can contain complex nested structures, missing fields, mixtures of data types, etc. The *functional* programming style fits very nicely with standard Python iteration, such as can be found in the `itertools` module.\n",
    "\n",
    "Messy data is often encountered at the beginning of data processing pipelines when large volumes of raw data are first consumed. The initial set of data might be JSON, CSV, XML, or any other format that does not enforce strict structure and datatypes.\n",
    "For this reason, the initial data massaging and processing is often done with Python `list`s, `dict`s, and `set`s.\n",
    "\n",
    "These core data structures are optimized for general-purpose storage and processing.  Adding streaming computation with iterators/generator expressions or libraries like `itertools` or [`toolz`](https://toolz.readthedocs.io/en/latest/) let us process large volumes in a small space.  If we combine this with parallel processing then we can churn through a fair amount of data.\n",
    "\n",
    "Dask.bag is a high level Dask collection to automate common workloads of this form.  In a nutshell\n",
    "\n",
    "    dask.bag = map, filter, toolz + parallel execution\n",
    "    \n",
    "**Related Documentation**\n",
    "\n",
    "* [Bag documentation](https://docs.dask.org/en/latest/bag.html)\n",
    "* [Bag screencast](https://youtu.be/-qIiJ1XtSv0)\n",
    "* [Bag API](https://docs.dask.org/en/latest/bag-api.html)\n",
    "* [Bag examples](https://examples.dask.org/bag.html)"
   ]
  },
  {
   "cell_type": "markdown",
   "metadata": {},
   "source": [
    "## Create data"
   ]
  },
  {
   "cell_type": "code",
   "execution_count": 1,
   "metadata": {},
   "outputs": [],
   "source": [
    "%run prep.py -d accounts"
   ]
  },
  {
   "cell_type": "markdown",
   "metadata": {},
   "source": [
    "## Setup"
   ]
  },
  {
   "cell_type": "markdown",
   "metadata": {},
   "source": [
    "Again, we'll use the distributed scheduler. Schedulers will be explained in depth [later](05_distributed.ipynb)."
   ]
  },
  {
   "cell_type": "code",
   "execution_count": 2,
   "metadata": {},
   "outputs": [],
   "source": [
    "from dask.distributed import Client\n",
    "\n",
    "client = Client(n_workers=4)"
   ]
  },
  {
   "cell_type": "markdown",
   "metadata": {},
   "source": [
    "## Creation"
   ]
  },
  {
   "cell_type": "markdown",
   "metadata": {},
   "source": [
    "You can create a `Bag` from a Python sequence, from files, from data on S3, etc.\n",
    "We demonstrate using `.take()` to show elements of the data. (Doing `.take(1)` results in a tuple with one element)\n",
    "\n",
    "Note that the data are partitioned into blocks, and there are many items per block. In the first example, the two partitions contain five elements each, and in the following two, each file is partitioned into one or more bytes blocks."
   ]
  },
  {
   "cell_type": "code",
   "execution_count": 3,
   "metadata": {},
   "outputs": [
    {
     "data": {
      "text/plain": [
       "(1, 2, 3)"
      ]
     },
     "execution_count": 3,
     "metadata": {},
     "output_type": "execute_result"
    }
   ],
   "source": [
    "# each element is an integer\n",
    "import dask.bag as db\n",
    "b = db.from_sequence([1, 2, 3, 4, 5, 6, 7, 8, 9, 10], npartitions=2)\n",
    "b.take(3)"
   ]
  },
  {
   "cell_type": "code",
   "execution_count": 4,
   "metadata": {},
   "outputs": [
    {
     "data": {
      "text/plain": [
       "('{\"id\": 0, \"name\": \"Michael\", \"transactions\": [{\"transaction-id\": 759, \"amount\": 286}, {\"transaction-id\": 1791, \"amount\": 257}, {\"transaction-id\": 2296, \"amount\": 252}, {\"transaction-id\": 3054, \"amount\": 236}, {\"transaction-id\": 4301, \"amount\": 263}, {\"transaction-id\": 4614, \"amount\": 271}, {\"transaction-id\": 4752, \"amount\": 270}, {\"transaction-id\": 5251, \"amount\": 255}, {\"transaction-id\": 6341, \"amount\": 251}, {\"transaction-id\": 6497, \"amount\": 252}, {\"transaction-id\": 6824, \"amount\": 247}, {\"transaction-id\": 6864, \"amount\": 257}, {\"transaction-id\": 7717, \"amount\": 248}, {\"transaction-id\": 8013, \"amount\": 271}, {\"transaction-id\": 9220, \"amount\": 265}]}\\n',)"
      ]
     },
     "execution_count": 4,
     "metadata": {},
     "output_type": "execute_result"
    }
   ],
   "source": [
    "# each element is a text file, where each line is a JSON object\n",
    "# note that the compression is handled automatically\n",
    "import os\n",
    "b = db.read_text(os.path.join('data', 'accounts.*.json.gz'))\n",
    "b.take(1)"
   ]
  },
  {
   "cell_type": "code",
   "execution_count": 5,
   "metadata": {},
   "outputs": [
    {
     "data": {
      "text/plain": [
       "('VendorID,tpep_pickup_datetime,tpep_dropoff_datetime,passenger_count,trip_distance,pickup_longitude,pickup_latitude,RateCodeID,store_and_fwd_flag,dropoff_longitude,dropoff_latitude,payment_type,fare_amount,extra,mta_tax,tip_amount,tolls_amount,improvement_surcharge,total_amount\\n',)"
      ]
     },
     "execution_count": 5,
     "metadata": {},
     "output_type": "execute_result"
    }
   ],
   "source": [
    "# Requires `s3fs` library\n",
    "# each partition is a remote CSV text file\n",
    "b = db.read_text('s3://dask-data/nyc-taxi/2015/yellow_tripdata_2015-01.csv',\n",
    "                 storage_options={'anon': True})\n",
    "b.take(1)"
   ]
  },
  {
   "cell_type": "markdown",
   "metadata": {},
   "source": [
    "## Manipulation"
   ]
  },
  {
   "cell_type": "markdown",
   "metadata": {},
   "source": [
    "`Bag` objects hold the standard functional API found in projects like the Python standard library, `toolz`, or `pyspark`, including `map`, `filter`, `groupby`, etc..\n",
    "\n",
    "Operations on `Bag` objects create new bags.  Call the `.compute()` method to trigger execution, as we saw for `Delayed` objects.  "
   ]
  },
  {
   "cell_type": "code",
   "execution_count": 6,
   "metadata": {},
   "outputs": [
    {
     "data": {
      "text/plain": [
       "dask.bag<lambda, npartitions=10>"
      ]
     },
     "execution_count": 6,
     "metadata": {},
     "output_type": "execute_result"
    }
   ],
   "source": [
    "def is_even(n):\n",
    "    return n % 2 == 0\n",
    "\n",
    "b = db.from_sequence([1, 2, 3, 4, 5, 6, 7, 8, 9, 10])\n",
    "c = b.filter(is_even).map(lambda x: x ** 2)\n",
    "c"
   ]
  },
  {
   "cell_type": "code",
   "execution_count": 7,
   "metadata": {},
   "outputs": [
    {
     "data": {
      "text/plain": [
       "[4, 16, 36, 64, 100]"
      ]
     },
     "execution_count": 7,
     "metadata": {},
     "output_type": "execute_result"
    }
   ],
   "source": [
    "# blocking form: wait for completion (which is very fast in this case)\n",
    "c.compute()"
   ]
  },
  {
   "cell_type": "markdown",
   "metadata": {},
   "source": [
    "### Example: Accounts JSON data"
   ]
  },
  {
   "cell_type": "markdown",
   "metadata": {},
   "source": [
    "We've created a fake dataset of gzipped JSON data in your data directory.  This is like the example used in the `DataFrame` example we will see later, except that it has bundled up all of the entires for each individual `id` into a single record.  This is similar to data that you might collect off of a document store database or a web API.\n",
    "\n",
    "Each line is a JSON encoded dictionary with the following keys\n",
    "\n",
    "*  id: Unique identifier of the customer\n",
    "*  name: Name of the customer\n",
    "*  transactions: List of `transaction-id`, `amount` pairs, one for each transaction for the customer in that file"
   ]
  },
  {
   "cell_type": "code",
   "execution_count": 8,
   "metadata": {},
   "outputs": [
    {
     "data": {
      "text/plain": [
       "('{\"id\": 0, \"name\": \"Michael\", \"transactions\": [{\"transaction-id\": 759, \"amount\": 286}, {\"transaction-id\": 1791, \"amount\": 257}, {\"transaction-id\": 2296, \"amount\": 252}, {\"transaction-id\": 3054, \"amount\": 236}, {\"transaction-id\": 4301, \"amount\": 263}, {\"transaction-id\": 4614, \"amount\": 271}, {\"transaction-id\": 4752, \"amount\": 270}, {\"transaction-id\": 5251, \"amount\": 255}, {\"transaction-id\": 6341, \"amount\": 251}, {\"transaction-id\": 6497, \"amount\": 252}, {\"transaction-id\": 6824, \"amount\": 247}, {\"transaction-id\": 6864, \"amount\": 257}, {\"transaction-id\": 7717, \"amount\": 248}, {\"transaction-id\": 8013, \"amount\": 271}, {\"transaction-id\": 9220, \"amount\": 265}]}\\n',\n",
       " '{\"id\": 1, \"name\": \"Jerry\", \"transactions\": [{\"transaction-id\": 166, \"amount\": 22}, {\"transaction-id\": 270, \"amount\": -88}, {\"transaction-id\": 1118, \"amount\": 46}, {\"transaction-id\": 2694, \"amount\": 146}, {\"transaction-id\": 3026, \"amount\": 37}, {\"transaction-id\": 3145, \"amount\": 24}, {\"transaction-id\": 3219, \"amount\": 95}, {\"transaction-id\": 3222, \"amount\": 114}, {\"transaction-id\": 3249, \"amount\": 5}, {\"transaction-id\": 3609, \"amount\": 131}, {\"transaction-id\": 4432, \"amount\": 48}, {\"transaction-id\": 4939, \"amount\": 99}, {\"transaction-id\": 5206, \"amount\": 80}, {\"transaction-id\": 5831, \"amount\": 58}, {\"transaction-id\": 6013, \"amount\": -42}, {\"transaction-id\": 6119, \"amount\": 293}, {\"transaction-id\": 6596, \"amount\": -86}, {\"transaction-id\": 6840, \"amount\": 234}, {\"transaction-id\": 7112, \"amount\": 189}, {\"transaction-id\": 7189, \"amount\": 95}, {\"transaction-id\": 7728, \"amount\": -107}, {\"transaction-id\": 7920, \"amount\": -38}, {\"transaction-id\": 8096, \"amount\": 33}, {\"transaction-id\": 8141, \"amount\": 58}, {\"transaction-id\": 8276, \"amount\": 128}, {\"transaction-id\": 8308, \"amount\": 80}, {\"transaction-id\": 8615, \"amount\": 114}, {\"transaction-id\": 8793, \"amount\": 137}, {\"transaction-id\": 9104, \"amount\": 45}, {\"transaction-id\": 9319, \"amount\": 40}, {\"transaction-id\": 9922, \"amount\": 229}]}\\n',\n",
       " '{\"id\": 2, \"name\": \"Dan\", \"transactions\": [{\"transaction-id\": 573, \"amount\": -1086}, {\"transaction-id\": 822, \"amount\": -1097}, {\"transaction-id\": 1052, \"amount\": -1054}, {\"transaction-id\": 1849, \"amount\": -910}, {\"transaction-id\": 2000, \"amount\": -991}, {\"transaction-id\": 2334, \"amount\": -1069}, {\"transaction-id\": 2345, \"amount\": -905}, {\"transaction-id\": 2775, \"amount\": -869}, {\"transaction-id\": 3199, \"amount\": -723}, {\"transaction-id\": 3476, \"amount\": -1110}, {\"transaction-id\": 5094, \"amount\": -956}, {\"transaction-id\": 5197, \"amount\": -949}, {\"transaction-id\": 5596, \"amount\": -814}, {\"transaction-id\": 6122, \"amount\": -1074}, {\"transaction-id\": 6242, \"amount\": -1081}, {\"transaction-id\": 6277, \"amount\": -716}, {\"transaction-id\": 7181, \"amount\": -1052}, {\"transaction-id\": 8236, \"amount\": -1076}, {\"transaction-id\": 8575, \"amount\": -1038}, {\"transaction-id\": 8902, \"amount\": -1059}, {\"transaction-id\": 8928, \"amount\": -1144}, {\"transaction-id\": 9251, \"amount\": -892}]}\\n')"
      ]
     },
     "execution_count": 8,
     "metadata": {},
     "output_type": "execute_result"
    }
   ],
   "source": [
    "filename = os.path.join('data', 'accounts.*.json.gz')\n",
    "lines = db.read_text(filename)\n",
    "lines.take(3)"
   ]
  },
  {
   "cell_type": "markdown",
   "metadata": {},
   "source": [
    "Our data comes out of the file as lines of text. Notice that file decompression happened automatically. We can make this data look more reasonable by mapping the `json.loads` function onto our bag."
   ]
  },
  {
   "cell_type": "code",
   "execution_count": 9,
   "metadata": {},
   "outputs": [
    {
     "data": {
      "text/plain": [
       "({'id': 0,\n",
       "  'name': 'Michael',\n",
       "  'transactions': [{'transaction-id': 759, 'amount': 286},\n",
       "   {'transaction-id': 1791, 'amount': 257},\n",
       "   {'transaction-id': 2296, 'amount': 252},\n",
       "   {'transaction-id': 3054, 'amount': 236},\n",
       "   {'transaction-id': 4301, 'amount': 263},\n",
       "   {'transaction-id': 4614, 'amount': 271},\n",
       "   {'transaction-id': 4752, 'amount': 270},\n",
       "   {'transaction-id': 5251, 'amount': 255},\n",
       "   {'transaction-id': 6341, 'amount': 251},\n",
       "   {'transaction-id': 6497, 'amount': 252},\n",
       "   {'transaction-id': 6824, 'amount': 247},\n",
       "   {'transaction-id': 6864, 'amount': 257},\n",
       "   {'transaction-id': 7717, 'amount': 248},\n",
       "   {'transaction-id': 8013, 'amount': 271},\n",
       "   {'transaction-id': 9220, 'amount': 265}]},\n",
       " {'id': 1,\n",
       "  'name': 'Jerry',\n",
       "  'transactions': [{'transaction-id': 166, 'amount': 22},\n",
       "   {'transaction-id': 270, 'amount': -88},\n",
       "   {'transaction-id': 1118, 'amount': 46},\n",
       "   {'transaction-id': 2694, 'amount': 146},\n",
       "   {'transaction-id': 3026, 'amount': 37},\n",
       "   {'transaction-id': 3145, 'amount': 24},\n",
       "   {'transaction-id': 3219, 'amount': 95},\n",
       "   {'transaction-id': 3222, 'amount': 114},\n",
       "   {'transaction-id': 3249, 'amount': 5},\n",
       "   {'transaction-id': 3609, 'amount': 131},\n",
       "   {'transaction-id': 4432, 'amount': 48},\n",
       "   {'transaction-id': 4939, 'amount': 99},\n",
       "   {'transaction-id': 5206, 'amount': 80},\n",
       "   {'transaction-id': 5831, 'amount': 58},\n",
       "   {'transaction-id': 6013, 'amount': -42},\n",
       "   {'transaction-id': 6119, 'amount': 293},\n",
       "   {'transaction-id': 6596, 'amount': -86},\n",
       "   {'transaction-id': 6840, 'amount': 234},\n",
       "   {'transaction-id': 7112, 'amount': 189},\n",
       "   {'transaction-id': 7189, 'amount': 95},\n",
       "   {'transaction-id': 7728, 'amount': -107},\n",
       "   {'transaction-id': 7920, 'amount': -38},\n",
       "   {'transaction-id': 8096, 'amount': 33},\n",
       "   {'transaction-id': 8141, 'amount': 58},\n",
       "   {'transaction-id': 8276, 'amount': 128},\n",
       "   {'transaction-id': 8308, 'amount': 80},\n",
       "   {'transaction-id': 8615, 'amount': 114},\n",
       "   {'transaction-id': 8793, 'amount': 137},\n",
       "   {'transaction-id': 9104, 'amount': 45},\n",
       "   {'transaction-id': 9319, 'amount': 40},\n",
       "   {'transaction-id': 9922, 'amount': 229}]},\n",
       " {'id': 2,\n",
       "  'name': 'Dan',\n",
       "  'transactions': [{'transaction-id': 573, 'amount': -1086},\n",
       "   {'transaction-id': 822, 'amount': -1097},\n",
       "   {'transaction-id': 1052, 'amount': -1054},\n",
       "   {'transaction-id': 1849, 'amount': -910},\n",
       "   {'transaction-id': 2000, 'amount': -991},\n",
       "   {'transaction-id': 2334, 'amount': -1069},\n",
       "   {'transaction-id': 2345, 'amount': -905},\n",
       "   {'transaction-id': 2775, 'amount': -869},\n",
       "   {'transaction-id': 3199, 'amount': -723},\n",
       "   {'transaction-id': 3476, 'amount': -1110},\n",
       "   {'transaction-id': 5094, 'amount': -956},\n",
       "   {'transaction-id': 5197, 'amount': -949},\n",
       "   {'transaction-id': 5596, 'amount': -814},\n",
       "   {'transaction-id': 6122, 'amount': -1074},\n",
       "   {'transaction-id': 6242, 'amount': -1081},\n",
       "   {'transaction-id': 6277, 'amount': -716},\n",
       "   {'transaction-id': 7181, 'amount': -1052},\n",
       "   {'transaction-id': 8236, 'amount': -1076},\n",
       "   {'transaction-id': 8575, 'amount': -1038},\n",
       "   {'transaction-id': 8902, 'amount': -1059},\n",
       "   {'transaction-id': 8928, 'amount': -1144},\n",
       "   {'transaction-id': 9251, 'amount': -892}]})"
      ]
     },
     "execution_count": 9,
     "metadata": {},
     "output_type": "execute_result"
    }
   ],
   "source": [
    "import json\n",
    "js = lines.map(json.loads)\n",
    "# take: inspect first few elements\n",
    "js.take(3)"
   ]
  },
  {
   "cell_type": "markdown",
   "metadata": {},
   "source": [
    "### Basic Queries"
   ]
  },
  {
   "cell_type": "markdown",
   "metadata": {},
   "source": [
    "Once we parse our JSON data into proper Python objects (`dict`s, `list`s, etc.) we can perform more interesting queries by creating small Python functions to run on our data."
   ]
  },
  {
   "cell_type": "code",
   "execution_count": 10,
   "metadata": {},
   "outputs": [
    {
     "data": {
      "text/plain": [
       "({'id': 20,\n",
       "  'name': 'Alice',\n",
       "  'transactions': [{'transaction-id': 768, 'amount': 1828},\n",
       "   {'transaction-id': 1013, 'amount': 1919},\n",
       "   {'transaction-id': 1088, 'amount': 1673},\n",
       "   {'transaction-id': 1232, 'amount': 1751},\n",
       "   {'transaction-id': 1669, 'amount': 1775},\n",
       "   {'transaction-id': 1900, 'amount': 1945},\n",
       "   {'transaction-id': 2241, 'amount': 1750},\n",
       "   {'transaction-id': 2543, 'amount': 1817},\n",
       "   {'transaction-id': 2819, 'amount': 1727},\n",
       "   {'transaction-id': 3013, 'amount': 1816},\n",
       "   {'transaction-id': 3428, 'amount': 1891},\n",
       "   {'transaction-id': 3632, 'amount': 1857},\n",
       "   {'transaction-id': 3802, 'amount': 1814},\n",
       "   {'transaction-id': 4617, 'amount': 1818},\n",
       "   {'transaction-id': 4965, 'amount': 1781},\n",
       "   {'transaction-id': 6895, 'amount': 1753},\n",
       "   {'transaction-id': 6964, 'amount': 1809},\n",
       "   {'transaction-id': 7699, 'amount': 1801},\n",
       "   {'transaction-id': 7764, 'amount': 1747},\n",
       "   {'transaction-id': 7985, 'amount': 1933},\n",
       "   {'transaction-id': 8509, 'amount': 1915},\n",
       "   {'transaction-id': 8732, 'amount': 1855},\n",
       "   {'transaction-id': 8840, 'amount': 1853},\n",
       "   {'transaction-id': 8905, 'amount': 1745},\n",
       "   {'transaction-id': 9298, 'amount': 1858},\n",
       "   {'transaction-id': 9428, 'amount': 1715}]},\n",
       " {'id': 50,\n",
       "  'name': 'Alice',\n",
       "  'transactions': [{'transaction-id': 1092, 'amount': -1299},\n",
       "   {'transaction-id': 3102, 'amount': -780},\n",
       "   {'transaction-id': 3204, 'amount': -1099},\n",
       "   {'transaction-id': 4022, 'amount': -984},\n",
       "   {'transaction-id': 6536, 'amount': -1323}]},\n",
       " {'id': 114,\n",
       "  'name': 'Alice',\n",
       "  'transactions': [{'transaction-id': 170, 'amount': 603},\n",
       "   {'transaction-id': 186, 'amount': 575},\n",
       "   {'transaction-id': 191, 'amount': 546},\n",
       "   {'transaction-id': 313, 'amount': 534},\n",
       "   {'transaction-id': 352, 'amount': 664},\n",
       "   {'transaction-id': 380, 'amount': 623},\n",
       "   {'transaction-id': 442, 'amount': 639},\n",
       "   {'transaction-id': 468, 'amount': 555},\n",
       "   {'transaction-id': 590, 'amount': 611},\n",
       "   {'transaction-id': 605, 'amount': 612},\n",
       "   {'transaction-id': 709, 'amount': 565},\n",
       "   {'transaction-id': 940, 'amount': 587},\n",
       "   {'transaction-id': 953, 'amount': 693},\n",
       "   {'transaction-id': 1019, 'amount': 590},\n",
       "   {'transaction-id': 1058, 'amount': 665},\n",
       "   {'transaction-id': 1102, 'amount': 576},\n",
       "   {'transaction-id': 1187, 'amount': 760},\n",
       "   {'transaction-id': 1362, 'amount': 707},\n",
       "   {'transaction-id': 1396, 'amount': 529},\n",
       "   {'transaction-id': 1668, 'amount': 563},\n",
       "   {'transaction-id': 1702, 'amount': 606},\n",
       "   {'transaction-id': 2029, 'amount': 661},\n",
       "   {'transaction-id': 2209, 'amount': 618},\n",
       "   {'transaction-id': 2758, 'amount': 467},\n",
       "   {'transaction-id': 2790, 'amount': 501},\n",
       "   {'transaction-id': 2823, 'amount': 555},\n",
       "   {'transaction-id': 2908, 'amount': 602},\n",
       "   {'transaction-id': 3435, 'amount': 661},\n",
       "   {'transaction-id': 3443, 'amount': 638},\n",
       "   {'transaction-id': 3477, 'amount': 497},\n",
       "   {'transaction-id': 3580, 'amount': 620},\n",
       "   {'transaction-id': 3816, 'amount': 629},\n",
       "   {'transaction-id': 4215, 'amount': 674},\n",
       "   {'transaction-id': 4302, 'amount': 599},\n",
       "   {'transaction-id': 4496, 'amount': 553},\n",
       "   {'transaction-id': 4544, 'amount': 577},\n",
       "   {'transaction-id': 4640, 'amount': 596},\n",
       "   {'transaction-id': 4681, 'amount': 598},\n",
       "   {'transaction-id': 4845, 'amount': 588},\n",
       "   {'transaction-id': 5039, 'amount': 553},\n",
       "   {'transaction-id': 5101, 'amount': 598},\n",
       "   {'transaction-id': 5139, 'amount': 626},\n",
       "   {'transaction-id': 5195, 'amount': 619},\n",
       "   {'transaction-id': 5574, 'amount': 571},\n",
       "   {'transaction-id': 5588, 'amount': 618},\n",
       "   {'transaction-id': 5669, 'amount': 568},\n",
       "   {'transaction-id': 5768, 'amount': 572},\n",
       "   {'transaction-id': 5945, 'amount': 658},\n",
       "   {'transaction-id': 6394, 'amount': 658},\n",
       "   {'transaction-id': 6449, 'amount': 559},\n",
       "   {'transaction-id': 6551, 'amount': 625},\n",
       "   {'transaction-id': 6871, 'amount': 689},\n",
       "   {'transaction-id': 6974, 'amount': 546},\n",
       "   {'transaction-id': 7062, 'amount': 515},\n",
       "   {'transaction-id': 7096, 'amount': 545},\n",
       "   {'transaction-id': 7305, 'amount': 630},\n",
       "   {'transaction-id': 7329, 'amount': 596},\n",
       "   {'transaction-id': 7646, 'amount': 597},\n",
       "   {'transaction-id': 7933, 'amount': 640},\n",
       "   {'transaction-id': 8129, 'amount': 594},\n",
       "   {'transaction-id': 8358, 'amount': 574},\n",
       "   {'transaction-id': 8618, 'amount': 410},\n",
       "   {'transaction-id': 8825, 'amount': 570},\n",
       "   {'transaction-id': 8916, 'amount': 562},\n",
       "   {'transaction-id': 9230, 'amount': 542},\n",
       "   {'transaction-id': 9419, 'amount': 698},\n",
       "   {'transaction-id': 9590, 'amount': 644},\n",
       "   {'transaction-id': 9731, 'amount': 521},\n",
       "   {'transaction-id': 9798, 'amount': 680},\n",
       "   {'transaction-id': 9880, 'amount': 591},\n",
       "   {'transaction-id': 9984, 'amount': 511}]},\n",
       " {'id': 155,\n",
       "  'name': 'Alice',\n",
       "  'transactions': [{'transaction-id': 245, 'amount': 1291},\n",
       "   {'transaction-id': 2111, 'amount': 1324},\n",
       "   {'transaction-id': 2821, 'amount': 1243},\n",
       "   {'transaction-id': 3961, 'amount': 1227},\n",
       "   {'transaction-id': 4857, 'amount': 1471},\n",
       "   {'transaction-id': 5565, 'amount': 1395},\n",
       "   {'transaction-id': 5902, 'amount': 1534},\n",
       "   {'transaction-id': 5914, 'amount': 1306},\n",
       "   {'transaction-id': 6524, 'amount': 1398},\n",
       "   {'transaction-id': 9332, 'amount': 1430},\n",
       "   {'transaction-id': 9375, 'amount': 1339},\n",
       "   {'transaction-id': 9392, 'amount': 1454},\n",
       "   {'transaction-id': 9854, 'amount': 1551}]},\n",
       " {'id': 156,\n",
       "  'name': 'Alice',\n",
       "  'transactions': [{'transaction-id': 76, 'amount': 91},\n",
       "   {'transaction-id': 95, 'amount': 94},\n",
       "   {'transaction-id': 103, 'amount': 96},\n",
       "   {'transaction-id': 167, 'amount': 100},\n",
       "   {'transaction-id': 557, 'amount': 101},\n",
       "   {'transaction-id': 968, 'amount': 101},\n",
       "   {'transaction-id': 1413, 'amount': 100},\n",
       "   {'transaction-id': 1463, 'amount': 94},\n",
       "   {'transaction-id': 1597, 'amount': 99},\n",
       "   {'transaction-id': 1618, 'amount': 100},\n",
       "   {'transaction-id': 1627, 'amount': 103},\n",
       "   {'transaction-id': 1723, 'amount': 99},\n",
       "   {'transaction-id': 2144, 'amount': 95},\n",
       "   {'transaction-id': 2308, 'amount': 105},\n",
       "   {'transaction-id': 2381, 'amount': 96},\n",
       "   {'transaction-id': 2603, 'amount': 93},\n",
       "   {'transaction-id': 2669, 'amount': 96},\n",
       "   {'transaction-id': 2959, 'amount': 96},\n",
       "   {'transaction-id': 3016, 'amount': 93},\n",
       "   {'transaction-id': 3086, 'amount': 98},\n",
       "   {'transaction-id': 3127, 'amount': 103},\n",
       "   {'transaction-id': 3415, 'amount': 98},\n",
       "   {'transaction-id': 3426, 'amount': 91},\n",
       "   {'transaction-id': 3529, 'amount': 107},\n",
       "   {'transaction-id': 3578, 'amount': 98},\n",
       "   {'transaction-id': 3605, 'amount': 102},\n",
       "   {'transaction-id': 3966, 'amount': 95},\n",
       "   {'transaction-id': 4284, 'amount': 91},\n",
       "   {'transaction-id': 4388, 'amount': 106},\n",
       "   {'transaction-id': 4532, 'amount': 97},\n",
       "   {'transaction-id': 5061, 'amount': 99},\n",
       "   {'transaction-id': 5083, 'amount': 103},\n",
       "   {'transaction-id': 5291, 'amount': 99},\n",
       "   {'transaction-id': 5340, 'amount': 99},\n",
       "   {'transaction-id': 6025, 'amount': 103},\n",
       "   {'transaction-id': 6029, 'amount': 102},\n",
       "   {'transaction-id': 6144, 'amount': 103},\n",
       "   {'transaction-id': 6189, 'amount': 100},\n",
       "   {'transaction-id': 6370, 'amount': 104},\n",
       "   {'transaction-id': 6456, 'amount': 99},\n",
       "   {'transaction-id': 6564, 'amount': 97},\n",
       "   {'transaction-id': 6662, 'amount': 96},\n",
       "   {'transaction-id': 6805, 'amount': 95},\n",
       "   {'transaction-id': 6823, 'amount': 97},\n",
       "   {'transaction-id': 7403, 'amount': 101},\n",
       "   {'transaction-id': 7522, 'amount': 100},\n",
       "   {'transaction-id': 7581, 'amount': 95},\n",
       "   {'transaction-id': 7645, 'amount': 90},\n",
       "   {'transaction-id': 7651, 'amount': 100},\n",
       "   {'transaction-id': 7719, 'amount': 97},\n",
       "   {'transaction-id': 7759, 'amount': 90},\n",
       "   {'transaction-id': 7766, 'amount': 102},\n",
       "   {'transaction-id': 7909, 'amount': 99},\n",
       "   {'transaction-id': 8169, 'amount': 99},\n",
       "   {'transaction-id': 8612, 'amount': 89},\n",
       "   {'transaction-id': 8832, 'amount': 104},\n",
       "   {'transaction-id': 8851, 'amount': 107},\n",
       "   {'transaction-id': 8858, 'amount': 93},\n",
       "   {'transaction-id': 8920, 'amount': 94},\n",
       "   {'transaction-id': 9139, 'amount': 101},\n",
       "   {'transaction-id': 9334, 'amount': 98},\n",
       "   {'transaction-id': 9384, 'amount': 88},\n",
       "   {'transaction-id': 9532, 'amount': 92},\n",
       "   {'transaction-id': 9608, 'amount': 98},\n",
       "   {'transaction-id': 9611, 'amount': 87},\n",
       "   {'transaction-id': 9671, 'amount': 91},\n",
       "   {'transaction-id': 9725, 'amount': 98},\n",
       "   {'transaction-id': 9785, 'amount': 88},\n",
       "   {'transaction-id': 9860, 'amount': 102},\n",
       "   {'transaction-id': 9916, 'amount': 99},\n",
       "   {'transaction-id': 9981, 'amount': 102}]})"
      ]
     },
     "execution_count": 10,
     "metadata": {},
     "output_type": "execute_result"
    }
   ],
   "source": [
    "# filter: keep only some elements of the sequence\n",
    "js.filter(lambda record: record['name'] == 'Alice').take(5)"
   ]
  },
  {
   "cell_type": "code",
   "execution_count": 11,
   "metadata": {},
   "outputs": [
    {
     "data": {
      "text/plain": [
       "({'name': 'Alice', 'count': 26},\n",
       " {'name': 'Alice', 'count': 5},\n",
       " {'name': 'Alice', 'count': 71},\n",
       " {'name': 'Alice', 'count': 13},\n",
       " {'name': 'Alice', 'count': 71})"
      ]
     },
     "execution_count": 11,
     "metadata": {},
     "output_type": "execute_result"
    }
   ],
   "source": [
    "def count_transactions(d):\n",
    "    return {'name': d['name'], 'count': len(d['transactions'])}\n",
    "\n",
    "# map: apply a function to each element\n",
    "(js.filter(lambda record: record['name'] == 'Alice')\n",
    "   .map(count_transactions)\n",
    "   .take(5))"
   ]
  },
  {
   "cell_type": "code",
   "execution_count": 12,
   "metadata": {},
   "outputs": [
    {
     "data": {
      "text/plain": [
       "(26, 5, 71, 13, 71)"
      ]
     },
     "execution_count": 12,
     "metadata": {},
     "output_type": "execute_result"
    }
   ],
   "source": [
    "# pluck: select a field, as from a dictionary, element[field]\n",
    "(js.filter(lambda record: record['name'] == 'Alice')\n",
    "   .map(count_transactions)\n",
    "   .pluck('count')\n",
    "   .take(5))"
   ]
  },
  {
   "cell_type": "code",
   "execution_count": 13,
   "metadata": {},
   "outputs": [
    {
     "data": {
      "text/plain": [
       "68.35368956743002"
      ]
     },
     "execution_count": 13,
     "metadata": {},
     "output_type": "execute_result"
    }
   ],
   "source": [
    "# Average number of transactions for all of the Alice entries\n",
    "(js.filter(lambda record: record['name'] == 'Alice')\n",
    "   .map(count_transactions)\n",
    "   .pluck('count')\n",
    "   .mean()\n",
    "   .compute())"
   ]
  },
  {
   "cell_type": "markdown",
   "metadata": {},
   "source": [
    "### Use `flatten` to de-nest"
   ]
  },
  {
   "cell_type": "markdown",
   "metadata": {},
   "source": [
    "In the example below we see the use of `.flatten()` to flatten results.  We compute the average amount for all transactions for all Alices."
   ]
  },
  {
   "cell_type": "code",
   "execution_count": 14,
   "metadata": {},
   "outputs": [
    {
     "data": {
      "text/plain": [
       "([{'transaction-id': 768, 'amount': 1828},\n",
       "  {'transaction-id': 1013, 'amount': 1919},\n",
       "  {'transaction-id': 1088, 'amount': 1673},\n",
       "  {'transaction-id': 1232, 'amount': 1751},\n",
       "  {'transaction-id': 1669, 'amount': 1775},\n",
       "  {'transaction-id': 1900, 'amount': 1945},\n",
       "  {'transaction-id': 2241, 'amount': 1750},\n",
       "  {'transaction-id': 2543, 'amount': 1817},\n",
       "  {'transaction-id': 2819, 'amount': 1727},\n",
       "  {'transaction-id': 3013, 'amount': 1816},\n",
       "  {'transaction-id': 3428, 'amount': 1891},\n",
       "  {'transaction-id': 3632, 'amount': 1857},\n",
       "  {'transaction-id': 3802, 'amount': 1814},\n",
       "  {'transaction-id': 4617, 'amount': 1818},\n",
       "  {'transaction-id': 4965, 'amount': 1781},\n",
       "  {'transaction-id': 6895, 'amount': 1753},\n",
       "  {'transaction-id': 6964, 'amount': 1809},\n",
       "  {'transaction-id': 7699, 'amount': 1801},\n",
       "  {'transaction-id': 7764, 'amount': 1747},\n",
       "  {'transaction-id': 7985, 'amount': 1933},\n",
       "  {'transaction-id': 8509, 'amount': 1915},\n",
       "  {'transaction-id': 8732, 'amount': 1855},\n",
       "  {'transaction-id': 8840, 'amount': 1853},\n",
       "  {'transaction-id': 8905, 'amount': 1745},\n",
       "  {'transaction-id': 9298, 'amount': 1858},\n",
       "  {'transaction-id': 9428, 'amount': 1715}],\n",
       " [{'transaction-id': 1092, 'amount': -1299},\n",
       "  {'transaction-id': 3102, 'amount': -780},\n",
       "  {'transaction-id': 3204, 'amount': -1099},\n",
       "  {'transaction-id': 4022, 'amount': -984},\n",
       "  {'transaction-id': 6536, 'amount': -1323}],\n",
       " [{'transaction-id': 170, 'amount': 603},\n",
       "  {'transaction-id': 186, 'amount': 575},\n",
       "  {'transaction-id': 191, 'amount': 546},\n",
       "  {'transaction-id': 313, 'amount': 534},\n",
       "  {'transaction-id': 352, 'amount': 664},\n",
       "  {'transaction-id': 380, 'amount': 623},\n",
       "  {'transaction-id': 442, 'amount': 639},\n",
       "  {'transaction-id': 468, 'amount': 555},\n",
       "  {'transaction-id': 590, 'amount': 611},\n",
       "  {'transaction-id': 605, 'amount': 612},\n",
       "  {'transaction-id': 709, 'amount': 565},\n",
       "  {'transaction-id': 940, 'amount': 587},\n",
       "  {'transaction-id': 953, 'amount': 693},\n",
       "  {'transaction-id': 1019, 'amount': 590},\n",
       "  {'transaction-id': 1058, 'amount': 665},\n",
       "  {'transaction-id': 1102, 'amount': 576},\n",
       "  {'transaction-id': 1187, 'amount': 760},\n",
       "  {'transaction-id': 1362, 'amount': 707},\n",
       "  {'transaction-id': 1396, 'amount': 529},\n",
       "  {'transaction-id': 1668, 'amount': 563},\n",
       "  {'transaction-id': 1702, 'amount': 606},\n",
       "  {'transaction-id': 2029, 'amount': 661},\n",
       "  {'transaction-id': 2209, 'amount': 618},\n",
       "  {'transaction-id': 2758, 'amount': 467},\n",
       "  {'transaction-id': 2790, 'amount': 501},\n",
       "  {'transaction-id': 2823, 'amount': 555},\n",
       "  {'transaction-id': 2908, 'amount': 602},\n",
       "  {'transaction-id': 3435, 'amount': 661},\n",
       "  {'transaction-id': 3443, 'amount': 638},\n",
       "  {'transaction-id': 3477, 'amount': 497},\n",
       "  {'transaction-id': 3580, 'amount': 620},\n",
       "  {'transaction-id': 3816, 'amount': 629},\n",
       "  {'transaction-id': 4215, 'amount': 674},\n",
       "  {'transaction-id': 4302, 'amount': 599},\n",
       "  {'transaction-id': 4496, 'amount': 553},\n",
       "  {'transaction-id': 4544, 'amount': 577},\n",
       "  {'transaction-id': 4640, 'amount': 596},\n",
       "  {'transaction-id': 4681, 'amount': 598},\n",
       "  {'transaction-id': 4845, 'amount': 588},\n",
       "  {'transaction-id': 5039, 'amount': 553},\n",
       "  {'transaction-id': 5101, 'amount': 598},\n",
       "  {'transaction-id': 5139, 'amount': 626},\n",
       "  {'transaction-id': 5195, 'amount': 619},\n",
       "  {'transaction-id': 5574, 'amount': 571},\n",
       "  {'transaction-id': 5588, 'amount': 618},\n",
       "  {'transaction-id': 5669, 'amount': 568},\n",
       "  {'transaction-id': 5768, 'amount': 572},\n",
       "  {'transaction-id': 5945, 'amount': 658},\n",
       "  {'transaction-id': 6394, 'amount': 658},\n",
       "  {'transaction-id': 6449, 'amount': 559},\n",
       "  {'transaction-id': 6551, 'amount': 625},\n",
       "  {'transaction-id': 6871, 'amount': 689},\n",
       "  {'transaction-id': 6974, 'amount': 546},\n",
       "  {'transaction-id': 7062, 'amount': 515},\n",
       "  {'transaction-id': 7096, 'amount': 545},\n",
       "  {'transaction-id': 7305, 'amount': 630},\n",
       "  {'transaction-id': 7329, 'amount': 596},\n",
       "  {'transaction-id': 7646, 'amount': 597},\n",
       "  {'transaction-id': 7933, 'amount': 640},\n",
       "  {'transaction-id': 8129, 'amount': 594},\n",
       "  {'transaction-id': 8358, 'amount': 574},\n",
       "  {'transaction-id': 8618, 'amount': 410},\n",
       "  {'transaction-id': 8825, 'amount': 570},\n",
       "  {'transaction-id': 8916, 'amount': 562},\n",
       "  {'transaction-id': 9230, 'amount': 542},\n",
       "  {'transaction-id': 9419, 'amount': 698},\n",
       "  {'transaction-id': 9590, 'amount': 644},\n",
       "  {'transaction-id': 9731, 'amount': 521},\n",
       "  {'transaction-id': 9798, 'amount': 680},\n",
       "  {'transaction-id': 9880, 'amount': 591},\n",
       "  {'transaction-id': 9984, 'amount': 511}])"
      ]
     },
     "execution_count": 14,
     "metadata": {},
     "output_type": "execute_result"
    }
   ],
   "source": [
    "js.filter(lambda record: record['name'] == 'Alice').pluck('transactions').take(3)"
   ]
  },
  {
   "cell_type": "code",
   "execution_count": 15,
   "metadata": {},
   "outputs": [
    {
     "data": {
      "text/plain": [
       "({'transaction-id': 768, 'amount': 1828},\n",
       " {'transaction-id': 1013, 'amount': 1919},\n",
       " {'transaction-id': 1088, 'amount': 1673})"
      ]
     },
     "execution_count": 15,
     "metadata": {},
     "output_type": "execute_result"
    }
   ],
   "source": [
    "(js.filter(lambda record: record['name'] == 'Alice')\n",
    "   .pluck('transactions')\n",
    "   .flatten()\n",
    "   .take(3))"
   ]
  },
  {
   "cell_type": "code",
   "execution_count": 16,
   "metadata": {},
   "outputs": [
    {
     "data": {
      "text/plain": [
       "(1828, 1919, 1673)"
      ]
     },
     "execution_count": 16,
     "metadata": {},
     "output_type": "execute_result"
    }
   ],
   "source": [
    "(js.filter(lambda record: record['name'] == 'Alice')\n",
    "   .pluck('transactions')\n",
    "   .flatten()\n",
    "   .pluck('amount')\n",
    "   .take(3))"
   ]
  },
  {
   "cell_type": "code",
   "execution_count": 17,
   "metadata": {},
   "outputs": [
    {
     "data": {
      "text/plain": [
       "1119.7633920262072"
      ]
     },
     "execution_count": 17,
     "metadata": {},
     "output_type": "execute_result"
    }
   ],
   "source": [
    "(js.filter(lambda record: record['name'] == 'Alice')\n",
    "   .pluck('transactions')\n",
    "   .flatten()\n",
    "   .pluck('amount')\n",
    "   .mean()\n",
    "   .compute())"
   ]
  },
  {
   "cell_type": "markdown",
   "metadata": {},
   "source": [
    "### Groupby and Foldby"
   ]
  },
  {
   "cell_type": "markdown",
   "metadata": {},
   "source": [
    "Often we want to group data by some function or key.  We can do this either with the `.groupby` method, which is straightforward but forces a full shuffle of the data (expensive) or with the harder-to-use but faster `.foldby` method, which does a streaming combined groupby and reduction.\n",
    "\n",
    "*  `groupby`:  Shuffles data so that all items with the same key are in the same key-value pair\n",
    "*  `foldby`:  Walks through the data accumulating a result per key\n",
    "\n",
    "*Note: the full groupby is particularly bad. In actual workloads you would do well to use `foldby` or switch to `DataFrame`s if possible.*"
   ]
  },
  {
   "cell_type": "markdown",
   "metadata": {},
   "source": [
    "### `groupby`"
   ]
  },
  {
   "cell_type": "markdown",
   "metadata": {},
   "source": [
    "Groupby collects items in your collection so that all items with the same value under some function are collected together into a key-value pair."
   ]
  },
  {
   "cell_type": "code",
   "execution_count": 18,
   "metadata": {},
   "outputs": [
    {
     "data": {
      "text/plain": [
       "[(7, ['Charlie']), (3, ['Bob', 'Dan']), (5, ['Alice', 'Edith', 'Frank'])]"
      ]
     },
     "execution_count": 18,
     "metadata": {},
     "output_type": "execute_result"
    }
   ],
   "source": [
    "b = db.from_sequence(['Alice', 'Bob', 'Charlie', 'Dan', 'Edith', 'Frank'])\n",
    "b.groupby(len).compute()  # names grouped by length"
   ]
  },
  {
   "cell_type": "code",
   "execution_count": 19,
   "metadata": {},
   "outputs": [
    {
     "data": {
      "text/plain": [
       "[(0, [0, 2, 4, 6, 8]), (1, [1, 3, 5, 7, 9])]"
      ]
     },
     "execution_count": 19,
     "metadata": {},
     "output_type": "execute_result"
    }
   ],
   "source": [
    "b = db.from_sequence(list(range(10)))\n",
    "b.groupby(lambda x: x % 2).compute()"
   ]
  },
  {
   "cell_type": "code",
   "execution_count": 20,
   "metadata": {},
   "outputs": [
    {
     "data": {
      "text/plain": [
       "[(0, 8), (1, 9)]"
      ]
     },
     "execution_count": 20,
     "metadata": {},
     "output_type": "execute_result"
    }
   ],
   "source": [
    "b.groupby(lambda x: x % 2).starmap(lambda k, v: (k, max(v))).compute()"
   ]
  },
  {
   "cell_type": "markdown",
   "metadata": {},
   "source": [
    "### `foldby`"
   ]
  },
  {
   "cell_type": "markdown",
   "metadata": {},
   "source": [
    "Foldby can be quite odd at first.  It is similar to the following functions from other libraries:\n",
    "\n",
    "*  [`toolz.reduceby`](http://toolz.readthedocs.io/en/latest/streaming-analytics.html#streaming-split-apply-combine)\n",
    "*  [`pyspark.RDD.combineByKey`](http://abshinn.github.io/python/apache-spark/2014/10/11/using-combinebykey-in-apache-spark/)\n",
    "\n",
    "When using `foldby` you provide \n",
    "\n",
    "1.  A key function on which to group elements\n",
    "2.  A binary operator such as you would pass to `reduce` that you use to perform reduction per each group\n",
    "3.  A combine binary operator that can combine the results of two `reduce` calls on different parts of your dataset.\n",
    "\n",
    "Your reduction must be associative.  It will happen in parallel in each of the partitions of your dataset.  Then all of these intermediate results will be combined by the `combine` binary operator."
   ]
  },
  {
   "cell_type": "code",
   "execution_count": 21,
   "metadata": {},
   "outputs": [
    {
     "data": {
      "text/plain": [
       "[(0, 8), (1, 9)]"
      ]
     },
     "execution_count": 21,
     "metadata": {},
     "output_type": "execute_result"
    }
   ],
   "source": [
    "is_even = lambda x: x % 2\n",
    "b.foldby(is_even, binop=max, combine=max).compute()"
   ]
  },
  {
   "cell_type": "markdown",
   "metadata": {},
   "source": [
    "### Example with account data"
   ]
  },
  {
   "cell_type": "markdown",
   "metadata": {},
   "source": [
    "We find the number of people with the same name."
   ]
  },
  {
   "cell_type": "code",
   "execution_count": 22,
   "metadata": {},
   "outputs": [
    {
     "name": "stdout",
     "output_type": "stream",
     "text": [
      "[('Alice', 86), ('Alice', 93), ('Alice', 103), ('Alice', 111), ('Bob', 110), ('Bob', 120), ('Bob', 129), ('Bob', 140), ('Charlie', 64), ('Charlie', 72), ('Charlie', 77), ('Charlie', 83), ('Dan', 107), ('Dan', 138), ('Dan', 244), ('Edith', 77), ('Edith', 84), ('Edith', 91), ('Edith', 98), ('Frank', 130), ('Frank', 142), ('Frank', 152), ('Frank', 167), ('George', 110), ('George', 120), ('George', 269), ('Hannah', 152), ('Hannah', 164), ('Hannah', 179), ('Hannah', 191), ('Ingrid', 139), ('Ingrid', 155), ('Ingrid', 163), ('Ingrid', 176), ('Jerry', 87), ('Jerry', 95), ('Jerry', 101), ('Jerry', 109), ('Kevin', 110), ('Kevin', 120), ('Kevin', 130), ('Kevin', 140), ('Laura', 102), ('Laura', 114), ('Laura', 124), ('Laura', 133), ('Michael', 168), ('Michael', 185), ('Michael', 197), ('Michael', 217), ('Norbert', 121), ('Norbert', 132), ('Norbert', 143), ('Norbert', 153), ('Oliver', 108), ('Oliver', 120), ('Oliver', 130), ('Oliver', 140), ('Patricia', 88), ('Patricia', 96), ('Patricia', 104), ('Patricia', 112), ('Quinn', 153), ('Quinn', 194), ('Quinn', 349), ('Ray', 33), ('Ray', 36), ('Ray', 39), ('Ray', 42), ('Sarah', 44), ('Sarah', 48), ('Sarah', 52), ('Sarah', 56), ('Tim', 132), ('Tim', 144), ('Tim', 156), ('Tim', 168), ('Ursula', 152), ('Ursula', 167), ('Ursula', 180), ('Ursula', 194), ('Victor', 55), ('Victor', 60), ('Victor', 64), ('Victor', 70), ('Wendy', 77), ('Wendy', 84), ('Wendy', 91), ('Wendy', 98), ('Xavier', 88), ('Xavier', 96), ('Xavier', 104), ('Xavier', 112), ('Yvonne', 132), ('Yvonne', 144), ('Yvonne', 156), ('Yvonne', 168), ('Zelda', 88), ('Zelda', 96), ('Zelda', 104), ('Zelda', 112)]\n",
      "CPU times: user 6.01 s, sys: 507 ms, total: 6.52 s\n",
      "Wall time: 1min 24s\n"
     ]
    }
   ],
   "source": [
    "%%time\n",
    "# Warning, this one takes a while...\n",
    "result = js.groupby(lambda item: item['name']).starmap(lambda k, v: (k, len(v))).compute()\n",
    "print(sorted(result))"
   ]
  },
  {
   "cell_type": "code",
   "execution_count": 23,
   "metadata": {},
   "outputs": [
    {
     "name": "stdout",
     "output_type": "stream",
     "text": [
      "[('Alice', 393), ('Bob', 499), ('Charlie', 296), ('Dan', 489), ('Edith', 350), ('Frank', 591), ('George', 499), ('Hannah', 686), ('Ingrid', 633), ('Jerry', 392), ('Kevin', 500), ('Laura', 473), ('Michael', 767), ('Norbert', 549), ('Oliver', 498), ('Patricia', 400), ('Quinn', 696), ('Ray', 150), ('Sarah', 200), ('Tim', 600), ('Ursula', 693), ('Victor', 249), ('Wendy', 350), ('Xavier', 400), ('Yvonne', 600), ('Zelda', 400)]\n",
      "CPU times: user 162 ms, sys: 7.84 ms, total: 170 ms\n",
      "Wall time: 625 ms\n"
     ]
    }
   ],
   "source": [
    "%%time\n",
    "# This one is comparatively fast and produces the same result.\n",
    "from operator import add\n",
    "def incr(tot, _):\n",
    "    return tot+1\n",
    "\n",
    "result = js.foldby(key='name', \n",
    "                   binop=incr, \n",
    "                   initial=0, \n",
    "                   combine=add, \n",
    "                   combine_initial=0).compute()\n",
    "print(sorted(result))"
   ]
  },
  {
   "cell_type": "markdown",
   "metadata": {},
   "source": [
    "### Exercise: compute total amount per name"
   ]
  },
  {
   "cell_type": "markdown",
   "metadata": {},
   "source": [
    "We want to groupby (or foldby) the `name` key, then add up the all of the amounts for each name.\n",
    "\n",
    "Steps\n",
    "\n",
    "1.  Create a small function that, given a dictionary like \n",
    "\n",
    "        {'name': 'Alice', 'transactions': [{'amount': 1, 'id': 123}, {'amount': 2, 'id': 456}]}\n",
    "        \n",
    "    produces the sum of the amounts, e.g. `3`\n",
    "    \n",
    "2.  Slightly change the binary operator of the `foldby` example above so that the binary operator doesn't count the number of entries, but instead accumulates the sum of the amounts."
   ]
  },
  {
   "cell_type": "code",
   "execution_count": 24,
   "metadata": {},
   "outputs": [],
   "source": [
    "# Your code here..."
   ]
  },
  {
   "cell_type": "markdown",
   "metadata": {},
   "source": [
    "## DataFrames"
   ]
  },
  {
   "cell_type": "markdown",
   "metadata": {},
   "source": [
    "For the same reasons that Pandas is often faster than pure Python, `dask.dataframe` can be faster than `dask.bag`.  We will work more with DataFrames later, but from for the bag point of view, they are frequently the end-point of the \"messy\" part of data ingestion—once the data can be made into a data-frame, then complex split-apply-combine logic will become much more straight-forward and efficient.\n",
    "\n",
    "You can transform a bag with a simple tuple or flat dictionary structure into a `dask.dataframe` with the `to_dataframe` method."
   ]
  },
  {
   "cell_type": "code",
   "execution_count": 25,
   "metadata": {},
   "outputs": [
    {
     "data": {
      "text/html": [
       "<div>\n",
       "<style scoped>\n",
       "    .dataframe tbody tr th:only-of-type {\n",
       "        vertical-align: middle;\n",
       "    }\n",
       "\n",
       "    .dataframe tbody tr th {\n",
       "        vertical-align: top;\n",
       "    }\n",
       "\n",
       "    .dataframe thead th {\n",
       "        text-align: right;\n",
       "    }\n",
       "</style>\n",
       "<table border=\"1\" class=\"dataframe\">\n",
       "  <thead>\n",
       "    <tr style=\"text-align: right;\">\n",
       "      <th></th>\n",
       "      <th>id</th>\n",
       "      <th>name</th>\n",
       "      <th>transactions</th>\n",
       "    </tr>\n",
       "  </thead>\n",
       "  <tbody>\n",
       "    <tr>\n",
       "      <th>0</th>\n",
       "      <td>0</td>\n",
       "      <td>Michael</td>\n",
       "      <td>[{'transaction-id': 759, 'amount': 286}, {'tra...</td>\n",
       "    </tr>\n",
       "    <tr>\n",
       "      <th>1</th>\n",
       "      <td>1</td>\n",
       "      <td>Jerry</td>\n",
       "      <td>[{'transaction-id': 166, 'amount': 22}, {'tran...</td>\n",
       "    </tr>\n",
       "    <tr>\n",
       "      <th>2</th>\n",
       "      <td>2</td>\n",
       "      <td>Dan</td>\n",
       "      <td>[{'transaction-id': 573, 'amount': -1086}, {'t...</td>\n",
       "    </tr>\n",
       "    <tr>\n",
       "      <th>3</th>\n",
       "      <td>3</td>\n",
       "      <td>Kevin</td>\n",
       "      <td>[{'transaction-id': 203, 'amount': 22}, {'tran...</td>\n",
       "    </tr>\n",
       "    <tr>\n",
       "      <th>4</th>\n",
       "      <td>4</td>\n",
       "      <td>Hannah</td>\n",
       "      <td>[{'transaction-id': 65, 'amount': 474}, {'tran...</td>\n",
       "    </tr>\n",
       "  </tbody>\n",
       "</table>\n",
       "</div>"
      ],
      "text/plain": [
       "   id     name                                       transactions\n",
       "0   0  Michael  [{'transaction-id': 759, 'amount': 286}, {'tra...\n",
       "1   1    Jerry  [{'transaction-id': 166, 'amount': 22}, {'tran...\n",
       "2   2      Dan  [{'transaction-id': 573, 'amount': -1086}, {'t...\n",
       "3   3    Kevin  [{'transaction-id': 203, 'amount': 22}, {'tran...\n",
       "4   4   Hannah  [{'transaction-id': 65, 'amount': 474}, {'tran..."
      ]
     },
     "execution_count": 25,
     "metadata": {},
     "output_type": "execute_result"
    }
   ],
   "source": [
    "df1 = js.to_dataframe()\n",
    "df1.head()"
   ]
  },
  {
   "cell_type": "markdown",
   "metadata": {},
   "source": [
    "This now looks like a well-defined DataFrame, and we can apply Pandas-like computations to it efficiently."
   ]
  },
  {
   "cell_type": "markdown",
   "metadata": {},
   "source": [
    "Using a Dask DataFrame, how long does it take to do our prior computation of numbers of people with the same name?  It turns out that `dask.dataframe.groupby()` beats `dask.bag.groupby()` more than an order of magnitude; but it still cannot match `dask.bag.foldby()` for this case."
   ]
  },
  {
   "cell_type": "code",
   "execution_count": 26,
   "metadata": {},
   "outputs": [
    {
     "name": "stdout",
     "output_type": "stream",
     "text": [
      "CPU times: user 265 ms, sys: 8.26 ms, total: 273 ms\n",
      "Wall time: 1.87 s\n"
     ]
    },
    {
     "data": {
      "text/plain": [
       "name\n",
       "Alice      393\n",
       "Bob        499\n",
       "Charlie    296\n",
       "Dan        489\n",
       "Edith      350\n",
       "Name: id, dtype: int64"
      ]
     },
     "execution_count": 26,
     "metadata": {},
     "output_type": "execute_result"
    }
   ],
   "source": [
    "%time df1.groupby('name').id.count().compute().head()"
   ]
  },
  {
   "cell_type": "markdown",
   "metadata": {},
   "source": [
    "### Denormalization"
   ]
  },
  {
   "cell_type": "markdown",
   "metadata": {},
   "source": [
    "This DataFrame format is less-than-optimal because the `transactions` column is filled with nested data so Pandas has to revert to `object` dtype, which is quite slow in Pandas.  Ideally we want to transform to a dataframe only after we have flattened our data so that each record is a single `int`, `string`, `float`, etc.."
   ]
  },
  {
   "cell_type": "code",
   "execution_count": 27,
   "metadata": {},
   "outputs": [
    {
     "data": {
      "text/plain": [
       "({'id': 0, 'name': 'Michael', 'amount': 286, 'transaction-id': 759},\n",
       " {'id': 0, 'name': 'Michael', 'amount': 257, 'transaction-id': 1791},\n",
       " {'id': 0, 'name': 'Michael', 'amount': 252, 'transaction-id': 2296})"
      ]
     },
     "execution_count": 27,
     "metadata": {},
     "output_type": "execute_result"
    }
   ],
   "source": [
    "def denormalize(record):\n",
    "    # returns a list for every nested item, each transaction of each person\n",
    "    return [{'id': record['id'], \n",
    "             'name': record['name'], \n",
    "             'amount': transaction['amount'], \n",
    "             'transaction-id': transaction['transaction-id']}\n",
    "            for transaction in record['transactions']]\n",
    "\n",
    "transactions = js.map(denormalize).flatten()\n",
    "transactions.take(3)"
   ]
  },
  {
   "cell_type": "code",
   "execution_count": 28,
   "metadata": {},
   "outputs": [
    {
     "data": {
      "text/html": [
       "<div>\n",
       "<style scoped>\n",
       "    .dataframe tbody tr th:only-of-type {\n",
       "        vertical-align: middle;\n",
       "    }\n",
       "\n",
       "    .dataframe tbody tr th {\n",
       "        vertical-align: top;\n",
       "    }\n",
       "\n",
       "    .dataframe thead th {\n",
       "        text-align: right;\n",
       "    }\n",
       "</style>\n",
       "<table border=\"1\" class=\"dataframe\">\n",
       "  <thead>\n",
       "    <tr style=\"text-align: right;\">\n",
       "      <th></th>\n",
       "      <th>id</th>\n",
       "      <th>name</th>\n",
       "      <th>amount</th>\n",
       "      <th>transaction-id</th>\n",
       "    </tr>\n",
       "  </thead>\n",
       "  <tbody>\n",
       "    <tr>\n",
       "      <th>0</th>\n",
       "      <td>0</td>\n",
       "      <td>Michael</td>\n",
       "      <td>286</td>\n",
       "      <td>759</td>\n",
       "    </tr>\n",
       "    <tr>\n",
       "      <th>1</th>\n",
       "      <td>0</td>\n",
       "      <td>Michael</td>\n",
       "      <td>257</td>\n",
       "      <td>1791</td>\n",
       "    </tr>\n",
       "    <tr>\n",
       "      <th>2</th>\n",
       "      <td>0</td>\n",
       "      <td>Michael</td>\n",
       "      <td>252</td>\n",
       "      <td>2296</td>\n",
       "    </tr>\n",
       "    <tr>\n",
       "      <th>3</th>\n",
       "      <td>0</td>\n",
       "      <td>Michael</td>\n",
       "      <td>236</td>\n",
       "      <td>3054</td>\n",
       "    </tr>\n",
       "    <tr>\n",
       "      <th>4</th>\n",
       "      <td>0</td>\n",
       "      <td>Michael</td>\n",
       "      <td>263</td>\n",
       "      <td>4301</td>\n",
       "    </tr>\n",
       "  </tbody>\n",
       "</table>\n",
       "</div>"
      ],
      "text/plain": [
       "   id     name  amount  transaction-id\n",
       "0   0  Michael     286             759\n",
       "1   0  Michael     257            1791\n",
       "2   0  Michael     252            2296\n",
       "3   0  Michael     236            3054\n",
       "4   0  Michael     263            4301"
      ]
     },
     "execution_count": 28,
     "metadata": {},
     "output_type": "execute_result"
    }
   ],
   "source": [
    "df = transactions.to_dataframe()\n",
    "df.head()"
   ]
  },
  {
   "cell_type": "code",
   "execution_count": 29,
   "metadata": {},
   "outputs": [
    {
     "name": "stdout",
     "output_type": "stream",
     "text": [
      "CPU times: user 254 ms, sys: 13.4 ms, total: 267 ms\n",
      "Wall time: 1.59 s\n"
     ]
    },
    {
     "data": {
      "text/plain": [
       "name\n",
       "Alice       26863\n",
       "Bob         17223\n",
       "Charlie     13838\n",
       "Dan         20982\n",
       "Edith        9193\n",
       "Frank       34827\n",
       "George      28393\n",
       "Hannah      29369\n",
       "Ingrid      18945\n",
       "Jerry       11229\n",
       "Kevin       20834\n",
       "Laura       19839\n",
       "Michael     25624\n",
       "Norbert     24978\n",
       "Oliver      17791\n",
       "Patricia    16150\n",
       "Quinn       31467\n",
       "Ray          2662\n",
       "Sarah        7711\n",
       "Tim         18038\n",
       "Ursula      25161\n",
       "Victor       5511\n",
       "Wendy       20899\n",
       "Xavier      14309\n",
       "Yvonne      24505\n",
       "Zelda       13659\n",
       "Name: transaction-id, dtype: int64"
      ]
     },
     "execution_count": 29,
     "metadata": {},
     "output_type": "execute_result"
    }
   ],
   "source": [
    "%%time\n",
    "# number of transactions per name\n",
    "# note that the time here includes the data load and ingestion\n",
    "df.groupby('name')['transaction-id'].count().compute()"
   ]
  },
  {
   "cell_type": "markdown",
   "metadata": {},
   "source": [
    "## Limitations"
   ]
  },
  {
   "cell_type": "markdown",
   "metadata": {},
   "source": [
    "Bags provide very general computation (any Python function.)  This generality\n",
    "comes at cost.  Bags have the following known limitations\n",
    "\n",
    "1.  Bag operations tend to be slower than array/dataframe computations in the\n",
    "    same way that Python tends to be slower than NumPy/Pandas\n",
    "2.  ``Bag.groupby`` is slow.  You should try to use ``Bag.foldby`` if possible.\n",
    "    Using ``Bag.foldby`` requires more thought. Even better, consider creating\n",
    "    a normalised dataframe."
   ]
  },
  {
   "cell_type": "markdown",
   "metadata": {},
   "source": [
    "## Learn More\n",
    "\n",
    "* [Bag documentation](https://docs.dask.org/en/latest/bag.html)\n",
    "* [Bag screencast](https://youtu.be/-qIiJ1XtSv0)\n",
    "* [Bag API](https://docs.dask.org/en/latest/bag-api.html)\n",
    "* [Bag examples](https://examples.dask.org/bag.html)"
   ]
  },
  {
   "cell_type": "markdown",
   "metadata": {},
   "source": [
    "## Shutdown"
   ]
  },
  {
   "cell_type": "code",
   "execution_count": 30,
   "metadata": {},
   "outputs": [],
   "source": [
    "client.shutdown()"
   ]
  },
  {
   "cell_type": "code",
   "execution_count": null,
   "metadata": {},
   "outputs": [],
   "source": []
  }
 ],
 "metadata": {
  "anaconda-cloud": {},
  "kernelspec": {
   "display_name": "Python 3",
   "language": "python",
   "name": "python3"
  },
  "language_info": {
   "codemirror_mode": {
    "name": "ipython",
    "version": 3
   },
   "file_extension": ".py",
   "mimetype": "text/x-python",
   "name": "python",
   "nbconvert_exporter": "python",
   "pygments_lexer": "ipython3",
   "version": "3.7.6"
  }
 },
 "nbformat": 4,
 "nbformat_minor": 4
}
