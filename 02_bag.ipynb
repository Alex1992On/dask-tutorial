{
 "cells": [
  {
   "cell_type": "markdown",
   "metadata": {},
   "source": [
    "<img src=\"images/dask_horizontal.svg\" align=\"right\" width=\"30%\">"
   ]
  },
  {
   "cell_type": "markdown",
   "metadata": {},
   "source": [
    "# Bag: Parallel Lists for semi-structured data"
   ]
  },
  {
   "cell_type": "markdown",
   "metadata": {},
   "source": [
    "Dask-bag excels in processing data that can be represented as a sequence of arbitrary inputs. We'll refer to this as \"messy\" data, because it can contain complex nested structures, missing fields, mixtures of data types, etc. The *functional* programming style fits very nicely with standard Python iteration, such as can be found in the `itertools` module.\n",
    "\n",
    "Messy data is often encountered at the beginning of data processing pipelines when large volumes of raw data are first consumed. The initial set of data might be JSON, CSV, XML, or any other format that does not enforce strict structure and datatypes.\n",
    "For this reason, the initial data massaging and processing is often done with Python `list`s, `dict`s, and `set`s.\n",
    "\n",
    "These core data structures are optimized for general-purpose storage and processing.  Adding streaming computation with iterators/generator expressions or libraries like `itertools` or [`toolz`](https://toolz.readthedocs.io/en/latest/) let us process large volumes in a small space.  If we combine this with parallel processing then we can churn through a fair amount of data.\n",
    "\n",
    "Dask.bag is a high level Dask collection to automate common workloads of this form.  In a nutshell\n",
    "\n",
    "    dask.bag = map, filter, toolz + parallel execution\n",
    "    \n",
    "**Related Documentation**\n",
    "\n",
    "* [Bag documentation](https://docs.dask.org/en/latest/bag.html)\n",
    "* [Bag screencast](https://youtu.be/-qIiJ1XtSv0)\n",
    "* [Bag API](https://docs.dask.org/en/latest/bag-api.html)\n",
    "* [Bag examples](https://examples.dask.org/bag.html)"
   ]
  },
  {
   "cell_type": "markdown",
   "metadata": {},
   "source": [
    "## Create data"
   ]
  },
  {
   "cell_type": "code",
   "execution_count": 1,
   "metadata": {},
   "outputs": [],
   "source": [
    "%run prep.py -d accounts"
   ]
  },
  {
   "cell_type": "markdown",
   "metadata": {},
   "source": [
    "## Setup"
   ]
  },
  {
   "cell_type": "markdown",
   "metadata": {},
   "source": [
    "Again, we'll use the distributed scheduler. Schedulers will be explained in depth [later](05_distributed.ipynb)."
   ]
  },
  {
   "cell_type": "code",
   "execution_count": 2,
   "metadata": {},
   "outputs": [],
   "source": [
    "from dask.distributed import Client\n",
    "\n",
    "client = Client(n_workers=4)"
   ]
  },
  {
   "cell_type": "markdown",
   "metadata": {},
   "source": [
    "## Creation"
   ]
  },
  {
   "cell_type": "markdown",
   "metadata": {},
   "source": [
    "You can create a `Bag` from a Python sequence, from files, from data on S3, etc.\n",
    "We demonstrate using `.take()` to show elements of the data. (Doing `.take(1)` results in a tuple with one element)\n",
    "\n",
    "Note that the data are partitioned into blocks, and there are many items per block. In the first example, the two partitions contain five elements each, and in the following two, each file is partitioned into one or more bytes blocks."
   ]
  },
  {
   "cell_type": "code",
   "execution_count": 3,
   "metadata": {},
   "outputs": [
    {
     "data": {
      "text/plain": [
       "(1, 2, 3)"
      ]
     },
     "execution_count": 3,
     "metadata": {},
     "output_type": "execute_result"
    }
   ],
   "source": [
    "# each element is an integer\n",
    "import dask.bag as db\n",
    "b = db.from_sequence([1, 2, 3, 4, 5, 6, 7, 8, 9, 10], npartitions=2)\n",
    "b.take(3)"
   ]
  },
  {
   "cell_type": "code",
   "execution_count": 4,
   "metadata": {},
   "outputs": [
    {
     "data": {
      "text/plain": [
       "('{\"id\": 0, \"name\": \"Alice\", \"transactions\": [{\"transaction-id\": 33, \"amount\": 3263}, {\"transaction-id\": 759, \"amount\": 2937}, {\"transaction-id\": 795, \"amount\": 2817}, {\"transaction-id\": 849, \"amount\": 3144}, {\"transaction-id\": 1278, \"amount\": 3441}, {\"transaction-id\": 1685, \"amount\": 3259}, {\"transaction-id\": 2006, \"amount\": 2817}, {\"transaction-id\": 2261, \"amount\": 3023}, {\"transaction-id\": 2266, \"amount\": 2916}, {\"transaction-id\": 2608, \"amount\": 2664}, {\"transaction-id\": 2660, \"amount\": 3121}, {\"transaction-id\": 2728, \"amount\": 3003}, {\"transaction-id\": 2824, \"amount\": 2864}, {\"transaction-id\": 4011, \"amount\": 2780}, {\"transaction-id\": 4509, \"amount\": 2877}, {\"transaction-id\": 4562, \"amount\": 3125}, {\"transaction-id\": 4872, \"amount\": 2975}, {\"transaction-id\": 4942, \"amount\": 2643}, {\"transaction-id\": 4975, \"amount\": 3193}, {\"transaction-id\": 5029, \"amount\": 3008}, {\"transaction-id\": 5374, \"amount\": 3261}, {\"transaction-id\": 5498, \"amount\": 2969}, {\"transaction-id\": 5522, \"amount\": 2931}, {\"transaction-id\": 5543, \"amount\": 2787}, {\"transaction-id\": 5582, \"amount\": 3034}, {\"transaction-id\": 5742, \"amount\": 2845}, {\"transaction-id\": 6047, \"amount\": 2912}, {\"transaction-id\": 6239, \"amount\": 2866}, {\"transaction-id\": 6334, \"amount\": 3203}, {\"transaction-id\": 6453, \"amount\": 2994}, {\"transaction-id\": 6592, \"amount\": 3020}, {\"transaction-id\": 6693, \"amount\": 3184}, {\"transaction-id\": 6923, \"amount\": 3221}, {\"transaction-id\": 6991, \"amount\": 2944}, {\"transaction-id\": 7228, \"amount\": 3023}, {\"transaction-id\": 7527, \"amount\": 3437}, {\"transaction-id\": 7762, \"amount\": 3037}, {\"transaction-id\": 8272, \"amount\": 2785}, {\"transaction-id\": 8489, \"amount\": 2889}, {\"transaction-id\": 8660, \"amount\": 3057}, {\"transaction-id\": 8862, \"amount\": 3124}, {\"transaction-id\": 8959, \"amount\": 2562}, {\"transaction-id\": 8977, \"amount\": 3114}, {\"transaction-id\": 9027, \"amount\": 3090}, {\"transaction-id\": 9155, \"amount\": 3194}, {\"transaction-id\": 9280, \"amount\": 2910}, {\"transaction-id\": 9643, \"amount\": 2868}, {\"transaction-id\": 9667, \"amount\": 2936}, {\"transaction-id\": 9801, \"amount\": 2841}, {\"transaction-id\": 9886, \"amount\": 2996}]}\\n',)"
      ]
     },
     "execution_count": 4,
     "metadata": {},
     "output_type": "execute_result"
    }
   ],
   "source": [
    "# each element is a text file, where each line is a JSON object\n",
    "# note that the compression is handled automatically\n",
    "import os\n",
    "b = db.read_text(os.path.join('data', 'accounts.*.json.gz'))\n",
    "b.take(1)"
   ]
  },
  {
   "cell_type": "code",
   "execution_count": 5,
   "metadata": {},
   "outputs": [
    {
     "data": {
      "text/plain": [
       "'s3://dask-data/nyc-taxi/2015/yellow_tripdata_2015-01.csv'"
      ]
     },
     "execution_count": 5,
     "metadata": {},
     "output_type": "execute_result"
    }
   ],
   "source": [
    "# Edit sources.py to configure source locations\n",
    "import sources\n",
    "sources.bag_url"
   ]
  },
  {
   "cell_type": "code",
   "execution_count": 6,
   "metadata": {},
   "outputs": [
    {
     "data": {
      "text/plain": [
       "('VendorID,tpep_pickup_datetime,tpep_dropoff_datetime,passenger_count,trip_distance,pickup_longitude,pickup_latitude,RateCodeID,store_and_fwd_flag,dropoff_longitude,dropoff_latitude,payment_type,fare_amount,extra,mta_tax,tip_amount,tolls_amount,improvement_surcharge,total_amount\\n',)"
      ]
     },
     "execution_count": 6,
     "metadata": {},
     "output_type": "execute_result"
    }
   ],
   "source": [
    "# Requires `s3fs` library\n",
    "# each partition is a remote CSV text file\n",
    "b = db.read_text(sources.bag_url,\n",
    "                 storage_options={'anon': True})\n",
    "b.take(1)"
   ]
  },
  {
   "cell_type": "markdown",
   "metadata": {},
   "source": [
    "## Manipulation"
   ]
  },
  {
   "cell_type": "markdown",
   "metadata": {},
   "source": [
    "`Bag` objects hold the standard functional API found in projects like the Python standard library, `toolz`, or `pyspark`, including `map`, `filter`, `groupby`, etc..\n",
    "\n",
    "Operations on `Bag` objects create new bags.  Call the `.compute()` method to trigger execution, as we saw for `Delayed` objects.  "
   ]
  },
  {
   "cell_type": "code",
   "execution_count": 7,
   "metadata": {},
   "outputs": [
    {
     "data": {
      "text/plain": [
       "dask.bag<lambda, npartitions=10>"
      ]
     },
     "execution_count": 7,
     "metadata": {},
     "output_type": "execute_result"
    }
   ],
   "source": [
    "def is_even(n):\n",
    "    return n % 2 == 0\n",
    "\n",
    "b = db.from_sequence([1, 2, 3, 4, 5, 6, 7, 8, 9, 10])\n",
    "c = b.filter(is_even).map(lambda x: x ** 2)\n",
    "c"
   ]
  },
  {
   "cell_type": "code",
   "execution_count": 8,
   "metadata": {},
   "outputs": [
    {
     "data": {
      "text/plain": [
       "[4, 16, 36, 64, 100]"
      ]
     },
     "execution_count": 8,
     "metadata": {},
     "output_type": "execute_result"
    }
   ],
   "source": [
    "# blocking form: wait for completion (which is very fast in this case)\n",
    "c.compute()"
   ]
  },
  {
   "cell_type": "markdown",
   "metadata": {},
   "source": [
    "### Example: Accounts JSON data"
   ]
  },
  {
   "cell_type": "markdown",
   "metadata": {},
   "source": [
    "We've created a fake dataset of gzipped JSON data in your data directory.  This is like the example used in the `DataFrame` example we will see later, except that it has bundled up all of the entires for each individual `id` into a single record.  This is similar to data that you might collect off of a document store database or a web API.\n",
    "\n",
    "Each line is a JSON encoded dictionary with the following keys\n",
    "\n",
    "*  id: Unique identifier of the customer\n",
    "*  name: Name of the customer\n",
    "*  transactions: List of `transaction-id`, `amount` pairs, one for each transaction for the customer in that file"
   ]
  },
  {
   "cell_type": "code",
   "execution_count": 9,
   "metadata": {},
   "outputs": [
    {
     "data": {
      "text/plain": [
       "('{\"id\": 0, \"name\": \"Alice\", \"transactions\": [{\"transaction-id\": 33, \"amount\": 3263}, {\"transaction-id\": 759, \"amount\": 2937}, {\"transaction-id\": 795, \"amount\": 2817}, {\"transaction-id\": 849, \"amount\": 3144}, {\"transaction-id\": 1278, \"amount\": 3441}, {\"transaction-id\": 1685, \"amount\": 3259}, {\"transaction-id\": 2006, \"amount\": 2817}, {\"transaction-id\": 2261, \"amount\": 3023}, {\"transaction-id\": 2266, \"amount\": 2916}, {\"transaction-id\": 2608, \"amount\": 2664}, {\"transaction-id\": 2660, \"amount\": 3121}, {\"transaction-id\": 2728, \"amount\": 3003}, {\"transaction-id\": 2824, \"amount\": 2864}, {\"transaction-id\": 4011, \"amount\": 2780}, {\"transaction-id\": 4509, \"amount\": 2877}, {\"transaction-id\": 4562, \"amount\": 3125}, {\"transaction-id\": 4872, \"amount\": 2975}, {\"transaction-id\": 4942, \"amount\": 2643}, {\"transaction-id\": 4975, \"amount\": 3193}, {\"transaction-id\": 5029, \"amount\": 3008}, {\"transaction-id\": 5374, \"amount\": 3261}, {\"transaction-id\": 5498, \"amount\": 2969}, {\"transaction-id\": 5522, \"amount\": 2931}, {\"transaction-id\": 5543, \"amount\": 2787}, {\"transaction-id\": 5582, \"amount\": 3034}, {\"transaction-id\": 5742, \"amount\": 2845}, {\"transaction-id\": 6047, \"amount\": 2912}, {\"transaction-id\": 6239, \"amount\": 2866}, {\"transaction-id\": 6334, \"amount\": 3203}, {\"transaction-id\": 6453, \"amount\": 2994}, {\"transaction-id\": 6592, \"amount\": 3020}, {\"transaction-id\": 6693, \"amount\": 3184}, {\"transaction-id\": 6923, \"amount\": 3221}, {\"transaction-id\": 6991, \"amount\": 2944}, {\"transaction-id\": 7228, \"amount\": 3023}, {\"transaction-id\": 7527, \"amount\": 3437}, {\"transaction-id\": 7762, \"amount\": 3037}, {\"transaction-id\": 8272, \"amount\": 2785}, {\"transaction-id\": 8489, \"amount\": 2889}, {\"transaction-id\": 8660, \"amount\": 3057}, {\"transaction-id\": 8862, \"amount\": 3124}, {\"transaction-id\": 8959, \"amount\": 2562}, {\"transaction-id\": 8977, \"amount\": 3114}, {\"transaction-id\": 9027, \"amount\": 3090}, {\"transaction-id\": 9155, \"amount\": 3194}, {\"transaction-id\": 9280, \"amount\": 2910}, {\"transaction-id\": 9643, \"amount\": 2868}, {\"transaction-id\": 9667, \"amount\": 2936}, {\"transaction-id\": 9801, \"amount\": 2841}, {\"transaction-id\": 9886, \"amount\": 2996}]}\\n',\n",
       " '{\"id\": 2, \"name\": \"Zelda\", \"transactions\": [{\"transaction-id\": 242, \"amount\": 854}, {\"transaction-id\": 774, \"amount\": 905}, {\"transaction-id\": 1209, \"amount\": 832}, {\"transaction-id\": 1344, \"amount\": 937}, {\"transaction-id\": 1385, \"amount\": 923}, {\"transaction-id\": 3670, \"amount\": 923}, {\"transaction-id\": 3794, \"amount\": 927}, {\"transaction-id\": 3922, \"amount\": 920}, {\"transaction-id\": 4208, \"amount\": 912}, {\"transaction-id\": 4230, \"amount\": 843}, {\"transaction-id\": 4534, \"amount\": 891}, {\"transaction-id\": 6133, \"amount\": 942}, {\"transaction-id\": 6836, \"amount\": 899}, {\"transaction-id\": 8384, \"amount\": 789}, {\"transaction-id\": 9884, \"amount\": 883}]}\\n',\n",
       " '{\"id\": 3, \"name\": \"George\", \"transactions\": [{\"transaction-id\": 1250, \"amount\": 35}, {\"transaction-id\": 1294, \"amount\": 41}, {\"transaction-id\": 2031, \"amount\": 35}, {\"transaction-id\": 2229, \"amount\": 22}, {\"transaction-id\": 2500, \"amount\": 35}, {\"transaction-id\": 2885, \"amount\": 32}, {\"transaction-id\": 3820, \"amount\": 30}, {\"transaction-id\": 3873, \"amount\": 51}, {\"transaction-id\": 4112, \"amount\": 24}, {\"transaction-id\": 4994, \"amount\": 25}, {\"transaction-id\": 5601, \"amount\": 41}, {\"transaction-id\": 5708, \"amount\": 42}, {\"transaction-id\": 6107, \"amount\": 38}, {\"transaction-id\": 6389, \"amount\": 27}, {\"transaction-id\": 9269, \"amount\": 28}, {\"transaction-id\": 9296, \"amount\": 19}]}\\n')"
      ]
     },
     "execution_count": 9,
     "metadata": {},
     "output_type": "execute_result"
    }
   ],
   "source": [
    "filename = os.path.join('data', 'accounts.*.json.gz')\n",
    "lines = db.read_text(filename)\n",
    "lines.take(3)"
   ]
  },
  {
   "cell_type": "markdown",
   "metadata": {},
   "source": [
    "Our data comes out of the file as lines of text. Notice that file decompression happened automatically. We can make this data look more reasonable by mapping the `json.loads` function onto our bag."
   ]
  },
  {
   "cell_type": "code",
   "execution_count": 10,
   "metadata": {},
   "outputs": [
    {
     "data": {
      "text/plain": [
       "({'id': 0,\n",
       "  'name': 'Alice',\n",
       "  'transactions': [{'transaction-id': 33, 'amount': 3263},\n",
       "   {'transaction-id': 759, 'amount': 2937},\n",
       "   {'transaction-id': 795, 'amount': 2817},\n",
       "   {'transaction-id': 849, 'amount': 3144},\n",
       "   {'transaction-id': 1278, 'amount': 3441},\n",
       "   {'transaction-id': 1685, 'amount': 3259},\n",
       "   {'transaction-id': 2006, 'amount': 2817},\n",
       "   {'transaction-id': 2261, 'amount': 3023},\n",
       "   {'transaction-id': 2266, 'amount': 2916},\n",
       "   {'transaction-id': 2608, 'amount': 2664},\n",
       "   {'transaction-id': 2660, 'amount': 3121},\n",
       "   {'transaction-id': 2728, 'amount': 3003},\n",
       "   {'transaction-id': 2824, 'amount': 2864},\n",
       "   {'transaction-id': 4011, 'amount': 2780},\n",
       "   {'transaction-id': 4509, 'amount': 2877},\n",
       "   {'transaction-id': 4562, 'amount': 3125},\n",
       "   {'transaction-id': 4872, 'amount': 2975},\n",
       "   {'transaction-id': 4942, 'amount': 2643},\n",
       "   {'transaction-id': 4975, 'amount': 3193},\n",
       "   {'transaction-id': 5029, 'amount': 3008},\n",
       "   {'transaction-id': 5374, 'amount': 3261},\n",
       "   {'transaction-id': 5498, 'amount': 2969},\n",
       "   {'transaction-id': 5522, 'amount': 2931},\n",
       "   {'transaction-id': 5543, 'amount': 2787},\n",
       "   {'transaction-id': 5582, 'amount': 3034},\n",
       "   {'transaction-id': 5742, 'amount': 2845},\n",
       "   {'transaction-id': 6047, 'amount': 2912},\n",
       "   {'transaction-id': 6239, 'amount': 2866},\n",
       "   {'transaction-id': 6334, 'amount': 3203},\n",
       "   {'transaction-id': 6453, 'amount': 2994},\n",
       "   {'transaction-id': 6592, 'amount': 3020},\n",
       "   {'transaction-id': 6693, 'amount': 3184},\n",
       "   {'transaction-id': 6923, 'amount': 3221},\n",
       "   {'transaction-id': 6991, 'amount': 2944},\n",
       "   {'transaction-id': 7228, 'amount': 3023},\n",
       "   {'transaction-id': 7527, 'amount': 3437},\n",
       "   {'transaction-id': 7762, 'amount': 3037},\n",
       "   {'transaction-id': 8272, 'amount': 2785},\n",
       "   {'transaction-id': 8489, 'amount': 2889},\n",
       "   {'transaction-id': 8660, 'amount': 3057},\n",
       "   {'transaction-id': 8862, 'amount': 3124},\n",
       "   {'transaction-id': 8959, 'amount': 2562},\n",
       "   {'transaction-id': 8977, 'amount': 3114},\n",
       "   {'transaction-id': 9027, 'amount': 3090},\n",
       "   {'transaction-id': 9155, 'amount': 3194},\n",
       "   {'transaction-id': 9280, 'amount': 2910},\n",
       "   {'transaction-id': 9643, 'amount': 2868},\n",
       "   {'transaction-id': 9667, 'amount': 2936},\n",
       "   {'transaction-id': 9801, 'amount': 2841},\n",
       "   {'transaction-id': 9886, 'amount': 2996}]},\n",
       " {'id': 2,\n",
       "  'name': 'Zelda',\n",
       "  'transactions': [{'transaction-id': 242, 'amount': 854},\n",
       "   {'transaction-id': 774, 'amount': 905},\n",
       "   {'transaction-id': 1209, 'amount': 832},\n",
       "   {'transaction-id': 1344, 'amount': 937},\n",
       "   {'transaction-id': 1385, 'amount': 923},\n",
       "   {'transaction-id': 3670, 'amount': 923},\n",
       "   {'transaction-id': 3794, 'amount': 927},\n",
       "   {'transaction-id': 3922, 'amount': 920},\n",
       "   {'transaction-id': 4208, 'amount': 912},\n",
       "   {'transaction-id': 4230, 'amount': 843},\n",
       "   {'transaction-id': 4534, 'amount': 891},\n",
       "   {'transaction-id': 6133, 'amount': 942},\n",
       "   {'transaction-id': 6836, 'amount': 899},\n",
       "   {'transaction-id': 8384, 'amount': 789},\n",
       "   {'transaction-id': 9884, 'amount': 883}]},\n",
       " {'id': 3,\n",
       "  'name': 'George',\n",
       "  'transactions': [{'transaction-id': 1250, 'amount': 35},\n",
       "   {'transaction-id': 1294, 'amount': 41},\n",
       "   {'transaction-id': 2031, 'amount': 35},\n",
       "   {'transaction-id': 2229, 'amount': 22},\n",
       "   {'transaction-id': 2500, 'amount': 35},\n",
       "   {'transaction-id': 2885, 'amount': 32},\n",
       "   {'transaction-id': 3820, 'amount': 30},\n",
       "   {'transaction-id': 3873, 'amount': 51},\n",
       "   {'transaction-id': 4112, 'amount': 24},\n",
       "   {'transaction-id': 4994, 'amount': 25},\n",
       "   {'transaction-id': 5601, 'amount': 41},\n",
       "   {'transaction-id': 5708, 'amount': 42},\n",
       "   {'transaction-id': 6107, 'amount': 38},\n",
       "   {'transaction-id': 6389, 'amount': 27},\n",
       "   {'transaction-id': 9269, 'amount': 28},\n",
       "   {'transaction-id': 9296, 'amount': 19}]})"
      ]
     },
     "execution_count": 10,
     "metadata": {},
     "output_type": "execute_result"
    }
   ],
   "source": [
    "import json\n",
    "js = lines.map(json.loads)\n",
    "# take: inspect first few elements\n",
    "js.take(3)"
   ]
  },
  {
   "cell_type": "markdown",
   "metadata": {},
   "source": [
    "### Basic Queries"
   ]
  },
  {
   "cell_type": "markdown",
   "metadata": {},
   "source": [
    "Once we parse our JSON data into proper Python objects (`dict`s, `list`s, etc.) we can perform more interesting queries by creating small Python functions to run on our data."
   ]
  },
  {
   "cell_type": "code",
   "execution_count": 11,
   "metadata": {},
   "outputs": [
    {
     "data": {
      "text/plain": [
       "({'id': 0,\n",
       "  'name': 'Alice',\n",
       "  'transactions': [{'transaction-id': 33, 'amount': 3263},\n",
       "   {'transaction-id': 759, 'amount': 2937},\n",
       "   {'transaction-id': 795, 'amount': 2817},\n",
       "   {'transaction-id': 849, 'amount': 3144},\n",
       "   {'transaction-id': 1278, 'amount': 3441},\n",
       "   {'transaction-id': 1685, 'amount': 3259},\n",
       "   {'transaction-id': 2006, 'amount': 2817},\n",
       "   {'transaction-id': 2261, 'amount': 3023},\n",
       "   {'transaction-id': 2266, 'amount': 2916},\n",
       "   {'transaction-id': 2608, 'amount': 2664},\n",
       "   {'transaction-id': 2660, 'amount': 3121},\n",
       "   {'transaction-id': 2728, 'amount': 3003},\n",
       "   {'transaction-id': 2824, 'amount': 2864},\n",
       "   {'transaction-id': 4011, 'amount': 2780},\n",
       "   {'transaction-id': 4509, 'amount': 2877},\n",
       "   {'transaction-id': 4562, 'amount': 3125},\n",
       "   {'transaction-id': 4872, 'amount': 2975},\n",
       "   {'transaction-id': 4942, 'amount': 2643},\n",
       "   {'transaction-id': 4975, 'amount': 3193},\n",
       "   {'transaction-id': 5029, 'amount': 3008},\n",
       "   {'transaction-id': 5374, 'amount': 3261},\n",
       "   {'transaction-id': 5498, 'amount': 2969},\n",
       "   {'transaction-id': 5522, 'amount': 2931},\n",
       "   {'transaction-id': 5543, 'amount': 2787},\n",
       "   {'transaction-id': 5582, 'amount': 3034},\n",
       "   {'transaction-id': 5742, 'amount': 2845},\n",
       "   {'transaction-id': 6047, 'amount': 2912},\n",
       "   {'transaction-id': 6239, 'amount': 2866},\n",
       "   {'transaction-id': 6334, 'amount': 3203},\n",
       "   {'transaction-id': 6453, 'amount': 2994},\n",
       "   {'transaction-id': 6592, 'amount': 3020},\n",
       "   {'transaction-id': 6693, 'amount': 3184},\n",
       "   {'transaction-id': 6923, 'amount': 3221},\n",
       "   {'transaction-id': 6991, 'amount': 2944},\n",
       "   {'transaction-id': 7228, 'amount': 3023},\n",
       "   {'transaction-id': 7527, 'amount': 3437},\n",
       "   {'transaction-id': 7762, 'amount': 3037},\n",
       "   {'transaction-id': 8272, 'amount': 2785},\n",
       "   {'transaction-id': 8489, 'amount': 2889},\n",
       "   {'transaction-id': 8660, 'amount': 3057},\n",
       "   {'transaction-id': 8862, 'amount': 3124},\n",
       "   {'transaction-id': 8959, 'amount': 2562},\n",
       "   {'transaction-id': 8977, 'amount': 3114},\n",
       "   {'transaction-id': 9027, 'amount': 3090},\n",
       "   {'transaction-id': 9155, 'amount': 3194},\n",
       "   {'transaction-id': 9280, 'amount': 2910},\n",
       "   {'transaction-id': 9643, 'amount': 2868},\n",
       "   {'transaction-id': 9667, 'amount': 2936},\n",
       "   {'transaction-id': 9801, 'amount': 2841},\n",
       "   {'transaction-id': 9886, 'amount': 2996}]},\n",
       " {'id': 71,\n",
       "  'name': 'Alice',\n",
       "  'transactions': [{'transaction-id': 685, 'amount': 1472},\n",
       "   {'transaction-id': 5718, 'amount': 1052},\n",
       "   {'transaction-id': 6012, 'amount': 1330},\n",
       "   {'transaction-id': 8296, 'amount': 1080},\n",
       "   {'transaction-id': 8682, 'amount': 1452}]},\n",
       " {'id': 115,\n",
       "  'name': 'Alice',\n",
       "  'transactions': [{'transaction-id': 655, 'amount': -956},\n",
       "   {'transaction-id': 1049, 'amount': -1061},\n",
       "   {'transaction-id': 1343, 'amount': -1033},\n",
       "   {'transaction-id': 1623, 'amount': -1024},\n",
       "   {'transaction-id': 2635, 'amount': -1054},\n",
       "   {'transaction-id': 3291, 'amount': -960},\n",
       "   {'transaction-id': 3412, 'amount': -988},\n",
       "   {'transaction-id': 3770, 'amount': -1012},\n",
       "   {'transaction-id': 4288, 'amount': -1008},\n",
       "   {'transaction-id': 4789, 'amount': -1055},\n",
       "   {'transaction-id': 5048, 'amount': -1080},\n",
       "   {'transaction-id': 5302, 'amount': -1051},\n",
       "   {'transaction-id': 5541, 'amount': -965},\n",
       "   {'transaction-id': 5808, 'amount': -1074},\n",
       "   {'transaction-id': 5963, 'amount': -993},\n",
       "   {'transaction-id': 6045, 'amount': -1005},\n",
       "   {'transaction-id': 6122, 'amount': -999},\n",
       "   {'transaction-id': 6248, 'amount': -1028},\n",
       "   {'transaction-id': 6302, 'amount': -946},\n",
       "   {'transaction-id': 6904, 'amount': -933},\n",
       "   {'transaction-id': 7726, 'amount': -1058},\n",
       "   {'transaction-id': 7951, 'amount': -1061},\n",
       "   {'transaction-id': 8491, 'amount': -1085},\n",
       "   {'transaction-id': 8629, 'amount': -1021},\n",
       "   {'transaction-id': 8638, 'amount': -969},\n",
       "   {'transaction-id': 8721, 'amount': -1125},\n",
       "   {'transaction-id': 9407, 'amount': -1075},\n",
       "   {'transaction-id': 9436, 'amount': -982},\n",
       "   {'transaction-id': 9688, 'amount': -1007},\n",
       "   {'transaction-id': 9938, 'amount': -925}]},\n",
       " {'id': 118,\n",
       "  'name': 'Alice',\n",
       "  'transactions': [{'transaction-id': 223, 'amount': 218},\n",
       "   {'transaction-id': 1508, 'amount': 202},\n",
       "   {'transaction-id': 2167, 'amount': 226},\n",
       "   {'transaction-id': 2454, 'amount': 217},\n",
       "   {'transaction-id': 4142, 'amount': 220},\n",
       "   {'transaction-id': 4307, 'amount': 217},\n",
       "   {'transaction-id': 4989, 'amount': 204},\n",
       "   {'transaction-id': 5632, 'amount': 208},\n",
       "   {'transaction-id': 5769, 'amount': 200},\n",
       "   {'transaction-id': 7485, 'amount': 211},\n",
       "   {'transaction-id': 7959, 'amount': 215},\n",
       "   {'transaction-id': 8856, 'amount': 214},\n",
       "   {'transaction-id': 9012, 'amount': 182},\n",
       "   {'transaction-id': 9105, 'amount': 207},\n",
       "   {'transaction-id': 9489, 'amount': 214},\n",
       "   {'transaction-id': 9741, 'amount': 221},\n",
       "   {'transaction-id': 9808, 'amount': 210}]},\n",
       " {'id': 119,\n",
       "  'name': 'Alice',\n",
       "  'transactions': [{'transaction-id': 127, 'amount': 33},\n",
       "   {'transaction-id': 186, 'amount': 25},\n",
       "   {'transaction-id': 568, 'amount': 35},\n",
       "   {'transaction-id': 1057, 'amount': 33},\n",
       "   {'transaction-id': 2540, 'amount': 33},\n",
       "   {'transaction-id': 3511, 'amount': 29},\n",
       "   {'transaction-id': 3974, 'amount': 32},\n",
       "   {'transaction-id': 4397, 'amount': 34},\n",
       "   {'transaction-id': 4863, 'amount': 32},\n",
       "   {'transaction-id': 4960, 'amount': 31},\n",
       "   {'transaction-id': 5726, 'amount': 34},\n",
       "   {'transaction-id': 6134, 'amount': 30},\n",
       "   {'transaction-id': 6200, 'amount': 33},\n",
       "   {'transaction-id': 6460, 'amount': 31},\n",
       "   {'transaction-id': 6706, 'amount': 29},\n",
       "   {'transaction-id': 6941, 'amount': 32},\n",
       "   {'transaction-id': 7645, 'amount': 37},\n",
       "   {'transaction-id': 8805, 'amount': 36},\n",
       "   {'transaction-id': 8823, 'amount': 33},\n",
       "   {'transaction-id': 9546, 'amount': 28},\n",
       "   {'transaction-id': 9598, 'amount': 32},\n",
       "   {'transaction-id': 9611, 'amount': 33}]})"
      ]
     },
     "execution_count": 11,
     "metadata": {},
     "output_type": "execute_result"
    }
   ],
   "source": [
    "# filter: keep only some elements of the sequence\n",
    "js.filter(lambda record: record['name'] == 'Alice').take(5)"
   ]
  },
  {
   "cell_type": "code",
   "execution_count": 12,
   "metadata": {},
   "outputs": [
    {
     "data": {
      "text/plain": [
       "({'name': 'Alice', 'count': 50},\n",
       " {'name': 'Alice', 'count': 5},\n",
       " {'name': 'Alice', 'count': 30},\n",
       " {'name': 'Alice', 'count': 17},\n",
       " {'name': 'Alice', 'count': 22})"
      ]
     },
     "execution_count": 12,
     "metadata": {},
     "output_type": "execute_result"
    }
   ],
   "source": [
    "def count_transactions(d):\n",
    "    return {'name': d['name'], 'count': len(d['transactions'])}\n",
    "\n",
    "# map: apply a function to each element\n",
    "(js.filter(lambda record: record['name'] == 'Alice')\n",
    "   .map(count_transactions)\n",
    "   .take(5))"
   ]
  },
  {
   "cell_type": "code",
   "execution_count": 13,
   "metadata": {},
   "outputs": [
    {
     "data": {
      "text/plain": [
       "(50, 5, 30, 17, 22)"
      ]
     },
     "execution_count": 13,
     "metadata": {},
     "output_type": "execute_result"
    }
   ],
   "source": [
    "# pluck: select a field, as from a dictionary, element[field]\n",
    "(js.filter(lambda record: record['name'] == 'Alice')\n",
    "   .map(count_transactions)\n",
    "   .pluck('count')\n",
    "   .take(5))"
   ]
  },
  {
   "cell_type": "code",
   "execution_count": 14,
   "metadata": {},
   "outputs": [
    {
     "data": {
      "text/plain": [
       "41.39142857142857"
      ]
     },
     "execution_count": 14,
     "metadata": {},
     "output_type": "execute_result"
    }
   ],
   "source": [
    "# Average number of transactions for all of the Alice entries\n",
    "(js.filter(lambda record: record['name'] == 'Alice')\n",
    "   .map(count_transactions)\n",
    "   .pluck('count')\n",
    "   .mean()\n",
    "   .compute())"
   ]
  },
  {
   "cell_type": "markdown",
   "metadata": {},
   "source": [
    "### Use `flatten` to de-nest"
   ]
  },
  {
   "cell_type": "markdown",
   "metadata": {},
   "source": [
    "In the example below we see the use of `.flatten()` to flatten results.  We compute the average amount for all transactions for all Alices."
   ]
  },
  {
   "cell_type": "code",
   "execution_count": 15,
   "metadata": {},
   "outputs": [
    {
     "data": {
      "text/plain": [
       "([{'transaction-id': 33, 'amount': 3263},\n",
       "  {'transaction-id': 759, 'amount': 2937},\n",
       "  {'transaction-id': 795, 'amount': 2817},\n",
       "  {'transaction-id': 849, 'amount': 3144},\n",
       "  {'transaction-id': 1278, 'amount': 3441},\n",
       "  {'transaction-id': 1685, 'amount': 3259},\n",
       "  {'transaction-id': 2006, 'amount': 2817},\n",
       "  {'transaction-id': 2261, 'amount': 3023},\n",
       "  {'transaction-id': 2266, 'amount': 2916},\n",
       "  {'transaction-id': 2608, 'amount': 2664},\n",
       "  {'transaction-id': 2660, 'amount': 3121},\n",
       "  {'transaction-id': 2728, 'amount': 3003},\n",
       "  {'transaction-id': 2824, 'amount': 2864},\n",
       "  {'transaction-id': 4011, 'amount': 2780},\n",
       "  {'transaction-id': 4509, 'amount': 2877},\n",
       "  {'transaction-id': 4562, 'amount': 3125},\n",
       "  {'transaction-id': 4872, 'amount': 2975},\n",
       "  {'transaction-id': 4942, 'amount': 2643},\n",
       "  {'transaction-id': 4975, 'amount': 3193},\n",
       "  {'transaction-id': 5029, 'amount': 3008},\n",
       "  {'transaction-id': 5374, 'amount': 3261},\n",
       "  {'transaction-id': 5498, 'amount': 2969},\n",
       "  {'transaction-id': 5522, 'amount': 2931},\n",
       "  {'transaction-id': 5543, 'amount': 2787},\n",
       "  {'transaction-id': 5582, 'amount': 3034},\n",
       "  {'transaction-id': 5742, 'amount': 2845},\n",
       "  {'transaction-id': 6047, 'amount': 2912},\n",
       "  {'transaction-id': 6239, 'amount': 2866},\n",
       "  {'transaction-id': 6334, 'amount': 3203},\n",
       "  {'transaction-id': 6453, 'amount': 2994},\n",
       "  {'transaction-id': 6592, 'amount': 3020},\n",
       "  {'transaction-id': 6693, 'amount': 3184},\n",
       "  {'transaction-id': 6923, 'amount': 3221},\n",
       "  {'transaction-id': 6991, 'amount': 2944},\n",
       "  {'transaction-id': 7228, 'amount': 3023},\n",
       "  {'transaction-id': 7527, 'amount': 3437},\n",
       "  {'transaction-id': 7762, 'amount': 3037},\n",
       "  {'transaction-id': 8272, 'amount': 2785},\n",
       "  {'transaction-id': 8489, 'amount': 2889},\n",
       "  {'transaction-id': 8660, 'amount': 3057},\n",
       "  {'transaction-id': 8862, 'amount': 3124},\n",
       "  {'transaction-id': 8959, 'amount': 2562},\n",
       "  {'transaction-id': 8977, 'amount': 3114},\n",
       "  {'transaction-id': 9027, 'amount': 3090},\n",
       "  {'transaction-id': 9155, 'amount': 3194},\n",
       "  {'transaction-id': 9280, 'amount': 2910},\n",
       "  {'transaction-id': 9643, 'amount': 2868},\n",
       "  {'transaction-id': 9667, 'amount': 2936},\n",
       "  {'transaction-id': 9801, 'amount': 2841},\n",
       "  {'transaction-id': 9886, 'amount': 2996}],\n",
       " [{'transaction-id': 685, 'amount': 1472},\n",
       "  {'transaction-id': 5718, 'amount': 1052},\n",
       "  {'transaction-id': 6012, 'amount': 1330},\n",
       "  {'transaction-id': 8296, 'amount': 1080},\n",
       "  {'transaction-id': 8682, 'amount': 1452}],\n",
       " [{'transaction-id': 655, 'amount': -956},\n",
       "  {'transaction-id': 1049, 'amount': -1061},\n",
       "  {'transaction-id': 1343, 'amount': -1033},\n",
       "  {'transaction-id': 1623, 'amount': -1024},\n",
       "  {'transaction-id': 2635, 'amount': -1054},\n",
       "  {'transaction-id': 3291, 'amount': -960},\n",
       "  {'transaction-id': 3412, 'amount': -988},\n",
       "  {'transaction-id': 3770, 'amount': -1012},\n",
       "  {'transaction-id': 4288, 'amount': -1008},\n",
       "  {'transaction-id': 4789, 'amount': -1055},\n",
       "  {'transaction-id': 5048, 'amount': -1080},\n",
       "  {'transaction-id': 5302, 'amount': -1051},\n",
       "  {'transaction-id': 5541, 'amount': -965},\n",
       "  {'transaction-id': 5808, 'amount': -1074},\n",
       "  {'transaction-id': 5963, 'amount': -993},\n",
       "  {'transaction-id': 6045, 'amount': -1005},\n",
       "  {'transaction-id': 6122, 'amount': -999},\n",
       "  {'transaction-id': 6248, 'amount': -1028},\n",
       "  {'transaction-id': 6302, 'amount': -946},\n",
       "  {'transaction-id': 6904, 'amount': -933},\n",
       "  {'transaction-id': 7726, 'amount': -1058},\n",
       "  {'transaction-id': 7951, 'amount': -1061},\n",
       "  {'transaction-id': 8491, 'amount': -1085},\n",
       "  {'transaction-id': 8629, 'amount': -1021},\n",
       "  {'transaction-id': 8638, 'amount': -969},\n",
       "  {'transaction-id': 8721, 'amount': -1125},\n",
       "  {'transaction-id': 9407, 'amount': -1075},\n",
       "  {'transaction-id': 9436, 'amount': -982},\n",
       "  {'transaction-id': 9688, 'amount': -1007},\n",
       "  {'transaction-id': 9938, 'amount': -925}])"
      ]
     },
     "execution_count": 15,
     "metadata": {},
     "output_type": "execute_result"
    }
   ],
   "source": [
    "js.filter(lambda record: record['name'] == 'Alice').pluck('transactions').take(3)"
   ]
  },
  {
   "cell_type": "code",
   "execution_count": 16,
   "metadata": {},
   "outputs": [
    {
     "data": {
      "text/plain": [
       "({'transaction-id': 33, 'amount': 3263},\n",
       " {'transaction-id': 759, 'amount': 2937},\n",
       " {'transaction-id': 795, 'amount': 2817})"
      ]
     },
     "execution_count": 16,
     "metadata": {},
     "output_type": "execute_result"
    }
   ],
   "source": [
    "(js.filter(lambda record: record['name'] == 'Alice')\n",
    "   .pluck('transactions')\n",
    "   .flatten()\n",
    "   .take(3))"
   ]
  },
  {
   "cell_type": "code",
   "execution_count": 17,
   "metadata": {},
   "outputs": [
    {
     "data": {
      "text/plain": [
       "(3263, 2937, 2817)"
      ]
     },
     "execution_count": 17,
     "metadata": {},
     "output_type": "execute_result"
    }
   ],
   "source": [
    "(js.filter(lambda record: record['name'] == 'Alice')\n",
    "   .pluck('transactions')\n",
    "   .flatten()\n",
    "   .pluck('amount')\n",
    "   .take(3))"
   ]
  },
  {
   "cell_type": "code",
   "execution_count": 18,
   "metadata": {},
   "outputs": [
    {
     "data": {
      "text/plain": [
       "1767.3125560847657"
      ]
     },
     "execution_count": 18,
     "metadata": {},
     "output_type": "execute_result"
    }
   ],
   "source": [
    "(js.filter(lambda record: record['name'] == 'Alice')\n",
    "   .pluck('transactions')\n",
    "   .flatten()\n",
    "   .pluck('amount')\n",
    "   .mean()\n",
    "   .compute())"
   ]
  },
  {
   "cell_type": "markdown",
   "metadata": {},
   "source": [
    "### Groupby and Foldby"
   ]
  },
  {
   "cell_type": "markdown",
   "metadata": {},
   "source": [
    "Often we want to group data by some function or key.  We can do this either with the `.groupby` method, which is straightforward but forces a full shuffle of the data (expensive) or with the harder-to-use but faster `.foldby` method, which does a streaming combined groupby and reduction.\n",
    "\n",
    "*  `groupby`:  Shuffles data so that all items with the same key are in the same key-value pair\n",
    "*  `foldby`:  Walks through the data accumulating a result per key\n",
    "\n",
    "*Note: the full groupby is particularly bad. In actual workloads you would do well to use `foldby` or switch to `DataFrame`s if possible.*"
   ]
  },
  {
   "cell_type": "markdown",
   "metadata": {},
   "source": [
    "### `groupby`"
   ]
  },
  {
   "cell_type": "markdown",
   "metadata": {},
   "source": [
    "Groupby collects items in your collection so that all items with the same value under some function are collected together into a key-value pair."
   ]
  },
  {
   "cell_type": "code",
   "execution_count": 19,
   "metadata": {},
   "outputs": [
    {
     "data": {
      "text/plain": [
       "[(7, ['Charlie']), (3, ['Bob', 'Dan']), (5, ['Alice', 'Edith', 'Frank'])]"
      ]
     },
     "execution_count": 19,
     "metadata": {},
     "output_type": "execute_result"
    }
   ],
   "source": [
    "b = db.from_sequence(['Alice', 'Bob', 'Charlie', 'Dan', 'Edith', 'Frank'])\n",
    "b.groupby(len).compute()  # names grouped by length"
   ]
  },
  {
   "cell_type": "code",
   "execution_count": 20,
   "metadata": {},
   "outputs": [
    {
     "data": {
      "text/plain": [
       "[(0, [0, 2, 4, 6, 8]), (1, [1, 3, 5, 7, 9])]"
      ]
     },
     "execution_count": 20,
     "metadata": {},
     "output_type": "execute_result"
    }
   ],
   "source": [
    "b = db.from_sequence(list(range(10)))\n",
    "b.groupby(lambda x: x % 2).compute()"
   ]
  },
  {
   "cell_type": "code",
   "execution_count": 21,
   "metadata": {},
   "outputs": [
    {
     "data": {
      "text/plain": [
       "[(0, 8), (1, 9)]"
      ]
     },
     "execution_count": 21,
     "metadata": {},
     "output_type": "execute_result"
    }
   ],
   "source": [
    "b.groupby(lambda x: x % 2).starmap(lambda k, v: (k, max(v))).compute()"
   ]
  },
  {
   "cell_type": "markdown",
   "metadata": {},
   "source": [
    "### `foldby`"
   ]
  },
  {
   "cell_type": "markdown",
   "metadata": {},
   "source": [
    "Foldby can be quite odd at first.  It is similar to the following functions from other libraries:\n",
    "\n",
    "*  [`toolz.reduceby`](http://toolz.readthedocs.io/en/latest/streaming-analytics.html#streaming-split-apply-combine)\n",
    "*  [`pyspark.RDD.combineByKey`](http://abshinn.github.io/python/apache-spark/2014/10/11/using-combinebykey-in-apache-spark/)\n",
    "\n",
    "When using `foldby` you provide \n",
    "\n",
    "1.  A key function on which to group elements\n",
    "2.  A binary operator such as you would pass to `reduce` that you use to perform reduction per each group\n",
    "3.  A combine binary operator that can combine the results of two `reduce` calls on different parts of your dataset.\n",
    "\n",
    "Your reduction must be associative.  It will happen in parallel in each of the partitions of your dataset.  Then all of these intermediate results will be combined by the `combine` binary operator."
   ]
  },
  {
   "cell_type": "code",
   "execution_count": 22,
   "metadata": {},
   "outputs": [
    {
     "data": {
      "text/plain": [
       "[(0, 8), (1, 9)]"
      ]
     },
     "execution_count": 22,
     "metadata": {},
     "output_type": "execute_result"
    }
   ],
   "source": [
    "is_even = lambda x: x % 2\n",
    "b.foldby(is_even, binop=max, combine=max).compute()"
   ]
  },
  {
   "cell_type": "markdown",
   "metadata": {},
   "source": [
    "### Example with account data"
   ]
  },
  {
   "cell_type": "markdown",
   "metadata": {},
   "source": [
    "We find the number of people with the same name."
   ]
  },
  {
   "cell_type": "code",
   "execution_count": 23,
   "metadata": {},
   "outputs": [
    {
     "name": "stdout",
     "output_type": "stream",
     "text": [
      "[('Alice', 154), ('Alice', 168), ('Alice', 182), ('Alice', 196), ('Bob', 119), ('Bob', 127), ('Bob', 142), ('Bob', 150), ('Charlie', 77), ('Charlie', 83), ('Charlie', 91), ('Charlie', 98), ('Dan', 88), ('Dan', 95), ('Dan', 104), ('Dan', 111), ('Edith', 120), ('Edith', 131), ('Edith', 143), ('Edith', 154), ('Frank', 102), ('Frank', 112), ('Frank', 118), ('Frank', 128), ('George', 153), ('George', 167), ('George', 181), ('George', 195), ('Hannah', 88), ('Hannah', 96), ('Hannah', 104), ('Hannah', 112), ('Ingrid', 154), ('Ingrid', 168), ('Ingrid', 182), ('Ingrid', 196), ('Jerry', 60), ('Jerry', 65), ('Jerry', 125), ('Kevin', 86), ('Kevin', 95), ('Kevin', 103), ('Kevin', 111), ('Laura', 132), ('Laura', 142), ('Laura', 155), ('Laura', 165), ('Michael', 128), ('Michael', 137), ('Michael', 224), ('Norbert', 134), ('Norbert', 153), ('Norbert', 270), ('Oliver', 99), ('Oliver', 108), ('Oliver', 117), ('Oliver', 126), ('Patricia', 84), ('Patricia', 98), ('Patricia', 168), ('Quinn', 154), ('Quinn', 168), ('Quinn', 182), ('Quinn', 196), ('Ray', 33), ('Ray', 36), ('Ray', 39), ('Ray', 42), ('Sarah', 72), ('Sarah', 86), ('Sarah', 168), ('Tim', 77), ('Tim', 84), ('Tim', 91), ('Tim', 98), ('Ursula', 78), ('Ursula', 94), ('Ursula', 187), ('Victor', 142), ('Victor', 154), ('Victor', 167), ('Victor', 181), ('Wendy', 88), ('Wendy', 91), ('Wendy', 100), ('Wendy', 105), ('Xavier', 110), ('Xavier', 120), ('Xavier', 129), ('Xavier', 139), ('Yvonne', 118), ('Yvonne', 128), ('Yvonne', 138), ('Yvonne', 151), ('Zelda', 76), ('Zelda', 84), ('Zelda', 91), ('Zelda', 98)]\n",
      "CPU times: user 1.85 s, sys: 122 ms, total: 1.98 s\n",
      "Wall time: 9.28 s\n"
     ]
    }
   ],
   "source": [
    "%%time\n",
    "# Warning, this one takes a while...\n",
    "result = js.groupby(lambda item: item['name']).starmap(lambda k, v: (k, len(v))).compute()\n",
    "print(sorted(result))"
   ]
  },
  {
   "cell_type": "code",
   "execution_count": 24,
   "metadata": {},
   "outputs": [
    {
     "name": "stdout",
     "output_type": "stream",
     "text": [
      "[('Alice', 700), ('Bob', 538), ('Charlie', 349), ('Dan', 398), ('Edith', 548), ('Frank', 460), ('George', 696), ('Hannah', 400), ('Ingrid', 700), ('Jerry', 250), ('Kevin', 395), ('Laura', 594), ('Michael', 489), ('Norbert', 557), ('Oliver', 450), ('Patricia', 350), ('Quinn', 700), ('Ray', 150), ('Sarah', 326), ('Tim', 350), ('Ursula', 359), ('Victor', 644), ('Wendy', 384), ('Xavier', 498), ('Yvonne', 535), ('Zelda', 349)]\n",
      "CPU times: user 175 ms, sys: 4.83 ms, total: 180 ms\n",
      "Wall time: 637 ms\n"
     ]
    }
   ],
   "source": [
    "%%time\n",
    "# This one is comparatively fast and produces the same result.\n",
    "from operator import add\n",
    "def incr(tot, _):\n",
    "    return tot+1\n",
    "\n",
    "result = js.foldby(key='name', \n",
    "                   binop=incr, \n",
    "                   initial=0, \n",
    "                   combine=add, \n",
    "                   combine_initial=0).compute()\n",
    "print(sorted(result))"
   ]
  },
  {
   "cell_type": "markdown",
   "metadata": {},
   "source": [
    "### Exercise: compute total amount per name"
   ]
  },
  {
   "cell_type": "markdown",
   "metadata": {},
   "source": [
    "We want to groupby (or foldby) the `name` key, then add up the all of the amounts for each name.\n",
    "\n",
    "Steps\n",
    "\n",
    "1.  Create a small function that, given a dictionary like \n",
    "\n",
    "        {'name': 'Alice', 'transactions': [{'amount': 1, 'id': 123}, {'amount': 2, 'id': 456}]}\n",
    "        \n",
    "    produces the sum of the amounts, e.g. `3`\n",
    "    \n",
    "2.  Slightly change the binary operator of the `foldby` example above so that the binary operator doesn't count the number of entries, but instead accumulates the sum of the amounts."
   ]
  },
  {
   "cell_type": "code",
   "execution_count": 25,
   "metadata": {},
   "outputs": [],
   "source": [
    "# Your code here..."
   ]
  },
  {
   "cell_type": "markdown",
   "metadata": {},
   "source": [
    "## DataFrames"
   ]
  },
  {
   "cell_type": "markdown",
   "metadata": {},
   "source": [
    "For the same reasons that Pandas is often faster than pure Python, `dask.dataframe` can be faster than `dask.bag`.  We will work more with DataFrames later, but from for the bag point of view, they are frequently the end-point of the \"messy\" part of data ingestion—once the data can be made into a data-frame, then complex split-apply-combine logic will become much more straight-forward and efficient.\n",
    "\n",
    "You can transform a bag with a simple tuple or flat dictionary structure into a `dask.dataframe` with the `to_dataframe` method."
   ]
  },
  {
   "cell_type": "code",
   "execution_count": 26,
   "metadata": {},
   "outputs": [
    {
     "data": {
      "text/html": [
       "<div>\n",
       "<style scoped>\n",
       "    .dataframe tbody tr th:only-of-type {\n",
       "        vertical-align: middle;\n",
       "    }\n",
       "\n",
       "    .dataframe tbody tr th {\n",
       "        vertical-align: top;\n",
       "    }\n",
       "\n",
       "    .dataframe thead th {\n",
       "        text-align: right;\n",
       "    }\n",
       "</style>\n",
       "<table border=\"1\" class=\"dataframe\">\n",
       "  <thead>\n",
       "    <tr style=\"text-align: right;\">\n",
       "      <th></th>\n",
       "      <th>id</th>\n",
       "      <th>name</th>\n",
       "      <th>transactions</th>\n",
       "    </tr>\n",
       "  </thead>\n",
       "  <tbody>\n",
       "    <tr>\n",
       "      <th>0</th>\n",
       "      <td>0</td>\n",
       "      <td>Alice</td>\n",
       "      <td>[{'transaction-id': 33, 'amount': 3263}, {'tra...</td>\n",
       "    </tr>\n",
       "    <tr>\n",
       "      <th>1</th>\n",
       "      <td>2</td>\n",
       "      <td>Zelda</td>\n",
       "      <td>[{'transaction-id': 242, 'amount': 854}, {'tra...</td>\n",
       "    </tr>\n",
       "    <tr>\n",
       "      <th>2</th>\n",
       "      <td>3</td>\n",
       "      <td>George</td>\n",
       "      <td>[{'transaction-id': 1250, 'amount': 35}, {'tra...</td>\n",
       "    </tr>\n",
       "    <tr>\n",
       "      <th>3</th>\n",
       "      <td>4</td>\n",
       "      <td>Dan</td>\n",
       "      <td>[{'transaction-id': 171, 'amount': 9}, {'trans...</td>\n",
       "    </tr>\n",
       "    <tr>\n",
       "      <th>4</th>\n",
       "      <td>5</td>\n",
       "      <td>Ingrid</td>\n",
       "      <td>[{'transaction-id': 1108, 'amount': 624}, {'tr...</td>\n",
       "    </tr>\n",
       "  </tbody>\n",
       "</table>\n",
       "</div>"
      ],
      "text/plain": [
       "   id    name                                       transactions\n",
       "0   0   Alice  [{'transaction-id': 33, 'amount': 3263}, {'tra...\n",
       "1   2   Zelda  [{'transaction-id': 242, 'amount': 854}, {'tra...\n",
       "2   3  George  [{'transaction-id': 1250, 'amount': 35}, {'tra...\n",
       "3   4     Dan  [{'transaction-id': 171, 'amount': 9}, {'trans...\n",
       "4   5  Ingrid  [{'transaction-id': 1108, 'amount': 624}, {'tr..."
      ]
     },
     "execution_count": 26,
     "metadata": {},
     "output_type": "execute_result"
    }
   ],
   "source": [
    "df1 = js.to_dataframe()\n",
    "df1.head()"
   ]
  },
  {
   "cell_type": "markdown",
   "metadata": {},
   "source": [
    "This now looks like a well-defined DataFrame, and we can apply Pandas-like computations to it efficiently."
   ]
  },
  {
   "cell_type": "markdown",
   "metadata": {},
   "source": [
    "Using a Dask DataFrame, how long does it take to do our prior computation of numbers of people with the same name?  It turns out that `dask.dataframe.groupby()` beats `dask.bag.groupby()` more than an order of magnitude; but it still cannot match `dask.bag.foldby()` for this case."
   ]
  },
  {
   "cell_type": "code",
   "execution_count": 27,
   "metadata": {},
   "outputs": [
    {
     "name": "stdout",
     "output_type": "stream",
     "text": [
      "CPU times: user 256 ms, sys: 19.2 ms, total: 275 ms\n",
      "Wall time: 1.92 s\n"
     ]
    },
    {
     "data": {
      "text/plain": [
       "name\n",
       "Alice      700\n",
       "Bob        538\n",
       "Charlie    349\n",
       "Dan        398\n",
       "Edith      548\n",
       "Name: id, dtype: int64"
      ]
     },
     "execution_count": 27,
     "metadata": {},
     "output_type": "execute_result"
    }
   ],
   "source": [
    "%time df1.groupby('name').id.count().compute().head()"
   ]
  },
  {
   "cell_type": "markdown",
   "metadata": {},
   "source": [
    "### Denormalization"
   ]
  },
  {
   "cell_type": "markdown",
   "metadata": {},
   "source": [
    "This DataFrame format is less-than-optimal because the `transactions` column is filled with nested data so Pandas has to revert to `object` dtype, which is quite slow in Pandas.  Ideally we want to transform to a dataframe only after we have flattened our data so that each record is a single `int`, `string`, `float`, etc.."
   ]
  },
  {
   "cell_type": "code",
   "execution_count": 28,
   "metadata": {},
   "outputs": [
    {
     "data": {
      "text/plain": [
       "({'id': 0, 'name': 'Alice', 'amount': 3263, 'transaction-id': 33},\n",
       " {'id': 0, 'name': 'Alice', 'amount': 2937, 'transaction-id': 759},\n",
       " {'id': 0, 'name': 'Alice', 'amount': 2817, 'transaction-id': 795})"
      ]
     },
     "execution_count": 28,
     "metadata": {},
     "output_type": "execute_result"
    }
   ],
   "source": [
    "def denormalize(record):\n",
    "    # returns a list for every nested item, each transaction of each person\n",
    "    return [{'id': record['id'], \n",
    "             'name': record['name'], \n",
    "             'amount': transaction['amount'], \n",
    "             'transaction-id': transaction['transaction-id']}\n",
    "            for transaction in record['transactions']]\n",
    "\n",
    "transactions = js.map(denormalize).flatten()\n",
    "transactions.take(3)"
   ]
  },
  {
   "cell_type": "code",
   "execution_count": 29,
   "metadata": {},
   "outputs": [
    {
     "data": {
      "text/html": [
       "<div>\n",
       "<style scoped>\n",
       "    .dataframe tbody tr th:only-of-type {\n",
       "        vertical-align: middle;\n",
       "    }\n",
       "\n",
       "    .dataframe tbody tr th {\n",
       "        vertical-align: top;\n",
       "    }\n",
       "\n",
       "    .dataframe thead th {\n",
       "        text-align: right;\n",
       "    }\n",
       "</style>\n",
       "<table border=\"1\" class=\"dataframe\">\n",
       "  <thead>\n",
       "    <tr style=\"text-align: right;\">\n",
       "      <th></th>\n",
       "      <th>id</th>\n",
       "      <th>name</th>\n",
       "      <th>amount</th>\n",
       "      <th>transaction-id</th>\n",
       "    </tr>\n",
       "  </thead>\n",
       "  <tbody>\n",
       "    <tr>\n",
       "      <th>0</th>\n",
       "      <td>0</td>\n",
       "      <td>Alice</td>\n",
       "      <td>3263</td>\n",
       "      <td>33</td>\n",
       "    </tr>\n",
       "    <tr>\n",
       "      <th>1</th>\n",
       "      <td>0</td>\n",
       "      <td>Alice</td>\n",
       "      <td>2937</td>\n",
       "      <td>759</td>\n",
       "    </tr>\n",
       "    <tr>\n",
       "      <th>2</th>\n",
       "      <td>0</td>\n",
       "      <td>Alice</td>\n",
       "      <td>2817</td>\n",
       "      <td>795</td>\n",
       "    </tr>\n",
       "    <tr>\n",
       "      <th>3</th>\n",
       "      <td>0</td>\n",
       "      <td>Alice</td>\n",
       "      <td>3144</td>\n",
       "      <td>849</td>\n",
       "    </tr>\n",
       "    <tr>\n",
       "      <th>4</th>\n",
       "      <td>0</td>\n",
       "      <td>Alice</td>\n",
       "      <td>3441</td>\n",
       "      <td>1278</td>\n",
       "    </tr>\n",
       "  </tbody>\n",
       "</table>\n",
       "</div>"
      ],
      "text/plain": [
       "   id   name  amount  transaction-id\n",
       "0   0  Alice    3263              33\n",
       "1   0  Alice    2937             759\n",
       "2   0  Alice    2817             795\n",
       "3   0  Alice    3144             849\n",
       "4   0  Alice    3441            1278"
      ]
     },
     "execution_count": 29,
     "metadata": {},
     "output_type": "execute_result"
    }
   ],
   "source": [
    "df = transactions.to_dataframe()\n",
    "df.head()"
   ]
  },
  {
   "cell_type": "code",
   "execution_count": 30,
   "metadata": {},
   "outputs": [
    {
     "name": "stdout",
     "output_type": "stream",
     "text": [
      "CPU times: user 229 ms, sys: 9.5 ms, total: 239 ms\n",
      "Wall time: 1.56 s\n"
     ]
    },
    {
     "data": {
      "text/plain": [
       "name\n",
       "Alice       28974\n",
       "Bob         13830\n",
       "Charlie     21651\n",
       "Dan         19842\n",
       "Edith       14141\n",
       "Frank       27724\n",
       "George      30433\n",
       "Hannah      19985\n",
       "Ingrid      38106\n",
       "Jerry       12214\n",
       "Kevin       17734\n",
       "Laura       28057\n",
       "Michael     21614\n",
       "Norbert     18391\n",
       "Oliver      14034\n",
       "Patricia    17525\n",
       "Quinn       38415\n",
       "Ray          3546\n",
       "Sarah       15496\n",
       "Tim          9819\n",
       "Ursula      15563\n",
       "Victor      27147\n",
       "Wendy       11280\n",
       "Xavier      14385\n",
       "Yvonne      12054\n",
       "Zelda        8040\n",
       "Name: transaction-id, dtype: int64"
      ]
     },
     "execution_count": 30,
     "metadata": {},
     "output_type": "execute_result"
    }
   ],
   "source": [
    "%%time\n",
    "# number of transactions per name\n",
    "# note that the time here includes the data load and ingestion\n",
    "df.groupby('name')['transaction-id'].count().compute()"
   ]
  },
  {
   "cell_type": "markdown",
   "metadata": {},
   "source": [
    "## Limitations"
   ]
  },
  {
   "cell_type": "markdown",
   "metadata": {},
   "source": [
    "Bags provide very general computation (any Python function.)  This generality\n",
    "comes at cost.  Bags have the following known limitations\n",
    "\n",
    "1.  Bag operations tend to be slower than array/dataframe computations in the\n",
    "    same way that Python tends to be slower than NumPy/Pandas\n",
    "2.  ``Bag.groupby`` is slow.  You should try to use ``Bag.foldby`` if possible.\n",
    "    Using ``Bag.foldby`` requires more thought. Even better, consider creating\n",
    "    a normalised dataframe."
   ]
  },
  {
   "cell_type": "markdown",
   "metadata": {},
   "source": [
    "## Learn More\n",
    "\n",
    "* [Bag documentation](https://docs.dask.org/en/latest/bag.html)\n",
    "* [Bag screencast](https://youtu.be/-qIiJ1XtSv0)\n",
    "* [Bag API](https://docs.dask.org/en/latest/bag-api.html)\n",
    "* [Bag examples](https://examples.dask.org/bag.html)"
   ]
  },
  {
   "cell_type": "markdown",
   "metadata": {},
   "source": [
    "## Shutdown"
   ]
  },
  {
   "cell_type": "code",
   "execution_count": 31,
   "metadata": {},
   "outputs": [],
   "source": [
    "client.shutdown()"
   ]
  }
 ],
 "metadata": {
  "anaconda-cloud": {},
  "kernelspec": {
   "display_name": "Python 3",
   "language": "python",
   "name": "python3"
  },
  "language_info": {
   "codemirror_mode": {
    "name": "ipython",
    "version": 3
   },
   "file_extension": ".py",
   "mimetype": "text/x-python",
   "name": "python",
   "nbconvert_exporter": "python",
   "pygments_lexer": "ipython3",
   "version": "3.8.5"
  }
 },
 "nbformat": 4,
 "nbformat_minor": 4
}
