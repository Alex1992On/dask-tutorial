{
 "cells": [
  {
   "cell_type": "markdown",
   "metadata": {},
   "source": [
    "<img src=\"images/dask_horizontal.svg\" align=\"right\" width=\"30%\">"
   ]
  },
  {
   "cell_type": "markdown",
   "metadata": {},
   "source": [
    "# Bag: Parallel Lists for semi-structured data"
   ]
  },
  {
   "cell_type": "markdown",
   "metadata": {},
   "source": [
    "Dask-bag excels in processing data that can be represented as a sequence of arbitrary inputs. We'll refer to this as \"messy\" data, because it can contain complex nested structures, missing fields, mixtures of data types, etc. The *functional* programming style fits very nicely with standard Python iteration, such as can be found in the `itertools` module.\n",
    "\n",
    "Messy data is often encountered at the beginning of data processing pipelines when large volumes of raw data are first consumed. The initial set of data might be JSON, CSV, XML, or any other format that does not enforce strict structure and datatypes.\n",
    "For this reason, the initial data massaging and processing is often done with Python `list`s, `dict`s, and `set`s.\n",
    "\n",
    "These core data structures are optimized for general-purpose storage and processing.  Adding streaming computation with iterators/generator expressions or libraries like `itertools` or [`toolz`](https://toolz.readthedocs.io/en/latest/) let us process large volumes in a small space.  If we combine this with parallel processing then we can churn through a fair amount of data.\n",
    "\n",
    "Dask.bag is a high level Dask collection to automate common workloads of this form.  In a nutshell\n",
    "\n",
    "    dask.bag = map, filter, toolz + parallel execution\n",
    "    \n",
    "**Related Documentation**\n",
    "\n",
    "* [Bag documentation](https://docs.dask.org/en/latest/bag.html)\n",
    "* [Bag screencast](https://youtu.be/-qIiJ1XtSv0)\n",
    "* [Bag API](https://docs.dask.org/en/latest/bag-api.html)\n",
    "* [Bag examples](https://examples.dask.org/bag.html)"
   ]
  },
  {
   "cell_type": "markdown",
   "metadata": {},
   "source": [
    "## Create data"
   ]
  },
  {
   "cell_type": "code",
   "execution_count": 1,
   "metadata": {},
   "outputs": [],
   "source": [
    "%run prep.py -d accounts"
   ]
  },
  {
   "cell_type": "markdown",
   "metadata": {},
   "source": [
    "## Setup"
   ]
  },
  {
   "cell_type": "markdown",
   "metadata": {},
   "source": [
    "Again, we'll use the distributed scheduler. Schedulers will be explained in depth [later](05_distributed.ipynb)."
   ]
  },
  {
   "cell_type": "code",
   "execution_count": 2,
   "metadata": {},
   "outputs": [],
   "source": [
    "from dask.distributed import Client\n",
    "\n",
    "client = Client(n_workers=4)"
   ]
  },
  {
   "cell_type": "markdown",
   "metadata": {},
   "source": [
    "## Creation"
   ]
  },
  {
   "cell_type": "markdown",
   "metadata": {},
   "source": [
    "You can create a `Bag` from a Python sequence, from files, from data on S3, etc.\n",
    "We demonstrate using `.take()` to show elements of the data. (Doing `.take(1)` results in a tuple with one element)\n",
    "\n",
    "Note that the data are partitioned into blocks, and there are many items per block. In the first example, the two partitions contain five elements each, and in the following two, each file is partitioned into one or more bytes blocks."
   ]
  },
  {
   "cell_type": "code",
   "execution_count": 3,
   "metadata": {},
   "outputs": [
    {
     "data": {
      "text/plain": [
       "(1, 2, 3)"
      ]
     },
     "execution_count": 3,
     "metadata": {},
     "output_type": "execute_result"
    }
   ],
   "source": [
    "# each element is an integer\n",
    "import dask.bag as db\n",
    "b = db.from_sequence([1, 2, 3, 4, 5, 6, 7, 8, 9, 10], npartitions=2)\n",
    "b.take(3)"
   ]
  },
  {
   "cell_type": "code",
   "execution_count": 4,
   "metadata": {},
   "outputs": [
    {
     "data": {
      "text/plain": [
       "('{\"id\": 0, \"name\": \"Tim\", \"transactions\": [{\"transaction-id\": 233, \"amount\": 526}, {\"transaction-id\": 241, \"amount\": 942}, {\"transaction-id\": 531, \"amount\": 680}, {\"transaction-id\": 1067, \"amount\": 633}, {\"transaction-id\": 1114, \"amount\": 844}, {\"transaction-id\": 1376, \"amount\": 1382}, {\"transaction-id\": 1401, \"amount\": 1182}, {\"transaction-id\": 1475, \"amount\": 640}, {\"transaction-id\": 1504, \"amount\": 390}, {\"transaction-id\": 1948, \"amount\": 437}, {\"transaction-id\": 1970, \"amount\": 218}, {\"transaction-id\": 2112, \"amount\": 232}, {\"transaction-id\": 2287, \"amount\": 872}, {\"transaction-id\": 2438, \"amount\": 998}, {\"transaction-id\": 2439, \"amount\": 786}, {\"transaction-id\": 2498, \"amount\": 1388}, {\"transaction-id\": 2567, \"amount\": 234}, {\"transaction-id\": 2618, \"amount\": 1061}, {\"transaction-id\": 2881, \"amount\": 707}, {\"transaction-id\": 2927, \"amount\": 162}, {\"transaction-id\": 2952, \"amount\": 714}, {\"transaction-id\": 3175, \"amount\": 250}, {\"transaction-id\": 3265, \"amount\": 356}, {\"transaction-id\": 3343, \"amount\": 923}, {\"transaction-id\": 3469, \"amount\": 902}, {\"transaction-id\": 3560, \"amount\": 1275}, {\"transaction-id\": 3677, \"amount\": 591}, {\"transaction-id\": 3964, \"amount\": 853}, {\"transaction-id\": 3984, \"amount\": 536}, {\"transaction-id\": 4004, \"amount\": 236}, {\"transaction-id\": 4103, \"amount\": 890}, {\"transaction-id\": 4328, \"amount\": 1115}, {\"transaction-id\": 4443, \"amount\": 249}, {\"transaction-id\": 4544, \"amount\": 478}, {\"transaction-id\": 4648, \"amount\": 945}, {\"transaction-id\": 4798, \"amount\": 1077}, {\"transaction-id\": 4838, \"amount\": 884}, {\"transaction-id\": 5048, \"amount\": 1225}, {\"transaction-id\": 5152, \"amount\": 508}, {\"transaction-id\": 5175, \"amount\": 267}, {\"transaction-id\": 5304, \"amount\": 1227}, {\"transaction-id\": 5314, \"amount\": 428}, {\"transaction-id\": 5323, \"amount\": 879}, {\"transaction-id\": 5382, \"amount\": 938}, {\"transaction-id\": 5461, \"amount\": 725}, {\"transaction-id\": 5522, \"amount\": 715}, {\"transaction-id\": 5797, \"amount\": 531}, {\"transaction-id\": 5955, \"amount\": 1087}, {\"transaction-id\": 6061, \"amount\": 796}, {\"transaction-id\": 6129, \"amount\": 978}, {\"transaction-id\": 6166, \"amount\": 678}, {\"transaction-id\": 6207, \"amount\": 345}, {\"transaction-id\": 6221, \"amount\": 1010}, {\"transaction-id\": 6249, \"amount\": 437}, {\"transaction-id\": 6425, \"amount\": 783}, {\"transaction-id\": 6531, \"amount\": 1535}, {\"transaction-id\": 6810, \"amount\": 739}, {\"transaction-id\": 6927, \"amount\": 1134}, {\"transaction-id\": 6935, \"amount\": 677}, {\"transaction-id\": 7051, \"amount\": 285}, {\"transaction-id\": 7056, \"amount\": 457}, {\"transaction-id\": 7175, \"amount\": 739}, {\"transaction-id\": 7264, \"amount\": 1042}, {\"transaction-id\": 7293, \"amount\": 259}, {\"transaction-id\": 7346, \"amount\": 726}, {\"transaction-id\": 7573, \"amount\": 932}, {\"transaction-id\": 7587, \"amount\": 849}, {\"transaction-id\": 7666, \"amount\": 929}, {\"transaction-id\": 7790, \"amount\": 1021}, {\"transaction-id\": 8262, \"amount\": 746}, {\"transaction-id\": 8308, \"amount\": 890}, {\"transaction-id\": 8500, \"amount\": 244}, {\"transaction-id\": 8508, \"amount\": 1029}, {\"transaction-id\": 8728, \"amount\": 827}, {\"transaction-id\": 8789, \"amount\": 918}, {\"transaction-id\": 8837, \"amount\": 69}, {\"transaction-id\": 9084, \"amount\": 241}, {\"transaction-id\": 9120, \"amount\": 480}, {\"transaction-id\": 9282, \"amount\": 229}, {\"transaction-id\": 9341, \"amount\": 577}, {\"transaction-id\": 9344, \"amount\": 1028}, {\"transaction-id\": 9404, \"amount\": 366}, {\"transaction-id\": 9606, \"amount\": 810}, {\"transaction-id\": 9637, \"amount\": 737}, {\"transaction-id\": 9911, \"amount\": 363}]}\\n',)"
      ]
     },
     "execution_count": 4,
     "metadata": {},
     "output_type": "execute_result"
    }
   ],
   "source": [
    "# each element is a text file, where each line is a JSON object\n",
    "# note that the compression is handled automatically\n",
    "import os\n",
    "b = db.read_text(os.path.join('data', 'accounts.*.json.gz'))\n",
    "b.take(1)"
   ]
  },
  {
   "cell_type": "code",
   "execution_count": 5,
   "metadata": {},
   "outputs": [
    {
     "data": {
      "text/plain": [
       "'s3://dask-data/nyc-taxi/2015/yellow_tripdata_2015-01.csv'"
      ]
     },
     "execution_count": 5,
     "metadata": {},
     "output_type": "execute_result"
    }
   ],
   "source": [
    "# Edit sources.py to configure source locations\n",
    "import sources\n",
    "sources.bag_url"
   ]
  },
  {
   "cell_type": "code",
   "execution_count": 6,
   "metadata": {},
   "outputs": [
    {
     "data": {
      "text/plain": [
       "('VendorID,tpep_pickup_datetime,tpep_dropoff_datetime,passenger_count,trip_distance,pickup_longitude,pickup_latitude,RateCodeID,store_and_fwd_flag,dropoff_longitude,dropoff_latitude,payment_type,fare_amount,extra,mta_tax,tip_amount,tolls_amount,improvement_surcharge,total_amount\\n',)"
      ]
     },
     "execution_count": 6,
     "metadata": {},
     "output_type": "execute_result"
    }
   ],
   "source": [
    "# Requires `s3fs` library\n",
    "# each partition is a remote CSV text file\n",
    "b = db.read_text(sources.bag_url,\n",
    "                 storage_options={'anon': True})\n",
    "b.take(1)"
   ]
  },
  {
   "cell_type": "markdown",
   "metadata": {},
   "source": [
    "## Manipulation"
   ]
  },
  {
   "cell_type": "markdown",
   "metadata": {},
   "source": [
    "`Bag` objects hold the standard functional API found in projects like the Python standard library, `toolz`, or `pyspark`, including `map`, `filter`, `groupby`, etc..\n",
    "\n",
    "Operations on `Bag` objects create new bags.  Call the `.compute()` method to trigger execution, as we saw for `Delayed` objects.  "
   ]
  },
  {
   "cell_type": "code",
   "execution_count": 7,
   "metadata": {},
   "outputs": [
    {
     "data": {
      "text/plain": [
       "dask.bag<lambda, npartitions=10>"
      ]
     },
     "execution_count": 7,
     "metadata": {},
     "output_type": "execute_result"
    }
   ],
   "source": [
    "def is_even(n):\n",
    "    return n % 2 == 0\n",
    "\n",
    "b = db.from_sequence([1, 2, 3, 4, 5, 6, 7, 8, 9, 10])\n",
    "c = b.filter(is_even).map(lambda x: x ** 2)\n",
    "c"
   ]
  },
  {
   "cell_type": "code",
   "execution_count": 8,
   "metadata": {},
   "outputs": [
    {
     "data": {
      "text/plain": [
       "[4, 16, 36, 64, 100]"
      ]
     },
     "execution_count": 8,
     "metadata": {},
     "output_type": "execute_result"
    }
   ],
   "source": [
    "# blocking form: wait for completion (which is very fast in this case)\n",
    "c.compute()"
   ]
  },
  {
   "cell_type": "markdown",
   "metadata": {},
   "source": [
    "### Example: Accounts JSON data"
   ]
  },
  {
   "cell_type": "markdown",
   "metadata": {},
   "source": [
    "We've created a fake dataset of gzipped JSON data in your data directory.  This is like the example used in the `DataFrame` example we will see later, except that it has bundled up all of the entires for each individual `id` into a single record.  This is similar to data that you might collect off of a document store database or a web API.\n",
    "\n",
    "Each line is a JSON encoded dictionary with the following keys\n",
    "\n",
    "*  id: Unique identifier of the customer\n",
    "*  name: Name of the customer\n",
    "*  transactions: List of `transaction-id`, `amount` pairs, one for each transaction for the customer in that file"
   ]
  },
  {
   "cell_type": "code",
   "execution_count": 9,
   "metadata": {},
   "outputs": [
    {
     "data": {
      "text/plain": [
       "('{\"id\": 0, \"name\": \"Tim\", \"transactions\": [{\"transaction-id\": 233, \"amount\": 526}, {\"transaction-id\": 241, \"amount\": 942}, {\"transaction-id\": 531, \"amount\": 680}, {\"transaction-id\": 1067, \"amount\": 633}, {\"transaction-id\": 1114, \"amount\": 844}, {\"transaction-id\": 1376, \"amount\": 1382}, {\"transaction-id\": 1401, \"amount\": 1182}, {\"transaction-id\": 1475, \"amount\": 640}, {\"transaction-id\": 1504, \"amount\": 390}, {\"transaction-id\": 1948, \"amount\": 437}, {\"transaction-id\": 1970, \"amount\": 218}, {\"transaction-id\": 2112, \"amount\": 232}, {\"transaction-id\": 2287, \"amount\": 872}, {\"transaction-id\": 2438, \"amount\": 998}, {\"transaction-id\": 2439, \"amount\": 786}, {\"transaction-id\": 2498, \"amount\": 1388}, {\"transaction-id\": 2567, \"amount\": 234}, {\"transaction-id\": 2618, \"amount\": 1061}, {\"transaction-id\": 2881, \"amount\": 707}, {\"transaction-id\": 2927, \"amount\": 162}, {\"transaction-id\": 2952, \"amount\": 714}, {\"transaction-id\": 3175, \"amount\": 250}, {\"transaction-id\": 3265, \"amount\": 356}, {\"transaction-id\": 3343, \"amount\": 923}, {\"transaction-id\": 3469, \"amount\": 902}, {\"transaction-id\": 3560, \"amount\": 1275}, {\"transaction-id\": 3677, \"amount\": 591}, {\"transaction-id\": 3964, \"amount\": 853}, {\"transaction-id\": 3984, \"amount\": 536}, {\"transaction-id\": 4004, \"amount\": 236}, {\"transaction-id\": 4103, \"amount\": 890}, {\"transaction-id\": 4328, \"amount\": 1115}, {\"transaction-id\": 4443, \"amount\": 249}, {\"transaction-id\": 4544, \"amount\": 478}, {\"transaction-id\": 4648, \"amount\": 945}, {\"transaction-id\": 4798, \"amount\": 1077}, {\"transaction-id\": 4838, \"amount\": 884}, {\"transaction-id\": 5048, \"amount\": 1225}, {\"transaction-id\": 5152, \"amount\": 508}, {\"transaction-id\": 5175, \"amount\": 267}, {\"transaction-id\": 5304, \"amount\": 1227}, {\"transaction-id\": 5314, \"amount\": 428}, {\"transaction-id\": 5323, \"amount\": 879}, {\"transaction-id\": 5382, \"amount\": 938}, {\"transaction-id\": 5461, \"amount\": 725}, {\"transaction-id\": 5522, \"amount\": 715}, {\"transaction-id\": 5797, \"amount\": 531}, {\"transaction-id\": 5955, \"amount\": 1087}, {\"transaction-id\": 6061, \"amount\": 796}, {\"transaction-id\": 6129, \"amount\": 978}, {\"transaction-id\": 6166, \"amount\": 678}, {\"transaction-id\": 6207, \"amount\": 345}, {\"transaction-id\": 6221, \"amount\": 1010}, {\"transaction-id\": 6249, \"amount\": 437}, {\"transaction-id\": 6425, \"amount\": 783}, {\"transaction-id\": 6531, \"amount\": 1535}, {\"transaction-id\": 6810, \"amount\": 739}, {\"transaction-id\": 6927, \"amount\": 1134}, {\"transaction-id\": 6935, \"amount\": 677}, {\"transaction-id\": 7051, \"amount\": 285}, {\"transaction-id\": 7056, \"amount\": 457}, {\"transaction-id\": 7175, \"amount\": 739}, {\"transaction-id\": 7264, \"amount\": 1042}, {\"transaction-id\": 7293, \"amount\": 259}, {\"transaction-id\": 7346, \"amount\": 726}, {\"transaction-id\": 7573, \"amount\": 932}, {\"transaction-id\": 7587, \"amount\": 849}, {\"transaction-id\": 7666, \"amount\": 929}, {\"transaction-id\": 7790, \"amount\": 1021}, {\"transaction-id\": 8262, \"amount\": 746}, {\"transaction-id\": 8308, \"amount\": 890}, {\"transaction-id\": 8500, \"amount\": 244}, {\"transaction-id\": 8508, \"amount\": 1029}, {\"transaction-id\": 8728, \"amount\": 827}, {\"transaction-id\": 8789, \"amount\": 918}, {\"transaction-id\": 8837, \"amount\": 69}, {\"transaction-id\": 9084, \"amount\": 241}, {\"transaction-id\": 9120, \"amount\": 480}, {\"transaction-id\": 9282, \"amount\": 229}, {\"transaction-id\": 9341, \"amount\": 577}, {\"transaction-id\": 9344, \"amount\": 1028}, {\"transaction-id\": 9404, \"amount\": 366}, {\"transaction-id\": 9606, \"amount\": 810}, {\"transaction-id\": 9637, \"amount\": 737}, {\"transaction-id\": 9911, \"amount\": 363}]}\\n',\n",
       " '{\"id\": 1, \"name\": \"Michael\", \"transactions\": [{\"transaction-id\": 684, \"amount\": 1797}, {\"transaction-id\": 909, \"amount\": 1956}, {\"transaction-id\": 1181, \"amount\": 1865}, {\"transaction-id\": 1325, \"amount\": 1860}, {\"transaction-id\": 1452, \"amount\": 1714}, {\"transaction-id\": 1726, \"amount\": 1749}, {\"transaction-id\": 2239, \"amount\": 1771}, {\"transaction-id\": 2343, \"amount\": 1681}, {\"transaction-id\": 2426, \"amount\": 1997}, {\"transaction-id\": 2499, \"amount\": 1814}, {\"transaction-id\": 2521, \"amount\": 1908}, {\"transaction-id\": 2533, \"amount\": 1817}, {\"transaction-id\": 2581, \"amount\": 1774}, {\"transaction-id\": 2664, \"amount\": 1757}, {\"transaction-id\": 2665, \"amount\": 1883}, {\"transaction-id\": 2747, \"amount\": 1846}, {\"transaction-id\": 2795, \"amount\": 1860}, {\"transaction-id\": 3048, \"amount\": 1982}, {\"transaction-id\": 3540, \"amount\": 1810}, {\"transaction-id\": 3968, \"amount\": 2137}, {\"transaction-id\": 4003, \"amount\": 1929}, {\"transaction-id\": 4017, \"amount\": 1936}, {\"transaction-id\": 4615, \"amount\": 1804}, {\"transaction-id\": 4635, \"amount\": 2150}, {\"transaction-id\": 4912, \"amount\": 1723}, {\"transaction-id\": 4948, \"amount\": 1971}, {\"transaction-id\": 5410, \"amount\": 1729}, {\"transaction-id\": 5489, \"amount\": 1820}, {\"transaction-id\": 5600, \"amount\": 1896}, {\"transaction-id\": 5703, \"amount\": 1923}, {\"transaction-id\": 6042, \"amount\": 1599}, {\"transaction-id\": 6380, \"amount\": 1795}, {\"transaction-id\": 6759, \"amount\": 1779}, {\"transaction-id\": 6777, \"amount\": 1819}, {\"transaction-id\": 7611, \"amount\": 1876}, {\"transaction-id\": 7659, \"amount\": 1889}, {\"transaction-id\": 7713, \"amount\": 1865}, {\"transaction-id\": 7726, \"amount\": 1625}, {\"transaction-id\": 7791, \"amount\": 1633}, {\"transaction-id\": 8188, \"amount\": 1790}, {\"transaction-id\": 8860, \"amount\": 1910}, {\"transaction-id\": 8952, \"amount\": 1671}, {\"transaction-id\": 9135, \"amount\": 1804}, {\"transaction-id\": 9355, \"amount\": 2048}, {\"transaction-id\": 9614, \"amount\": 1881}, {\"transaction-id\": 9779, \"amount\": 1802}, {\"transaction-id\": 9880, \"amount\": 1905}]}\\n',\n",
       " '{\"id\": 2, \"name\": \"Victor\", \"transactions\": [{\"transaction-id\": 1381, \"amount\": 1051}, {\"transaction-id\": 1548, \"amount\": 1086}, {\"transaction-id\": 1952, \"amount\": 1222}, {\"transaction-id\": 2100, \"amount\": 1412}, {\"transaction-id\": 2720, \"amount\": 828}, {\"transaction-id\": 3004, \"amount\": 1378}, {\"transaction-id\": 3047, \"amount\": 843}, {\"transaction-id\": 4090, \"amount\": 1706}, {\"transaction-id\": 4503, \"amount\": 1535}, {\"transaction-id\": 4557, \"amount\": 1356}, {\"transaction-id\": 4657, \"amount\": 1017}, {\"transaction-id\": 5118, \"amount\": 1182}, {\"transaction-id\": 5122, \"amount\": 1097}, {\"transaction-id\": 5580, \"amount\": 1599}, {\"transaction-id\": 5968, \"amount\": 1241}, {\"transaction-id\": 6063, \"amount\": 1448}, {\"transaction-id\": 6371, \"amount\": 1212}, {\"transaction-id\": 6465, \"amount\": 756}, {\"transaction-id\": 7116, \"amount\": 1904}, {\"transaction-id\": 7685, \"amount\": 1135}, {\"transaction-id\": 7884, \"amount\": 1221}, {\"transaction-id\": 7946, \"amount\": 1551}, {\"transaction-id\": 8006, \"amount\": 1494}, {\"transaction-id\": 8062, \"amount\": 1339}, {\"transaction-id\": 8911, \"amount\": 778}, {\"transaction-id\": 9130, \"amount\": 865}, {\"transaction-id\": 9339, \"amount\": 1223}, {\"transaction-id\": 9598, \"amount\": 1677}, {\"transaction-id\": 9662, \"amount\": 1910}, {\"transaction-id\": 9674, \"amount\": 1181}, {\"transaction-id\": 9764, \"amount\": 1790}, {\"transaction-id\": 9917, \"amount\": 1301}, {\"transaction-id\": 9946, \"amount\": 1155}, {\"transaction-id\": 9989, \"amount\": 1711}]}\\n')"
      ]
     },
     "execution_count": 9,
     "metadata": {},
     "output_type": "execute_result"
    }
   ],
   "source": [
    "filename = os.path.join('data', 'accounts.*.json.gz')\n",
    "lines = db.read_text(filename)\n",
    "lines.take(3)"
   ]
  },
  {
   "cell_type": "markdown",
   "metadata": {},
   "source": [
    "Our data comes out of the file as lines of text. Notice that file decompression happened automatically. We can make this data look more reasonable by mapping the `json.loads` function onto our bag."
   ]
  },
  {
   "cell_type": "code",
   "execution_count": 10,
   "metadata": {},
   "outputs": [
    {
     "data": {
      "text/plain": [
       "({'id': 0,\n",
       "  'name': 'Tim',\n",
       "  'transactions': [{'transaction-id': 233, 'amount': 526},\n",
       "   {'transaction-id': 241, 'amount': 942},\n",
       "   {'transaction-id': 531, 'amount': 680},\n",
       "   {'transaction-id': 1067, 'amount': 633},\n",
       "   {'transaction-id': 1114, 'amount': 844},\n",
       "   {'transaction-id': 1376, 'amount': 1382},\n",
       "   {'transaction-id': 1401, 'amount': 1182},\n",
       "   {'transaction-id': 1475, 'amount': 640},\n",
       "   {'transaction-id': 1504, 'amount': 390},\n",
       "   {'transaction-id': 1948, 'amount': 437},\n",
       "   {'transaction-id': 1970, 'amount': 218},\n",
       "   {'transaction-id': 2112, 'amount': 232},\n",
       "   {'transaction-id': 2287, 'amount': 872},\n",
       "   {'transaction-id': 2438, 'amount': 998},\n",
       "   {'transaction-id': 2439, 'amount': 786},\n",
       "   {'transaction-id': 2498, 'amount': 1388},\n",
       "   {'transaction-id': 2567, 'amount': 234},\n",
       "   {'transaction-id': 2618, 'amount': 1061},\n",
       "   {'transaction-id': 2881, 'amount': 707},\n",
       "   {'transaction-id': 2927, 'amount': 162},\n",
       "   {'transaction-id': 2952, 'amount': 714},\n",
       "   {'transaction-id': 3175, 'amount': 250},\n",
       "   {'transaction-id': 3265, 'amount': 356},\n",
       "   {'transaction-id': 3343, 'amount': 923},\n",
       "   {'transaction-id': 3469, 'amount': 902},\n",
       "   {'transaction-id': 3560, 'amount': 1275},\n",
       "   {'transaction-id': 3677, 'amount': 591},\n",
       "   {'transaction-id': 3964, 'amount': 853},\n",
       "   {'transaction-id': 3984, 'amount': 536},\n",
       "   {'transaction-id': 4004, 'amount': 236},\n",
       "   {'transaction-id': 4103, 'amount': 890},\n",
       "   {'transaction-id': 4328, 'amount': 1115},\n",
       "   {'transaction-id': 4443, 'amount': 249},\n",
       "   {'transaction-id': 4544, 'amount': 478},\n",
       "   {'transaction-id': 4648, 'amount': 945},\n",
       "   {'transaction-id': 4798, 'amount': 1077},\n",
       "   {'transaction-id': 4838, 'amount': 884},\n",
       "   {'transaction-id': 5048, 'amount': 1225},\n",
       "   {'transaction-id': 5152, 'amount': 508},\n",
       "   {'transaction-id': 5175, 'amount': 267},\n",
       "   {'transaction-id': 5304, 'amount': 1227},\n",
       "   {'transaction-id': 5314, 'amount': 428},\n",
       "   {'transaction-id': 5323, 'amount': 879},\n",
       "   {'transaction-id': 5382, 'amount': 938},\n",
       "   {'transaction-id': 5461, 'amount': 725},\n",
       "   {'transaction-id': 5522, 'amount': 715},\n",
       "   {'transaction-id': 5797, 'amount': 531},\n",
       "   {'transaction-id': 5955, 'amount': 1087},\n",
       "   {'transaction-id': 6061, 'amount': 796},\n",
       "   {'transaction-id': 6129, 'amount': 978},\n",
       "   {'transaction-id': 6166, 'amount': 678},\n",
       "   {'transaction-id': 6207, 'amount': 345},\n",
       "   {'transaction-id': 6221, 'amount': 1010},\n",
       "   {'transaction-id': 6249, 'amount': 437},\n",
       "   {'transaction-id': 6425, 'amount': 783},\n",
       "   {'transaction-id': 6531, 'amount': 1535},\n",
       "   {'transaction-id': 6810, 'amount': 739},\n",
       "   {'transaction-id': 6927, 'amount': 1134},\n",
       "   {'transaction-id': 6935, 'amount': 677},\n",
       "   {'transaction-id': 7051, 'amount': 285},\n",
       "   {'transaction-id': 7056, 'amount': 457},\n",
       "   {'transaction-id': 7175, 'amount': 739},\n",
       "   {'transaction-id': 7264, 'amount': 1042},\n",
       "   {'transaction-id': 7293, 'amount': 259},\n",
       "   {'transaction-id': 7346, 'amount': 726},\n",
       "   {'transaction-id': 7573, 'amount': 932},\n",
       "   {'transaction-id': 7587, 'amount': 849},\n",
       "   {'transaction-id': 7666, 'amount': 929},\n",
       "   {'transaction-id': 7790, 'amount': 1021},\n",
       "   {'transaction-id': 8262, 'amount': 746},\n",
       "   {'transaction-id': 8308, 'amount': 890},\n",
       "   {'transaction-id': 8500, 'amount': 244},\n",
       "   {'transaction-id': 8508, 'amount': 1029},\n",
       "   {'transaction-id': 8728, 'amount': 827},\n",
       "   {'transaction-id': 8789, 'amount': 918},\n",
       "   {'transaction-id': 8837, 'amount': 69},\n",
       "   {'transaction-id': 9084, 'amount': 241},\n",
       "   {'transaction-id': 9120, 'amount': 480},\n",
       "   {'transaction-id': 9282, 'amount': 229},\n",
       "   {'transaction-id': 9341, 'amount': 577},\n",
       "   {'transaction-id': 9344, 'amount': 1028},\n",
       "   {'transaction-id': 9404, 'amount': 366},\n",
       "   {'transaction-id': 9606, 'amount': 810},\n",
       "   {'transaction-id': 9637, 'amount': 737},\n",
       "   {'transaction-id': 9911, 'amount': 363}]},\n",
       " {'id': 1,\n",
       "  'name': 'Michael',\n",
       "  'transactions': [{'transaction-id': 684, 'amount': 1797},\n",
       "   {'transaction-id': 909, 'amount': 1956},\n",
       "   {'transaction-id': 1181, 'amount': 1865},\n",
       "   {'transaction-id': 1325, 'amount': 1860},\n",
       "   {'transaction-id': 1452, 'amount': 1714},\n",
       "   {'transaction-id': 1726, 'amount': 1749},\n",
       "   {'transaction-id': 2239, 'amount': 1771},\n",
       "   {'transaction-id': 2343, 'amount': 1681},\n",
       "   {'transaction-id': 2426, 'amount': 1997},\n",
       "   {'transaction-id': 2499, 'amount': 1814},\n",
       "   {'transaction-id': 2521, 'amount': 1908},\n",
       "   {'transaction-id': 2533, 'amount': 1817},\n",
       "   {'transaction-id': 2581, 'amount': 1774},\n",
       "   {'transaction-id': 2664, 'amount': 1757},\n",
       "   {'transaction-id': 2665, 'amount': 1883},\n",
       "   {'transaction-id': 2747, 'amount': 1846},\n",
       "   {'transaction-id': 2795, 'amount': 1860},\n",
       "   {'transaction-id': 3048, 'amount': 1982},\n",
       "   {'transaction-id': 3540, 'amount': 1810},\n",
       "   {'transaction-id': 3968, 'amount': 2137},\n",
       "   {'transaction-id': 4003, 'amount': 1929},\n",
       "   {'transaction-id': 4017, 'amount': 1936},\n",
       "   {'transaction-id': 4615, 'amount': 1804},\n",
       "   {'transaction-id': 4635, 'amount': 2150},\n",
       "   {'transaction-id': 4912, 'amount': 1723},\n",
       "   {'transaction-id': 4948, 'amount': 1971},\n",
       "   {'transaction-id': 5410, 'amount': 1729},\n",
       "   {'transaction-id': 5489, 'amount': 1820},\n",
       "   {'transaction-id': 5600, 'amount': 1896},\n",
       "   {'transaction-id': 5703, 'amount': 1923},\n",
       "   {'transaction-id': 6042, 'amount': 1599},\n",
       "   {'transaction-id': 6380, 'amount': 1795},\n",
       "   {'transaction-id': 6759, 'amount': 1779},\n",
       "   {'transaction-id': 6777, 'amount': 1819},\n",
       "   {'transaction-id': 7611, 'amount': 1876},\n",
       "   {'transaction-id': 7659, 'amount': 1889},\n",
       "   {'transaction-id': 7713, 'amount': 1865},\n",
       "   {'transaction-id': 7726, 'amount': 1625},\n",
       "   {'transaction-id': 7791, 'amount': 1633},\n",
       "   {'transaction-id': 8188, 'amount': 1790},\n",
       "   {'transaction-id': 8860, 'amount': 1910},\n",
       "   {'transaction-id': 8952, 'amount': 1671},\n",
       "   {'transaction-id': 9135, 'amount': 1804},\n",
       "   {'transaction-id': 9355, 'amount': 2048},\n",
       "   {'transaction-id': 9614, 'amount': 1881},\n",
       "   {'transaction-id': 9779, 'amount': 1802},\n",
       "   {'transaction-id': 9880, 'amount': 1905}]},\n",
       " {'id': 2,\n",
       "  'name': 'Victor',\n",
       "  'transactions': [{'transaction-id': 1381, 'amount': 1051},\n",
       "   {'transaction-id': 1548, 'amount': 1086},\n",
       "   {'transaction-id': 1952, 'amount': 1222},\n",
       "   {'transaction-id': 2100, 'amount': 1412},\n",
       "   {'transaction-id': 2720, 'amount': 828},\n",
       "   {'transaction-id': 3004, 'amount': 1378},\n",
       "   {'transaction-id': 3047, 'amount': 843},\n",
       "   {'transaction-id': 4090, 'amount': 1706},\n",
       "   {'transaction-id': 4503, 'amount': 1535},\n",
       "   {'transaction-id': 4557, 'amount': 1356},\n",
       "   {'transaction-id': 4657, 'amount': 1017},\n",
       "   {'transaction-id': 5118, 'amount': 1182},\n",
       "   {'transaction-id': 5122, 'amount': 1097},\n",
       "   {'transaction-id': 5580, 'amount': 1599},\n",
       "   {'transaction-id': 5968, 'amount': 1241},\n",
       "   {'transaction-id': 6063, 'amount': 1448},\n",
       "   {'transaction-id': 6371, 'amount': 1212},\n",
       "   {'transaction-id': 6465, 'amount': 756},\n",
       "   {'transaction-id': 7116, 'amount': 1904},\n",
       "   {'transaction-id': 7685, 'amount': 1135},\n",
       "   {'transaction-id': 7884, 'amount': 1221},\n",
       "   {'transaction-id': 7946, 'amount': 1551},\n",
       "   {'transaction-id': 8006, 'amount': 1494},\n",
       "   {'transaction-id': 8062, 'amount': 1339},\n",
       "   {'transaction-id': 8911, 'amount': 778},\n",
       "   {'transaction-id': 9130, 'amount': 865},\n",
       "   {'transaction-id': 9339, 'amount': 1223},\n",
       "   {'transaction-id': 9598, 'amount': 1677},\n",
       "   {'transaction-id': 9662, 'amount': 1910},\n",
       "   {'transaction-id': 9674, 'amount': 1181},\n",
       "   {'transaction-id': 9764, 'amount': 1790},\n",
       "   {'transaction-id': 9917, 'amount': 1301},\n",
       "   {'transaction-id': 9946, 'amount': 1155},\n",
       "   {'transaction-id': 9989, 'amount': 1711}]})"
      ]
     },
     "execution_count": 10,
     "metadata": {},
     "output_type": "execute_result"
    }
   ],
   "source": [
    "import json\n",
    "js = lines.map(json.loads)\n",
    "# take: inspect first few elements\n",
    "js.take(3)"
   ]
  },
  {
   "cell_type": "markdown",
   "metadata": {},
   "source": [
    "### Basic Queries"
   ]
  },
  {
   "cell_type": "markdown",
   "metadata": {},
   "source": [
    "Once we parse our JSON data into proper Python objects (`dict`s, `list`s, etc.) we can perform more interesting queries by creating small Python functions to run on our data."
   ]
  },
  {
   "cell_type": "code",
   "execution_count": 11,
   "metadata": {},
   "outputs": [
    {
     "data": {
      "text/plain": [
       "({'id': 14,\n",
       "  'name': 'Alice',\n",
       "  'transactions': [{'transaction-id': 1063, 'amount': 401},\n",
       "   {'transaction-id': 1244, 'amount': 398},\n",
       "   {'transaction-id': 1590, 'amount': 389},\n",
       "   {'transaction-id': 4463, 'amount': 407},\n",
       "   {'transaction-id': 4534, 'amount': 414},\n",
       "   {'transaction-id': 5899, 'amount': 449},\n",
       "   {'transaction-id': 6738, 'amount': 382},\n",
       "   {'transaction-id': 8212, 'amount': 433},\n",
       "   {'transaction-id': 8772, 'amount': 388},\n",
       "   {'transaction-id': 9439, 'amount': 452}]},\n",
       " {'id': 27,\n",
       "  'name': 'Alice',\n",
       "  'transactions': [{'transaction-id': 1189, 'amount': 263},\n",
       "   {'transaction-id': 1892, 'amount': 845},\n",
       "   {'transaction-id': 3753, 'amount': 532},\n",
       "   {'transaction-id': 4693, 'amount': 806},\n",
       "   {'transaction-id': 5105, 'amount': 847},\n",
       "   {'transaction-id': 5442, 'amount': 1165},\n",
       "   {'transaction-id': 5767, 'amount': 329},\n",
       "   {'transaction-id': 5855, 'amount': 646},\n",
       "   {'transaction-id': 7496, 'amount': 908},\n",
       "   {'transaction-id': 7629, 'amount': 1169},\n",
       "   {'transaction-id': 8070, 'amount': 1072},\n",
       "   {'transaction-id': 9644, 'amount': 1291}]},\n",
       " {'id': 42,\n",
       "  'name': 'Alice',\n",
       "  'transactions': [{'transaction-id': 3, 'amount': 570},\n",
       "   {'transaction-id': 1070, 'amount': 590},\n",
       "   {'transaction-id': 2478, 'amount': 559},\n",
       "   {'transaction-id': 3890, 'amount': 582},\n",
       "   {'transaction-id': 4348, 'amount': 629},\n",
       "   {'transaction-id': 4640, 'amount': 568},\n",
       "   {'transaction-id': 4896, 'amount': 643},\n",
       "   {'transaction-id': 5822, 'amount': 629},\n",
       "   {'transaction-id': 6378, 'amount': 541},\n",
       "   {'transaction-id': 8578, 'amount': 562},\n",
       "   {'transaction-id': 8733, 'amount': 526},\n",
       "   {'transaction-id': 9603, 'amount': 560},\n",
       "   {'transaction-id': 9879, 'amount': 591}]},\n",
       " {'id': 49,\n",
       "  'name': 'Alice',\n",
       "  'transactions': [{'transaction-id': 550, 'amount': 75},\n",
       "   {'transaction-id': 566, 'amount': 98},\n",
       "   {'transaction-id': 696, 'amount': 69},\n",
       "   {'transaction-id': 731, 'amount': 53},\n",
       "   {'transaction-id': 871, 'amount': 81},\n",
       "   {'transaction-id': 1350, 'amount': 87},\n",
       "   {'transaction-id': 1652, 'amount': 27},\n",
       "   {'transaction-id': 1888, 'amount': 57},\n",
       "   {'transaction-id': 2563, 'amount': 91},\n",
       "   {'transaction-id': 3318, 'amount': 64},\n",
       "   {'transaction-id': 3654, 'amount': 77},\n",
       "   {'transaction-id': 5140, 'amount': 15},\n",
       "   {'transaction-id': 5854, 'amount': 100},\n",
       "   {'transaction-id': 5987, 'amount': 80},\n",
       "   {'transaction-id': 6301, 'amount': 85},\n",
       "   {'transaction-id': 6333, 'amount': 60},\n",
       "   {'transaction-id': 7624, 'amount': 64},\n",
       "   {'transaction-id': 8089, 'amount': 40},\n",
       "   {'transaction-id': 8458, 'amount': 33},\n",
       "   {'transaction-id': 8989, 'amount': 78},\n",
       "   {'transaction-id': 9371, 'amount': 37}]},\n",
       " {'id': 57,\n",
       "  'name': 'Alice',\n",
       "  'transactions': [{'transaction-id': 1, 'amount': 301},\n",
       "   {'transaction-id': 17, 'amount': 342},\n",
       "   {'transaction-id': 122, 'amount': 318},\n",
       "   {'transaction-id': 146, 'amount': 310},\n",
       "   {'transaction-id': 205, 'amount': 333},\n",
       "   {'transaction-id': 228, 'amount': 281},\n",
       "   {'transaction-id': 236, 'amount': 333},\n",
       "   {'transaction-id': 491, 'amount': 303},\n",
       "   {'transaction-id': 922, 'amount': 306},\n",
       "   {'transaction-id': 953, 'amount': 323},\n",
       "   {'transaction-id': 1610, 'amount': 317},\n",
       "   {'transaction-id': 1762, 'amount': 286},\n",
       "   {'transaction-id': 1856, 'amount': 323},\n",
       "   {'transaction-id': 2049, 'amount': 311},\n",
       "   {'transaction-id': 2497, 'amount': 344},\n",
       "   {'transaction-id': 2680, 'amount': 350},\n",
       "   {'transaction-id': 2768, 'amount': 351},\n",
       "   {'transaction-id': 2917, 'amount': 352},\n",
       "   {'transaction-id': 3290, 'amount': 297},\n",
       "   {'transaction-id': 3321, 'amount': 320},\n",
       "   {'transaction-id': 3518, 'amount': 324},\n",
       "   {'transaction-id': 3741, 'amount': 332},\n",
       "   {'transaction-id': 3767, 'amount': 316},\n",
       "   {'transaction-id': 4890, 'amount': 346},\n",
       "   {'transaction-id': 4939, 'amount': 343},\n",
       "   {'transaction-id': 5153, 'amount': 327},\n",
       "   {'transaction-id': 5569, 'amount': 311},\n",
       "   {'transaction-id': 6234, 'amount': 340},\n",
       "   {'transaction-id': 6338, 'amount': 357},\n",
       "   {'transaction-id': 6352, 'amount': 332},\n",
       "   {'transaction-id': 6589, 'amount': 327},\n",
       "   {'transaction-id': 6891, 'amount': 325},\n",
       "   {'transaction-id': 7106, 'amount': 328},\n",
       "   {'transaction-id': 7525, 'amount': 330},\n",
       "   {'transaction-id': 7636, 'amount': 295},\n",
       "   {'transaction-id': 7722, 'amount': 321},\n",
       "   {'transaction-id': 8705, 'amount': 354},\n",
       "   {'transaction-id': 8736, 'amount': 350},\n",
       "   {'transaction-id': 8788, 'amount': 320},\n",
       "   {'transaction-id': 8887, 'amount': 311},\n",
       "   {'transaction-id': 8895, 'amount': 302},\n",
       "   {'transaction-id': 9625, 'amount': 323},\n",
       "   {'transaction-id': 9643, 'amount': 350},\n",
       "   {'transaction-id': 9746, 'amount': 345},\n",
       "   {'transaction-id': 9791, 'amount': 324},\n",
       "   {'transaction-id': 9884, 'amount': 301}]})"
      ]
     },
     "execution_count": 11,
     "metadata": {},
     "output_type": "execute_result"
    }
   ],
   "source": [
    "# filter: keep only some elements of the sequence\n",
    "js.filter(lambda record: record['name'] == 'Alice').take(5)"
   ]
  },
  {
   "cell_type": "code",
   "execution_count": 12,
   "metadata": {},
   "outputs": [
    {
     "data": {
      "text/plain": [
       "({'name': 'Alice', 'count': 10},\n",
       " {'name': 'Alice', 'count': 12},\n",
       " {'name': 'Alice', 'count': 13},\n",
       " {'name': 'Alice', 'count': 21},\n",
       " {'name': 'Alice', 'count': 46})"
      ]
     },
     "execution_count": 12,
     "metadata": {},
     "output_type": "execute_result"
    }
   ],
   "source": [
    "def count_transactions(d):\n",
    "    return {'name': d['name'], 'count': len(d['transactions'])}\n",
    "\n",
    "# map: apply a function to each element\n",
    "(js.filter(lambda record: record['name'] == 'Alice')\n",
    "   .map(count_transactions)\n",
    "   .take(5))"
   ]
  },
  {
   "cell_type": "code",
   "execution_count": 13,
   "metadata": {},
   "outputs": [
    {
     "data": {
      "text/plain": [
       "(10, 12, 13, 21, 46)"
      ]
     },
     "execution_count": 13,
     "metadata": {},
     "output_type": "execute_result"
    }
   ],
   "source": [
    "# pluck: select a field, as from a dictionary, element[field]\n",
    "(js.filter(lambda record: record['name'] == 'Alice')\n",
    "   .map(count_transactions)\n",
    "   .pluck('count')\n",
    "   .take(5))"
   ]
  },
  {
   "cell_type": "code",
   "execution_count": 14,
   "metadata": {},
   "outputs": [
    {
     "data": {
      "text/plain": [
       "56.314"
      ]
     },
     "execution_count": 14,
     "metadata": {},
     "output_type": "execute_result"
    }
   ],
   "source": [
    "# Average number of transactions for all of the Alice entries\n",
    "(js.filter(lambda record: record['name'] == 'Alice')\n",
    "   .map(count_transactions)\n",
    "   .pluck('count')\n",
    "   .mean()\n",
    "   .compute())"
   ]
  },
  {
   "cell_type": "markdown",
   "metadata": {},
   "source": [
    "### Use `flatten` to de-nest"
   ]
  },
  {
   "cell_type": "markdown",
   "metadata": {},
   "source": [
    "In the example below we see the use of `.flatten()` to flatten results.  We compute the average amount for all transactions for all Alices."
   ]
  },
  {
   "cell_type": "code",
   "execution_count": 15,
   "metadata": {},
   "outputs": [
    {
     "data": {
      "text/plain": [
       "([{'transaction-id': 1063, 'amount': 401},\n",
       "  {'transaction-id': 1244, 'amount': 398},\n",
       "  {'transaction-id': 1590, 'amount': 389},\n",
       "  {'transaction-id': 4463, 'amount': 407},\n",
       "  {'transaction-id': 4534, 'amount': 414},\n",
       "  {'transaction-id': 5899, 'amount': 449},\n",
       "  {'transaction-id': 6738, 'amount': 382},\n",
       "  {'transaction-id': 8212, 'amount': 433},\n",
       "  {'transaction-id': 8772, 'amount': 388},\n",
       "  {'transaction-id': 9439, 'amount': 452}],\n",
       " [{'transaction-id': 1189, 'amount': 263},\n",
       "  {'transaction-id': 1892, 'amount': 845},\n",
       "  {'transaction-id': 3753, 'amount': 532},\n",
       "  {'transaction-id': 4693, 'amount': 806},\n",
       "  {'transaction-id': 5105, 'amount': 847},\n",
       "  {'transaction-id': 5442, 'amount': 1165},\n",
       "  {'transaction-id': 5767, 'amount': 329},\n",
       "  {'transaction-id': 5855, 'amount': 646},\n",
       "  {'transaction-id': 7496, 'amount': 908},\n",
       "  {'transaction-id': 7629, 'amount': 1169},\n",
       "  {'transaction-id': 8070, 'amount': 1072},\n",
       "  {'transaction-id': 9644, 'amount': 1291}],\n",
       " [{'transaction-id': 3, 'amount': 570},\n",
       "  {'transaction-id': 1070, 'amount': 590},\n",
       "  {'transaction-id': 2478, 'amount': 559},\n",
       "  {'transaction-id': 3890, 'amount': 582},\n",
       "  {'transaction-id': 4348, 'amount': 629},\n",
       "  {'transaction-id': 4640, 'amount': 568},\n",
       "  {'transaction-id': 4896, 'amount': 643},\n",
       "  {'transaction-id': 5822, 'amount': 629},\n",
       "  {'transaction-id': 6378, 'amount': 541},\n",
       "  {'transaction-id': 8578, 'amount': 562},\n",
       "  {'transaction-id': 8733, 'amount': 526},\n",
       "  {'transaction-id': 9603, 'amount': 560},\n",
       "  {'transaction-id': 9879, 'amount': 591}])"
      ]
     },
     "execution_count": 15,
     "metadata": {},
     "output_type": "execute_result"
    }
   ],
   "source": [
    "js.filter(lambda record: record['name'] == 'Alice').pluck('transactions').take(3)"
   ]
  },
  {
   "cell_type": "code",
   "execution_count": 16,
   "metadata": {},
   "outputs": [
    {
     "data": {
      "text/plain": [
       "({'transaction-id': 1063, 'amount': 401},\n",
       " {'transaction-id': 1244, 'amount': 398},\n",
       " {'transaction-id': 1590, 'amount': 389})"
      ]
     },
     "execution_count": 16,
     "metadata": {},
     "output_type": "execute_result"
    }
   ],
   "source": [
    "(js.filter(lambda record: record['name'] == 'Alice')\n",
    "   .pluck('transactions')\n",
    "   .flatten()\n",
    "   .take(3))"
   ]
  },
  {
   "cell_type": "code",
   "execution_count": 17,
   "metadata": {},
   "outputs": [
    {
     "data": {
      "text/plain": [
       "(401, 398, 389)"
      ]
     },
     "execution_count": 17,
     "metadata": {},
     "output_type": "execute_result"
    }
   ],
   "source": [
    "(js.filter(lambda record: record['name'] == 'Alice')\n",
    "   .pluck('transactions')\n",
    "   .flatten()\n",
    "   .pluck('amount')\n",
    "   .take(3))"
   ]
  },
  {
   "cell_type": "code",
   "execution_count": 18,
   "metadata": {},
   "outputs": [
    {
     "data": {
      "text/plain": [
       "781.317185779735"
      ]
     },
     "execution_count": 18,
     "metadata": {},
     "output_type": "execute_result"
    }
   ],
   "source": [
    "(js.filter(lambda record: record['name'] == 'Alice')\n",
    "   .pluck('transactions')\n",
    "   .flatten()\n",
    "   .pluck('amount')\n",
    "   .mean()\n",
    "   .compute())"
   ]
  },
  {
   "cell_type": "markdown",
   "metadata": {},
   "source": [
    "### Groupby and Foldby"
   ]
  },
  {
   "cell_type": "markdown",
   "metadata": {},
   "source": [
    "Often we want to group data by some function or key.  We can do this either with the `.groupby` method, which is straightforward but forces a full shuffle of the data (expensive) or with the harder-to-use but faster `.foldby` method, which does a streaming combined groupby and reduction.\n",
    "\n",
    "*  `groupby`:  Shuffles data so that all items with the same key are in the same key-value pair\n",
    "*  `foldby`:  Walks through the data accumulating a result per key\n",
    "\n",
    "*Note: the full groupby is particularly bad. In actual workloads you would do well to use `foldby` or switch to `DataFrame`s if possible.*"
   ]
  },
  {
   "cell_type": "markdown",
   "metadata": {},
   "source": [
    "### `groupby`"
   ]
  },
  {
   "cell_type": "markdown",
   "metadata": {},
   "source": [
    "Groupby collects items in your collection so that all items with the same value under some function are collected together into a key-value pair."
   ]
  },
  {
   "cell_type": "code",
   "execution_count": 19,
   "metadata": {},
   "outputs": [
    {
     "data": {
      "text/plain": [
       "[(7, ['Charlie']), (3, ['Bob', 'Dan']), (5, ['Alice', 'Edith', 'Frank'])]"
      ]
     },
     "execution_count": 19,
     "metadata": {},
     "output_type": "execute_result"
    }
   ],
   "source": [
    "b = db.from_sequence(['Alice', 'Bob', 'Charlie', 'Dan', 'Edith', 'Frank'])\n",
    "b.groupby(len).compute()  # names grouped by length"
   ]
  },
  {
   "cell_type": "code",
   "execution_count": 20,
   "metadata": {},
   "outputs": [
    {
     "data": {
      "text/plain": [
       "[(0, [0, 2, 4, 6, 8]), (1, [1, 3, 5, 7, 9])]"
      ]
     },
     "execution_count": 20,
     "metadata": {},
     "output_type": "execute_result"
    }
   ],
   "source": [
    "b = db.from_sequence(list(range(10)))\n",
    "b.groupby(lambda x: x % 2).compute()"
   ]
  },
  {
   "cell_type": "code",
   "execution_count": 21,
   "metadata": {},
   "outputs": [
    {
     "data": {
      "text/plain": [
       "[(0, 8), (1, 9)]"
      ]
     },
     "execution_count": 21,
     "metadata": {},
     "output_type": "execute_result"
    }
   ],
   "source": [
    "b.groupby(lambda x: x % 2).starmap(lambda k, v: (k, max(v))).compute()"
   ]
  },
  {
   "cell_type": "markdown",
   "metadata": {},
   "source": [
    "### `foldby`"
   ]
  },
  {
   "cell_type": "markdown",
   "metadata": {},
   "source": [
    "Foldby can be quite odd at first.  It is similar to the following functions from other libraries:\n",
    "\n",
    "*  [`toolz.reduceby`](http://toolz.readthedocs.io/en/latest/streaming-analytics.html#streaming-split-apply-combine)\n",
    "*  [`pyspark.RDD.combineByKey`](http://abshinn.github.io/python/apache-spark/2014/10/11/using-combinebykey-in-apache-spark/)\n",
    "\n",
    "When using `foldby` you provide \n",
    "\n",
    "1.  A key function on which to group elements\n",
    "2.  A binary operator such as you would pass to `reduce` that you use to perform reduction per each group\n",
    "3.  A combine binary operator that can combine the results of two `reduce` calls on different parts of your dataset.\n",
    "\n",
    "Your reduction must be associative.  It will happen in parallel in each of the partitions of your dataset.  Then all of these intermediate results will be combined by the `combine` binary operator."
   ]
  },
  {
   "cell_type": "code",
   "execution_count": 22,
   "metadata": {},
   "outputs": [
    {
     "data": {
      "text/plain": [
       "[(0, 8), (1, 9)]"
      ]
     },
     "execution_count": 22,
     "metadata": {},
     "output_type": "execute_result"
    }
   ],
   "source": [
    "is_even = lambda x: x % 2\n",
    "b.foldby(is_even, binop=max, combine=max).compute()"
   ]
  },
  {
   "cell_type": "markdown",
   "metadata": {},
   "source": [
    "### Example with account data"
   ]
  },
  {
   "cell_type": "markdown",
   "metadata": {},
   "source": [
    "We find the number of people with the same name."
   ]
  },
  {
   "cell_type": "code",
   "execution_count": 23,
   "metadata": {},
   "outputs": [
    {
     "name": "stdout",
     "output_type": "stream",
     "text": [
      "[('Alice', 120), ('Alice', 120), ('Alice', 130), ('Alice', 130), ('Bob', 105), ('Bob', 105), ('Bob', 114), ('Bob', 115), ('Charlie', 147), ('Charlie', 147), ('Charlie', 158), ('Charlie', 159), ('Dan', 63), ('Dan', 66), ('Dan', 68), ('Dan', 71), ('Edith', 107), ('Edith', 107), ('Edith', 117), ('Edith', 117), ('Frank', 108), ('Frank', 108), ('Frank', 117), ('Frank', 117), ('George', 84), ('George', 84), ('George', 91), ('George', 91), ('Hannah', 126), ('Hannah', 139), ('Hannah', 261), ('Ingrid', 156), ('Ingrid', 156), ('Ingrid', 169), ('Ingrid', 169), ('Jerry', 96), ('Jerry', 96), ('Jerry', 104), ('Jerry', 104), ('Kevin', 96), ('Kevin', 96), ('Kevin', 104), ('Kevin', 104), ('Laura', 144), ('Laura', 144), ('Laura', 156), ('Laura', 156), ('Michael', 115), ('Michael', 116), ('Michael', 125), ('Michael', 126), ('Norbert', 142), ('Norbert', 151), ('Norbert', 296), ('Oliver', 96), ('Oliver', 96), ('Oliver', 104), ('Oliver', 104), ('Patricia', 71), ('Patricia', 72), ('Patricia', 78), ('Patricia', 78), ('Quinn', 102), ('Quinn', 104), ('Quinn', 110), ('Quinn', 119), ('Ray', 83), ('Ray', 87), ('Ray', 173), ('Sarah', 133), ('Sarah', 133), ('Sarah', 144), ('Sarah', 146), ('Tim', 100), ('Tim', 102), ('Tim', 107), ('Tim', 110), ('Ursula', 71), ('Ursula', 71), ('Ursula', 76), ('Ursula', 78), ('Victor', 160), ('Victor', 162), ('Victor', 171), ('Victor', 171), ('Wendy', 60), ('Wendy', 60), ('Wendy', 64), ('Wendy', 65), ('Xavier', 144), ('Xavier', 144), ('Xavier', 156), ('Xavier', 156), ('Yvonne', 67), ('Yvonne', 70), ('Yvonne', 76), ('Yvonne', 77), ('Zelda', 199), ('Zelda', 201), ('Zelda', 218), ('Zelda', 218)]\n",
      "CPU times: user 1.55 s, sys: 64.1 ms, total: 1.61 s\n",
      "Wall time: 8.9 s\n"
     ]
    }
   ],
   "source": [
    "%%time\n",
    "# Warning, this one takes a while...\n",
    "result = js.groupby(lambda item: item['name']).starmap(lambda k, v: (k, len(v))).compute()\n",
    "print(sorted(result))"
   ]
  },
  {
   "cell_type": "code",
   "execution_count": 24,
   "metadata": {},
   "outputs": [
    {
     "name": "stdout",
     "output_type": "stream",
     "text": [
      "[('Alice', 500), ('Bob', 439), ('Charlie', 611), ('Dan', 268), ('Edith', 448), ('Frank', 450), ('George', 350), ('Hannah', 526), ('Ingrid', 650), ('Jerry', 400), ('Kevin', 400), ('Laura', 600), ('Michael', 482), ('Norbert', 589), ('Oliver', 400), ('Patricia', 299), ('Quinn', 435), ('Ray', 343), ('Sarah', 556), ('Tim', 419), ('Ursula', 296), ('Victor', 664), ('Wendy', 249), ('Xavier', 600), ('Yvonne', 290), ('Zelda', 836)]\n",
      "CPU times: user 148 ms, sys: 20.5 ms, total: 169 ms\n",
      "Wall time: 626 ms\n"
     ]
    }
   ],
   "source": [
    "%%time\n",
    "# This one is comparatively fast and produces the same result.\n",
    "from operator import add\n",
    "def incr(tot, _):\n",
    "    return tot+1\n",
    "\n",
    "result = js.foldby(key='name', \n",
    "                   binop=incr, \n",
    "                   initial=0, \n",
    "                   combine=add, \n",
    "                   combine_initial=0).compute()\n",
    "print(sorted(result))"
   ]
  },
  {
   "cell_type": "markdown",
   "metadata": {},
   "source": [
    "### Exercise: compute total amount per name"
   ]
  },
  {
   "cell_type": "markdown",
   "metadata": {},
   "source": [
    "We want to groupby (or foldby) the `name` key, then add up the all of the amounts for each name.\n",
    "\n",
    "Steps\n",
    "\n",
    "1.  Create a small function that, given a dictionary like \n",
    "\n",
    "        {'name': 'Alice', 'transactions': [{'amount': 1, 'id': 123}, {'amount': 2, 'id': 456}]}\n",
    "        \n",
    "    produces the sum of the amounts, e.g. `3`\n",
    "    \n",
    "2.  Slightly change the binary operator of the `foldby` example above so that the binary operator doesn't count the number of entries, but instead accumulates the sum of the amounts."
   ]
  },
  {
   "cell_type": "code",
   "execution_count": 25,
   "metadata": {},
   "outputs": [],
   "source": [
    "# Your code here..."
   ]
  },
  {
   "cell_type": "markdown",
   "metadata": {},
   "source": [
    "## DataFrames"
   ]
  },
  {
   "cell_type": "markdown",
   "metadata": {},
   "source": [
    "For the same reasons that Pandas is often faster than pure Python, `dask.dataframe` can be faster than `dask.bag`.  We will work more with DataFrames later, but from for the bag point of view, they are frequently the end-point of the \"messy\" part of data ingestion—once the data can be made into a data-frame, then complex split-apply-combine logic will become much more straight-forward and efficient.\n",
    "\n",
    "You can transform a bag with a simple tuple or flat dictionary structure into a `dask.dataframe` with the `to_dataframe` method."
   ]
  },
  {
   "cell_type": "code",
   "execution_count": 26,
   "metadata": {},
   "outputs": [
    {
     "data": {
      "text/html": [
       "<div>\n",
       "<style scoped>\n",
       "    .dataframe tbody tr th:only-of-type {\n",
       "        vertical-align: middle;\n",
       "    }\n",
       "\n",
       "    .dataframe tbody tr th {\n",
       "        vertical-align: top;\n",
       "    }\n",
       "\n",
       "    .dataframe thead th {\n",
       "        text-align: right;\n",
       "    }\n",
       "</style>\n",
       "<table border=\"1\" class=\"dataframe\">\n",
       "  <thead>\n",
       "    <tr style=\"text-align: right;\">\n",
       "      <th></th>\n",
       "      <th>id</th>\n",
       "      <th>name</th>\n",
       "      <th>transactions</th>\n",
       "    </tr>\n",
       "  </thead>\n",
       "  <tbody>\n",
       "    <tr>\n",
       "      <th>0</th>\n",
       "      <td>0</td>\n",
       "      <td>Tim</td>\n",
       "      <td>[{'transaction-id': 233, 'amount': 526}, {'tra...</td>\n",
       "    </tr>\n",
       "    <tr>\n",
       "      <th>1</th>\n",
       "      <td>1</td>\n",
       "      <td>Michael</td>\n",
       "      <td>[{'transaction-id': 684, 'amount': 1797}, {'tr...</td>\n",
       "    </tr>\n",
       "    <tr>\n",
       "      <th>2</th>\n",
       "      <td>2</td>\n",
       "      <td>Victor</td>\n",
       "      <td>[{'transaction-id': 1381, 'amount': 1051}, {'t...</td>\n",
       "    </tr>\n",
       "    <tr>\n",
       "      <th>3</th>\n",
       "      <td>3</td>\n",
       "      <td>Norbert</td>\n",
       "      <td>[{'transaction-id': 203, 'amount': 119}, {'tra...</td>\n",
       "    </tr>\n",
       "    <tr>\n",
       "      <th>4</th>\n",
       "      <td>4</td>\n",
       "      <td>Patricia</td>\n",
       "      <td>[{'transaction-id': 540, 'amount': 1569}, {'tr...</td>\n",
       "    </tr>\n",
       "  </tbody>\n",
       "</table>\n",
       "</div>"
      ],
      "text/plain": [
       "   id      name                                       transactions\n",
       "0   0       Tim  [{'transaction-id': 233, 'amount': 526}, {'tra...\n",
       "1   1   Michael  [{'transaction-id': 684, 'amount': 1797}, {'tr...\n",
       "2   2    Victor  [{'transaction-id': 1381, 'amount': 1051}, {'t...\n",
       "3   3   Norbert  [{'transaction-id': 203, 'amount': 119}, {'tra...\n",
       "4   4  Patricia  [{'transaction-id': 540, 'amount': 1569}, {'tr..."
      ]
     },
     "execution_count": 26,
     "metadata": {},
     "output_type": "execute_result"
    }
   ],
   "source": [
    "df1 = js.to_dataframe()\n",
    "df1.head()"
   ]
  },
  {
   "cell_type": "markdown",
   "metadata": {},
   "source": [
    "This now looks like a well-defined DataFrame, and we can apply Pandas-like computations to it efficiently."
   ]
  },
  {
   "cell_type": "markdown",
   "metadata": {},
   "source": [
    "Using a Dask DataFrame, how long does it take to do our prior computation of numbers of people with the same name?  It turns out that `dask.dataframe.groupby()` beats `dask.bag.groupby()` more than an order of magnitude; but it still cannot match `dask.bag.foldby()` for this case."
   ]
  },
  {
   "cell_type": "code",
   "execution_count": 27,
   "metadata": {},
   "outputs": [
    {
     "name": "stdout",
     "output_type": "stream",
     "text": [
      "CPU times: user 182 ms, sys: 21.8 ms, total: 204 ms\n",
      "Wall time: 1.69 s\n"
     ]
    },
    {
     "data": {
      "text/plain": [
       "name\n",
       "Alice      500\n",
       "Bob        439\n",
       "Charlie    611\n",
       "Dan        268\n",
       "Edith      448\n",
       "Name: id, dtype: int64"
      ]
     },
     "execution_count": 27,
     "metadata": {},
     "output_type": "execute_result"
    }
   ],
   "source": [
    "%time df1.groupby('name').id.count().compute().head()"
   ]
  },
  {
   "cell_type": "markdown",
   "metadata": {},
   "source": [
    "### Denormalization"
   ]
  },
  {
   "cell_type": "markdown",
   "metadata": {},
   "source": [
    "This DataFrame format is less-than-optimal because the `transactions` column is filled with nested data so Pandas has to revert to `object` dtype, which is quite slow in Pandas.  Ideally we want to transform to a dataframe only after we have flattened our data so that each record is a single `int`, `string`, `float`, etc.."
   ]
  },
  {
   "cell_type": "code",
   "execution_count": 28,
   "metadata": {},
   "outputs": [
    {
     "data": {
      "text/plain": [
       "({'id': 0, 'name': 'Tim', 'amount': 526, 'transaction-id': 233},\n",
       " {'id': 0, 'name': 'Tim', 'amount': 942, 'transaction-id': 241},\n",
       " {'id': 0, 'name': 'Tim', 'amount': 680, 'transaction-id': 531})"
      ]
     },
     "execution_count": 28,
     "metadata": {},
     "output_type": "execute_result"
    }
   ],
   "source": [
    "def denormalize(record):\n",
    "    # returns a list for every nested item, each transaction of each person\n",
    "    return [{'id': record['id'], \n",
    "             'name': record['name'], \n",
    "             'amount': transaction['amount'], \n",
    "             'transaction-id': transaction['transaction-id']}\n",
    "            for transaction in record['transactions']]\n",
    "\n",
    "transactions = js.map(denormalize).flatten()\n",
    "transactions.take(3)"
   ]
  },
  {
   "cell_type": "code",
   "execution_count": 29,
   "metadata": {},
   "outputs": [
    {
     "data": {
      "text/html": [
       "<div>\n",
       "<style scoped>\n",
       "    .dataframe tbody tr th:only-of-type {\n",
       "        vertical-align: middle;\n",
       "    }\n",
       "\n",
       "    .dataframe tbody tr th {\n",
       "        vertical-align: top;\n",
       "    }\n",
       "\n",
       "    .dataframe thead th {\n",
       "        text-align: right;\n",
       "    }\n",
       "</style>\n",
       "<table border=\"1\" class=\"dataframe\">\n",
       "  <thead>\n",
       "    <tr style=\"text-align: right;\">\n",
       "      <th></th>\n",
       "      <th>id</th>\n",
       "      <th>name</th>\n",
       "      <th>amount</th>\n",
       "      <th>transaction-id</th>\n",
       "    </tr>\n",
       "  </thead>\n",
       "  <tbody>\n",
       "    <tr>\n",
       "      <th>0</th>\n",
       "      <td>0</td>\n",
       "      <td>Tim</td>\n",
       "      <td>526</td>\n",
       "      <td>233</td>\n",
       "    </tr>\n",
       "    <tr>\n",
       "      <th>1</th>\n",
       "      <td>0</td>\n",
       "      <td>Tim</td>\n",
       "      <td>942</td>\n",
       "      <td>241</td>\n",
       "    </tr>\n",
       "    <tr>\n",
       "      <th>2</th>\n",
       "      <td>0</td>\n",
       "      <td>Tim</td>\n",
       "      <td>680</td>\n",
       "      <td>531</td>\n",
       "    </tr>\n",
       "    <tr>\n",
       "      <th>3</th>\n",
       "      <td>0</td>\n",
       "      <td>Tim</td>\n",
       "      <td>633</td>\n",
       "      <td>1067</td>\n",
       "    </tr>\n",
       "    <tr>\n",
       "      <th>4</th>\n",
       "      <td>0</td>\n",
       "      <td>Tim</td>\n",
       "      <td>844</td>\n",
       "      <td>1114</td>\n",
       "    </tr>\n",
       "  </tbody>\n",
       "</table>\n",
       "</div>"
      ],
      "text/plain": [
       "   id name  amount  transaction-id\n",
       "0   0  Tim     526             233\n",
       "1   0  Tim     942             241\n",
       "2   0  Tim     680             531\n",
       "3   0  Tim     633            1067\n",
       "4   0  Tim     844            1114"
      ]
     },
     "execution_count": 29,
     "metadata": {},
     "output_type": "execute_result"
    }
   ],
   "source": [
    "df = transactions.to_dataframe()\n",
    "df.head()"
   ]
  },
  {
   "cell_type": "code",
   "execution_count": 30,
   "metadata": {},
   "outputs": [
    {
     "name": "stdout",
     "output_type": "stream",
     "text": [
      "CPU times: user 171 ms, sys: 18.8 ms, total: 190 ms\n",
      "Wall time: 1.42 s\n"
     ]
    },
    {
     "data": {
      "text/plain": [
       "name\n",
       "Alice       28157\n",
       "Bob         23077\n",
       "Charlie     23372\n",
       "Dan          5282\n",
       "Edith       14625\n",
       "Frank       20836\n",
       "George      11645\n",
       "Hannah      11473\n",
       "Ingrid      28510\n",
       "Jerry       21051\n",
       "Kevin       20861\n",
       "Laura       30023\n",
       "Michael     19108\n",
       "Norbert     36343\n",
       "Oliver      11786\n",
       "Patricia    11571\n",
       "Quinn       14818\n",
       "Ray          8491\n",
       "Sarah       13410\n",
       "Tim         18249\n",
       "Ursula      11473\n",
       "Victor      19556\n",
       "Wendy       11711\n",
       "Xavier      18995\n",
       "Yvonne      15244\n",
       "Zelda       50333\n",
       "Name: transaction-id, dtype: int64"
      ]
     },
     "execution_count": 30,
     "metadata": {},
     "output_type": "execute_result"
    }
   ],
   "source": [
    "%%time\n",
    "# number of transactions per name\n",
    "# note that the time here includes the data load and ingestion\n",
    "df.groupby('name')['transaction-id'].count().compute()"
   ]
  },
  {
   "cell_type": "markdown",
   "metadata": {},
   "source": [
    "## Limitations"
   ]
  },
  {
   "cell_type": "markdown",
   "metadata": {},
   "source": [
    "Bags provide very general computation (any Python function.)  This generality\n",
    "comes at cost.  Bags have the following known limitations\n",
    "\n",
    "1.  Bag operations tend to be slower than array/dataframe computations in the\n",
    "    same way that Python tends to be slower than NumPy/Pandas\n",
    "2.  ``Bag.groupby`` is slow.  You should try to use ``Bag.foldby`` if possible.\n",
    "    Using ``Bag.foldby`` requires more thought. Even better, consider creating\n",
    "    a normalised dataframe."
   ]
  },
  {
   "cell_type": "markdown",
   "metadata": {},
   "source": [
    "## Learn More\n",
    "\n",
    "* [Bag documentation](https://docs.dask.org/en/latest/bag.html)\n",
    "* [Bag screencast](https://youtu.be/-qIiJ1XtSv0)\n",
    "* [Bag API](https://docs.dask.org/en/latest/bag-api.html)\n",
    "* [Bag examples](https://examples.dask.org/bag.html)"
   ]
  },
  {
   "cell_type": "markdown",
   "metadata": {},
   "source": [
    "## Shutdown"
   ]
  },
  {
   "cell_type": "code",
   "execution_count": 31,
   "metadata": {},
   "outputs": [],
   "source": [
    "client.shutdown()"
   ]
  }
 ],
 "metadata": {
  "anaconda-cloud": {},
  "kernelspec": {
   "display_name": "Python 3",
   "language": "python",
   "name": "python3"
  },
  "language_info": {
   "codemirror_mode": {
    "name": "ipython",
    "version": 3
   },
   "file_extension": ".py",
   "mimetype": "text/x-python",
   "name": "python",
   "nbconvert_exporter": "python",
   "pygments_lexer": "ipython3",
   "version": "3.8.3"
  }
 },
 "nbformat": 4,
 "nbformat_minor": 4
}
