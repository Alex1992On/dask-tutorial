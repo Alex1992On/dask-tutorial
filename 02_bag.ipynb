{
 "cells": [
  {
   "cell_type": "markdown",
   "metadata": {},
   "source": [
    "<img src=\"images/dask_horizontal.svg\" align=\"right\" width=\"30%\">"
   ]
  },
  {
   "cell_type": "markdown",
   "metadata": {},
   "source": [
    "# Bag: Parallel Lists for semi-structured data"
   ]
  },
  {
   "cell_type": "markdown",
   "metadata": {},
   "source": [
    "Dask-bag excels in processing data that can be represented as a sequence of arbitrary inputs. We'll refer to this as \"messy\" data, because it can contain complex nested structures, missing fields, mixtures of data types, etc. The *functional* programming style fits very nicely with standard Python iteration, such as can be found in the `itertools` module.\n",
    "\n",
    "Messy data is often encountered at the beginning of data processing pipelines when large volumes of raw data are first consumed. The initial set of data might be JSON, CSV, XML, or any other format that does not enforce strict structure and datatypes.\n",
    "For this reason, the initial data massaging and processing is often done with Python `list`s, `dict`s, and `set`s.\n",
    "\n",
    "These core data structures are optimized for general-purpose storage and processing.  Adding streaming computation with iterators/generator expressions or libraries like `itertools` or [`toolz`](https://toolz.readthedocs.io/en/latest/) let us process large volumes in a small space.  If we combine this with parallel processing then we can churn through a fair amount of data.\n",
    "\n",
    "Dask.bag is a high level Dask collection to automate common workloads of this form.  In a nutshell\n",
    "\n",
    "    dask.bag = map, filter, toolz + parallel execution\n",
    "    \n",
    "**Related Documentation**\n",
    "\n",
    "* [Bag documentation](https://docs.dask.org/en/latest/bag.html)\n",
    "* [Bag screencast](https://youtu.be/-qIiJ1XtSv0)\n",
    "* [Bag API](https://docs.dask.org/en/latest/bag-api.html)\n",
    "* [Bag examples](https://examples.dask.org/bag.html)"
   ]
  },
  {
   "cell_type": "markdown",
   "metadata": {},
   "source": [
    "## Create data"
   ]
  },
  {
   "cell_type": "code",
   "execution_count": 1,
   "metadata": {},
   "outputs": [],
   "source": [
    "%run prep.py -d accounts"
   ]
  },
  {
   "cell_type": "markdown",
   "metadata": {},
   "source": [
    "## Setup"
   ]
  },
  {
   "cell_type": "markdown",
   "metadata": {},
   "source": [
    "Again, we'll use the distributed scheduler. Schedulers will be explained in depth [later](05_distributed.ipynb)."
   ]
  },
  {
   "cell_type": "code",
   "execution_count": 2,
   "metadata": {},
   "outputs": [],
   "source": [
    "from dask.distributed import Client\n",
    "\n",
    "client = Client(n_workers=4)"
   ]
  },
  {
   "cell_type": "markdown",
   "metadata": {},
   "source": [
    "## Creation"
   ]
  },
  {
   "cell_type": "markdown",
   "metadata": {},
   "source": [
    "You can create a `Bag` from a Python sequence, from files, from data on S3, etc.\n",
    "We demonstrate using `.take()` to show elements of the data. (Doing `.take(1)` results in a tuple with one element)\n",
    "\n",
    "Note that the data are partitioned into blocks, and there are many items per block. In the first example, the two partitions contain five elements each, and in the following two, each file is partitioned into one or more bytes blocks."
   ]
  },
  {
   "cell_type": "code",
   "execution_count": 3,
   "metadata": {},
   "outputs": [
    {
     "data": {
      "text/plain": [
       "(1, 2, 3)"
      ]
     },
     "execution_count": 3,
     "metadata": {},
     "output_type": "execute_result"
    }
   ],
   "source": [
    "# each element is an integer\n",
    "import dask.bag as db\n",
    "b = db.from_sequence([1, 2, 3, 4, 5, 6, 7, 8, 9, 10], npartitions=2)\n",
    "b.take(3)"
   ]
  },
  {
   "cell_type": "code",
   "execution_count": 4,
   "metadata": {},
   "outputs": [
    {
     "data": {
      "text/plain": [
       "('{\"id\": 0, \"name\": \"Norbert\", \"transactions\": [{\"transaction-id\": 378, \"amount\": 1116}, {\"transaction-id\": 581, \"amount\": 1211}, {\"transaction-id\": 818, \"amount\": 1149}, {\"transaction-id\": 1124, \"amount\": 1250}, {\"transaction-id\": 1375, \"amount\": 1371}, {\"transaction-id\": 2449, \"amount\": 1130}, {\"transaction-id\": 2513, \"amount\": 1269}, {\"transaction-id\": 2551, \"amount\": 1132}, {\"transaction-id\": 2593, \"amount\": 1167}, {\"transaction-id\": 3030, \"amount\": 1237}, {\"transaction-id\": 3292, \"amount\": 1334}, {\"transaction-id\": 3668, \"amount\": 1105}, {\"transaction-id\": 3735, \"amount\": 1140}, {\"transaction-id\": 4396, \"amount\": 1290}, {\"transaction-id\": 4673, \"amount\": 1439}, {\"transaction-id\": 6516, \"amount\": 1359}, {\"transaction-id\": 7708, \"amount\": 1227}, {\"transaction-id\": 7854, \"amount\": 1287}, {\"transaction-id\": 8299, \"amount\": 1195}, {\"transaction-id\": 8647, \"amount\": 1202}, {\"transaction-id\": 9250, \"amount\": 1212}, {\"transaction-id\": 9721, \"amount\": 1258}, {\"transaction-id\": 9792, \"amount\": 1136}, {\"transaction-id\": 9849, \"amount\": 1243}]}\\n',)"
      ]
     },
     "execution_count": 4,
     "metadata": {},
     "output_type": "execute_result"
    }
   ],
   "source": [
    "# each element is a text file, where each line is a JSON object\n",
    "# note that the compression is handled automatically\n",
    "import os\n",
    "b = db.read_text(os.path.join('data', 'accounts.*.json.gz'))\n",
    "b.take(1)"
   ]
  },
  {
   "cell_type": "code",
   "execution_count": 5,
   "metadata": {},
   "outputs": [
    {
     "data": {
      "text/plain": [
       "'s3://dask-data/nyc-taxi/2015/yellow_tripdata_2015-01.csv'"
      ]
     },
     "execution_count": 5,
     "metadata": {},
     "output_type": "execute_result"
    }
   ],
   "source": [
    "# Edit sources.py to configure source locations\n",
    "import sources\n",
    "sources.bag_url"
   ]
  },
  {
   "cell_type": "code",
   "execution_count": 6,
   "metadata": {},
   "outputs": [
    {
     "data": {
      "text/plain": [
       "('VendorID,tpep_pickup_datetime,tpep_dropoff_datetime,passenger_count,trip_distance,pickup_longitude,pickup_latitude,RateCodeID,store_and_fwd_flag,dropoff_longitude,dropoff_latitude,payment_type,fare_amount,extra,mta_tax,tip_amount,tolls_amount,improvement_surcharge,total_amount\\n',)"
      ]
     },
     "execution_count": 6,
     "metadata": {},
     "output_type": "execute_result"
    }
   ],
   "source": [
    "# Requires `s3fs` library\n",
    "# each partition is a remote CSV text file\n",
    "b = db.read_text(sources.bag_url,\n",
    "                 storage_options={'anon': True})\n",
    "b.take(1)"
   ]
  },
  {
   "cell_type": "markdown",
   "metadata": {},
   "source": [
    "## Manipulation"
   ]
  },
  {
   "cell_type": "markdown",
   "metadata": {},
   "source": [
    "`Bag` objects hold the standard functional API found in projects like the Python standard library, `toolz`, or `pyspark`, including `map`, `filter`, `groupby`, etc..\n",
    "\n",
    "Operations on `Bag` objects create new bags.  Call the `.compute()` method to trigger execution, as we saw for `Delayed` objects.  "
   ]
  },
  {
   "cell_type": "code",
   "execution_count": 7,
   "metadata": {},
   "outputs": [
    {
     "data": {
      "text/plain": [
       "dask.bag<lambda, npartitions=10>"
      ]
     },
     "execution_count": 7,
     "metadata": {},
     "output_type": "execute_result"
    }
   ],
   "source": [
    "def is_even(n):\n",
    "    return n % 2 == 0\n",
    "\n",
    "b = db.from_sequence([1, 2, 3, 4, 5, 6, 7, 8, 9, 10])\n",
    "c = b.filter(is_even).map(lambda x: x ** 2)\n",
    "c"
   ]
  },
  {
   "cell_type": "code",
   "execution_count": 8,
   "metadata": {},
   "outputs": [
    {
     "data": {
      "text/plain": [
       "[4, 16, 36, 64, 100]"
      ]
     },
     "execution_count": 8,
     "metadata": {},
     "output_type": "execute_result"
    }
   ],
   "source": [
    "# blocking form: wait for completion (which is very fast in this case)\n",
    "c.compute()"
   ]
  },
  {
   "cell_type": "markdown",
   "metadata": {},
   "source": [
    "### Example: Accounts JSON data"
   ]
  },
  {
   "cell_type": "markdown",
   "metadata": {},
   "source": [
    "We've created a fake dataset of gzipped JSON data in your data directory.  This is like the example used in the `DataFrame` example we will see later, except that it has bundled up all of the entires for each individual `id` into a single record.  This is similar to data that you might collect off of a document store database or a web API.\n",
    "\n",
    "Each line is a JSON encoded dictionary with the following keys\n",
    "\n",
    "*  id: Unique identifier of the customer\n",
    "*  name: Name of the customer\n",
    "*  transactions: List of `transaction-id`, `amount` pairs, one for each transaction for the customer in that file"
   ]
  },
  {
   "cell_type": "code",
   "execution_count": 9,
   "metadata": {},
   "outputs": [
    {
     "data": {
      "text/plain": [
       "('{\"id\": 0, \"name\": \"Norbert\", \"transactions\": [{\"transaction-id\": 378, \"amount\": 1116}, {\"transaction-id\": 581, \"amount\": 1211}, {\"transaction-id\": 818, \"amount\": 1149}, {\"transaction-id\": 1124, \"amount\": 1250}, {\"transaction-id\": 1375, \"amount\": 1371}, {\"transaction-id\": 2449, \"amount\": 1130}, {\"transaction-id\": 2513, \"amount\": 1269}, {\"transaction-id\": 2551, \"amount\": 1132}, {\"transaction-id\": 2593, \"amount\": 1167}, {\"transaction-id\": 3030, \"amount\": 1237}, {\"transaction-id\": 3292, \"amount\": 1334}, {\"transaction-id\": 3668, \"amount\": 1105}, {\"transaction-id\": 3735, \"amount\": 1140}, {\"transaction-id\": 4396, \"amount\": 1290}, {\"transaction-id\": 4673, \"amount\": 1439}, {\"transaction-id\": 6516, \"amount\": 1359}, {\"transaction-id\": 7708, \"amount\": 1227}, {\"transaction-id\": 7854, \"amount\": 1287}, {\"transaction-id\": 8299, \"amount\": 1195}, {\"transaction-id\": 8647, \"amount\": 1202}, {\"transaction-id\": 9250, \"amount\": 1212}, {\"transaction-id\": 9721, \"amount\": 1258}, {\"transaction-id\": 9792, \"amount\": 1136}, {\"transaction-id\": 9849, \"amount\": 1243}]}\\n',\n",
       " '{\"id\": 1, \"name\": \"Michael\", \"transactions\": [{\"transaction-id\": 43, \"amount\": 3369}, {\"transaction-id\": 74, \"amount\": 3187}, {\"transaction-id\": 465, \"amount\": 3354}, {\"transaction-id\": 535, \"amount\": 3157}, {\"transaction-id\": 547, \"amount\": 3183}, {\"transaction-id\": 1286, \"amount\": 3031}, {\"transaction-id\": 1554, \"amount\": 3484}, {\"transaction-id\": 1695, \"amount\": 3302}, {\"transaction-id\": 1874, \"amount\": 3198}, {\"transaction-id\": 2220, \"amount\": 3619}, {\"transaction-id\": 2371, \"amount\": 3194}, {\"transaction-id\": 2570, \"amount\": 3161}, {\"transaction-id\": 3213, \"amount\": 3333}, {\"transaction-id\": 3541, \"amount\": 2820}, {\"transaction-id\": 4011, \"amount\": 3039}, {\"transaction-id\": 4053, \"amount\": 2855}, {\"transaction-id\": 4416, \"amount\": 3038}, {\"transaction-id\": 4546, \"amount\": 2993}, {\"transaction-id\": 4750, \"amount\": 3271}, {\"transaction-id\": 4845, \"amount\": 3062}, {\"transaction-id\": 5021, \"amount\": 2976}, {\"transaction-id\": 5212, \"amount\": 3325}, {\"transaction-id\": 5636, \"amount\": 3203}, {\"transaction-id\": 5887, \"amount\": 3125}, {\"transaction-id\": 5922, \"amount\": 3048}, {\"transaction-id\": 6286, \"amount\": 3082}, {\"transaction-id\": 6402, \"amount\": 3626}, {\"transaction-id\": 6782, \"amount\": 3172}, {\"transaction-id\": 6949, \"amount\": 3006}, {\"transaction-id\": 8317, \"amount\": 3211}, {\"transaction-id\": 8499, \"amount\": 3301}, {\"transaction-id\": 8705, \"amount\": 3455}, {\"transaction-id\": 8846, \"amount\": 3010}, {\"transaction-id\": 8861, \"amount\": 2680}, {\"transaction-id\": 8888, \"amount\": 3000}, {\"transaction-id\": 9014, \"amount\": 3128}, {\"transaction-id\": 9535, \"amount\": 3001}, {\"transaction-id\": 9623, \"amount\": 3256}, {\"transaction-id\": 9816, \"amount\": 3040}, {\"transaction-id\": 9840, \"amount\": 3044}, {\"transaction-id\": 9887, \"amount\": 3355}]}\\n',\n",
       " '{\"id\": 2, \"name\": \"Alice\", \"transactions\": [{\"transaction-id\": 590, \"amount\": -1090}, {\"transaction-id\": 598, \"amount\": -910}, {\"transaction-id\": 2207, \"amount\": -374}, {\"transaction-id\": 2445, \"amount\": -664}, {\"transaction-id\": 2592, \"amount\": -980}, {\"transaction-id\": 2718, \"amount\": -852}, {\"transaction-id\": 4763, \"amount\": -603}, {\"transaction-id\": 6118, \"amount\": -411}, {\"transaction-id\": 8593, \"amount\": -1027}, {\"transaction-id\": 8641, \"amount\": -923}, {\"transaction-id\": 9184, \"amount\": -659}, {\"transaction-id\": 9189, \"amount\": -720}]}\\n')"
      ]
     },
     "execution_count": 9,
     "metadata": {},
     "output_type": "execute_result"
    }
   ],
   "source": [
    "filename = os.path.join('data', 'accounts.*.json.gz')\n",
    "lines = db.read_text(filename)\n",
    "lines.take(3)"
   ]
  },
  {
   "cell_type": "markdown",
   "metadata": {},
   "source": [
    "Our data comes out of the file as lines of text. Notice that file decompression happened automatically. We can make this data look more reasonable by mapping the `json.loads` function onto our bag."
   ]
  },
  {
   "cell_type": "code",
   "execution_count": 10,
   "metadata": {},
   "outputs": [
    {
     "data": {
      "text/plain": [
       "({'id': 0,\n",
       "  'name': 'Norbert',\n",
       "  'transactions': [{'transaction-id': 378, 'amount': 1116},\n",
       "   {'transaction-id': 581, 'amount': 1211},\n",
       "   {'transaction-id': 818, 'amount': 1149},\n",
       "   {'transaction-id': 1124, 'amount': 1250},\n",
       "   {'transaction-id': 1375, 'amount': 1371},\n",
       "   {'transaction-id': 2449, 'amount': 1130},\n",
       "   {'transaction-id': 2513, 'amount': 1269},\n",
       "   {'transaction-id': 2551, 'amount': 1132},\n",
       "   {'transaction-id': 2593, 'amount': 1167},\n",
       "   {'transaction-id': 3030, 'amount': 1237},\n",
       "   {'transaction-id': 3292, 'amount': 1334},\n",
       "   {'transaction-id': 3668, 'amount': 1105},\n",
       "   {'transaction-id': 3735, 'amount': 1140},\n",
       "   {'transaction-id': 4396, 'amount': 1290},\n",
       "   {'transaction-id': 4673, 'amount': 1439},\n",
       "   {'transaction-id': 6516, 'amount': 1359},\n",
       "   {'transaction-id': 7708, 'amount': 1227},\n",
       "   {'transaction-id': 7854, 'amount': 1287},\n",
       "   {'transaction-id': 8299, 'amount': 1195},\n",
       "   {'transaction-id': 8647, 'amount': 1202},\n",
       "   {'transaction-id': 9250, 'amount': 1212},\n",
       "   {'transaction-id': 9721, 'amount': 1258},\n",
       "   {'transaction-id': 9792, 'amount': 1136},\n",
       "   {'transaction-id': 9849, 'amount': 1243}]},\n",
       " {'id': 1,\n",
       "  'name': 'Michael',\n",
       "  'transactions': [{'transaction-id': 43, 'amount': 3369},\n",
       "   {'transaction-id': 74, 'amount': 3187},\n",
       "   {'transaction-id': 465, 'amount': 3354},\n",
       "   {'transaction-id': 535, 'amount': 3157},\n",
       "   {'transaction-id': 547, 'amount': 3183},\n",
       "   {'transaction-id': 1286, 'amount': 3031},\n",
       "   {'transaction-id': 1554, 'amount': 3484},\n",
       "   {'transaction-id': 1695, 'amount': 3302},\n",
       "   {'transaction-id': 1874, 'amount': 3198},\n",
       "   {'transaction-id': 2220, 'amount': 3619},\n",
       "   {'transaction-id': 2371, 'amount': 3194},\n",
       "   {'transaction-id': 2570, 'amount': 3161},\n",
       "   {'transaction-id': 3213, 'amount': 3333},\n",
       "   {'transaction-id': 3541, 'amount': 2820},\n",
       "   {'transaction-id': 4011, 'amount': 3039},\n",
       "   {'transaction-id': 4053, 'amount': 2855},\n",
       "   {'transaction-id': 4416, 'amount': 3038},\n",
       "   {'transaction-id': 4546, 'amount': 2993},\n",
       "   {'transaction-id': 4750, 'amount': 3271},\n",
       "   {'transaction-id': 4845, 'amount': 3062},\n",
       "   {'transaction-id': 5021, 'amount': 2976},\n",
       "   {'transaction-id': 5212, 'amount': 3325},\n",
       "   {'transaction-id': 5636, 'amount': 3203},\n",
       "   {'transaction-id': 5887, 'amount': 3125},\n",
       "   {'transaction-id': 5922, 'amount': 3048},\n",
       "   {'transaction-id': 6286, 'amount': 3082},\n",
       "   {'transaction-id': 6402, 'amount': 3626},\n",
       "   {'transaction-id': 6782, 'amount': 3172},\n",
       "   {'transaction-id': 6949, 'amount': 3006},\n",
       "   {'transaction-id': 8317, 'amount': 3211},\n",
       "   {'transaction-id': 8499, 'amount': 3301},\n",
       "   {'transaction-id': 8705, 'amount': 3455},\n",
       "   {'transaction-id': 8846, 'amount': 3010},\n",
       "   {'transaction-id': 8861, 'amount': 2680},\n",
       "   {'transaction-id': 8888, 'amount': 3000},\n",
       "   {'transaction-id': 9014, 'amount': 3128},\n",
       "   {'transaction-id': 9535, 'amount': 3001},\n",
       "   {'transaction-id': 9623, 'amount': 3256},\n",
       "   {'transaction-id': 9816, 'amount': 3040},\n",
       "   {'transaction-id': 9840, 'amount': 3044},\n",
       "   {'transaction-id': 9887, 'amount': 3355}]},\n",
       " {'id': 2,\n",
       "  'name': 'Alice',\n",
       "  'transactions': [{'transaction-id': 590, 'amount': -1090},\n",
       "   {'transaction-id': 598, 'amount': -910},\n",
       "   {'transaction-id': 2207, 'amount': -374},\n",
       "   {'transaction-id': 2445, 'amount': -664},\n",
       "   {'transaction-id': 2592, 'amount': -980},\n",
       "   {'transaction-id': 2718, 'amount': -852},\n",
       "   {'transaction-id': 4763, 'amount': -603},\n",
       "   {'transaction-id': 6118, 'amount': -411},\n",
       "   {'transaction-id': 8593, 'amount': -1027},\n",
       "   {'transaction-id': 8641, 'amount': -923},\n",
       "   {'transaction-id': 9184, 'amount': -659},\n",
       "   {'transaction-id': 9189, 'amount': -720}]})"
      ]
     },
     "execution_count": 10,
     "metadata": {},
     "output_type": "execute_result"
    }
   ],
   "source": [
    "import json\n",
    "js = lines.map(json.loads)\n",
    "# take: inspect first few elements\n",
    "js.take(3)"
   ]
  },
  {
   "cell_type": "markdown",
   "metadata": {},
   "source": [
    "### Basic Queries"
   ]
  },
  {
   "cell_type": "markdown",
   "metadata": {},
   "source": [
    "Once we parse our JSON data into proper Python objects (`dict`s, `list`s, etc.) we can perform more interesting queries by creating small Python functions to run on our data."
   ]
  },
  {
   "cell_type": "code",
   "execution_count": 11,
   "metadata": {},
   "outputs": [
    {
     "data": {
      "text/plain": [
       "({'id': 2,\n",
       "  'name': 'Alice',\n",
       "  'transactions': [{'transaction-id': 590, 'amount': -1090},\n",
       "   {'transaction-id': 598, 'amount': -910},\n",
       "   {'transaction-id': 2207, 'amount': -374},\n",
       "   {'transaction-id': 2445, 'amount': -664},\n",
       "   {'transaction-id': 2592, 'amount': -980},\n",
       "   {'transaction-id': 2718, 'amount': -852},\n",
       "   {'transaction-id': 4763, 'amount': -603},\n",
       "   {'transaction-id': 6118, 'amount': -411},\n",
       "   {'transaction-id': 8593, 'amount': -1027},\n",
       "   {'transaction-id': 8641, 'amount': -923},\n",
       "   {'transaction-id': 9184, 'amount': -659},\n",
       "   {'transaction-id': 9189, 'amount': -720}]},\n",
       " {'id': 5,\n",
       "  'name': 'Alice',\n",
       "  'transactions': [{'transaction-id': 482, 'amount': 13483},\n",
       "   {'transaction-id': 605, 'amount': 14007},\n",
       "   {'transaction-id': 688, 'amount': 13586},\n",
       "   {'transaction-id': 705, 'amount': 13925},\n",
       "   {'transaction-id': 748, 'amount': 13137},\n",
       "   {'transaction-id': 1324, 'amount': 14043},\n",
       "   {'transaction-id': 1752, 'amount': 13756},\n",
       "   {'transaction-id': 2204, 'amount': 13731},\n",
       "   {'transaction-id': 2282, 'amount': 14030},\n",
       "   {'transaction-id': 2337, 'amount': 13532},\n",
       "   {'transaction-id': 2473, 'amount': 13633},\n",
       "   {'transaction-id': 2528, 'amount': 14237},\n",
       "   {'transaction-id': 2661, 'amount': 12948},\n",
       "   {'transaction-id': 2667, 'amount': 13537},\n",
       "   {'transaction-id': 2737, 'amount': 13799},\n",
       "   {'transaction-id': 2764, 'amount': 13472},\n",
       "   {'transaction-id': 2914, 'amount': 13132},\n",
       "   {'transaction-id': 2966, 'amount': 13414},\n",
       "   {'transaction-id': 2993, 'amount': 14296},\n",
       "   {'transaction-id': 3234, 'amount': 13554},\n",
       "   {'transaction-id': 3377, 'amount': 14112},\n",
       "   {'transaction-id': 3427, 'amount': 13866},\n",
       "   {'transaction-id': 3765, 'amount': 14048},\n",
       "   {'transaction-id': 3930, 'amount': 13490},\n",
       "   {'transaction-id': 4254, 'amount': 14022},\n",
       "   {'transaction-id': 4406, 'amount': 13816},\n",
       "   {'transaction-id': 4417, 'amount': 13934},\n",
       "   {'transaction-id': 4661, 'amount': 14021},\n",
       "   {'transaction-id': 4942, 'amount': 13920},\n",
       "   {'transaction-id': 5063, 'amount': 13739},\n",
       "   {'transaction-id': 5463, 'amount': 13632},\n",
       "   {'transaction-id': 5832, 'amount': 13924},\n",
       "   {'transaction-id': 5971, 'amount': 13728},\n",
       "   {'transaction-id': 7089, 'amount': 13052},\n",
       "   {'transaction-id': 7172, 'amount': 14167},\n",
       "   {'transaction-id': 7230, 'amount': 13228},\n",
       "   {'transaction-id': 7599, 'amount': 14107},\n",
       "   {'transaction-id': 7906, 'amount': 14429},\n",
       "   {'transaction-id': 8239, 'amount': 13790},\n",
       "   {'transaction-id': 8268, 'amount': 13081},\n",
       "   {'transaction-id': 9203, 'amount': 14229},\n",
       "   {'transaction-id': 9340, 'amount': 14315},\n",
       "   {'transaction-id': 9773, 'amount': 14580},\n",
       "   {'transaction-id': 9799, 'amount': 13255}]},\n",
       " {'id': 14,\n",
       "  'name': 'Alice',\n",
       "  'transactions': [{'transaction-id': 273, 'amount': 1017},\n",
       "   {'transaction-id': 287, 'amount': 965},\n",
       "   {'transaction-id': 1084, 'amount': 1009},\n",
       "   {'transaction-id': 2669, 'amount': 974},\n",
       "   {'transaction-id': 2930, 'amount': 1075},\n",
       "   {'transaction-id': 3381, 'amount': 995},\n",
       "   {'transaction-id': 3415, 'amount': 1086},\n",
       "   {'transaction-id': 3476, 'amount': 1065},\n",
       "   {'transaction-id': 3783, 'amount': 1089},\n",
       "   {'transaction-id': 4003, 'amount': 1015},\n",
       "   {'transaction-id': 4021, 'amount': 1111},\n",
       "   {'transaction-id': 4183, 'amount': 1035},\n",
       "   {'transaction-id': 4831, 'amount': 1026},\n",
       "   {'transaction-id': 4846, 'amount': 1075},\n",
       "   {'transaction-id': 4897, 'amount': 1007},\n",
       "   {'transaction-id': 5214, 'amount': 1037},\n",
       "   {'transaction-id': 5222, 'amount': 1116},\n",
       "   {'transaction-id': 6091, 'amount': 1031},\n",
       "   {'transaction-id': 6510, 'amount': 1113},\n",
       "   {'transaction-id': 6700, 'amount': 1034},\n",
       "   {'transaction-id': 8010, 'amount': 1068},\n",
       "   {'transaction-id': 8871, 'amount': 1026},\n",
       "   {'transaction-id': 9260, 'amount': 1040},\n",
       "   {'transaction-id': 9370, 'amount': 1060},\n",
       "   {'transaction-id': 9761, 'amount': 1016},\n",
       "   {'transaction-id': 9877, 'amount': 1030}]},\n",
       " {'id': 29,\n",
       "  'name': 'Alice',\n",
       "  'transactions': [{'transaction-id': 16, 'amount': 2468},\n",
       "   {'transaction-id': 35, 'amount': 2084},\n",
       "   {'transaction-id': 83, 'amount': 2820},\n",
       "   {'transaction-id': 576, 'amount': 2540},\n",
       "   {'transaction-id': 634, 'amount': 3181},\n",
       "   {'transaction-id': 646, 'amount': 2898},\n",
       "   {'transaction-id': 942, 'amount': 2794},\n",
       "   {'transaction-id': 1421, 'amount': 2698},\n",
       "   {'transaction-id': 1428, 'amount': 2443},\n",
       "   {'transaction-id': 1535, 'amount': 2681},\n",
       "   {'transaction-id': 1549, 'amount': 2602},\n",
       "   {'transaction-id': 2277, 'amount': 2435},\n",
       "   {'transaction-id': 3598, 'amount': 2715},\n",
       "   {'transaction-id': 3655, 'amount': 2227},\n",
       "   {'transaction-id': 3766, 'amount': 2562},\n",
       "   {'transaction-id': 4087, 'amount': 2649},\n",
       "   {'transaction-id': 4191, 'amount': 2126},\n",
       "   {'transaction-id': 4456, 'amount': 2939},\n",
       "   {'transaction-id': 4895, 'amount': 2486},\n",
       "   {'transaction-id': 5227, 'amount': 2869},\n",
       "   {'transaction-id': 5330, 'amount': 2568},\n",
       "   {'transaction-id': 5378, 'amount': 2341},\n",
       "   {'transaction-id': 5963, 'amount': 2477},\n",
       "   {'transaction-id': 6067, 'amount': 2553},\n",
       "   {'transaction-id': 6839, 'amount': 2892},\n",
       "   {'transaction-id': 7174, 'amount': 2841},\n",
       "   {'transaction-id': 7426, 'amount': 2607},\n",
       "   {'transaction-id': 7480, 'amount': 3074},\n",
       "   {'transaction-id': 7783, 'amount': 2305},\n",
       "   {'transaction-id': 8278, 'amount': 2431},\n",
       "   {'transaction-id': 9502, 'amount': 2381},\n",
       "   {'transaction-id': 9629, 'amount': 2690},\n",
       "   {'transaction-id': 9873, 'amount': 2543}]},\n",
       " {'id': 45,\n",
       "  'name': 'Alice',\n",
       "  'transactions': [{'transaction-id': 168, 'amount': 562},\n",
       "   {'transaction-id': 306, 'amount': 549},\n",
       "   {'transaction-id': 475, 'amount': 388},\n",
       "   {'transaction-id': 884, 'amount': 473},\n",
       "   {'transaction-id': 1279, 'amount': 559},\n",
       "   {'transaction-id': 2671, 'amount': 491},\n",
       "   {'transaction-id': 2755, 'amount': 315},\n",
       "   {'transaction-id': 3715, 'amount': 610},\n",
       "   {'transaction-id': 4071, 'amount': 533},\n",
       "   {'transaction-id': 4872, 'amount': 532},\n",
       "   {'transaction-id': 5067, 'amount': 604},\n",
       "   {'transaction-id': 5074, 'amount': 506},\n",
       "   {'transaction-id': 5706, 'amount': 538},\n",
       "   {'transaction-id': 6754, 'amount': 487},\n",
       "   {'transaction-id': 7107, 'amount': 471},\n",
       "   {'transaction-id': 9868, 'amount': 491}]})"
      ]
     },
     "execution_count": 11,
     "metadata": {},
     "output_type": "execute_result"
    }
   ],
   "source": [
    "# filter: keep only some elements of the sequence\n",
    "js.filter(lambda record: record['name'] == 'Alice').take(5)"
   ]
  },
  {
   "cell_type": "code",
   "execution_count": 12,
   "metadata": {},
   "outputs": [
    {
     "data": {
      "text/plain": [
       "({'name': 'Alice', 'count': 12},\n",
       " {'name': 'Alice', 'count': 44},\n",
       " {'name': 'Alice', 'count': 26},\n",
       " {'name': 'Alice', 'count': 33},\n",
       " {'name': 'Alice', 'count': 16})"
      ]
     },
     "execution_count": 12,
     "metadata": {},
     "output_type": "execute_result"
    }
   ],
   "source": [
    "def count_transactions(d):\n",
    "    return {'name': d['name'], 'count': len(d['transactions'])}\n",
    "\n",
    "# map: apply a function to each element\n",
    "(js.filter(lambda record: record['name'] == 'Alice')\n",
    "   .map(count_transactions)\n",
    "   .take(5))"
   ]
  },
  {
   "cell_type": "code",
   "execution_count": 13,
   "metadata": {},
   "outputs": [
    {
     "data": {
      "text/plain": [
       "(12, 44, 26, 33, 16)"
      ]
     },
     "execution_count": 13,
     "metadata": {},
     "output_type": "execute_result"
    }
   ],
   "source": [
    "# pluck: select a field, as from a dictionary, element[field]\n",
    "(js.filter(lambda record: record['name'] == 'Alice')\n",
    "   .map(count_transactions)\n",
    "   .pluck('count')\n",
    "   .take(5))"
   ]
  },
  {
   "cell_type": "code",
   "execution_count": 14,
   "metadata": {},
   "outputs": [
    {
     "data": {
      "text/plain": [
       "36.966"
      ]
     },
     "execution_count": 14,
     "metadata": {},
     "output_type": "execute_result"
    }
   ],
   "source": [
    "# Average number of transactions for all of the Alice entries\n",
    "(js.filter(lambda record: record['name'] == 'Alice')\n",
    "   .map(count_transactions)\n",
    "   .pluck('count')\n",
    "   .mean()\n",
    "   .compute())"
   ]
  },
  {
   "cell_type": "markdown",
   "metadata": {},
   "source": [
    "### Use `flatten` to de-nest"
   ]
  },
  {
   "cell_type": "markdown",
   "metadata": {},
   "source": [
    "In the example below we see the use of `.flatten()` to flatten results.  We compute the average amount for all transactions for all Alices."
   ]
  },
  {
   "cell_type": "code",
   "execution_count": 15,
   "metadata": {},
   "outputs": [
    {
     "data": {
      "text/plain": [
       "([{'transaction-id': 590, 'amount': -1090},\n",
       "  {'transaction-id': 598, 'amount': -910},\n",
       "  {'transaction-id': 2207, 'amount': -374},\n",
       "  {'transaction-id': 2445, 'amount': -664},\n",
       "  {'transaction-id': 2592, 'amount': -980},\n",
       "  {'transaction-id': 2718, 'amount': -852},\n",
       "  {'transaction-id': 4763, 'amount': -603},\n",
       "  {'transaction-id': 6118, 'amount': -411},\n",
       "  {'transaction-id': 8593, 'amount': -1027},\n",
       "  {'transaction-id': 8641, 'amount': -923},\n",
       "  {'transaction-id': 9184, 'amount': -659},\n",
       "  {'transaction-id': 9189, 'amount': -720}],\n",
       " [{'transaction-id': 482, 'amount': 13483},\n",
       "  {'transaction-id': 605, 'amount': 14007},\n",
       "  {'transaction-id': 688, 'amount': 13586},\n",
       "  {'transaction-id': 705, 'amount': 13925},\n",
       "  {'transaction-id': 748, 'amount': 13137},\n",
       "  {'transaction-id': 1324, 'amount': 14043},\n",
       "  {'transaction-id': 1752, 'amount': 13756},\n",
       "  {'transaction-id': 2204, 'amount': 13731},\n",
       "  {'transaction-id': 2282, 'amount': 14030},\n",
       "  {'transaction-id': 2337, 'amount': 13532},\n",
       "  {'transaction-id': 2473, 'amount': 13633},\n",
       "  {'transaction-id': 2528, 'amount': 14237},\n",
       "  {'transaction-id': 2661, 'amount': 12948},\n",
       "  {'transaction-id': 2667, 'amount': 13537},\n",
       "  {'transaction-id': 2737, 'amount': 13799},\n",
       "  {'transaction-id': 2764, 'amount': 13472},\n",
       "  {'transaction-id': 2914, 'amount': 13132},\n",
       "  {'transaction-id': 2966, 'amount': 13414},\n",
       "  {'transaction-id': 2993, 'amount': 14296},\n",
       "  {'transaction-id': 3234, 'amount': 13554},\n",
       "  {'transaction-id': 3377, 'amount': 14112},\n",
       "  {'transaction-id': 3427, 'amount': 13866},\n",
       "  {'transaction-id': 3765, 'amount': 14048},\n",
       "  {'transaction-id': 3930, 'amount': 13490},\n",
       "  {'transaction-id': 4254, 'amount': 14022},\n",
       "  {'transaction-id': 4406, 'amount': 13816},\n",
       "  {'transaction-id': 4417, 'amount': 13934},\n",
       "  {'transaction-id': 4661, 'amount': 14021},\n",
       "  {'transaction-id': 4942, 'amount': 13920},\n",
       "  {'transaction-id': 5063, 'amount': 13739},\n",
       "  {'transaction-id': 5463, 'amount': 13632},\n",
       "  {'transaction-id': 5832, 'amount': 13924},\n",
       "  {'transaction-id': 5971, 'amount': 13728},\n",
       "  {'transaction-id': 7089, 'amount': 13052},\n",
       "  {'transaction-id': 7172, 'amount': 14167},\n",
       "  {'transaction-id': 7230, 'amount': 13228},\n",
       "  {'transaction-id': 7599, 'amount': 14107},\n",
       "  {'transaction-id': 7906, 'amount': 14429},\n",
       "  {'transaction-id': 8239, 'amount': 13790},\n",
       "  {'transaction-id': 8268, 'amount': 13081},\n",
       "  {'transaction-id': 9203, 'amount': 14229},\n",
       "  {'transaction-id': 9340, 'amount': 14315},\n",
       "  {'transaction-id': 9773, 'amount': 14580},\n",
       "  {'transaction-id': 9799, 'amount': 13255}],\n",
       " [{'transaction-id': 273, 'amount': 1017},\n",
       "  {'transaction-id': 287, 'amount': 965},\n",
       "  {'transaction-id': 1084, 'amount': 1009},\n",
       "  {'transaction-id': 2669, 'amount': 974},\n",
       "  {'transaction-id': 2930, 'amount': 1075},\n",
       "  {'transaction-id': 3381, 'amount': 995},\n",
       "  {'transaction-id': 3415, 'amount': 1086},\n",
       "  {'transaction-id': 3476, 'amount': 1065},\n",
       "  {'transaction-id': 3783, 'amount': 1089},\n",
       "  {'transaction-id': 4003, 'amount': 1015},\n",
       "  {'transaction-id': 4021, 'amount': 1111},\n",
       "  {'transaction-id': 4183, 'amount': 1035},\n",
       "  {'transaction-id': 4831, 'amount': 1026},\n",
       "  {'transaction-id': 4846, 'amount': 1075},\n",
       "  {'transaction-id': 4897, 'amount': 1007},\n",
       "  {'transaction-id': 5214, 'amount': 1037},\n",
       "  {'transaction-id': 5222, 'amount': 1116},\n",
       "  {'transaction-id': 6091, 'amount': 1031},\n",
       "  {'transaction-id': 6510, 'amount': 1113},\n",
       "  {'transaction-id': 6700, 'amount': 1034},\n",
       "  {'transaction-id': 8010, 'amount': 1068},\n",
       "  {'transaction-id': 8871, 'amount': 1026},\n",
       "  {'transaction-id': 9260, 'amount': 1040},\n",
       "  {'transaction-id': 9370, 'amount': 1060},\n",
       "  {'transaction-id': 9761, 'amount': 1016},\n",
       "  {'transaction-id': 9877, 'amount': 1030}])"
      ]
     },
     "execution_count": 15,
     "metadata": {},
     "output_type": "execute_result"
    }
   ],
   "source": [
    "js.filter(lambda record: record['name'] == 'Alice').pluck('transactions').take(3)"
   ]
  },
  {
   "cell_type": "code",
   "execution_count": 16,
   "metadata": {},
   "outputs": [
    {
     "data": {
      "text/plain": [
       "({'transaction-id': 590, 'amount': -1090},\n",
       " {'transaction-id': 598, 'amount': -910},\n",
       " {'transaction-id': 2207, 'amount': -374})"
      ]
     },
     "execution_count": 16,
     "metadata": {},
     "output_type": "execute_result"
    }
   ],
   "source": [
    "(js.filter(lambda record: record['name'] == 'Alice')\n",
    "   .pluck('transactions')\n",
    "   .flatten()\n",
    "   .take(3))"
   ]
  },
  {
   "cell_type": "code",
   "execution_count": 17,
   "metadata": {},
   "outputs": [
    {
     "data": {
      "text/plain": [
       "(-1090, -910, -374)"
      ]
     },
     "execution_count": 17,
     "metadata": {},
     "output_type": "execute_result"
    }
   ],
   "source": [
    "(js.filter(lambda record: record['name'] == 'Alice')\n",
    "   .pluck('transactions')\n",
    "   .flatten()\n",
    "   .pluck('amount')\n",
    "   .take(3))"
   ]
  },
  {
   "cell_type": "code",
   "execution_count": 18,
   "metadata": {},
   "outputs": [
    {
     "data": {
      "text/plain": [
       "2652.643672563978"
      ]
     },
     "execution_count": 18,
     "metadata": {},
     "output_type": "execute_result"
    }
   ],
   "source": [
    "(js.filter(lambda record: record['name'] == 'Alice')\n",
    "   .pluck('transactions')\n",
    "   .flatten()\n",
    "   .pluck('amount')\n",
    "   .mean()\n",
    "   .compute())"
   ]
  },
  {
   "cell_type": "markdown",
   "metadata": {},
   "source": [
    "### Groupby and Foldby"
   ]
  },
  {
   "cell_type": "markdown",
   "metadata": {},
   "source": [
    "Often we want to group data by some function or key.  We can do this either with the `.groupby` method, which is straightforward but forces a full shuffle of the data (expensive) or with the harder-to-use but faster `.foldby` method, which does a streaming combined groupby and reduction.\n",
    "\n",
    "*  `groupby`:  Shuffles data so that all items with the same key are in the same key-value pair\n",
    "*  `foldby`:  Walks through the data accumulating a result per key\n",
    "\n",
    "*Note: the full groupby is particularly bad. In actual workloads you would do well to use `foldby` or switch to `DataFrame`s if possible.*"
   ]
  },
  {
   "cell_type": "markdown",
   "metadata": {},
   "source": [
    "### `groupby`"
   ]
  },
  {
   "cell_type": "markdown",
   "metadata": {},
   "source": [
    "Groupby collects items in your collection so that all items with the same value under some function are collected together into a key-value pair."
   ]
  },
  {
   "cell_type": "code",
   "execution_count": 19,
   "metadata": {},
   "outputs": [
    {
     "data": {
      "text/plain": [
       "[(7, ['Charlie']), (3, ['Bob', 'Dan']), (5, ['Alice', 'Edith', 'Frank'])]"
      ]
     },
     "execution_count": 19,
     "metadata": {},
     "output_type": "execute_result"
    }
   ],
   "source": [
    "b = db.from_sequence(['Alice', 'Bob', 'Charlie', 'Dan', 'Edith', 'Frank'])\n",
    "b.groupby(len).compute()  # names grouped by length"
   ]
  },
  {
   "cell_type": "code",
   "execution_count": 20,
   "metadata": {},
   "outputs": [
    {
     "data": {
      "text/plain": [
       "[(0, [0, 2, 4, 6, 8]), (1, [1, 3, 5, 7, 9])]"
      ]
     },
     "execution_count": 20,
     "metadata": {},
     "output_type": "execute_result"
    }
   ],
   "source": [
    "b = db.from_sequence(list(range(10)))\n",
    "b.groupby(lambda x: x % 2).compute()"
   ]
  },
  {
   "cell_type": "code",
   "execution_count": 21,
   "metadata": {},
   "outputs": [
    {
     "data": {
      "text/plain": [
       "[(0, 8), (1, 9)]"
      ]
     },
     "execution_count": 21,
     "metadata": {},
     "output_type": "execute_result"
    }
   ],
   "source": [
    "b.groupby(lambda x: x % 2).starmap(lambda k, v: (k, max(v))).compute()"
   ]
  },
  {
   "cell_type": "markdown",
   "metadata": {},
   "source": [
    "### `foldby`"
   ]
  },
  {
   "cell_type": "markdown",
   "metadata": {},
   "source": [
    "Foldby can be quite odd at first.  It is similar to the following functions from other libraries:\n",
    "\n",
    "*  [`toolz.reduceby`](http://toolz.readthedocs.io/en/latest/streaming-analytics.html#streaming-split-apply-combine)\n",
    "*  [`pyspark.RDD.combineByKey`](http://abshinn.github.io/python/apache-spark/2014/10/11/using-combinebykey-in-apache-spark/)\n",
    "\n",
    "When using `foldby` you provide \n",
    "\n",
    "1.  A key function on which to group elements\n",
    "2.  A binary operator such as you would pass to `reduce` that you use to perform reduction per each group\n",
    "3.  A combine binary operator that can combine the results of two `reduce` calls on different parts of your dataset.\n",
    "\n",
    "Your reduction must be associative.  It will happen in parallel in each of the partitions of your dataset.  Then all of these intermediate results will be combined by the `combine` binary operator."
   ]
  },
  {
   "cell_type": "code",
   "execution_count": 22,
   "metadata": {},
   "outputs": [
    {
     "data": {
      "text/plain": [
       "[(0, 8), (1, 9)]"
      ]
     },
     "execution_count": 22,
     "metadata": {},
     "output_type": "execute_result"
    }
   ],
   "source": [
    "is_even = lambda x: x % 2\n",
    "b.foldby(is_even, binop=max, combine=max).compute()"
   ]
  },
  {
   "cell_type": "markdown",
   "metadata": {},
   "source": [
    "### Example with account data"
   ]
  },
  {
   "cell_type": "markdown",
   "metadata": {},
   "source": [
    "We find the number of people with the same name."
   ]
  },
  {
   "cell_type": "code",
   "execution_count": 23,
   "metadata": {},
   "outputs": [
    {
     "name": "stdout",
     "output_type": "stream",
     "text": [
      "[('Alice', 110), ('Alice', 120), ('Alice', 130), ('Alice', 140), ('Bob', 110), ('Bob', 120), ('Bob', 130), ('Bob', 140), ('Charlie', 137), ('Charlie', 151), ('Charlie', 164), ('Charlie', 177), ('Dan', 124), ('Dan', 135), ('Dan', 223), ('Edith', 82), ('Edith', 92), ('Edith', 99), ('Edith', 101), ('Frank', 33), ('Frank', 36), ('Frank', 39), ('Frank', 42), ('George', 226), ('George', 245), ('George', 267), ('George', 289), ('Hannah', 129), ('Hannah', 142), ('Hannah', 155), ('Hannah', 167), ('Ingrid', 88), ('Ingrid', 96), ('Ingrid', 104), ('Ingrid', 112), ('Jerry', 124), ('Jerry', 132), ('Jerry', 143), ('Jerry', 153), ('Kevin', 110), ('Kevin', 120), ('Kevin', 130), ('Kevin', 140), ('Laura', 98), ('Laura', 104), ('Laura', 112), ('Laura', 125), ('Michael', 163), ('Michael', 178), ('Michael', 193), ('Michael', 207), ('Norbert', 88), ('Norbert', 93), ('Norbert', 100), ('Norbert', 109), ('Oliver', 120), ('Oliver', 132), ('Oliver', 143), ('Oliver', 153), ('Patricia', 76), ('Patricia', 84), ('Patricia', 91), ('Patricia', 98), ('Quinn', 110), ('Quinn', 120), ('Quinn', 130), ('Quinn', 139), ('Ray', 66), ('Ray', 72), ('Ray', 78), ('Ray', 84), ('Sarah', 99), ('Sarah', 107), ('Sarah', 116), ('Sarah', 126), ('Tim', 51), ('Tim', 58), ('Tim', 62), ('Tim', 66), ('Ursula', 132), ('Ursula', 144), ('Ursula', 156), ('Ursula', 168), ('Victor', 134), ('Victor', 149), ('Victor', 157), ('Victor', 167), ('Wendy', 77), ('Wendy', 84), ('Wendy', 91), ('Wendy', 98), ('Xavier', 85), ('Xavier', 91), ('Xavier', 99), ('Xavier', 108), ('Yvonne', 77), ('Yvonne', 84), ('Yvonne', 91), ('Yvonne', 98), ('Zelda', 66), ('Zelda', 71), ('Zelda', 77), ('Zelda', 82)]\n",
      "CPU times: user 1.45 s, sys: 97.2 ms, total: 1.55 s\n",
      "Wall time: 8.44 s\n"
     ]
    }
   ],
   "source": [
    "%%time\n",
    "# Warning, this one takes a while...\n",
    "result = js.groupby(lambda item: item['name']).starmap(lambda k, v: (k, len(v))).compute()\n",
    "print(sorted(result))"
   ]
  },
  {
   "cell_type": "code",
   "execution_count": 24,
   "metadata": {},
   "outputs": [
    {
     "name": "stdout",
     "output_type": "stream",
     "text": [
      "[('Alice', 500), ('Bob', 500), ('Charlie', 629), ('Dan', 482), ('Edith', 374), ('Frank', 150), ('George', 1027), ('Hannah', 593), ('Ingrid', 400), ('Jerry', 552), ('Kevin', 500), ('Laura', 439), ('Michael', 741), ('Norbert', 390), ('Oliver', 548), ('Patricia', 349), ('Quinn', 499), ('Ray', 300), ('Sarah', 448), ('Tim', 237), ('Ursula', 600), ('Victor', 607), ('Wendy', 350), ('Xavier', 383), ('Yvonne', 350), ('Zelda', 296)]\n",
      "CPU times: user 119 ms, sys: 10.7 ms, total: 130 ms\n",
      "Wall time: 558 ms\n"
     ]
    }
   ],
   "source": [
    "%%time\n",
    "# This one is comparatively fast and produces the same result.\n",
    "from operator import add\n",
    "def incr(tot, _):\n",
    "    return tot+1\n",
    "\n",
    "result = js.foldby(key='name', \n",
    "                   binop=incr, \n",
    "                   initial=0, \n",
    "                   combine=add, \n",
    "                   combine_initial=0).compute()\n",
    "print(sorted(result))"
   ]
  },
  {
   "cell_type": "markdown",
   "metadata": {},
   "source": [
    "### Exercise: compute total amount per name"
   ]
  },
  {
   "cell_type": "markdown",
   "metadata": {},
   "source": [
    "We want to groupby (or foldby) the `name` key, then add up the all of the amounts for each name.\n",
    "\n",
    "Steps\n",
    "\n",
    "1.  Create a small function that, given a dictionary like \n",
    "\n",
    "        {'name': 'Alice', 'transactions': [{'amount': 1, 'id': 123}, {'amount': 2, 'id': 456}]}\n",
    "        \n",
    "    produces the sum of the amounts, e.g. `3`\n",
    "    \n",
    "2.  Slightly change the binary operator of the `foldby` example above so that the binary operator doesn't count the number of entries, but instead accumulates the sum of the amounts."
   ]
  },
  {
   "cell_type": "code",
   "execution_count": 25,
   "metadata": {},
   "outputs": [],
   "source": [
    "# Your code here..."
   ]
  },
  {
   "cell_type": "markdown",
   "metadata": {},
   "source": [
    "## DataFrames"
   ]
  },
  {
   "cell_type": "markdown",
   "metadata": {},
   "source": [
    "For the same reasons that Pandas is often faster than pure Python, `dask.dataframe` can be faster than `dask.bag`.  We will work more with DataFrames later, but from for the bag point of view, they are frequently the end-point of the \"messy\" part of data ingestion—once the data can be made into a data-frame, then complex split-apply-combine logic will become much more straight-forward and efficient.\n",
    "\n",
    "You can transform a bag with a simple tuple or flat dictionary structure into a `dask.dataframe` with the `to_dataframe` method."
   ]
  },
  {
   "cell_type": "code",
   "execution_count": 26,
   "metadata": {},
   "outputs": [
    {
     "data": {
      "text/html": [
       "<div>\n",
       "<style scoped>\n",
       "    .dataframe tbody tr th:only-of-type {\n",
       "        vertical-align: middle;\n",
       "    }\n",
       "\n",
       "    .dataframe tbody tr th {\n",
       "        vertical-align: top;\n",
       "    }\n",
       "\n",
       "    .dataframe thead th {\n",
       "        text-align: right;\n",
       "    }\n",
       "</style>\n",
       "<table border=\"1\" class=\"dataframe\">\n",
       "  <thead>\n",
       "    <tr style=\"text-align: right;\">\n",
       "      <th></th>\n",
       "      <th>id</th>\n",
       "      <th>name</th>\n",
       "      <th>transactions</th>\n",
       "    </tr>\n",
       "  </thead>\n",
       "  <tbody>\n",
       "    <tr>\n",
       "      <th>0</th>\n",
       "      <td>0</td>\n",
       "      <td>Norbert</td>\n",
       "      <td>[{'transaction-id': 378, 'amount': 1116}, {'tr...</td>\n",
       "    </tr>\n",
       "    <tr>\n",
       "      <th>1</th>\n",
       "      <td>1</td>\n",
       "      <td>Michael</td>\n",
       "      <td>[{'transaction-id': 43, 'amount': 3369}, {'tra...</td>\n",
       "    </tr>\n",
       "    <tr>\n",
       "      <th>2</th>\n",
       "      <td>2</td>\n",
       "      <td>Alice</td>\n",
       "      <td>[{'transaction-id': 590, 'amount': -1090}, {'t...</td>\n",
       "    </tr>\n",
       "    <tr>\n",
       "      <th>3</th>\n",
       "      <td>3</td>\n",
       "      <td>Charlie</td>\n",
       "      <td>[{'transaction-id': 2367, 'amount': 717}, {'tr...</td>\n",
       "    </tr>\n",
       "    <tr>\n",
       "      <th>4</th>\n",
       "      <td>4</td>\n",
       "      <td>George</td>\n",
       "      <td>[{'transaction-id': 302, 'amount': 75}, {'tran...</td>\n",
       "    </tr>\n",
       "  </tbody>\n",
       "</table>\n",
       "</div>"
      ],
      "text/plain": [
       "   id     name                                       transactions\n",
       "0   0  Norbert  [{'transaction-id': 378, 'amount': 1116}, {'tr...\n",
       "1   1  Michael  [{'transaction-id': 43, 'amount': 3369}, {'tra...\n",
       "2   2    Alice  [{'transaction-id': 590, 'amount': -1090}, {'t...\n",
       "3   3  Charlie  [{'transaction-id': 2367, 'amount': 717}, {'tr...\n",
       "4   4   George  [{'transaction-id': 302, 'amount': 75}, {'tran..."
      ]
     },
     "execution_count": 26,
     "metadata": {},
     "output_type": "execute_result"
    }
   ],
   "source": [
    "df1 = js.to_dataframe()\n",
    "df1.head()"
   ]
  },
  {
   "cell_type": "markdown",
   "metadata": {},
   "source": [
    "This now looks like a well-defined DataFrame, and we can apply Pandas-like computations to it efficiently."
   ]
  },
  {
   "cell_type": "markdown",
   "metadata": {},
   "source": [
    "Using a Dask DataFrame, how long does it take to do our prior computation of numbers of people with the same name?  It turns out that `dask.dataframe.groupby()` beats `dask.bag.groupby()` more than an order of magnitude; but it still cannot match `dask.bag.foldby()` for this case."
   ]
  },
  {
   "cell_type": "code",
   "execution_count": 27,
   "metadata": {},
   "outputs": [
    {
     "name": "stdout",
     "output_type": "stream",
     "text": [
      "CPU times: user 195 ms, sys: 16.6 ms, total: 211 ms\n",
      "Wall time: 1.68 s\n"
     ]
    },
    {
     "data": {
      "text/plain": [
       "name\n",
       "Alice      500\n",
       "Bob        500\n",
       "Charlie    629\n",
       "Dan        482\n",
       "Edith      374\n",
       "Name: id, dtype: int64"
      ]
     },
     "execution_count": 27,
     "metadata": {},
     "output_type": "execute_result"
    }
   ],
   "source": [
    "%time df1.groupby('name').id.count().compute().head()"
   ]
  },
  {
   "cell_type": "markdown",
   "metadata": {},
   "source": [
    "### Denormalization"
   ]
  },
  {
   "cell_type": "markdown",
   "metadata": {},
   "source": [
    "This DataFrame format is less-than-optimal because the `transactions` column is filled with nested data so Pandas has to revert to `object` dtype, which is quite slow in Pandas.  Ideally we want to transform to a dataframe only after we have flattened our data so that each record is a single `int`, `string`, `float`, etc.."
   ]
  },
  {
   "cell_type": "code",
   "execution_count": 28,
   "metadata": {},
   "outputs": [
    {
     "data": {
      "text/plain": [
       "({'id': 0, 'name': 'Norbert', 'amount': 1116, 'transaction-id': 378},\n",
       " {'id': 0, 'name': 'Norbert', 'amount': 1211, 'transaction-id': 581},\n",
       " {'id': 0, 'name': 'Norbert', 'amount': 1149, 'transaction-id': 818})"
      ]
     },
     "execution_count": 28,
     "metadata": {},
     "output_type": "execute_result"
    }
   ],
   "source": [
    "def denormalize(record):\n",
    "    # returns a list for every nested item, each transaction of each person\n",
    "    return [{'id': record['id'], \n",
    "             'name': record['name'], \n",
    "             'amount': transaction['amount'], \n",
    "             'transaction-id': transaction['transaction-id']}\n",
    "            for transaction in record['transactions']]\n",
    "\n",
    "transactions = js.map(denormalize).flatten()\n",
    "transactions.take(3)"
   ]
  },
  {
   "cell_type": "code",
   "execution_count": 29,
   "metadata": {},
   "outputs": [
    {
     "data": {
      "text/html": [
       "<div>\n",
       "<style scoped>\n",
       "    .dataframe tbody tr th:only-of-type {\n",
       "        vertical-align: middle;\n",
       "    }\n",
       "\n",
       "    .dataframe tbody tr th {\n",
       "        vertical-align: top;\n",
       "    }\n",
       "\n",
       "    .dataframe thead th {\n",
       "        text-align: right;\n",
       "    }\n",
       "</style>\n",
       "<table border=\"1\" class=\"dataframe\">\n",
       "  <thead>\n",
       "    <tr style=\"text-align: right;\">\n",
       "      <th></th>\n",
       "      <th>id</th>\n",
       "      <th>name</th>\n",
       "      <th>amount</th>\n",
       "      <th>transaction-id</th>\n",
       "    </tr>\n",
       "  </thead>\n",
       "  <tbody>\n",
       "    <tr>\n",
       "      <th>0</th>\n",
       "      <td>0</td>\n",
       "      <td>Norbert</td>\n",
       "      <td>1116</td>\n",
       "      <td>378</td>\n",
       "    </tr>\n",
       "    <tr>\n",
       "      <th>1</th>\n",
       "      <td>0</td>\n",
       "      <td>Norbert</td>\n",
       "      <td>1211</td>\n",
       "      <td>581</td>\n",
       "    </tr>\n",
       "    <tr>\n",
       "      <th>2</th>\n",
       "      <td>0</td>\n",
       "      <td>Norbert</td>\n",
       "      <td>1149</td>\n",
       "      <td>818</td>\n",
       "    </tr>\n",
       "    <tr>\n",
       "      <th>3</th>\n",
       "      <td>0</td>\n",
       "      <td>Norbert</td>\n",
       "      <td>1250</td>\n",
       "      <td>1124</td>\n",
       "    </tr>\n",
       "    <tr>\n",
       "      <th>4</th>\n",
       "      <td>0</td>\n",
       "      <td>Norbert</td>\n",
       "      <td>1371</td>\n",
       "      <td>1375</td>\n",
       "    </tr>\n",
       "  </tbody>\n",
       "</table>\n",
       "</div>"
      ],
      "text/plain": [
       "   id     name  amount  transaction-id\n",
       "0   0  Norbert    1116             378\n",
       "1   0  Norbert    1211             581\n",
       "2   0  Norbert    1149             818\n",
       "3   0  Norbert    1250            1124\n",
       "4   0  Norbert    1371            1375"
      ]
     },
     "execution_count": 29,
     "metadata": {},
     "output_type": "execute_result"
    }
   ],
   "source": [
    "df = transactions.to_dataframe()\n",
    "df.head()"
   ]
  },
  {
   "cell_type": "code",
   "execution_count": 30,
   "metadata": {},
   "outputs": [
    {
     "name": "stdout",
     "output_type": "stream",
     "text": [
      "CPU times: user 173 ms, sys: 13.2 ms, total: 186 ms\n",
      "Wall time: 1.4 s\n"
     ]
    },
    {
     "data": {
      "text/plain": [
       "name\n",
       "Alice       18483\n",
       "Bob         23420\n",
       "Charlie     25940\n",
       "Dan         23589\n",
       "Edith       15383\n",
       "Frank        6075\n",
       "George      47415\n",
       "Hannah      42035\n",
       "Ingrid      19238\n",
       "Jerry       18444\n",
       "Kevin       24317\n",
       "Laura       11333\n",
       "Michael     41161\n",
       "Norbert     16727\n",
       "Oliver       8228\n",
       "Patricia    17012\n",
       "Quinn       21973\n",
       "Ray         11581\n",
       "Sarah       16145\n",
       "Tim          3878\n",
       "Ursula      14798\n",
       "Victor      17344\n",
       "Wendy       22816\n",
       "Xavier      11838\n",
       "Yvonne       8545\n",
       "Zelda       12282\n",
       "Name: transaction-id, dtype: int64"
      ]
     },
     "execution_count": 30,
     "metadata": {},
     "output_type": "execute_result"
    }
   ],
   "source": [
    "%%time\n",
    "# number of transactions per name\n",
    "# note that the time here includes the data load and ingestion\n",
    "df.groupby('name')['transaction-id'].count().compute()"
   ]
  },
  {
   "cell_type": "markdown",
   "metadata": {},
   "source": [
    "## Limitations"
   ]
  },
  {
   "cell_type": "markdown",
   "metadata": {},
   "source": [
    "Bags provide very general computation (any Python function.)  This generality\n",
    "comes at cost.  Bags have the following known limitations\n",
    "\n",
    "1.  Bag operations tend to be slower than array/dataframe computations in the\n",
    "    same way that Python tends to be slower than NumPy/Pandas\n",
    "2.  ``Bag.groupby`` is slow.  You should try to use ``Bag.foldby`` if possible.\n",
    "    Using ``Bag.foldby`` requires more thought. Even better, consider creating\n",
    "    a normalised dataframe."
   ]
  },
  {
   "cell_type": "markdown",
   "metadata": {},
   "source": [
    "## Learn More\n",
    "\n",
    "* [Bag documentation](https://docs.dask.org/en/latest/bag.html)\n",
    "* [Bag screencast](https://youtu.be/-qIiJ1XtSv0)\n",
    "* [Bag API](https://docs.dask.org/en/latest/bag-api.html)\n",
    "* [Bag examples](https://examples.dask.org/bag.html)"
   ]
  },
  {
   "cell_type": "markdown",
   "metadata": {},
   "source": [
    "## Shutdown"
   ]
  },
  {
   "cell_type": "code",
   "execution_count": 31,
   "metadata": {},
   "outputs": [],
   "source": [
    "client.shutdown()"
   ]
  }
 ],
 "metadata": {
  "anaconda-cloud": {},
  "kernelspec": {
   "display_name": "Python 3",
   "language": "python",
   "name": "python3"
  },
  "language_info": {
   "codemirror_mode": {
    "name": "ipython",
    "version": 3
   },
   "file_extension": ".py",
   "mimetype": "text/x-python",
   "name": "python",
   "nbconvert_exporter": "python",
   "pygments_lexer": "ipython3",
   "version": "3.8.3"
  }
 },
 "nbformat": 4,
 "nbformat_minor": 4
}
