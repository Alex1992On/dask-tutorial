{
 "cells": [
  {
   "cell_type": "markdown",
   "metadata": {},
   "source": [
    "<img src=\"images/dask_horizontal.svg\" align=\"right\" width=\"30%\">"
   ]
  },
  {
   "cell_type": "markdown",
   "metadata": {},
   "source": [
    "# Bag: Parallel Lists for semi-structured data"
   ]
  },
  {
   "cell_type": "markdown",
   "metadata": {},
   "source": [
    "Dask-bag excels in processing data that can be represented as a sequence of arbitrary inputs. We'll refer to this as \"messy\" data, because it can contain complex nested structures, missing fields, mixtures of data types, etc. The *functional* programming style fits very nicely with standard Python iteration, such as can be found in the `itertools` module.\n",
    "\n",
    "Messy data is often encountered at the beginning of data processing pipelines when large volumes of raw data are first consumed. The initial set of data might be JSON, CSV, XML, or any other format that does not enforce strict structure and datatypes.\n",
    "For this reason, the initial data massaging and processing is often done with Python `list`s, `dict`s, and `set`s.\n",
    "\n",
    "These core data structures are optimized for general-purpose storage and processing.  Adding streaming computation with iterators/generator expressions or libraries like `itertools` or [`toolz`](https://toolz.readthedocs.io/en/latest/) let us process large volumes in a small space.  If we combine this with parallel processing then we can churn through a fair amount of data.\n",
    "\n",
    "Dask.bag is a high level Dask collection to automate common workloads of this form.  In a nutshell\n",
    "\n",
    "    dask.bag = map, filter, toolz + parallel execution\n",
    "    \n",
    "**Related Documentation**\n",
    "\n",
    "* [Bag documentation](https://docs.dask.org/en/latest/bag.html)\n",
    "* [Bag screencast](https://youtu.be/-qIiJ1XtSv0)\n",
    "* [Bag API](https://docs.dask.org/en/latest/bag-api.html)\n",
    "* [Bag examples](https://examples.dask.org/bag.html)"
   ]
  },
  {
   "cell_type": "markdown",
   "metadata": {},
   "source": [
    "## Create data"
   ]
  },
  {
   "cell_type": "code",
   "execution_count": 1,
   "metadata": {
    "execution": {
     "iopub.execute_input": "2020-11-17T15:01:05.980841Z",
     "iopub.status.busy": "2020-11-17T15:01:05.980407Z",
     "iopub.status.idle": "2020-11-17T15:01:06.451168Z",
     "shell.execute_reply": "2020-11-17T15:01:06.450388Z"
    }
   },
   "outputs": [],
   "source": [
    "%run prep.py -d accounts"
   ]
  },
  {
   "cell_type": "markdown",
   "metadata": {},
   "source": [
    "## Setup"
   ]
  },
  {
   "cell_type": "markdown",
   "metadata": {},
   "source": [
    "Again, we'll use the distributed scheduler. Schedulers will be explained in depth [later](05_distributed.ipynb)."
   ]
  },
  {
   "cell_type": "code",
   "execution_count": 2,
   "metadata": {
    "execution": {
     "iopub.execute_input": "2020-11-17T15:01:06.454783Z",
     "iopub.status.busy": "2020-11-17T15:01:06.454047Z",
     "iopub.status.idle": "2020-11-17T15:01:08.015509Z",
     "shell.execute_reply": "2020-11-17T15:01:08.015000Z"
    }
   },
   "outputs": [],
   "source": [
    "from dask.distributed import Client\n",
    "\n",
    "client = Client(n_workers=4)"
   ]
  },
  {
   "cell_type": "markdown",
   "metadata": {},
   "source": [
    "## Creation"
   ]
  },
  {
   "cell_type": "markdown",
   "metadata": {},
   "source": [
    "You can create a `Bag` from a Python sequence, from files, from data on S3, etc.\n",
    "We demonstrate using `.take()` to show elements of the data. (Doing `.take(1)` results in a tuple with one element)\n",
    "\n",
    "Note that the data are partitioned into blocks, and there are many items per block. In the first example, the two partitions contain five elements each, and in the following two, each file is partitioned into one or more bytes blocks."
   ]
  },
  {
   "cell_type": "code",
   "execution_count": 3,
   "metadata": {
    "execution": {
     "iopub.execute_input": "2020-11-17T15:01:08.019615Z",
     "iopub.status.busy": "2020-11-17T15:01:08.019156Z",
     "iopub.status.idle": "2020-11-17T15:01:08.057622Z",
     "shell.execute_reply": "2020-11-17T15:01:08.057990Z"
    }
   },
   "outputs": [
    {
     "data": {
      "text/plain": [
       "(1, 2, 3)"
      ]
     },
     "execution_count": 1,
     "metadata": {},
     "output_type": "execute_result"
    }
   ],
   "source": [
    "# each element is an integer\n",
    "import dask.bag as db\n",
    "b = db.from_sequence([1, 2, 3, 4, 5, 6, 7, 8, 9, 10], npartitions=2)\n",
    "b.take(3)"
   ]
  },
  {
   "cell_type": "code",
   "execution_count": 4,
   "metadata": {
    "execution": {
     "iopub.execute_input": "2020-11-17T15:01:08.061441Z",
     "iopub.status.busy": "2020-11-17T15:01:08.060939Z",
     "iopub.status.idle": "2020-11-17T15:01:08.088193Z",
     "shell.execute_reply": "2020-11-17T15:01:08.087527Z"
    }
   },
   "outputs": [
    {
     "data": {
      "text/plain": [
       "('{\"id\": 0, \"name\": \"Jerry\", \"transactions\": [{\"transaction-id\": 3505, \"amount\": 602}, {\"transaction-id\": 7941, \"amount\": 619}]}\\n',)"
      ]
     },
     "execution_count": 1,
     "metadata": {},
     "output_type": "execute_result"
    }
   ],
   "source": [
    "# each element is a text file, where each line is a JSON object\n",
    "# note that the compression is handled automatically\n",
    "import os\n",
    "b = db.read_text(os.path.join('data', 'accounts.*.json.gz'))\n",
    "b.take(1)"
   ]
  },
  {
   "cell_type": "code",
   "execution_count": 5,
   "metadata": {
    "execution": {
     "iopub.execute_input": "2020-11-17T15:01:08.091940Z",
     "iopub.status.busy": "2020-11-17T15:01:08.091409Z",
     "iopub.status.idle": "2020-11-17T15:01:08.096915Z",
     "shell.execute_reply": "2020-11-17T15:01:08.096009Z"
    }
   },
   "outputs": [
    {
     "data": {
      "text/plain": [
       "'s3://dask-data/nyc-taxi/2015/yellow_tripdata_2015-01.csv'"
      ]
     },
     "execution_count": 1,
     "metadata": {},
     "output_type": "execute_result"
    }
   ],
   "source": [
    "# Edit sources.py to configure source locations\n",
    "import sources\n",
    "sources.bag_url"
   ]
  },
  {
   "cell_type": "code",
   "execution_count": 6,
   "metadata": {
    "execution": {
     "iopub.execute_input": "2020-11-17T15:01:08.100356Z",
     "iopub.status.busy": "2020-11-17T15:01:08.099819Z",
     "iopub.status.idle": "2020-11-17T15:01:08.843898Z",
     "shell.execute_reply": "2020-11-17T15:01:08.844295Z"
    }
   },
   "outputs": [
    {
     "data": {
      "text/plain": [
       "('VendorID,tpep_pickup_datetime,tpep_dropoff_datetime,passenger_count,trip_distance,pickup_longitude,pickup_latitude,RateCodeID,store_and_fwd_flag,dropoff_longitude,dropoff_latitude,payment_type,fare_amount,extra,mta_tax,tip_amount,tolls_amount,improvement_surcharge,total_amount\\n',)"
      ]
     },
     "execution_count": 1,
     "metadata": {},
     "output_type": "execute_result"
    }
   ],
   "source": [
    "# Requires `s3fs` library\n",
    "# each partition is a remote CSV text file\n",
    "b = db.read_text(sources.bag_url,\n",
    "                 storage_options={'anon': True})\n",
    "b.take(1)"
   ]
  },
  {
   "cell_type": "markdown",
   "metadata": {},
   "source": [
    "## Manipulation"
   ]
  },
  {
   "cell_type": "markdown",
   "metadata": {},
   "source": [
    "`Bag` objects hold the standard functional API found in projects like the Python standard library, `toolz`, or `pyspark`, including `map`, `filter`, `groupby`, etc..\n",
    "\n",
    "Operations on `Bag` objects create new bags.  Call the `.compute()` method to trigger execution, as we saw for `Delayed` objects.  "
   ]
  },
  {
   "cell_type": "code",
   "execution_count": 7,
   "metadata": {
    "execution": {
     "iopub.execute_input": "2020-11-17T15:01:08.850562Z",
     "iopub.status.busy": "2020-11-17T15:01:08.849116Z",
     "iopub.status.idle": "2020-11-17T15:01:08.854957Z",
     "shell.execute_reply": "2020-11-17T15:01:08.855379Z"
    }
   },
   "outputs": [
    {
     "data": {
      "text/plain": [
       "dask.bag<lambda, npartitions=10>"
      ]
     },
     "execution_count": 1,
     "metadata": {},
     "output_type": "execute_result"
    }
   ],
   "source": [
    "def is_even(n):\n",
    "    return n % 2 == 0\n",
    "\n",
    "b = db.from_sequence([1, 2, 3, 4, 5, 6, 7, 8, 9, 10])\n",
    "c = b.filter(is_even).map(lambda x: x ** 2)\n",
    "c"
   ]
  },
  {
   "cell_type": "code",
   "execution_count": 8,
   "metadata": {
    "execution": {
     "iopub.execute_input": "2020-11-17T15:01:08.865513Z",
     "iopub.status.busy": "2020-11-17T15:01:08.864856Z",
     "iopub.status.idle": "2020-11-17T15:01:08.929904Z",
     "shell.execute_reply": "2020-11-17T15:01:08.929085Z"
    }
   },
   "outputs": [
    {
     "data": {
      "text/plain": [
       "[4, 16, 36, 64, 100]"
      ]
     },
     "execution_count": 1,
     "metadata": {},
     "output_type": "execute_result"
    }
   ],
   "source": [
    "# blocking form: wait for completion (which is very fast in this case)\n",
    "c.compute()"
   ]
  },
  {
   "cell_type": "markdown",
   "metadata": {},
   "source": [
    "### Example: Accounts JSON data"
   ]
  },
  {
   "cell_type": "markdown",
   "metadata": {},
   "source": [
    "We've created a fake dataset of gzipped JSON data in your data directory.  This is like the example used in the `DataFrame` example we will see later, except that it has bundled up all of the entires for each individual `id` into a single record.  This is similar to data that you might collect off of a document store database or a web API.\n",
    "\n",
    "Each line is a JSON encoded dictionary with the following keys\n",
    "\n",
    "*  id: Unique identifier of the customer\n",
    "*  name: Name of the customer\n",
    "*  transactions: List of `transaction-id`, `amount` pairs, one for each transaction for the customer in that file"
   ]
  },
  {
   "cell_type": "code",
   "execution_count": 9,
   "metadata": {
    "execution": {
     "iopub.execute_input": "2020-11-17T15:01:08.933105Z",
     "iopub.status.busy": "2020-11-17T15:01:08.932668Z",
     "iopub.status.idle": "2020-11-17T15:01:08.960481Z",
     "shell.execute_reply": "2020-11-17T15:01:08.959864Z"
    }
   },
   "outputs": [
    {
     "data": {
      "text/plain": [
       "('{\"id\": 0, \"name\": \"Jerry\", \"transactions\": [{\"transaction-id\": 3505, \"amount\": 602}, {\"transaction-id\": 7941, \"amount\": 619}]}\\n',\n",
       " '{\"id\": 1, \"name\": \"Tim\", \"transactions\": [{\"transaction-id\": 830, \"amount\": -4332}, {\"transaction-id\": 9561, \"amount\": -3984}]}\\n',\n",
       " '{\"id\": 2, \"name\": \"Jerry\", \"transactions\": [{\"transaction-id\": 1879, \"amount\": 244}, {\"transaction-id\": 3925, \"amount\": 203}]}\\n')"
      ]
     },
     "execution_count": 1,
     "metadata": {},
     "output_type": "execute_result"
    }
   ],
   "source": [
    "filename = os.path.join('data', 'accounts.*.json.gz')\n",
    "lines = db.read_text(filename)\n",
    "lines.take(3)"
   ]
  },
  {
   "cell_type": "markdown",
   "metadata": {},
   "source": [
    "Our data comes out of the file as lines of text. Notice that file decompression happened automatically. We can make this data look more reasonable by mapping the `json.loads` function onto our bag."
   ]
  },
  {
   "cell_type": "code",
   "execution_count": 10,
   "metadata": {
    "execution": {
     "iopub.execute_input": "2020-11-17T15:01:08.964820Z",
     "iopub.status.busy": "2020-11-17T15:01:08.964369Z",
     "iopub.status.idle": "2020-11-17T15:01:08.981657Z",
     "shell.execute_reply": "2020-11-17T15:01:08.982191Z"
    }
   },
   "outputs": [
    {
     "data": {
      "text/plain": [
       "({'id': 0,\n",
       "  'name': 'Jerry',\n",
       "  'transactions': [{'transaction-id': 3505, 'amount': 602},\n",
       "   {'transaction-id': 7941, 'amount': 619}]},\n",
       " {'id': 1,\n",
       "  'name': 'Tim',\n",
       "  'transactions': [{'transaction-id': 830, 'amount': -4332},\n",
       "   {'transaction-id': 9561, 'amount': -3984}]},\n",
       " {'id': 2,\n",
       "  'name': 'Jerry',\n",
       "  'transactions': [{'transaction-id': 1879, 'amount': 244},\n",
       "   {'transaction-id': 3925, 'amount': 203}]})"
      ]
     },
     "execution_count": 1,
     "metadata": {},
     "output_type": "execute_result"
    }
   ],
   "source": [
    "import json\n",
    "js = lines.map(json.loads)\n",
    "# take: inspect first few elements\n",
    "js.take(3)"
   ]
  },
  {
   "cell_type": "markdown",
   "metadata": {},
   "source": [
    "### Basic Queries"
   ]
  },
  {
   "cell_type": "markdown",
   "metadata": {},
   "source": [
    "Once we parse our JSON data into proper Python objects (`dict`s, `list`s, etc.) we can perform more interesting queries by creating small Python functions to run on our data."
   ]
  },
  {
   "cell_type": "code",
   "execution_count": 11,
   "metadata": {
    "execution": {
     "iopub.execute_input": "2020-11-17T15:01:08.985060Z",
     "iopub.status.busy": "2020-11-17T15:01:08.984569Z",
     "iopub.status.idle": "2020-11-17T15:01:09.023670Z",
     "shell.execute_reply": "2020-11-17T15:01:09.024109Z"
    }
   },
   "outputs": [
    {
     "data": {
      "text/plain": [
       "({'id': 22,\n",
       "  'name': 'Alice',\n",
       "  'transactions': [{'transaction-id': 225, 'amount': 1098},\n",
       "   {'transaction-id': 344, 'amount': 1414},\n",
       "   {'transaction-id': 811, 'amount': 1125},\n",
       "   {'transaction-id': 888, 'amount': 1144},\n",
       "   {'transaction-id': 1166, 'amount': 1200},\n",
       "   {'transaction-id': 1218, 'amount': 619},\n",
       "   {'transaction-id': 1293, 'amount': 188},\n",
       "   {'transaction-id': 1442, 'amount': 1037},\n",
       "   {'transaction-id': 1512, 'amount': 1155},\n",
       "   {'transaction-id': 1554, 'amount': 687},\n",
       "   {'transaction-id': 1605, 'amount': 877},\n",
       "   {'transaction-id': 1609, 'amount': 938},\n",
       "   {'transaction-id': 1626, 'amount': 809},\n",
       "   {'transaction-id': 1915, 'amount': 827},\n",
       "   {'transaction-id': 2007, 'amount': 967},\n",
       "   {'transaction-id': 2037, 'amount': 868},\n",
       "   {'transaction-id': 2119, 'amount': 881},\n",
       "   {'transaction-id': 2188, 'amount': 695},\n",
       "   {'transaction-id': 2440, 'amount': 814},\n",
       "   {'transaction-id': 2469, 'amount': 1110},\n",
       "   {'transaction-id': 2481, 'amount': 855},\n",
       "   {'transaction-id': 2528, 'amount': 995},\n",
       "   {'transaction-id': 2815, 'amount': 840},\n",
       "   {'transaction-id': 2820, 'amount': 737},\n",
       "   {'transaction-id': 2834, 'amount': 1007},\n",
       "   {'transaction-id': 2888, 'amount': 892},\n",
       "   {'transaction-id': 2987, 'amount': 919},\n",
       "   {'transaction-id': 3038, 'amount': 648},\n",
       "   {'transaction-id': 3321, 'amount': 1496},\n",
       "   {'transaction-id': 3376, 'amount': 608},\n",
       "   {'transaction-id': 3397, 'amount': 784},\n",
       "   {'transaction-id': 3430, 'amount': 742},\n",
       "   {'transaction-id': 3711, 'amount': 780},\n",
       "   {'transaction-id': 4231, 'amount': 626},\n",
       "   {'transaction-id': 4254, 'amount': 735},\n",
       "   {'transaction-id': 4256, 'amount': 930},\n",
       "   {'transaction-id': 4328, 'amount': 1131},\n",
       "   {'transaction-id': 4416, 'amount': 1026},\n",
       "   {'transaction-id': 4576, 'amount': 839},\n",
       "   {'transaction-id': 4793, 'amount': 1493},\n",
       "   {'transaction-id': 4896, 'amount': 1075},\n",
       "   {'transaction-id': 4937, 'amount': 863},\n",
       "   {'transaction-id': 4984, 'amount': 445},\n",
       "   {'transaction-id': 5141, 'amount': 1260},\n",
       "   {'transaction-id': 5308, 'amount': 880},\n",
       "   {'transaction-id': 5327, 'amount': 991},\n",
       "   {'transaction-id': 5340, 'amount': 1693},\n",
       "   {'transaction-id': 5932, 'amount': 791},\n",
       "   {'transaction-id': 6015, 'amount': 898},\n",
       "   {'transaction-id': 6225, 'amount': 883},\n",
       "   {'transaction-id': 6305, 'amount': 768},\n",
       "   {'transaction-id': 6310, 'amount': 1026},\n",
       "   {'transaction-id': 6570, 'amount': 807},\n",
       "   {'transaction-id': 6601, 'amount': 938},\n",
       "   {'transaction-id': 6737, 'amount': 1218},\n",
       "   {'transaction-id': 6890, 'amount': 965},\n",
       "   {'transaction-id': 6917, 'amount': 867},\n",
       "   {'transaction-id': 7188, 'amount': 829},\n",
       "   {'transaction-id': 7349, 'amount': 1160},\n",
       "   {'transaction-id': 7740, 'amount': 518},\n",
       "   {'transaction-id': 7823, 'amount': 933},\n",
       "   {'transaction-id': 7916, 'amount': 664},\n",
       "   {'transaction-id': 8013, 'amount': 1199},\n",
       "   {'transaction-id': 8018, 'amount': 942},\n",
       "   {'transaction-id': 8117, 'amount': 806},\n",
       "   {'transaction-id': 8594, 'amount': 1644},\n",
       "   {'transaction-id': 9022, 'amount': 676},\n",
       "   {'transaction-id': 9065, 'amount': 962},\n",
       "   {'transaction-id': 9094, 'amount': 1235},\n",
       "   {'transaction-id': 9277, 'amount': 1292},\n",
       "   {'transaction-id': 9312, 'amount': 1026},\n",
       "   {'transaction-id': 9365, 'amount': 724},\n",
       "   {'transaction-id': 9376, 'amount': 835},\n",
       "   {'transaction-id': 9467, 'amount': 744},\n",
       "   {'transaction-id': 9581, 'amount': 572},\n",
       "   {'transaction-id': 9624, 'amount': 1506},\n",
       "   {'transaction-id': 9838, 'amount': 1040},\n",
       "   {'transaction-id': 9860, 'amount': 1503}]},\n",
       " {'id': 29,\n",
       "  'name': 'Alice',\n",
       "  'transactions': [{'transaction-id': 30, 'amount': 34},\n",
       "   {'transaction-id': 126, 'amount': -96},\n",
       "   {'transaction-id': 697, 'amount': -62},\n",
       "   {'transaction-id': 1001, 'amount': -90},\n",
       "   {'transaction-id': 1549, 'amount': -130},\n",
       "   {'transaction-id': 1674, 'amount': -40},\n",
       "   {'transaction-id': 1964, 'amount': -136},\n",
       "   {'transaction-id': 2726, 'amount': -53},\n",
       "   {'transaction-id': 3298, 'amount': -31},\n",
       "   {'transaction-id': 3570, 'amount': -48},\n",
       "   {'transaction-id': 3890, 'amount': -109},\n",
       "   {'transaction-id': 3999, 'amount': -144},\n",
       "   {'transaction-id': 4127, 'amount': -59},\n",
       "   {'transaction-id': 5157, 'amount': -187},\n",
       "   {'transaction-id': 5605, 'amount': -48},\n",
       "   {'transaction-id': 5861, 'amount': -102},\n",
       "   {'transaction-id': 5916, 'amount': -93},\n",
       "   {'transaction-id': 6142, 'amount': -177},\n",
       "   {'transaction-id': 6539, 'amount': -57},\n",
       "   {'transaction-id': 8828, 'amount': -172},\n",
       "   {'transaction-id': 8979, 'amount': -108},\n",
       "   {'transaction-id': 9263, 'amount': -87},\n",
       "   {'transaction-id': 9540, 'amount': -58},\n",
       "   {'transaction-id': 9932, 'amount': -128}]},\n",
       " {'id': 75,\n",
       "  'name': 'Alice',\n",
       "  'transactions': [{'transaction-id': 211, 'amount': -68},\n",
       "   {'transaction-id': 265, 'amount': -23},\n",
       "   {'transaction-id': 298, 'amount': -68},\n",
       "   {'transaction-id': 361, 'amount': -50},\n",
       "   {'transaction-id': 431, 'amount': -58},\n",
       "   {'transaction-id': 475, 'amount': -83},\n",
       "   {'transaction-id': 514, 'amount': -55},\n",
       "   {'transaction-id': 531, 'amount': -79},\n",
       "   {'transaction-id': 536, 'amount': -17},\n",
       "   {'transaction-id': 673, 'amount': -34},\n",
       "   {'transaction-id': 690, 'amount': -61},\n",
       "   {'transaction-id': 748, 'amount': -26},\n",
       "   {'transaction-id': 863, 'amount': -49},\n",
       "   {'transaction-id': 1162, 'amount': -59},\n",
       "   {'transaction-id': 1286, 'amount': -46},\n",
       "   {'transaction-id': 1355, 'amount': -46},\n",
       "   {'transaction-id': 1567, 'amount': -39},\n",
       "   {'transaction-id': 1585, 'amount': -81},\n",
       "   {'transaction-id': 1623, 'amount': -54},\n",
       "   {'transaction-id': 1876, 'amount': -72},\n",
       "   {'transaction-id': 2202, 'amount': -43},\n",
       "   {'transaction-id': 2371, 'amount': -53},\n",
       "   {'transaction-id': 2672, 'amount': -65},\n",
       "   {'transaction-id': 2693, 'amount': -61},\n",
       "   {'transaction-id': 2778, 'amount': -34},\n",
       "   {'transaction-id': 2830, 'amount': -82},\n",
       "   {'transaction-id': 2838, 'amount': -60},\n",
       "   {'transaction-id': 2930, 'amount': -36},\n",
       "   {'transaction-id': 2932, 'amount': -28},\n",
       "   {'transaction-id': 3014, 'amount': -79},\n",
       "   {'transaction-id': 3073, 'amount': -70},\n",
       "   {'transaction-id': 3136, 'amount': -71},\n",
       "   {'transaction-id': 3220, 'amount': -15},\n",
       "   {'transaction-id': 3235, 'amount': -65},\n",
       "   {'transaction-id': 3307, 'amount': -62},\n",
       "   {'transaction-id': 3467, 'amount': -46},\n",
       "   {'transaction-id': 3528, 'amount': -57},\n",
       "   {'transaction-id': 3546, 'amount': -44},\n",
       "   {'transaction-id': 3611, 'amount': -87},\n",
       "   {'transaction-id': 3619, 'amount': -84},\n",
       "   {'transaction-id': 3667, 'amount': -84},\n",
       "   {'transaction-id': 3697, 'amount': -39},\n",
       "   {'transaction-id': 3804, 'amount': -81},\n",
       "   {'transaction-id': 3861, 'amount': -74},\n",
       "   {'transaction-id': 3970, 'amount': -48},\n",
       "   {'transaction-id': 4004, 'amount': -76},\n",
       "   {'transaction-id': 4138, 'amount': -73},\n",
       "   {'transaction-id': 4215, 'amount': -76},\n",
       "   {'transaction-id': 4332, 'amount': -41},\n",
       "   {'transaction-id': 4353, 'amount': -89},\n",
       "   {'transaction-id': 4375, 'amount': -76},\n",
       "   {'transaction-id': 4670, 'amount': -34},\n",
       "   {'transaction-id': 4771, 'amount': -50},\n",
       "   {'transaction-id': 4813, 'amount': -40},\n",
       "   {'transaction-id': 4976, 'amount': -48},\n",
       "   {'transaction-id': 5039, 'amount': -54},\n",
       "   {'transaction-id': 5191, 'amount': -96},\n",
       "   {'transaction-id': 5212, 'amount': -60},\n",
       "   {'transaction-id': 5322, 'amount': -28},\n",
       "   {'transaction-id': 5333, 'amount': -31},\n",
       "   {'transaction-id': 5406, 'amount': -46},\n",
       "   {'transaction-id': 5467, 'amount': -35},\n",
       "   {'transaction-id': 5564, 'amount': -95},\n",
       "   {'transaction-id': 5646, 'amount': -72},\n",
       "   {'transaction-id': 5717, 'amount': -68},\n",
       "   {'transaction-id': 5975, 'amount': -73},\n",
       "   {'transaction-id': 6016, 'amount': -48},\n",
       "   {'transaction-id': 6082, 'amount': -96},\n",
       "   {'transaction-id': 6364, 'amount': -55},\n",
       "   {'transaction-id': 6375, 'amount': -94},\n",
       "   {'transaction-id': 6445, 'amount': -62},\n",
       "   {'transaction-id': 6715, 'amount': -68},\n",
       "   {'transaction-id': 6740, 'amount': -60},\n",
       "   {'transaction-id': 6783, 'amount': -82},\n",
       "   {'transaction-id': 6954, 'amount': -78},\n",
       "   {'transaction-id': 6964, 'amount': -51},\n",
       "   {'transaction-id': 6974, 'amount': -68},\n",
       "   {'transaction-id': 7157, 'amount': -48},\n",
       "   {'transaction-id': 7241, 'amount': -110},\n",
       "   {'transaction-id': 7339, 'amount': -36},\n",
       "   {'transaction-id': 7383, 'amount': -89},\n",
       "   {'transaction-id': 7403, 'amount': -58},\n",
       "   {'transaction-id': 7437, 'amount': -53},\n",
       "   {'transaction-id': 7552, 'amount': -38},\n",
       "   {'transaction-id': 7661, 'amount': -58},\n",
       "   {'transaction-id': 7871, 'amount': -89},\n",
       "   {'transaction-id': 7919, 'amount': -58},\n",
       "   {'transaction-id': 7936, 'amount': -24},\n",
       "   {'transaction-id': 7967, 'amount': -80},\n",
       "   {'transaction-id': 8007, 'amount': -71},\n",
       "   {'transaction-id': 8189, 'amount': -66},\n",
       "   {'transaction-id': 8294, 'amount': -44},\n",
       "   {'transaction-id': 8364, 'amount': -79},\n",
       "   {'transaction-id': 8380, 'amount': -33},\n",
       "   {'transaction-id': 8397, 'amount': -49},\n",
       "   {'transaction-id': 8495, 'amount': -41},\n",
       "   {'transaction-id': 8636, 'amount': -32},\n",
       "   {'transaction-id': 8647, 'amount': -54},\n",
       "   {'transaction-id': 8667, 'amount': -69},\n",
       "   {'transaction-id': 8728, 'amount': -53},\n",
       "   {'transaction-id': 9227, 'amount': -98},\n",
       "   {'transaction-id': 9292, 'amount': -61},\n",
       "   {'transaction-id': 9318, 'amount': -51},\n",
       "   {'transaction-id': 9361, 'amount': -34},\n",
       "   {'transaction-id': 9406, 'amount': -62},\n",
       "   {'transaction-id': 9562, 'amount': -71},\n",
       "   {'transaction-id': 9576, 'amount': -34},\n",
       "   {'transaction-id': 9965, 'amount': -40}]},\n",
       " {'id': 76,\n",
       "  'name': 'Alice',\n",
       "  'transactions': [{'transaction-id': 323, 'amount': 4},\n",
       "   {'transaction-id': 620, 'amount': -3},\n",
       "   {'transaction-id': 624, 'amount': -10},\n",
       "   {'transaction-id': 741, 'amount': -12},\n",
       "   {'transaction-id': 1184, 'amount': 1},\n",
       "   {'transaction-id': 1341, 'amount': 5},\n",
       "   {'transaction-id': 1635, 'amount': 0},\n",
       "   {'transaction-id': 1983, 'amount': 7},\n",
       "   {'transaction-id': 2215, 'amount': 10},\n",
       "   {'transaction-id': 2321, 'amount': 13},\n",
       "   {'transaction-id': 2330, 'amount': 10},\n",
       "   {'transaction-id': 2703, 'amount': 7},\n",
       "   {'transaction-id': 2881, 'amount': 2},\n",
       "   {'transaction-id': 3049, 'amount': 16},\n",
       "   {'transaction-id': 3422, 'amount': -9},\n",
       "   {'transaction-id': 3485, 'amount': 2},\n",
       "   {'transaction-id': 3576, 'amount': -25},\n",
       "   {'transaction-id': 4042, 'amount': -7},\n",
       "   {'transaction-id': 4086, 'amount': 14},\n",
       "   {'transaction-id': 4172, 'amount': -2},\n",
       "   {'transaction-id': 4459, 'amount': 14},\n",
       "   {'transaction-id': 4539, 'amount': 6},\n",
       "   {'transaction-id': 4555, 'amount': -3},\n",
       "   {'transaction-id': 4726, 'amount': -6},\n",
       "   {'transaction-id': 5042, 'amount': 9},\n",
       "   {'transaction-id': 5051, 'amount': -10},\n",
       "   {'transaction-id': 5061, 'amount': 3},\n",
       "   {'transaction-id': 5374, 'amount': -8},\n",
       "   {'transaction-id': 5734, 'amount': -21},\n",
       "   {'transaction-id': 5772, 'amount': 1},\n",
       "   {'transaction-id': 5883, 'amount': 8},\n",
       "   {'transaction-id': 6155, 'amount': -7},\n",
       "   {'transaction-id': 6183, 'amount': 16},\n",
       "   {'transaction-id': 6331, 'amount': 3},\n",
       "   {'transaction-id': 6912, 'amount': 15},\n",
       "   {'transaction-id': 7154, 'amount': -2},\n",
       "   {'transaction-id': 7192, 'amount': -10},\n",
       "   {'transaction-id': 7302, 'amount': 15},\n",
       "   {'transaction-id': 7384, 'amount': -2},\n",
       "   {'transaction-id': 7753, 'amount': 14},\n",
       "   {'transaction-id': 7799, 'amount': 11},\n",
       "   {'transaction-id': 7860, 'amount': -12},\n",
       "   {'transaction-id': 7959, 'amount': 4},\n",
       "   {'transaction-id': 7997, 'amount': -12},\n",
       "   {'transaction-id': 8116, 'amount': -8},\n",
       "   {'transaction-id': 8243, 'amount': 20},\n",
       "   {'transaction-id': 8325, 'amount': 9},\n",
       "   {'transaction-id': 8391, 'amount': -28},\n",
       "   {'transaction-id': 8401, 'amount': 0},\n",
       "   {'transaction-id': 8580, 'amount': 7},\n",
       "   {'transaction-id': 8653, 'amount': -9},\n",
       "   {'transaction-id': 8750, 'amount': 1},\n",
       "   {'transaction-id': 8875, 'amount': -8},\n",
       "   {'transaction-id': 8887, 'amount': 9},\n",
       "   {'transaction-id': 8955, 'amount': -12},\n",
       "   {'transaction-id': 9036, 'amount': 15},\n",
       "   {'transaction-id': 9087, 'amount': -2},\n",
       "   {'transaction-id': 9302, 'amount': 1},\n",
       "   {'transaction-id': 9694, 'amount': 19},\n",
       "   {'transaction-id': 9804, 'amount': -22},\n",
       "   {'transaction-id': 9893, 'amount': 15}]},\n",
       " {'id': 81,\n",
       "  'name': 'Alice',\n",
       "  'transactions': [{'transaction-id': 988, 'amount': 356},\n",
       "   {'transaction-id': 1173, 'amount': 329},\n",
       "   {'transaction-id': 2062, 'amount': 266},\n",
       "   {'transaction-id': 2271, 'amount': 263},\n",
       "   {'transaction-id': 3024, 'amount': 368},\n",
       "   {'transaction-id': 3114, 'amount': 353},\n",
       "   {'transaction-id': 3451, 'amount': 335},\n",
       "   {'transaction-id': 3908, 'amount': 472},\n",
       "   {'transaction-id': 4034, 'amount': 260},\n",
       "   {'transaction-id': 4088, 'amount': 358},\n",
       "   {'transaction-id': 4290, 'amount': 425},\n",
       "   {'transaction-id': 4506, 'amount': 399},\n",
       "   {'transaction-id': 4552, 'amount': 373},\n",
       "   {'transaction-id': 4713, 'amount': 333},\n",
       "   {'transaction-id': 4910, 'amount': 289},\n",
       "   {'transaction-id': 5786, 'amount': 323},\n",
       "   {'transaction-id': 5862, 'amount': 368},\n",
       "   {'transaction-id': 6061, 'amount': 253},\n",
       "   {'transaction-id': 6945, 'amount': 206},\n",
       "   {'transaction-id': 8389, 'amount': 447},\n",
       "   {'transaction-id': 8692, 'amount': 434},\n",
       "   {'transaction-id': 9134, 'amount': 391},\n",
       "   {'transaction-id': 9242, 'amount': 318},\n",
       "   {'transaction-id': 9859, 'amount': 351},\n",
       "   {'transaction-id': 9881, 'amount': 207}]})"
      ]
     },
     "execution_count": 1,
     "metadata": {},
     "output_type": "execute_result"
    }
   ],
   "source": [
    "# filter: keep only some elements of the sequence\n",
    "js.filter(lambda record: record['name'] == 'Alice').take(5)"
   ]
  },
  {
   "cell_type": "code",
   "execution_count": 12,
   "metadata": {
    "execution": {
     "iopub.execute_input": "2020-11-17T15:01:09.026653Z",
     "iopub.status.busy": "2020-11-17T15:01:09.026176Z",
     "iopub.status.idle": "2020-11-17T15:01:09.044049Z",
     "shell.execute_reply": "2020-11-17T15:01:09.044564Z"
    }
   },
   "outputs": [
    {
     "data": {
      "text/plain": [
       "({'name': 'Alice', 'count': 78},\n",
       " {'name': 'Alice', 'count': 24},\n",
       " {'name': 'Alice', 'count': 108},\n",
       " {'name': 'Alice', 'count': 61},\n",
       " {'name': 'Alice', 'count': 25})"
      ]
     },
     "execution_count": 1,
     "metadata": {},
     "output_type": "execute_result"
    }
   ],
   "source": [
    "def count_transactions(d):\n",
    "    return {'name': d['name'], 'count': len(d['transactions'])}\n",
    "\n",
    "# map: apply a function to each element\n",
    "(js.filter(lambda record: record['name'] == 'Alice')\n",
    "   .map(count_transactions)\n",
    "   .take(5))"
   ]
  },
  {
   "cell_type": "code",
   "execution_count": 13,
   "metadata": {
    "execution": {
     "iopub.execute_input": "2020-11-17T15:01:09.048225Z",
     "iopub.status.busy": "2020-11-17T15:01:09.047491Z",
     "iopub.status.idle": "2020-11-17T15:01:09.066344Z",
     "shell.execute_reply": "2020-11-17T15:01:09.066688Z"
    }
   },
   "outputs": [
    {
     "data": {
      "text/plain": [
       "(78, 24, 108, 61, 25)"
      ]
     },
     "execution_count": 1,
     "metadata": {},
     "output_type": "execute_result"
    }
   ],
   "source": [
    "# pluck: select a field, as from a dictionary, element[field]\n",
    "(js.filter(lambda record: record['name'] == 'Alice')\n",
    "   .map(count_transactions)\n",
    "   .pluck('count')\n",
    "   .take(5))"
   ]
  },
  {
   "cell_type": "code",
   "execution_count": 14,
   "metadata": {
    "execution": {
     "iopub.execute_input": "2020-11-17T15:01:09.075981Z",
     "iopub.status.busy": "2020-11-17T15:01:09.070581Z",
     "iopub.status.idle": "2020-11-17T15:01:09.448351Z",
     "shell.execute_reply": "2020-11-17T15:01:09.447859Z"
    }
   },
   "outputs": [
    {
     "data": {
      "text/plain": [
       "58.566"
      ]
     },
     "execution_count": 1,
     "metadata": {},
     "output_type": "execute_result"
    }
   ],
   "source": [
    "# Average number of transactions for all of the Alice entries\n",
    "(js.filter(lambda record: record['name'] == 'Alice')\n",
    "   .map(count_transactions)\n",
    "   .pluck('count')\n",
    "   .mean()\n",
    "   .compute())"
   ]
  },
  {
   "cell_type": "markdown",
   "metadata": {},
   "source": [
    "### Use `flatten` to de-nest"
   ]
  },
  {
   "cell_type": "markdown",
   "metadata": {},
   "source": [
    "In the example below we see the use of `.flatten()` to flatten results.  We compute the average amount for all transactions for all Alices."
   ]
  },
  {
   "cell_type": "code",
   "execution_count": 15,
   "metadata": {
    "execution": {
     "iopub.execute_input": "2020-11-17T15:01:09.453396Z",
     "iopub.status.busy": "2020-11-17T15:01:09.452530Z",
     "iopub.status.idle": "2020-11-17T15:01:09.483094Z",
     "shell.execute_reply": "2020-11-17T15:01:09.483493Z"
    }
   },
   "outputs": [
    {
     "data": {
      "text/plain": [
       "([{'transaction-id': 225, 'amount': 1098},\n",
       "  {'transaction-id': 344, 'amount': 1414},\n",
       "  {'transaction-id': 811, 'amount': 1125},\n",
       "  {'transaction-id': 888, 'amount': 1144},\n",
       "  {'transaction-id': 1166, 'amount': 1200},\n",
       "  {'transaction-id': 1218, 'amount': 619},\n",
       "  {'transaction-id': 1293, 'amount': 188},\n",
       "  {'transaction-id': 1442, 'amount': 1037},\n",
       "  {'transaction-id': 1512, 'amount': 1155},\n",
       "  {'transaction-id': 1554, 'amount': 687},\n",
       "  {'transaction-id': 1605, 'amount': 877},\n",
       "  {'transaction-id': 1609, 'amount': 938},\n",
       "  {'transaction-id': 1626, 'amount': 809},\n",
       "  {'transaction-id': 1915, 'amount': 827},\n",
       "  {'transaction-id': 2007, 'amount': 967},\n",
       "  {'transaction-id': 2037, 'amount': 868},\n",
       "  {'transaction-id': 2119, 'amount': 881},\n",
       "  {'transaction-id': 2188, 'amount': 695},\n",
       "  {'transaction-id': 2440, 'amount': 814},\n",
       "  {'transaction-id': 2469, 'amount': 1110},\n",
       "  {'transaction-id': 2481, 'amount': 855},\n",
       "  {'transaction-id': 2528, 'amount': 995},\n",
       "  {'transaction-id': 2815, 'amount': 840},\n",
       "  {'transaction-id': 2820, 'amount': 737},\n",
       "  {'transaction-id': 2834, 'amount': 1007},\n",
       "  {'transaction-id': 2888, 'amount': 892},\n",
       "  {'transaction-id': 2987, 'amount': 919},\n",
       "  {'transaction-id': 3038, 'amount': 648},\n",
       "  {'transaction-id': 3321, 'amount': 1496},\n",
       "  {'transaction-id': 3376, 'amount': 608},\n",
       "  {'transaction-id': 3397, 'amount': 784},\n",
       "  {'transaction-id': 3430, 'amount': 742},\n",
       "  {'transaction-id': 3711, 'amount': 780},\n",
       "  {'transaction-id': 4231, 'amount': 626},\n",
       "  {'transaction-id': 4254, 'amount': 735},\n",
       "  {'transaction-id': 4256, 'amount': 930},\n",
       "  {'transaction-id': 4328, 'amount': 1131},\n",
       "  {'transaction-id': 4416, 'amount': 1026},\n",
       "  {'transaction-id': 4576, 'amount': 839},\n",
       "  {'transaction-id': 4793, 'amount': 1493},\n",
       "  {'transaction-id': 4896, 'amount': 1075},\n",
       "  {'transaction-id': 4937, 'amount': 863},\n",
       "  {'transaction-id': 4984, 'amount': 445},\n",
       "  {'transaction-id': 5141, 'amount': 1260},\n",
       "  {'transaction-id': 5308, 'amount': 880},\n",
       "  {'transaction-id': 5327, 'amount': 991},\n",
       "  {'transaction-id': 5340, 'amount': 1693},\n",
       "  {'transaction-id': 5932, 'amount': 791},\n",
       "  {'transaction-id': 6015, 'amount': 898},\n",
       "  {'transaction-id': 6225, 'amount': 883},\n",
       "  {'transaction-id': 6305, 'amount': 768},\n",
       "  {'transaction-id': 6310, 'amount': 1026},\n",
       "  {'transaction-id': 6570, 'amount': 807},\n",
       "  {'transaction-id': 6601, 'amount': 938},\n",
       "  {'transaction-id': 6737, 'amount': 1218},\n",
       "  {'transaction-id': 6890, 'amount': 965},\n",
       "  {'transaction-id': 6917, 'amount': 867},\n",
       "  {'transaction-id': 7188, 'amount': 829},\n",
       "  {'transaction-id': 7349, 'amount': 1160},\n",
       "  {'transaction-id': 7740, 'amount': 518},\n",
       "  {'transaction-id': 7823, 'amount': 933},\n",
       "  {'transaction-id': 7916, 'amount': 664},\n",
       "  {'transaction-id': 8013, 'amount': 1199},\n",
       "  {'transaction-id': 8018, 'amount': 942},\n",
       "  {'transaction-id': 8117, 'amount': 806},\n",
       "  {'transaction-id': 8594, 'amount': 1644},\n",
       "  {'transaction-id': 9022, 'amount': 676},\n",
       "  {'transaction-id': 9065, 'amount': 962},\n",
       "  {'transaction-id': 9094, 'amount': 1235},\n",
       "  {'transaction-id': 9277, 'amount': 1292},\n",
       "  {'transaction-id': 9312, 'amount': 1026},\n",
       "  {'transaction-id': 9365, 'amount': 724},\n",
       "  {'transaction-id': 9376, 'amount': 835},\n",
       "  {'transaction-id': 9467, 'amount': 744},\n",
       "  {'transaction-id': 9581, 'amount': 572},\n",
       "  {'transaction-id': 9624, 'amount': 1506},\n",
       "  {'transaction-id': 9838, 'amount': 1040},\n",
       "  {'transaction-id': 9860, 'amount': 1503}],\n",
       " [{'transaction-id': 30, 'amount': 34},\n",
       "  {'transaction-id': 126, 'amount': -96},\n",
       "  {'transaction-id': 697, 'amount': -62},\n",
       "  {'transaction-id': 1001, 'amount': -90},\n",
       "  {'transaction-id': 1549, 'amount': -130},\n",
       "  {'transaction-id': 1674, 'amount': -40},\n",
       "  {'transaction-id': 1964, 'amount': -136},\n",
       "  {'transaction-id': 2726, 'amount': -53},\n",
       "  {'transaction-id': 3298, 'amount': -31},\n",
       "  {'transaction-id': 3570, 'amount': -48},\n",
       "  {'transaction-id': 3890, 'amount': -109},\n",
       "  {'transaction-id': 3999, 'amount': -144},\n",
       "  {'transaction-id': 4127, 'amount': -59},\n",
       "  {'transaction-id': 5157, 'amount': -187},\n",
       "  {'transaction-id': 5605, 'amount': -48},\n",
       "  {'transaction-id': 5861, 'amount': -102},\n",
       "  {'transaction-id': 5916, 'amount': -93},\n",
       "  {'transaction-id': 6142, 'amount': -177},\n",
       "  {'transaction-id': 6539, 'amount': -57},\n",
       "  {'transaction-id': 8828, 'amount': -172},\n",
       "  {'transaction-id': 8979, 'amount': -108},\n",
       "  {'transaction-id': 9263, 'amount': -87},\n",
       "  {'transaction-id': 9540, 'amount': -58},\n",
       "  {'transaction-id': 9932, 'amount': -128}],\n",
       " [{'transaction-id': 211, 'amount': -68},\n",
       "  {'transaction-id': 265, 'amount': -23},\n",
       "  {'transaction-id': 298, 'amount': -68},\n",
       "  {'transaction-id': 361, 'amount': -50},\n",
       "  {'transaction-id': 431, 'amount': -58},\n",
       "  {'transaction-id': 475, 'amount': -83},\n",
       "  {'transaction-id': 514, 'amount': -55},\n",
       "  {'transaction-id': 531, 'amount': -79},\n",
       "  {'transaction-id': 536, 'amount': -17},\n",
       "  {'transaction-id': 673, 'amount': -34},\n",
       "  {'transaction-id': 690, 'amount': -61},\n",
       "  {'transaction-id': 748, 'amount': -26},\n",
       "  {'transaction-id': 863, 'amount': -49},\n",
       "  {'transaction-id': 1162, 'amount': -59},\n",
       "  {'transaction-id': 1286, 'amount': -46},\n",
       "  {'transaction-id': 1355, 'amount': -46},\n",
       "  {'transaction-id': 1567, 'amount': -39},\n",
       "  {'transaction-id': 1585, 'amount': -81},\n",
       "  {'transaction-id': 1623, 'amount': -54},\n",
       "  {'transaction-id': 1876, 'amount': -72},\n",
       "  {'transaction-id': 2202, 'amount': -43},\n",
       "  {'transaction-id': 2371, 'amount': -53},\n",
       "  {'transaction-id': 2672, 'amount': -65},\n",
       "  {'transaction-id': 2693, 'amount': -61},\n",
       "  {'transaction-id': 2778, 'amount': -34},\n",
       "  {'transaction-id': 2830, 'amount': -82},\n",
       "  {'transaction-id': 2838, 'amount': -60},\n",
       "  {'transaction-id': 2930, 'amount': -36},\n",
       "  {'transaction-id': 2932, 'amount': -28},\n",
       "  {'transaction-id': 3014, 'amount': -79},\n",
       "  {'transaction-id': 3073, 'amount': -70},\n",
       "  {'transaction-id': 3136, 'amount': -71},\n",
       "  {'transaction-id': 3220, 'amount': -15},\n",
       "  {'transaction-id': 3235, 'amount': -65},\n",
       "  {'transaction-id': 3307, 'amount': -62},\n",
       "  {'transaction-id': 3467, 'amount': -46},\n",
       "  {'transaction-id': 3528, 'amount': -57},\n",
       "  {'transaction-id': 3546, 'amount': -44},\n",
       "  {'transaction-id': 3611, 'amount': -87},\n",
       "  {'transaction-id': 3619, 'amount': -84},\n",
       "  {'transaction-id': 3667, 'amount': -84},\n",
       "  {'transaction-id': 3697, 'amount': -39},\n",
       "  {'transaction-id': 3804, 'amount': -81},\n",
       "  {'transaction-id': 3861, 'amount': -74},\n",
       "  {'transaction-id': 3970, 'amount': -48},\n",
       "  {'transaction-id': 4004, 'amount': -76},\n",
       "  {'transaction-id': 4138, 'amount': -73},\n",
       "  {'transaction-id': 4215, 'amount': -76},\n",
       "  {'transaction-id': 4332, 'amount': -41},\n",
       "  {'transaction-id': 4353, 'amount': -89},\n",
       "  {'transaction-id': 4375, 'amount': -76},\n",
       "  {'transaction-id': 4670, 'amount': -34},\n",
       "  {'transaction-id': 4771, 'amount': -50},\n",
       "  {'transaction-id': 4813, 'amount': -40},\n",
       "  {'transaction-id': 4976, 'amount': -48},\n",
       "  {'transaction-id': 5039, 'amount': -54},\n",
       "  {'transaction-id': 5191, 'amount': -96},\n",
       "  {'transaction-id': 5212, 'amount': -60},\n",
       "  {'transaction-id': 5322, 'amount': -28},\n",
       "  {'transaction-id': 5333, 'amount': -31},\n",
       "  {'transaction-id': 5406, 'amount': -46},\n",
       "  {'transaction-id': 5467, 'amount': -35},\n",
       "  {'transaction-id': 5564, 'amount': -95},\n",
       "  {'transaction-id': 5646, 'amount': -72},\n",
       "  {'transaction-id': 5717, 'amount': -68},\n",
       "  {'transaction-id': 5975, 'amount': -73},\n",
       "  {'transaction-id': 6016, 'amount': -48},\n",
       "  {'transaction-id': 6082, 'amount': -96},\n",
       "  {'transaction-id': 6364, 'amount': -55},\n",
       "  {'transaction-id': 6375, 'amount': -94},\n",
       "  {'transaction-id': 6445, 'amount': -62},\n",
       "  {'transaction-id': 6715, 'amount': -68},\n",
       "  {'transaction-id': 6740, 'amount': -60},\n",
       "  {'transaction-id': 6783, 'amount': -82},\n",
       "  {'transaction-id': 6954, 'amount': -78},\n",
       "  {'transaction-id': 6964, 'amount': -51},\n",
       "  {'transaction-id': 6974, 'amount': -68},\n",
       "  {'transaction-id': 7157, 'amount': -48},\n",
       "  {'transaction-id': 7241, 'amount': -110},\n",
       "  {'transaction-id': 7339, 'amount': -36},\n",
       "  {'transaction-id': 7383, 'amount': -89},\n",
       "  {'transaction-id': 7403, 'amount': -58},\n",
       "  {'transaction-id': 7437, 'amount': -53},\n",
       "  {'transaction-id': 7552, 'amount': -38},\n",
       "  {'transaction-id': 7661, 'amount': -58},\n",
       "  {'transaction-id': 7871, 'amount': -89},\n",
       "  {'transaction-id': 7919, 'amount': -58},\n",
       "  {'transaction-id': 7936, 'amount': -24},\n",
       "  {'transaction-id': 7967, 'amount': -80},\n",
       "  {'transaction-id': 8007, 'amount': -71},\n",
       "  {'transaction-id': 8189, 'amount': -66},\n",
       "  {'transaction-id': 8294, 'amount': -44},\n",
       "  {'transaction-id': 8364, 'amount': -79},\n",
       "  {'transaction-id': 8380, 'amount': -33},\n",
       "  {'transaction-id': 8397, 'amount': -49},\n",
       "  {'transaction-id': 8495, 'amount': -41},\n",
       "  {'transaction-id': 8636, 'amount': -32},\n",
       "  {'transaction-id': 8647, 'amount': -54},\n",
       "  {'transaction-id': 8667, 'amount': -69},\n",
       "  {'transaction-id': 8728, 'amount': -53},\n",
       "  {'transaction-id': 9227, 'amount': -98},\n",
       "  {'transaction-id': 9292, 'amount': -61},\n",
       "  {'transaction-id': 9318, 'amount': -51},\n",
       "  {'transaction-id': 9361, 'amount': -34},\n",
       "  {'transaction-id': 9406, 'amount': -62},\n",
       "  {'transaction-id': 9562, 'amount': -71},\n",
       "  {'transaction-id': 9576, 'amount': -34},\n",
       "  {'transaction-id': 9965, 'amount': -40}])"
      ]
     },
     "execution_count": 1,
     "metadata": {},
     "output_type": "execute_result"
    }
   ],
   "source": [
    "js.filter(lambda record: record['name'] == 'Alice').pluck('transactions').take(3)"
   ]
  },
  {
   "cell_type": "code",
   "execution_count": 16,
   "metadata": {
    "execution": {
     "iopub.execute_input": "2020-11-17T15:01:09.488101Z",
     "iopub.status.busy": "2020-11-17T15:01:09.487677Z",
     "iopub.status.idle": "2020-11-17T15:01:09.506109Z",
     "shell.execute_reply": "2020-11-17T15:01:09.506886Z"
    }
   },
   "outputs": [
    {
     "data": {
      "text/plain": [
       "({'transaction-id': 225, 'amount': 1098},\n",
       " {'transaction-id': 344, 'amount': 1414},\n",
       " {'transaction-id': 811, 'amount': 1125})"
      ]
     },
     "execution_count": 1,
     "metadata": {},
     "output_type": "execute_result"
    }
   ],
   "source": [
    "(js.filter(lambda record: record['name'] == 'Alice')\n",
    "   .pluck('transactions')\n",
    "   .flatten()\n",
    "   .take(3))"
   ]
  },
  {
   "cell_type": "code",
   "execution_count": 17,
   "metadata": {
    "execution": {
     "iopub.execute_input": "2020-11-17T15:01:09.511367Z",
     "iopub.status.busy": "2020-11-17T15:01:09.510906Z",
     "iopub.status.idle": "2020-11-17T15:01:09.527285Z",
     "shell.execute_reply": "2020-11-17T15:01:09.526866Z"
    }
   },
   "outputs": [
    {
     "data": {
      "text/plain": [
       "(1098, 1414, 1125)"
      ]
     },
     "execution_count": 1,
     "metadata": {},
     "output_type": "execute_result"
    }
   ],
   "source": [
    "(js.filter(lambda record: record['name'] == 'Alice')\n",
    "   .pluck('transactions')\n",
    "   .flatten()\n",
    "   .pluck('amount')\n",
    "   .take(3))"
   ]
  },
  {
   "cell_type": "code",
   "execution_count": 18,
   "metadata": {
    "execution": {
     "iopub.execute_input": "2020-11-17T15:01:09.546228Z",
     "iopub.status.busy": "2020-11-17T15:01:09.540741Z",
     "iopub.status.idle": "2020-11-17T15:01:09.927562Z",
     "shell.execute_reply": "2020-11-17T15:01:09.926883Z"
    }
   },
   "outputs": [
    {
     "data": {
      "text/plain": [
       "704.2125806782092"
      ]
     },
     "execution_count": 1,
     "metadata": {},
     "output_type": "execute_result"
    }
   ],
   "source": [
    "(js.filter(lambda record: record['name'] == 'Alice')\n",
    "   .pluck('transactions')\n",
    "   .flatten()\n",
    "   .pluck('amount')\n",
    "   .mean()\n",
    "   .compute())"
   ]
  },
  {
   "cell_type": "markdown",
   "metadata": {},
   "source": [
    "### Groupby and Foldby"
   ]
  },
  {
   "cell_type": "markdown",
   "metadata": {},
   "source": [
    "Often we want to group data by some function or key.  We can do this either with the `.groupby` method, which is straightforward but forces a full shuffle of the data (expensive) or with the harder-to-use but faster `.foldby` method, which does a streaming combined groupby and reduction.\n",
    "\n",
    "*  `groupby`:  Shuffles data so that all items with the same key are in the same key-value pair\n",
    "*  `foldby`:  Walks through the data accumulating a result per key\n",
    "\n",
    "*Note: the full groupby is particularly bad. In actual workloads you would do well to use `foldby` or switch to `DataFrame`s if possible.*"
   ]
  },
  {
   "cell_type": "markdown",
   "metadata": {},
   "source": [
    "### `groupby`"
   ]
  },
  {
   "cell_type": "markdown",
   "metadata": {},
   "source": [
    "Groupby collects items in your collection so that all items with the same value under some function are collected together into a key-value pair."
   ]
  },
  {
   "cell_type": "code",
   "execution_count": 19,
   "metadata": {
    "execution": {
     "iopub.execute_input": "2020-11-17T15:01:09.935626Z",
     "iopub.status.busy": "2020-11-17T15:01:09.931548Z",
     "iopub.status.idle": "2020-11-17T15:01:10.013070Z",
     "shell.execute_reply": "2020-11-17T15:01:10.013525Z"
    }
   },
   "outputs": [
    {
     "data": {
      "text/plain": [
       "[(7, ['Charlie']), (3, ['Bob', 'Dan']), (5, ['Alice', 'Edith', 'Frank'])]"
      ]
     },
     "execution_count": 1,
     "metadata": {},
     "output_type": "execute_result"
    }
   ],
   "source": [
    "b = db.from_sequence(['Alice', 'Bob', 'Charlie', 'Dan', 'Edith', 'Frank'])\n",
    "b.groupby(len).compute()  # names grouped by length"
   ]
  },
  {
   "cell_type": "code",
   "execution_count": 20,
   "metadata": {
    "execution": {
     "iopub.execute_input": "2020-11-17T15:01:10.035293Z",
     "iopub.status.busy": "2020-11-17T15:01:10.028369Z",
     "iopub.status.idle": "2020-11-17T15:01:10.144452Z",
     "shell.execute_reply": "2020-11-17T15:01:10.144893Z"
    }
   },
   "outputs": [
    {
     "data": {
      "text/plain": [
       "[(0, [0, 2, 4, 6, 8]), (1, [1, 3, 5, 7, 9])]"
      ]
     },
     "execution_count": 1,
     "metadata": {},
     "output_type": "execute_result"
    }
   ],
   "source": [
    "b = db.from_sequence(list(range(10)))\n",
    "b.groupby(lambda x: x % 2).compute()"
   ]
  },
  {
   "cell_type": "code",
   "execution_count": 21,
   "metadata": {
    "execution": {
     "iopub.execute_input": "2020-11-17T15:01:10.157294Z",
     "iopub.status.busy": "2020-11-17T15:01:10.154530Z",
     "iopub.status.idle": "2020-11-17T15:01:10.306316Z",
     "shell.execute_reply": "2020-11-17T15:01:10.306892Z"
    }
   },
   "outputs": [
    {
     "data": {
      "text/plain": [
       "[(0, 8), (1, 9)]"
      ]
     },
     "execution_count": 1,
     "metadata": {},
     "output_type": "execute_result"
    }
   ],
   "source": [
    "b.groupby(lambda x: x % 2).starmap(lambda k, v: (k, max(v))).compute()"
   ]
  },
  {
   "cell_type": "markdown",
   "metadata": {},
   "source": [
    "### `foldby`"
   ]
  },
  {
   "cell_type": "markdown",
   "metadata": {},
   "source": [
    "Foldby can be quite odd at first.  It is similar to the following functions from other libraries:\n",
    "\n",
    "*  [`toolz.reduceby`](http://toolz.readthedocs.io/en/latest/streaming-analytics.html#streaming-split-apply-combine)\n",
    "*  [`pyspark.RDD.combineByKey`](http://abshinn.github.io/python/apache-spark/2014/10/11/using-combinebykey-in-apache-spark/)\n",
    "\n",
    "When using `foldby` you provide \n",
    "\n",
    "1.  A key function on which to group elements\n",
    "2.  A binary operator such as you would pass to `reduce` that you use to perform reduction per each group\n",
    "3.  A combine binary operator that can combine the results of two `reduce` calls on different parts of your dataset.\n",
    "\n",
    "Your reduction must be associative.  It will happen in parallel in each of the partitions of your dataset.  Then all of these intermediate results will be combined by the `combine` binary operator."
   ]
  },
  {
   "cell_type": "code",
   "execution_count": 22,
   "metadata": {
    "execution": {
     "iopub.execute_input": "2020-11-17T15:01:10.310951Z",
     "iopub.status.busy": "2020-11-17T15:01:10.310420Z",
     "iopub.status.idle": "2020-11-17T15:01:10.357332Z",
     "shell.execute_reply": "2020-11-17T15:01:10.356603Z"
    }
   },
   "outputs": [
    {
     "data": {
      "text/plain": [
       "[(0, 8), (1, 9)]"
      ]
     },
     "execution_count": 1,
     "metadata": {},
     "output_type": "execute_result"
    }
   ],
   "source": [
    "is_even = lambda x: x % 2\n",
    "b.foldby(is_even, binop=max, combine=max).compute()"
   ]
  },
  {
   "cell_type": "markdown",
   "metadata": {},
   "source": [
    "### Example with account data"
   ]
  },
  {
   "cell_type": "markdown",
   "metadata": {},
   "source": [
    "We find the number of people with the same name."
   ]
  },
  {
   "cell_type": "code",
   "execution_count": 23,
   "metadata": {
    "execution": {
     "iopub.execute_input": "2020-11-17T15:01:10.370109Z",
     "iopub.status.busy": "2020-11-17T15:01:10.369241Z",
     "iopub.status.idle": "2020-11-17T15:01:15.975888Z",
     "shell.execute_reply": "2020-11-17T15:01:15.974533Z"
    }
   },
   "outputs": [
    {
     "name": "stdout",
     "output_type": "stream",
     "text": [
      "[('Alice', 110), ('Alice', 110), ('Alice', 120), ('Alice', 160), ('Bob', 142), ('Bob', 143), ('Bob', 154), ('Bob', 206), ('Charlie', 148), ('Charlie', 149), ('Charlie', 162), ('Charlie', 216), ('Dan', 127), ('Dan', 129), ('Dan', 139), ('Dan', 186), ('Edith', 78), ('Edith', 80), ('Edith', 85), ('Edith', 113), ('Frank', 121), ('Frank', 121), ('Frank', 132), ('Frank', 176), ('George', 128), ('George', 128), ('George', 140), ('George', 185), ('Hannah', 88), ('Hannah', 88), ('Hannah', 96), ('Hannah', 128), ('Ingrid', 99), ('Ingrid', 99), ('Ingrid', 108), ('Ingrid', 144), ('Jerry', 140), ('Jerry', 141), ('Jerry', 147), ('Jerry', 204), ('Kevin', 109), ('Kevin', 110), ('Kevin', 120), ('Kevin', 159), ('Laura', 66), ('Laura', 66), ('Laura', 72), ('Laura', 96), ('Michael', 55), ('Michael', 55), ('Michael', 60), ('Michael', 80), ('Norbert', 99), ('Norbert', 99), ('Norbert', 108), ('Norbert', 144), ('Oliver', 88), ('Oliver', 88), ('Oliver', 96), ('Oliver', 128), ('Patricia', 66), ('Patricia', 72), ('Patricia', 162), ('Quinn', 88), ('Quinn', 88), ('Quinn', 96), ('Quinn', 128), ('Ray', 91), ('Ray', 97), ('Ray', 224), ('Sarah', 88), ('Sarah', 88), ('Sarah', 96), ('Sarah', 128), ('Tim', 148), ('Tim', 152), ('Tim', 166), ('Tim', 222), ('Ursula', 129), ('Ursula', 129), ('Ursula', 142), ('Ursula', 186), ('Victor', 99), ('Victor', 99), ('Victor', 108), ('Victor', 144), ('Wendy', 97), ('Wendy', 98), ('Wendy', 104), ('Wendy', 141), ('Xavier', 110), ('Xavier', 110), ('Xavier', 120), ('Xavier', 160), ('Yvonne', 77), ('Yvonne', 77), ('Yvonne', 84), ('Yvonne', 112), ('Zelda', 107), ('Zelda', 108), ('Zelda', 120), ('Zelda', 160)]\n",
      "CPU times: user 1.12 s, sys: 76 ms, total: 1.2 s\n",
      "Wall time: 5.61 s\n"
     ]
    }
   ],
   "source": [
    "%%time\n",
    "# Warning, this one takes a while...\n",
    "result = js.groupby(lambda item: item['name']).starmap(lambda k, v: (k, len(v))).compute()\n",
    "print(sorted(result))"
   ]
  },
  {
   "cell_type": "code",
   "execution_count": 24,
   "metadata": {
    "execution": {
     "iopub.execute_input": "2020-11-17T15:01:15.986614Z",
     "iopub.status.busy": "2020-11-17T15:01:15.986117Z",
     "iopub.status.idle": "2020-11-17T15:01:16.447918Z",
     "shell.execute_reply": "2020-11-17T15:01:16.447420Z"
    }
   },
   "outputs": [
    {
     "name": "stdout",
     "output_type": "stream",
     "text": [
      "[('Alice', 500), ('Bob', 645), ('Charlie', 675), ('Dan', 581), ('Edith', 356), ('Frank', 550), ('George', 581), ('Hannah', 400), ('Ingrid', 450), ('Jerry', 632), ('Kevin', 498), ('Laura', 300), ('Michael', 250), ('Norbert', 450), ('Oliver', 400), ('Patricia', 300), ('Quinn', 400), ('Ray', 412), ('Sarah', 400), ('Tim', 688), ('Ursula', 586), ('Victor', 450), ('Wendy', 440), ('Xavier', 500), ('Yvonne', 350), ('Zelda', 495)]\n",
      "CPU times: user 131 ms, sys: 7.24 ms, total: 138 ms\n",
      "Wall time: 464 ms\n"
     ]
    }
   ],
   "source": [
    "%%time\n",
    "# This one is comparatively fast and produces the same result.\n",
    "from operator import add\n",
    "def incr(tot, _):\n",
    "    return tot+1\n",
    "\n",
    "result = js.foldby(key='name', \n",
    "                   binop=incr, \n",
    "                   initial=0, \n",
    "                   combine=add, \n",
    "                   combine_initial=0).compute()\n",
    "print(sorted(result))"
   ]
  },
  {
   "cell_type": "markdown",
   "metadata": {},
   "source": [
    "### Exercise: compute total amount per name"
   ]
  },
  {
   "cell_type": "markdown",
   "metadata": {},
   "source": [
    "We want to groupby (or foldby) the `name` key, then add up the all of the amounts for each name.\n",
    "\n",
    "Steps\n",
    "\n",
    "1.  Create a small function that, given a dictionary like \n",
    "\n",
    "        {'name': 'Alice', 'transactions': [{'amount': 1, 'id': 123}, {'amount': 2, 'id': 456}]}\n",
    "        \n",
    "    produces the sum of the amounts, e.g. `3`\n",
    "    \n",
    "2.  Slightly change the binary operator of the `foldby` example above so that the binary operator doesn't count the number of entries, but instead accumulates the sum of the amounts."
   ]
  },
  {
   "cell_type": "code",
   "execution_count": 25,
   "metadata": {
    "execution": {
     "iopub.execute_input": "2020-11-17T15:01:16.451500Z",
     "iopub.status.busy": "2020-11-17T15:01:16.451079Z",
     "iopub.status.idle": "2020-11-17T15:01:16.454205Z",
     "shell.execute_reply": "2020-11-17T15:01:16.453811Z"
    }
   },
   "outputs": [],
   "source": [
    "# Your code here..."
   ]
  },
  {
   "cell_type": "markdown",
   "metadata": {},
   "source": [
    "## DataFrames"
   ]
  },
  {
   "cell_type": "markdown",
   "metadata": {},
   "source": [
    "For the same reasons that Pandas is often faster than pure Python, `dask.dataframe` can be faster than `dask.bag`.  We will work more with DataFrames later, but from for the bag point of view, they are frequently the end-point of the \"messy\" part of data ingestion—once the data can be made into a data-frame, then complex split-apply-combine logic will become much more straight-forward and efficient.\n",
    "\n",
    "You can transform a bag with a simple tuple or flat dictionary structure into a `dask.dataframe` with the `to_dataframe` method."
   ]
  },
  {
   "cell_type": "code",
   "execution_count": 26,
   "metadata": {
    "execution": {
     "iopub.execute_input": "2020-11-17T15:01:16.457484Z",
     "iopub.status.busy": "2020-11-17T15:01:16.457064Z",
     "iopub.status.idle": "2020-11-17T15:01:17.064537Z",
     "shell.execute_reply": "2020-11-17T15:01:17.064115Z"
    }
   },
   "outputs": [
    {
     "data": {
      "text/html": [
       "<div>\n",
       "<style scoped>\n",
       "    .dataframe tbody tr th:only-of-type {\n",
       "        vertical-align: middle;\n",
       "    }\n",
       "\n",
       "    .dataframe tbody tr th {\n",
       "        vertical-align: top;\n",
       "    }\n",
       "\n",
       "    .dataframe thead th {\n",
       "        text-align: right;\n",
       "    }\n",
       "</style>\n",
       "<table border=\"1\" class=\"dataframe\">\n",
       "  <thead>\n",
       "    <tr style=\"text-align: right;\">\n",
       "      <th></th>\n",
       "      <th>id</th>\n",
       "      <th>name</th>\n",
       "      <th>transactions</th>\n",
       "    </tr>\n",
       "  </thead>\n",
       "  <tbody>\n",
       "    <tr>\n",
       "      <th>0</th>\n",
       "      <td>0</td>\n",
       "      <td>Jerry</td>\n",
       "      <td>[{'transaction-id': 3505, 'amount': 602}, {'tr...</td>\n",
       "    </tr>\n",
       "    <tr>\n",
       "      <th>1</th>\n",
       "      <td>1</td>\n",
       "      <td>Tim</td>\n",
       "      <td>[{'transaction-id': 830, 'amount': -4332}, {'t...</td>\n",
       "    </tr>\n",
       "    <tr>\n",
       "      <th>2</th>\n",
       "      <td>2</td>\n",
       "      <td>Jerry</td>\n",
       "      <td>[{'transaction-id': 1879, 'amount': 244}, {'tr...</td>\n",
       "    </tr>\n",
       "    <tr>\n",
       "      <th>3</th>\n",
       "      <td>3</td>\n",
       "      <td>Kevin</td>\n",
       "      <td>[{'transaction-id': 28, 'amount': 119}, {'tran...</td>\n",
       "    </tr>\n",
       "    <tr>\n",
       "      <th>4</th>\n",
       "      <td>4</td>\n",
       "      <td>Edith</td>\n",
       "      <td>[{'transaction-id': 20, 'amount': 177}, {'tran...</td>\n",
       "    </tr>\n",
       "  </tbody>\n",
       "</table>\n",
       "</div>"
      ],
      "text/plain": [
       "   id   name                                       transactions\n",
       "0   0  Jerry  [{'transaction-id': 3505, 'amount': 602}, {'tr...\n",
       "1   1    Tim  [{'transaction-id': 830, 'amount': -4332}, {'t...\n",
       "2   2  Jerry  [{'transaction-id': 1879, 'amount': 244}, {'tr...\n",
       "3   3  Kevin  [{'transaction-id': 28, 'amount': 119}, {'tran...\n",
       "4   4  Edith  [{'transaction-id': 20, 'amount': 177}, {'tran..."
      ]
     },
     "execution_count": 1,
     "metadata": {},
     "output_type": "execute_result"
    }
   ],
   "source": [
    "df1 = js.to_dataframe()\n",
    "df1.head()"
   ]
  },
  {
   "cell_type": "markdown",
   "metadata": {},
   "source": [
    "This now looks like a well-defined DataFrame, and we can apply Pandas-like computations to it efficiently."
   ]
  },
  {
   "cell_type": "markdown",
   "metadata": {},
   "source": [
    "Using a Dask DataFrame, how long does it take to do our prior computation of numbers of people with the same name?  It turns out that `dask.dataframe.groupby()` beats `dask.bag.groupby()` more than an order of magnitude; but it still cannot match `dask.bag.foldby()` for this case."
   ]
  },
  {
   "cell_type": "code",
   "execution_count": 27,
   "metadata": {
    "execution": {
     "iopub.execute_input": "2020-11-17T15:01:17.087776Z",
     "iopub.status.busy": "2020-11-17T15:01:17.082008Z",
     "iopub.status.idle": "2020-11-17T15:01:18.375979Z",
     "shell.execute_reply": "2020-11-17T15:01:18.376871Z"
    }
   },
   "outputs": [
    {
     "name": "stdout",
     "output_type": "stream",
     "text": [
      "CPU times: user 154 ms, sys: 10.5 ms, total: 164 ms\n",
      "Wall time: 1.3 s\n"
     ]
    },
    {
     "data": {
      "text/plain": [
       "name\n",
       "Alice      500\n",
       "Bob        645\n",
       "Charlie    675\n",
       "Dan        581\n",
       "Edith      356\n",
       "Name: id, dtype: int64"
      ]
     },
     "execution_count": 1,
     "metadata": {},
     "output_type": "execute_result"
    }
   ],
   "source": [
    "%time df1.groupby('name').id.count().compute().head()"
   ]
  },
  {
   "cell_type": "markdown",
   "metadata": {},
   "source": [
    "### Denormalization"
   ]
  },
  {
   "cell_type": "markdown",
   "metadata": {},
   "source": [
    "This DataFrame format is less-than-optimal because the `transactions` column is filled with nested data so Pandas has to revert to `object` dtype, which is quite slow in Pandas.  Ideally we want to transform to a dataframe only after we have flattened our data so that each record is a single `int`, `string`, `float`, etc.."
   ]
  },
  {
   "cell_type": "code",
   "execution_count": 28,
   "metadata": {
    "execution": {
     "iopub.execute_input": "2020-11-17T15:01:18.383206Z",
     "iopub.status.busy": "2020-11-17T15:01:18.382466Z",
     "iopub.status.idle": "2020-11-17T15:01:18.399934Z",
     "shell.execute_reply": "2020-11-17T15:01:18.400368Z"
    }
   },
   "outputs": [
    {
     "data": {
      "text/plain": [
       "({'id': 0, 'name': 'Jerry', 'amount': 602, 'transaction-id': 3505},\n",
       " {'id': 0, 'name': 'Jerry', 'amount': 619, 'transaction-id': 7941},\n",
       " {'id': 1, 'name': 'Tim', 'amount': -4332, 'transaction-id': 830})"
      ]
     },
     "execution_count": 1,
     "metadata": {},
     "output_type": "execute_result"
    }
   ],
   "source": [
    "def denormalize(record):\n",
    "    # returns a list for every nested item, each transaction of each person\n",
    "    return [{'id': record['id'], \n",
    "             'name': record['name'], \n",
    "             'amount': transaction['amount'], \n",
    "             'transaction-id': transaction['transaction-id']}\n",
    "            for transaction in record['transactions']]\n",
    "\n",
    "transactions = js.map(denormalize).flatten()\n",
    "transactions.take(3)"
   ]
  },
  {
   "cell_type": "code",
   "execution_count": 29,
   "metadata": {
    "execution": {
     "iopub.execute_input": "2020-11-17T15:01:18.403784Z",
     "iopub.status.busy": "2020-11-17T15:01:18.402137Z",
     "iopub.status.idle": "2020-11-17T15:01:18.488280Z",
     "shell.execute_reply": "2020-11-17T15:01:18.488666Z"
    }
   },
   "outputs": [
    {
     "data": {
      "text/html": [
       "<div>\n",
       "<style scoped>\n",
       "    .dataframe tbody tr th:only-of-type {\n",
       "        vertical-align: middle;\n",
       "    }\n",
       "\n",
       "    .dataframe tbody tr th {\n",
       "        vertical-align: top;\n",
       "    }\n",
       "\n",
       "    .dataframe thead th {\n",
       "        text-align: right;\n",
       "    }\n",
       "</style>\n",
       "<table border=\"1\" class=\"dataframe\">\n",
       "  <thead>\n",
       "    <tr style=\"text-align: right;\">\n",
       "      <th></th>\n",
       "      <th>id</th>\n",
       "      <th>name</th>\n",
       "      <th>amount</th>\n",
       "      <th>transaction-id</th>\n",
       "    </tr>\n",
       "  </thead>\n",
       "  <tbody>\n",
       "    <tr>\n",
       "      <th>0</th>\n",
       "      <td>0</td>\n",
       "      <td>Jerry</td>\n",
       "      <td>602</td>\n",
       "      <td>3505</td>\n",
       "    </tr>\n",
       "    <tr>\n",
       "      <th>1</th>\n",
       "      <td>0</td>\n",
       "      <td>Jerry</td>\n",
       "      <td>619</td>\n",
       "      <td>7941</td>\n",
       "    </tr>\n",
       "    <tr>\n",
       "      <th>2</th>\n",
       "      <td>1</td>\n",
       "      <td>Tim</td>\n",
       "      <td>-4332</td>\n",
       "      <td>830</td>\n",
       "    </tr>\n",
       "    <tr>\n",
       "      <th>3</th>\n",
       "      <td>1</td>\n",
       "      <td>Tim</td>\n",
       "      <td>-3984</td>\n",
       "      <td>9561</td>\n",
       "    </tr>\n",
       "    <tr>\n",
       "      <th>4</th>\n",
       "      <td>2</td>\n",
       "      <td>Jerry</td>\n",
       "      <td>244</td>\n",
       "      <td>1879</td>\n",
       "    </tr>\n",
       "  </tbody>\n",
       "</table>\n",
       "</div>"
      ],
      "text/plain": [
       "   id   name  amount  transaction-id\n",
       "0   0  Jerry     602            3505\n",
       "1   0  Jerry     619            7941\n",
       "2   1    Tim   -4332             830\n",
       "3   1    Tim   -3984            9561\n",
       "4   2  Jerry     244            1879"
      ]
     },
     "execution_count": 1,
     "metadata": {},
     "output_type": "execute_result"
    }
   ],
   "source": [
    "df = transactions.to_dataframe()\n",
    "df.head()"
   ]
  },
  {
   "cell_type": "code",
   "execution_count": 30,
   "metadata": {
    "execution": {
     "iopub.execute_input": "2020-11-17T15:01:18.502119Z",
     "iopub.status.busy": "2020-11-17T15:01:18.496227Z",
     "iopub.status.idle": "2020-11-17T15:01:19.428749Z",
     "shell.execute_reply": "2020-11-17T15:01:19.428137Z"
    }
   },
   "outputs": [
    {
     "name": "stdout",
     "output_type": "stream",
     "text": [
      "CPU times: user 131 ms, sys: 18.9 ms, total: 150 ms\n",
      "Wall time: 926 ms\n"
     ]
    },
    {
     "data": {
      "text/plain": [
       "name\n",
       "Alice       29283\n",
       "Bob         20671\n",
       "Charlie     26858\n",
       "Dan         15131\n",
       "Edith       18925\n",
       "Frank       26072\n",
       "George      20297\n",
       "Hannah      13390\n",
       "Ingrid      18288\n",
       "Jerry       30451\n",
       "Kevin       19094\n",
       "Laura       12725\n",
       "Michael      7658\n",
       "Norbert     18388\n",
       "Oliver      26245\n",
       "Patricia     8941\n",
       "Quinn       11283\n",
       "Ray         15974\n",
       "Sarah       30529\n",
       "Tim         21279\n",
       "Ursula      21891\n",
       "Victor      23056\n",
       "Wendy       31335\n",
       "Xavier      10664\n",
       "Yvonne       7379\n",
       "Zelda       14193\n",
       "Name: transaction-id, dtype: int64"
      ]
     },
     "execution_count": 1,
     "metadata": {},
     "output_type": "execute_result"
    }
   ],
   "source": [
    "%%time\n",
    "# number of transactions per name\n",
    "# note that the time here includes the data load and ingestion\n",
    "df.groupby('name')['transaction-id'].count().compute()"
   ]
  },
  {
   "cell_type": "markdown",
   "metadata": {},
   "source": [
    "## Limitations"
   ]
  },
  {
   "cell_type": "markdown",
   "metadata": {},
   "source": [
    "Bags provide very general computation (any Python function.)  This generality\n",
    "comes at cost.  Bags have the following known limitations\n",
    "\n",
    "1.  Bag operations tend to be slower than array/dataframe computations in the\n",
    "    same way that Python tends to be slower than NumPy/Pandas\n",
    "2.  ``Bag.groupby`` is slow.  You should try to use ``Bag.foldby`` if possible.\n",
    "    Using ``Bag.foldby`` requires more thought. Even better, consider creating\n",
    "    a normalised dataframe."
   ]
  },
  {
   "cell_type": "markdown",
   "metadata": {},
   "source": [
    "## Learn More\n",
    "\n",
    "* [Bag documentation](https://docs.dask.org/en/latest/bag.html)\n",
    "* [Bag screencast](https://youtu.be/-qIiJ1XtSv0)\n",
    "* [Bag API](https://docs.dask.org/en/latest/bag-api.html)\n",
    "* [Bag examples](https://examples.dask.org/bag.html)"
   ]
  },
  {
   "cell_type": "markdown",
   "metadata": {},
   "source": [
    "## Shutdown"
   ]
  },
  {
   "cell_type": "code",
   "execution_count": 31,
   "metadata": {
    "execution": {
     "iopub.execute_input": "2020-11-17T15:01:19.432685Z",
     "iopub.status.busy": "2020-11-17T15:01:19.432269Z",
     "iopub.status.idle": "2020-11-17T15:01:20.820832Z",
     "shell.execute_reply": "2020-11-17T15:01:20.820399Z"
    }
   },
   "outputs": [],
   "source": [
    "client.shutdown()"
   ]
  }
 ],
 "metadata": {
  "anaconda-cloud": {},
  "kernelspec": {
   "display_name": "Python 3",
   "language": "python",
   "name": "python3"
  },
  "language_info": {
   "codemirror_mode": {
    "name": "ipython",
    "version": 3
   },
   "file_extension": ".py",
   "mimetype": "text/x-python",
   "name": "python",
   "nbconvert_exporter": "python",
   "pygments_lexer": "ipython3",
   "version": "3.8.6"
  }
 },
 "nbformat": 4,
 "nbformat_minor": 4
}
