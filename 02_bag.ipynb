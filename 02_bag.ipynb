{
 "cells": [
  {
   "cell_type": "markdown",
   "metadata": {},
   "source": [
    "<img src=\"images/dask_horizontal.svg\" align=\"right\" width=\"30%\">"
   ]
  },
  {
   "cell_type": "markdown",
   "metadata": {},
   "source": [
    "# Bag: Parallel Lists for semi-structured data"
   ]
  },
  {
   "cell_type": "markdown",
   "metadata": {},
   "source": [
    "Dask-bag excels in processing data that can be represented as a sequence of arbitrary inputs. We'll refer to this as \"messy\" data, because it can contain complex nested structures, missing fields, mixtures of data types, etc. The *functional* programming style fits very nicely with standard Python iteration, such as can be found in the `itertools` module.\n",
    "\n",
    "Messy data is often encountered at the beginning of data processing pipelines when large volumes of raw data are first consumed. The initial set of data might be JSON, CSV, XML, or any other format that does not enforce strict structure and datatypes.\n",
    "For this reason, the initial data massaging and processing is often done with Python `list`s, `dict`s, and `set`s.\n",
    "\n",
    "These core data structures are optimized for general-purpose storage and processing.  Adding streaming computation with iterators/generator expressions or libraries like `itertools` or [`toolz`](https://toolz.readthedocs.io/en/latest/) let us process large volumes in a small space.  If we combine this with parallel processing then we can churn through a fair amount of data.\n",
    "\n",
    "Dask.bag is a high level Dask collection to automate common workloads of this form.  In a nutshell\n",
    "\n",
    "    dask.bag = map, filter, toolz + parallel execution\n",
    "    \n",
    "**Related Documentation**\n",
    "\n",
    "* [Bag documentation](https://docs.dask.org/en/latest/bag.html)\n",
    "* [Bag screencast](https://youtu.be/-qIiJ1XtSv0)\n",
    "* [Bag API](https://docs.dask.org/en/latest/bag-api.html)\n",
    "* [Bag examples](https://examples.dask.org/bag.html)"
   ]
  },
  {
   "cell_type": "markdown",
   "metadata": {},
   "source": [
    "## Create data"
   ]
  },
  {
   "cell_type": "code",
   "execution_count": 1,
   "metadata": {},
   "outputs": [],
   "source": [
    "%run prep.py -d accounts"
   ]
  },
  {
   "cell_type": "markdown",
   "metadata": {},
   "source": [
    "## Setup"
   ]
  },
  {
   "cell_type": "markdown",
   "metadata": {},
   "source": [
    "Again, we'll use the distributed scheduler. Schedulers will be explained in depth [later](05_distributed.ipynb)."
   ]
  },
  {
   "cell_type": "code",
   "execution_count": 2,
   "metadata": {},
   "outputs": [],
   "source": [
    "from dask.distributed import Client\n",
    "\n",
    "client = Client(n_workers=4)"
   ]
  },
  {
   "cell_type": "markdown",
   "metadata": {},
   "source": [
    "## Creation"
   ]
  },
  {
   "cell_type": "markdown",
   "metadata": {},
   "source": [
    "You can create a `Bag` from a Python sequence, from files, from data on S3, etc.\n",
    "We demonstrate using `.take()` to show elements of the data. (Doing `.take(1)` results in a tuple with one element)\n",
    "\n",
    "Note that the data are partitioned into blocks, and there are many items per block. In the first example, the two partitions contain five elements each, and in the following two, each file is partitioned into one or more bytes blocks."
   ]
  },
  {
   "cell_type": "code",
   "execution_count": 3,
   "metadata": {},
   "outputs": [
    {
     "data": {
      "text/plain": [
       "(1, 2, 3)"
      ]
     },
     "execution_count": 3,
     "metadata": {},
     "output_type": "execute_result"
    }
   ],
   "source": [
    "# each element is an integer\n",
    "import dask.bag as db\n",
    "b = db.from_sequence([1, 2, 3, 4, 5, 6, 7, 8, 9, 10], npartitions=2)\n",
    "b.take(3)"
   ]
  },
  {
   "cell_type": "code",
   "execution_count": 4,
   "metadata": {},
   "outputs": [
    {
     "data": {
      "text/plain": [
       "('{\"id\": 0, \"name\": \"Jerry\", \"transactions\": [{\"transaction-id\": 304, \"amount\": -1254}, {\"transaction-id\": 832, \"amount\": -1459}, {\"transaction-id\": 1291, \"amount\": -686}, {\"transaction-id\": 1428, \"amount\": -836}, {\"transaction-id\": 1597, \"amount\": -860}, {\"transaction-id\": 1638, \"amount\": -1167}, {\"transaction-id\": 1968, \"amount\": -747}, {\"transaction-id\": 2686, \"amount\": -1166}, {\"transaction-id\": 3429, \"amount\": -1197}, {\"transaction-id\": 3769, \"amount\": -832}, {\"transaction-id\": 3874, \"amount\": -426}, {\"transaction-id\": 3932, \"amount\": -979}, {\"transaction-id\": 3976, \"amount\": -973}, {\"transaction-id\": 4119, \"amount\": -937}, {\"transaction-id\": 4162, \"amount\": -966}, {\"transaction-id\": 4468, \"amount\": -630}, {\"transaction-id\": 4594, \"amount\": -956}, {\"transaction-id\": 4651, \"amount\": -717}, {\"transaction-id\": 4675, \"amount\": -1010}, {\"transaction-id\": 4965, \"amount\": -967}, {\"transaction-id\": 5035, \"amount\": -568}, {\"transaction-id\": 5121, \"amount\": -854}, {\"transaction-id\": 5339, \"amount\": -1087}, {\"transaction-id\": 5363, \"amount\": -728}, {\"transaction-id\": 6125, \"amount\": -994}, {\"transaction-id\": 6191, \"amount\": -944}, {\"transaction-id\": 6337, \"amount\": -952}, {\"transaction-id\": 7157, \"amount\": -1262}, {\"transaction-id\": 7470, \"amount\": -804}, {\"transaction-id\": 8555, \"amount\": -651}, {\"transaction-id\": 8924, \"amount\": -688}, {\"transaction-id\": 9063, \"amount\": -896}, {\"transaction-id\": 9683, \"amount\": -911}, {\"transaction-id\": 9792, \"amount\": -761}, {\"transaction-id\": 9975, \"amount\": -969}]}\\n',)"
      ]
     },
     "execution_count": 4,
     "metadata": {},
     "output_type": "execute_result"
    }
   ],
   "source": [
    "# each element is a text file, where each line is a JSON object\n",
    "# note that the compression is handled automatically\n",
    "import os\n",
    "b = db.read_text(os.path.join('data', 'accounts.*.json.gz'))\n",
    "b.take(1)"
   ]
  },
  {
   "cell_type": "code",
   "execution_count": 5,
   "metadata": {},
   "outputs": [
    {
     "data": {
      "text/plain": [
       "'s3://dask-data/nyc-taxi/2015/yellow_tripdata_2015-01.csv'"
      ]
     },
     "execution_count": 5,
     "metadata": {},
     "output_type": "execute_result"
    }
   ],
   "source": [
    "# Edit sources.py to configure source locations\n",
    "import sources\n",
    "sources.bag_url"
   ]
  },
  {
   "cell_type": "code",
   "execution_count": 6,
   "metadata": {},
   "outputs": [
    {
     "data": {
      "text/plain": [
       "('VendorID,tpep_pickup_datetime,tpep_dropoff_datetime,passenger_count,trip_distance,pickup_longitude,pickup_latitude,RateCodeID,store_and_fwd_flag,dropoff_longitude,dropoff_latitude,payment_type,fare_amount,extra,mta_tax,tip_amount,tolls_amount,improvement_surcharge,total_amount\\n',)"
      ]
     },
     "execution_count": 6,
     "metadata": {},
     "output_type": "execute_result"
    }
   ],
   "source": [
    "# Requires `s3fs` library\n",
    "# each partition is a remote CSV text file\n",
    "b = db.read_text(sources.bag_url,\n",
    "                 storage_options={'anon': True})\n",
    "b.take(1)"
   ]
  },
  {
   "cell_type": "markdown",
   "metadata": {},
   "source": [
    "## Manipulation"
   ]
  },
  {
   "cell_type": "markdown",
   "metadata": {},
   "source": [
    "`Bag` objects hold the standard functional API found in projects like the Python standard library, `toolz`, or `pyspark`, including `map`, `filter`, `groupby`, etc..\n",
    "\n",
    "Operations on `Bag` objects create new bags.  Call the `.compute()` method to trigger execution, as we saw for `Delayed` objects.  "
   ]
  },
  {
   "cell_type": "code",
   "execution_count": 7,
   "metadata": {},
   "outputs": [
    {
     "data": {
      "text/plain": [
       "dask.bag<lambda, npartitions=10>"
      ]
     },
     "execution_count": 7,
     "metadata": {},
     "output_type": "execute_result"
    }
   ],
   "source": [
    "def is_even(n):\n",
    "    return n % 2 == 0\n",
    "\n",
    "b = db.from_sequence([1, 2, 3, 4, 5, 6, 7, 8, 9, 10])\n",
    "c = b.filter(is_even).map(lambda x: x ** 2)\n",
    "c"
   ]
  },
  {
   "cell_type": "code",
   "execution_count": 8,
   "metadata": {},
   "outputs": [
    {
     "data": {
      "text/plain": [
       "[4, 16, 36, 64, 100]"
      ]
     },
     "execution_count": 8,
     "metadata": {},
     "output_type": "execute_result"
    }
   ],
   "source": [
    "# blocking form: wait for completion (which is very fast in this case)\n",
    "c.compute()"
   ]
  },
  {
   "cell_type": "markdown",
   "metadata": {},
   "source": [
    "### Example: Accounts JSON data"
   ]
  },
  {
   "cell_type": "markdown",
   "metadata": {},
   "source": [
    "We've created a fake dataset of gzipped JSON data in your data directory.  This is like the example used in the `DataFrame` example we will see later, except that it has bundled up all of the entires for each individual `id` into a single record.  This is similar to data that you might collect off of a document store database or a web API.\n",
    "\n",
    "Each line is a JSON encoded dictionary with the following keys\n",
    "\n",
    "*  id: Unique identifier of the customer\n",
    "*  name: Name of the customer\n",
    "*  transactions: List of `transaction-id`, `amount` pairs, one for each transaction for the customer in that file"
   ]
  },
  {
   "cell_type": "code",
   "execution_count": 9,
   "metadata": {},
   "outputs": [
    {
     "data": {
      "text/plain": [
       "('{\"id\": 0, \"name\": \"Jerry\", \"transactions\": [{\"transaction-id\": 304, \"amount\": -1254}, {\"transaction-id\": 832, \"amount\": -1459}, {\"transaction-id\": 1291, \"amount\": -686}, {\"transaction-id\": 1428, \"amount\": -836}, {\"transaction-id\": 1597, \"amount\": -860}, {\"transaction-id\": 1638, \"amount\": -1167}, {\"transaction-id\": 1968, \"amount\": -747}, {\"transaction-id\": 2686, \"amount\": -1166}, {\"transaction-id\": 3429, \"amount\": -1197}, {\"transaction-id\": 3769, \"amount\": -832}, {\"transaction-id\": 3874, \"amount\": -426}, {\"transaction-id\": 3932, \"amount\": -979}, {\"transaction-id\": 3976, \"amount\": -973}, {\"transaction-id\": 4119, \"amount\": -937}, {\"transaction-id\": 4162, \"amount\": -966}, {\"transaction-id\": 4468, \"amount\": -630}, {\"transaction-id\": 4594, \"amount\": -956}, {\"transaction-id\": 4651, \"amount\": -717}, {\"transaction-id\": 4675, \"amount\": -1010}, {\"transaction-id\": 4965, \"amount\": -967}, {\"transaction-id\": 5035, \"amount\": -568}, {\"transaction-id\": 5121, \"amount\": -854}, {\"transaction-id\": 5339, \"amount\": -1087}, {\"transaction-id\": 5363, \"amount\": -728}, {\"transaction-id\": 6125, \"amount\": -994}, {\"transaction-id\": 6191, \"amount\": -944}, {\"transaction-id\": 6337, \"amount\": -952}, {\"transaction-id\": 7157, \"amount\": -1262}, {\"transaction-id\": 7470, \"amount\": -804}, {\"transaction-id\": 8555, \"amount\": -651}, {\"transaction-id\": 8924, \"amount\": -688}, {\"transaction-id\": 9063, \"amount\": -896}, {\"transaction-id\": 9683, \"amount\": -911}, {\"transaction-id\": 9792, \"amount\": -761}, {\"transaction-id\": 9975, \"amount\": -969}]}\\n',\n",
       " '{\"id\": 1, \"name\": \"Bob\", \"transactions\": [{\"transaction-id\": 131, \"amount\": 2}, {\"transaction-id\": 142, \"amount\": 2}, {\"transaction-id\": 431, \"amount\": 2}, {\"transaction-id\": 1139, \"amount\": 2}, {\"transaction-id\": 1565, \"amount\": 2}, {\"transaction-id\": 1591, \"amount\": 2}, {\"transaction-id\": 2170, \"amount\": 2}, {\"transaction-id\": 2179, \"amount\": 2}, {\"transaction-id\": 2455, \"amount\": 2}, {\"transaction-id\": 2560, \"amount\": 2}, {\"transaction-id\": 3310, \"amount\": 2}, {\"transaction-id\": 3503, \"amount\": 2}, {\"transaction-id\": 3642, \"amount\": 2}, {\"transaction-id\": 3987, \"amount\": 2}, {\"transaction-id\": 4191, \"amount\": 2}, {\"transaction-id\": 4298, \"amount\": 2}, {\"transaction-id\": 4392, \"amount\": 2}, {\"transaction-id\": 4775, \"amount\": 2}, {\"transaction-id\": 5795, \"amount\": 2}, {\"transaction-id\": 6184, \"amount\": 2}, {\"transaction-id\": 7211, \"amount\": 2}, {\"transaction-id\": 7873, \"amount\": 2}, {\"transaction-id\": 8158, \"amount\": 2}, {\"transaction-id\": 8681, \"amount\": 2}, {\"transaction-id\": 8865, \"amount\": 2}, {\"transaction-id\": 9562, \"amount\": 2}, {\"transaction-id\": 9932, \"amount\": 2}]}\\n',\n",
       " '{\"id\": 2, \"name\": \"George\", \"transactions\": [{\"transaction-id\": 86, \"amount\": 2593}, {\"transaction-id\": 987, \"amount\": 2466}, {\"transaction-id\": 1503, \"amount\": 2478}, {\"transaction-id\": 1520, \"amount\": 2512}, {\"transaction-id\": 3065, \"amount\": 2631}, {\"transaction-id\": 3223, \"amount\": 2506}, {\"transaction-id\": 4608, \"amount\": 2422}, {\"transaction-id\": 6603, \"amount\": 2727}, {\"transaction-id\": 6768, \"amount\": 2364}, {\"transaction-id\": 6903, \"amount\": 2361}, {\"transaction-id\": 6971, \"amount\": 2701}, {\"transaction-id\": 7136, \"amount\": 2529}, {\"transaction-id\": 8353, \"amount\": 2616}, {\"transaction-id\": 9667, \"amount\": 2804}]}\\n')"
      ]
     },
     "execution_count": 9,
     "metadata": {},
     "output_type": "execute_result"
    }
   ],
   "source": [
    "filename = os.path.join('data', 'accounts.*.json.gz')\n",
    "lines = db.read_text(filename)\n",
    "lines.take(3)"
   ]
  },
  {
   "cell_type": "markdown",
   "metadata": {},
   "source": [
    "Our data comes out of the file as lines of text. Notice that file decompression happened automatically. We can make this data look more reasonable by mapping the `json.loads` function onto our bag."
   ]
  },
  {
   "cell_type": "code",
   "execution_count": 10,
   "metadata": {},
   "outputs": [
    {
     "data": {
      "text/plain": [
       "({'id': 0,\n",
       "  'name': 'Jerry',\n",
       "  'transactions': [{'transaction-id': 304, 'amount': -1254},\n",
       "   {'transaction-id': 832, 'amount': -1459},\n",
       "   {'transaction-id': 1291, 'amount': -686},\n",
       "   {'transaction-id': 1428, 'amount': -836},\n",
       "   {'transaction-id': 1597, 'amount': -860},\n",
       "   {'transaction-id': 1638, 'amount': -1167},\n",
       "   {'transaction-id': 1968, 'amount': -747},\n",
       "   {'transaction-id': 2686, 'amount': -1166},\n",
       "   {'transaction-id': 3429, 'amount': -1197},\n",
       "   {'transaction-id': 3769, 'amount': -832},\n",
       "   {'transaction-id': 3874, 'amount': -426},\n",
       "   {'transaction-id': 3932, 'amount': -979},\n",
       "   {'transaction-id': 3976, 'amount': -973},\n",
       "   {'transaction-id': 4119, 'amount': -937},\n",
       "   {'transaction-id': 4162, 'amount': -966},\n",
       "   {'transaction-id': 4468, 'amount': -630},\n",
       "   {'transaction-id': 4594, 'amount': -956},\n",
       "   {'transaction-id': 4651, 'amount': -717},\n",
       "   {'transaction-id': 4675, 'amount': -1010},\n",
       "   {'transaction-id': 4965, 'amount': -967},\n",
       "   {'transaction-id': 5035, 'amount': -568},\n",
       "   {'transaction-id': 5121, 'amount': -854},\n",
       "   {'transaction-id': 5339, 'amount': -1087},\n",
       "   {'transaction-id': 5363, 'amount': -728},\n",
       "   {'transaction-id': 6125, 'amount': -994},\n",
       "   {'transaction-id': 6191, 'amount': -944},\n",
       "   {'transaction-id': 6337, 'amount': -952},\n",
       "   {'transaction-id': 7157, 'amount': -1262},\n",
       "   {'transaction-id': 7470, 'amount': -804},\n",
       "   {'transaction-id': 8555, 'amount': -651},\n",
       "   {'transaction-id': 8924, 'amount': -688},\n",
       "   {'transaction-id': 9063, 'amount': -896},\n",
       "   {'transaction-id': 9683, 'amount': -911},\n",
       "   {'transaction-id': 9792, 'amount': -761},\n",
       "   {'transaction-id': 9975, 'amount': -969}]},\n",
       " {'id': 1,\n",
       "  'name': 'Bob',\n",
       "  'transactions': [{'transaction-id': 131, 'amount': 2},\n",
       "   {'transaction-id': 142, 'amount': 2},\n",
       "   {'transaction-id': 431, 'amount': 2},\n",
       "   {'transaction-id': 1139, 'amount': 2},\n",
       "   {'transaction-id': 1565, 'amount': 2},\n",
       "   {'transaction-id': 1591, 'amount': 2},\n",
       "   {'transaction-id': 2170, 'amount': 2},\n",
       "   {'transaction-id': 2179, 'amount': 2},\n",
       "   {'transaction-id': 2455, 'amount': 2},\n",
       "   {'transaction-id': 2560, 'amount': 2},\n",
       "   {'transaction-id': 3310, 'amount': 2},\n",
       "   {'transaction-id': 3503, 'amount': 2},\n",
       "   {'transaction-id': 3642, 'amount': 2},\n",
       "   {'transaction-id': 3987, 'amount': 2},\n",
       "   {'transaction-id': 4191, 'amount': 2},\n",
       "   {'transaction-id': 4298, 'amount': 2},\n",
       "   {'transaction-id': 4392, 'amount': 2},\n",
       "   {'transaction-id': 4775, 'amount': 2},\n",
       "   {'transaction-id': 5795, 'amount': 2},\n",
       "   {'transaction-id': 6184, 'amount': 2},\n",
       "   {'transaction-id': 7211, 'amount': 2},\n",
       "   {'transaction-id': 7873, 'amount': 2},\n",
       "   {'transaction-id': 8158, 'amount': 2},\n",
       "   {'transaction-id': 8681, 'amount': 2},\n",
       "   {'transaction-id': 8865, 'amount': 2},\n",
       "   {'transaction-id': 9562, 'amount': 2},\n",
       "   {'transaction-id': 9932, 'amount': 2}]},\n",
       " {'id': 2,\n",
       "  'name': 'George',\n",
       "  'transactions': [{'transaction-id': 86, 'amount': 2593},\n",
       "   {'transaction-id': 987, 'amount': 2466},\n",
       "   {'transaction-id': 1503, 'amount': 2478},\n",
       "   {'transaction-id': 1520, 'amount': 2512},\n",
       "   {'transaction-id': 3065, 'amount': 2631},\n",
       "   {'transaction-id': 3223, 'amount': 2506},\n",
       "   {'transaction-id': 4608, 'amount': 2422},\n",
       "   {'transaction-id': 6603, 'amount': 2727},\n",
       "   {'transaction-id': 6768, 'amount': 2364},\n",
       "   {'transaction-id': 6903, 'amount': 2361},\n",
       "   {'transaction-id': 6971, 'amount': 2701},\n",
       "   {'transaction-id': 7136, 'amount': 2529},\n",
       "   {'transaction-id': 8353, 'amount': 2616},\n",
       "   {'transaction-id': 9667, 'amount': 2804}]})"
      ]
     },
     "execution_count": 10,
     "metadata": {},
     "output_type": "execute_result"
    }
   ],
   "source": [
    "import json\n",
    "js = lines.map(json.loads)\n",
    "# take: inspect first few elements\n",
    "js.take(3)"
   ]
  },
  {
   "cell_type": "markdown",
   "metadata": {},
   "source": [
    "### Basic Queries"
   ]
  },
  {
   "cell_type": "markdown",
   "metadata": {},
   "source": [
    "Once we parse our JSON data into proper Python objects (`dict`s, `list`s, etc.) we can perform more interesting queries by creating small Python functions to run on our data."
   ]
  },
  {
   "cell_type": "code",
   "execution_count": 11,
   "metadata": {},
   "outputs": [
    {
     "data": {
      "text/plain": [
       "({'id': 29,\n",
       "  'name': 'Alice',\n",
       "  'transactions': [{'transaction-id': 29, 'amount': 212},\n",
       "   {'transaction-id': 58, 'amount': 203},\n",
       "   {'transaction-id': 311, 'amount': 235},\n",
       "   {'transaction-id': 459, 'amount': 224},\n",
       "   {'transaction-id': 751, 'amount': 187},\n",
       "   {'transaction-id': 875, 'amount': 219},\n",
       "   {'transaction-id': 1210, 'amount': 198},\n",
       "   {'transaction-id': 1264, 'amount': 264},\n",
       "   {'transaction-id': 1356, 'amount': 258},\n",
       "   {'transaction-id': 1382, 'amount': 191},\n",
       "   {'transaction-id': 1579, 'amount': 190},\n",
       "   {'transaction-id': 1756, 'amount': 244},\n",
       "   {'transaction-id': 2240, 'amount': 260},\n",
       "   {'transaction-id': 2289, 'amount': 226},\n",
       "   {'transaction-id': 2374, 'amount': 261},\n",
       "   {'transaction-id': 2550, 'amount': 189},\n",
       "   {'transaction-id': 2726, 'amount': 277},\n",
       "   {'transaction-id': 2792, 'amount': 218},\n",
       "   {'transaction-id': 3613, 'amount': 255},\n",
       "   {'transaction-id': 4252, 'amount': 215},\n",
       "   {'transaction-id': 4874, 'amount': 268},\n",
       "   {'transaction-id': 5083, 'amount': 190},\n",
       "   {'transaction-id': 5962, 'amount': 241},\n",
       "   {'transaction-id': 6059, 'amount': 244},\n",
       "   {'transaction-id': 6290, 'amount': 255},\n",
       "   {'transaction-id': 6307, 'amount': 239},\n",
       "   {'transaction-id': 6632, 'amount': 199},\n",
       "   {'transaction-id': 6919, 'amount': 231},\n",
       "   {'transaction-id': 7274, 'amount': 192},\n",
       "   {'transaction-id': 7412, 'amount': 239},\n",
       "   {'transaction-id': 7700, 'amount': 237},\n",
       "   {'transaction-id': 7786, 'amount': 207},\n",
       "   {'transaction-id': 8165, 'amount': 254},\n",
       "   {'transaction-id': 8413, 'amount': 238},\n",
       "   {'transaction-id': 8567, 'amount': 182},\n",
       "   {'transaction-id': 9018, 'amount': 252},\n",
       "   {'transaction-id': 9097, 'amount': 198},\n",
       "   {'transaction-id': 9440, 'amount': 234},\n",
       "   {'transaction-id': 9502, 'amount': 194},\n",
       "   {'transaction-id': 9610, 'amount': 190},\n",
       "   {'transaction-id': 9635, 'amount': 268},\n",
       "   {'transaction-id': 9968, 'amount': 210}]},\n",
       " {'id': 53,\n",
       "  'name': 'Alice',\n",
       "  'transactions': [{'transaction-id': 1178, 'amount': 169},\n",
       "   {'transaction-id': 3808, 'amount': 48},\n",
       "   {'transaction-id': 4280, 'amount': 310},\n",
       "   {'transaction-id': 6527, 'amount': -10}]},\n",
       " {'id': 55,\n",
       "  'name': 'Alice',\n",
       "  'transactions': [{'transaction-id': 108, 'amount': -501},\n",
       "   {'transaction-id': 113, 'amount': -725},\n",
       "   {'transaction-id': 118, 'amount': -442},\n",
       "   {'transaction-id': 130, 'amount': -444},\n",
       "   {'transaction-id': 158, 'amount': -520},\n",
       "   {'transaction-id': 170, 'amount': -409},\n",
       "   {'transaction-id': 365, 'amount': -408},\n",
       "   {'transaction-id': 444, 'amount': -676},\n",
       "   {'transaction-id': 492, 'amount': -683},\n",
       "   {'transaction-id': 605, 'amount': -296},\n",
       "   {'transaction-id': 712, 'amount': -292},\n",
       "   {'transaction-id': 936, 'amount': -601},\n",
       "   {'transaction-id': 1029, 'amount': -346},\n",
       "   {'transaction-id': 1336, 'amount': -715},\n",
       "   {'transaction-id': 1625, 'amount': -444},\n",
       "   {'transaction-id': 1718, 'amount': -572},\n",
       "   {'transaction-id': 1878, 'amount': -595},\n",
       "   {'transaction-id': 1960, 'amount': -342},\n",
       "   {'transaction-id': 1983, 'amount': -488},\n",
       "   {'transaction-id': 2022, 'amount': -665},\n",
       "   {'transaction-id': 2073, 'amount': -558},\n",
       "   {'transaction-id': 2088, 'amount': -529},\n",
       "   {'transaction-id': 2178, 'amount': -492},\n",
       "   {'transaction-id': 2190, 'amount': -632},\n",
       "   {'transaction-id': 2453, 'amount': -589},\n",
       "   {'transaction-id': 2524, 'amount': -545},\n",
       "   {'transaction-id': 2696, 'amount': -706},\n",
       "   {'transaction-id': 2761, 'amount': -518},\n",
       "   {'transaction-id': 2861, 'amount': -237},\n",
       "   {'transaction-id': 2991, 'amount': -554},\n",
       "   {'transaction-id': 3225, 'amount': -339},\n",
       "   {'transaction-id': 3284, 'amount': -502},\n",
       "   {'transaction-id': 3357, 'amount': -456},\n",
       "   {'transaction-id': 3417, 'amount': -454},\n",
       "   {'transaction-id': 3467, 'amount': -542},\n",
       "   {'transaction-id': 3473, 'amount': -480},\n",
       "   {'transaction-id': 3557, 'amount': -590},\n",
       "   {'transaction-id': 3563, 'amount': -444},\n",
       "   {'transaction-id': 3746, 'amount': -709},\n",
       "   {'transaction-id': 3855, 'amount': -720},\n",
       "   {'transaction-id': 3947, 'amount': -719},\n",
       "   {'transaction-id': 3957, 'amount': -763},\n",
       "   {'transaction-id': 4015, 'amount': -336},\n",
       "   {'transaction-id': 4054, 'amount': -386},\n",
       "   {'transaction-id': 4138, 'amount': -519},\n",
       "   {'transaction-id': 4202, 'amount': -686},\n",
       "   {'transaction-id': 4240, 'amount': -622},\n",
       "   {'transaction-id': 4386, 'amount': -355},\n",
       "   {'transaction-id': 4405, 'amount': -674},\n",
       "   {'transaction-id': 4449, 'amount': -454},\n",
       "   {'transaction-id': 4531, 'amount': -380},\n",
       "   {'transaction-id': 4557, 'amount': -758},\n",
       "   {'transaction-id': 4568, 'amount': -592},\n",
       "   {'transaction-id': 4584, 'amount': -362},\n",
       "   {'transaction-id': 4822, 'amount': -265},\n",
       "   {'transaction-id': 4869, 'amount': -587},\n",
       "   {'transaction-id': 5292, 'amount': -570},\n",
       "   {'transaction-id': 5374, 'amount': -266},\n",
       "   {'transaction-id': 5441, 'amount': -438},\n",
       "   {'transaction-id': 5471, 'amount': -362},\n",
       "   {'transaction-id': 5603, 'amount': -587},\n",
       "   {'transaction-id': 5744, 'amount': -608},\n",
       "   {'transaction-id': 5770, 'amount': -351},\n",
       "   {'transaction-id': 5778, 'amount': -646},\n",
       "   {'transaction-id': 5861, 'amount': -362},\n",
       "   {'transaction-id': 6000, 'amount': -512},\n",
       "   {'transaction-id': 6091, 'amount': -558},\n",
       "   {'transaction-id': 6117, 'amount': -379},\n",
       "   {'transaction-id': 6185, 'amount': -368},\n",
       "   {'transaction-id': 6258, 'amount': -514},\n",
       "   {'transaction-id': 6306, 'amount': -516},\n",
       "   {'transaction-id': 6335, 'amount': -507},\n",
       "   {'transaction-id': 6346, 'amount': -617},\n",
       "   {'transaction-id': 6498, 'amount': -578},\n",
       "   {'transaction-id': 6726, 'amount': -860},\n",
       "   {'transaction-id': 6854, 'amount': -723},\n",
       "   {'transaction-id': 6922, 'amount': -481},\n",
       "   {'transaction-id': 6925, 'amount': -634},\n",
       "   {'transaction-id': 6934, 'amount': -401},\n",
       "   {'transaction-id': 6976, 'amount': -470},\n",
       "   {'transaction-id': 6984, 'amount': -470},\n",
       "   {'transaction-id': 7020, 'amount': -225},\n",
       "   {'transaction-id': 7071, 'amount': -962},\n",
       "   {'transaction-id': 7181, 'amount': -722},\n",
       "   {'transaction-id': 7215, 'amount': -689},\n",
       "   {'transaction-id': 7320, 'amount': -683},\n",
       "   {'transaction-id': 7366, 'amount': -337},\n",
       "   {'transaction-id': 7577, 'amount': -437},\n",
       "   {'transaction-id': 7583, 'amount': -496},\n",
       "   {'transaction-id': 7585, 'amount': -580},\n",
       "   {'transaction-id': 7606, 'amount': -452},\n",
       "   {'transaction-id': 7653, 'amount': -700},\n",
       "   {'transaction-id': 7746, 'amount': -497},\n",
       "   {'transaction-id': 7761, 'amount': -452},\n",
       "   {'transaction-id': 7880, 'amount': -499},\n",
       "   {'transaction-id': 8094, 'amount': -891},\n",
       "   {'transaction-id': 8183, 'amount': -332},\n",
       "   {'transaction-id': 8223, 'amount': -406},\n",
       "   {'transaction-id': 8225, 'amount': -344},\n",
       "   {'transaction-id': 8226, 'amount': -414},\n",
       "   {'transaction-id': 8327, 'amount': -414},\n",
       "   {'transaction-id': 8496, 'amount': -601},\n",
       "   {'transaction-id': 8499, 'amount': -729},\n",
       "   {'transaction-id': 8516, 'amount': -567},\n",
       "   {'transaction-id': 8689, 'amount': -412},\n",
       "   {'transaction-id': 8879, 'amount': -625},\n",
       "   {'transaction-id': 8974, 'amount': -802},\n",
       "   {'transaction-id': 9005, 'amount': -492},\n",
       "   {'transaction-id': 9177, 'amount': -541},\n",
       "   {'transaction-id': 9182, 'amount': -614},\n",
       "   {'transaction-id': 9269, 'amount': -477},\n",
       "   {'transaction-id': 9273, 'amount': -780},\n",
       "   {'transaction-id': 9399, 'amount': -657},\n",
       "   {'transaction-id': 9488, 'amount': -455},\n",
       "   {'transaction-id': 9551, 'amount': -34},\n",
       "   {'transaction-id': 9604, 'amount': -609},\n",
       "   {'transaction-id': 9645, 'amount': -356},\n",
       "   {'transaction-id': 9753, 'amount': -516},\n",
       "   {'transaction-id': 9947, 'amount': -610},\n",
       "   {'transaction-id': 9961, 'amount': -743}]},\n",
       " {'id': 63,\n",
       "  'name': 'Alice',\n",
       "  'transactions': [{'transaction-id': 616, 'amount': 976},\n",
       "   {'transaction-id': 887, 'amount': 901},\n",
       "   {'transaction-id': 1049, 'amount': 1004},\n",
       "   {'transaction-id': 1462, 'amount': 939},\n",
       "   {'transaction-id': 1616, 'amount': 948},\n",
       "   {'transaction-id': 2499, 'amount': 1466},\n",
       "   {'transaction-id': 3183, 'amount': 912},\n",
       "   {'transaction-id': 4247, 'amount': 1193},\n",
       "   {'transaction-id': 4595, 'amount': 1038},\n",
       "   {'transaction-id': 5047, 'amount': 935},\n",
       "   {'transaction-id': 7529, 'amount': 1134},\n",
       "   {'transaction-id': 7829, 'amount': 979},\n",
       "   {'transaction-id': 8063, 'amount': 766},\n",
       "   {'transaction-id': 8515, 'amount': 932},\n",
       "   {'transaction-id': 9571, 'amount': 1112},\n",
       "   {'transaction-id': 9887, 'amount': 1087}]},\n",
       " {'id': 64,\n",
       "  'name': 'Alice',\n",
       "  'transactions': [{'transaction-id': 2766, 'amount': 604},\n",
       "   {'transaction-id': 7903, 'amount': 541}]})"
      ]
     },
     "execution_count": 11,
     "metadata": {},
     "output_type": "execute_result"
    }
   ],
   "source": [
    "# filter: keep only some elements of the sequence\n",
    "js.filter(lambda record: record['name'] == 'Alice').take(5)"
   ]
  },
  {
   "cell_type": "code",
   "execution_count": 12,
   "metadata": {},
   "outputs": [
    {
     "data": {
      "text/plain": [
       "({'name': 'Alice', 'count': 42},\n",
       " {'name': 'Alice', 'count': 4},\n",
       " {'name': 'Alice', 'count': 120},\n",
       " {'name': 'Alice', 'count': 16},\n",
       " {'name': 'Alice', 'count': 2})"
      ]
     },
     "execution_count": 12,
     "metadata": {},
     "output_type": "execute_result"
    }
   ],
   "source": [
    "def count_transactions(d):\n",
    "    return {'name': d['name'], 'count': len(d['transactions'])}\n",
    "\n",
    "# map: apply a function to each element\n",
    "(js.filter(lambda record: record['name'] == 'Alice')\n",
    "   .map(count_transactions)\n",
    "   .take(5))"
   ]
  },
  {
   "cell_type": "code",
   "execution_count": 13,
   "metadata": {},
   "outputs": [
    {
     "data": {
      "text/plain": [
       "(42, 4, 120, 16, 2)"
      ]
     },
     "execution_count": 13,
     "metadata": {},
     "output_type": "execute_result"
    }
   ],
   "source": [
    "# pluck: select a field, as from a dictionary, element[field]\n",
    "(js.filter(lambda record: record['name'] == 'Alice')\n",
    "   .map(count_transactions)\n",
    "   .pluck('count')\n",
    "   .take(5))"
   ]
  },
  {
   "cell_type": "code",
   "execution_count": 14,
   "metadata": {},
   "outputs": [
    {
     "data": {
      "text/plain": [
       "35.44331395348837"
      ]
     },
     "execution_count": 14,
     "metadata": {},
     "output_type": "execute_result"
    }
   ],
   "source": [
    "# Average number of transactions for all of the Alice entries\n",
    "(js.filter(lambda record: record['name'] == 'Alice')\n",
    "   .map(count_transactions)\n",
    "   .pluck('count')\n",
    "   .mean()\n",
    "   .compute())"
   ]
  },
  {
   "cell_type": "markdown",
   "metadata": {},
   "source": [
    "### Use `flatten` to de-nest"
   ]
  },
  {
   "cell_type": "markdown",
   "metadata": {},
   "source": [
    "In the example below we see the use of `.flatten()` to flatten results.  We compute the average amount for all transactions for all Alices."
   ]
  },
  {
   "cell_type": "code",
   "execution_count": 15,
   "metadata": {},
   "outputs": [
    {
     "data": {
      "text/plain": [
       "([{'transaction-id': 29, 'amount': 212},\n",
       "  {'transaction-id': 58, 'amount': 203},\n",
       "  {'transaction-id': 311, 'amount': 235},\n",
       "  {'transaction-id': 459, 'amount': 224},\n",
       "  {'transaction-id': 751, 'amount': 187},\n",
       "  {'transaction-id': 875, 'amount': 219},\n",
       "  {'transaction-id': 1210, 'amount': 198},\n",
       "  {'transaction-id': 1264, 'amount': 264},\n",
       "  {'transaction-id': 1356, 'amount': 258},\n",
       "  {'transaction-id': 1382, 'amount': 191},\n",
       "  {'transaction-id': 1579, 'amount': 190},\n",
       "  {'transaction-id': 1756, 'amount': 244},\n",
       "  {'transaction-id': 2240, 'amount': 260},\n",
       "  {'transaction-id': 2289, 'amount': 226},\n",
       "  {'transaction-id': 2374, 'amount': 261},\n",
       "  {'transaction-id': 2550, 'amount': 189},\n",
       "  {'transaction-id': 2726, 'amount': 277},\n",
       "  {'transaction-id': 2792, 'amount': 218},\n",
       "  {'transaction-id': 3613, 'amount': 255},\n",
       "  {'transaction-id': 4252, 'amount': 215},\n",
       "  {'transaction-id': 4874, 'amount': 268},\n",
       "  {'transaction-id': 5083, 'amount': 190},\n",
       "  {'transaction-id': 5962, 'amount': 241},\n",
       "  {'transaction-id': 6059, 'amount': 244},\n",
       "  {'transaction-id': 6290, 'amount': 255},\n",
       "  {'transaction-id': 6307, 'amount': 239},\n",
       "  {'transaction-id': 6632, 'amount': 199},\n",
       "  {'transaction-id': 6919, 'amount': 231},\n",
       "  {'transaction-id': 7274, 'amount': 192},\n",
       "  {'transaction-id': 7412, 'amount': 239},\n",
       "  {'transaction-id': 7700, 'amount': 237},\n",
       "  {'transaction-id': 7786, 'amount': 207},\n",
       "  {'transaction-id': 8165, 'amount': 254},\n",
       "  {'transaction-id': 8413, 'amount': 238},\n",
       "  {'transaction-id': 8567, 'amount': 182},\n",
       "  {'transaction-id': 9018, 'amount': 252},\n",
       "  {'transaction-id': 9097, 'amount': 198},\n",
       "  {'transaction-id': 9440, 'amount': 234},\n",
       "  {'transaction-id': 9502, 'amount': 194},\n",
       "  {'transaction-id': 9610, 'amount': 190},\n",
       "  {'transaction-id': 9635, 'amount': 268},\n",
       "  {'transaction-id': 9968, 'amount': 210}],\n",
       " [{'transaction-id': 1178, 'amount': 169},\n",
       "  {'transaction-id': 3808, 'amount': 48},\n",
       "  {'transaction-id': 4280, 'amount': 310},\n",
       "  {'transaction-id': 6527, 'amount': -10}],\n",
       " [{'transaction-id': 108, 'amount': -501},\n",
       "  {'transaction-id': 113, 'amount': -725},\n",
       "  {'transaction-id': 118, 'amount': -442},\n",
       "  {'transaction-id': 130, 'amount': -444},\n",
       "  {'transaction-id': 158, 'amount': -520},\n",
       "  {'transaction-id': 170, 'amount': -409},\n",
       "  {'transaction-id': 365, 'amount': -408},\n",
       "  {'transaction-id': 444, 'amount': -676},\n",
       "  {'transaction-id': 492, 'amount': -683},\n",
       "  {'transaction-id': 605, 'amount': -296},\n",
       "  {'transaction-id': 712, 'amount': -292},\n",
       "  {'transaction-id': 936, 'amount': -601},\n",
       "  {'transaction-id': 1029, 'amount': -346},\n",
       "  {'transaction-id': 1336, 'amount': -715},\n",
       "  {'transaction-id': 1625, 'amount': -444},\n",
       "  {'transaction-id': 1718, 'amount': -572},\n",
       "  {'transaction-id': 1878, 'amount': -595},\n",
       "  {'transaction-id': 1960, 'amount': -342},\n",
       "  {'transaction-id': 1983, 'amount': -488},\n",
       "  {'transaction-id': 2022, 'amount': -665},\n",
       "  {'transaction-id': 2073, 'amount': -558},\n",
       "  {'transaction-id': 2088, 'amount': -529},\n",
       "  {'transaction-id': 2178, 'amount': -492},\n",
       "  {'transaction-id': 2190, 'amount': -632},\n",
       "  {'transaction-id': 2453, 'amount': -589},\n",
       "  {'transaction-id': 2524, 'amount': -545},\n",
       "  {'transaction-id': 2696, 'amount': -706},\n",
       "  {'transaction-id': 2761, 'amount': -518},\n",
       "  {'transaction-id': 2861, 'amount': -237},\n",
       "  {'transaction-id': 2991, 'amount': -554},\n",
       "  {'transaction-id': 3225, 'amount': -339},\n",
       "  {'transaction-id': 3284, 'amount': -502},\n",
       "  {'transaction-id': 3357, 'amount': -456},\n",
       "  {'transaction-id': 3417, 'amount': -454},\n",
       "  {'transaction-id': 3467, 'amount': -542},\n",
       "  {'transaction-id': 3473, 'amount': -480},\n",
       "  {'transaction-id': 3557, 'amount': -590},\n",
       "  {'transaction-id': 3563, 'amount': -444},\n",
       "  {'transaction-id': 3746, 'amount': -709},\n",
       "  {'transaction-id': 3855, 'amount': -720},\n",
       "  {'transaction-id': 3947, 'amount': -719},\n",
       "  {'transaction-id': 3957, 'amount': -763},\n",
       "  {'transaction-id': 4015, 'amount': -336},\n",
       "  {'transaction-id': 4054, 'amount': -386},\n",
       "  {'transaction-id': 4138, 'amount': -519},\n",
       "  {'transaction-id': 4202, 'amount': -686},\n",
       "  {'transaction-id': 4240, 'amount': -622},\n",
       "  {'transaction-id': 4386, 'amount': -355},\n",
       "  {'transaction-id': 4405, 'amount': -674},\n",
       "  {'transaction-id': 4449, 'amount': -454},\n",
       "  {'transaction-id': 4531, 'amount': -380},\n",
       "  {'transaction-id': 4557, 'amount': -758},\n",
       "  {'transaction-id': 4568, 'amount': -592},\n",
       "  {'transaction-id': 4584, 'amount': -362},\n",
       "  {'transaction-id': 4822, 'amount': -265},\n",
       "  {'transaction-id': 4869, 'amount': -587},\n",
       "  {'transaction-id': 5292, 'amount': -570},\n",
       "  {'transaction-id': 5374, 'amount': -266},\n",
       "  {'transaction-id': 5441, 'amount': -438},\n",
       "  {'transaction-id': 5471, 'amount': -362},\n",
       "  {'transaction-id': 5603, 'amount': -587},\n",
       "  {'transaction-id': 5744, 'amount': -608},\n",
       "  {'transaction-id': 5770, 'amount': -351},\n",
       "  {'transaction-id': 5778, 'amount': -646},\n",
       "  {'transaction-id': 5861, 'amount': -362},\n",
       "  {'transaction-id': 6000, 'amount': -512},\n",
       "  {'transaction-id': 6091, 'amount': -558},\n",
       "  {'transaction-id': 6117, 'amount': -379},\n",
       "  {'transaction-id': 6185, 'amount': -368},\n",
       "  {'transaction-id': 6258, 'amount': -514},\n",
       "  {'transaction-id': 6306, 'amount': -516},\n",
       "  {'transaction-id': 6335, 'amount': -507},\n",
       "  {'transaction-id': 6346, 'amount': -617},\n",
       "  {'transaction-id': 6498, 'amount': -578},\n",
       "  {'transaction-id': 6726, 'amount': -860},\n",
       "  {'transaction-id': 6854, 'amount': -723},\n",
       "  {'transaction-id': 6922, 'amount': -481},\n",
       "  {'transaction-id': 6925, 'amount': -634},\n",
       "  {'transaction-id': 6934, 'amount': -401},\n",
       "  {'transaction-id': 6976, 'amount': -470},\n",
       "  {'transaction-id': 6984, 'amount': -470},\n",
       "  {'transaction-id': 7020, 'amount': -225},\n",
       "  {'transaction-id': 7071, 'amount': -962},\n",
       "  {'transaction-id': 7181, 'amount': -722},\n",
       "  {'transaction-id': 7215, 'amount': -689},\n",
       "  {'transaction-id': 7320, 'amount': -683},\n",
       "  {'transaction-id': 7366, 'amount': -337},\n",
       "  {'transaction-id': 7577, 'amount': -437},\n",
       "  {'transaction-id': 7583, 'amount': -496},\n",
       "  {'transaction-id': 7585, 'amount': -580},\n",
       "  {'transaction-id': 7606, 'amount': -452},\n",
       "  {'transaction-id': 7653, 'amount': -700},\n",
       "  {'transaction-id': 7746, 'amount': -497},\n",
       "  {'transaction-id': 7761, 'amount': -452},\n",
       "  {'transaction-id': 7880, 'amount': -499},\n",
       "  {'transaction-id': 8094, 'amount': -891},\n",
       "  {'transaction-id': 8183, 'amount': -332},\n",
       "  {'transaction-id': 8223, 'amount': -406},\n",
       "  {'transaction-id': 8225, 'amount': -344},\n",
       "  {'transaction-id': 8226, 'amount': -414},\n",
       "  {'transaction-id': 8327, 'amount': -414},\n",
       "  {'transaction-id': 8496, 'amount': -601},\n",
       "  {'transaction-id': 8499, 'amount': -729},\n",
       "  {'transaction-id': 8516, 'amount': -567},\n",
       "  {'transaction-id': 8689, 'amount': -412},\n",
       "  {'transaction-id': 8879, 'amount': -625},\n",
       "  {'transaction-id': 8974, 'amount': -802},\n",
       "  {'transaction-id': 9005, 'amount': -492},\n",
       "  {'transaction-id': 9177, 'amount': -541},\n",
       "  {'transaction-id': 9182, 'amount': -614},\n",
       "  {'transaction-id': 9269, 'amount': -477},\n",
       "  {'transaction-id': 9273, 'amount': -780},\n",
       "  {'transaction-id': 9399, 'amount': -657},\n",
       "  {'transaction-id': 9488, 'amount': -455},\n",
       "  {'transaction-id': 9551, 'amount': -34},\n",
       "  {'transaction-id': 9604, 'amount': -609},\n",
       "  {'transaction-id': 9645, 'amount': -356},\n",
       "  {'transaction-id': 9753, 'amount': -516},\n",
       "  {'transaction-id': 9947, 'amount': -610},\n",
       "  {'transaction-id': 9961, 'amount': -743}])"
      ]
     },
     "execution_count": 15,
     "metadata": {},
     "output_type": "execute_result"
    }
   ],
   "source": [
    "js.filter(lambda record: record['name'] == 'Alice').pluck('transactions').take(3)"
   ]
  },
  {
   "cell_type": "code",
   "execution_count": 16,
   "metadata": {},
   "outputs": [
    {
     "data": {
      "text/plain": [
       "({'transaction-id': 29, 'amount': 212},\n",
       " {'transaction-id': 58, 'amount': 203},\n",
       " {'transaction-id': 311, 'amount': 235})"
      ]
     },
     "execution_count": 16,
     "metadata": {},
     "output_type": "execute_result"
    }
   ],
   "source": [
    "(js.filter(lambda record: record['name'] == 'Alice')\n",
    "   .pluck('transactions')\n",
    "   .flatten()\n",
    "   .take(3))"
   ]
  },
  {
   "cell_type": "code",
   "execution_count": 17,
   "metadata": {},
   "outputs": [
    {
     "data": {
      "text/plain": [
       "(212, 203, 235)"
      ]
     },
     "execution_count": 17,
     "metadata": {},
     "output_type": "execute_result"
    }
   ],
   "source": [
    "(js.filter(lambda record: record['name'] == 'Alice')\n",
    "   .pluck('transactions')\n",
    "   .flatten()\n",
    "   .pluck('amount')\n",
    "   .take(3))"
   ]
  },
  {
   "cell_type": "code",
   "execution_count": 18,
   "metadata": {},
   "outputs": [
    {
     "data": {
      "text/plain": [
       "212.9851137994669"
      ]
     },
     "execution_count": 18,
     "metadata": {},
     "output_type": "execute_result"
    }
   ],
   "source": [
    "(js.filter(lambda record: record['name'] == 'Alice')\n",
    "   .pluck('transactions')\n",
    "   .flatten()\n",
    "   .pluck('amount')\n",
    "   .mean()\n",
    "   .compute())"
   ]
  },
  {
   "cell_type": "markdown",
   "metadata": {},
   "source": [
    "### Groupby and Foldby"
   ]
  },
  {
   "cell_type": "markdown",
   "metadata": {},
   "source": [
    "Often we want to group data by some function or key.  We can do this either with the `.groupby` method, which is straightforward but forces a full shuffle of the data (expensive) or with the harder-to-use but faster `.foldby` method, which does a streaming combined groupby and reduction.\n",
    "\n",
    "*  `groupby`:  Shuffles data so that all items with the same key are in the same key-value pair\n",
    "*  `foldby`:  Walks through the data accumulating a result per key\n",
    "\n",
    "*Note: the full groupby is particularly bad. In actual workloads you would do well to use `foldby` or switch to `DataFrame`s if possible.*"
   ]
  },
  {
   "cell_type": "markdown",
   "metadata": {},
   "source": [
    "### `groupby`"
   ]
  },
  {
   "cell_type": "markdown",
   "metadata": {},
   "source": [
    "Groupby collects items in your collection so that all items with the same value under some function are collected together into a key-value pair."
   ]
  },
  {
   "cell_type": "code",
   "execution_count": 19,
   "metadata": {},
   "outputs": [
    {
     "data": {
      "text/plain": [
       "[(7, ['Charlie']), (3, ['Bob', 'Dan']), (5, ['Alice', 'Edith', 'Frank'])]"
      ]
     },
     "execution_count": 19,
     "metadata": {},
     "output_type": "execute_result"
    }
   ],
   "source": [
    "b = db.from_sequence(['Alice', 'Bob', 'Charlie', 'Dan', 'Edith', 'Frank'])\n",
    "b.groupby(len).compute()  # names grouped by length"
   ]
  },
  {
   "cell_type": "code",
   "execution_count": 20,
   "metadata": {},
   "outputs": [
    {
     "data": {
      "text/plain": [
       "[(0, [0, 2, 4, 6, 8]), (1, [1, 3, 5, 7, 9])]"
      ]
     },
     "execution_count": 20,
     "metadata": {},
     "output_type": "execute_result"
    }
   ],
   "source": [
    "b = db.from_sequence(list(range(10)))\n",
    "b.groupby(lambda x: x % 2).compute()"
   ]
  },
  {
   "cell_type": "code",
   "execution_count": 21,
   "metadata": {},
   "outputs": [
    {
     "data": {
      "text/plain": [
       "[(0, 8), (1, 9)]"
      ]
     },
     "execution_count": 21,
     "metadata": {},
     "output_type": "execute_result"
    }
   ],
   "source": [
    "b.groupby(lambda x: x % 2).starmap(lambda k, v: (k, max(v))).compute()"
   ]
  },
  {
   "cell_type": "markdown",
   "metadata": {},
   "source": [
    "### `foldby`"
   ]
  },
  {
   "cell_type": "markdown",
   "metadata": {},
   "source": [
    "Foldby can be quite odd at first.  It is similar to the following functions from other libraries:\n",
    "\n",
    "*  [`toolz.reduceby`](http://toolz.readthedocs.io/en/latest/streaming-analytics.html#streaming-split-apply-combine)\n",
    "*  [`pyspark.RDD.combineByKey`](http://abshinn.github.io/python/apache-spark/2014/10/11/using-combinebykey-in-apache-spark/)\n",
    "\n",
    "When using `foldby` you provide \n",
    "\n",
    "1.  A key function on which to group elements\n",
    "2.  A binary operator such as you would pass to `reduce` that you use to perform reduction per each group\n",
    "3.  A combine binary operator that can combine the results of two `reduce` calls on different parts of your dataset.\n",
    "\n",
    "Your reduction must be associative.  It will happen in parallel in each of the partitions of your dataset.  Then all of these intermediate results will be combined by the `combine` binary operator."
   ]
  },
  {
   "cell_type": "code",
   "execution_count": 22,
   "metadata": {},
   "outputs": [
    {
     "data": {
      "text/plain": [
       "[(0, 8), (1, 9)]"
      ]
     },
     "execution_count": 22,
     "metadata": {},
     "output_type": "execute_result"
    }
   ],
   "source": [
    "is_even = lambda x: x % 2\n",
    "b.foldby(is_even, binop=max, combine=max).compute()"
   ]
  },
  {
   "cell_type": "markdown",
   "metadata": {},
   "source": [
    "### Example with account data"
   ]
  },
  {
   "cell_type": "markdown",
   "metadata": {},
   "source": [
    "We find the number of people with the same name."
   ]
  },
  {
   "cell_type": "code",
   "execution_count": 23,
   "metadata": {},
   "outputs": [
    {
     "name": "stdout",
     "output_type": "stream",
     "text": [
      "[('Alice', 152), ('Alice', 166), ('Alice', 178), ('Alice', 192), ('Bob', 143), ('Bob', 156), ('Bob', 169), ('Bob', 182), ('Charlie', 113), ('Charlie', 122), ('Charlie', 131), ('Charlie', 143), ('Dan', 85), ('Dan', 93), ('Dan', 100), ('Dan', 109), ('Edith', 88), ('Edith', 96), ('Edith', 104), ('Edith', 110), ('Frank', 55), ('Frank', 60), ('Frank', 65), ('Frank', 70), ('George', 120), ('George', 132), ('George', 143), ('George', 154), ('Hannah', 117), ('Hannah', 127), ('Hannah', 140), ('Hannah', 151), ('Ingrid', 87), ('Ingrid', 94), ('Ingrid', 99), ('Ingrid', 108), ('Jerry', 141), ('Jerry', 154), ('Jerry', 166), ('Jerry', 181), ('Kevin', 87), ('Kevin', 93), ('Kevin', 103), ('Kevin', 112), ('Laura', 77), ('Laura', 84), ('Laura', 91), ('Laura', 98), ('Michael', 100), ('Michael', 112), ('Michael', 120), ('Michael', 132), ('Norbert', 99), ('Norbert', 108), ('Norbert', 117), ('Norbert', 126), ('Oliver', 130), ('Oliver', 138), ('Oliver', 155), ('Oliver', 165), ('Patricia', 141), ('Patricia', 151), ('Patricia', 167), ('Patricia', 179), ('Quinn', 55), ('Quinn', 60), ('Quinn', 65), ('Quinn', 70), ('Ray', 66), ('Ray', 72), ('Ray', 78), ('Ray', 84), ('Sarah', 110), ('Sarah', 120), ('Sarah', 130), ('Sarah', 140), ('Tim', 117), ('Tim', 126), ('Tim', 136), ('Tim', 145), ('Ursula', 46), ('Ursula', 54), ('Ursula', 55), ('Ursula', 62), ('Victor', 170), ('Victor', 182), ('Victor', 197), ('Victor', 216), ('Wendy', 98), ('Wendy', 126), ('Wendy', 224), ('Xavier', 77), ('Xavier', 84), ('Xavier', 91), ('Xavier', 98), ('Yvonne', 165), ('Yvonne', 180), ('Yvonne', 195), ('Yvonne', 210), ('Zelda', 55), ('Zelda', 60), ('Zelda', 65), ('Zelda', 70)]\n",
      "CPU times: user 3.89 s, sys: 270 ms, total: 4.16 s\n",
      "Wall time: 59.2 s\n"
     ]
    }
   ],
   "source": [
    "%%time\n",
    "# Warning, this one takes a while...\n",
    "result = js.groupby(lambda item: item['name']).starmap(lambda k, v: (k, len(v))).compute()\n",
    "print(sorted(result))"
   ]
  },
  {
   "cell_type": "code",
   "execution_count": 24,
   "metadata": {},
   "outputs": [
    {
     "name": "stdout",
     "output_type": "stream",
     "text": [
      "[('Alice', 688), ('Bob', 650), ('Charlie', 509), ('Dan', 387), ('Edith', 398), ('Frank', 250), ('George', 549), ('Hannah', 535), ('Ingrid', 388), ('Jerry', 642), ('Kevin', 395), ('Laura', 350), ('Michael', 464), ('Norbert', 450), ('Oliver', 588), ('Patricia', 638), ('Quinn', 250), ('Ray', 300), ('Sarah', 500), ('Tim', 524), ('Ursula', 217), ('Victor', 765), ('Wendy', 448), ('Xavier', 350), ('Yvonne', 750), ('Zelda', 250)]\n",
      "CPU times: user 179 ms, sys: 3.04 ms, total: 182 ms\n",
      "Wall time: 631 ms\n"
     ]
    }
   ],
   "source": [
    "%%time\n",
    "# This one is comparatively fast and produces the same result.\n",
    "from operator import add\n",
    "def incr(tot, _):\n",
    "    return tot+1\n",
    "\n",
    "result = js.foldby(key='name', \n",
    "                   binop=incr, \n",
    "                   initial=0, \n",
    "                   combine=add, \n",
    "                   combine_initial=0).compute()\n",
    "print(sorted(result))"
   ]
  },
  {
   "cell_type": "markdown",
   "metadata": {},
   "source": [
    "### Exercise: compute total amount per name"
   ]
  },
  {
   "cell_type": "markdown",
   "metadata": {},
   "source": [
    "We want to groupby (or foldby) the `name` key, then add up the all of the amounts for each name.\n",
    "\n",
    "Steps\n",
    "\n",
    "1.  Create a small function that, given a dictionary like \n",
    "\n",
    "        {'name': 'Alice', 'transactions': [{'amount': 1, 'id': 123}, {'amount': 2, 'id': 456}]}\n",
    "        \n",
    "    produces the sum of the amounts, e.g. `3`\n",
    "    \n",
    "2.  Slightly change the binary operator of the `foldby` example above so that the binary operator doesn't count the number of entries, but instead accumulates the sum of the amounts."
   ]
  },
  {
   "cell_type": "code",
   "execution_count": 25,
   "metadata": {},
   "outputs": [],
   "source": [
    "# Your code here..."
   ]
  },
  {
   "cell_type": "markdown",
   "metadata": {},
   "source": [
    "## DataFrames"
   ]
  },
  {
   "cell_type": "markdown",
   "metadata": {},
   "source": [
    "For the same reasons that Pandas is often faster than pure Python, `dask.dataframe` can be faster than `dask.bag`.  We will work more with DataFrames later, but from for the bag point of view, they are frequently the end-point of the \"messy\" part of data ingestion—once the data can be made into a data-frame, then complex split-apply-combine logic will become much more straight-forward and efficient.\n",
    "\n",
    "You can transform a bag with a simple tuple or flat dictionary structure into a `dask.dataframe` with the `to_dataframe` method."
   ]
  },
  {
   "cell_type": "code",
   "execution_count": 26,
   "metadata": {},
   "outputs": [
    {
     "data": {
      "text/html": [
       "<div>\n",
       "<style scoped>\n",
       "    .dataframe tbody tr th:only-of-type {\n",
       "        vertical-align: middle;\n",
       "    }\n",
       "\n",
       "    .dataframe tbody tr th {\n",
       "        vertical-align: top;\n",
       "    }\n",
       "\n",
       "    .dataframe thead th {\n",
       "        text-align: right;\n",
       "    }\n",
       "</style>\n",
       "<table border=\"1\" class=\"dataframe\">\n",
       "  <thead>\n",
       "    <tr style=\"text-align: right;\">\n",
       "      <th></th>\n",
       "      <th>id</th>\n",
       "      <th>name</th>\n",
       "      <th>transactions</th>\n",
       "    </tr>\n",
       "  </thead>\n",
       "  <tbody>\n",
       "    <tr>\n",
       "      <th>0</th>\n",
       "      <td>0</td>\n",
       "      <td>Jerry</td>\n",
       "      <td>[{'transaction-id': 304, 'amount': -1254}, {'t...</td>\n",
       "    </tr>\n",
       "    <tr>\n",
       "      <th>1</th>\n",
       "      <td>1</td>\n",
       "      <td>Bob</td>\n",
       "      <td>[{'transaction-id': 131, 'amount': 2}, {'trans...</td>\n",
       "    </tr>\n",
       "    <tr>\n",
       "      <th>2</th>\n",
       "      <td>2</td>\n",
       "      <td>George</td>\n",
       "      <td>[{'transaction-id': 86, 'amount': 2593}, {'tra...</td>\n",
       "    </tr>\n",
       "    <tr>\n",
       "      <th>3</th>\n",
       "      <td>3</td>\n",
       "      <td>Hannah</td>\n",
       "      <td>[{'transaction-id': 843, 'amount': 1155}, {'tr...</td>\n",
       "    </tr>\n",
       "    <tr>\n",
       "      <th>4</th>\n",
       "      <td>4</td>\n",
       "      <td>Patricia</td>\n",
       "      <td>[{'transaction-id': 557, 'amount': 207}, {'tra...</td>\n",
       "    </tr>\n",
       "  </tbody>\n",
       "</table>\n",
       "</div>"
      ],
      "text/plain": [
       "   id      name                                       transactions\n",
       "0   0     Jerry  [{'transaction-id': 304, 'amount': -1254}, {'t...\n",
       "1   1       Bob  [{'transaction-id': 131, 'amount': 2}, {'trans...\n",
       "2   2    George  [{'transaction-id': 86, 'amount': 2593}, {'tra...\n",
       "3   3    Hannah  [{'transaction-id': 843, 'amount': 1155}, {'tr...\n",
       "4   4  Patricia  [{'transaction-id': 557, 'amount': 207}, {'tra..."
      ]
     },
     "execution_count": 26,
     "metadata": {},
     "output_type": "execute_result"
    }
   ],
   "source": [
    "df1 = js.to_dataframe()\n",
    "df1.head()"
   ]
  },
  {
   "cell_type": "markdown",
   "metadata": {},
   "source": [
    "This now looks like a well-defined DataFrame, and we can apply Pandas-like computations to it efficiently."
   ]
  },
  {
   "cell_type": "markdown",
   "metadata": {},
   "source": [
    "Using a Dask DataFrame, how long does it take to do our prior computation of numbers of people with the same name?  It turns out that `dask.dataframe.groupby()` beats `dask.bag.groupby()` more than an order of magnitude; but it still cannot match `dask.bag.foldby()` for this case."
   ]
  },
  {
   "cell_type": "code",
   "execution_count": 27,
   "metadata": {},
   "outputs": [
    {
     "name": "stdout",
     "output_type": "stream",
     "text": [
      "CPU times: user 239 ms, sys: 5.03 ms, total: 244 ms\n",
      "Wall time: 1.68 s\n"
     ]
    },
    {
     "data": {
      "text/plain": [
       "name\n",
       "Alice      688\n",
       "Bob        650\n",
       "Charlie    509\n",
       "Dan        387\n",
       "Edith      398\n",
       "Name: id, dtype: int64"
      ]
     },
     "execution_count": 27,
     "metadata": {},
     "output_type": "execute_result"
    }
   ],
   "source": [
    "%time df1.groupby('name').id.count().compute().head()"
   ]
  },
  {
   "cell_type": "markdown",
   "metadata": {},
   "source": [
    "### Denormalization"
   ]
  },
  {
   "cell_type": "markdown",
   "metadata": {},
   "source": [
    "This DataFrame format is less-than-optimal because the `transactions` column is filled with nested data so Pandas has to revert to `object` dtype, which is quite slow in Pandas.  Ideally we want to transform to a dataframe only after we have flattened our data so that each record is a single `int`, `string`, `float`, etc.."
   ]
  },
  {
   "cell_type": "code",
   "execution_count": 28,
   "metadata": {},
   "outputs": [
    {
     "data": {
      "text/plain": [
       "({'id': 0, 'name': 'Jerry', 'amount': -1254, 'transaction-id': 304},\n",
       " {'id': 0, 'name': 'Jerry', 'amount': -1459, 'transaction-id': 832},\n",
       " {'id': 0, 'name': 'Jerry', 'amount': -686, 'transaction-id': 1291})"
      ]
     },
     "execution_count": 28,
     "metadata": {},
     "output_type": "execute_result"
    }
   ],
   "source": [
    "def denormalize(record):\n",
    "    # returns a list for every nested item, each transaction of each person\n",
    "    return [{'id': record['id'], \n",
    "             'name': record['name'], \n",
    "             'amount': transaction['amount'], \n",
    "             'transaction-id': transaction['transaction-id']}\n",
    "            for transaction in record['transactions']]\n",
    "\n",
    "transactions = js.map(denormalize).flatten()\n",
    "transactions.take(3)"
   ]
  },
  {
   "cell_type": "code",
   "execution_count": 29,
   "metadata": {},
   "outputs": [
    {
     "data": {
      "text/html": [
       "<div>\n",
       "<style scoped>\n",
       "    .dataframe tbody tr th:only-of-type {\n",
       "        vertical-align: middle;\n",
       "    }\n",
       "\n",
       "    .dataframe tbody tr th {\n",
       "        vertical-align: top;\n",
       "    }\n",
       "\n",
       "    .dataframe thead th {\n",
       "        text-align: right;\n",
       "    }\n",
       "</style>\n",
       "<table border=\"1\" class=\"dataframe\">\n",
       "  <thead>\n",
       "    <tr style=\"text-align: right;\">\n",
       "      <th></th>\n",
       "      <th>id</th>\n",
       "      <th>name</th>\n",
       "      <th>amount</th>\n",
       "      <th>transaction-id</th>\n",
       "    </tr>\n",
       "  </thead>\n",
       "  <tbody>\n",
       "    <tr>\n",
       "      <th>0</th>\n",
       "      <td>0</td>\n",
       "      <td>Jerry</td>\n",
       "      <td>-1254</td>\n",
       "      <td>304</td>\n",
       "    </tr>\n",
       "    <tr>\n",
       "      <th>1</th>\n",
       "      <td>0</td>\n",
       "      <td>Jerry</td>\n",
       "      <td>-1459</td>\n",
       "      <td>832</td>\n",
       "    </tr>\n",
       "    <tr>\n",
       "      <th>2</th>\n",
       "      <td>0</td>\n",
       "      <td>Jerry</td>\n",
       "      <td>-686</td>\n",
       "      <td>1291</td>\n",
       "    </tr>\n",
       "    <tr>\n",
       "      <th>3</th>\n",
       "      <td>0</td>\n",
       "      <td>Jerry</td>\n",
       "      <td>-836</td>\n",
       "      <td>1428</td>\n",
       "    </tr>\n",
       "    <tr>\n",
       "      <th>4</th>\n",
       "      <td>0</td>\n",
       "      <td>Jerry</td>\n",
       "      <td>-860</td>\n",
       "      <td>1597</td>\n",
       "    </tr>\n",
       "  </tbody>\n",
       "</table>\n",
       "</div>"
      ],
      "text/plain": [
       "   id   name  amount  transaction-id\n",
       "0   0  Jerry   -1254             304\n",
       "1   0  Jerry   -1459             832\n",
       "2   0  Jerry    -686            1291\n",
       "3   0  Jerry    -836            1428\n",
       "4   0  Jerry    -860            1597"
      ]
     },
     "execution_count": 29,
     "metadata": {},
     "output_type": "execute_result"
    }
   ],
   "source": [
    "df = transactions.to_dataframe()\n",
    "df.head()"
   ]
  },
  {
   "cell_type": "code",
   "execution_count": 30,
   "metadata": {},
   "outputs": [
    {
     "name": "stdout",
     "output_type": "stream",
     "text": [
      "CPU times: user 231 ms, sys: 6.06 ms, total: 237 ms\n",
      "Wall time: 1.5 s\n"
     ]
    },
    {
     "data": {
      "text/plain": [
       "name\n",
       "Alice       24385\n",
       "Bob         32673\n",
       "Charlie      9809\n",
       "Dan         11637\n",
       "Edith       16750\n",
       "Frank       12508\n",
       "George      25176\n",
       "Hannah      16631\n",
       "Ingrid      14547\n",
       "Jerry       26080\n",
       "Kevin       17305\n",
       "Laura       30168\n",
       "Michael     28565\n",
       "Norbert     18835\n",
       "Oliver      18438\n",
       "Patricia    23113\n",
       "Quinn        6396\n",
       "Ray         24921\n",
       "Sarah       22357\n",
       "Tim         21149\n",
       "Ursula       1688\n",
       "Victor      34689\n",
       "Wendy       17309\n",
       "Xavier       8378\n",
       "Yvonne      20648\n",
       "Zelda       15845\n",
       "Name: transaction-id, dtype: int64"
      ]
     },
     "execution_count": 30,
     "metadata": {},
     "output_type": "execute_result"
    }
   ],
   "source": [
    "%%time\n",
    "# number of transactions per name\n",
    "# note that the time here includes the data load and ingestion\n",
    "df.groupby('name')['transaction-id'].count().compute()"
   ]
  },
  {
   "cell_type": "markdown",
   "metadata": {},
   "source": [
    "## Limitations"
   ]
  },
  {
   "cell_type": "markdown",
   "metadata": {},
   "source": [
    "Bags provide very general computation (any Python function.)  This generality\n",
    "comes at cost.  Bags have the following known limitations\n",
    "\n",
    "1.  Bag operations tend to be slower than array/dataframe computations in the\n",
    "    same way that Python tends to be slower than NumPy/Pandas\n",
    "2.  ``Bag.groupby`` is slow.  You should try to use ``Bag.foldby`` if possible.\n",
    "    Using ``Bag.foldby`` requires more thought. Even better, consider creating\n",
    "    a normalised dataframe."
   ]
  },
  {
   "cell_type": "markdown",
   "metadata": {},
   "source": [
    "## Learn More\n",
    "\n",
    "* [Bag documentation](https://docs.dask.org/en/latest/bag.html)\n",
    "* [Bag screencast](https://youtu.be/-qIiJ1XtSv0)\n",
    "* [Bag API](https://docs.dask.org/en/latest/bag-api.html)\n",
    "* [Bag examples](https://examples.dask.org/bag.html)"
   ]
  },
  {
   "cell_type": "markdown",
   "metadata": {},
   "source": [
    "## Shutdown"
   ]
  },
  {
   "cell_type": "code",
   "execution_count": 31,
   "metadata": {},
   "outputs": [],
   "source": [
    "client.shutdown()"
   ]
  }
 ],
 "metadata": {
  "anaconda-cloud": {},
  "kernelspec": {
   "display_name": "Python 3",
   "language": "python",
   "name": "python3"
  },
  "language_info": {
   "codemirror_mode": {
    "name": "ipython",
    "version": 3
   },
   "file_extension": ".py",
   "mimetype": "text/x-python",
   "name": "python",
   "nbconvert_exporter": "python",
   "pygments_lexer": "ipython3",
   "version": "3.7.6"
  }
 },
 "nbformat": 4,
 "nbformat_minor": 4
}
