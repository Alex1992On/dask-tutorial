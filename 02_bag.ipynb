{
 "cells": [
  {
   "cell_type": "markdown",
   "metadata": {},
   "source": [
    "<img src=\"images/dask_horizontal.svg\" align=\"right\" width=\"30%\">"
   ]
  },
  {
   "cell_type": "markdown",
   "metadata": {},
   "source": [
    "# Bag: Parallel Lists for semi-structured data"
   ]
  },
  {
   "cell_type": "markdown",
   "metadata": {},
   "source": [
    "Dask-bag excels in processing data that can be represented as a sequence of arbitrary inputs. We'll refer to this as \"messy\" data, because it can contain complex nested structures, missing fields, mixtures of data types, etc. The *functional* programming style fits very nicely with standard Python iteration, such as can be found in the `itertools` module.\n",
    "\n",
    "Messy data is often encountered at the beginning of data processing pipelines when large volumes of raw data are first consumed. The initial set of data might be JSON, CSV, XML, or any other format that does not enforce strict structure and datatypes.\n",
    "For this reason, the initial data massaging and processing is often done with Python `list`s, `dict`s, and `set`s.\n",
    "\n",
    "These core data structures are optimized for general-purpose storage and processing.  Adding streaming computation with iterators/generator expressions or libraries like `itertools` or [`toolz`](https://toolz.readthedocs.io/en/latest/) let us process large volumes in a small space.  If we combine this with parallel processing then we can churn through a fair amount of data.\n",
    "\n",
    "Dask.bag is a high level Dask collection to automate common workloads of this form.  In a nutshell\n",
    "\n",
    "    dask.bag = map, filter, toolz + parallel execution\n",
    "    \n",
    "**Related Documentation**\n",
    "\n",
    "* [Bag documentation](https://docs.dask.org/en/latest/bag.html)\n",
    "* [Bag screencast](https://youtu.be/-qIiJ1XtSv0)\n",
    "* [Bag API](https://docs.dask.org/en/latest/bag-api.html)\n",
    "* [Bag examples](https://examples.dask.org/bag.html)"
   ]
  },
  {
   "cell_type": "markdown",
   "metadata": {},
   "source": [
    "## Create data"
   ]
  },
  {
   "cell_type": "code",
   "execution_count": 1,
   "metadata": {
    "execution": {
     "iopub.execute_input": "2020-09-11T20:55:45.890769Z",
     "iopub.status.busy": "2020-09-11T20:55:45.890139Z",
     "iopub.status.idle": "2020-09-11T20:55:46.389530Z",
     "shell.execute_reply": "2020-09-11T20:55:46.388729Z"
    }
   },
   "outputs": [],
   "source": [
    "%run prep.py -d accounts"
   ]
  },
  {
   "cell_type": "markdown",
   "metadata": {},
   "source": [
    "## Setup"
   ]
  },
  {
   "cell_type": "markdown",
   "metadata": {},
   "source": [
    "Again, we'll use the distributed scheduler. Schedulers will be explained in depth [later](05_distributed.ipynb)."
   ]
  },
  {
   "cell_type": "code",
   "execution_count": 2,
   "metadata": {
    "execution": {
     "iopub.execute_input": "2020-09-11T20:55:46.393302Z",
     "iopub.status.busy": "2020-09-11T20:55:46.392447Z",
     "iopub.status.idle": "2020-09-11T20:55:48.283679Z",
     "shell.execute_reply": "2020-09-11T20:55:48.283312Z"
    }
   },
   "outputs": [],
   "source": [
    "from dask.distributed import Client\n",
    "\n",
    "client = Client(n_workers=4)"
   ]
  },
  {
   "cell_type": "markdown",
   "metadata": {},
   "source": [
    "## Creation"
   ]
  },
  {
   "cell_type": "markdown",
   "metadata": {},
   "source": [
    "You can create a `Bag` from a Python sequence, from files, from data on S3, etc.\n",
    "We demonstrate using `.take()` to show elements of the data. (Doing `.take(1)` results in a tuple with one element)\n",
    "\n",
    "Note that the data are partitioned into blocks, and there are many items per block. In the first example, the two partitions contain five elements each, and in the following two, each file is partitioned into one or more bytes blocks."
   ]
  },
  {
   "cell_type": "code",
   "execution_count": 3,
   "metadata": {
    "execution": {
     "iopub.execute_input": "2020-09-11T20:55:48.290021Z",
     "iopub.status.busy": "2020-09-11T20:55:48.287837Z",
     "iopub.status.idle": "2020-09-11T20:55:48.333721Z",
     "shell.execute_reply": "2020-09-11T20:55:48.333359Z"
    }
   },
   "outputs": [
    {
     "data": {
      "text/plain": [
       "(1, 2, 3)"
      ]
     },
     "execution_count": 3,
     "metadata": {},
     "output_type": "execute_result"
    }
   ],
   "source": [
    "# each element is an integer\n",
    "import dask.bag as db\n",
    "b = db.from_sequence([1, 2, 3, 4, 5, 6, 7, 8, 9, 10], npartitions=2)\n",
    "b.take(3)"
   ]
  },
  {
   "cell_type": "code",
   "execution_count": 4,
   "metadata": {
    "execution": {
     "iopub.execute_input": "2020-09-11T20:55:48.339030Z",
     "iopub.status.busy": "2020-09-11T20:55:48.337592Z",
     "iopub.status.idle": "2020-09-11T20:55:48.363305Z",
     "shell.execute_reply": "2020-09-11T20:55:48.362954Z"
    }
   },
   "outputs": [
    {
     "data": {
      "text/plain": [
       "('{\"id\": 0, \"name\": \"Alice\", \"transactions\": [{\"transaction-id\": 26, \"amount\": -90}, {\"transaction-id\": 29, \"amount\": -103}, {\"transaction-id\": 381, \"amount\": -4}, {\"transaction-id\": 471, \"amount\": 9}, {\"transaction-id\": 492, \"amount\": -38}, {\"transaction-id\": 1125, \"amount\": -7}, {\"transaction-id\": 1132, \"amount\": -43}, {\"transaction-id\": 1482, \"amount\": -41}, {\"transaction-id\": 1775, \"amount\": -19}, {\"transaction-id\": 1823, \"amount\": -33}, {\"transaction-id\": 1950, \"amount\": 59}, {\"transaction-id\": 2409, \"amount\": -22}, {\"transaction-id\": 2502, \"amount\": -50}, {\"transaction-id\": 2643, \"amount\": 5}, {\"transaction-id\": 2664, \"amount\": -103}, {\"transaction-id\": 2876, \"amount\": 5}, {\"transaction-id\": 3301, \"amount\": -80}, {\"transaction-id\": 3604, \"amount\": 28}, {\"transaction-id\": 4504, \"amount\": -56}, {\"transaction-id\": 4559, \"amount\": 10}, {\"transaction-id\": 4777, \"amount\": -67}, {\"transaction-id\": 5013, \"amount\": -44}, {\"transaction-id\": 5024, \"amount\": -40}, {\"transaction-id\": 5028, \"amount\": 41}, {\"transaction-id\": 5247, \"amount\": -93}, {\"transaction-id\": 5391, \"amount\": -148}, {\"transaction-id\": 5396, \"amount\": -143}, {\"transaction-id\": 5540, \"amount\": -32}, {\"transaction-id\": 5722, \"amount\": 13}, {\"transaction-id\": 6027, \"amount\": -101}, {\"transaction-id\": 6076, \"amount\": -49}, {\"transaction-id\": 6356, \"amount\": -25}, {\"transaction-id\": 6545, \"amount\": -86}, {\"transaction-id\": 6583, \"amount\": -31}, {\"transaction-id\": 6652, \"amount\": -114}, {\"transaction-id\": 6750, \"amount\": -185}, {\"transaction-id\": 6899, \"amount\": -2}, {\"transaction-id\": 6930, \"amount\": 45}, {\"transaction-id\": 7243, \"amount\": 8}, {\"transaction-id\": 7320, \"amount\": -62}, {\"transaction-id\": 7532, \"amount\": -9}, {\"transaction-id\": 7771, \"amount\": 59}, {\"transaction-id\": 7913, \"amount\": -40}, {\"transaction-id\": 7916, \"amount\": -157}, {\"transaction-id\": 7944, \"amount\": -35}, {\"transaction-id\": 8157, \"amount\": 93}, {\"transaction-id\": 8341, \"amount\": -73}, {\"transaction-id\": 8630, \"amount\": -64}, {\"transaction-id\": 8919, \"amount\": -7}, {\"transaction-id\": 8976, \"amount\": -76}, {\"transaction-id\": 9058, \"amount\": -29}, {\"transaction-id\": 9092, \"amount\": -13}, {\"transaction-id\": 9194, \"amount\": -107}, {\"transaction-id\": 9380, \"amount\": 2}, {\"transaction-id\": 9582, \"amount\": -95}, {\"transaction-id\": 9765, \"amount\": -15}]}\\n',)"
      ]
     },
     "execution_count": 4,
     "metadata": {},
     "output_type": "execute_result"
    }
   ],
   "source": [
    "# each element is a text file, where each line is a JSON object\n",
    "# note that the compression is handled automatically\n",
    "import os\n",
    "b = db.read_text(os.path.join('data', 'accounts.*.json.gz'))\n",
    "b.take(1)"
   ]
  },
  {
   "cell_type": "code",
   "execution_count": 5,
   "metadata": {
    "execution": {
     "iopub.execute_input": "2020-09-11T20:55:48.367291Z",
     "iopub.status.busy": "2020-09-11T20:55:48.366863Z",
     "iopub.status.idle": "2020-09-11T20:55:48.368819Z",
     "shell.execute_reply": "2020-09-11T20:55:48.369168Z"
    }
   },
   "outputs": [
    {
     "data": {
      "text/plain": [
       "'s3://dask-data/nyc-taxi/2015/yellow_tripdata_2015-01.csv'"
      ]
     },
     "execution_count": 5,
     "metadata": {},
     "output_type": "execute_result"
    }
   ],
   "source": [
    "# Edit sources.py to configure source locations\n",
    "import sources\n",
    "sources.bag_url"
   ]
  },
  {
   "cell_type": "code",
   "execution_count": 6,
   "metadata": {
    "execution": {
     "iopub.execute_input": "2020-09-11T20:55:48.373500Z",
     "iopub.status.busy": "2020-09-11T20:55:48.372919Z",
     "iopub.status.idle": "2020-09-11T20:55:49.441315Z",
     "shell.execute_reply": "2020-09-11T20:55:49.441850Z"
    }
   },
   "outputs": [
    {
     "data": {
      "text/plain": [
       "('VendorID,tpep_pickup_datetime,tpep_dropoff_datetime,passenger_count,trip_distance,pickup_longitude,pickup_latitude,RateCodeID,store_and_fwd_flag,dropoff_longitude,dropoff_latitude,payment_type,fare_amount,extra,mta_tax,tip_amount,tolls_amount,improvement_surcharge,total_amount\\n',)"
      ]
     },
     "execution_count": 6,
     "metadata": {},
     "output_type": "execute_result"
    }
   ],
   "source": [
    "# Requires `s3fs` library\n",
    "# each partition is a remote CSV text file\n",
    "b = db.read_text(sources.bag_url,\n",
    "                 storage_options={'anon': True})\n",
    "b.take(1)"
   ]
  },
  {
   "cell_type": "markdown",
   "metadata": {},
   "source": [
    "## Manipulation"
   ]
  },
  {
   "cell_type": "markdown",
   "metadata": {},
   "source": [
    "`Bag` objects hold the standard functional API found in projects like the Python standard library, `toolz`, or `pyspark`, including `map`, `filter`, `groupby`, etc..\n",
    "\n",
    "Operations on `Bag` objects create new bags.  Call the `.compute()` method to trigger execution, as we saw for `Delayed` objects.  "
   ]
  },
  {
   "cell_type": "code",
   "execution_count": 7,
   "metadata": {
    "execution": {
     "iopub.execute_input": "2020-09-11T20:55:49.446997Z",
     "iopub.status.busy": "2020-09-11T20:55:49.446523Z",
     "iopub.status.idle": "2020-09-11T20:55:49.451263Z",
     "shell.execute_reply": "2020-09-11T20:55:49.450899Z"
    }
   },
   "outputs": [
    {
     "data": {
      "text/plain": [
       "dask.bag<lambda, npartitions=10>"
      ]
     },
     "execution_count": 7,
     "metadata": {},
     "output_type": "execute_result"
    }
   ],
   "source": [
    "def is_even(n):\n",
    "    return n % 2 == 0\n",
    "\n",
    "b = db.from_sequence([1, 2, 3, 4, 5, 6, 7, 8, 9, 10])\n",
    "c = b.filter(is_even).map(lambda x: x ** 2)\n",
    "c"
   ]
  },
  {
   "cell_type": "code",
   "execution_count": 8,
   "metadata": {
    "execution": {
     "iopub.execute_input": "2020-09-11T20:55:49.456275Z",
     "iopub.status.busy": "2020-09-11T20:55:49.455463Z",
     "iopub.status.idle": "2020-09-11T20:55:49.534100Z",
     "shell.execute_reply": "2020-09-11T20:55:49.534481Z"
    }
   },
   "outputs": [
    {
     "data": {
      "text/plain": [
       "[4, 16, 36, 64, 100]"
      ]
     },
     "execution_count": 8,
     "metadata": {},
     "output_type": "execute_result"
    }
   ],
   "source": [
    "# blocking form: wait for completion (which is very fast in this case)\n",
    "c.compute()"
   ]
  },
  {
   "cell_type": "markdown",
   "metadata": {},
   "source": [
    "### Example: Accounts JSON data"
   ]
  },
  {
   "cell_type": "markdown",
   "metadata": {},
   "source": [
    "We've created a fake dataset of gzipped JSON data in your data directory.  This is like the example used in the `DataFrame` example we will see later, except that it has bundled up all of the entires for each individual `id` into a single record.  This is similar to data that you might collect off of a document store database or a web API.\n",
    "\n",
    "Each line is a JSON encoded dictionary with the following keys\n",
    "\n",
    "*  id: Unique identifier of the customer\n",
    "*  name: Name of the customer\n",
    "*  transactions: List of `transaction-id`, `amount` pairs, one for each transaction for the customer in that file"
   ]
  },
  {
   "cell_type": "code",
   "execution_count": 9,
   "metadata": {
    "execution": {
     "iopub.execute_input": "2020-09-11T20:55:49.538422Z",
     "iopub.status.busy": "2020-09-11T20:55:49.536416Z",
     "iopub.status.idle": "2020-09-11T20:55:49.565899Z",
     "shell.execute_reply": "2020-09-11T20:55:49.566282Z"
    }
   },
   "outputs": [
    {
     "data": {
      "text/plain": [
       "('{\"id\": 0, \"name\": \"Alice\", \"transactions\": [{\"transaction-id\": 26, \"amount\": -90}, {\"transaction-id\": 29, \"amount\": -103}, {\"transaction-id\": 381, \"amount\": -4}, {\"transaction-id\": 471, \"amount\": 9}, {\"transaction-id\": 492, \"amount\": -38}, {\"transaction-id\": 1125, \"amount\": -7}, {\"transaction-id\": 1132, \"amount\": -43}, {\"transaction-id\": 1482, \"amount\": -41}, {\"transaction-id\": 1775, \"amount\": -19}, {\"transaction-id\": 1823, \"amount\": -33}, {\"transaction-id\": 1950, \"amount\": 59}, {\"transaction-id\": 2409, \"amount\": -22}, {\"transaction-id\": 2502, \"amount\": -50}, {\"transaction-id\": 2643, \"amount\": 5}, {\"transaction-id\": 2664, \"amount\": -103}, {\"transaction-id\": 2876, \"amount\": 5}, {\"transaction-id\": 3301, \"amount\": -80}, {\"transaction-id\": 3604, \"amount\": 28}, {\"transaction-id\": 4504, \"amount\": -56}, {\"transaction-id\": 4559, \"amount\": 10}, {\"transaction-id\": 4777, \"amount\": -67}, {\"transaction-id\": 5013, \"amount\": -44}, {\"transaction-id\": 5024, \"amount\": -40}, {\"transaction-id\": 5028, \"amount\": 41}, {\"transaction-id\": 5247, \"amount\": -93}, {\"transaction-id\": 5391, \"amount\": -148}, {\"transaction-id\": 5396, \"amount\": -143}, {\"transaction-id\": 5540, \"amount\": -32}, {\"transaction-id\": 5722, \"amount\": 13}, {\"transaction-id\": 6027, \"amount\": -101}, {\"transaction-id\": 6076, \"amount\": -49}, {\"transaction-id\": 6356, \"amount\": -25}, {\"transaction-id\": 6545, \"amount\": -86}, {\"transaction-id\": 6583, \"amount\": -31}, {\"transaction-id\": 6652, \"amount\": -114}, {\"transaction-id\": 6750, \"amount\": -185}, {\"transaction-id\": 6899, \"amount\": -2}, {\"transaction-id\": 6930, \"amount\": 45}, {\"transaction-id\": 7243, \"amount\": 8}, {\"transaction-id\": 7320, \"amount\": -62}, {\"transaction-id\": 7532, \"amount\": -9}, {\"transaction-id\": 7771, \"amount\": 59}, {\"transaction-id\": 7913, \"amount\": -40}, {\"transaction-id\": 7916, \"amount\": -157}, {\"transaction-id\": 7944, \"amount\": -35}, {\"transaction-id\": 8157, \"amount\": 93}, {\"transaction-id\": 8341, \"amount\": -73}, {\"transaction-id\": 8630, \"amount\": -64}, {\"transaction-id\": 8919, \"amount\": -7}, {\"transaction-id\": 8976, \"amount\": -76}, {\"transaction-id\": 9058, \"amount\": -29}, {\"transaction-id\": 9092, \"amount\": -13}, {\"transaction-id\": 9194, \"amount\": -107}, {\"transaction-id\": 9380, \"amount\": 2}, {\"transaction-id\": 9582, \"amount\": -95}, {\"transaction-id\": 9765, \"amount\": -15}]}\\n',\n",
       " '{\"id\": 1, \"name\": \"Yvonne\", \"transactions\": [{\"transaction-id\": 62, \"amount\": 954}, {\"transaction-id\": 830, \"amount\": 986}, {\"transaction-id\": 2442, \"amount\": 916}, {\"transaction-id\": 5451, \"amount\": 982}, {\"transaction-id\": 7778, \"amount\": 911}, {\"transaction-id\": 8697, \"amount\": 964}]}\\n',\n",
       " '{\"id\": 2, \"name\": \"Laura\", \"transactions\": [{\"transaction-id\": 1574, \"amount\": 197}, {\"transaction-id\": 2824, \"amount\": 236}, {\"transaction-id\": 4268, \"amount\": 281}, {\"transaction-id\": 5004, \"amount\": 252}, {\"transaction-id\": 6955, \"amount\": 203}, {\"transaction-id\": 7664, \"amount\": 274}, {\"transaction-id\": 8302, \"amount\": 169}, {\"transaction-id\": 8696, \"amount\": 258}, {\"transaction-id\": 8966, \"amount\": 225}, {\"transaction-id\": 9227, \"amount\": 197}]}\\n')"
      ]
     },
     "execution_count": 9,
     "metadata": {},
     "output_type": "execute_result"
    }
   ],
   "source": [
    "filename = os.path.join('data', 'accounts.*.json.gz')\n",
    "lines = db.read_text(filename)\n",
    "lines.take(3)"
   ]
  },
  {
   "cell_type": "markdown",
   "metadata": {},
   "source": [
    "Our data comes out of the file as lines of text. Notice that file decompression happened automatically. We can make this data look more reasonable by mapping the `json.loads` function onto our bag."
   ]
  },
  {
   "cell_type": "code",
   "execution_count": 10,
   "metadata": {
    "execution": {
     "iopub.execute_input": "2020-09-11T20:55:49.570420Z",
     "iopub.status.busy": "2020-09-11T20:55:49.570025Z",
     "iopub.status.idle": "2020-09-11T20:55:49.591710Z",
     "shell.execute_reply": "2020-09-11T20:55:49.592097Z"
    }
   },
   "outputs": [
    {
     "data": {
      "text/plain": [
       "({'id': 0,\n",
       "  'name': 'Alice',\n",
       "  'transactions': [{'transaction-id': 26, 'amount': -90},\n",
       "   {'transaction-id': 29, 'amount': -103},\n",
       "   {'transaction-id': 381, 'amount': -4},\n",
       "   {'transaction-id': 471, 'amount': 9},\n",
       "   {'transaction-id': 492, 'amount': -38},\n",
       "   {'transaction-id': 1125, 'amount': -7},\n",
       "   {'transaction-id': 1132, 'amount': -43},\n",
       "   {'transaction-id': 1482, 'amount': -41},\n",
       "   {'transaction-id': 1775, 'amount': -19},\n",
       "   {'transaction-id': 1823, 'amount': -33},\n",
       "   {'transaction-id': 1950, 'amount': 59},\n",
       "   {'transaction-id': 2409, 'amount': -22},\n",
       "   {'transaction-id': 2502, 'amount': -50},\n",
       "   {'transaction-id': 2643, 'amount': 5},\n",
       "   {'transaction-id': 2664, 'amount': -103},\n",
       "   {'transaction-id': 2876, 'amount': 5},\n",
       "   {'transaction-id': 3301, 'amount': -80},\n",
       "   {'transaction-id': 3604, 'amount': 28},\n",
       "   {'transaction-id': 4504, 'amount': -56},\n",
       "   {'transaction-id': 4559, 'amount': 10},\n",
       "   {'transaction-id': 4777, 'amount': -67},\n",
       "   {'transaction-id': 5013, 'amount': -44},\n",
       "   {'transaction-id': 5024, 'amount': -40},\n",
       "   {'transaction-id': 5028, 'amount': 41},\n",
       "   {'transaction-id': 5247, 'amount': -93},\n",
       "   {'transaction-id': 5391, 'amount': -148},\n",
       "   {'transaction-id': 5396, 'amount': -143},\n",
       "   {'transaction-id': 5540, 'amount': -32},\n",
       "   {'transaction-id': 5722, 'amount': 13},\n",
       "   {'transaction-id': 6027, 'amount': -101},\n",
       "   {'transaction-id': 6076, 'amount': -49},\n",
       "   {'transaction-id': 6356, 'amount': -25},\n",
       "   {'transaction-id': 6545, 'amount': -86},\n",
       "   {'transaction-id': 6583, 'amount': -31},\n",
       "   {'transaction-id': 6652, 'amount': -114},\n",
       "   {'transaction-id': 6750, 'amount': -185},\n",
       "   {'transaction-id': 6899, 'amount': -2},\n",
       "   {'transaction-id': 6930, 'amount': 45},\n",
       "   {'transaction-id': 7243, 'amount': 8},\n",
       "   {'transaction-id': 7320, 'amount': -62},\n",
       "   {'transaction-id': 7532, 'amount': -9},\n",
       "   {'transaction-id': 7771, 'amount': 59},\n",
       "   {'transaction-id': 7913, 'amount': -40},\n",
       "   {'transaction-id': 7916, 'amount': -157},\n",
       "   {'transaction-id': 7944, 'amount': -35},\n",
       "   {'transaction-id': 8157, 'amount': 93},\n",
       "   {'transaction-id': 8341, 'amount': -73},\n",
       "   {'transaction-id': 8630, 'amount': -64},\n",
       "   {'transaction-id': 8919, 'amount': -7},\n",
       "   {'transaction-id': 8976, 'amount': -76},\n",
       "   {'transaction-id': 9058, 'amount': -29},\n",
       "   {'transaction-id': 9092, 'amount': -13},\n",
       "   {'transaction-id': 9194, 'amount': -107},\n",
       "   {'transaction-id': 9380, 'amount': 2},\n",
       "   {'transaction-id': 9582, 'amount': -95},\n",
       "   {'transaction-id': 9765, 'amount': -15}]},\n",
       " {'id': 1,\n",
       "  'name': 'Yvonne',\n",
       "  'transactions': [{'transaction-id': 62, 'amount': 954},\n",
       "   {'transaction-id': 830, 'amount': 986},\n",
       "   {'transaction-id': 2442, 'amount': 916},\n",
       "   {'transaction-id': 5451, 'amount': 982},\n",
       "   {'transaction-id': 7778, 'amount': 911},\n",
       "   {'transaction-id': 8697, 'amount': 964}]},\n",
       " {'id': 2,\n",
       "  'name': 'Laura',\n",
       "  'transactions': [{'transaction-id': 1574, 'amount': 197},\n",
       "   {'transaction-id': 2824, 'amount': 236},\n",
       "   {'transaction-id': 4268, 'amount': 281},\n",
       "   {'transaction-id': 5004, 'amount': 252},\n",
       "   {'transaction-id': 6955, 'amount': 203},\n",
       "   {'transaction-id': 7664, 'amount': 274},\n",
       "   {'transaction-id': 8302, 'amount': 169},\n",
       "   {'transaction-id': 8696, 'amount': 258},\n",
       "   {'transaction-id': 8966, 'amount': 225},\n",
       "   {'transaction-id': 9227, 'amount': 197}]})"
      ]
     },
     "execution_count": 10,
     "metadata": {},
     "output_type": "execute_result"
    }
   ],
   "source": [
    "import json\n",
    "js = lines.map(json.loads)\n",
    "# take: inspect first few elements\n",
    "js.take(3)"
   ]
  },
  {
   "cell_type": "markdown",
   "metadata": {},
   "source": [
    "### Basic Queries"
   ]
  },
  {
   "cell_type": "markdown",
   "metadata": {},
   "source": [
    "Once we parse our JSON data into proper Python objects (`dict`s, `list`s, etc.) we can perform more interesting queries by creating small Python functions to run on our data."
   ]
  },
  {
   "cell_type": "code",
   "execution_count": 11,
   "metadata": {
    "execution": {
     "iopub.execute_input": "2020-09-11T20:55:49.597557Z",
     "iopub.status.busy": "2020-09-11T20:55:49.597008Z",
     "iopub.status.idle": "2020-09-11T20:55:49.632382Z",
     "shell.execute_reply": "2020-09-11T20:55:49.632678Z"
    }
   },
   "outputs": [
    {
     "data": {
      "text/plain": [
       "({'id': 0,\n",
       "  'name': 'Alice',\n",
       "  'transactions': [{'transaction-id': 26, 'amount': -90},\n",
       "   {'transaction-id': 29, 'amount': -103},\n",
       "   {'transaction-id': 381, 'amount': -4},\n",
       "   {'transaction-id': 471, 'amount': 9},\n",
       "   {'transaction-id': 492, 'amount': -38},\n",
       "   {'transaction-id': 1125, 'amount': -7},\n",
       "   {'transaction-id': 1132, 'amount': -43},\n",
       "   {'transaction-id': 1482, 'amount': -41},\n",
       "   {'transaction-id': 1775, 'amount': -19},\n",
       "   {'transaction-id': 1823, 'amount': -33},\n",
       "   {'transaction-id': 1950, 'amount': 59},\n",
       "   {'transaction-id': 2409, 'amount': -22},\n",
       "   {'transaction-id': 2502, 'amount': -50},\n",
       "   {'transaction-id': 2643, 'amount': 5},\n",
       "   {'transaction-id': 2664, 'amount': -103},\n",
       "   {'transaction-id': 2876, 'amount': 5},\n",
       "   {'transaction-id': 3301, 'amount': -80},\n",
       "   {'transaction-id': 3604, 'amount': 28},\n",
       "   {'transaction-id': 4504, 'amount': -56},\n",
       "   {'transaction-id': 4559, 'amount': 10},\n",
       "   {'transaction-id': 4777, 'amount': -67},\n",
       "   {'transaction-id': 5013, 'amount': -44},\n",
       "   {'transaction-id': 5024, 'amount': -40},\n",
       "   {'transaction-id': 5028, 'amount': 41},\n",
       "   {'transaction-id': 5247, 'amount': -93},\n",
       "   {'transaction-id': 5391, 'amount': -148},\n",
       "   {'transaction-id': 5396, 'amount': -143},\n",
       "   {'transaction-id': 5540, 'amount': -32},\n",
       "   {'transaction-id': 5722, 'amount': 13},\n",
       "   {'transaction-id': 6027, 'amount': -101},\n",
       "   {'transaction-id': 6076, 'amount': -49},\n",
       "   {'transaction-id': 6356, 'amount': -25},\n",
       "   {'transaction-id': 6545, 'amount': -86},\n",
       "   {'transaction-id': 6583, 'amount': -31},\n",
       "   {'transaction-id': 6652, 'amount': -114},\n",
       "   {'transaction-id': 6750, 'amount': -185},\n",
       "   {'transaction-id': 6899, 'amount': -2},\n",
       "   {'transaction-id': 6930, 'amount': 45},\n",
       "   {'transaction-id': 7243, 'amount': 8},\n",
       "   {'transaction-id': 7320, 'amount': -62},\n",
       "   {'transaction-id': 7532, 'amount': -9},\n",
       "   {'transaction-id': 7771, 'amount': 59},\n",
       "   {'transaction-id': 7913, 'amount': -40},\n",
       "   {'transaction-id': 7916, 'amount': -157},\n",
       "   {'transaction-id': 7944, 'amount': -35},\n",
       "   {'transaction-id': 8157, 'amount': 93},\n",
       "   {'transaction-id': 8341, 'amount': -73},\n",
       "   {'transaction-id': 8630, 'amount': -64},\n",
       "   {'transaction-id': 8919, 'amount': -7},\n",
       "   {'transaction-id': 8976, 'amount': -76},\n",
       "   {'transaction-id': 9058, 'amount': -29},\n",
       "   {'transaction-id': 9092, 'amount': -13},\n",
       "   {'transaction-id': 9194, 'amount': -107},\n",
       "   {'transaction-id': 9380, 'amount': 2},\n",
       "   {'transaction-id': 9582, 'amount': -95},\n",
       "   {'transaction-id': 9765, 'amount': -15}]},\n",
       " {'id': 31,\n",
       "  'name': 'Alice',\n",
       "  'transactions': [{'transaction-id': 463, 'amount': 293},\n",
       "   {'transaction-id': 612, 'amount': 309},\n",
       "   {'transaction-id': 653, 'amount': 286},\n",
       "   {'transaction-id': 699, 'amount': 312},\n",
       "   {'transaction-id': 763, 'amount': 291},\n",
       "   {'transaction-id': 797, 'amount': 317},\n",
       "   {'transaction-id': 1049, 'amount': 298},\n",
       "   {'transaction-id': 1204, 'amount': 287},\n",
       "   {'transaction-id': 1214, 'amount': 293},\n",
       "   {'transaction-id': 1260, 'amount': 287},\n",
       "   {'transaction-id': 1308, 'amount': 294},\n",
       "   {'transaction-id': 1455, 'amount': 313},\n",
       "   {'transaction-id': 1590, 'amount': 278},\n",
       "   {'transaction-id': 1648, 'amount': 286},\n",
       "   {'transaction-id': 2032, 'amount': 291},\n",
       "   {'transaction-id': 2101, 'amount': 287},\n",
       "   {'transaction-id': 2407, 'amount': 301},\n",
       "   {'transaction-id': 2475, 'amount': 329},\n",
       "   {'transaction-id': 2731, 'amount': 312},\n",
       "   {'transaction-id': 2747, 'amount': 318},\n",
       "   {'transaction-id': 2832, 'amount': 299},\n",
       "   {'transaction-id': 2906, 'amount': 268},\n",
       "   {'transaction-id': 3053, 'amount': 299},\n",
       "   {'transaction-id': 3121, 'amount': 327},\n",
       "   {'transaction-id': 3279, 'amount': 311},\n",
       "   {'transaction-id': 3388, 'amount': 316},\n",
       "   {'transaction-id': 3437, 'amount': 311},\n",
       "   {'transaction-id': 3487, 'amount': 255},\n",
       "   {'transaction-id': 3576, 'amount': 317},\n",
       "   {'transaction-id': 3590, 'amount': 285},\n",
       "   {'transaction-id': 3599, 'amount': 298},\n",
       "   {'transaction-id': 3725, 'amount': 286},\n",
       "   {'transaction-id': 3785, 'amount': 309},\n",
       "   {'transaction-id': 3860, 'amount': 307},\n",
       "   {'transaction-id': 3882, 'amount': 296},\n",
       "   {'transaction-id': 4073, 'amount': 293},\n",
       "   {'transaction-id': 4192, 'amount': 291},\n",
       "   {'transaction-id': 4342, 'amount': 315},\n",
       "   {'transaction-id': 4343, 'amount': 283},\n",
       "   {'transaction-id': 4540, 'amount': 296},\n",
       "   {'transaction-id': 4567, 'amount': 298},\n",
       "   {'transaction-id': 4837, 'amount': 293},\n",
       "   {'transaction-id': 4877, 'amount': 264},\n",
       "   {'transaction-id': 4949, 'amount': 290},\n",
       "   {'transaction-id': 5038, 'amount': 304},\n",
       "   {'transaction-id': 5333, 'amount': 264},\n",
       "   {'transaction-id': 5636, 'amount': 318},\n",
       "   {'transaction-id': 5662, 'amount': 287},\n",
       "   {'transaction-id': 5925, 'amount': 271},\n",
       "   {'transaction-id': 5929, 'amount': 296},\n",
       "   {'transaction-id': 5931, 'amount': 308},\n",
       "   {'transaction-id': 5961, 'amount': 318},\n",
       "   {'transaction-id': 6365, 'amount': 324},\n",
       "   {'transaction-id': 6714, 'amount': 297},\n",
       "   {'transaction-id': 6721, 'amount': 282},\n",
       "   {'transaction-id': 6837, 'amount': 284},\n",
       "   {'transaction-id': 6902, 'amount': 322},\n",
       "   {'transaction-id': 7059, 'amount': 264},\n",
       "   {'transaction-id': 7087, 'amount': 254},\n",
       "   {'transaction-id': 7115, 'amount': 300},\n",
       "   {'transaction-id': 7141, 'amount': 297},\n",
       "   {'transaction-id': 7461, 'amount': 284},\n",
       "   {'transaction-id': 7844, 'amount': 293},\n",
       "   {'transaction-id': 7884, 'amount': 304},\n",
       "   {'transaction-id': 7901, 'amount': 316},\n",
       "   {'transaction-id': 8369, 'amount': 302},\n",
       "   {'transaction-id': 8389, 'amount': 311},\n",
       "   {'transaction-id': 8517, 'amount': 291},\n",
       "   {'transaction-id': 8530, 'amount': 279},\n",
       "   {'transaction-id': 8556, 'amount': 264},\n",
       "   {'transaction-id': 8654, 'amount': 300},\n",
       "   {'transaction-id': 8663, 'amount': 285},\n",
       "   {'transaction-id': 8683, 'amount': 265},\n",
       "   {'transaction-id': 9217, 'amount': 316},\n",
       "   {'transaction-id': 9276, 'amount': 289},\n",
       "   {'transaction-id': 9417, 'amount': 287},\n",
       "   {'transaction-id': 9452, 'amount': 318},\n",
       "   {'transaction-id': 9545, 'amount': 277},\n",
       "   {'transaction-id': 9547, 'amount': 255},\n",
       "   {'transaction-id': 9668, 'amount': 307},\n",
       "   {'transaction-id': 9881, 'amount': 276}]},\n",
       " {'id': 42,\n",
       "  'name': 'Alice',\n",
       "  'transactions': [{'transaction-id': 150, 'amount': 1287},\n",
       "   {'transaction-id': 785, 'amount': 1182},\n",
       "   {'transaction-id': 1402, 'amount': 1285},\n",
       "   {'transaction-id': 1613, 'amount': 1078},\n",
       "   {'transaction-id': 1672, 'amount': 1323},\n",
       "   {'transaction-id': 1959, 'amount': 1445},\n",
       "   {'transaction-id': 2173, 'amount': 1176},\n",
       "   {'transaction-id': 2295, 'amount': 1121},\n",
       "   {'transaction-id': 2370, 'amount': 1347},\n",
       "   {'transaction-id': 2627, 'amount': 1277},\n",
       "   {'transaction-id': 2678, 'amount': 1298},\n",
       "   {'transaction-id': 2692, 'amount': 1274},\n",
       "   {'transaction-id': 2765, 'amount': 1332},\n",
       "   {'transaction-id': 2807, 'amount': 1271},\n",
       "   {'transaction-id': 2860, 'amount': 1115},\n",
       "   {'transaction-id': 3172, 'amount': 1174},\n",
       "   {'transaction-id': 4295, 'amount': 1313},\n",
       "   {'transaction-id': 4344, 'amount': 1161},\n",
       "   {'transaction-id': 4581, 'amount': 1214},\n",
       "   {'transaction-id': 5008, 'amount': 1216},\n",
       "   {'transaction-id': 5184, 'amount': 1298},\n",
       "   {'transaction-id': 5488, 'amount': 1404},\n",
       "   {'transaction-id': 5568, 'amount': 1127},\n",
       "   {'transaction-id': 5841, 'amount': 1316},\n",
       "   {'transaction-id': 6079, 'amount': 1217},\n",
       "   {'transaction-id': 6396, 'amount': 1141},\n",
       "   {'transaction-id': 7201, 'amount': 1243},\n",
       "   {'transaction-id': 7250, 'amount': 1208},\n",
       "   {'transaction-id': 7453, 'amount': 1177},\n",
       "   {'transaction-id': 7930, 'amount': 1358},\n",
       "   {'transaction-id': 8172, 'amount': 1110},\n",
       "   {'transaction-id': 8638, 'amount': 1244},\n",
       "   {'transaction-id': 9265, 'amount': 1213},\n",
       "   {'transaction-id': 9303, 'amount': 1222},\n",
       "   {'transaction-id': 9508, 'amount': 1277},\n",
       "   {'transaction-id': 9842, 'amount': 1254}]},\n",
       " {'id': 79,\n",
       "  'name': 'Alice',\n",
       "  'transactions': [{'transaction-id': 1205, 'amount': 3},\n",
       "   {'transaction-id': 1523, 'amount': 2},\n",
       "   {'transaction-id': 3812, 'amount': 2},\n",
       "   {'transaction-id': 4247, 'amount': 3},\n",
       "   {'transaction-id': 4783, 'amount': 0},\n",
       "   {'transaction-id': 4923, 'amount': 2},\n",
       "   {'transaction-id': 5069, 'amount': 2},\n",
       "   {'transaction-id': 5148, 'amount': 1},\n",
       "   {'transaction-id': 5318, 'amount': 2},\n",
       "   {'transaction-id': 5834, 'amount': 2},\n",
       "   {'transaction-id': 6447, 'amount': 1},\n",
       "   {'transaction-id': 6593, 'amount': 2},\n",
       "   {'transaction-id': 6605, 'amount': 1},\n",
       "   {'transaction-id': 6610, 'amount': 1},\n",
       "   {'transaction-id': 6817, 'amount': 2},\n",
       "   {'transaction-id': 7012, 'amount': 1},\n",
       "   {'transaction-id': 7659, 'amount': 1},\n",
       "   {'transaction-id': 8114, 'amount': 2},\n",
       "   {'transaction-id': 8514, 'amount': 1},\n",
       "   {'transaction-id': 8782, 'amount': 1},\n",
       "   {'transaction-id': 8834, 'amount': 0},\n",
       "   {'transaction-id': 9479, 'amount': 1}]},\n",
       " {'id': 110,\n",
       "  'name': 'Alice',\n",
       "  'transactions': [{'transaction-id': 696, 'amount': 5007},\n",
       "   {'transaction-id': 794, 'amount': 5082},\n",
       "   {'transaction-id': 1156, 'amount': 5234},\n",
       "   {'transaction-id': 2779, 'amount': 5200},\n",
       "   {'transaction-id': 3299, 'amount': 5354},\n",
       "   {'transaction-id': 3803, 'amount': 5275},\n",
       "   {'transaction-id': 4055, 'amount': 5098},\n",
       "   {'transaction-id': 4709, 'amount': 5170},\n",
       "   {'transaction-id': 4851, 'amount': 5438},\n",
       "   {'transaction-id': 5006, 'amount': 5032},\n",
       "   {'transaction-id': 5297, 'amount': 5065},\n",
       "   {'transaction-id': 6115, 'amount': 5177},\n",
       "   {'transaction-id': 6266, 'amount': 5185},\n",
       "   {'transaction-id': 6278, 'amount': 5162},\n",
       "   {'transaction-id': 6479, 'amount': 5322},\n",
       "   {'transaction-id': 6522, 'amount': 4941},\n",
       "   {'transaction-id': 6988, 'amount': 5465},\n",
       "   {'transaction-id': 7263, 'amount': 5130},\n",
       "   {'transaction-id': 8221, 'amount': 5270},\n",
       "   {'transaction-id': 8344, 'amount': 5339},\n",
       "   {'transaction-id': 8426, 'amount': 5168},\n",
       "   {'transaction-id': 9088, 'amount': 5302},\n",
       "   {'transaction-id': 9094, 'amount': 5138},\n",
       "   {'transaction-id': 9843, 'amount': 5072}]})"
      ]
     },
     "execution_count": 11,
     "metadata": {},
     "output_type": "execute_result"
    }
   ],
   "source": [
    "# filter: keep only some elements of the sequence\n",
    "js.filter(lambda record: record['name'] == 'Alice').take(5)"
   ]
  },
  {
   "cell_type": "code",
   "execution_count": 12,
   "metadata": {
    "execution": {
     "iopub.execute_input": "2020-09-11T20:55:49.638561Z",
     "iopub.status.busy": "2020-09-11T20:55:49.638139Z",
     "iopub.status.idle": "2020-09-11T20:55:49.657703Z",
     "shell.execute_reply": "2020-09-11T20:55:49.658279Z"
    }
   },
   "outputs": [
    {
     "data": {
      "text/plain": [
       "({'name': 'Alice', 'count': 56},\n",
       " {'name': 'Alice', 'count': 81},\n",
       " {'name': 'Alice', 'count': 36},\n",
       " {'name': 'Alice', 'count': 22},\n",
       " {'name': 'Alice', 'count': 24})"
      ]
     },
     "execution_count": 12,
     "metadata": {},
     "output_type": "execute_result"
    }
   ],
   "source": [
    "def count_transactions(d):\n",
    "    return {'name': d['name'], 'count': len(d['transactions'])}\n",
    "\n",
    "# map: apply a function to each element\n",
    "(js.filter(lambda record: record['name'] == 'Alice')\n",
    "   .map(count_transactions)\n",
    "   .take(5))"
   ]
  },
  {
   "cell_type": "code",
   "execution_count": 13,
   "metadata": {
    "execution": {
     "iopub.execute_input": "2020-09-11T20:55:49.662745Z",
     "iopub.status.busy": "2020-09-11T20:55:49.662130Z",
     "iopub.status.idle": "2020-09-11T20:55:49.679792Z",
     "shell.execute_reply": "2020-09-11T20:55:49.680232Z"
    }
   },
   "outputs": [
    {
     "data": {
      "text/plain": [
       "(56, 81, 36, 22, 24)"
      ]
     },
     "execution_count": 13,
     "metadata": {},
     "output_type": "execute_result"
    }
   ],
   "source": [
    "# pluck: select a field, as from a dictionary, element[field]\n",
    "(js.filter(lambda record: record['name'] == 'Alice')\n",
    "   .map(count_transactions)\n",
    "   .pluck('count')\n",
    "   .take(5))"
   ]
  },
  {
   "cell_type": "code",
   "execution_count": 14,
   "metadata": {
    "execution": {
     "iopub.execute_input": "2020-09-11T20:55:49.704073Z",
     "iopub.status.busy": "2020-09-11T20:55:49.700111Z",
     "iopub.status.idle": "2020-09-11T20:55:50.232712Z",
     "shell.execute_reply": "2020-09-11T20:55:50.232067Z"
    }
   },
   "outputs": [
    {
     "data": {
      "text/plain": [
       "35.37723577235772"
      ]
     },
     "execution_count": 14,
     "metadata": {},
     "output_type": "execute_result"
    }
   ],
   "source": [
    "# Average number of transactions for all of the Alice entries\n",
    "(js.filter(lambda record: record['name'] == 'Alice')\n",
    "   .map(count_transactions)\n",
    "   .pluck('count')\n",
    "   .mean()\n",
    "   .compute())"
   ]
  },
  {
   "cell_type": "markdown",
   "metadata": {},
   "source": [
    "### Use `flatten` to de-nest"
   ]
  },
  {
   "cell_type": "markdown",
   "metadata": {},
   "source": [
    "In the example below we see the use of `.flatten()` to flatten results.  We compute the average amount for all transactions for all Alices."
   ]
  },
  {
   "cell_type": "code",
   "execution_count": 15,
   "metadata": {
    "execution": {
     "iopub.execute_input": "2020-09-11T20:55:50.237889Z",
     "iopub.status.busy": "2020-09-11T20:55:50.237447Z",
     "iopub.status.idle": "2020-09-11T20:55:50.265928Z",
     "shell.execute_reply": "2020-09-11T20:55:50.266286Z"
    }
   },
   "outputs": [
    {
     "data": {
      "text/plain": [
       "([{'transaction-id': 26, 'amount': -90},\n",
       "  {'transaction-id': 29, 'amount': -103},\n",
       "  {'transaction-id': 381, 'amount': -4},\n",
       "  {'transaction-id': 471, 'amount': 9},\n",
       "  {'transaction-id': 492, 'amount': -38},\n",
       "  {'transaction-id': 1125, 'amount': -7},\n",
       "  {'transaction-id': 1132, 'amount': -43},\n",
       "  {'transaction-id': 1482, 'amount': -41},\n",
       "  {'transaction-id': 1775, 'amount': -19},\n",
       "  {'transaction-id': 1823, 'amount': -33},\n",
       "  {'transaction-id': 1950, 'amount': 59},\n",
       "  {'transaction-id': 2409, 'amount': -22},\n",
       "  {'transaction-id': 2502, 'amount': -50},\n",
       "  {'transaction-id': 2643, 'amount': 5},\n",
       "  {'transaction-id': 2664, 'amount': -103},\n",
       "  {'transaction-id': 2876, 'amount': 5},\n",
       "  {'transaction-id': 3301, 'amount': -80},\n",
       "  {'transaction-id': 3604, 'amount': 28},\n",
       "  {'transaction-id': 4504, 'amount': -56},\n",
       "  {'transaction-id': 4559, 'amount': 10},\n",
       "  {'transaction-id': 4777, 'amount': -67},\n",
       "  {'transaction-id': 5013, 'amount': -44},\n",
       "  {'transaction-id': 5024, 'amount': -40},\n",
       "  {'transaction-id': 5028, 'amount': 41},\n",
       "  {'transaction-id': 5247, 'amount': -93},\n",
       "  {'transaction-id': 5391, 'amount': -148},\n",
       "  {'transaction-id': 5396, 'amount': -143},\n",
       "  {'transaction-id': 5540, 'amount': -32},\n",
       "  {'transaction-id': 5722, 'amount': 13},\n",
       "  {'transaction-id': 6027, 'amount': -101},\n",
       "  {'transaction-id': 6076, 'amount': -49},\n",
       "  {'transaction-id': 6356, 'amount': -25},\n",
       "  {'transaction-id': 6545, 'amount': -86},\n",
       "  {'transaction-id': 6583, 'amount': -31},\n",
       "  {'transaction-id': 6652, 'amount': -114},\n",
       "  {'transaction-id': 6750, 'amount': -185},\n",
       "  {'transaction-id': 6899, 'amount': -2},\n",
       "  {'transaction-id': 6930, 'amount': 45},\n",
       "  {'transaction-id': 7243, 'amount': 8},\n",
       "  {'transaction-id': 7320, 'amount': -62},\n",
       "  {'transaction-id': 7532, 'amount': -9},\n",
       "  {'transaction-id': 7771, 'amount': 59},\n",
       "  {'transaction-id': 7913, 'amount': -40},\n",
       "  {'transaction-id': 7916, 'amount': -157},\n",
       "  {'transaction-id': 7944, 'amount': -35},\n",
       "  {'transaction-id': 8157, 'amount': 93},\n",
       "  {'transaction-id': 8341, 'amount': -73},\n",
       "  {'transaction-id': 8630, 'amount': -64},\n",
       "  {'transaction-id': 8919, 'amount': -7},\n",
       "  {'transaction-id': 8976, 'amount': -76},\n",
       "  {'transaction-id': 9058, 'amount': -29},\n",
       "  {'transaction-id': 9092, 'amount': -13},\n",
       "  {'transaction-id': 9194, 'amount': -107},\n",
       "  {'transaction-id': 9380, 'amount': 2},\n",
       "  {'transaction-id': 9582, 'amount': -95},\n",
       "  {'transaction-id': 9765, 'amount': -15}],\n",
       " [{'transaction-id': 463, 'amount': 293},\n",
       "  {'transaction-id': 612, 'amount': 309},\n",
       "  {'transaction-id': 653, 'amount': 286},\n",
       "  {'transaction-id': 699, 'amount': 312},\n",
       "  {'transaction-id': 763, 'amount': 291},\n",
       "  {'transaction-id': 797, 'amount': 317},\n",
       "  {'transaction-id': 1049, 'amount': 298},\n",
       "  {'transaction-id': 1204, 'amount': 287},\n",
       "  {'transaction-id': 1214, 'amount': 293},\n",
       "  {'transaction-id': 1260, 'amount': 287},\n",
       "  {'transaction-id': 1308, 'amount': 294},\n",
       "  {'transaction-id': 1455, 'amount': 313},\n",
       "  {'transaction-id': 1590, 'amount': 278},\n",
       "  {'transaction-id': 1648, 'amount': 286},\n",
       "  {'transaction-id': 2032, 'amount': 291},\n",
       "  {'transaction-id': 2101, 'amount': 287},\n",
       "  {'transaction-id': 2407, 'amount': 301},\n",
       "  {'transaction-id': 2475, 'amount': 329},\n",
       "  {'transaction-id': 2731, 'amount': 312},\n",
       "  {'transaction-id': 2747, 'amount': 318},\n",
       "  {'transaction-id': 2832, 'amount': 299},\n",
       "  {'transaction-id': 2906, 'amount': 268},\n",
       "  {'transaction-id': 3053, 'amount': 299},\n",
       "  {'transaction-id': 3121, 'amount': 327},\n",
       "  {'transaction-id': 3279, 'amount': 311},\n",
       "  {'transaction-id': 3388, 'amount': 316},\n",
       "  {'transaction-id': 3437, 'amount': 311},\n",
       "  {'transaction-id': 3487, 'amount': 255},\n",
       "  {'transaction-id': 3576, 'amount': 317},\n",
       "  {'transaction-id': 3590, 'amount': 285},\n",
       "  {'transaction-id': 3599, 'amount': 298},\n",
       "  {'transaction-id': 3725, 'amount': 286},\n",
       "  {'transaction-id': 3785, 'amount': 309},\n",
       "  {'transaction-id': 3860, 'amount': 307},\n",
       "  {'transaction-id': 3882, 'amount': 296},\n",
       "  {'transaction-id': 4073, 'amount': 293},\n",
       "  {'transaction-id': 4192, 'amount': 291},\n",
       "  {'transaction-id': 4342, 'amount': 315},\n",
       "  {'transaction-id': 4343, 'amount': 283},\n",
       "  {'transaction-id': 4540, 'amount': 296},\n",
       "  {'transaction-id': 4567, 'amount': 298},\n",
       "  {'transaction-id': 4837, 'amount': 293},\n",
       "  {'transaction-id': 4877, 'amount': 264},\n",
       "  {'transaction-id': 4949, 'amount': 290},\n",
       "  {'transaction-id': 5038, 'amount': 304},\n",
       "  {'transaction-id': 5333, 'amount': 264},\n",
       "  {'transaction-id': 5636, 'amount': 318},\n",
       "  {'transaction-id': 5662, 'amount': 287},\n",
       "  {'transaction-id': 5925, 'amount': 271},\n",
       "  {'transaction-id': 5929, 'amount': 296},\n",
       "  {'transaction-id': 5931, 'amount': 308},\n",
       "  {'transaction-id': 5961, 'amount': 318},\n",
       "  {'transaction-id': 6365, 'amount': 324},\n",
       "  {'transaction-id': 6714, 'amount': 297},\n",
       "  {'transaction-id': 6721, 'amount': 282},\n",
       "  {'transaction-id': 6837, 'amount': 284},\n",
       "  {'transaction-id': 6902, 'amount': 322},\n",
       "  {'transaction-id': 7059, 'amount': 264},\n",
       "  {'transaction-id': 7087, 'amount': 254},\n",
       "  {'transaction-id': 7115, 'amount': 300},\n",
       "  {'transaction-id': 7141, 'amount': 297},\n",
       "  {'transaction-id': 7461, 'amount': 284},\n",
       "  {'transaction-id': 7844, 'amount': 293},\n",
       "  {'transaction-id': 7884, 'amount': 304},\n",
       "  {'transaction-id': 7901, 'amount': 316},\n",
       "  {'transaction-id': 8369, 'amount': 302},\n",
       "  {'transaction-id': 8389, 'amount': 311},\n",
       "  {'transaction-id': 8517, 'amount': 291},\n",
       "  {'transaction-id': 8530, 'amount': 279},\n",
       "  {'transaction-id': 8556, 'amount': 264},\n",
       "  {'transaction-id': 8654, 'amount': 300},\n",
       "  {'transaction-id': 8663, 'amount': 285},\n",
       "  {'transaction-id': 8683, 'amount': 265},\n",
       "  {'transaction-id': 9217, 'amount': 316},\n",
       "  {'transaction-id': 9276, 'amount': 289},\n",
       "  {'transaction-id': 9417, 'amount': 287},\n",
       "  {'transaction-id': 9452, 'amount': 318},\n",
       "  {'transaction-id': 9545, 'amount': 277},\n",
       "  {'transaction-id': 9547, 'amount': 255},\n",
       "  {'transaction-id': 9668, 'amount': 307},\n",
       "  {'transaction-id': 9881, 'amount': 276}],\n",
       " [{'transaction-id': 150, 'amount': 1287},\n",
       "  {'transaction-id': 785, 'amount': 1182},\n",
       "  {'transaction-id': 1402, 'amount': 1285},\n",
       "  {'transaction-id': 1613, 'amount': 1078},\n",
       "  {'transaction-id': 1672, 'amount': 1323},\n",
       "  {'transaction-id': 1959, 'amount': 1445},\n",
       "  {'transaction-id': 2173, 'amount': 1176},\n",
       "  {'transaction-id': 2295, 'amount': 1121},\n",
       "  {'transaction-id': 2370, 'amount': 1347},\n",
       "  {'transaction-id': 2627, 'amount': 1277},\n",
       "  {'transaction-id': 2678, 'amount': 1298},\n",
       "  {'transaction-id': 2692, 'amount': 1274},\n",
       "  {'transaction-id': 2765, 'amount': 1332},\n",
       "  {'transaction-id': 2807, 'amount': 1271},\n",
       "  {'transaction-id': 2860, 'amount': 1115},\n",
       "  {'transaction-id': 3172, 'amount': 1174},\n",
       "  {'transaction-id': 4295, 'amount': 1313},\n",
       "  {'transaction-id': 4344, 'amount': 1161},\n",
       "  {'transaction-id': 4581, 'amount': 1214},\n",
       "  {'transaction-id': 5008, 'amount': 1216},\n",
       "  {'transaction-id': 5184, 'amount': 1298},\n",
       "  {'transaction-id': 5488, 'amount': 1404},\n",
       "  {'transaction-id': 5568, 'amount': 1127},\n",
       "  {'transaction-id': 5841, 'amount': 1316},\n",
       "  {'transaction-id': 6079, 'amount': 1217},\n",
       "  {'transaction-id': 6396, 'amount': 1141},\n",
       "  {'transaction-id': 7201, 'amount': 1243},\n",
       "  {'transaction-id': 7250, 'amount': 1208},\n",
       "  {'transaction-id': 7453, 'amount': 1177},\n",
       "  {'transaction-id': 7930, 'amount': 1358},\n",
       "  {'transaction-id': 8172, 'amount': 1110},\n",
       "  {'transaction-id': 8638, 'amount': 1244},\n",
       "  {'transaction-id': 9265, 'amount': 1213},\n",
       "  {'transaction-id': 9303, 'amount': 1222},\n",
       "  {'transaction-id': 9508, 'amount': 1277},\n",
       "  {'transaction-id': 9842, 'amount': 1254}])"
      ]
     },
     "execution_count": 15,
     "metadata": {},
     "output_type": "execute_result"
    }
   ],
   "source": [
    "js.filter(lambda record: record['name'] == 'Alice').pluck('transactions').take(3)"
   ]
  },
  {
   "cell_type": "code",
   "execution_count": 16,
   "metadata": {
    "execution": {
     "iopub.execute_input": "2020-09-11T20:55:50.271385Z",
     "iopub.status.busy": "2020-09-11T20:55:50.270685Z",
     "iopub.status.idle": "2020-09-11T20:55:50.291587Z",
     "shell.execute_reply": "2020-09-11T20:55:50.292539Z"
    }
   },
   "outputs": [
    {
     "data": {
      "text/plain": [
       "({'transaction-id': 26, 'amount': -90},\n",
       " {'transaction-id': 29, 'amount': -103},\n",
       " {'transaction-id': 381, 'amount': -4})"
      ]
     },
     "execution_count": 16,
     "metadata": {},
     "output_type": "execute_result"
    }
   ],
   "source": [
    "(js.filter(lambda record: record['name'] == 'Alice')\n",
    "   .pluck('transactions')\n",
    "   .flatten()\n",
    "   .take(3))"
   ]
  },
  {
   "cell_type": "code",
   "execution_count": 17,
   "metadata": {
    "execution": {
     "iopub.execute_input": "2020-09-11T20:55:50.297711Z",
     "iopub.status.busy": "2020-09-11T20:55:50.297064Z",
     "iopub.status.idle": "2020-09-11T20:55:50.313399Z",
     "shell.execute_reply": "2020-09-11T20:55:50.312763Z"
    }
   },
   "outputs": [
    {
     "data": {
      "text/plain": [
       "(-90, -103, -4)"
      ]
     },
     "execution_count": 17,
     "metadata": {},
     "output_type": "execute_result"
    }
   ],
   "source": [
    "(js.filter(lambda record: record['name'] == 'Alice')\n",
    "   .pluck('transactions')\n",
    "   .flatten()\n",
    "   .pluck('amount')\n",
    "   .take(3))"
   ]
  },
  {
   "cell_type": "code",
   "execution_count": 18,
   "metadata": {
    "execution": {
     "iopub.execute_input": "2020-09-11T20:55:50.317466Z",
     "iopub.status.busy": "2020-09-11T20:55:50.317061Z",
     "iopub.status.idle": "2020-09-11T20:55:50.874594Z",
     "shell.execute_reply": "2020-09-11T20:55:50.875113Z"
    }
   },
   "outputs": [
    {
     "data": {
      "text/plain": [
       "884.0101576504113"
      ]
     },
     "execution_count": 18,
     "metadata": {},
     "output_type": "execute_result"
    }
   ],
   "source": [
    "(js.filter(lambda record: record['name'] == 'Alice')\n",
    "   .pluck('transactions')\n",
    "   .flatten()\n",
    "   .pluck('amount')\n",
    "   .mean()\n",
    "   .compute())"
   ]
  },
  {
   "cell_type": "markdown",
   "metadata": {},
   "source": [
    "### Groupby and Foldby"
   ]
  },
  {
   "cell_type": "markdown",
   "metadata": {},
   "source": [
    "Often we want to group data by some function or key.  We can do this either with the `.groupby` method, which is straightforward but forces a full shuffle of the data (expensive) or with the harder-to-use but faster `.foldby` method, which does a streaming combined groupby and reduction.\n",
    "\n",
    "*  `groupby`:  Shuffles data so that all items with the same key are in the same key-value pair\n",
    "*  `foldby`:  Walks through the data accumulating a result per key\n",
    "\n",
    "*Note: the full groupby is particularly bad. In actual workloads you would do well to use `foldby` or switch to `DataFrame`s if possible.*"
   ]
  },
  {
   "cell_type": "markdown",
   "metadata": {},
   "source": [
    "### `groupby`"
   ]
  },
  {
   "cell_type": "markdown",
   "metadata": {},
   "source": [
    "Groupby collects items in your collection so that all items with the same value under some function are collected together into a key-value pair."
   ]
  },
  {
   "cell_type": "code",
   "execution_count": 19,
   "metadata": {
    "execution": {
     "iopub.execute_input": "2020-09-11T20:55:50.879030Z",
     "iopub.status.busy": "2020-09-11T20:55:50.878526Z",
     "iopub.status.idle": "2020-09-11T20:55:50.981021Z",
     "shell.execute_reply": "2020-09-11T20:55:50.980347Z"
    }
   },
   "outputs": [
    {
     "data": {
      "text/plain": [
       "[(7, ['Charlie']), (3, ['Bob', 'Dan']), (5, ['Alice', 'Edith', 'Frank'])]"
      ]
     },
     "execution_count": 19,
     "metadata": {},
     "output_type": "execute_result"
    }
   ],
   "source": [
    "b = db.from_sequence(['Alice', 'Bob', 'Charlie', 'Dan', 'Edith', 'Frank'])\n",
    "b.groupby(len).compute()  # names grouped by length"
   ]
  },
  {
   "cell_type": "code",
   "execution_count": 20,
   "metadata": {
    "execution": {
     "iopub.execute_input": "2020-09-11T20:55:50.996816Z",
     "iopub.status.busy": "2020-09-11T20:55:50.996127Z",
     "iopub.status.idle": "2020-09-11T20:55:51.163180Z",
     "shell.execute_reply": "2020-09-11T20:55:51.162777Z"
    }
   },
   "outputs": [
    {
     "data": {
      "text/plain": [
       "[(0, [0, 2, 4, 6, 8]), (1, [1, 3, 5, 7, 9])]"
      ]
     },
     "execution_count": 20,
     "metadata": {},
     "output_type": "execute_result"
    }
   ],
   "source": [
    "b = db.from_sequence(list(range(10)))\n",
    "b.groupby(lambda x: x % 2).compute()"
   ]
  },
  {
   "cell_type": "code",
   "execution_count": 21,
   "metadata": {
    "execution": {
     "iopub.execute_input": "2020-09-11T20:55:51.175603Z",
     "iopub.status.busy": "2020-09-11T20:55:51.167450Z",
     "iopub.status.idle": "2020-09-11T20:55:51.359837Z",
     "shell.execute_reply": "2020-09-11T20:55:51.360758Z"
    }
   },
   "outputs": [
    {
     "data": {
      "text/plain": [
       "[(0, 8), (1, 9)]"
      ]
     },
     "execution_count": 21,
     "metadata": {},
     "output_type": "execute_result"
    }
   ],
   "source": [
    "b.groupby(lambda x: x % 2).starmap(lambda k, v: (k, max(v))).compute()"
   ]
  },
  {
   "cell_type": "markdown",
   "metadata": {},
   "source": [
    "### `foldby`"
   ]
  },
  {
   "cell_type": "markdown",
   "metadata": {},
   "source": [
    "Foldby can be quite odd at first.  It is similar to the following functions from other libraries:\n",
    "\n",
    "*  [`toolz.reduceby`](http://toolz.readthedocs.io/en/latest/streaming-analytics.html#streaming-split-apply-combine)\n",
    "*  [`pyspark.RDD.combineByKey`](http://abshinn.github.io/python/apache-spark/2014/10/11/using-combinebykey-in-apache-spark/)\n",
    "\n",
    "When using `foldby` you provide \n",
    "\n",
    "1.  A key function on which to group elements\n",
    "2.  A binary operator such as you would pass to `reduce` that you use to perform reduction per each group\n",
    "3.  A combine binary operator that can combine the results of two `reduce` calls on different parts of your dataset.\n",
    "\n",
    "Your reduction must be associative.  It will happen in parallel in each of the partitions of your dataset.  Then all of these intermediate results will be combined by the `combine` binary operator."
   ]
  },
  {
   "cell_type": "code",
   "execution_count": 22,
   "metadata": {
    "execution": {
     "iopub.execute_input": "2020-09-11T20:55:51.375828Z",
     "iopub.status.busy": "2020-09-11T20:55:51.375040Z",
     "iopub.status.idle": "2020-09-11T20:55:51.417437Z",
     "shell.execute_reply": "2020-09-11T20:55:51.416580Z"
    }
   },
   "outputs": [
    {
     "data": {
      "text/plain": [
       "[(0, 8), (1, 9)]"
      ]
     },
     "execution_count": 22,
     "metadata": {},
     "output_type": "execute_result"
    }
   ],
   "source": [
    "is_even = lambda x: x % 2\n",
    "b.foldby(is_even, binop=max, combine=max).compute()"
   ]
  },
  {
   "cell_type": "markdown",
   "metadata": {},
   "source": [
    "### Example with account data"
   ]
  },
  {
   "cell_type": "markdown",
   "metadata": {},
   "source": [
    "We find the number of people with the same name."
   ]
  },
  {
   "cell_type": "code",
   "execution_count": 23,
   "metadata": {
    "execution": {
     "iopub.execute_input": "2020-09-11T20:55:51.441517Z",
     "iopub.status.busy": "2020-09-11T20:55:51.431016Z",
     "iopub.status.idle": "2020-09-11T20:55:59.577575Z",
     "shell.execute_reply": "2020-09-11T20:55:59.578133Z"
    }
   },
   "outputs": [
    {
     "name": "stdout",
     "output_type": "stream",
     "text": [
      "[('Alice', 133), ('Alice', 147), ('Alice', 161), ('Alice', 174), ('Bob', 97), ('Bob', 104), ('Bob', 115), ('Bob', 123), ('Charlie', 131), ('Charlie', 144), ('Charlie', 156), ('Charlie', 167), ('Dan', 118), ('Dan', 130), ('Dan', 142), ('Dan', 151), ('Edith', 137), ('Edith', 155), ('Edith', 165), ('Edith', 171), ('Frank', 66), ('Frank', 72), ('Frank', 78), ('Frank', 84), ('George', 92), ('George', 98), ('George', 108), ('George', 117), ('Hannah', 54), ('Hannah', 59), ('Hannah', 64), ('Hannah', 70), ('Ingrid', 150), ('Ingrid', 162), ('Ingrid', 178), ('Ingrid', 190), ('Jerry', 99), ('Jerry', 108), ('Jerry', 117), ('Jerry', 126), ('Kevin', 196), ('Kevin', 214), ('Kevin', 234), ('Kevin', 250), ('Laura', 99), ('Laura', 108), ('Laura', 117), ('Laura', 126), ('Michael', 144), ('Michael', 168), ('Michael', 287), ('Norbert', 77), ('Norbert', 84), ('Norbert', 90), ('Norbert', 96), ('Oliver', 99), ('Oliver', 108), ('Oliver', 117), ('Oliver', 126), ('Patricia', 61), ('Patricia', 65), ('Patricia', 68), ('Patricia', 75), ('Quinn', 121), ('Quinn', 132), ('Quinn', 143), ('Quinn', 154), ('Ray', 110), ('Ray', 120), ('Ray', 130), ('Ray', 140), ('Sarah', 164), ('Sarah', 177), ('Sarah', 293), ('Tim', 99), ('Tim', 108), ('Tim', 117), ('Tim', 126), ('Ursula', 107), ('Ursula', 117), ('Ursula', 126), ('Ursula', 136), ('Victor', 129), ('Victor', 137), ('Victor', 153), ('Victor', 167), ('Wendy', 33), ('Wendy', 36), ('Wendy', 39), ('Wendy', 42), ('Xavier', 62), ('Xavier', 64), ('Xavier', 73), ('Xavier', 75), ('Yvonne', 34), ('Yvonne', 39), ('Yvonne', 41), ('Yvonne', 43), ('Zelda', 109), ('Zelda', 119), ('Zelda', 129), ('Zelda', 140)]\n",
      "CPU times: user 1.59 s, sys: 109 ms, total: 1.7 s\n",
      "Wall time: 8.15 s\n"
     ]
    }
   ],
   "source": [
    "%%time\n",
    "# Warning, this one takes a while...\n",
    "result = js.groupby(lambda item: item['name']).starmap(lambda k, v: (k, len(v))).compute()\n",
    "print(sorted(result))"
   ]
  },
  {
   "cell_type": "code",
   "execution_count": 24,
   "metadata": {
    "execution": {
     "iopub.execute_input": "2020-09-11T20:55:59.580712Z",
     "iopub.status.busy": "2020-09-11T20:55:59.580072Z",
     "iopub.status.idle": "2020-09-11T20:56:00.202378Z",
     "shell.execute_reply": "2020-09-11T20:56:00.202744Z"
    }
   },
   "outputs": [
    {
     "name": "stdout",
     "output_type": "stream",
     "text": [
      "[('Alice', 615), ('Bob', 439), ('Charlie', 598), ('Dan', 541), ('Edith', 628), ('Frank', 300), ('George', 415), ('Hannah', 247), ('Ingrid', 680), ('Jerry', 450), ('Kevin', 894), ('Laura', 450), ('Michael', 599), ('Norbert', 347), ('Oliver', 450), ('Patricia', 269), ('Quinn', 550), ('Ray', 500), ('Sarah', 634), ('Tim', 450), ('Ursula', 486), ('Victor', 586), ('Wendy', 150), ('Xavier', 274), ('Yvonne', 157), ('Zelda', 497)]\n",
      "CPU times: user 164 ms, sys: 4.72 ms, total: 169 ms\n",
      "Wall time: 615 ms\n"
     ]
    }
   ],
   "source": [
    "%%time\n",
    "# This one is comparatively fast and produces the same result.\n",
    "from operator import add\n",
    "def incr(tot, _):\n",
    "    return tot+1\n",
    "\n",
    "result = js.foldby(key='name', \n",
    "                   binop=incr, \n",
    "                   initial=0, \n",
    "                   combine=add, \n",
    "                   combine_initial=0).compute()\n",
    "print(sorted(result))"
   ]
  },
  {
   "cell_type": "markdown",
   "metadata": {},
   "source": [
    "### Exercise: compute total amount per name"
   ]
  },
  {
   "cell_type": "markdown",
   "metadata": {},
   "source": [
    "We want to groupby (or foldby) the `name` key, then add up the all of the amounts for each name.\n",
    "\n",
    "Steps\n",
    "\n",
    "1.  Create a small function that, given a dictionary like \n",
    "\n",
    "        {'name': 'Alice', 'transactions': [{'amount': 1, 'id': 123}, {'amount': 2, 'id': 456}]}\n",
    "        \n",
    "    produces the sum of the amounts, e.g. `3`\n",
    "    \n",
    "2.  Slightly change the binary operator of the `foldby` example above so that the binary operator doesn't count the number of entries, but instead accumulates the sum of the amounts."
   ]
  },
  {
   "cell_type": "code",
   "execution_count": 25,
   "metadata": {
    "execution": {
     "iopub.execute_input": "2020-09-11T20:56:00.206573Z",
     "iopub.status.busy": "2020-09-11T20:56:00.206003Z",
     "iopub.status.idle": "2020-09-11T20:56:00.208548Z",
     "shell.execute_reply": "2020-09-11T20:56:00.208116Z"
    }
   },
   "outputs": [],
   "source": [
    "# Your code here..."
   ]
  },
  {
   "cell_type": "markdown",
   "metadata": {},
   "source": [
    "## DataFrames"
   ]
  },
  {
   "cell_type": "markdown",
   "metadata": {},
   "source": [
    "For the same reasons that Pandas is often faster than pure Python, `dask.dataframe` can be faster than `dask.bag`.  We will work more with DataFrames later, but from for the bag point of view, they are frequently the end-point of the \"messy\" part of data ingestion—once the data can be made into a data-frame, then complex split-apply-combine logic will become much more straight-forward and efficient.\n",
    "\n",
    "You can transform a bag with a simple tuple or flat dictionary structure into a `dask.dataframe` with the `to_dataframe` method."
   ]
  },
  {
   "cell_type": "code",
   "execution_count": 26,
   "metadata": {
    "execution": {
     "iopub.execute_input": "2020-09-11T20:56:00.212465Z",
     "iopub.status.busy": "2020-09-11T20:56:00.211318Z",
     "iopub.status.idle": "2020-09-11T20:56:00.791112Z",
     "shell.execute_reply": "2020-09-11T20:56:00.790726Z"
    }
   },
   "outputs": [
    {
     "data": {
      "text/html": [
       "<div>\n",
       "<style scoped>\n",
       "    .dataframe tbody tr th:only-of-type {\n",
       "        vertical-align: middle;\n",
       "    }\n",
       "\n",
       "    .dataframe tbody tr th {\n",
       "        vertical-align: top;\n",
       "    }\n",
       "\n",
       "    .dataframe thead th {\n",
       "        text-align: right;\n",
       "    }\n",
       "</style>\n",
       "<table border=\"1\" class=\"dataframe\">\n",
       "  <thead>\n",
       "    <tr style=\"text-align: right;\">\n",
       "      <th></th>\n",
       "      <th>id</th>\n",
       "      <th>name</th>\n",
       "      <th>transactions</th>\n",
       "    </tr>\n",
       "  </thead>\n",
       "  <tbody>\n",
       "    <tr>\n",
       "      <th>0</th>\n",
       "      <td>0</td>\n",
       "      <td>Alice</td>\n",
       "      <td>[{'transaction-id': 26, 'amount': -90}, {'tran...</td>\n",
       "    </tr>\n",
       "    <tr>\n",
       "      <th>1</th>\n",
       "      <td>1</td>\n",
       "      <td>Yvonne</td>\n",
       "      <td>[{'transaction-id': 62, 'amount': 954}, {'tran...</td>\n",
       "    </tr>\n",
       "    <tr>\n",
       "      <th>2</th>\n",
       "      <td>2</td>\n",
       "      <td>Laura</td>\n",
       "      <td>[{'transaction-id': 1574, 'amount': 197}, {'tr...</td>\n",
       "    </tr>\n",
       "    <tr>\n",
       "      <th>3</th>\n",
       "      <td>3</td>\n",
       "      <td>Sarah</td>\n",
       "      <td>[{'transaction-id': 201, 'amount': 123}, {'tra...</td>\n",
       "    </tr>\n",
       "    <tr>\n",
       "      <th>4</th>\n",
       "      <td>4</td>\n",
       "      <td>Kevin</td>\n",
       "      <td>[{'transaction-id': 2620, 'amount': -416}, {'t...</td>\n",
       "    </tr>\n",
       "  </tbody>\n",
       "</table>\n",
       "</div>"
      ],
      "text/plain": [
       "   id    name                                       transactions\n",
       "0   0   Alice  [{'transaction-id': 26, 'amount': -90}, {'tran...\n",
       "1   1  Yvonne  [{'transaction-id': 62, 'amount': 954}, {'tran...\n",
       "2   2   Laura  [{'transaction-id': 1574, 'amount': 197}, {'tr...\n",
       "3   3   Sarah  [{'transaction-id': 201, 'amount': 123}, {'tra...\n",
       "4   4   Kevin  [{'transaction-id': 2620, 'amount': -416}, {'t..."
      ]
     },
     "execution_count": 26,
     "metadata": {},
     "output_type": "execute_result"
    }
   ],
   "source": [
    "df1 = js.to_dataframe()\n",
    "df1.head()"
   ]
  },
  {
   "cell_type": "markdown",
   "metadata": {},
   "source": [
    "This now looks like a well-defined DataFrame, and we can apply Pandas-like computations to it efficiently."
   ]
  },
  {
   "cell_type": "markdown",
   "metadata": {},
   "source": [
    "Using a Dask DataFrame, how long does it take to do our prior computation of numbers of people with the same name?  It turns out that `dask.dataframe.groupby()` beats `dask.bag.groupby()` more than an order of magnitude; but it still cannot match `dask.bag.foldby()` for this case."
   ]
  },
  {
   "cell_type": "code",
   "execution_count": 27,
   "metadata": {
    "execution": {
     "iopub.execute_input": "2020-09-11T20:56:00.810386Z",
     "iopub.status.busy": "2020-09-11T20:56:00.809880Z",
     "iopub.status.idle": "2020-09-11T20:56:02.587464Z",
     "shell.execute_reply": "2020-09-11T20:56:02.587842Z"
    }
   },
   "outputs": [
    {
     "name": "stdout",
     "output_type": "stream",
     "text": [
      "CPU times: user 223 ms, sys: 5.43 ms, total: 228 ms\n",
      "Wall time: 1.78 s\n"
     ]
    },
    {
     "data": {
      "text/plain": [
       "name\n",
       "Alice      615\n",
       "Bob        439\n",
       "Charlie    598\n",
       "Dan        541\n",
       "Edith      628\n",
       "Name: id, dtype: int64"
      ]
     },
     "execution_count": 27,
     "metadata": {},
     "output_type": "execute_result"
    }
   ],
   "source": [
    "%time df1.groupby('name').id.count().compute().head()"
   ]
  },
  {
   "cell_type": "markdown",
   "metadata": {},
   "source": [
    "### Denormalization"
   ]
  },
  {
   "cell_type": "markdown",
   "metadata": {},
   "source": [
    "This DataFrame format is less-than-optimal because the `transactions` column is filled with nested data so Pandas has to revert to `object` dtype, which is quite slow in Pandas.  Ideally we want to transform to a dataframe only after we have flattened our data so that each record is a single `int`, `string`, `float`, etc.."
   ]
  },
  {
   "cell_type": "code",
   "execution_count": 28,
   "metadata": {
    "execution": {
     "iopub.execute_input": "2020-09-11T20:56:02.596528Z",
     "iopub.status.busy": "2020-09-11T20:56:02.593577Z",
     "iopub.status.idle": "2020-09-11T20:56:02.610170Z",
     "shell.execute_reply": "2020-09-11T20:56:02.610890Z"
    }
   },
   "outputs": [
    {
     "data": {
      "text/plain": [
       "({'id': 0, 'name': 'Alice', 'amount': -90, 'transaction-id': 26},\n",
       " {'id': 0, 'name': 'Alice', 'amount': -103, 'transaction-id': 29},\n",
       " {'id': 0, 'name': 'Alice', 'amount': -4, 'transaction-id': 381})"
      ]
     },
     "execution_count": 28,
     "metadata": {},
     "output_type": "execute_result"
    }
   ],
   "source": [
    "def denormalize(record):\n",
    "    # returns a list for every nested item, each transaction of each person\n",
    "    return [{'id': record['id'], \n",
    "             'name': record['name'], \n",
    "             'amount': transaction['amount'], \n",
    "             'transaction-id': transaction['transaction-id']}\n",
    "            for transaction in record['transactions']]\n",
    "\n",
    "transactions = js.map(denormalize).flatten()\n",
    "transactions.take(3)"
   ]
  },
  {
   "cell_type": "code",
   "execution_count": 29,
   "metadata": {
    "execution": {
     "iopub.execute_input": "2020-09-11T20:56:02.615997Z",
     "iopub.status.busy": "2020-09-11T20:56:02.615114Z",
     "iopub.status.idle": "2020-09-11T20:56:02.685710Z",
     "shell.execute_reply": "2020-09-11T20:56:02.684915Z"
    }
   },
   "outputs": [
    {
     "data": {
      "text/html": [
       "<div>\n",
       "<style scoped>\n",
       "    .dataframe tbody tr th:only-of-type {\n",
       "        vertical-align: middle;\n",
       "    }\n",
       "\n",
       "    .dataframe tbody tr th {\n",
       "        vertical-align: top;\n",
       "    }\n",
       "\n",
       "    .dataframe thead th {\n",
       "        text-align: right;\n",
       "    }\n",
       "</style>\n",
       "<table border=\"1\" class=\"dataframe\">\n",
       "  <thead>\n",
       "    <tr style=\"text-align: right;\">\n",
       "      <th></th>\n",
       "      <th>id</th>\n",
       "      <th>name</th>\n",
       "      <th>amount</th>\n",
       "      <th>transaction-id</th>\n",
       "    </tr>\n",
       "  </thead>\n",
       "  <tbody>\n",
       "    <tr>\n",
       "      <th>0</th>\n",
       "      <td>0</td>\n",
       "      <td>Alice</td>\n",
       "      <td>-90</td>\n",
       "      <td>26</td>\n",
       "    </tr>\n",
       "    <tr>\n",
       "      <th>1</th>\n",
       "      <td>0</td>\n",
       "      <td>Alice</td>\n",
       "      <td>-103</td>\n",
       "      <td>29</td>\n",
       "    </tr>\n",
       "    <tr>\n",
       "      <th>2</th>\n",
       "      <td>0</td>\n",
       "      <td>Alice</td>\n",
       "      <td>-4</td>\n",
       "      <td>381</td>\n",
       "    </tr>\n",
       "    <tr>\n",
       "      <th>3</th>\n",
       "      <td>0</td>\n",
       "      <td>Alice</td>\n",
       "      <td>9</td>\n",
       "      <td>471</td>\n",
       "    </tr>\n",
       "    <tr>\n",
       "      <th>4</th>\n",
       "      <td>0</td>\n",
       "      <td>Alice</td>\n",
       "      <td>-38</td>\n",
       "      <td>492</td>\n",
       "    </tr>\n",
       "  </tbody>\n",
       "</table>\n",
       "</div>"
      ],
      "text/plain": [
       "   id   name  amount  transaction-id\n",
       "0   0  Alice     -90              26\n",
       "1   0  Alice    -103              29\n",
       "2   0  Alice      -4             381\n",
       "3   0  Alice       9             471\n",
       "4   0  Alice     -38             492"
      ]
     },
     "execution_count": 29,
     "metadata": {},
     "output_type": "execute_result"
    }
   ],
   "source": [
    "df = transactions.to_dataframe()\n",
    "df.head()"
   ]
  },
  {
   "cell_type": "code",
   "execution_count": 30,
   "metadata": {
    "execution": {
     "iopub.execute_input": "2020-09-11T20:56:02.692332Z",
     "iopub.status.busy": "2020-09-11T20:56:02.691922Z",
     "iopub.status.idle": "2020-09-11T20:56:04.159981Z",
     "shell.execute_reply": "2020-09-11T20:56:04.159454Z"
    }
   },
   "outputs": [
    {
     "name": "stdout",
     "output_type": "stream",
     "text": [
      "CPU times: user 197 ms, sys: 13.1 ms, total: 210 ms\n",
      "Wall time: 1.46 s\n"
     ]
    },
    {
     "data": {
      "text/plain": [
       "name\n",
       "Alice       21757\n",
       "Bob         19074\n",
       "Charlie     46564\n",
       "Dan         22877\n",
       "Edith       44586\n",
       "Frank       16108\n",
       "George      17281\n",
       "Hannah       8517\n",
       "Ingrid      16238\n",
       "Jerry       10250\n",
       "Kevin       33062\n",
       "Laura       16989\n",
       "Michael     23770\n",
       "Norbert     15805\n",
       "Oliver      13018\n",
       "Patricia    12951\n",
       "Quinn       23021\n",
       "Ray         35672\n",
       "Sarah       15817\n",
       "Tim         19833\n",
       "Ursula      11625\n",
       "Victor      13700\n",
       "Wendy        7060\n",
       "Xavier       7020\n",
       "Yvonne       6694\n",
       "Zelda       20711\n",
       "Name: transaction-id, dtype: int64"
      ]
     },
     "execution_count": 30,
     "metadata": {},
     "output_type": "execute_result"
    }
   ],
   "source": [
    "%%time\n",
    "# number of transactions per name\n",
    "# note that the time here includes the data load and ingestion\n",
    "df.groupby('name')['transaction-id'].count().compute()"
   ]
  },
  {
   "cell_type": "markdown",
   "metadata": {},
   "source": [
    "## Limitations"
   ]
  },
  {
   "cell_type": "markdown",
   "metadata": {},
   "source": [
    "Bags provide very general computation (any Python function.)  This generality\n",
    "comes at cost.  Bags have the following known limitations\n",
    "\n",
    "1.  Bag operations tend to be slower than array/dataframe computations in the\n",
    "    same way that Python tends to be slower than NumPy/Pandas\n",
    "2.  ``Bag.groupby`` is slow.  You should try to use ``Bag.foldby`` if possible.\n",
    "    Using ``Bag.foldby`` requires more thought. Even better, consider creating\n",
    "    a normalised dataframe."
   ]
  },
  {
   "cell_type": "markdown",
   "metadata": {},
   "source": [
    "## Learn More\n",
    "\n",
    "* [Bag documentation](https://docs.dask.org/en/latest/bag.html)\n",
    "* [Bag screencast](https://youtu.be/-qIiJ1XtSv0)\n",
    "* [Bag API](https://docs.dask.org/en/latest/bag-api.html)\n",
    "* [Bag examples](https://examples.dask.org/bag.html)"
   ]
  },
  {
   "cell_type": "markdown",
   "metadata": {},
   "source": [
    "## Shutdown"
   ]
  },
  {
   "cell_type": "code",
   "execution_count": 31,
   "metadata": {
    "execution": {
     "iopub.execute_input": "2020-09-11T20:56:04.163606Z",
     "iopub.status.busy": "2020-09-11T20:56:04.162981Z",
     "iopub.status.idle": "2020-09-11T20:56:05.741712Z",
     "shell.execute_reply": "2020-09-11T20:56:05.742037Z"
    }
   },
   "outputs": [],
   "source": [
    "client.shutdown()"
   ]
  }
 ],
 "metadata": {
  "anaconda-cloud": {},
  "kernelspec": {
   "display_name": "Python 3",
   "language": "python",
   "name": "python3"
  },
  "language_info": {
   "codemirror_mode": {
    "name": "ipython",
    "version": 3
   },
   "file_extension": ".py",
   "mimetype": "text/x-python",
   "name": "python",
   "nbconvert_exporter": "python",
   "pygments_lexer": "ipython3",
   "version": "3.8.5"
  }
 },
 "nbformat": 4,
 "nbformat_minor": 4
}
