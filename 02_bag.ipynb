{
 "cells": [
  {
   "cell_type": "markdown",
   "metadata": {},
   "source": [
    "<img src=\"images/dask_horizontal.svg\" align=\"right\" width=\"30%\">"
   ]
  },
  {
   "cell_type": "markdown",
   "metadata": {},
   "source": [
    "# Bag: Parallel Lists for semi-structured data"
   ]
  },
  {
   "cell_type": "markdown",
   "metadata": {},
   "source": [
    "Dask-bag excels in processing data that can be represented as a sequence of arbitrary inputs. We'll refer to this as \"messy\" data, because it can contain complex nested structures, missing fields, mixtures of data types, etc. The *functional* programming style fits very nicely with standard Python iteration, such as can be found in the `itertools` module.\n",
    "\n",
    "Messy data is often encountered at the beginning of data processing pipelines when large volumes of raw data are first consumed. The initial set of data might be JSON, CSV, XML, or any other format that does not enforce strict structure and datatypes.\n",
    "For this reason, the initial data massaging and processing is often done with Python `list`s, `dict`s, and `set`s.\n",
    "\n",
    "These core data structures are optimized for general-purpose storage and processing.  Adding streaming computation with iterators/generator expressions or libraries like `itertools` or [`toolz`](https://toolz.readthedocs.io/en/latest/) let us process large volumes in a small space.  If we combine this with parallel processing then we can churn through a fair amount of data.\n",
    "\n",
    "Dask.bag is a high level Dask collection to automate common workloads of this form.  In a nutshell\n",
    "\n",
    "    dask.bag = map, filter, toolz + parallel execution\n",
    "    \n",
    "**Related Documentation**\n",
    "\n",
    "* [Bag documentation](https://docs.dask.org/en/latest/bag.html)\n",
    "* [Bag screencast](https://youtu.be/-qIiJ1XtSv0)\n",
    "* [Bag API](https://docs.dask.org/en/latest/bag-api.html)\n",
    "* [Bag examples](https://examples.dask.org/bag.html)"
   ]
  },
  {
   "cell_type": "markdown",
   "metadata": {},
   "source": [
    "## Create data"
   ]
  },
  {
   "cell_type": "code",
   "execution_count": 1,
   "metadata": {},
   "outputs": [],
   "source": [
    "%run prep.py -d accounts"
   ]
  },
  {
   "cell_type": "markdown",
   "metadata": {},
   "source": [
    "## Setup"
   ]
  },
  {
   "cell_type": "markdown",
   "metadata": {},
   "source": [
    "Again, we'll use the distributed scheduler. Schedulers will be explained in depth [later](05_distributed.ipynb)."
   ]
  },
  {
   "cell_type": "code",
   "execution_count": 2,
   "metadata": {},
   "outputs": [],
   "source": [
    "from dask.distributed import Client\n",
    "\n",
    "client = Client(n_workers=4)"
   ]
  },
  {
   "cell_type": "markdown",
   "metadata": {},
   "source": [
    "## Creation"
   ]
  },
  {
   "cell_type": "markdown",
   "metadata": {},
   "source": [
    "You can create a `Bag` from a Python sequence, from files, from data on S3, etc.\n",
    "We demonstrate using `.take()` to show elements of the data. (Doing `.take(1)` results in a tuple with one element)\n",
    "\n",
    "Note that the data are partitioned into blocks, and there are many items per block. In the first example, the two partitions contain five elements each, and in the following two, each file is partitioned into one or more bytes blocks."
   ]
  },
  {
   "cell_type": "code",
   "execution_count": 3,
   "metadata": {},
   "outputs": [
    {
     "data": {
      "text/plain": [
       "(1, 2, 3)"
      ]
     },
     "execution_count": 3,
     "metadata": {},
     "output_type": "execute_result"
    }
   ],
   "source": [
    "# each element is an integer\n",
    "import dask.bag as db\n",
    "b = db.from_sequence([1, 2, 3, 4, 5, 6, 7, 8, 9, 10], npartitions=2)\n",
    "b.take(3)"
   ]
  },
  {
   "cell_type": "code",
   "execution_count": 4,
   "metadata": {},
   "outputs": [
    {
     "data": {
      "text/plain": [
       "('{\"id\": 0, \"name\": \"Hannah\", \"transactions\": [{\"transaction-id\": 1638, \"amount\": 2761}, {\"transaction-id\": 2040, \"amount\": 2812}, {\"transaction-id\": 3293, \"amount\": 2757}, {\"transaction-id\": 4295, \"amount\": 2945}, {\"transaction-id\": 4732, \"amount\": 3060}, {\"transaction-id\": 7018, \"amount\": 3003}, {\"transaction-id\": 7134, \"amount\": 2923}]}\\n',)"
      ]
     },
     "execution_count": 4,
     "metadata": {},
     "output_type": "execute_result"
    }
   ],
   "source": [
    "# each element is a text file, where each line is a JSON object\n",
    "# note that the compression is handled automatically\n",
    "import os\n",
    "b = db.read_text(os.path.join('data', 'accounts.*.json.gz'))\n",
    "b.take(1)"
   ]
  },
  {
   "cell_type": "code",
   "execution_count": 5,
   "metadata": {},
   "outputs": [
    {
     "data": {
      "text/plain": [
       "('VendorID,tpep_pickup_datetime,tpep_dropoff_datetime,passenger_count,trip_distance,pickup_longitude,pickup_latitude,RateCodeID,store_and_fwd_flag,dropoff_longitude,dropoff_latitude,payment_type,fare_amount,extra,mta_tax,tip_amount,tolls_amount,improvement_surcharge,total_amount\\n',)"
      ]
     },
     "execution_count": 5,
     "metadata": {},
     "output_type": "execute_result"
    }
   ],
   "source": [
    "# Requires `s3fs` library\n",
    "# each partition is a remote CSV text file\n",
    "b = db.read_text('s3://dask-data/nyc-taxi/2015/yellow_tripdata_2015-01.csv',\n",
    "                 storage_options={'anon': True})\n",
    "b.take(1)"
   ]
  },
  {
   "cell_type": "markdown",
   "metadata": {},
   "source": [
    "## Manipulation"
   ]
  },
  {
   "cell_type": "markdown",
   "metadata": {},
   "source": [
    "`Bag` objects hold the standard functional API found in projects like the Python standard library, `toolz`, or `pyspark`, including `map`, `filter`, `groupby`, etc..\n",
    "\n",
    "Operations on `Bag` objects create new bags.  Call the `.compute()` method to trigger execution, as we saw for `Delayed` objects.  "
   ]
  },
  {
   "cell_type": "code",
   "execution_count": 6,
   "metadata": {},
   "outputs": [
    {
     "data": {
      "text/plain": [
       "dask.bag<lambda, npartitions=10>"
      ]
     },
     "execution_count": 6,
     "metadata": {},
     "output_type": "execute_result"
    }
   ],
   "source": [
    "def is_even(n):\n",
    "    return n % 2 == 0\n",
    "\n",
    "b = db.from_sequence([1, 2, 3, 4, 5, 6, 7, 8, 9, 10])\n",
    "c = b.filter(is_even).map(lambda x: x ** 2)\n",
    "c"
   ]
  },
  {
   "cell_type": "code",
   "execution_count": 7,
   "metadata": {},
   "outputs": [
    {
     "data": {
      "text/plain": [
       "[4, 16, 36, 64, 100]"
      ]
     },
     "execution_count": 7,
     "metadata": {},
     "output_type": "execute_result"
    }
   ],
   "source": [
    "# blocking form: wait for completion (which is very fast in this case)\n",
    "c.compute()"
   ]
  },
  {
   "cell_type": "markdown",
   "metadata": {},
   "source": [
    "### Example: Accounts JSON data"
   ]
  },
  {
   "cell_type": "markdown",
   "metadata": {},
   "source": [
    "We've created a fake dataset of gzipped JSON data in your data directory.  This is like the example used in the `DataFrame` example we will see later, except that it has bundled up all of the entires for each individual `id` into a single record.  This is similar to data that you might collect off of a document store database or a web API.\n",
    "\n",
    "Each line is a JSON encoded dictionary with the following keys\n",
    "\n",
    "*  id: Unique identifier of the customer\n",
    "*  name: Name of the customer\n",
    "*  transactions: List of `transaction-id`, `amount` pairs, one for each transaction for the customer in that file"
   ]
  },
  {
   "cell_type": "code",
   "execution_count": 8,
   "metadata": {},
   "outputs": [
    {
     "data": {
      "text/plain": [
       "('{\"id\": 0, \"name\": \"Hannah\", \"transactions\": [{\"transaction-id\": 1638, \"amount\": 2761}, {\"transaction-id\": 2040, \"amount\": 2812}, {\"transaction-id\": 3293, \"amount\": 2757}, {\"transaction-id\": 4295, \"amount\": 2945}, {\"transaction-id\": 4732, \"amount\": 3060}, {\"transaction-id\": 7018, \"amount\": 3003}, {\"transaction-id\": 7134, \"amount\": 2923}]}\\n',\n",
       " '{\"id\": 1, \"name\": \"Victor\", \"transactions\": [{\"transaction-id\": 1318, \"amount\": 133}, {\"transaction-id\": 6993, \"amount\": 165}]}\\n',\n",
       " '{\"id\": 2, \"name\": \"Ursula\", \"transactions\": [{\"transaction-id\": 162, \"amount\": 1942}, {\"transaction-id\": 956, \"amount\": 1911}, {\"transaction-id\": 1136, \"amount\": 1739}, {\"transaction-id\": 1830, \"amount\": 2401}, {\"transaction-id\": 2214, \"amount\": 2088}, {\"transaction-id\": 3113, \"amount\": 2320}, {\"transaction-id\": 3581, \"amount\": 2068}, {\"transaction-id\": 4357, \"amount\": 1714}, {\"transaction-id\": 5710, \"amount\": 1914}, {\"transaction-id\": 9771, \"amount\": 2220}, {\"transaction-id\": 9991, \"amount\": 1934}]}\\n')"
      ]
     },
     "execution_count": 8,
     "metadata": {},
     "output_type": "execute_result"
    }
   ],
   "source": [
    "filename = os.path.join('data', 'accounts.*.json.gz')\n",
    "lines = db.read_text(filename)\n",
    "lines.take(3)"
   ]
  },
  {
   "cell_type": "markdown",
   "metadata": {},
   "source": [
    "Our data comes out of the file as lines of text. Notice that file decompression happened automatically. We can make this data look more reasonable by mapping the `json.loads` function onto our bag."
   ]
  },
  {
   "cell_type": "code",
   "execution_count": 9,
   "metadata": {},
   "outputs": [
    {
     "data": {
      "text/plain": [
       "({'id': 0,\n",
       "  'name': 'Hannah',\n",
       "  'transactions': [{'transaction-id': 1638, 'amount': 2761},\n",
       "   {'transaction-id': 2040, 'amount': 2812},\n",
       "   {'transaction-id': 3293, 'amount': 2757},\n",
       "   {'transaction-id': 4295, 'amount': 2945},\n",
       "   {'transaction-id': 4732, 'amount': 3060},\n",
       "   {'transaction-id': 7018, 'amount': 3003},\n",
       "   {'transaction-id': 7134, 'amount': 2923}]},\n",
       " {'id': 1,\n",
       "  'name': 'Victor',\n",
       "  'transactions': [{'transaction-id': 1318, 'amount': 133},\n",
       "   {'transaction-id': 6993, 'amount': 165}]},\n",
       " {'id': 2,\n",
       "  'name': 'Ursula',\n",
       "  'transactions': [{'transaction-id': 162, 'amount': 1942},\n",
       "   {'transaction-id': 956, 'amount': 1911},\n",
       "   {'transaction-id': 1136, 'amount': 1739},\n",
       "   {'transaction-id': 1830, 'amount': 2401},\n",
       "   {'transaction-id': 2214, 'amount': 2088},\n",
       "   {'transaction-id': 3113, 'amount': 2320},\n",
       "   {'transaction-id': 3581, 'amount': 2068},\n",
       "   {'transaction-id': 4357, 'amount': 1714},\n",
       "   {'transaction-id': 5710, 'amount': 1914},\n",
       "   {'transaction-id': 9771, 'amount': 2220},\n",
       "   {'transaction-id': 9991, 'amount': 1934}]})"
      ]
     },
     "execution_count": 9,
     "metadata": {},
     "output_type": "execute_result"
    }
   ],
   "source": [
    "import json\n",
    "js = lines.map(json.loads)\n",
    "# take: inspect first few elements\n",
    "js.take(3)"
   ]
  },
  {
   "cell_type": "markdown",
   "metadata": {},
   "source": [
    "### Basic Queries"
   ]
  },
  {
   "cell_type": "markdown",
   "metadata": {},
   "source": [
    "Once we parse our JSON data into proper Python objects (`dict`s, `list`s, etc.) we can perform more interesting queries by creating small Python functions to run on our data."
   ]
  },
  {
   "cell_type": "code",
   "execution_count": 10,
   "metadata": {},
   "outputs": [
    {
     "data": {
      "text/plain": [
       "({'id': 3,\n",
       "  'name': 'Alice',\n",
       "  'transactions': [{'transaction-id': 249, 'amount': 1193},\n",
       "   {'transaction-id': 289, 'amount': 1115},\n",
       "   {'transaction-id': 380, 'amount': 1109},\n",
       "   {'transaction-id': 792, 'amount': 1125},\n",
       "   {'transaction-id': 1084, 'amount': 1155},\n",
       "   {'transaction-id': 1217, 'amount': 1155},\n",
       "   {'transaction-id': 1315, 'amount': 1161},\n",
       "   {'transaction-id': 1500, 'amount': 1093},\n",
       "   {'transaction-id': 2065, 'amount': 1072},\n",
       "   {'transaction-id': 2296, 'amount': 1066},\n",
       "   {'transaction-id': 2360, 'amount': 1113},\n",
       "   {'transaction-id': 2652, 'amount': 1117},\n",
       "   {'transaction-id': 3498, 'amount': 1073},\n",
       "   {'transaction-id': 4242, 'amount': 1098},\n",
       "   {'transaction-id': 4356, 'amount': 1089},\n",
       "   {'transaction-id': 5060, 'amount': 1147},\n",
       "   {'transaction-id': 5628, 'amount': 1128},\n",
       "   {'transaction-id': 5651, 'amount': 1123},\n",
       "   {'transaction-id': 6474, 'amount': 1116},\n",
       "   {'transaction-id': 6801, 'amount': 1149},\n",
       "   {'transaction-id': 6888, 'amount': 1054},\n",
       "   {'transaction-id': 7330, 'amount': 1151},\n",
       "   {'transaction-id': 7725, 'amount': 1115},\n",
       "   {'transaction-id': 8239, 'amount': 1026},\n",
       "   {'transaction-id': 8501, 'amount': 1112},\n",
       "   {'transaction-id': 8918, 'amount': 1144},\n",
       "   {'transaction-id': 8965, 'amount': 1169},\n",
       "   {'transaction-id': 9042, 'amount': 1140},\n",
       "   {'transaction-id': 9137, 'amount': 1151},\n",
       "   {'transaction-id': 9382, 'amount': 1118},\n",
       "   {'transaction-id': 9445, 'amount': 1169},\n",
       "   {'transaction-id': 9506, 'amount': 1067},\n",
       "   {'transaction-id': 9606, 'amount': 1038}]},\n",
       " {'id': 17,\n",
       "  'name': 'Alice',\n",
       "  'transactions': [{'transaction-id': 82, 'amount': 185},\n",
       "   {'transaction-id': 647, 'amount': 192},\n",
       "   {'transaction-id': 1851, 'amount': 177},\n",
       "   {'transaction-id': 1885, 'amount': 216},\n",
       "   {'transaction-id': 2130, 'amount': 174},\n",
       "   {'transaction-id': 2343, 'amount': 212},\n",
       "   {'transaction-id': 2480, 'amount': 196},\n",
       "   {'transaction-id': 2506, 'amount': 203},\n",
       "   {'transaction-id': 2691, 'amount': 194},\n",
       "   {'transaction-id': 2730, 'amount': 181},\n",
       "   {'transaction-id': 3120, 'amount': 187},\n",
       "   {'transaction-id': 3288, 'amount': 177},\n",
       "   {'transaction-id': 3393, 'amount': 229},\n",
       "   {'transaction-id': 3470, 'amount': 192},\n",
       "   {'transaction-id': 3680, 'amount': 196},\n",
       "   {'transaction-id': 4068, 'amount': 172},\n",
       "   {'transaction-id': 4134, 'amount': 204},\n",
       "   {'transaction-id': 4210, 'amount': 187},\n",
       "   {'transaction-id': 4278, 'amount': 170},\n",
       "   {'transaction-id': 4398, 'amount': 192},\n",
       "   {'transaction-id': 4611, 'amount': 170},\n",
       "   {'transaction-id': 5034, 'amount': 191},\n",
       "   {'transaction-id': 5157, 'amount': 194},\n",
       "   {'transaction-id': 5375, 'amount': 210},\n",
       "   {'transaction-id': 5421, 'amount': 183},\n",
       "   {'transaction-id': 5448, 'amount': 190},\n",
       "   {'transaction-id': 5524, 'amount': 189},\n",
       "   {'transaction-id': 6148, 'amount': 195},\n",
       "   {'transaction-id': 6553, 'amount': 202},\n",
       "   {'transaction-id': 7291, 'amount': 203},\n",
       "   {'transaction-id': 7293, 'amount': 203},\n",
       "   {'transaction-id': 7377, 'amount': 199},\n",
       "   {'transaction-id': 7727, 'amount': 177},\n",
       "   {'transaction-id': 7903, 'amount': 179},\n",
       "   {'transaction-id': 8013, 'amount': 198},\n",
       "   {'transaction-id': 8059, 'amount': 181},\n",
       "   {'transaction-id': 8196, 'amount': 206},\n",
       "   {'transaction-id': 8289, 'amount': 195},\n",
       "   {'transaction-id': 8679, 'amount': 206},\n",
       "   {'transaction-id': 9080, 'amount': 182},\n",
       "   {'transaction-id': 9813, 'amount': 195}]},\n",
       " {'id': 30,\n",
       "  'name': 'Alice',\n",
       "  'transactions': [{'transaction-id': 157, 'amount': -2330},\n",
       "   {'transaction-id': 275, 'amount': -2116},\n",
       "   {'transaction-id': 377, 'amount': -1745},\n",
       "   {'transaction-id': 654, 'amount': -2305},\n",
       "   {'transaction-id': 919, 'amount': -1829},\n",
       "   {'transaction-id': 1237, 'amount': -1441},\n",
       "   {'transaction-id': 1365, 'amount': -2006},\n",
       "   {'transaction-id': 1427, 'amount': -2105},\n",
       "   {'transaction-id': 1523, 'amount': -1358},\n",
       "   {'transaction-id': 1536, 'amount': -2210},\n",
       "   {'transaction-id': 1815, 'amount': -1427},\n",
       "   {'transaction-id': 1828, 'amount': -1901},\n",
       "   {'transaction-id': 2145, 'amount': -2296},\n",
       "   {'transaction-id': 2205, 'amount': -2414},\n",
       "   {'transaction-id': 2373, 'amount': -1954},\n",
       "   {'transaction-id': 3080, 'amount': -2250},\n",
       "   {'transaction-id': 3186, 'amount': -1829},\n",
       "   {'transaction-id': 3188, 'amount': -1719},\n",
       "   {'transaction-id': 3314, 'amount': -1565},\n",
       "   {'transaction-id': 3602, 'amount': -1358},\n",
       "   {'transaction-id': 3681, 'amount': -2414},\n",
       "   {'transaction-id': 3789, 'amount': -2472},\n",
       "   {'transaction-id': 4022, 'amount': -1675},\n",
       "   {'transaction-id': 4173, 'amount': -2178},\n",
       "   {'transaction-id': 4385, 'amount': -2577},\n",
       "   {'transaction-id': 4431, 'amount': -2138},\n",
       "   {'transaction-id': 4460, 'amount': -2767},\n",
       "   {'transaction-id': 5054, 'amount': -1808},\n",
       "   {'transaction-id': 5153, 'amount': -2049},\n",
       "   {'transaction-id': 5302, 'amount': -1701},\n",
       "   {'transaction-id': 5474, 'amount': -2158},\n",
       "   {'transaction-id': 5505, 'amount': -1807},\n",
       "   {'transaction-id': 5744, 'amount': -1759},\n",
       "   {'transaction-id': 5755, 'amount': -1952},\n",
       "   {'transaction-id': 5823, 'amount': -1747},\n",
       "   {'transaction-id': 5874, 'amount': -2186},\n",
       "   {'transaction-id': 5936, 'amount': -2069},\n",
       "   {'transaction-id': 6016, 'amount': -2089},\n",
       "   {'transaction-id': 6035, 'amount': -2597},\n",
       "   {'transaction-id': 6089, 'amount': -2679},\n",
       "   {'transaction-id': 6121, 'amount': -2353},\n",
       "   {'transaction-id': 6429, 'amount': -2225},\n",
       "   {'transaction-id': 6536, 'amount': -2130},\n",
       "   {'transaction-id': 6603, 'amount': -2078},\n",
       "   {'transaction-id': 6643, 'amount': -2372},\n",
       "   {'transaction-id': 6843, 'amount': -2129},\n",
       "   {'transaction-id': 7432, 'amount': -2124},\n",
       "   {'transaction-id': 7752, 'amount': -2440},\n",
       "   {'transaction-id': 7781, 'amount': -2108},\n",
       "   {'transaction-id': 7825, 'amount': -1966},\n",
       "   {'transaction-id': 7849, 'amount': -1480},\n",
       "   {'transaction-id': 8011, 'amount': -2541},\n",
       "   {'transaction-id': 8400, 'amount': -2600},\n",
       "   {'transaction-id': 8504, 'amount': -1640},\n",
       "   {'transaction-id': 8874, 'amount': -1975},\n",
       "   {'transaction-id': 8896, 'amount': -1688},\n",
       "   {'transaction-id': 9009, 'amount': -2352},\n",
       "   {'transaction-id': 9093, 'amount': -2065},\n",
       "   {'transaction-id': 9348, 'amount': -1734},\n",
       "   {'transaction-id': 9390, 'amount': -2363},\n",
       "   {'transaction-id': 9477, 'amount': -2410},\n",
       "   {'transaction-id': 9567, 'amount': -2370},\n",
       "   {'transaction-id': 9608, 'amount': -2174},\n",
       "   {'transaction-id': 9708, 'amount': -2011},\n",
       "   {'transaction-id': 9744, 'amount': -2428},\n",
       "   {'transaction-id': 9763, 'amount': -1584}]},\n",
       " {'id': 83,\n",
       "  'name': 'Alice',\n",
       "  'transactions': [{'transaction-id': 407, 'amount': 183},\n",
       "   {'transaction-id': 549, 'amount': 196},\n",
       "   {'transaction-id': 1448, 'amount': 178},\n",
       "   {'transaction-id': 1486, 'amount': 195},\n",
       "   {'transaction-id': 1722, 'amount': 162},\n",
       "   {'transaction-id': 1744, 'amount': 220},\n",
       "   {'transaction-id': 1864, 'amount': 213},\n",
       "   {'transaction-id': 2901, 'amount': 174},\n",
       "   {'transaction-id': 3015, 'amount': 197},\n",
       "   {'transaction-id': 3138, 'amount': 194},\n",
       "   {'transaction-id': 4834, 'amount': 226},\n",
       "   {'transaction-id': 5616, 'amount': 207},\n",
       "   {'transaction-id': 6142, 'amount': 182},\n",
       "   {'transaction-id': 6153, 'amount': 196},\n",
       "   {'transaction-id': 6322, 'amount': 169},\n",
       "   {'transaction-id': 6805, 'amount': 226},\n",
       "   {'transaction-id': 6973, 'amount': 213},\n",
       "   {'transaction-id': 7034, 'amount': 204},\n",
       "   {'transaction-id': 7376, 'amount': 185},\n",
       "   {'transaction-id': 9158, 'amount': 190},\n",
       "   {'transaction-id': 9521, 'amount': 217}]},\n",
       " {'id': 88,\n",
       "  'name': 'Alice',\n",
       "  'transactions': [{'transaction-id': 506, 'amount': 183},\n",
       "   {'transaction-id': 513, 'amount': 180},\n",
       "   {'transaction-id': 806, 'amount': 176},\n",
       "   {'transaction-id': 913, 'amount': 203},\n",
       "   {'transaction-id': 1345, 'amount': 175},\n",
       "   {'transaction-id': 1541, 'amount': 185},\n",
       "   {'transaction-id': 2277, 'amount': 174},\n",
       "   {'transaction-id': 2825, 'amount': 192},\n",
       "   {'transaction-id': 3022, 'amount': 182},\n",
       "   {'transaction-id': 4682, 'amount': 199},\n",
       "   {'transaction-id': 4767, 'amount': 183},\n",
       "   {'transaction-id': 5687, 'amount': 182},\n",
       "   {'transaction-id': 6587, 'amount': 195},\n",
       "   {'transaction-id': 7263, 'amount': 166},\n",
       "   {'transaction-id': 8080, 'amount': 183},\n",
       "   {'transaction-id': 8205, 'amount': 191},\n",
       "   {'transaction-id': 8219, 'amount': 186},\n",
       "   {'transaction-id': 8321, 'amount': 189},\n",
       "   {'transaction-id': 9402, 'amount': 183},\n",
       "   {'transaction-id': 9848, 'amount': 181}]})"
      ]
     },
     "execution_count": 10,
     "metadata": {},
     "output_type": "execute_result"
    }
   ],
   "source": [
    "# filter: keep only some elements of the sequence\n",
    "js.filter(lambda record: record['name'] == 'Alice').take(5)"
   ]
  },
  {
   "cell_type": "code",
   "execution_count": 11,
   "metadata": {},
   "outputs": [
    {
     "data": {
      "text/plain": [
       "({'name': 'Alice', 'count': 33},\n",
       " {'name': 'Alice', 'count': 41},\n",
       " {'name': 'Alice', 'count': 66},\n",
       " {'name': 'Alice', 'count': 21},\n",
       " {'name': 'Alice', 'count': 20})"
      ]
     },
     "execution_count": 11,
     "metadata": {},
     "output_type": "execute_result"
    }
   ],
   "source": [
    "def count_transactions(d):\n",
    "    return {'name': d['name'], 'count': len(d['transactions'])}\n",
    "\n",
    "# map: apply a function to each element\n",
    "(js.filter(lambda record: record['name'] == 'Alice')\n",
    "   .map(count_transactions)\n",
    "   .take(5))"
   ]
  },
  {
   "cell_type": "code",
   "execution_count": 12,
   "metadata": {},
   "outputs": [
    {
     "data": {
      "text/plain": [
       "(33, 41, 66, 21, 20)"
      ]
     },
     "execution_count": 12,
     "metadata": {},
     "output_type": "execute_result"
    }
   ],
   "source": [
    "# pluck: select a field, as from a dictionary, element[field]\n",
    "(js.filter(lambda record: record['name'] == 'Alice')\n",
    "   .map(count_transactions)\n",
    "   .pluck('count')\n",
    "   .take(5))"
   ]
  },
  {
   "cell_type": "code",
   "execution_count": 13,
   "metadata": {},
   "outputs": [
    {
     "data": {
      "text/plain": [
       "34.55950540958269"
      ]
     },
     "execution_count": 13,
     "metadata": {},
     "output_type": "execute_result"
    }
   ],
   "source": [
    "# Average number of transactions for all of the Alice entries\n",
    "(js.filter(lambda record: record['name'] == 'Alice')\n",
    "   .map(count_transactions)\n",
    "   .pluck('count')\n",
    "   .mean()\n",
    "   .compute())"
   ]
  },
  {
   "cell_type": "markdown",
   "metadata": {},
   "source": [
    "### Use `flatten` to de-nest"
   ]
  },
  {
   "cell_type": "markdown",
   "metadata": {},
   "source": [
    "In the example below we see the use of `.flatten()` to flatten results.  We compute the average amount for all transactions for all Alices."
   ]
  },
  {
   "cell_type": "code",
   "execution_count": 14,
   "metadata": {},
   "outputs": [
    {
     "data": {
      "text/plain": [
       "([{'transaction-id': 249, 'amount': 1193},\n",
       "  {'transaction-id': 289, 'amount': 1115},\n",
       "  {'transaction-id': 380, 'amount': 1109},\n",
       "  {'transaction-id': 792, 'amount': 1125},\n",
       "  {'transaction-id': 1084, 'amount': 1155},\n",
       "  {'transaction-id': 1217, 'amount': 1155},\n",
       "  {'transaction-id': 1315, 'amount': 1161},\n",
       "  {'transaction-id': 1500, 'amount': 1093},\n",
       "  {'transaction-id': 2065, 'amount': 1072},\n",
       "  {'transaction-id': 2296, 'amount': 1066},\n",
       "  {'transaction-id': 2360, 'amount': 1113},\n",
       "  {'transaction-id': 2652, 'amount': 1117},\n",
       "  {'transaction-id': 3498, 'amount': 1073},\n",
       "  {'transaction-id': 4242, 'amount': 1098},\n",
       "  {'transaction-id': 4356, 'amount': 1089},\n",
       "  {'transaction-id': 5060, 'amount': 1147},\n",
       "  {'transaction-id': 5628, 'amount': 1128},\n",
       "  {'transaction-id': 5651, 'amount': 1123},\n",
       "  {'transaction-id': 6474, 'amount': 1116},\n",
       "  {'transaction-id': 6801, 'amount': 1149},\n",
       "  {'transaction-id': 6888, 'amount': 1054},\n",
       "  {'transaction-id': 7330, 'amount': 1151},\n",
       "  {'transaction-id': 7725, 'amount': 1115},\n",
       "  {'transaction-id': 8239, 'amount': 1026},\n",
       "  {'transaction-id': 8501, 'amount': 1112},\n",
       "  {'transaction-id': 8918, 'amount': 1144},\n",
       "  {'transaction-id': 8965, 'amount': 1169},\n",
       "  {'transaction-id': 9042, 'amount': 1140},\n",
       "  {'transaction-id': 9137, 'amount': 1151},\n",
       "  {'transaction-id': 9382, 'amount': 1118},\n",
       "  {'transaction-id': 9445, 'amount': 1169},\n",
       "  {'transaction-id': 9506, 'amount': 1067},\n",
       "  {'transaction-id': 9606, 'amount': 1038}],\n",
       " [{'transaction-id': 82, 'amount': 185},\n",
       "  {'transaction-id': 647, 'amount': 192},\n",
       "  {'transaction-id': 1851, 'amount': 177},\n",
       "  {'transaction-id': 1885, 'amount': 216},\n",
       "  {'transaction-id': 2130, 'amount': 174},\n",
       "  {'transaction-id': 2343, 'amount': 212},\n",
       "  {'transaction-id': 2480, 'amount': 196},\n",
       "  {'transaction-id': 2506, 'amount': 203},\n",
       "  {'transaction-id': 2691, 'amount': 194},\n",
       "  {'transaction-id': 2730, 'amount': 181},\n",
       "  {'transaction-id': 3120, 'amount': 187},\n",
       "  {'transaction-id': 3288, 'amount': 177},\n",
       "  {'transaction-id': 3393, 'amount': 229},\n",
       "  {'transaction-id': 3470, 'amount': 192},\n",
       "  {'transaction-id': 3680, 'amount': 196},\n",
       "  {'transaction-id': 4068, 'amount': 172},\n",
       "  {'transaction-id': 4134, 'amount': 204},\n",
       "  {'transaction-id': 4210, 'amount': 187},\n",
       "  {'transaction-id': 4278, 'amount': 170},\n",
       "  {'transaction-id': 4398, 'amount': 192},\n",
       "  {'transaction-id': 4611, 'amount': 170},\n",
       "  {'transaction-id': 5034, 'amount': 191},\n",
       "  {'transaction-id': 5157, 'amount': 194},\n",
       "  {'transaction-id': 5375, 'amount': 210},\n",
       "  {'transaction-id': 5421, 'amount': 183},\n",
       "  {'transaction-id': 5448, 'amount': 190},\n",
       "  {'transaction-id': 5524, 'amount': 189},\n",
       "  {'transaction-id': 6148, 'amount': 195},\n",
       "  {'transaction-id': 6553, 'amount': 202},\n",
       "  {'transaction-id': 7291, 'amount': 203},\n",
       "  {'transaction-id': 7293, 'amount': 203},\n",
       "  {'transaction-id': 7377, 'amount': 199},\n",
       "  {'transaction-id': 7727, 'amount': 177},\n",
       "  {'transaction-id': 7903, 'amount': 179},\n",
       "  {'transaction-id': 8013, 'amount': 198},\n",
       "  {'transaction-id': 8059, 'amount': 181},\n",
       "  {'transaction-id': 8196, 'amount': 206},\n",
       "  {'transaction-id': 8289, 'amount': 195},\n",
       "  {'transaction-id': 8679, 'amount': 206},\n",
       "  {'transaction-id': 9080, 'amount': 182},\n",
       "  {'transaction-id': 9813, 'amount': 195}],\n",
       " [{'transaction-id': 157, 'amount': -2330},\n",
       "  {'transaction-id': 275, 'amount': -2116},\n",
       "  {'transaction-id': 377, 'amount': -1745},\n",
       "  {'transaction-id': 654, 'amount': -2305},\n",
       "  {'transaction-id': 919, 'amount': -1829},\n",
       "  {'transaction-id': 1237, 'amount': -1441},\n",
       "  {'transaction-id': 1365, 'amount': -2006},\n",
       "  {'transaction-id': 1427, 'amount': -2105},\n",
       "  {'transaction-id': 1523, 'amount': -1358},\n",
       "  {'transaction-id': 1536, 'amount': -2210},\n",
       "  {'transaction-id': 1815, 'amount': -1427},\n",
       "  {'transaction-id': 1828, 'amount': -1901},\n",
       "  {'transaction-id': 2145, 'amount': -2296},\n",
       "  {'transaction-id': 2205, 'amount': -2414},\n",
       "  {'transaction-id': 2373, 'amount': -1954},\n",
       "  {'transaction-id': 3080, 'amount': -2250},\n",
       "  {'transaction-id': 3186, 'amount': -1829},\n",
       "  {'transaction-id': 3188, 'amount': -1719},\n",
       "  {'transaction-id': 3314, 'amount': -1565},\n",
       "  {'transaction-id': 3602, 'amount': -1358},\n",
       "  {'transaction-id': 3681, 'amount': -2414},\n",
       "  {'transaction-id': 3789, 'amount': -2472},\n",
       "  {'transaction-id': 4022, 'amount': -1675},\n",
       "  {'transaction-id': 4173, 'amount': -2178},\n",
       "  {'transaction-id': 4385, 'amount': -2577},\n",
       "  {'transaction-id': 4431, 'amount': -2138},\n",
       "  {'transaction-id': 4460, 'amount': -2767},\n",
       "  {'transaction-id': 5054, 'amount': -1808},\n",
       "  {'transaction-id': 5153, 'amount': -2049},\n",
       "  {'transaction-id': 5302, 'amount': -1701},\n",
       "  {'transaction-id': 5474, 'amount': -2158},\n",
       "  {'transaction-id': 5505, 'amount': -1807},\n",
       "  {'transaction-id': 5744, 'amount': -1759},\n",
       "  {'transaction-id': 5755, 'amount': -1952},\n",
       "  {'transaction-id': 5823, 'amount': -1747},\n",
       "  {'transaction-id': 5874, 'amount': -2186},\n",
       "  {'transaction-id': 5936, 'amount': -2069},\n",
       "  {'transaction-id': 6016, 'amount': -2089},\n",
       "  {'transaction-id': 6035, 'amount': -2597},\n",
       "  {'transaction-id': 6089, 'amount': -2679},\n",
       "  {'transaction-id': 6121, 'amount': -2353},\n",
       "  {'transaction-id': 6429, 'amount': -2225},\n",
       "  {'transaction-id': 6536, 'amount': -2130},\n",
       "  {'transaction-id': 6603, 'amount': -2078},\n",
       "  {'transaction-id': 6643, 'amount': -2372},\n",
       "  {'transaction-id': 6843, 'amount': -2129},\n",
       "  {'transaction-id': 7432, 'amount': -2124},\n",
       "  {'transaction-id': 7752, 'amount': -2440},\n",
       "  {'transaction-id': 7781, 'amount': -2108},\n",
       "  {'transaction-id': 7825, 'amount': -1966},\n",
       "  {'transaction-id': 7849, 'amount': -1480},\n",
       "  {'transaction-id': 8011, 'amount': -2541},\n",
       "  {'transaction-id': 8400, 'amount': -2600},\n",
       "  {'transaction-id': 8504, 'amount': -1640},\n",
       "  {'transaction-id': 8874, 'amount': -1975},\n",
       "  {'transaction-id': 8896, 'amount': -1688},\n",
       "  {'transaction-id': 9009, 'amount': -2352},\n",
       "  {'transaction-id': 9093, 'amount': -2065},\n",
       "  {'transaction-id': 9348, 'amount': -1734},\n",
       "  {'transaction-id': 9390, 'amount': -2363},\n",
       "  {'transaction-id': 9477, 'amount': -2410},\n",
       "  {'transaction-id': 9567, 'amount': -2370},\n",
       "  {'transaction-id': 9608, 'amount': -2174},\n",
       "  {'transaction-id': 9708, 'amount': -2011},\n",
       "  {'transaction-id': 9744, 'amount': -2428},\n",
       "  {'transaction-id': 9763, 'amount': -1584}])"
      ]
     },
     "execution_count": 14,
     "metadata": {},
     "output_type": "execute_result"
    }
   ],
   "source": [
    "js.filter(lambda record: record['name'] == 'Alice').pluck('transactions').take(3)"
   ]
  },
  {
   "cell_type": "code",
   "execution_count": 15,
   "metadata": {},
   "outputs": [
    {
     "data": {
      "text/plain": [
       "({'transaction-id': 249, 'amount': 1193},\n",
       " {'transaction-id': 289, 'amount': 1115},\n",
       " {'transaction-id': 380, 'amount': 1109})"
      ]
     },
     "execution_count": 15,
     "metadata": {},
     "output_type": "execute_result"
    }
   ],
   "source": [
    "(js.filter(lambda record: record['name'] == 'Alice')\n",
    "   .pluck('transactions')\n",
    "   .flatten()\n",
    "   .take(3))"
   ]
  },
  {
   "cell_type": "code",
   "execution_count": 16,
   "metadata": {},
   "outputs": [
    {
     "data": {
      "text/plain": [
       "(1193, 1115, 1109)"
      ]
     },
     "execution_count": 16,
     "metadata": {},
     "output_type": "execute_result"
    }
   ],
   "source": [
    "(js.filter(lambda record: record['name'] == 'Alice')\n",
    "   .pluck('transactions')\n",
    "   .flatten()\n",
    "   .pluck('amount')\n",
    "   .take(3))"
   ]
  },
  {
   "cell_type": "code",
   "execution_count": 17,
   "metadata": {},
   "outputs": [
    {
     "data": {
      "text/plain": [
       "836.6685152057245"
      ]
     },
     "execution_count": 17,
     "metadata": {},
     "output_type": "execute_result"
    }
   ],
   "source": [
    "(js.filter(lambda record: record['name'] == 'Alice')\n",
    "   .pluck('transactions')\n",
    "   .flatten()\n",
    "   .pluck('amount')\n",
    "   .mean()\n",
    "   .compute())"
   ]
  },
  {
   "cell_type": "markdown",
   "metadata": {},
   "source": [
    "### Groupby and Foldby"
   ]
  },
  {
   "cell_type": "markdown",
   "metadata": {},
   "source": [
    "Often we want to group data by some function or key.  We can do this either with the `.groupby` method, which is straightforward but forces a full shuffle of the data (expensive) or with the harder-to-use but faster `.foldby` method, which does a streaming combined groupby and reduction.\n",
    "\n",
    "*  `groupby`:  Shuffles data so that all items with the same key are in the same key-value pair\n",
    "*  `foldby`:  Walks through the data accumulating a result per key\n",
    "\n",
    "*Note: the full groupby is particularly bad. In actual workloads you would do well to use `foldby` or switch to `DataFrame`s if possible.*"
   ]
  },
  {
   "cell_type": "markdown",
   "metadata": {},
   "source": [
    "### `groupby`"
   ]
  },
  {
   "cell_type": "markdown",
   "metadata": {},
   "source": [
    "Groupby collects items in your collection so that all items with the same value under some function are collected together into a key-value pair."
   ]
  },
  {
   "cell_type": "code",
   "execution_count": 18,
   "metadata": {},
   "outputs": [
    {
     "data": {
      "text/plain": [
       "[(7, ['Charlie']), (3, ['Bob', 'Dan']), (5, ['Alice', 'Edith', 'Frank'])]"
      ]
     },
     "execution_count": 18,
     "metadata": {},
     "output_type": "execute_result"
    }
   ],
   "source": [
    "b = db.from_sequence(['Alice', 'Bob', 'Charlie', 'Dan', 'Edith', 'Frank'])\n",
    "b.groupby(len).compute()  # names grouped by length"
   ]
  },
  {
   "cell_type": "code",
   "execution_count": 19,
   "metadata": {},
   "outputs": [
    {
     "data": {
      "text/plain": [
       "[(0, [0, 2, 4, 6, 8]), (1, [1, 3, 5, 7, 9])]"
      ]
     },
     "execution_count": 19,
     "metadata": {},
     "output_type": "execute_result"
    }
   ],
   "source": [
    "b = db.from_sequence(list(range(10)))\n",
    "b.groupby(lambda x: x % 2).compute()"
   ]
  },
  {
   "cell_type": "code",
   "execution_count": 20,
   "metadata": {},
   "outputs": [
    {
     "data": {
      "text/plain": [
       "[(0, 8), (1, 9)]"
      ]
     },
     "execution_count": 20,
     "metadata": {},
     "output_type": "execute_result"
    }
   ],
   "source": [
    "b.groupby(lambda x: x % 2).starmap(lambda k, v: (k, max(v))).compute()"
   ]
  },
  {
   "cell_type": "markdown",
   "metadata": {},
   "source": [
    "### `foldby`"
   ]
  },
  {
   "cell_type": "markdown",
   "metadata": {},
   "source": [
    "Foldby can be quite odd at first.  It is similar to the following functions from other libraries:\n",
    "\n",
    "*  [`toolz.reduceby`](http://toolz.readthedocs.io/en/latest/streaming-analytics.html#streaming-split-apply-combine)\n",
    "*  [`pyspark.RDD.combineByKey`](http://abshinn.github.io/python/apache-spark/2014/10/11/using-combinebykey-in-apache-spark/)\n",
    "\n",
    "When using `foldby` you provide \n",
    "\n",
    "1.  A key function on which to group elements\n",
    "2.  A binary operator such as you would pass to `reduce` that you use to perform reduction per each group\n",
    "3.  A combine binary operator that can combine the results of two `reduce` calls on different parts of your dataset.\n",
    "\n",
    "Your reduction must be associative.  It will happen in parallel in each of the partitions of your dataset.  Then all of these intermediate results will be combined by the `combine` binary operator."
   ]
  },
  {
   "cell_type": "code",
   "execution_count": 21,
   "metadata": {},
   "outputs": [
    {
     "data": {
      "text/plain": [
       "[(0, 8), (1, 9)]"
      ]
     },
     "execution_count": 21,
     "metadata": {},
     "output_type": "execute_result"
    }
   ],
   "source": [
    "is_even = lambda x: x % 2\n",
    "b.foldby(is_even, binop=max, combine=max).compute()"
   ]
  },
  {
   "cell_type": "markdown",
   "metadata": {},
   "source": [
    "### Example with account data"
   ]
  },
  {
   "cell_type": "markdown",
   "metadata": {},
   "source": [
    "We find the number of people with the same name."
   ]
  },
  {
   "cell_type": "code",
   "execution_count": 22,
   "metadata": {},
   "outputs": [
    {
     "name": "stdout",
     "output_type": "stream",
     "text": [
      "[('Alice', 130), ('Alice', 166), ('Alice', 169), ('Alice', 182), ('Bob', 70), ('Bob', 91), ('Bob', 91), ('Bob', 98), ('Charlie', 58), ('Charlie', 77), ('Charlie', 81), ('Charlie', 83), ('Dan', 98), ('Dan', 129), ('Dan', 130), ('Dan', 139), ('Edith', 99), ('Edith', 130), ('Edith', 130), ('Edith', 139), ('Frank', 118), ('Frank', 148), ('Frank', 153), ('Frank', 167), ('George', 50), ('George', 65), ('George', 65), ('George', 70), ('Hannah', 50), ('Hannah', 65), ('Hannah', 65), ('Hannah', 70), ('Ingrid', 90), ('Ingrid', 117), ('Ingrid', 118), ('Ingrid', 126), ('Jerry', 112), ('Jerry', 145), ('Jerry', 147), ('Jerry', 160), ('Kevin', 80), ('Kevin', 104), ('Kevin', 104), ('Kevin', 112), ('Laura', 84), ('Laura', 111), ('Laura', 112), ('Laura', 120), ('Michael', 78), ('Michael', 310), ('Norbert', 125), ('Norbert', 158), ('Norbert', 161), ('Norbert', 173), ('Oliver', 90), ('Oliver', 117), ('Oliver', 117), ('Oliver', 126), ('Patricia', 129), ('Patricia', 167), ('Patricia', 348), ('Quinn', 77), ('Quinn', 100), ('Quinn', 102), ('Quinn', 108), ('Ray', 139), ('Ray', 175), ('Ray', 180), ('Ray', 192), ('Sarah', 70), ('Sarah', 91), ('Sarah', 91), ('Sarah', 98), ('Tim', 120), ('Tim', 156), ('Tim', 156), ('Tim', 168), ('Ursula', 70), ('Ursula', 91), ('Ursula', 91), ('Ursula', 98), ('Victor', 76), ('Victor', 96), ('Victor', 102), ('Victor', 107), ('Wendy', 138), ('Wendy', 149), ('Wendy', 247), ('Xavier', 78), ('Xavier', 98), ('Xavier', 100), ('Xavier', 107), ('Yvonne', 85), ('Yvonne', 114), ('Yvonne', 116), ('Yvonne', 125), ('Zelda', 138), ('Zelda', 173), ('Zelda', 175), ('Zelda', 188)]\n",
      "CPU times: user 4.9 s, sys: 459 ms, total: 5.35 s\n",
      "Wall time: 58.2 s\n"
     ]
    }
   ],
   "source": [
    "%%time\n",
    "# Warning, this one takes a while...\n",
    "result = js.groupby(lambda item: item['name']).starmap(lambda k, v: (k, len(v))).compute()\n",
    "print(sorted(result))"
   ]
  },
  {
   "cell_type": "code",
   "execution_count": 23,
   "metadata": {},
   "outputs": [
    {
     "name": "stdout",
     "output_type": "stream",
     "text": [
      "[('Alice', 647), ('Bob', 350), ('Charlie', 299), ('Dan', 496), ('Edith', 498), ('Frank', 586), ('George', 250), ('Hannah', 250), ('Ingrid', 451), ('Jerry', 564), ('Kevin', 400), ('Laura', 427), ('Michael', 388), ('Norbert', 617), ('Oliver', 450), ('Patricia', 644), ('Quinn', 387), ('Ray', 686), ('Sarah', 350), ('Tim', 600), ('Ursula', 350), ('Victor', 381), ('Wendy', 534), ('Xavier', 383), ('Yvonne', 440), ('Zelda', 674)]\n",
      "CPU times: user 194 ms, sys: 10.8 ms, total: 205 ms\n",
      "Wall time: 657 ms\n"
     ]
    }
   ],
   "source": [
    "%%time\n",
    "# This one is comparatively fast and produces the same result.\n",
    "from operator import add\n",
    "def incr(tot, _):\n",
    "    return tot+1\n",
    "\n",
    "result = js.foldby(key='name', \n",
    "                   binop=incr, \n",
    "                   initial=0, \n",
    "                   combine=add, \n",
    "                   combine_initial=0).compute()\n",
    "print(sorted(result))"
   ]
  },
  {
   "cell_type": "markdown",
   "metadata": {},
   "source": [
    "### Exercise: compute total amount per name"
   ]
  },
  {
   "cell_type": "markdown",
   "metadata": {},
   "source": [
    "We want to groupby (or foldby) the `name` key, then add up the all of the amounts for each name.\n",
    "\n",
    "Steps\n",
    "\n",
    "1.  Create a small function that, given a dictionary like \n",
    "\n",
    "        {'name': 'Alice', 'transactions': [{'amount': 1, 'id': 123}, {'amount': 2, 'id': 456}]}\n",
    "        \n",
    "    produces the sum of the amounts, e.g. `3`\n",
    "    \n",
    "2.  Slightly change the binary operator of the `foldby` example above so that the binary operator doesn't count the number of entries, but instead accumulates the sum of the amounts."
   ]
  },
  {
   "cell_type": "code",
   "execution_count": 24,
   "metadata": {},
   "outputs": [],
   "source": [
    "# Your code here..."
   ]
  },
  {
   "cell_type": "markdown",
   "metadata": {},
   "source": [
    "## DataFrames"
   ]
  },
  {
   "cell_type": "markdown",
   "metadata": {},
   "source": [
    "For the same reasons that Pandas is often faster than pure Python, `dask.dataframe` can be faster than `dask.bag`.  We will work more with DataFrames later, but from for the bag point of view, they are frequently the end-point of the \"messy\" part of data ingestion—once the data can be made into a data-frame, then complex split-apply-combine logic will become much more straight-forward and efficient.\n",
    "\n",
    "You can transform a bag with a simple tuple or flat dictionary structure into a `dask.dataframe` with the `to_dataframe` method."
   ]
  },
  {
   "cell_type": "code",
   "execution_count": 25,
   "metadata": {},
   "outputs": [
    {
     "data": {
      "text/html": [
       "<div>\n",
       "<style scoped>\n",
       "    .dataframe tbody tr th:only-of-type {\n",
       "        vertical-align: middle;\n",
       "    }\n",
       "\n",
       "    .dataframe tbody tr th {\n",
       "        vertical-align: top;\n",
       "    }\n",
       "\n",
       "    .dataframe thead th {\n",
       "        text-align: right;\n",
       "    }\n",
       "</style>\n",
       "<table border=\"1\" class=\"dataframe\">\n",
       "  <thead>\n",
       "    <tr style=\"text-align: right;\">\n",
       "      <th></th>\n",
       "      <th>id</th>\n",
       "      <th>name</th>\n",
       "      <th>transactions</th>\n",
       "    </tr>\n",
       "  </thead>\n",
       "  <tbody>\n",
       "    <tr>\n",
       "      <th>0</th>\n",
       "      <td>0</td>\n",
       "      <td>Hannah</td>\n",
       "      <td>[{'transaction-id': 1638, 'amount': 2761}, {'t...</td>\n",
       "    </tr>\n",
       "    <tr>\n",
       "      <th>1</th>\n",
       "      <td>1</td>\n",
       "      <td>Victor</td>\n",
       "      <td>[{'transaction-id': 1318, 'amount': 133}, {'tr...</td>\n",
       "    </tr>\n",
       "    <tr>\n",
       "      <th>2</th>\n",
       "      <td>2</td>\n",
       "      <td>Ursula</td>\n",
       "      <td>[{'transaction-id': 162, 'amount': 1942}, {'tr...</td>\n",
       "    </tr>\n",
       "    <tr>\n",
       "      <th>3</th>\n",
       "      <td>3</td>\n",
       "      <td>Alice</td>\n",
       "      <td>[{'transaction-id': 249, 'amount': 1193}, {'tr...</td>\n",
       "    </tr>\n",
       "    <tr>\n",
       "      <th>4</th>\n",
       "      <td>4</td>\n",
       "      <td>Jerry</td>\n",
       "      <td>[{'transaction-id': 28, 'amount': -1}, {'trans...</td>\n",
       "    </tr>\n",
       "  </tbody>\n",
       "</table>\n",
       "</div>"
      ],
      "text/plain": [
       "   id    name                                       transactions\n",
       "0   0  Hannah  [{'transaction-id': 1638, 'amount': 2761}, {'t...\n",
       "1   1  Victor  [{'transaction-id': 1318, 'amount': 133}, {'tr...\n",
       "2   2  Ursula  [{'transaction-id': 162, 'amount': 1942}, {'tr...\n",
       "3   3   Alice  [{'transaction-id': 249, 'amount': 1193}, {'tr...\n",
       "4   4   Jerry  [{'transaction-id': 28, 'amount': -1}, {'trans..."
      ]
     },
     "execution_count": 25,
     "metadata": {},
     "output_type": "execute_result"
    }
   ],
   "source": [
    "df1 = js.to_dataframe()\n",
    "df1.head()"
   ]
  },
  {
   "cell_type": "markdown",
   "metadata": {},
   "source": [
    "This now looks like a well-defined DataFrame, and we can apply Pandas-like computations to it efficiently."
   ]
  },
  {
   "cell_type": "markdown",
   "metadata": {},
   "source": [
    "Using a Dask DataFrame, how long does it take to do our prior computation of numbers of people with the same name?  It turns out that `dask.dataframe.groupby()` beats `dask.bag.groupby()` more than an order of magnitude; but it still cannot match `dask.bag.foldby()` for this case."
   ]
  },
  {
   "cell_type": "code",
   "execution_count": 26,
   "metadata": {},
   "outputs": [
    {
     "name": "stdout",
     "output_type": "stream",
     "text": [
      "CPU times: user 271 ms, sys: 14.4 ms, total: 286 ms\n",
      "Wall time: 1.86 s\n"
     ]
    },
    {
     "data": {
      "text/plain": [
       "name\n",
       "Alice      647\n",
       "Bob        350\n",
       "Charlie    299\n",
       "Dan        496\n",
       "Edith      498\n",
       "Name: id, dtype: int64"
      ]
     },
     "execution_count": 26,
     "metadata": {},
     "output_type": "execute_result"
    }
   ],
   "source": [
    "%time df1.groupby('name').id.count().compute().head()"
   ]
  },
  {
   "cell_type": "markdown",
   "metadata": {},
   "source": [
    "### Denormalization"
   ]
  },
  {
   "cell_type": "markdown",
   "metadata": {},
   "source": [
    "This DataFrame format is less-than-optimal because the `transactions` column is filled with nested data so Pandas has to revert to `object` dtype, which is quite slow in Pandas.  Ideally we want to transform to a dataframe only after we have flattened our data so that each record is a single `int`, `string`, `float`, etc.."
   ]
  },
  {
   "cell_type": "code",
   "execution_count": 27,
   "metadata": {},
   "outputs": [
    {
     "data": {
      "text/plain": [
       "({'id': 0, 'name': 'Hannah', 'amount': 2761, 'transaction-id': 1638},\n",
       " {'id': 0, 'name': 'Hannah', 'amount': 2812, 'transaction-id': 2040},\n",
       " {'id': 0, 'name': 'Hannah', 'amount': 2757, 'transaction-id': 3293})"
      ]
     },
     "execution_count": 27,
     "metadata": {},
     "output_type": "execute_result"
    }
   ],
   "source": [
    "def denormalize(record):\n",
    "    # returns a list for every nested item, each transaction of each person\n",
    "    return [{'id': record['id'], \n",
    "             'name': record['name'], \n",
    "             'amount': transaction['amount'], \n",
    "             'transaction-id': transaction['transaction-id']}\n",
    "            for transaction in record['transactions']]\n",
    "\n",
    "transactions = js.map(denormalize).flatten()\n",
    "transactions.take(3)"
   ]
  },
  {
   "cell_type": "code",
   "execution_count": 28,
   "metadata": {},
   "outputs": [
    {
     "data": {
      "text/html": [
       "<div>\n",
       "<style scoped>\n",
       "    .dataframe tbody tr th:only-of-type {\n",
       "        vertical-align: middle;\n",
       "    }\n",
       "\n",
       "    .dataframe tbody tr th {\n",
       "        vertical-align: top;\n",
       "    }\n",
       "\n",
       "    .dataframe thead th {\n",
       "        text-align: right;\n",
       "    }\n",
       "</style>\n",
       "<table border=\"1\" class=\"dataframe\">\n",
       "  <thead>\n",
       "    <tr style=\"text-align: right;\">\n",
       "      <th></th>\n",
       "      <th>id</th>\n",
       "      <th>name</th>\n",
       "      <th>amount</th>\n",
       "      <th>transaction-id</th>\n",
       "    </tr>\n",
       "  </thead>\n",
       "  <tbody>\n",
       "    <tr>\n",
       "      <th>0</th>\n",
       "      <td>0</td>\n",
       "      <td>Hannah</td>\n",
       "      <td>2761</td>\n",
       "      <td>1638</td>\n",
       "    </tr>\n",
       "    <tr>\n",
       "      <th>1</th>\n",
       "      <td>0</td>\n",
       "      <td>Hannah</td>\n",
       "      <td>2812</td>\n",
       "      <td>2040</td>\n",
       "    </tr>\n",
       "    <tr>\n",
       "      <th>2</th>\n",
       "      <td>0</td>\n",
       "      <td>Hannah</td>\n",
       "      <td>2757</td>\n",
       "      <td>3293</td>\n",
       "    </tr>\n",
       "    <tr>\n",
       "      <th>3</th>\n",
       "      <td>0</td>\n",
       "      <td>Hannah</td>\n",
       "      <td>2945</td>\n",
       "      <td>4295</td>\n",
       "    </tr>\n",
       "    <tr>\n",
       "      <th>4</th>\n",
       "      <td>0</td>\n",
       "      <td>Hannah</td>\n",
       "      <td>3060</td>\n",
       "      <td>4732</td>\n",
       "    </tr>\n",
       "  </tbody>\n",
       "</table>\n",
       "</div>"
      ],
      "text/plain": [
       "   id    name  amount  transaction-id\n",
       "0   0  Hannah    2761            1638\n",
       "1   0  Hannah    2812            2040\n",
       "2   0  Hannah    2757            3293\n",
       "3   0  Hannah    2945            4295\n",
       "4   0  Hannah    3060            4732"
      ]
     },
     "execution_count": 28,
     "metadata": {},
     "output_type": "execute_result"
    }
   ],
   "source": [
    "df = transactions.to_dataframe()\n",
    "df.head()"
   ]
  },
  {
   "cell_type": "code",
   "execution_count": 29,
   "metadata": {},
   "outputs": [
    {
     "name": "stdout",
     "output_type": "stream",
     "text": [
      "CPU times: user 264 ms, sys: 25 ms, total: 289 ms\n",
      "Wall time: 1.63 s\n"
     ]
    },
    {
     "data": {
      "text/plain": [
       "name\n",
       "Alice       22360\n",
       "Bob          9827\n",
       "Charlie      8440\n",
       "Dan         15072\n",
       "Edith       23656\n",
       "Frank       22274\n",
       "George      14846\n",
       "Hannah       3147\n",
       "Ingrid      18724\n",
       "Jerry       25025\n",
       "Kevin       16674\n",
       "Laura       26578\n",
       "Michael     22088\n",
       "Norbert     20743\n",
       "Oliver      21479\n",
       "Patricia    28533\n",
       "Quinn       12967\n",
       "Ray         46976\n",
       "Sarah       15772\n",
       "Tim         21512\n",
       "Ursula      11882\n",
       "Victor       8320\n",
       "Wendy       20823\n",
       "Xavier      20496\n",
       "Yvonne       7582\n",
       "Zelda       34204\n",
       "Name: transaction-id, dtype: int64"
      ]
     },
     "execution_count": 29,
     "metadata": {},
     "output_type": "execute_result"
    }
   ],
   "source": [
    "%%time\n",
    "# number of transactions per name\n",
    "# note that the time here includes the data load and ingestion\n",
    "df.groupby('name')['transaction-id'].count().compute()"
   ]
  },
  {
   "cell_type": "markdown",
   "metadata": {},
   "source": [
    "## Limitations"
   ]
  },
  {
   "cell_type": "markdown",
   "metadata": {},
   "source": [
    "Bags provide very general computation (any Python function.)  This generality\n",
    "comes at cost.  Bags have the following known limitations\n",
    "\n",
    "1.  Bag operations tend to be slower than array/dataframe computations in the\n",
    "    same way that Python tends to be slower than NumPy/Pandas\n",
    "2.  ``Bag.groupby`` is slow.  You should try to use ``Bag.foldby`` if possible.\n",
    "    Using ``Bag.foldby`` requires more thought. Even better, consider creating\n",
    "    a normalised dataframe."
   ]
  },
  {
   "cell_type": "markdown",
   "metadata": {},
   "source": [
    "## Learn More\n",
    "\n",
    "* [Bag documentation](https://docs.dask.org/en/latest/bag.html)\n",
    "* [Bag screencast](https://youtu.be/-qIiJ1XtSv0)\n",
    "* [Bag API](https://docs.dask.org/en/latest/bag-api.html)\n",
    "* [Bag examples](https://examples.dask.org/bag.html)"
   ]
  },
  {
   "cell_type": "markdown",
   "metadata": {},
   "source": [
    "## Shutdown"
   ]
  },
  {
   "cell_type": "code",
   "execution_count": 30,
   "metadata": {},
   "outputs": [],
   "source": [
    "client.shutdown()"
   ]
  },
  {
   "cell_type": "code",
   "execution_count": null,
   "metadata": {},
   "outputs": [],
   "source": []
  }
 ],
 "metadata": {
  "anaconda-cloud": {},
  "kernelspec": {
   "display_name": "Python 3",
   "language": "python",
   "name": "python3"
  },
  "language_info": {
   "codemirror_mode": {
    "name": "ipython",
    "version": 3
   },
   "file_extension": ".py",
   "mimetype": "text/x-python",
   "name": "python",
   "nbconvert_exporter": "python",
   "pygments_lexer": "ipython3",
   "version": "3.7.6"
  }
 },
 "nbformat": 4,
 "nbformat_minor": 4
}
