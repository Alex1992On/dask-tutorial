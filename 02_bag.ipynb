{
 "cells": [
  {
   "cell_type": "markdown",
   "metadata": {},
   "source": [
    "<img src=\"images/dask_horizontal.svg\" align=\"right\" width=\"30%\">"
   ]
  },
  {
   "cell_type": "markdown",
   "metadata": {},
   "source": [
    "# Bag: Parallel Lists for semi-structured data"
   ]
  },
  {
   "cell_type": "markdown",
   "metadata": {},
   "source": [
    "Dask-bag excels in processing data that can be represented as a sequence of arbitrary inputs. We'll refer to this as \"messy\" data, because it can contain complex nested structures, missing fields, mixtures of data types, etc. The *functional* programming style fits very nicely with standard Python iteration, such as can be found in the `itertools` module.\n",
    "\n",
    "Messy data is often encountered at the beginning of data processing pipelines when large volumes of raw data are first consumed. The initial set of data might be JSON, CSV, XML, or any other format that does not enforce strict structure and datatypes.\n",
    "For this reason, the initial data massaging and processing is often done with Python `list`s, `dict`s, and `set`s.\n",
    "\n",
    "These core data structures are optimized for general-purpose storage and processing.  Adding streaming computation with iterators/generator expressions or libraries like `itertools` or [`toolz`](https://toolz.readthedocs.io/en/latest/) let us process large volumes in a small space.  If we combine this with parallel processing then we can churn through a fair amount of data.\n",
    "\n",
    "Dask.bag is a high level Dask collection to automate common workloads of this form.  In a nutshell\n",
    "\n",
    "    dask.bag = map, filter, toolz + parallel execution\n",
    "    \n",
    "**Related Documentation**\n",
    "\n",
    "* [Bag documentation](https://docs.dask.org/en/latest/bag.html)\n",
    "* [Bag screencast](https://youtu.be/-qIiJ1XtSv0)\n",
    "* [Bag API](https://docs.dask.org/en/latest/bag-api.html)\n",
    "* [Bag examples](https://examples.dask.org/bag.html)"
   ]
  },
  {
   "cell_type": "markdown",
   "metadata": {},
   "source": [
    "## Create data"
   ]
  },
  {
   "cell_type": "code",
   "execution_count": 1,
   "metadata": {},
   "outputs": [],
   "source": [
    "%run prep.py -d accounts"
   ]
  },
  {
   "cell_type": "markdown",
   "metadata": {},
   "source": [
    "## Setup"
   ]
  },
  {
   "cell_type": "markdown",
   "metadata": {},
   "source": [
    "Again, we'll use the distributed scheduler. Schedulers will be explained in depth [later](05_distributed.ipynb)."
   ]
  },
  {
   "cell_type": "code",
   "execution_count": 2,
   "metadata": {},
   "outputs": [],
   "source": [
    "from dask.distributed import Client\n",
    "\n",
    "client = Client(n_workers=4)"
   ]
  },
  {
   "cell_type": "markdown",
   "metadata": {},
   "source": [
    "## Creation"
   ]
  },
  {
   "cell_type": "markdown",
   "metadata": {},
   "source": [
    "You can create a `Bag` from a Python sequence, from files, from data on S3, etc.\n",
    "We demonstrate using `.take()` to show elements of the data. (Doing `.take(1)` results in a tuple with one element)\n",
    "\n",
    "Note that the data are partitioned into blocks, and there are many items per block. In the first example, the two partitions contain five elements each, and in the following two, each file is partitioned into one or more bytes blocks."
   ]
  },
  {
   "cell_type": "code",
   "execution_count": 3,
   "metadata": {},
   "outputs": [
    {
     "data": {
      "text/plain": [
       "(1, 2, 3)"
      ]
     },
     "execution_count": 3,
     "metadata": {},
     "output_type": "execute_result"
    }
   ],
   "source": [
    "# each element is an integer\n",
    "import dask.bag as db\n",
    "b = db.from_sequence([1, 2, 3, 4, 5, 6, 7, 8, 9, 10], npartitions=2)\n",
    "b.take(3)"
   ]
  },
  {
   "cell_type": "code",
   "execution_count": 4,
   "metadata": {},
   "outputs": [
    {
     "data": {
      "text/plain": [
       "('{\"id\": 0, \"name\": \"Edith\", \"transactions\": [{\"transaction-id\": 424, \"amount\": 137}, {\"transaction-id\": 3146, \"amount\": 132}, {\"transaction-id\": 8930, \"amount\": 127}]}\\n',)"
      ]
     },
     "execution_count": 4,
     "metadata": {},
     "output_type": "execute_result"
    }
   ],
   "source": [
    "# each element is a text file, where each line is a JSON object\n",
    "# note that the compression is handled automatically\n",
    "import os\n",
    "b = db.read_text(os.path.join('data', 'accounts.*.json.gz'))\n",
    "b.take(1)"
   ]
  },
  {
   "cell_type": "code",
   "execution_count": 5,
   "metadata": {},
   "outputs": [
    {
     "data": {
      "text/plain": [
       "'s3://dask-data/nyc-taxi/2015/yellow_tripdata_2015-01.csv'"
      ]
     },
     "execution_count": 5,
     "metadata": {},
     "output_type": "execute_result"
    }
   ],
   "source": [
    "# Edit sources.py to configure source locations\n",
    "import sources\n",
    "sources.bag_url"
   ]
  },
  {
   "cell_type": "code",
   "execution_count": 6,
   "metadata": {},
   "outputs": [
    {
     "data": {
      "text/plain": [
       "('VendorID,tpep_pickup_datetime,tpep_dropoff_datetime,passenger_count,trip_distance,pickup_longitude,pickup_latitude,RateCodeID,store_and_fwd_flag,dropoff_longitude,dropoff_latitude,payment_type,fare_amount,extra,mta_tax,tip_amount,tolls_amount,improvement_surcharge,total_amount\\n',)"
      ]
     },
     "execution_count": 6,
     "metadata": {},
     "output_type": "execute_result"
    }
   ],
   "source": [
    "# Requires `s3fs` library\n",
    "# each partition is a remote CSV text file\n",
    "b = db.read_text(sources.bag_url,\n",
    "                 storage_options={'anon': True})\n",
    "b.take(1)"
   ]
  },
  {
   "cell_type": "markdown",
   "metadata": {},
   "source": [
    "## Manipulation"
   ]
  },
  {
   "cell_type": "markdown",
   "metadata": {},
   "source": [
    "`Bag` objects hold the standard functional API found in projects like the Python standard library, `toolz`, or `pyspark`, including `map`, `filter`, `groupby`, etc..\n",
    "\n",
    "Operations on `Bag` objects create new bags.  Call the `.compute()` method to trigger execution, as we saw for `Delayed` objects.  "
   ]
  },
  {
   "cell_type": "code",
   "execution_count": 7,
   "metadata": {},
   "outputs": [
    {
     "data": {
      "text/plain": [
       "dask.bag<lambda, npartitions=10>"
      ]
     },
     "execution_count": 7,
     "metadata": {},
     "output_type": "execute_result"
    }
   ],
   "source": [
    "def is_even(n):\n",
    "    return n % 2 == 0\n",
    "\n",
    "b = db.from_sequence([1, 2, 3, 4, 5, 6, 7, 8, 9, 10])\n",
    "c = b.filter(is_even).map(lambda x: x ** 2)\n",
    "c"
   ]
  },
  {
   "cell_type": "code",
   "execution_count": 8,
   "metadata": {},
   "outputs": [
    {
     "data": {
      "text/plain": [
       "[4, 16, 36, 64, 100]"
      ]
     },
     "execution_count": 8,
     "metadata": {},
     "output_type": "execute_result"
    }
   ],
   "source": [
    "# blocking form: wait for completion (which is very fast in this case)\n",
    "c.compute()"
   ]
  },
  {
   "cell_type": "markdown",
   "metadata": {},
   "source": [
    "### Example: Accounts JSON data"
   ]
  },
  {
   "cell_type": "markdown",
   "metadata": {},
   "source": [
    "We've created a fake dataset of gzipped JSON data in your data directory.  This is like the example used in the `DataFrame` example we will see later, except that it has bundled up all of the entires for each individual `id` into a single record.  This is similar to data that you might collect off of a document store database or a web API.\n",
    "\n",
    "Each line is a JSON encoded dictionary with the following keys\n",
    "\n",
    "*  id: Unique identifier of the customer\n",
    "*  name: Name of the customer\n",
    "*  transactions: List of `transaction-id`, `amount` pairs, one for each transaction for the customer in that file"
   ]
  },
  {
   "cell_type": "code",
   "execution_count": 9,
   "metadata": {},
   "outputs": [
    {
     "data": {
      "text/plain": [
       "('{\"id\": 0, \"name\": \"Edith\", \"transactions\": [{\"transaction-id\": 424, \"amount\": 137}, {\"transaction-id\": 3146, \"amount\": 132}, {\"transaction-id\": 8930, \"amount\": 127}]}\\n',\n",
       " '{\"id\": 1, \"name\": \"Hannah\", \"transactions\": [{\"transaction-id\": 71, \"amount\": -842}, {\"transaction-id\": 177, \"amount\": -981}, {\"transaction-id\": 213, \"amount\": -959}, {\"transaction-id\": 400, \"amount\": -1058}, {\"transaction-id\": 422, \"amount\": -1095}, {\"transaction-id\": 593, \"amount\": -803}, {\"transaction-id\": 971, \"amount\": -1005}, {\"transaction-id\": 978, \"amount\": -1040}, {\"transaction-id\": 1049, \"amount\": -1005}, {\"transaction-id\": 1075, \"amount\": -1068}, {\"transaction-id\": 1094, \"amount\": -1230}, {\"transaction-id\": 1203, \"amount\": -1058}, {\"transaction-id\": 1250, \"amount\": -937}, {\"transaction-id\": 1480, \"amount\": -1335}, {\"transaction-id\": 1541, \"amount\": -1194}, {\"transaction-id\": 1715, \"amount\": -1234}, {\"transaction-id\": 1837, \"amount\": -1042}, {\"transaction-id\": 1857, \"amount\": -869}, {\"transaction-id\": 1975, \"amount\": -1266}, {\"transaction-id\": 2031, \"amount\": -1150}, {\"transaction-id\": 2233, \"amount\": -1069}, {\"transaction-id\": 2356, \"amount\": -903}, {\"transaction-id\": 2381, \"amount\": -1055}, {\"transaction-id\": 2390, \"amount\": -1053}, {\"transaction-id\": 2542, \"amount\": -1108}, {\"transaction-id\": 2654, \"amount\": -1126}, {\"transaction-id\": 2688, \"amount\": -1136}, {\"transaction-id\": 2713, \"amount\": -826}, {\"transaction-id\": 2741, \"amount\": -935}, {\"transaction-id\": 2764, \"amount\": -1024}, {\"transaction-id\": 2792, \"amount\": -1141}, {\"transaction-id\": 2825, \"amount\": -977}, {\"transaction-id\": 2982, \"amount\": -1077}, {\"transaction-id\": 3050, \"amount\": -865}, {\"transaction-id\": 3134, \"amount\": -763}, {\"transaction-id\": 3184, \"amount\": -1178}, {\"transaction-id\": 3426, \"amount\": -840}, {\"transaction-id\": 3573, \"amount\": -633}, {\"transaction-id\": 3704, \"amount\": -1299}, {\"transaction-id\": 3708, \"amount\": -987}, {\"transaction-id\": 4023, \"amount\": -1186}, {\"transaction-id\": 4038, \"amount\": -905}, {\"transaction-id\": 4056, \"amount\": -1218}, {\"transaction-id\": 4067, \"amount\": -1190}, {\"transaction-id\": 4071, \"amount\": -779}, {\"transaction-id\": 4090, \"amount\": -1107}, {\"transaction-id\": 4183, \"amount\": -1099}, {\"transaction-id\": 4193, \"amount\": -1152}, {\"transaction-id\": 4195, \"amount\": -1009}, {\"transaction-id\": 4239, \"amount\": -882}, {\"transaction-id\": 4246, \"amount\": -1017}, {\"transaction-id\": 4286, \"amount\": -861}, {\"transaction-id\": 4533, \"amount\": -1084}, {\"transaction-id\": 4636, \"amount\": -1153}, {\"transaction-id\": 4832, \"amount\": -1039}, {\"transaction-id\": 4840, \"amount\": -1349}, {\"transaction-id\": 4963, \"amount\": -1232}, {\"transaction-id\": 4999, \"amount\": -1234}, {\"transaction-id\": 5008, \"amount\": -1196}, {\"transaction-id\": 5078, \"amount\": -992}, {\"transaction-id\": 5202, \"amount\": -866}, {\"transaction-id\": 5281, \"amount\": -1022}, {\"transaction-id\": 5311, \"amount\": -820}, {\"transaction-id\": 5322, \"amount\": -948}, {\"transaction-id\": 5355, \"amount\": -1185}, {\"transaction-id\": 5382, \"amount\": -1223}, {\"transaction-id\": 5425, \"amount\": -1028}, {\"transaction-id\": 5426, \"amount\": -1035}, {\"transaction-id\": 5477, \"amount\": -1272}, {\"transaction-id\": 5505, \"amount\": -1097}, {\"transaction-id\": 5516, \"amount\": -994}, {\"transaction-id\": 5520, \"amount\": -1137}, {\"transaction-id\": 5679, \"amount\": -1210}, {\"transaction-id\": 5739, \"amount\": -1274}, {\"transaction-id\": 5759, \"amount\": -867}, {\"transaction-id\": 5860, \"amount\": -919}, {\"transaction-id\": 5879, \"amount\": -998}, {\"transaction-id\": 5896, \"amount\": -1119}, {\"transaction-id\": 5944, \"amount\": -832}, {\"transaction-id\": 5983, \"amount\": -940}, {\"transaction-id\": 6009, \"amount\": -1022}, {\"transaction-id\": 6056, \"amount\": -989}, {\"transaction-id\": 6059, \"amount\": -1242}, {\"transaction-id\": 6067, \"amount\": -1124}, {\"transaction-id\": 6150, \"amount\": -948}, {\"transaction-id\": 6235, \"amount\": -1264}, {\"transaction-id\": 6341, \"amount\": -1016}, {\"transaction-id\": 6601, \"amount\": -694}, {\"transaction-id\": 6625, \"amount\": -983}, {\"transaction-id\": 6682, \"amount\": -1081}, {\"transaction-id\": 6726, \"amount\": -873}, {\"transaction-id\": 6841, \"amount\": -1150}, {\"transaction-id\": 6938, \"amount\": -1065}, {\"transaction-id\": 6963, \"amount\": -944}, {\"transaction-id\": 7009, \"amount\": -1136}, {\"transaction-id\": 7047, \"amount\": -953}, {\"transaction-id\": 7153, \"amount\": -1426}, {\"transaction-id\": 7171, \"amount\": -1181}, {\"transaction-id\": 7392, \"amount\": -1081}, {\"transaction-id\": 7537, \"amount\": -959}, {\"transaction-id\": 7664, \"amount\": -910}, {\"transaction-id\": 7732, \"amount\": -1120}, {\"transaction-id\": 7781, \"amount\": -1137}, {\"transaction-id\": 7823, \"amount\": -1025}, {\"transaction-id\": 7826, \"amount\": -920}, {\"transaction-id\": 7829, \"amount\": -917}, {\"transaction-id\": 7876, \"amount\": -1040}, {\"transaction-id\": 8003, \"amount\": -953}, {\"transaction-id\": 8025, \"amount\": -1022}, {\"transaction-id\": 8031, \"amount\": -1121}, {\"transaction-id\": 8217, \"amount\": -1270}, {\"transaction-id\": 8238, \"amount\": -1006}, {\"transaction-id\": 8411, \"amount\": -972}, {\"transaction-id\": 8472, \"amount\": -1041}, {\"transaction-id\": 8611, \"amount\": -919}, {\"transaction-id\": 8612, \"amount\": -983}, {\"transaction-id\": 8647, \"amount\": -1277}, {\"transaction-id\": 8716, \"amount\": -783}, {\"transaction-id\": 8766, \"amount\": -1129}, {\"transaction-id\": 8776, \"amount\": -1219}, {\"transaction-id\": 8803, \"amount\": -1134}, {\"transaction-id\": 8807, \"amount\": -908}, {\"transaction-id\": 8863, \"amount\": -974}, {\"transaction-id\": 9057, \"amount\": -1167}, {\"transaction-id\": 9224, \"amount\": -964}, {\"transaction-id\": 9271, \"amount\": -949}, {\"transaction-id\": 9447, \"amount\": -946}, {\"transaction-id\": 9514, \"amount\": -805}, {\"transaction-id\": 9555, \"amount\": -860}, {\"transaction-id\": 9574, \"amount\": -1239}, {\"transaction-id\": 9613, \"amount\": -1096}, {\"transaction-id\": 9661, \"amount\": -968}, {\"transaction-id\": 9757, \"amount\": -905}, {\"transaction-id\": 9984, \"amount\": -1029}]}\\n',\n",
       " '{\"id\": 2, \"name\": \"Dan\", \"transactions\": [{\"transaction-id\": 785, \"amount\": 617}, {\"transaction-id\": 2221, \"amount\": 513}, {\"transaction-id\": 2432, \"amount\": 709}, {\"transaction-id\": 2763, \"amount\": 636}, {\"transaction-id\": 3235, \"amount\": 554}, {\"transaction-id\": 3394, \"amount\": 301}, {\"transaction-id\": 3571, \"amount\": 411}, {\"transaction-id\": 3617, \"amount\": 419}, {\"transaction-id\": 4488, \"amount\": 503}, {\"transaction-id\": 5213, \"amount\": 522}, {\"transaction-id\": 5220, \"amount\": 395}, {\"transaction-id\": 5245, \"amount\": 615}, {\"transaction-id\": 5373, \"amount\": 382}, {\"transaction-id\": 6424, \"amount\": 393}, {\"transaction-id\": 7056, \"amount\": 672}, {\"transaction-id\": 7851, \"amount\": 473}, {\"transaction-id\": 8168, \"amount\": 569}, {\"transaction-id\": 8608, \"amount\": 617}, {\"transaction-id\": 9679, \"amount\": 450}]}\\n')"
      ]
     },
     "execution_count": 9,
     "metadata": {},
     "output_type": "execute_result"
    }
   ],
   "source": [
    "filename = os.path.join('data', 'accounts.*.json.gz')\n",
    "lines = db.read_text(filename)\n",
    "lines.take(3)"
   ]
  },
  {
   "cell_type": "markdown",
   "metadata": {},
   "source": [
    "Our data comes out of the file as lines of text. Notice that file decompression happened automatically. We can make this data look more reasonable by mapping the `json.loads` function onto our bag."
   ]
  },
  {
   "cell_type": "code",
   "execution_count": 10,
   "metadata": {},
   "outputs": [
    {
     "data": {
      "text/plain": [
       "({'id': 0,\n",
       "  'name': 'Edith',\n",
       "  'transactions': [{'transaction-id': 424, 'amount': 137},\n",
       "   {'transaction-id': 3146, 'amount': 132},\n",
       "   {'transaction-id': 8930, 'amount': 127}]},\n",
       " {'id': 1,\n",
       "  'name': 'Hannah',\n",
       "  'transactions': [{'transaction-id': 71, 'amount': -842},\n",
       "   {'transaction-id': 177, 'amount': -981},\n",
       "   {'transaction-id': 213, 'amount': -959},\n",
       "   {'transaction-id': 400, 'amount': -1058},\n",
       "   {'transaction-id': 422, 'amount': -1095},\n",
       "   {'transaction-id': 593, 'amount': -803},\n",
       "   {'transaction-id': 971, 'amount': -1005},\n",
       "   {'transaction-id': 978, 'amount': -1040},\n",
       "   {'transaction-id': 1049, 'amount': -1005},\n",
       "   {'transaction-id': 1075, 'amount': -1068},\n",
       "   {'transaction-id': 1094, 'amount': -1230},\n",
       "   {'transaction-id': 1203, 'amount': -1058},\n",
       "   {'transaction-id': 1250, 'amount': -937},\n",
       "   {'transaction-id': 1480, 'amount': -1335},\n",
       "   {'transaction-id': 1541, 'amount': -1194},\n",
       "   {'transaction-id': 1715, 'amount': -1234},\n",
       "   {'transaction-id': 1837, 'amount': -1042},\n",
       "   {'transaction-id': 1857, 'amount': -869},\n",
       "   {'transaction-id': 1975, 'amount': -1266},\n",
       "   {'transaction-id': 2031, 'amount': -1150},\n",
       "   {'transaction-id': 2233, 'amount': -1069},\n",
       "   {'transaction-id': 2356, 'amount': -903},\n",
       "   {'transaction-id': 2381, 'amount': -1055},\n",
       "   {'transaction-id': 2390, 'amount': -1053},\n",
       "   {'transaction-id': 2542, 'amount': -1108},\n",
       "   {'transaction-id': 2654, 'amount': -1126},\n",
       "   {'transaction-id': 2688, 'amount': -1136},\n",
       "   {'transaction-id': 2713, 'amount': -826},\n",
       "   {'transaction-id': 2741, 'amount': -935},\n",
       "   {'transaction-id': 2764, 'amount': -1024},\n",
       "   {'transaction-id': 2792, 'amount': -1141},\n",
       "   {'transaction-id': 2825, 'amount': -977},\n",
       "   {'transaction-id': 2982, 'amount': -1077},\n",
       "   {'transaction-id': 3050, 'amount': -865},\n",
       "   {'transaction-id': 3134, 'amount': -763},\n",
       "   {'transaction-id': 3184, 'amount': -1178},\n",
       "   {'transaction-id': 3426, 'amount': -840},\n",
       "   {'transaction-id': 3573, 'amount': -633},\n",
       "   {'transaction-id': 3704, 'amount': -1299},\n",
       "   {'transaction-id': 3708, 'amount': -987},\n",
       "   {'transaction-id': 4023, 'amount': -1186},\n",
       "   {'transaction-id': 4038, 'amount': -905},\n",
       "   {'transaction-id': 4056, 'amount': -1218},\n",
       "   {'transaction-id': 4067, 'amount': -1190},\n",
       "   {'transaction-id': 4071, 'amount': -779},\n",
       "   {'transaction-id': 4090, 'amount': -1107},\n",
       "   {'transaction-id': 4183, 'amount': -1099},\n",
       "   {'transaction-id': 4193, 'amount': -1152},\n",
       "   {'transaction-id': 4195, 'amount': -1009},\n",
       "   {'transaction-id': 4239, 'amount': -882},\n",
       "   {'transaction-id': 4246, 'amount': -1017},\n",
       "   {'transaction-id': 4286, 'amount': -861},\n",
       "   {'transaction-id': 4533, 'amount': -1084},\n",
       "   {'transaction-id': 4636, 'amount': -1153},\n",
       "   {'transaction-id': 4832, 'amount': -1039},\n",
       "   {'transaction-id': 4840, 'amount': -1349},\n",
       "   {'transaction-id': 4963, 'amount': -1232},\n",
       "   {'transaction-id': 4999, 'amount': -1234},\n",
       "   {'transaction-id': 5008, 'amount': -1196},\n",
       "   {'transaction-id': 5078, 'amount': -992},\n",
       "   {'transaction-id': 5202, 'amount': -866},\n",
       "   {'transaction-id': 5281, 'amount': -1022},\n",
       "   {'transaction-id': 5311, 'amount': -820},\n",
       "   {'transaction-id': 5322, 'amount': -948},\n",
       "   {'transaction-id': 5355, 'amount': -1185},\n",
       "   {'transaction-id': 5382, 'amount': -1223},\n",
       "   {'transaction-id': 5425, 'amount': -1028},\n",
       "   {'transaction-id': 5426, 'amount': -1035},\n",
       "   {'transaction-id': 5477, 'amount': -1272},\n",
       "   {'transaction-id': 5505, 'amount': -1097},\n",
       "   {'transaction-id': 5516, 'amount': -994},\n",
       "   {'transaction-id': 5520, 'amount': -1137},\n",
       "   {'transaction-id': 5679, 'amount': -1210},\n",
       "   {'transaction-id': 5739, 'amount': -1274},\n",
       "   {'transaction-id': 5759, 'amount': -867},\n",
       "   {'transaction-id': 5860, 'amount': -919},\n",
       "   {'transaction-id': 5879, 'amount': -998},\n",
       "   {'transaction-id': 5896, 'amount': -1119},\n",
       "   {'transaction-id': 5944, 'amount': -832},\n",
       "   {'transaction-id': 5983, 'amount': -940},\n",
       "   {'transaction-id': 6009, 'amount': -1022},\n",
       "   {'transaction-id': 6056, 'amount': -989},\n",
       "   {'transaction-id': 6059, 'amount': -1242},\n",
       "   {'transaction-id': 6067, 'amount': -1124},\n",
       "   {'transaction-id': 6150, 'amount': -948},\n",
       "   {'transaction-id': 6235, 'amount': -1264},\n",
       "   {'transaction-id': 6341, 'amount': -1016},\n",
       "   {'transaction-id': 6601, 'amount': -694},\n",
       "   {'transaction-id': 6625, 'amount': -983},\n",
       "   {'transaction-id': 6682, 'amount': -1081},\n",
       "   {'transaction-id': 6726, 'amount': -873},\n",
       "   {'transaction-id': 6841, 'amount': -1150},\n",
       "   {'transaction-id': 6938, 'amount': -1065},\n",
       "   {'transaction-id': 6963, 'amount': -944},\n",
       "   {'transaction-id': 7009, 'amount': -1136},\n",
       "   {'transaction-id': 7047, 'amount': -953},\n",
       "   {'transaction-id': 7153, 'amount': -1426},\n",
       "   {'transaction-id': 7171, 'amount': -1181},\n",
       "   {'transaction-id': 7392, 'amount': -1081},\n",
       "   {'transaction-id': 7537, 'amount': -959},\n",
       "   {'transaction-id': 7664, 'amount': -910},\n",
       "   {'transaction-id': 7732, 'amount': -1120},\n",
       "   {'transaction-id': 7781, 'amount': -1137},\n",
       "   {'transaction-id': 7823, 'amount': -1025},\n",
       "   {'transaction-id': 7826, 'amount': -920},\n",
       "   {'transaction-id': 7829, 'amount': -917},\n",
       "   {'transaction-id': 7876, 'amount': -1040},\n",
       "   {'transaction-id': 8003, 'amount': -953},\n",
       "   {'transaction-id': 8025, 'amount': -1022},\n",
       "   {'transaction-id': 8031, 'amount': -1121},\n",
       "   {'transaction-id': 8217, 'amount': -1270},\n",
       "   {'transaction-id': 8238, 'amount': -1006},\n",
       "   {'transaction-id': 8411, 'amount': -972},\n",
       "   {'transaction-id': 8472, 'amount': -1041},\n",
       "   {'transaction-id': 8611, 'amount': -919},\n",
       "   {'transaction-id': 8612, 'amount': -983},\n",
       "   {'transaction-id': 8647, 'amount': -1277},\n",
       "   {'transaction-id': 8716, 'amount': -783},\n",
       "   {'transaction-id': 8766, 'amount': -1129},\n",
       "   {'transaction-id': 8776, 'amount': -1219},\n",
       "   {'transaction-id': 8803, 'amount': -1134},\n",
       "   {'transaction-id': 8807, 'amount': -908},\n",
       "   {'transaction-id': 8863, 'amount': -974},\n",
       "   {'transaction-id': 9057, 'amount': -1167},\n",
       "   {'transaction-id': 9224, 'amount': -964},\n",
       "   {'transaction-id': 9271, 'amount': -949},\n",
       "   {'transaction-id': 9447, 'amount': -946},\n",
       "   {'transaction-id': 9514, 'amount': -805},\n",
       "   {'transaction-id': 9555, 'amount': -860},\n",
       "   {'transaction-id': 9574, 'amount': -1239},\n",
       "   {'transaction-id': 9613, 'amount': -1096},\n",
       "   {'transaction-id': 9661, 'amount': -968},\n",
       "   {'transaction-id': 9757, 'amount': -905},\n",
       "   {'transaction-id': 9984, 'amount': -1029}]},\n",
       " {'id': 2,\n",
       "  'name': 'Dan',\n",
       "  'transactions': [{'transaction-id': 785, 'amount': 617},\n",
       "   {'transaction-id': 2221, 'amount': 513},\n",
       "   {'transaction-id': 2432, 'amount': 709},\n",
       "   {'transaction-id': 2763, 'amount': 636},\n",
       "   {'transaction-id': 3235, 'amount': 554},\n",
       "   {'transaction-id': 3394, 'amount': 301},\n",
       "   {'transaction-id': 3571, 'amount': 411},\n",
       "   {'transaction-id': 3617, 'amount': 419},\n",
       "   {'transaction-id': 4488, 'amount': 503},\n",
       "   {'transaction-id': 5213, 'amount': 522},\n",
       "   {'transaction-id': 5220, 'amount': 395},\n",
       "   {'transaction-id': 5245, 'amount': 615},\n",
       "   {'transaction-id': 5373, 'amount': 382},\n",
       "   {'transaction-id': 6424, 'amount': 393},\n",
       "   {'transaction-id': 7056, 'amount': 672},\n",
       "   {'transaction-id': 7851, 'amount': 473},\n",
       "   {'transaction-id': 8168, 'amount': 569},\n",
       "   {'transaction-id': 8608, 'amount': 617},\n",
       "   {'transaction-id': 9679, 'amount': 450}]})"
      ]
     },
     "execution_count": 10,
     "metadata": {},
     "output_type": "execute_result"
    }
   ],
   "source": [
    "import json\n",
    "js = lines.map(json.loads)\n",
    "# take: inspect first few elements\n",
    "js.take(3)"
   ]
  },
  {
   "cell_type": "markdown",
   "metadata": {},
   "source": [
    "### Basic Queries"
   ]
  },
  {
   "cell_type": "markdown",
   "metadata": {},
   "source": [
    "Once we parse our JSON data into proper Python objects (`dict`s, `list`s, etc.) we can perform more interesting queries by creating small Python functions to run on our data."
   ]
  },
  {
   "cell_type": "code",
   "execution_count": 11,
   "metadata": {},
   "outputs": [
    {
     "data": {
      "text/plain": [
       "({'id': 15,\n",
       "  'name': 'Alice',\n",
       "  'transactions': [{'transaction-id': 984, 'amount': 420},\n",
       "   {'transaction-id': 1036, 'amount': 468},\n",
       "   {'transaction-id': 2970, 'amount': 415},\n",
       "   {'transaction-id': 3071, 'amount': 484},\n",
       "   {'transaction-id': 3487, 'amount': 458},\n",
       "   {'transaction-id': 3922, 'amount': 460},\n",
       "   {'transaction-id': 4264, 'amount': 474},\n",
       "   {'transaction-id': 5447, 'amount': 430},\n",
       "   {'transaction-id': 5641, 'amount': 459},\n",
       "   {'transaction-id': 5907, 'amount': 406},\n",
       "   {'transaction-id': 5970, 'amount': 488},\n",
       "   {'transaction-id': 6071, 'amount': 438},\n",
       "   {'transaction-id': 6303, 'amount': 436},\n",
       "   {'transaction-id': 8273, 'amount': 485},\n",
       "   {'transaction-id': 8684, 'amount': 438},\n",
       "   {'transaction-id': 8940, 'amount': 449},\n",
       "   {'transaction-id': 9249, 'amount': 422},\n",
       "   {'transaction-id': 9320, 'amount': 448},\n",
       "   {'transaction-id': 9414, 'amount': 463},\n",
       "   {'transaction-id': 9767, 'amount': 443},\n",
       "   {'transaction-id': 9859, 'amount': 473},\n",
       "   {'transaction-id': 9870, 'amount': 403},\n",
       "   {'transaction-id': 9879, 'amount': 463}]},\n",
       " {'id': 32,\n",
       "  'name': 'Alice',\n",
       "  'transactions': [{'transaction-id': 136, 'amount': 110},\n",
       "   {'transaction-id': 137, 'amount': 171},\n",
       "   {'transaction-id': 153, 'amount': 114},\n",
       "   {'transaction-id': 211, 'amount': 110},\n",
       "   {'transaction-id': 296, 'amount': 155},\n",
       "   {'transaction-id': 323, 'amount': 126},\n",
       "   {'transaction-id': 337, 'amount': 119},\n",
       "   {'transaction-id': 397, 'amount': 61},\n",
       "   {'transaction-id': 514, 'amount': 6},\n",
       "   {'transaction-id': 663, 'amount': 143},\n",
       "   {'transaction-id': 719, 'amount': 67},\n",
       "   {'transaction-id': 869, 'amount': 255},\n",
       "   {'transaction-id': 966, 'amount': 106},\n",
       "   {'transaction-id': 1082, 'amount': 108},\n",
       "   {'transaction-id': 1142, 'amount': 85},\n",
       "   {'transaction-id': 1151, 'amount': 105},\n",
       "   {'transaction-id': 1631, 'amount': 136},\n",
       "   {'transaction-id': 1650, 'amount': -11},\n",
       "   {'transaction-id': 1711, 'amount': 167},\n",
       "   {'transaction-id': 1762, 'amount': 109},\n",
       "   {'transaction-id': 1832, 'amount': 137},\n",
       "   {'transaction-id': 1840, 'amount': 30},\n",
       "   {'transaction-id': 1989, 'amount': 154},\n",
       "   {'transaction-id': 2037, 'amount': 155},\n",
       "   {'transaction-id': 2100, 'amount': 72},\n",
       "   {'transaction-id': 2288, 'amount': 52},\n",
       "   {'transaction-id': 2655, 'amount': 33},\n",
       "   {'transaction-id': 2972, 'amount': 91},\n",
       "   {'transaction-id': 3209, 'amount': 8},\n",
       "   {'transaction-id': 3772, 'amount': 99},\n",
       "   {'transaction-id': 3863, 'amount': 231},\n",
       "   {'transaction-id': 3911, 'amount': 143},\n",
       "   {'transaction-id': 4202, 'amount': 163},\n",
       "   {'transaction-id': 4484, 'amount': 136},\n",
       "   {'transaction-id': 4563, 'amount': 151},\n",
       "   {'transaction-id': 4701, 'amount': 59},\n",
       "   {'transaction-id': 4730, 'amount': 195},\n",
       "   {'transaction-id': 4736, 'amount': 47},\n",
       "   {'transaction-id': 4956, 'amount': 187},\n",
       "   {'transaction-id': 5069, 'amount': 175},\n",
       "   {'transaction-id': 5259, 'amount': 33},\n",
       "   {'transaction-id': 5393, 'amount': 69},\n",
       "   {'transaction-id': 5429, 'amount': 93},\n",
       "   {'transaction-id': 5506, 'amount': 80},\n",
       "   {'transaction-id': 6195, 'amount': 206},\n",
       "   {'transaction-id': 6340, 'amount': 66},\n",
       "   {'transaction-id': 6387, 'amount': 58},\n",
       "   {'transaction-id': 6529, 'amount': 218},\n",
       "   {'transaction-id': 6574, 'amount': 136},\n",
       "   {'transaction-id': 6694, 'amount': 169},\n",
       "   {'transaction-id': 6700, 'amount': 84},\n",
       "   {'transaction-id': 6891, 'amount': 86},\n",
       "   {'transaction-id': 6943, 'amount': 159},\n",
       "   {'transaction-id': 6964, 'amount': 162},\n",
       "   {'transaction-id': 6994, 'amount': 75},\n",
       "   {'transaction-id': 7015, 'amount': 159},\n",
       "   {'transaction-id': 7107, 'amount': 68},\n",
       "   {'transaction-id': 7116, 'amount': 103},\n",
       "   {'transaction-id': 7170, 'amount': 45},\n",
       "   {'transaction-id': 7383, 'amount': 42},\n",
       "   {'transaction-id': 7452, 'amount': 87},\n",
       "   {'transaction-id': 7485, 'amount': 224},\n",
       "   {'transaction-id': 7750, 'amount': 160},\n",
       "   {'transaction-id': 7785, 'amount': 88},\n",
       "   {'transaction-id': 7913, 'amount': 146},\n",
       "   {'transaction-id': 8006, 'amount': 81},\n",
       "   {'transaction-id': 8108, 'amount': 109},\n",
       "   {'transaction-id': 8554, 'amount': 109},\n",
       "   {'transaction-id': 8613, 'amount': 168},\n",
       "   {'transaction-id': 8656, 'amount': 74},\n",
       "   {'transaction-id': 8671, 'amount': 123},\n",
       "   {'transaction-id': 8900, 'amount': 230},\n",
       "   {'transaction-id': 9155, 'amount': 166},\n",
       "   {'transaction-id': 9237, 'amount': 137},\n",
       "   {'transaction-id': 9256, 'amount': 73},\n",
       "   {'transaction-id': 9374, 'amount': 10},\n",
       "   {'transaction-id': 9652, 'amount': 33},\n",
       "   {'transaction-id': 9846, 'amount': 136}]},\n",
       " {'id': 42,\n",
       "  'name': 'Alice',\n",
       "  'transactions': [{'transaction-id': 83, 'amount': 670},\n",
       "   {'transaction-id': 151, 'amount': 658},\n",
       "   {'transaction-id': 191, 'amount': 695},\n",
       "   {'transaction-id': 209, 'amount': 613},\n",
       "   {'transaction-id': 239, 'amount': 672},\n",
       "   {'transaction-id': 289, 'amount': 690},\n",
       "   {'transaction-id': 320, 'amount': 597},\n",
       "   {'transaction-id': 324, 'amount': 582},\n",
       "   {'transaction-id': 521, 'amount': 565},\n",
       "   {'transaction-id': 578, 'amount': 583},\n",
       "   {'transaction-id': 601, 'amount': 695},\n",
       "   {'transaction-id': 660, 'amount': 646},\n",
       "   {'transaction-id': 740, 'amount': 650},\n",
       "   {'transaction-id': 888, 'amount': 537},\n",
       "   {'transaction-id': 951, 'amount': 595},\n",
       "   {'transaction-id': 989, 'amount': 572},\n",
       "   {'transaction-id': 1375, 'amount': 653},\n",
       "   {'transaction-id': 1410, 'amount': 694},\n",
       "   {'transaction-id': 1438, 'amount': 674},\n",
       "   {'transaction-id': 1447, 'amount': 654},\n",
       "   {'transaction-id': 1462, 'amount': 637},\n",
       "   {'transaction-id': 1652, 'amount': 741},\n",
       "   {'transaction-id': 1744, 'amount': 593},\n",
       "   {'transaction-id': 1757, 'amount': 655},\n",
       "   {'transaction-id': 1955, 'amount': 634},\n",
       "   {'transaction-id': 2012, 'amount': 671},\n",
       "   {'transaction-id': 2108, 'amount': 641},\n",
       "   {'transaction-id': 2301, 'amount': 633},\n",
       "   {'transaction-id': 2574, 'amount': 661},\n",
       "   {'transaction-id': 2612, 'amount': 710},\n",
       "   {'transaction-id': 2693, 'amount': 689},\n",
       "   {'transaction-id': 3045, 'amount': 656},\n",
       "   {'transaction-id': 3268, 'amount': 692},\n",
       "   {'transaction-id': 3319, 'amount': 592},\n",
       "   {'transaction-id': 3676, 'amount': 625},\n",
       "   {'transaction-id': 3716, 'amount': 546},\n",
       "   {'transaction-id': 3880, 'amount': 764},\n",
       "   {'transaction-id': 3975, 'amount': 607},\n",
       "   {'transaction-id': 3976, 'amount': 620},\n",
       "   {'transaction-id': 4013, 'amount': 592},\n",
       "   {'transaction-id': 4086, 'amount': 540},\n",
       "   {'transaction-id': 4093, 'amount': 723},\n",
       "   {'transaction-id': 4220, 'amount': 619},\n",
       "   {'transaction-id': 4255, 'amount': 648},\n",
       "   {'transaction-id': 4314, 'amount': 640},\n",
       "   {'transaction-id': 4453, 'amount': 663},\n",
       "   {'transaction-id': 4514, 'amount': 684},\n",
       "   {'transaction-id': 4536, 'amount': 529},\n",
       "   {'transaction-id': 4556, 'amount': 578},\n",
       "   {'transaction-id': 4614, 'amount': 644},\n",
       "   {'transaction-id': 4641, 'amount': 686},\n",
       "   {'transaction-id': 4645, 'amount': 628},\n",
       "   {'transaction-id': 4781, 'amount': 632},\n",
       "   {'transaction-id': 4899, 'amount': 579},\n",
       "   {'transaction-id': 4925, 'amount': 710},\n",
       "   {'transaction-id': 5061, 'amount': 721},\n",
       "   {'transaction-id': 5122, 'amount': 631},\n",
       "   {'transaction-id': 5212, 'amount': 735},\n",
       "   {'transaction-id': 5237, 'amount': 565},\n",
       "   {'transaction-id': 5316, 'amount': 709},\n",
       "   {'transaction-id': 5489, 'amount': 576},\n",
       "   {'transaction-id': 5664, 'amount': 684},\n",
       "   {'transaction-id': 5665, 'amount': 695},\n",
       "   {'transaction-id': 5735, 'amount': 662},\n",
       "   {'transaction-id': 5827, 'amount': 739},\n",
       "   {'transaction-id': 5833, 'amount': 623},\n",
       "   {'transaction-id': 5910, 'amount': 607},\n",
       "   {'transaction-id': 5995, 'amount': 635},\n",
       "   {'transaction-id': 6123, 'amount': 747},\n",
       "   {'transaction-id': 6142, 'amount': 572},\n",
       "   {'transaction-id': 6724, 'amount': 712},\n",
       "   {'transaction-id': 6773, 'amount': 675},\n",
       "   {'transaction-id': 6936, 'amount': 540},\n",
       "   {'transaction-id': 7118, 'amount': 592},\n",
       "   {'transaction-id': 7123, 'amount': 676},\n",
       "   {'transaction-id': 7143, 'amount': 562},\n",
       "   {'transaction-id': 7224, 'amount': 603},\n",
       "   {'transaction-id': 7325, 'amount': 671},\n",
       "   {'transaction-id': 7435, 'amount': 641},\n",
       "   {'transaction-id': 7824, 'amount': 654},\n",
       "   {'transaction-id': 7844, 'amount': 548},\n",
       "   {'transaction-id': 7973, 'amount': 642},\n",
       "   {'transaction-id': 8020, 'amount': 648},\n",
       "   {'transaction-id': 8057, 'amount': 591},\n",
       "   {'transaction-id': 8356, 'amount': 666},\n",
       "   {'transaction-id': 8606, 'amount': 517},\n",
       "   {'transaction-id': 8658, 'amount': 586},\n",
       "   {'transaction-id': 8672, 'amount': 640},\n",
       "   {'transaction-id': 8686, 'amount': 702},\n",
       "   {'transaction-id': 8755, 'amount': 641},\n",
       "   {'transaction-id': 8781, 'amount': 667},\n",
       "   {'transaction-id': 8798, 'amount': 716},\n",
       "   {'transaction-id': 8827, 'amount': 667},\n",
       "   {'transaction-id': 8939, 'amount': 675},\n",
       "   {'transaction-id': 8988, 'amount': 677},\n",
       "   {'transaction-id': 9053, 'amount': 645},\n",
       "   {'transaction-id': 9162, 'amount': 706},\n",
       "   {'transaction-id': 9207, 'amount': 766},\n",
       "   {'transaction-id': 9290, 'amount': 686},\n",
       "   {'transaction-id': 9564, 'amount': 595},\n",
       "   {'transaction-id': 9817, 'amount': 705},\n",
       "   {'transaction-id': 9898, 'amount': 614}]},\n",
       " {'id': 51,\n",
       "  'name': 'Alice',\n",
       "  'transactions': [{'transaction-id': 9, 'amount': -150},\n",
       "   {'transaction-id': 532, 'amount': -225},\n",
       "   {'transaction-id': 800, 'amount': -237},\n",
       "   {'transaction-id': 819, 'amount': -185},\n",
       "   {'transaction-id': 846, 'amount': -151},\n",
       "   {'transaction-id': 1159, 'amount': -272},\n",
       "   {'transaction-id': 1456, 'amount': -159},\n",
       "   {'transaction-id': 2642, 'amount': -343},\n",
       "   {'transaction-id': 2983, 'amount': -158},\n",
       "   {'transaction-id': 3234, 'amount': -88},\n",
       "   {'transaction-id': 3696, 'amount': -168},\n",
       "   {'transaction-id': 5399, 'amount': -236},\n",
       "   {'transaction-id': 6496, 'amount': -184},\n",
       "   {'transaction-id': 6623, 'amount': -197},\n",
       "   {'transaction-id': 7007, 'amount': -353},\n",
       "   {'transaction-id': 7296, 'amount': -301},\n",
       "   {'transaction-id': 7863, 'amount': -305},\n",
       "   {'transaction-id': 8008, 'amount': -163},\n",
       "   {'transaction-id': 8480, 'amount': -398},\n",
       "   {'transaction-id': 9190, 'amount': -129},\n",
       "   {'transaction-id': 9263, 'amount': -147},\n",
       "   {'transaction-id': 9963, 'amount': -266},\n",
       "   {'transaction-id': 9970, 'amount': -105}]},\n",
       " {'id': 62,\n",
       "  'name': 'Alice',\n",
       "  'transactions': [{'transaction-id': 114, 'amount': 221},\n",
       "   {'transaction-id': 171, 'amount': 144},\n",
       "   {'transaction-id': 242, 'amount': 197},\n",
       "   {'transaction-id': 774, 'amount': 218},\n",
       "   {'transaction-id': 788, 'amount': 199},\n",
       "   {'transaction-id': 1507, 'amount': 208},\n",
       "   {'transaction-id': 1613, 'amount': 201},\n",
       "   {'transaction-id': 1756, 'amount': 225},\n",
       "   {'transaction-id': 2468, 'amount': 246},\n",
       "   {'transaction-id': 2549, 'amount': 250},\n",
       "   {'transaction-id': 2563, 'amount': 190},\n",
       "   {'transaction-id': 2742, 'amount': 210},\n",
       "   {'transaction-id': 2796, 'amount': 236},\n",
       "   {'transaction-id': 2849, 'amount': 195},\n",
       "   {'transaction-id': 2907, 'amount': 197},\n",
       "   {'transaction-id': 3340, 'amount': 200},\n",
       "   {'transaction-id': 3525, 'amount': 204},\n",
       "   {'transaction-id': 3582, 'amount': 209},\n",
       "   {'transaction-id': 3730, 'amount': 238},\n",
       "   {'transaction-id': 4132, 'amount': 238},\n",
       "   {'transaction-id': 4145, 'amount': 162},\n",
       "   {'transaction-id': 4338, 'amount': 238},\n",
       "   {'transaction-id': 4574, 'amount': 192},\n",
       "   {'transaction-id': 4757, 'amount': 253},\n",
       "   {'transaction-id': 5009, 'amount': 215},\n",
       "   {'transaction-id': 5468, 'amount': 189},\n",
       "   {'transaction-id': 5555, 'amount': 216},\n",
       "   {'transaction-id': 5941, 'amount': 225},\n",
       "   {'transaction-id': 6248, 'amount': 223},\n",
       "   {'transaction-id': 6272, 'amount': 218},\n",
       "   {'transaction-id': 6435, 'amount': 179},\n",
       "   {'transaction-id': 6524, 'amount': 205},\n",
       "   {'transaction-id': 6641, 'amount': 180},\n",
       "   {'transaction-id': 6681, 'amount': 184},\n",
       "   {'transaction-id': 6877, 'amount': 221},\n",
       "   {'transaction-id': 7075, 'amount': 222},\n",
       "   {'transaction-id': 7818, 'amount': 221},\n",
       "   {'transaction-id': 7953, 'amount': 225},\n",
       "   {'transaction-id': 8562, 'amount': 217},\n",
       "   {'transaction-id': 8595, 'amount': 200},\n",
       "   {'transaction-id': 8670, 'amount': 246},\n",
       "   {'transaction-id': 8761, 'amount': 189},\n",
       "   {'transaction-id': 9375, 'amount': 225},\n",
       "   {'transaction-id': 9674, 'amount': 164},\n",
       "   {'transaction-id': 9718, 'amount': 194},\n",
       "   {'transaction-id': 9894, 'amount': 239},\n",
       "   {'transaction-id': 9989, 'amount': 220}]})"
      ]
     },
     "execution_count": 11,
     "metadata": {},
     "output_type": "execute_result"
    }
   ],
   "source": [
    "# filter: keep only some elements of the sequence\n",
    "js.filter(lambda record: record['name'] == 'Alice').take(5)"
   ]
  },
  {
   "cell_type": "code",
   "execution_count": 12,
   "metadata": {},
   "outputs": [
    {
     "data": {
      "text/plain": [
       "({'name': 'Alice', 'count': 23},\n",
       " {'name': 'Alice', 'count': 78},\n",
       " {'name': 'Alice', 'count': 102},\n",
       " {'name': 'Alice', 'count': 23},\n",
       " {'name': 'Alice', 'count': 47})"
      ]
     },
     "execution_count": 12,
     "metadata": {},
     "output_type": "execute_result"
    }
   ],
   "source": [
    "def count_transactions(d):\n",
    "    return {'name': d['name'], 'count': len(d['transactions'])}\n",
    "\n",
    "# map: apply a function to each element\n",
    "(js.filter(lambda record: record['name'] == 'Alice')\n",
    "   .map(count_transactions)\n",
    "   .take(5))"
   ]
  },
  {
   "cell_type": "code",
   "execution_count": 13,
   "metadata": {},
   "outputs": [
    {
     "data": {
      "text/plain": [
       "(23, 78, 102, 23, 47)"
      ]
     },
     "execution_count": 13,
     "metadata": {},
     "output_type": "execute_result"
    }
   ],
   "source": [
    "# pluck: select a field, as from a dictionary, element[field]\n",
    "(js.filter(lambda record: record['name'] == 'Alice')\n",
    "   .map(count_transactions)\n",
    "   .pluck('count')\n",
    "   .take(5))"
   ]
  },
  {
   "cell_type": "code",
   "execution_count": 14,
   "metadata": {},
   "outputs": [
    {
     "data": {
      "text/plain": [
       "54.89333333333333"
      ]
     },
     "execution_count": 14,
     "metadata": {},
     "output_type": "execute_result"
    }
   ],
   "source": [
    "# Average number of transactions for all of the Alice entries\n",
    "(js.filter(lambda record: record['name'] == 'Alice')\n",
    "   .map(count_transactions)\n",
    "   .pluck('count')\n",
    "   .mean()\n",
    "   .compute())"
   ]
  },
  {
   "cell_type": "markdown",
   "metadata": {},
   "source": [
    "### Use `flatten` to de-nest"
   ]
  },
  {
   "cell_type": "markdown",
   "metadata": {},
   "source": [
    "In the example below we see the use of `.flatten()` to flatten results.  We compute the average amount for all transactions for all Alices."
   ]
  },
  {
   "cell_type": "code",
   "execution_count": 15,
   "metadata": {},
   "outputs": [
    {
     "data": {
      "text/plain": [
       "([{'transaction-id': 984, 'amount': 420},\n",
       "  {'transaction-id': 1036, 'amount': 468},\n",
       "  {'transaction-id': 2970, 'amount': 415},\n",
       "  {'transaction-id': 3071, 'amount': 484},\n",
       "  {'transaction-id': 3487, 'amount': 458},\n",
       "  {'transaction-id': 3922, 'amount': 460},\n",
       "  {'transaction-id': 4264, 'amount': 474},\n",
       "  {'transaction-id': 5447, 'amount': 430},\n",
       "  {'transaction-id': 5641, 'amount': 459},\n",
       "  {'transaction-id': 5907, 'amount': 406},\n",
       "  {'transaction-id': 5970, 'amount': 488},\n",
       "  {'transaction-id': 6071, 'amount': 438},\n",
       "  {'transaction-id': 6303, 'amount': 436},\n",
       "  {'transaction-id': 8273, 'amount': 485},\n",
       "  {'transaction-id': 8684, 'amount': 438},\n",
       "  {'transaction-id': 8940, 'amount': 449},\n",
       "  {'transaction-id': 9249, 'amount': 422},\n",
       "  {'transaction-id': 9320, 'amount': 448},\n",
       "  {'transaction-id': 9414, 'amount': 463},\n",
       "  {'transaction-id': 9767, 'amount': 443},\n",
       "  {'transaction-id': 9859, 'amount': 473},\n",
       "  {'transaction-id': 9870, 'amount': 403},\n",
       "  {'transaction-id': 9879, 'amount': 463}],\n",
       " [{'transaction-id': 136, 'amount': 110},\n",
       "  {'transaction-id': 137, 'amount': 171},\n",
       "  {'transaction-id': 153, 'amount': 114},\n",
       "  {'transaction-id': 211, 'amount': 110},\n",
       "  {'transaction-id': 296, 'amount': 155},\n",
       "  {'transaction-id': 323, 'amount': 126},\n",
       "  {'transaction-id': 337, 'amount': 119},\n",
       "  {'transaction-id': 397, 'amount': 61},\n",
       "  {'transaction-id': 514, 'amount': 6},\n",
       "  {'transaction-id': 663, 'amount': 143},\n",
       "  {'transaction-id': 719, 'amount': 67},\n",
       "  {'transaction-id': 869, 'amount': 255},\n",
       "  {'transaction-id': 966, 'amount': 106},\n",
       "  {'transaction-id': 1082, 'amount': 108},\n",
       "  {'transaction-id': 1142, 'amount': 85},\n",
       "  {'transaction-id': 1151, 'amount': 105},\n",
       "  {'transaction-id': 1631, 'amount': 136},\n",
       "  {'transaction-id': 1650, 'amount': -11},\n",
       "  {'transaction-id': 1711, 'amount': 167},\n",
       "  {'transaction-id': 1762, 'amount': 109},\n",
       "  {'transaction-id': 1832, 'amount': 137},\n",
       "  {'transaction-id': 1840, 'amount': 30},\n",
       "  {'transaction-id': 1989, 'amount': 154},\n",
       "  {'transaction-id': 2037, 'amount': 155},\n",
       "  {'transaction-id': 2100, 'amount': 72},\n",
       "  {'transaction-id': 2288, 'amount': 52},\n",
       "  {'transaction-id': 2655, 'amount': 33},\n",
       "  {'transaction-id': 2972, 'amount': 91},\n",
       "  {'transaction-id': 3209, 'amount': 8},\n",
       "  {'transaction-id': 3772, 'amount': 99},\n",
       "  {'transaction-id': 3863, 'amount': 231},\n",
       "  {'transaction-id': 3911, 'amount': 143},\n",
       "  {'transaction-id': 4202, 'amount': 163},\n",
       "  {'transaction-id': 4484, 'amount': 136},\n",
       "  {'transaction-id': 4563, 'amount': 151},\n",
       "  {'transaction-id': 4701, 'amount': 59},\n",
       "  {'transaction-id': 4730, 'amount': 195},\n",
       "  {'transaction-id': 4736, 'amount': 47},\n",
       "  {'transaction-id': 4956, 'amount': 187},\n",
       "  {'transaction-id': 5069, 'amount': 175},\n",
       "  {'transaction-id': 5259, 'amount': 33},\n",
       "  {'transaction-id': 5393, 'amount': 69},\n",
       "  {'transaction-id': 5429, 'amount': 93},\n",
       "  {'transaction-id': 5506, 'amount': 80},\n",
       "  {'transaction-id': 6195, 'amount': 206},\n",
       "  {'transaction-id': 6340, 'amount': 66},\n",
       "  {'transaction-id': 6387, 'amount': 58},\n",
       "  {'transaction-id': 6529, 'amount': 218},\n",
       "  {'transaction-id': 6574, 'amount': 136},\n",
       "  {'transaction-id': 6694, 'amount': 169},\n",
       "  {'transaction-id': 6700, 'amount': 84},\n",
       "  {'transaction-id': 6891, 'amount': 86},\n",
       "  {'transaction-id': 6943, 'amount': 159},\n",
       "  {'transaction-id': 6964, 'amount': 162},\n",
       "  {'transaction-id': 6994, 'amount': 75},\n",
       "  {'transaction-id': 7015, 'amount': 159},\n",
       "  {'transaction-id': 7107, 'amount': 68},\n",
       "  {'transaction-id': 7116, 'amount': 103},\n",
       "  {'transaction-id': 7170, 'amount': 45},\n",
       "  {'transaction-id': 7383, 'amount': 42},\n",
       "  {'transaction-id': 7452, 'amount': 87},\n",
       "  {'transaction-id': 7485, 'amount': 224},\n",
       "  {'transaction-id': 7750, 'amount': 160},\n",
       "  {'transaction-id': 7785, 'amount': 88},\n",
       "  {'transaction-id': 7913, 'amount': 146},\n",
       "  {'transaction-id': 8006, 'amount': 81},\n",
       "  {'transaction-id': 8108, 'amount': 109},\n",
       "  {'transaction-id': 8554, 'amount': 109},\n",
       "  {'transaction-id': 8613, 'amount': 168},\n",
       "  {'transaction-id': 8656, 'amount': 74},\n",
       "  {'transaction-id': 8671, 'amount': 123},\n",
       "  {'transaction-id': 8900, 'amount': 230},\n",
       "  {'transaction-id': 9155, 'amount': 166},\n",
       "  {'transaction-id': 9237, 'amount': 137},\n",
       "  {'transaction-id': 9256, 'amount': 73},\n",
       "  {'transaction-id': 9374, 'amount': 10},\n",
       "  {'transaction-id': 9652, 'amount': 33},\n",
       "  {'transaction-id': 9846, 'amount': 136}],\n",
       " [{'transaction-id': 83, 'amount': 670},\n",
       "  {'transaction-id': 151, 'amount': 658},\n",
       "  {'transaction-id': 191, 'amount': 695},\n",
       "  {'transaction-id': 209, 'amount': 613},\n",
       "  {'transaction-id': 239, 'amount': 672},\n",
       "  {'transaction-id': 289, 'amount': 690},\n",
       "  {'transaction-id': 320, 'amount': 597},\n",
       "  {'transaction-id': 324, 'amount': 582},\n",
       "  {'transaction-id': 521, 'amount': 565},\n",
       "  {'transaction-id': 578, 'amount': 583},\n",
       "  {'transaction-id': 601, 'amount': 695},\n",
       "  {'transaction-id': 660, 'amount': 646},\n",
       "  {'transaction-id': 740, 'amount': 650},\n",
       "  {'transaction-id': 888, 'amount': 537},\n",
       "  {'transaction-id': 951, 'amount': 595},\n",
       "  {'transaction-id': 989, 'amount': 572},\n",
       "  {'transaction-id': 1375, 'amount': 653},\n",
       "  {'transaction-id': 1410, 'amount': 694},\n",
       "  {'transaction-id': 1438, 'amount': 674},\n",
       "  {'transaction-id': 1447, 'amount': 654},\n",
       "  {'transaction-id': 1462, 'amount': 637},\n",
       "  {'transaction-id': 1652, 'amount': 741},\n",
       "  {'transaction-id': 1744, 'amount': 593},\n",
       "  {'transaction-id': 1757, 'amount': 655},\n",
       "  {'transaction-id': 1955, 'amount': 634},\n",
       "  {'transaction-id': 2012, 'amount': 671},\n",
       "  {'transaction-id': 2108, 'amount': 641},\n",
       "  {'transaction-id': 2301, 'amount': 633},\n",
       "  {'transaction-id': 2574, 'amount': 661},\n",
       "  {'transaction-id': 2612, 'amount': 710},\n",
       "  {'transaction-id': 2693, 'amount': 689},\n",
       "  {'transaction-id': 3045, 'amount': 656},\n",
       "  {'transaction-id': 3268, 'amount': 692},\n",
       "  {'transaction-id': 3319, 'amount': 592},\n",
       "  {'transaction-id': 3676, 'amount': 625},\n",
       "  {'transaction-id': 3716, 'amount': 546},\n",
       "  {'transaction-id': 3880, 'amount': 764},\n",
       "  {'transaction-id': 3975, 'amount': 607},\n",
       "  {'transaction-id': 3976, 'amount': 620},\n",
       "  {'transaction-id': 4013, 'amount': 592},\n",
       "  {'transaction-id': 4086, 'amount': 540},\n",
       "  {'transaction-id': 4093, 'amount': 723},\n",
       "  {'transaction-id': 4220, 'amount': 619},\n",
       "  {'transaction-id': 4255, 'amount': 648},\n",
       "  {'transaction-id': 4314, 'amount': 640},\n",
       "  {'transaction-id': 4453, 'amount': 663},\n",
       "  {'transaction-id': 4514, 'amount': 684},\n",
       "  {'transaction-id': 4536, 'amount': 529},\n",
       "  {'transaction-id': 4556, 'amount': 578},\n",
       "  {'transaction-id': 4614, 'amount': 644},\n",
       "  {'transaction-id': 4641, 'amount': 686},\n",
       "  {'transaction-id': 4645, 'amount': 628},\n",
       "  {'transaction-id': 4781, 'amount': 632},\n",
       "  {'transaction-id': 4899, 'amount': 579},\n",
       "  {'transaction-id': 4925, 'amount': 710},\n",
       "  {'transaction-id': 5061, 'amount': 721},\n",
       "  {'transaction-id': 5122, 'amount': 631},\n",
       "  {'transaction-id': 5212, 'amount': 735},\n",
       "  {'transaction-id': 5237, 'amount': 565},\n",
       "  {'transaction-id': 5316, 'amount': 709},\n",
       "  {'transaction-id': 5489, 'amount': 576},\n",
       "  {'transaction-id': 5664, 'amount': 684},\n",
       "  {'transaction-id': 5665, 'amount': 695},\n",
       "  {'transaction-id': 5735, 'amount': 662},\n",
       "  {'transaction-id': 5827, 'amount': 739},\n",
       "  {'transaction-id': 5833, 'amount': 623},\n",
       "  {'transaction-id': 5910, 'amount': 607},\n",
       "  {'transaction-id': 5995, 'amount': 635},\n",
       "  {'transaction-id': 6123, 'amount': 747},\n",
       "  {'transaction-id': 6142, 'amount': 572},\n",
       "  {'transaction-id': 6724, 'amount': 712},\n",
       "  {'transaction-id': 6773, 'amount': 675},\n",
       "  {'transaction-id': 6936, 'amount': 540},\n",
       "  {'transaction-id': 7118, 'amount': 592},\n",
       "  {'transaction-id': 7123, 'amount': 676},\n",
       "  {'transaction-id': 7143, 'amount': 562},\n",
       "  {'transaction-id': 7224, 'amount': 603},\n",
       "  {'transaction-id': 7325, 'amount': 671},\n",
       "  {'transaction-id': 7435, 'amount': 641},\n",
       "  {'transaction-id': 7824, 'amount': 654},\n",
       "  {'transaction-id': 7844, 'amount': 548},\n",
       "  {'transaction-id': 7973, 'amount': 642},\n",
       "  {'transaction-id': 8020, 'amount': 648},\n",
       "  {'transaction-id': 8057, 'amount': 591},\n",
       "  {'transaction-id': 8356, 'amount': 666},\n",
       "  {'transaction-id': 8606, 'amount': 517},\n",
       "  {'transaction-id': 8658, 'amount': 586},\n",
       "  {'transaction-id': 8672, 'amount': 640},\n",
       "  {'transaction-id': 8686, 'amount': 702},\n",
       "  {'transaction-id': 8755, 'amount': 641},\n",
       "  {'transaction-id': 8781, 'amount': 667},\n",
       "  {'transaction-id': 8798, 'amount': 716},\n",
       "  {'transaction-id': 8827, 'amount': 667},\n",
       "  {'transaction-id': 8939, 'amount': 675},\n",
       "  {'transaction-id': 8988, 'amount': 677},\n",
       "  {'transaction-id': 9053, 'amount': 645},\n",
       "  {'transaction-id': 9162, 'amount': 706},\n",
       "  {'transaction-id': 9207, 'amount': 766},\n",
       "  {'transaction-id': 9290, 'amount': 686},\n",
       "  {'transaction-id': 9564, 'amount': 595},\n",
       "  {'transaction-id': 9817, 'amount': 705},\n",
       "  {'transaction-id': 9898, 'amount': 614}])"
      ]
     },
     "execution_count": 15,
     "metadata": {},
     "output_type": "execute_result"
    }
   ],
   "source": [
    "js.filter(lambda record: record['name'] == 'Alice').pluck('transactions').take(3)"
   ]
  },
  {
   "cell_type": "code",
   "execution_count": 16,
   "metadata": {},
   "outputs": [
    {
     "data": {
      "text/plain": [
       "({'transaction-id': 984, 'amount': 420},\n",
       " {'transaction-id': 1036, 'amount': 468},\n",
       " {'transaction-id': 2970, 'amount': 415})"
      ]
     },
     "execution_count": 16,
     "metadata": {},
     "output_type": "execute_result"
    }
   ],
   "source": [
    "(js.filter(lambda record: record['name'] == 'Alice')\n",
    "   .pluck('transactions')\n",
    "   .flatten()\n",
    "   .take(3))"
   ]
  },
  {
   "cell_type": "code",
   "execution_count": 17,
   "metadata": {},
   "outputs": [
    {
     "data": {
      "text/plain": [
       "(420, 468, 415)"
      ]
     },
     "execution_count": 17,
     "metadata": {},
     "output_type": "execute_result"
    }
   ],
   "source": [
    "(js.filter(lambda record: record['name'] == 'Alice')\n",
    "   .pluck('transactions')\n",
    "   .flatten()\n",
    "   .pluck('amount')\n",
    "   .take(3))"
   ]
  },
  {
   "cell_type": "code",
   "execution_count": 18,
   "metadata": {},
   "outputs": [
    {
     "data": {
      "text/plain": [
       "813.8423002186058"
      ]
     },
     "execution_count": 18,
     "metadata": {},
     "output_type": "execute_result"
    }
   ],
   "source": [
    "(js.filter(lambda record: record['name'] == 'Alice')\n",
    "   .pluck('transactions')\n",
    "   .flatten()\n",
    "   .pluck('amount')\n",
    "   .mean()\n",
    "   .compute())"
   ]
  },
  {
   "cell_type": "markdown",
   "metadata": {},
   "source": [
    "### Groupby and Foldby"
   ]
  },
  {
   "cell_type": "markdown",
   "metadata": {},
   "source": [
    "Often we want to group data by some function or key.  We can do this either with the `.groupby` method, which is straightforward but forces a full shuffle of the data (expensive) or with the harder-to-use but faster `.foldby` method, which does a streaming combined groupby and reduction.\n",
    "\n",
    "*  `groupby`:  Shuffles data so that all items with the same key are in the same key-value pair\n",
    "*  `foldby`:  Walks through the data accumulating a result per key\n",
    "\n",
    "*Note: the full groupby is particularly bad. In actual workloads you would do well to use `foldby` or switch to `DataFrame`s if possible.*"
   ]
  },
  {
   "cell_type": "markdown",
   "metadata": {},
   "source": [
    "### `groupby`"
   ]
  },
  {
   "cell_type": "markdown",
   "metadata": {},
   "source": [
    "Groupby collects items in your collection so that all items with the same value under some function are collected together into a key-value pair."
   ]
  },
  {
   "cell_type": "code",
   "execution_count": 19,
   "metadata": {},
   "outputs": [
    {
     "data": {
      "text/plain": [
       "[(7, ['Charlie']), (3, ['Bob', 'Dan']), (5, ['Alice', 'Edith', 'Frank'])]"
      ]
     },
     "execution_count": 19,
     "metadata": {},
     "output_type": "execute_result"
    }
   ],
   "source": [
    "b = db.from_sequence(['Alice', 'Bob', 'Charlie', 'Dan', 'Edith', 'Frank'])\n",
    "b.groupby(len).compute()  # names grouped by length"
   ]
  },
  {
   "cell_type": "code",
   "execution_count": 20,
   "metadata": {},
   "outputs": [
    {
     "data": {
      "text/plain": [
       "[(0, [0, 2, 4, 6, 8]), (1, [1, 3, 5, 7, 9])]"
      ]
     },
     "execution_count": 20,
     "metadata": {},
     "output_type": "execute_result"
    }
   ],
   "source": [
    "b = db.from_sequence(list(range(10)))\n",
    "b.groupby(lambda x: x % 2).compute()"
   ]
  },
  {
   "cell_type": "code",
   "execution_count": 21,
   "metadata": {},
   "outputs": [
    {
     "data": {
      "text/plain": [
       "[(0, 8), (1, 9)]"
      ]
     },
     "execution_count": 21,
     "metadata": {},
     "output_type": "execute_result"
    }
   ],
   "source": [
    "b.groupby(lambda x: x % 2).starmap(lambda k, v: (k, max(v))).compute()"
   ]
  },
  {
   "cell_type": "markdown",
   "metadata": {},
   "source": [
    "### `foldby`"
   ]
  },
  {
   "cell_type": "markdown",
   "metadata": {},
   "source": [
    "Foldby can be quite odd at first.  It is similar to the following functions from other libraries:\n",
    "\n",
    "*  [`toolz.reduceby`](http://toolz.readthedocs.io/en/latest/streaming-analytics.html#streaming-split-apply-combine)\n",
    "*  [`pyspark.RDD.combineByKey`](http://abshinn.github.io/python/apache-spark/2014/10/11/using-combinebykey-in-apache-spark/)\n",
    "\n",
    "When using `foldby` you provide \n",
    "\n",
    "1.  A key function on which to group elements\n",
    "2.  A binary operator such as you would pass to `reduce` that you use to perform reduction per each group\n",
    "3.  A combine binary operator that can combine the results of two `reduce` calls on different parts of your dataset.\n",
    "\n",
    "Your reduction must be associative.  It will happen in parallel in each of the partitions of your dataset.  Then all of these intermediate results will be combined by the `combine` binary operator."
   ]
  },
  {
   "cell_type": "code",
   "execution_count": 22,
   "metadata": {},
   "outputs": [
    {
     "data": {
      "text/plain": [
       "[(0, 8), (1, 9)]"
      ]
     },
     "execution_count": 22,
     "metadata": {},
     "output_type": "execute_result"
    }
   ],
   "source": [
    "is_even = lambda x: x % 2\n",
    "b.foldby(is_even, binop=max, combine=max).compute()"
   ]
  },
  {
   "cell_type": "markdown",
   "metadata": {},
   "source": [
    "### Example with account data"
   ]
  },
  {
   "cell_type": "markdown",
   "metadata": {},
   "source": [
    "We find the number of people with the same name."
   ]
  },
  {
   "cell_type": "code",
   "execution_count": 23,
   "metadata": {},
   "outputs": [
    {
     "name": "stdout",
     "output_type": "stream",
     "text": [
      "[('Alice', 144), ('Alice', 144), ('Alice', 156), ('Alice', 156), ('Bob', 120), ('Bob', 120), ('Bob', 130), ('Bob', 130), ('Charlie', 72), ('Charlie', 72), ('Charlie', 78), ('Charlie', 78), ('Dan', 48), ('Dan', 48), ('Dan', 52), ('Dan', 52), ('Edith', 101), ('Edith', 101), ('Edith', 104), ('Edith', 109), ('Frank', 84), ('Frank', 84), ('Frank', 91), ('Frank', 91), ('George', 124), ('George', 139), ('George', 262), ('Hannah', 131), ('Hannah', 132), ('Hannah', 143), ('Hannah', 143), ('Ingrid', 95), ('Ingrid', 96), ('Ingrid', 104), ('Ingrid', 104), ('Jerry', 156), ('Jerry', 157), ('Jerry', 173), ('Jerry', 174), ('Kevin', 84), ('Kevin', 84), ('Kevin', 91), ('Kevin', 91), ('Laura', 131), ('Laura', 132), ('Laura', 143), ('Laura', 143), ('Michael', 132), ('Michael', 132), ('Michael', 143), ('Michael', 143), ('Norbert', 146), ('Norbert', 146), ('Norbert', 158), ('Norbert', 159), ('Oliver', 60), ('Oliver', 60), ('Oliver', 65), ('Oliver', 65), ('Patricia', 84), ('Patricia', 84), ('Patricia', 91), ('Patricia', 91), ('Quinn', 82), ('Quinn', 84), ('Quinn', 88), ('Quinn', 89), ('Ray', 108), ('Ray', 112), ('Ray', 120), ('Ray', 120), ('Sarah', 114), ('Sarah', 117), ('Sarah', 215), ('Tim', 142), ('Tim', 144), ('Tim', 154), ('Tim', 156), ('Ursula', 132), ('Ursula', 132), ('Ursula', 142), ('Ursula', 143), ('Victor', 132), ('Victor', 132), ('Victor', 143), ('Victor', 143), ('Wendy', 122), ('Wendy', 122), ('Wendy', 132), ('Wendy', 135), ('Xavier', 104), ('Xavier', 106), ('Xavier', 112), ('Xavier', 118), ('Yvonne', 154), ('Yvonne', 154), ('Yvonne', 166), ('Yvonne', 169), ('Zelda', 118), ('Zelda', 119), ('Zelda', 130), ('Zelda', 130)]\n",
      "CPU times: user 1.59 s, sys: 101 ms, total: 1.69 s\n",
      "Wall time: 8.88 s\n"
     ]
    }
   ],
   "source": [
    "%%time\n",
    "# Warning, this one takes a while...\n",
    "result = js.groupby(lambda item: item['name']).starmap(lambda k, v: (k, len(v))).compute()\n",
    "print(sorted(result))"
   ]
  },
  {
   "cell_type": "code",
   "execution_count": 24,
   "metadata": {},
   "outputs": [
    {
     "name": "stdout",
     "output_type": "stream",
     "text": [
      "[('Alice', 600), ('Bob', 500), ('Charlie', 300), ('Dan', 200), ('Edith', 415), ('Frank', 350), ('George', 525), ('Hannah', 549), ('Ingrid', 399), ('Jerry', 660), ('Kevin', 350), ('Laura', 549), ('Michael', 550), ('Norbert', 609), ('Oliver', 250), ('Patricia', 350), ('Quinn', 343), ('Ray', 460), ('Sarah', 446), ('Tim', 596), ('Ursula', 549), ('Victor', 550), ('Wendy', 511), ('Xavier', 440), ('Yvonne', 643), ('Zelda', 497)]\n",
      "CPU times: user 156 ms, sys: 4.24 ms, total: 160 ms\n",
      "Wall time: 594 ms\n"
     ]
    }
   ],
   "source": [
    "%%time\n",
    "# This one is comparatively fast and produces the same result.\n",
    "from operator import add\n",
    "def incr(tot, _):\n",
    "    return tot+1\n",
    "\n",
    "result = js.foldby(key='name', \n",
    "                   binop=incr, \n",
    "                   initial=0, \n",
    "                   combine=add, \n",
    "                   combine_initial=0).compute()\n",
    "print(sorted(result))"
   ]
  },
  {
   "cell_type": "markdown",
   "metadata": {},
   "source": [
    "### Exercise: compute total amount per name"
   ]
  },
  {
   "cell_type": "markdown",
   "metadata": {},
   "source": [
    "We want to groupby (or foldby) the `name` key, then add up the all of the amounts for each name.\n",
    "\n",
    "Steps\n",
    "\n",
    "1.  Create a small function that, given a dictionary like \n",
    "\n",
    "        {'name': 'Alice', 'transactions': [{'amount': 1, 'id': 123}, {'amount': 2, 'id': 456}]}\n",
    "        \n",
    "    produces the sum of the amounts, e.g. `3`\n",
    "    \n",
    "2.  Slightly change the binary operator of the `foldby` example above so that the binary operator doesn't count the number of entries, but instead accumulates the sum of the amounts."
   ]
  },
  {
   "cell_type": "code",
   "execution_count": 25,
   "metadata": {},
   "outputs": [],
   "source": [
    "# Your code here..."
   ]
  },
  {
   "cell_type": "markdown",
   "metadata": {},
   "source": [
    "## DataFrames"
   ]
  },
  {
   "cell_type": "markdown",
   "metadata": {},
   "source": [
    "For the same reasons that Pandas is often faster than pure Python, `dask.dataframe` can be faster than `dask.bag`.  We will work more with DataFrames later, but from for the bag point of view, they are frequently the end-point of the \"messy\" part of data ingestion—once the data can be made into a data-frame, then complex split-apply-combine logic will become much more straight-forward and efficient.\n",
    "\n",
    "You can transform a bag with a simple tuple or flat dictionary structure into a `dask.dataframe` with the `to_dataframe` method."
   ]
  },
  {
   "cell_type": "code",
   "execution_count": 26,
   "metadata": {},
   "outputs": [
    {
     "data": {
      "text/html": [
       "<div>\n",
       "<style scoped>\n",
       "    .dataframe tbody tr th:only-of-type {\n",
       "        vertical-align: middle;\n",
       "    }\n",
       "\n",
       "    .dataframe tbody tr th {\n",
       "        vertical-align: top;\n",
       "    }\n",
       "\n",
       "    .dataframe thead th {\n",
       "        text-align: right;\n",
       "    }\n",
       "</style>\n",
       "<table border=\"1\" class=\"dataframe\">\n",
       "  <thead>\n",
       "    <tr style=\"text-align: right;\">\n",
       "      <th></th>\n",
       "      <th>id</th>\n",
       "      <th>name</th>\n",
       "      <th>transactions</th>\n",
       "    </tr>\n",
       "  </thead>\n",
       "  <tbody>\n",
       "    <tr>\n",
       "      <th>0</th>\n",
       "      <td>0</td>\n",
       "      <td>Edith</td>\n",
       "      <td>[{'transaction-id': 424, 'amount': 137}, {'tra...</td>\n",
       "    </tr>\n",
       "    <tr>\n",
       "      <th>1</th>\n",
       "      <td>1</td>\n",
       "      <td>Hannah</td>\n",
       "      <td>[{'transaction-id': 71, 'amount': -842}, {'tra...</td>\n",
       "    </tr>\n",
       "    <tr>\n",
       "      <th>2</th>\n",
       "      <td>2</td>\n",
       "      <td>Dan</td>\n",
       "      <td>[{'transaction-id': 785, 'amount': 617}, {'tra...</td>\n",
       "    </tr>\n",
       "    <tr>\n",
       "      <th>3</th>\n",
       "      <td>3</td>\n",
       "      <td>Yvonne</td>\n",
       "      <td>[{'transaction-id': 495, 'amount': 7569}, {'tr...</td>\n",
       "    </tr>\n",
       "    <tr>\n",
       "      <th>4</th>\n",
       "      <td>4</td>\n",
       "      <td>Tim</td>\n",
       "      <td>[{'transaction-id': 518, 'amount': 1104}, {'tr...</td>\n",
       "    </tr>\n",
       "  </tbody>\n",
       "</table>\n",
       "</div>"
      ],
      "text/plain": [
       "   id    name                                       transactions\n",
       "0   0   Edith  [{'transaction-id': 424, 'amount': 137}, {'tra...\n",
       "1   1  Hannah  [{'transaction-id': 71, 'amount': -842}, {'tra...\n",
       "2   2     Dan  [{'transaction-id': 785, 'amount': 617}, {'tra...\n",
       "3   3  Yvonne  [{'transaction-id': 495, 'amount': 7569}, {'tr...\n",
       "4   4     Tim  [{'transaction-id': 518, 'amount': 1104}, {'tr..."
      ]
     },
     "execution_count": 26,
     "metadata": {},
     "output_type": "execute_result"
    }
   ],
   "source": [
    "df1 = js.to_dataframe()\n",
    "df1.head()"
   ]
  },
  {
   "cell_type": "markdown",
   "metadata": {},
   "source": [
    "This now looks like a well-defined DataFrame, and we can apply Pandas-like computations to it efficiently."
   ]
  },
  {
   "cell_type": "markdown",
   "metadata": {},
   "source": [
    "Using a Dask DataFrame, how long does it take to do our prior computation of numbers of people with the same name?  It turns out that `dask.dataframe.groupby()` beats `dask.bag.groupby()` more than an order of magnitude; but it still cannot match `dask.bag.foldby()` for this case."
   ]
  },
  {
   "cell_type": "code",
   "execution_count": 27,
   "metadata": {},
   "outputs": [
    {
     "name": "stdout",
     "output_type": "stream",
     "text": [
      "CPU times: user 206 ms, sys: 17.5 ms, total: 224 ms\n",
      "Wall time: 1.74 s\n"
     ]
    },
    {
     "data": {
      "text/plain": [
       "name\n",
       "Alice      600\n",
       "Bob        500\n",
       "Charlie    300\n",
       "Dan        200\n",
       "Edith      415\n",
       "Name: id, dtype: int64"
      ]
     },
     "execution_count": 27,
     "metadata": {},
     "output_type": "execute_result"
    }
   ],
   "source": [
    "%time df1.groupby('name').id.count().compute().head()"
   ]
  },
  {
   "cell_type": "markdown",
   "metadata": {},
   "source": [
    "### Denormalization"
   ]
  },
  {
   "cell_type": "markdown",
   "metadata": {},
   "source": [
    "This DataFrame format is less-than-optimal because the `transactions` column is filled with nested data so Pandas has to revert to `object` dtype, which is quite slow in Pandas.  Ideally we want to transform to a dataframe only after we have flattened our data so that each record is a single `int`, `string`, `float`, etc.."
   ]
  },
  {
   "cell_type": "code",
   "execution_count": 28,
   "metadata": {},
   "outputs": [
    {
     "data": {
      "text/plain": [
       "({'id': 0, 'name': 'Edith', 'amount': 137, 'transaction-id': 424},\n",
       " {'id': 0, 'name': 'Edith', 'amount': 132, 'transaction-id': 3146},\n",
       " {'id': 0, 'name': 'Edith', 'amount': 127, 'transaction-id': 8930})"
      ]
     },
     "execution_count": 28,
     "metadata": {},
     "output_type": "execute_result"
    }
   ],
   "source": [
    "def denormalize(record):\n",
    "    # returns a list for every nested item, each transaction of each person\n",
    "    return [{'id': record['id'], \n",
    "             'name': record['name'], \n",
    "             'amount': transaction['amount'], \n",
    "             'transaction-id': transaction['transaction-id']}\n",
    "            for transaction in record['transactions']]\n",
    "\n",
    "transactions = js.map(denormalize).flatten()\n",
    "transactions.take(3)"
   ]
  },
  {
   "cell_type": "code",
   "execution_count": 29,
   "metadata": {},
   "outputs": [
    {
     "data": {
      "text/html": [
       "<div>\n",
       "<style scoped>\n",
       "    .dataframe tbody tr th:only-of-type {\n",
       "        vertical-align: middle;\n",
       "    }\n",
       "\n",
       "    .dataframe tbody tr th {\n",
       "        vertical-align: top;\n",
       "    }\n",
       "\n",
       "    .dataframe thead th {\n",
       "        text-align: right;\n",
       "    }\n",
       "</style>\n",
       "<table border=\"1\" class=\"dataframe\">\n",
       "  <thead>\n",
       "    <tr style=\"text-align: right;\">\n",
       "      <th></th>\n",
       "      <th>id</th>\n",
       "      <th>name</th>\n",
       "      <th>amount</th>\n",
       "      <th>transaction-id</th>\n",
       "    </tr>\n",
       "  </thead>\n",
       "  <tbody>\n",
       "    <tr>\n",
       "      <th>0</th>\n",
       "      <td>0</td>\n",
       "      <td>Edith</td>\n",
       "      <td>137</td>\n",
       "      <td>424</td>\n",
       "    </tr>\n",
       "    <tr>\n",
       "      <th>1</th>\n",
       "      <td>0</td>\n",
       "      <td>Edith</td>\n",
       "      <td>132</td>\n",
       "      <td>3146</td>\n",
       "    </tr>\n",
       "    <tr>\n",
       "      <th>2</th>\n",
       "      <td>0</td>\n",
       "      <td>Edith</td>\n",
       "      <td>127</td>\n",
       "      <td>8930</td>\n",
       "    </tr>\n",
       "    <tr>\n",
       "      <th>3</th>\n",
       "      <td>1</td>\n",
       "      <td>Hannah</td>\n",
       "      <td>-842</td>\n",
       "      <td>71</td>\n",
       "    </tr>\n",
       "    <tr>\n",
       "      <th>4</th>\n",
       "      <td>1</td>\n",
       "      <td>Hannah</td>\n",
       "      <td>-981</td>\n",
       "      <td>177</td>\n",
       "    </tr>\n",
       "  </tbody>\n",
       "</table>\n",
       "</div>"
      ],
      "text/plain": [
       "   id    name  amount  transaction-id\n",
       "0   0   Edith     137             424\n",
       "1   0   Edith     132            3146\n",
       "2   0   Edith     127            8930\n",
       "3   1  Hannah    -842              71\n",
       "4   1  Hannah    -981             177"
      ]
     },
     "execution_count": 29,
     "metadata": {},
     "output_type": "execute_result"
    }
   ],
   "source": [
    "df = transactions.to_dataframe()\n",
    "df.head()"
   ]
  },
  {
   "cell_type": "code",
   "execution_count": 30,
   "metadata": {},
   "outputs": [
    {
     "name": "stdout",
     "output_type": "stream",
     "text": [
      "CPU times: user 177 ms, sys: 31.6 ms, total: 209 ms\n",
      "Wall time: 1.47 s\n"
     ]
    },
    {
     "data": {
      "text/plain": [
       "name\n",
       "Alice       32936\n",
       "Bob         13983\n",
       "Charlie      7967\n",
       "Dan          6106\n",
       "Edith       15314\n",
       "Frank       17799\n",
       "George      16168\n",
       "Hannah      18179\n",
       "Ingrid      29763\n",
       "Jerry       30411\n",
       "Kevin       26963\n",
       "Laura       12913\n",
       "Michael     21144\n",
       "Norbert     28345\n",
       "Oliver      18423\n",
       "Patricia     7491\n",
       "Quinn       10787\n",
       "Ray         14172\n",
       "Sarah       22168\n",
       "Tim         15009\n",
       "Ursula      17509\n",
       "Victor      29073\n",
       "Wendy       20694\n",
       "Xavier      19819\n",
       "Yvonne      16183\n",
       "Zelda       30681\n",
       "Name: transaction-id, dtype: int64"
      ]
     },
     "execution_count": 30,
     "metadata": {},
     "output_type": "execute_result"
    }
   ],
   "source": [
    "%%time\n",
    "# number of transactions per name\n",
    "# note that the time here includes the data load and ingestion\n",
    "df.groupby('name')['transaction-id'].count().compute()"
   ]
  },
  {
   "cell_type": "markdown",
   "metadata": {},
   "source": [
    "## Limitations"
   ]
  },
  {
   "cell_type": "markdown",
   "metadata": {},
   "source": [
    "Bags provide very general computation (any Python function.)  This generality\n",
    "comes at cost.  Bags have the following known limitations\n",
    "\n",
    "1.  Bag operations tend to be slower than array/dataframe computations in the\n",
    "    same way that Python tends to be slower than NumPy/Pandas\n",
    "2.  ``Bag.groupby`` is slow.  You should try to use ``Bag.foldby`` if possible.\n",
    "    Using ``Bag.foldby`` requires more thought. Even better, consider creating\n",
    "    a normalised dataframe."
   ]
  },
  {
   "cell_type": "markdown",
   "metadata": {},
   "source": [
    "## Learn More\n",
    "\n",
    "* [Bag documentation](https://docs.dask.org/en/latest/bag.html)\n",
    "* [Bag screencast](https://youtu.be/-qIiJ1XtSv0)\n",
    "* [Bag API](https://docs.dask.org/en/latest/bag-api.html)\n",
    "* [Bag examples](https://examples.dask.org/bag.html)"
   ]
  },
  {
   "cell_type": "markdown",
   "metadata": {},
   "source": [
    "## Shutdown"
   ]
  },
  {
   "cell_type": "code",
   "execution_count": 31,
   "metadata": {},
   "outputs": [],
   "source": [
    "client.shutdown()"
   ]
  }
 ],
 "metadata": {
  "anaconda-cloud": {},
  "kernelspec": {
   "display_name": "Python 3",
   "language": "python",
   "name": "python3"
  },
  "language_info": {
   "codemirror_mode": {
    "name": "ipython",
    "version": 3
   },
   "file_extension": ".py",
   "mimetype": "text/x-python",
   "name": "python",
   "nbconvert_exporter": "python",
   "pygments_lexer": "ipython3",
   "version": "3.8.3"
  }
 },
 "nbformat": 4,
 "nbformat_minor": 4
}
