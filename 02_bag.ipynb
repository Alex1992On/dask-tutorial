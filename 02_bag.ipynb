{
 "cells": [
  {
   "cell_type": "markdown",
   "metadata": {},
   "source": [
    "<img src=\"images/dask_horizontal.svg\" align=\"right\" width=\"30%\">"
   ]
  },
  {
   "cell_type": "markdown",
   "metadata": {},
   "source": [
    "# Bag: Parallel Lists for semi-structured data"
   ]
  },
  {
   "cell_type": "markdown",
   "metadata": {},
   "source": [
    "Dask-bag excels in processing data that can be represented as a sequence of arbitrary inputs. We'll refer to this as \"messy\" data, because it can contain complex nested structures, missing fields, mixtures of data types, etc. The *functional* programming style fits very nicely with standard Python iteration, such as can be found in the `itertools` module.\n",
    "\n",
    "Messy data is often encountered at the beginning of data processing pipelines when large volumes of raw data are first consumed. The initial set of data might be JSON, CSV, XML, or any other format that does not enforce strict structure and datatypes.\n",
    "For this reason, the initial data massaging and processing is often done with Python `list`s, `dict`s, and `set`s.\n",
    "\n",
    "These core data structures are optimized for general-purpose storage and processing.  Adding streaming computation with iterators/generator expressions or libraries like `itertools` or [`toolz`](https://toolz.readthedocs.io/en/latest/) let us process large volumes in a small space.  If we combine this with parallel processing then we can churn through a fair amount of data.\n",
    "\n",
    "Dask.bag is a high level Dask collection to automate common workloads of this form.  In a nutshell\n",
    "\n",
    "    dask.bag = map, filter, toolz + parallel execution\n",
    "    \n",
    "**Related Documentation**\n",
    "\n",
    "* [Bag documentation](https://docs.dask.org/en/latest/bag.html)\n",
    "* [Bag screencast](https://youtu.be/-qIiJ1XtSv0)\n",
    "* [Bag API](https://docs.dask.org/en/latest/bag-api.html)\n",
    "* [Bag examples](https://examples.dask.org/bag.html)"
   ]
  },
  {
   "cell_type": "markdown",
   "metadata": {},
   "source": [
    "## Create data"
   ]
  },
  {
   "cell_type": "code",
   "execution_count": 1,
   "metadata": {},
   "outputs": [],
   "source": [
    "%run prep.py -d accounts"
   ]
  },
  {
   "cell_type": "markdown",
   "metadata": {},
   "source": [
    "## Setup"
   ]
  },
  {
   "cell_type": "markdown",
   "metadata": {},
   "source": [
    "Again, we'll use the distributed scheduler. Schedulers will be explained in depth [later](05_distributed.ipynb)."
   ]
  },
  {
   "cell_type": "code",
   "execution_count": 2,
   "metadata": {},
   "outputs": [],
   "source": [
    "from dask.distributed import Client\n",
    "\n",
    "client = Client(n_workers=4)"
   ]
  },
  {
   "cell_type": "markdown",
   "metadata": {},
   "source": [
    "## Creation"
   ]
  },
  {
   "cell_type": "markdown",
   "metadata": {},
   "source": [
    "You can create a `Bag` from a Python sequence, from files, from data on S3, etc.\n",
    "We demonstrate using `.take()` to show elements of the data. (Doing `.take(1)` results in a tuple with one element)\n",
    "\n",
    "Note that the data are partitioned into blocks, and there are many items per block. In the first example, the two partitions contain five elements each, and in the following two, each file is partitioned into one or more bytes blocks."
   ]
  },
  {
   "cell_type": "code",
   "execution_count": 3,
   "metadata": {},
   "outputs": [
    {
     "data": {
      "text/plain": [
       "(1, 2, 3)"
      ]
     },
     "execution_count": 3,
     "metadata": {},
     "output_type": "execute_result"
    }
   ],
   "source": [
    "# each element is an integer\n",
    "import dask.bag as db\n",
    "b = db.from_sequence([1, 2, 3, 4, 5, 6, 7, 8, 9, 10], npartitions=2)\n",
    "b.take(3)"
   ]
  },
  {
   "cell_type": "code",
   "execution_count": 4,
   "metadata": {},
   "outputs": [
    {
     "data": {
      "text/plain": [
       "('{\"id\": 0, \"name\": \"Yvonne\", \"transactions\": [{\"transaction-id\": 214, \"amount\": 1180}, {\"transaction-id\": 486, \"amount\": 1129}, {\"transaction-id\": 970, \"amount\": 1178}, {\"transaction-id\": 1076, \"amount\": 1154}, {\"transaction-id\": 1664, \"amount\": 1143}, {\"transaction-id\": 1915, \"amount\": 1140}, {\"transaction-id\": 1971, \"amount\": 1128}, {\"transaction-id\": 2122, \"amount\": 1159}, {\"transaction-id\": 2585, \"amount\": 1257}, {\"transaction-id\": 2654, \"amount\": 1243}, {\"transaction-id\": 2765, \"amount\": 1192}, {\"transaction-id\": 3112, \"amount\": 1215}, {\"transaction-id\": 3302, \"amount\": 1088}, {\"transaction-id\": 3348, \"amount\": 1223}, {\"transaction-id\": 3691, \"amount\": 1246}, {\"transaction-id\": 3897, \"amount\": 1143}, {\"transaction-id\": 4044, \"amount\": 1243}, {\"transaction-id\": 4143, \"amount\": 1168}, {\"transaction-id\": 4220, \"amount\": 1200}, {\"transaction-id\": 4357, \"amount\": 1211}, {\"transaction-id\": 4485, \"amount\": 1192}, {\"transaction-id\": 4618, \"amount\": 1189}, {\"transaction-id\": 4661, \"amount\": 1190}, {\"transaction-id\": 5159, \"amount\": 1244}, {\"transaction-id\": 5457, \"amount\": 1163}, {\"transaction-id\": 5718, \"amount\": 1121}, {\"transaction-id\": 5946, \"amount\": 1174}, {\"transaction-id\": 6036, \"amount\": 1163}, {\"transaction-id\": 6237, \"amount\": 1143}, {\"transaction-id\": 6305, \"amount\": 1190}, {\"transaction-id\": 6452, \"amount\": 1250}, {\"transaction-id\": 6594, \"amount\": 1121}, {\"transaction-id\": 6697, \"amount\": 1306}, {\"transaction-id\": 6734, \"amount\": 1162}, {\"transaction-id\": 6853, \"amount\": 1178}, {\"transaction-id\": 7075, \"amount\": 1288}, {\"transaction-id\": 7171, \"amount\": 1162}, {\"transaction-id\": 7195, \"amount\": 1157}, {\"transaction-id\": 7352, \"amount\": 1230}, {\"transaction-id\": 7499, \"amount\": 1214}, {\"transaction-id\": 7671, \"amount\": 1231}, {\"transaction-id\": 7759, \"amount\": 1176}, {\"transaction-id\": 7924, \"amount\": 1146}, {\"transaction-id\": 7990, \"amount\": 1169}, {\"transaction-id\": 8511, \"amount\": 1227}, {\"transaction-id\": 8757, \"amount\": 1215}, {\"transaction-id\": 9012, \"amount\": 1045}, {\"transaction-id\": 9163, \"amount\": 1193}, {\"transaction-id\": 9254, \"amount\": 1217}, {\"transaction-id\": 9365, \"amount\": 1184}, {\"transaction-id\": 9489, \"amount\": 1192}, {\"transaction-id\": 9800, \"amount\": 1158}, {\"transaction-id\": 9857, \"amount\": 1199}, {\"transaction-id\": 9893, \"amount\": 1186}]}\\n',)"
      ]
     },
     "execution_count": 4,
     "metadata": {},
     "output_type": "execute_result"
    }
   ],
   "source": [
    "# each element is a text file, where each line is a JSON object\n",
    "# note that the compression is handled automatically\n",
    "import os\n",
    "b = db.read_text(os.path.join('data', 'accounts.*.json.gz'))\n",
    "b.take(1)"
   ]
  },
  {
   "cell_type": "code",
   "execution_count": 5,
   "metadata": {},
   "outputs": [
    {
     "data": {
      "text/plain": [
       "'s3://dask-data/nyc-taxi/2015/yellow_tripdata_2015-01.csv'"
      ]
     },
     "execution_count": 5,
     "metadata": {},
     "output_type": "execute_result"
    }
   ],
   "source": [
    "# Edit sources.py to configure source locations\n",
    "import sources\n",
    "sources.bag_url"
   ]
  },
  {
   "cell_type": "code",
   "execution_count": 6,
   "metadata": {},
   "outputs": [
    {
     "data": {
      "text/plain": [
       "('VendorID,tpep_pickup_datetime,tpep_dropoff_datetime,passenger_count,trip_distance,pickup_longitude,pickup_latitude,RateCodeID,store_and_fwd_flag,dropoff_longitude,dropoff_latitude,payment_type,fare_amount,extra,mta_tax,tip_amount,tolls_amount,improvement_surcharge,total_amount\\n',)"
      ]
     },
     "execution_count": 6,
     "metadata": {},
     "output_type": "execute_result"
    }
   ],
   "source": [
    "# Requires `s3fs` library\n",
    "# each partition is a remote CSV text file\n",
    "b = db.read_text(sources.bag_url,\n",
    "                 storage_options={'anon': True})\n",
    "b.take(1)"
   ]
  },
  {
   "cell_type": "markdown",
   "metadata": {},
   "source": [
    "## Manipulation"
   ]
  },
  {
   "cell_type": "markdown",
   "metadata": {},
   "source": [
    "`Bag` objects hold the standard functional API found in projects like the Python standard library, `toolz`, or `pyspark`, including `map`, `filter`, `groupby`, etc..\n",
    "\n",
    "Operations on `Bag` objects create new bags.  Call the `.compute()` method to trigger execution, as we saw for `Delayed` objects.  "
   ]
  },
  {
   "cell_type": "code",
   "execution_count": 7,
   "metadata": {},
   "outputs": [
    {
     "data": {
      "text/plain": [
       "dask.bag<lambda, npartitions=10>"
      ]
     },
     "execution_count": 7,
     "metadata": {},
     "output_type": "execute_result"
    }
   ],
   "source": [
    "def is_even(n):\n",
    "    return n % 2 == 0\n",
    "\n",
    "b = db.from_sequence([1, 2, 3, 4, 5, 6, 7, 8, 9, 10])\n",
    "c = b.filter(is_even).map(lambda x: x ** 2)\n",
    "c"
   ]
  },
  {
   "cell_type": "code",
   "execution_count": 8,
   "metadata": {},
   "outputs": [
    {
     "data": {
      "text/plain": [
       "[4, 16, 36, 64, 100]"
      ]
     },
     "execution_count": 8,
     "metadata": {},
     "output_type": "execute_result"
    }
   ],
   "source": [
    "# blocking form: wait for completion (which is very fast in this case)\n",
    "c.compute()"
   ]
  },
  {
   "cell_type": "markdown",
   "metadata": {},
   "source": [
    "### Example: Accounts JSON data"
   ]
  },
  {
   "cell_type": "markdown",
   "metadata": {},
   "source": [
    "We've created a fake dataset of gzipped JSON data in your data directory.  This is like the example used in the `DataFrame` example we will see later, except that it has bundled up all of the entires for each individual `id` into a single record.  This is similar to data that you might collect off of a document store database or a web API.\n",
    "\n",
    "Each line is a JSON encoded dictionary with the following keys\n",
    "\n",
    "*  id: Unique identifier of the customer\n",
    "*  name: Name of the customer\n",
    "*  transactions: List of `transaction-id`, `amount` pairs, one for each transaction for the customer in that file"
   ]
  },
  {
   "cell_type": "code",
   "execution_count": 9,
   "metadata": {},
   "outputs": [
    {
     "data": {
      "text/plain": [
       "('{\"id\": 0, \"name\": \"Yvonne\", \"transactions\": [{\"transaction-id\": 214, \"amount\": 1180}, {\"transaction-id\": 486, \"amount\": 1129}, {\"transaction-id\": 970, \"amount\": 1178}, {\"transaction-id\": 1076, \"amount\": 1154}, {\"transaction-id\": 1664, \"amount\": 1143}, {\"transaction-id\": 1915, \"amount\": 1140}, {\"transaction-id\": 1971, \"amount\": 1128}, {\"transaction-id\": 2122, \"amount\": 1159}, {\"transaction-id\": 2585, \"amount\": 1257}, {\"transaction-id\": 2654, \"amount\": 1243}, {\"transaction-id\": 2765, \"amount\": 1192}, {\"transaction-id\": 3112, \"amount\": 1215}, {\"transaction-id\": 3302, \"amount\": 1088}, {\"transaction-id\": 3348, \"amount\": 1223}, {\"transaction-id\": 3691, \"amount\": 1246}, {\"transaction-id\": 3897, \"amount\": 1143}, {\"transaction-id\": 4044, \"amount\": 1243}, {\"transaction-id\": 4143, \"amount\": 1168}, {\"transaction-id\": 4220, \"amount\": 1200}, {\"transaction-id\": 4357, \"amount\": 1211}, {\"transaction-id\": 4485, \"amount\": 1192}, {\"transaction-id\": 4618, \"amount\": 1189}, {\"transaction-id\": 4661, \"amount\": 1190}, {\"transaction-id\": 5159, \"amount\": 1244}, {\"transaction-id\": 5457, \"amount\": 1163}, {\"transaction-id\": 5718, \"amount\": 1121}, {\"transaction-id\": 5946, \"amount\": 1174}, {\"transaction-id\": 6036, \"amount\": 1163}, {\"transaction-id\": 6237, \"amount\": 1143}, {\"transaction-id\": 6305, \"amount\": 1190}, {\"transaction-id\": 6452, \"amount\": 1250}, {\"transaction-id\": 6594, \"amount\": 1121}, {\"transaction-id\": 6697, \"amount\": 1306}, {\"transaction-id\": 6734, \"amount\": 1162}, {\"transaction-id\": 6853, \"amount\": 1178}, {\"transaction-id\": 7075, \"amount\": 1288}, {\"transaction-id\": 7171, \"amount\": 1162}, {\"transaction-id\": 7195, \"amount\": 1157}, {\"transaction-id\": 7352, \"amount\": 1230}, {\"transaction-id\": 7499, \"amount\": 1214}, {\"transaction-id\": 7671, \"amount\": 1231}, {\"transaction-id\": 7759, \"amount\": 1176}, {\"transaction-id\": 7924, \"amount\": 1146}, {\"transaction-id\": 7990, \"amount\": 1169}, {\"transaction-id\": 8511, \"amount\": 1227}, {\"transaction-id\": 8757, \"amount\": 1215}, {\"transaction-id\": 9012, \"amount\": 1045}, {\"transaction-id\": 9163, \"amount\": 1193}, {\"transaction-id\": 9254, \"amount\": 1217}, {\"transaction-id\": 9365, \"amount\": 1184}, {\"transaction-id\": 9489, \"amount\": 1192}, {\"transaction-id\": 9800, \"amount\": 1158}, {\"transaction-id\": 9857, \"amount\": 1199}, {\"transaction-id\": 9893, \"amount\": 1186}]}\\n',\n",
       " '{\"id\": 1, \"name\": \"Victor\", \"transactions\": [{\"transaction-id\": 76, \"amount\": 645}, {\"transaction-id\": 293, \"amount\": 618}, {\"transaction-id\": 382, \"amount\": 633}, {\"transaction-id\": 428, \"amount\": 648}, {\"transaction-id\": 450, \"amount\": 621}, {\"transaction-id\": 952, \"amount\": 656}, {\"transaction-id\": 1041, \"amount\": 635}, {\"transaction-id\": 1290, \"amount\": 581}, {\"transaction-id\": 1350, \"amount\": 627}, {\"transaction-id\": 1488, \"amount\": 631}, {\"transaction-id\": 1525, \"amount\": 623}, {\"transaction-id\": 1599, \"amount\": 657}, {\"transaction-id\": 1608, \"amount\": 611}, {\"transaction-id\": 1699, \"amount\": 621}, {\"transaction-id\": 1883, \"amount\": 639}, {\"transaction-id\": 2332, \"amount\": 617}, {\"transaction-id\": 2478, \"amount\": 621}, {\"transaction-id\": 2574, \"amount\": 615}, {\"transaction-id\": 2876, \"amount\": 607}, {\"transaction-id\": 2949, \"amount\": 631}, {\"transaction-id\": 2953, \"amount\": 623}, {\"transaction-id\": 2972, \"amount\": 620}, {\"transaction-id\": 3075, \"amount\": 673}, {\"transaction-id\": 3311, \"amount\": 620}, {\"transaction-id\": 3616, \"amount\": 617}, {\"transaction-id\": 3839, \"amount\": 634}, {\"transaction-id\": 4089, \"amount\": 650}, {\"transaction-id\": 4210, \"amount\": 612}, {\"transaction-id\": 4313, \"amount\": 629}, {\"transaction-id\": 4362, \"amount\": 639}, {\"transaction-id\": 4736, \"amount\": 632}, {\"transaction-id\": 4794, \"amount\": 635}, {\"transaction-id\": 4869, \"amount\": 670}, {\"transaction-id\": 4932, \"amount\": 652}, {\"transaction-id\": 5042, \"amount\": 634}, {\"transaction-id\": 5285, \"amount\": 621}, {\"transaction-id\": 5407, \"amount\": 618}, {\"transaction-id\": 5623, \"amount\": 638}, {\"transaction-id\": 5759, \"amount\": 616}, {\"transaction-id\": 6259, \"amount\": 621}, {\"transaction-id\": 6334, \"amount\": 671}, {\"transaction-id\": 6449, \"amount\": 646}, {\"transaction-id\": 6554, \"amount\": 635}, {\"transaction-id\": 6842, \"amount\": 630}, {\"transaction-id\": 6962, \"amount\": 637}, {\"transaction-id\": 7059, \"amount\": 632}, {\"transaction-id\": 7080, \"amount\": 610}, {\"transaction-id\": 7216, \"amount\": 655}, {\"transaction-id\": 7266, \"amount\": 626}, {\"transaction-id\": 7390, \"amount\": 624}, {\"transaction-id\": 7469, \"amount\": 617}, {\"transaction-id\": 7604, \"amount\": 625}, {\"transaction-id\": 8063, \"amount\": 602}, {\"transaction-id\": 8091, \"amount\": 635}, {\"transaction-id\": 8424, \"amount\": 641}, {\"transaction-id\": 8634, \"amount\": 631}, {\"transaction-id\": 8671, \"amount\": 630}, {\"transaction-id\": 8992, \"amount\": 633}, {\"transaction-id\": 9600, \"amount\": 625}, {\"transaction-id\": 9652, \"amount\": 660}, {\"transaction-id\": 9759, \"amount\": 641}, {\"transaction-id\": 9849, \"amount\": 629}]}\\n',\n",
       " '{\"id\": 2, \"name\": \"Edith\", \"transactions\": [{\"transaction-id\": 5, \"amount\": 163}, {\"transaction-id\": 126, \"amount\": 173}, {\"transaction-id\": 201, \"amount\": 178}, {\"transaction-id\": 378, \"amount\": 184}, {\"transaction-id\": 391, \"amount\": 154}, {\"transaction-id\": 411, \"amount\": 172}, {\"transaction-id\": 475, \"amount\": 157}, {\"transaction-id\": 529, \"amount\": 167}, {\"transaction-id\": 640, \"amount\": 161}, {\"transaction-id\": 848, \"amount\": 175}, {\"transaction-id\": 882, \"amount\": 168}, {\"transaction-id\": 934, \"amount\": 164}, {\"transaction-id\": 975, \"amount\": 180}, {\"transaction-id\": 988, \"amount\": 165}, {\"transaction-id\": 1186, \"amount\": 174}, {\"transaction-id\": 1374, \"amount\": 170}, {\"transaction-id\": 1521, \"amount\": 161}, {\"transaction-id\": 1532, \"amount\": 164}, {\"transaction-id\": 1537, \"amount\": 166}, {\"transaction-id\": 1552, \"amount\": 171}, {\"transaction-id\": 1618, \"amount\": 174}, {\"transaction-id\": 1633, \"amount\": 173}, {\"transaction-id\": 1669, \"amount\": 168}, {\"transaction-id\": 1844, \"amount\": 170}, {\"transaction-id\": 1962, \"amount\": 175}, {\"transaction-id\": 2173, \"amount\": 156}, {\"transaction-id\": 2190, \"amount\": 183}, {\"transaction-id\": 2233, \"amount\": 176}, {\"transaction-id\": 2385, \"amount\": 172}, {\"transaction-id\": 2389, \"amount\": 164}, {\"transaction-id\": 2414, \"amount\": 170}, {\"transaction-id\": 2721, \"amount\": 169}, {\"transaction-id\": 2746, \"amount\": 170}, {\"transaction-id\": 2760, \"amount\": 171}, {\"transaction-id\": 2833, \"amount\": 168}, {\"transaction-id\": 2990, \"amount\": 172}, {\"transaction-id\": 3132, \"amount\": 163}, {\"transaction-id\": 3185, \"amount\": 168}, {\"transaction-id\": 3196, \"amount\": 164}, {\"transaction-id\": 3262, \"amount\": 177}, {\"transaction-id\": 3346, \"amount\": 170}, {\"transaction-id\": 3366, \"amount\": 168}, {\"transaction-id\": 3386, \"amount\": 163}, {\"transaction-id\": 3469, \"amount\": 170}, {\"transaction-id\": 3639, \"amount\": 168}, {\"transaction-id\": 3690, \"amount\": 168}, {\"transaction-id\": 3759, \"amount\": 168}, {\"transaction-id\": 3770, \"amount\": 170}, {\"transaction-id\": 3883, \"amount\": 176}, {\"transaction-id\": 3961, \"amount\": 163}, {\"transaction-id\": 3989, \"amount\": 172}, {\"transaction-id\": 4286, \"amount\": 157}, {\"transaction-id\": 4300, \"amount\": 177}, {\"transaction-id\": 4343, \"amount\": 171}, {\"transaction-id\": 4413, \"amount\": 163}, {\"transaction-id\": 4580, \"amount\": 165}, {\"transaction-id\": 4583, \"amount\": 171}, {\"transaction-id\": 4727, \"amount\": 162}, {\"transaction-id\": 4777, \"amount\": 168}, {\"transaction-id\": 4782, \"amount\": 182}, {\"transaction-id\": 4917, \"amount\": 165}, {\"transaction-id\": 4980, \"amount\": 163}, {\"transaction-id\": 5001, \"amount\": 172}, {\"transaction-id\": 5059, \"amount\": 173}, {\"transaction-id\": 5176, \"amount\": 171}, {\"transaction-id\": 5210, \"amount\": 171}, {\"transaction-id\": 5402, \"amount\": 179}, {\"transaction-id\": 5484, \"amount\": 169}, {\"transaction-id\": 5508, \"amount\": 166}, {\"transaction-id\": 5635, \"amount\": 170}, {\"transaction-id\": 5736, \"amount\": 170}, {\"transaction-id\": 5772, \"amount\": 176}, {\"transaction-id\": 5787, \"amount\": 170}, {\"transaction-id\": 5810, \"amount\": 168}, {\"transaction-id\": 5846, \"amount\": 169}, {\"transaction-id\": 5896, \"amount\": 173}, {\"transaction-id\": 5977, \"amount\": 165}, {\"transaction-id\": 6203, \"amount\": 179}, {\"transaction-id\": 6206, \"amount\": 170}, {\"transaction-id\": 6351, \"amount\": 172}, {\"transaction-id\": 6426, \"amount\": 170}, {\"transaction-id\": 6530, \"amount\": 175}, {\"transaction-id\": 6791, \"amount\": 175}, {\"transaction-id\": 7120, \"amount\": 171}, {\"transaction-id\": 7125, \"amount\": 167}, {\"transaction-id\": 7169, \"amount\": 162}, {\"transaction-id\": 7254, \"amount\": 178}, {\"transaction-id\": 7291, \"amount\": 167}, {\"transaction-id\": 7465, \"amount\": 155}, {\"transaction-id\": 7622, \"amount\": 174}, {\"transaction-id\": 7657, \"amount\": 159}, {\"transaction-id\": 7666, \"amount\": 164}, {\"transaction-id\": 7846, \"amount\": 174}, {\"transaction-id\": 7931, \"amount\": 160}, {\"transaction-id\": 7976, \"amount\": 174}, {\"transaction-id\": 7984, \"amount\": 178}, {\"transaction-id\": 7989, \"amount\": 167}, {\"transaction-id\": 8067, \"amount\": 172}, {\"transaction-id\": 8165, \"amount\": 164}, {\"transaction-id\": 8181, \"amount\": 166}, {\"transaction-id\": 8190, \"amount\": 165}, {\"transaction-id\": 8281, \"amount\": 170}, {\"transaction-id\": 8310, \"amount\": 182}, {\"transaction-id\": 8339, \"amount\": 165}, {\"transaction-id\": 8484, \"amount\": 162}, {\"transaction-id\": 8564, \"amount\": 172}, {\"transaction-id\": 8691, \"amount\": 167}, {\"transaction-id\": 8785, \"amount\": 166}, {\"transaction-id\": 8853, \"amount\": 168}, {\"transaction-id\": 8916, \"amount\": 171}, {\"transaction-id\": 8991, \"amount\": 162}, {\"transaction-id\": 9038, \"amount\": 171}, {\"transaction-id\": 9139, \"amount\": 163}, {\"transaction-id\": 9355, \"amount\": 172}, {\"transaction-id\": 9358, \"amount\": 159}, {\"transaction-id\": 9458, \"amount\": 160}, {\"transaction-id\": 9603, \"amount\": 178}, {\"transaction-id\": 9894, \"amount\": 171}, {\"transaction-id\": 9993, \"amount\": 166}]}\\n')"
      ]
     },
     "execution_count": 9,
     "metadata": {},
     "output_type": "execute_result"
    }
   ],
   "source": [
    "filename = os.path.join('data', 'accounts.*.json.gz')\n",
    "lines = db.read_text(filename)\n",
    "lines.take(3)"
   ]
  },
  {
   "cell_type": "markdown",
   "metadata": {},
   "source": [
    "Our data comes out of the file as lines of text. Notice that file decompression happened automatically. We can make this data look more reasonable by mapping the `json.loads` function onto our bag."
   ]
  },
  {
   "cell_type": "code",
   "execution_count": 10,
   "metadata": {},
   "outputs": [
    {
     "data": {
      "text/plain": [
       "({'id': 0,\n",
       "  'name': 'Yvonne',\n",
       "  'transactions': [{'transaction-id': 214, 'amount': 1180},\n",
       "   {'transaction-id': 486, 'amount': 1129},\n",
       "   {'transaction-id': 970, 'amount': 1178},\n",
       "   {'transaction-id': 1076, 'amount': 1154},\n",
       "   {'transaction-id': 1664, 'amount': 1143},\n",
       "   {'transaction-id': 1915, 'amount': 1140},\n",
       "   {'transaction-id': 1971, 'amount': 1128},\n",
       "   {'transaction-id': 2122, 'amount': 1159},\n",
       "   {'transaction-id': 2585, 'amount': 1257},\n",
       "   {'transaction-id': 2654, 'amount': 1243},\n",
       "   {'transaction-id': 2765, 'amount': 1192},\n",
       "   {'transaction-id': 3112, 'amount': 1215},\n",
       "   {'transaction-id': 3302, 'amount': 1088},\n",
       "   {'transaction-id': 3348, 'amount': 1223},\n",
       "   {'transaction-id': 3691, 'amount': 1246},\n",
       "   {'transaction-id': 3897, 'amount': 1143},\n",
       "   {'transaction-id': 4044, 'amount': 1243},\n",
       "   {'transaction-id': 4143, 'amount': 1168},\n",
       "   {'transaction-id': 4220, 'amount': 1200},\n",
       "   {'transaction-id': 4357, 'amount': 1211},\n",
       "   {'transaction-id': 4485, 'amount': 1192},\n",
       "   {'transaction-id': 4618, 'amount': 1189},\n",
       "   {'transaction-id': 4661, 'amount': 1190},\n",
       "   {'transaction-id': 5159, 'amount': 1244},\n",
       "   {'transaction-id': 5457, 'amount': 1163},\n",
       "   {'transaction-id': 5718, 'amount': 1121},\n",
       "   {'transaction-id': 5946, 'amount': 1174},\n",
       "   {'transaction-id': 6036, 'amount': 1163},\n",
       "   {'transaction-id': 6237, 'amount': 1143},\n",
       "   {'transaction-id': 6305, 'amount': 1190},\n",
       "   {'transaction-id': 6452, 'amount': 1250},\n",
       "   {'transaction-id': 6594, 'amount': 1121},\n",
       "   {'transaction-id': 6697, 'amount': 1306},\n",
       "   {'transaction-id': 6734, 'amount': 1162},\n",
       "   {'transaction-id': 6853, 'amount': 1178},\n",
       "   {'transaction-id': 7075, 'amount': 1288},\n",
       "   {'transaction-id': 7171, 'amount': 1162},\n",
       "   {'transaction-id': 7195, 'amount': 1157},\n",
       "   {'transaction-id': 7352, 'amount': 1230},\n",
       "   {'transaction-id': 7499, 'amount': 1214},\n",
       "   {'transaction-id': 7671, 'amount': 1231},\n",
       "   {'transaction-id': 7759, 'amount': 1176},\n",
       "   {'transaction-id': 7924, 'amount': 1146},\n",
       "   {'transaction-id': 7990, 'amount': 1169},\n",
       "   {'transaction-id': 8511, 'amount': 1227},\n",
       "   {'transaction-id': 8757, 'amount': 1215},\n",
       "   {'transaction-id': 9012, 'amount': 1045},\n",
       "   {'transaction-id': 9163, 'amount': 1193},\n",
       "   {'transaction-id': 9254, 'amount': 1217},\n",
       "   {'transaction-id': 9365, 'amount': 1184},\n",
       "   {'transaction-id': 9489, 'amount': 1192},\n",
       "   {'transaction-id': 9800, 'amount': 1158},\n",
       "   {'transaction-id': 9857, 'amount': 1199},\n",
       "   {'transaction-id': 9893, 'amount': 1186}]},\n",
       " {'id': 1,\n",
       "  'name': 'Victor',\n",
       "  'transactions': [{'transaction-id': 76, 'amount': 645},\n",
       "   {'transaction-id': 293, 'amount': 618},\n",
       "   {'transaction-id': 382, 'amount': 633},\n",
       "   {'transaction-id': 428, 'amount': 648},\n",
       "   {'transaction-id': 450, 'amount': 621},\n",
       "   {'transaction-id': 952, 'amount': 656},\n",
       "   {'transaction-id': 1041, 'amount': 635},\n",
       "   {'transaction-id': 1290, 'amount': 581},\n",
       "   {'transaction-id': 1350, 'amount': 627},\n",
       "   {'transaction-id': 1488, 'amount': 631},\n",
       "   {'transaction-id': 1525, 'amount': 623},\n",
       "   {'transaction-id': 1599, 'amount': 657},\n",
       "   {'transaction-id': 1608, 'amount': 611},\n",
       "   {'transaction-id': 1699, 'amount': 621},\n",
       "   {'transaction-id': 1883, 'amount': 639},\n",
       "   {'transaction-id': 2332, 'amount': 617},\n",
       "   {'transaction-id': 2478, 'amount': 621},\n",
       "   {'transaction-id': 2574, 'amount': 615},\n",
       "   {'transaction-id': 2876, 'amount': 607},\n",
       "   {'transaction-id': 2949, 'amount': 631},\n",
       "   {'transaction-id': 2953, 'amount': 623},\n",
       "   {'transaction-id': 2972, 'amount': 620},\n",
       "   {'transaction-id': 3075, 'amount': 673},\n",
       "   {'transaction-id': 3311, 'amount': 620},\n",
       "   {'transaction-id': 3616, 'amount': 617},\n",
       "   {'transaction-id': 3839, 'amount': 634},\n",
       "   {'transaction-id': 4089, 'amount': 650},\n",
       "   {'transaction-id': 4210, 'amount': 612},\n",
       "   {'transaction-id': 4313, 'amount': 629},\n",
       "   {'transaction-id': 4362, 'amount': 639},\n",
       "   {'transaction-id': 4736, 'amount': 632},\n",
       "   {'transaction-id': 4794, 'amount': 635},\n",
       "   {'transaction-id': 4869, 'amount': 670},\n",
       "   {'transaction-id': 4932, 'amount': 652},\n",
       "   {'transaction-id': 5042, 'amount': 634},\n",
       "   {'transaction-id': 5285, 'amount': 621},\n",
       "   {'transaction-id': 5407, 'amount': 618},\n",
       "   {'transaction-id': 5623, 'amount': 638},\n",
       "   {'transaction-id': 5759, 'amount': 616},\n",
       "   {'transaction-id': 6259, 'amount': 621},\n",
       "   {'transaction-id': 6334, 'amount': 671},\n",
       "   {'transaction-id': 6449, 'amount': 646},\n",
       "   {'transaction-id': 6554, 'amount': 635},\n",
       "   {'transaction-id': 6842, 'amount': 630},\n",
       "   {'transaction-id': 6962, 'amount': 637},\n",
       "   {'transaction-id': 7059, 'amount': 632},\n",
       "   {'transaction-id': 7080, 'amount': 610},\n",
       "   {'transaction-id': 7216, 'amount': 655},\n",
       "   {'transaction-id': 7266, 'amount': 626},\n",
       "   {'transaction-id': 7390, 'amount': 624},\n",
       "   {'transaction-id': 7469, 'amount': 617},\n",
       "   {'transaction-id': 7604, 'amount': 625},\n",
       "   {'transaction-id': 8063, 'amount': 602},\n",
       "   {'transaction-id': 8091, 'amount': 635},\n",
       "   {'transaction-id': 8424, 'amount': 641},\n",
       "   {'transaction-id': 8634, 'amount': 631},\n",
       "   {'transaction-id': 8671, 'amount': 630},\n",
       "   {'transaction-id': 8992, 'amount': 633},\n",
       "   {'transaction-id': 9600, 'amount': 625},\n",
       "   {'transaction-id': 9652, 'amount': 660},\n",
       "   {'transaction-id': 9759, 'amount': 641},\n",
       "   {'transaction-id': 9849, 'amount': 629}]},\n",
       " {'id': 2,\n",
       "  'name': 'Edith',\n",
       "  'transactions': [{'transaction-id': 5, 'amount': 163},\n",
       "   {'transaction-id': 126, 'amount': 173},\n",
       "   {'transaction-id': 201, 'amount': 178},\n",
       "   {'transaction-id': 378, 'amount': 184},\n",
       "   {'transaction-id': 391, 'amount': 154},\n",
       "   {'transaction-id': 411, 'amount': 172},\n",
       "   {'transaction-id': 475, 'amount': 157},\n",
       "   {'transaction-id': 529, 'amount': 167},\n",
       "   {'transaction-id': 640, 'amount': 161},\n",
       "   {'transaction-id': 848, 'amount': 175},\n",
       "   {'transaction-id': 882, 'amount': 168},\n",
       "   {'transaction-id': 934, 'amount': 164},\n",
       "   {'transaction-id': 975, 'amount': 180},\n",
       "   {'transaction-id': 988, 'amount': 165},\n",
       "   {'transaction-id': 1186, 'amount': 174},\n",
       "   {'transaction-id': 1374, 'amount': 170},\n",
       "   {'transaction-id': 1521, 'amount': 161},\n",
       "   {'transaction-id': 1532, 'amount': 164},\n",
       "   {'transaction-id': 1537, 'amount': 166},\n",
       "   {'transaction-id': 1552, 'amount': 171},\n",
       "   {'transaction-id': 1618, 'amount': 174},\n",
       "   {'transaction-id': 1633, 'amount': 173},\n",
       "   {'transaction-id': 1669, 'amount': 168},\n",
       "   {'transaction-id': 1844, 'amount': 170},\n",
       "   {'transaction-id': 1962, 'amount': 175},\n",
       "   {'transaction-id': 2173, 'amount': 156},\n",
       "   {'transaction-id': 2190, 'amount': 183},\n",
       "   {'transaction-id': 2233, 'amount': 176},\n",
       "   {'transaction-id': 2385, 'amount': 172},\n",
       "   {'transaction-id': 2389, 'amount': 164},\n",
       "   {'transaction-id': 2414, 'amount': 170},\n",
       "   {'transaction-id': 2721, 'amount': 169},\n",
       "   {'transaction-id': 2746, 'amount': 170},\n",
       "   {'transaction-id': 2760, 'amount': 171},\n",
       "   {'transaction-id': 2833, 'amount': 168},\n",
       "   {'transaction-id': 2990, 'amount': 172},\n",
       "   {'transaction-id': 3132, 'amount': 163},\n",
       "   {'transaction-id': 3185, 'amount': 168},\n",
       "   {'transaction-id': 3196, 'amount': 164},\n",
       "   {'transaction-id': 3262, 'amount': 177},\n",
       "   {'transaction-id': 3346, 'amount': 170},\n",
       "   {'transaction-id': 3366, 'amount': 168},\n",
       "   {'transaction-id': 3386, 'amount': 163},\n",
       "   {'transaction-id': 3469, 'amount': 170},\n",
       "   {'transaction-id': 3639, 'amount': 168},\n",
       "   {'transaction-id': 3690, 'amount': 168},\n",
       "   {'transaction-id': 3759, 'amount': 168},\n",
       "   {'transaction-id': 3770, 'amount': 170},\n",
       "   {'transaction-id': 3883, 'amount': 176},\n",
       "   {'transaction-id': 3961, 'amount': 163},\n",
       "   {'transaction-id': 3989, 'amount': 172},\n",
       "   {'transaction-id': 4286, 'amount': 157},\n",
       "   {'transaction-id': 4300, 'amount': 177},\n",
       "   {'transaction-id': 4343, 'amount': 171},\n",
       "   {'transaction-id': 4413, 'amount': 163},\n",
       "   {'transaction-id': 4580, 'amount': 165},\n",
       "   {'transaction-id': 4583, 'amount': 171},\n",
       "   {'transaction-id': 4727, 'amount': 162},\n",
       "   {'transaction-id': 4777, 'amount': 168},\n",
       "   {'transaction-id': 4782, 'amount': 182},\n",
       "   {'transaction-id': 4917, 'amount': 165},\n",
       "   {'transaction-id': 4980, 'amount': 163},\n",
       "   {'transaction-id': 5001, 'amount': 172},\n",
       "   {'transaction-id': 5059, 'amount': 173},\n",
       "   {'transaction-id': 5176, 'amount': 171},\n",
       "   {'transaction-id': 5210, 'amount': 171},\n",
       "   {'transaction-id': 5402, 'amount': 179},\n",
       "   {'transaction-id': 5484, 'amount': 169},\n",
       "   {'transaction-id': 5508, 'amount': 166},\n",
       "   {'transaction-id': 5635, 'amount': 170},\n",
       "   {'transaction-id': 5736, 'amount': 170},\n",
       "   {'transaction-id': 5772, 'amount': 176},\n",
       "   {'transaction-id': 5787, 'amount': 170},\n",
       "   {'transaction-id': 5810, 'amount': 168},\n",
       "   {'transaction-id': 5846, 'amount': 169},\n",
       "   {'transaction-id': 5896, 'amount': 173},\n",
       "   {'transaction-id': 5977, 'amount': 165},\n",
       "   {'transaction-id': 6203, 'amount': 179},\n",
       "   {'transaction-id': 6206, 'amount': 170},\n",
       "   {'transaction-id': 6351, 'amount': 172},\n",
       "   {'transaction-id': 6426, 'amount': 170},\n",
       "   {'transaction-id': 6530, 'amount': 175},\n",
       "   {'transaction-id': 6791, 'amount': 175},\n",
       "   {'transaction-id': 7120, 'amount': 171},\n",
       "   {'transaction-id': 7125, 'amount': 167},\n",
       "   {'transaction-id': 7169, 'amount': 162},\n",
       "   {'transaction-id': 7254, 'amount': 178},\n",
       "   {'transaction-id': 7291, 'amount': 167},\n",
       "   {'transaction-id': 7465, 'amount': 155},\n",
       "   {'transaction-id': 7622, 'amount': 174},\n",
       "   {'transaction-id': 7657, 'amount': 159},\n",
       "   {'transaction-id': 7666, 'amount': 164},\n",
       "   {'transaction-id': 7846, 'amount': 174},\n",
       "   {'transaction-id': 7931, 'amount': 160},\n",
       "   {'transaction-id': 7976, 'amount': 174},\n",
       "   {'transaction-id': 7984, 'amount': 178},\n",
       "   {'transaction-id': 7989, 'amount': 167},\n",
       "   {'transaction-id': 8067, 'amount': 172},\n",
       "   {'transaction-id': 8165, 'amount': 164},\n",
       "   {'transaction-id': 8181, 'amount': 166},\n",
       "   {'transaction-id': 8190, 'amount': 165},\n",
       "   {'transaction-id': 8281, 'amount': 170},\n",
       "   {'transaction-id': 8310, 'amount': 182},\n",
       "   {'transaction-id': 8339, 'amount': 165},\n",
       "   {'transaction-id': 8484, 'amount': 162},\n",
       "   {'transaction-id': 8564, 'amount': 172},\n",
       "   {'transaction-id': 8691, 'amount': 167},\n",
       "   {'transaction-id': 8785, 'amount': 166},\n",
       "   {'transaction-id': 8853, 'amount': 168},\n",
       "   {'transaction-id': 8916, 'amount': 171},\n",
       "   {'transaction-id': 8991, 'amount': 162},\n",
       "   {'transaction-id': 9038, 'amount': 171},\n",
       "   {'transaction-id': 9139, 'amount': 163},\n",
       "   {'transaction-id': 9355, 'amount': 172},\n",
       "   {'transaction-id': 9358, 'amount': 159},\n",
       "   {'transaction-id': 9458, 'amount': 160},\n",
       "   {'transaction-id': 9603, 'amount': 178},\n",
       "   {'transaction-id': 9894, 'amount': 171},\n",
       "   {'transaction-id': 9993, 'amount': 166}]})"
      ]
     },
     "execution_count": 10,
     "metadata": {},
     "output_type": "execute_result"
    }
   ],
   "source": [
    "import json\n",
    "js = lines.map(json.loads)\n",
    "# take: inspect first few elements\n",
    "js.take(3)"
   ]
  },
  {
   "cell_type": "markdown",
   "metadata": {},
   "source": [
    "### Basic Queries"
   ]
  },
  {
   "cell_type": "markdown",
   "metadata": {},
   "source": [
    "Once we parse our JSON data into proper Python objects (`dict`s, `list`s, etc.) we can perform more interesting queries by creating small Python functions to run on our data."
   ]
  },
  {
   "cell_type": "code",
   "execution_count": 11,
   "metadata": {},
   "outputs": [
    {
     "data": {
      "text/plain": [
       "({'id': 28,\n",
       "  'name': 'Alice',\n",
       "  'transactions': [{'transaction-id': 11, 'amount': 1047},\n",
       "   {'transaction-id': 346, 'amount': 1650},\n",
       "   {'transaction-id': 429, 'amount': 1667},\n",
       "   {'transaction-id': 765, 'amount': 1793},\n",
       "   {'transaction-id': 875, 'amount': 1452},\n",
       "   {'transaction-id': 1034, 'amount': 1537},\n",
       "   {'transaction-id': 1148, 'amount': 1177},\n",
       "   {'transaction-id': 1245, 'amount': 1545},\n",
       "   {'transaction-id': 1273, 'amount': 1485},\n",
       "   {'transaction-id': 1397, 'amount': 1371},\n",
       "   {'transaction-id': 1745, 'amount': 1065},\n",
       "   {'transaction-id': 1905, 'amount': 1268},\n",
       "   {'transaction-id': 1968, 'amount': 1337},\n",
       "   {'transaction-id': 2043, 'amount': 1036},\n",
       "   {'transaction-id': 2363, 'amount': 1441},\n",
       "   {'transaction-id': 2391, 'amount': 1250},\n",
       "   {'transaction-id': 2664, 'amount': 1216},\n",
       "   {'transaction-id': 2951, 'amount': 1110},\n",
       "   {'transaction-id': 3130, 'amount': 1448},\n",
       "   {'transaction-id': 3384, 'amount': 1676},\n",
       "   {'transaction-id': 3492, 'amount': 1538},\n",
       "   {'transaction-id': 3743, 'amount': 1233},\n",
       "   {'transaction-id': 3840, 'amount': 1363},\n",
       "   {'transaction-id': 3949, 'amount': 1335},\n",
       "   {'transaction-id': 4023, 'amount': 1522},\n",
       "   {'transaction-id': 4228, 'amount': 1279},\n",
       "   {'transaction-id': 4236, 'amount': 1742},\n",
       "   {'transaction-id': 4386, 'amount': 1113},\n",
       "   {'transaction-id': 4404, 'amount': 1439},\n",
       "   {'transaction-id': 4728, 'amount': 1897},\n",
       "   {'transaction-id': 4821, 'amount': 1553},\n",
       "   {'transaction-id': 4926, 'amount': 1455},\n",
       "   {'transaction-id': 5214, 'amount': 1426},\n",
       "   {'transaction-id': 5385, 'amount': 1241},\n",
       "   {'transaction-id': 5499, 'amount': 1478},\n",
       "   {'transaction-id': 5677, 'amount': 1290},\n",
       "   {'transaction-id': 5754, 'amount': 1624},\n",
       "   {'transaction-id': 5765, 'amount': 1369},\n",
       "   {'transaction-id': 5783, 'amount': 1248},\n",
       "   {'transaction-id': 5885, 'amount': 1441},\n",
       "   {'transaction-id': 6487, 'amount': 1605},\n",
       "   {'transaction-id': 6515, 'amount': 1437},\n",
       "   {'transaction-id': 6631, 'amount': 1237},\n",
       "   {'transaction-id': 7424, 'amount': 1183},\n",
       "   {'transaction-id': 7673, 'amount': 1349},\n",
       "   {'transaction-id': 7983, 'amount': 1293},\n",
       "   {'transaction-id': 8146, 'amount': 1223},\n",
       "   {'transaction-id': 8453, 'amount': 1183},\n",
       "   {'transaction-id': 8675, 'amount': 1327},\n",
       "   {'transaction-id': 8754, 'amount': 1395},\n",
       "   {'transaction-id': 9334, 'amount': 1585},\n",
       "   {'transaction-id': 9417, 'amount': 956},\n",
       "   {'transaction-id': 9588, 'amount': 1355}]},\n",
       " {'id': 48,\n",
       "  'name': 'Alice',\n",
       "  'transactions': [{'transaction-id': 778, 'amount': -57},\n",
       "   {'transaction-id': 839, 'amount': -47},\n",
       "   {'transaction-id': 1021, 'amount': -25},\n",
       "   {'transaction-id': 1133, 'amount': -39},\n",
       "   {'transaction-id': 1622, 'amount': -2},\n",
       "   {'transaction-id': 1754, 'amount': -55},\n",
       "   {'transaction-id': 2014, 'amount': 3},\n",
       "   {'transaction-id': 2235, 'amount': -50},\n",
       "   {'transaction-id': 2417, 'amount': -59},\n",
       "   {'transaction-id': 2587, 'amount': -33},\n",
       "   {'transaction-id': 2668, 'amount': -11},\n",
       "   {'transaction-id': 3122, 'amount': -45},\n",
       "   {'transaction-id': 3168, 'amount': -18},\n",
       "   {'transaction-id': 3665, 'amount': -4},\n",
       "   {'transaction-id': 3894, 'amount': -7},\n",
       "   {'transaction-id': 5070, 'amount': -57},\n",
       "   {'transaction-id': 5271, 'amount': -5},\n",
       "   {'transaction-id': 5312, 'amount': -3},\n",
       "   {'transaction-id': 5366, 'amount': -51},\n",
       "   {'transaction-id': 5740, 'amount': -23},\n",
       "   {'transaction-id': 5742, 'amount': 5},\n",
       "   {'transaction-id': 5768, 'amount': -15},\n",
       "   {'transaction-id': 7063, 'amount': 0},\n",
       "   {'transaction-id': 7702, 'amount': -7},\n",
       "   {'transaction-id': 7779, 'amount': -52},\n",
       "   {'transaction-id': 8087, 'amount': -38},\n",
       "   {'transaction-id': 8269, 'amount': -55},\n",
       "   {'transaction-id': 9885, 'amount': -16}]},\n",
       " {'id': 49,\n",
       "  'name': 'Alice',\n",
       "  'transactions': [{'transaction-id': 901, 'amount': 2573},\n",
       "   {'transaction-id': 1311, 'amount': 2297},\n",
       "   {'transaction-id': 1672, 'amount': 2402},\n",
       "   {'transaction-id': 3682, 'amount': 2269},\n",
       "   {'transaction-id': 6508, 'amount': 2511},\n",
       "   {'transaction-id': 7333, 'amount': 2238},\n",
       "   {'transaction-id': 8022, 'amount': 2371},\n",
       "   {'transaction-id': 8747, 'amount': 2596}]},\n",
       " {'id': 75,\n",
       "  'name': 'Alice',\n",
       "  'transactions': [{'transaction-id': 63, 'amount': -17},\n",
       "   {'transaction-id': 376, 'amount': 51},\n",
       "   {'transaction-id': 421, 'amount': -68},\n",
       "   {'transaction-id': 973, 'amount': 5},\n",
       "   {'transaction-id': 1191, 'amount': -16},\n",
       "   {'transaction-id': 1544, 'amount': 90},\n",
       "   {'transaction-id': 1775, 'amount': 3},\n",
       "   {'transaction-id': 2534, 'amount': 94},\n",
       "   {'transaction-id': 2687, 'amount': -33},\n",
       "   {'transaction-id': 2692, 'amount': -21},\n",
       "   {'transaction-id': 2996, 'amount': 2},\n",
       "   {'transaction-id': 3011, 'amount': 38},\n",
       "   {'transaction-id': 3172, 'amount': -97},\n",
       "   {'transaction-id': 3230, 'amount': 31},\n",
       "   {'transaction-id': 3414, 'amount': 42},\n",
       "   {'transaction-id': 3859, 'amount': 26},\n",
       "   {'transaction-id': 3933, 'amount': -32},\n",
       "   {'transaction-id': 4043, 'amount': -13},\n",
       "   {'transaction-id': 4214, 'amount': 36},\n",
       "   {'transaction-id': 4721, 'amount': 106},\n",
       "   {'transaction-id': 4969, 'amount': 14},\n",
       "   {'transaction-id': 5021, 'amount': 41},\n",
       "   {'transaction-id': 5090, 'amount': -107},\n",
       "   {'transaction-id': 5651, 'amount': 54},\n",
       "   {'transaction-id': 5995, 'amount': -6},\n",
       "   {'transaction-id': 6099, 'amount': 53},\n",
       "   {'transaction-id': 6304, 'amount': 49},\n",
       "   {'transaction-id': 6392, 'amount': -29},\n",
       "   {'transaction-id': 6743, 'amount': 43},\n",
       "   {'transaction-id': 6954, 'amount': -4},\n",
       "   {'transaction-id': 8307, 'amount': 57},\n",
       "   {'transaction-id': 8335, 'amount': 0},\n",
       "   {'transaction-id': 8473, 'amount': 123},\n",
       "   {'transaction-id': 8914, 'amount': -34},\n",
       "   {'transaction-id': 9108, 'amount': -92},\n",
       "   {'transaction-id': 9669, 'amount': -81}]},\n",
       " {'id': 97,\n",
       "  'name': 'Alice',\n",
       "  'transactions': [{'transaction-id': 355, 'amount': -29},\n",
       "   {'transaction-id': 1126, 'amount': 25},\n",
       "   {'transaction-id': 1615, 'amount': 12},\n",
       "   {'transaction-id': 8944, 'amount': -22}]})"
      ]
     },
     "execution_count": 11,
     "metadata": {},
     "output_type": "execute_result"
    }
   ],
   "source": [
    "# filter: keep only some elements of the sequence\n",
    "js.filter(lambda record: record['name'] == 'Alice').take(5)"
   ]
  },
  {
   "cell_type": "code",
   "execution_count": 12,
   "metadata": {},
   "outputs": [
    {
     "data": {
      "text/plain": [
       "({'name': 'Alice', 'count': 53},\n",
       " {'name': 'Alice', 'count': 28},\n",
       " {'name': 'Alice', 'count': 8},\n",
       " {'name': 'Alice', 'count': 36},\n",
       " {'name': 'Alice', 'count': 4})"
      ]
     },
     "execution_count": 12,
     "metadata": {},
     "output_type": "execute_result"
    }
   ],
   "source": [
    "def count_transactions(d):\n",
    "    return {'name': d['name'], 'count': len(d['transactions'])}\n",
    "\n",
    "# map: apply a function to each element\n",
    "(js.filter(lambda record: record['name'] == 'Alice')\n",
    "   .map(count_transactions)\n",
    "   .take(5))"
   ]
  },
  {
   "cell_type": "code",
   "execution_count": 13,
   "metadata": {},
   "outputs": [
    {
     "data": {
      "text/plain": [
       "(53, 28, 8, 36, 4)"
      ]
     },
     "execution_count": 13,
     "metadata": {},
     "output_type": "execute_result"
    }
   ],
   "source": [
    "# pluck: select a field, as from a dictionary, element[field]\n",
    "(js.filter(lambda record: record['name'] == 'Alice')\n",
    "   .map(count_transactions)\n",
    "   .pluck('count')\n",
    "   .take(5))"
   ]
  },
  {
   "cell_type": "code",
   "execution_count": 14,
   "metadata": {},
   "outputs": [
    {
     "data": {
      "text/plain": [
       "21.496610169491525"
      ]
     },
     "execution_count": 14,
     "metadata": {},
     "output_type": "execute_result"
    }
   ],
   "source": [
    "# Average number of transactions for all of the Alice entries\n",
    "(js.filter(lambda record: record['name'] == 'Alice')\n",
    "   .map(count_transactions)\n",
    "   .pluck('count')\n",
    "   .mean()\n",
    "   .compute())"
   ]
  },
  {
   "cell_type": "markdown",
   "metadata": {},
   "source": [
    "### Use `flatten` to de-nest"
   ]
  },
  {
   "cell_type": "markdown",
   "metadata": {},
   "source": [
    "In the example below we see the use of `.flatten()` to flatten results.  We compute the average amount for all transactions for all Alices."
   ]
  },
  {
   "cell_type": "code",
   "execution_count": 15,
   "metadata": {},
   "outputs": [
    {
     "data": {
      "text/plain": [
       "([{'transaction-id': 11, 'amount': 1047},\n",
       "  {'transaction-id': 346, 'amount': 1650},\n",
       "  {'transaction-id': 429, 'amount': 1667},\n",
       "  {'transaction-id': 765, 'amount': 1793},\n",
       "  {'transaction-id': 875, 'amount': 1452},\n",
       "  {'transaction-id': 1034, 'amount': 1537},\n",
       "  {'transaction-id': 1148, 'amount': 1177},\n",
       "  {'transaction-id': 1245, 'amount': 1545},\n",
       "  {'transaction-id': 1273, 'amount': 1485},\n",
       "  {'transaction-id': 1397, 'amount': 1371},\n",
       "  {'transaction-id': 1745, 'amount': 1065},\n",
       "  {'transaction-id': 1905, 'amount': 1268},\n",
       "  {'transaction-id': 1968, 'amount': 1337},\n",
       "  {'transaction-id': 2043, 'amount': 1036},\n",
       "  {'transaction-id': 2363, 'amount': 1441},\n",
       "  {'transaction-id': 2391, 'amount': 1250},\n",
       "  {'transaction-id': 2664, 'amount': 1216},\n",
       "  {'transaction-id': 2951, 'amount': 1110},\n",
       "  {'transaction-id': 3130, 'amount': 1448},\n",
       "  {'transaction-id': 3384, 'amount': 1676},\n",
       "  {'transaction-id': 3492, 'amount': 1538},\n",
       "  {'transaction-id': 3743, 'amount': 1233},\n",
       "  {'transaction-id': 3840, 'amount': 1363},\n",
       "  {'transaction-id': 3949, 'amount': 1335},\n",
       "  {'transaction-id': 4023, 'amount': 1522},\n",
       "  {'transaction-id': 4228, 'amount': 1279},\n",
       "  {'transaction-id': 4236, 'amount': 1742},\n",
       "  {'transaction-id': 4386, 'amount': 1113},\n",
       "  {'transaction-id': 4404, 'amount': 1439},\n",
       "  {'transaction-id': 4728, 'amount': 1897},\n",
       "  {'transaction-id': 4821, 'amount': 1553},\n",
       "  {'transaction-id': 4926, 'amount': 1455},\n",
       "  {'transaction-id': 5214, 'amount': 1426},\n",
       "  {'transaction-id': 5385, 'amount': 1241},\n",
       "  {'transaction-id': 5499, 'amount': 1478},\n",
       "  {'transaction-id': 5677, 'amount': 1290},\n",
       "  {'transaction-id': 5754, 'amount': 1624},\n",
       "  {'transaction-id': 5765, 'amount': 1369},\n",
       "  {'transaction-id': 5783, 'amount': 1248},\n",
       "  {'transaction-id': 5885, 'amount': 1441},\n",
       "  {'transaction-id': 6487, 'amount': 1605},\n",
       "  {'transaction-id': 6515, 'amount': 1437},\n",
       "  {'transaction-id': 6631, 'amount': 1237},\n",
       "  {'transaction-id': 7424, 'amount': 1183},\n",
       "  {'transaction-id': 7673, 'amount': 1349},\n",
       "  {'transaction-id': 7983, 'amount': 1293},\n",
       "  {'transaction-id': 8146, 'amount': 1223},\n",
       "  {'transaction-id': 8453, 'amount': 1183},\n",
       "  {'transaction-id': 8675, 'amount': 1327},\n",
       "  {'transaction-id': 8754, 'amount': 1395},\n",
       "  {'transaction-id': 9334, 'amount': 1585},\n",
       "  {'transaction-id': 9417, 'amount': 956},\n",
       "  {'transaction-id': 9588, 'amount': 1355}],\n",
       " [{'transaction-id': 778, 'amount': -57},\n",
       "  {'transaction-id': 839, 'amount': -47},\n",
       "  {'transaction-id': 1021, 'amount': -25},\n",
       "  {'transaction-id': 1133, 'amount': -39},\n",
       "  {'transaction-id': 1622, 'amount': -2},\n",
       "  {'transaction-id': 1754, 'amount': -55},\n",
       "  {'transaction-id': 2014, 'amount': 3},\n",
       "  {'transaction-id': 2235, 'amount': -50},\n",
       "  {'transaction-id': 2417, 'amount': -59},\n",
       "  {'transaction-id': 2587, 'amount': -33},\n",
       "  {'transaction-id': 2668, 'amount': -11},\n",
       "  {'transaction-id': 3122, 'amount': -45},\n",
       "  {'transaction-id': 3168, 'amount': -18},\n",
       "  {'transaction-id': 3665, 'amount': -4},\n",
       "  {'transaction-id': 3894, 'amount': -7},\n",
       "  {'transaction-id': 5070, 'amount': -57},\n",
       "  {'transaction-id': 5271, 'amount': -5},\n",
       "  {'transaction-id': 5312, 'amount': -3},\n",
       "  {'transaction-id': 5366, 'amount': -51},\n",
       "  {'transaction-id': 5740, 'amount': -23},\n",
       "  {'transaction-id': 5742, 'amount': 5},\n",
       "  {'transaction-id': 5768, 'amount': -15},\n",
       "  {'transaction-id': 7063, 'amount': 0},\n",
       "  {'transaction-id': 7702, 'amount': -7},\n",
       "  {'transaction-id': 7779, 'amount': -52},\n",
       "  {'transaction-id': 8087, 'amount': -38},\n",
       "  {'transaction-id': 8269, 'amount': -55},\n",
       "  {'transaction-id': 9885, 'amount': -16}],\n",
       " [{'transaction-id': 901, 'amount': 2573},\n",
       "  {'transaction-id': 1311, 'amount': 2297},\n",
       "  {'transaction-id': 1672, 'amount': 2402},\n",
       "  {'transaction-id': 3682, 'amount': 2269},\n",
       "  {'transaction-id': 6508, 'amount': 2511},\n",
       "  {'transaction-id': 7333, 'amount': 2238},\n",
       "  {'transaction-id': 8022, 'amount': 2371},\n",
       "  {'transaction-id': 8747, 'amount': 2596}])"
      ]
     },
     "execution_count": 15,
     "metadata": {},
     "output_type": "execute_result"
    }
   ],
   "source": [
    "js.filter(lambda record: record['name'] == 'Alice').pluck('transactions').take(3)"
   ]
  },
  {
   "cell_type": "code",
   "execution_count": 16,
   "metadata": {},
   "outputs": [
    {
     "data": {
      "text/plain": [
       "({'transaction-id': 11, 'amount': 1047},\n",
       " {'transaction-id': 346, 'amount': 1650},\n",
       " {'transaction-id': 429, 'amount': 1667})"
      ]
     },
     "execution_count": 16,
     "metadata": {},
     "output_type": "execute_result"
    }
   ],
   "source": [
    "(js.filter(lambda record: record['name'] == 'Alice')\n",
    "   .pluck('transactions')\n",
    "   .flatten()\n",
    "   .take(3))"
   ]
  },
  {
   "cell_type": "code",
   "execution_count": 17,
   "metadata": {},
   "outputs": [
    {
     "data": {
      "text/plain": [
       "(1047, 1650, 1667)"
      ]
     },
     "execution_count": 17,
     "metadata": {},
     "output_type": "execute_result"
    }
   ],
   "source": [
    "(js.filter(lambda record: record['name'] == 'Alice')\n",
    "   .pluck('transactions')\n",
    "   .flatten()\n",
    "   .pluck('amount')\n",
    "   .take(3))"
   ]
  },
  {
   "cell_type": "code",
   "execution_count": 18,
   "metadata": {},
   "outputs": [
    {
     "data": {
      "text/plain": [
       "675.0178979736655"
      ]
     },
     "execution_count": 18,
     "metadata": {},
     "output_type": "execute_result"
    }
   ],
   "source": [
    "(js.filter(lambda record: record['name'] == 'Alice')\n",
    "   .pluck('transactions')\n",
    "   .flatten()\n",
    "   .pluck('amount')\n",
    "   .mean()\n",
    "   .compute())"
   ]
  },
  {
   "cell_type": "markdown",
   "metadata": {},
   "source": [
    "### Groupby and Foldby"
   ]
  },
  {
   "cell_type": "markdown",
   "metadata": {},
   "source": [
    "Often we want to group data by some function or key.  We can do this either with the `.groupby` method, which is straightforward but forces a full shuffle of the data (expensive) or with the harder-to-use but faster `.foldby` method, which does a streaming combined groupby and reduction.\n",
    "\n",
    "*  `groupby`:  Shuffles data so that all items with the same key are in the same key-value pair\n",
    "*  `foldby`:  Walks through the data accumulating a result per key\n",
    "\n",
    "*Note: the full groupby is particularly bad. In actual workloads you would do well to use `foldby` or switch to `DataFrame`s if possible.*"
   ]
  },
  {
   "cell_type": "markdown",
   "metadata": {},
   "source": [
    "### `groupby`"
   ]
  },
  {
   "cell_type": "markdown",
   "metadata": {},
   "source": [
    "Groupby collects items in your collection so that all items with the same value under some function are collected together into a key-value pair."
   ]
  },
  {
   "cell_type": "code",
   "execution_count": 19,
   "metadata": {},
   "outputs": [
    {
     "data": {
      "text/plain": [
       "[(7, ['Charlie']), (3, ['Bob', 'Dan']), (5, ['Alice', 'Edith', 'Frank'])]"
      ]
     },
     "execution_count": 19,
     "metadata": {},
     "output_type": "execute_result"
    }
   ],
   "source": [
    "b = db.from_sequence(['Alice', 'Bob', 'Charlie', 'Dan', 'Edith', 'Frank'])\n",
    "b.groupby(len).compute()  # names grouped by length"
   ]
  },
  {
   "cell_type": "code",
   "execution_count": 20,
   "metadata": {},
   "outputs": [
    {
     "data": {
      "text/plain": [
       "[(0, [0, 2, 4, 6, 8]), (1, [1, 3, 5, 7, 9])]"
      ]
     },
     "execution_count": 20,
     "metadata": {},
     "output_type": "execute_result"
    }
   ],
   "source": [
    "b = db.from_sequence(list(range(10)))\n",
    "b.groupby(lambda x: x % 2).compute()"
   ]
  },
  {
   "cell_type": "code",
   "execution_count": 21,
   "metadata": {},
   "outputs": [
    {
     "data": {
      "text/plain": [
       "[(0, 8), (1, 9)]"
      ]
     },
     "execution_count": 21,
     "metadata": {},
     "output_type": "execute_result"
    }
   ],
   "source": [
    "b.groupby(lambda x: x % 2).starmap(lambda k, v: (k, max(v))).compute()"
   ]
  },
  {
   "cell_type": "markdown",
   "metadata": {},
   "source": [
    "### `foldby`"
   ]
  },
  {
   "cell_type": "markdown",
   "metadata": {},
   "source": [
    "Foldby can be quite odd at first.  It is similar to the following functions from other libraries:\n",
    "\n",
    "*  [`toolz.reduceby`](http://toolz.readthedocs.io/en/latest/streaming-analytics.html#streaming-split-apply-combine)\n",
    "*  [`pyspark.RDD.combineByKey`](http://abshinn.github.io/python/apache-spark/2014/10/11/using-combinebykey-in-apache-spark/)\n",
    "\n",
    "When using `foldby` you provide \n",
    "\n",
    "1.  A key function on which to group elements\n",
    "2.  A binary operator such as you would pass to `reduce` that you use to perform reduction per each group\n",
    "3.  A combine binary operator that can combine the results of two `reduce` calls on different parts of your dataset.\n",
    "\n",
    "Your reduction must be associative.  It will happen in parallel in each of the partitions of your dataset.  Then all of these intermediate results will be combined by the `combine` binary operator."
   ]
  },
  {
   "cell_type": "code",
   "execution_count": 22,
   "metadata": {},
   "outputs": [
    {
     "data": {
      "text/plain": [
       "[(0, 8), (1, 9)]"
      ]
     },
     "execution_count": 22,
     "metadata": {},
     "output_type": "execute_result"
    }
   ],
   "source": [
    "is_even = lambda x: x % 2\n",
    "b.foldby(is_even, binop=max, combine=max).compute()"
   ]
  },
  {
   "cell_type": "markdown",
   "metadata": {},
   "source": [
    "### Example with account data"
   ]
  },
  {
   "cell_type": "markdown",
   "metadata": {},
   "source": [
    "We find the number of people with the same name."
   ]
  },
  {
   "cell_type": "code",
   "execution_count": 23,
   "metadata": {},
   "outputs": [
    {
     "name": "stdout",
     "output_type": "stream",
     "text": [
      "[('Alice', 141), ('Alice', 142), ('Alice', 152), ('Alice', 155), ('Bob', 96), ('Bob', 96), ('Bob', 104), ('Bob', 104), ('Charlie', 131), ('Charlie', 132), ('Charlie', 142), ('Charlie', 143), ('Dan', 96), ('Dan', 96), ('Dan', 104), ('Dan', 104), ('Edith', 183), ('Edith', 183), ('Edith', 192), ('Edith', 194), ('Frank', 84), ('Frank', 84), ('Frank', 91), ('Frank', 91), ('George', 95), ('George', 96), ('George', 103), ('George', 104), ('Hannah', 106), ('Hannah', 108), ('Hannah', 117), ('Hannah', 117), ('Ingrid', 60), ('Ingrid', 60), ('Ingrid', 65), ('Ingrid', 65), ('Jerry', 156), ('Jerry', 156), ('Jerry', 169), ('Jerry', 169), ('Kevin', 180), ('Kevin', 180), ('Kevin', 194), ('Kevin', 194), ('Laura', 69), ('Laura', 71), ('Laura', 72), ('Laura', 74), ('Michael', 132), ('Michael', 132), ('Michael', 141), ('Michael', 143), ('Norbert', 108), ('Norbert', 108), ('Norbert', 115), ('Norbert', 116), ('Oliver', 48), ('Oliver', 48), ('Oliver', 52), ('Oliver', 52), ('Patricia', 108), ('Patricia', 117), ('Patricia', 225), ('Quinn', 144), ('Quinn', 144), ('Quinn', 155), ('Quinn', 156), ('Ray', 56), ('Ray', 56), ('Ray', 59), ('Ray', 60), ('Sarah', 72), ('Sarah', 72), ('Sarah', 78), ('Sarah', 78), ('Tim', 131), ('Tim', 131), ('Tim', 141), ('Tim', 143), ('Ursula', 109), ('Ursula', 110), ('Ursula', 119), ('Ursula', 119), ('Victor', 97), ('Victor', 98), ('Victor', 105), ('Victor', 106), ('Wendy', 177), ('Wendy', 180), ('Wendy', 195), ('Wendy', 195), ('Xavier', 108), ('Xavier', 108), ('Xavier', 117), ('Xavier', 117), ('Yvonne', 180), ('Yvonne', 182), ('Yvonne', 196), ('Yvonne', 198), ('Zelda', 68), ('Zelda', 68), ('Zelda', 74), ('Zelda', 74)]\n",
      "CPU times: user 1.5 s, sys: 73.6 ms, total: 1.57 s\n",
      "Wall time: 8.64 s\n"
     ]
    }
   ],
   "source": [
    "%%time\n",
    "# Warning, this one takes a while...\n",
    "result = js.groupby(lambda item: item['name']).starmap(lambda k, v: (k, len(v))).compute()\n",
    "print(sorted(result))"
   ]
  },
  {
   "cell_type": "code",
   "execution_count": 24,
   "metadata": {},
   "outputs": [
    {
     "name": "stdout",
     "output_type": "stream",
     "text": [
      "[('Alice', 590), ('Bob', 400), ('Charlie', 548), ('Dan', 400), ('Edith', 752), ('Frank', 350), ('George', 398), ('Hannah', 448), ('Ingrid', 250), ('Jerry', 650), ('Kevin', 748), ('Laura', 286), ('Michael', 548), ('Norbert', 447), ('Oliver', 200), ('Patricia', 450), ('Quinn', 599), ('Ray', 231), ('Sarah', 300), ('Tim', 546), ('Ursula', 457), ('Victor', 406), ('Wendy', 747), ('Xavier', 450), ('Yvonne', 756), ('Zelda', 284)]\n",
      "CPU times: user 134 ms, sys: 7.92 ms, total: 142 ms\n",
      "Wall time: 573 ms\n"
     ]
    }
   ],
   "source": [
    "%%time\n",
    "# This one is comparatively fast and produces the same result.\n",
    "from operator import add\n",
    "def incr(tot, _):\n",
    "    return tot+1\n",
    "\n",
    "result = js.foldby(key='name', \n",
    "                   binop=incr, \n",
    "                   initial=0, \n",
    "                   combine=add, \n",
    "                   combine_initial=0).compute()\n",
    "print(sorted(result))"
   ]
  },
  {
   "cell_type": "markdown",
   "metadata": {},
   "source": [
    "### Exercise: compute total amount per name"
   ]
  },
  {
   "cell_type": "markdown",
   "metadata": {},
   "source": [
    "We want to groupby (or foldby) the `name` key, then add up the all of the amounts for each name.\n",
    "\n",
    "Steps\n",
    "\n",
    "1.  Create a small function that, given a dictionary like \n",
    "\n",
    "        {'name': 'Alice', 'transactions': [{'amount': 1, 'id': 123}, {'amount': 2, 'id': 456}]}\n",
    "        \n",
    "    produces the sum of the amounts, e.g. `3`\n",
    "    \n",
    "2.  Slightly change the binary operator of the `foldby` example above so that the binary operator doesn't count the number of entries, but instead accumulates the sum of the amounts."
   ]
  },
  {
   "cell_type": "code",
   "execution_count": 25,
   "metadata": {},
   "outputs": [],
   "source": [
    "# Your code here..."
   ]
  },
  {
   "cell_type": "markdown",
   "metadata": {},
   "source": [
    "## DataFrames"
   ]
  },
  {
   "cell_type": "markdown",
   "metadata": {},
   "source": [
    "For the same reasons that Pandas is often faster than pure Python, `dask.dataframe` can be faster than `dask.bag`.  We will work more with DataFrames later, but from for the bag point of view, they are frequently the end-point of the \"messy\" part of data ingestion—once the data can be made into a data-frame, then complex split-apply-combine logic will become much more straight-forward and efficient.\n",
    "\n",
    "You can transform a bag with a simple tuple or flat dictionary structure into a `dask.dataframe` with the `to_dataframe` method."
   ]
  },
  {
   "cell_type": "code",
   "execution_count": 26,
   "metadata": {},
   "outputs": [
    {
     "data": {
      "text/html": [
       "<div>\n",
       "<style scoped>\n",
       "    .dataframe tbody tr th:only-of-type {\n",
       "        vertical-align: middle;\n",
       "    }\n",
       "\n",
       "    .dataframe tbody tr th {\n",
       "        vertical-align: top;\n",
       "    }\n",
       "\n",
       "    .dataframe thead th {\n",
       "        text-align: right;\n",
       "    }\n",
       "</style>\n",
       "<table border=\"1\" class=\"dataframe\">\n",
       "  <thead>\n",
       "    <tr style=\"text-align: right;\">\n",
       "      <th></th>\n",
       "      <th>id</th>\n",
       "      <th>name</th>\n",
       "      <th>transactions</th>\n",
       "    </tr>\n",
       "  </thead>\n",
       "  <tbody>\n",
       "    <tr>\n",
       "      <th>0</th>\n",
       "      <td>0</td>\n",
       "      <td>Yvonne</td>\n",
       "      <td>[{'transaction-id': 214, 'amount': 1180}, {'tr...</td>\n",
       "    </tr>\n",
       "    <tr>\n",
       "      <th>1</th>\n",
       "      <td>1</td>\n",
       "      <td>Victor</td>\n",
       "      <td>[{'transaction-id': 76, 'amount': 645}, {'tran...</td>\n",
       "    </tr>\n",
       "    <tr>\n",
       "      <th>2</th>\n",
       "      <td>2</td>\n",
       "      <td>Edith</td>\n",
       "      <td>[{'transaction-id': 5, 'amount': 163}, {'trans...</td>\n",
       "    </tr>\n",
       "    <tr>\n",
       "      <th>3</th>\n",
       "      <td>3</td>\n",
       "      <td>Yvonne</td>\n",
       "      <td>[{'transaction-id': 266, 'amount': 3515}, {'tr...</td>\n",
       "    </tr>\n",
       "    <tr>\n",
       "      <th>4</th>\n",
       "      <td>4</td>\n",
       "      <td>Tim</td>\n",
       "      <td>[{'transaction-id': 74, 'amount': 125}, {'tran...</td>\n",
       "    </tr>\n",
       "  </tbody>\n",
       "</table>\n",
       "</div>"
      ],
      "text/plain": [
       "   id    name                                       transactions\n",
       "0   0  Yvonne  [{'transaction-id': 214, 'amount': 1180}, {'tr...\n",
       "1   1  Victor  [{'transaction-id': 76, 'amount': 645}, {'tran...\n",
       "2   2   Edith  [{'transaction-id': 5, 'amount': 163}, {'trans...\n",
       "3   3  Yvonne  [{'transaction-id': 266, 'amount': 3515}, {'tr...\n",
       "4   4     Tim  [{'transaction-id': 74, 'amount': 125}, {'tran..."
      ]
     },
     "execution_count": 26,
     "metadata": {},
     "output_type": "execute_result"
    }
   ],
   "source": [
    "df1 = js.to_dataframe()\n",
    "df1.head()"
   ]
  },
  {
   "cell_type": "markdown",
   "metadata": {},
   "source": [
    "This now looks like a well-defined DataFrame, and we can apply Pandas-like computations to it efficiently."
   ]
  },
  {
   "cell_type": "markdown",
   "metadata": {},
   "source": [
    "Using a Dask DataFrame, how long does it take to do our prior computation of numbers of people with the same name?  It turns out that `dask.dataframe.groupby()` beats `dask.bag.groupby()` more than an order of magnitude; but it still cannot match `dask.bag.foldby()` for this case."
   ]
  },
  {
   "cell_type": "code",
   "execution_count": 27,
   "metadata": {},
   "outputs": [
    {
     "name": "stdout",
     "output_type": "stream",
     "text": [
      "CPU times: user 187 ms, sys: 9.47 ms, total: 196 ms\n",
      "Wall time: 1.66 s\n"
     ]
    },
    {
     "data": {
      "text/plain": [
       "name\n",
       "Alice      590\n",
       "Bob        400\n",
       "Charlie    548\n",
       "Dan        400\n",
       "Edith      752\n",
       "Name: id, dtype: int64"
      ]
     },
     "execution_count": 27,
     "metadata": {},
     "output_type": "execute_result"
    }
   ],
   "source": [
    "%time df1.groupby('name').id.count().compute().head()"
   ]
  },
  {
   "cell_type": "markdown",
   "metadata": {},
   "source": [
    "### Denormalization"
   ]
  },
  {
   "cell_type": "markdown",
   "metadata": {},
   "source": [
    "This DataFrame format is less-than-optimal because the `transactions` column is filled with nested data so Pandas has to revert to `object` dtype, which is quite slow in Pandas.  Ideally we want to transform to a dataframe only after we have flattened our data so that each record is a single `int`, `string`, `float`, etc.."
   ]
  },
  {
   "cell_type": "code",
   "execution_count": 28,
   "metadata": {},
   "outputs": [
    {
     "data": {
      "text/plain": [
       "({'id': 0, 'name': 'Yvonne', 'amount': 1180, 'transaction-id': 214},\n",
       " {'id': 0, 'name': 'Yvonne', 'amount': 1129, 'transaction-id': 486},\n",
       " {'id': 0, 'name': 'Yvonne', 'amount': 1178, 'transaction-id': 970})"
      ]
     },
     "execution_count": 28,
     "metadata": {},
     "output_type": "execute_result"
    }
   ],
   "source": [
    "def denormalize(record):\n",
    "    # returns a list for every nested item, each transaction of each person\n",
    "    return [{'id': record['id'], \n",
    "             'name': record['name'], \n",
    "             'amount': transaction['amount'], \n",
    "             'transaction-id': transaction['transaction-id']}\n",
    "            for transaction in record['transactions']]\n",
    "\n",
    "transactions = js.map(denormalize).flatten()\n",
    "transactions.take(3)"
   ]
  },
  {
   "cell_type": "code",
   "execution_count": 29,
   "metadata": {},
   "outputs": [
    {
     "data": {
      "text/html": [
       "<div>\n",
       "<style scoped>\n",
       "    .dataframe tbody tr th:only-of-type {\n",
       "        vertical-align: middle;\n",
       "    }\n",
       "\n",
       "    .dataframe tbody tr th {\n",
       "        vertical-align: top;\n",
       "    }\n",
       "\n",
       "    .dataframe thead th {\n",
       "        text-align: right;\n",
       "    }\n",
       "</style>\n",
       "<table border=\"1\" class=\"dataframe\">\n",
       "  <thead>\n",
       "    <tr style=\"text-align: right;\">\n",
       "      <th></th>\n",
       "      <th>id</th>\n",
       "      <th>name</th>\n",
       "      <th>amount</th>\n",
       "      <th>transaction-id</th>\n",
       "    </tr>\n",
       "  </thead>\n",
       "  <tbody>\n",
       "    <tr>\n",
       "      <th>0</th>\n",
       "      <td>0</td>\n",
       "      <td>Yvonne</td>\n",
       "      <td>1180</td>\n",
       "      <td>214</td>\n",
       "    </tr>\n",
       "    <tr>\n",
       "      <th>1</th>\n",
       "      <td>0</td>\n",
       "      <td>Yvonne</td>\n",
       "      <td>1129</td>\n",
       "      <td>486</td>\n",
       "    </tr>\n",
       "    <tr>\n",
       "      <th>2</th>\n",
       "      <td>0</td>\n",
       "      <td>Yvonne</td>\n",
       "      <td>1178</td>\n",
       "      <td>970</td>\n",
       "    </tr>\n",
       "    <tr>\n",
       "      <th>3</th>\n",
       "      <td>0</td>\n",
       "      <td>Yvonne</td>\n",
       "      <td>1154</td>\n",
       "      <td>1076</td>\n",
       "    </tr>\n",
       "    <tr>\n",
       "      <th>4</th>\n",
       "      <td>0</td>\n",
       "      <td>Yvonne</td>\n",
       "      <td>1143</td>\n",
       "      <td>1664</td>\n",
       "    </tr>\n",
       "  </tbody>\n",
       "</table>\n",
       "</div>"
      ],
      "text/plain": [
       "   id    name  amount  transaction-id\n",
       "0   0  Yvonne    1180             214\n",
       "1   0  Yvonne    1129             486\n",
       "2   0  Yvonne    1178             970\n",
       "3   0  Yvonne    1154            1076\n",
       "4   0  Yvonne    1143            1664"
      ]
     },
     "execution_count": 29,
     "metadata": {},
     "output_type": "execute_result"
    }
   ],
   "source": [
    "df = transactions.to_dataframe()\n",
    "df.head()"
   ]
  },
  {
   "cell_type": "code",
   "execution_count": 30,
   "metadata": {},
   "outputs": [
    {
     "name": "stdout",
     "output_type": "stream",
     "text": [
      "CPU times: user 169 ms, sys: 15.1 ms, total: 184 ms\n",
      "Wall time: 1.42 s\n"
     ]
    },
    {
     "data": {
      "text/plain": [
       "name\n",
       "Alice       12683\n",
       "Bob         15429\n",
       "Charlie     17945\n",
       "Dan         16735\n",
       "Edith       23076\n",
       "Frank        8924\n",
       "George      19957\n",
       "Hannah      15804\n",
       "Ingrid      15671\n",
       "Jerry       26170\n",
       "Kevin       37605\n",
       "Laura       13635\n",
       "Michael     11229\n",
       "Norbert     18613\n",
       "Oliver      14116\n",
       "Patricia    18107\n",
       "Quinn       19645\n",
       "Ray          7088\n",
       "Sarah       11913\n",
       "Tim         22050\n",
       "Ursula      24899\n",
       "Victor      13689\n",
       "Wendy       30369\n",
       "Xavier      13771\n",
       "Yvonne      48593\n",
       "Zelda       22284\n",
       "Name: transaction-id, dtype: int64"
      ]
     },
     "execution_count": 30,
     "metadata": {},
     "output_type": "execute_result"
    }
   ],
   "source": [
    "%%time\n",
    "# number of transactions per name\n",
    "# note that the time here includes the data load and ingestion\n",
    "df.groupby('name')['transaction-id'].count().compute()"
   ]
  },
  {
   "cell_type": "markdown",
   "metadata": {},
   "source": [
    "## Limitations"
   ]
  },
  {
   "cell_type": "markdown",
   "metadata": {},
   "source": [
    "Bags provide very general computation (any Python function.)  This generality\n",
    "comes at cost.  Bags have the following known limitations\n",
    "\n",
    "1.  Bag operations tend to be slower than array/dataframe computations in the\n",
    "    same way that Python tends to be slower than NumPy/Pandas\n",
    "2.  ``Bag.groupby`` is slow.  You should try to use ``Bag.foldby`` if possible.\n",
    "    Using ``Bag.foldby`` requires more thought. Even better, consider creating\n",
    "    a normalised dataframe."
   ]
  },
  {
   "cell_type": "markdown",
   "metadata": {},
   "source": [
    "## Learn More\n",
    "\n",
    "* [Bag documentation](https://docs.dask.org/en/latest/bag.html)\n",
    "* [Bag screencast](https://youtu.be/-qIiJ1XtSv0)\n",
    "* [Bag API](https://docs.dask.org/en/latest/bag-api.html)\n",
    "* [Bag examples](https://examples.dask.org/bag.html)"
   ]
  },
  {
   "cell_type": "markdown",
   "metadata": {},
   "source": [
    "## Shutdown"
   ]
  },
  {
   "cell_type": "code",
   "execution_count": 31,
   "metadata": {},
   "outputs": [],
   "source": [
    "client.shutdown()"
   ]
  }
 ],
 "metadata": {
  "anaconda-cloud": {},
  "kernelspec": {
   "display_name": "Python 3",
   "language": "python",
   "name": "python3"
  },
  "language_info": {
   "codemirror_mode": {
    "name": "ipython",
    "version": 3
   },
   "file_extension": ".py",
   "mimetype": "text/x-python",
   "name": "python",
   "nbconvert_exporter": "python",
   "pygments_lexer": "ipython3",
   "version": "3.8.3"
  }
 },
 "nbformat": 4,
 "nbformat_minor": 4
}
