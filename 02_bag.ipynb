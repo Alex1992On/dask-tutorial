{
 "cells": [
  {
   "cell_type": "markdown",
   "metadata": {},
   "source": [
    "<img src=\"images/dask_horizontal.svg\" align=\"right\" width=\"30%\">"
   ]
  },
  {
   "cell_type": "markdown",
   "metadata": {},
   "source": [
    "# Bag: Parallel Lists for semi-structured data"
   ]
  },
  {
   "cell_type": "markdown",
   "metadata": {},
   "source": [
    "Dask-bag excels in processing data that can be represented as a sequence of arbitrary inputs. We'll refer to this as \"messy\" data, because it can contain complex nested structures, missing fields, mixtures of data types, etc. The *functional* programming style fits very nicely with standard Python iteration, such as can be found in the `itertools` module.\n",
    "\n",
    "Messy data is often encountered at the beginning of data processing pipelines when large volumes of raw data are first consumed. The initial set of data might be JSON, CSV, XML, or any other format that does not enforce strict structure and datatypes.\n",
    "For this reason, the initial data massaging and processing is often done with Python `list`s, `dict`s, and `set`s.\n",
    "\n",
    "These core data structures are optimized for general-purpose storage and processing.  Adding streaming computation with iterators/generator expressions or libraries like `itertools` or [`toolz`](https://toolz.readthedocs.io/en/latest/) let us process large volumes in a small space.  If we combine this with parallel processing then we can churn through a fair amount of data.\n",
    "\n",
    "Dask.bag is a high level Dask collection to automate common workloads of this form.  In a nutshell\n",
    "\n",
    "    dask.bag = map, filter, toolz + parallel execution\n",
    "    \n",
    "**Related Documentation**\n",
    "\n",
    "* [Bag documentation](https://docs.dask.org/en/latest/bag.html)\n",
    "* [Bag screencast](https://youtu.be/-qIiJ1XtSv0)\n",
    "* [Bag API](https://docs.dask.org/en/latest/bag-api.html)\n",
    "* [Bag examples](https://examples.dask.org/bag.html)"
   ]
  },
  {
   "cell_type": "markdown",
   "metadata": {},
   "source": [
    "## Create data"
   ]
  },
  {
   "cell_type": "code",
   "execution_count": 1,
   "metadata": {
    "execution": {
     "iopub.execute_input": "2020-11-06T19:38:32.879018Z",
     "iopub.status.busy": "2020-11-06T19:38:32.878412Z",
     "iopub.status.idle": "2020-11-06T19:38:33.372799Z",
     "shell.execute_reply": "2020-11-06T19:38:33.372272Z"
    }
   },
   "outputs": [],
   "source": [
    "%run prep.py -d accounts"
   ]
  },
  {
   "cell_type": "markdown",
   "metadata": {},
   "source": [
    "## Setup"
   ]
  },
  {
   "cell_type": "markdown",
   "metadata": {},
   "source": [
    "Again, we'll use the distributed scheduler. Schedulers will be explained in depth [later](05_distributed.ipynb)."
   ]
  },
  {
   "cell_type": "code",
   "execution_count": 2,
   "metadata": {
    "execution": {
     "iopub.execute_input": "2020-11-06T19:38:33.377856Z",
     "iopub.status.busy": "2020-11-06T19:38:33.376518Z",
     "iopub.status.idle": "2020-11-06T19:38:35.225978Z",
     "shell.execute_reply": "2020-11-06T19:38:35.225533Z"
    }
   },
   "outputs": [],
   "source": [
    "from dask.distributed import Client\n",
    "\n",
    "client = Client(n_workers=4)"
   ]
  },
  {
   "cell_type": "markdown",
   "metadata": {},
   "source": [
    "## Creation"
   ]
  },
  {
   "cell_type": "markdown",
   "metadata": {},
   "source": [
    "You can create a `Bag` from a Python sequence, from files, from data on S3, etc.\n",
    "We demonstrate using `.take()` to show elements of the data. (Doing `.take(1)` results in a tuple with one element)\n",
    "\n",
    "Note that the data are partitioned into blocks, and there are many items per block. In the first example, the two partitions contain five elements each, and in the following two, each file is partitioned into one or more bytes blocks."
   ]
  },
  {
   "cell_type": "code",
   "execution_count": 3,
   "metadata": {
    "execution": {
     "iopub.execute_input": "2020-11-06T19:38:35.232160Z",
     "iopub.status.busy": "2020-11-06T19:38:35.230426Z",
     "iopub.status.idle": "2020-11-06T19:38:35.273045Z",
     "shell.execute_reply": "2020-11-06T19:38:35.272668Z"
    }
   },
   "outputs": [
    {
     "data": {
      "text/plain": [
       "(1, 2, 3)"
      ]
     },
     "execution_count": 1,
     "metadata": {},
     "output_type": "execute_result"
    }
   ],
   "source": [
    "# each element is an integer\n",
    "import dask.bag as db\n",
    "b = db.from_sequence([1, 2, 3, 4, 5, 6, 7, 8, 9, 10], npartitions=2)\n",
    "b.take(3)"
   ]
  },
  {
   "cell_type": "code",
   "execution_count": 4,
   "metadata": {
    "execution": {
     "iopub.execute_input": "2020-11-06T19:38:35.277845Z",
     "iopub.status.busy": "2020-11-06T19:38:35.276705Z",
     "iopub.status.idle": "2020-11-06T19:38:35.303954Z",
     "shell.execute_reply": "2020-11-06T19:38:35.303248Z"
    }
   },
   "outputs": [
    {
     "data": {
      "text/plain": [
       "('{\"id\": 0, \"name\": \"Tim\", \"transactions\": [{\"transaction-id\": 478, \"amount\": 612}, {\"transaction-id\": 1265, \"amount\": 710}, {\"transaction-id\": 2184, \"amount\": 672}, {\"transaction-id\": 3323, \"amount\": 638}, {\"transaction-id\": 3643, \"amount\": 609}, {\"transaction-id\": 3953, \"amount\": 631}, {\"transaction-id\": 5631, \"amount\": 659}, {\"transaction-id\": 5954, \"amount\": 634}, {\"transaction-id\": 8453, \"amount\": 741}, {\"transaction-id\": 9262, \"amount\": 770}]}\\n',)"
      ]
     },
     "execution_count": 1,
     "metadata": {},
     "output_type": "execute_result"
    }
   ],
   "source": [
    "# each element is a text file, where each line is a JSON object\n",
    "# note that the compression is handled automatically\n",
    "import os\n",
    "b = db.read_text(os.path.join('data', 'accounts.*.json.gz'))\n",
    "b.take(1)"
   ]
  },
  {
   "cell_type": "code",
   "execution_count": 5,
   "metadata": {
    "execution": {
     "iopub.execute_input": "2020-11-06T19:38:35.308440Z",
     "iopub.status.busy": "2020-11-06T19:38:35.307449Z",
     "iopub.status.idle": "2020-11-06T19:38:35.310574Z",
     "shell.execute_reply": "2020-11-06T19:38:35.311007Z"
    }
   },
   "outputs": [
    {
     "data": {
      "text/plain": [
       "'s3://dask-data/nyc-taxi/2015/yellow_tripdata_2015-01.csv'"
      ]
     },
     "execution_count": 1,
     "metadata": {},
     "output_type": "execute_result"
    }
   ],
   "source": [
    "# Edit sources.py to configure source locations\n",
    "import sources\n",
    "sources.bag_url"
   ]
  },
  {
   "cell_type": "code",
   "execution_count": 6,
   "metadata": {
    "execution": {
     "iopub.execute_input": "2020-11-06T19:38:35.315229Z",
     "iopub.status.busy": "2020-11-06T19:38:35.314455Z",
     "iopub.status.idle": "2020-11-06T19:38:36.123011Z",
     "shell.execute_reply": "2020-11-06T19:38:36.122555Z"
    }
   },
   "outputs": [
    {
     "data": {
      "text/plain": [
       "('VendorID,tpep_pickup_datetime,tpep_dropoff_datetime,passenger_count,trip_distance,pickup_longitude,pickup_latitude,RateCodeID,store_and_fwd_flag,dropoff_longitude,dropoff_latitude,payment_type,fare_amount,extra,mta_tax,tip_amount,tolls_amount,improvement_surcharge,total_amount\\n',)"
      ]
     },
     "execution_count": 1,
     "metadata": {},
     "output_type": "execute_result"
    }
   ],
   "source": [
    "# Requires `s3fs` library\n",
    "# each partition is a remote CSV text file\n",
    "b = db.read_text(sources.bag_url,\n",
    "                 storage_options={'anon': True})\n",
    "b.take(1)"
   ]
  },
  {
   "cell_type": "markdown",
   "metadata": {},
   "source": [
    "## Manipulation"
   ]
  },
  {
   "cell_type": "markdown",
   "metadata": {},
   "source": [
    "`Bag` objects hold the standard functional API found in projects like the Python standard library, `toolz`, or `pyspark`, including `map`, `filter`, `groupby`, etc..\n",
    "\n",
    "Operations on `Bag` objects create new bags.  Call the `.compute()` method to trigger execution, as we saw for `Delayed` objects.  "
   ]
  },
  {
   "cell_type": "code",
   "execution_count": 7,
   "metadata": {
    "execution": {
     "iopub.execute_input": "2020-11-06T19:38:36.128120Z",
     "iopub.status.busy": "2020-11-06T19:38:36.127723Z",
     "iopub.status.idle": "2020-11-06T19:38:36.131789Z",
     "shell.execute_reply": "2020-11-06T19:38:36.131331Z"
    }
   },
   "outputs": [
    {
     "data": {
      "text/plain": [
       "dask.bag<lambda, npartitions=10>"
      ]
     },
     "execution_count": 1,
     "metadata": {},
     "output_type": "execute_result"
    }
   ],
   "source": [
    "def is_even(n):\n",
    "    return n % 2 == 0\n",
    "\n",
    "b = db.from_sequence([1, 2, 3, 4, 5, 6, 7, 8, 9, 10])\n",
    "c = b.filter(is_even).map(lambda x: x ** 2)\n",
    "c"
   ]
  },
  {
   "cell_type": "code",
   "execution_count": 8,
   "metadata": {
    "execution": {
     "iopub.execute_input": "2020-11-06T19:38:36.140201Z",
     "iopub.status.busy": "2020-11-06T19:38:36.139593Z",
     "iopub.status.idle": "2020-11-06T19:38:36.218101Z",
     "shell.execute_reply": "2020-11-06T19:38:36.217386Z"
    }
   },
   "outputs": [
    {
     "data": {
      "text/plain": [
       "[4, 16, 36, 64, 100]"
      ]
     },
     "execution_count": 1,
     "metadata": {},
     "output_type": "execute_result"
    }
   ],
   "source": [
    "# blocking form: wait for completion (which is very fast in this case)\n",
    "c.compute()"
   ]
  },
  {
   "cell_type": "markdown",
   "metadata": {},
   "source": [
    "### Example: Accounts JSON data"
   ]
  },
  {
   "cell_type": "markdown",
   "metadata": {},
   "source": [
    "We've created a fake dataset of gzipped JSON data in your data directory.  This is like the example used in the `DataFrame` example we will see later, except that it has bundled up all of the entires for each individual `id` into a single record.  This is similar to data that you might collect off of a document store database or a web API.\n",
    "\n",
    "Each line is a JSON encoded dictionary with the following keys\n",
    "\n",
    "*  id: Unique identifier of the customer\n",
    "*  name: Name of the customer\n",
    "*  transactions: List of `transaction-id`, `amount` pairs, one for each transaction for the customer in that file"
   ]
  },
  {
   "cell_type": "code",
   "execution_count": 9,
   "metadata": {
    "execution": {
     "iopub.execute_input": "2020-11-06T19:38:36.221902Z",
     "iopub.status.busy": "2020-11-06T19:38:36.221254Z",
     "iopub.status.idle": "2020-11-06T19:38:36.249455Z",
     "shell.execute_reply": "2020-11-06T19:38:36.248839Z"
    }
   },
   "outputs": [
    {
     "data": {
      "text/plain": [
       "('{\"id\": 0, \"name\": \"Tim\", \"transactions\": [{\"transaction-id\": 478, \"amount\": 612}, {\"transaction-id\": 1265, \"amount\": 710}, {\"transaction-id\": 2184, \"amount\": 672}, {\"transaction-id\": 3323, \"amount\": 638}, {\"transaction-id\": 3643, \"amount\": 609}, {\"transaction-id\": 3953, \"amount\": 631}, {\"transaction-id\": 5631, \"amount\": 659}, {\"transaction-id\": 5954, \"amount\": 634}, {\"transaction-id\": 8453, \"amount\": 741}, {\"transaction-id\": 9262, \"amount\": 770}]}\\n',\n",
       " '{\"id\": 1, \"name\": \"Michael\", \"transactions\": [{\"transaction-id\": 526, \"amount\": 199}, {\"transaction-id\": 962, \"amount\": 198}, {\"transaction-id\": 1550, \"amount\": 188}, {\"transaction-id\": 1592, \"amount\": 208}, {\"transaction-id\": 2154, \"amount\": 204}, {\"transaction-id\": 2179, \"amount\": 198}, {\"transaction-id\": 2500, \"amount\": 175}, {\"transaction-id\": 2961, \"amount\": 175}, {\"transaction-id\": 3312, \"amount\": 199}, {\"transaction-id\": 3745, \"amount\": 177}, {\"transaction-id\": 4782, \"amount\": 211}, {\"transaction-id\": 5046, \"amount\": 261}, {\"transaction-id\": 5379, \"amount\": 218}, {\"transaction-id\": 5946, \"amount\": 188}, {\"transaction-id\": 6305, \"amount\": 205}, {\"transaction-id\": 6542, \"amount\": 152}, {\"transaction-id\": 6897, \"amount\": 175}, {\"transaction-id\": 7138, \"amount\": 198}, {\"transaction-id\": 7236, \"amount\": 132}, {\"transaction-id\": 7989, \"amount\": 211}, {\"transaction-id\": 9010, \"amount\": 171}]}\\n',\n",
       " '{\"id\": 2, \"name\": \"Frank\", \"transactions\": [{\"transaction-id\": 65, \"amount\": 1941}, {\"transaction-id\": 110, \"amount\": 1744}, {\"transaction-id\": 285, \"amount\": 2034}, {\"transaction-id\": 333, \"amount\": 1782}, {\"transaction-id\": 367, \"amount\": 1942}, {\"transaction-id\": 622, \"amount\": 1959}, {\"transaction-id\": 844, \"amount\": 1860}, {\"transaction-id\": 904, \"amount\": 1999}, {\"transaction-id\": 1047, \"amount\": 1926}, {\"transaction-id\": 1117, \"amount\": 1847}, {\"transaction-id\": 1155, \"amount\": 1969}, {\"transaction-id\": 1199, \"amount\": 2066}, {\"transaction-id\": 1304, \"amount\": 1853}, {\"transaction-id\": 1311, \"amount\": 1830}, {\"transaction-id\": 1337, \"amount\": 1942}, {\"transaction-id\": 1433, \"amount\": 1909}, {\"transaction-id\": 1449, \"amount\": 1991}, {\"transaction-id\": 1563, \"amount\": 1907}, {\"transaction-id\": 1604, \"amount\": 1745}, {\"transaction-id\": 1707, \"amount\": 1820}, {\"transaction-id\": 1708, \"amount\": 1917}, {\"transaction-id\": 1829, \"amount\": 1775}, {\"transaction-id\": 1899, \"amount\": 1782}, {\"transaction-id\": 2005, \"amount\": 1827}, {\"transaction-id\": 2012, \"amount\": 1888}, {\"transaction-id\": 2104, \"amount\": 1936}, {\"transaction-id\": 2231, \"amount\": 1848}, {\"transaction-id\": 2685, \"amount\": 1959}, {\"transaction-id\": 2736, \"amount\": 1885}, {\"transaction-id\": 3172, \"amount\": 1742}, {\"transaction-id\": 3191, \"amount\": 1882}, {\"transaction-id\": 3534, \"amount\": 1766}, {\"transaction-id\": 3642, \"amount\": 1841}, {\"transaction-id\": 3764, \"amount\": 1852}, {\"transaction-id\": 3885, \"amount\": 2014}, {\"transaction-id\": 4005, \"amount\": 1902}, {\"transaction-id\": 4133, \"amount\": 2113}, {\"transaction-id\": 4356, \"amount\": 1911}, {\"transaction-id\": 4594, \"amount\": 1942}, {\"transaction-id\": 4623, \"amount\": 1926}, {\"transaction-id\": 4652, \"amount\": 2039}, {\"transaction-id\": 4696, \"amount\": 1970}, {\"transaction-id\": 4738, \"amount\": 1909}, {\"transaction-id\": 4768, \"amount\": 1823}, {\"transaction-id\": 4841, \"amount\": 1753}, {\"transaction-id\": 4934, \"amount\": 1970}, {\"transaction-id\": 4944, \"amount\": 1846}, {\"transaction-id\": 5042, \"amount\": 1876}, {\"transaction-id\": 5073, \"amount\": 1928}, {\"transaction-id\": 5112, \"amount\": 1891}, {\"transaction-id\": 5124, \"amount\": 1904}, {\"transaction-id\": 5138, \"amount\": 1909}, {\"transaction-id\": 5175, \"amount\": 1768}, {\"transaction-id\": 5197, \"amount\": 1918}, {\"transaction-id\": 5375, \"amount\": 1969}, {\"transaction-id\": 5516, \"amount\": 2098}, {\"transaction-id\": 5763, \"amount\": 2021}, {\"transaction-id\": 5945, \"amount\": 1930}, {\"transaction-id\": 6056, \"amount\": 1828}, {\"transaction-id\": 6084, \"amount\": 2045}, {\"transaction-id\": 6096, \"amount\": 1858}, {\"transaction-id\": 6185, \"amount\": 1879}, {\"transaction-id\": 6281, \"amount\": 1748}, {\"transaction-id\": 6402, \"amount\": 1879}, {\"transaction-id\": 6479, \"amount\": 1808}, {\"transaction-id\": 6677, \"amount\": 2049}, {\"transaction-id\": 6787, \"amount\": 1780}, {\"transaction-id\": 7274, \"amount\": 2042}, {\"transaction-id\": 7420, \"amount\": 1849}, {\"transaction-id\": 7756, \"amount\": 1860}, {\"transaction-id\": 7788, \"amount\": 1679}, {\"transaction-id\": 7845, \"amount\": 1975}, {\"transaction-id\": 7944, \"amount\": 1876}, {\"transaction-id\": 8085, \"amount\": 1633}, {\"transaction-id\": 8206, \"amount\": 1846}, {\"transaction-id\": 8221, \"amount\": 1794}, {\"transaction-id\": 8320, \"amount\": 1692}, {\"transaction-id\": 8356, \"amount\": 1872}, {\"transaction-id\": 8395, \"amount\": 1930}, {\"transaction-id\": 8401, \"amount\": 1812}, {\"transaction-id\": 8658, \"amount\": 1712}, {\"transaction-id\": 8853, \"amount\": 1861}, {\"transaction-id\": 8898, \"amount\": 1904}, {\"transaction-id\": 8980, \"amount\": 1963}, {\"transaction-id\": 8997, \"amount\": 1806}, {\"transaction-id\": 9004, \"amount\": 2016}, {\"transaction-id\": 9026, \"amount\": 1798}, {\"transaction-id\": 9097, \"amount\": 2124}, {\"transaction-id\": 9230, \"amount\": 1628}, {\"transaction-id\": 9314, \"amount\": 1950}, {\"transaction-id\": 9412, \"amount\": 1897}, {\"transaction-id\": 9452, \"amount\": 1900}, {\"transaction-id\": 9627, \"amount\": 1775}, {\"transaction-id\": 9872, \"amount\": 1826}, {\"transaction-id\": 9964, \"amount\": 1653}]}\\n')"
      ]
     },
     "execution_count": 1,
     "metadata": {},
     "output_type": "execute_result"
    }
   ],
   "source": [
    "filename = os.path.join('data', 'accounts.*.json.gz')\n",
    "lines = db.read_text(filename)\n",
    "lines.take(3)"
   ]
  },
  {
   "cell_type": "markdown",
   "metadata": {},
   "source": [
    "Our data comes out of the file as lines of text. Notice that file decompression happened automatically. We can make this data look more reasonable by mapping the `json.loads` function onto our bag."
   ]
  },
  {
   "cell_type": "code",
   "execution_count": 10,
   "metadata": {
    "execution": {
     "iopub.execute_input": "2020-11-06T19:38:36.254372Z",
     "iopub.status.busy": "2020-11-06T19:38:36.253733Z",
     "iopub.status.idle": "2020-11-06T19:38:36.279426Z",
     "shell.execute_reply": "2020-11-06T19:38:36.278973Z"
    }
   },
   "outputs": [
    {
     "data": {
      "text/plain": [
       "({'id': 0,\n",
       "  'name': 'Tim',\n",
       "  'transactions': [{'transaction-id': 478, 'amount': 612},\n",
       "   {'transaction-id': 1265, 'amount': 710},\n",
       "   {'transaction-id': 2184, 'amount': 672},\n",
       "   {'transaction-id': 3323, 'amount': 638},\n",
       "   {'transaction-id': 3643, 'amount': 609},\n",
       "   {'transaction-id': 3953, 'amount': 631},\n",
       "   {'transaction-id': 5631, 'amount': 659},\n",
       "   {'transaction-id': 5954, 'amount': 634},\n",
       "   {'transaction-id': 8453, 'amount': 741},\n",
       "   {'transaction-id': 9262, 'amount': 770}]},\n",
       " {'id': 1,\n",
       "  'name': 'Michael',\n",
       "  'transactions': [{'transaction-id': 526, 'amount': 199},\n",
       "   {'transaction-id': 962, 'amount': 198},\n",
       "   {'transaction-id': 1550, 'amount': 188},\n",
       "   {'transaction-id': 1592, 'amount': 208},\n",
       "   {'transaction-id': 2154, 'amount': 204},\n",
       "   {'transaction-id': 2179, 'amount': 198},\n",
       "   {'transaction-id': 2500, 'amount': 175},\n",
       "   {'transaction-id': 2961, 'amount': 175},\n",
       "   {'transaction-id': 3312, 'amount': 199},\n",
       "   {'transaction-id': 3745, 'amount': 177},\n",
       "   {'transaction-id': 4782, 'amount': 211},\n",
       "   {'transaction-id': 5046, 'amount': 261},\n",
       "   {'transaction-id': 5379, 'amount': 218},\n",
       "   {'transaction-id': 5946, 'amount': 188},\n",
       "   {'transaction-id': 6305, 'amount': 205},\n",
       "   {'transaction-id': 6542, 'amount': 152},\n",
       "   {'transaction-id': 6897, 'amount': 175},\n",
       "   {'transaction-id': 7138, 'amount': 198},\n",
       "   {'transaction-id': 7236, 'amount': 132},\n",
       "   {'transaction-id': 7989, 'amount': 211},\n",
       "   {'transaction-id': 9010, 'amount': 171}]},\n",
       " {'id': 2,\n",
       "  'name': 'Frank',\n",
       "  'transactions': [{'transaction-id': 65, 'amount': 1941},\n",
       "   {'transaction-id': 110, 'amount': 1744},\n",
       "   {'transaction-id': 285, 'amount': 2034},\n",
       "   {'transaction-id': 333, 'amount': 1782},\n",
       "   {'transaction-id': 367, 'amount': 1942},\n",
       "   {'transaction-id': 622, 'amount': 1959},\n",
       "   {'transaction-id': 844, 'amount': 1860},\n",
       "   {'transaction-id': 904, 'amount': 1999},\n",
       "   {'transaction-id': 1047, 'amount': 1926},\n",
       "   {'transaction-id': 1117, 'amount': 1847},\n",
       "   {'transaction-id': 1155, 'amount': 1969},\n",
       "   {'transaction-id': 1199, 'amount': 2066},\n",
       "   {'transaction-id': 1304, 'amount': 1853},\n",
       "   {'transaction-id': 1311, 'amount': 1830},\n",
       "   {'transaction-id': 1337, 'amount': 1942},\n",
       "   {'transaction-id': 1433, 'amount': 1909},\n",
       "   {'transaction-id': 1449, 'amount': 1991},\n",
       "   {'transaction-id': 1563, 'amount': 1907},\n",
       "   {'transaction-id': 1604, 'amount': 1745},\n",
       "   {'transaction-id': 1707, 'amount': 1820},\n",
       "   {'transaction-id': 1708, 'amount': 1917},\n",
       "   {'transaction-id': 1829, 'amount': 1775},\n",
       "   {'transaction-id': 1899, 'amount': 1782},\n",
       "   {'transaction-id': 2005, 'amount': 1827},\n",
       "   {'transaction-id': 2012, 'amount': 1888},\n",
       "   {'transaction-id': 2104, 'amount': 1936},\n",
       "   {'transaction-id': 2231, 'amount': 1848},\n",
       "   {'transaction-id': 2685, 'amount': 1959},\n",
       "   {'transaction-id': 2736, 'amount': 1885},\n",
       "   {'transaction-id': 3172, 'amount': 1742},\n",
       "   {'transaction-id': 3191, 'amount': 1882},\n",
       "   {'transaction-id': 3534, 'amount': 1766},\n",
       "   {'transaction-id': 3642, 'amount': 1841},\n",
       "   {'transaction-id': 3764, 'amount': 1852},\n",
       "   {'transaction-id': 3885, 'amount': 2014},\n",
       "   {'transaction-id': 4005, 'amount': 1902},\n",
       "   {'transaction-id': 4133, 'amount': 2113},\n",
       "   {'transaction-id': 4356, 'amount': 1911},\n",
       "   {'transaction-id': 4594, 'amount': 1942},\n",
       "   {'transaction-id': 4623, 'amount': 1926},\n",
       "   {'transaction-id': 4652, 'amount': 2039},\n",
       "   {'transaction-id': 4696, 'amount': 1970},\n",
       "   {'transaction-id': 4738, 'amount': 1909},\n",
       "   {'transaction-id': 4768, 'amount': 1823},\n",
       "   {'transaction-id': 4841, 'amount': 1753},\n",
       "   {'transaction-id': 4934, 'amount': 1970},\n",
       "   {'transaction-id': 4944, 'amount': 1846},\n",
       "   {'transaction-id': 5042, 'amount': 1876},\n",
       "   {'transaction-id': 5073, 'amount': 1928},\n",
       "   {'transaction-id': 5112, 'amount': 1891},\n",
       "   {'transaction-id': 5124, 'amount': 1904},\n",
       "   {'transaction-id': 5138, 'amount': 1909},\n",
       "   {'transaction-id': 5175, 'amount': 1768},\n",
       "   {'transaction-id': 5197, 'amount': 1918},\n",
       "   {'transaction-id': 5375, 'amount': 1969},\n",
       "   {'transaction-id': 5516, 'amount': 2098},\n",
       "   {'transaction-id': 5763, 'amount': 2021},\n",
       "   {'transaction-id': 5945, 'amount': 1930},\n",
       "   {'transaction-id': 6056, 'amount': 1828},\n",
       "   {'transaction-id': 6084, 'amount': 2045},\n",
       "   {'transaction-id': 6096, 'amount': 1858},\n",
       "   {'transaction-id': 6185, 'amount': 1879},\n",
       "   {'transaction-id': 6281, 'amount': 1748},\n",
       "   {'transaction-id': 6402, 'amount': 1879},\n",
       "   {'transaction-id': 6479, 'amount': 1808},\n",
       "   {'transaction-id': 6677, 'amount': 2049},\n",
       "   {'transaction-id': 6787, 'amount': 1780},\n",
       "   {'transaction-id': 7274, 'amount': 2042},\n",
       "   {'transaction-id': 7420, 'amount': 1849},\n",
       "   {'transaction-id': 7756, 'amount': 1860},\n",
       "   {'transaction-id': 7788, 'amount': 1679},\n",
       "   {'transaction-id': 7845, 'amount': 1975},\n",
       "   {'transaction-id': 7944, 'amount': 1876},\n",
       "   {'transaction-id': 8085, 'amount': 1633},\n",
       "   {'transaction-id': 8206, 'amount': 1846},\n",
       "   {'transaction-id': 8221, 'amount': 1794},\n",
       "   {'transaction-id': 8320, 'amount': 1692},\n",
       "   {'transaction-id': 8356, 'amount': 1872},\n",
       "   {'transaction-id': 8395, 'amount': 1930},\n",
       "   {'transaction-id': 8401, 'amount': 1812},\n",
       "   {'transaction-id': 8658, 'amount': 1712},\n",
       "   {'transaction-id': 8853, 'amount': 1861},\n",
       "   {'transaction-id': 8898, 'amount': 1904},\n",
       "   {'transaction-id': 8980, 'amount': 1963},\n",
       "   {'transaction-id': 8997, 'amount': 1806},\n",
       "   {'transaction-id': 9004, 'amount': 2016},\n",
       "   {'transaction-id': 9026, 'amount': 1798},\n",
       "   {'transaction-id': 9097, 'amount': 2124},\n",
       "   {'transaction-id': 9230, 'amount': 1628},\n",
       "   {'transaction-id': 9314, 'amount': 1950},\n",
       "   {'transaction-id': 9412, 'amount': 1897},\n",
       "   {'transaction-id': 9452, 'amount': 1900},\n",
       "   {'transaction-id': 9627, 'amount': 1775},\n",
       "   {'transaction-id': 9872, 'amount': 1826},\n",
       "   {'transaction-id': 9964, 'amount': 1653}]})"
      ]
     },
     "execution_count": 1,
     "metadata": {},
     "output_type": "execute_result"
    }
   ],
   "source": [
    "import json\n",
    "js = lines.map(json.loads)\n",
    "# take: inspect first few elements\n",
    "js.take(3)"
   ]
  },
  {
   "cell_type": "markdown",
   "metadata": {},
   "source": [
    "### Basic Queries"
   ]
  },
  {
   "cell_type": "markdown",
   "metadata": {},
   "source": [
    "Once we parse our JSON data into proper Python objects (`dict`s, `list`s, etc.) we can perform more interesting queries by creating small Python functions to run on our data."
   ]
  },
  {
   "cell_type": "code",
   "execution_count": 11,
   "metadata": {
    "execution": {
     "iopub.execute_input": "2020-11-06T19:38:36.284259Z",
     "iopub.status.busy": "2020-11-06T19:38:36.283700Z",
     "iopub.status.idle": "2020-11-06T19:38:36.316402Z",
     "shell.execute_reply": "2020-11-06T19:38:36.316871Z"
    }
   },
   "outputs": [
    {
     "data": {
      "text/plain": [
       "({'id': 20,\n",
       "  'name': 'Alice',\n",
       "  'transactions': [{'transaction-id': 87, 'amount': 70},\n",
       "   {'transaction-id': 231, 'amount': 65},\n",
       "   {'transaction-id': 455, 'amount': 67},\n",
       "   {'transaction-id': 686, 'amount': 62},\n",
       "   {'transaction-id': 848, 'amount': 63},\n",
       "   {'transaction-id': 886, 'amount': 63},\n",
       "   {'transaction-id': 1111, 'amount': 71},\n",
       "   {'transaction-id': 1662, 'amount': 72},\n",
       "   {'transaction-id': 1697, 'amount': 65},\n",
       "   {'transaction-id': 1761, 'amount': 63},\n",
       "   {'transaction-id': 2107, 'amount': 67},\n",
       "   {'transaction-id': 2186, 'amount': 72},\n",
       "   {'transaction-id': 2200, 'amount': 71},\n",
       "   {'transaction-id': 2481, 'amount': 63},\n",
       "   {'transaction-id': 2490, 'amount': 54},\n",
       "   {'transaction-id': 2596, 'amount': 79},\n",
       "   {'transaction-id': 2667, 'amount': 53},\n",
       "   {'transaction-id': 3207, 'amount': 59},\n",
       "   {'transaction-id': 3325, 'amount': 63},\n",
       "   {'transaction-id': 4036, 'amount': 54},\n",
       "   {'transaction-id': 4207, 'amount': 65},\n",
       "   {'transaction-id': 4245, 'amount': 70},\n",
       "   {'transaction-id': 4266, 'amount': 66},\n",
       "   {'transaction-id': 4324, 'amount': 60},\n",
       "   {'transaction-id': 4875, 'amount': 76},\n",
       "   {'transaction-id': 5150, 'amount': 70},\n",
       "   {'transaction-id': 5810, 'amount': 80},\n",
       "   {'transaction-id': 6499, 'amount': 58},\n",
       "   {'transaction-id': 6616, 'amount': 71},\n",
       "   {'transaction-id': 7029, 'amount': 73},\n",
       "   {'transaction-id': 7341, 'amount': 71},\n",
       "   {'transaction-id': 7572, 'amount': 56},\n",
       "   {'transaction-id': 7682, 'amount': 61},\n",
       "   {'transaction-id': 8150, 'amount': 70},\n",
       "   {'transaction-id': 8297, 'amount': 71},\n",
       "   {'transaction-id': 8938, 'amount': 62},\n",
       "   {'transaction-id': 8979, 'amount': 71},\n",
       "   {'transaction-id': 9008, 'amount': 59},\n",
       "   {'transaction-id': 9294, 'amount': 68},\n",
       "   {'transaction-id': 9680, 'amount': 51},\n",
       "   {'transaction-id': 9681, 'amount': 52},\n",
       "   {'transaction-id': 9761, 'amount': 82}]},\n",
       " {'id': 60,\n",
       "  'name': 'Alice',\n",
       "  'transactions': [{'transaction-id': 144, 'amount': 390},\n",
       "   {'transaction-id': 168, 'amount': 372},\n",
       "   {'transaction-id': 2650, 'amount': 376},\n",
       "   {'transaction-id': 2733, 'amount': 366},\n",
       "   {'transaction-id': 4562, 'amount': 387},\n",
       "   {'transaction-id': 5483, 'amount': 378},\n",
       "   {'transaction-id': 5681, 'amount': 381},\n",
       "   {'transaction-id': 7060, 'amount': 348},\n",
       "   {'transaction-id': 8627, 'amount': 366}]},\n",
       " {'id': 62,\n",
       "  'name': 'Alice',\n",
       "  'transactions': [{'transaction-id': 46, 'amount': 1857},\n",
       "   {'transaction-id': 56, 'amount': 1992},\n",
       "   {'transaction-id': 62, 'amount': 1720},\n",
       "   {'transaction-id': 138, 'amount': 1872},\n",
       "   {'transaction-id': 147, 'amount': 2016},\n",
       "   {'transaction-id': 150, 'amount': 1937},\n",
       "   {'transaction-id': 192, 'amount': 1817},\n",
       "   {'transaction-id': 373, 'amount': 2002},\n",
       "   {'transaction-id': 400, 'amount': 1812},\n",
       "   {'transaction-id': 459, 'amount': 1967},\n",
       "   {'transaction-id': 466, 'amount': 1937},\n",
       "   {'transaction-id': 501, 'amount': 1928},\n",
       "   {'transaction-id': 506, 'amount': 2048},\n",
       "   {'transaction-id': 605, 'amount': 2038},\n",
       "   {'transaction-id': 643, 'amount': 1904},\n",
       "   {'transaction-id': 708, 'amount': 1826},\n",
       "   {'transaction-id': 749, 'amount': 1958},\n",
       "   {'transaction-id': 807, 'amount': 1848},\n",
       "   {'transaction-id': 820, 'amount': 1718},\n",
       "   {'transaction-id': 899, 'amount': 1801},\n",
       "   {'transaction-id': 1252, 'amount': 1918},\n",
       "   {'transaction-id': 1363, 'amount': 1899},\n",
       "   {'transaction-id': 1443, 'amount': 1909},\n",
       "   {'transaction-id': 1487, 'amount': 1793},\n",
       "   {'transaction-id': 1641, 'amount': 1873},\n",
       "   {'transaction-id': 1687, 'amount': 1782},\n",
       "   {'transaction-id': 1757, 'amount': 1914},\n",
       "   {'transaction-id': 2039, 'amount': 1989},\n",
       "   {'transaction-id': 2055, 'amount': 1793},\n",
       "   {'transaction-id': 2163, 'amount': 1798},\n",
       "   {'transaction-id': 2245, 'amount': 1870},\n",
       "   {'transaction-id': 2263, 'amount': 1785},\n",
       "   {'transaction-id': 2296, 'amount': 1872},\n",
       "   {'transaction-id': 2624, 'amount': 1824},\n",
       "   {'transaction-id': 2819, 'amount': 1903},\n",
       "   {'transaction-id': 2832, 'amount': 1817},\n",
       "   {'transaction-id': 3037, 'amount': 1986},\n",
       "   {'transaction-id': 3045, 'amount': 1699},\n",
       "   {'transaction-id': 3342, 'amount': 2020},\n",
       "   {'transaction-id': 3536, 'amount': 1856},\n",
       "   {'transaction-id': 3928, 'amount': 1778},\n",
       "   {'transaction-id': 3936, 'amount': 1857},\n",
       "   {'transaction-id': 4000, 'amount': 1908},\n",
       "   {'transaction-id': 4082, 'amount': 1919},\n",
       "   {'transaction-id': 4146, 'amount': 1831},\n",
       "   {'transaction-id': 4157, 'amount': 1888},\n",
       "   {'transaction-id': 4247, 'amount': 1721},\n",
       "   {'transaction-id': 4273, 'amount': 1956},\n",
       "   {'transaction-id': 4295, 'amount': 1849},\n",
       "   {'transaction-id': 4335, 'amount': 1843},\n",
       "   {'transaction-id': 4342, 'amount': 1715},\n",
       "   {'transaction-id': 4357, 'amount': 1909},\n",
       "   {'transaction-id': 4398, 'amount': 1849},\n",
       "   {'transaction-id': 4409, 'amount': 1917},\n",
       "   {'transaction-id': 4424, 'amount': 1889},\n",
       "   {'transaction-id': 4500, 'amount': 1872},\n",
       "   {'transaction-id': 4587, 'amount': 1943},\n",
       "   {'transaction-id': 4697, 'amount': 1951},\n",
       "   {'transaction-id': 4779, 'amount': 1829},\n",
       "   {'transaction-id': 4894, 'amount': 1881},\n",
       "   {'transaction-id': 4895, 'amount': 1876},\n",
       "   {'transaction-id': 4949, 'amount': 1865},\n",
       "   {'transaction-id': 5019, 'amount': 1983},\n",
       "   {'transaction-id': 5078, 'amount': 1844},\n",
       "   {'transaction-id': 5131, 'amount': 1851},\n",
       "   {'transaction-id': 5147, 'amount': 1875},\n",
       "   {'transaction-id': 5176, 'amount': 1882},\n",
       "   {'transaction-id': 5280, 'amount': 1882},\n",
       "   {'transaction-id': 5289, 'amount': 1970},\n",
       "   {'transaction-id': 5332, 'amount': 1868},\n",
       "   {'transaction-id': 5406, 'amount': 1813},\n",
       "   {'transaction-id': 5512, 'amount': 1829},\n",
       "   {'transaction-id': 5556, 'amount': 1908},\n",
       "   {'transaction-id': 5585, 'amount': 1890},\n",
       "   {'transaction-id': 5666, 'amount': 1733},\n",
       "   {'transaction-id': 5693, 'amount': 1915},\n",
       "   {'transaction-id': 5751, 'amount': 2029},\n",
       "   {'transaction-id': 5784, 'amount': 1907},\n",
       "   {'transaction-id': 5787, 'amount': 1953},\n",
       "   {'transaction-id': 5791, 'amount': 2012},\n",
       "   {'transaction-id': 5936, 'amount': 1818},\n",
       "   {'transaction-id': 6033, 'amount': 1784},\n",
       "   {'transaction-id': 6045, 'amount': 1928},\n",
       "   {'transaction-id': 6080, 'amount': 1913},\n",
       "   {'transaction-id': 6082, 'amount': 1807},\n",
       "   {'transaction-id': 6173, 'amount': 1958},\n",
       "   {'transaction-id': 6181, 'amount': 1964},\n",
       "   {'transaction-id': 6334, 'amount': 1925},\n",
       "   {'transaction-id': 6346, 'amount': 1866},\n",
       "   {'transaction-id': 6356, 'amount': 1999},\n",
       "   {'transaction-id': 6416, 'amount': 1900},\n",
       "   {'transaction-id': 6458, 'amount': 1829},\n",
       "   {'transaction-id': 6828, 'amount': 2003},\n",
       "   {'transaction-id': 7241, 'amount': 1763},\n",
       "   {'transaction-id': 7278, 'amount': 1960},\n",
       "   {'transaction-id': 7333, 'amount': 1777},\n",
       "   {'transaction-id': 7356, 'amount': 2081},\n",
       "   {'transaction-id': 7376, 'amount': 1762},\n",
       "   {'transaction-id': 7460, 'amount': 1794},\n",
       "   {'transaction-id': 7605, 'amount': 1888},\n",
       "   {'transaction-id': 7651, 'amount': 1668},\n",
       "   {'transaction-id': 7885, 'amount': 1844},\n",
       "   {'transaction-id': 7939, 'amount': 1950},\n",
       "   {'transaction-id': 7946, 'amount': 2049},\n",
       "   {'transaction-id': 7997, 'amount': 1866},\n",
       "   {'transaction-id': 8037, 'amount': 1930},\n",
       "   {'transaction-id': 8234, 'amount': 1748},\n",
       "   {'transaction-id': 8241, 'amount': 1928},\n",
       "   {'transaction-id': 8278, 'amount': 1829},\n",
       "   {'transaction-id': 8456, 'amount': 1973},\n",
       "   {'transaction-id': 8479, 'amount': 1978},\n",
       "   {'transaction-id': 8514, 'amount': 1949},\n",
       "   {'transaction-id': 8534, 'amount': 1793},\n",
       "   {'transaction-id': 8662, 'amount': 1881},\n",
       "   {'transaction-id': 8838, 'amount': 1862},\n",
       "   {'transaction-id': 8850, 'amount': 1778},\n",
       "   {'transaction-id': 8883, 'amount': 1750},\n",
       "   {'transaction-id': 8901, 'amount': 1853},\n",
       "   {'transaction-id': 8941, 'amount': 1858},\n",
       "   {'transaction-id': 9045, 'amount': 1895},\n",
       "   {'transaction-id': 9058, 'amount': 1944},\n",
       "   {'transaction-id': 9108, 'amount': 2057},\n",
       "   {'transaction-id': 9251, 'amount': 1692},\n",
       "   {'transaction-id': 9442, 'amount': 1794},\n",
       "   {'transaction-id': 9444, 'amount': 1875},\n",
       "   {'transaction-id': 9546, 'amount': 1659},\n",
       "   {'transaction-id': 9607, 'amount': 1834},\n",
       "   {'transaction-id': 9804, 'amount': 1962},\n",
       "   {'transaction-id': 9887, 'amount': 2090},\n",
       "   {'transaction-id': 9900, 'amount': 1832}]},\n",
       " {'id': 82,\n",
       "  'name': 'Alice',\n",
       "  'transactions': [{'transaction-id': 2722, 'amount': 1008},\n",
       "   {'transaction-id': 3049, 'amount': 910},\n",
       "   {'transaction-id': 3117, 'amount': 992},\n",
       "   {'transaction-id': 3895, 'amount': 1056},\n",
       "   {'transaction-id': 4235, 'amount': 919},\n",
       "   {'transaction-id': 4328, 'amount': 1025},\n",
       "   {'transaction-id': 4370, 'amount': 1057},\n",
       "   {'transaction-id': 4774, 'amount': 919},\n",
       "   {'transaction-id': 4780, 'amount': 997},\n",
       "   {'transaction-id': 5543, 'amount': 1020},\n",
       "   {'transaction-id': 5831, 'amount': 966},\n",
       "   {'transaction-id': 6835, 'amount': 1040},\n",
       "   {'transaction-id': 6886, 'amount': 1130},\n",
       "   {'transaction-id': 7348, 'amount': 1076},\n",
       "   {'transaction-id': 8482, 'amount': 968}]},\n",
       " {'id': 97,\n",
       "  'name': 'Alice',\n",
       "  'transactions': [{'transaction-id': 431, 'amount': 371},\n",
       "   {'transaction-id': 935, 'amount': 475},\n",
       "   {'transaction-id': 1053, 'amount': 365},\n",
       "   {'transaction-id': 1907, 'amount': 455},\n",
       "   {'transaction-id': 2066, 'amount': 432},\n",
       "   {'transaction-id': 2552, 'amount': 492},\n",
       "   {'transaction-id': 3025, 'amount': 436},\n",
       "   {'transaction-id': 3383, 'amount': 408},\n",
       "   {'transaction-id': 3487, 'amount': 502},\n",
       "   {'transaction-id': 3577, 'amount': 423},\n",
       "   {'transaction-id': 4196, 'amount': 431},\n",
       "   {'transaction-id': 4326, 'amount': 438},\n",
       "   {'transaction-id': 4329, 'amount': 406},\n",
       "   {'transaction-id': 4418, 'amount': 420},\n",
       "   {'transaction-id': 4790, 'amount': 466},\n",
       "   {'transaction-id': 4865, 'amount': 424},\n",
       "   {'transaction-id': 5149, 'amount': 410},\n",
       "   {'transaction-id': 5533, 'amount': 392},\n",
       "   {'transaction-id': 5629, 'amount': 478},\n",
       "   {'transaction-id': 5658, 'amount': 395},\n",
       "   {'transaction-id': 5822, 'amount': 470},\n",
       "   {'transaction-id': 5889, 'amount': 465},\n",
       "   {'transaction-id': 6512, 'amount': 408},\n",
       "   {'transaction-id': 6622, 'amount': 404},\n",
       "   {'transaction-id': 6892, 'amount': 451},\n",
       "   {'transaction-id': 6991, 'amount': 374},\n",
       "   {'transaction-id': 7020, 'amount': 444},\n",
       "   {'transaction-id': 7391, 'amount': 393},\n",
       "   {'transaction-id': 7560, 'amount': 439},\n",
       "   {'transaction-id': 7588, 'amount': 416},\n",
       "   {'transaction-id': 7685, 'amount': 402},\n",
       "   {'transaction-id': 7736, 'amount': 437},\n",
       "   {'transaction-id': 7943, 'amount': 423},\n",
       "   {'transaction-id': 8086, 'amount': 461},\n",
       "   {'transaction-id': 8137, 'amount': 484},\n",
       "   {'transaction-id': 8145, 'amount': 435},\n",
       "   {'transaction-id': 8156, 'amount': 447},\n",
       "   {'transaction-id': 8164, 'amount': 472},\n",
       "   {'transaction-id': 8215, 'amount': 495},\n",
       "   {'transaction-id': 8360, 'amount': 424},\n",
       "   {'transaction-id': 8545, 'amount': 403},\n",
       "   {'transaction-id': 8633, 'amount': 418},\n",
       "   {'transaction-id': 9288, 'amount': 394},\n",
       "   {'transaction-id': 9547, 'amount': 452},\n",
       "   {'transaction-id': 9754, 'amount': 464},\n",
       "   {'transaction-id': 9948, 'amount': 473}]})"
      ]
     },
     "execution_count": 1,
     "metadata": {},
     "output_type": "execute_result"
    }
   ],
   "source": [
    "# filter: keep only some elements of the sequence\n",
    "js.filter(lambda record: record['name'] == 'Alice').take(5)"
   ]
  },
  {
   "cell_type": "code",
   "execution_count": 12,
   "metadata": {
    "execution": {
     "iopub.execute_input": "2020-11-06T19:38:36.324333Z",
     "iopub.status.busy": "2020-11-06T19:38:36.322104Z",
     "iopub.status.idle": "2020-11-06T19:38:36.340294Z",
     "shell.execute_reply": "2020-11-06T19:38:36.339601Z"
    }
   },
   "outputs": [
    {
     "data": {
      "text/plain": [
       "({'name': 'Alice', 'count': 42},\n",
       " {'name': 'Alice', 'count': 9},\n",
       " {'name': 'Alice', 'count': 130},\n",
       " {'name': 'Alice', 'count': 15},\n",
       " {'name': 'Alice', 'count': 46})"
      ]
     },
     "execution_count": 1,
     "metadata": {},
     "output_type": "execute_result"
    }
   ],
   "source": [
    "def count_transactions(d):\n",
    "    return {'name': d['name'], 'count': len(d['transactions'])}\n",
    "\n",
    "# map: apply a function to each element\n",
    "(js.filter(lambda record: record['name'] == 'Alice')\n",
    "   .map(count_transactions)\n",
    "   .take(5))"
   ]
  },
  {
   "cell_type": "code",
   "execution_count": 13,
   "metadata": {
    "execution": {
     "iopub.execute_input": "2020-11-06T19:38:36.345712Z",
     "iopub.status.busy": "2020-11-06T19:38:36.345186Z",
     "iopub.status.idle": "2020-11-06T19:38:36.363501Z",
     "shell.execute_reply": "2020-11-06T19:38:36.362686Z"
    }
   },
   "outputs": [
    {
     "data": {
      "text/plain": [
       "(42, 9, 130, 15, 46)"
      ]
     },
     "execution_count": 1,
     "metadata": {},
     "output_type": "execute_result"
    }
   ],
   "source": [
    "# pluck: select a field, as from a dictionary, element[field]\n",
    "(js.filter(lambda record: record['name'] == 'Alice')\n",
    "   .map(count_transactions)\n",
    "   .pluck('count')\n",
    "   .take(5))"
   ]
  },
  {
   "cell_type": "code",
   "execution_count": 14,
   "metadata": {
    "execution": {
     "iopub.execute_input": "2020-11-06T19:38:36.388158Z",
     "iopub.status.busy": "2020-11-06T19:38:36.377599Z",
     "iopub.status.idle": "2020-11-06T19:38:36.914382Z",
     "shell.execute_reply": "2020-11-06T19:38:36.914830Z"
    }
   },
   "outputs": [
    {
     "data": {
      "text/plain": [
       "45.3525"
      ]
     },
     "execution_count": 1,
     "metadata": {},
     "output_type": "execute_result"
    }
   ],
   "source": [
    "# Average number of transactions for all of the Alice entries\n",
    "(js.filter(lambda record: record['name'] == 'Alice')\n",
    "   .map(count_transactions)\n",
    "   .pluck('count')\n",
    "   .mean()\n",
    "   .compute())"
   ]
  },
  {
   "cell_type": "markdown",
   "metadata": {},
   "source": [
    "### Use `flatten` to de-nest"
   ]
  },
  {
   "cell_type": "markdown",
   "metadata": {},
   "source": [
    "In the example below we see the use of `.flatten()` to flatten results.  We compute the average amount for all transactions for all Alices."
   ]
  },
  {
   "cell_type": "code",
   "execution_count": 15,
   "metadata": {
    "execution": {
     "iopub.execute_input": "2020-11-06T19:38:36.924154Z",
     "iopub.status.busy": "2020-11-06T19:38:36.921001Z",
     "iopub.status.idle": "2020-11-06T19:38:36.945745Z",
     "shell.execute_reply": "2020-11-06T19:38:36.946074Z"
    }
   },
   "outputs": [
    {
     "data": {
      "text/plain": [
       "([{'transaction-id': 87, 'amount': 70},\n",
       "  {'transaction-id': 231, 'amount': 65},\n",
       "  {'transaction-id': 455, 'amount': 67},\n",
       "  {'transaction-id': 686, 'amount': 62},\n",
       "  {'transaction-id': 848, 'amount': 63},\n",
       "  {'transaction-id': 886, 'amount': 63},\n",
       "  {'transaction-id': 1111, 'amount': 71},\n",
       "  {'transaction-id': 1662, 'amount': 72},\n",
       "  {'transaction-id': 1697, 'amount': 65},\n",
       "  {'transaction-id': 1761, 'amount': 63},\n",
       "  {'transaction-id': 2107, 'amount': 67},\n",
       "  {'transaction-id': 2186, 'amount': 72},\n",
       "  {'transaction-id': 2200, 'amount': 71},\n",
       "  {'transaction-id': 2481, 'amount': 63},\n",
       "  {'transaction-id': 2490, 'amount': 54},\n",
       "  {'transaction-id': 2596, 'amount': 79},\n",
       "  {'transaction-id': 2667, 'amount': 53},\n",
       "  {'transaction-id': 3207, 'amount': 59},\n",
       "  {'transaction-id': 3325, 'amount': 63},\n",
       "  {'transaction-id': 4036, 'amount': 54},\n",
       "  {'transaction-id': 4207, 'amount': 65},\n",
       "  {'transaction-id': 4245, 'amount': 70},\n",
       "  {'transaction-id': 4266, 'amount': 66},\n",
       "  {'transaction-id': 4324, 'amount': 60},\n",
       "  {'transaction-id': 4875, 'amount': 76},\n",
       "  {'transaction-id': 5150, 'amount': 70},\n",
       "  {'transaction-id': 5810, 'amount': 80},\n",
       "  {'transaction-id': 6499, 'amount': 58},\n",
       "  {'transaction-id': 6616, 'amount': 71},\n",
       "  {'transaction-id': 7029, 'amount': 73},\n",
       "  {'transaction-id': 7341, 'amount': 71},\n",
       "  {'transaction-id': 7572, 'amount': 56},\n",
       "  {'transaction-id': 7682, 'amount': 61},\n",
       "  {'transaction-id': 8150, 'amount': 70},\n",
       "  {'transaction-id': 8297, 'amount': 71},\n",
       "  {'transaction-id': 8938, 'amount': 62},\n",
       "  {'transaction-id': 8979, 'amount': 71},\n",
       "  {'transaction-id': 9008, 'amount': 59},\n",
       "  {'transaction-id': 9294, 'amount': 68},\n",
       "  {'transaction-id': 9680, 'amount': 51},\n",
       "  {'transaction-id': 9681, 'amount': 52},\n",
       "  {'transaction-id': 9761, 'amount': 82}],\n",
       " [{'transaction-id': 144, 'amount': 390},\n",
       "  {'transaction-id': 168, 'amount': 372},\n",
       "  {'transaction-id': 2650, 'amount': 376},\n",
       "  {'transaction-id': 2733, 'amount': 366},\n",
       "  {'transaction-id': 4562, 'amount': 387},\n",
       "  {'transaction-id': 5483, 'amount': 378},\n",
       "  {'transaction-id': 5681, 'amount': 381},\n",
       "  {'transaction-id': 7060, 'amount': 348},\n",
       "  {'transaction-id': 8627, 'amount': 366}],\n",
       " [{'transaction-id': 46, 'amount': 1857},\n",
       "  {'transaction-id': 56, 'amount': 1992},\n",
       "  {'transaction-id': 62, 'amount': 1720},\n",
       "  {'transaction-id': 138, 'amount': 1872},\n",
       "  {'transaction-id': 147, 'amount': 2016},\n",
       "  {'transaction-id': 150, 'amount': 1937},\n",
       "  {'transaction-id': 192, 'amount': 1817},\n",
       "  {'transaction-id': 373, 'amount': 2002},\n",
       "  {'transaction-id': 400, 'amount': 1812},\n",
       "  {'transaction-id': 459, 'amount': 1967},\n",
       "  {'transaction-id': 466, 'amount': 1937},\n",
       "  {'transaction-id': 501, 'amount': 1928},\n",
       "  {'transaction-id': 506, 'amount': 2048},\n",
       "  {'transaction-id': 605, 'amount': 2038},\n",
       "  {'transaction-id': 643, 'amount': 1904},\n",
       "  {'transaction-id': 708, 'amount': 1826},\n",
       "  {'transaction-id': 749, 'amount': 1958},\n",
       "  {'transaction-id': 807, 'amount': 1848},\n",
       "  {'transaction-id': 820, 'amount': 1718},\n",
       "  {'transaction-id': 899, 'amount': 1801},\n",
       "  {'transaction-id': 1252, 'amount': 1918},\n",
       "  {'transaction-id': 1363, 'amount': 1899},\n",
       "  {'transaction-id': 1443, 'amount': 1909},\n",
       "  {'transaction-id': 1487, 'amount': 1793},\n",
       "  {'transaction-id': 1641, 'amount': 1873},\n",
       "  {'transaction-id': 1687, 'amount': 1782},\n",
       "  {'transaction-id': 1757, 'amount': 1914},\n",
       "  {'transaction-id': 2039, 'amount': 1989},\n",
       "  {'transaction-id': 2055, 'amount': 1793},\n",
       "  {'transaction-id': 2163, 'amount': 1798},\n",
       "  {'transaction-id': 2245, 'amount': 1870},\n",
       "  {'transaction-id': 2263, 'amount': 1785},\n",
       "  {'transaction-id': 2296, 'amount': 1872},\n",
       "  {'transaction-id': 2624, 'amount': 1824},\n",
       "  {'transaction-id': 2819, 'amount': 1903},\n",
       "  {'transaction-id': 2832, 'amount': 1817},\n",
       "  {'transaction-id': 3037, 'amount': 1986},\n",
       "  {'transaction-id': 3045, 'amount': 1699},\n",
       "  {'transaction-id': 3342, 'amount': 2020},\n",
       "  {'transaction-id': 3536, 'amount': 1856},\n",
       "  {'transaction-id': 3928, 'amount': 1778},\n",
       "  {'transaction-id': 3936, 'amount': 1857},\n",
       "  {'transaction-id': 4000, 'amount': 1908},\n",
       "  {'transaction-id': 4082, 'amount': 1919},\n",
       "  {'transaction-id': 4146, 'amount': 1831},\n",
       "  {'transaction-id': 4157, 'amount': 1888},\n",
       "  {'transaction-id': 4247, 'amount': 1721},\n",
       "  {'transaction-id': 4273, 'amount': 1956},\n",
       "  {'transaction-id': 4295, 'amount': 1849},\n",
       "  {'transaction-id': 4335, 'amount': 1843},\n",
       "  {'transaction-id': 4342, 'amount': 1715},\n",
       "  {'transaction-id': 4357, 'amount': 1909},\n",
       "  {'transaction-id': 4398, 'amount': 1849},\n",
       "  {'transaction-id': 4409, 'amount': 1917},\n",
       "  {'transaction-id': 4424, 'amount': 1889},\n",
       "  {'transaction-id': 4500, 'amount': 1872},\n",
       "  {'transaction-id': 4587, 'amount': 1943},\n",
       "  {'transaction-id': 4697, 'amount': 1951},\n",
       "  {'transaction-id': 4779, 'amount': 1829},\n",
       "  {'transaction-id': 4894, 'amount': 1881},\n",
       "  {'transaction-id': 4895, 'amount': 1876},\n",
       "  {'transaction-id': 4949, 'amount': 1865},\n",
       "  {'transaction-id': 5019, 'amount': 1983},\n",
       "  {'transaction-id': 5078, 'amount': 1844},\n",
       "  {'transaction-id': 5131, 'amount': 1851},\n",
       "  {'transaction-id': 5147, 'amount': 1875},\n",
       "  {'transaction-id': 5176, 'amount': 1882},\n",
       "  {'transaction-id': 5280, 'amount': 1882},\n",
       "  {'transaction-id': 5289, 'amount': 1970},\n",
       "  {'transaction-id': 5332, 'amount': 1868},\n",
       "  {'transaction-id': 5406, 'amount': 1813},\n",
       "  {'transaction-id': 5512, 'amount': 1829},\n",
       "  {'transaction-id': 5556, 'amount': 1908},\n",
       "  {'transaction-id': 5585, 'amount': 1890},\n",
       "  {'transaction-id': 5666, 'amount': 1733},\n",
       "  {'transaction-id': 5693, 'amount': 1915},\n",
       "  {'transaction-id': 5751, 'amount': 2029},\n",
       "  {'transaction-id': 5784, 'amount': 1907},\n",
       "  {'transaction-id': 5787, 'amount': 1953},\n",
       "  {'transaction-id': 5791, 'amount': 2012},\n",
       "  {'transaction-id': 5936, 'amount': 1818},\n",
       "  {'transaction-id': 6033, 'amount': 1784},\n",
       "  {'transaction-id': 6045, 'amount': 1928},\n",
       "  {'transaction-id': 6080, 'amount': 1913},\n",
       "  {'transaction-id': 6082, 'amount': 1807},\n",
       "  {'transaction-id': 6173, 'amount': 1958},\n",
       "  {'transaction-id': 6181, 'amount': 1964},\n",
       "  {'transaction-id': 6334, 'amount': 1925},\n",
       "  {'transaction-id': 6346, 'amount': 1866},\n",
       "  {'transaction-id': 6356, 'amount': 1999},\n",
       "  {'transaction-id': 6416, 'amount': 1900},\n",
       "  {'transaction-id': 6458, 'amount': 1829},\n",
       "  {'transaction-id': 6828, 'amount': 2003},\n",
       "  {'transaction-id': 7241, 'amount': 1763},\n",
       "  {'transaction-id': 7278, 'amount': 1960},\n",
       "  {'transaction-id': 7333, 'amount': 1777},\n",
       "  {'transaction-id': 7356, 'amount': 2081},\n",
       "  {'transaction-id': 7376, 'amount': 1762},\n",
       "  {'transaction-id': 7460, 'amount': 1794},\n",
       "  {'transaction-id': 7605, 'amount': 1888},\n",
       "  {'transaction-id': 7651, 'amount': 1668},\n",
       "  {'transaction-id': 7885, 'amount': 1844},\n",
       "  {'transaction-id': 7939, 'amount': 1950},\n",
       "  {'transaction-id': 7946, 'amount': 2049},\n",
       "  {'transaction-id': 7997, 'amount': 1866},\n",
       "  {'transaction-id': 8037, 'amount': 1930},\n",
       "  {'transaction-id': 8234, 'amount': 1748},\n",
       "  {'transaction-id': 8241, 'amount': 1928},\n",
       "  {'transaction-id': 8278, 'amount': 1829},\n",
       "  {'transaction-id': 8456, 'amount': 1973},\n",
       "  {'transaction-id': 8479, 'amount': 1978},\n",
       "  {'transaction-id': 8514, 'amount': 1949},\n",
       "  {'transaction-id': 8534, 'amount': 1793},\n",
       "  {'transaction-id': 8662, 'amount': 1881},\n",
       "  {'transaction-id': 8838, 'amount': 1862},\n",
       "  {'transaction-id': 8850, 'amount': 1778},\n",
       "  {'transaction-id': 8883, 'amount': 1750},\n",
       "  {'transaction-id': 8901, 'amount': 1853},\n",
       "  {'transaction-id': 8941, 'amount': 1858},\n",
       "  {'transaction-id': 9045, 'amount': 1895},\n",
       "  {'transaction-id': 9058, 'amount': 1944},\n",
       "  {'transaction-id': 9108, 'amount': 2057},\n",
       "  {'transaction-id': 9251, 'amount': 1692},\n",
       "  {'transaction-id': 9442, 'amount': 1794},\n",
       "  {'transaction-id': 9444, 'amount': 1875},\n",
       "  {'transaction-id': 9546, 'amount': 1659},\n",
       "  {'transaction-id': 9607, 'amount': 1834},\n",
       "  {'transaction-id': 9804, 'amount': 1962},\n",
       "  {'transaction-id': 9887, 'amount': 2090},\n",
       "  {'transaction-id': 9900, 'amount': 1832}])"
      ]
     },
     "execution_count": 1,
     "metadata": {},
     "output_type": "execute_result"
    }
   ],
   "source": [
    "js.filter(lambda record: record['name'] == 'Alice').pluck('transactions').take(3)"
   ]
  },
  {
   "cell_type": "code",
   "execution_count": 16,
   "metadata": {
    "execution": {
     "iopub.execute_input": "2020-11-06T19:38:36.950992Z",
     "iopub.status.busy": "2020-11-06T19:38:36.948134Z",
     "iopub.status.idle": "2020-11-06T19:38:36.970250Z",
     "shell.execute_reply": "2020-11-06T19:38:36.969859Z"
    }
   },
   "outputs": [
    {
     "data": {
      "text/plain": [
       "({'transaction-id': 87, 'amount': 70},\n",
       " {'transaction-id': 231, 'amount': 65},\n",
       " {'transaction-id': 455, 'amount': 67})"
      ]
     },
     "execution_count": 1,
     "metadata": {},
     "output_type": "execute_result"
    }
   ],
   "source": [
    "(js.filter(lambda record: record['name'] == 'Alice')\n",
    "   .pluck('transactions')\n",
    "   .flatten()\n",
    "   .take(3))"
   ]
  },
  {
   "cell_type": "code",
   "execution_count": 17,
   "metadata": {
    "execution": {
     "iopub.execute_input": "2020-11-06T19:38:36.975449Z",
     "iopub.status.busy": "2020-11-06T19:38:36.974818Z",
     "iopub.status.idle": "2020-11-06T19:38:36.992089Z",
     "shell.execute_reply": "2020-11-06T19:38:36.992536Z"
    }
   },
   "outputs": [
    {
     "data": {
      "text/plain": [
       "(70, 65, 67)"
      ]
     },
     "execution_count": 1,
     "metadata": {},
     "output_type": "execute_result"
    }
   ],
   "source": [
    "(js.filter(lambda record: record['name'] == 'Alice')\n",
    "   .pluck('transactions')\n",
    "   .flatten()\n",
    "   .pluck('amount')\n",
    "   .take(3))"
   ]
  },
  {
   "cell_type": "code",
   "execution_count": 18,
   "metadata": {
    "execution": {
     "iopub.execute_input": "2020-11-06T19:38:37.002648Z",
     "iopub.status.busy": "2020-11-06T19:38:37.001976Z",
     "iopub.status.idle": "2020-11-06T19:38:37.555256Z",
     "shell.execute_reply": "2020-11-06T19:38:37.556246Z"
    }
   },
   "outputs": [
    {
     "data": {
      "text/plain": [
       "1837.9744225786892"
      ]
     },
     "execution_count": 1,
     "metadata": {},
     "output_type": "execute_result"
    }
   ],
   "source": [
    "(js.filter(lambda record: record['name'] == 'Alice')\n",
    "   .pluck('transactions')\n",
    "   .flatten()\n",
    "   .pluck('amount')\n",
    "   .mean()\n",
    "   .compute())"
   ]
  },
  {
   "cell_type": "markdown",
   "metadata": {},
   "source": [
    "### Groupby and Foldby"
   ]
  },
  {
   "cell_type": "markdown",
   "metadata": {},
   "source": [
    "Often we want to group data by some function or key.  We can do this either with the `.groupby` method, which is straightforward but forces a full shuffle of the data (expensive) or with the harder-to-use but faster `.foldby` method, which does a streaming combined groupby and reduction.\n",
    "\n",
    "*  `groupby`:  Shuffles data so that all items with the same key are in the same key-value pair\n",
    "*  `foldby`:  Walks through the data accumulating a result per key\n",
    "\n",
    "*Note: the full groupby is particularly bad. In actual workloads you would do well to use `foldby` or switch to `DataFrame`s if possible.*"
   ]
  },
  {
   "cell_type": "markdown",
   "metadata": {},
   "source": [
    "### `groupby`"
   ]
  },
  {
   "cell_type": "markdown",
   "metadata": {},
   "source": [
    "Groupby collects items in your collection so that all items with the same value under some function are collected together into a key-value pair."
   ]
  },
  {
   "cell_type": "code",
   "execution_count": 19,
   "metadata": {
    "execution": {
     "iopub.execute_input": "2020-11-06T19:38:37.565957Z",
     "iopub.status.busy": "2020-11-06T19:38:37.565258Z",
     "iopub.status.idle": "2020-11-06T19:38:37.661390Z",
     "shell.execute_reply": "2020-11-06T19:38:37.660902Z"
    }
   },
   "outputs": [
    {
     "data": {
      "text/plain": [
       "[(7, ['Charlie']), (3, ['Bob', 'Dan']), (5, ['Alice', 'Edith', 'Frank'])]"
      ]
     },
     "execution_count": 1,
     "metadata": {},
     "output_type": "execute_result"
    }
   ],
   "source": [
    "b = db.from_sequence(['Alice', 'Bob', 'Charlie', 'Dan', 'Edith', 'Frank'])\n",
    "b.groupby(len).compute()  # names grouped by length"
   ]
  },
  {
   "cell_type": "code",
   "execution_count": 20,
   "metadata": {
    "execution": {
     "iopub.execute_input": "2020-11-06T19:38:37.673458Z",
     "iopub.status.busy": "2020-11-06T19:38:37.672770Z",
     "iopub.status.idle": "2020-11-06T19:38:37.844593Z",
     "shell.execute_reply": "2020-11-06T19:38:37.845432Z"
    }
   },
   "outputs": [
    {
     "data": {
      "text/plain": [
       "[(0, [0, 2, 4, 6, 8]), (1, [1, 3, 5, 7, 9])]"
      ]
     },
     "execution_count": 1,
     "metadata": {},
     "output_type": "execute_result"
    }
   ],
   "source": [
    "b = db.from_sequence(list(range(10)))\n",
    "b.groupby(lambda x: x % 2).compute()"
   ]
  },
  {
   "cell_type": "code",
   "execution_count": 21,
   "metadata": {
    "execution": {
     "iopub.execute_input": "2020-11-06T19:38:37.861480Z",
     "iopub.status.busy": "2020-11-06T19:38:37.857162Z",
     "iopub.status.idle": "2020-11-06T19:38:38.031995Z",
     "shell.execute_reply": "2020-11-06T19:38:38.032871Z"
    }
   },
   "outputs": [
    {
     "data": {
      "text/plain": [
       "[(0, 8), (1, 9)]"
      ]
     },
     "execution_count": 1,
     "metadata": {},
     "output_type": "execute_result"
    }
   ],
   "source": [
    "b.groupby(lambda x: x % 2).starmap(lambda k, v: (k, max(v))).compute()"
   ]
  },
  {
   "cell_type": "markdown",
   "metadata": {},
   "source": [
    "### `foldby`"
   ]
  },
  {
   "cell_type": "markdown",
   "metadata": {},
   "source": [
    "Foldby can be quite odd at first.  It is similar to the following functions from other libraries:\n",
    "\n",
    "*  [`toolz.reduceby`](http://toolz.readthedocs.io/en/latest/streaming-analytics.html#streaming-split-apply-combine)\n",
    "*  [`pyspark.RDD.combineByKey`](http://abshinn.github.io/python/apache-spark/2014/10/11/using-combinebykey-in-apache-spark/)\n",
    "\n",
    "When using `foldby` you provide \n",
    "\n",
    "1.  A key function on which to group elements\n",
    "2.  A binary operator such as you would pass to `reduce` that you use to perform reduction per each group\n",
    "3.  A combine binary operator that can combine the results of two `reduce` calls on different parts of your dataset.\n",
    "\n",
    "Your reduction must be associative.  It will happen in parallel in each of the partitions of your dataset.  Then all of these intermediate results will be combined by the `combine` binary operator."
   ]
  },
  {
   "cell_type": "code",
   "execution_count": 22,
   "metadata": {
    "execution": {
     "iopub.execute_input": "2020-11-06T19:38:38.045225Z",
     "iopub.status.busy": "2020-11-06T19:38:38.043046Z",
     "iopub.status.idle": "2020-11-06T19:38:38.087452Z",
     "shell.execute_reply": "2020-11-06T19:38:38.086906Z"
    }
   },
   "outputs": [
    {
     "data": {
      "text/plain": [
       "[(0, 8), (1, 9)]"
      ]
     },
     "execution_count": 1,
     "metadata": {},
     "output_type": "execute_result"
    }
   ],
   "source": [
    "is_even = lambda x: x % 2\n",
    "b.foldby(is_even, binop=max, combine=max).compute()"
   ]
  },
  {
   "cell_type": "markdown",
   "metadata": {},
   "source": [
    "### Example with account data"
   ]
  },
  {
   "cell_type": "markdown",
   "metadata": {},
   "source": [
    "We find the number of people with the same name."
   ]
  },
  {
   "cell_type": "code",
   "execution_count": 23,
   "metadata": {
    "execution": {
     "iopub.execute_input": "2020-11-06T19:38:38.095467Z",
     "iopub.status.busy": "2020-11-06T19:38:38.094855Z",
     "iopub.status.idle": "2020-11-06T19:38:46.868649Z",
     "shell.execute_reply": "2020-11-06T19:38:46.869208Z"
    }
   },
   "outputs": [
    {
     "name": "stdout",
     "output_type": "stream",
     "text": [
      "[('Alice', 88), ('Alice', 96), ('Alice', 104), ('Alice', 112), ('Bob', 139), ('Bob', 151), ('Bob', 166), ('Bob', 177), ('Charlie', 121), ('Charlie', 131), ('Charlie', 141), ('Charlie', 154), ('Dan', 87), ('Dan', 94), ('Dan', 102), ('Dan', 110), ('Edith', 88), ('Edith', 95), ('Edith', 104), ('Edith', 110), ('Frank', 164), ('Frank', 179), ('Frank', 195), ('Frank', 210), ('George', 77), ('George', 84), ('George', 91), ('George', 98), ('Hannah', 117), ('Hannah', 126), ('Hannah', 140), ('Hannah', 149), ('Ingrid', 32), ('Ingrid', 32), ('Ingrid', 36), ('Ingrid', 39), ('Jerry', 132), ('Jerry', 144), ('Jerry', 156), ('Jerry', 168), ('Kevin', 97), ('Kevin', 106), ('Kevin', 117), ('Kevin', 125), ('Laura', 99), ('Laura', 108), ('Laura', 117), ('Laura', 126), ('Michael', 173), ('Michael', 202), ('Michael', 404), ('Norbert', 88), ('Norbert', 96), ('Norbert', 104), ('Norbert', 112), ('Oliver', 87), ('Oliver', 95), ('Oliver', 102), ('Oliver', 112), ('Patricia', 121), ('Patricia', 132), ('Patricia', 143), ('Patricia', 151), ('Quinn', 125), ('Quinn', 138), ('Quinn', 146), ('Quinn', 159), ('Ray', 89), ('Ray', 96), ('Ray', 110), ('Ray', 121), ('Sarah', 98), ('Sarah', 106), ('Sarah', 115), ('Sarah', 124), ('Tim', 72), ('Tim', 80), ('Tim', 85), ('Tim', 90), ('Ursula', 55), ('Ursula', 60), ('Ursula', 65), ('Ursula', 70), ('Victor', 110), ('Victor', 118), ('Victor', 130), ('Victor', 140), ('Wendy', 109), ('Wendy', 120), ('Wendy', 129), ('Wendy', 139), ('Xavier', 130), ('Xavier', 148), ('Xavier', 163), ('Xavier', 168), ('Yvonne', 108), ('Yvonne', 119), ('Yvonne', 130), ('Yvonne', 137), ('Zelda', 72), ('Zelda', 81), ('Zelda', 90), ('Zelda', 96)]\n",
      "CPU times: user 1.61 s, sys: 75.2 ms, total: 1.68 s\n",
      "Wall time: 8.77 s\n"
     ]
    }
   ],
   "source": [
    "%%time\n",
    "# Warning, this one takes a while...\n",
    "result = js.groupby(lambda item: item['name']).starmap(lambda k, v: (k, len(v))).compute()\n",
    "print(sorted(result))"
   ]
  },
  {
   "cell_type": "code",
   "execution_count": 24,
   "metadata": {
    "execution": {
     "iopub.execute_input": "2020-11-06T19:38:46.899517Z",
     "iopub.status.busy": "2020-11-06T19:38:46.898841Z",
     "iopub.status.idle": "2020-11-06T19:38:47.488283Z",
     "shell.execute_reply": "2020-11-06T19:38:47.487423Z"
    }
   },
   "outputs": [
    {
     "name": "stdout",
     "output_type": "stream",
     "text": [
      "[('Alice', 400), ('Bob', 633), ('Charlie', 547), ('Dan', 393), ('Edith', 397), ('Frank', 748), ('George', 350), ('Hannah', 532), ('Ingrid', 139), ('Jerry', 600), ('Kevin', 445), ('Laura', 450), ('Michael', 779), ('Norbert', 400), ('Oliver', 396), ('Patricia', 547), ('Quinn', 568), ('Ray', 416), ('Sarah', 443), ('Tim', 327), ('Ursula', 250), ('Victor', 498), ('Wendy', 497), ('Xavier', 609), ('Yvonne', 494), ('Zelda', 339)]\n",
      "CPU times: user 140 ms, sys: 17.1 ms, total: 157 ms\n",
      "Wall time: 603 ms\n"
     ]
    }
   ],
   "source": [
    "%%time\n",
    "# This one is comparatively fast and produces the same result.\n",
    "from operator import add\n",
    "def incr(tot, _):\n",
    "    return tot+1\n",
    "\n",
    "result = js.foldby(key='name', \n",
    "                   binop=incr, \n",
    "                   initial=0, \n",
    "                   combine=add, \n",
    "                   combine_initial=0).compute()\n",
    "print(sorted(result))"
   ]
  },
  {
   "cell_type": "markdown",
   "metadata": {},
   "source": [
    "### Exercise: compute total amount per name"
   ]
  },
  {
   "cell_type": "markdown",
   "metadata": {},
   "source": [
    "We want to groupby (or foldby) the `name` key, then add up the all of the amounts for each name.\n",
    "\n",
    "Steps\n",
    "\n",
    "1.  Create a small function that, given a dictionary like \n",
    "\n",
    "        {'name': 'Alice', 'transactions': [{'amount': 1, 'id': 123}, {'amount': 2, 'id': 456}]}\n",
    "        \n",
    "    produces the sum of the amounts, e.g. `3`\n",
    "    \n",
    "2.  Slightly change the binary operator of the `foldby` example above so that the binary operator doesn't count the number of entries, but instead accumulates the sum of the amounts."
   ]
  },
  {
   "cell_type": "code",
   "execution_count": 25,
   "metadata": {
    "execution": {
     "iopub.execute_input": "2020-11-06T19:38:47.491632Z",
     "iopub.status.busy": "2020-11-06T19:38:47.491194Z",
     "iopub.status.idle": "2020-11-06T19:38:47.494256Z",
     "shell.execute_reply": "2020-11-06T19:38:47.494753Z"
    }
   },
   "outputs": [],
   "source": [
    "# Your code here..."
   ]
  },
  {
   "cell_type": "markdown",
   "metadata": {},
   "source": [
    "## DataFrames"
   ]
  },
  {
   "cell_type": "markdown",
   "metadata": {},
   "source": [
    "For the same reasons that Pandas is often faster than pure Python, `dask.dataframe` can be faster than `dask.bag`.  We will work more with DataFrames later, but from for the bag point of view, they are frequently the end-point of the \"messy\" part of data ingestion—once the data can be made into a data-frame, then complex split-apply-combine logic will become much more straight-forward and efficient.\n",
    "\n",
    "You can transform a bag with a simple tuple or flat dictionary structure into a `dask.dataframe` with the `to_dataframe` method."
   ]
  },
  {
   "cell_type": "code",
   "execution_count": 26,
   "metadata": {
    "execution": {
     "iopub.execute_input": "2020-11-06T19:38:47.498660Z",
     "iopub.status.busy": "2020-11-06T19:38:47.498193Z",
     "iopub.status.idle": "2020-11-06T19:38:48.086751Z",
     "shell.execute_reply": "2020-11-06T19:38:48.086089Z"
    }
   },
   "outputs": [
    {
     "data": {
      "text/html": [
       "<div>\n",
       "<style scoped>\n",
       "    .dataframe tbody tr th:only-of-type {\n",
       "        vertical-align: middle;\n",
       "    }\n",
       "\n",
       "    .dataframe tbody tr th {\n",
       "        vertical-align: top;\n",
       "    }\n",
       "\n",
       "    .dataframe thead th {\n",
       "        text-align: right;\n",
       "    }\n",
       "</style>\n",
       "<table border=\"1\" class=\"dataframe\">\n",
       "  <thead>\n",
       "    <tr style=\"text-align: right;\">\n",
       "      <th></th>\n",
       "      <th>id</th>\n",
       "      <th>name</th>\n",
       "      <th>transactions</th>\n",
       "    </tr>\n",
       "  </thead>\n",
       "  <tbody>\n",
       "    <tr>\n",
       "      <th>0</th>\n",
       "      <td>0</td>\n",
       "      <td>Tim</td>\n",
       "      <td>[{'transaction-id': 478, 'amount': 612}, {'tra...</td>\n",
       "    </tr>\n",
       "    <tr>\n",
       "      <th>1</th>\n",
       "      <td>1</td>\n",
       "      <td>Michael</td>\n",
       "      <td>[{'transaction-id': 526, 'amount': 199}, {'tra...</td>\n",
       "    </tr>\n",
       "    <tr>\n",
       "      <th>2</th>\n",
       "      <td>2</td>\n",
       "      <td>Frank</td>\n",
       "      <td>[{'transaction-id': 65, 'amount': 1941}, {'tra...</td>\n",
       "    </tr>\n",
       "    <tr>\n",
       "      <th>3</th>\n",
       "      <td>3</td>\n",
       "      <td>Laura</td>\n",
       "      <td>[{'transaction-id': 116, 'amount': 688}, {'tra...</td>\n",
       "    </tr>\n",
       "    <tr>\n",
       "      <th>4</th>\n",
       "      <td>4</td>\n",
       "      <td>Sarah</td>\n",
       "      <td>[{'transaction-id': 169, 'amount': 1257}, {'tr...</td>\n",
       "    </tr>\n",
       "  </tbody>\n",
       "</table>\n",
       "</div>"
      ],
      "text/plain": [
       "   id     name                                       transactions\n",
       "0   0      Tim  [{'transaction-id': 478, 'amount': 612}, {'tra...\n",
       "1   1  Michael  [{'transaction-id': 526, 'amount': 199}, {'tra...\n",
       "2   2    Frank  [{'transaction-id': 65, 'amount': 1941}, {'tra...\n",
       "3   3    Laura  [{'transaction-id': 116, 'amount': 688}, {'tra...\n",
       "4   4    Sarah  [{'transaction-id': 169, 'amount': 1257}, {'tr..."
      ]
     },
     "execution_count": 1,
     "metadata": {},
     "output_type": "execute_result"
    }
   ],
   "source": [
    "df1 = js.to_dataframe()\n",
    "df1.head()"
   ]
  },
  {
   "cell_type": "markdown",
   "metadata": {},
   "source": [
    "This now looks like a well-defined DataFrame, and we can apply Pandas-like computations to it efficiently."
   ]
  },
  {
   "cell_type": "markdown",
   "metadata": {},
   "source": [
    "Using a Dask DataFrame, how long does it take to do our prior computation of numbers of people with the same name?  It turns out that `dask.dataframe.groupby()` beats `dask.bag.groupby()` more than an order of magnitude; but it still cannot match `dask.bag.foldby()` for this case."
   ]
  },
  {
   "cell_type": "code",
   "execution_count": 27,
   "metadata": {
    "execution": {
     "iopub.execute_input": "2020-11-06T19:38:48.101073Z",
     "iopub.status.busy": "2020-11-06T19:38:48.096011Z",
     "iopub.status.idle": "2020-11-06T19:38:49.879052Z",
     "shell.execute_reply": "2020-11-06T19:38:49.878586Z"
    }
   },
   "outputs": [
    {
     "name": "stdout",
     "output_type": "stream",
     "text": [
      "CPU times: user 211 ms, sys: 19.9 ms, total: 230 ms\n",
      "Wall time: 1.78 s\n"
     ]
    },
    {
     "data": {
      "text/plain": [
       "name\n",
       "Alice      400\n",
       "Bob        633\n",
       "Charlie    547\n",
       "Dan        393\n",
       "Edith      397\n",
       "Name: id, dtype: int64"
      ]
     },
     "execution_count": 1,
     "metadata": {},
     "output_type": "execute_result"
    }
   ],
   "source": [
    "%time df1.groupby('name').id.count().compute().head()"
   ]
  },
  {
   "cell_type": "markdown",
   "metadata": {},
   "source": [
    "### Denormalization"
   ]
  },
  {
   "cell_type": "markdown",
   "metadata": {},
   "source": [
    "This DataFrame format is less-than-optimal because the `transactions` column is filled with nested data so Pandas has to revert to `object` dtype, which is quite slow in Pandas.  Ideally we want to transform to a dataframe only after we have flattened our data so that each record is a single `int`, `string`, `float`, etc.."
   ]
  },
  {
   "cell_type": "code",
   "execution_count": 28,
   "metadata": {
    "execution": {
     "iopub.execute_input": "2020-11-06T19:38:49.885389Z",
     "iopub.status.busy": "2020-11-06T19:38:49.884638Z",
     "iopub.status.idle": "2020-11-06T19:38:49.903005Z",
     "shell.execute_reply": "2020-11-06T19:38:49.903692Z"
    }
   },
   "outputs": [
    {
     "data": {
      "text/plain": [
       "({'id': 0, 'name': 'Tim', 'amount': 612, 'transaction-id': 478},\n",
       " {'id': 0, 'name': 'Tim', 'amount': 710, 'transaction-id': 1265},\n",
       " {'id': 0, 'name': 'Tim', 'amount': 672, 'transaction-id': 2184})"
      ]
     },
     "execution_count": 1,
     "metadata": {},
     "output_type": "execute_result"
    }
   ],
   "source": [
    "def denormalize(record):\n",
    "    # returns a list for every nested item, each transaction of each person\n",
    "    return [{'id': record['id'], \n",
    "             'name': record['name'], \n",
    "             'amount': transaction['amount'], \n",
    "             'transaction-id': transaction['transaction-id']}\n",
    "            for transaction in record['transactions']]\n",
    "\n",
    "transactions = js.map(denormalize).flatten()\n",
    "transactions.take(3)"
   ]
  },
  {
   "cell_type": "code",
   "execution_count": 29,
   "metadata": {
    "execution": {
     "iopub.execute_input": "2020-11-06T19:38:49.908418Z",
     "iopub.status.busy": "2020-11-06T19:38:49.907799Z",
     "iopub.status.idle": "2020-11-06T19:38:49.978949Z",
     "shell.execute_reply": "2020-11-06T19:38:49.978412Z"
    }
   },
   "outputs": [
    {
     "data": {
      "text/html": [
       "<div>\n",
       "<style scoped>\n",
       "    .dataframe tbody tr th:only-of-type {\n",
       "        vertical-align: middle;\n",
       "    }\n",
       "\n",
       "    .dataframe tbody tr th {\n",
       "        vertical-align: top;\n",
       "    }\n",
       "\n",
       "    .dataframe thead th {\n",
       "        text-align: right;\n",
       "    }\n",
       "</style>\n",
       "<table border=\"1\" class=\"dataframe\">\n",
       "  <thead>\n",
       "    <tr style=\"text-align: right;\">\n",
       "      <th></th>\n",
       "      <th>id</th>\n",
       "      <th>name</th>\n",
       "      <th>amount</th>\n",
       "      <th>transaction-id</th>\n",
       "    </tr>\n",
       "  </thead>\n",
       "  <tbody>\n",
       "    <tr>\n",
       "      <th>0</th>\n",
       "      <td>0</td>\n",
       "      <td>Tim</td>\n",
       "      <td>612</td>\n",
       "      <td>478</td>\n",
       "    </tr>\n",
       "    <tr>\n",
       "      <th>1</th>\n",
       "      <td>0</td>\n",
       "      <td>Tim</td>\n",
       "      <td>710</td>\n",
       "      <td>1265</td>\n",
       "    </tr>\n",
       "    <tr>\n",
       "      <th>2</th>\n",
       "      <td>0</td>\n",
       "      <td>Tim</td>\n",
       "      <td>672</td>\n",
       "      <td>2184</td>\n",
       "    </tr>\n",
       "    <tr>\n",
       "      <th>3</th>\n",
       "      <td>0</td>\n",
       "      <td>Tim</td>\n",
       "      <td>638</td>\n",
       "      <td>3323</td>\n",
       "    </tr>\n",
       "    <tr>\n",
       "      <th>4</th>\n",
       "      <td>0</td>\n",
       "      <td>Tim</td>\n",
       "      <td>609</td>\n",
       "      <td>3643</td>\n",
       "    </tr>\n",
       "  </tbody>\n",
       "</table>\n",
       "</div>"
      ],
      "text/plain": [
       "   id name  amount  transaction-id\n",
       "0   0  Tim     612             478\n",
       "1   0  Tim     710            1265\n",
       "2   0  Tim     672            2184\n",
       "3   0  Tim     638            3323\n",
       "4   0  Tim     609            3643"
      ]
     },
     "execution_count": 1,
     "metadata": {},
     "output_type": "execute_result"
    }
   ],
   "source": [
    "df = transactions.to_dataframe()\n",
    "df.head()"
   ]
  },
  {
   "cell_type": "code",
   "execution_count": 30,
   "metadata": {
    "execution": {
     "iopub.execute_input": "2020-11-06T19:38:49.994930Z",
     "iopub.status.busy": "2020-11-06T19:38:49.994040Z",
     "iopub.status.idle": "2020-11-06T19:38:51.504390Z",
     "shell.execute_reply": "2020-11-06T19:38:51.503729Z"
    }
   },
   "outputs": [
    {
     "name": "stdout",
     "output_type": "stream",
     "text": [
      "CPU times: user 206 ms, sys: 17.5 ms, total: 223 ms\n",
      "Wall time: 1.52 s\n"
     ]
    },
    {
     "data": {
      "text/plain": [
       "name\n",
       "Alice       18141\n",
       "Bob         12209\n",
       "Charlie     16933\n",
       "Dan         11595\n",
       "Edith       20848\n",
       "Frank       35088\n",
       "George      14019\n",
       "Hannah      20010\n",
       "Ingrid       2394\n",
       "Jerry       17294\n",
       "Kevin       11136\n",
       "Laura       17293\n",
       "Michael     42029\n",
       "Norbert     22075\n",
       "Oliver      14427\n",
       "Patricia    21708\n",
       "Quinn       41190\n",
       "Ray         24653\n",
       "Sarah       16951\n",
       "Tim         19203\n",
       "Ursula       7663\n",
       "Victor      28445\n",
       "Wendy       17757\n",
       "Xavier      17249\n",
       "Yvonne      20962\n",
       "Zelda        8728\n",
       "Name: transaction-id, dtype: int64"
      ]
     },
     "execution_count": 1,
     "metadata": {},
     "output_type": "execute_result"
    }
   ],
   "source": [
    "%%time\n",
    "# number of transactions per name\n",
    "# note that the time here includes the data load and ingestion\n",
    "df.groupby('name')['transaction-id'].count().compute()"
   ]
  },
  {
   "cell_type": "markdown",
   "metadata": {},
   "source": [
    "## Limitations"
   ]
  },
  {
   "cell_type": "markdown",
   "metadata": {},
   "source": [
    "Bags provide very general computation (any Python function.)  This generality\n",
    "comes at cost.  Bags have the following known limitations\n",
    "\n",
    "1.  Bag operations tend to be slower than array/dataframe computations in the\n",
    "    same way that Python tends to be slower than NumPy/Pandas\n",
    "2.  ``Bag.groupby`` is slow.  You should try to use ``Bag.foldby`` if possible.\n",
    "    Using ``Bag.foldby`` requires more thought. Even better, consider creating\n",
    "    a normalised dataframe."
   ]
  },
  {
   "cell_type": "markdown",
   "metadata": {},
   "source": [
    "## Learn More\n",
    "\n",
    "* [Bag documentation](https://docs.dask.org/en/latest/bag.html)\n",
    "* [Bag screencast](https://youtu.be/-qIiJ1XtSv0)\n",
    "* [Bag API](https://docs.dask.org/en/latest/bag-api.html)\n",
    "* [Bag examples](https://examples.dask.org/bag.html)"
   ]
  },
  {
   "cell_type": "markdown",
   "metadata": {},
   "source": [
    "## Shutdown"
   ]
  },
  {
   "cell_type": "code",
   "execution_count": 31,
   "metadata": {
    "execution": {
     "iopub.execute_input": "2020-11-06T19:38:51.509065Z",
     "iopub.status.busy": "2020-11-06T19:38:51.508459Z",
     "iopub.status.idle": "2020-11-06T19:38:53.095402Z",
     "shell.execute_reply": "2020-11-06T19:38:53.094486Z"
    }
   },
   "outputs": [],
   "source": [
    "client.shutdown()"
   ]
  }
 ],
 "metadata": {
  "anaconda-cloud": {},
  "kernelspec": {
   "display_name": "Python 3",
   "language": "python",
   "name": "python3"
  },
  "language_info": {
   "codemirror_mode": {
    "name": "ipython",
    "version": 3
   },
   "file_extension": ".py",
   "mimetype": "text/x-python",
   "name": "python",
   "nbconvert_exporter": "python",
   "pygments_lexer": "ipython3",
   "version": "3.8.6"
  }
 },
 "nbformat": 4,
 "nbformat_minor": 4
}
