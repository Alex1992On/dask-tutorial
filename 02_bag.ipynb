{
 "cells": [
  {
   "cell_type": "markdown",
   "metadata": {},
   "source": [
    "<img src=\"images/dask_horizontal.svg\" align=\"right\" width=\"30%\">"
   ]
  },
  {
   "cell_type": "markdown",
   "metadata": {},
   "source": [
    "# Bag: Parallel Lists for semi-structured data"
   ]
  },
  {
   "cell_type": "markdown",
   "metadata": {},
   "source": [
    "Dask-bag excels in processing data that can be represented as a sequence of arbitrary inputs. We'll refer to this as \"messy\" data, because it can contain complex nested structures, missing fields, mixtures of data types, etc. The *functional* programming style fits very nicely with standard Python iteration, such as can be found in the `itertools` module.\n",
    "\n",
    "Messy data is often encountered at the beginning of data processing pipelines when large volumes of raw data are first consumed. The initial set of data might be JSON, CSV, XML, or any other format that does not enforce strict structure and datatypes.\n",
    "For this reason, the initial data massaging and processing is often done with Python `list`s, `dict`s, and `set`s.\n",
    "\n",
    "These core data structures are optimized for general-purpose storage and processing.  Adding streaming computation with iterators/generator expressions or libraries like `itertools` or [`toolz`](https://toolz.readthedocs.io/en/latest/) let us process large volumes in a small space.  If we combine this with parallel processing then we can churn through a fair amount of data.\n",
    "\n",
    "Dask.bag is a high level Dask collection to automate common workloads of this form.  In a nutshell\n",
    "\n",
    "    dask.bag = map, filter, toolz + parallel execution\n",
    "    \n",
    "**Related Documentation**\n",
    "\n",
    "* [Bag documentation](https://docs.dask.org/en/latest/bag.html)\n",
    "* [Bag screencast](https://youtu.be/-qIiJ1XtSv0)\n",
    "* [Bag API](https://docs.dask.org/en/latest/bag-api.html)\n",
    "* [Bag examples](https://examples.dask.org/bag.html)"
   ]
  },
  {
   "cell_type": "markdown",
   "metadata": {},
   "source": [
    "## Create data"
   ]
  },
  {
   "cell_type": "code",
   "execution_count": 1,
   "metadata": {},
   "outputs": [],
   "source": [
    "%run prep.py -d accounts"
   ]
  },
  {
   "cell_type": "markdown",
   "metadata": {},
   "source": [
    "## Setup"
   ]
  },
  {
   "cell_type": "markdown",
   "metadata": {},
   "source": [
    "Again, we'll use the distributed scheduler. Schedulers will be explained in depth [later](05_distributed.ipynb)."
   ]
  },
  {
   "cell_type": "code",
   "execution_count": 2,
   "metadata": {},
   "outputs": [],
   "source": [
    "from dask.distributed import Client\n",
    "\n",
    "client = Client(n_workers=4)"
   ]
  },
  {
   "cell_type": "markdown",
   "metadata": {},
   "source": [
    "## Creation"
   ]
  },
  {
   "cell_type": "markdown",
   "metadata": {},
   "source": [
    "You can create a `Bag` from a Python sequence, from files, from data on S3, etc.\n",
    "We demonstrate using `.take()` to show elements of the data. (Doing `.take(1)` results in a tuple with one element)\n",
    "\n",
    "Note that the data are partitioned into blocks, and there are many items per block. In the first example, the two partitions contain five elements each, and in the following two, each file is partitioned into one or more bytes blocks."
   ]
  },
  {
   "cell_type": "code",
   "execution_count": 3,
   "metadata": {},
   "outputs": [
    {
     "data": {
      "text/plain": [
       "(1, 2, 3)"
      ]
     },
     "execution_count": 3,
     "metadata": {},
     "output_type": "execute_result"
    }
   ],
   "source": [
    "# each element is an integer\n",
    "import dask.bag as db\n",
    "b = db.from_sequence([1, 2, 3, 4, 5, 6, 7, 8, 9, 10], npartitions=2)\n",
    "b.take(3)"
   ]
  },
  {
   "cell_type": "code",
   "execution_count": 4,
   "metadata": {},
   "outputs": [
    {
     "data": {
      "text/plain": [
       "('{\"id\": 0, \"name\": \"Zelda\", \"transactions\": [{\"transaction-id\": 5530, \"amount\": 941}, {\"transaction-id\": 6480, \"amount\": 870}, {\"transaction-id\": 6620, \"amount\": 905}, {\"transaction-id\": 6930, \"amount\": 892}, {\"transaction-id\": 8023, \"amount\": 854}, {\"transaction-id\": 9573, \"amount\": 871}, {\"transaction-id\": 9700, \"amount\": 945}, {\"transaction-id\": 9948, \"amount\": 999}]}\\n',)"
      ]
     },
     "execution_count": 4,
     "metadata": {},
     "output_type": "execute_result"
    }
   ],
   "source": [
    "# each element is a text file, where each line is a JSON object\n",
    "# note that the compression is handled automatically\n",
    "import os\n",
    "b = db.read_text(os.path.join('data', 'accounts.*.json.gz'))\n",
    "b.take(1)"
   ]
  },
  {
   "cell_type": "code",
   "execution_count": 5,
   "metadata": {},
   "outputs": [
    {
     "data": {
      "text/plain": [
       "('VendorID,tpep_pickup_datetime,tpep_dropoff_datetime,passenger_count,trip_distance,pickup_longitude,pickup_latitude,RateCodeID,store_and_fwd_flag,dropoff_longitude,dropoff_latitude,payment_type,fare_amount,extra,mta_tax,tip_amount,tolls_amount,improvement_surcharge,total_amount\\n',)"
      ]
     },
     "execution_count": 5,
     "metadata": {},
     "output_type": "execute_result"
    }
   ],
   "source": [
    "# Requires `s3fs` library\n",
    "# each partition is a remote CSV text file\n",
    "b = db.read_text('s3://dask-data/nyc-taxi/2015/yellow_tripdata_2015-01.csv',\n",
    "                 storage_options={'anon': True})\n",
    "b.take(1)"
   ]
  },
  {
   "cell_type": "markdown",
   "metadata": {},
   "source": [
    "## Manipulation"
   ]
  },
  {
   "cell_type": "markdown",
   "metadata": {},
   "source": [
    "`Bag` objects hold the standard functional API found in projects like the Python standard library, `toolz`, or `pyspark`, including `map`, `filter`, `groupby`, etc..\n",
    "\n",
    "Operations on `Bag` objects create new bags.  Call the `.compute()` method to trigger execution, as we saw for `Delayed` objects.  "
   ]
  },
  {
   "cell_type": "code",
   "execution_count": 6,
   "metadata": {},
   "outputs": [
    {
     "data": {
      "text/plain": [
       "dask.bag<lambda, npartitions=10>"
      ]
     },
     "execution_count": 6,
     "metadata": {},
     "output_type": "execute_result"
    }
   ],
   "source": [
    "def is_even(n):\n",
    "    return n % 2 == 0\n",
    "\n",
    "b = db.from_sequence([1, 2, 3, 4, 5, 6, 7, 8, 9, 10])\n",
    "c = b.filter(is_even).map(lambda x: x ** 2)\n",
    "c"
   ]
  },
  {
   "cell_type": "code",
   "execution_count": 7,
   "metadata": {},
   "outputs": [
    {
     "data": {
      "text/plain": [
       "[4, 16, 36, 64, 100]"
      ]
     },
     "execution_count": 7,
     "metadata": {},
     "output_type": "execute_result"
    }
   ],
   "source": [
    "# blocking form: wait for completion (which is very fast in this case)\n",
    "c.compute()"
   ]
  },
  {
   "cell_type": "markdown",
   "metadata": {},
   "source": [
    "### Example: Accounts JSON data"
   ]
  },
  {
   "cell_type": "markdown",
   "metadata": {},
   "source": [
    "We've created a fake dataset of gzipped JSON data in your data directory.  This is like the example used in the `DataFrame` example we will see later, except that it has bundled up all of the entires for each individual `id` into a single record.  This is similar to data that you might collect off of a document store database or a web API.\n",
    "\n",
    "Each line is a JSON encoded dictionary with the following keys\n",
    "\n",
    "*  id: Unique identifier of the customer\n",
    "*  name: Name of the customer\n",
    "*  transactions: List of `transaction-id`, `amount` pairs, one for each transaction for the customer in that file"
   ]
  },
  {
   "cell_type": "code",
   "execution_count": 8,
   "metadata": {},
   "outputs": [
    {
     "data": {
      "text/plain": [
       "('{\"id\": 0, \"name\": \"Zelda\", \"transactions\": [{\"transaction-id\": 5530, \"amount\": 941}, {\"transaction-id\": 6480, \"amount\": 870}, {\"transaction-id\": 6620, \"amount\": 905}, {\"transaction-id\": 6930, \"amount\": 892}, {\"transaction-id\": 8023, \"amount\": 854}, {\"transaction-id\": 9573, \"amount\": 871}, {\"transaction-id\": 9700, \"amount\": 945}, {\"transaction-id\": 9948, \"amount\": 999}]}\\n',\n",
       " '{\"id\": 1, \"name\": \"Zelda\", \"transactions\": [{\"transaction-id\": 412, \"amount\": 743}, {\"transaction-id\": 1122, \"amount\": 1151}, {\"transaction-id\": 1223, \"amount\": 1307}, {\"transaction-id\": 1315, \"amount\": 1044}, {\"transaction-id\": 1354, \"amount\": 1062}, {\"transaction-id\": 2149, \"amount\": 914}, {\"transaction-id\": 2451, \"amount\": 1088}, {\"transaction-id\": 2567, \"amount\": 797}, {\"transaction-id\": 3501, \"amount\": 924}, {\"transaction-id\": 4304, \"amount\": 623}, {\"transaction-id\": 4504, \"amount\": 1198}, {\"transaction-id\": 4656, \"amount\": 1031}, {\"transaction-id\": 4739, \"amount\": 922}, {\"transaction-id\": 4949, \"amount\": 1177}, {\"transaction-id\": 5436, \"amount\": 1012}, {\"transaction-id\": 6610, \"amount\": 893}, {\"transaction-id\": 7201, \"amount\": 1080}, {\"transaction-id\": 7881, \"amount\": 904}, {\"transaction-id\": 8044, \"amount\": 1090}, {\"transaction-id\": 8318, \"amount\": 906}, {\"transaction-id\": 9132, \"amount\": 922}, {\"transaction-id\": 9261, \"amount\": 766}, {\"transaction-id\": 9530, \"amount\": 777}, {\"transaction-id\": 9971, \"amount\": 1032}]}\\n',\n",
       " '{\"id\": 2, \"name\": \"Hannah\", \"transactions\": [{\"transaction-id\": 955, \"amount\": 9}, {\"transaction-id\": 1428, \"amount\": 9}, {\"transaction-id\": 2973, \"amount\": 9}, {\"transaction-id\": 4972, \"amount\": 9}, {\"transaction-id\": 5675, \"amount\": 9}, {\"transaction-id\": 6794, \"amount\": 9}, {\"transaction-id\": 7325, \"amount\": 8}, {\"transaction-id\": 7960, \"amount\": 9}, {\"transaction-id\": 7990, \"amount\": 9}, {\"transaction-id\": 9482, \"amount\": 9}]}\\n')"
      ]
     },
     "execution_count": 8,
     "metadata": {},
     "output_type": "execute_result"
    }
   ],
   "source": [
    "filename = os.path.join('data', 'accounts.*.json.gz')\n",
    "lines = db.read_text(filename)\n",
    "lines.take(3)"
   ]
  },
  {
   "cell_type": "markdown",
   "metadata": {},
   "source": [
    "Our data comes out of the file as lines of text. Notice that file decompression happened automatically. We can make this data look more reasonable by mapping the `json.loads` function onto our bag."
   ]
  },
  {
   "cell_type": "code",
   "execution_count": 9,
   "metadata": {},
   "outputs": [
    {
     "data": {
      "text/plain": [
       "({'id': 0,\n",
       "  'name': 'Zelda',\n",
       "  'transactions': [{'transaction-id': 5530, 'amount': 941},\n",
       "   {'transaction-id': 6480, 'amount': 870},\n",
       "   {'transaction-id': 6620, 'amount': 905},\n",
       "   {'transaction-id': 6930, 'amount': 892},\n",
       "   {'transaction-id': 8023, 'amount': 854},\n",
       "   {'transaction-id': 9573, 'amount': 871},\n",
       "   {'transaction-id': 9700, 'amount': 945},\n",
       "   {'transaction-id': 9948, 'amount': 999}]},\n",
       " {'id': 1,\n",
       "  'name': 'Zelda',\n",
       "  'transactions': [{'transaction-id': 412, 'amount': 743},\n",
       "   {'transaction-id': 1122, 'amount': 1151},\n",
       "   {'transaction-id': 1223, 'amount': 1307},\n",
       "   {'transaction-id': 1315, 'amount': 1044},\n",
       "   {'transaction-id': 1354, 'amount': 1062},\n",
       "   {'transaction-id': 2149, 'amount': 914},\n",
       "   {'transaction-id': 2451, 'amount': 1088},\n",
       "   {'transaction-id': 2567, 'amount': 797},\n",
       "   {'transaction-id': 3501, 'amount': 924},\n",
       "   {'transaction-id': 4304, 'amount': 623},\n",
       "   {'transaction-id': 4504, 'amount': 1198},\n",
       "   {'transaction-id': 4656, 'amount': 1031},\n",
       "   {'transaction-id': 4739, 'amount': 922},\n",
       "   {'transaction-id': 4949, 'amount': 1177},\n",
       "   {'transaction-id': 5436, 'amount': 1012},\n",
       "   {'transaction-id': 6610, 'amount': 893},\n",
       "   {'transaction-id': 7201, 'amount': 1080},\n",
       "   {'transaction-id': 7881, 'amount': 904},\n",
       "   {'transaction-id': 8044, 'amount': 1090},\n",
       "   {'transaction-id': 8318, 'amount': 906},\n",
       "   {'transaction-id': 9132, 'amount': 922},\n",
       "   {'transaction-id': 9261, 'amount': 766},\n",
       "   {'transaction-id': 9530, 'amount': 777},\n",
       "   {'transaction-id': 9971, 'amount': 1032}]},\n",
       " {'id': 2,\n",
       "  'name': 'Hannah',\n",
       "  'transactions': [{'transaction-id': 955, 'amount': 9},\n",
       "   {'transaction-id': 1428, 'amount': 9},\n",
       "   {'transaction-id': 2973, 'amount': 9},\n",
       "   {'transaction-id': 4972, 'amount': 9},\n",
       "   {'transaction-id': 5675, 'amount': 9},\n",
       "   {'transaction-id': 6794, 'amount': 9},\n",
       "   {'transaction-id': 7325, 'amount': 8},\n",
       "   {'transaction-id': 7960, 'amount': 9},\n",
       "   {'transaction-id': 7990, 'amount': 9},\n",
       "   {'transaction-id': 9482, 'amount': 9}]})"
      ]
     },
     "execution_count": 9,
     "metadata": {},
     "output_type": "execute_result"
    }
   ],
   "source": [
    "import json\n",
    "js = lines.map(json.loads)\n",
    "# take: inspect first few elements\n",
    "js.take(3)"
   ]
  },
  {
   "cell_type": "markdown",
   "metadata": {},
   "source": [
    "### Basic Queries"
   ]
  },
  {
   "cell_type": "markdown",
   "metadata": {},
   "source": [
    "Once we parse our JSON data into proper Python objects (`dict`s, `list`s, etc.) we can perform more interesting queries by creating small Python functions to run on our data."
   ]
  },
  {
   "cell_type": "code",
   "execution_count": 10,
   "metadata": {},
   "outputs": [
    {
     "data": {
      "text/plain": [
       "({'id': 39,\n",
       "  'name': 'Alice',\n",
       "  'transactions': [{'transaction-id': 953, 'amount': 675},\n",
       "   {'transaction-id': 1559, 'amount': 652},\n",
       "   {'transaction-id': 2910, 'amount': 690},\n",
       "   {'transaction-id': 4389, 'amount': 680},\n",
       "   {'transaction-id': 4850, 'amount': 663},\n",
       "   {'transaction-id': 6049, 'amount': 648},\n",
       "   {'transaction-id': 6115, 'amount': 696},\n",
       "   {'transaction-id': 6939, 'amount': 651},\n",
       "   {'transaction-id': 7572, 'amount': 625},\n",
       "   {'transaction-id': 7581, 'amount': 645},\n",
       "   {'transaction-id': 8145, 'amount': 690},\n",
       "   {'transaction-id': 8491, 'amount': 698},\n",
       "   {'transaction-id': 9053, 'amount': 620},\n",
       "   {'transaction-id': 9925, 'amount': 570}]},\n",
       " {'id': 50,\n",
       "  'name': 'Alice',\n",
       "  'transactions': [{'transaction-id': 1049, 'amount': 3032},\n",
       "   {'transaction-id': 7756, 'amount': 3094},\n",
       "   {'transaction-id': 9179, 'amount': 3206}]},\n",
       " {'id': 70,\n",
       "  'name': 'Alice',\n",
       "  'transactions': [{'transaction-id': 54, 'amount': 1189},\n",
       "   {'transaction-id': 224, 'amount': 1114},\n",
       "   {'transaction-id': 452, 'amount': 1096},\n",
       "   {'transaction-id': 1260, 'amount': 1069},\n",
       "   {'transaction-id': 1294, 'amount': 1182},\n",
       "   {'transaction-id': 1368, 'amount': 1218},\n",
       "   {'transaction-id': 1402, 'amount': 1185},\n",
       "   {'transaction-id': 1498, 'amount': 1137},\n",
       "   {'transaction-id': 1675, 'amount': 1240},\n",
       "   {'transaction-id': 1891, 'amount': 1088},\n",
       "   {'transaction-id': 2242, 'amount': 1239},\n",
       "   {'transaction-id': 2403, 'amount': 1164},\n",
       "   {'transaction-id': 3791, 'amount': 1176},\n",
       "   {'transaction-id': 3920, 'amount': 1092},\n",
       "   {'transaction-id': 4009, 'amount': 1063},\n",
       "   {'transaction-id': 4523, 'amount': 1195},\n",
       "   {'transaction-id': 4524, 'amount': 1096},\n",
       "   {'transaction-id': 4716, 'amount': 1143},\n",
       "   {'transaction-id': 4753, 'amount': 1157},\n",
       "   {'transaction-id': 4851, 'amount': 1072},\n",
       "   {'transaction-id': 5106, 'amount': 1015},\n",
       "   {'transaction-id': 5116, 'amount': 1177},\n",
       "   {'transaction-id': 5230, 'amount': 1031},\n",
       "   {'transaction-id': 5575, 'amount': 1204},\n",
       "   {'transaction-id': 5924, 'amount': 1161},\n",
       "   {'transaction-id': 6145, 'amount': 1157},\n",
       "   {'transaction-id': 6241, 'amount': 1180},\n",
       "   {'transaction-id': 6289, 'amount': 1235},\n",
       "   {'transaction-id': 6611, 'amount': 1113},\n",
       "   {'transaction-id': 6626, 'amount': 1114},\n",
       "   {'transaction-id': 6628, 'amount': 1189},\n",
       "   {'transaction-id': 6638, 'amount': 1141},\n",
       "   {'transaction-id': 6878, 'amount': 1123},\n",
       "   {'transaction-id': 6881, 'amount': 1105},\n",
       "   {'transaction-id': 6998, 'amount': 1113},\n",
       "   {'transaction-id': 7416, 'amount': 1270},\n",
       "   {'transaction-id': 7417, 'amount': 1186},\n",
       "   {'transaction-id': 7858, 'amount': 1065},\n",
       "   {'transaction-id': 7870, 'amount': 1085},\n",
       "   {'transaction-id': 8295, 'amount': 1045},\n",
       "   {'transaction-id': 8792, 'amount': 1092},\n",
       "   {'transaction-id': 8868, 'amount': 1171},\n",
       "   {'transaction-id': 8910, 'amount': 1181},\n",
       "   {'transaction-id': 9165, 'amount': 1090},\n",
       "   {'transaction-id': 9230, 'amount': 1129},\n",
       "   {'transaction-id': 9242, 'amount': 1066},\n",
       "   {'transaction-id': 9312, 'amount': 1025},\n",
       "   {'transaction-id': 9667, 'amount': 1251},\n",
       "   {'transaction-id': 9733, 'amount': 1106},\n",
       "   {'transaction-id': 9806, 'amount': 1290},\n",
       "   {'transaction-id': 9844, 'amount': 1104},\n",
       "   {'transaction-id': 9916, 'amount': 1150}]},\n",
       " {'id': 71,\n",
       "  'name': 'Alice',\n",
       "  'transactions': [{'transaction-id': 63, 'amount': 2892},\n",
       "   {'transaction-id': 98, 'amount': 3608},\n",
       "   {'transaction-id': 654, 'amount': 3075},\n",
       "   {'transaction-id': 738, 'amount': 3550},\n",
       "   {'transaction-id': 778, 'amount': 3026},\n",
       "   {'transaction-id': 818, 'amount': 2984},\n",
       "   {'transaction-id': 957, 'amount': 3815},\n",
       "   {'transaction-id': 1012, 'amount': 2912},\n",
       "   {'transaction-id': 1133, 'amount': 4411},\n",
       "   {'transaction-id': 1143, 'amount': 3292},\n",
       "   {'transaction-id': 1163, 'amount': 3329},\n",
       "   {'transaction-id': 1324, 'amount': 3778},\n",
       "   {'transaction-id': 1497, 'amount': 3924},\n",
       "   {'transaction-id': 1808, 'amount': 3085},\n",
       "   {'transaction-id': 1853, 'amount': 3199},\n",
       "   {'transaction-id': 2445, 'amount': 3792},\n",
       "   {'transaction-id': 2507, 'amount': 3316},\n",
       "   {'transaction-id': 2838, 'amount': 3122},\n",
       "   {'transaction-id': 2892, 'amount': 3371},\n",
       "   {'transaction-id': 2927, 'amount': 3113},\n",
       "   {'transaction-id': 3257, 'amount': 3548},\n",
       "   {'transaction-id': 3309, 'amount': 3162},\n",
       "   {'transaction-id': 3353, 'amount': 3028},\n",
       "   {'transaction-id': 3452, 'amount': 3074},\n",
       "   {'transaction-id': 3557, 'amount': 3842},\n",
       "   {'transaction-id': 3693, 'amount': 3615},\n",
       "   {'transaction-id': 3752, 'amount': 3516},\n",
       "   {'transaction-id': 3875, 'amount': 3330},\n",
       "   {'transaction-id': 4024, 'amount': 3365},\n",
       "   {'transaction-id': 4052, 'amount': 3356},\n",
       "   {'transaction-id': 4161, 'amount': 2954},\n",
       "   {'transaction-id': 4559, 'amount': 3192},\n",
       "   {'transaction-id': 4752, 'amount': 3542},\n",
       "   {'transaction-id': 4860, 'amount': 3052},\n",
       "   {'transaction-id': 5168, 'amount': 3349},\n",
       "   {'transaction-id': 5308, 'amount': 3020},\n",
       "   {'transaction-id': 5452, 'amount': 3012},\n",
       "   {'transaction-id': 5489, 'amount': 4009},\n",
       "   {'transaction-id': 5499, 'amount': 3342},\n",
       "   {'transaction-id': 5606, 'amount': 3198},\n",
       "   {'transaction-id': 5837, 'amount': 3537},\n",
       "   {'transaction-id': 5880, 'amount': 3432},\n",
       "   {'transaction-id': 5891, 'amount': 2895},\n",
       "   {'transaction-id': 6082, 'amount': 3321},\n",
       "   {'transaction-id': 6120, 'amount': 3087},\n",
       "   {'transaction-id': 6153, 'amount': 3145},\n",
       "   {'transaction-id': 6548, 'amount': 2960},\n",
       "   {'transaction-id': 6562, 'amount': 3180},\n",
       "   {'transaction-id': 6829, 'amount': 3175},\n",
       "   {'transaction-id': 6852, 'amount': 3550},\n",
       "   {'transaction-id': 6875, 'amount': 3370},\n",
       "   {'transaction-id': 7405, 'amount': 3011},\n",
       "   {'transaction-id': 7526, 'amount': 3396},\n",
       "   {'transaction-id': 7650, 'amount': 3704},\n",
       "   {'transaction-id': 7714, 'amount': 3178},\n",
       "   {'transaction-id': 7844, 'amount': 3062},\n",
       "   {'transaction-id': 8144, 'amount': 2939},\n",
       "   {'transaction-id': 8316, 'amount': 3628},\n",
       "   {'transaction-id': 8409, 'amount': 3281},\n",
       "   {'transaction-id': 8525, 'amount': 3685},\n",
       "   {'transaction-id': 8552, 'amount': 3060},\n",
       "   {'transaction-id': 8584, 'amount': 3615},\n",
       "   {'transaction-id': 8606, 'amount': 2958},\n",
       "   {'transaction-id': 8681, 'amount': 3094},\n",
       "   {'transaction-id': 8731, 'amount': 3498},\n",
       "   {'transaction-id': 8802, 'amount': 3266},\n",
       "   {'transaction-id': 8857, 'amount': 3322},\n",
       "   {'transaction-id': 8948, 'amount': 3517},\n",
       "   {'transaction-id': 9006, 'amount': 4010},\n",
       "   {'transaction-id': 9180, 'amount': 3161},\n",
       "   {'transaction-id': 9809, 'amount': 3744},\n",
       "   {'transaction-id': 9820, 'amount': 3099},\n",
       "   {'transaction-id': 9934, 'amount': 3588}]},\n",
       " {'id': 107,\n",
       "  'name': 'Alice',\n",
       "  'transactions': [{'transaction-id': 87, 'amount': 175},\n",
       "   {'transaction-id': 406, 'amount': 169},\n",
       "   {'transaction-id': 871, 'amount': 154},\n",
       "   {'transaction-id': 1055, 'amount': 168},\n",
       "   {'transaction-id': 1300, 'amount': 150},\n",
       "   {'transaction-id': 1418, 'amount': 181},\n",
       "   {'transaction-id': 1640, 'amount': 196},\n",
       "   {'transaction-id': 1907, 'amount': 150},\n",
       "   {'transaction-id': 2100, 'amount': 153},\n",
       "   {'transaction-id': 2646, 'amount': 173},\n",
       "   {'transaction-id': 2648, 'amount': 147},\n",
       "   {'transaction-id': 2741, 'amount': 197},\n",
       "   {'transaction-id': 3038, 'amount': 168},\n",
       "   {'transaction-id': 3107, 'amount': 191},\n",
       "   {'transaction-id': 3629, 'amount': 175},\n",
       "   {'transaction-id': 3676, 'amount': 181},\n",
       "   {'transaction-id': 3879, 'amount': 166},\n",
       "   {'transaction-id': 4164, 'amount': 149},\n",
       "   {'transaction-id': 4235, 'amount': 175},\n",
       "   {'transaction-id': 4843, 'amount': 173},\n",
       "   {'transaction-id': 5535, 'amount': 183},\n",
       "   {'transaction-id': 5601, 'amount': 197},\n",
       "   {'transaction-id': 6361, 'amount': 174},\n",
       "   {'transaction-id': 7204, 'amount': 159},\n",
       "   {'transaction-id': 7731, 'amount': 163},\n",
       "   {'transaction-id': 8727, 'amount': 169},\n",
       "   {'transaction-id': 9370, 'amount': 130},\n",
       "   {'transaction-id': 9441, 'amount': 192},\n",
       "   {'transaction-id': 9942, 'amount': 185},\n",
       "   {'transaction-id': 9944, 'amount': 146}]})"
      ]
     },
     "execution_count": 10,
     "metadata": {},
     "output_type": "execute_result"
    }
   ],
   "source": [
    "# filter: keep only some elements of the sequence\n",
    "js.filter(lambda record: record['name'] == 'Alice').take(5)"
   ]
  },
  {
   "cell_type": "code",
   "execution_count": 11,
   "metadata": {},
   "outputs": [
    {
     "data": {
      "text/plain": [
       "({'name': 'Alice', 'count': 14},\n",
       " {'name': 'Alice', 'count': 3},\n",
       " {'name': 'Alice', 'count': 52},\n",
       " {'name': 'Alice', 'count': 73},\n",
       " {'name': 'Alice', 'count': 30})"
      ]
     },
     "execution_count": 11,
     "metadata": {},
     "output_type": "execute_result"
    }
   ],
   "source": [
    "def count_transactions(d):\n",
    "    return {'name': d['name'], 'count': len(d['transactions'])}\n",
    "\n",
    "# map: apply a function to each element\n",
    "(js.filter(lambda record: record['name'] == 'Alice')\n",
    "   .map(count_transactions)\n",
    "   .take(5))"
   ]
  },
  {
   "cell_type": "code",
   "execution_count": 12,
   "metadata": {},
   "outputs": [
    {
     "data": {
      "text/plain": [
       "(14, 3, 52, 73, 30)"
      ]
     },
     "execution_count": 12,
     "metadata": {},
     "output_type": "execute_result"
    }
   ],
   "source": [
    "# pluck: select a field, as from a dictionary, element[field]\n",
    "(js.filter(lambda record: record['name'] == 'Alice')\n",
    "   .map(count_transactions)\n",
    "   .pluck('count')\n",
    "   .take(5))"
   ]
  },
  {
   "cell_type": "code",
   "execution_count": 13,
   "metadata": {},
   "outputs": [
    {
     "data": {
      "text/plain": [
       "41.3425"
      ]
     },
     "execution_count": 13,
     "metadata": {},
     "output_type": "execute_result"
    }
   ],
   "source": [
    "# Average number of transactions for all of the Alice entries\n",
    "(js.filter(lambda record: record['name'] == 'Alice')\n",
    "   .map(count_transactions)\n",
    "   .pluck('count')\n",
    "   .mean()\n",
    "   .compute())"
   ]
  },
  {
   "cell_type": "markdown",
   "metadata": {},
   "source": [
    "### Use `flatten` to de-nest"
   ]
  },
  {
   "cell_type": "markdown",
   "metadata": {},
   "source": [
    "In the example below we see the use of `.flatten()` to flatten results.  We compute the average amount for all transactions for all Alices."
   ]
  },
  {
   "cell_type": "code",
   "execution_count": 14,
   "metadata": {},
   "outputs": [
    {
     "data": {
      "text/plain": [
       "([{'transaction-id': 953, 'amount': 675},\n",
       "  {'transaction-id': 1559, 'amount': 652},\n",
       "  {'transaction-id': 2910, 'amount': 690},\n",
       "  {'transaction-id': 4389, 'amount': 680},\n",
       "  {'transaction-id': 4850, 'amount': 663},\n",
       "  {'transaction-id': 6049, 'amount': 648},\n",
       "  {'transaction-id': 6115, 'amount': 696},\n",
       "  {'transaction-id': 6939, 'amount': 651},\n",
       "  {'transaction-id': 7572, 'amount': 625},\n",
       "  {'transaction-id': 7581, 'amount': 645},\n",
       "  {'transaction-id': 8145, 'amount': 690},\n",
       "  {'transaction-id': 8491, 'amount': 698},\n",
       "  {'transaction-id': 9053, 'amount': 620},\n",
       "  {'transaction-id': 9925, 'amount': 570}],\n",
       " [{'transaction-id': 1049, 'amount': 3032},\n",
       "  {'transaction-id': 7756, 'amount': 3094},\n",
       "  {'transaction-id': 9179, 'amount': 3206}],\n",
       " [{'transaction-id': 54, 'amount': 1189},\n",
       "  {'transaction-id': 224, 'amount': 1114},\n",
       "  {'transaction-id': 452, 'amount': 1096},\n",
       "  {'transaction-id': 1260, 'amount': 1069},\n",
       "  {'transaction-id': 1294, 'amount': 1182},\n",
       "  {'transaction-id': 1368, 'amount': 1218},\n",
       "  {'transaction-id': 1402, 'amount': 1185},\n",
       "  {'transaction-id': 1498, 'amount': 1137},\n",
       "  {'transaction-id': 1675, 'amount': 1240},\n",
       "  {'transaction-id': 1891, 'amount': 1088},\n",
       "  {'transaction-id': 2242, 'amount': 1239},\n",
       "  {'transaction-id': 2403, 'amount': 1164},\n",
       "  {'transaction-id': 3791, 'amount': 1176},\n",
       "  {'transaction-id': 3920, 'amount': 1092},\n",
       "  {'transaction-id': 4009, 'amount': 1063},\n",
       "  {'transaction-id': 4523, 'amount': 1195},\n",
       "  {'transaction-id': 4524, 'amount': 1096},\n",
       "  {'transaction-id': 4716, 'amount': 1143},\n",
       "  {'transaction-id': 4753, 'amount': 1157},\n",
       "  {'transaction-id': 4851, 'amount': 1072},\n",
       "  {'transaction-id': 5106, 'amount': 1015},\n",
       "  {'transaction-id': 5116, 'amount': 1177},\n",
       "  {'transaction-id': 5230, 'amount': 1031},\n",
       "  {'transaction-id': 5575, 'amount': 1204},\n",
       "  {'transaction-id': 5924, 'amount': 1161},\n",
       "  {'transaction-id': 6145, 'amount': 1157},\n",
       "  {'transaction-id': 6241, 'amount': 1180},\n",
       "  {'transaction-id': 6289, 'amount': 1235},\n",
       "  {'transaction-id': 6611, 'amount': 1113},\n",
       "  {'transaction-id': 6626, 'amount': 1114},\n",
       "  {'transaction-id': 6628, 'amount': 1189},\n",
       "  {'transaction-id': 6638, 'amount': 1141},\n",
       "  {'transaction-id': 6878, 'amount': 1123},\n",
       "  {'transaction-id': 6881, 'amount': 1105},\n",
       "  {'transaction-id': 6998, 'amount': 1113},\n",
       "  {'transaction-id': 7416, 'amount': 1270},\n",
       "  {'transaction-id': 7417, 'amount': 1186},\n",
       "  {'transaction-id': 7858, 'amount': 1065},\n",
       "  {'transaction-id': 7870, 'amount': 1085},\n",
       "  {'transaction-id': 8295, 'amount': 1045},\n",
       "  {'transaction-id': 8792, 'amount': 1092},\n",
       "  {'transaction-id': 8868, 'amount': 1171},\n",
       "  {'transaction-id': 8910, 'amount': 1181},\n",
       "  {'transaction-id': 9165, 'amount': 1090},\n",
       "  {'transaction-id': 9230, 'amount': 1129},\n",
       "  {'transaction-id': 9242, 'amount': 1066},\n",
       "  {'transaction-id': 9312, 'amount': 1025},\n",
       "  {'transaction-id': 9667, 'amount': 1251},\n",
       "  {'transaction-id': 9733, 'amount': 1106},\n",
       "  {'transaction-id': 9806, 'amount': 1290},\n",
       "  {'transaction-id': 9844, 'amount': 1104},\n",
       "  {'transaction-id': 9916, 'amount': 1150}])"
      ]
     },
     "execution_count": 14,
     "metadata": {},
     "output_type": "execute_result"
    }
   ],
   "source": [
    "js.filter(lambda record: record['name'] == 'Alice').pluck('transactions').take(3)"
   ]
  },
  {
   "cell_type": "code",
   "execution_count": 15,
   "metadata": {},
   "outputs": [
    {
     "data": {
      "text/plain": [
       "({'transaction-id': 953, 'amount': 675},\n",
       " {'transaction-id': 1559, 'amount': 652},\n",
       " {'transaction-id': 2910, 'amount': 690})"
      ]
     },
     "execution_count": 15,
     "metadata": {},
     "output_type": "execute_result"
    }
   ],
   "source": [
    "(js.filter(lambda record: record['name'] == 'Alice')\n",
    "   .pluck('transactions')\n",
    "   .flatten()\n",
    "   .take(3))"
   ]
  },
  {
   "cell_type": "code",
   "execution_count": 16,
   "metadata": {},
   "outputs": [
    {
     "data": {
      "text/plain": [
       "(675, 652, 690)"
      ]
     },
     "execution_count": 16,
     "metadata": {},
     "output_type": "execute_result"
    }
   ],
   "source": [
    "(js.filter(lambda record: record['name'] == 'Alice')\n",
    "   .pluck('transactions')\n",
    "   .flatten()\n",
    "   .pluck('amount')\n",
    "   .take(3))"
   ]
  },
  {
   "cell_type": "code",
   "execution_count": 17,
   "metadata": {},
   "outputs": [
    {
     "data": {
      "text/plain": [
       "958.9578520892544"
      ]
     },
     "execution_count": 17,
     "metadata": {},
     "output_type": "execute_result"
    }
   ],
   "source": [
    "(js.filter(lambda record: record['name'] == 'Alice')\n",
    "   .pluck('transactions')\n",
    "   .flatten()\n",
    "   .pluck('amount')\n",
    "   .mean()\n",
    "   .compute())"
   ]
  },
  {
   "cell_type": "markdown",
   "metadata": {},
   "source": [
    "### Groupby and Foldby"
   ]
  },
  {
   "cell_type": "markdown",
   "metadata": {},
   "source": [
    "Often we want to group data by some function or key.  We can do this either with the `.groupby` method, which is straightforward but forces a full shuffle of the data (expensive) or with the harder-to-use but faster `.foldby` method, which does a streaming combined groupby and reduction.\n",
    "\n",
    "*  `groupby`:  Shuffles data so that all items with the same key are in the same key-value pair\n",
    "*  `foldby`:  Walks through the data accumulating a result per key\n",
    "\n",
    "*Note: the full groupby is particularly bad. In actual workloads you would do well to use `foldby` or switch to `DataFrame`s if possible.*"
   ]
  },
  {
   "cell_type": "markdown",
   "metadata": {},
   "source": [
    "### `groupby`"
   ]
  },
  {
   "cell_type": "markdown",
   "metadata": {},
   "source": [
    "Groupby collects items in your collection so that all items with the same value under some function are collected together into a key-value pair."
   ]
  },
  {
   "cell_type": "code",
   "execution_count": 18,
   "metadata": {},
   "outputs": [
    {
     "data": {
      "text/plain": [
       "[(7, ['Charlie']), (3, ['Bob', 'Dan']), (5, ['Alice', 'Edith', 'Frank'])]"
      ]
     },
     "execution_count": 18,
     "metadata": {},
     "output_type": "execute_result"
    }
   ],
   "source": [
    "b = db.from_sequence(['Alice', 'Bob', 'Charlie', 'Dan', 'Edith', 'Frank'])\n",
    "b.groupby(len).compute()  # names grouped by length"
   ]
  },
  {
   "cell_type": "code",
   "execution_count": 19,
   "metadata": {},
   "outputs": [
    {
     "data": {
      "text/plain": [
       "[(0, [0, 2, 4, 6, 8]), (1, [1, 3, 5, 7, 9])]"
      ]
     },
     "execution_count": 19,
     "metadata": {},
     "output_type": "execute_result"
    }
   ],
   "source": [
    "b = db.from_sequence(list(range(10)))\n",
    "b.groupby(lambda x: x % 2).compute()"
   ]
  },
  {
   "cell_type": "code",
   "execution_count": 20,
   "metadata": {},
   "outputs": [
    {
     "data": {
      "text/plain": [
       "[(0, 8), (1, 9)]"
      ]
     },
     "execution_count": 20,
     "metadata": {},
     "output_type": "execute_result"
    }
   ],
   "source": [
    "b.groupby(lambda x: x % 2).starmap(lambda k, v: (k, max(v))).compute()"
   ]
  },
  {
   "cell_type": "markdown",
   "metadata": {},
   "source": [
    "### `foldby`"
   ]
  },
  {
   "cell_type": "markdown",
   "metadata": {},
   "source": [
    "Foldby can be quite odd at first.  It is similar to the following functions from other libraries:\n",
    "\n",
    "*  [`toolz.reduceby`](http://toolz.readthedocs.io/en/latest/streaming-analytics.html#streaming-split-apply-combine)\n",
    "*  [`pyspark.RDD.combineByKey`](http://abshinn.github.io/python/apache-spark/2014/10/11/using-combinebykey-in-apache-spark/)\n",
    "\n",
    "When using `foldby` you provide \n",
    "\n",
    "1.  A key function on which to group elements\n",
    "2.  A binary operator such as you would pass to `reduce` that you use to perform reduction per each group\n",
    "3.  A combine binary operator that can combine the results of two `reduce` calls on different parts of your dataset.\n",
    "\n",
    "Your reduction must be associative.  It will happen in parallel in each of the partitions of your dataset.  Then all of these intermediate results will be combined by the `combine` binary operator."
   ]
  },
  {
   "cell_type": "code",
   "execution_count": 21,
   "metadata": {},
   "outputs": [
    {
     "data": {
      "text/plain": [
       "[(0, 8), (1, 9)]"
      ]
     },
     "execution_count": 21,
     "metadata": {},
     "output_type": "execute_result"
    }
   ],
   "source": [
    "is_even = lambda x: x % 2\n",
    "b.foldby(is_even, binop=max, combine=max).compute()"
   ]
  },
  {
   "cell_type": "markdown",
   "metadata": {},
   "source": [
    "### Example with account data"
   ]
  },
  {
   "cell_type": "markdown",
   "metadata": {},
   "source": [
    "We find the number of people with the same name."
   ]
  },
  {
   "cell_type": "code",
   "execution_count": 22,
   "metadata": {},
   "outputs": [
    {
     "name": "stdout",
     "output_type": "stream",
     "text": [
      "[('Alice', 96), ('Alice', 96), ('Alice', 104), ('Alice', 104), ('Bob', 72), ('Bob', 72), ('Bob', 78), ('Bob', 78), ('Charlie', 107), ('Charlie', 107), ('Charlie', 112), ('Charlie', 113), ('Dan', 127), ('Dan', 127), ('Dan', 137), ('Dan', 137), ('Edith', 108), ('Edith', 108), ('Edith', 234), ('Frank', 161), ('Frank', 163), ('Frank', 176), ('Frank', 180), ('George', 67), ('George', 68), ('George', 72), ('George', 73), ('Hannah', 139), ('Hannah', 140), ('Hannah', 149), ('Hannah', 153), ('Ingrid', 132), ('Ingrid', 132), ('Ingrid', 143), ('Ingrid', 143), ('Jerry', 164), ('Jerry', 165), ('Jerry', 175), ('Jerry', 177), ('Kevin', 144), ('Kevin', 144), ('Kevin', 156), ('Kevin', 156), ('Laura', 104), ('Laura', 104), ('Laura', 192), ('Michael', 107), ('Michael', 108), ('Michael', 116), ('Michael', 117), ('Norbert', 107), ('Norbert', 107), ('Norbert', 115), ('Norbert', 117), ('Oliver', 72), ('Oliver', 72), ('Oliver', 78), ('Oliver', 78), ('Patricia', 120), ('Patricia', 120), ('Patricia', 130), ('Patricia', 130), ('Quinn', 95), ('Quinn', 96), ('Quinn', 103), ('Quinn', 104), ('Ray', 138), ('Ray', 139), ('Ray', 152), ('Ray', 153), ('Sarah', 48), ('Sarah', 48), ('Sarah', 52), ('Sarah', 52), ('Tim', 167), ('Tim', 168), ('Tim', 182), ('Tim', 182), ('Ursula', 132), ('Ursula', 133), ('Ursula', 142), ('Ursula', 146), ('Victor', 108), ('Victor', 114), ('Victor', 218), ('Wendy', 108), ('Wendy', 108), ('Wendy', 117), ('Wendy', 117), ('Xavier', 60), ('Xavier', 60), ('Xavier', 65), ('Xavier', 65), ('Yvonne', 124), ('Yvonne', 125), ('Yvonne', 135), ('Yvonne', 136), ('Zelda', 132), ('Zelda', 132), ('Zelda', 143), ('Zelda', 143)]\n",
      "CPU times: user 4.21 s, sys: 343 ms, total: 4.55 s\n",
      "Wall time: 58.4 s\n"
     ]
    }
   ],
   "source": [
    "%%time\n",
    "# Warning, this one takes a while...\n",
    "result = js.groupby(lambda item: item['name']).starmap(lambda k, v: (k, len(v))).compute()\n",
    "print(sorted(result))"
   ]
  },
  {
   "cell_type": "code",
   "execution_count": 23,
   "metadata": {},
   "outputs": [
    {
     "name": "stdout",
     "output_type": "stream",
     "text": [
      "[('Alice', 400), ('Bob', 300), ('Charlie', 439), ('Dan', 528), ('Edith', 450), ('Frank', 680), ('George', 280), ('Hannah', 581), ('Ingrid', 550), ('Jerry', 681), ('Kevin', 600), ('Laura', 400), ('Michael', 448), ('Norbert', 446), ('Oliver', 300), ('Patricia', 500), ('Quinn', 398), ('Ray', 582), ('Sarah', 200), ('Tim', 699), ('Ursula', 553), ('Victor', 440), ('Wendy', 450), ('Xavier', 250), ('Yvonne', 520), ('Zelda', 550)]\n",
      "CPU times: user 172 ms, sys: 10.1 ms, total: 182 ms\n",
      "Wall time: 652 ms\n"
     ]
    }
   ],
   "source": [
    "%%time\n",
    "# This one is comparatively fast and produces the same result.\n",
    "from operator import add\n",
    "def incr(tot, _):\n",
    "    return tot+1\n",
    "\n",
    "result = js.foldby(key='name', \n",
    "                   binop=incr, \n",
    "                   initial=0, \n",
    "                   combine=add, \n",
    "                   combine_initial=0).compute()\n",
    "print(sorted(result))"
   ]
  },
  {
   "cell_type": "markdown",
   "metadata": {},
   "source": [
    "### Exercise: compute total amount per name"
   ]
  },
  {
   "cell_type": "markdown",
   "metadata": {},
   "source": [
    "We want to groupby (or foldby) the `name` key, then add up the all of the amounts for each name.\n",
    "\n",
    "Steps\n",
    "\n",
    "1.  Create a small function that, given a dictionary like \n",
    "\n",
    "        {'name': 'Alice', 'transactions': [{'amount': 1, 'id': 123}, {'amount': 2, 'id': 456}]}\n",
    "        \n",
    "    produces the sum of the amounts, e.g. `3`\n",
    "    \n",
    "2.  Slightly change the binary operator of the `foldby` example above so that the binary operator doesn't count the number of entries, but instead accumulates the sum of the amounts."
   ]
  },
  {
   "cell_type": "code",
   "execution_count": 24,
   "metadata": {},
   "outputs": [],
   "source": [
    "# Your code here..."
   ]
  },
  {
   "cell_type": "markdown",
   "metadata": {},
   "source": [
    "## DataFrames"
   ]
  },
  {
   "cell_type": "markdown",
   "metadata": {},
   "source": [
    "For the same reasons that Pandas is often faster than pure Python, `dask.dataframe` can be faster than `dask.bag`.  We will work more with DataFrames later, but from for the bag point of view, they are frequently the end-point of the \"messy\" part of data ingestion—once the data can be made into a data-frame, then complex split-apply-combine logic will become much more straight-forward and efficient.\n",
    "\n",
    "You can transform a bag with a simple tuple or flat dictionary structure into a `dask.dataframe` with the `to_dataframe` method."
   ]
  },
  {
   "cell_type": "code",
   "execution_count": 25,
   "metadata": {},
   "outputs": [
    {
     "data": {
      "text/html": [
       "<div>\n",
       "<style scoped>\n",
       "    .dataframe tbody tr th:only-of-type {\n",
       "        vertical-align: middle;\n",
       "    }\n",
       "\n",
       "    .dataframe tbody tr th {\n",
       "        vertical-align: top;\n",
       "    }\n",
       "\n",
       "    .dataframe thead th {\n",
       "        text-align: right;\n",
       "    }\n",
       "</style>\n",
       "<table border=\"1\" class=\"dataframe\">\n",
       "  <thead>\n",
       "    <tr style=\"text-align: right;\">\n",
       "      <th></th>\n",
       "      <th>id</th>\n",
       "      <th>name</th>\n",
       "      <th>transactions</th>\n",
       "    </tr>\n",
       "  </thead>\n",
       "  <tbody>\n",
       "    <tr>\n",
       "      <th>0</th>\n",
       "      <td>0</td>\n",
       "      <td>Zelda</td>\n",
       "      <td>[{'transaction-id': 5530, 'amount': 941}, {'tr...</td>\n",
       "    </tr>\n",
       "    <tr>\n",
       "      <th>1</th>\n",
       "      <td>1</td>\n",
       "      <td>Zelda</td>\n",
       "      <td>[{'transaction-id': 412, 'amount': 743}, {'tra...</td>\n",
       "    </tr>\n",
       "    <tr>\n",
       "      <th>2</th>\n",
       "      <td>2</td>\n",
       "      <td>Hannah</td>\n",
       "      <td>[{'transaction-id': 955, 'amount': 9}, {'trans...</td>\n",
       "    </tr>\n",
       "    <tr>\n",
       "      <th>3</th>\n",
       "      <td>3</td>\n",
       "      <td>Tim</td>\n",
       "      <td>[{'transaction-id': 186, 'amount': 306}, {'tra...</td>\n",
       "    </tr>\n",
       "    <tr>\n",
       "      <th>4</th>\n",
       "      <td>4</td>\n",
       "      <td>Tim</td>\n",
       "      <td>[{'transaction-id': 2267, 'amount': -250}, {'t...</td>\n",
       "    </tr>\n",
       "  </tbody>\n",
       "</table>\n",
       "</div>"
      ],
      "text/plain": [
       "   id    name                                       transactions\n",
       "0   0   Zelda  [{'transaction-id': 5530, 'amount': 941}, {'tr...\n",
       "1   1   Zelda  [{'transaction-id': 412, 'amount': 743}, {'tra...\n",
       "2   2  Hannah  [{'transaction-id': 955, 'amount': 9}, {'trans...\n",
       "3   3     Tim  [{'transaction-id': 186, 'amount': 306}, {'tra...\n",
       "4   4     Tim  [{'transaction-id': 2267, 'amount': -250}, {'t..."
      ]
     },
     "execution_count": 25,
     "metadata": {},
     "output_type": "execute_result"
    }
   ],
   "source": [
    "df1 = js.to_dataframe()\n",
    "df1.head()"
   ]
  },
  {
   "cell_type": "markdown",
   "metadata": {},
   "source": [
    "This now looks like a well-defined DataFrame, and we can apply Pandas-like computations to it efficiently."
   ]
  },
  {
   "cell_type": "markdown",
   "metadata": {},
   "source": [
    "Using a Dask DataFrame, how long does it take to do our prior computation of numbers of people with the same name?  It turns out that `dask.dataframe.groupby()` beats `dask.bag.groupby()` more than an order of magnitude; but it still cannot match `dask.bag.foldby()` for this case."
   ]
  },
  {
   "cell_type": "code",
   "execution_count": 26,
   "metadata": {},
   "outputs": [
    {
     "name": "stdout",
     "output_type": "stream",
     "text": [
      "CPU times: user 284 ms, sys: 21.1 ms, total: 305 ms\n",
      "Wall time: 1.98 s\n"
     ]
    },
    {
     "data": {
      "text/plain": [
       "name\n",
       "Alice      400\n",
       "Bob        300\n",
       "Charlie    439\n",
       "Dan        528\n",
       "Edith      450\n",
       "Name: id, dtype: int64"
      ]
     },
     "execution_count": 26,
     "metadata": {},
     "output_type": "execute_result"
    }
   ],
   "source": [
    "%time df1.groupby('name').id.count().compute().head()"
   ]
  },
  {
   "cell_type": "markdown",
   "metadata": {},
   "source": [
    "### Denormalization"
   ]
  },
  {
   "cell_type": "markdown",
   "metadata": {},
   "source": [
    "This DataFrame format is less-than-optimal because the `transactions` column is filled with nested data so Pandas has to revert to `object` dtype, which is quite slow in Pandas.  Ideally we want to transform to a dataframe only after we have flattened our data so that each record is a single `int`, `string`, `float`, etc.."
   ]
  },
  {
   "cell_type": "code",
   "execution_count": 27,
   "metadata": {},
   "outputs": [
    {
     "data": {
      "text/plain": [
       "({'id': 0, 'name': 'Zelda', 'amount': 941, 'transaction-id': 5530},\n",
       " {'id': 0, 'name': 'Zelda', 'amount': 870, 'transaction-id': 6480},\n",
       " {'id': 0, 'name': 'Zelda', 'amount': 905, 'transaction-id': 6620})"
      ]
     },
     "execution_count": 27,
     "metadata": {},
     "output_type": "execute_result"
    }
   ],
   "source": [
    "def denormalize(record):\n",
    "    # returns a list for every nested item, each transaction of each person\n",
    "    return [{'id': record['id'], \n",
    "             'name': record['name'], \n",
    "             'amount': transaction['amount'], \n",
    "             'transaction-id': transaction['transaction-id']}\n",
    "            for transaction in record['transactions']]\n",
    "\n",
    "transactions = js.map(denormalize).flatten()\n",
    "transactions.take(3)"
   ]
  },
  {
   "cell_type": "code",
   "execution_count": 28,
   "metadata": {},
   "outputs": [
    {
     "data": {
      "text/html": [
       "<div>\n",
       "<style scoped>\n",
       "    .dataframe tbody tr th:only-of-type {\n",
       "        vertical-align: middle;\n",
       "    }\n",
       "\n",
       "    .dataframe tbody tr th {\n",
       "        vertical-align: top;\n",
       "    }\n",
       "\n",
       "    .dataframe thead th {\n",
       "        text-align: right;\n",
       "    }\n",
       "</style>\n",
       "<table border=\"1\" class=\"dataframe\">\n",
       "  <thead>\n",
       "    <tr style=\"text-align: right;\">\n",
       "      <th></th>\n",
       "      <th>id</th>\n",
       "      <th>name</th>\n",
       "      <th>amount</th>\n",
       "      <th>transaction-id</th>\n",
       "    </tr>\n",
       "  </thead>\n",
       "  <tbody>\n",
       "    <tr>\n",
       "      <th>0</th>\n",
       "      <td>0</td>\n",
       "      <td>Zelda</td>\n",
       "      <td>941</td>\n",
       "      <td>5530</td>\n",
       "    </tr>\n",
       "    <tr>\n",
       "      <th>1</th>\n",
       "      <td>0</td>\n",
       "      <td>Zelda</td>\n",
       "      <td>870</td>\n",
       "      <td>6480</td>\n",
       "    </tr>\n",
       "    <tr>\n",
       "      <th>2</th>\n",
       "      <td>0</td>\n",
       "      <td>Zelda</td>\n",
       "      <td>905</td>\n",
       "      <td>6620</td>\n",
       "    </tr>\n",
       "    <tr>\n",
       "      <th>3</th>\n",
       "      <td>0</td>\n",
       "      <td>Zelda</td>\n",
       "      <td>892</td>\n",
       "      <td>6930</td>\n",
       "    </tr>\n",
       "    <tr>\n",
       "      <th>4</th>\n",
       "      <td>0</td>\n",
       "      <td>Zelda</td>\n",
       "      <td>854</td>\n",
       "      <td>8023</td>\n",
       "    </tr>\n",
       "  </tbody>\n",
       "</table>\n",
       "</div>"
      ],
      "text/plain": [
       "   id   name  amount  transaction-id\n",
       "0   0  Zelda     941            5530\n",
       "1   0  Zelda     870            6480\n",
       "2   0  Zelda     905            6620\n",
       "3   0  Zelda     892            6930\n",
       "4   0  Zelda     854            8023"
      ]
     },
     "execution_count": 28,
     "metadata": {},
     "output_type": "execute_result"
    }
   ],
   "source": [
    "df = transactions.to_dataframe()\n",
    "df.head()"
   ]
  },
  {
   "cell_type": "code",
   "execution_count": 29,
   "metadata": {},
   "outputs": [
    {
     "name": "stdout",
     "output_type": "stream",
     "text": [
      "CPU times: user 241 ms, sys: 27.1 ms, total: 268 ms\n",
      "Wall time: 1.6 s\n"
     ]
    },
    {
     "data": {
      "text/plain": [
       "name\n",
       "Alice       16537\n",
       "Bob         17483\n",
       "Charlie     24527\n",
       "Dan         18827\n",
       "Edith       20075\n",
       "Frank       20573\n",
       "George      13737\n",
       "Hannah      12224\n",
       "Ingrid      41486\n",
       "Jerry       17985\n",
       "Kevin       14766\n",
       "Laura       15135\n",
       "Michael     17139\n",
       "Norbert     12080\n",
       "Oliver       9022\n",
       "Patricia    16026\n",
       "Quinn       26858\n",
       "Ray         24392\n",
       "Sarah       16588\n",
       "Tim         16016\n",
       "Ursula      22005\n",
       "Victor      11868\n",
       "Wendy       26816\n",
       "Xavier       7857\n",
       "Yvonne      22132\n",
       "Zelda       37846\n",
       "Name: transaction-id, dtype: int64"
      ]
     },
     "execution_count": 29,
     "metadata": {},
     "output_type": "execute_result"
    }
   ],
   "source": [
    "%%time\n",
    "# number of transactions per name\n",
    "# note that the time here includes the data load and ingestion\n",
    "df.groupby('name')['transaction-id'].count().compute()"
   ]
  },
  {
   "cell_type": "markdown",
   "metadata": {},
   "source": [
    "## Limitations"
   ]
  },
  {
   "cell_type": "markdown",
   "metadata": {},
   "source": [
    "Bags provide very general computation (any Python function.)  This generality\n",
    "comes at cost.  Bags have the following known limitations\n",
    "\n",
    "1.  Bag operations tend to be slower than array/dataframe computations in the\n",
    "    same way that Python tends to be slower than NumPy/Pandas\n",
    "2.  ``Bag.groupby`` is slow.  You should try to use ``Bag.foldby`` if possible.\n",
    "    Using ``Bag.foldby`` requires more thought. Even better, consider creating\n",
    "    a normalised dataframe."
   ]
  },
  {
   "cell_type": "markdown",
   "metadata": {},
   "source": [
    "## Learn More\n",
    "\n",
    "* [Bag documentation](https://docs.dask.org/en/latest/bag.html)\n",
    "* [Bag screencast](https://youtu.be/-qIiJ1XtSv0)\n",
    "* [Bag API](https://docs.dask.org/en/latest/bag-api.html)\n",
    "* [Bag examples](https://examples.dask.org/bag.html)"
   ]
  },
  {
   "cell_type": "markdown",
   "metadata": {},
   "source": [
    "## Shutdown"
   ]
  },
  {
   "cell_type": "code",
   "execution_count": 30,
   "metadata": {},
   "outputs": [],
   "source": [
    "client.shutdown()"
   ]
  }
 ],
 "metadata": {
  "anaconda-cloud": {},
  "kernelspec": {
   "display_name": "Python 3",
   "language": "python",
   "name": "python3"
  },
  "language_info": {
   "codemirror_mode": {
    "name": "ipython",
    "version": 3
   },
   "file_extension": ".py",
   "mimetype": "text/x-python",
   "name": "python",
   "nbconvert_exporter": "python",
   "pygments_lexer": "ipython3",
   "version": "3.7.6"
  }
 },
 "nbformat": 4,
 "nbformat_minor": 4
}
