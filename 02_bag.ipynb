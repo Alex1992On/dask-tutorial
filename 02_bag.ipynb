{
 "cells": [
  {
   "cell_type": "markdown",
   "metadata": {},
   "source": [
    "<img src=\"images/dask_horizontal.svg\" align=\"right\" width=\"30%\">"
   ]
  },
  {
   "cell_type": "markdown",
   "metadata": {},
   "source": [
    "# Bag: Parallel Lists for semi-structured data"
   ]
  },
  {
   "cell_type": "markdown",
   "metadata": {},
   "source": [
    "Dask-bag excels in processing data that can be represented as a sequence of arbitrary inputs. We'll refer to this as \"messy\" data, because it can contain complex nested structures, missing fields, mixtures of data types, etc. The *functional* programming style fits very nicely with standard Python iteration, such as can be found in the `itertools` module.\n",
    "\n",
    "Messy data is often encountered at the beginning of data processing pipelines when large volumes of raw data are first consumed. The initial set of data might be JSON, CSV, XML, or any other format that does not enforce strict structure and datatypes.\n",
    "For this reason, the initial data massaging and processing is often done with Python `list`s, `dict`s, and `set`s.\n",
    "\n",
    "These core data structures are optimized for general-purpose storage and processing.  Adding streaming computation with iterators/generator expressions or libraries like `itertools` or [`toolz`](https://toolz.readthedocs.io/en/latest/) let us process large volumes in a small space.  If we combine this with parallel processing then we can churn through a fair amount of data.\n",
    "\n",
    "Dask.bag is a high level Dask collection to automate common workloads of this form.  In a nutshell\n",
    "\n",
    "    dask.bag = map, filter, toolz + parallel execution\n",
    "    \n",
    "**Related Documentation**\n",
    "\n",
    "* [Bag documentation](https://docs.dask.org/en/latest/bag.html)\n",
    "* [Bag screencast](https://youtu.be/-qIiJ1XtSv0)\n",
    "* [Bag API](https://docs.dask.org/en/latest/bag-api.html)\n",
    "* [Bag examples](https://examples.dask.org/bag.html)"
   ]
  },
  {
   "cell_type": "markdown",
   "metadata": {},
   "source": [
    "## Create data"
   ]
  },
  {
   "cell_type": "code",
   "execution_count": 1,
   "metadata": {},
   "outputs": [],
   "source": [
    "%run prep.py -d accounts"
   ]
  },
  {
   "cell_type": "markdown",
   "metadata": {},
   "source": [
    "## Setup"
   ]
  },
  {
   "cell_type": "markdown",
   "metadata": {},
   "source": [
    "Again, we'll use the distributed scheduler. Schedulers will be explained in depth [later](05_distributed.ipynb)."
   ]
  },
  {
   "cell_type": "code",
   "execution_count": 2,
   "metadata": {},
   "outputs": [],
   "source": [
    "from dask.distributed import Client\n",
    "\n",
    "client = Client(n_workers=4)"
   ]
  },
  {
   "cell_type": "markdown",
   "metadata": {},
   "source": [
    "## Creation"
   ]
  },
  {
   "cell_type": "markdown",
   "metadata": {},
   "source": [
    "You can create a `Bag` from a Python sequence, from files, from data on S3, etc.\n",
    "We demonstrate using `.take()` to show elements of the data. (Doing `.take(1)` results in a tuple with one element)\n",
    "\n",
    "Note that the data are partitioned into blocks, and there are many items per block. In the first example, the two partitions contain five elements each, and in the following two, each file is partitioned into one or more bytes blocks."
   ]
  },
  {
   "cell_type": "code",
   "execution_count": 3,
   "metadata": {},
   "outputs": [
    {
     "data": {
      "text/plain": [
       "(1, 2, 3)"
      ]
     },
     "execution_count": 3,
     "metadata": {},
     "output_type": "execute_result"
    }
   ],
   "source": [
    "# each element is an integer\n",
    "import dask.bag as db\n",
    "b = db.from_sequence([1, 2, 3, 4, 5, 6, 7, 8, 9, 10], npartitions=2)\n",
    "b.take(3)"
   ]
  },
  {
   "cell_type": "code",
   "execution_count": 4,
   "metadata": {},
   "outputs": [
    {
     "data": {
      "text/plain": [
       "('{\"id\": 0, \"name\": \"Tim\", \"transactions\": [{\"transaction-id\": 257, \"amount\": 692}, {\"transaction-id\": 744, \"amount\": 695}, {\"transaction-id\": 917, \"amount\": 656}, {\"transaction-id\": 1088, \"amount\": 704}, {\"transaction-id\": 1625, \"amount\": 613}, {\"transaction-id\": 1810, \"amount\": 669}, {\"transaction-id\": 2324, \"amount\": 684}, {\"transaction-id\": 4129, \"amount\": 691}, {\"transaction-id\": 5540, \"amount\": 669}, {\"transaction-id\": 5843, \"amount\": 690}, {\"transaction-id\": 6285, \"amount\": 563}, {\"transaction-id\": 6913, \"amount\": 654}, {\"transaction-id\": 7899, \"amount\": 668}, {\"transaction-id\": 8185, \"amount\": 665}, {\"transaction-id\": 8699, \"amount\": 695}, {\"transaction-id\": 9556, \"amount\": 663}]}\\n',)"
      ]
     },
     "execution_count": 4,
     "metadata": {},
     "output_type": "execute_result"
    }
   ],
   "source": [
    "# each element is a text file, where each line is a JSON object\n",
    "# note that the compression is handled automatically\n",
    "import os\n",
    "b = db.read_text(os.path.join('data', 'accounts.*.json.gz'))\n",
    "b.take(1)"
   ]
  },
  {
   "cell_type": "code",
   "execution_count": 5,
   "metadata": {},
   "outputs": [
    {
     "data": {
      "text/plain": [
       "'s3://dask-data/nyc-taxi/2015/yellow_tripdata_2015-01.csv'"
      ]
     },
     "execution_count": 5,
     "metadata": {},
     "output_type": "execute_result"
    }
   ],
   "source": [
    "# Edit sources.py to configure source locations\n",
    "import sources\n",
    "sources.bag_url"
   ]
  },
  {
   "cell_type": "code",
   "execution_count": 6,
   "metadata": {},
   "outputs": [
    {
     "data": {
      "text/plain": [
       "('VendorID,tpep_pickup_datetime,tpep_dropoff_datetime,passenger_count,trip_distance,pickup_longitude,pickup_latitude,RateCodeID,store_and_fwd_flag,dropoff_longitude,dropoff_latitude,payment_type,fare_amount,extra,mta_tax,tip_amount,tolls_amount,improvement_surcharge,total_amount\\n',)"
      ]
     },
     "execution_count": 6,
     "metadata": {},
     "output_type": "execute_result"
    }
   ],
   "source": [
    "# Requires `s3fs` library\n",
    "# each partition is a remote CSV text file\n",
    "b = db.read_text(sources.bag_url,\n",
    "                 storage_options={'anon': True})\n",
    "b.take(1)"
   ]
  },
  {
   "cell_type": "markdown",
   "metadata": {},
   "source": [
    "## Manipulation"
   ]
  },
  {
   "cell_type": "markdown",
   "metadata": {},
   "source": [
    "`Bag` objects hold the standard functional API found in projects like the Python standard library, `toolz`, or `pyspark`, including `map`, `filter`, `groupby`, etc..\n",
    "\n",
    "Operations on `Bag` objects create new bags.  Call the `.compute()` method to trigger execution, as we saw for `Delayed` objects.  "
   ]
  },
  {
   "cell_type": "code",
   "execution_count": 7,
   "metadata": {},
   "outputs": [
    {
     "data": {
      "text/plain": [
       "dask.bag<lambda, npartitions=10>"
      ]
     },
     "execution_count": 7,
     "metadata": {},
     "output_type": "execute_result"
    }
   ],
   "source": [
    "def is_even(n):\n",
    "    return n % 2 == 0\n",
    "\n",
    "b = db.from_sequence([1, 2, 3, 4, 5, 6, 7, 8, 9, 10])\n",
    "c = b.filter(is_even).map(lambda x: x ** 2)\n",
    "c"
   ]
  },
  {
   "cell_type": "code",
   "execution_count": 8,
   "metadata": {},
   "outputs": [
    {
     "data": {
      "text/plain": [
       "[4, 16, 36, 64, 100]"
      ]
     },
     "execution_count": 8,
     "metadata": {},
     "output_type": "execute_result"
    }
   ],
   "source": [
    "# blocking form: wait for completion (which is very fast in this case)\n",
    "c.compute()"
   ]
  },
  {
   "cell_type": "markdown",
   "metadata": {},
   "source": [
    "### Example: Accounts JSON data"
   ]
  },
  {
   "cell_type": "markdown",
   "metadata": {},
   "source": [
    "We've created a fake dataset of gzipped JSON data in your data directory.  This is like the example used in the `DataFrame` example we will see later, except that it has bundled up all of the entires for each individual `id` into a single record.  This is similar to data that you might collect off of a document store database or a web API.\n",
    "\n",
    "Each line is a JSON encoded dictionary with the following keys\n",
    "\n",
    "*  id: Unique identifier of the customer\n",
    "*  name: Name of the customer\n",
    "*  transactions: List of `transaction-id`, `amount` pairs, one for each transaction for the customer in that file"
   ]
  },
  {
   "cell_type": "code",
   "execution_count": 9,
   "metadata": {},
   "outputs": [
    {
     "data": {
      "text/plain": [
       "('{\"id\": 0, \"name\": \"Tim\", \"transactions\": [{\"transaction-id\": 257, \"amount\": 692}, {\"transaction-id\": 744, \"amount\": 695}, {\"transaction-id\": 917, \"amount\": 656}, {\"transaction-id\": 1088, \"amount\": 704}, {\"transaction-id\": 1625, \"amount\": 613}, {\"transaction-id\": 1810, \"amount\": 669}, {\"transaction-id\": 2324, \"amount\": 684}, {\"transaction-id\": 4129, \"amount\": 691}, {\"transaction-id\": 5540, \"amount\": 669}, {\"transaction-id\": 5843, \"amount\": 690}, {\"transaction-id\": 6285, \"amount\": 563}, {\"transaction-id\": 6913, \"amount\": 654}, {\"transaction-id\": 7899, \"amount\": 668}, {\"transaction-id\": 8185, \"amount\": 665}, {\"transaction-id\": 8699, \"amount\": 695}, {\"transaction-id\": 9556, \"amount\": 663}]}\\n',\n",
       " '{\"id\": 1, \"name\": \"Quinn\", \"transactions\": [{\"transaction-id\": 52, \"amount\": 4}, {\"transaction-id\": 138, \"amount\": 4}, {\"transaction-id\": 292, \"amount\": 4}, {\"transaction-id\": 323, \"amount\": 4}, {\"transaction-id\": 451, \"amount\": 3}, {\"transaction-id\": 559, \"amount\": 4}, {\"transaction-id\": 640, \"amount\": 3}, {\"transaction-id\": 796, \"amount\": 4}, {\"transaction-id\": 950, \"amount\": 4}, {\"transaction-id\": 1027, \"amount\": 4}, {\"transaction-id\": 1030, \"amount\": 4}, {\"transaction-id\": 1059, \"amount\": 4}, {\"transaction-id\": 1120, \"amount\": 4}, {\"transaction-id\": 1141, \"amount\": 4}, {\"transaction-id\": 1408, \"amount\": 4}, {\"transaction-id\": 1522, \"amount\": 3}, {\"transaction-id\": 1525, \"amount\": 4}, {\"transaction-id\": 1792, \"amount\": 4}, {\"transaction-id\": 1901, \"amount\": 4}, {\"transaction-id\": 2059, \"amount\": 4}, {\"transaction-id\": 2303, \"amount\": 4}, {\"transaction-id\": 2322, \"amount\": 4}, {\"transaction-id\": 2397, \"amount\": 4}, {\"transaction-id\": 2590, \"amount\": 4}, {\"transaction-id\": 2674, \"amount\": 4}, {\"transaction-id\": 2859, \"amount\": 4}, {\"transaction-id\": 2879, \"amount\": 4}, {\"transaction-id\": 3103, \"amount\": 4}, {\"transaction-id\": 3179, \"amount\": 4}, {\"transaction-id\": 3377, \"amount\": 4}, {\"transaction-id\": 3547, \"amount\": 4}, {\"transaction-id\": 3705, \"amount\": 4}, {\"transaction-id\": 3724, \"amount\": 3}, {\"transaction-id\": 3738, \"amount\": 4}, {\"transaction-id\": 4014, \"amount\": 3}, {\"transaction-id\": 4029, \"amount\": 4}, {\"transaction-id\": 4515, \"amount\": 4}, {\"transaction-id\": 4585, \"amount\": 3}, {\"transaction-id\": 4758, \"amount\": 4}, {\"transaction-id\": 4784, \"amount\": 4}, {\"transaction-id\": 4989, \"amount\": 4}, {\"transaction-id\": 5084, \"amount\": 4}, {\"transaction-id\": 5131, \"amount\": 3}, {\"transaction-id\": 5203, \"amount\": 3}, {\"transaction-id\": 5359, \"amount\": 4}, {\"transaction-id\": 5480, \"amount\": 4}, {\"transaction-id\": 5550, \"amount\": 4}, {\"transaction-id\": 5748, \"amount\": 4}, {\"transaction-id\": 5890, \"amount\": 3}, {\"transaction-id\": 5902, \"amount\": 3}, {\"transaction-id\": 5970, \"amount\": 4}, {\"transaction-id\": 6001, \"amount\": 3}, {\"transaction-id\": 6144, \"amount\": 4}, {\"transaction-id\": 6290, \"amount\": 4}, {\"transaction-id\": 6423, \"amount\": 4}, {\"transaction-id\": 6590, \"amount\": 4}, {\"transaction-id\": 6627, \"amount\": 4}, {\"transaction-id\": 6639, \"amount\": 4}, {\"transaction-id\": 6722, \"amount\": 4}, {\"transaction-id\": 6729, \"amount\": 3}, {\"transaction-id\": 6759, \"amount\": 4}, {\"transaction-id\": 6812, \"amount\": 3}, {\"transaction-id\": 7532, \"amount\": 4}, {\"transaction-id\": 7639, \"amount\": 4}, {\"transaction-id\": 8145, \"amount\": 4}, {\"transaction-id\": 8322, \"amount\": 4}, {\"transaction-id\": 8378, \"amount\": 3}, {\"transaction-id\": 8513, \"amount\": 4}, {\"transaction-id\": 8868, \"amount\": 4}, {\"transaction-id\": 8884, \"amount\": 4}, {\"transaction-id\": 8909, \"amount\": 4}, {\"transaction-id\": 9001, \"amount\": 3}, {\"transaction-id\": 9251, \"amount\": 4}, {\"transaction-id\": 9479, \"amount\": 4}, {\"transaction-id\": 9571, \"amount\": 4}, {\"transaction-id\": 9606, \"amount\": 4}, {\"transaction-id\": 9694, \"amount\": 3}]}\\n',\n",
       " '{\"id\": 2, \"name\": \"Victor\", \"transactions\": [{\"transaction-id\": 604, \"amount\": -734}, {\"transaction-id\": 803, \"amount\": -427}, {\"transaction-id\": 886, \"amount\": -814}, {\"transaction-id\": 1145, \"amount\": -485}, {\"transaction-id\": 1247, \"amount\": -636}, {\"transaction-id\": 1394, \"amount\": -884}, {\"transaction-id\": 1435, \"amount\": -751}, {\"transaction-id\": 2696, \"amount\": -432}, {\"transaction-id\": 2842, \"amount\": -754}, {\"transaction-id\": 2845, \"amount\": -1003}, {\"transaction-id\": 3416, \"amount\": -831}, {\"transaction-id\": 3486, \"amount\": -351}, {\"transaction-id\": 3735, \"amount\": -587}, {\"transaction-id\": 3812, \"amount\": -736}, {\"transaction-id\": 4155, \"amount\": -810}, {\"transaction-id\": 4302, \"amount\": -944}, {\"transaction-id\": 4370, \"amount\": -725}, {\"transaction-id\": 5130, \"amount\": -792}, {\"transaction-id\": 6017, \"amount\": -247}, {\"transaction-id\": 6028, \"amount\": -471}, {\"transaction-id\": 6208, \"amount\": -739}, {\"transaction-id\": 6248, \"amount\": -781}, {\"transaction-id\": 6713, \"amount\": -610}, {\"transaction-id\": 6799, \"amount\": -742}, {\"transaction-id\": 7304, \"amount\": -449}, {\"transaction-id\": 7392, \"amount\": -707}, {\"transaction-id\": 7469, \"amount\": -921}, {\"transaction-id\": 7713, \"amount\": -693}, {\"transaction-id\": 7916, \"amount\": -659}, {\"transaction-id\": 8259, \"amount\": -821}, {\"transaction-id\": 8489, \"amount\": -959}, {\"transaction-id\": 8490, \"amount\": -233}, {\"transaction-id\": 8700, \"amount\": -567}, {\"transaction-id\": 9109, \"amount\": -423}, {\"transaction-id\": 9156, \"amount\": -311}, {\"transaction-id\": 9488, \"amount\": -817}]}\\n')"
      ]
     },
     "execution_count": 9,
     "metadata": {},
     "output_type": "execute_result"
    }
   ],
   "source": [
    "filename = os.path.join('data', 'accounts.*.json.gz')\n",
    "lines = db.read_text(filename)\n",
    "lines.take(3)"
   ]
  },
  {
   "cell_type": "markdown",
   "metadata": {},
   "source": [
    "Our data comes out of the file as lines of text. Notice that file decompression happened automatically. We can make this data look more reasonable by mapping the `json.loads` function onto our bag."
   ]
  },
  {
   "cell_type": "code",
   "execution_count": 10,
   "metadata": {},
   "outputs": [
    {
     "data": {
      "text/plain": [
       "({'id': 0,\n",
       "  'name': 'Tim',\n",
       "  'transactions': [{'transaction-id': 257, 'amount': 692},\n",
       "   {'transaction-id': 744, 'amount': 695},\n",
       "   {'transaction-id': 917, 'amount': 656},\n",
       "   {'transaction-id': 1088, 'amount': 704},\n",
       "   {'transaction-id': 1625, 'amount': 613},\n",
       "   {'transaction-id': 1810, 'amount': 669},\n",
       "   {'transaction-id': 2324, 'amount': 684},\n",
       "   {'transaction-id': 4129, 'amount': 691},\n",
       "   {'transaction-id': 5540, 'amount': 669},\n",
       "   {'transaction-id': 5843, 'amount': 690},\n",
       "   {'transaction-id': 6285, 'amount': 563},\n",
       "   {'transaction-id': 6913, 'amount': 654},\n",
       "   {'transaction-id': 7899, 'amount': 668},\n",
       "   {'transaction-id': 8185, 'amount': 665},\n",
       "   {'transaction-id': 8699, 'amount': 695},\n",
       "   {'transaction-id': 9556, 'amount': 663}]},\n",
       " {'id': 1,\n",
       "  'name': 'Quinn',\n",
       "  'transactions': [{'transaction-id': 52, 'amount': 4},\n",
       "   {'transaction-id': 138, 'amount': 4},\n",
       "   {'transaction-id': 292, 'amount': 4},\n",
       "   {'transaction-id': 323, 'amount': 4},\n",
       "   {'transaction-id': 451, 'amount': 3},\n",
       "   {'transaction-id': 559, 'amount': 4},\n",
       "   {'transaction-id': 640, 'amount': 3},\n",
       "   {'transaction-id': 796, 'amount': 4},\n",
       "   {'transaction-id': 950, 'amount': 4},\n",
       "   {'transaction-id': 1027, 'amount': 4},\n",
       "   {'transaction-id': 1030, 'amount': 4},\n",
       "   {'transaction-id': 1059, 'amount': 4},\n",
       "   {'transaction-id': 1120, 'amount': 4},\n",
       "   {'transaction-id': 1141, 'amount': 4},\n",
       "   {'transaction-id': 1408, 'amount': 4},\n",
       "   {'transaction-id': 1522, 'amount': 3},\n",
       "   {'transaction-id': 1525, 'amount': 4},\n",
       "   {'transaction-id': 1792, 'amount': 4},\n",
       "   {'transaction-id': 1901, 'amount': 4},\n",
       "   {'transaction-id': 2059, 'amount': 4},\n",
       "   {'transaction-id': 2303, 'amount': 4},\n",
       "   {'transaction-id': 2322, 'amount': 4},\n",
       "   {'transaction-id': 2397, 'amount': 4},\n",
       "   {'transaction-id': 2590, 'amount': 4},\n",
       "   {'transaction-id': 2674, 'amount': 4},\n",
       "   {'transaction-id': 2859, 'amount': 4},\n",
       "   {'transaction-id': 2879, 'amount': 4},\n",
       "   {'transaction-id': 3103, 'amount': 4},\n",
       "   {'transaction-id': 3179, 'amount': 4},\n",
       "   {'transaction-id': 3377, 'amount': 4},\n",
       "   {'transaction-id': 3547, 'amount': 4},\n",
       "   {'transaction-id': 3705, 'amount': 4},\n",
       "   {'transaction-id': 3724, 'amount': 3},\n",
       "   {'transaction-id': 3738, 'amount': 4},\n",
       "   {'transaction-id': 4014, 'amount': 3},\n",
       "   {'transaction-id': 4029, 'amount': 4},\n",
       "   {'transaction-id': 4515, 'amount': 4},\n",
       "   {'transaction-id': 4585, 'amount': 3},\n",
       "   {'transaction-id': 4758, 'amount': 4},\n",
       "   {'transaction-id': 4784, 'amount': 4},\n",
       "   {'transaction-id': 4989, 'amount': 4},\n",
       "   {'transaction-id': 5084, 'amount': 4},\n",
       "   {'transaction-id': 5131, 'amount': 3},\n",
       "   {'transaction-id': 5203, 'amount': 3},\n",
       "   {'transaction-id': 5359, 'amount': 4},\n",
       "   {'transaction-id': 5480, 'amount': 4},\n",
       "   {'transaction-id': 5550, 'amount': 4},\n",
       "   {'transaction-id': 5748, 'amount': 4},\n",
       "   {'transaction-id': 5890, 'amount': 3},\n",
       "   {'transaction-id': 5902, 'amount': 3},\n",
       "   {'transaction-id': 5970, 'amount': 4},\n",
       "   {'transaction-id': 6001, 'amount': 3},\n",
       "   {'transaction-id': 6144, 'amount': 4},\n",
       "   {'transaction-id': 6290, 'amount': 4},\n",
       "   {'transaction-id': 6423, 'amount': 4},\n",
       "   {'transaction-id': 6590, 'amount': 4},\n",
       "   {'transaction-id': 6627, 'amount': 4},\n",
       "   {'transaction-id': 6639, 'amount': 4},\n",
       "   {'transaction-id': 6722, 'amount': 4},\n",
       "   {'transaction-id': 6729, 'amount': 3},\n",
       "   {'transaction-id': 6759, 'amount': 4},\n",
       "   {'transaction-id': 6812, 'amount': 3},\n",
       "   {'transaction-id': 7532, 'amount': 4},\n",
       "   {'transaction-id': 7639, 'amount': 4},\n",
       "   {'transaction-id': 8145, 'amount': 4},\n",
       "   {'transaction-id': 8322, 'amount': 4},\n",
       "   {'transaction-id': 8378, 'amount': 3},\n",
       "   {'transaction-id': 8513, 'amount': 4},\n",
       "   {'transaction-id': 8868, 'amount': 4},\n",
       "   {'transaction-id': 8884, 'amount': 4},\n",
       "   {'transaction-id': 8909, 'amount': 4},\n",
       "   {'transaction-id': 9001, 'amount': 3},\n",
       "   {'transaction-id': 9251, 'amount': 4},\n",
       "   {'transaction-id': 9479, 'amount': 4},\n",
       "   {'transaction-id': 9571, 'amount': 4},\n",
       "   {'transaction-id': 9606, 'amount': 4},\n",
       "   {'transaction-id': 9694, 'amount': 3}]},\n",
       " {'id': 2,\n",
       "  'name': 'Victor',\n",
       "  'transactions': [{'transaction-id': 604, 'amount': -734},\n",
       "   {'transaction-id': 803, 'amount': -427},\n",
       "   {'transaction-id': 886, 'amount': -814},\n",
       "   {'transaction-id': 1145, 'amount': -485},\n",
       "   {'transaction-id': 1247, 'amount': -636},\n",
       "   {'transaction-id': 1394, 'amount': -884},\n",
       "   {'transaction-id': 1435, 'amount': -751},\n",
       "   {'transaction-id': 2696, 'amount': -432},\n",
       "   {'transaction-id': 2842, 'amount': -754},\n",
       "   {'transaction-id': 2845, 'amount': -1003},\n",
       "   {'transaction-id': 3416, 'amount': -831},\n",
       "   {'transaction-id': 3486, 'amount': -351},\n",
       "   {'transaction-id': 3735, 'amount': -587},\n",
       "   {'transaction-id': 3812, 'amount': -736},\n",
       "   {'transaction-id': 4155, 'amount': -810},\n",
       "   {'transaction-id': 4302, 'amount': -944},\n",
       "   {'transaction-id': 4370, 'amount': -725},\n",
       "   {'transaction-id': 5130, 'amount': -792},\n",
       "   {'transaction-id': 6017, 'amount': -247},\n",
       "   {'transaction-id': 6028, 'amount': -471},\n",
       "   {'transaction-id': 6208, 'amount': -739},\n",
       "   {'transaction-id': 6248, 'amount': -781},\n",
       "   {'transaction-id': 6713, 'amount': -610},\n",
       "   {'transaction-id': 6799, 'amount': -742},\n",
       "   {'transaction-id': 7304, 'amount': -449},\n",
       "   {'transaction-id': 7392, 'amount': -707},\n",
       "   {'transaction-id': 7469, 'amount': -921},\n",
       "   {'transaction-id': 7713, 'amount': -693},\n",
       "   {'transaction-id': 7916, 'amount': -659},\n",
       "   {'transaction-id': 8259, 'amount': -821},\n",
       "   {'transaction-id': 8489, 'amount': -959},\n",
       "   {'transaction-id': 8490, 'amount': -233},\n",
       "   {'transaction-id': 8700, 'amount': -567},\n",
       "   {'transaction-id': 9109, 'amount': -423},\n",
       "   {'transaction-id': 9156, 'amount': -311},\n",
       "   {'transaction-id': 9488, 'amount': -817}]})"
      ]
     },
     "execution_count": 10,
     "metadata": {},
     "output_type": "execute_result"
    }
   ],
   "source": [
    "import json\n",
    "js = lines.map(json.loads)\n",
    "# take: inspect first few elements\n",
    "js.take(3)"
   ]
  },
  {
   "cell_type": "markdown",
   "metadata": {},
   "source": [
    "### Basic Queries"
   ]
  },
  {
   "cell_type": "markdown",
   "metadata": {},
   "source": [
    "Once we parse our JSON data into proper Python objects (`dict`s, `list`s, etc.) we can perform more interesting queries by creating small Python functions to run on our data."
   ]
  },
  {
   "cell_type": "code",
   "execution_count": 11,
   "metadata": {},
   "outputs": [
    {
     "data": {
      "text/plain": [
       "({'id': 4,\n",
       "  'name': 'Alice',\n",
       "  'transactions': [{'transaction-id': 33, 'amount': 6},\n",
       "   {'transaction-id': 135, 'amount': 8},\n",
       "   {'transaction-id': 1022, 'amount': 8},\n",
       "   {'transaction-id': 1649, 'amount': 6},\n",
       "   {'transaction-id': 1806, 'amount': 8},\n",
       "   {'transaction-id': 2114, 'amount': 7},\n",
       "   {'transaction-id': 2121, 'amount': 7},\n",
       "   {'transaction-id': 2344, 'amount': 7},\n",
       "   {'transaction-id': 2380, 'amount': 9},\n",
       "   {'transaction-id': 2490, 'amount': 9},\n",
       "   {'transaction-id': 2598, 'amount': 9},\n",
       "   {'transaction-id': 2599, 'amount': 7},\n",
       "   {'transaction-id': 2781, 'amount': 6},\n",
       "   {'transaction-id': 2822, 'amount': 7},\n",
       "   {'transaction-id': 2936, 'amount': 6},\n",
       "   {'transaction-id': 3101, 'amount': 7},\n",
       "   {'transaction-id': 3116, 'amount': 6},\n",
       "   {'transaction-id': 3216, 'amount': 8},\n",
       "   {'transaction-id': 3399, 'amount': 8},\n",
       "   {'transaction-id': 3434, 'amount': 7},\n",
       "   {'transaction-id': 3582, 'amount': 9},\n",
       "   {'transaction-id': 3666, 'amount': 8},\n",
       "   {'transaction-id': 3678, 'amount': 8},\n",
       "   {'transaction-id': 3727, 'amount': 7},\n",
       "   {'transaction-id': 3801, 'amount': 5},\n",
       "   {'transaction-id': 3815, 'amount': 5},\n",
       "   {'transaction-id': 3912, 'amount': 9},\n",
       "   {'transaction-id': 4164, 'amount': 7},\n",
       "   {'transaction-id': 4464, 'amount': 7},\n",
       "   {'transaction-id': 4605, 'amount': 10},\n",
       "   {'transaction-id': 4700, 'amount': 8},\n",
       "   {'transaction-id': 4991, 'amount': 7},\n",
       "   {'transaction-id': 5734, 'amount': 8},\n",
       "   {'transaction-id': 5742, 'amount': 8},\n",
       "   {'transaction-id': 5880, 'amount': 7},\n",
       "   {'transaction-id': 5992, 'amount': 7},\n",
       "   {'transaction-id': 6013, 'amount': 7},\n",
       "   {'transaction-id': 6245, 'amount': 6},\n",
       "   {'transaction-id': 6296, 'amount': 8},\n",
       "   {'transaction-id': 6365, 'amount': 9},\n",
       "   {'transaction-id': 6593, 'amount': 8},\n",
       "   {'transaction-id': 6607, 'amount': 9},\n",
       "   {'transaction-id': 6825, 'amount': 7},\n",
       "   {'transaction-id': 6961, 'amount': 7},\n",
       "   {'transaction-id': 7193, 'amount': 7},\n",
       "   {'transaction-id': 7269, 'amount': 7},\n",
       "   {'transaction-id': 7298, 'amount': 6},\n",
       "   {'transaction-id': 7301, 'amount': 7},\n",
       "   {'transaction-id': 7337, 'amount': 7},\n",
       "   {'transaction-id': 7522, 'amount': 7},\n",
       "   {'transaction-id': 7659, 'amount': 5},\n",
       "   {'transaction-id': 7827, 'amount': 9},\n",
       "   {'transaction-id': 7849, 'amount': 9},\n",
       "   {'transaction-id': 7963, 'amount': 6},\n",
       "   {'transaction-id': 8519, 'amount': 7},\n",
       "   {'transaction-id': 8551, 'amount': 6},\n",
       "   {'transaction-id': 8661, 'amount': 7},\n",
       "   {'transaction-id': 8824, 'amount': 8},\n",
       "   {'transaction-id': 8860, 'amount': 6},\n",
       "   {'transaction-id': 9229, 'amount': 7},\n",
       "   {'transaction-id': 9596, 'amount': 8},\n",
       "   {'transaction-id': 9815, 'amount': 8},\n",
       "   {'transaction-id': 9826, 'amount': 8},\n",
       "   {'transaction-id': 9980, 'amount': 8}]},\n",
       " {'id': 103,\n",
       "  'name': 'Alice',\n",
       "  'transactions': [{'transaction-id': 9, 'amount': -16},\n",
       "   {'transaction-id': 136, 'amount': -28},\n",
       "   {'transaction-id': 172, 'amount': 0},\n",
       "   {'transaction-id': 239, 'amount': 23},\n",
       "   {'transaction-id': 414, 'amount': 7},\n",
       "   {'transaction-id': 772, 'amount': 3},\n",
       "   {'transaction-id': 812, 'amount': 14},\n",
       "   {'transaction-id': 820, 'amount': -2},\n",
       "   {'transaction-id': 928, 'amount': -2},\n",
       "   {'transaction-id': 1114, 'amount': 2},\n",
       "   {'transaction-id': 1147, 'amount': 2},\n",
       "   {'transaction-id': 1263, 'amount': -35},\n",
       "   {'transaction-id': 1341, 'amount': -27},\n",
       "   {'transaction-id': 1373, 'amount': 14},\n",
       "   {'transaction-id': 1610, 'amount': -30},\n",
       "   {'transaction-id': 1702, 'amount': -5},\n",
       "   {'transaction-id': 1911, 'amount': 11},\n",
       "   {'transaction-id': 1939, 'amount': -29},\n",
       "   {'transaction-id': 1943, 'amount': 14},\n",
       "   {'transaction-id': 2019, 'amount': -23},\n",
       "   {'transaction-id': 2034, 'amount': -1},\n",
       "   {'transaction-id': 2117, 'amount': 0},\n",
       "   {'transaction-id': 2206, 'amount': -10},\n",
       "   {'transaction-id': 2422, 'amount': 11},\n",
       "   {'transaction-id': 2688, 'amount': -2},\n",
       "   {'transaction-id': 2905, 'amount': -21},\n",
       "   {'transaction-id': 3005, 'amount': 1},\n",
       "   {'transaction-id': 3217, 'amount': -26},\n",
       "   {'transaction-id': 3261, 'amount': -2},\n",
       "   {'transaction-id': 3311, 'amount': -15},\n",
       "   {'transaction-id': 3388, 'amount': 2},\n",
       "   {'transaction-id': 3487, 'amount': -8},\n",
       "   {'transaction-id': 3779, 'amount': -35},\n",
       "   {'transaction-id': 3926, 'amount': -7},\n",
       "   {'transaction-id': 3945, 'amount': 4},\n",
       "   {'transaction-id': 3983, 'amount': 0},\n",
       "   {'transaction-id': 4019, 'amount': 3},\n",
       "   {'transaction-id': 4068, 'amount': -6},\n",
       "   {'transaction-id': 4117, 'amount': -11},\n",
       "   {'transaction-id': 4319, 'amount': 11},\n",
       "   {'transaction-id': 4522, 'amount': -7},\n",
       "   {'transaction-id': 4595, 'amount': -6},\n",
       "   {'transaction-id': 4705, 'amount': -12},\n",
       "   {'transaction-id': 4881, 'amount': -14},\n",
       "   {'transaction-id': 5018, 'amount': 7},\n",
       "   {'transaction-id': 5147, 'amount': -6},\n",
       "   {'transaction-id': 5166, 'amount': 2},\n",
       "   {'transaction-id': 5334, 'amount': 0},\n",
       "   {'transaction-id': 5425, 'amount': 0},\n",
       "   {'transaction-id': 5611, 'amount': 10},\n",
       "   {'transaction-id': 5623, 'amount': 9},\n",
       "   {'transaction-id': 5761, 'amount': 0},\n",
       "   {'transaction-id': 5776, 'amount': 0},\n",
       "   {'transaction-id': 5912, 'amount': 8},\n",
       "   {'transaction-id': 6020, 'amount': -16},\n",
       "   {'transaction-id': 6241, 'amount': -6},\n",
       "   {'transaction-id': 6440, 'amount': 1},\n",
       "   {'transaction-id': 6644, 'amount': 7},\n",
       "   {'transaction-id': 6907, 'amount': -1},\n",
       "   {'transaction-id': 7015, 'amount': 14},\n",
       "   {'transaction-id': 7333, 'amount': -1},\n",
       "   {'transaction-id': 7533, 'amount': -30},\n",
       "   {'transaction-id': 7624, 'amount': -3},\n",
       "   {'transaction-id': 7958, 'amount': -20},\n",
       "   {'transaction-id': 7965, 'amount': -8},\n",
       "   {'transaction-id': 7973, 'amount': -26},\n",
       "   {'transaction-id': 8025, 'amount': -16},\n",
       "   {'transaction-id': 8184, 'amount': 24},\n",
       "   {'transaction-id': 8425, 'amount': 0},\n",
       "   {'transaction-id': 8773, 'amount': 12},\n",
       "   {'transaction-id': 8956, 'amount': 0},\n",
       "   {'transaction-id': 9055, 'amount': -4},\n",
       "   {'transaction-id': 9077, 'amount': -17},\n",
       "   {'transaction-id': 9096, 'amount': -8},\n",
       "   {'transaction-id': 9435, 'amount': 0},\n",
       "   {'transaction-id': 9577, 'amount': -21}]},\n",
       " {'id': 140,\n",
       "  'name': 'Alice',\n",
       "  'transactions': [{'transaction-id': 147, 'amount': 87},\n",
       "   {'transaction-id': 195, 'amount': 85},\n",
       "   {'transaction-id': 214, 'amount': 84},\n",
       "   {'transaction-id': 361, 'amount': 101},\n",
       "   {'transaction-id': 512, 'amount': 83},\n",
       "   {'transaction-id': 673, 'amount': 95},\n",
       "   {'transaction-id': 740, 'amount': 85},\n",
       "   {'transaction-id': 1048, 'amount': 110},\n",
       "   {'transaction-id': 1175, 'amount': 104},\n",
       "   {'transaction-id': 1300, 'amount': 73},\n",
       "   {'transaction-id': 1503, 'amount': 96},\n",
       "   {'transaction-id': 1562, 'amount': 108},\n",
       "   {'transaction-id': 1820, 'amount': 87},\n",
       "   {'transaction-id': 2044, 'amount': 99},\n",
       "   {'transaction-id': 2097, 'amount': 61},\n",
       "   {'transaction-id': 2134, 'amount': 58},\n",
       "   {'transaction-id': 2386, 'amount': 104},\n",
       "   {'transaction-id': 2538, 'amount': 89},\n",
       "   {'transaction-id': 2620, 'amount': 95},\n",
       "   {'transaction-id': 2943, 'amount': 116},\n",
       "   {'transaction-id': 2982, 'amount': 81},\n",
       "   {'transaction-id': 3013, 'amount': 101},\n",
       "   {'transaction-id': 3347, 'amount': 99},\n",
       "   {'transaction-id': 3354, 'amount': 88},\n",
       "   {'transaction-id': 3386, 'amount': 86},\n",
       "   {'transaction-id': 3402, 'amount': 101},\n",
       "   {'transaction-id': 3443, 'amount': 91},\n",
       "   {'transaction-id': 3564, 'amount': 93},\n",
       "   {'transaction-id': 3721, 'amount': 100},\n",
       "   {'transaction-id': 3951, 'amount': 79},\n",
       "   {'transaction-id': 4016, 'amount': 86},\n",
       "   {'transaction-id': 4022, 'amount': 83},\n",
       "   {'transaction-id': 4069, 'amount': 92},\n",
       "   {'transaction-id': 4238, 'amount': 77},\n",
       "   {'transaction-id': 4303, 'amount': 85},\n",
       "   {'transaction-id': 4382, 'amount': 97},\n",
       "   {'transaction-id': 4460, 'amount': 93},\n",
       "   {'transaction-id': 4607, 'amount': 73},\n",
       "   {'transaction-id': 4733, 'amount': 104},\n",
       "   {'transaction-id': 4810, 'amount': 94},\n",
       "   {'transaction-id': 5343, 'amount': 100},\n",
       "   {'transaction-id': 5362, 'amount': 100},\n",
       "   {'transaction-id': 5385, 'amount': 93},\n",
       "   {'transaction-id': 5433, 'amount': 91},\n",
       "   {'transaction-id': 5536, 'amount': 104},\n",
       "   {'transaction-id': 5564, 'amount': 93},\n",
       "   {'transaction-id': 5626, 'amount': 80},\n",
       "   {'transaction-id': 5872, 'amount': 109},\n",
       "   {'transaction-id': 5874, 'amount': 100},\n",
       "   {'transaction-id': 6041, 'amount': 73},\n",
       "   {'transaction-id': 6104, 'amount': 75},\n",
       "   {'transaction-id': 6277, 'amount': 107},\n",
       "   {'transaction-id': 6283, 'amount': 98},\n",
       "   {'transaction-id': 6450, 'amount': 84},\n",
       "   {'transaction-id': 6649, 'amount': 98},\n",
       "   {'transaction-id': 6958, 'amount': 81},\n",
       "   {'transaction-id': 7076, 'amount': 93},\n",
       "   {'transaction-id': 7153, 'amount': 85},\n",
       "   {'transaction-id': 7188, 'amount': 87},\n",
       "   {'transaction-id': 7220, 'amount': 92},\n",
       "   {'transaction-id': 7250, 'amount': 84},\n",
       "   {'transaction-id': 7539, 'amount': 81},\n",
       "   {'transaction-id': 7673, 'amount': 104},\n",
       "   {'transaction-id': 7758, 'amount': 92},\n",
       "   {'transaction-id': 7844, 'amount': 84},\n",
       "   {'transaction-id': 8177, 'amount': 93},\n",
       "   {'transaction-id': 8391, 'amount': 103},\n",
       "   {'transaction-id': 8463, 'amount': 86},\n",
       "   {'transaction-id': 8529, 'amount': 108},\n",
       "   {'transaction-id': 8616, 'amount': 88},\n",
       "   {'transaction-id': 8641, 'amount': 74},\n",
       "   {'transaction-id': 8701, 'amount': 83},\n",
       "   {'transaction-id': 8788, 'amount': 102},\n",
       "   {'transaction-id': 8798, 'amount': 87},\n",
       "   {'transaction-id': 8839, 'amount': 90},\n",
       "   {'transaction-id': 8858, 'amount': 80},\n",
       "   {'transaction-id': 8885, 'amount': 66},\n",
       "   {'transaction-id': 9014, 'amount': 67},\n",
       "   {'transaction-id': 9064, 'amount': 116},\n",
       "   {'transaction-id': 9391, 'amount': 80},\n",
       "   {'transaction-id': 9408, 'amount': 83},\n",
       "   {'transaction-id': 9519, 'amount': 85},\n",
       "   {'transaction-id': 9527, 'amount': 90},\n",
       "   {'transaction-id': 9602, 'amount': 85},\n",
       "   {'transaction-id': 9644, 'amount': 93},\n",
       "   {'transaction-id': 9879, 'amount': 87}]},\n",
       " {'id': 141,\n",
       "  'name': 'Alice',\n",
       "  'transactions': [{'transaction-id': 511, 'amount': 813},\n",
       "   {'transaction-id': 868, 'amount': 673},\n",
       "   {'transaction-id': 1402, 'amount': 777},\n",
       "   {'transaction-id': 1650, 'amount': 748},\n",
       "   {'transaction-id': 2189, 'amount': 660},\n",
       "   {'transaction-id': 2535, 'amount': 832},\n",
       "   {'transaction-id': 2700, 'amount': 810},\n",
       "   {'transaction-id': 3178, 'amount': 998},\n",
       "   {'transaction-id': 3512, 'amount': 959},\n",
       "   {'transaction-id': 3563, 'amount': 721},\n",
       "   {'transaction-id': 3942, 'amount': 633},\n",
       "   {'transaction-id': 4482, 'amount': 706},\n",
       "   {'transaction-id': 4596, 'amount': 693},\n",
       "   {'transaction-id': 4647, 'amount': 737},\n",
       "   {'transaction-id': 4806, 'amount': 944},\n",
       "   {'transaction-id': 5677, 'amount': 720},\n",
       "   {'transaction-id': 6109, 'amount': 537},\n",
       "   {'transaction-id': 6697, 'amount': 882},\n",
       "   {'transaction-id': 6779, 'amount': 854},\n",
       "   {'transaction-id': 6923, 'amount': 699},\n",
       "   {'transaction-id': 7245, 'amount': 600},\n",
       "   {'transaction-id': 7527, 'amount': 812},\n",
       "   {'transaction-id': 7762, 'amount': 819},\n",
       "   {'transaction-id': 7763, 'amount': 856},\n",
       "   {'transaction-id': 8039, 'amount': 731},\n",
       "   {'transaction-id': 8043, 'amount': 922},\n",
       "   {'transaction-id': 8063, 'amount': 656},\n",
       "   {'transaction-id': 8380, 'amount': 526},\n",
       "   {'transaction-id': 8471, 'amount': 842},\n",
       "   {'transaction-id': 8835, 'amount': 1031},\n",
       "   {'transaction-id': 9066, 'amount': 762},\n",
       "   {'transaction-id': 9727, 'amount': 824},\n",
       "   {'transaction-id': 9909, 'amount': 868}]},\n",
       " {'id': 174,\n",
       "  'name': 'Alice',\n",
       "  'transactions': [{'transaction-id': 93, 'amount': 1034},\n",
       "   {'transaction-id': 154, 'amount': 1591},\n",
       "   {'transaction-id': 207, 'amount': 1361},\n",
       "   {'transaction-id': 300, 'amount': 1393},\n",
       "   {'transaction-id': 583, 'amount': 1086},\n",
       "   {'transaction-id': 653, 'amount': 1274},\n",
       "   {'transaction-id': 881, 'amount': 1387},\n",
       "   {'transaction-id': 1158, 'amount': 1290},\n",
       "   {'transaction-id': 1251, 'amount': 1438},\n",
       "   {'transaction-id': 1375, 'amount': 1161},\n",
       "   {'transaction-id': 1785, 'amount': 1358},\n",
       "   {'transaction-id': 2277, 'amount': 1209},\n",
       "   {'transaction-id': 2286, 'amount': 1071},\n",
       "   {'transaction-id': 2287, 'amount': 1312},\n",
       "   {'transaction-id': 2310, 'amount': 1219},\n",
       "   {'transaction-id': 2320, 'amount': 1328},\n",
       "   {'transaction-id': 2968, 'amount': 1204},\n",
       "   {'transaction-id': 2980, 'amount': 1538},\n",
       "   {'transaction-id': 3130, 'amount': 1500},\n",
       "   {'transaction-id': 3289, 'amount': 1096},\n",
       "   {'transaction-id': 3383, 'amount': 1060},\n",
       "   {'transaction-id': 3490, 'amount': 1340},\n",
       "   {'transaction-id': 3524, 'amount': 1299},\n",
       "   {'transaction-id': 3530, 'amount': 1062},\n",
       "   {'transaction-id': 3632, 'amount': 1350},\n",
       "   {'transaction-id': 3663, 'amount': 1529},\n",
       "   {'transaction-id': 3959, 'amount': 1478},\n",
       "   {'transaction-id': 4070, 'amount': 1202},\n",
       "   {'transaction-id': 4118, 'amount': 1220},\n",
       "   {'transaction-id': 4805, 'amount': 1570},\n",
       "   {'transaction-id': 5124, 'amount': 1413},\n",
       "   {'transaction-id': 5197, 'amount': 1274},\n",
       "   {'transaction-id': 5360, 'amount': 1136},\n",
       "   {'transaction-id': 5404, 'amount': 1096},\n",
       "   {'transaction-id': 5516, 'amount': 1400},\n",
       "   {'transaction-id': 5565, 'amount': 1282},\n",
       "   {'transaction-id': 5674, 'amount': 1449},\n",
       "   {'transaction-id': 5711, 'amount': 1493},\n",
       "   {'transaction-id': 5852, 'amount': 1404},\n",
       "   {'transaction-id': 6151, 'amount': 1104},\n",
       "   {'transaction-id': 6308, 'amount': 1364},\n",
       "   {'transaction-id': 6310, 'amount': 1126},\n",
       "   {'transaction-id': 6528, 'amount': 1301},\n",
       "   {'transaction-id': 6543, 'amount': 1406},\n",
       "   {'transaction-id': 6645, 'amount': 1302},\n",
       "   {'transaction-id': 6693, 'amount': 1207},\n",
       "   {'transaction-id': 6702, 'amount': 1170},\n",
       "   {'transaction-id': 6810, 'amount': 1126},\n",
       "   {'transaction-id': 6838, 'amount': 1186},\n",
       "   {'transaction-id': 6864, 'amount': 1374},\n",
       "   {'transaction-id': 7038, 'amount': 1342},\n",
       "   {'transaction-id': 7081, 'amount': 1188},\n",
       "   {'transaction-id': 7207, 'amount': 1332},\n",
       "   {'transaction-id': 7464, 'amount': 1204},\n",
       "   {'transaction-id': 7650, 'amount': 1316},\n",
       "   {'transaction-id': 7714, 'amount': 1361},\n",
       "   {'transaction-id': 7862, 'amount': 1128},\n",
       "   {'transaction-id': 8100, 'amount': 1321},\n",
       "   {'transaction-id': 8110, 'amount': 1240},\n",
       "   {'transaction-id': 8172, 'amount': 1282},\n",
       "   {'transaction-id': 8279, 'amount': 1124},\n",
       "   {'transaction-id': 8370, 'amount': 1249},\n",
       "   {'transaction-id': 9162, 'amount': 1389},\n",
       "   {'transaction-id': 9343, 'amount': 1460},\n",
       "   {'transaction-id': 9722, 'amount': 1136},\n",
       "   {'transaction-id': 9782, 'amount': 1215}]})"
      ]
     },
     "execution_count": 11,
     "metadata": {},
     "output_type": "execute_result"
    }
   ],
   "source": [
    "# filter: keep only some elements of the sequence\n",
    "js.filter(lambda record: record['name'] == 'Alice').take(5)"
   ]
  },
  {
   "cell_type": "code",
   "execution_count": 12,
   "metadata": {},
   "outputs": [
    {
     "data": {
      "text/plain": [
       "({'name': 'Alice', 'count': 64},\n",
       " {'name': 'Alice', 'count': 76},\n",
       " {'name': 'Alice', 'count': 86},\n",
       " {'name': 'Alice', 'count': 33},\n",
       " {'name': 'Alice', 'count': 66})"
      ]
     },
     "execution_count": 12,
     "metadata": {},
     "output_type": "execute_result"
    }
   ],
   "source": [
    "def count_transactions(d):\n",
    "    return {'name': d['name'], 'count': len(d['transactions'])}\n",
    "\n",
    "# map: apply a function to each element\n",
    "(js.filter(lambda record: record['name'] == 'Alice')\n",
    "   .map(count_transactions)\n",
    "   .take(5))"
   ]
  },
  {
   "cell_type": "code",
   "execution_count": 13,
   "metadata": {},
   "outputs": [
    {
     "data": {
      "text/plain": [
       "(64, 76, 86, 33, 66)"
      ]
     },
     "execution_count": 13,
     "metadata": {},
     "output_type": "execute_result"
    }
   ],
   "source": [
    "# pluck: select a field, as from a dictionary, element[field]\n",
    "(js.filter(lambda record: record['name'] == 'Alice')\n",
    "   .map(count_transactions)\n",
    "   .pluck('count')\n",
    "   .take(5))"
   ]
  },
  {
   "cell_type": "code",
   "execution_count": 14,
   "metadata": {},
   "outputs": [
    {
     "data": {
      "text/plain": [
       "43.76152304609219"
      ]
     },
     "execution_count": 14,
     "metadata": {},
     "output_type": "execute_result"
    }
   ],
   "source": [
    "# Average number of transactions for all of the Alice entries\n",
    "(js.filter(lambda record: record['name'] == 'Alice')\n",
    "   .map(count_transactions)\n",
    "   .pluck('count')\n",
    "   .mean()\n",
    "   .compute())"
   ]
  },
  {
   "cell_type": "markdown",
   "metadata": {},
   "source": [
    "### Use `flatten` to de-nest"
   ]
  },
  {
   "cell_type": "markdown",
   "metadata": {},
   "source": [
    "In the example below we see the use of `.flatten()` to flatten results.  We compute the average amount for all transactions for all Alices."
   ]
  },
  {
   "cell_type": "code",
   "execution_count": 15,
   "metadata": {},
   "outputs": [
    {
     "data": {
      "text/plain": [
       "([{'transaction-id': 33, 'amount': 6},\n",
       "  {'transaction-id': 135, 'amount': 8},\n",
       "  {'transaction-id': 1022, 'amount': 8},\n",
       "  {'transaction-id': 1649, 'amount': 6},\n",
       "  {'transaction-id': 1806, 'amount': 8},\n",
       "  {'transaction-id': 2114, 'amount': 7},\n",
       "  {'transaction-id': 2121, 'amount': 7},\n",
       "  {'transaction-id': 2344, 'amount': 7},\n",
       "  {'transaction-id': 2380, 'amount': 9},\n",
       "  {'transaction-id': 2490, 'amount': 9},\n",
       "  {'transaction-id': 2598, 'amount': 9},\n",
       "  {'transaction-id': 2599, 'amount': 7},\n",
       "  {'transaction-id': 2781, 'amount': 6},\n",
       "  {'transaction-id': 2822, 'amount': 7},\n",
       "  {'transaction-id': 2936, 'amount': 6},\n",
       "  {'transaction-id': 3101, 'amount': 7},\n",
       "  {'transaction-id': 3116, 'amount': 6},\n",
       "  {'transaction-id': 3216, 'amount': 8},\n",
       "  {'transaction-id': 3399, 'amount': 8},\n",
       "  {'transaction-id': 3434, 'amount': 7},\n",
       "  {'transaction-id': 3582, 'amount': 9},\n",
       "  {'transaction-id': 3666, 'amount': 8},\n",
       "  {'transaction-id': 3678, 'amount': 8},\n",
       "  {'transaction-id': 3727, 'amount': 7},\n",
       "  {'transaction-id': 3801, 'amount': 5},\n",
       "  {'transaction-id': 3815, 'amount': 5},\n",
       "  {'transaction-id': 3912, 'amount': 9},\n",
       "  {'transaction-id': 4164, 'amount': 7},\n",
       "  {'transaction-id': 4464, 'amount': 7},\n",
       "  {'transaction-id': 4605, 'amount': 10},\n",
       "  {'transaction-id': 4700, 'amount': 8},\n",
       "  {'transaction-id': 4991, 'amount': 7},\n",
       "  {'transaction-id': 5734, 'amount': 8},\n",
       "  {'transaction-id': 5742, 'amount': 8},\n",
       "  {'transaction-id': 5880, 'amount': 7},\n",
       "  {'transaction-id': 5992, 'amount': 7},\n",
       "  {'transaction-id': 6013, 'amount': 7},\n",
       "  {'transaction-id': 6245, 'amount': 6},\n",
       "  {'transaction-id': 6296, 'amount': 8},\n",
       "  {'transaction-id': 6365, 'amount': 9},\n",
       "  {'transaction-id': 6593, 'amount': 8},\n",
       "  {'transaction-id': 6607, 'amount': 9},\n",
       "  {'transaction-id': 6825, 'amount': 7},\n",
       "  {'transaction-id': 6961, 'amount': 7},\n",
       "  {'transaction-id': 7193, 'amount': 7},\n",
       "  {'transaction-id': 7269, 'amount': 7},\n",
       "  {'transaction-id': 7298, 'amount': 6},\n",
       "  {'transaction-id': 7301, 'amount': 7},\n",
       "  {'transaction-id': 7337, 'amount': 7},\n",
       "  {'transaction-id': 7522, 'amount': 7},\n",
       "  {'transaction-id': 7659, 'amount': 5},\n",
       "  {'transaction-id': 7827, 'amount': 9},\n",
       "  {'transaction-id': 7849, 'amount': 9},\n",
       "  {'transaction-id': 7963, 'amount': 6},\n",
       "  {'transaction-id': 8519, 'amount': 7},\n",
       "  {'transaction-id': 8551, 'amount': 6},\n",
       "  {'transaction-id': 8661, 'amount': 7},\n",
       "  {'transaction-id': 8824, 'amount': 8},\n",
       "  {'transaction-id': 8860, 'amount': 6},\n",
       "  {'transaction-id': 9229, 'amount': 7},\n",
       "  {'transaction-id': 9596, 'amount': 8},\n",
       "  {'transaction-id': 9815, 'amount': 8},\n",
       "  {'transaction-id': 9826, 'amount': 8},\n",
       "  {'transaction-id': 9980, 'amount': 8}],\n",
       " [{'transaction-id': 9, 'amount': -16},\n",
       "  {'transaction-id': 136, 'amount': -28},\n",
       "  {'transaction-id': 172, 'amount': 0},\n",
       "  {'transaction-id': 239, 'amount': 23},\n",
       "  {'transaction-id': 414, 'amount': 7},\n",
       "  {'transaction-id': 772, 'amount': 3},\n",
       "  {'transaction-id': 812, 'amount': 14},\n",
       "  {'transaction-id': 820, 'amount': -2},\n",
       "  {'transaction-id': 928, 'amount': -2},\n",
       "  {'transaction-id': 1114, 'amount': 2},\n",
       "  {'transaction-id': 1147, 'amount': 2},\n",
       "  {'transaction-id': 1263, 'amount': -35},\n",
       "  {'transaction-id': 1341, 'amount': -27},\n",
       "  {'transaction-id': 1373, 'amount': 14},\n",
       "  {'transaction-id': 1610, 'amount': -30},\n",
       "  {'transaction-id': 1702, 'amount': -5},\n",
       "  {'transaction-id': 1911, 'amount': 11},\n",
       "  {'transaction-id': 1939, 'amount': -29},\n",
       "  {'transaction-id': 1943, 'amount': 14},\n",
       "  {'transaction-id': 2019, 'amount': -23},\n",
       "  {'transaction-id': 2034, 'amount': -1},\n",
       "  {'transaction-id': 2117, 'amount': 0},\n",
       "  {'transaction-id': 2206, 'amount': -10},\n",
       "  {'transaction-id': 2422, 'amount': 11},\n",
       "  {'transaction-id': 2688, 'amount': -2},\n",
       "  {'transaction-id': 2905, 'amount': -21},\n",
       "  {'transaction-id': 3005, 'amount': 1},\n",
       "  {'transaction-id': 3217, 'amount': -26},\n",
       "  {'transaction-id': 3261, 'amount': -2},\n",
       "  {'transaction-id': 3311, 'amount': -15},\n",
       "  {'transaction-id': 3388, 'amount': 2},\n",
       "  {'transaction-id': 3487, 'amount': -8},\n",
       "  {'transaction-id': 3779, 'amount': -35},\n",
       "  {'transaction-id': 3926, 'amount': -7},\n",
       "  {'transaction-id': 3945, 'amount': 4},\n",
       "  {'transaction-id': 3983, 'amount': 0},\n",
       "  {'transaction-id': 4019, 'amount': 3},\n",
       "  {'transaction-id': 4068, 'amount': -6},\n",
       "  {'transaction-id': 4117, 'amount': -11},\n",
       "  {'transaction-id': 4319, 'amount': 11},\n",
       "  {'transaction-id': 4522, 'amount': -7},\n",
       "  {'transaction-id': 4595, 'amount': -6},\n",
       "  {'transaction-id': 4705, 'amount': -12},\n",
       "  {'transaction-id': 4881, 'amount': -14},\n",
       "  {'transaction-id': 5018, 'amount': 7},\n",
       "  {'transaction-id': 5147, 'amount': -6},\n",
       "  {'transaction-id': 5166, 'amount': 2},\n",
       "  {'transaction-id': 5334, 'amount': 0},\n",
       "  {'transaction-id': 5425, 'amount': 0},\n",
       "  {'transaction-id': 5611, 'amount': 10},\n",
       "  {'transaction-id': 5623, 'amount': 9},\n",
       "  {'transaction-id': 5761, 'amount': 0},\n",
       "  {'transaction-id': 5776, 'amount': 0},\n",
       "  {'transaction-id': 5912, 'amount': 8},\n",
       "  {'transaction-id': 6020, 'amount': -16},\n",
       "  {'transaction-id': 6241, 'amount': -6},\n",
       "  {'transaction-id': 6440, 'amount': 1},\n",
       "  {'transaction-id': 6644, 'amount': 7},\n",
       "  {'transaction-id': 6907, 'amount': -1},\n",
       "  {'transaction-id': 7015, 'amount': 14},\n",
       "  {'transaction-id': 7333, 'amount': -1},\n",
       "  {'transaction-id': 7533, 'amount': -30},\n",
       "  {'transaction-id': 7624, 'amount': -3},\n",
       "  {'transaction-id': 7958, 'amount': -20},\n",
       "  {'transaction-id': 7965, 'amount': -8},\n",
       "  {'transaction-id': 7973, 'amount': -26},\n",
       "  {'transaction-id': 8025, 'amount': -16},\n",
       "  {'transaction-id': 8184, 'amount': 24},\n",
       "  {'transaction-id': 8425, 'amount': 0},\n",
       "  {'transaction-id': 8773, 'amount': 12},\n",
       "  {'transaction-id': 8956, 'amount': 0},\n",
       "  {'transaction-id': 9055, 'amount': -4},\n",
       "  {'transaction-id': 9077, 'amount': -17},\n",
       "  {'transaction-id': 9096, 'amount': -8},\n",
       "  {'transaction-id': 9435, 'amount': 0},\n",
       "  {'transaction-id': 9577, 'amount': -21}],\n",
       " [{'transaction-id': 147, 'amount': 87},\n",
       "  {'transaction-id': 195, 'amount': 85},\n",
       "  {'transaction-id': 214, 'amount': 84},\n",
       "  {'transaction-id': 361, 'amount': 101},\n",
       "  {'transaction-id': 512, 'amount': 83},\n",
       "  {'transaction-id': 673, 'amount': 95},\n",
       "  {'transaction-id': 740, 'amount': 85},\n",
       "  {'transaction-id': 1048, 'amount': 110},\n",
       "  {'transaction-id': 1175, 'amount': 104},\n",
       "  {'transaction-id': 1300, 'amount': 73},\n",
       "  {'transaction-id': 1503, 'amount': 96},\n",
       "  {'transaction-id': 1562, 'amount': 108},\n",
       "  {'transaction-id': 1820, 'amount': 87},\n",
       "  {'transaction-id': 2044, 'amount': 99},\n",
       "  {'transaction-id': 2097, 'amount': 61},\n",
       "  {'transaction-id': 2134, 'amount': 58},\n",
       "  {'transaction-id': 2386, 'amount': 104},\n",
       "  {'transaction-id': 2538, 'amount': 89},\n",
       "  {'transaction-id': 2620, 'amount': 95},\n",
       "  {'transaction-id': 2943, 'amount': 116},\n",
       "  {'transaction-id': 2982, 'amount': 81},\n",
       "  {'transaction-id': 3013, 'amount': 101},\n",
       "  {'transaction-id': 3347, 'amount': 99},\n",
       "  {'transaction-id': 3354, 'amount': 88},\n",
       "  {'transaction-id': 3386, 'amount': 86},\n",
       "  {'transaction-id': 3402, 'amount': 101},\n",
       "  {'transaction-id': 3443, 'amount': 91},\n",
       "  {'transaction-id': 3564, 'amount': 93},\n",
       "  {'transaction-id': 3721, 'amount': 100},\n",
       "  {'transaction-id': 3951, 'amount': 79},\n",
       "  {'transaction-id': 4016, 'amount': 86},\n",
       "  {'transaction-id': 4022, 'amount': 83},\n",
       "  {'transaction-id': 4069, 'amount': 92},\n",
       "  {'transaction-id': 4238, 'amount': 77},\n",
       "  {'transaction-id': 4303, 'amount': 85},\n",
       "  {'transaction-id': 4382, 'amount': 97},\n",
       "  {'transaction-id': 4460, 'amount': 93},\n",
       "  {'transaction-id': 4607, 'amount': 73},\n",
       "  {'transaction-id': 4733, 'amount': 104},\n",
       "  {'transaction-id': 4810, 'amount': 94},\n",
       "  {'transaction-id': 5343, 'amount': 100},\n",
       "  {'transaction-id': 5362, 'amount': 100},\n",
       "  {'transaction-id': 5385, 'amount': 93},\n",
       "  {'transaction-id': 5433, 'amount': 91},\n",
       "  {'transaction-id': 5536, 'amount': 104},\n",
       "  {'transaction-id': 5564, 'amount': 93},\n",
       "  {'transaction-id': 5626, 'amount': 80},\n",
       "  {'transaction-id': 5872, 'amount': 109},\n",
       "  {'transaction-id': 5874, 'amount': 100},\n",
       "  {'transaction-id': 6041, 'amount': 73},\n",
       "  {'transaction-id': 6104, 'amount': 75},\n",
       "  {'transaction-id': 6277, 'amount': 107},\n",
       "  {'transaction-id': 6283, 'amount': 98},\n",
       "  {'transaction-id': 6450, 'amount': 84},\n",
       "  {'transaction-id': 6649, 'amount': 98},\n",
       "  {'transaction-id': 6958, 'amount': 81},\n",
       "  {'transaction-id': 7076, 'amount': 93},\n",
       "  {'transaction-id': 7153, 'amount': 85},\n",
       "  {'transaction-id': 7188, 'amount': 87},\n",
       "  {'transaction-id': 7220, 'amount': 92},\n",
       "  {'transaction-id': 7250, 'amount': 84},\n",
       "  {'transaction-id': 7539, 'amount': 81},\n",
       "  {'transaction-id': 7673, 'amount': 104},\n",
       "  {'transaction-id': 7758, 'amount': 92},\n",
       "  {'transaction-id': 7844, 'amount': 84},\n",
       "  {'transaction-id': 8177, 'amount': 93},\n",
       "  {'transaction-id': 8391, 'amount': 103},\n",
       "  {'transaction-id': 8463, 'amount': 86},\n",
       "  {'transaction-id': 8529, 'amount': 108},\n",
       "  {'transaction-id': 8616, 'amount': 88},\n",
       "  {'transaction-id': 8641, 'amount': 74},\n",
       "  {'transaction-id': 8701, 'amount': 83},\n",
       "  {'transaction-id': 8788, 'amount': 102},\n",
       "  {'transaction-id': 8798, 'amount': 87},\n",
       "  {'transaction-id': 8839, 'amount': 90},\n",
       "  {'transaction-id': 8858, 'amount': 80},\n",
       "  {'transaction-id': 8885, 'amount': 66},\n",
       "  {'transaction-id': 9014, 'amount': 67},\n",
       "  {'transaction-id': 9064, 'amount': 116},\n",
       "  {'transaction-id': 9391, 'amount': 80},\n",
       "  {'transaction-id': 9408, 'amount': 83},\n",
       "  {'transaction-id': 9519, 'amount': 85},\n",
       "  {'transaction-id': 9527, 'amount': 90},\n",
       "  {'transaction-id': 9602, 'amount': 85},\n",
       "  {'transaction-id': 9644, 'amount': 93},\n",
       "  {'transaction-id': 9879, 'amount': 87}])"
      ]
     },
     "execution_count": 15,
     "metadata": {},
     "output_type": "execute_result"
    }
   ],
   "source": [
    "js.filter(lambda record: record['name'] == 'Alice').pluck('transactions').take(3)"
   ]
  },
  {
   "cell_type": "code",
   "execution_count": 16,
   "metadata": {},
   "outputs": [
    {
     "data": {
      "text/plain": [
       "({'transaction-id': 33, 'amount': 6},\n",
       " {'transaction-id': 135, 'amount': 8},\n",
       " {'transaction-id': 1022, 'amount': 8})"
      ]
     },
     "execution_count": 16,
     "metadata": {},
     "output_type": "execute_result"
    }
   ],
   "source": [
    "(js.filter(lambda record: record['name'] == 'Alice')\n",
    "   .pluck('transactions')\n",
    "   .flatten()\n",
    "   .take(3))"
   ]
  },
  {
   "cell_type": "code",
   "execution_count": 17,
   "metadata": {},
   "outputs": [
    {
     "data": {
      "text/plain": [
       "(6, 8, 8)"
      ]
     },
     "execution_count": 17,
     "metadata": {},
     "output_type": "execute_result"
    }
   ],
   "source": [
    "(js.filter(lambda record: record['name'] == 'Alice')\n",
    "   .pluck('transactions')\n",
    "   .flatten()\n",
    "   .pluck('amount')\n",
    "   .take(3))"
   ]
  },
  {
   "cell_type": "code",
   "execution_count": 18,
   "metadata": {},
   "outputs": [
    {
     "data": {
      "text/plain": [
       "545.8854696157897"
      ]
     },
     "execution_count": 18,
     "metadata": {},
     "output_type": "execute_result"
    }
   ],
   "source": [
    "(js.filter(lambda record: record['name'] == 'Alice')\n",
    "   .pluck('transactions')\n",
    "   .flatten()\n",
    "   .pluck('amount')\n",
    "   .mean()\n",
    "   .compute())"
   ]
  },
  {
   "cell_type": "markdown",
   "metadata": {},
   "source": [
    "### Groupby and Foldby"
   ]
  },
  {
   "cell_type": "markdown",
   "metadata": {},
   "source": [
    "Often we want to group data by some function or key.  We can do this either with the `.groupby` method, which is straightforward but forces a full shuffle of the data (expensive) or with the harder-to-use but faster `.foldby` method, which does a streaming combined groupby and reduction.\n",
    "\n",
    "*  `groupby`:  Shuffles data so that all items with the same key are in the same key-value pair\n",
    "*  `foldby`:  Walks through the data accumulating a result per key\n",
    "\n",
    "*Note: the full groupby is particularly bad. In actual workloads you would do well to use `foldby` or switch to `DataFrame`s if possible.*"
   ]
  },
  {
   "cell_type": "markdown",
   "metadata": {},
   "source": [
    "### `groupby`"
   ]
  },
  {
   "cell_type": "markdown",
   "metadata": {},
   "source": [
    "Groupby collects items in your collection so that all items with the same value under some function are collected together into a key-value pair."
   ]
  },
  {
   "cell_type": "code",
   "execution_count": 19,
   "metadata": {},
   "outputs": [
    {
     "data": {
      "text/plain": [
       "[(7, ['Charlie']), (3, ['Bob', 'Dan']), (5, ['Alice', 'Edith', 'Frank'])]"
      ]
     },
     "execution_count": 19,
     "metadata": {},
     "output_type": "execute_result"
    }
   ],
   "source": [
    "b = db.from_sequence(['Alice', 'Bob', 'Charlie', 'Dan', 'Edith', 'Frank'])\n",
    "b.groupby(len).compute()  # names grouped by length"
   ]
  },
  {
   "cell_type": "code",
   "execution_count": 20,
   "metadata": {},
   "outputs": [
    {
     "data": {
      "text/plain": [
       "[(0, [0, 2, 4, 6, 8]), (1, [1, 3, 5, 7, 9])]"
      ]
     },
     "execution_count": 20,
     "metadata": {},
     "output_type": "execute_result"
    }
   ],
   "source": [
    "b = db.from_sequence(list(range(10)))\n",
    "b.groupby(lambda x: x % 2).compute()"
   ]
  },
  {
   "cell_type": "code",
   "execution_count": 21,
   "metadata": {},
   "outputs": [
    {
     "data": {
      "text/plain": [
       "[(0, 8), (1, 9)]"
      ]
     },
     "execution_count": 21,
     "metadata": {},
     "output_type": "execute_result"
    }
   ],
   "source": [
    "b.groupby(lambda x: x % 2).starmap(lambda k, v: (k, max(v))).compute()"
   ]
  },
  {
   "cell_type": "markdown",
   "metadata": {},
   "source": [
    "### `foldby`"
   ]
  },
  {
   "cell_type": "markdown",
   "metadata": {},
   "source": [
    "Foldby can be quite odd at first.  It is similar to the following functions from other libraries:\n",
    "\n",
    "*  [`toolz.reduceby`](http://toolz.readthedocs.io/en/latest/streaming-analytics.html#streaming-split-apply-combine)\n",
    "*  [`pyspark.RDD.combineByKey`](http://abshinn.github.io/python/apache-spark/2014/10/11/using-combinebykey-in-apache-spark/)\n",
    "\n",
    "When using `foldby` you provide \n",
    "\n",
    "1.  A key function on which to group elements\n",
    "2.  A binary operator such as you would pass to `reduce` that you use to perform reduction per each group\n",
    "3.  A combine binary operator that can combine the results of two `reduce` calls on different parts of your dataset.\n",
    "\n",
    "Your reduction must be associative.  It will happen in parallel in each of the partitions of your dataset.  Then all of these intermediate results will be combined by the `combine` binary operator."
   ]
  },
  {
   "cell_type": "code",
   "execution_count": 22,
   "metadata": {},
   "outputs": [
    {
     "data": {
      "text/plain": [
       "[(0, 8), (1, 9)]"
      ]
     },
     "execution_count": 22,
     "metadata": {},
     "output_type": "execute_result"
    }
   ],
   "source": [
    "is_even = lambda x: x % 2\n",
    "b.foldby(is_even, binop=max, combine=max).compute()"
   ]
  },
  {
   "cell_type": "markdown",
   "metadata": {},
   "source": [
    "### Example with account data"
   ]
  },
  {
   "cell_type": "markdown",
   "metadata": {},
   "source": [
    "We find the number of people with the same name."
   ]
  },
  {
   "cell_type": "code",
   "execution_count": 23,
   "metadata": {},
   "outputs": [
    {
     "name": "stdout",
     "output_type": "stream",
     "text": [
      "[('Alice', 120), ('Alice', 120), ('Alice', 129), ('Alice', 130), ('Bob', 106), ('Bob', 108), ('Bob', 116), ('Bob', 117), ('Charlie', 128), ('Charlie', 129), ('Charlie', 142), ('Charlie', 142), ('Dan', 131), ('Dan', 132), ('Dan', 143), ('Dan', 143), ('Edith', 143), ('Edith', 143), ('Edith', 152), ('Edith', 154), ('Frank', 116), ('Frank', 117), ('Frank', 123), ('Frank', 125), ('George', 96), ('George', 98), ('George', 105), ('George', 106), ('Hannah', 129), ('Hannah', 129), ('Hannah', 137), ('Hannah', 140), ('Ingrid', 142), ('Ingrid', 143), ('Ingrid', 153), ('Ingrid', 153), ('Jerry', 151), ('Jerry', 152), ('Jerry', 165), ('Jerry', 165), ('Kevin', 82), ('Kevin', 84), ('Kevin', 89), ('Kevin', 89), ('Laura', 84), ('Laura', 84), ('Laura', 91), ('Laura', 91), ('Michael', 117), ('Michael', 119), ('Michael', 128), ('Michael', 128), ('Norbert', 72), ('Norbert', 73), ('Norbert', 76), ('Norbert', 77), ('Oliver', 131), ('Oliver', 132), ('Oliver', 143), ('Oliver', 143), ('Patricia', 120), ('Patricia', 120), ('Patricia', 130), ('Patricia', 130), ('Quinn', 83), ('Quinn', 84), ('Quinn', 90), ('Quinn', 90), ('Ray', 84), ('Ray', 84), ('Ray', 91), ('Ray', 91), ('Sarah', 82), ('Sarah', 83), ('Sarah', 87), ('Sarah', 89), ('Tim', 119), ('Tim', 120), ('Tim', 130), ('Tim', 130), ('Ursula', 84), ('Ursula', 84), ('Ursula', 91), ('Ursula', 91), ('Victor', 167), ('Victor', 180), ('Victor', 343), ('Wendy', 96), ('Wendy', 96), ('Wendy', 104), ('Wendy', 104), ('Xavier', 82), ('Xavier', 84), ('Xavier', 89), ('Xavier', 89), ('Yvonne', 102), ('Yvonne', 103), ('Yvonne', 109), ('Yvonne', 113), ('Zelda', 156), ('Zelda', 156), ('Zelda', 169), ('Zelda', 169)]\n",
      "CPU times: user 1.9 s, sys: 154 ms, total: 2.05 s\n",
      "Wall time: 9.5 s\n"
     ]
    }
   ],
   "source": [
    "%%time\n",
    "# Warning, this one takes a while...\n",
    "result = js.groupby(lambda item: item['name']).starmap(lambda k, v: (k, len(v))).compute()\n",
    "print(sorted(result))"
   ]
  },
  {
   "cell_type": "code",
   "execution_count": 24,
   "metadata": {},
   "outputs": [
    {
     "name": "stdout",
     "output_type": "stream",
     "text": [
      "[('Alice', 499), ('Bob', 447), ('Charlie', 541), ('Dan', 549), ('Edith', 592), ('Frank', 481), ('George', 405), ('Hannah', 535), ('Ingrid', 591), ('Jerry', 633), ('Kevin', 344), ('Laura', 350), ('Michael', 492), ('Norbert', 298), ('Oliver', 549), ('Patricia', 500), ('Quinn', 347), ('Ray', 350), ('Sarah', 341), ('Tim', 499), ('Ursula', 350), ('Victor', 690), ('Wendy', 400), ('Xavier', 344), ('Yvonne', 427), ('Zelda', 650)]\n",
      "CPU times: user 166 ms, sys: 12 ms, total: 178 ms\n",
      "Wall time: 645 ms\n"
     ]
    }
   ],
   "source": [
    "%%time\n",
    "# This one is comparatively fast and produces the same result.\n",
    "from operator import add\n",
    "def incr(tot, _):\n",
    "    return tot+1\n",
    "\n",
    "result = js.foldby(key='name', \n",
    "                   binop=incr, \n",
    "                   initial=0, \n",
    "                   combine=add, \n",
    "                   combine_initial=0).compute()\n",
    "print(sorted(result))"
   ]
  },
  {
   "cell_type": "markdown",
   "metadata": {},
   "source": [
    "### Exercise: compute total amount per name"
   ]
  },
  {
   "cell_type": "markdown",
   "metadata": {},
   "source": [
    "We want to groupby (or foldby) the `name` key, then add up the all of the amounts for each name.\n",
    "\n",
    "Steps\n",
    "\n",
    "1.  Create a small function that, given a dictionary like \n",
    "\n",
    "        {'name': 'Alice', 'transactions': [{'amount': 1, 'id': 123}, {'amount': 2, 'id': 456}]}\n",
    "        \n",
    "    produces the sum of the amounts, e.g. `3`\n",
    "    \n",
    "2.  Slightly change the binary operator of the `foldby` example above so that the binary operator doesn't count the number of entries, but instead accumulates the sum of the amounts."
   ]
  },
  {
   "cell_type": "code",
   "execution_count": 25,
   "metadata": {},
   "outputs": [],
   "source": [
    "# Your code here..."
   ]
  },
  {
   "cell_type": "markdown",
   "metadata": {},
   "source": [
    "## DataFrames"
   ]
  },
  {
   "cell_type": "markdown",
   "metadata": {},
   "source": [
    "For the same reasons that Pandas is often faster than pure Python, `dask.dataframe` can be faster than `dask.bag`.  We will work more with DataFrames later, but from for the bag point of view, they are frequently the end-point of the \"messy\" part of data ingestion—once the data can be made into a data-frame, then complex split-apply-combine logic will become much more straight-forward and efficient.\n",
    "\n",
    "You can transform a bag with a simple tuple or flat dictionary structure into a `dask.dataframe` with the `to_dataframe` method."
   ]
  },
  {
   "cell_type": "code",
   "execution_count": 26,
   "metadata": {},
   "outputs": [
    {
     "data": {
      "text/html": [
       "<div>\n",
       "<style scoped>\n",
       "    .dataframe tbody tr th:only-of-type {\n",
       "        vertical-align: middle;\n",
       "    }\n",
       "\n",
       "    .dataframe tbody tr th {\n",
       "        vertical-align: top;\n",
       "    }\n",
       "\n",
       "    .dataframe thead th {\n",
       "        text-align: right;\n",
       "    }\n",
       "</style>\n",
       "<table border=\"1\" class=\"dataframe\">\n",
       "  <thead>\n",
       "    <tr style=\"text-align: right;\">\n",
       "      <th></th>\n",
       "      <th>id</th>\n",
       "      <th>name</th>\n",
       "      <th>transactions</th>\n",
       "    </tr>\n",
       "  </thead>\n",
       "  <tbody>\n",
       "    <tr>\n",
       "      <th>0</th>\n",
       "      <td>0</td>\n",
       "      <td>Tim</td>\n",
       "      <td>[{'transaction-id': 257, 'amount': 692}, {'tra...</td>\n",
       "    </tr>\n",
       "    <tr>\n",
       "      <th>1</th>\n",
       "      <td>1</td>\n",
       "      <td>Quinn</td>\n",
       "      <td>[{'transaction-id': 52, 'amount': 4}, {'transa...</td>\n",
       "    </tr>\n",
       "    <tr>\n",
       "      <th>2</th>\n",
       "      <td>2</td>\n",
       "      <td>Victor</td>\n",
       "      <td>[{'transaction-id': 604, 'amount': -734}, {'tr...</td>\n",
       "    </tr>\n",
       "    <tr>\n",
       "      <th>3</th>\n",
       "      <td>3</td>\n",
       "      <td>Charlie</td>\n",
       "      <td>[{'transaction-id': 2821, 'amount': 72}, {'tra...</td>\n",
       "    </tr>\n",
       "    <tr>\n",
       "      <th>4</th>\n",
       "      <td>4</td>\n",
       "      <td>Alice</td>\n",
       "      <td>[{'transaction-id': 33, 'amount': 6}, {'transa...</td>\n",
       "    </tr>\n",
       "  </tbody>\n",
       "</table>\n",
       "</div>"
      ],
      "text/plain": [
       "   id     name                                       transactions\n",
       "0   0      Tim  [{'transaction-id': 257, 'amount': 692}, {'tra...\n",
       "1   1    Quinn  [{'transaction-id': 52, 'amount': 4}, {'transa...\n",
       "2   2   Victor  [{'transaction-id': 604, 'amount': -734}, {'tr...\n",
       "3   3  Charlie  [{'transaction-id': 2821, 'amount': 72}, {'tra...\n",
       "4   4    Alice  [{'transaction-id': 33, 'amount': 6}, {'transa..."
      ]
     },
     "execution_count": 26,
     "metadata": {},
     "output_type": "execute_result"
    }
   ],
   "source": [
    "df1 = js.to_dataframe()\n",
    "df1.head()"
   ]
  },
  {
   "cell_type": "markdown",
   "metadata": {},
   "source": [
    "This now looks like a well-defined DataFrame, and we can apply Pandas-like computations to it efficiently."
   ]
  },
  {
   "cell_type": "markdown",
   "metadata": {},
   "source": [
    "Using a Dask DataFrame, how long does it take to do our prior computation of numbers of people with the same name?  It turns out that `dask.dataframe.groupby()` beats `dask.bag.groupby()` more than an order of magnitude; but it still cannot match `dask.bag.foldby()` for this case."
   ]
  },
  {
   "cell_type": "code",
   "execution_count": 27,
   "metadata": {},
   "outputs": [
    {
     "name": "stdout",
     "output_type": "stream",
     "text": [
      "CPU times: user 251 ms, sys: 22.4 ms, total: 273 ms\n",
      "Wall time: 1.87 s\n"
     ]
    },
    {
     "data": {
      "text/plain": [
       "name\n",
       "Alice      499\n",
       "Bob        447\n",
       "Charlie    541\n",
       "Dan        549\n",
       "Edith      592\n",
       "Name: id, dtype: int64"
      ]
     },
     "execution_count": 27,
     "metadata": {},
     "output_type": "execute_result"
    }
   ],
   "source": [
    "%time df1.groupby('name').id.count().compute().head()"
   ]
  },
  {
   "cell_type": "markdown",
   "metadata": {},
   "source": [
    "### Denormalization"
   ]
  },
  {
   "cell_type": "markdown",
   "metadata": {},
   "source": [
    "This DataFrame format is less-than-optimal because the `transactions` column is filled with nested data so Pandas has to revert to `object` dtype, which is quite slow in Pandas.  Ideally we want to transform to a dataframe only after we have flattened our data so that each record is a single `int`, `string`, `float`, etc.."
   ]
  },
  {
   "cell_type": "code",
   "execution_count": 28,
   "metadata": {},
   "outputs": [
    {
     "data": {
      "text/plain": [
       "({'id': 0, 'name': 'Tim', 'amount': 692, 'transaction-id': 257},\n",
       " {'id': 0, 'name': 'Tim', 'amount': 695, 'transaction-id': 744},\n",
       " {'id': 0, 'name': 'Tim', 'amount': 656, 'transaction-id': 917})"
      ]
     },
     "execution_count": 28,
     "metadata": {},
     "output_type": "execute_result"
    }
   ],
   "source": [
    "def denormalize(record):\n",
    "    # returns a list for every nested item, each transaction of each person\n",
    "    return [{'id': record['id'], \n",
    "             'name': record['name'], \n",
    "             'amount': transaction['amount'], \n",
    "             'transaction-id': transaction['transaction-id']}\n",
    "            for transaction in record['transactions']]\n",
    "\n",
    "transactions = js.map(denormalize).flatten()\n",
    "transactions.take(3)"
   ]
  },
  {
   "cell_type": "code",
   "execution_count": 29,
   "metadata": {},
   "outputs": [
    {
     "data": {
      "text/html": [
       "<div>\n",
       "<style scoped>\n",
       "    .dataframe tbody tr th:only-of-type {\n",
       "        vertical-align: middle;\n",
       "    }\n",
       "\n",
       "    .dataframe tbody tr th {\n",
       "        vertical-align: top;\n",
       "    }\n",
       "\n",
       "    .dataframe thead th {\n",
       "        text-align: right;\n",
       "    }\n",
       "</style>\n",
       "<table border=\"1\" class=\"dataframe\">\n",
       "  <thead>\n",
       "    <tr style=\"text-align: right;\">\n",
       "      <th></th>\n",
       "      <th>id</th>\n",
       "      <th>name</th>\n",
       "      <th>amount</th>\n",
       "      <th>transaction-id</th>\n",
       "    </tr>\n",
       "  </thead>\n",
       "  <tbody>\n",
       "    <tr>\n",
       "      <th>0</th>\n",
       "      <td>0</td>\n",
       "      <td>Tim</td>\n",
       "      <td>692</td>\n",
       "      <td>257</td>\n",
       "    </tr>\n",
       "    <tr>\n",
       "      <th>1</th>\n",
       "      <td>0</td>\n",
       "      <td>Tim</td>\n",
       "      <td>695</td>\n",
       "      <td>744</td>\n",
       "    </tr>\n",
       "    <tr>\n",
       "      <th>2</th>\n",
       "      <td>0</td>\n",
       "      <td>Tim</td>\n",
       "      <td>656</td>\n",
       "      <td>917</td>\n",
       "    </tr>\n",
       "    <tr>\n",
       "      <th>3</th>\n",
       "      <td>0</td>\n",
       "      <td>Tim</td>\n",
       "      <td>704</td>\n",
       "      <td>1088</td>\n",
       "    </tr>\n",
       "    <tr>\n",
       "      <th>4</th>\n",
       "      <td>0</td>\n",
       "      <td>Tim</td>\n",
       "      <td>613</td>\n",
       "      <td>1625</td>\n",
       "    </tr>\n",
       "  </tbody>\n",
       "</table>\n",
       "</div>"
      ],
      "text/plain": [
       "   id name  amount  transaction-id\n",
       "0   0  Tim     692             257\n",
       "1   0  Tim     695             744\n",
       "2   0  Tim     656             917\n",
       "3   0  Tim     704            1088\n",
       "4   0  Tim     613            1625"
      ]
     },
     "execution_count": 29,
     "metadata": {},
     "output_type": "execute_result"
    }
   ],
   "source": [
    "df = transactions.to_dataframe()\n",
    "df.head()"
   ]
  },
  {
   "cell_type": "code",
   "execution_count": 30,
   "metadata": {},
   "outputs": [
    {
     "name": "stdout",
     "output_type": "stream",
     "text": [
      "CPU times: user 231 ms, sys: 27.1 ms, total: 258 ms\n",
      "Wall time: 1.58 s\n"
     ]
    },
    {
     "data": {
      "text/plain": [
       "name\n",
       "Alice       21837\n",
       "Bob          7825\n",
       "Charlie     22546\n",
       "Dan         22976\n",
       "Edith       24391\n",
       "Frank       28926\n",
       "George      11087\n",
       "Hannah      21310\n",
       "Ingrid      31452\n",
       "Jerry       14812\n",
       "Kevin       13568\n",
       "Laura       24842\n",
       "Michael     13912\n",
       "Norbert     15903\n",
       "Oliver      28002\n",
       "Patricia    22655\n",
       "Quinn       21857\n",
       "Ray         13260\n",
       "Sarah       15185\n",
       "Tim         19318\n",
       "Ursula      11004\n",
       "Victor      23759\n",
       "Wendy       13812\n",
       "Xavier      14673\n",
       "Yvonne      14364\n",
       "Zelda       26724\n",
       "Name: transaction-id, dtype: int64"
      ]
     },
     "execution_count": 30,
     "metadata": {},
     "output_type": "execute_result"
    }
   ],
   "source": [
    "%%time\n",
    "# number of transactions per name\n",
    "# note that the time here includes the data load and ingestion\n",
    "df.groupby('name')['transaction-id'].count().compute()"
   ]
  },
  {
   "cell_type": "markdown",
   "metadata": {},
   "source": [
    "## Limitations"
   ]
  },
  {
   "cell_type": "markdown",
   "metadata": {},
   "source": [
    "Bags provide very general computation (any Python function.)  This generality\n",
    "comes at cost.  Bags have the following known limitations\n",
    "\n",
    "1.  Bag operations tend to be slower than array/dataframe computations in the\n",
    "    same way that Python tends to be slower than NumPy/Pandas\n",
    "2.  ``Bag.groupby`` is slow.  You should try to use ``Bag.foldby`` if possible.\n",
    "    Using ``Bag.foldby`` requires more thought. Even better, consider creating\n",
    "    a normalised dataframe."
   ]
  },
  {
   "cell_type": "markdown",
   "metadata": {},
   "source": [
    "## Learn More\n",
    "\n",
    "* [Bag documentation](https://docs.dask.org/en/latest/bag.html)\n",
    "* [Bag screencast](https://youtu.be/-qIiJ1XtSv0)\n",
    "* [Bag API](https://docs.dask.org/en/latest/bag-api.html)\n",
    "* [Bag examples](https://examples.dask.org/bag.html)"
   ]
  },
  {
   "cell_type": "markdown",
   "metadata": {},
   "source": [
    "## Shutdown"
   ]
  },
  {
   "cell_type": "code",
   "execution_count": 31,
   "metadata": {},
   "outputs": [],
   "source": [
    "client.shutdown()"
   ]
  }
 ],
 "metadata": {
  "anaconda-cloud": {},
  "kernelspec": {
   "display_name": "Python 3",
   "language": "python",
   "name": "python3"
  },
  "language_info": {
   "codemirror_mode": {
    "name": "ipython",
    "version": 3
   },
   "file_extension": ".py",
   "mimetype": "text/x-python",
   "name": "python",
   "nbconvert_exporter": "python",
   "pygments_lexer": "ipython3",
   "version": "3.8.3"
  }
 },
 "nbformat": 4,
 "nbformat_minor": 4
}
