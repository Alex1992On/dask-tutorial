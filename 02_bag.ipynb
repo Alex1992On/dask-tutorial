{
 "cells": [
  {
   "cell_type": "markdown",
   "metadata": {},
   "source": [
    "<img src=\"images/dask_horizontal.svg\" align=\"right\" width=\"30%\">"
   ]
  },
  {
   "cell_type": "markdown",
   "metadata": {},
   "source": [
    "# Bag: Parallel Lists for semi-structured data"
   ]
  },
  {
   "cell_type": "markdown",
   "metadata": {},
   "source": [
    "Dask-bag excels in processing data that can be represented as a sequence of arbitrary inputs. We'll refer to this as \"messy\" data, because it can contain complex nested structures, missing fields, mixtures of data types, etc. The *functional* programming style fits very nicely with standard Python iteration, such as can be found in the `itertools` module.\n",
    "\n",
    "Messy data is often encountered at the beginning of data processing pipelines when large volumes of raw data are first consumed. The initial set of data might be JSON, CSV, XML, or any other format that does not enforce strict structure and datatypes.\n",
    "For this reason, the initial data massaging and processing is often done with Python `list`s, `dict`s, and `set`s.\n",
    "\n",
    "These core data structures are optimized for general-purpose storage and processing.  Adding streaming computation with iterators/generator expressions or libraries like `itertools` or [`toolz`](https://toolz.readthedocs.io/en/latest/) let us process large volumes in a small space.  If we combine this with parallel processing then we can churn through a fair amount of data.\n",
    "\n",
    "Dask.bag is a high level Dask collection to automate common workloads of this form.  In a nutshell\n",
    "\n",
    "    dask.bag = map, filter, toolz + parallel execution\n",
    "    \n",
    "**Related Documentation**\n",
    "\n",
    "* [Bag documentation](https://docs.dask.org/en/latest/bag.html)\n",
    "* [Bag screencast](https://youtu.be/-qIiJ1XtSv0)\n",
    "* [Bag API](https://docs.dask.org/en/latest/bag-api.html)\n",
    "* [Bag examples](https://examples.dask.org/bag.html)"
   ]
  },
  {
   "cell_type": "markdown",
   "metadata": {},
   "source": [
    "## Create data"
   ]
  },
  {
   "cell_type": "code",
   "execution_count": 1,
   "metadata": {},
   "outputs": [],
   "source": [
    "%run prep.py -d accounts"
   ]
  },
  {
   "cell_type": "markdown",
   "metadata": {},
   "source": [
    "## Setup"
   ]
  },
  {
   "cell_type": "markdown",
   "metadata": {},
   "source": [
    "Again, we'll use the distributed scheduler. Schedulers will be explained in depth [later](05_distributed.ipynb)."
   ]
  },
  {
   "cell_type": "code",
   "execution_count": 2,
   "metadata": {},
   "outputs": [],
   "source": [
    "from dask.distributed import Client\n",
    "\n",
    "client = Client(n_workers=4)"
   ]
  },
  {
   "cell_type": "markdown",
   "metadata": {},
   "source": [
    "## Creation"
   ]
  },
  {
   "cell_type": "markdown",
   "metadata": {},
   "source": [
    "You can create a `Bag` from a Python sequence, from files, from data on S3, etc.\n",
    "We demonstrate using `.take()` to show elements of the data. (Doing `.take(1)` results in a tuple with one element)\n",
    "\n",
    "Note that the data are partitioned into blocks, and there are many items per block. In the first example, the two partitions contain five elements each, and in the following two, each file is partitioned into one or more bytes blocks."
   ]
  },
  {
   "cell_type": "code",
   "execution_count": 3,
   "metadata": {},
   "outputs": [
    {
     "data": {
      "text/plain": [
       "(1, 2, 3)"
      ]
     },
     "execution_count": 3,
     "metadata": {},
     "output_type": "execute_result"
    }
   ],
   "source": [
    "# each element is an integer\n",
    "import dask.bag as db\n",
    "b = db.from_sequence([1, 2, 3, 4, 5, 6, 7, 8, 9, 10], npartitions=2)\n",
    "b.take(3)"
   ]
  },
  {
   "cell_type": "code",
   "execution_count": 4,
   "metadata": {},
   "outputs": [
    {
     "data": {
      "text/plain": [
       "('{\"id\": 0, \"name\": \"Laura\", \"transactions\": [{\"transaction-id\": 27, \"amount\": 2682}, {\"transaction-id\": 76, \"amount\": 2914}, {\"transaction-id\": 2274, \"amount\": 1957}, {\"transaction-id\": 2385, \"amount\": 2553}, {\"transaction-id\": 3412, \"amount\": 2334}, {\"transaction-id\": 4014, \"amount\": 2714}, {\"transaction-id\": 4171, \"amount\": 2427}, {\"transaction-id\": 4217, \"amount\": 2483}, {\"transaction-id\": 4966, \"amount\": 2174}, {\"transaction-id\": 7172, \"amount\": 2377}, {\"transaction-id\": 7177, \"amount\": 2536}, {\"transaction-id\": 7263, \"amount\": 2369}, {\"transaction-id\": 9218, \"amount\": 2703}]}\\n',)"
      ]
     },
     "execution_count": 4,
     "metadata": {},
     "output_type": "execute_result"
    }
   ],
   "source": [
    "# each element is a text file, where each line is a JSON object\n",
    "# note that the compression is handled automatically\n",
    "import os\n",
    "b = db.read_text(os.path.join('data', 'accounts.*.json.gz'))\n",
    "b.take(1)"
   ]
  },
  {
   "cell_type": "code",
   "execution_count": 5,
   "metadata": {},
   "outputs": [
    {
     "data": {
      "text/plain": [
       "'s3://dask-data/nyc-taxi/2015/yellow_tripdata_2015-01.csv'"
      ]
     },
     "execution_count": 5,
     "metadata": {},
     "output_type": "execute_result"
    }
   ],
   "source": [
    "# Edit sources.py to configure source locations\n",
    "import sources\n",
    "sources.bag_url"
   ]
  },
  {
   "cell_type": "code",
   "execution_count": 6,
   "metadata": {},
   "outputs": [
    {
     "data": {
      "text/plain": [
       "('VendorID,tpep_pickup_datetime,tpep_dropoff_datetime,passenger_count,trip_distance,pickup_longitude,pickup_latitude,RateCodeID,store_and_fwd_flag,dropoff_longitude,dropoff_latitude,payment_type,fare_amount,extra,mta_tax,tip_amount,tolls_amount,improvement_surcharge,total_amount\\n',)"
      ]
     },
     "execution_count": 6,
     "metadata": {},
     "output_type": "execute_result"
    }
   ],
   "source": [
    "# Requires `s3fs` library\n",
    "# each partition is a remote CSV text file\n",
    "b = db.read_text(sources.bag_url,\n",
    "                 storage_options={'anon': True})\n",
    "b.take(1)"
   ]
  },
  {
   "cell_type": "markdown",
   "metadata": {},
   "source": [
    "## Manipulation"
   ]
  },
  {
   "cell_type": "markdown",
   "metadata": {},
   "source": [
    "`Bag` objects hold the standard functional API found in projects like the Python standard library, `toolz`, or `pyspark`, including `map`, `filter`, `groupby`, etc..\n",
    "\n",
    "Operations on `Bag` objects create new bags.  Call the `.compute()` method to trigger execution, as we saw for `Delayed` objects.  "
   ]
  },
  {
   "cell_type": "code",
   "execution_count": 7,
   "metadata": {},
   "outputs": [
    {
     "data": {
      "text/plain": [
       "dask.bag<lambda, npartitions=10>"
      ]
     },
     "execution_count": 7,
     "metadata": {},
     "output_type": "execute_result"
    }
   ],
   "source": [
    "def is_even(n):\n",
    "    return n % 2 == 0\n",
    "\n",
    "b = db.from_sequence([1, 2, 3, 4, 5, 6, 7, 8, 9, 10])\n",
    "c = b.filter(is_even).map(lambda x: x ** 2)\n",
    "c"
   ]
  },
  {
   "cell_type": "code",
   "execution_count": 8,
   "metadata": {},
   "outputs": [
    {
     "data": {
      "text/plain": [
       "[4, 16, 36, 64, 100]"
      ]
     },
     "execution_count": 8,
     "metadata": {},
     "output_type": "execute_result"
    }
   ],
   "source": [
    "# blocking form: wait for completion (which is very fast in this case)\n",
    "c.compute()"
   ]
  },
  {
   "cell_type": "markdown",
   "metadata": {},
   "source": [
    "### Example: Accounts JSON data"
   ]
  },
  {
   "cell_type": "markdown",
   "metadata": {},
   "source": [
    "We've created a fake dataset of gzipped JSON data in your data directory.  This is like the example used in the `DataFrame` example we will see later, except that it has bundled up all of the entires for each individual `id` into a single record.  This is similar to data that you might collect off of a document store database or a web API.\n",
    "\n",
    "Each line is a JSON encoded dictionary with the following keys\n",
    "\n",
    "*  id: Unique identifier of the customer\n",
    "*  name: Name of the customer\n",
    "*  transactions: List of `transaction-id`, `amount` pairs, one for each transaction for the customer in that file"
   ]
  },
  {
   "cell_type": "code",
   "execution_count": 9,
   "metadata": {},
   "outputs": [
    {
     "data": {
      "text/plain": [
       "('{\"id\": 0, \"name\": \"Laura\", \"transactions\": [{\"transaction-id\": 27, \"amount\": 2682}, {\"transaction-id\": 76, \"amount\": 2914}, {\"transaction-id\": 2274, \"amount\": 1957}, {\"transaction-id\": 2385, \"amount\": 2553}, {\"transaction-id\": 3412, \"amount\": 2334}, {\"transaction-id\": 4014, \"amount\": 2714}, {\"transaction-id\": 4171, \"amount\": 2427}, {\"transaction-id\": 4217, \"amount\": 2483}, {\"transaction-id\": 4966, \"amount\": 2174}, {\"transaction-id\": 7172, \"amount\": 2377}, {\"transaction-id\": 7177, \"amount\": 2536}, {\"transaction-id\": 7263, \"amount\": 2369}, {\"transaction-id\": 9218, \"amount\": 2703}]}\\n',\n",
       " '{\"id\": 1, \"name\": \"Ingrid\", \"transactions\": [{\"transaction-id\": 90, \"amount\": 2366}, {\"transaction-id\": 91, \"amount\": 2506}, {\"transaction-id\": 189, \"amount\": 2465}, {\"transaction-id\": 390, \"amount\": 2394}, {\"transaction-id\": 443, \"amount\": 2440}, {\"transaction-id\": 498, \"amount\": 2471}, {\"transaction-id\": 570, \"amount\": 2529}, {\"transaction-id\": 583, \"amount\": 2431}, {\"transaction-id\": 643, \"amount\": 2441}, {\"transaction-id\": 788, \"amount\": 2483}, {\"transaction-id\": 933, \"amount\": 2332}, {\"transaction-id\": 1029, \"amount\": 2285}, {\"transaction-id\": 1037, \"amount\": 2439}, {\"transaction-id\": 1171, \"amount\": 2340}, {\"transaction-id\": 1184, \"amount\": 2254}, {\"transaction-id\": 1487, \"amount\": 2278}, {\"transaction-id\": 1532, \"amount\": 2370}, {\"transaction-id\": 1694, \"amount\": 2412}, {\"transaction-id\": 1837, \"amount\": 2412}, {\"transaction-id\": 1858, \"amount\": 2378}, {\"transaction-id\": 2157, \"amount\": 2355}, {\"transaction-id\": 2194, \"amount\": 2478}, {\"transaction-id\": 2417, \"amount\": 2539}, {\"transaction-id\": 2424, \"amount\": 2452}, {\"transaction-id\": 2443, \"amount\": 2321}, {\"transaction-id\": 2536, \"amount\": 2466}, {\"transaction-id\": 2687, \"amount\": 2565}, {\"transaction-id\": 2993, \"amount\": 2290}, {\"transaction-id\": 3200, \"amount\": 2286}, {\"transaction-id\": 3329, \"amount\": 2441}, {\"transaction-id\": 3356, \"amount\": 2384}, {\"transaction-id\": 3368, \"amount\": 2505}, {\"transaction-id\": 3381, \"amount\": 2429}, {\"transaction-id\": 3404, \"amount\": 2308}, {\"transaction-id\": 3459, \"amount\": 2459}, {\"transaction-id\": 3482, \"amount\": 2429}, {\"transaction-id\": 3703, \"amount\": 2288}, {\"transaction-id\": 3906, \"amount\": 2551}, {\"transaction-id\": 4408, \"amount\": 2500}, {\"transaction-id\": 4454, \"amount\": 2362}, {\"transaction-id\": 4694, \"amount\": 2439}, {\"transaction-id\": 4897, \"amount\": 2604}, {\"transaction-id\": 4992, \"amount\": 2464}, {\"transaction-id\": 5188, \"amount\": 2332}, {\"transaction-id\": 5215, \"amount\": 2403}, {\"transaction-id\": 5349, \"amount\": 2643}, {\"transaction-id\": 5355, \"amount\": 2339}, {\"transaction-id\": 5456, \"amount\": 2633}, {\"transaction-id\": 5557, \"amount\": 2327}, {\"transaction-id\": 5719, \"amount\": 2473}, {\"transaction-id\": 5733, \"amount\": 2429}, {\"transaction-id\": 6012, \"amount\": 2365}, {\"transaction-id\": 6018, \"amount\": 2451}, {\"transaction-id\": 6116, \"amount\": 2444}, {\"transaction-id\": 6531, \"amount\": 2522}, {\"transaction-id\": 6952, \"amount\": 2373}, {\"transaction-id\": 7346, \"amount\": 2414}, {\"transaction-id\": 7389, \"amount\": 2321}, {\"transaction-id\": 7489, \"amount\": 2320}, {\"transaction-id\": 7685, \"amount\": 2337}, {\"transaction-id\": 8190, \"amount\": 2451}, {\"transaction-id\": 8191, \"amount\": 2440}, {\"transaction-id\": 8372, \"amount\": 2453}, {\"transaction-id\": 8414, \"amount\": 2516}, {\"transaction-id\": 8425, \"amount\": 2541}, {\"transaction-id\": 8522, \"amount\": 2369}, {\"transaction-id\": 8570, \"amount\": 2468}, {\"transaction-id\": 8718, \"amount\": 2364}, {\"transaction-id\": 8788, \"amount\": 2428}, {\"transaction-id\": 9001, \"amount\": 2516}, {\"transaction-id\": 9065, \"amount\": 2483}, {\"transaction-id\": 9126, \"amount\": 2495}, {\"transaction-id\": 9150, \"amount\": 2546}, {\"transaction-id\": 9272, \"amount\": 2153}, {\"transaction-id\": 9325, \"amount\": 2506}, {\"transaction-id\": 9441, \"amount\": 2362}, {\"transaction-id\": 9570, \"amount\": 2456}, {\"transaction-id\": 9759, \"amount\": 2413}, {\"transaction-id\": 9934, \"amount\": 2485}]}\\n',\n",
       " '{\"id\": 2, \"name\": \"Ray\", \"transactions\": [{\"transaction-id\": 204, \"amount\": 252}, {\"transaction-id\": 318, \"amount\": 166}, {\"transaction-id\": 397, \"amount\": -16}, {\"transaction-id\": 420, \"amount\": 134}, {\"transaction-id\": 454, \"amount\": 275}, {\"transaction-id\": 496, \"amount\": 180}, {\"transaction-id\": 759, \"amount\": 124}, {\"transaction-id\": 910, \"amount\": 240}, {\"transaction-id\": 1249, \"amount\": -6}, {\"transaction-id\": 1448, \"amount\": 24}, {\"transaction-id\": 1496, \"amount\": 37}, {\"transaction-id\": 1524, \"amount\": 337}, {\"transaction-id\": 1549, \"amount\": 176}, {\"transaction-id\": 1724, \"amount\": 272}, {\"transaction-id\": 2165, \"amount\": -41}, {\"transaction-id\": 2389, \"amount\": 243}, {\"transaction-id\": 2426, \"amount\": 446}, {\"transaction-id\": 2454, \"amount\": 186}, {\"transaction-id\": 2555, \"amount\": 154}, {\"transaction-id\": 2595, \"amount\": 229}, {\"transaction-id\": 2619, \"amount\": 210}, {\"transaction-id\": 2735, \"amount\": 286}, {\"transaction-id\": 2826, \"amount\": 124}, {\"transaction-id\": 2839, \"amount\": 277}, {\"transaction-id\": 3297, \"amount\": 157}, {\"transaction-id\": 3562, \"amount\": 254}, {\"transaction-id\": 3574, \"amount\": 196}, {\"transaction-id\": 3611, \"amount\": 179}, {\"transaction-id\": 3648, \"amount\": 39}, {\"transaction-id\": 3755, \"amount\": 184}, {\"transaction-id\": 3806, \"amount\": -1}, {\"transaction-id\": 3834, \"amount\": 208}, {\"transaction-id\": 3891, \"amount\": 130}, {\"transaction-id\": 4166, \"amount\": 376}, {\"transaction-id\": 4215, \"amount\": -17}, {\"transaction-id\": 4373, \"amount\": 365}, {\"transaction-id\": 4433, \"amount\": 119}, {\"transaction-id\": 4710, \"amount\": -5}, {\"transaction-id\": 4817, \"amount\": 257}, {\"transaction-id\": 4919, \"amount\": 205}, {\"transaction-id\": 4984, \"amount\": 377}, {\"transaction-id\": 5113, \"amount\": 138}, {\"transaction-id\": 5275, \"amount\": 193}, {\"transaction-id\": 5406, \"amount\": 44}, {\"transaction-id\": 5582, \"amount\": 242}, {\"transaction-id\": 5589, \"amount\": 226}, {\"transaction-id\": 5600, \"amount\": 200}, {\"transaction-id\": 5658, \"amount\": 166}, {\"transaction-id\": 5821, \"amount\": 141}, {\"transaction-id\": 6298, \"amount\": 370}, {\"transaction-id\": 6375, \"amount\": 256}, {\"transaction-id\": 6404, \"amount\": 362}, {\"transaction-id\": 6661, \"amount\": 198}, {\"transaction-id\": 6730, \"amount\": 58}, {\"transaction-id\": 6742, \"amount\": 208}, {\"transaction-id\": 6822, \"amount\": 179}, {\"transaction-id\": 7022, \"amount\": 184}, {\"transaction-id\": 7062, \"amount\": 155}, {\"transaction-id\": 7095, \"amount\": 88}, {\"transaction-id\": 7147, \"amount\": 154}, {\"transaction-id\": 7219, \"amount\": 121}, {\"transaction-id\": 7280, \"amount\": 26}, {\"transaction-id\": 7431, \"amount\": 419}, {\"transaction-id\": 7563, \"amount\": 370}, {\"transaction-id\": 7568, \"amount\": 407}, {\"transaction-id\": 7632, \"amount\": 372}, {\"transaction-id\": 8024, \"amount\": -31}, {\"transaction-id\": 8059, \"amount\": 220}, {\"transaction-id\": 8219, \"amount\": 275}, {\"transaction-id\": 8247, \"amount\": 232}, {\"transaction-id\": 8369, \"amount\": 137}, {\"transaction-id\": 8370, \"amount\": 170}, {\"transaction-id\": 8420, \"amount\": 311}, {\"transaction-id\": 8423, \"amount\": 165}, {\"transaction-id\": 8681, \"amount\": 227}, {\"transaction-id\": 9144, \"amount\": 326}, {\"transaction-id\": 9229, \"amount\": 237}, {\"transaction-id\": 9282, \"amount\": 267}, {\"transaction-id\": 9445, \"amount\": 195}, {\"transaction-id\": 9810, \"amount\": 186}, {\"transaction-id\": 9907, \"amount\": 236}, {\"transaction-id\": 9976, \"amount\": 211}]}\\n')"
      ]
     },
     "execution_count": 9,
     "metadata": {},
     "output_type": "execute_result"
    }
   ],
   "source": [
    "filename = os.path.join('data', 'accounts.*.json.gz')\n",
    "lines = db.read_text(filename)\n",
    "lines.take(3)"
   ]
  },
  {
   "cell_type": "markdown",
   "metadata": {},
   "source": [
    "Our data comes out of the file as lines of text. Notice that file decompression happened automatically. We can make this data look more reasonable by mapping the `json.loads` function onto our bag."
   ]
  },
  {
   "cell_type": "code",
   "execution_count": 10,
   "metadata": {},
   "outputs": [
    {
     "data": {
      "text/plain": [
       "({'id': 0,\n",
       "  'name': 'Laura',\n",
       "  'transactions': [{'transaction-id': 27, 'amount': 2682},\n",
       "   {'transaction-id': 76, 'amount': 2914},\n",
       "   {'transaction-id': 2274, 'amount': 1957},\n",
       "   {'transaction-id': 2385, 'amount': 2553},\n",
       "   {'transaction-id': 3412, 'amount': 2334},\n",
       "   {'transaction-id': 4014, 'amount': 2714},\n",
       "   {'transaction-id': 4171, 'amount': 2427},\n",
       "   {'transaction-id': 4217, 'amount': 2483},\n",
       "   {'transaction-id': 4966, 'amount': 2174},\n",
       "   {'transaction-id': 7172, 'amount': 2377},\n",
       "   {'transaction-id': 7177, 'amount': 2536},\n",
       "   {'transaction-id': 7263, 'amount': 2369},\n",
       "   {'transaction-id': 9218, 'amount': 2703}]},\n",
       " {'id': 1,\n",
       "  'name': 'Ingrid',\n",
       "  'transactions': [{'transaction-id': 90, 'amount': 2366},\n",
       "   {'transaction-id': 91, 'amount': 2506},\n",
       "   {'transaction-id': 189, 'amount': 2465},\n",
       "   {'transaction-id': 390, 'amount': 2394},\n",
       "   {'transaction-id': 443, 'amount': 2440},\n",
       "   {'transaction-id': 498, 'amount': 2471},\n",
       "   {'transaction-id': 570, 'amount': 2529},\n",
       "   {'transaction-id': 583, 'amount': 2431},\n",
       "   {'transaction-id': 643, 'amount': 2441},\n",
       "   {'transaction-id': 788, 'amount': 2483},\n",
       "   {'transaction-id': 933, 'amount': 2332},\n",
       "   {'transaction-id': 1029, 'amount': 2285},\n",
       "   {'transaction-id': 1037, 'amount': 2439},\n",
       "   {'transaction-id': 1171, 'amount': 2340},\n",
       "   {'transaction-id': 1184, 'amount': 2254},\n",
       "   {'transaction-id': 1487, 'amount': 2278},\n",
       "   {'transaction-id': 1532, 'amount': 2370},\n",
       "   {'transaction-id': 1694, 'amount': 2412},\n",
       "   {'transaction-id': 1837, 'amount': 2412},\n",
       "   {'transaction-id': 1858, 'amount': 2378},\n",
       "   {'transaction-id': 2157, 'amount': 2355},\n",
       "   {'transaction-id': 2194, 'amount': 2478},\n",
       "   {'transaction-id': 2417, 'amount': 2539},\n",
       "   {'transaction-id': 2424, 'amount': 2452},\n",
       "   {'transaction-id': 2443, 'amount': 2321},\n",
       "   {'transaction-id': 2536, 'amount': 2466},\n",
       "   {'transaction-id': 2687, 'amount': 2565},\n",
       "   {'transaction-id': 2993, 'amount': 2290},\n",
       "   {'transaction-id': 3200, 'amount': 2286},\n",
       "   {'transaction-id': 3329, 'amount': 2441},\n",
       "   {'transaction-id': 3356, 'amount': 2384},\n",
       "   {'transaction-id': 3368, 'amount': 2505},\n",
       "   {'transaction-id': 3381, 'amount': 2429},\n",
       "   {'transaction-id': 3404, 'amount': 2308},\n",
       "   {'transaction-id': 3459, 'amount': 2459},\n",
       "   {'transaction-id': 3482, 'amount': 2429},\n",
       "   {'transaction-id': 3703, 'amount': 2288},\n",
       "   {'transaction-id': 3906, 'amount': 2551},\n",
       "   {'transaction-id': 4408, 'amount': 2500},\n",
       "   {'transaction-id': 4454, 'amount': 2362},\n",
       "   {'transaction-id': 4694, 'amount': 2439},\n",
       "   {'transaction-id': 4897, 'amount': 2604},\n",
       "   {'transaction-id': 4992, 'amount': 2464},\n",
       "   {'transaction-id': 5188, 'amount': 2332},\n",
       "   {'transaction-id': 5215, 'amount': 2403},\n",
       "   {'transaction-id': 5349, 'amount': 2643},\n",
       "   {'transaction-id': 5355, 'amount': 2339},\n",
       "   {'transaction-id': 5456, 'amount': 2633},\n",
       "   {'transaction-id': 5557, 'amount': 2327},\n",
       "   {'transaction-id': 5719, 'amount': 2473},\n",
       "   {'transaction-id': 5733, 'amount': 2429},\n",
       "   {'transaction-id': 6012, 'amount': 2365},\n",
       "   {'transaction-id': 6018, 'amount': 2451},\n",
       "   {'transaction-id': 6116, 'amount': 2444},\n",
       "   {'transaction-id': 6531, 'amount': 2522},\n",
       "   {'transaction-id': 6952, 'amount': 2373},\n",
       "   {'transaction-id': 7346, 'amount': 2414},\n",
       "   {'transaction-id': 7389, 'amount': 2321},\n",
       "   {'transaction-id': 7489, 'amount': 2320},\n",
       "   {'transaction-id': 7685, 'amount': 2337},\n",
       "   {'transaction-id': 8190, 'amount': 2451},\n",
       "   {'transaction-id': 8191, 'amount': 2440},\n",
       "   {'transaction-id': 8372, 'amount': 2453},\n",
       "   {'transaction-id': 8414, 'amount': 2516},\n",
       "   {'transaction-id': 8425, 'amount': 2541},\n",
       "   {'transaction-id': 8522, 'amount': 2369},\n",
       "   {'transaction-id': 8570, 'amount': 2468},\n",
       "   {'transaction-id': 8718, 'amount': 2364},\n",
       "   {'transaction-id': 8788, 'amount': 2428},\n",
       "   {'transaction-id': 9001, 'amount': 2516},\n",
       "   {'transaction-id': 9065, 'amount': 2483},\n",
       "   {'transaction-id': 9126, 'amount': 2495},\n",
       "   {'transaction-id': 9150, 'amount': 2546},\n",
       "   {'transaction-id': 9272, 'amount': 2153},\n",
       "   {'transaction-id': 9325, 'amount': 2506},\n",
       "   {'transaction-id': 9441, 'amount': 2362},\n",
       "   {'transaction-id': 9570, 'amount': 2456},\n",
       "   {'transaction-id': 9759, 'amount': 2413},\n",
       "   {'transaction-id': 9934, 'amount': 2485}]},\n",
       " {'id': 2,\n",
       "  'name': 'Ray',\n",
       "  'transactions': [{'transaction-id': 204, 'amount': 252},\n",
       "   {'transaction-id': 318, 'amount': 166},\n",
       "   {'transaction-id': 397, 'amount': -16},\n",
       "   {'transaction-id': 420, 'amount': 134},\n",
       "   {'transaction-id': 454, 'amount': 275},\n",
       "   {'transaction-id': 496, 'amount': 180},\n",
       "   {'transaction-id': 759, 'amount': 124},\n",
       "   {'transaction-id': 910, 'amount': 240},\n",
       "   {'transaction-id': 1249, 'amount': -6},\n",
       "   {'transaction-id': 1448, 'amount': 24},\n",
       "   {'transaction-id': 1496, 'amount': 37},\n",
       "   {'transaction-id': 1524, 'amount': 337},\n",
       "   {'transaction-id': 1549, 'amount': 176},\n",
       "   {'transaction-id': 1724, 'amount': 272},\n",
       "   {'transaction-id': 2165, 'amount': -41},\n",
       "   {'transaction-id': 2389, 'amount': 243},\n",
       "   {'transaction-id': 2426, 'amount': 446},\n",
       "   {'transaction-id': 2454, 'amount': 186},\n",
       "   {'transaction-id': 2555, 'amount': 154},\n",
       "   {'transaction-id': 2595, 'amount': 229},\n",
       "   {'transaction-id': 2619, 'amount': 210},\n",
       "   {'transaction-id': 2735, 'amount': 286},\n",
       "   {'transaction-id': 2826, 'amount': 124},\n",
       "   {'transaction-id': 2839, 'amount': 277},\n",
       "   {'transaction-id': 3297, 'amount': 157},\n",
       "   {'transaction-id': 3562, 'amount': 254},\n",
       "   {'transaction-id': 3574, 'amount': 196},\n",
       "   {'transaction-id': 3611, 'amount': 179},\n",
       "   {'transaction-id': 3648, 'amount': 39},\n",
       "   {'transaction-id': 3755, 'amount': 184},\n",
       "   {'transaction-id': 3806, 'amount': -1},\n",
       "   {'transaction-id': 3834, 'amount': 208},\n",
       "   {'transaction-id': 3891, 'amount': 130},\n",
       "   {'transaction-id': 4166, 'amount': 376},\n",
       "   {'transaction-id': 4215, 'amount': -17},\n",
       "   {'transaction-id': 4373, 'amount': 365},\n",
       "   {'transaction-id': 4433, 'amount': 119},\n",
       "   {'transaction-id': 4710, 'amount': -5},\n",
       "   {'transaction-id': 4817, 'amount': 257},\n",
       "   {'transaction-id': 4919, 'amount': 205},\n",
       "   {'transaction-id': 4984, 'amount': 377},\n",
       "   {'transaction-id': 5113, 'amount': 138},\n",
       "   {'transaction-id': 5275, 'amount': 193},\n",
       "   {'transaction-id': 5406, 'amount': 44},\n",
       "   {'transaction-id': 5582, 'amount': 242},\n",
       "   {'transaction-id': 5589, 'amount': 226},\n",
       "   {'transaction-id': 5600, 'amount': 200},\n",
       "   {'transaction-id': 5658, 'amount': 166},\n",
       "   {'transaction-id': 5821, 'amount': 141},\n",
       "   {'transaction-id': 6298, 'amount': 370},\n",
       "   {'transaction-id': 6375, 'amount': 256},\n",
       "   {'transaction-id': 6404, 'amount': 362},\n",
       "   {'transaction-id': 6661, 'amount': 198},\n",
       "   {'transaction-id': 6730, 'amount': 58},\n",
       "   {'transaction-id': 6742, 'amount': 208},\n",
       "   {'transaction-id': 6822, 'amount': 179},\n",
       "   {'transaction-id': 7022, 'amount': 184},\n",
       "   {'transaction-id': 7062, 'amount': 155},\n",
       "   {'transaction-id': 7095, 'amount': 88},\n",
       "   {'transaction-id': 7147, 'amount': 154},\n",
       "   {'transaction-id': 7219, 'amount': 121},\n",
       "   {'transaction-id': 7280, 'amount': 26},\n",
       "   {'transaction-id': 7431, 'amount': 419},\n",
       "   {'transaction-id': 7563, 'amount': 370},\n",
       "   {'transaction-id': 7568, 'amount': 407},\n",
       "   {'transaction-id': 7632, 'amount': 372},\n",
       "   {'transaction-id': 8024, 'amount': -31},\n",
       "   {'transaction-id': 8059, 'amount': 220},\n",
       "   {'transaction-id': 8219, 'amount': 275},\n",
       "   {'transaction-id': 8247, 'amount': 232},\n",
       "   {'transaction-id': 8369, 'amount': 137},\n",
       "   {'transaction-id': 8370, 'amount': 170},\n",
       "   {'transaction-id': 8420, 'amount': 311},\n",
       "   {'transaction-id': 8423, 'amount': 165},\n",
       "   {'transaction-id': 8681, 'amount': 227},\n",
       "   {'transaction-id': 9144, 'amount': 326},\n",
       "   {'transaction-id': 9229, 'amount': 237},\n",
       "   {'transaction-id': 9282, 'amount': 267},\n",
       "   {'transaction-id': 9445, 'amount': 195},\n",
       "   {'transaction-id': 9810, 'amount': 186},\n",
       "   {'transaction-id': 9907, 'amount': 236},\n",
       "   {'transaction-id': 9976, 'amount': 211}]})"
      ]
     },
     "execution_count": 10,
     "metadata": {},
     "output_type": "execute_result"
    }
   ],
   "source": [
    "import json\n",
    "js = lines.map(json.loads)\n",
    "# take: inspect first few elements\n",
    "js.take(3)"
   ]
  },
  {
   "cell_type": "markdown",
   "metadata": {},
   "source": [
    "### Basic Queries"
   ]
  },
  {
   "cell_type": "markdown",
   "metadata": {},
   "source": [
    "Once we parse our JSON data into proper Python objects (`dict`s, `list`s, etc.) we can perform more interesting queries by creating small Python functions to run on our data."
   ]
  },
  {
   "cell_type": "code",
   "execution_count": 11,
   "metadata": {},
   "outputs": [
    {
     "data": {
      "text/plain": [
       "({'id': 8,\n",
       "  'name': 'Alice',\n",
       "  'transactions': [{'transaction-id': 135, 'amount': 938},\n",
       "   {'transaction-id': 154, 'amount': 1002},\n",
       "   {'transaction-id': 163, 'amount': 1073},\n",
       "   {'transaction-id': 184, 'amount': 960},\n",
       "   {'transaction-id': 233, 'amount': 1008},\n",
       "   {'transaction-id': 503, 'amount': 933},\n",
       "   {'transaction-id': 518, 'amount': 902},\n",
       "   {'transaction-id': 520, 'amount': 878},\n",
       "   {'transaction-id': 965, 'amount': 1008},\n",
       "   {'transaction-id': 985, 'amount': 992},\n",
       "   {'transaction-id': 1120, 'amount': 1002},\n",
       "   {'transaction-id': 1276, 'amount': 1001},\n",
       "   {'transaction-id': 1510, 'amount': 996},\n",
       "   {'transaction-id': 1575, 'amount': 972},\n",
       "   {'transaction-id': 1802, 'amount': 1002},\n",
       "   {'transaction-id': 2081, 'amount': 958},\n",
       "   {'transaction-id': 2136, 'amount': 957},\n",
       "   {'transaction-id': 2156, 'amount': 950},\n",
       "   {'transaction-id': 2309, 'amount': 885},\n",
       "   {'transaction-id': 2358, 'amount': 957},\n",
       "   {'transaction-id': 2545, 'amount': 967},\n",
       "   {'transaction-id': 2609, 'amount': 1006},\n",
       "   {'transaction-id': 2752, 'amount': 973},\n",
       "   {'transaction-id': 2912, 'amount': 950},\n",
       "   {'transaction-id': 3026, 'amount': 934},\n",
       "   {'transaction-id': 3038, 'amount': 949},\n",
       "   {'transaction-id': 3041, 'amount': 927},\n",
       "   {'transaction-id': 3379, 'amount': 896},\n",
       "   {'transaction-id': 3436, 'amount': 874},\n",
       "   {'transaction-id': 3464, 'amount': 991},\n",
       "   {'transaction-id': 3465, 'amount': 959},\n",
       "   {'transaction-id': 3523, 'amount': 955},\n",
       "   {'transaction-id': 3590, 'amount': 933},\n",
       "   {'transaction-id': 3799, 'amount': 1014},\n",
       "   {'transaction-id': 3824, 'amount': 991},\n",
       "   {'transaction-id': 3852, 'amount': 963},\n",
       "   {'transaction-id': 3853, 'amount': 938},\n",
       "   {'transaction-id': 3958, 'amount': 908},\n",
       "   {'transaction-id': 4100, 'amount': 913},\n",
       "   {'transaction-id': 4145, 'amount': 911},\n",
       "   {'transaction-id': 4182, 'amount': 933},\n",
       "   {'transaction-id': 4258, 'amount': 848},\n",
       "   {'transaction-id': 4308, 'amount': 922},\n",
       "   {'transaction-id': 4398, 'amount': 983},\n",
       "   {'transaction-id': 4513, 'amount': 911},\n",
       "   {'transaction-id': 4659, 'amount': 966},\n",
       "   {'transaction-id': 4673, 'amount': 949},\n",
       "   {'transaction-id': 4720, 'amount': 991},\n",
       "   {'transaction-id': 4724, 'amount': 981},\n",
       "   {'transaction-id': 4734, 'amount': 893},\n",
       "   {'transaction-id': 4791, 'amount': 930},\n",
       "   {'transaction-id': 4809, 'amount': 1085},\n",
       "   {'transaction-id': 4870, 'amount': 984},\n",
       "   {'transaction-id': 5000, 'amount': 942},\n",
       "   {'transaction-id': 5104, 'amount': 986},\n",
       "   {'transaction-id': 5143, 'amount': 988},\n",
       "   {'transaction-id': 5369, 'amount': 931},\n",
       "   {'transaction-id': 5386, 'amount': 1103},\n",
       "   {'transaction-id': 5722, 'amount': 947},\n",
       "   {'transaction-id': 6093, 'amount': 876},\n",
       "   {'transaction-id': 6119, 'amount': 981},\n",
       "   {'transaction-id': 6124, 'amount': 1024},\n",
       "   {'transaction-id': 6336, 'amount': 943},\n",
       "   {'transaction-id': 6739, 'amount': 968},\n",
       "   {'transaction-id': 6773, 'amount': 970},\n",
       "   {'transaction-id': 6860, 'amount': 1005},\n",
       "   {'transaction-id': 6958, 'amount': 948},\n",
       "   {'transaction-id': 7223, 'amount': 911},\n",
       "   {'transaction-id': 7314, 'amount': 923},\n",
       "   {'transaction-id': 7335, 'amount': 944},\n",
       "   {'transaction-id': 7393, 'amount': 1012},\n",
       "   {'transaction-id': 7589, 'amount': 918},\n",
       "   {'transaction-id': 7615, 'amount': 909},\n",
       "   {'transaction-id': 7721, 'amount': 919},\n",
       "   {'transaction-id': 7833, 'amount': 900},\n",
       "   {'transaction-id': 7959, 'amount': 888},\n",
       "   {'transaction-id': 7996, 'amount': 984},\n",
       "   {'transaction-id': 8117, 'amount': 869},\n",
       "   {'transaction-id': 8158, 'amount': 1056},\n",
       "   {'transaction-id': 8204, 'amount': 975},\n",
       "   {'transaction-id': 8220, 'amount': 941},\n",
       "   {'transaction-id': 8303, 'amount': 916},\n",
       "   {'transaction-id': 8576, 'amount': 994},\n",
       "   {'transaction-id': 8592, 'amount': 902},\n",
       "   {'transaction-id': 8707, 'amount': 931},\n",
       "   {'transaction-id': 8711, 'amount': 995},\n",
       "   {'transaction-id': 8784, 'amount': 935},\n",
       "   {'transaction-id': 8801, 'amount': 930},\n",
       "   {'transaction-id': 8969, 'amount': 957},\n",
       "   {'transaction-id': 9014, 'amount': 933},\n",
       "   {'transaction-id': 9037, 'amount': 993},\n",
       "   {'transaction-id': 9090, 'amount': 998},\n",
       "   {'transaction-id': 9096, 'amount': 971},\n",
       "   {'transaction-id': 9456, 'amount': 933},\n",
       "   {'transaction-id': 9558, 'amount': 964},\n",
       "   {'transaction-id': 9595, 'amount': 927},\n",
       "   {'transaction-id': 9610, 'amount': 1057},\n",
       "   {'transaction-id': 9633, 'amount': 934},\n",
       "   {'transaction-id': 9640, 'amount': 1050},\n",
       "   {'transaction-id': 9894, 'amount': 945},\n",
       "   {'transaction-id': 9949, 'amount': 924}]},\n",
       " {'id': 34,\n",
       "  'name': 'Alice',\n",
       "  'transactions': [{'transaction-id': 849, 'amount': 328},\n",
       "   {'transaction-id': 1455, 'amount': 325},\n",
       "   {'transaction-id': 1497, 'amount': 302},\n",
       "   {'transaction-id': 1571, 'amount': 308},\n",
       "   {'transaction-id': 1849, 'amount': 296},\n",
       "   {'transaction-id': 2144, 'amount': 232},\n",
       "   {'transaction-id': 2202, 'amount': 320},\n",
       "   {'transaction-id': 3753, 'amount': 326},\n",
       "   {'transaction-id': 3841, 'amount': 339},\n",
       "   {'transaction-id': 4205, 'amount': 254},\n",
       "   {'transaction-id': 4685, 'amount': 351},\n",
       "   {'transaction-id': 4783, 'amount': 372},\n",
       "   {'transaction-id': 4849, 'amount': 347},\n",
       "   {'transaction-id': 4898, 'amount': 307},\n",
       "   {'transaction-id': 5016, 'amount': 270},\n",
       "   {'transaction-id': 5072, 'amount': 290},\n",
       "   {'transaction-id': 5327, 'amount': 318},\n",
       "   {'transaction-id': 5416, 'amount': 346},\n",
       "   {'transaction-id': 5598, 'amount': 303},\n",
       "   {'transaction-id': 5824, 'amount': 281},\n",
       "   {'transaction-id': 5899, 'amount': 247},\n",
       "   {'transaction-id': 6535, 'amount': 297},\n",
       "   {'transaction-id': 6799, 'amount': 306},\n",
       "   {'transaction-id': 7423, 'amount': 340},\n",
       "   {'transaction-id': 7903, 'amount': 358}]},\n",
       " {'id': 42,\n",
       "  'name': 'Alice',\n",
       "  'transactions': [{'transaction-id': 23, 'amount': 24},\n",
       "   {'transaction-id': 46, 'amount': 7},\n",
       "   {'transaction-id': 502, 'amount': 21},\n",
       "   {'transaction-id': 552, 'amount': 20},\n",
       "   {'transaction-id': 554, 'amount': 34},\n",
       "   {'transaction-id': 838, 'amount': 17},\n",
       "   {'transaction-id': 1395, 'amount': 18},\n",
       "   {'transaction-id': 2100, 'amount': 15},\n",
       "   {'transaction-id': 2818, 'amount': 32},\n",
       "   {'transaction-id': 2986, 'amount': 35},\n",
       "   {'transaction-id': 3278, 'amount': 37},\n",
       "   {'transaction-id': 3790, 'amount': 35},\n",
       "   {'transaction-id': 3904, 'amount': 15},\n",
       "   {'transaction-id': 4030, 'amount': 22},\n",
       "   {'transaction-id': 5227, 'amount': 23},\n",
       "   {'transaction-id': 5490, 'amount': 13},\n",
       "   {'transaction-id': 5668, 'amount': 19},\n",
       "   {'transaction-id': 5758, 'amount': 38},\n",
       "   {'transaction-id': 6654, 'amount': 38},\n",
       "   {'transaction-id': 7308, 'amount': 33},\n",
       "   {'transaction-id': 8492, 'amount': 25},\n",
       "   {'transaction-id': 8965, 'amount': 33},\n",
       "   {'transaction-id': 9452, 'amount': 17}]},\n",
       " {'id': 83,\n",
       "  'name': 'Alice',\n",
       "  'transactions': [{'transaction-id': 6293, 'amount': 1033}]},\n",
       " {'id': 88,\n",
       "  'name': 'Alice',\n",
       "  'transactions': [{'transaction-id': 8757, 'amount': 595}]})"
      ]
     },
     "execution_count": 11,
     "metadata": {},
     "output_type": "execute_result"
    }
   ],
   "source": [
    "# filter: keep only some elements of the sequence\n",
    "js.filter(lambda record: record['name'] == 'Alice').take(5)"
   ]
  },
  {
   "cell_type": "code",
   "execution_count": 12,
   "metadata": {},
   "outputs": [
    {
     "data": {
      "text/plain": [
       "({'name': 'Alice', 'count': 101},\n",
       " {'name': 'Alice', 'count': 25},\n",
       " {'name': 'Alice', 'count': 23},\n",
       " {'name': 'Alice', 'count': 1},\n",
       " {'name': 'Alice', 'count': 1})"
      ]
     },
     "execution_count": 12,
     "metadata": {},
     "output_type": "execute_result"
    }
   ],
   "source": [
    "def count_transactions(d):\n",
    "    return {'name': d['name'], 'count': len(d['transactions'])}\n",
    "\n",
    "# map: apply a function to each element\n",
    "(js.filter(lambda record: record['name'] == 'Alice')\n",
    "   .map(count_transactions)\n",
    "   .take(5))"
   ]
  },
  {
   "cell_type": "code",
   "execution_count": 13,
   "metadata": {},
   "outputs": [
    {
     "data": {
      "text/plain": [
       "(101, 25, 23, 1, 1)"
      ]
     },
     "execution_count": 13,
     "metadata": {},
     "output_type": "execute_result"
    }
   ],
   "source": [
    "# pluck: select a field, as from a dictionary, element[field]\n",
    "(js.filter(lambda record: record['name'] == 'Alice')\n",
    "   .map(count_transactions)\n",
    "   .pluck('count')\n",
    "   .take(5))"
   ]
  },
  {
   "cell_type": "code",
   "execution_count": 14,
   "metadata": {},
   "outputs": [
    {
     "data": {
      "text/plain": [
       "35.208398133748055"
      ]
     },
     "execution_count": 14,
     "metadata": {},
     "output_type": "execute_result"
    }
   ],
   "source": [
    "# Average number of transactions for all of the Alice entries\n",
    "(js.filter(lambda record: record['name'] == 'Alice')\n",
    "   .map(count_transactions)\n",
    "   .pluck('count')\n",
    "   .mean()\n",
    "   .compute())"
   ]
  },
  {
   "cell_type": "markdown",
   "metadata": {},
   "source": [
    "### Use `flatten` to de-nest"
   ]
  },
  {
   "cell_type": "markdown",
   "metadata": {},
   "source": [
    "In the example below we see the use of `.flatten()` to flatten results.  We compute the average amount for all transactions for all Alices."
   ]
  },
  {
   "cell_type": "code",
   "execution_count": 15,
   "metadata": {},
   "outputs": [
    {
     "data": {
      "text/plain": [
       "([{'transaction-id': 135, 'amount': 938},\n",
       "  {'transaction-id': 154, 'amount': 1002},\n",
       "  {'transaction-id': 163, 'amount': 1073},\n",
       "  {'transaction-id': 184, 'amount': 960},\n",
       "  {'transaction-id': 233, 'amount': 1008},\n",
       "  {'transaction-id': 503, 'amount': 933},\n",
       "  {'transaction-id': 518, 'amount': 902},\n",
       "  {'transaction-id': 520, 'amount': 878},\n",
       "  {'transaction-id': 965, 'amount': 1008},\n",
       "  {'transaction-id': 985, 'amount': 992},\n",
       "  {'transaction-id': 1120, 'amount': 1002},\n",
       "  {'transaction-id': 1276, 'amount': 1001},\n",
       "  {'transaction-id': 1510, 'amount': 996},\n",
       "  {'transaction-id': 1575, 'amount': 972},\n",
       "  {'transaction-id': 1802, 'amount': 1002},\n",
       "  {'transaction-id': 2081, 'amount': 958},\n",
       "  {'transaction-id': 2136, 'amount': 957},\n",
       "  {'transaction-id': 2156, 'amount': 950},\n",
       "  {'transaction-id': 2309, 'amount': 885},\n",
       "  {'transaction-id': 2358, 'amount': 957},\n",
       "  {'transaction-id': 2545, 'amount': 967},\n",
       "  {'transaction-id': 2609, 'amount': 1006},\n",
       "  {'transaction-id': 2752, 'amount': 973},\n",
       "  {'transaction-id': 2912, 'amount': 950},\n",
       "  {'transaction-id': 3026, 'amount': 934},\n",
       "  {'transaction-id': 3038, 'amount': 949},\n",
       "  {'transaction-id': 3041, 'amount': 927},\n",
       "  {'transaction-id': 3379, 'amount': 896},\n",
       "  {'transaction-id': 3436, 'amount': 874},\n",
       "  {'transaction-id': 3464, 'amount': 991},\n",
       "  {'transaction-id': 3465, 'amount': 959},\n",
       "  {'transaction-id': 3523, 'amount': 955},\n",
       "  {'transaction-id': 3590, 'amount': 933},\n",
       "  {'transaction-id': 3799, 'amount': 1014},\n",
       "  {'transaction-id': 3824, 'amount': 991},\n",
       "  {'transaction-id': 3852, 'amount': 963},\n",
       "  {'transaction-id': 3853, 'amount': 938},\n",
       "  {'transaction-id': 3958, 'amount': 908},\n",
       "  {'transaction-id': 4100, 'amount': 913},\n",
       "  {'transaction-id': 4145, 'amount': 911},\n",
       "  {'transaction-id': 4182, 'amount': 933},\n",
       "  {'transaction-id': 4258, 'amount': 848},\n",
       "  {'transaction-id': 4308, 'amount': 922},\n",
       "  {'transaction-id': 4398, 'amount': 983},\n",
       "  {'transaction-id': 4513, 'amount': 911},\n",
       "  {'transaction-id': 4659, 'amount': 966},\n",
       "  {'transaction-id': 4673, 'amount': 949},\n",
       "  {'transaction-id': 4720, 'amount': 991},\n",
       "  {'transaction-id': 4724, 'amount': 981},\n",
       "  {'transaction-id': 4734, 'amount': 893},\n",
       "  {'transaction-id': 4791, 'amount': 930},\n",
       "  {'transaction-id': 4809, 'amount': 1085},\n",
       "  {'transaction-id': 4870, 'amount': 984},\n",
       "  {'transaction-id': 5000, 'amount': 942},\n",
       "  {'transaction-id': 5104, 'amount': 986},\n",
       "  {'transaction-id': 5143, 'amount': 988},\n",
       "  {'transaction-id': 5369, 'amount': 931},\n",
       "  {'transaction-id': 5386, 'amount': 1103},\n",
       "  {'transaction-id': 5722, 'amount': 947},\n",
       "  {'transaction-id': 6093, 'amount': 876},\n",
       "  {'transaction-id': 6119, 'amount': 981},\n",
       "  {'transaction-id': 6124, 'amount': 1024},\n",
       "  {'transaction-id': 6336, 'amount': 943},\n",
       "  {'transaction-id': 6739, 'amount': 968},\n",
       "  {'transaction-id': 6773, 'amount': 970},\n",
       "  {'transaction-id': 6860, 'amount': 1005},\n",
       "  {'transaction-id': 6958, 'amount': 948},\n",
       "  {'transaction-id': 7223, 'amount': 911},\n",
       "  {'transaction-id': 7314, 'amount': 923},\n",
       "  {'transaction-id': 7335, 'amount': 944},\n",
       "  {'transaction-id': 7393, 'amount': 1012},\n",
       "  {'transaction-id': 7589, 'amount': 918},\n",
       "  {'transaction-id': 7615, 'amount': 909},\n",
       "  {'transaction-id': 7721, 'amount': 919},\n",
       "  {'transaction-id': 7833, 'amount': 900},\n",
       "  {'transaction-id': 7959, 'amount': 888},\n",
       "  {'transaction-id': 7996, 'amount': 984},\n",
       "  {'transaction-id': 8117, 'amount': 869},\n",
       "  {'transaction-id': 8158, 'amount': 1056},\n",
       "  {'transaction-id': 8204, 'amount': 975},\n",
       "  {'transaction-id': 8220, 'amount': 941},\n",
       "  {'transaction-id': 8303, 'amount': 916},\n",
       "  {'transaction-id': 8576, 'amount': 994},\n",
       "  {'transaction-id': 8592, 'amount': 902},\n",
       "  {'transaction-id': 8707, 'amount': 931},\n",
       "  {'transaction-id': 8711, 'amount': 995},\n",
       "  {'transaction-id': 8784, 'amount': 935},\n",
       "  {'transaction-id': 8801, 'amount': 930},\n",
       "  {'transaction-id': 8969, 'amount': 957},\n",
       "  {'transaction-id': 9014, 'amount': 933},\n",
       "  {'transaction-id': 9037, 'amount': 993},\n",
       "  {'transaction-id': 9090, 'amount': 998},\n",
       "  {'transaction-id': 9096, 'amount': 971},\n",
       "  {'transaction-id': 9456, 'amount': 933},\n",
       "  {'transaction-id': 9558, 'amount': 964},\n",
       "  {'transaction-id': 9595, 'amount': 927},\n",
       "  {'transaction-id': 9610, 'amount': 1057},\n",
       "  {'transaction-id': 9633, 'amount': 934},\n",
       "  {'transaction-id': 9640, 'amount': 1050},\n",
       "  {'transaction-id': 9894, 'amount': 945},\n",
       "  {'transaction-id': 9949, 'amount': 924}],\n",
       " [{'transaction-id': 849, 'amount': 328},\n",
       "  {'transaction-id': 1455, 'amount': 325},\n",
       "  {'transaction-id': 1497, 'amount': 302},\n",
       "  {'transaction-id': 1571, 'amount': 308},\n",
       "  {'transaction-id': 1849, 'amount': 296},\n",
       "  {'transaction-id': 2144, 'amount': 232},\n",
       "  {'transaction-id': 2202, 'amount': 320},\n",
       "  {'transaction-id': 3753, 'amount': 326},\n",
       "  {'transaction-id': 3841, 'amount': 339},\n",
       "  {'transaction-id': 4205, 'amount': 254},\n",
       "  {'transaction-id': 4685, 'amount': 351},\n",
       "  {'transaction-id': 4783, 'amount': 372},\n",
       "  {'transaction-id': 4849, 'amount': 347},\n",
       "  {'transaction-id': 4898, 'amount': 307},\n",
       "  {'transaction-id': 5016, 'amount': 270},\n",
       "  {'transaction-id': 5072, 'amount': 290},\n",
       "  {'transaction-id': 5327, 'amount': 318},\n",
       "  {'transaction-id': 5416, 'amount': 346},\n",
       "  {'transaction-id': 5598, 'amount': 303},\n",
       "  {'transaction-id': 5824, 'amount': 281},\n",
       "  {'transaction-id': 5899, 'amount': 247},\n",
       "  {'transaction-id': 6535, 'amount': 297},\n",
       "  {'transaction-id': 6799, 'amount': 306},\n",
       "  {'transaction-id': 7423, 'amount': 340},\n",
       "  {'transaction-id': 7903, 'amount': 358}],\n",
       " [{'transaction-id': 23, 'amount': 24},\n",
       "  {'transaction-id': 46, 'amount': 7},\n",
       "  {'transaction-id': 502, 'amount': 21},\n",
       "  {'transaction-id': 552, 'amount': 20},\n",
       "  {'transaction-id': 554, 'amount': 34},\n",
       "  {'transaction-id': 838, 'amount': 17},\n",
       "  {'transaction-id': 1395, 'amount': 18},\n",
       "  {'transaction-id': 2100, 'amount': 15},\n",
       "  {'transaction-id': 2818, 'amount': 32},\n",
       "  {'transaction-id': 2986, 'amount': 35},\n",
       "  {'transaction-id': 3278, 'amount': 37},\n",
       "  {'transaction-id': 3790, 'amount': 35},\n",
       "  {'transaction-id': 3904, 'amount': 15},\n",
       "  {'transaction-id': 4030, 'amount': 22},\n",
       "  {'transaction-id': 5227, 'amount': 23},\n",
       "  {'transaction-id': 5490, 'amount': 13},\n",
       "  {'transaction-id': 5668, 'amount': 19},\n",
       "  {'transaction-id': 5758, 'amount': 38},\n",
       "  {'transaction-id': 6654, 'amount': 38},\n",
       "  {'transaction-id': 7308, 'amount': 33},\n",
       "  {'transaction-id': 8492, 'amount': 25},\n",
       "  {'transaction-id': 8965, 'amount': 33},\n",
       "  {'transaction-id': 9452, 'amount': 17}])"
      ]
     },
     "execution_count": 15,
     "metadata": {},
     "output_type": "execute_result"
    }
   ],
   "source": [
    "js.filter(lambda record: record['name'] == 'Alice').pluck('transactions').take(3)"
   ]
  },
  {
   "cell_type": "code",
   "execution_count": 16,
   "metadata": {},
   "outputs": [
    {
     "data": {
      "text/plain": [
       "({'transaction-id': 135, 'amount': 938},\n",
       " {'transaction-id': 154, 'amount': 1002},\n",
       " {'transaction-id': 163, 'amount': 1073})"
      ]
     },
     "execution_count": 16,
     "metadata": {},
     "output_type": "execute_result"
    }
   ],
   "source": [
    "(js.filter(lambda record: record['name'] == 'Alice')\n",
    "   .pluck('transactions')\n",
    "   .flatten()\n",
    "   .take(3))"
   ]
  },
  {
   "cell_type": "code",
   "execution_count": 17,
   "metadata": {},
   "outputs": [
    {
     "data": {
      "text/plain": [
       "(938, 1002, 1073)"
      ]
     },
     "execution_count": 17,
     "metadata": {},
     "output_type": "execute_result"
    }
   ],
   "source": [
    "(js.filter(lambda record: record['name'] == 'Alice')\n",
    "   .pluck('transactions')\n",
    "   .flatten()\n",
    "   .pluck('amount')\n",
    "   .take(3))"
   ]
  },
  {
   "cell_type": "code",
   "execution_count": 18,
   "metadata": {},
   "outputs": [
    {
     "data": {
      "text/plain": [
       "137.04982552232872"
      ]
     },
     "execution_count": 18,
     "metadata": {},
     "output_type": "execute_result"
    }
   ],
   "source": [
    "(js.filter(lambda record: record['name'] == 'Alice')\n",
    "   .pluck('transactions')\n",
    "   .flatten()\n",
    "   .pluck('amount')\n",
    "   .mean()\n",
    "   .compute())"
   ]
  },
  {
   "cell_type": "markdown",
   "metadata": {},
   "source": [
    "### Groupby and Foldby"
   ]
  },
  {
   "cell_type": "markdown",
   "metadata": {},
   "source": [
    "Often we want to group data by some function or key.  We can do this either with the `.groupby` method, which is straightforward but forces a full shuffle of the data (expensive) or with the harder-to-use but faster `.foldby` method, which does a streaming combined groupby and reduction.\n",
    "\n",
    "*  `groupby`:  Shuffles data so that all items with the same key are in the same key-value pair\n",
    "*  `foldby`:  Walks through the data accumulating a result per key\n",
    "\n",
    "*Note: the full groupby is particularly bad. In actual workloads you would do well to use `foldby` or switch to `DataFrame`s if possible.*"
   ]
  },
  {
   "cell_type": "markdown",
   "metadata": {},
   "source": [
    "### `groupby`"
   ]
  },
  {
   "cell_type": "markdown",
   "metadata": {},
   "source": [
    "Groupby collects items in your collection so that all items with the same value under some function are collected together into a key-value pair."
   ]
  },
  {
   "cell_type": "code",
   "execution_count": 19,
   "metadata": {},
   "outputs": [
    {
     "data": {
      "text/plain": [
       "[(7, ['Charlie']), (3, ['Bob', 'Dan']), (5, ['Alice', 'Edith', 'Frank'])]"
      ]
     },
     "execution_count": 19,
     "metadata": {},
     "output_type": "execute_result"
    }
   ],
   "source": [
    "b = db.from_sequence(['Alice', 'Bob', 'Charlie', 'Dan', 'Edith', 'Frank'])\n",
    "b.groupby(len).compute()  # names grouped by length"
   ]
  },
  {
   "cell_type": "code",
   "execution_count": 20,
   "metadata": {},
   "outputs": [
    {
     "data": {
      "text/plain": [
       "[(0, [0, 2, 4, 6, 8]), (1, [1, 3, 5, 7, 9])]"
      ]
     },
     "execution_count": 20,
     "metadata": {},
     "output_type": "execute_result"
    }
   ],
   "source": [
    "b = db.from_sequence(list(range(10)))\n",
    "b.groupby(lambda x: x % 2).compute()"
   ]
  },
  {
   "cell_type": "code",
   "execution_count": 21,
   "metadata": {},
   "outputs": [
    {
     "data": {
      "text/plain": [
       "[(0, 8), (1, 9)]"
      ]
     },
     "execution_count": 21,
     "metadata": {},
     "output_type": "execute_result"
    }
   ],
   "source": [
    "b.groupby(lambda x: x % 2).starmap(lambda k, v: (k, max(v))).compute()"
   ]
  },
  {
   "cell_type": "markdown",
   "metadata": {},
   "source": [
    "### `foldby`"
   ]
  },
  {
   "cell_type": "markdown",
   "metadata": {},
   "source": [
    "Foldby can be quite odd at first.  It is similar to the following functions from other libraries:\n",
    "\n",
    "*  [`toolz.reduceby`](http://toolz.readthedocs.io/en/latest/streaming-analytics.html#streaming-split-apply-combine)\n",
    "*  [`pyspark.RDD.combineByKey`](http://abshinn.github.io/python/apache-spark/2014/10/11/using-combinebykey-in-apache-spark/)\n",
    "\n",
    "When using `foldby` you provide \n",
    "\n",
    "1.  A key function on which to group elements\n",
    "2.  A binary operator such as you would pass to `reduce` that you use to perform reduction per each group\n",
    "3.  A combine binary operator that can combine the results of two `reduce` calls on different parts of your dataset.\n",
    "\n",
    "Your reduction must be associative.  It will happen in parallel in each of the partitions of your dataset.  Then all of these intermediate results will be combined by the `combine` binary operator."
   ]
  },
  {
   "cell_type": "code",
   "execution_count": 22,
   "metadata": {},
   "outputs": [
    {
     "data": {
      "text/plain": [
       "[(0, 8), (1, 9)]"
      ]
     },
     "execution_count": 22,
     "metadata": {},
     "output_type": "execute_result"
    }
   ],
   "source": [
    "is_even = lambda x: x % 2\n",
    "b.foldby(is_even, binop=max, combine=max).compute()"
   ]
  },
  {
   "cell_type": "markdown",
   "metadata": {},
   "source": [
    "### Example with account data"
   ]
  },
  {
   "cell_type": "markdown",
   "metadata": {},
   "source": [
    "We find the number of people with the same name."
   ]
  },
  {
   "cell_type": "code",
   "execution_count": 23,
   "metadata": {},
   "outputs": [
    {
     "name": "stdout",
     "output_type": "stream",
     "text": [
      "[('Alice', 153), ('Alice', 155), ('Alice', 167), ('Alice', 168), ('Bob', 84), ('Bob', 84), ('Bob', 91), ('Bob', 91), ('Charlie', 35), ('Charlie', 35), ('Charlie', 37), ('Charlie', 45), ('Dan', 144), ('Dan', 148), ('Dan', 156), ('Dan', 161), ('Edith', 91), ('Edith', 94), ('Edith', 100), ('Edith', 101), ('Frank', 84), ('Frank', 84), ('Frank', 91), ('Frank', 91), ('George', 132), ('George', 132), ('George', 143), ('George', 143), ('Hannah', 51), ('Hannah', 52), ('Hannah', 94), ('Ingrid', 108), ('Ingrid', 108), ('Ingrid', 117), ('Ingrid', 117), ('Jerry', 107), ('Jerry', 114), ('Jerry', 119), ('Jerry', 120), ('Kevin', 100), ('Kevin', 100), ('Kevin', 109), ('Kevin', 110), ('Laura', 36), ('Laura', 36), ('Laura', 39), ('Laura', 39), ('Michael', 120), ('Michael', 130), ('Michael', 250), ('Norbert', 101), ('Norbert', 104), ('Norbert', 113), ('Norbert', 113), ('Oliver', 108), ('Oliver', 108), ('Oliver', 117), ('Oliver', 117), ('Patricia', 137), ('Patricia', 138), ('Patricia', 146), ('Patricia', 151), ('Quinn', 131), ('Quinn', 132), ('Quinn', 140), ('Quinn', 142), ('Ray', 173), ('Ray', 174), ('Ray', 188), ('Ray', 190), ('Sarah', 156), ('Sarah', 156), ('Sarah', 169), ('Sarah', 169), ('Tim', 115), ('Tim', 120), ('Tim', 242), ('Ursula', 82), ('Ursula', 84), ('Ursula', 90), ('Ursula', 91), ('Victor', 132), ('Victor', 132), ('Victor', 143), ('Victor', 143), ('Wendy', 66), ('Wendy', 70), ('Wendy', 74), ('Wendy', 74), ('Xavier', 108), ('Xavier', 108), ('Xavier', 117), ('Xavier', 117), ('Yvonne', 120), ('Yvonne', 120), ('Yvonne', 130), ('Yvonne', 130), ('Zelda', 222), ('Zelda', 223), ('Zelda', 240), ('Zelda', 241)]\n",
      "CPU times: user 1.3 s, sys: 90.4 ms, total: 1.39 s\n",
      "Wall time: 7.97 s\n"
     ]
    }
   ],
   "source": [
    "%%time\n",
    "# Warning, this one takes a while...\n",
    "result = js.groupby(lambda item: item['name']).starmap(lambda k, v: (k, len(v))).compute()\n",
    "print(sorted(result))"
   ]
  },
  {
   "cell_type": "code",
   "execution_count": 24,
   "metadata": {},
   "outputs": [
    {
     "name": "stdout",
     "output_type": "stream",
     "text": [
      "[('Alice', 643), ('Bob', 350), ('Charlie', 152), ('Dan', 609), ('Edith', 386), ('Frank', 350), ('George', 550), ('Hannah', 197), ('Ingrid', 450), ('Jerry', 460), ('Kevin', 419), ('Laura', 150), ('Michael', 500), ('Norbert', 431), ('Oliver', 450), ('Patricia', 572), ('Quinn', 545), ('Ray', 725), ('Sarah', 650), ('Tim', 477), ('Ursula', 347), ('Victor', 550), ('Wendy', 284), ('Xavier', 450), ('Yvonne', 500), ('Zelda', 926)]\n",
      "CPU times: user 116 ms, sys: 12.8 ms, total: 129 ms\n",
      "Wall time: 556 ms\n"
     ]
    }
   ],
   "source": [
    "%%time\n",
    "# This one is comparatively fast and produces the same result.\n",
    "from operator import add\n",
    "def incr(tot, _):\n",
    "    return tot+1\n",
    "\n",
    "result = js.foldby(key='name', \n",
    "                   binop=incr, \n",
    "                   initial=0, \n",
    "                   combine=add, \n",
    "                   combine_initial=0).compute()\n",
    "print(sorted(result))"
   ]
  },
  {
   "cell_type": "markdown",
   "metadata": {},
   "source": [
    "### Exercise: compute total amount per name"
   ]
  },
  {
   "cell_type": "markdown",
   "metadata": {},
   "source": [
    "We want to groupby (or foldby) the `name` key, then add up the all of the amounts for each name.\n",
    "\n",
    "Steps\n",
    "\n",
    "1.  Create a small function that, given a dictionary like \n",
    "\n",
    "        {'name': 'Alice', 'transactions': [{'amount': 1, 'id': 123}, {'amount': 2, 'id': 456}]}\n",
    "        \n",
    "    produces the sum of the amounts, e.g. `3`\n",
    "    \n",
    "2.  Slightly change the binary operator of the `foldby` example above so that the binary operator doesn't count the number of entries, but instead accumulates the sum of the amounts."
   ]
  },
  {
   "cell_type": "code",
   "execution_count": 25,
   "metadata": {},
   "outputs": [],
   "source": [
    "# Your code here..."
   ]
  },
  {
   "cell_type": "markdown",
   "metadata": {},
   "source": [
    "## DataFrames"
   ]
  },
  {
   "cell_type": "markdown",
   "metadata": {},
   "source": [
    "For the same reasons that Pandas is often faster than pure Python, `dask.dataframe` can be faster than `dask.bag`.  We will work more with DataFrames later, but from for the bag point of view, they are frequently the end-point of the \"messy\" part of data ingestion—once the data can be made into a data-frame, then complex split-apply-combine logic will become much more straight-forward and efficient.\n",
    "\n",
    "You can transform a bag with a simple tuple or flat dictionary structure into a `dask.dataframe` with the `to_dataframe` method."
   ]
  },
  {
   "cell_type": "code",
   "execution_count": 26,
   "metadata": {},
   "outputs": [
    {
     "data": {
      "text/html": [
       "<div>\n",
       "<style scoped>\n",
       "    .dataframe tbody tr th:only-of-type {\n",
       "        vertical-align: middle;\n",
       "    }\n",
       "\n",
       "    .dataframe tbody tr th {\n",
       "        vertical-align: top;\n",
       "    }\n",
       "\n",
       "    .dataframe thead th {\n",
       "        text-align: right;\n",
       "    }\n",
       "</style>\n",
       "<table border=\"1\" class=\"dataframe\">\n",
       "  <thead>\n",
       "    <tr style=\"text-align: right;\">\n",
       "      <th></th>\n",
       "      <th>id</th>\n",
       "      <th>name</th>\n",
       "      <th>transactions</th>\n",
       "    </tr>\n",
       "  </thead>\n",
       "  <tbody>\n",
       "    <tr>\n",
       "      <th>0</th>\n",
       "      <td>0</td>\n",
       "      <td>Laura</td>\n",
       "      <td>[{'transaction-id': 27, 'amount': 2682}, {'tra...</td>\n",
       "    </tr>\n",
       "    <tr>\n",
       "      <th>1</th>\n",
       "      <td>1</td>\n",
       "      <td>Ingrid</td>\n",
       "      <td>[{'transaction-id': 90, 'amount': 2366}, {'tra...</td>\n",
       "    </tr>\n",
       "    <tr>\n",
       "      <th>2</th>\n",
       "      <td>2</td>\n",
       "      <td>Ray</td>\n",
       "      <td>[{'transaction-id': 204, 'amount': 252}, {'tra...</td>\n",
       "    </tr>\n",
       "    <tr>\n",
       "      <th>3</th>\n",
       "      <td>3</td>\n",
       "      <td>Oliver</td>\n",
       "      <td>[{'transaction-id': 3742, 'amount': 161}, {'tr...</td>\n",
       "    </tr>\n",
       "    <tr>\n",
       "      <th>4</th>\n",
       "      <td>4</td>\n",
       "      <td>Patricia</td>\n",
       "      <td>[{'transaction-id': 8, 'amount': 4821}, {'tran...</td>\n",
       "    </tr>\n",
       "  </tbody>\n",
       "</table>\n",
       "</div>"
      ],
      "text/plain": [
       "   id      name                                       transactions\n",
       "0   0     Laura  [{'transaction-id': 27, 'amount': 2682}, {'tra...\n",
       "1   1    Ingrid  [{'transaction-id': 90, 'amount': 2366}, {'tra...\n",
       "2   2       Ray  [{'transaction-id': 204, 'amount': 252}, {'tra...\n",
       "3   3    Oliver  [{'transaction-id': 3742, 'amount': 161}, {'tr...\n",
       "4   4  Patricia  [{'transaction-id': 8, 'amount': 4821}, {'tran..."
      ]
     },
     "execution_count": 26,
     "metadata": {},
     "output_type": "execute_result"
    }
   ],
   "source": [
    "df1 = js.to_dataframe()\n",
    "df1.head()"
   ]
  },
  {
   "cell_type": "markdown",
   "metadata": {},
   "source": [
    "This now looks like a well-defined DataFrame, and we can apply Pandas-like computations to it efficiently."
   ]
  },
  {
   "cell_type": "markdown",
   "metadata": {},
   "source": [
    "Using a Dask DataFrame, how long does it take to do our prior computation of numbers of people with the same name?  It turns out that `dask.dataframe.groupby()` beats `dask.bag.groupby()` more than an order of magnitude; but it still cannot match `dask.bag.foldby()` for this case."
   ]
  },
  {
   "cell_type": "code",
   "execution_count": 27,
   "metadata": {},
   "outputs": [
    {
     "name": "stdout",
     "output_type": "stream",
     "text": [
      "CPU times: user 171 ms, sys: 15.6 ms, total: 186 ms\n",
      "Wall time: 1.6 s\n"
     ]
    },
    {
     "data": {
      "text/plain": [
       "name\n",
       "Alice      643\n",
       "Bob        350\n",
       "Charlie    152\n",
       "Dan        609\n",
       "Edith      386\n",
       "Name: id, dtype: int64"
      ]
     },
     "execution_count": 27,
     "metadata": {},
     "output_type": "execute_result"
    }
   ],
   "source": [
    "%time df1.groupby('name').id.count().compute().head()"
   ]
  },
  {
   "cell_type": "markdown",
   "metadata": {},
   "source": [
    "### Denormalization"
   ]
  },
  {
   "cell_type": "markdown",
   "metadata": {},
   "source": [
    "This DataFrame format is less-than-optimal because the `transactions` column is filled with nested data so Pandas has to revert to `object` dtype, which is quite slow in Pandas.  Ideally we want to transform to a dataframe only after we have flattened our data so that each record is a single `int`, `string`, `float`, etc.."
   ]
  },
  {
   "cell_type": "code",
   "execution_count": 28,
   "metadata": {},
   "outputs": [
    {
     "data": {
      "text/plain": [
       "({'id': 0, 'name': 'Laura', 'amount': 2682, 'transaction-id': 27},\n",
       " {'id': 0, 'name': 'Laura', 'amount': 2914, 'transaction-id': 76},\n",
       " {'id': 0, 'name': 'Laura', 'amount': 1957, 'transaction-id': 2274})"
      ]
     },
     "execution_count": 28,
     "metadata": {},
     "output_type": "execute_result"
    }
   ],
   "source": [
    "def denormalize(record):\n",
    "    # returns a list for every nested item, each transaction of each person\n",
    "    return [{'id': record['id'], \n",
    "             'name': record['name'], \n",
    "             'amount': transaction['amount'], \n",
    "             'transaction-id': transaction['transaction-id']}\n",
    "            for transaction in record['transactions']]\n",
    "\n",
    "transactions = js.map(denormalize).flatten()\n",
    "transactions.take(3)"
   ]
  },
  {
   "cell_type": "code",
   "execution_count": 29,
   "metadata": {},
   "outputs": [
    {
     "data": {
      "text/html": [
       "<div>\n",
       "<style scoped>\n",
       "    .dataframe tbody tr th:only-of-type {\n",
       "        vertical-align: middle;\n",
       "    }\n",
       "\n",
       "    .dataframe tbody tr th {\n",
       "        vertical-align: top;\n",
       "    }\n",
       "\n",
       "    .dataframe thead th {\n",
       "        text-align: right;\n",
       "    }\n",
       "</style>\n",
       "<table border=\"1\" class=\"dataframe\">\n",
       "  <thead>\n",
       "    <tr style=\"text-align: right;\">\n",
       "      <th></th>\n",
       "      <th>id</th>\n",
       "      <th>name</th>\n",
       "      <th>amount</th>\n",
       "      <th>transaction-id</th>\n",
       "    </tr>\n",
       "  </thead>\n",
       "  <tbody>\n",
       "    <tr>\n",
       "      <th>0</th>\n",
       "      <td>0</td>\n",
       "      <td>Laura</td>\n",
       "      <td>2682</td>\n",
       "      <td>27</td>\n",
       "    </tr>\n",
       "    <tr>\n",
       "      <th>1</th>\n",
       "      <td>0</td>\n",
       "      <td>Laura</td>\n",
       "      <td>2914</td>\n",
       "      <td>76</td>\n",
       "    </tr>\n",
       "    <tr>\n",
       "      <th>2</th>\n",
       "      <td>0</td>\n",
       "      <td>Laura</td>\n",
       "      <td>1957</td>\n",
       "      <td>2274</td>\n",
       "    </tr>\n",
       "    <tr>\n",
       "      <th>3</th>\n",
       "      <td>0</td>\n",
       "      <td>Laura</td>\n",
       "      <td>2553</td>\n",
       "      <td>2385</td>\n",
       "    </tr>\n",
       "    <tr>\n",
       "      <th>4</th>\n",
       "      <td>0</td>\n",
       "      <td>Laura</td>\n",
       "      <td>2334</td>\n",
       "      <td>3412</td>\n",
       "    </tr>\n",
       "  </tbody>\n",
       "</table>\n",
       "</div>"
      ],
      "text/plain": [
       "   id   name  amount  transaction-id\n",
       "0   0  Laura    2682              27\n",
       "1   0  Laura    2914              76\n",
       "2   0  Laura    1957            2274\n",
       "3   0  Laura    2553            2385\n",
       "4   0  Laura    2334            3412"
      ]
     },
     "execution_count": 29,
     "metadata": {},
     "output_type": "execute_result"
    }
   ],
   "source": [
    "df = transactions.to_dataframe()\n",
    "df.head()"
   ]
  },
  {
   "cell_type": "code",
   "execution_count": 30,
   "metadata": {},
   "outputs": [
    {
     "name": "stdout",
     "output_type": "stream",
     "text": [
      "CPU times: user 176 ms, sys: 11.5 ms, total: 188 ms\n",
      "Wall time: 1.4 s\n"
     ]
    },
    {
     "data": {
      "text/plain": [
       "name\n",
       "Alice       22639\n",
       "Bob         25873\n",
       "Charlie      5422\n",
       "Dan         20226\n",
       "Edith       18630\n",
       "Frank       18085\n",
       "George      28650\n",
       "Hannah       3425\n",
       "Ingrid      21950\n",
       "Jerry       19508\n",
       "Kevin       28194\n",
       "Laura        3274\n",
       "Michael     20159\n",
       "Norbert     19880\n",
       "Oliver      23148\n",
       "Patricia    12767\n",
       "Quinn       28178\n",
       "Ray         23156\n",
       "Sarah       27438\n",
       "Tim         19426\n",
       "Ursula       3596\n",
       "Victor      26716\n",
       "Wendy        8848\n",
       "Xavier      21731\n",
       "Yvonne      20000\n",
       "Zelda       29081\n",
       "Name: transaction-id, dtype: int64"
      ]
     },
     "execution_count": 30,
     "metadata": {},
     "output_type": "execute_result"
    }
   ],
   "source": [
    "%%time\n",
    "# number of transactions per name\n",
    "# note that the time here includes the data load and ingestion\n",
    "df.groupby('name')['transaction-id'].count().compute()"
   ]
  },
  {
   "cell_type": "markdown",
   "metadata": {},
   "source": [
    "## Limitations"
   ]
  },
  {
   "cell_type": "markdown",
   "metadata": {},
   "source": [
    "Bags provide very general computation (any Python function.)  This generality\n",
    "comes at cost.  Bags have the following known limitations\n",
    "\n",
    "1.  Bag operations tend to be slower than array/dataframe computations in the\n",
    "    same way that Python tends to be slower than NumPy/Pandas\n",
    "2.  ``Bag.groupby`` is slow.  You should try to use ``Bag.foldby`` if possible.\n",
    "    Using ``Bag.foldby`` requires more thought. Even better, consider creating\n",
    "    a normalised dataframe."
   ]
  },
  {
   "cell_type": "markdown",
   "metadata": {},
   "source": [
    "## Learn More\n",
    "\n",
    "* [Bag documentation](https://docs.dask.org/en/latest/bag.html)\n",
    "* [Bag screencast](https://youtu.be/-qIiJ1XtSv0)\n",
    "* [Bag API](https://docs.dask.org/en/latest/bag-api.html)\n",
    "* [Bag examples](https://examples.dask.org/bag.html)"
   ]
  },
  {
   "cell_type": "markdown",
   "metadata": {},
   "source": [
    "## Shutdown"
   ]
  },
  {
   "cell_type": "code",
   "execution_count": 31,
   "metadata": {},
   "outputs": [],
   "source": [
    "client.shutdown()"
   ]
  }
 ],
 "metadata": {
  "anaconda-cloud": {},
  "kernelspec": {
   "display_name": "Python 3",
   "language": "python",
   "name": "python3"
  },
  "language_info": {
   "codemirror_mode": {
    "name": "ipython",
    "version": 3
   },
   "file_extension": ".py",
   "mimetype": "text/x-python",
   "name": "python",
   "nbconvert_exporter": "python",
   "pygments_lexer": "ipython3",
   "version": "3.8.3"
  }
 },
 "nbformat": 4,
 "nbformat_minor": 4
}
