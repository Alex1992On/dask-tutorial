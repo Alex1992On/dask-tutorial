{
 "cells": [
  {
   "cell_type": "markdown",
   "metadata": {},
   "source": [
    "<img src=\"images/dask_horizontal.svg\" align=\"right\" width=\"30%\">"
   ]
  },
  {
   "cell_type": "markdown",
   "metadata": {},
   "source": [
    "# Bag: Parallel Lists for semi-structured data"
   ]
  },
  {
   "cell_type": "markdown",
   "metadata": {},
   "source": [
    "Dask-bag excels in processing data that can be represented as a sequence of arbitrary inputs. We'll refer to this as \"messy\" data, because it can contain complex nested structures, missing fields, mixtures of data types, etc. The *functional* programming style fits very nicely with standard Python iteration, such as can be found in the `itertools` module.\n",
    "\n",
    "Messy data is often encountered at the beginning of data processing pipelines when large volumes of raw data are first consumed. The initial set of data might be JSON, CSV, XML, or any other format that does not enforce strict structure and datatypes.\n",
    "For this reason, the initial data massaging and processing is often done with Python `list`s, `dict`s, and `set`s.\n",
    "\n",
    "These core data structures are optimized for general-purpose storage and processing.  Adding streaming computation with iterators/generator expressions or libraries like `itertools` or [`toolz`](https://toolz.readthedocs.io/en/latest/) let us process large volumes in a small space.  If we combine this with parallel processing then we can churn through a fair amount of data.\n",
    "\n",
    "Dask.bag is a high level Dask collection to automate common workloads of this form.  In a nutshell\n",
    "\n",
    "    dask.bag = map, filter, toolz + parallel execution\n",
    "    \n",
    "**Related Documentation**\n",
    "\n",
    "* [Bag documentation](https://docs.dask.org/en/latest/bag.html)\n",
    "* [Bag screencast](https://youtu.be/-qIiJ1XtSv0)\n",
    "* [Bag API](https://docs.dask.org/en/latest/bag-api.html)\n",
    "* [Bag examples](https://examples.dask.org/bag.html)"
   ]
  },
  {
   "cell_type": "markdown",
   "metadata": {},
   "source": [
    "## Create data"
   ]
  },
  {
   "cell_type": "code",
   "execution_count": 1,
   "metadata": {},
   "outputs": [],
   "source": [
    "%run prep.py -d accounts"
   ]
  },
  {
   "cell_type": "markdown",
   "metadata": {},
   "source": [
    "## Setup"
   ]
  },
  {
   "cell_type": "markdown",
   "metadata": {},
   "source": [
    "Again, we'll use the distributed scheduler. Schedulers will be explained in depth [later](05_distributed.ipynb)."
   ]
  },
  {
   "cell_type": "code",
   "execution_count": 2,
   "metadata": {},
   "outputs": [],
   "source": [
    "from dask.distributed import Client\n",
    "\n",
    "client = Client(n_workers=4)"
   ]
  },
  {
   "cell_type": "markdown",
   "metadata": {},
   "source": [
    "## Creation"
   ]
  },
  {
   "cell_type": "markdown",
   "metadata": {},
   "source": [
    "You can create a `Bag` from a Python sequence, from files, from data on S3, etc.\n",
    "We demonstrate using `.take()` to show elements of the data. (Doing `.take(1)` results in a tuple with one element)\n",
    "\n",
    "Note that the data are partitioned into blocks, and there are many items per block. In the first example, the two partitions contain five elements each, and in the following two, each file is partitioned into one or more bytes blocks."
   ]
  },
  {
   "cell_type": "code",
   "execution_count": 3,
   "metadata": {},
   "outputs": [
    {
     "data": {
      "text/plain": [
       "(1, 2, 3)"
      ]
     },
     "execution_count": 3,
     "metadata": {},
     "output_type": "execute_result"
    }
   ],
   "source": [
    "# each element is an integer\n",
    "import dask.bag as db\n",
    "b = db.from_sequence([1, 2, 3, 4, 5, 6, 7, 8, 9, 10], npartitions=2)\n",
    "b.take(3)"
   ]
  },
  {
   "cell_type": "code",
   "execution_count": 4,
   "metadata": {},
   "outputs": [
    {
     "data": {
      "text/plain": [
       "('{\"id\": 0, \"name\": \"Hannah\", \"transactions\": [{\"transaction-id\": 4274, \"amount\": -835}]}\\n',)"
      ]
     },
     "execution_count": 4,
     "metadata": {},
     "output_type": "execute_result"
    }
   ],
   "source": [
    "# each element is a text file, where each line is a JSON object\n",
    "# note that the compression is handled automatically\n",
    "import os\n",
    "b = db.read_text(os.path.join('data', 'accounts.*.json.gz'))\n",
    "b.take(1)"
   ]
  },
  {
   "cell_type": "code",
   "execution_count": 5,
   "metadata": {},
   "outputs": [
    {
     "data": {
      "text/plain": [
       "('VendorID,tpep_pickup_datetime,tpep_dropoff_datetime,passenger_count,trip_distance,pickup_longitude,pickup_latitude,RateCodeID,store_and_fwd_flag,dropoff_longitude,dropoff_latitude,payment_type,fare_amount,extra,mta_tax,tip_amount,tolls_amount,improvement_surcharge,total_amount\\n',)"
      ]
     },
     "execution_count": 5,
     "metadata": {},
     "output_type": "execute_result"
    }
   ],
   "source": [
    "# Requires `s3fs` library\n",
    "# each partition is a remote CSV text file\n",
    "b = db.read_text('s3://dask-data/nyc-taxi/2015/yellow_tripdata_2015-01.csv',\n",
    "                 storage_options={'anon': True})\n",
    "b.take(1)"
   ]
  },
  {
   "cell_type": "markdown",
   "metadata": {},
   "source": [
    "## Manipulation"
   ]
  },
  {
   "cell_type": "markdown",
   "metadata": {},
   "source": [
    "`Bag` objects hold the standard functional API found in projects like the Python standard library, `toolz`, or `pyspark`, including `map`, `filter`, `groupby`, etc..\n",
    "\n",
    "Operations on `Bag` objects create new bags.  Call the `.compute()` method to trigger execution, as we saw for `Delayed` objects.  "
   ]
  },
  {
   "cell_type": "code",
   "execution_count": 6,
   "metadata": {},
   "outputs": [
    {
     "data": {
      "text/plain": [
       "dask.bag<lambda, npartitions=10>"
      ]
     },
     "execution_count": 6,
     "metadata": {},
     "output_type": "execute_result"
    }
   ],
   "source": [
    "def is_even(n):\n",
    "    return n % 2 == 0\n",
    "\n",
    "b = db.from_sequence([1, 2, 3, 4, 5, 6, 7, 8, 9, 10])\n",
    "c = b.filter(is_even).map(lambda x: x ** 2)\n",
    "c"
   ]
  },
  {
   "cell_type": "code",
   "execution_count": 7,
   "metadata": {},
   "outputs": [
    {
     "data": {
      "text/plain": [
       "[4, 16, 36, 64, 100]"
      ]
     },
     "execution_count": 7,
     "metadata": {},
     "output_type": "execute_result"
    }
   ],
   "source": [
    "# blocking form: wait for completion (which is very fast in this case)\n",
    "c.compute()"
   ]
  },
  {
   "cell_type": "markdown",
   "metadata": {},
   "source": [
    "### Example: Accounts JSON data"
   ]
  },
  {
   "cell_type": "markdown",
   "metadata": {},
   "source": [
    "We've created a fake dataset of gzipped JSON data in your data directory.  This is like the example used in the `DataFrame` example we will see later, except that it has bundled up all of the entires for each individual `id` into a single record.  This is similar to data that you might collect off of a document store database or a web API.\n",
    "\n",
    "Each line is a JSON encoded dictionary with the following keys\n",
    "\n",
    "*  id: Unique identifier of the customer\n",
    "*  name: Name of the customer\n",
    "*  transactions: List of `transaction-id`, `amount` pairs, one for each transaction for the customer in that file"
   ]
  },
  {
   "cell_type": "code",
   "execution_count": 8,
   "metadata": {},
   "outputs": [
    {
     "data": {
      "text/plain": [
       "('{\"id\": 0, \"name\": \"Hannah\", \"transactions\": [{\"transaction-id\": 4274, \"amount\": -835}]}\\n',\n",
       " '{\"id\": 1, \"name\": \"Patricia\", \"transactions\": [{\"transaction-id\": 742, \"amount\": 1782}, {\"transaction-id\": 853, \"amount\": 1862}, {\"transaction-id\": 1720, \"amount\": 1892}, {\"transaction-id\": 1776, \"amount\": 1961}, {\"transaction-id\": 1890, \"amount\": 1851}, {\"transaction-id\": 2230, \"amount\": 1942}, {\"transaction-id\": 2820, \"amount\": 1807}, {\"transaction-id\": 3141, \"amount\": 1816}, {\"transaction-id\": 3605, \"amount\": 1922}, {\"transaction-id\": 4442, \"amount\": 1889}, {\"transaction-id\": 4491, \"amount\": 2001}, {\"transaction-id\": 4506, \"amount\": 1791}, {\"transaction-id\": 4690, \"amount\": 1833}, {\"transaction-id\": 4889, \"amount\": 1752}, {\"transaction-id\": 6177, \"amount\": 1841}, {\"transaction-id\": 6296, \"amount\": 1896}, {\"transaction-id\": 6513, \"amount\": 1798}, {\"transaction-id\": 6588, \"amount\": 1822}, {\"transaction-id\": 6944, \"amount\": 1882}, {\"transaction-id\": 7081, \"amount\": 1715}, {\"transaction-id\": 7464, \"amount\": 1854}, {\"transaction-id\": 7645, \"amount\": 1886}, {\"transaction-id\": 7974, \"amount\": 1848}, {\"transaction-id\": 8336, \"amount\": 1789}, {\"transaction-id\": 8406, \"amount\": 2038}, {\"transaction-id\": 8467, \"amount\": 1917}, {\"transaction-id\": 8552, \"amount\": 1848}, {\"transaction-id\": 8905, \"amount\": 1770}, {\"transaction-id\": 9171, \"amount\": 1875}, {\"transaction-id\": 9256, \"amount\": 1824}, {\"transaction-id\": 9778, \"amount\": 1959}]}\\n',\n",
       " '{\"id\": 2, \"name\": \"Edith\", \"transactions\": [{\"transaction-id\": 62, \"amount\": -2819}, {\"transaction-id\": 88, \"amount\": -3082}, {\"transaction-id\": 152, \"amount\": -2846}, {\"transaction-id\": 207, \"amount\": -2787}, {\"transaction-id\": 252, \"amount\": -2513}, {\"transaction-id\": 363, \"amount\": -2792}, {\"transaction-id\": 377, \"amount\": -3130}, {\"transaction-id\": 407, \"amount\": -3003}, {\"transaction-id\": 469, \"amount\": -2774}, {\"transaction-id\": 481, \"amount\": -2706}, {\"transaction-id\": 576, \"amount\": -2809}, {\"transaction-id\": 597, \"amount\": -2737}, {\"transaction-id\": 648, \"amount\": -2738}, {\"transaction-id\": 708, \"amount\": -2951}, {\"transaction-id\": 970, \"amount\": -3017}, {\"transaction-id\": 1096, \"amount\": -3008}, {\"transaction-id\": 1189, \"amount\": -2931}, {\"transaction-id\": 1193, \"amount\": -2997}, {\"transaction-id\": 1238, \"amount\": -2969}, {\"transaction-id\": 1252, \"amount\": -2746}, {\"transaction-id\": 1253, \"amount\": -2887}, {\"transaction-id\": 1330, \"amount\": -2914}, {\"transaction-id\": 1462, \"amount\": -3043}, {\"transaction-id\": 1477, \"amount\": -2737}, {\"transaction-id\": 1539, \"amount\": -2720}, {\"transaction-id\": 1768, \"amount\": -2692}, {\"transaction-id\": 1914, \"amount\": -2954}, {\"transaction-id\": 1946, \"amount\": -2544}, {\"transaction-id\": 2079, \"amount\": -3066}, {\"transaction-id\": 2084, \"amount\": -2721}, {\"transaction-id\": 2188, \"amount\": -2863}, {\"transaction-id\": 2214, \"amount\": -3052}, {\"transaction-id\": 2216, \"amount\": -2695}, {\"transaction-id\": 2239, \"amount\": -2804}, {\"transaction-id\": 2354, \"amount\": -2652}, {\"transaction-id\": 2422, \"amount\": -2874}, {\"transaction-id\": 2476, \"amount\": -3077}, {\"transaction-id\": 2541, \"amount\": -2615}, {\"transaction-id\": 2576, \"amount\": -2662}, {\"transaction-id\": 2645, \"amount\": -3258}, {\"transaction-id\": 2733, \"amount\": -2877}, {\"transaction-id\": 2755, \"amount\": -2957}, {\"transaction-id\": 2798, \"amount\": -2777}, {\"transaction-id\": 2861, \"amount\": -2714}, {\"transaction-id\": 2863, \"amount\": -2947}, {\"transaction-id\": 2901, \"amount\": -2623}, {\"transaction-id\": 2923, \"amount\": -2677}, {\"transaction-id\": 2961, \"amount\": -3077}, {\"transaction-id\": 3000, \"amount\": -2752}, {\"transaction-id\": 3036, \"amount\": -3220}, {\"transaction-id\": 3042, \"amount\": -2868}, {\"transaction-id\": 3215, \"amount\": -2542}, {\"transaction-id\": 3219, \"amount\": -2747}, {\"transaction-id\": 3307, \"amount\": -2864}, {\"transaction-id\": 3350, \"amount\": -2773}, {\"transaction-id\": 3418, \"amount\": -3055}, {\"transaction-id\": 3470, \"amount\": -2771}, {\"transaction-id\": 3526, \"amount\": -2672}, {\"transaction-id\": 3529, \"amount\": -2876}, {\"transaction-id\": 3588, \"amount\": -2562}, {\"transaction-id\": 3612, \"amount\": -2913}, {\"transaction-id\": 3653, \"amount\": -2455}, {\"transaction-id\": 3691, \"amount\": -2750}, {\"transaction-id\": 3756, \"amount\": -2657}, {\"transaction-id\": 3769, \"amount\": -3005}, {\"transaction-id\": 3847, \"amount\": -2911}, {\"transaction-id\": 3967, \"amount\": -2911}, {\"transaction-id\": 3983, \"amount\": -2696}, {\"transaction-id\": 4049, \"amount\": -3048}, {\"transaction-id\": 4061, \"amount\": -2760}, {\"transaction-id\": 4123, \"amount\": -2595}, {\"transaction-id\": 4149, \"amount\": -3163}, {\"transaction-id\": 4267, \"amount\": -2830}, {\"transaction-id\": 4393, \"amount\": -2558}, {\"transaction-id\": 4399, \"amount\": -3256}, {\"transaction-id\": 4537, \"amount\": -2895}, {\"transaction-id\": 4550, \"amount\": -3099}, {\"transaction-id\": 4672, \"amount\": -3168}, {\"transaction-id\": 4737, \"amount\": -2577}, {\"transaction-id\": 4794, \"amount\": -2979}, {\"transaction-id\": 4868, \"amount\": -2733}, {\"transaction-id\": 4877, \"amount\": -3174}, {\"transaction-id\": 4929, \"amount\": -2971}, {\"transaction-id\": 4943, \"amount\": -2909}, {\"transaction-id\": 4977, \"amount\": -2540}, {\"transaction-id\": 5010, \"amount\": -2914}, {\"transaction-id\": 5020, \"amount\": -3067}, {\"transaction-id\": 5026, \"amount\": -2916}, {\"transaction-id\": 5038, \"amount\": -2934}, {\"transaction-id\": 5054, \"amount\": -2876}, {\"transaction-id\": 5072, \"amount\": -2902}, {\"transaction-id\": 5085, \"amount\": -3109}, {\"transaction-id\": 5164, \"amount\": -2728}, {\"transaction-id\": 5174, \"amount\": -2913}, {\"transaction-id\": 5195, \"amount\": -2557}, {\"transaction-id\": 5221, \"amount\": -3085}, {\"transaction-id\": 5255, \"amount\": -2803}, {\"transaction-id\": 5327, \"amount\": -2815}, {\"transaction-id\": 5347, \"amount\": -2666}, {\"transaction-id\": 5384, \"amount\": -2962}, {\"transaction-id\": 5402, \"amount\": -3079}, {\"transaction-id\": 5623, \"amount\": -3093}, {\"transaction-id\": 5695, \"amount\": -2878}, {\"transaction-id\": 5703, \"amount\": -3252}, {\"transaction-id\": 5707, \"amount\": -2966}, {\"transaction-id\": 5731, \"amount\": -2532}, {\"transaction-id\": 5821, \"amount\": -2883}, {\"transaction-id\": 5841, \"amount\": -2778}, {\"transaction-id\": 5888, \"amount\": -3051}, {\"transaction-id\": 5929, \"amount\": -2954}, {\"transaction-id\": 5996, \"amount\": -2815}, {\"transaction-id\": 6002, \"amount\": -2650}, {\"transaction-id\": 6019, \"amount\": -2599}, {\"transaction-id\": 6151, \"amount\": -3101}, {\"transaction-id\": 6174, \"amount\": -2956}, {\"transaction-id\": 6230, \"amount\": -3153}, {\"transaction-id\": 6252, \"amount\": -2828}, {\"transaction-id\": 6263, \"amount\": -2649}, {\"transaction-id\": 6332, \"amount\": -2685}, {\"transaction-id\": 6333, \"amount\": -2916}, {\"transaction-id\": 6364, \"amount\": -2996}, {\"transaction-id\": 6601, \"amount\": -2729}, {\"transaction-id\": 6617, \"amount\": -2734}, {\"transaction-id\": 6686, \"amount\": -2973}, {\"transaction-id\": 6697, \"amount\": -3065}, {\"transaction-id\": 6940, \"amount\": -2894}, {\"transaction-id\": 7028, \"amount\": -2785}, {\"transaction-id\": 7051, \"amount\": -2698}, {\"transaction-id\": 7069, \"amount\": -2912}, {\"transaction-id\": 7082, \"amount\": -3054}, {\"transaction-id\": 7096, \"amount\": -3013}, {\"transaction-id\": 7164, \"amount\": -2480}, {\"transaction-id\": 7255, \"amount\": -2949}, {\"transaction-id\": 7323, \"amount\": -2588}, {\"transaction-id\": 7531, \"amount\": -2801}, {\"transaction-id\": 7551, \"amount\": -2977}, {\"transaction-id\": 7556, \"amount\": -2770}, {\"transaction-id\": 7585, \"amount\": -3339}, {\"transaction-id\": 7588, \"amount\": -2857}, {\"transaction-id\": 7601, \"amount\": -2810}, {\"transaction-id\": 7696, \"amount\": -2760}, {\"transaction-id\": 7756, \"amount\": -2969}, {\"transaction-id\": 7769, \"amount\": -3087}, {\"transaction-id\": 7780, \"amount\": -3007}, {\"transaction-id\": 7962, \"amount\": -2819}, {\"transaction-id\": 7975, \"amount\": -2958}, {\"transaction-id\": 8079, \"amount\": -2878}, {\"transaction-id\": 8141, \"amount\": -2791}, {\"transaction-id\": 8148, \"amount\": -2766}, {\"transaction-id\": 8156, \"amount\": -3096}, {\"transaction-id\": 8219, \"amount\": -2591}, {\"transaction-id\": 8226, \"amount\": -3003}, {\"transaction-id\": 8265, \"amount\": -2838}, {\"transaction-id\": 8329, \"amount\": -2641}, {\"transaction-id\": 8447, \"amount\": -3164}, {\"transaction-id\": 8651, \"amount\": -2703}, {\"transaction-id\": 8724, \"amount\": -2964}, {\"transaction-id\": 8773, \"amount\": -2738}, {\"transaction-id\": 8779, \"amount\": -2777}, {\"transaction-id\": 8780, \"amount\": -3150}, {\"transaction-id\": 8781, \"amount\": -3161}, {\"transaction-id\": 8788, \"amount\": -2527}, {\"transaction-id\": 8795, \"amount\": -2836}, {\"transaction-id\": 8879, \"amount\": -2968}, {\"transaction-id\": 8911, \"amount\": -3044}, {\"transaction-id\": 8919, \"amount\": -3045}, {\"transaction-id\": 8992, \"amount\": -2897}, {\"transaction-id\": 9045, \"amount\": -2631}, {\"transaction-id\": 9059, \"amount\": -2922}, {\"transaction-id\": 9157, \"amount\": -2872}, {\"transaction-id\": 9252, \"amount\": -2569}, {\"transaction-id\": 9331, \"amount\": -2781}, {\"transaction-id\": 9423, \"amount\": -2968}, {\"transaction-id\": 9468, \"amount\": -2585}, {\"transaction-id\": 9510, \"amount\": -3141}, {\"transaction-id\": 9532, \"amount\": -3103}, {\"transaction-id\": 9534, \"amount\": -2754}, {\"transaction-id\": 9572, \"amount\": -2451}, {\"transaction-id\": 9632, \"amount\": -3016}, {\"transaction-id\": 9639, \"amount\": -2838}, {\"transaction-id\": 9671, \"amount\": -3094}, {\"transaction-id\": 9720, \"amount\": -2717}, {\"transaction-id\": 9737, \"amount\": -2754}, {\"transaction-id\": 9889, \"amount\": -2765}, {\"transaction-id\": 9898, \"amount\": -2725}, {\"transaction-id\": 9924, \"amount\": -2612}, {\"transaction-id\": 9940, \"amount\": -3122}, {\"transaction-id\": 9977, \"amount\": -2813}]}\\n')"
      ]
     },
     "execution_count": 8,
     "metadata": {},
     "output_type": "execute_result"
    }
   ],
   "source": [
    "filename = os.path.join('data', 'accounts.*.json.gz')\n",
    "lines = db.read_text(filename)\n",
    "lines.take(3)"
   ]
  },
  {
   "cell_type": "markdown",
   "metadata": {},
   "source": [
    "Our data comes out of the file as lines of text. Notice that file decompression happened automatically. We can make this data look more reasonable by mapping the `json.loads` function onto our bag."
   ]
  },
  {
   "cell_type": "code",
   "execution_count": 9,
   "metadata": {},
   "outputs": [
    {
     "data": {
      "text/plain": [
       "({'id': 0,\n",
       "  'name': 'Hannah',\n",
       "  'transactions': [{'transaction-id': 4274, 'amount': -835}]},\n",
       " {'id': 1,\n",
       "  'name': 'Patricia',\n",
       "  'transactions': [{'transaction-id': 742, 'amount': 1782},\n",
       "   {'transaction-id': 853, 'amount': 1862},\n",
       "   {'transaction-id': 1720, 'amount': 1892},\n",
       "   {'transaction-id': 1776, 'amount': 1961},\n",
       "   {'transaction-id': 1890, 'amount': 1851},\n",
       "   {'transaction-id': 2230, 'amount': 1942},\n",
       "   {'transaction-id': 2820, 'amount': 1807},\n",
       "   {'transaction-id': 3141, 'amount': 1816},\n",
       "   {'transaction-id': 3605, 'amount': 1922},\n",
       "   {'transaction-id': 4442, 'amount': 1889},\n",
       "   {'transaction-id': 4491, 'amount': 2001},\n",
       "   {'transaction-id': 4506, 'amount': 1791},\n",
       "   {'transaction-id': 4690, 'amount': 1833},\n",
       "   {'transaction-id': 4889, 'amount': 1752},\n",
       "   {'transaction-id': 6177, 'amount': 1841},\n",
       "   {'transaction-id': 6296, 'amount': 1896},\n",
       "   {'transaction-id': 6513, 'amount': 1798},\n",
       "   {'transaction-id': 6588, 'amount': 1822},\n",
       "   {'transaction-id': 6944, 'amount': 1882},\n",
       "   {'transaction-id': 7081, 'amount': 1715},\n",
       "   {'transaction-id': 7464, 'amount': 1854},\n",
       "   {'transaction-id': 7645, 'amount': 1886},\n",
       "   {'transaction-id': 7974, 'amount': 1848},\n",
       "   {'transaction-id': 8336, 'amount': 1789},\n",
       "   {'transaction-id': 8406, 'amount': 2038},\n",
       "   {'transaction-id': 8467, 'amount': 1917},\n",
       "   {'transaction-id': 8552, 'amount': 1848},\n",
       "   {'transaction-id': 8905, 'amount': 1770},\n",
       "   {'transaction-id': 9171, 'amount': 1875},\n",
       "   {'transaction-id': 9256, 'amount': 1824},\n",
       "   {'transaction-id': 9778, 'amount': 1959}]},\n",
       " {'id': 2,\n",
       "  'name': 'Edith',\n",
       "  'transactions': [{'transaction-id': 62, 'amount': -2819},\n",
       "   {'transaction-id': 88, 'amount': -3082},\n",
       "   {'transaction-id': 152, 'amount': -2846},\n",
       "   {'transaction-id': 207, 'amount': -2787},\n",
       "   {'transaction-id': 252, 'amount': -2513},\n",
       "   {'transaction-id': 363, 'amount': -2792},\n",
       "   {'transaction-id': 377, 'amount': -3130},\n",
       "   {'transaction-id': 407, 'amount': -3003},\n",
       "   {'transaction-id': 469, 'amount': -2774},\n",
       "   {'transaction-id': 481, 'amount': -2706},\n",
       "   {'transaction-id': 576, 'amount': -2809},\n",
       "   {'transaction-id': 597, 'amount': -2737},\n",
       "   {'transaction-id': 648, 'amount': -2738},\n",
       "   {'transaction-id': 708, 'amount': -2951},\n",
       "   {'transaction-id': 970, 'amount': -3017},\n",
       "   {'transaction-id': 1096, 'amount': -3008},\n",
       "   {'transaction-id': 1189, 'amount': -2931},\n",
       "   {'transaction-id': 1193, 'amount': -2997},\n",
       "   {'transaction-id': 1238, 'amount': -2969},\n",
       "   {'transaction-id': 1252, 'amount': -2746},\n",
       "   {'transaction-id': 1253, 'amount': -2887},\n",
       "   {'transaction-id': 1330, 'amount': -2914},\n",
       "   {'transaction-id': 1462, 'amount': -3043},\n",
       "   {'transaction-id': 1477, 'amount': -2737},\n",
       "   {'transaction-id': 1539, 'amount': -2720},\n",
       "   {'transaction-id': 1768, 'amount': -2692},\n",
       "   {'transaction-id': 1914, 'amount': -2954},\n",
       "   {'transaction-id': 1946, 'amount': -2544},\n",
       "   {'transaction-id': 2079, 'amount': -3066},\n",
       "   {'transaction-id': 2084, 'amount': -2721},\n",
       "   {'transaction-id': 2188, 'amount': -2863},\n",
       "   {'transaction-id': 2214, 'amount': -3052},\n",
       "   {'transaction-id': 2216, 'amount': -2695},\n",
       "   {'transaction-id': 2239, 'amount': -2804},\n",
       "   {'transaction-id': 2354, 'amount': -2652},\n",
       "   {'transaction-id': 2422, 'amount': -2874},\n",
       "   {'transaction-id': 2476, 'amount': -3077},\n",
       "   {'transaction-id': 2541, 'amount': -2615},\n",
       "   {'transaction-id': 2576, 'amount': -2662},\n",
       "   {'transaction-id': 2645, 'amount': -3258},\n",
       "   {'transaction-id': 2733, 'amount': -2877},\n",
       "   {'transaction-id': 2755, 'amount': -2957},\n",
       "   {'transaction-id': 2798, 'amount': -2777},\n",
       "   {'transaction-id': 2861, 'amount': -2714},\n",
       "   {'transaction-id': 2863, 'amount': -2947},\n",
       "   {'transaction-id': 2901, 'amount': -2623},\n",
       "   {'transaction-id': 2923, 'amount': -2677},\n",
       "   {'transaction-id': 2961, 'amount': -3077},\n",
       "   {'transaction-id': 3000, 'amount': -2752},\n",
       "   {'transaction-id': 3036, 'amount': -3220},\n",
       "   {'transaction-id': 3042, 'amount': -2868},\n",
       "   {'transaction-id': 3215, 'amount': -2542},\n",
       "   {'transaction-id': 3219, 'amount': -2747},\n",
       "   {'transaction-id': 3307, 'amount': -2864},\n",
       "   {'transaction-id': 3350, 'amount': -2773},\n",
       "   {'transaction-id': 3418, 'amount': -3055},\n",
       "   {'transaction-id': 3470, 'amount': -2771},\n",
       "   {'transaction-id': 3526, 'amount': -2672},\n",
       "   {'transaction-id': 3529, 'amount': -2876},\n",
       "   {'transaction-id': 3588, 'amount': -2562},\n",
       "   {'transaction-id': 3612, 'amount': -2913},\n",
       "   {'transaction-id': 3653, 'amount': -2455},\n",
       "   {'transaction-id': 3691, 'amount': -2750},\n",
       "   {'transaction-id': 3756, 'amount': -2657},\n",
       "   {'transaction-id': 3769, 'amount': -3005},\n",
       "   {'transaction-id': 3847, 'amount': -2911},\n",
       "   {'transaction-id': 3967, 'amount': -2911},\n",
       "   {'transaction-id': 3983, 'amount': -2696},\n",
       "   {'transaction-id': 4049, 'amount': -3048},\n",
       "   {'transaction-id': 4061, 'amount': -2760},\n",
       "   {'transaction-id': 4123, 'amount': -2595},\n",
       "   {'transaction-id': 4149, 'amount': -3163},\n",
       "   {'transaction-id': 4267, 'amount': -2830},\n",
       "   {'transaction-id': 4393, 'amount': -2558},\n",
       "   {'transaction-id': 4399, 'amount': -3256},\n",
       "   {'transaction-id': 4537, 'amount': -2895},\n",
       "   {'transaction-id': 4550, 'amount': -3099},\n",
       "   {'transaction-id': 4672, 'amount': -3168},\n",
       "   {'transaction-id': 4737, 'amount': -2577},\n",
       "   {'transaction-id': 4794, 'amount': -2979},\n",
       "   {'transaction-id': 4868, 'amount': -2733},\n",
       "   {'transaction-id': 4877, 'amount': -3174},\n",
       "   {'transaction-id': 4929, 'amount': -2971},\n",
       "   {'transaction-id': 4943, 'amount': -2909},\n",
       "   {'transaction-id': 4977, 'amount': -2540},\n",
       "   {'transaction-id': 5010, 'amount': -2914},\n",
       "   {'transaction-id': 5020, 'amount': -3067},\n",
       "   {'transaction-id': 5026, 'amount': -2916},\n",
       "   {'transaction-id': 5038, 'amount': -2934},\n",
       "   {'transaction-id': 5054, 'amount': -2876},\n",
       "   {'transaction-id': 5072, 'amount': -2902},\n",
       "   {'transaction-id': 5085, 'amount': -3109},\n",
       "   {'transaction-id': 5164, 'amount': -2728},\n",
       "   {'transaction-id': 5174, 'amount': -2913},\n",
       "   {'transaction-id': 5195, 'amount': -2557},\n",
       "   {'transaction-id': 5221, 'amount': -3085},\n",
       "   {'transaction-id': 5255, 'amount': -2803},\n",
       "   {'transaction-id': 5327, 'amount': -2815},\n",
       "   {'transaction-id': 5347, 'amount': -2666},\n",
       "   {'transaction-id': 5384, 'amount': -2962},\n",
       "   {'transaction-id': 5402, 'amount': -3079},\n",
       "   {'transaction-id': 5623, 'amount': -3093},\n",
       "   {'transaction-id': 5695, 'amount': -2878},\n",
       "   {'transaction-id': 5703, 'amount': -3252},\n",
       "   {'transaction-id': 5707, 'amount': -2966},\n",
       "   {'transaction-id': 5731, 'amount': -2532},\n",
       "   {'transaction-id': 5821, 'amount': -2883},\n",
       "   {'transaction-id': 5841, 'amount': -2778},\n",
       "   {'transaction-id': 5888, 'amount': -3051},\n",
       "   {'transaction-id': 5929, 'amount': -2954},\n",
       "   {'transaction-id': 5996, 'amount': -2815},\n",
       "   {'transaction-id': 6002, 'amount': -2650},\n",
       "   {'transaction-id': 6019, 'amount': -2599},\n",
       "   {'transaction-id': 6151, 'amount': -3101},\n",
       "   {'transaction-id': 6174, 'amount': -2956},\n",
       "   {'transaction-id': 6230, 'amount': -3153},\n",
       "   {'transaction-id': 6252, 'amount': -2828},\n",
       "   {'transaction-id': 6263, 'amount': -2649},\n",
       "   {'transaction-id': 6332, 'amount': -2685},\n",
       "   {'transaction-id': 6333, 'amount': -2916},\n",
       "   {'transaction-id': 6364, 'amount': -2996},\n",
       "   {'transaction-id': 6601, 'amount': -2729},\n",
       "   {'transaction-id': 6617, 'amount': -2734},\n",
       "   {'transaction-id': 6686, 'amount': -2973},\n",
       "   {'transaction-id': 6697, 'amount': -3065},\n",
       "   {'transaction-id': 6940, 'amount': -2894},\n",
       "   {'transaction-id': 7028, 'amount': -2785},\n",
       "   {'transaction-id': 7051, 'amount': -2698},\n",
       "   {'transaction-id': 7069, 'amount': -2912},\n",
       "   {'transaction-id': 7082, 'amount': -3054},\n",
       "   {'transaction-id': 7096, 'amount': -3013},\n",
       "   {'transaction-id': 7164, 'amount': -2480},\n",
       "   {'transaction-id': 7255, 'amount': -2949},\n",
       "   {'transaction-id': 7323, 'amount': -2588},\n",
       "   {'transaction-id': 7531, 'amount': -2801},\n",
       "   {'transaction-id': 7551, 'amount': -2977},\n",
       "   {'transaction-id': 7556, 'amount': -2770},\n",
       "   {'transaction-id': 7585, 'amount': -3339},\n",
       "   {'transaction-id': 7588, 'amount': -2857},\n",
       "   {'transaction-id': 7601, 'amount': -2810},\n",
       "   {'transaction-id': 7696, 'amount': -2760},\n",
       "   {'transaction-id': 7756, 'amount': -2969},\n",
       "   {'transaction-id': 7769, 'amount': -3087},\n",
       "   {'transaction-id': 7780, 'amount': -3007},\n",
       "   {'transaction-id': 7962, 'amount': -2819},\n",
       "   {'transaction-id': 7975, 'amount': -2958},\n",
       "   {'transaction-id': 8079, 'amount': -2878},\n",
       "   {'transaction-id': 8141, 'amount': -2791},\n",
       "   {'transaction-id': 8148, 'amount': -2766},\n",
       "   {'transaction-id': 8156, 'amount': -3096},\n",
       "   {'transaction-id': 8219, 'amount': -2591},\n",
       "   {'transaction-id': 8226, 'amount': -3003},\n",
       "   {'transaction-id': 8265, 'amount': -2838},\n",
       "   {'transaction-id': 8329, 'amount': -2641},\n",
       "   {'transaction-id': 8447, 'amount': -3164},\n",
       "   {'transaction-id': 8651, 'amount': -2703},\n",
       "   {'transaction-id': 8724, 'amount': -2964},\n",
       "   {'transaction-id': 8773, 'amount': -2738},\n",
       "   {'transaction-id': 8779, 'amount': -2777},\n",
       "   {'transaction-id': 8780, 'amount': -3150},\n",
       "   {'transaction-id': 8781, 'amount': -3161},\n",
       "   {'transaction-id': 8788, 'amount': -2527},\n",
       "   {'transaction-id': 8795, 'amount': -2836},\n",
       "   {'transaction-id': 8879, 'amount': -2968},\n",
       "   {'transaction-id': 8911, 'amount': -3044},\n",
       "   {'transaction-id': 8919, 'amount': -3045},\n",
       "   {'transaction-id': 8992, 'amount': -2897},\n",
       "   {'transaction-id': 9045, 'amount': -2631},\n",
       "   {'transaction-id': 9059, 'amount': -2922},\n",
       "   {'transaction-id': 9157, 'amount': -2872},\n",
       "   {'transaction-id': 9252, 'amount': -2569},\n",
       "   {'transaction-id': 9331, 'amount': -2781},\n",
       "   {'transaction-id': 9423, 'amount': -2968},\n",
       "   {'transaction-id': 9468, 'amount': -2585},\n",
       "   {'transaction-id': 9510, 'amount': -3141},\n",
       "   {'transaction-id': 9532, 'amount': -3103},\n",
       "   {'transaction-id': 9534, 'amount': -2754},\n",
       "   {'transaction-id': 9572, 'amount': -2451},\n",
       "   {'transaction-id': 9632, 'amount': -3016},\n",
       "   {'transaction-id': 9639, 'amount': -2838},\n",
       "   {'transaction-id': 9671, 'amount': -3094},\n",
       "   {'transaction-id': 9720, 'amount': -2717},\n",
       "   {'transaction-id': 9737, 'amount': -2754},\n",
       "   {'transaction-id': 9889, 'amount': -2765},\n",
       "   {'transaction-id': 9898, 'amount': -2725},\n",
       "   {'transaction-id': 9924, 'amount': -2612},\n",
       "   {'transaction-id': 9940, 'amount': -3122},\n",
       "   {'transaction-id': 9977, 'amount': -2813}]})"
      ]
     },
     "execution_count": 9,
     "metadata": {},
     "output_type": "execute_result"
    }
   ],
   "source": [
    "import json\n",
    "js = lines.map(json.loads)\n",
    "# take: inspect first few elements\n",
    "js.take(3)"
   ]
  },
  {
   "cell_type": "markdown",
   "metadata": {},
   "source": [
    "### Basic Queries"
   ]
  },
  {
   "cell_type": "markdown",
   "metadata": {},
   "source": [
    "Once we parse our JSON data into proper Python objects (`dict`s, `list`s, etc.) we can perform more interesting queries by creating small Python functions to run on our data."
   ]
  },
  {
   "cell_type": "code",
   "execution_count": 10,
   "metadata": {},
   "outputs": [
    {
     "data": {
      "text/plain": [
       "({'id': 5,\n",
       "  'name': 'Alice',\n",
       "  'transactions': [{'transaction-id': 12, 'amount': 2452},\n",
       "   {'transaction-id': 16, 'amount': 1911},\n",
       "   {'transaction-id': 25, 'amount': 2490},\n",
       "   {'transaction-id': 230, 'amount': 1815},\n",
       "   {'transaction-id': 288, 'amount': 1888},\n",
       "   {'transaction-id': 349, 'amount': 2119},\n",
       "   {'transaction-id': 409, 'amount': 2419},\n",
       "   {'transaction-id': 415, 'amount': 1752},\n",
       "   {'transaction-id': 451, 'amount': 2097},\n",
       "   {'transaction-id': 489, 'amount': 2374},\n",
       "   {'transaction-id': 517, 'amount': 2164},\n",
       "   {'transaction-id': 658, 'amount': 2333},\n",
       "   {'transaction-id': 783, 'amount': 2108},\n",
       "   {'transaction-id': 851, 'amount': 2118},\n",
       "   {'transaction-id': 927, 'amount': 2005},\n",
       "   {'transaction-id': 986, 'amount': 2011},\n",
       "   {'transaction-id': 1092, 'amount': 2043},\n",
       "   {'transaction-id': 1099, 'amount': 2101},\n",
       "   {'transaction-id': 1254, 'amount': 2423},\n",
       "   {'transaction-id': 1256, 'amount': 2201},\n",
       "   {'transaction-id': 1373, 'amount': 2357},\n",
       "   {'transaction-id': 1444, 'amount': 2130},\n",
       "   {'transaction-id': 1512, 'amount': 1996},\n",
       "   {'transaction-id': 1592, 'amount': 2220},\n",
       "   {'transaction-id': 1639, 'amount': 2289},\n",
       "   {'transaction-id': 1852, 'amount': 2060},\n",
       "   {'transaction-id': 1907, 'amount': 1970},\n",
       "   {'transaction-id': 2146, 'amount': 2095},\n",
       "   {'transaction-id': 2280, 'amount': 2101},\n",
       "   {'transaction-id': 2281, 'amount': 1846},\n",
       "   {'transaction-id': 2325, 'amount': 2665},\n",
       "   {'transaction-id': 2333, 'amount': 1972},\n",
       "   {'transaction-id': 2342, 'amount': 1983},\n",
       "   {'transaction-id': 2368, 'amount': 1809},\n",
       "   {'transaction-id': 2558, 'amount': 2107},\n",
       "   {'transaction-id': 2692, 'amount': 1461},\n",
       "   {'transaction-id': 2717, 'amount': 2077},\n",
       "   {'transaction-id': 2725, 'amount': 1999},\n",
       "   {'transaction-id': 2735, 'amount': 2162},\n",
       "   {'transaction-id': 2799, 'amount': 2549},\n",
       "   {'transaction-id': 2874, 'amount': 2075},\n",
       "   {'transaction-id': 2908, 'amount': 2105},\n",
       "   {'transaction-id': 3083, 'amount': 1891},\n",
       "   {'transaction-id': 3196, 'amount': 2205},\n",
       "   {'transaction-id': 3273, 'amount': 1967},\n",
       "   {'transaction-id': 3373, 'amount': 1875},\n",
       "   {'transaction-id': 3375, 'amount': 2177},\n",
       "   {'transaction-id': 3378, 'amount': 2194},\n",
       "   {'transaction-id': 3481, 'amount': 2168},\n",
       "   {'transaction-id': 3517, 'amount': 2345},\n",
       "   {'transaction-id': 3545, 'amount': 2180},\n",
       "   {'transaction-id': 3629, 'amount': 2200},\n",
       "   {'transaction-id': 3633, 'amount': 2123},\n",
       "   {'transaction-id': 3686, 'amount': 2022},\n",
       "   {'transaction-id': 3699, 'amount': 2041},\n",
       "   {'transaction-id': 3979, 'amount': 2061},\n",
       "   {'transaction-id': 4052, 'amount': 2330},\n",
       "   {'transaction-id': 4100, 'amount': 1939},\n",
       "   {'transaction-id': 4145, 'amount': 1785},\n",
       "   {'transaction-id': 4204, 'amount': 2291},\n",
       "   {'transaction-id': 4210, 'amount': 1643},\n",
       "   {'transaction-id': 4232, 'amount': 2333},\n",
       "   {'transaction-id': 4252, 'amount': 2342},\n",
       "   {'transaction-id': 4281, 'amount': 1741},\n",
       "   {'transaction-id': 4388, 'amount': 1898},\n",
       "   {'transaction-id': 4417, 'amount': 2421},\n",
       "   {'transaction-id': 4564, 'amount': 2168},\n",
       "   {'transaction-id': 4599, 'amount': 2386},\n",
       "   {'transaction-id': 4604, 'amount': 1804},\n",
       "   {'transaction-id': 4627, 'amount': 1913},\n",
       "   {'transaction-id': 4879, 'amount': 2318},\n",
       "   {'transaction-id': 4897, 'amount': 2275},\n",
       "   {'transaction-id': 4909, 'amount': 2208},\n",
       "   {'transaction-id': 4913, 'amount': 2076},\n",
       "   {'transaction-id': 4925, 'amount': 2253},\n",
       "   {'transaction-id': 4956, 'amount': 2232},\n",
       "   {'transaction-id': 4973, 'amount': 2312},\n",
       "   {'transaction-id': 5040, 'amount': 2208},\n",
       "   {'transaction-id': 5074, 'amount': 2145},\n",
       "   {'transaction-id': 5108, 'amount': 2490},\n",
       "   {'transaction-id': 5138, 'amount': 2309},\n",
       "   {'transaction-id': 5208, 'amount': 1831},\n",
       "   {'transaction-id': 5209, 'amount': 2163},\n",
       "   {'transaction-id': 5222, 'amount': 1787},\n",
       "   {'transaction-id': 5401, 'amount': 2251},\n",
       "   {'transaction-id': 5408, 'amount': 2219},\n",
       "   {'transaction-id': 5508, 'amount': 1946},\n",
       "   {'transaction-id': 5699, 'amount': 1875},\n",
       "   {'transaction-id': 5706, 'amount': 2046},\n",
       "   {'transaction-id': 5748, 'amount': 2144},\n",
       "   {'transaction-id': 5786, 'amount': 2061},\n",
       "   {'transaction-id': 5818, 'amount': 2246},\n",
       "   {'transaction-id': 5915, 'amount': 2251},\n",
       "   {'transaction-id': 5979, 'amount': 1930},\n",
       "   {'transaction-id': 5990, 'amount': 2237},\n",
       "   {'transaction-id': 6023, 'amount': 2106},\n",
       "   {'transaction-id': 6027, 'amount': 2460},\n",
       "   {'transaction-id': 6077, 'amount': 1927},\n",
       "   {'transaction-id': 6146, 'amount': 2238},\n",
       "   {'transaction-id': 6208, 'amount': 2386},\n",
       "   {'transaction-id': 6210, 'amount': 2262},\n",
       "   {'transaction-id': 6292, 'amount': 2400},\n",
       "   {'transaction-id': 6308, 'amount': 2071},\n",
       "   {'transaction-id': 6515, 'amount': 2325},\n",
       "   {'transaction-id': 6550, 'amount': 1759},\n",
       "   {'transaction-id': 6761, 'amount': 2315},\n",
       "   {'transaction-id': 6762, 'amount': 2001},\n",
       "   {'transaction-id': 6794, 'amount': 2246},\n",
       "   {'transaction-id': 6819, 'amount': 1995},\n",
       "   {'transaction-id': 6859, 'amount': 1862},\n",
       "   {'transaction-id': 6863, 'amount': 2230},\n",
       "   {'transaction-id': 7005, 'amount': 2220},\n",
       "   {'transaction-id': 7076, 'amount': 2017},\n",
       "   {'transaction-id': 7099, 'amount': 2184},\n",
       "   {'transaction-id': 7112, 'amount': 2055},\n",
       "   {'transaction-id': 7205, 'amount': 2354},\n",
       "   {'transaction-id': 7406, 'amount': 2144},\n",
       "   {'transaction-id': 7434, 'amount': 2231},\n",
       "   {'transaction-id': 7452, 'amount': 2163},\n",
       "   {'transaction-id': 7468, 'amount': 1670},\n",
       "   {'transaction-id': 7515, 'amount': 2339},\n",
       "   {'transaction-id': 7541, 'amount': 2583},\n",
       "   {'transaction-id': 7549, 'amount': 2023},\n",
       "   {'transaction-id': 7642, 'amount': 2078},\n",
       "   {'transaction-id': 7675, 'amount': 1605},\n",
       "   {'transaction-id': 7694, 'amount': 2337},\n",
       "   {'transaction-id': 7771, 'amount': 1743},\n",
       "   {'transaction-id': 7821, 'amount': 2173},\n",
       "   {'transaction-id': 8101, 'amount': 1991},\n",
       "   {'transaction-id': 8135, 'amount': 2223},\n",
       "   {'transaction-id': 8192, 'amount': 2090},\n",
       "   {'transaction-id': 8198, 'amount': 1865},\n",
       "   {'transaction-id': 8202, 'amount': 2284},\n",
       "   {'transaction-id': 8281, 'amount': 2441},\n",
       "   {'transaction-id': 8305, 'amount': 2151},\n",
       "   {'transaction-id': 8462, 'amount': 2317},\n",
       "   {'transaction-id': 8502, 'amount': 1950},\n",
       "   {'transaction-id': 8508, 'amount': 1803},\n",
       "   {'transaction-id': 8582, 'amount': 2399},\n",
       "   {'transaction-id': 8855, 'amount': 2154},\n",
       "   {'transaction-id': 8922, 'amount': 2046},\n",
       "   {'transaction-id': 8986, 'amount': 2228},\n",
       "   {'transaction-id': 9054, 'amount': 2016},\n",
       "   {'transaction-id': 9095, 'amount': 2360},\n",
       "   {'transaction-id': 9124, 'amount': 2099},\n",
       "   {'transaction-id': 9218, 'amount': 1741},\n",
       "   {'transaction-id': 9291, 'amount': 2447},\n",
       "   {'transaction-id': 9352, 'amount': 2495},\n",
       "   {'transaction-id': 9442, 'amount': 2018},\n",
       "   {'transaction-id': 9538, 'amount': 1646},\n",
       "   {'transaction-id': 9591, 'amount': 2746},\n",
       "   {'transaction-id': 9603, 'amount': 2076},\n",
       "   {'transaction-id': 9619, 'amount': 1680},\n",
       "   {'transaction-id': 9635, 'amount': 2099},\n",
       "   {'transaction-id': 9664, 'amount': 2272},\n",
       "   {'transaction-id': 9803, 'amount': 2001},\n",
       "   {'transaction-id': 9872, 'amount': 2091},\n",
       "   {'transaction-id': 9878, 'amount': 2445},\n",
       "   {'transaction-id': 9894, 'amount': 2342},\n",
       "   {'transaction-id': 9933, 'amount': 2208}]},\n",
       " {'id': 83,\n",
       "  'name': 'Alice',\n",
       "  'transactions': [{'transaction-id': 624, 'amount': 0},\n",
       "   {'transaction-id': 1302, 'amount': 0},\n",
       "   {'transaction-id': 1773, 'amount': 0},\n",
       "   {'transaction-id': 1877, 'amount': 0},\n",
       "   {'transaction-id': 2459, 'amount': 2},\n",
       "   {'transaction-id': 2556, 'amount': 1},\n",
       "   {'transaction-id': 2573, 'amount': -1},\n",
       "   {'transaction-id': 3321, 'amount': 1},\n",
       "   {'transaction-id': 3386, 'amount': -1},\n",
       "   {'transaction-id': 4440, 'amount': 0},\n",
       "   {'transaction-id': 5970, 'amount': -2},\n",
       "   {'transaction-id': 6426, 'amount': 0},\n",
       "   {'transaction-id': 6678, 'amount': 0},\n",
       "   {'transaction-id': 8473, 'amount': 0},\n",
       "   {'transaction-id': 8512, 'amount': 0},\n",
       "   {'transaction-id': 8517, 'amount': 1}]},\n",
       " {'id': 102,\n",
       "  'name': 'Alice',\n",
       "  'transactions': [{'transaction-id': 14, 'amount': 6808},\n",
       "   {'transaction-id': 168, 'amount': 6589},\n",
       "   {'transaction-id': 680, 'amount': 6896},\n",
       "   {'transaction-id': 765, 'amount': 7246},\n",
       "   {'transaction-id': 1311, 'amount': 7130},\n",
       "   {'transaction-id': 1472, 'amount': 7499},\n",
       "   {'transaction-id': 1497, 'amount': 7268},\n",
       "   {'transaction-id': 1672, 'amount': 7473},\n",
       "   {'transaction-id': 2504, 'amount': 6918},\n",
       "   {'transaction-id': 2605, 'amount': 7501},\n",
       "   {'transaction-id': 2661, 'amount': 7052},\n",
       "   {'transaction-id': 2731, 'amount': 6563},\n",
       "   {'transaction-id': 2786, 'amount': 7081},\n",
       "   {'transaction-id': 3228, 'amount': 7203},\n",
       "   {'transaction-id': 3306, 'amount': 7018},\n",
       "   {'transaction-id': 3871, 'amount': 7013},\n",
       "   {'transaction-id': 4093, 'amount': 7080},\n",
       "   {'transaction-id': 4110, 'amount': 7248},\n",
       "   {'transaction-id': 4146, 'amount': 7197},\n",
       "   {'transaction-id': 4294, 'amount': 6780},\n",
       "   {'transaction-id': 4469, 'amount': 7267},\n",
       "   {'transaction-id': 4865, 'amount': 6697},\n",
       "   {'transaction-id': 4967, 'amount': 6927},\n",
       "   {'transaction-id': 5278, 'amount': 7126},\n",
       "   {'transaction-id': 5284, 'amount': 6829},\n",
       "   {'transaction-id': 5683, 'amount': 6958},\n",
       "   {'transaction-id': 5874, 'amount': 6964},\n",
       "   {'transaction-id': 6099, 'amount': 7074},\n",
       "   {'transaction-id': 6193, 'amount': 6613},\n",
       "   {'transaction-id': 6262, 'amount': 7087},\n",
       "   {'transaction-id': 6371, 'amount': 7207},\n",
       "   {'transaction-id': 6536, 'amount': 6879},\n",
       "   {'transaction-id': 6694, 'amount': 7580},\n",
       "   {'transaction-id': 6747, 'amount': 6589},\n",
       "   {'transaction-id': 6847, 'amount': 6999},\n",
       "   {'transaction-id': 7267, 'amount': 7330},\n",
       "   {'transaction-id': 7371, 'amount': 6944},\n",
       "   {'transaction-id': 7498, 'amount': 7663},\n",
       "   {'transaction-id': 8247, 'amount': 6860},\n",
       "   {'transaction-id': 8347, 'amount': 6690},\n",
       "   {'transaction-id': 8383, 'amount': 6876},\n",
       "   {'transaction-id': 8499, 'amount': 7045},\n",
       "   {'transaction-id': 8849, 'amount': 6836},\n",
       "   {'transaction-id': 8888, 'amount': 7293},\n",
       "   {'transaction-id': 9184, 'amount': 6733},\n",
       "   {'transaction-id': 9205, 'amount': 7149},\n",
       "   {'transaction-id': 9773, 'amount': 6824}]},\n",
       " {'id': 103,\n",
       "  'name': 'Alice',\n",
       "  'transactions': [{'transaction-id': 35, 'amount': 1},\n",
       "   {'transaction-id': 309, 'amount': 2},\n",
       "   {'transaction-id': 342, 'amount': 3},\n",
       "   {'transaction-id': 822, 'amount': 3},\n",
       "   {'transaction-id': 871, 'amount': 2},\n",
       "   {'transaction-id': 901, 'amount': 2},\n",
       "   {'transaction-id': 1205, 'amount': 3},\n",
       "   {'transaction-id': 1217, 'amount': 3},\n",
       "   {'transaction-id': 1501, 'amount': 3},\n",
       "   {'transaction-id': 1632, 'amount': 4},\n",
       "   {'transaction-id': 1688, 'amount': 2},\n",
       "   {'transaction-id': 1765, 'amount': 3},\n",
       "   {'transaction-id': 1821, 'amount': 2},\n",
       "   {'transaction-id': 1834, 'amount': 3},\n",
       "   {'transaction-id': 2215, 'amount': 2},\n",
       "   {'transaction-id': 2251, 'amount': 2},\n",
       "   {'transaction-id': 2498, 'amount': 2},\n",
       "   {'transaction-id': 2604, 'amount': 3},\n",
       "   {'transaction-id': 2606, 'amount': 2},\n",
       "   {'transaction-id': 2620, 'amount': 3},\n",
       "   {'transaction-id': 2669, 'amount': 1},\n",
       "   {'transaction-id': 2764, 'amount': 3},\n",
       "   {'transaction-id': 2813, 'amount': 2},\n",
       "   {'transaction-id': 2828, 'amount': 2},\n",
       "   {'transaction-id': 2844, 'amount': 2},\n",
       "   {'transaction-id': 2938, 'amount': 2},\n",
       "   {'transaction-id': 3022, 'amount': 2},\n",
       "   {'transaction-id': 3023, 'amount': 3},\n",
       "   {'transaction-id': 3088, 'amount': 3},\n",
       "   {'transaction-id': 3156, 'amount': 3},\n",
       "   {'transaction-id': 3166, 'amount': 4},\n",
       "   {'transaction-id': 3171, 'amount': 2},\n",
       "   {'transaction-id': 3172, 'amount': 3},\n",
       "   {'transaction-id': 3371, 'amount': 3},\n",
       "   {'transaction-id': 3567, 'amount': 2},\n",
       "   {'transaction-id': 3794, 'amount': 2},\n",
       "   {'transaction-id': 4038, 'amount': 2},\n",
       "   {'transaction-id': 4455, 'amount': 2},\n",
       "   {'transaction-id': 4565, 'amount': 3},\n",
       "   {'transaction-id': 4894, 'amount': 3},\n",
       "   {'transaction-id': 5109, 'amount': 2},\n",
       "   {'transaction-id': 5180, 'amount': 2},\n",
       "   {'transaction-id': 5291, 'amount': 3},\n",
       "   {'transaction-id': 5392, 'amount': 2},\n",
       "   {'transaction-id': 5597, 'amount': 3},\n",
       "   {'transaction-id': 5723, 'amount': 3},\n",
       "   {'transaction-id': 5813, 'amount': 2},\n",
       "   {'transaction-id': 6201, 'amount': 2},\n",
       "   {'transaction-id': 6283, 'amount': 2},\n",
       "   {'transaction-id': 6285, 'amount': 3},\n",
       "   {'transaction-id': 6355, 'amount': 2},\n",
       "   {'transaction-id': 6365, 'amount': 1},\n",
       "   {'transaction-id': 6366, 'amount': 3},\n",
       "   {'transaction-id': 6438, 'amount': 3},\n",
       "   {'transaction-id': 6447, 'amount': 1},\n",
       "   {'transaction-id': 6510, 'amount': 2},\n",
       "   {'transaction-id': 6523, 'amount': 2},\n",
       "   {'transaction-id': 6545, 'amount': 2},\n",
       "   {'transaction-id': 6784, 'amount': 2},\n",
       "   {'transaction-id': 6968, 'amount': 2},\n",
       "   {'transaction-id': 7044, 'amount': 2},\n",
       "   {'transaction-id': 7148, 'amount': 2},\n",
       "   {'transaction-id': 7289, 'amount': 2},\n",
       "   {'transaction-id': 7290, 'amount': 1},\n",
       "   {'transaction-id': 7459, 'amount': 2},\n",
       "   {'transaction-id': 7637, 'amount': 3},\n",
       "   {'transaction-id': 7665, 'amount': 3},\n",
       "   {'transaction-id': 7724, 'amount': 3},\n",
       "   {'transaction-id': 7806, 'amount': 2},\n",
       "   {'transaction-id': 7912, 'amount': 2},\n",
       "   {'transaction-id': 7921, 'amount': 2},\n",
       "   {'transaction-id': 8464, 'amount': 3},\n",
       "   {'transaction-id': 8964, 'amount': 2},\n",
       "   {'transaction-id': 9187, 'amount': 2},\n",
       "   {'transaction-id': 9390, 'amount': 2},\n",
       "   {'transaction-id': 9835, 'amount': 2},\n",
       "   {'transaction-id': 9984, 'amount': 2}]},\n",
       " {'id': 142,\n",
       "  'name': 'Alice',\n",
       "  'transactions': [{'transaction-id': 357, 'amount': 753},\n",
       "   {'transaction-id': 620, 'amount': 772},\n",
       "   {'transaction-id': 1353, 'amount': 525},\n",
       "   {'transaction-id': 1577, 'amount': 732},\n",
       "   {'transaction-id': 2033, 'amount': 819},\n",
       "   {'transaction-id': 2210, 'amount': 662},\n",
       "   {'transaction-id': 4007, 'amount': 751},\n",
       "   {'transaction-id': 4197, 'amount': 757},\n",
       "   {'transaction-id': 4295, 'amount': 847},\n",
       "   {'transaction-id': 6004, 'amount': 493},\n",
       "   {'transaction-id': 6326, 'amount': 639},\n",
       "   {'transaction-id': 7038, 'amount': 613},\n",
       "   {'transaction-id': 7368, 'amount': 682},\n",
       "   {'transaction-id': 7567, 'amount': 682},\n",
       "   {'transaction-id': 7908, 'amount': 878},\n",
       "   {'transaction-id': 8321, 'amount': 689},\n",
       "   {'transaction-id': 9113, 'amount': 811}]})"
      ]
     },
     "execution_count": 10,
     "metadata": {},
     "output_type": "execute_result"
    }
   ],
   "source": [
    "# filter: keep only some elements of the sequence\n",
    "js.filter(lambda record: record['name'] == 'Alice').take(5)"
   ]
  },
  {
   "cell_type": "code",
   "execution_count": 11,
   "metadata": {},
   "outputs": [
    {
     "data": {
      "text/plain": [
       "({'name': 'Alice', 'count': 160},\n",
       " {'name': 'Alice', 'count': 16},\n",
       " {'name': 'Alice', 'count': 47},\n",
       " {'name': 'Alice', 'count': 77},\n",
       " {'name': 'Alice', 'count': 17})"
      ]
     },
     "execution_count": 11,
     "metadata": {},
     "output_type": "execute_result"
    }
   ],
   "source": [
    "def count_transactions(d):\n",
    "    return {'name': d['name'], 'count': len(d['transactions'])}\n",
    "\n",
    "# map: apply a function to each element\n",
    "(js.filter(lambda record: record['name'] == 'Alice')\n",
    "   .map(count_transactions)\n",
    "   .take(5))"
   ]
  },
  {
   "cell_type": "code",
   "execution_count": 12,
   "metadata": {},
   "outputs": [
    {
     "data": {
      "text/plain": [
       "(160, 16, 47, 77, 17)"
      ]
     },
     "execution_count": 12,
     "metadata": {},
     "output_type": "execute_result"
    }
   ],
   "source": [
    "# pluck: select a field, as from a dictionary, element[field]\n",
    "(js.filter(lambda record: record['name'] == 'Alice')\n",
    "   .map(count_transactions)\n",
    "   .pluck('count')\n",
    "   .take(5))"
   ]
  },
  {
   "cell_type": "code",
   "execution_count": 13,
   "metadata": {},
   "outputs": [
    {
     "data": {
      "text/plain": [
       "46.87777777777778"
      ]
     },
     "execution_count": 13,
     "metadata": {},
     "output_type": "execute_result"
    }
   ],
   "source": [
    "# Average number of transactions for all of the Alice entries\n",
    "(js.filter(lambda record: record['name'] == 'Alice')\n",
    "   .map(count_transactions)\n",
    "   .pluck('count')\n",
    "   .mean()\n",
    "   .compute())"
   ]
  },
  {
   "cell_type": "markdown",
   "metadata": {},
   "source": [
    "### Use `flatten` to de-nest"
   ]
  },
  {
   "cell_type": "markdown",
   "metadata": {},
   "source": [
    "In the example below we see the use of `.flatten()` to flatten results.  We compute the average amount for all transactions for all Alices."
   ]
  },
  {
   "cell_type": "code",
   "execution_count": 14,
   "metadata": {},
   "outputs": [
    {
     "data": {
      "text/plain": [
       "([{'transaction-id': 12, 'amount': 2452},\n",
       "  {'transaction-id': 16, 'amount': 1911},\n",
       "  {'transaction-id': 25, 'amount': 2490},\n",
       "  {'transaction-id': 230, 'amount': 1815},\n",
       "  {'transaction-id': 288, 'amount': 1888},\n",
       "  {'transaction-id': 349, 'amount': 2119},\n",
       "  {'transaction-id': 409, 'amount': 2419},\n",
       "  {'transaction-id': 415, 'amount': 1752},\n",
       "  {'transaction-id': 451, 'amount': 2097},\n",
       "  {'transaction-id': 489, 'amount': 2374},\n",
       "  {'transaction-id': 517, 'amount': 2164},\n",
       "  {'transaction-id': 658, 'amount': 2333},\n",
       "  {'transaction-id': 783, 'amount': 2108},\n",
       "  {'transaction-id': 851, 'amount': 2118},\n",
       "  {'transaction-id': 927, 'amount': 2005},\n",
       "  {'transaction-id': 986, 'amount': 2011},\n",
       "  {'transaction-id': 1092, 'amount': 2043},\n",
       "  {'transaction-id': 1099, 'amount': 2101},\n",
       "  {'transaction-id': 1254, 'amount': 2423},\n",
       "  {'transaction-id': 1256, 'amount': 2201},\n",
       "  {'transaction-id': 1373, 'amount': 2357},\n",
       "  {'transaction-id': 1444, 'amount': 2130},\n",
       "  {'transaction-id': 1512, 'amount': 1996},\n",
       "  {'transaction-id': 1592, 'amount': 2220},\n",
       "  {'transaction-id': 1639, 'amount': 2289},\n",
       "  {'transaction-id': 1852, 'amount': 2060},\n",
       "  {'transaction-id': 1907, 'amount': 1970},\n",
       "  {'transaction-id': 2146, 'amount': 2095},\n",
       "  {'transaction-id': 2280, 'amount': 2101},\n",
       "  {'transaction-id': 2281, 'amount': 1846},\n",
       "  {'transaction-id': 2325, 'amount': 2665},\n",
       "  {'transaction-id': 2333, 'amount': 1972},\n",
       "  {'transaction-id': 2342, 'amount': 1983},\n",
       "  {'transaction-id': 2368, 'amount': 1809},\n",
       "  {'transaction-id': 2558, 'amount': 2107},\n",
       "  {'transaction-id': 2692, 'amount': 1461},\n",
       "  {'transaction-id': 2717, 'amount': 2077},\n",
       "  {'transaction-id': 2725, 'amount': 1999},\n",
       "  {'transaction-id': 2735, 'amount': 2162},\n",
       "  {'transaction-id': 2799, 'amount': 2549},\n",
       "  {'transaction-id': 2874, 'amount': 2075},\n",
       "  {'transaction-id': 2908, 'amount': 2105},\n",
       "  {'transaction-id': 3083, 'amount': 1891},\n",
       "  {'transaction-id': 3196, 'amount': 2205},\n",
       "  {'transaction-id': 3273, 'amount': 1967},\n",
       "  {'transaction-id': 3373, 'amount': 1875},\n",
       "  {'transaction-id': 3375, 'amount': 2177},\n",
       "  {'transaction-id': 3378, 'amount': 2194},\n",
       "  {'transaction-id': 3481, 'amount': 2168},\n",
       "  {'transaction-id': 3517, 'amount': 2345},\n",
       "  {'transaction-id': 3545, 'amount': 2180},\n",
       "  {'transaction-id': 3629, 'amount': 2200},\n",
       "  {'transaction-id': 3633, 'amount': 2123},\n",
       "  {'transaction-id': 3686, 'amount': 2022},\n",
       "  {'transaction-id': 3699, 'amount': 2041},\n",
       "  {'transaction-id': 3979, 'amount': 2061},\n",
       "  {'transaction-id': 4052, 'amount': 2330},\n",
       "  {'transaction-id': 4100, 'amount': 1939},\n",
       "  {'transaction-id': 4145, 'amount': 1785},\n",
       "  {'transaction-id': 4204, 'amount': 2291},\n",
       "  {'transaction-id': 4210, 'amount': 1643},\n",
       "  {'transaction-id': 4232, 'amount': 2333},\n",
       "  {'transaction-id': 4252, 'amount': 2342},\n",
       "  {'transaction-id': 4281, 'amount': 1741},\n",
       "  {'transaction-id': 4388, 'amount': 1898},\n",
       "  {'transaction-id': 4417, 'amount': 2421},\n",
       "  {'transaction-id': 4564, 'amount': 2168},\n",
       "  {'transaction-id': 4599, 'amount': 2386},\n",
       "  {'transaction-id': 4604, 'amount': 1804},\n",
       "  {'transaction-id': 4627, 'amount': 1913},\n",
       "  {'transaction-id': 4879, 'amount': 2318},\n",
       "  {'transaction-id': 4897, 'amount': 2275},\n",
       "  {'transaction-id': 4909, 'amount': 2208},\n",
       "  {'transaction-id': 4913, 'amount': 2076},\n",
       "  {'transaction-id': 4925, 'amount': 2253},\n",
       "  {'transaction-id': 4956, 'amount': 2232},\n",
       "  {'transaction-id': 4973, 'amount': 2312},\n",
       "  {'transaction-id': 5040, 'amount': 2208},\n",
       "  {'transaction-id': 5074, 'amount': 2145},\n",
       "  {'transaction-id': 5108, 'amount': 2490},\n",
       "  {'transaction-id': 5138, 'amount': 2309},\n",
       "  {'transaction-id': 5208, 'amount': 1831},\n",
       "  {'transaction-id': 5209, 'amount': 2163},\n",
       "  {'transaction-id': 5222, 'amount': 1787},\n",
       "  {'transaction-id': 5401, 'amount': 2251},\n",
       "  {'transaction-id': 5408, 'amount': 2219},\n",
       "  {'transaction-id': 5508, 'amount': 1946},\n",
       "  {'transaction-id': 5699, 'amount': 1875},\n",
       "  {'transaction-id': 5706, 'amount': 2046},\n",
       "  {'transaction-id': 5748, 'amount': 2144},\n",
       "  {'transaction-id': 5786, 'amount': 2061},\n",
       "  {'transaction-id': 5818, 'amount': 2246},\n",
       "  {'transaction-id': 5915, 'amount': 2251},\n",
       "  {'transaction-id': 5979, 'amount': 1930},\n",
       "  {'transaction-id': 5990, 'amount': 2237},\n",
       "  {'transaction-id': 6023, 'amount': 2106},\n",
       "  {'transaction-id': 6027, 'amount': 2460},\n",
       "  {'transaction-id': 6077, 'amount': 1927},\n",
       "  {'transaction-id': 6146, 'amount': 2238},\n",
       "  {'transaction-id': 6208, 'amount': 2386},\n",
       "  {'transaction-id': 6210, 'amount': 2262},\n",
       "  {'transaction-id': 6292, 'amount': 2400},\n",
       "  {'transaction-id': 6308, 'amount': 2071},\n",
       "  {'transaction-id': 6515, 'amount': 2325},\n",
       "  {'transaction-id': 6550, 'amount': 1759},\n",
       "  {'transaction-id': 6761, 'amount': 2315},\n",
       "  {'transaction-id': 6762, 'amount': 2001},\n",
       "  {'transaction-id': 6794, 'amount': 2246},\n",
       "  {'transaction-id': 6819, 'amount': 1995},\n",
       "  {'transaction-id': 6859, 'amount': 1862},\n",
       "  {'transaction-id': 6863, 'amount': 2230},\n",
       "  {'transaction-id': 7005, 'amount': 2220},\n",
       "  {'transaction-id': 7076, 'amount': 2017},\n",
       "  {'transaction-id': 7099, 'amount': 2184},\n",
       "  {'transaction-id': 7112, 'amount': 2055},\n",
       "  {'transaction-id': 7205, 'amount': 2354},\n",
       "  {'transaction-id': 7406, 'amount': 2144},\n",
       "  {'transaction-id': 7434, 'amount': 2231},\n",
       "  {'transaction-id': 7452, 'amount': 2163},\n",
       "  {'transaction-id': 7468, 'amount': 1670},\n",
       "  {'transaction-id': 7515, 'amount': 2339},\n",
       "  {'transaction-id': 7541, 'amount': 2583},\n",
       "  {'transaction-id': 7549, 'amount': 2023},\n",
       "  {'transaction-id': 7642, 'amount': 2078},\n",
       "  {'transaction-id': 7675, 'amount': 1605},\n",
       "  {'transaction-id': 7694, 'amount': 2337},\n",
       "  {'transaction-id': 7771, 'amount': 1743},\n",
       "  {'transaction-id': 7821, 'amount': 2173},\n",
       "  {'transaction-id': 8101, 'amount': 1991},\n",
       "  {'transaction-id': 8135, 'amount': 2223},\n",
       "  {'transaction-id': 8192, 'amount': 2090},\n",
       "  {'transaction-id': 8198, 'amount': 1865},\n",
       "  {'transaction-id': 8202, 'amount': 2284},\n",
       "  {'transaction-id': 8281, 'amount': 2441},\n",
       "  {'transaction-id': 8305, 'amount': 2151},\n",
       "  {'transaction-id': 8462, 'amount': 2317},\n",
       "  {'transaction-id': 8502, 'amount': 1950},\n",
       "  {'transaction-id': 8508, 'amount': 1803},\n",
       "  {'transaction-id': 8582, 'amount': 2399},\n",
       "  {'transaction-id': 8855, 'amount': 2154},\n",
       "  {'transaction-id': 8922, 'amount': 2046},\n",
       "  {'transaction-id': 8986, 'amount': 2228},\n",
       "  {'transaction-id': 9054, 'amount': 2016},\n",
       "  {'transaction-id': 9095, 'amount': 2360},\n",
       "  {'transaction-id': 9124, 'amount': 2099},\n",
       "  {'transaction-id': 9218, 'amount': 1741},\n",
       "  {'transaction-id': 9291, 'amount': 2447},\n",
       "  {'transaction-id': 9352, 'amount': 2495},\n",
       "  {'transaction-id': 9442, 'amount': 2018},\n",
       "  {'transaction-id': 9538, 'amount': 1646},\n",
       "  {'transaction-id': 9591, 'amount': 2746},\n",
       "  {'transaction-id': 9603, 'amount': 2076},\n",
       "  {'transaction-id': 9619, 'amount': 1680},\n",
       "  {'transaction-id': 9635, 'amount': 2099},\n",
       "  {'transaction-id': 9664, 'amount': 2272},\n",
       "  {'transaction-id': 9803, 'amount': 2001},\n",
       "  {'transaction-id': 9872, 'amount': 2091},\n",
       "  {'transaction-id': 9878, 'amount': 2445},\n",
       "  {'transaction-id': 9894, 'amount': 2342},\n",
       "  {'transaction-id': 9933, 'amount': 2208}],\n",
       " [{'transaction-id': 624, 'amount': 0},\n",
       "  {'transaction-id': 1302, 'amount': 0},\n",
       "  {'transaction-id': 1773, 'amount': 0},\n",
       "  {'transaction-id': 1877, 'amount': 0},\n",
       "  {'transaction-id': 2459, 'amount': 2},\n",
       "  {'transaction-id': 2556, 'amount': 1},\n",
       "  {'transaction-id': 2573, 'amount': -1},\n",
       "  {'transaction-id': 3321, 'amount': 1},\n",
       "  {'transaction-id': 3386, 'amount': -1},\n",
       "  {'transaction-id': 4440, 'amount': 0},\n",
       "  {'transaction-id': 5970, 'amount': -2},\n",
       "  {'transaction-id': 6426, 'amount': 0},\n",
       "  {'transaction-id': 6678, 'amount': 0},\n",
       "  {'transaction-id': 8473, 'amount': 0},\n",
       "  {'transaction-id': 8512, 'amount': 0},\n",
       "  {'transaction-id': 8517, 'amount': 1}],\n",
       " [{'transaction-id': 14, 'amount': 6808},\n",
       "  {'transaction-id': 168, 'amount': 6589},\n",
       "  {'transaction-id': 680, 'amount': 6896},\n",
       "  {'transaction-id': 765, 'amount': 7246},\n",
       "  {'transaction-id': 1311, 'amount': 7130},\n",
       "  {'transaction-id': 1472, 'amount': 7499},\n",
       "  {'transaction-id': 1497, 'amount': 7268},\n",
       "  {'transaction-id': 1672, 'amount': 7473},\n",
       "  {'transaction-id': 2504, 'amount': 6918},\n",
       "  {'transaction-id': 2605, 'amount': 7501},\n",
       "  {'transaction-id': 2661, 'amount': 7052},\n",
       "  {'transaction-id': 2731, 'amount': 6563},\n",
       "  {'transaction-id': 2786, 'amount': 7081},\n",
       "  {'transaction-id': 3228, 'amount': 7203},\n",
       "  {'transaction-id': 3306, 'amount': 7018},\n",
       "  {'transaction-id': 3871, 'amount': 7013},\n",
       "  {'transaction-id': 4093, 'amount': 7080},\n",
       "  {'transaction-id': 4110, 'amount': 7248},\n",
       "  {'transaction-id': 4146, 'amount': 7197},\n",
       "  {'transaction-id': 4294, 'amount': 6780},\n",
       "  {'transaction-id': 4469, 'amount': 7267},\n",
       "  {'transaction-id': 4865, 'amount': 6697},\n",
       "  {'transaction-id': 4967, 'amount': 6927},\n",
       "  {'transaction-id': 5278, 'amount': 7126},\n",
       "  {'transaction-id': 5284, 'amount': 6829},\n",
       "  {'transaction-id': 5683, 'amount': 6958},\n",
       "  {'transaction-id': 5874, 'amount': 6964},\n",
       "  {'transaction-id': 6099, 'amount': 7074},\n",
       "  {'transaction-id': 6193, 'amount': 6613},\n",
       "  {'transaction-id': 6262, 'amount': 7087},\n",
       "  {'transaction-id': 6371, 'amount': 7207},\n",
       "  {'transaction-id': 6536, 'amount': 6879},\n",
       "  {'transaction-id': 6694, 'amount': 7580},\n",
       "  {'transaction-id': 6747, 'amount': 6589},\n",
       "  {'transaction-id': 6847, 'amount': 6999},\n",
       "  {'transaction-id': 7267, 'amount': 7330},\n",
       "  {'transaction-id': 7371, 'amount': 6944},\n",
       "  {'transaction-id': 7498, 'amount': 7663},\n",
       "  {'transaction-id': 8247, 'amount': 6860},\n",
       "  {'transaction-id': 8347, 'amount': 6690},\n",
       "  {'transaction-id': 8383, 'amount': 6876},\n",
       "  {'transaction-id': 8499, 'amount': 7045},\n",
       "  {'transaction-id': 8849, 'amount': 6836},\n",
       "  {'transaction-id': 8888, 'amount': 7293},\n",
       "  {'transaction-id': 9184, 'amount': 6733},\n",
       "  {'transaction-id': 9205, 'amount': 7149},\n",
       "  {'transaction-id': 9773, 'amount': 6824}])"
      ]
     },
     "execution_count": 14,
     "metadata": {},
     "output_type": "execute_result"
    }
   ],
   "source": [
    "js.filter(lambda record: record['name'] == 'Alice').pluck('transactions').take(3)"
   ]
  },
  {
   "cell_type": "code",
   "execution_count": 15,
   "metadata": {},
   "outputs": [
    {
     "data": {
      "text/plain": [
       "({'transaction-id': 12, 'amount': 2452},\n",
       " {'transaction-id': 16, 'amount': 1911},\n",
       " {'transaction-id': 25, 'amount': 2490})"
      ]
     },
     "execution_count": 15,
     "metadata": {},
     "output_type": "execute_result"
    }
   ],
   "source": [
    "(js.filter(lambda record: record['name'] == 'Alice')\n",
    "   .pluck('transactions')\n",
    "   .flatten()\n",
    "   .take(3))"
   ]
  },
  {
   "cell_type": "code",
   "execution_count": 16,
   "metadata": {},
   "outputs": [
    {
     "data": {
      "text/plain": [
       "(2452, 1911, 2490)"
      ]
     },
     "execution_count": 16,
     "metadata": {},
     "output_type": "execute_result"
    }
   ],
   "source": [
    "(js.filter(lambda record: record['name'] == 'Alice')\n",
    "   .pluck('transactions')\n",
    "   .flatten()\n",
    "   .pluck('amount')\n",
    "   .take(3))"
   ]
  },
  {
   "cell_type": "code",
   "execution_count": 17,
   "metadata": {},
   "outputs": [
    {
     "data": {
      "text/plain": [
       "1869.9974401516947"
      ]
     },
     "execution_count": 17,
     "metadata": {},
     "output_type": "execute_result"
    }
   ],
   "source": [
    "(js.filter(lambda record: record['name'] == 'Alice')\n",
    "   .pluck('transactions')\n",
    "   .flatten()\n",
    "   .pluck('amount')\n",
    "   .mean()\n",
    "   .compute())"
   ]
  },
  {
   "cell_type": "markdown",
   "metadata": {},
   "source": [
    "### Groupby and Foldby"
   ]
  },
  {
   "cell_type": "markdown",
   "metadata": {},
   "source": [
    "Often we want to group data by some function or key.  We can do this either with the `.groupby` method, which is straightforward but forces a full shuffle of the data (expensive) or with the harder-to-use but faster `.foldby` method, which does a streaming combined groupby and reduction.\n",
    "\n",
    "*  `groupby`:  Shuffles data so that all items with the same key are in the same key-value pair\n",
    "*  `foldby`:  Walks through the data accumulating a result per key\n",
    "\n",
    "*Note: the full groupby is particularly bad. In actual workloads you would do well to use `foldby` or switch to `DataFrame`s if possible.*"
   ]
  },
  {
   "cell_type": "markdown",
   "metadata": {},
   "source": [
    "### `groupby`"
   ]
  },
  {
   "cell_type": "markdown",
   "metadata": {},
   "source": [
    "Groupby collects items in your collection so that all items with the same value under some function are collected together into a key-value pair."
   ]
  },
  {
   "cell_type": "code",
   "execution_count": 18,
   "metadata": {},
   "outputs": [
    {
     "data": {
      "text/plain": [
       "[(7, ['Charlie']), (3, ['Bob', 'Dan']), (5, ['Alice', 'Edith', 'Frank'])]"
      ]
     },
     "execution_count": 18,
     "metadata": {},
     "output_type": "execute_result"
    }
   ],
   "source": [
    "b = db.from_sequence(['Alice', 'Bob', 'Charlie', 'Dan', 'Edith', 'Frank'])\n",
    "b.groupby(len).compute()  # names grouped by length"
   ]
  },
  {
   "cell_type": "code",
   "execution_count": 19,
   "metadata": {},
   "outputs": [
    {
     "data": {
      "text/plain": [
       "[(0, [0, 2, 4, 6, 8]), (1, [1, 3, 5, 7, 9])]"
      ]
     },
     "execution_count": 19,
     "metadata": {},
     "output_type": "execute_result"
    }
   ],
   "source": [
    "b = db.from_sequence(list(range(10)))\n",
    "b.groupby(lambda x: x % 2).compute()"
   ]
  },
  {
   "cell_type": "code",
   "execution_count": 20,
   "metadata": {},
   "outputs": [
    {
     "data": {
      "text/plain": [
       "[(0, 8), (1, 9)]"
      ]
     },
     "execution_count": 20,
     "metadata": {},
     "output_type": "execute_result"
    }
   ],
   "source": [
    "b.groupby(lambda x: x % 2).starmap(lambda k, v: (k, max(v))).compute()"
   ]
  },
  {
   "cell_type": "markdown",
   "metadata": {},
   "source": [
    "### `foldby`"
   ]
  },
  {
   "cell_type": "markdown",
   "metadata": {},
   "source": [
    "Foldby can be quite odd at first.  It is similar to the following functions from other libraries:\n",
    "\n",
    "*  [`toolz.reduceby`](http://toolz.readthedocs.io/en/latest/streaming-analytics.html#streaming-split-apply-combine)\n",
    "*  [`pyspark.RDD.combineByKey`](http://abshinn.github.io/python/apache-spark/2014/10/11/using-combinebykey-in-apache-spark/)\n",
    "\n",
    "When using `foldby` you provide \n",
    "\n",
    "1.  A key function on which to group elements\n",
    "2.  A binary operator such as you would pass to `reduce` that you use to perform reduction per each group\n",
    "3.  A combine binary operator that can combine the results of two `reduce` calls on different parts of your dataset.\n",
    "\n",
    "Your reduction must be associative.  It will happen in parallel in each of the partitions of your dataset.  Then all of these intermediate results will be combined by the `combine` binary operator."
   ]
  },
  {
   "cell_type": "code",
   "execution_count": 21,
   "metadata": {},
   "outputs": [
    {
     "data": {
      "text/plain": [
       "[(0, 8), (1, 9)]"
      ]
     },
     "execution_count": 21,
     "metadata": {},
     "output_type": "execute_result"
    }
   ],
   "source": [
    "is_even = lambda x: x % 2\n",
    "b.foldby(is_even, binop=max, combine=max).compute()"
   ]
  },
  {
   "cell_type": "markdown",
   "metadata": {},
   "source": [
    "### Example with account data"
   ]
  },
  {
   "cell_type": "markdown",
   "metadata": {},
   "source": [
    "We find the number of people with the same name."
   ]
  },
  {
   "cell_type": "code",
   "execution_count": 22,
   "metadata": {},
   "outputs": [
    {
     "name": "stdout",
     "output_type": "stream",
     "text": [
      "[('Alice', 99), ('Alice', 104), ('Alice', 117), ('Alice', 130), ('Bob', 33), ('Bob', 36), ('Bob', 39), ('Bob', 42), ('Charlie', 110), ('Charlie', 120), ('Charlie', 130), ('Charlie', 140), ('Dan', 55), ('Dan', 60), ('Dan', 65), ('Dan', 69), ('Edith', 117), ('Edith', 127), ('Edith', 136), ('Edith', 148), ('Frank', 147), ('Frank', 158), ('Frank', 175), ('Frank', 192), ('George', 110), ('George', 120), ('George', 130), ('George', 140), ('Hannah', 89), ('Hannah', 100), ('Hannah', 107), ('Hannah', 116), ('Ingrid', 154), ('Ingrid', 162), ('Ingrid', 177), ('Ingrid', 192), ('Jerry', 87), ('Jerry', 92), ('Jerry', 103), ('Jerry', 112), ('Kevin', 77), ('Kevin', 84), ('Kevin', 91), ('Kevin', 98), ('Laura', 99), ('Laura', 110), ('Laura', 177), ('Michael', 99), ('Michael', 108), ('Michael', 117), ('Michael', 126), ('Norbert', 75), ('Norbert', 80), ('Norbert', 87), ('Norbert', 95), ('Oliver', 143), ('Oliver', 156), ('Oliver', 169), ('Oliver', 181), ('Patricia', 55), ('Patricia', 60), ('Patricia', 65), ('Patricia', 70), ('Quinn', 66), ('Quinn', 72), ('Quinn', 78), ('Quinn', 82), ('Ray', 143), ('Ray', 156), ('Ray', 169), ('Ray', 182), ('Sarah', 176), ('Sarah', 189), ('Sarah', 208), ('Sarah', 224), ('Tim', 77), ('Tim', 84), ('Tim', 91), ('Tim', 98), ('Ursula', 109), ('Ursula', 120), ('Ursula', 130), ('Ursula', 140), ('Victor', 164), ('Victor', 179), ('Victor', 195), ('Victor', 210), ('Wendy', 129), ('Wendy', 140), ('Wendy', 152), ('Wendy', 164), ('Xavier', 99), ('Xavier', 108), ('Xavier', 116), ('Xavier', 126), ('Yvonne', 55), ('Yvonne', 60), ('Yvonne', 65), ('Yvonne', 70), ('Zelda', 135), ('Zelda', 153), ('Zelda', 167), ('Zelda', 176)]\n",
      "CPU times: user 3.88 s, sys: 306 ms, total: 4.18 s\n",
      "Wall time: 1min 2s\n"
     ]
    }
   ],
   "source": [
    "%%time\n",
    "# Warning, this one takes a while...\n",
    "result = js.groupby(lambda item: item['name']).starmap(lambda k, v: (k, len(v))).compute()\n",
    "print(sorted(result))"
   ]
  },
  {
   "cell_type": "code",
   "execution_count": 23,
   "metadata": {},
   "outputs": [
    {
     "name": "stdout",
     "output_type": "stream",
     "text": [
      "[('Alice', 450), ('Bob', 150), ('Charlie', 500), ('Dan', 249), ('Edith', 528), ('Frank', 672), ('George', 500), ('Hannah', 412), ('Ingrid', 685), ('Jerry', 394), ('Kevin', 350), ('Laura', 386), ('Michael', 450), ('Norbert', 337), ('Oliver', 649), ('Patricia', 250), ('Quinn', 298), ('Ray', 650), ('Sarah', 797), ('Tim', 350), ('Ursula', 499), ('Victor', 748), ('Wendy', 585), ('Xavier', 449), ('Yvonne', 250), ('Zelda', 631)]\n",
      "CPU times: user 175 ms, sys: 5.45 ms, total: 180 ms\n",
      "Wall time: 621 ms\n"
     ]
    }
   ],
   "source": [
    "%%time\n",
    "# This one is comparatively fast and produces the same result.\n",
    "from operator import add\n",
    "def incr(tot, _):\n",
    "    return tot+1\n",
    "\n",
    "result = js.foldby(key='name', \n",
    "                   binop=incr, \n",
    "                   initial=0, \n",
    "                   combine=add, \n",
    "                   combine_initial=0).compute()\n",
    "print(sorted(result))"
   ]
  },
  {
   "cell_type": "markdown",
   "metadata": {},
   "source": [
    "### Exercise: compute total amount per name"
   ]
  },
  {
   "cell_type": "markdown",
   "metadata": {},
   "source": [
    "We want to groupby (or foldby) the `name` key, then add up the all of the amounts for each name.\n",
    "\n",
    "Steps\n",
    "\n",
    "1.  Create a small function that, given a dictionary like \n",
    "\n",
    "        {'name': 'Alice', 'transactions': [{'amount': 1, 'id': 123}, {'amount': 2, 'id': 456}]}\n",
    "        \n",
    "    produces the sum of the amounts, e.g. `3`\n",
    "    \n",
    "2.  Slightly change the binary operator of the `foldby` example above so that the binary operator doesn't count the number of entries, but instead accumulates the sum of the amounts."
   ]
  },
  {
   "cell_type": "code",
   "execution_count": 24,
   "metadata": {},
   "outputs": [],
   "source": [
    "# Your code here..."
   ]
  },
  {
   "cell_type": "markdown",
   "metadata": {},
   "source": [
    "## DataFrames"
   ]
  },
  {
   "cell_type": "markdown",
   "metadata": {},
   "source": [
    "For the same reasons that Pandas is often faster than pure Python, `dask.dataframe` can be faster than `dask.bag`.  We will work more with DataFrames later, but from for the bag point of view, they are frequently the end-point of the \"messy\" part of data ingestion—once the data can be made into a data-frame, then complex split-apply-combine logic will become much more straight-forward and efficient.\n",
    "\n",
    "You can transform a bag with a simple tuple or flat dictionary structure into a `dask.dataframe` with the `to_dataframe` method."
   ]
  },
  {
   "cell_type": "code",
   "execution_count": 25,
   "metadata": {},
   "outputs": [
    {
     "data": {
      "text/html": [
       "<div>\n",
       "<style scoped>\n",
       "    .dataframe tbody tr th:only-of-type {\n",
       "        vertical-align: middle;\n",
       "    }\n",
       "\n",
       "    .dataframe tbody tr th {\n",
       "        vertical-align: top;\n",
       "    }\n",
       "\n",
       "    .dataframe thead th {\n",
       "        text-align: right;\n",
       "    }\n",
       "</style>\n",
       "<table border=\"1\" class=\"dataframe\">\n",
       "  <thead>\n",
       "    <tr style=\"text-align: right;\">\n",
       "      <th></th>\n",
       "      <th>id</th>\n",
       "      <th>name</th>\n",
       "      <th>transactions</th>\n",
       "    </tr>\n",
       "  </thead>\n",
       "  <tbody>\n",
       "    <tr>\n",
       "      <th>0</th>\n",
       "      <td>0</td>\n",
       "      <td>Hannah</td>\n",
       "      <td>[{'transaction-id': 4274, 'amount': -835}]</td>\n",
       "    </tr>\n",
       "    <tr>\n",
       "      <th>1</th>\n",
       "      <td>1</td>\n",
       "      <td>Patricia</td>\n",
       "      <td>[{'transaction-id': 742, 'amount': 1782}, {'tr...</td>\n",
       "    </tr>\n",
       "    <tr>\n",
       "      <th>2</th>\n",
       "      <td>2</td>\n",
       "      <td>Edith</td>\n",
       "      <td>[{'transaction-id': 62, 'amount': -2819}, {'tr...</td>\n",
       "    </tr>\n",
       "    <tr>\n",
       "      <th>3</th>\n",
       "      <td>3</td>\n",
       "      <td>Ingrid</td>\n",
       "      <td>[{'transaction-id': 118, 'amount': 4012}, {'tr...</td>\n",
       "    </tr>\n",
       "    <tr>\n",
       "      <th>4</th>\n",
       "      <td>4</td>\n",
       "      <td>Michael</td>\n",
       "      <td>[{'transaction-id': 18, 'amount': 820}, {'tran...</td>\n",
       "    </tr>\n",
       "  </tbody>\n",
       "</table>\n",
       "</div>"
      ],
      "text/plain": [
       "   id      name                                       transactions\n",
       "0   0    Hannah         [{'transaction-id': 4274, 'amount': -835}]\n",
       "1   1  Patricia  [{'transaction-id': 742, 'amount': 1782}, {'tr...\n",
       "2   2     Edith  [{'transaction-id': 62, 'amount': -2819}, {'tr...\n",
       "3   3    Ingrid  [{'transaction-id': 118, 'amount': 4012}, {'tr...\n",
       "4   4   Michael  [{'transaction-id': 18, 'amount': 820}, {'tran..."
      ]
     },
     "execution_count": 25,
     "metadata": {},
     "output_type": "execute_result"
    }
   ],
   "source": [
    "df1 = js.to_dataframe()\n",
    "df1.head()"
   ]
  },
  {
   "cell_type": "markdown",
   "metadata": {},
   "source": [
    "This now looks like a well-defined DataFrame, and we can apply Pandas-like computations to it efficiently."
   ]
  },
  {
   "cell_type": "markdown",
   "metadata": {},
   "source": [
    "Using a Dask DataFrame, how long does it take to do our prior computation of numbers of people with the same name?  It turns out that `dask.dataframe.groupby()` beats `dask.bag.groupby()` more than an order of magnitude; but it still cannot match `dask.bag.foldby()` for this case."
   ]
  },
  {
   "cell_type": "code",
   "execution_count": 26,
   "metadata": {},
   "outputs": [
    {
     "name": "stdout",
     "output_type": "stream",
     "text": [
      "CPU times: user 204 ms, sys: 29.4 ms, total: 233 ms\n",
      "Wall time: 1.67 s\n"
     ]
    },
    {
     "data": {
      "text/plain": [
       "name\n",
       "Alice      450\n",
       "Bob        150\n",
       "Charlie    500\n",
       "Dan        249\n",
       "Edith      528\n",
       "Name: id, dtype: int64"
      ]
     },
     "execution_count": 26,
     "metadata": {},
     "output_type": "execute_result"
    }
   ],
   "source": [
    "%time df1.groupby('name').id.count().compute().head()"
   ]
  },
  {
   "cell_type": "markdown",
   "metadata": {},
   "source": [
    "### Denormalization"
   ]
  },
  {
   "cell_type": "markdown",
   "metadata": {},
   "source": [
    "This DataFrame format is less-than-optimal because the `transactions` column is filled with nested data so Pandas has to revert to `object` dtype, which is quite slow in Pandas.  Ideally we want to transform to a dataframe only after we have flattened our data so that each record is a single `int`, `string`, `float`, etc.."
   ]
  },
  {
   "cell_type": "code",
   "execution_count": 27,
   "metadata": {},
   "outputs": [
    {
     "data": {
      "text/plain": [
       "({'id': 0, 'name': 'Hannah', 'amount': -835, 'transaction-id': 4274},\n",
       " {'id': 1, 'name': 'Patricia', 'amount': 1782, 'transaction-id': 742},\n",
       " {'id': 1, 'name': 'Patricia', 'amount': 1862, 'transaction-id': 853})"
      ]
     },
     "execution_count": 27,
     "metadata": {},
     "output_type": "execute_result"
    }
   ],
   "source": [
    "def denormalize(record):\n",
    "    # returns a list for every nested item, each transaction of each person\n",
    "    return [{'id': record['id'], \n",
    "             'name': record['name'], \n",
    "             'amount': transaction['amount'], \n",
    "             'transaction-id': transaction['transaction-id']}\n",
    "            for transaction in record['transactions']]\n",
    "\n",
    "transactions = js.map(denormalize).flatten()\n",
    "transactions.take(3)"
   ]
  },
  {
   "cell_type": "code",
   "execution_count": 28,
   "metadata": {},
   "outputs": [
    {
     "data": {
      "text/html": [
       "<div>\n",
       "<style scoped>\n",
       "    .dataframe tbody tr th:only-of-type {\n",
       "        vertical-align: middle;\n",
       "    }\n",
       "\n",
       "    .dataframe tbody tr th {\n",
       "        vertical-align: top;\n",
       "    }\n",
       "\n",
       "    .dataframe thead th {\n",
       "        text-align: right;\n",
       "    }\n",
       "</style>\n",
       "<table border=\"1\" class=\"dataframe\">\n",
       "  <thead>\n",
       "    <tr style=\"text-align: right;\">\n",
       "      <th></th>\n",
       "      <th>id</th>\n",
       "      <th>name</th>\n",
       "      <th>amount</th>\n",
       "      <th>transaction-id</th>\n",
       "    </tr>\n",
       "  </thead>\n",
       "  <tbody>\n",
       "    <tr>\n",
       "      <th>0</th>\n",
       "      <td>0</td>\n",
       "      <td>Hannah</td>\n",
       "      <td>-835</td>\n",
       "      <td>4274</td>\n",
       "    </tr>\n",
       "    <tr>\n",
       "      <th>1</th>\n",
       "      <td>1</td>\n",
       "      <td>Patricia</td>\n",
       "      <td>1782</td>\n",
       "      <td>742</td>\n",
       "    </tr>\n",
       "    <tr>\n",
       "      <th>2</th>\n",
       "      <td>1</td>\n",
       "      <td>Patricia</td>\n",
       "      <td>1862</td>\n",
       "      <td>853</td>\n",
       "    </tr>\n",
       "    <tr>\n",
       "      <th>3</th>\n",
       "      <td>1</td>\n",
       "      <td>Patricia</td>\n",
       "      <td>1892</td>\n",
       "      <td>1720</td>\n",
       "    </tr>\n",
       "    <tr>\n",
       "      <th>4</th>\n",
       "      <td>1</td>\n",
       "      <td>Patricia</td>\n",
       "      <td>1961</td>\n",
       "      <td>1776</td>\n",
       "    </tr>\n",
       "  </tbody>\n",
       "</table>\n",
       "</div>"
      ],
      "text/plain": [
       "   id      name  amount  transaction-id\n",
       "0   0    Hannah    -835            4274\n",
       "1   1  Patricia    1782             742\n",
       "2   1  Patricia    1862             853\n",
       "3   1  Patricia    1892            1720\n",
       "4   1  Patricia    1961            1776"
      ]
     },
     "execution_count": 28,
     "metadata": {},
     "output_type": "execute_result"
    }
   ],
   "source": [
    "df = transactions.to_dataframe()\n",
    "df.head()"
   ]
  },
  {
   "cell_type": "code",
   "execution_count": 29,
   "metadata": {},
   "outputs": [
    {
     "name": "stdout",
     "output_type": "stream",
     "text": [
      "CPU times: user 226 ms, sys: 6.28 ms, total: 232 ms\n",
      "Wall time: 1.45 s\n"
     ]
    },
    {
     "data": {
      "text/plain": [
       "name\n",
       "Alice       21095\n",
       "Bob          3025\n",
       "Charlie     24154\n",
       "Dan         14339\n",
       "Edith       30323\n",
       "Frank       20732\n",
       "George      35135\n",
       "Hannah       5820\n",
       "Ingrid      20538\n",
       "Jerry       15659\n",
       "Kevin       14379\n",
       "Laura       12144\n",
       "Michael     21572\n",
       "Norbert      6772\n",
       "Oliver      27233\n",
       "Patricia     9870\n",
       "Quinn        5292\n",
       "Ray         30138\n",
       "Sarah       42074\n",
       "Tim          7462\n",
       "Ursula      22444\n",
       "Victor      25996\n",
       "Wendy       27532\n",
       "Xavier      16359\n",
       "Yvonne       5106\n",
       "Zelda       34807\n",
       "Name: transaction-id, dtype: int64"
      ]
     },
     "execution_count": 29,
     "metadata": {},
     "output_type": "execute_result"
    }
   ],
   "source": [
    "%%time\n",
    "# number of transactions per name\n",
    "# note that the time here includes the data load and ingestion\n",
    "df.groupby('name')['transaction-id'].count().compute()"
   ]
  },
  {
   "cell_type": "markdown",
   "metadata": {},
   "source": [
    "## Limitations"
   ]
  },
  {
   "cell_type": "markdown",
   "metadata": {},
   "source": [
    "Bags provide very general computation (any Python function.)  This generality\n",
    "comes at cost.  Bags have the following known limitations\n",
    "\n",
    "1.  Bag operations tend to be slower than array/dataframe computations in the\n",
    "    same way that Python tends to be slower than NumPy/Pandas\n",
    "2.  ``Bag.groupby`` is slow.  You should try to use ``Bag.foldby`` if possible.\n",
    "    Using ``Bag.foldby`` requires more thought. Even better, consider creating\n",
    "    a normalised dataframe."
   ]
  },
  {
   "cell_type": "markdown",
   "metadata": {},
   "source": [
    "## Learn More\n",
    "\n",
    "* [Bag documentation](https://docs.dask.org/en/latest/bag.html)\n",
    "* [Bag screencast](https://youtu.be/-qIiJ1XtSv0)\n",
    "* [Bag API](https://docs.dask.org/en/latest/bag-api.html)\n",
    "* [Bag examples](https://examples.dask.org/bag.html)"
   ]
  },
  {
   "cell_type": "markdown",
   "metadata": {},
   "source": [
    "## Shutdown"
   ]
  },
  {
   "cell_type": "code",
   "execution_count": 30,
   "metadata": {},
   "outputs": [],
   "source": [
    "client.shutdown()"
   ]
  }
 ],
 "metadata": {
  "anaconda-cloud": {},
  "kernelspec": {
   "display_name": "Python 3",
   "language": "python",
   "name": "python3"
  },
  "language_info": {
   "codemirror_mode": {
    "name": "ipython",
    "version": 3
   },
   "file_extension": ".py",
   "mimetype": "text/x-python",
   "name": "python",
   "nbconvert_exporter": "python",
   "pygments_lexer": "ipython3",
   "version": "3.7.6"
  }
 },
 "nbformat": 4,
 "nbformat_minor": 4
}
