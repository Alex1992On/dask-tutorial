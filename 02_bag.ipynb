{
 "cells": [
  {
   "cell_type": "markdown",
   "metadata": {},
   "source": [
    "<img src=\"images/dask_horizontal.svg\" align=\"right\" width=\"30%\">"
   ]
  },
  {
   "cell_type": "markdown",
   "metadata": {},
   "source": [
    "# Bag: Parallel Lists for semi-structured data"
   ]
  },
  {
   "cell_type": "markdown",
   "metadata": {},
   "source": [
    "Dask-bag excels in processing data that can be represented as a sequence of arbitrary inputs. We'll refer to this as \"messy\" data, because it can contain complex nested structures, missing fields, mixtures of data types, etc. The *functional* programming style fits very nicely with standard Python iteration, such as can be found in the `itertools` module.\n",
    "\n",
    "Messy data is often encountered at the beginning of data processing pipelines when large volumes of raw data are first consumed. The initial set of data might be JSON, CSV, XML, or any other format that does not enforce strict structure and datatypes.\n",
    "For this reason, the initial data massaging and processing is often done with Python `list`s, `dict`s, and `set`s.\n",
    "\n",
    "These core data structures are optimized for general-purpose storage and processing.  Adding streaming computation with iterators/generator expressions or libraries like `itertools` or [`toolz`](https://toolz.readthedocs.io/en/latest/) let us process large volumes in a small space.  If we combine this with parallel processing then we can churn through a fair amount of data.\n",
    "\n",
    "Dask.bag is a high level Dask collection to automate common workloads of this form.  In a nutshell\n",
    "\n",
    "    dask.bag = map, filter, toolz + parallel execution\n",
    "    \n",
    "**Related Documentation**\n",
    "\n",
    "* [Bag documentation](https://docs.dask.org/en/latest/bag.html)\n",
    "* [Bag screencast](https://youtu.be/-qIiJ1XtSv0)\n",
    "* [Bag API](https://docs.dask.org/en/latest/bag-api.html)\n",
    "* [Bag examples](https://examples.dask.org/bag.html)"
   ]
  },
  {
   "cell_type": "markdown",
   "metadata": {},
   "source": [
    "## Create data"
   ]
  },
  {
   "cell_type": "code",
   "execution_count": 1,
   "metadata": {
    "execution": {
     "iopub.execute_input": "2020-10-30T00:24:45.822028Z",
     "iopub.status.busy": "2020-10-30T00:24:45.821384Z",
     "iopub.status.idle": "2020-10-30T00:24:46.321359Z",
     "shell.execute_reply": "2020-10-30T00:24:46.320888Z"
    }
   },
   "outputs": [],
   "source": [
    "%run prep.py -d accounts"
   ]
  },
  {
   "cell_type": "markdown",
   "metadata": {},
   "source": [
    "## Setup"
   ]
  },
  {
   "cell_type": "markdown",
   "metadata": {},
   "source": [
    "Again, we'll use the distributed scheduler. Schedulers will be explained in depth [later](05_distributed.ipynb)."
   ]
  },
  {
   "cell_type": "code",
   "execution_count": 2,
   "metadata": {
    "execution": {
     "iopub.execute_input": "2020-10-30T00:24:46.325592Z",
     "iopub.status.busy": "2020-10-30T00:24:46.324962Z",
     "iopub.status.idle": "2020-10-30T00:24:48.179584Z",
     "shell.execute_reply": "2020-10-30T00:24:48.179944Z"
    }
   },
   "outputs": [],
   "source": [
    "from dask.distributed import Client\n",
    "\n",
    "client = Client(n_workers=4)"
   ]
  },
  {
   "cell_type": "markdown",
   "metadata": {},
   "source": [
    "## Creation"
   ]
  },
  {
   "cell_type": "markdown",
   "metadata": {},
   "source": [
    "You can create a `Bag` from a Python sequence, from files, from data on S3, etc.\n",
    "We demonstrate using `.take()` to show elements of the data. (Doing `.take(1)` results in a tuple with one element)\n",
    "\n",
    "Note that the data are partitioned into blocks, and there are many items per block. In the first example, the two partitions contain five elements each, and in the following two, each file is partitioned into one or more bytes blocks."
   ]
  },
  {
   "cell_type": "code",
   "execution_count": 3,
   "metadata": {
    "execution": {
     "iopub.execute_input": "2020-10-30T00:24:48.184982Z",
     "iopub.status.busy": "2020-10-30T00:24:48.184012Z",
     "iopub.status.idle": "2020-10-30T00:24:48.225622Z",
     "shell.execute_reply": "2020-10-30T00:24:48.226020Z"
    }
   },
   "outputs": [
    {
     "data": {
      "text/plain": [
       "(1, 2, 3)"
      ]
     },
     "execution_count": 1,
     "metadata": {},
     "output_type": "execute_result"
    }
   ],
   "source": [
    "# each element is an integer\n",
    "import dask.bag as db\n",
    "b = db.from_sequence([1, 2, 3, 4, 5, 6, 7, 8, 9, 10], npartitions=2)\n",
    "b.take(3)"
   ]
  },
  {
   "cell_type": "code",
   "execution_count": 4,
   "metadata": {
    "execution": {
     "iopub.execute_input": "2020-10-30T00:24:48.228729Z",
     "iopub.status.busy": "2020-10-30T00:24:48.228017Z",
     "iopub.status.idle": "2020-10-30T00:24:48.254853Z",
     "shell.execute_reply": "2020-10-30T00:24:48.255227Z"
    }
   },
   "outputs": [
    {
     "data": {
      "text/plain": [
       "('{\"id\": 0, \"name\": \"Frank\", \"transactions\": [{\"transaction-id\": 1923, \"amount\": 927}, {\"transaction-id\": 3779, \"amount\": 853}]}\\n',)"
      ]
     },
     "execution_count": 1,
     "metadata": {},
     "output_type": "execute_result"
    }
   ],
   "source": [
    "# each element is a text file, where each line is a JSON object\n",
    "# note that the compression is handled automatically\n",
    "import os\n",
    "b = db.read_text(os.path.join('data', 'accounts.*.json.gz'))\n",
    "b.take(1)"
   ]
  },
  {
   "cell_type": "code",
   "execution_count": 5,
   "metadata": {
    "execution": {
     "iopub.execute_input": "2020-10-30T00:24:48.259561Z",
     "iopub.status.busy": "2020-10-30T00:24:48.259128Z",
     "iopub.status.idle": "2020-10-30T00:24:48.261414Z",
     "shell.execute_reply": "2020-10-30T00:24:48.261850Z"
    }
   },
   "outputs": [
    {
     "data": {
      "text/plain": [
       "'s3://dask-data/nyc-taxi/2015/yellow_tripdata_2015-01.csv'"
      ]
     },
     "execution_count": 1,
     "metadata": {},
     "output_type": "execute_result"
    }
   ],
   "source": [
    "# Edit sources.py to configure source locations\n",
    "import sources\n",
    "sources.bag_url"
   ]
  },
  {
   "cell_type": "code",
   "execution_count": 6,
   "metadata": {
    "execution": {
     "iopub.execute_input": "2020-10-30T00:24:48.265812Z",
     "iopub.status.busy": "2020-10-30T00:24:48.265189Z",
     "iopub.status.idle": "2020-10-30T00:24:49.015727Z",
     "shell.execute_reply": "2020-10-30T00:24:49.014988Z"
    }
   },
   "outputs": [
    {
     "data": {
      "text/plain": [
       "('VendorID,tpep_pickup_datetime,tpep_dropoff_datetime,passenger_count,trip_distance,pickup_longitude,pickup_latitude,RateCodeID,store_and_fwd_flag,dropoff_longitude,dropoff_latitude,payment_type,fare_amount,extra,mta_tax,tip_amount,tolls_amount,improvement_surcharge,total_amount\\n',)"
      ]
     },
     "execution_count": 1,
     "metadata": {},
     "output_type": "execute_result"
    }
   ],
   "source": [
    "# Requires `s3fs` library\n",
    "# each partition is a remote CSV text file\n",
    "b = db.read_text(sources.bag_url,\n",
    "                 storage_options={'anon': True})\n",
    "b.take(1)"
   ]
  },
  {
   "cell_type": "markdown",
   "metadata": {},
   "source": [
    "## Manipulation"
   ]
  },
  {
   "cell_type": "markdown",
   "metadata": {},
   "source": [
    "`Bag` objects hold the standard functional API found in projects like the Python standard library, `toolz`, or `pyspark`, including `map`, `filter`, `groupby`, etc..\n",
    "\n",
    "Operations on `Bag` objects create new bags.  Call the `.compute()` method to trigger execution, as we saw for `Delayed` objects.  "
   ]
  },
  {
   "cell_type": "code",
   "execution_count": 7,
   "metadata": {
    "execution": {
     "iopub.execute_input": "2020-10-30T00:24:49.021015Z",
     "iopub.status.busy": "2020-10-30T00:24:49.020573Z",
     "iopub.status.idle": "2020-10-30T00:24:49.024322Z",
     "shell.execute_reply": "2020-10-30T00:24:49.024645Z"
    }
   },
   "outputs": [
    {
     "data": {
      "text/plain": [
       "dask.bag<lambda, npartitions=10>"
      ]
     },
     "execution_count": 1,
     "metadata": {},
     "output_type": "execute_result"
    }
   ],
   "source": [
    "def is_even(n):\n",
    "    return n % 2 == 0\n",
    "\n",
    "b = db.from_sequence([1, 2, 3, 4, 5, 6, 7, 8, 9, 10])\n",
    "c = b.filter(is_even).map(lambda x: x ** 2)\n",
    "c"
   ]
  },
  {
   "cell_type": "code",
   "execution_count": 8,
   "metadata": {
    "execution": {
     "iopub.execute_input": "2020-10-30T00:24:49.035529Z",
     "iopub.status.busy": "2020-10-30T00:24:49.035046Z",
     "iopub.status.idle": "2020-10-30T00:24:49.108467Z",
     "shell.execute_reply": "2020-10-30T00:24:49.108997Z"
    }
   },
   "outputs": [
    {
     "data": {
      "text/plain": [
       "[4, 16, 36, 64, 100]"
      ]
     },
     "execution_count": 1,
     "metadata": {},
     "output_type": "execute_result"
    }
   ],
   "source": [
    "# blocking form: wait for completion (which is very fast in this case)\n",
    "c.compute()"
   ]
  },
  {
   "cell_type": "markdown",
   "metadata": {},
   "source": [
    "### Example: Accounts JSON data"
   ]
  },
  {
   "cell_type": "markdown",
   "metadata": {},
   "source": [
    "We've created a fake dataset of gzipped JSON data in your data directory.  This is like the example used in the `DataFrame` example we will see later, except that it has bundled up all of the entires for each individual `id` into a single record.  This is similar to data that you might collect off of a document store database or a web API.\n",
    "\n",
    "Each line is a JSON encoded dictionary with the following keys\n",
    "\n",
    "*  id: Unique identifier of the customer\n",
    "*  name: Name of the customer\n",
    "*  transactions: List of `transaction-id`, `amount` pairs, one for each transaction for the customer in that file"
   ]
  },
  {
   "cell_type": "code",
   "execution_count": 9,
   "metadata": {
    "execution": {
     "iopub.execute_input": "2020-10-30T00:24:49.113154Z",
     "iopub.status.busy": "2020-10-30T00:24:49.112504Z",
     "iopub.status.idle": "2020-10-30T00:24:49.143210Z",
     "shell.execute_reply": "2020-10-30T00:24:49.143840Z"
    }
   },
   "outputs": [
    {
     "data": {
      "text/plain": [
       "('{\"id\": 0, \"name\": \"Frank\", \"transactions\": [{\"transaction-id\": 1923, \"amount\": 927}, {\"transaction-id\": 3779, \"amount\": 853}]}\\n',\n",
       " '{\"id\": 1, \"name\": \"Charlie\", \"transactions\": [{\"transaction-id\": 184, \"amount\": 561}, {\"transaction-id\": 591, \"amount\": 546}, {\"transaction-id\": 1235, \"amount\": 551}, {\"transaction-id\": 1627, \"amount\": 511}, {\"transaction-id\": 1936, \"amount\": 547}, {\"transaction-id\": 2032, \"amount\": 543}, {\"transaction-id\": 2216, \"amount\": 563}, {\"transaction-id\": 2457, \"amount\": 547}, {\"transaction-id\": 2526, \"amount\": 539}, {\"transaction-id\": 3454, \"amount\": 471}, {\"transaction-id\": 3702, \"amount\": 546}, {\"transaction-id\": 4154, \"amount\": 609}, {\"transaction-id\": 4218, \"amount\": 602}, {\"transaction-id\": 4425, \"amount\": 574}, {\"transaction-id\": 4434, \"amount\": 564}, {\"transaction-id\": 4495, \"amount\": 539}, {\"transaction-id\": 4689, \"amount\": 529}, {\"transaction-id\": 4925, \"amount\": 617}, {\"transaction-id\": 4951, \"amount\": 567}, {\"transaction-id\": 5601, \"amount\": 520}, {\"transaction-id\": 5649, \"amount\": 552}, {\"transaction-id\": 5804, \"amount\": 537}, {\"transaction-id\": 7279, \"amount\": 537}, {\"transaction-id\": 7486, \"amount\": 577}, {\"transaction-id\": 8273, \"amount\": 547}, {\"transaction-id\": 8310, \"amount\": 555}, {\"transaction-id\": 8396, \"amount\": 567}, {\"transaction-id\": 8427, \"amount\": 548}, {\"transaction-id\": 8990, \"amount\": 554}, {\"transaction-id\": 9291, \"amount\": 547}, {\"transaction-id\": 9638, \"amount\": 573}, {\"transaction-id\": 9858, \"amount\": 559}, {\"transaction-id\": 9904, \"amount\": 552}, {\"transaction-id\": 9917, \"amount\": 536}]}\\n',\n",
       " '{\"id\": 2, \"name\": \"Xavier\", \"transactions\": [{\"transaction-id\": 282, \"amount\": 29}, {\"transaction-id\": 571, \"amount\": 33}, {\"transaction-id\": 603, \"amount\": 34}, {\"transaction-id\": 893, \"amount\": 34}, {\"transaction-id\": 900, \"amount\": 33}, {\"transaction-id\": 1134, \"amount\": 41}, {\"transaction-id\": 1588, \"amount\": 37}, {\"transaction-id\": 1962, \"amount\": 31}, {\"transaction-id\": 2074, \"amount\": 29}, {\"transaction-id\": 2116, \"amount\": 36}, {\"transaction-id\": 2150, \"amount\": 36}, {\"transaction-id\": 2154, \"amount\": 31}, {\"transaction-id\": 2220, \"amount\": 38}, {\"transaction-id\": 2978, \"amount\": 33}, {\"transaction-id\": 2989, \"amount\": 37}, {\"transaction-id\": 3864, \"amount\": 30}, {\"transaction-id\": 3874, \"amount\": 36}, {\"transaction-id\": 3962, \"amount\": 33}, {\"transaction-id\": 4377, \"amount\": 36}, {\"transaction-id\": 5167, \"amount\": 36}, {\"transaction-id\": 5180, \"amount\": 33}, {\"transaction-id\": 5211, \"amount\": 33}, {\"transaction-id\": 5341, \"amount\": 31}, {\"transaction-id\": 5358, \"amount\": 34}, {\"transaction-id\": 5550, \"amount\": 34}, {\"transaction-id\": 5733, \"amount\": 29}, {\"transaction-id\": 5844, \"amount\": 32}, {\"transaction-id\": 6046, \"amount\": 35}, {\"transaction-id\": 6220, \"amount\": 34}, {\"transaction-id\": 6224, \"amount\": 34}, {\"transaction-id\": 6519, \"amount\": 35}, {\"transaction-id\": 6636, \"amount\": 35}, {\"transaction-id\": 6802, \"amount\": 34}, {\"transaction-id\": 6935, \"amount\": 33}, {\"transaction-id\": 6953, \"amount\": 31}, {\"transaction-id\": 7006, \"amount\": 35}, {\"transaction-id\": 7064, \"amount\": 34}, {\"transaction-id\": 7423, \"amount\": 37}, {\"transaction-id\": 7758, \"amount\": 37}, {\"transaction-id\": 8055, \"amount\": 33}, {\"transaction-id\": 8150, \"amount\": 38}, {\"transaction-id\": 8185, \"amount\": 37}, {\"transaction-id\": 8428, \"amount\": 34}, {\"transaction-id\": 8497, \"amount\": 34}, {\"transaction-id\": 8563, \"amount\": 33}, {\"transaction-id\": 8690, \"amount\": 35}, {\"transaction-id\": 8910, \"amount\": 36}, {\"transaction-id\": 9489, \"amount\": 32}, {\"transaction-id\": 9649, \"amount\": 34}, {\"transaction-id\": 9665, \"amount\": 35}, {\"transaction-id\": 9797, \"amount\": 33}]}\\n')"
      ]
     },
     "execution_count": 1,
     "metadata": {},
     "output_type": "execute_result"
    }
   ],
   "source": [
    "filename = os.path.join('data', 'accounts.*.json.gz')\n",
    "lines = db.read_text(filename)\n",
    "lines.take(3)"
   ]
  },
  {
   "cell_type": "markdown",
   "metadata": {},
   "source": [
    "Our data comes out of the file as lines of text. Notice that file decompression happened automatically. We can make this data look more reasonable by mapping the `json.loads` function onto our bag."
   ]
  },
  {
   "cell_type": "code",
   "execution_count": 10,
   "metadata": {
    "execution": {
     "iopub.execute_input": "2020-10-30T00:24:49.147553Z",
     "iopub.status.busy": "2020-10-30T00:24:49.147165Z",
     "iopub.status.idle": "2020-10-30T00:24:49.172150Z",
     "shell.execute_reply": "2020-10-30T00:24:49.172993Z"
    }
   },
   "outputs": [
    {
     "data": {
      "text/plain": [
       "({'id': 0,\n",
       "  'name': 'Frank',\n",
       "  'transactions': [{'transaction-id': 1923, 'amount': 927},\n",
       "   {'transaction-id': 3779, 'amount': 853}]},\n",
       " {'id': 1,\n",
       "  'name': 'Charlie',\n",
       "  'transactions': [{'transaction-id': 184, 'amount': 561},\n",
       "   {'transaction-id': 591, 'amount': 546},\n",
       "   {'transaction-id': 1235, 'amount': 551},\n",
       "   {'transaction-id': 1627, 'amount': 511},\n",
       "   {'transaction-id': 1936, 'amount': 547},\n",
       "   {'transaction-id': 2032, 'amount': 543},\n",
       "   {'transaction-id': 2216, 'amount': 563},\n",
       "   {'transaction-id': 2457, 'amount': 547},\n",
       "   {'transaction-id': 2526, 'amount': 539},\n",
       "   {'transaction-id': 3454, 'amount': 471},\n",
       "   {'transaction-id': 3702, 'amount': 546},\n",
       "   {'transaction-id': 4154, 'amount': 609},\n",
       "   {'transaction-id': 4218, 'amount': 602},\n",
       "   {'transaction-id': 4425, 'amount': 574},\n",
       "   {'transaction-id': 4434, 'amount': 564},\n",
       "   {'transaction-id': 4495, 'amount': 539},\n",
       "   {'transaction-id': 4689, 'amount': 529},\n",
       "   {'transaction-id': 4925, 'amount': 617},\n",
       "   {'transaction-id': 4951, 'amount': 567},\n",
       "   {'transaction-id': 5601, 'amount': 520},\n",
       "   {'transaction-id': 5649, 'amount': 552},\n",
       "   {'transaction-id': 5804, 'amount': 537},\n",
       "   {'transaction-id': 7279, 'amount': 537},\n",
       "   {'transaction-id': 7486, 'amount': 577},\n",
       "   {'transaction-id': 8273, 'amount': 547},\n",
       "   {'transaction-id': 8310, 'amount': 555},\n",
       "   {'transaction-id': 8396, 'amount': 567},\n",
       "   {'transaction-id': 8427, 'amount': 548},\n",
       "   {'transaction-id': 8990, 'amount': 554},\n",
       "   {'transaction-id': 9291, 'amount': 547},\n",
       "   {'transaction-id': 9638, 'amount': 573},\n",
       "   {'transaction-id': 9858, 'amount': 559},\n",
       "   {'transaction-id': 9904, 'amount': 552},\n",
       "   {'transaction-id': 9917, 'amount': 536}]},\n",
       " {'id': 2,\n",
       "  'name': 'Xavier',\n",
       "  'transactions': [{'transaction-id': 282, 'amount': 29},\n",
       "   {'transaction-id': 571, 'amount': 33},\n",
       "   {'transaction-id': 603, 'amount': 34},\n",
       "   {'transaction-id': 893, 'amount': 34},\n",
       "   {'transaction-id': 900, 'amount': 33},\n",
       "   {'transaction-id': 1134, 'amount': 41},\n",
       "   {'transaction-id': 1588, 'amount': 37},\n",
       "   {'transaction-id': 1962, 'amount': 31},\n",
       "   {'transaction-id': 2074, 'amount': 29},\n",
       "   {'transaction-id': 2116, 'amount': 36},\n",
       "   {'transaction-id': 2150, 'amount': 36},\n",
       "   {'transaction-id': 2154, 'amount': 31},\n",
       "   {'transaction-id': 2220, 'amount': 38},\n",
       "   {'transaction-id': 2978, 'amount': 33},\n",
       "   {'transaction-id': 2989, 'amount': 37},\n",
       "   {'transaction-id': 3864, 'amount': 30},\n",
       "   {'transaction-id': 3874, 'amount': 36},\n",
       "   {'transaction-id': 3962, 'amount': 33},\n",
       "   {'transaction-id': 4377, 'amount': 36},\n",
       "   {'transaction-id': 5167, 'amount': 36},\n",
       "   {'transaction-id': 5180, 'amount': 33},\n",
       "   {'transaction-id': 5211, 'amount': 33},\n",
       "   {'transaction-id': 5341, 'amount': 31},\n",
       "   {'transaction-id': 5358, 'amount': 34},\n",
       "   {'transaction-id': 5550, 'amount': 34},\n",
       "   {'transaction-id': 5733, 'amount': 29},\n",
       "   {'transaction-id': 5844, 'amount': 32},\n",
       "   {'transaction-id': 6046, 'amount': 35},\n",
       "   {'transaction-id': 6220, 'amount': 34},\n",
       "   {'transaction-id': 6224, 'amount': 34},\n",
       "   {'transaction-id': 6519, 'amount': 35},\n",
       "   {'transaction-id': 6636, 'amount': 35},\n",
       "   {'transaction-id': 6802, 'amount': 34},\n",
       "   {'transaction-id': 6935, 'amount': 33},\n",
       "   {'transaction-id': 6953, 'amount': 31},\n",
       "   {'transaction-id': 7006, 'amount': 35},\n",
       "   {'transaction-id': 7064, 'amount': 34},\n",
       "   {'transaction-id': 7423, 'amount': 37},\n",
       "   {'transaction-id': 7758, 'amount': 37},\n",
       "   {'transaction-id': 8055, 'amount': 33},\n",
       "   {'transaction-id': 8150, 'amount': 38},\n",
       "   {'transaction-id': 8185, 'amount': 37},\n",
       "   {'transaction-id': 8428, 'amount': 34},\n",
       "   {'transaction-id': 8497, 'amount': 34},\n",
       "   {'transaction-id': 8563, 'amount': 33},\n",
       "   {'transaction-id': 8690, 'amount': 35},\n",
       "   {'transaction-id': 8910, 'amount': 36},\n",
       "   {'transaction-id': 9489, 'amount': 32},\n",
       "   {'transaction-id': 9649, 'amount': 34},\n",
       "   {'transaction-id': 9665, 'amount': 35},\n",
       "   {'transaction-id': 9797, 'amount': 33}]})"
      ]
     },
     "execution_count": 1,
     "metadata": {},
     "output_type": "execute_result"
    }
   ],
   "source": [
    "import json\n",
    "js = lines.map(json.loads)\n",
    "# take: inspect first few elements\n",
    "js.take(3)"
   ]
  },
  {
   "cell_type": "markdown",
   "metadata": {},
   "source": [
    "### Basic Queries"
   ]
  },
  {
   "cell_type": "markdown",
   "metadata": {},
   "source": [
    "Once we parse our JSON data into proper Python objects (`dict`s, `list`s, etc.) we can perform more interesting queries by creating small Python functions to run on our data."
   ]
  },
  {
   "cell_type": "code",
   "execution_count": 11,
   "metadata": {
    "execution": {
     "iopub.execute_input": "2020-10-30T00:24:49.182670Z",
     "iopub.status.busy": "2020-10-30T00:24:49.182023Z",
     "iopub.status.idle": "2020-10-30T00:24:49.201030Z",
     "shell.execute_reply": "2020-10-30T00:24:49.201563Z"
    }
   },
   "outputs": [
    {
     "data": {
      "text/plain": [
       "({'id': 5,\n",
       "  'name': 'Alice',\n",
       "  'transactions': [{'transaction-id': 214, 'amount': 528},\n",
       "   {'transaction-id': 259, 'amount': 496},\n",
       "   {'transaction-id': 523, 'amount': 486},\n",
       "   {'transaction-id': 568, 'amount': 504},\n",
       "   {'transaction-id': 616, 'amount': 508},\n",
       "   {'transaction-id': 653, 'amount': 466},\n",
       "   {'transaction-id': 757, 'amount': 514},\n",
       "   {'transaction-id': 842, 'amount': 508},\n",
       "   {'transaction-id': 875, 'amount': 487},\n",
       "   {'transaction-id': 939, 'amount': 503},\n",
       "   {'transaction-id': 969, 'amount': 528},\n",
       "   {'transaction-id': 1137, 'amount': 501},\n",
       "   {'transaction-id': 1231, 'amount': 527},\n",
       "   {'transaction-id': 1261, 'amount': 509},\n",
       "   {'transaction-id': 1356, 'amount': 480},\n",
       "   {'transaction-id': 1770, 'amount': 496},\n",
       "   {'transaction-id': 1815, 'amount': 527},\n",
       "   {'transaction-id': 2185, 'amount': 521},\n",
       "   {'transaction-id': 2268, 'amount': 472},\n",
       "   {'transaction-id': 2434, 'amount': 509},\n",
       "   {'transaction-id': 2521, 'amount': 520},\n",
       "   {'transaction-id': 2533, 'amount': 503},\n",
       "   {'transaction-id': 2536, 'amount': 523},\n",
       "   {'transaction-id': 2546, 'amount': 524},\n",
       "   {'transaction-id': 2694, 'amount': 514},\n",
       "   {'transaction-id': 2966, 'amount': 510},\n",
       "   {'transaction-id': 3022, 'amount': 524},\n",
       "   {'transaction-id': 3122, 'amount': 530},\n",
       "   {'transaction-id': 3202, 'amount': 527},\n",
       "   {'transaction-id': 3762, 'amount': 529},\n",
       "   {'transaction-id': 4012, 'amount': 503},\n",
       "   {'transaction-id': 4062, 'amount': 507},\n",
       "   {'transaction-id': 4080, 'amount': 510},\n",
       "   {'transaction-id': 4083, 'amount': 504},\n",
       "   {'transaction-id': 4559, 'amount': 453},\n",
       "   {'transaction-id': 4730, 'amount': 533},\n",
       "   {'transaction-id': 4792, 'amount': 515},\n",
       "   {'transaction-id': 4945, 'amount': 514},\n",
       "   {'transaction-id': 5190, 'amount': 522},\n",
       "   {'transaction-id': 5468, 'amount': 532},\n",
       "   {'transaction-id': 6065, 'amount': 505},\n",
       "   {'transaction-id': 6167, 'amount': 509},\n",
       "   {'transaction-id': 6368, 'amount': 514},\n",
       "   {'transaction-id': 6379, 'amount': 520},\n",
       "   {'transaction-id': 6458, 'amount': 494},\n",
       "   {'transaction-id': 6539, 'amount': 503},\n",
       "   {'transaction-id': 6682, 'amount': 502},\n",
       "   {'transaction-id': 6847, 'amount': 507},\n",
       "   {'transaction-id': 6881, 'amount': 517},\n",
       "   {'transaction-id': 7235, 'amount': 499},\n",
       "   {'transaction-id': 7383, 'amount': 503},\n",
       "   {'transaction-id': 7521, 'amount': 495},\n",
       "   {'transaction-id': 7717, 'amount': 498},\n",
       "   {'transaction-id': 7774, 'amount': 499},\n",
       "   {'transaction-id': 7804, 'amount': 530},\n",
       "   {'transaction-id': 7810, 'amount': 521},\n",
       "   {'transaction-id': 7815, 'amount': 494},\n",
       "   {'transaction-id': 7873, 'amount': 501},\n",
       "   {'transaction-id': 8111, 'amount': 512},\n",
       "   {'transaction-id': 8117, 'amount': 479},\n",
       "   {'transaction-id': 8136, 'amount': 492},\n",
       "   {'transaction-id': 8154, 'amount': 490},\n",
       "   {'transaction-id': 8188, 'amount': 516},\n",
       "   {'transaction-id': 8228, 'amount': 515},\n",
       "   {'transaction-id': 8230, 'amount': 505},\n",
       "   {'transaction-id': 8234, 'amount': 506},\n",
       "   {'transaction-id': 8238, 'amount': 489},\n",
       "   {'transaction-id': 8350, 'amount': 526},\n",
       "   {'transaction-id': 8375, 'amount': 534},\n",
       "   {'transaction-id': 8426, 'amount': 490},\n",
       "   {'transaction-id': 8442, 'amount': 492},\n",
       "   {'transaction-id': 8614, 'amount': 479},\n",
       "   {'transaction-id': 8639, 'amount': 564},\n",
       "   {'transaction-id': 9069, 'amount': 536},\n",
       "   {'transaction-id': 9187, 'amount': 498},\n",
       "   {'transaction-id': 9277, 'amount': 494},\n",
       "   {'transaction-id': 9564, 'amount': 507},\n",
       "   {'transaction-id': 9578, 'amount': 516},\n",
       "   {'transaction-id': 9816, 'amount': 476}]},\n",
       " {'id': 18,\n",
       "  'name': 'Alice',\n",
       "  'transactions': [{'transaction-id': 1217, 'amount': 978},\n",
       "   {'transaction-id': 4708, 'amount': 1024},\n",
       "   {'transaction-id': 5080, 'amount': 1306},\n",
       "   {'transaction-id': 6076, 'amount': 1189},\n",
       "   {'transaction-id': 8281, 'amount': 1180},\n",
       "   {'transaction-id': 9206, 'amount': 1273}]},\n",
       " {'id': 38,\n",
       "  'name': 'Alice',\n",
       "  'transactions': [{'transaction-id': 3638, 'amount': 1545},\n",
       "   {'transaction-id': 3668, 'amount': 1481},\n",
       "   {'transaction-id': 3799, 'amount': 1496},\n",
       "   {'transaction-id': 4504, 'amount': 1497},\n",
       "   {'transaction-id': 4714, 'amount': 1457},\n",
       "   {'transaction-id': 5618, 'amount': 1529}]},\n",
       " {'id': 52,\n",
       "  'name': 'Alice',\n",
       "  'transactions': [{'transaction-id': 691, 'amount': 349},\n",
       "   {'transaction-id': 2122, 'amount': 296},\n",
       "   {'transaction-id': 2214, 'amount': 282},\n",
       "   {'transaction-id': 2802, 'amount': 360},\n",
       "   {'transaction-id': 3549, 'amount': 365},\n",
       "   {'transaction-id': 3673, 'amount': 348},\n",
       "   {'transaction-id': 3913, 'amount': 388},\n",
       "   {'transaction-id': 5784, 'amount': 323},\n",
       "   {'transaction-id': 6684, 'amount': 343},\n",
       "   {'transaction-id': 7350, 'amount': 316},\n",
       "   {'transaction-id': 8306, 'amount': 349},\n",
       "   {'transaction-id': 9774, 'amount': 340}]},\n",
       " {'id': 85,\n",
       "  'name': 'Alice',\n",
       "  'transactions': [{'transaction-id': 198, 'amount': 3111},\n",
       "   {'transaction-id': 367, 'amount': 3132},\n",
       "   {'transaction-id': 572, 'amount': 3172},\n",
       "   {'transaction-id': 1723, 'amount': 3057},\n",
       "   {'transaction-id': 2234, 'amount': 3132},\n",
       "   {'transaction-id': 2985, 'amount': 3044},\n",
       "   {'transaction-id': 5113, 'amount': 3194},\n",
       "   {'transaction-id': 5318, 'amount': 2939},\n",
       "   {'transaction-id': 6411, 'amount': 3050},\n",
       "   {'transaction-id': 8325, 'amount': 3050}]})"
      ]
     },
     "execution_count": 1,
     "metadata": {},
     "output_type": "execute_result"
    }
   ],
   "source": [
    "# filter: keep only some elements of the sequence\n",
    "js.filter(lambda record: record['name'] == 'Alice').take(5)"
   ]
  },
  {
   "cell_type": "code",
   "execution_count": 12,
   "metadata": {
    "execution": {
     "iopub.execute_input": "2020-10-30T00:24:49.207155Z",
     "iopub.status.busy": "2020-10-30T00:24:49.206601Z",
     "iopub.status.idle": "2020-10-30T00:24:49.228871Z",
     "shell.execute_reply": "2020-10-30T00:24:49.228329Z"
    }
   },
   "outputs": [
    {
     "data": {
      "text/plain": [
       "({'name': 'Alice', 'count': 79},\n",
       " {'name': 'Alice', 'count': 6},\n",
       " {'name': 'Alice', 'count': 6},\n",
       " {'name': 'Alice', 'count': 12},\n",
       " {'name': 'Alice', 'count': 10})"
      ]
     },
     "execution_count": 1,
     "metadata": {},
     "output_type": "execute_result"
    }
   ],
   "source": [
    "def count_transactions(d):\n",
    "    return {'name': d['name'], 'count': len(d['transactions'])}\n",
    "\n",
    "# map: apply a function to each element\n",
    "(js.filter(lambda record: record['name'] == 'Alice')\n",
    "   .map(count_transactions)\n",
    "   .take(5))"
   ]
  },
  {
   "cell_type": "code",
   "execution_count": 13,
   "metadata": {
    "execution": {
     "iopub.execute_input": "2020-10-30T00:24:49.233944Z",
     "iopub.status.busy": "2020-10-30T00:24:49.233441Z",
     "iopub.status.idle": "2020-10-30T00:24:49.252374Z",
     "shell.execute_reply": "2020-10-30T00:24:49.251766Z"
    }
   },
   "outputs": [
    {
     "data": {
      "text/plain": [
       "(79, 6, 6, 12, 10)"
      ]
     },
     "execution_count": 1,
     "metadata": {},
     "output_type": "execute_result"
    }
   ],
   "source": [
    "# pluck: select a field, as from a dictionary, element[field]\n",
    "(js.filter(lambda record: record['name'] == 'Alice')\n",
    "   .map(count_transactions)\n",
    "   .pluck('count')\n",
    "   .take(5))"
   ]
  },
  {
   "cell_type": "code",
   "execution_count": 14,
   "metadata": {
    "execution": {
     "iopub.execute_input": "2020-10-30T00:24:49.255726Z",
     "iopub.status.busy": "2020-10-30T00:24:49.255140Z",
     "iopub.status.idle": "2020-10-30T00:24:49.804977Z",
     "shell.execute_reply": "2020-10-30T00:24:49.805408Z"
    }
   },
   "outputs": [
    {
     "data": {
      "text/plain": [
       "40.32293986636971"
      ]
     },
     "execution_count": 1,
     "metadata": {},
     "output_type": "execute_result"
    }
   ],
   "source": [
    "# Average number of transactions for all of the Alice entries\n",
    "(js.filter(lambda record: record['name'] == 'Alice')\n",
    "   .map(count_transactions)\n",
    "   .pluck('count')\n",
    "   .mean()\n",
    "   .compute())"
   ]
  },
  {
   "cell_type": "markdown",
   "metadata": {},
   "source": [
    "### Use `flatten` to de-nest"
   ]
  },
  {
   "cell_type": "markdown",
   "metadata": {},
   "source": [
    "In the example below we see the use of `.flatten()` to flatten results.  We compute the average amount for all transactions for all Alices."
   ]
  },
  {
   "cell_type": "code",
   "execution_count": 15,
   "metadata": {
    "execution": {
     "iopub.execute_input": "2020-10-30T00:24:49.809216Z",
     "iopub.status.busy": "2020-10-30T00:24:49.808806Z",
     "iopub.status.idle": "2020-10-30T00:24:49.831619Z",
     "shell.execute_reply": "2020-10-30T00:24:49.831020Z"
    }
   },
   "outputs": [
    {
     "data": {
      "text/plain": [
       "([{'transaction-id': 214, 'amount': 528},\n",
       "  {'transaction-id': 259, 'amount': 496},\n",
       "  {'transaction-id': 523, 'amount': 486},\n",
       "  {'transaction-id': 568, 'amount': 504},\n",
       "  {'transaction-id': 616, 'amount': 508},\n",
       "  {'transaction-id': 653, 'amount': 466},\n",
       "  {'transaction-id': 757, 'amount': 514},\n",
       "  {'transaction-id': 842, 'amount': 508},\n",
       "  {'transaction-id': 875, 'amount': 487},\n",
       "  {'transaction-id': 939, 'amount': 503},\n",
       "  {'transaction-id': 969, 'amount': 528},\n",
       "  {'transaction-id': 1137, 'amount': 501},\n",
       "  {'transaction-id': 1231, 'amount': 527},\n",
       "  {'transaction-id': 1261, 'amount': 509},\n",
       "  {'transaction-id': 1356, 'amount': 480},\n",
       "  {'transaction-id': 1770, 'amount': 496},\n",
       "  {'transaction-id': 1815, 'amount': 527},\n",
       "  {'transaction-id': 2185, 'amount': 521},\n",
       "  {'transaction-id': 2268, 'amount': 472},\n",
       "  {'transaction-id': 2434, 'amount': 509},\n",
       "  {'transaction-id': 2521, 'amount': 520},\n",
       "  {'transaction-id': 2533, 'amount': 503},\n",
       "  {'transaction-id': 2536, 'amount': 523},\n",
       "  {'transaction-id': 2546, 'amount': 524},\n",
       "  {'transaction-id': 2694, 'amount': 514},\n",
       "  {'transaction-id': 2966, 'amount': 510},\n",
       "  {'transaction-id': 3022, 'amount': 524},\n",
       "  {'transaction-id': 3122, 'amount': 530},\n",
       "  {'transaction-id': 3202, 'amount': 527},\n",
       "  {'transaction-id': 3762, 'amount': 529},\n",
       "  {'transaction-id': 4012, 'amount': 503},\n",
       "  {'transaction-id': 4062, 'amount': 507},\n",
       "  {'transaction-id': 4080, 'amount': 510},\n",
       "  {'transaction-id': 4083, 'amount': 504},\n",
       "  {'transaction-id': 4559, 'amount': 453},\n",
       "  {'transaction-id': 4730, 'amount': 533},\n",
       "  {'transaction-id': 4792, 'amount': 515},\n",
       "  {'transaction-id': 4945, 'amount': 514},\n",
       "  {'transaction-id': 5190, 'amount': 522},\n",
       "  {'transaction-id': 5468, 'amount': 532},\n",
       "  {'transaction-id': 6065, 'amount': 505},\n",
       "  {'transaction-id': 6167, 'amount': 509},\n",
       "  {'transaction-id': 6368, 'amount': 514},\n",
       "  {'transaction-id': 6379, 'amount': 520},\n",
       "  {'transaction-id': 6458, 'amount': 494},\n",
       "  {'transaction-id': 6539, 'amount': 503},\n",
       "  {'transaction-id': 6682, 'amount': 502},\n",
       "  {'transaction-id': 6847, 'amount': 507},\n",
       "  {'transaction-id': 6881, 'amount': 517},\n",
       "  {'transaction-id': 7235, 'amount': 499},\n",
       "  {'transaction-id': 7383, 'amount': 503},\n",
       "  {'transaction-id': 7521, 'amount': 495},\n",
       "  {'transaction-id': 7717, 'amount': 498},\n",
       "  {'transaction-id': 7774, 'amount': 499},\n",
       "  {'transaction-id': 7804, 'amount': 530},\n",
       "  {'transaction-id': 7810, 'amount': 521},\n",
       "  {'transaction-id': 7815, 'amount': 494},\n",
       "  {'transaction-id': 7873, 'amount': 501},\n",
       "  {'transaction-id': 8111, 'amount': 512},\n",
       "  {'transaction-id': 8117, 'amount': 479},\n",
       "  {'transaction-id': 8136, 'amount': 492},\n",
       "  {'transaction-id': 8154, 'amount': 490},\n",
       "  {'transaction-id': 8188, 'amount': 516},\n",
       "  {'transaction-id': 8228, 'amount': 515},\n",
       "  {'transaction-id': 8230, 'amount': 505},\n",
       "  {'transaction-id': 8234, 'amount': 506},\n",
       "  {'transaction-id': 8238, 'amount': 489},\n",
       "  {'transaction-id': 8350, 'amount': 526},\n",
       "  {'transaction-id': 8375, 'amount': 534},\n",
       "  {'transaction-id': 8426, 'amount': 490},\n",
       "  {'transaction-id': 8442, 'amount': 492},\n",
       "  {'transaction-id': 8614, 'amount': 479},\n",
       "  {'transaction-id': 8639, 'amount': 564},\n",
       "  {'transaction-id': 9069, 'amount': 536},\n",
       "  {'transaction-id': 9187, 'amount': 498},\n",
       "  {'transaction-id': 9277, 'amount': 494},\n",
       "  {'transaction-id': 9564, 'amount': 507},\n",
       "  {'transaction-id': 9578, 'amount': 516},\n",
       "  {'transaction-id': 9816, 'amount': 476}],\n",
       " [{'transaction-id': 1217, 'amount': 978},\n",
       "  {'transaction-id': 4708, 'amount': 1024},\n",
       "  {'transaction-id': 5080, 'amount': 1306},\n",
       "  {'transaction-id': 6076, 'amount': 1189},\n",
       "  {'transaction-id': 8281, 'amount': 1180},\n",
       "  {'transaction-id': 9206, 'amount': 1273}],\n",
       " [{'transaction-id': 3638, 'amount': 1545},\n",
       "  {'transaction-id': 3668, 'amount': 1481},\n",
       "  {'transaction-id': 3799, 'amount': 1496},\n",
       "  {'transaction-id': 4504, 'amount': 1497},\n",
       "  {'transaction-id': 4714, 'amount': 1457},\n",
       "  {'transaction-id': 5618, 'amount': 1529}])"
      ]
     },
     "execution_count": 1,
     "metadata": {},
     "output_type": "execute_result"
    }
   ],
   "source": [
    "js.filter(lambda record: record['name'] == 'Alice').pluck('transactions').take(3)"
   ]
  },
  {
   "cell_type": "code",
   "execution_count": 16,
   "metadata": {
    "execution": {
     "iopub.execute_input": "2020-10-30T00:24:49.836800Z",
     "iopub.status.busy": "2020-10-30T00:24:49.836420Z",
     "iopub.status.idle": "2020-10-30T00:24:49.856644Z",
     "shell.execute_reply": "2020-10-30T00:24:49.856969Z"
    }
   },
   "outputs": [
    {
     "data": {
      "text/plain": [
       "({'transaction-id': 214, 'amount': 528},\n",
       " {'transaction-id': 259, 'amount': 496},\n",
       " {'transaction-id': 523, 'amount': 486})"
      ]
     },
     "execution_count": 1,
     "metadata": {},
     "output_type": "execute_result"
    }
   ],
   "source": [
    "(js.filter(lambda record: record['name'] == 'Alice')\n",
    "   .pluck('transactions')\n",
    "   .flatten()\n",
    "   .take(3))"
   ]
  },
  {
   "cell_type": "code",
   "execution_count": 17,
   "metadata": {
    "execution": {
     "iopub.execute_input": "2020-10-30T00:24:49.863862Z",
     "iopub.status.busy": "2020-10-30T00:24:49.863227Z",
     "iopub.status.idle": "2020-10-30T00:24:49.879091Z",
     "shell.execute_reply": "2020-10-30T00:24:49.878701Z"
    }
   },
   "outputs": [
    {
     "data": {
      "text/plain": [
       "(528, 496, 486)"
      ]
     },
     "execution_count": 1,
     "metadata": {},
     "output_type": "execute_result"
    }
   ],
   "source": [
    "(js.filter(lambda record: record['name'] == 'Alice')\n",
    "   .pluck('transactions')\n",
    "   .flatten()\n",
    "   .pluck('amount')\n",
    "   .take(3))"
   ]
  },
  {
   "cell_type": "code",
   "execution_count": 18,
   "metadata": {
    "execution": {
     "iopub.execute_input": "2020-10-30T00:24:49.901377Z",
     "iopub.status.busy": "2020-10-30T00:24:49.900480Z",
     "iopub.status.idle": "2020-10-30T00:24:50.428094Z",
     "shell.execute_reply": "2020-10-30T00:24:50.427670Z"
    }
   },
   "outputs": [
    {
     "data": {
      "text/plain": [
       "787.181690140845"
      ]
     },
     "execution_count": 1,
     "metadata": {},
     "output_type": "execute_result"
    }
   ],
   "source": [
    "(js.filter(lambda record: record['name'] == 'Alice')\n",
    "   .pluck('transactions')\n",
    "   .flatten()\n",
    "   .pluck('amount')\n",
    "   .mean()\n",
    "   .compute())"
   ]
  },
  {
   "cell_type": "markdown",
   "metadata": {},
   "source": [
    "### Groupby and Foldby"
   ]
  },
  {
   "cell_type": "markdown",
   "metadata": {},
   "source": [
    "Often we want to group data by some function or key.  We can do this either with the `.groupby` method, which is straightforward but forces a full shuffle of the data (expensive) or with the harder-to-use but faster `.foldby` method, which does a streaming combined groupby and reduction.\n",
    "\n",
    "*  `groupby`:  Shuffles data so that all items with the same key are in the same key-value pair\n",
    "*  `foldby`:  Walks through the data accumulating a result per key\n",
    "\n",
    "*Note: the full groupby is particularly bad. In actual workloads you would do well to use `foldby` or switch to `DataFrame`s if possible.*"
   ]
  },
  {
   "cell_type": "markdown",
   "metadata": {},
   "source": [
    "### `groupby`"
   ]
  },
  {
   "cell_type": "markdown",
   "metadata": {},
   "source": [
    "Groupby collects items in your collection so that all items with the same value under some function are collected together into a key-value pair."
   ]
  },
  {
   "cell_type": "code",
   "execution_count": 19,
   "metadata": {
    "execution": {
     "iopub.execute_input": "2020-10-30T00:24:50.443559Z",
     "iopub.status.busy": "2020-10-30T00:24:50.436978Z",
     "iopub.status.idle": "2020-10-30T00:24:50.544844Z",
     "shell.execute_reply": "2020-10-30T00:24:50.545170Z"
    }
   },
   "outputs": [
    {
     "data": {
      "text/plain": [
       "[(7, ['Charlie']), (3, ['Bob', 'Dan']), (5, ['Alice', 'Edith', 'Frank'])]"
      ]
     },
     "execution_count": 1,
     "metadata": {},
     "output_type": "execute_result"
    }
   ],
   "source": [
    "b = db.from_sequence(['Alice', 'Bob', 'Charlie', 'Dan', 'Edith', 'Frank'])\n",
    "b.groupby(len).compute()  # names grouped by length"
   ]
  },
  {
   "cell_type": "code",
   "execution_count": 20,
   "metadata": {
    "execution": {
     "iopub.execute_input": "2020-10-30T00:24:50.563404Z",
     "iopub.status.busy": "2020-10-30T00:24:50.557321Z",
     "iopub.status.idle": "2020-10-30T00:24:50.734972Z",
     "shell.execute_reply": "2020-10-30T00:24:50.735420Z"
    }
   },
   "outputs": [
    {
     "data": {
      "text/plain": [
       "[(0, [0, 2, 4, 6, 8]), (1, [1, 3, 5, 7, 9])]"
      ]
     },
     "execution_count": 1,
     "metadata": {},
     "output_type": "execute_result"
    }
   ],
   "source": [
    "b = db.from_sequence(list(range(10)))\n",
    "b.groupby(lambda x: x % 2).compute()"
   ]
  },
  {
   "cell_type": "code",
   "execution_count": 21,
   "metadata": {
    "execution": {
     "iopub.execute_input": "2020-10-30T00:24:50.747951Z",
     "iopub.status.busy": "2020-10-30T00:24:50.747303Z",
     "iopub.status.idle": "2020-10-30T00:24:50.933378Z",
     "shell.execute_reply": "2020-10-30T00:24:50.933877Z"
    }
   },
   "outputs": [
    {
     "data": {
      "text/plain": [
       "[(0, 8), (1, 9)]"
      ]
     },
     "execution_count": 1,
     "metadata": {},
     "output_type": "execute_result"
    }
   ],
   "source": [
    "b.groupby(lambda x: x % 2).starmap(lambda k, v: (k, max(v))).compute()"
   ]
  },
  {
   "cell_type": "markdown",
   "metadata": {},
   "source": [
    "### `foldby`"
   ]
  },
  {
   "cell_type": "markdown",
   "metadata": {},
   "source": [
    "Foldby can be quite odd at first.  It is similar to the following functions from other libraries:\n",
    "\n",
    "*  [`toolz.reduceby`](http://toolz.readthedocs.io/en/latest/streaming-analytics.html#streaming-split-apply-combine)\n",
    "*  [`pyspark.RDD.combineByKey`](http://abshinn.github.io/python/apache-spark/2014/10/11/using-combinebykey-in-apache-spark/)\n",
    "\n",
    "When using `foldby` you provide \n",
    "\n",
    "1.  A key function on which to group elements\n",
    "2.  A binary operator such as you would pass to `reduce` that you use to perform reduction per each group\n",
    "3.  A combine binary operator that can combine the results of two `reduce` calls on different parts of your dataset.\n",
    "\n",
    "Your reduction must be associative.  It will happen in parallel in each of the partitions of your dataset.  Then all of these intermediate results will be combined by the `combine` binary operator."
   ]
  },
  {
   "cell_type": "code",
   "execution_count": 22,
   "metadata": {
    "execution": {
     "iopub.execute_input": "2020-10-30T00:24:50.943994Z",
     "iopub.status.busy": "2020-10-30T00:24:50.943299Z",
     "iopub.status.idle": "2020-10-30T00:24:50.991249Z",
     "shell.execute_reply": "2020-10-30T00:24:50.990543Z"
    }
   },
   "outputs": [
    {
     "data": {
      "text/plain": [
       "[(0, 8), (1, 9)]"
      ]
     },
     "execution_count": 1,
     "metadata": {},
     "output_type": "execute_result"
    }
   ],
   "source": [
    "is_even = lambda x: x % 2\n",
    "b.foldby(is_even, binop=max, combine=max).compute()"
   ]
  },
  {
   "cell_type": "markdown",
   "metadata": {},
   "source": [
    "### Example with account data"
   ]
  },
  {
   "cell_type": "markdown",
   "metadata": {},
   "source": [
    "We find the number of people with the same name."
   ]
  },
  {
   "cell_type": "code",
   "execution_count": 23,
   "metadata": {
    "execution": {
     "iopub.execute_input": "2020-10-30T00:24:51.008619Z",
     "iopub.status.busy": "2020-10-30T00:24:51.003243Z",
     "iopub.status.idle": "2020-10-30T00:25:00.115433Z",
     "shell.execute_reply": "2020-10-30T00:25:00.114303Z"
    }
   },
   "outputs": [
    {
     "name": "stdout",
     "output_type": "stream",
     "text": [
      "[('Alice', 215), ('Alice', 216), ('Alice', 233), ('Alice', 234), ('Bob', 132), ('Bob', 132), ('Bob', 143), ('Bob', 143), ('Charlie', 84), ('Charlie', 84), ('Charlie', 90), ('Charlie', 91), ('Dan', 90), ('Dan', 94), ('Dan', 97), ('Dan', 101), ('Edith', 206), ('Edith', 207), ('Edith', 223), ('Edith', 223), ('Frank', 118), ('Frank', 119), ('Frank', 127), ('Frank', 128), ('George', 72), ('George', 72), ('George', 78), ('George', 78), ('Hannah', 128), ('Hannah', 135), ('Hannah', 141), ('Hannah', 141), ('Ingrid', 66), ('Ingrid', 67), ('Ingrid', 130), ('Jerry', 82), ('Jerry', 82), ('Jerry', 88), ('Jerry', 90), ('Kevin', 59), ('Kevin', 60), ('Kevin', 65), ('Kevin', 65), ('Laura', 70), ('Laura', 75), ('Laura', 81), ('Laura', 82), ('Michael', 129), ('Michael', 131), ('Michael', 136), ('Michael', 141), ('Norbert', 94), ('Norbert', 95), ('Norbert', 101), ('Norbert', 103), ('Oliver', 96), ('Oliver', 96), ('Oliver', 104), ('Oliver', 104), ('Patricia', 120), ('Patricia', 120), ('Patricia', 130), ('Patricia', 130), ('Quinn', 72), ('Quinn', 78), ('Quinn', 150), ('Ray', 96), ('Ray', 96), ('Ray', 104), ('Ray', 104), ('Sarah', 132), ('Sarah', 132), ('Sarah', 143), ('Sarah', 143), ('Tim', 144), ('Tim', 144), ('Tim', 155), ('Tim', 159), ('Ursula', 120), ('Ursula', 120), ('Ursula', 130), ('Ursula', 130), ('Victor', 60), ('Victor', 60), ('Victor', 65), ('Victor', 65), ('Wendy', 96), ('Wendy', 96), ('Wendy', 104), ('Wendy', 104), ('Xavier', 156), ('Xavier', 156), ('Xavier', 169), ('Xavier', 169), ('Yvonne', 96), ('Yvonne', 96), ('Yvonne', 104), ('Yvonne', 104), ('Zelda', 153), ('Zelda', 154), ('Zelda', 167), ('Zelda', 167)]\n",
      "CPU times: user 1.65 s, sys: 119 ms, total: 1.77 s\n",
      "Wall time: 9.11 s\n"
     ]
    }
   ],
   "source": [
    "%%time\n",
    "# Warning, this one takes a while...\n",
    "result = js.groupby(lambda item: item['name']).starmap(lambda k, v: (k, len(v))).compute()\n",
    "print(sorted(result))"
   ]
  },
  {
   "cell_type": "code",
   "execution_count": 24,
   "metadata": {
    "execution": {
     "iopub.execute_input": "2020-10-30T00:25:00.126179Z",
     "iopub.status.busy": "2020-10-30T00:25:00.125473Z",
     "iopub.status.idle": "2020-10-30T00:25:00.715327Z",
     "shell.execute_reply": "2020-10-30T00:25:00.714946Z"
    }
   },
   "outputs": [
    {
     "name": "stdout",
     "output_type": "stream",
     "text": [
      "[('Alice', 898), ('Bob', 550), ('Charlie', 349), ('Dan', 382), ('Edith', 859), ('Frank', 492), ('George', 300), ('Hannah', 545), ('Ingrid', 263), ('Jerry', 342), ('Kevin', 249), ('Laura', 308), ('Michael', 537), ('Norbert', 393), ('Oliver', 400), ('Patricia', 500), ('Quinn', 300), ('Ray', 400), ('Sarah', 550), ('Tim', 602), ('Ursula', 500), ('Victor', 250), ('Wendy', 400), ('Xavier', 650), ('Yvonne', 400), ('Zelda', 641)]\n",
      "CPU times: user 144 ms, sys: 12.2 ms, total: 156 ms\n",
      "Wall time: 590 ms\n"
     ]
    }
   ],
   "source": [
    "%%time\n",
    "# This one is comparatively fast and produces the same result.\n",
    "from operator import add\n",
    "def incr(tot, _):\n",
    "    return tot+1\n",
    "\n",
    "result = js.foldby(key='name', \n",
    "                   binop=incr, \n",
    "                   initial=0, \n",
    "                   combine=add, \n",
    "                   combine_initial=0).compute()\n",
    "print(sorted(result))"
   ]
  },
  {
   "cell_type": "markdown",
   "metadata": {},
   "source": [
    "### Exercise: compute total amount per name"
   ]
  },
  {
   "cell_type": "markdown",
   "metadata": {},
   "source": [
    "We want to groupby (or foldby) the `name` key, then add up the all of the amounts for each name.\n",
    "\n",
    "Steps\n",
    "\n",
    "1.  Create a small function that, given a dictionary like \n",
    "\n",
    "        {'name': 'Alice', 'transactions': [{'amount': 1, 'id': 123}, {'amount': 2, 'id': 456}]}\n",
    "        \n",
    "    produces the sum of the amounts, e.g. `3`\n",
    "    \n",
    "2.  Slightly change the binary operator of the `foldby` example above so that the binary operator doesn't count the number of entries, but instead accumulates the sum of the amounts."
   ]
  },
  {
   "cell_type": "code",
   "execution_count": 25,
   "metadata": {
    "execution": {
     "iopub.execute_input": "2020-10-30T00:25:00.719040Z",
     "iopub.status.busy": "2020-10-30T00:25:00.718137Z",
     "iopub.status.idle": "2020-10-30T00:25:00.721006Z",
     "shell.execute_reply": "2020-10-30T00:25:00.721332Z"
    }
   },
   "outputs": [],
   "source": [
    "# Your code here..."
   ]
  },
  {
   "cell_type": "markdown",
   "metadata": {},
   "source": [
    "## DataFrames"
   ]
  },
  {
   "cell_type": "markdown",
   "metadata": {},
   "source": [
    "For the same reasons that Pandas is often faster than pure Python, `dask.dataframe` can be faster than `dask.bag`.  We will work more with DataFrames later, but from for the bag point of view, they are frequently the end-point of the \"messy\" part of data ingestion—once the data can be made into a data-frame, then complex split-apply-combine logic will become much more straight-forward and efficient.\n",
    "\n",
    "You can transform a bag with a simple tuple or flat dictionary structure into a `dask.dataframe` with the `to_dataframe` method."
   ]
  },
  {
   "cell_type": "code",
   "execution_count": 26,
   "metadata": {
    "execution": {
     "iopub.execute_input": "2020-10-30T00:25:00.725322Z",
     "iopub.status.busy": "2020-10-30T00:25:00.724755Z",
     "iopub.status.idle": "2020-10-30T00:25:01.298509Z",
     "shell.execute_reply": "2020-10-30T00:25:01.298095Z"
    }
   },
   "outputs": [
    {
     "data": {
      "text/html": [
       "<div>\n",
       "<style scoped>\n",
       "    .dataframe tbody tr th:only-of-type {\n",
       "        vertical-align: middle;\n",
       "    }\n",
       "\n",
       "    .dataframe tbody tr th {\n",
       "        vertical-align: top;\n",
       "    }\n",
       "\n",
       "    .dataframe thead th {\n",
       "        text-align: right;\n",
       "    }\n",
       "</style>\n",
       "<table border=\"1\" class=\"dataframe\">\n",
       "  <thead>\n",
       "    <tr style=\"text-align: right;\">\n",
       "      <th></th>\n",
       "      <th>id</th>\n",
       "      <th>name</th>\n",
       "      <th>transactions</th>\n",
       "    </tr>\n",
       "  </thead>\n",
       "  <tbody>\n",
       "    <tr>\n",
       "      <th>0</th>\n",
       "      <td>0</td>\n",
       "      <td>Frank</td>\n",
       "      <td>[{'transaction-id': 1923, 'amount': 927}, {'tr...</td>\n",
       "    </tr>\n",
       "    <tr>\n",
       "      <th>1</th>\n",
       "      <td>1</td>\n",
       "      <td>Charlie</td>\n",
       "      <td>[{'transaction-id': 184, 'amount': 561}, {'tra...</td>\n",
       "    </tr>\n",
       "    <tr>\n",
       "      <th>2</th>\n",
       "      <td>2</td>\n",
       "      <td>Xavier</td>\n",
       "      <td>[{'transaction-id': 282, 'amount': 29}, {'tran...</td>\n",
       "    </tr>\n",
       "    <tr>\n",
       "      <th>3</th>\n",
       "      <td>3</td>\n",
       "      <td>George</td>\n",
       "      <td>[{'transaction-id': 10, 'amount': 6348}, {'tra...</td>\n",
       "    </tr>\n",
       "    <tr>\n",
       "      <th>4</th>\n",
       "      <td>4</td>\n",
       "      <td>Tim</td>\n",
       "      <td>[{'transaction-id': 102, 'amount': 794}, {'tra...</td>\n",
       "    </tr>\n",
       "  </tbody>\n",
       "</table>\n",
       "</div>"
      ],
      "text/plain": [
       "   id     name                                       transactions\n",
       "0   0    Frank  [{'transaction-id': 1923, 'amount': 927}, {'tr...\n",
       "1   1  Charlie  [{'transaction-id': 184, 'amount': 561}, {'tra...\n",
       "2   2   Xavier  [{'transaction-id': 282, 'amount': 29}, {'tran...\n",
       "3   3   George  [{'transaction-id': 10, 'amount': 6348}, {'tra...\n",
       "4   4      Tim  [{'transaction-id': 102, 'amount': 794}, {'tra..."
      ]
     },
     "execution_count": 1,
     "metadata": {},
     "output_type": "execute_result"
    }
   ],
   "source": [
    "df1 = js.to_dataframe()\n",
    "df1.head()"
   ]
  },
  {
   "cell_type": "markdown",
   "metadata": {},
   "source": [
    "This now looks like a well-defined DataFrame, and we can apply Pandas-like computations to it efficiently."
   ]
  },
  {
   "cell_type": "markdown",
   "metadata": {},
   "source": [
    "Using a Dask DataFrame, how long does it take to do our prior computation of numbers of people with the same name?  It turns out that `dask.dataframe.groupby()` beats `dask.bag.groupby()` more than an order of magnitude; but it still cannot match `dask.bag.foldby()` for this case."
   ]
  },
  {
   "cell_type": "code",
   "execution_count": 27,
   "metadata": {
    "execution": {
     "iopub.execute_input": "2020-10-30T00:25:01.319216Z",
     "iopub.status.busy": "2020-10-30T00:25:01.318793Z",
     "iopub.status.idle": "2020-10-30T00:25:03.086923Z",
     "shell.execute_reply": "2020-10-30T00:25:03.087905Z"
    }
   },
   "outputs": [
    {
     "name": "stdout",
     "output_type": "stream",
     "text": [
      "CPU times: user 228 ms, sys: 8.73 ms, total: 237 ms\n",
      "Wall time: 1.78 s\n"
     ]
    },
    {
     "data": {
      "text/plain": [
       "name\n",
       "Alice      898\n",
       "Bob        550\n",
       "Charlie    349\n",
       "Dan        382\n",
       "Edith      859\n",
       "Name: id, dtype: int64"
      ]
     },
     "execution_count": 1,
     "metadata": {},
     "output_type": "execute_result"
    }
   ],
   "source": [
    "%time df1.groupby('name').id.count().compute().head()"
   ]
  },
  {
   "cell_type": "markdown",
   "metadata": {},
   "source": [
    "### Denormalization"
   ]
  },
  {
   "cell_type": "markdown",
   "metadata": {},
   "source": [
    "This DataFrame format is less-than-optimal because the `transactions` column is filled with nested data so Pandas has to revert to `object` dtype, which is quite slow in Pandas.  Ideally we want to transform to a dataframe only after we have flattened our data so that each record is a single `int`, `string`, `float`, etc.."
   ]
  },
  {
   "cell_type": "code",
   "execution_count": 28,
   "metadata": {
    "execution": {
     "iopub.execute_input": "2020-10-30T00:25:03.095068Z",
     "iopub.status.busy": "2020-10-30T00:25:03.092994Z",
     "iopub.status.idle": "2020-10-30T00:25:03.113968Z",
     "shell.execute_reply": "2020-10-30T00:25:03.113256Z"
    }
   },
   "outputs": [
    {
     "data": {
      "text/plain": [
       "({'id': 0, 'name': 'Frank', 'amount': 927, 'transaction-id': 1923},\n",
       " {'id': 0, 'name': 'Frank', 'amount': 853, 'transaction-id': 3779},\n",
       " {'id': 1, 'name': 'Charlie', 'amount': 561, 'transaction-id': 184})"
      ]
     },
     "execution_count": 1,
     "metadata": {},
     "output_type": "execute_result"
    }
   ],
   "source": [
    "def denormalize(record):\n",
    "    # returns a list for every nested item, each transaction of each person\n",
    "    return [{'id': record['id'], \n",
    "             'name': record['name'], \n",
    "             'amount': transaction['amount'], \n",
    "             'transaction-id': transaction['transaction-id']}\n",
    "            for transaction in record['transactions']]\n",
    "\n",
    "transactions = js.map(denormalize).flatten()\n",
    "transactions.take(3)"
   ]
  },
  {
   "cell_type": "code",
   "execution_count": 29,
   "metadata": {
    "execution": {
     "iopub.execute_input": "2020-10-30T00:25:03.118987Z",
     "iopub.status.busy": "2020-10-30T00:25:03.118367Z",
     "iopub.status.idle": "2020-10-30T00:25:03.189940Z",
     "shell.execute_reply": "2020-10-30T00:25:03.188328Z"
    }
   },
   "outputs": [
    {
     "data": {
      "text/html": [
       "<div>\n",
       "<style scoped>\n",
       "    .dataframe tbody tr th:only-of-type {\n",
       "        vertical-align: middle;\n",
       "    }\n",
       "\n",
       "    .dataframe tbody tr th {\n",
       "        vertical-align: top;\n",
       "    }\n",
       "\n",
       "    .dataframe thead th {\n",
       "        text-align: right;\n",
       "    }\n",
       "</style>\n",
       "<table border=\"1\" class=\"dataframe\">\n",
       "  <thead>\n",
       "    <tr style=\"text-align: right;\">\n",
       "      <th></th>\n",
       "      <th>id</th>\n",
       "      <th>name</th>\n",
       "      <th>amount</th>\n",
       "      <th>transaction-id</th>\n",
       "    </tr>\n",
       "  </thead>\n",
       "  <tbody>\n",
       "    <tr>\n",
       "      <th>0</th>\n",
       "      <td>0</td>\n",
       "      <td>Frank</td>\n",
       "      <td>927</td>\n",
       "      <td>1923</td>\n",
       "    </tr>\n",
       "    <tr>\n",
       "      <th>1</th>\n",
       "      <td>0</td>\n",
       "      <td>Frank</td>\n",
       "      <td>853</td>\n",
       "      <td>3779</td>\n",
       "    </tr>\n",
       "    <tr>\n",
       "      <th>2</th>\n",
       "      <td>1</td>\n",
       "      <td>Charlie</td>\n",
       "      <td>561</td>\n",
       "      <td>184</td>\n",
       "    </tr>\n",
       "    <tr>\n",
       "      <th>3</th>\n",
       "      <td>1</td>\n",
       "      <td>Charlie</td>\n",
       "      <td>546</td>\n",
       "      <td>591</td>\n",
       "    </tr>\n",
       "    <tr>\n",
       "      <th>4</th>\n",
       "      <td>1</td>\n",
       "      <td>Charlie</td>\n",
       "      <td>551</td>\n",
       "      <td>1235</td>\n",
       "    </tr>\n",
       "  </tbody>\n",
       "</table>\n",
       "</div>"
      ],
      "text/plain": [
       "   id     name  amount  transaction-id\n",
       "0   0    Frank     927            1923\n",
       "1   0    Frank     853            3779\n",
       "2   1  Charlie     561             184\n",
       "3   1  Charlie     546             591\n",
       "4   1  Charlie     551            1235"
      ]
     },
     "execution_count": 1,
     "metadata": {},
     "output_type": "execute_result"
    }
   ],
   "source": [
    "df = transactions.to_dataframe()\n",
    "df.head()"
   ]
  },
  {
   "cell_type": "code",
   "execution_count": 30,
   "metadata": {
    "execution": {
     "iopub.execute_input": "2020-10-30T00:25:03.195072Z",
     "iopub.status.busy": "2020-10-30T00:25:03.194419Z",
     "iopub.status.idle": "2020-10-30T00:25:04.690700Z",
     "shell.execute_reply": "2020-10-30T00:25:04.691019Z"
    }
   },
   "outputs": [
    {
     "name": "stdout",
     "output_type": "stream",
     "text": [
      "CPU times: user 219 ms, sys: 6.22 ms, total: 226 ms\n",
      "Wall time: 1.49 s\n"
     ]
    },
    {
     "data": {
      "text/plain": [
       "name\n",
       "Alice       36210\n",
       "Bob         26915\n",
       "Charlie      9905\n",
       "Dan         17834\n",
       "Edith       38504\n",
       "Frank       19323\n",
       "George      13186\n",
       "Hannah      35777\n",
       "Ingrid      15599\n",
       "Jerry        7190\n",
       "Kevin        5565\n",
       "Laura        9722\n",
       "Michael     17542\n",
       "Norbert     28684\n",
       "Oliver      17691\n",
       "Patricia    29370\n",
       "Quinn       15249\n",
       "Ray         14202\n",
       "Sarah       20532\n",
       "Tim         13909\n",
       "Ursula      15974\n",
       "Victor       4145\n",
       "Wendy       17898\n",
       "Xavier      29169\n",
       "Yvonne      12044\n",
       "Zelda       27861\n",
       "Name: transaction-id, dtype: int64"
      ]
     },
     "execution_count": 1,
     "metadata": {},
     "output_type": "execute_result"
    }
   ],
   "source": [
    "%%time\n",
    "# number of transactions per name\n",
    "# note that the time here includes the data load and ingestion\n",
    "df.groupby('name')['transaction-id'].count().compute()"
   ]
  },
  {
   "cell_type": "markdown",
   "metadata": {},
   "source": [
    "## Limitations"
   ]
  },
  {
   "cell_type": "markdown",
   "metadata": {},
   "source": [
    "Bags provide very general computation (any Python function.)  This generality\n",
    "comes at cost.  Bags have the following known limitations\n",
    "\n",
    "1.  Bag operations tend to be slower than array/dataframe computations in the\n",
    "    same way that Python tends to be slower than NumPy/Pandas\n",
    "2.  ``Bag.groupby`` is slow.  You should try to use ``Bag.foldby`` if possible.\n",
    "    Using ``Bag.foldby`` requires more thought. Even better, consider creating\n",
    "    a normalised dataframe."
   ]
  },
  {
   "cell_type": "markdown",
   "metadata": {},
   "source": [
    "## Learn More\n",
    "\n",
    "* [Bag documentation](https://docs.dask.org/en/latest/bag.html)\n",
    "* [Bag screencast](https://youtu.be/-qIiJ1XtSv0)\n",
    "* [Bag API](https://docs.dask.org/en/latest/bag-api.html)\n",
    "* [Bag examples](https://examples.dask.org/bag.html)"
   ]
  },
  {
   "cell_type": "markdown",
   "metadata": {},
   "source": [
    "## Shutdown"
   ]
  },
  {
   "cell_type": "code",
   "execution_count": 31,
   "metadata": {
    "execution": {
     "iopub.execute_input": "2020-10-30T00:25:04.695449Z",
     "iopub.status.busy": "2020-10-30T00:25:04.694839Z",
     "iopub.status.idle": "2020-10-30T00:25:06.272997Z",
     "shell.execute_reply": "2020-10-30T00:25:06.273342Z"
    }
   },
   "outputs": [],
   "source": [
    "client.shutdown()"
   ]
  }
 ],
 "metadata": {
  "anaconda-cloud": {},
  "kernelspec": {
   "display_name": "Python 3",
   "language": "python",
   "name": "python3"
  },
  "language_info": {
   "codemirror_mode": {
    "name": "ipython",
    "version": 3
   },
   "file_extension": ".py",
   "mimetype": "text/x-python",
   "name": "python",
   "nbconvert_exporter": "python",
   "pygments_lexer": "ipython3",
   "version": "3.8.6"
  }
 },
 "nbformat": 4,
 "nbformat_minor": 4
}
