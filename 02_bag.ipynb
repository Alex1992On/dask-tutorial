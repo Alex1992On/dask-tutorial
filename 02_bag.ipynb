{
 "cells": [
  {
   "cell_type": "markdown",
   "metadata": {},
   "source": [
    "<img src=\"images/dask_horizontal.svg\" align=\"right\" width=\"30%\">"
   ]
  },
  {
   "cell_type": "markdown",
   "metadata": {},
   "source": [
    "# Bag: Parallel Lists for semi-structured data"
   ]
  },
  {
   "cell_type": "markdown",
   "metadata": {},
   "source": [
    "Dask-bag excels in processing data that can be represented as a sequence of arbitrary inputs. We'll refer to this as \"messy\" data, because it can contain complex nested structures, missing fields, mixtures of data types, etc. The *functional* programming style fits very nicely with standard Python iteration, such as can be found in the `itertools` module.\n",
    "\n",
    "Messy data is often encountered at the beginning of data processing pipelines when large volumes of raw data are first consumed. The initial set of data might be JSON, CSV, XML, or any other format that does not enforce strict structure and datatypes.\n",
    "For this reason, the initial data massaging and processing is often done with Python `list`s, `dict`s, and `set`s.\n",
    "\n",
    "These core data structures are optimized for general-purpose storage and processing.  Adding streaming computation with iterators/generator expressions or libraries like `itertools` or [`toolz`](https://toolz.readthedocs.io/en/latest/) let us process large volumes in a small space.  If we combine this with parallel processing then we can churn through a fair amount of data.\n",
    "\n",
    "Dask.bag is a high level Dask collection to automate common workloads of this form.  In a nutshell\n",
    "\n",
    "    dask.bag = map, filter, toolz + parallel execution\n",
    "    \n",
    "**Related Documentation**\n",
    "\n",
    "* [Bag documentation](https://docs.dask.org/en/latest/bag.html)\n",
    "* [Bag screencast](https://youtu.be/-qIiJ1XtSv0)\n",
    "* [Bag API](https://docs.dask.org/en/latest/bag-api.html)\n",
    "* [Bag examples](https://examples.dask.org/bag.html)"
   ]
  },
  {
   "cell_type": "markdown",
   "metadata": {},
   "source": [
    "## Create data"
   ]
  },
  {
   "cell_type": "code",
   "execution_count": 1,
   "metadata": {
    "execution": {
     "iopub.execute_input": "2020-10-30T02:11:12.788289Z",
     "iopub.status.busy": "2020-10-30T02:11:12.787656Z",
     "iopub.status.idle": "2020-10-30T02:11:13.293911Z",
     "shell.execute_reply": "2020-10-30T02:11:13.293049Z"
    }
   },
   "outputs": [],
   "source": [
    "%run prep.py -d accounts"
   ]
  },
  {
   "cell_type": "markdown",
   "metadata": {},
   "source": [
    "## Setup"
   ]
  },
  {
   "cell_type": "markdown",
   "metadata": {},
   "source": [
    "Again, we'll use the distributed scheduler. Schedulers will be explained in depth [later](05_distributed.ipynb)."
   ]
  },
  {
   "cell_type": "code",
   "execution_count": 2,
   "metadata": {
    "execution": {
     "iopub.execute_input": "2020-10-30T02:11:13.297846Z",
     "iopub.status.busy": "2020-10-30T02:11:13.297100Z",
     "iopub.status.idle": "2020-10-30T02:11:15.181149Z",
     "shell.execute_reply": "2020-10-30T02:11:15.181508Z"
    }
   },
   "outputs": [],
   "source": [
    "from dask.distributed import Client\n",
    "\n",
    "client = Client(n_workers=4)"
   ]
  },
  {
   "cell_type": "markdown",
   "metadata": {},
   "source": [
    "## Creation"
   ]
  },
  {
   "cell_type": "markdown",
   "metadata": {},
   "source": [
    "You can create a `Bag` from a Python sequence, from files, from data on S3, etc.\n",
    "We demonstrate using `.take()` to show elements of the data. (Doing `.take(1)` results in a tuple with one element)\n",
    "\n",
    "Note that the data are partitioned into blocks, and there are many items per block. In the first example, the two partitions contain five elements each, and in the following two, each file is partitioned into one or more bytes blocks."
   ]
  },
  {
   "cell_type": "code",
   "execution_count": 3,
   "metadata": {
    "execution": {
     "iopub.execute_input": "2020-10-30T02:11:15.186467Z",
     "iopub.status.busy": "2020-10-30T02:11:15.185731Z",
     "iopub.status.idle": "2020-10-30T02:11:15.237333Z",
     "shell.execute_reply": "2020-10-30T02:11:15.238063Z"
    }
   },
   "outputs": [
    {
     "data": {
      "text/plain": [
       "(1, 2, 3)"
      ]
     },
     "execution_count": 1,
     "metadata": {},
     "output_type": "execute_result"
    }
   ],
   "source": [
    "# each element is an integer\n",
    "import dask.bag as db\n",
    "b = db.from_sequence([1, 2, 3, 4, 5, 6, 7, 8, 9, 10], npartitions=2)\n",
    "b.take(3)"
   ]
  },
  {
   "cell_type": "code",
   "execution_count": 4,
   "metadata": {
    "execution": {
     "iopub.execute_input": "2020-10-30T02:11:15.243070Z",
     "iopub.status.busy": "2020-10-30T02:11:15.242302Z",
     "iopub.status.idle": "2020-10-30T02:11:15.270336Z",
     "shell.execute_reply": "2020-10-30T02:11:15.271326Z"
    }
   },
   "outputs": [
    {
     "data": {
      "text/plain": [
       "('{\"id\": 0, \"name\": \"Wendy\", \"transactions\": [{\"transaction-id\": 398, \"amount\": 358}, {\"transaction-id\": 1224, \"amount\": 352}, {\"transaction-id\": 3190, \"amount\": 387}, {\"transaction-id\": 4278, \"amount\": 457}, {\"transaction-id\": 5528, \"amount\": 359}, {\"transaction-id\": 6584, \"amount\": 332}, {\"transaction-id\": 7299, \"amount\": 368}, {\"transaction-id\": 7492, \"amount\": 272}, {\"transaction-id\": 7591, \"amount\": 491}, {\"transaction-id\": 8485, \"amount\": 401}, {\"transaction-id\": 9609, \"amount\": 277}, {\"transaction-id\": 9974, \"amount\": 321}]}\\n',)"
      ]
     },
     "execution_count": 1,
     "metadata": {},
     "output_type": "execute_result"
    }
   ],
   "source": [
    "# each element is a text file, where each line is a JSON object\n",
    "# note that the compression is handled automatically\n",
    "import os\n",
    "b = db.read_text(os.path.join('data', 'accounts.*.json.gz'))\n",
    "b.take(1)"
   ]
  },
  {
   "cell_type": "code",
   "execution_count": 5,
   "metadata": {
    "execution": {
     "iopub.execute_input": "2020-10-30T02:11:15.276996Z",
     "iopub.status.busy": "2020-10-30T02:11:15.276169Z",
     "iopub.status.idle": "2020-10-30T02:11:15.278514Z",
     "shell.execute_reply": "2020-10-30T02:11:15.278949Z"
    }
   },
   "outputs": [
    {
     "data": {
      "text/plain": [
       "'s3://dask-data/nyc-taxi/2015/yellow_tripdata_2015-01.csv'"
      ]
     },
     "execution_count": 1,
     "metadata": {},
     "output_type": "execute_result"
    }
   ],
   "source": [
    "# Edit sources.py to configure source locations\n",
    "import sources\n",
    "sources.bag_url"
   ]
  },
  {
   "cell_type": "code",
   "execution_count": 6,
   "metadata": {
    "execution": {
     "iopub.execute_input": "2020-10-30T02:11:15.284572Z",
     "iopub.status.busy": "2020-10-30T02:11:15.283520Z",
     "iopub.status.idle": "2020-10-30T02:11:16.514867Z",
     "shell.execute_reply": "2020-10-30T02:11:16.515563Z"
    }
   },
   "outputs": [
    {
     "data": {
      "text/plain": [
       "('VendorID,tpep_pickup_datetime,tpep_dropoff_datetime,passenger_count,trip_distance,pickup_longitude,pickup_latitude,RateCodeID,store_and_fwd_flag,dropoff_longitude,dropoff_latitude,payment_type,fare_amount,extra,mta_tax,tip_amount,tolls_amount,improvement_surcharge,total_amount\\n',)"
      ]
     },
     "execution_count": 1,
     "metadata": {},
     "output_type": "execute_result"
    }
   ],
   "source": [
    "# Requires `s3fs` library\n",
    "# each partition is a remote CSV text file\n",
    "b = db.read_text(sources.bag_url,\n",
    "                 storage_options={'anon': True})\n",
    "b.take(1)"
   ]
  },
  {
   "cell_type": "markdown",
   "metadata": {},
   "source": [
    "## Manipulation"
   ]
  },
  {
   "cell_type": "markdown",
   "metadata": {},
   "source": [
    "`Bag` objects hold the standard functional API found in projects like the Python standard library, `toolz`, or `pyspark`, including `map`, `filter`, `groupby`, etc..\n",
    "\n",
    "Operations on `Bag` objects create new bags.  Call the `.compute()` method to trigger execution, as we saw for `Delayed` objects.  "
   ]
  },
  {
   "cell_type": "code",
   "execution_count": 7,
   "metadata": {
    "execution": {
     "iopub.execute_input": "2020-10-30T02:11:16.521761Z",
     "iopub.status.busy": "2020-10-30T02:11:16.518000Z",
     "iopub.status.idle": "2020-10-30T02:11:16.526588Z",
     "shell.execute_reply": "2020-10-30T02:11:16.526118Z"
    }
   },
   "outputs": [
    {
     "data": {
      "text/plain": [
       "dask.bag<lambda, npartitions=10>"
      ]
     },
     "execution_count": 1,
     "metadata": {},
     "output_type": "execute_result"
    }
   ],
   "source": [
    "def is_even(n):\n",
    "    return n % 2 == 0\n",
    "\n",
    "b = db.from_sequence([1, 2, 3, 4, 5, 6, 7, 8, 9, 10])\n",
    "c = b.filter(is_even).map(lambda x: x ** 2)\n",
    "c"
   ]
  },
  {
   "cell_type": "code",
   "execution_count": 8,
   "metadata": {
    "execution": {
     "iopub.execute_input": "2020-10-30T02:11:16.534050Z",
     "iopub.status.busy": "2020-10-30T02:11:16.533381Z",
     "iopub.status.idle": "2020-10-30T02:11:16.619224Z",
     "shell.execute_reply": "2020-10-30T02:11:16.618421Z"
    }
   },
   "outputs": [
    {
     "data": {
      "text/plain": [
       "[4, 16, 36, 64, 100]"
      ]
     },
     "execution_count": 1,
     "metadata": {},
     "output_type": "execute_result"
    }
   ],
   "source": [
    "# blocking form: wait for completion (which is very fast in this case)\n",
    "c.compute()"
   ]
  },
  {
   "cell_type": "markdown",
   "metadata": {},
   "source": [
    "### Example: Accounts JSON data"
   ]
  },
  {
   "cell_type": "markdown",
   "metadata": {},
   "source": [
    "We've created a fake dataset of gzipped JSON data in your data directory.  This is like the example used in the `DataFrame` example we will see later, except that it has bundled up all of the entires for each individual `id` into a single record.  This is similar to data that you might collect off of a document store database or a web API.\n",
    "\n",
    "Each line is a JSON encoded dictionary with the following keys\n",
    "\n",
    "*  id: Unique identifier of the customer\n",
    "*  name: Name of the customer\n",
    "*  transactions: List of `transaction-id`, `amount` pairs, one for each transaction for the customer in that file"
   ]
  },
  {
   "cell_type": "code",
   "execution_count": 9,
   "metadata": {
    "execution": {
     "iopub.execute_input": "2020-10-30T02:11:16.623847Z",
     "iopub.status.busy": "2020-10-30T02:11:16.623141Z",
     "iopub.status.idle": "2020-10-30T02:11:16.653918Z",
     "shell.execute_reply": "2020-10-30T02:11:16.654572Z"
    }
   },
   "outputs": [
    {
     "data": {
      "text/plain": [
       "('{\"id\": 0, \"name\": \"Wendy\", \"transactions\": [{\"transaction-id\": 398, \"amount\": 358}, {\"transaction-id\": 1224, \"amount\": 352}, {\"transaction-id\": 3190, \"amount\": 387}, {\"transaction-id\": 4278, \"amount\": 457}, {\"transaction-id\": 5528, \"amount\": 359}, {\"transaction-id\": 6584, \"amount\": 332}, {\"transaction-id\": 7299, \"amount\": 368}, {\"transaction-id\": 7492, \"amount\": 272}, {\"transaction-id\": 7591, \"amount\": 491}, {\"transaction-id\": 8485, \"amount\": 401}, {\"transaction-id\": 9609, \"amount\": 277}, {\"transaction-id\": 9974, \"amount\": 321}]}\\n',\n",
       " '{\"id\": 1, \"name\": \"Laura\", \"transactions\": [{\"transaction-id\": 178, \"amount\": -801}]}\\n',\n",
       " '{\"id\": 2, \"name\": \"Dan\", \"transactions\": [{\"transaction-id\": 34, \"amount\": 322}, {\"transaction-id\": 185, \"amount\": 327}, {\"transaction-id\": 242, \"amount\": 285}, {\"transaction-id\": 714, \"amount\": 264}, {\"transaction-id\": 859, \"amount\": 335}, {\"transaction-id\": 1017, \"amount\": 342}, {\"transaction-id\": 1039, \"amount\": 296}, {\"transaction-id\": 1041, \"amount\": 318}, {\"transaction-id\": 1103, \"amount\": 268}, {\"transaction-id\": 1205, \"amount\": 311}, {\"transaction-id\": 1214, \"amount\": 349}, {\"transaction-id\": 1232, \"amount\": 295}, {\"transaction-id\": 1392, \"amount\": 248}, {\"transaction-id\": 1408, \"amount\": 262}, {\"transaction-id\": 1473, \"amount\": 297}, {\"transaction-id\": 1504, \"amount\": 272}, {\"transaction-id\": 1597, \"amount\": 306}, {\"transaction-id\": 1629, \"amount\": 268}, {\"transaction-id\": 1895, \"amount\": 316}, {\"transaction-id\": 2464, \"amount\": 291}, {\"transaction-id\": 2584, \"amount\": 259}, {\"transaction-id\": 2620, \"amount\": 272}, {\"transaction-id\": 2819, \"amount\": 321}, {\"transaction-id\": 2842, \"amount\": 261}, {\"transaction-id\": 3202, \"amount\": 255}, {\"transaction-id\": 3207, \"amount\": 295}, {\"transaction-id\": 3238, \"amount\": 328}, {\"transaction-id\": 3413, \"amount\": 268}, {\"transaction-id\": 3459, \"amount\": 335}, {\"transaction-id\": 3615, \"amount\": 290}, {\"transaction-id\": 3654, \"amount\": 296}, {\"transaction-id\": 3848, \"amount\": 256}, {\"transaction-id\": 3970, \"amount\": 318}, {\"transaction-id\": 4023, \"amount\": 264}, {\"transaction-id\": 4201, \"amount\": 327}, {\"transaction-id\": 4344, \"amount\": 334}, {\"transaction-id\": 4519, \"amount\": 313}, {\"transaction-id\": 4614, \"amount\": 287}, {\"transaction-id\": 4912, \"amount\": 332}, {\"transaction-id\": 4979, \"amount\": 266}, {\"transaction-id\": 5449, \"amount\": 323}, {\"transaction-id\": 5502, \"amount\": 286}, {\"transaction-id\": 6128, \"amount\": 301}, {\"transaction-id\": 6178, \"amount\": 299}, {\"transaction-id\": 6444, \"amount\": 371}, {\"transaction-id\": 6549, \"amount\": 315}, {\"transaction-id\": 6842, \"amount\": 273}, {\"transaction-id\": 6918, \"amount\": 302}, {\"transaction-id\": 6934, \"amount\": 381}, {\"transaction-id\": 7228, \"amount\": 308}, {\"transaction-id\": 7233, \"amount\": 304}, {\"transaction-id\": 7429, \"amount\": 295}, {\"transaction-id\": 7451, \"amount\": 311}, {\"transaction-id\": 7502, \"amount\": 320}, {\"transaction-id\": 7517, \"amount\": 310}, {\"transaction-id\": 7635, \"amount\": 250}, {\"transaction-id\": 7751, \"amount\": 266}, {\"transaction-id\": 7787, \"amount\": 329}, {\"transaction-id\": 7859, \"amount\": 297}, {\"transaction-id\": 8238, \"amount\": 286}, {\"transaction-id\": 8301, \"amount\": 300}, {\"transaction-id\": 8353, \"amount\": 335}, {\"transaction-id\": 8361, \"amount\": 335}, {\"transaction-id\": 8493, \"amount\": 298}, {\"transaction-id\": 8515, \"amount\": 325}, {\"transaction-id\": 8763, \"amount\": 353}, {\"transaction-id\": 9022, \"amount\": 282}, {\"transaction-id\": 9048, \"amount\": 313}, {\"transaction-id\": 9083, \"amount\": 328}, {\"transaction-id\": 9209, \"amount\": 271}, {\"transaction-id\": 9652, \"amount\": 313}, {\"transaction-id\": 9653, \"amount\": 258}, {\"transaction-id\": 9796, \"amount\": 328}, {\"transaction-id\": 9929, \"amount\": 293}]}\\n')"
      ]
     },
     "execution_count": 1,
     "metadata": {},
     "output_type": "execute_result"
    }
   ],
   "source": [
    "filename = os.path.join('data', 'accounts.*.json.gz')\n",
    "lines = db.read_text(filename)\n",
    "lines.take(3)"
   ]
  },
  {
   "cell_type": "markdown",
   "metadata": {},
   "source": [
    "Our data comes out of the file as lines of text. Notice that file decompression happened automatically. We can make this data look more reasonable by mapping the `json.loads` function onto our bag."
   ]
  },
  {
   "cell_type": "code",
   "execution_count": 10,
   "metadata": {
    "execution": {
     "iopub.execute_input": "2020-10-30T02:11:16.660099Z",
     "iopub.status.busy": "2020-10-30T02:11:16.659575Z",
     "iopub.status.idle": "2020-10-30T02:11:16.684699Z",
     "shell.execute_reply": "2020-10-30T02:11:16.685147Z"
    }
   },
   "outputs": [
    {
     "data": {
      "text/plain": [
       "({'id': 0,\n",
       "  'name': 'Wendy',\n",
       "  'transactions': [{'transaction-id': 398, 'amount': 358},\n",
       "   {'transaction-id': 1224, 'amount': 352},\n",
       "   {'transaction-id': 3190, 'amount': 387},\n",
       "   {'transaction-id': 4278, 'amount': 457},\n",
       "   {'transaction-id': 5528, 'amount': 359},\n",
       "   {'transaction-id': 6584, 'amount': 332},\n",
       "   {'transaction-id': 7299, 'amount': 368},\n",
       "   {'transaction-id': 7492, 'amount': 272},\n",
       "   {'transaction-id': 7591, 'amount': 491},\n",
       "   {'transaction-id': 8485, 'amount': 401},\n",
       "   {'transaction-id': 9609, 'amount': 277},\n",
       "   {'transaction-id': 9974, 'amount': 321}]},\n",
       " {'id': 1,\n",
       "  'name': 'Laura',\n",
       "  'transactions': [{'transaction-id': 178, 'amount': -801}]},\n",
       " {'id': 2,\n",
       "  'name': 'Dan',\n",
       "  'transactions': [{'transaction-id': 34, 'amount': 322},\n",
       "   {'transaction-id': 185, 'amount': 327},\n",
       "   {'transaction-id': 242, 'amount': 285},\n",
       "   {'transaction-id': 714, 'amount': 264},\n",
       "   {'transaction-id': 859, 'amount': 335},\n",
       "   {'transaction-id': 1017, 'amount': 342},\n",
       "   {'transaction-id': 1039, 'amount': 296},\n",
       "   {'transaction-id': 1041, 'amount': 318},\n",
       "   {'transaction-id': 1103, 'amount': 268},\n",
       "   {'transaction-id': 1205, 'amount': 311},\n",
       "   {'transaction-id': 1214, 'amount': 349},\n",
       "   {'transaction-id': 1232, 'amount': 295},\n",
       "   {'transaction-id': 1392, 'amount': 248},\n",
       "   {'transaction-id': 1408, 'amount': 262},\n",
       "   {'transaction-id': 1473, 'amount': 297},\n",
       "   {'transaction-id': 1504, 'amount': 272},\n",
       "   {'transaction-id': 1597, 'amount': 306},\n",
       "   {'transaction-id': 1629, 'amount': 268},\n",
       "   {'transaction-id': 1895, 'amount': 316},\n",
       "   {'transaction-id': 2464, 'amount': 291},\n",
       "   {'transaction-id': 2584, 'amount': 259},\n",
       "   {'transaction-id': 2620, 'amount': 272},\n",
       "   {'transaction-id': 2819, 'amount': 321},\n",
       "   {'transaction-id': 2842, 'amount': 261},\n",
       "   {'transaction-id': 3202, 'amount': 255},\n",
       "   {'transaction-id': 3207, 'amount': 295},\n",
       "   {'transaction-id': 3238, 'amount': 328},\n",
       "   {'transaction-id': 3413, 'amount': 268},\n",
       "   {'transaction-id': 3459, 'amount': 335},\n",
       "   {'transaction-id': 3615, 'amount': 290},\n",
       "   {'transaction-id': 3654, 'amount': 296},\n",
       "   {'transaction-id': 3848, 'amount': 256},\n",
       "   {'transaction-id': 3970, 'amount': 318},\n",
       "   {'transaction-id': 4023, 'amount': 264},\n",
       "   {'transaction-id': 4201, 'amount': 327},\n",
       "   {'transaction-id': 4344, 'amount': 334},\n",
       "   {'transaction-id': 4519, 'amount': 313},\n",
       "   {'transaction-id': 4614, 'amount': 287},\n",
       "   {'transaction-id': 4912, 'amount': 332},\n",
       "   {'transaction-id': 4979, 'amount': 266},\n",
       "   {'transaction-id': 5449, 'amount': 323},\n",
       "   {'transaction-id': 5502, 'amount': 286},\n",
       "   {'transaction-id': 6128, 'amount': 301},\n",
       "   {'transaction-id': 6178, 'amount': 299},\n",
       "   {'transaction-id': 6444, 'amount': 371},\n",
       "   {'transaction-id': 6549, 'amount': 315},\n",
       "   {'transaction-id': 6842, 'amount': 273},\n",
       "   {'transaction-id': 6918, 'amount': 302},\n",
       "   {'transaction-id': 6934, 'amount': 381},\n",
       "   {'transaction-id': 7228, 'amount': 308},\n",
       "   {'transaction-id': 7233, 'amount': 304},\n",
       "   {'transaction-id': 7429, 'amount': 295},\n",
       "   {'transaction-id': 7451, 'amount': 311},\n",
       "   {'transaction-id': 7502, 'amount': 320},\n",
       "   {'transaction-id': 7517, 'amount': 310},\n",
       "   {'transaction-id': 7635, 'amount': 250},\n",
       "   {'transaction-id': 7751, 'amount': 266},\n",
       "   {'transaction-id': 7787, 'amount': 329},\n",
       "   {'transaction-id': 7859, 'amount': 297},\n",
       "   {'transaction-id': 8238, 'amount': 286},\n",
       "   {'transaction-id': 8301, 'amount': 300},\n",
       "   {'transaction-id': 8353, 'amount': 335},\n",
       "   {'transaction-id': 8361, 'amount': 335},\n",
       "   {'transaction-id': 8493, 'amount': 298},\n",
       "   {'transaction-id': 8515, 'amount': 325},\n",
       "   {'transaction-id': 8763, 'amount': 353},\n",
       "   {'transaction-id': 9022, 'amount': 282},\n",
       "   {'transaction-id': 9048, 'amount': 313},\n",
       "   {'transaction-id': 9083, 'amount': 328},\n",
       "   {'transaction-id': 9209, 'amount': 271},\n",
       "   {'transaction-id': 9652, 'amount': 313},\n",
       "   {'transaction-id': 9653, 'amount': 258},\n",
       "   {'transaction-id': 9796, 'amount': 328},\n",
       "   {'transaction-id': 9929, 'amount': 293}]})"
      ]
     },
     "execution_count": 1,
     "metadata": {},
     "output_type": "execute_result"
    }
   ],
   "source": [
    "import json\n",
    "js = lines.map(json.loads)\n",
    "# take: inspect first few elements\n",
    "js.take(3)"
   ]
  },
  {
   "cell_type": "markdown",
   "metadata": {},
   "source": [
    "### Basic Queries"
   ]
  },
  {
   "cell_type": "markdown",
   "metadata": {},
   "source": [
    "Once we parse our JSON data into proper Python objects (`dict`s, `list`s, etc.) we can perform more interesting queries by creating small Python functions to run on our data."
   ]
  },
  {
   "cell_type": "code",
   "execution_count": 11,
   "metadata": {
    "execution": {
     "iopub.execute_input": "2020-10-30T02:11:16.693592Z",
     "iopub.status.busy": "2020-10-30T02:11:16.691217Z",
     "iopub.status.idle": "2020-10-30T02:11:16.732684Z",
     "shell.execute_reply": "2020-10-30T02:11:16.733386Z"
    }
   },
   "outputs": [
    {
     "data": {
      "text/plain": [
       "({'id': 36,\n",
       "  'name': 'Alice',\n",
       "  'transactions': [{'transaction-id': 41, 'amount': 510},\n",
       "   {'transaction-id': 59, 'amount': 465},\n",
       "   {'transaction-id': 88, 'amount': 528},\n",
       "   {'transaction-id': 183, 'amount': 518},\n",
       "   {'transaction-id': 201, 'amount': 459},\n",
       "   {'transaction-id': 209, 'amount': 539},\n",
       "   {'transaction-id': 259, 'amount': 524},\n",
       "   {'transaction-id': 266, 'amount': 494},\n",
       "   {'transaction-id': 274, 'amount': 506},\n",
       "   {'transaction-id': 290, 'amount': 476},\n",
       "   {'transaction-id': 318, 'amount': 492},\n",
       "   {'transaction-id': 428, 'amount': 526},\n",
       "   {'transaction-id': 479, 'amount': 509},\n",
       "   {'transaction-id': 540, 'amount': 526},\n",
       "   {'transaction-id': 572, 'amount': 511},\n",
       "   {'transaction-id': 585, 'amount': 510},\n",
       "   {'transaction-id': 600, 'amount': 509},\n",
       "   {'transaction-id': 678, 'amount': 510},\n",
       "   {'transaction-id': 858, 'amount': 489},\n",
       "   {'transaction-id': 919, 'amount': 506},\n",
       "   {'transaction-id': 989, 'amount': 501},\n",
       "   {'transaction-id': 1006, 'amount': 524},\n",
       "   {'transaction-id': 1170, 'amount': 515},\n",
       "   {'transaction-id': 1230, 'amount': 591},\n",
       "   {'transaction-id': 1437, 'amount': 507},\n",
       "   {'transaction-id': 1447, 'amount': 491},\n",
       "   {'transaction-id': 1511, 'amount': 503},\n",
       "   {'transaction-id': 1530, 'amount': 489},\n",
       "   {'transaction-id': 1538, 'amount': 511},\n",
       "   {'transaction-id': 1545, 'amount': 486},\n",
       "   {'transaction-id': 1630, 'amount': 477},\n",
       "   {'transaction-id': 1640, 'amount': 518},\n",
       "   {'transaction-id': 1739, 'amount': 469},\n",
       "   {'transaction-id': 1803, 'amount': 483},\n",
       "   {'transaction-id': 1871, 'amount': 491},\n",
       "   {'transaction-id': 1933, 'amount': 512},\n",
       "   {'transaction-id': 1969, 'amount': 490},\n",
       "   {'transaction-id': 2052, 'amount': 471},\n",
       "   {'transaction-id': 2059, 'amount': 567},\n",
       "   {'transaction-id': 2068, 'amount': 526},\n",
       "   {'transaction-id': 2101, 'amount': 497},\n",
       "   {'transaction-id': 2103, 'amount': 495},\n",
       "   {'transaction-id': 2125, 'amount': 463},\n",
       "   {'transaction-id': 2266, 'amount': 512},\n",
       "   {'transaction-id': 2275, 'amount': 538},\n",
       "   {'transaction-id': 2276, 'amount': 474},\n",
       "   {'transaction-id': 2541, 'amount': 493},\n",
       "   {'transaction-id': 2669, 'amount': 510},\n",
       "   {'transaction-id': 2748, 'amount': 499},\n",
       "   {'transaction-id': 2805, 'amount': 542},\n",
       "   {'transaction-id': 2834, 'amount': 478},\n",
       "   {'transaction-id': 2949, 'amount': 521},\n",
       "   {'transaction-id': 2963, 'amount': 526},\n",
       "   {'transaction-id': 3009, 'amount': 532},\n",
       "   {'transaction-id': 3043, 'amount': 482},\n",
       "   {'transaction-id': 3081, 'amount': 507},\n",
       "   {'transaction-id': 3208, 'amount': 573},\n",
       "   {'transaction-id': 3220, 'amount': 420},\n",
       "   {'transaction-id': 3283, 'amount': 450},\n",
       "   {'transaction-id': 3351, 'amount': 598},\n",
       "   {'transaction-id': 3516, 'amount': 524},\n",
       "   {'transaction-id': 3548, 'amount': 501},\n",
       "   {'transaction-id': 3580, 'amount': 508},\n",
       "   {'transaction-id': 3609, 'amount': 460},\n",
       "   {'transaction-id': 3734, 'amount': 473},\n",
       "   {'transaction-id': 3757, 'amount': 457},\n",
       "   {'transaction-id': 3795, 'amount': 521},\n",
       "   {'transaction-id': 3901, 'amount': 525},\n",
       "   {'transaction-id': 4027, 'amount': 543},\n",
       "   {'transaction-id': 4192, 'amount': 488},\n",
       "   {'transaction-id': 4231, 'amount': 480},\n",
       "   {'transaction-id': 4267, 'amount': 451},\n",
       "   {'transaction-id': 4381, 'amount': 521},\n",
       "   {'transaction-id': 4437, 'amount': 499},\n",
       "   {'transaction-id': 4470, 'amount': 528},\n",
       "   {'transaction-id': 4552, 'amount': 532},\n",
       "   {'transaction-id': 4720, 'amount': 466},\n",
       "   {'transaction-id': 4739, 'amount': 521},\n",
       "   {'transaction-id': 4796, 'amount': 519},\n",
       "   {'transaction-id': 4857, 'amount': 534},\n",
       "   {'transaction-id': 4873, 'amount': 501},\n",
       "   {'transaction-id': 4916, 'amount': 514},\n",
       "   {'transaction-id': 4924, 'amount': 503},\n",
       "   {'transaction-id': 5026, 'amount': 494},\n",
       "   {'transaction-id': 5065, 'amount': 493},\n",
       "   {'transaction-id': 5228, 'amount': 515},\n",
       "   {'transaction-id': 5265, 'amount': 507},\n",
       "   {'transaction-id': 5292, 'amount': 468},\n",
       "   {'transaction-id': 5344, 'amount': 499},\n",
       "   {'transaction-id': 5368, 'amount': 499},\n",
       "   {'transaction-id': 5374, 'amount': 492},\n",
       "   {'transaction-id': 5410, 'amount': 508},\n",
       "   {'transaction-id': 5513, 'amount': 524},\n",
       "   {'transaction-id': 5545, 'amount': 512},\n",
       "   {'transaction-id': 5546, 'amount': 489},\n",
       "   {'transaction-id': 5571, 'amount': 503},\n",
       "   {'transaction-id': 5616, 'amount': 471},\n",
       "   {'transaction-id': 5660, 'amount': 484},\n",
       "   {'transaction-id': 5693, 'amount': 468},\n",
       "   {'transaction-id': 5959, 'amount': 527},\n",
       "   {'transaction-id': 5996, 'amount': 461},\n",
       "   {'transaction-id': 6012, 'amount': 476},\n",
       "   {'transaction-id': 6021, 'amount': 516},\n",
       "   {'transaction-id': 6188, 'amount': 527},\n",
       "   {'transaction-id': 6210, 'amount': 555},\n",
       "   {'transaction-id': 6260, 'amount': 483},\n",
       "   {'transaction-id': 6298, 'amount': 489},\n",
       "   {'transaction-id': 6483, 'amount': 505},\n",
       "   {'transaction-id': 6484, 'amount': 506},\n",
       "   {'transaction-id': 6497, 'amount': 568},\n",
       "   {'transaction-id': 6568, 'amount': 454},\n",
       "   {'transaction-id': 6640, 'amount': 472},\n",
       "   {'transaction-id': 6682, 'amount': 517},\n",
       "   {'transaction-id': 6733, 'amount': 479},\n",
       "   {'transaction-id': 6747, 'amount': 505},\n",
       "   {'transaction-id': 6748, 'amount': 529},\n",
       "   {'transaction-id': 6782, 'amount': 528},\n",
       "   {'transaction-id': 6820, 'amount': 533},\n",
       "   {'transaction-id': 6822, 'amount': 524},\n",
       "   {'transaction-id': 6832, 'amount': 529},\n",
       "   {'transaction-id': 6849, 'amount': 505},\n",
       "   {'transaction-id': 6865, 'amount': 492},\n",
       "   {'transaction-id': 6964, 'amount': 511},\n",
       "   {'transaction-id': 7004, 'amount': 494},\n",
       "   {'transaction-id': 7167, 'amount': 472},\n",
       "   {'transaction-id': 7274, 'amount': 472},\n",
       "   {'transaction-id': 7279, 'amount': 540},\n",
       "   {'transaction-id': 7307, 'amount': 496},\n",
       "   {'transaction-id': 7485, 'amount': 524},\n",
       "   {'transaction-id': 7486, 'amount': 517},\n",
       "   {'transaction-id': 7497, 'amount': 506},\n",
       "   {'transaction-id': 7556, 'amount': 514},\n",
       "   {'transaction-id': 7607, 'amount': 464},\n",
       "   {'transaction-id': 7681, 'amount': 468},\n",
       "   {'transaction-id': 7692, 'amount': 527},\n",
       "   {'transaction-id': 7722, 'amount': 509},\n",
       "   {'transaction-id': 7729, 'amount': 537},\n",
       "   {'transaction-id': 7736, 'amount': 501},\n",
       "   {'transaction-id': 7737, 'amount': 515},\n",
       "   {'transaction-id': 7804, 'amount': 551},\n",
       "   {'transaction-id': 7826, 'amount': 484},\n",
       "   {'transaction-id': 7845, 'amount': 457},\n",
       "   {'transaction-id': 7989, 'amount': 521},\n",
       "   {'transaction-id': 8075, 'amount': 521},\n",
       "   {'transaction-id': 8082, 'amount': 463},\n",
       "   {'transaction-id': 8136, 'amount': 557},\n",
       "   {'transaction-id': 8197, 'amount': 495},\n",
       "   {'transaction-id': 8227, 'amount': 504},\n",
       "   {'transaction-id': 8286, 'amount': 502},\n",
       "   {'transaction-id': 8327, 'amount': 476},\n",
       "   {'transaction-id': 8359, 'amount': 479},\n",
       "   {'transaction-id': 8463, 'amount': 537},\n",
       "   {'transaction-id': 8509, 'amount': 513},\n",
       "   {'transaction-id': 8526, 'amount': 505},\n",
       "   {'transaction-id': 8543, 'amount': 503},\n",
       "   {'transaction-id': 8550, 'amount': 603},\n",
       "   {'transaction-id': 8590, 'amount': 458},\n",
       "   {'transaction-id': 8604, 'amount': 505},\n",
       "   {'transaction-id': 8682, 'amount': 509},\n",
       "   {'transaction-id': 8689, 'amount': 478},\n",
       "   {'transaction-id': 8785, 'amount': 475},\n",
       "   {'transaction-id': 8798, 'amount': 475},\n",
       "   {'transaction-id': 8853, 'amount': 483},\n",
       "   {'transaction-id': 8854, 'amount': 508},\n",
       "   {'transaction-id': 8898, 'amount': 458},\n",
       "   {'transaction-id': 8916, 'amount': 453},\n",
       "   {'transaction-id': 8924, 'amount': 526},\n",
       "   {'transaction-id': 8944, 'amount': 506},\n",
       "   {'transaction-id': 9112, 'amount': 506},\n",
       "   {'transaction-id': 9199, 'amount': 554},\n",
       "   {'transaction-id': 9211, 'amount': 474},\n",
       "   {'transaction-id': 9242, 'amount': 504},\n",
       "   {'transaction-id': 9320, 'amount': 480},\n",
       "   {'transaction-id': 9418, 'amount': 520},\n",
       "   {'transaction-id': 9455, 'amount': 502},\n",
       "   {'transaction-id': 9472, 'amount': 562},\n",
       "   {'transaction-id': 9513, 'amount': 478},\n",
       "   {'transaction-id': 9528, 'amount': 504},\n",
       "   {'transaction-id': 9535, 'amount': 484},\n",
       "   {'transaction-id': 9612, 'amount': 505},\n",
       "   {'transaction-id': 9661, 'amount': 524},\n",
       "   {'transaction-id': 9712, 'amount': 476},\n",
       "   {'transaction-id': 9729, 'amount': 509},\n",
       "   {'transaction-id': 9737, 'amount': 533},\n",
       "   {'transaction-id': 9743, 'amount': 520},\n",
       "   {'transaction-id': 9841, 'amount': 489},\n",
       "   {'transaction-id': 9850, 'amount': 527},\n",
       "   {'transaction-id': 9902, 'amount': 529},\n",
       "   {'transaction-id': 9940, 'amount': 500},\n",
       "   {'transaction-id': 9967, 'amount': 519},\n",
       "   {'transaction-id': 9969, 'amount': 506}]},\n",
       " {'id': 43,\n",
       "  'name': 'Alice',\n",
       "  'transactions': [{'transaction-id': 222, 'amount': 844},\n",
       "   {'transaction-id': 489, 'amount': 758},\n",
       "   {'transaction-id': 547, 'amount': 832},\n",
       "   {'transaction-id': 602, 'amount': 718},\n",
       "   {'transaction-id': 1410, 'amount': 731},\n",
       "   {'transaction-id': 1765, 'amount': 787},\n",
       "   {'transaction-id': 2141, 'amount': 772},\n",
       "   {'transaction-id': 2187, 'amount': 765},\n",
       "   {'transaction-id': 2238, 'amount': 723},\n",
       "   {'transaction-id': 2271, 'amount': 734},\n",
       "   {'transaction-id': 2283, 'amount': 751},\n",
       "   {'transaction-id': 3100, 'amount': 777},\n",
       "   {'transaction-id': 3874, 'amount': 742},\n",
       "   {'transaction-id': 3961, 'amount': 691},\n",
       "   {'transaction-id': 4256, 'amount': 787},\n",
       "   {'transaction-id': 4648, 'amount': 796},\n",
       "   {'transaction-id': 4761, 'amount': 699},\n",
       "   {'transaction-id': 5243, 'amount': 842},\n",
       "   {'transaction-id': 5244, 'amount': 715},\n",
       "   {'transaction-id': 5313, 'amount': 760},\n",
       "   {'transaction-id': 5321, 'amount': 760},\n",
       "   {'transaction-id': 5604, 'amount': 781},\n",
       "   {'transaction-id': 5814, 'amount': 752},\n",
       "   {'transaction-id': 6011, 'amount': 765},\n",
       "   {'transaction-id': 6027, 'amount': 770},\n",
       "   {'transaction-id': 6076, 'amount': 797},\n",
       "   {'transaction-id': 6087, 'amount': 759},\n",
       "   {'transaction-id': 6604, 'amount': 762},\n",
       "   {'transaction-id': 7247, 'amount': 786},\n",
       "   {'transaction-id': 7877, 'amount': 763},\n",
       "   {'transaction-id': 8157, 'amount': 752},\n",
       "   {'transaction-id': 8477, 'amount': 661},\n",
       "   {'transaction-id': 8594, 'amount': 761},\n",
       "   {'transaction-id': 8693, 'amount': 760},\n",
       "   {'transaction-id': 8872, 'amount': 833},\n",
       "   {'transaction-id': 9236, 'amount': 744}]},\n",
       " {'id': 105,\n",
       "  'name': 'Alice',\n",
       "  'transactions': [{'transaction-id': 279, 'amount': 265},\n",
       "   {'transaction-id': 381, 'amount': 240},\n",
       "   {'transaction-id': 443, 'amount': 250},\n",
       "   {'transaction-id': 486, 'amount': 308},\n",
       "   {'transaction-id': 557, 'amount': 179},\n",
       "   {'transaction-id': 563, 'amount': 229},\n",
       "   {'transaction-id': 721, 'amount': 185},\n",
       "   {'transaction-id': 931, 'amount': 265},\n",
       "   {'transaction-id': 1091, 'amount': 297},\n",
       "   {'transaction-id': 1180, 'amount': 221},\n",
       "   {'transaction-id': 1470, 'amount': 257},\n",
       "   {'transaction-id': 1709, 'amount': 182},\n",
       "   {'transaction-id': 1806, 'amount': 227},\n",
       "   {'transaction-id': 2071, 'amount': 257},\n",
       "   {'transaction-id': 2199, 'amount': 256},\n",
       "   {'transaction-id': 2200, 'amount': 284},\n",
       "   {'transaction-id': 2364, 'amount': 276},\n",
       "   {'transaction-id': 2517, 'amount': 207},\n",
       "   {'transaction-id': 2587, 'amount': 329},\n",
       "   {'transaction-id': 2602, 'amount': 213},\n",
       "   {'transaction-id': 2617, 'amount': 191},\n",
       "   {'transaction-id': 2953, 'amount': 211},\n",
       "   {'transaction-id': 3092, 'amount': 218},\n",
       "   {'transaction-id': 3114, 'amount': 248},\n",
       "   {'transaction-id': 3271, 'amount': 230},\n",
       "   {'transaction-id': 3414, 'amount': 296},\n",
       "   {'transaction-id': 3476, 'amount': 278},\n",
       "   {'transaction-id': 3518, 'amount': 210},\n",
       "   {'transaction-id': 3524, 'amount': 208},\n",
       "   {'transaction-id': 4131, 'amount': 253},\n",
       "   {'transaction-id': 5002, 'amount': 246},\n",
       "   {'transaction-id': 5200, 'amount': 310},\n",
       "   {'transaction-id': 5501, 'amount': 305},\n",
       "   {'transaction-id': 5539, 'amount': 136},\n",
       "   {'transaction-id': 5630, 'amount': 228},\n",
       "   {'transaction-id': 5657, 'amount': 244},\n",
       "   {'transaction-id': 5953, 'amount': 324},\n",
       "   {'transaction-id': 5962, 'amount': 322},\n",
       "   {'transaction-id': 6084, 'amount': 247},\n",
       "   {'transaction-id': 6274, 'amount': 166},\n",
       "   {'transaction-id': 6326, 'amount': 198},\n",
       "   {'transaction-id': 6645, 'amount': 157},\n",
       "   {'transaction-id': 6759, 'amount': 175},\n",
       "   {'transaction-id': 7112, 'amount': 147},\n",
       "   {'transaction-id': 7323, 'amount': 195},\n",
       "   {'transaction-id': 7347, 'amount': 299},\n",
       "   {'transaction-id': 7360, 'amount': 261},\n",
       "   {'transaction-id': 7583, 'amount': 260},\n",
       "   {'transaction-id': 7660, 'amount': 221},\n",
       "   {'transaction-id': 7703, 'amount': 167},\n",
       "   {'transaction-id': 7732, 'amount': 174},\n",
       "   {'transaction-id': 7935, 'amount': 266},\n",
       "   {'transaction-id': 8230, 'amount': 254},\n",
       "   {'transaction-id': 8330, 'amount': 259},\n",
       "   {'transaction-id': 8462, 'amount': 183},\n",
       "   {'transaction-id': 8531, 'amount': 184},\n",
       "   {'transaction-id': 8779, 'amount': 225},\n",
       "   {'transaction-id': 8842, 'amount': 243},\n",
       "   {'transaction-id': 9191, 'amount': 193}]},\n",
       " {'id': 107,\n",
       "  'name': 'Alice',\n",
       "  'transactions': [{'transaction-id': 110, 'amount': 929},\n",
       "   {'transaction-id': 175, 'amount': 1306},\n",
       "   {'transaction-id': 299, 'amount': 1080},\n",
       "   {'transaction-id': 321, 'amount': 1214},\n",
       "   {'transaction-id': 328, 'amount': 1163},\n",
       "   {'transaction-id': 522, 'amount': 1232},\n",
       "   {'transaction-id': 676, 'amount': 1127},\n",
       "   {'transaction-id': 893, 'amount': 1119},\n",
       "   {'transaction-id': 969, 'amount': 1247},\n",
       "   {'transaction-id': 1138, 'amount': 996},\n",
       "   {'transaction-id': 1234, 'amount': 1045},\n",
       "   {'transaction-id': 1386, 'amount': 1127},\n",
       "   {'transaction-id': 1434, 'amount': 1018},\n",
       "   {'transaction-id': 1502, 'amount': 1073},\n",
       "   {'transaction-id': 1711, 'amount': 1198},\n",
       "   {'transaction-id': 1805, 'amount': 1169},\n",
       "   {'transaction-id': 1970, 'amount': 1251},\n",
       "   {'transaction-id': 2259, 'amount': 1210},\n",
       "   {'transaction-id': 2324, 'amount': 1259},\n",
       "   {'transaction-id': 2370, 'amount': 1146},\n",
       "   {'transaction-id': 2382, 'amount': 1291},\n",
       "   {'transaction-id': 2526, 'amount': 1120},\n",
       "   {'transaction-id': 2638, 'amount': 1258},\n",
       "   {'transaction-id': 2755, 'amount': 1341},\n",
       "   {'transaction-id': 3286, 'amount': 1369},\n",
       "   {'transaction-id': 3293, 'amount': 1287},\n",
       "   {'transaction-id': 3394, 'amount': 1355},\n",
       "   {'transaction-id': 3550, 'amount': 1149},\n",
       "   {'transaction-id': 3726, 'amount': 859},\n",
       "   {'transaction-id': 3735, 'amount': 1264},\n",
       "   {'transaction-id': 3768, 'amount': 1215},\n",
       "   {'transaction-id': 3789, 'amount': 1124},\n",
       "   {'transaction-id': 3812, 'amount': 1083},\n",
       "   {'transaction-id': 4090, 'amount': 1103},\n",
       "   {'transaction-id': 4337, 'amount': 1041},\n",
       "   {'transaction-id': 4501, 'amount': 1219},\n",
       "   {'transaction-id': 4582, 'amount': 1387},\n",
       "   {'transaction-id': 4644, 'amount': 1096},\n",
       "   {'transaction-id': 4778, 'amount': 1177},\n",
       "   {'transaction-id': 5039, 'amount': 1377},\n",
       "   {'transaction-id': 5391, 'amount': 1131},\n",
       "   {'transaction-id': 5467, 'amount': 1138},\n",
       "   {'transaction-id': 5494, 'amount': 1197},\n",
       "   {'transaction-id': 5578, 'amount': 1294},\n",
       "   {'transaction-id': 5674, 'amount': 1033},\n",
       "   {'transaction-id': 5716, 'amount': 1106},\n",
       "   {'transaction-id': 5754, 'amount': 1198},\n",
       "   {'transaction-id': 5770, 'amount': 1082},\n",
       "   {'transaction-id': 5955, 'amount': 1177},\n",
       "   {'transaction-id': 6058, 'amount': 1395},\n",
       "   {'transaction-id': 6064, 'amount': 1239},\n",
       "   {'transaction-id': 6097, 'amount': 1371},\n",
       "   {'transaction-id': 6107, 'amount': 1138},\n",
       "   {'transaction-id': 6233, 'amount': 1261},\n",
       "   {'transaction-id': 6264, 'amount': 1185},\n",
       "   {'transaction-id': 6321, 'amount': 1217},\n",
       "   {'transaction-id': 6366, 'amount': 1255},\n",
       "   {'transaction-id': 6401, 'amount': 1239},\n",
       "   {'transaction-id': 6742, 'amount': 1131},\n",
       "   {'transaction-id': 7123, 'amount': 1317},\n",
       "   {'transaction-id': 7158, 'amount': 1265},\n",
       "   {'transaction-id': 7384, 'amount': 1283},\n",
       "   {'transaction-id': 7461, 'amount': 1119},\n",
       "   {'transaction-id': 7636, 'amount': 1082},\n",
       "   {'transaction-id': 8051, 'amount': 1134},\n",
       "   {'transaction-id': 8054, 'amount': 1142},\n",
       "   {'transaction-id': 8071, 'amount': 1170},\n",
       "   {'transaction-id': 8206, 'amount': 1234},\n",
       "   {'transaction-id': 8221, 'amount': 1131},\n",
       "   {'transaction-id': 8555, 'amount': 1201},\n",
       "   {'transaction-id': 8818, 'amount': 1086},\n",
       "   {'transaction-id': 9018, 'amount': 1402},\n",
       "   {'transaction-id': 9052, 'amount': 1091},\n",
       "   {'transaction-id': 9184, 'amount': 1167},\n",
       "   {'transaction-id': 9202, 'amount': 1233},\n",
       "   {'transaction-id': 9288, 'amount': 1152},\n",
       "   {'transaction-id': 9648, 'amount': 1181},\n",
       "   {'transaction-id': 9776, 'amount': 1204}]},\n",
       " {'id': 130,\n",
       "  'name': 'Alice',\n",
       "  'transactions': [{'transaction-id': 129, 'amount': 2144},\n",
       "   {'transaction-id': 276, 'amount': 2150},\n",
       "   {'transaction-id': 892, 'amount': 2135},\n",
       "   {'transaction-id': 1362, 'amount': 2170},\n",
       "   {'transaction-id': 1532, 'amount': 1962},\n",
       "   {'transaction-id': 1973, 'amount': 2136},\n",
       "   {'transaction-id': 2176, 'amount': 2235},\n",
       "   {'transaction-id': 2969, 'amount': 2028},\n",
       "   {'transaction-id': 3118, 'amount': 2120},\n",
       "   {'transaction-id': 3196, 'amount': 2134},\n",
       "   {'transaction-id': 3397, 'amount': 2140},\n",
       "   {'transaction-id': 5713, 'amount': 2329},\n",
       "   {'transaction-id': 5723, 'amount': 2053},\n",
       "   {'transaction-id': 5954, 'amount': 2030},\n",
       "   {'transaction-id': 6301, 'amount': 2237},\n",
       "   {'transaction-id': 7412, 'amount': 2223},\n",
       "   {'transaction-id': 7566, 'amount': 2010},\n",
       "   {'transaction-id': 7836, 'amount': 2062},\n",
       "   {'transaction-id': 7839, 'amount': 2127},\n",
       "   {'transaction-id': 8595, 'amount': 2203},\n",
       "   {'transaction-id': 8749, 'amount': 2087},\n",
       "   {'transaction-id': 8775, 'amount': 1974},\n",
       "   {'transaction-id': 9280, 'amount': 2199},\n",
       "   {'transaction-id': 9428, 'amount': 2248},\n",
       "   {'transaction-id': 9588, 'amount': 2246},\n",
       "   {'transaction-id': 9802, 'amount': 2094},\n",
       "   {'transaction-id': 9823, 'amount': 2056},\n",
       "   {'transaction-id': 9904, 'amount': 2428}]})"
      ]
     },
     "execution_count": 1,
     "metadata": {},
     "output_type": "execute_result"
    }
   ],
   "source": [
    "# filter: keep only some elements of the sequence\n",
    "js.filter(lambda record: record['name'] == 'Alice').take(5)"
   ]
  },
  {
   "cell_type": "code",
   "execution_count": 12,
   "metadata": {
    "execution": {
     "iopub.execute_input": "2020-10-30T02:11:16.744369Z",
     "iopub.status.busy": "2020-10-30T02:11:16.740720Z",
     "iopub.status.idle": "2020-10-30T02:11:16.759894Z",
     "shell.execute_reply": "2020-10-30T02:11:16.760287Z"
    }
   },
   "outputs": [
    {
     "data": {
      "text/plain": [
       "({'name': 'Alice', 'count': 191},\n",
       " {'name': 'Alice', 'count': 36},\n",
       " {'name': 'Alice', 'count': 59},\n",
       " {'name': 'Alice', 'count': 78},\n",
       " {'name': 'Alice', 'count': 28})"
      ]
     },
     "execution_count": 1,
     "metadata": {},
     "output_type": "execute_result"
    }
   ],
   "source": [
    "def count_transactions(d):\n",
    "    return {'name': d['name'], 'count': len(d['transactions'])}\n",
    "\n",
    "# map: apply a function to each element\n",
    "(js.filter(lambda record: record['name'] == 'Alice')\n",
    "   .map(count_transactions)\n",
    "   .take(5))"
   ]
  },
  {
   "cell_type": "code",
   "execution_count": 13,
   "metadata": {
    "execution": {
     "iopub.execute_input": "2020-10-30T02:11:16.765336Z",
     "iopub.status.busy": "2020-10-30T02:11:16.764520Z",
     "iopub.status.idle": "2020-10-30T02:11:16.786204Z",
     "shell.execute_reply": "2020-10-30T02:11:16.785734Z"
    }
   },
   "outputs": [
    {
     "data": {
      "text/plain": [
       "(191, 36, 59, 78, 28)"
      ]
     },
     "execution_count": 1,
     "metadata": {},
     "output_type": "execute_result"
    }
   ],
   "source": [
    "# pluck: select a field, as from a dictionary, element[field]\n",
    "(js.filter(lambda record: record['name'] == 'Alice')\n",
    "   .map(count_transactions)\n",
    "   .pluck('count')\n",
    "   .take(5))"
   ]
  },
  {
   "cell_type": "code",
   "execution_count": 14,
   "metadata": {
    "execution": {
     "iopub.execute_input": "2020-10-30T02:11:16.800881Z",
     "iopub.status.busy": "2020-10-30T02:11:16.800135Z",
     "iopub.status.idle": "2020-10-30T02:11:17.350429Z",
     "shell.execute_reply": "2020-10-30T02:11:17.350867Z"
    }
   },
   "outputs": [
    {
     "data": {
      "text/plain": [
       "61.35777777777778"
      ]
     },
     "execution_count": 1,
     "metadata": {},
     "output_type": "execute_result"
    }
   ],
   "source": [
    "# Average number of transactions for all of the Alice entries\n",
    "(js.filter(lambda record: record['name'] == 'Alice')\n",
    "   .map(count_transactions)\n",
    "   .pluck('count')\n",
    "   .mean()\n",
    "   .compute())"
   ]
  },
  {
   "cell_type": "markdown",
   "metadata": {},
   "source": [
    "### Use `flatten` to de-nest"
   ]
  },
  {
   "cell_type": "markdown",
   "metadata": {},
   "source": [
    "In the example below we see the use of `.flatten()` to flatten results.  We compute the average amount for all transactions for all Alices."
   ]
  },
  {
   "cell_type": "code",
   "execution_count": 15,
   "metadata": {
    "execution": {
     "iopub.execute_input": "2020-10-30T02:11:17.354448Z",
     "iopub.status.busy": "2020-10-30T02:11:17.353609Z",
     "iopub.status.idle": "2020-10-30T02:11:17.387677Z",
     "shell.execute_reply": "2020-10-30T02:11:17.388375Z"
    }
   },
   "outputs": [
    {
     "data": {
      "text/plain": [
       "([{'transaction-id': 41, 'amount': 510},\n",
       "  {'transaction-id': 59, 'amount': 465},\n",
       "  {'transaction-id': 88, 'amount': 528},\n",
       "  {'transaction-id': 183, 'amount': 518},\n",
       "  {'transaction-id': 201, 'amount': 459},\n",
       "  {'transaction-id': 209, 'amount': 539},\n",
       "  {'transaction-id': 259, 'amount': 524},\n",
       "  {'transaction-id': 266, 'amount': 494},\n",
       "  {'transaction-id': 274, 'amount': 506},\n",
       "  {'transaction-id': 290, 'amount': 476},\n",
       "  {'transaction-id': 318, 'amount': 492},\n",
       "  {'transaction-id': 428, 'amount': 526},\n",
       "  {'transaction-id': 479, 'amount': 509},\n",
       "  {'transaction-id': 540, 'amount': 526},\n",
       "  {'transaction-id': 572, 'amount': 511},\n",
       "  {'transaction-id': 585, 'amount': 510},\n",
       "  {'transaction-id': 600, 'amount': 509},\n",
       "  {'transaction-id': 678, 'amount': 510},\n",
       "  {'transaction-id': 858, 'amount': 489},\n",
       "  {'transaction-id': 919, 'amount': 506},\n",
       "  {'transaction-id': 989, 'amount': 501},\n",
       "  {'transaction-id': 1006, 'amount': 524},\n",
       "  {'transaction-id': 1170, 'amount': 515},\n",
       "  {'transaction-id': 1230, 'amount': 591},\n",
       "  {'transaction-id': 1437, 'amount': 507},\n",
       "  {'transaction-id': 1447, 'amount': 491},\n",
       "  {'transaction-id': 1511, 'amount': 503},\n",
       "  {'transaction-id': 1530, 'amount': 489},\n",
       "  {'transaction-id': 1538, 'amount': 511},\n",
       "  {'transaction-id': 1545, 'amount': 486},\n",
       "  {'transaction-id': 1630, 'amount': 477},\n",
       "  {'transaction-id': 1640, 'amount': 518},\n",
       "  {'transaction-id': 1739, 'amount': 469},\n",
       "  {'transaction-id': 1803, 'amount': 483},\n",
       "  {'transaction-id': 1871, 'amount': 491},\n",
       "  {'transaction-id': 1933, 'amount': 512},\n",
       "  {'transaction-id': 1969, 'amount': 490},\n",
       "  {'transaction-id': 2052, 'amount': 471},\n",
       "  {'transaction-id': 2059, 'amount': 567},\n",
       "  {'transaction-id': 2068, 'amount': 526},\n",
       "  {'transaction-id': 2101, 'amount': 497},\n",
       "  {'transaction-id': 2103, 'amount': 495},\n",
       "  {'transaction-id': 2125, 'amount': 463},\n",
       "  {'transaction-id': 2266, 'amount': 512},\n",
       "  {'transaction-id': 2275, 'amount': 538},\n",
       "  {'transaction-id': 2276, 'amount': 474},\n",
       "  {'transaction-id': 2541, 'amount': 493},\n",
       "  {'transaction-id': 2669, 'amount': 510},\n",
       "  {'transaction-id': 2748, 'amount': 499},\n",
       "  {'transaction-id': 2805, 'amount': 542},\n",
       "  {'transaction-id': 2834, 'amount': 478},\n",
       "  {'transaction-id': 2949, 'amount': 521},\n",
       "  {'transaction-id': 2963, 'amount': 526},\n",
       "  {'transaction-id': 3009, 'amount': 532},\n",
       "  {'transaction-id': 3043, 'amount': 482},\n",
       "  {'transaction-id': 3081, 'amount': 507},\n",
       "  {'transaction-id': 3208, 'amount': 573},\n",
       "  {'transaction-id': 3220, 'amount': 420},\n",
       "  {'transaction-id': 3283, 'amount': 450},\n",
       "  {'transaction-id': 3351, 'amount': 598},\n",
       "  {'transaction-id': 3516, 'amount': 524},\n",
       "  {'transaction-id': 3548, 'amount': 501},\n",
       "  {'transaction-id': 3580, 'amount': 508},\n",
       "  {'transaction-id': 3609, 'amount': 460},\n",
       "  {'transaction-id': 3734, 'amount': 473},\n",
       "  {'transaction-id': 3757, 'amount': 457},\n",
       "  {'transaction-id': 3795, 'amount': 521},\n",
       "  {'transaction-id': 3901, 'amount': 525},\n",
       "  {'transaction-id': 4027, 'amount': 543},\n",
       "  {'transaction-id': 4192, 'amount': 488},\n",
       "  {'transaction-id': 4231, 'amount': 480},\n",
       "  {'transaction-id': 4267, 'amount': 451},\n",
       "  {'transaction-id': 4381, 'amount': 521},\n",
       "  {'transaction-id': 4437, 'amount': 499},\n",
       "  {'transaction-id': 4470, 'amount': 528},\n",
       "  {'transaction-id': 4552, 'amount': 532},\n",
       "  {'transaction-id': 4720, 'amount': 466},\n",
       "  {'transaction-id': 4739, 'amount': 521},\n",
       "  {'transaction-id': 4796, 'amount': 519},\n",
       "  {'transaction-id': 4857, 'amount': 534},\n",
       "  {'transaction-id': 4873, 'amount': 501},\n",
       "  {'transaction-id': 4916, 'amount': 514},\n",
       "  {'transaction-id': 4924, 'amount': 503},\n",
       "  {'transaction-id': 5026, 'amount': 494},\n",
       "  {'transaction-id': 5065, 'amount': 493},\n",
       "  {'transaction-id': 5228, 'amount': 515},\n",
       "  {'transaction-id': 5265, 'amount': 507},\n",
       "  {'transaction-id': 5292, 'amount': 468},\n",
       "  {'transaction-id': 5344, 'amount': 499},\n",
       "  {'transaction-id': 5368, 'amount': 499},\n",
       "  {'transaction-id': 5374, 'amount': 492},\n",
       "  {'transaction-id': 5410, 'amount': 508},\n",
       "  {'transaction-id': 5513, 'amount': 524},\n",
       "  {'transaction-id': 5545, 'amount': 512},\n",
       "  {'transaction-id': 5546, 'amount': 489},\n",
       "  {'transaction-id': 5571, 'amount': 503},\n",
       "  {'transaction-id': 5616, 'amount': 471},\n",
       "  {'transaction-id': 5660, 'amount': 484},\n",
       "  {'transaction-id': 5693, 'amount': 468},\n",
       "  {'transaction-id': 5959, 'amount': 527},\n",
       "  {'transaction-id': 5996, 'amount': 461},\n",
       "  {'transaction-id': 6012, 'amount': 476},\n",
       "  {'transaction-id': 6021, 'amount': 516},\n",
       "  {'transaction-id': 6188, 'amount': 527},\n",
       "  {'transaction-id': 6210, 'amount': 555},\n",
       "  {'transaction-id': 6260, 'amount': 483},\n",
       "  {'transaction-id': 6298, 'amount': 489},\n",
       "  {'transaction-id': 6483, 'amount': 505},\n",
       "  {'transaction-id': 6484, 'amount': 506},\n",
       "  {'transaction-id': 6497, 'amount': 568},\n",
       "  {'transaction-id': 6568, 'amount': 454},\n",
       "  {'transaction-id': 6640, 'amount': 472},\n",
       "  {'transaction-id': 6682, 'amount': 517},\n",
       "  {'transaction-id': 6733, 'amount': 479},\n",
       "  {'transaction-id': 6747, 'amount': 505},\n",
       "  {'transaction-id': 6748, 'amount': 529},\n",
       "  {'transaction-id': 6782, 'amount': 528},\n",
       "  {'transaction-id': 6820, 'amount': 533},\n",
       "  {'transaction-id': 6822, 'amount': 524},\n",
       "  {'transaction-id': 6832, 'amount': 529},\n",
       "  {'transaction-id': 6849, 'amount': 505},\n",
       "  {'transaction-id': 6865, 'amount': 492},\n",
       "  {'transaction-id': 6964, 'amount': 511},\n",
       "  {'transaction-id': 7004, 'amount': 494},\n",
       "  {'transaction-id': 7167, 'amount': 472},\n",
       "  {'transaction-id': 7274, 'amount': 472},\n",
       "  {'transaction-id': 7279, 'amount': 540},\n",
       "  {'transaction-id': 7307, 'amount': 496},\n",
       "  {'transaction-id': 7485, 'amount': 524},\n",
       "  {'transaction-id': 7486, 'amount': 517},\n",
       "  {'transaction-id': 7497, 'amount': 506},\n",
       "  {'transaction-id': 7556, 'amount': 514},\n",
       "  {'transaction-id': 7607, 'amount': 464},\n",
       "  {'transaction-id': 7681, 'amount': 468},\n",
       "  {'transaction-id': 7692, 'amount': 527},\n",
       "  {'transaction-id': 7722, 'amount': 509},\n",
       "  {'transaction-id': 7729, 'amount': 537},\n",
       "  {'transaction-id': 7736, 'amount': 501},\n",
       "  {'transaction-id': 7737, 'amount': 515},\n",
       "  {'transaction-id': 7804, 'amount': 551},\n",
       "  {'transaction-id': 7826, 'amount': 484},\n",
       "  {'transaction-id': 7845, 'amount': 457},\n",
       "  {'transaction-id': 7989, 'amount': 521},\n",
       "  {'transaction-id': 8075, 'amount': 521},\n",
       "  {'transaction-id': 8082, 'amount': 463},\n",
       "  {'transaction-id': 8136, 'amount': 557},\n",
       "  {'transaction-id': 8197, 'amount': 495},\n",
       "  {'transaction-id': 8227, 'amount': 504},\n",
       "  {'transaction-id': 8286, 'amount': 502},\n",
       "  {'transaction-id': 8327, 'amount': 476},\n",
       "  {'transaction-id': 8359, 'amount': 479},\n",
       "  {'transaction-id': 8463, 'amount': 537},\n",
       "  {'transaction-id': 8509, 'amount': 513},\n",
       "  {'transaction-id': 8526, 'amount': 505},\n",
       "  {'transaction-id': 8543, 'amount': 503},\n",
       "  {'transaction-id': 8550, 'amount': 603},\n",
       "  {'transaction-id': 8590, 'amount': 458},\n",
       "  {'transaction-id': 8604, 'amount': 505},\n",
       "  {'transaction-id': 8682, 'amount': 509},\n",
       "  {'transaction-id': 8689, 'amount': 478},\n",
       "  {'transaction-id': 8785, 'amount': 475},\n",
       "  {'transaction-id': 8798, 'amount': 475},\n",
       "  {'transaction-id': 8853, 'amount': 483},\n",
       "  {'transaction-id': 8854, 'amount': 508},\n",
       "  {'transaction-id': 8898, 'amount': 458},\n",
       "  {'transaction-id': 8916, 'amount': 453},\n",
       "  {'transaction-id': 8924, 'amount': 526},\n",
       "  {'transaction-id': 8944, 'amount': 506},\n",
       "  {'transaction-id': 9112, 'amount': 506},\n",
       "  {'transaction-id': 9199, 'amount': 554},\n",
       "  {'transaction-id': 9211, 'amount': 474},\n",
       "  {'transaction-id': 9242, 'amount': 504},\n",
       "  {'transaction-id': 9320, 'amount': 480},\n",
       "  {'transaction-id': 9418, 'amount': 520},\n",
       "  {'transaction-id': 9455, 'amount': 502},\n",
       "  {'transaction-id': 9472, 'amount': 562},\n",
       "  {'transaction-id': 9513, 'amount': 478},\n",
       "  {'transaction-id': 9528, 'amount': 504},\n",
       "  {'transaction-id': 9535, 'amount': 484},\n",
       "  {'transaction-id': 9612, 'amount': 505},\n",
       "  {'transaction-id': 9661, 'amount': 524},\n",
       "  {'transaction-id': 9712, 'amount': 476},\n",
       "  {'transaction-id': 9729, 'amount': 509},\n",
       "  {'transaction-id': 9737, 'amount': 533},\n",
       "  {'transaction-id': 9743, 'amount': 520},\n",
       "  {'transaction-id': 9841, 'amount': 489},\n",
       "  {'transaction-id': 9850, 'amount': 527},\n",
       "  {'transaction-id': 9902, 'amount': 529},\n",
       "  {'transaction-id': 9940, 'amount': 500},\n",
       "  {'transaction-id': 9967, 'amount': 519},\n",
       "  {'transaction-id': 9969, 'amount': 506}],\n",
       " [{'transaction-id': 222, 'amount': 844},\n",
       "  {'transaction-id': 489, 'amount': 758},\n",
       "  {'transaction-id': 547, 'amount': 832},\n",
       "  {'transaction-id': 602, 'amount': 718},\n",
       "  {'transaction-id': 1410, 'amount': 731},\n",
       "  {'transaction-id': 1765, 'amount': 787},\n",
       "  {'transaction-id': 2141, 'amount': 772},\n",
       "  {'transaction-id': 2187, 'amount': 765},\n",
       "  {'transaction-id': 2238, 'amount': 723},\n",
       "  {'transaction-id': 2271, 'amount': 734},\n",
       "  {'transaction-id': 2283, 'amount': 751},\n",
       "  {'transaction-id': 3100, 'amount': 777},\n",
       "  {'transaction-id': 3874, 'amount': 742},\n",
       "  {'transaction-id': 3961, 'amount': 691},\n",
       "  {'transaction-id': 4256, 'amount': 787},\n",
       "  {'transaction-id': 4648, 'amount': 796},\n",
       "  {'transaction-id': 4761, 'amount': 699},\n",
       "  {'transaction-id': 5243, 'amount': 842},\n",
       "  {'transaction-id': 5244, 'amount': 715},\n",
       "  {'transaction-id': 5313, 'amount': 760},\n",
       "  {'transaction-id': 5321, 'amount': 760},\n",
       "  {'transaction-id': 5604, 'amount': 781},\n",
       "  {'transaction-id': 5814, 'amount': 752},\n",
       "  {'transaction-id': 6011, 'amount': 765},\n",
       "  {'transaction-id': 6027, 'amount': 770},\n",
       "  {'transaction-id': 6076, 'amount': 797},\n",
       "  {'transaction-id': 6087, 'amount': 759},\n",
       "  {'transaction-id': 6604, 'amount': 762},\n",
       "  {'transaction-id': 7247, 'amount': 786},\n",
       "  {'transaction-id': 7877, 'amount': 763},\n",
       "  {'transaction-id': 8157, 'amount': 752},\n",
       "  {'transaction-id': 8477, 'amount': 661},\n",
       "  {'transaction-id': 8594, 'amount': 761},\n",
       "  {'transaction-id': 8693, 'amount': 760},\n",
       "  {'transaction-id': 8872, 'amount': 833},\n",
       "  {'transaction-id': 9236, 'amount': 744}],\n",
       " [{'transaction-id': 279, 'amount': 265},\n",
       "  {'transaction-id': 381, 'amount': 240},\n",
       "  {'transaction-id': 443, 'amount': 250},\n",
       "  {'transaction-id': 486, 'amount': 308},\n",
       "  {'transaction-id': 557, 'amount': 179},\n",
       "  {'transaction-id': 563, 'amount': 229},\n",
       "  {'transaction-id': 721, 'amount': 185},\n",
       "  {'transaction-id': 931, 'amount': 265},\n",
       "  {'transaction-id': 1091, 'amount': 297},\n",
       "  {'transaction-id': 1180, 'amount': 221},\n",
       "  {'transaction-id': 1470, 'amount': 257},\n",
       "  {'transaction-id': 1709, 'amount': 182},\n",
       "  {'transaction-id': 1806, 'amount': 227},\n",
       "  {'transaction-id': 2071, 'amount': 257},\n",
       "  {'transaction-id': 2199, 'amount': 256},\n",
       "  {'transaction-id': 2200, 'amount': 284},\n",
       "  {'transaction-id': 2364, 'amount': 276},\n",
       "  {'transaction-id': 2517, 'amount': 207},\n",
       "  {'transaction-id': 2587, 'amount': 329},\n",
       "  {'transaction-id': 2602, 'amount': 213},\n",
       "  {'transaction-id': 2617, 'amount': 191},\n",
       "  {'transaction-id': 2953, 'amount': 211},\n",
       "  {'transaction-id': 3092, 'amount': 218},\n",
       "  {'transaction-id': 3114, 'amount': 248},\n",
       "  {'transaction-id': 3271, 'amount': 230},\n",
       "  {'transaction-id': 3414, 'amount': 296},\n",
       "  {'transaction-id': 3476, 'amount': 278},\n",
       "  {'transaction-id': 3518, 'amount': 210},\n",
       "  {'transaction-id': 3524, 'amount': 208},\n",
       "  {'transaction-id': 4131, 'amount': 253},\n",
       "  {'transaction-id': 5002, 'amount': 246},\n",
       "  {'transaction-id': 5200, 'amount': 310},\n",
       "  {'transaction-id': 5501, 'amount': 305},\n",
       "  {'transaction-id': 5539, 'amount': 136},\n",
       "  {'transaction-id': 5630, 'amount': 228},\n",
       "  {'transaction-id': 5657, 'amount': 244},\n",
       "  {'transaction-id': 5953, 'amount': 324},\n",
       "  {'transaction-id': 5962, 'amount': 322},\n",
       "  {'transaction-id': 6084, 'amount': 247},\n",
       "  {'transaction-id': 6274, 'amount': 166},\n",
       "  {'transaction-id': 6326, 'amount': 198},\n",
       "  {'transaction-id': 6645, 'amount': 157},\n",
       "  {'transaction-id': 6759, 'amount': 175},\n",
       "  {'transaction-id': 7112, 'amount': 147},\n",
       "  {'transaction-id': 7323, 'amount': 195},\n",
       "  {'transaction-id': 7347, 'amount': 299},\n",
       "  {'transaction-id': 7360, 'amount': 261},\n",
       "  {'transaction-id': 7583, 'amount': 260},\n",
       "  {'transaction-id': 7660, 'amount': 221},\n",
       "  {'transaction-id': 7703, 'amount': 167},\n",
       "  {'transaction-id': 7732, 'amount': 174},\n",
       "  {'transaction-id': 7935, 'amount': 266},\n",
       "  {'transaction-id': 8230, 'amount': 254},\n",
       "  {'transaction-id': 8330, 'amount': 259},\n",
       "  {'transaction-id': 8462, 'amount': 183},\n",
       "  {'transaction-id': 8531, 'amount': 184},\n",
       "  {'transaction-id': 8779, 'amount': 225},\n",
       "  {'transaction-id': 8842, 'amount': 243},\n",
       "  {'transaction-id': 9191, 'amount': 193}])"
      ]
     },
     "execution_count": 1,
     "metadata": {},
     "output_type": "execute_result"
    }
   ],
   "source": [
    "js.filter(lambda record: record['name'] == 'Alice').pluck('transactions').take(3)"
   ]
  },
  {
   "cell_type": "code",
   "execution_count": 16,
   "metadata": {
    "execution": {
     "iopub.execute_input": "2020-10-30T02:11:17.394825Z",
     "iopub.status.busy": "2020-10-30T02:11:17.394394Z",
     "iopub.status.idle": "2020-10-30T02:11:17.413830Z",
     "shell.execute_reply": "2020-10-30T02:11:17.413206Z"
    }
   },
   "outputs": [
    {
     "data": {
      "text/plain": [
       "({'transaction-id': 41, 'amount': 510},\n",
       " {'transaction-id': 59, 'amount': 465},\n",
       " {'transaction-id': 88, 'amount': 528})"
      ]
     },
     "execution_count": 1,
     "metadata": {},
     "output_type": "execute_result"
    }
   ],
   "source": [
    "(js.filter(lambda record: record['name'] == 'Alice')\n",
    "   .pluck('transactions')\n",
    "   .flatten()\n",
    "   .take(3))"
   ]
  },
  {
   "cell_type": "code",
   "execution_count": 17,
   "metadata": {
    "execution": {
     "iopub.execute_input": "2020-10-30T02:11:17.417417Z",
     "iopub.status.busy": "2020-10-30T02:11:17.416991Z",
     "iopub.status.idle": "2020-10-30T02:11:17.438070Z",
     "shell.execute_reply": "2020-10-30T02:11:17.438883Z"
    }
   },
   "outputs": [
    {
     "data": {
      "text/plain": [
       "(510, 465, 528)"
      ]
     },
     "execution_count": 1,
     "metadata": {},
     "output_type": "execute_result"
    }
   ],
   "source": [
    "(js.filter(lambda record: record['name'] == 'Alice')\n",
    "   .pluck('transactions')\n",
    "   .flatten()\n",
    "   .pluck('amount')\n",
    "   .take(3))"
   ]
  },
  {
   "cell_type": "code",
   "execution_count": 18,
   "metadata": {
    "execution": {
     "iopub.execute_input": "2020-10-30T02:11:17.461794Z",
     "iopub.status.busy": "2020-10-30T02:11:17.453395Z",
     "iopub.status.idle": "2020-10-30T02:11:18.007804Z",
     "shell.execute_reply": "2020-10-30T02:11:18.007427Z"
    }
   },
   "outputs": [
    {
     "data": {
      "text/plain": [
       "835.3929231103546"
      ]
     },
     "execution_count": 1,
     "metadata": {},
     "output_type": "execute_result"
    }
   ],
   "source": [
    "(js.filter(lambda record: record['name'] == 'Alice')\n",
    "   .pluck('transactions')\n",
    "   .flatten()\n",
    "   .pluck('amount')\n",
    "   .mean()\n",
    "   .compute())"
   ]
  },
  {
   "cell_type": "markdown",
   "metadata": {},
   "source": [
    "### Groupby and Foldby"
   ]
  },
  {
   "cell_type": "markdown",
   "metadata": {},
   "source": [
    "Often we want to group data by some function or key.  We can do this either with the `.groupby` method, which is straightforward but forces a full shuffle of the data (expensive) or with the harder-to-use but faster `.foldby` method, which does a streaming combined groupby and reduction.\n",
    "\n",
    "*  `groupby`:  Shuffles data so that all items with the same key are in the same key-value pair\n",
    "*  `foldby`:  Walks through the data accumulating a result per key\n",
    "\n",
    "*Note: the full groupby is particularly bad. In actual workloads you would do well to use `foldby` or switch to `DataFrame`s if possible.*"
   ]
  },
  {
   "cell_type": "markdown",
   "metadata": {},
   "source": [
    "### `groupby`"
   ]
  },
  {
   "cell_type": "markdown",
   "metadata": {},
   "source": [
    "Groupby collects items in your collection so that all items with the same value under some function are collected together into a key-value pair."
   ]
  },
  {
   "cell_type": "code",
   "execution_count": 19,
   "metadata": {
    "execution": {
     "iopub.execute_input": "2020-10-30T02:11:18.021441Z",
     "iopub.status.busy": "2020-10-30T02:11:18.016744Z",
     "iopub.status.idle": "2020-10-30T02:11:18.118481Z",
     "shell.execute_reply": "2020-10-30T02:11:18.117993Z"
    }
   },
   "outputs": [
    {
     "data": {
      "text/plain": [
       "[(7, ['Charlie']), (3, ['Bob', 'Dan']), (5, ['Alice', 'Edith', 'Frank'])]"
      ]
     },
     "execution_count": 1,
     "metadata": {},
     "output_type": "execute_result"
    }
   ],
   "source": [
    "b = db.from_sequence(['Alice', 'Bob', 'Charlie', 'Dan', 'Edith', 'Frank'])\n",
    "b.groupby(len).compute()  # names grouped by length"
   ]
  },
  {
   "cell_type": "code",
   "execution_count": 20,
   "metadata": {
    "execution": {
     "iopub.execute_input": "2020-10-30T02:11:18.124374Z",
     "iopub.status.busy": "2020-10-30T02:11:18.121336Z",
     "iopub.status.idle": "2020-10-30T02:11:18.331489Z",
     "shell.execute_reply": "2020-10-30T02:11:18.330950Z"
    }
   },
   "outputs": [
    {
     "data": {
      "text/plain": [
       "[(0, [0, 2, 4, 6, 8]), (1, [1, 3, 5, 7, 9])]"
      ]
     },
     "execution_count": 1,
     "metadata": {},
     "output_type": "execute_result"
    }
   ],
   "source": [
    "b = db.from_sequence(list(range(10)))\n",
    "b.groupby(lambda x: x % 2).compute()"
   ]
  },
  {
   "cell_type": "code",
   "execution_count": 21,
   "metadata": {
    "execution": {
     "iopub.execute_input": "2020-10-30T02:11:18.351701Z",
     "iopub.status.busy": "2020-10-30T02:11:18.336493Z",
     "iopub.status.idle": "2020-10-30T02:11:18.541516Z",
     "shell.execute_reply": "2020-10-30T02:11:18.540384Z"
    }
   },
   "outputs": [
    {
     "data": {
      "text/plain": [
       "[(0, 8), (1, 9)]"
      ]
     },
     "execution_count": 1,
     "metadata": {},
     "output_type": "execute_result"
    }
   ],
   "source": [
    "b.groupby(lambda x: x % 2).starmap(lambda k, v: (k, max(v))).compute()"
   ]
  },
  {
   "cell_type": "markdown",
   "metadata": {},
   "source": [
    "### `foldby`"
   ]
  },
  {
   "cell_type": "markdown",
   "metadata": {},
   "source": [
    "Foldby can be quite odd at first.  It is similar to the following functions from other libraries:\n",
    "\n",
    "*  [`toolz.reduceby`](http://toolz.readthedocs.io/en/latest/streaming-analytics.html#streaming-split-apply-combine)\n",
    "*  [`pyspark.RDD.combineByKey`](http://abshinn.github.io/python/apache-spark/2014/10/11/using-combinebykey-in-apache-spark/)\n",
    "\n",
    "When using `foldby` you provide \n",
    "\n",
    "1.  A key function on which to group elements\n",
    "2.  A binary operator such as you would pass to `reduce` that you use to perform reduction per each group\n",
    "3.  A combine binary operator that can combine the results of two `reduce` calls on different parts of your dataset.\n",
    "\n",
    "Your reduction must be associative.  It will happen in parallel in each of the partitions of your dataset.  Then all of these intermediate results will be combined by the `combine` binary operator."
   ]
  },
  {
   "cell_type": "code",
   "execution_count": 22,
   "metadata": {
    "execution": {
     "iopub.execute_input": "2020-10-30T02:11:18.548085Z",
     "iopub.status.busy": "2020-10-30T02:11:18.547442Z",
     "iopub.status.idle": "2020-10-30T02:11:18.606897Z",
     "shell.execute_reply": "2020-10-30T02:11:18.606429Z"
    }
   },
   "outputs": [
    {
     "data": {
      "text/plain": [
       "[(0, 8), (1, 9)]"
      ]
     },
     "execution_count": 1,
     "metadata": {},
     "output_type": "execute_result"
    }
   ],
   "source": [
    "is_even = lambda x: x % 2\n",
    "b.foldby(is_even, binop=max, combine=max).compute()"
   ]
  },
  {
   "cell_type": "markdown",
   "metadata": {},
   "source": [
    "### Example with account data"
   ]
  },
  {
   "cell_type": "markdown",
   "metadata": {},
   "source": [
    "We find the number of people with the same name."
   ]
  },
  {
   "cell_type": "code",
   "execution_count": 23,
   "metadata": {
    "execution": {
     "iopub.execute_input": "2020-10-30T02:11:18.614981Z",
     "iopub.status.busy": "2020-10-30T02:11:18.614299Z",
     "iopub.status.idle": "2020-10-30T02:11:27.566524Z",
     "shell.execute_reply": "2020-10-30T02:11:27.565742Z"
    }
   },
   "outputs": [
    {
     "name": "stdout",
     "output_type": "stream",
     "text": [
      "[('Alice', 108), ('Alice', 108), ('Alice', 117), ('Alice', 117), ('Bob', 155), ('Bob', 155), ('Bob', 168), ('Bob', 169), ('Charlie', 120), ('Charlie', 120), ('Charlie', 130), ('Charlie', 130), ('Dan', 137), ('Dan', 138), ('Dan', 146), ('Dan', 149), ('Edith', 108), ('Edith', 108), ('Edith', 117), ('Edith', 117), ('Frank', 72), ('Frank', 72), ('Frank', 78), ('Frank', 78), ('George', 95), ('George', 95), ('George', 102), ('George', 103), ('Hannah', 78), ('Hannah', 79), ('Hannah', 157), ('Ingrid', 104), ('Ingrid', 104), ('Ingrid', 192), ('Jerry', 144), ('Jerry', 144), ('Jerry', 153), ('Jerry', 156), ('Kevin', 35), ('Kevin', 36), ('Kevin', 38), ('Kevin', 38), ('Laura', 166), ('Laura', 168), ('Laura', 178), ('Laura', 182), ('Michael', 107), ('Michael', 108), ('Michael', 115), ('Michael', 116), ('Norbert', 94), ('Norbert', 96), ('Norbert', 102), ('Norbert', 103), ('Oliver', 156), ('Oliver', 156), ('Oliver', 169), ('Oliver', 169), ('Patricia', 105), ('Patricia', 107), ('Patricia', 115), ('Patricia', 116), ('Quinn', 171), ('Quinn', 174), ('Quinn', 186), ('Quinn', 186), ('Ray', 131), ('Ray', 131), ('Ray', 141), ('Ray', 142), ('Sarah', 105), ('Sarah', 106), ('Sarah', 112), ('Sarah', 112), ('Tim', 72), ('Tim', 72), ('Tim', 78), ('Tim', 78), ('Ursula', 119), ('Ursula', 120), ('Ursula', 130), ('Ursula', 130), ('Victor', 96), ('Victor', 96), ('Victor', 103), ('Victor', 104), ('Wendy', 117), ('Wendy', 119), ('Wendy', 126), ('Wendy', 126), ('Xavier', 73), ('Xavier', 75), ('Xavier', 78), ('Xavier', 80), ('Yvonne', 171), ('Yvonne', 174), ('Yvonne', 182), ('Yvonne', 187), ('Zelda', 107), ('Zelda', 107), ('Zelda', 116), ('Zelda', 117)]\n",
      "CPU times: user 1.79 s, sys: 67.6 ms, total: 1.86 s\n",
      "Wall time: 8.95 s\n"
     ]
    }
   ],
   "source": [
    "%%time\n",
    "# Warning, this one takes a while...\n",
    "result = js.groupby(lambda item: item['name']).starmap(lambda k, v: (k, len(v))).compute()\n",
    "print(sorted(result))"
   ]
  },
  {
   "cell_type": "code",
   "execution_count": 24,
   "metadata": {
    "execution": {
     "iopub.execute_input": "2020-10-30T02:11:27.590499Z",
     "iopub.status.busy": "2020-10-30T02:11:27.589534Z",
     "iopub.status.idle": "2020-10-30T02:11:28.202808Z",
     "shell.execute_reply": "2020-10-30T02:11:28.203301Z"
    }
   },
   "outputs": [
    {
     "name": "stdout",
     "output_type": "stream",
     "text": [
      "[('Alice', 450), ('Bob', 647), ('Charlie', 500), ('Dan', 570), ('Edith', 450), ('Frank', 300), ('George', 395), ('Hannah', 314), ('Ingrid', 400), ('Jerry', 597), ('Kevin', 147), ('Laura', 694), ('Michael', 446), ('Norbert', 395), ('Oliver', 650), ('Patricia', 443), ('Quinn', 717), ('Ray', 545), ('Sarah', 435), ('Tim', 300), ('Ursula', 499), ('Victor', 399), ('Wendy', 488), ('Xavier', 306), ('Yvonne', 714), ('Zelda', 447)]\n",
      "CPU times: user 157 ms, sys: 6.54 ms, total: 164 ms\n",
      "Wall time: 618 ms\n"
     ]
    }
   ],
   "source": [
    "%%time\n",
    "# This one is comparatively fast and produces the same result.\n",
    "from operator import add\n",
    "def incr(tot, _):\n",
    "    return tot+1\n",
    "\n",
    "result = js.foldby(key='name', \n",
    "                   binop=incr, \n",
    "                   initial=0, \n",
    "                   combine=add, \n",
    "                   combine_initial=0).compute()\n",
    "print(sorted(result))"
   ]
  },
  {
   "cell_type": "markdown",
   "metadata": {},
   "source": [
    "### Exercise: compute total amount per name"
   ]
  },
  {
   "cell_type": "markdown",
   "metadata": {},
   "source": [
    "We want to groupby (or foldby) the `name` key, then add up the all of the amounts for each name.\n",
    "\n",
    "Steps\n",
    "\n",
    "1.  Create a small function that, given a dictionary like \n",
    "\n",
    "        {'name': 'Alice', 'transactions': [{'amount': 1, 'id': 123}, {'amount': 2, 'id': 456}]}\n",
    "        \n",
    "    produces the sum of the amounts, e.g. `3`\n",
    "    \n",
    "2.  Slightly change the binary operator of the `foldby` example above so that the binary operator doesn't count the number of entries, but instead accumulates the sum of the amounts."
   ]
  },
  {
   "cell_type": "code",
   "execution_count": 25,
   "metadata": {
    "execution": {
     "iopub.execute_input": "2020-10-30T02:11:28.206784Z",
     "iopub.status.busy": "2020-10-30T02:11:28.206273Z",
     "iopub.status.idle": "2020-10-30T02:11:28.208356Z",
     "shell.execute_reply": "2020-10-30T02:11:28.208765Z"
    }
   },
   "outputs": [],
   "source": [
    "# Your code here..."
   ]
  },
  {
   "cell_type": "markdown",
   "metadata": {},
   "source": [
    "## DataFrames"
   ]
  },
  {
   "cell_type": "markdown",
   "metadata": {},
   "source": [
    "For the same reasons that Pandas is often faster than pure Python, `dask.dataframe` can be faster than `dask.bag`.  We will work more with DataFrames later, but from for the bag point of view, they are frequently the end-point of the \"messy\" part of data ingestion—once the data can be made into a data-frame, then complex split-apply-combine logic will become much more straight-forward and efficient.\n",
    "\n",
    "You can transform a bag with a simple tuple or flat dictionary structure into a `dask.dataframe` with the `to_dataframe` method."
   ]
  },
  {
   "cell_type": "code",
   "execution_count": 26,
   "metadata": {
    "execution": {
     "iopub.execute_input": "2020-10-30T02:11:28.212565Z",
     "iopub.status.busy": "2020-10-30T02:11:28.211936Z",
     "iopub.status.idle": "2020-10-30T02:11:28.817994Z",
     "shell.execute_reply": "2020-10-30T02:11:28.818805Z"
    }
   },
   "outputs": [
    {
     "data": {
      "text/html": [
       "<div>\n",
       "<style scoped>\n",
       "    .dataframe tbody tr th:only-of-type {\n",
       "        vertical-align: middle;\n",
       "    }\n",
       "\n",
       "    .dataframe tbody tr th {\n",
       "        vertical-align: top;\n",
       "    }\n",
       "\n",
       "    .dataframe thead th {\n",
       "        text-align: right;\n",
       "    }\n",
       "</style>\n",
       "<table border=\"1\" class=\"dataframe\">\n",
       "  <thead>\n",
       "    <tr style=\"text-align: right;\">\n",
       "      <th></th>\n",
       "      <th>id</th>\n",
       "      <th>name</th>\n",
       "      <th>transactions</th>\n",
       "    </tr>\n",
       "  </thead>\n",
       "  <tbody>\n",
       "    <tr>\n",
       "      <th>0</th>\n",
       "      <td>0</td>\n",
       "      <td>Wendy</td>\n",
       "      <td>[{'transaction-id': 398, 'amount': 358}, {'tra...</td>\n",
       "    </tr>\n",
       "    <tr>\n",
       "      <th>1</th>\n",
       "      <td>1</td>\n",
       "      <td>Laura</td>\n",
       "      <td>[{'transaction-id': 178, 'amount': -801}]</td>\n",
       "    </tr>\n",
       "    <tr>\n",
       "      <th>2</th>\n",
       "      <td>2</td>\n",
       "      <td>Dan</td>\n",
       "      <td>[{'transaction-id': 34, 'amount': 322}, {'tran...</td>\n",
       "    </tr>\n",
       "    <tr>\n",
       "      <th>3</th>\n",
       "      <td>3</td>\n",
       "      <td>Sarah</td>\n",
       "      <td>[{'transaction-id': 315, 'amount': 170}, {'tra...</td>\n",
       "    </tr>\n",
       "    <tr>\n",
       "      <th>4</th>\n",
       "      <td>4</td>\n",
       "      <td>Michael</td>\n",
       "      <td>[{'transaction-id': 43, 'amount': 493}, {'tran...</td>\n",
       "    </tr>\n",
       "  </tbody>\n",
       "</table>\n",
       "</div>"
      ],
      "text/plain": [
       "   id     name                                       transactions\n",
       "0   0    Wendy  [{'transaction-id': 398, 'amount': 358}, {'tra...\n",
       "1   1    Laura          [{'transaction-id': 178, 'amount': -801}]\n",
       "2   2      Dan  [{'transaction-id': 34, 'amount': 322}, {'tran...\n",
       "3   3    Sarah  [{'transaction-id': 315, 'amount': 170}, {'tra...\n",
       "4   4  Michael  [{'transaction-id': 43, 'amount': 493}, {'tran..."
      ]
     },
     "execution_count": 1,
     "metadata": {},
     "output_type": "execute_result"
    }
   ],
   "source": [
    "df1 = js.to_dataframe()\n",
    "df1.head()"
   ]
  },
  {
   "cell_type": "markdown",
   "metadata": {},
   "source": [
    "This now looks like a well-defined DataFrame, and we can apply Pandas-like computations to it efficiently."
   ]
  },
  {
   "cell_type": "markdown",
   "metadata": {},
   "source": [
    "Using a Dask DataFrame, how long does it take to do our prior computation of numbers of people with the same name?  It turns out that `dask.dataframe.groupby()` beats `dask.bag.groupby()` more than an order of magnitude; but it still cannot match `dask.bag.foldby()` for this case."
   ]
  },
  {
   "cell_type": "code",
   "execution_count": 27,
   "metadata": {
    "execution": {
     "iopub.execute_input": "2020-10-30T02:11:28.834427Z",
     "iopub.status.busy": "2020-10-30T02:11:28.832477Z",
     "iopub.status.idle": "2020-10-30T02:11:30.633547Z",
     "shell.execute_reply": "2020-10-30T02:11:30.633191Z"
    }
   },
   "outputs": [
    {
     "name": "stdout",
     "output_type": "stream",
     "text": [
      "CPU times: user 212 ms, sys: 30 ms, total: 242 ms\n",
      "Wall time: 1.8 s\n"
     ]
    },
    {
     "data": {
      "text/plain": [
       "name\n",
       "Alice      450\n",
       "Bob        647\n",
       "Charlie    500\n",
       "Dan        570\n",
       "Edith      450\n",
       "Name: id, dtype: int64"
      ]
     },
     "execution_count": 1,
     "metadata": {},
     "output_type": "execute_result"
    }
   ],
   "source": [
    "%time df1.groupby('name').id.count().compute().head()"
   ]
  },
  {
   "cell_type": "markdown",
   "metadata": {},
   "source": [
    "### Denormalization"
   ]
  },
  {
   "cell_type": "markdown",
   "metadata": {},
   "source": [
    "This DataFrame format is less-than-optimal because the `transactions` column is filled with nested data so Pandas has to revert to `object` dtype, which is quite slow in Pandas.  Ideally we want to transform to a dataframe only after we have flattened our data so that each record is a single `int`, `string`, `float`, etc.."
   ]
  },
  {
   "cell_type": "code",
   "execution_count": 28,
   "metadata": {
    "execution": {
     "iopub.execute_input": "2020-10-30T02:11:30.639626Z",
     "iopub.status.busy": "2020-10-30T02:11:30.635695Z",
     "iopub.status.idle": "2020-10-30T02:11:30.657676Z",
     "shell.execute_reply": "2020-10-30T02:11:30.657209Z"
    }
   },
   "outputs": [
    {
     "data": {
      "text/plain": [
       "({'id': 0, 'name': 'Wendy', 'amount': 358, 'transaction-id': 398},\n",
       " {'id': 0, 'name': 'Wendy', 'amount': 352, 'transaction-id': 1224},\n",
       " {'id': 0, 'name': 'Wendy', 'amount': 387, 'transaction-id': 3190})"
      ]
     },
     "execution_count": 1,
     "metadata": {},
     "output_type": "execute_result"
    }
   ],
   "source": [
    "def denormalize(record):\n",
    "    # returns a list for every nested item, each transaction of each person\n",
    "    return [{'id': record['id'], \n",
    "             'name': record['name'], \n",
    "             'amount': transaction['amount'], \n",
    "             'transaction-id': transaction['transaction-id']}\n",
    "            for transaction in record['transactions']]\n",
    "\n",
    "transactions = js.map(denormalize).flatten()\n",
    "transactions.take(3)"
   ]
  },
  {
   "cell_type": "code",
   "execution_count": 29,
   "metadata": {
    "execution": {
     "iopub.execute_input": "2020-10-30T02:11:30.662939Z",
     "iopub.status.busy": "2020-10-30T02:11:30.661789Z",
     "iopub.status.idle": "2020-10-30T02:11:30.740722Z",
     "shell.execute_reply": "2020-10-30T02:11:30.741532Z"
    }
   },
   "outputs": [
    {
     "data": {
      "text/html": [
       "<div>\n",
       "<style scoped>\n",
       "    .dataframe tbody tr th:only-of-type {\n",
       "        vertical-align: middle;\n",
       "    }\n",
       "\n",
       "    .dataframe tbody tr th {\n",
       "        vertical-align: top;\n",
       "    }\n",
       "\n",
       "    .dataframe thead th {\n",
       "        text-align: right;\n",
       "    }\n",
       "</style>\n",
       "<table border=\"1\" class=\"dataframe\">\n",
       "  <thead>\n",
       "    <tr style=\"text-align: right;\">\n",
       "      <th></th>\n",
       "      <th>id</th>\n",
       "      <th>name</th>\n",
       "      <th>amount</th>\n",
       "      <th>transaction-id</th>\n",
       "    </tr>\n",
       "  </thead>\n",
       "  <tbody>\n",
       "    <tr>\n",
       "      <th>0</th>\n",
       "      <td>0</td>\n",
       "      <td>Wendy</td>\n",
       "      <td>358</td>\n",
       "      <td>398</td>\n",
       "    </tr>\n",
       "    <tr>\n",
       "      <th>1</th>\n",
       "      <td>0</td>\n",
       "      <td>Wendy</td>\n",
       "      <td>352</td>\n",
       "      <td>1224</td>\n",
       "    </tr>\n",
       "    <tr>\n",
       "      <th>2</th>\n",
       "      <td>0</td>\n",
       "      <td>Wendy</td>\n",
       "      <td>387</td>\n",
       "      <td>3190</td>\n",
       "    </tr>\n",
       "    <tr>\n",
       "      <th>3</th>\n",
       "      <td>0</td>\n",
       "      <td>Wendy</td>\n",
       "      <td>457</td>\n",
       "      <td>4278</td>\n",
       "    </tr>\n",
       "    <tr>\n",
       "      <th>4</th>\n",
       "      <td>0</td>\n",
       "      <td>Wendy</td>\n",
       "      <td>359</td>\n",
       "      <td>5528</td>\n",
       "    </tr>\n",
       "  </tbody>\n",
       "</table>\n",
       "</div>"
      ],
      "text/plain": [
       "   id   name  amount  transaction-id\n",
       "0   0  Wendy     358             398\n",
       "1   0  Wendy     352            1224\n",
       "2   0  Wendy     387            3190\n",
       "3   0  Wendy     457            4278\n",
       "4   0  Wendy     359            5528"
      ]
     },
     "execution_count": 1,
     "metadata": {},
     "output_type": "execute_result"
    }
   ],
   "source": [
    "df = transactions.to_dataframe()\n",
    "df.head()"
   ]
  },
  {
   "cell_type": "code",
   "execution_count": 30,
   "metadata": {
    "execution": {
     "iopub.execute_input": "2020-10-30T02:11:30.758569Z",
     "iopub.status.busy": "2020-10-30T02:11:30.747507Z",
     "iopub.status.idle": "2020-10-30T02:11:32.275777Z",
     "shell.execute_reply": "2020-10-30T02:11:32.276309Z"
    }
   },
   "outputs": [
    {
     "name": "stdout",
     "output_type": "stream",
     "text": [
      "CPU times: user 216 ms, sys: 15.4 ms, total: 231 ms\n",
      "Wall time: 1.52 s\n"
     ]
    },
    {
     "data": {
      "text/plain": [
       "name\n",
       "Alice       27611\n",
       "Bob         35155\n",
       "Charlie     22428\n",
       "Dan         29267\n",
       "Edith       12102\n",
       "Frank       16760\n",
       "George      10596\n",
       "Hannah      12391\n",
       "Ingrid      21238\n",
       "Jerry       35879\n",
       "Kevin        3735\n",
       "Laura       29613\n",
       "Michael     17700\n",
       "Norbert     16357\n",
       "Oliver      30444\n",
       "Patricia     9675\n",
       "Quinn       18801\n",
       "Ray         15502\n",
       "Sarah       18659\n",
       "Tim         15555\n",
       "Ursula      14860\n",
       "Victor      13293\n",
       "Wendy       14041\n",
       "Xavier      13891\n",
       "Yvonne      31469\n",
       "Zelda       12978\n",
       "Name: transaction-id, dtype: int64"
      ]
     },
     "execution_count": 1,
     "metadata": {},
     "output_type": "execute_result"
    }
   ],
   "source": [
    "%%time\n",
    "# number of transactions per name\n",
    "# note that the time here includes the data load and ingestion\n",
    "df.groupby('name')['transaction-id'].count().compute()"
   ]
  },
  {
   "cell_type": "markdown",
   "metadata": {},
   "source": [
    "## Limitations"
   ]
  },
  {
   "cell_type": "markdown",
   "metadata": {},
   "source": [
    "Bags provide very general computation (any Python function.)  This generality\n",
    "comes at cost.  Bags have the following known limitations\n",
    "\n",
    "1.  Bag operations tend to be slower than array/dataframe computations in the\n",
    "    same way that Python tends to be slower than NumPy/Pandas\n",
    "2.  ``Bag.groupby`` is slow.  You should try to use ``Bag.foldby`` if possible.\n",
    "    Using ``Bag.foldby`` requires more thought. Even better, consider creating\n",
    "    a normalised dataframe."
   ]
  },
  {
   "cell_type": "markdown",
   "metadata": {},
   "source": [
    "## Learn More\n",
    "\n",
    "* [Bag documentation](https://docs.dask.org/en/latest/bag.html)\n",
    "* [Bag screencast](https://youtu.be/-qIiJ1XtSv0)\n",
    "* [Bag API](https://docs.dask.org/en/latest/bag-api.html)\n",
    "* [Bag examples](https://examples.dask.org/bag.html)"
   ]
  },
  {
   "cell_type": "markdown",
   "metadata": {},
   "source": [
    "## Shutdown"
   ]
  },
  {
   "cell_type": "code",
   "execution_count": 31,
   "metadata": {
    "execution": {
     "iopub.execute_input": "2020-10-30T02:11:32.281215Z",
     "iopub.status.busy": "2020-10-30T02:11:32.280541Z",
     "iopub.status.idle": "2020-10-30T02:11:33.916970Z",
     "shell.execute_reply": "2020-10-30T02:11:33.916538Z"
    }
   },
   "outputs": [],
   "source": [
    "client.shutdown()"
   ]
  }
 ],
 "metadata": {
  "anaconda-cloud": {},
  "kernelspec": {
   "display_name": "Python 3",
   "language": "python",
   "name": "python3"
  },
  "language_info": {
   "codemirror_mode": {
    "name": "ipython",
    "version": 3
   },
   "file_extension": ".py",
   "mimetype": "text/x-python",
   "name": "python",
   "nbconvert_exporter": "python",
   "pygments_lexer": "ipython3",
   "version": "3.8.6"
  }
 },
 "nbformat": 4,
 "nbformat_minor": 4
}
