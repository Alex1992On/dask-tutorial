{
 "cells": [
  {
   "cell_type": "markdown",
   "metadata": {},
   "source": [
    "<img src=\"images/dask_horizontal.svg\" align=\"right\" width=\"30%\">"
   ]
  },
  {
   "cell_type": "markdown",
   "metadata": {},
   "source": [
    "# Bag: Parallel Lists for semi-structured data"
   ]
  },
  {
   "cell_type": "markdown",
   "metadata": {},
   "source": [
    "Dask-bag excels in processing data that can be represented as a sequence of arbitrary inputs. We'll refer to this as \"messy\" data, because it can contain complex nested structures, missing fields, mixtures of data types, etc. The *functional* programming style fits very nicely with standard Python iteration, such as can be found in the `itertools` module.\n",
    "\n",
    "Messy data is often encountered at the beginning of data processing pipelines when large volumes of raw data are first consumed. The initial set of data might be JSON, CSV, XML, or any other format that does not enforce strict structure and datatypes.\n",
    "For this reason, the initial data massaging and processing is often done with Python `list`s, `dict`s, and `set`s.\n",
    "\n",
    "These core data structures are optimized for general-purpose storage and processing.  Adding streaming computation with iterators/generator expressions or libraries like `itertools` or [`toolz`](https://toolz.readthedocs.io/en/latest/) let us process large volumes in a small space.  If we combine this with parallel processing then we can churn through a fair amount of data.\n",
    "\n",
    "Dask.bag is a high level Dask collection to automate common workloads of this form.  In a nutshell\n",
    "\n",
    "    dask.bag = map, filter, toolz + parallel execution\n",
    "    \n",
    "**Related Documentation**\n",
    "\n",
    "* [Bag documentation](https://docs.dask.org/en/latest/bag.html)\n",
    "* [Bag screencast](https://youtu.be/-qIiJ1XtSv0)\n",
    "* [Bag API](https://docs.dask.org/en/latest/bag-api.html)\n",
    "* [Bag examples](https://examples.dask.org/bag.html)"
   ]
  },
  {
   "cell_type": "markdown",
   "metadata": {},
   "source": [
    "## Create data"
   ]
  },
  {
   "cell_type": "code",
   "execution_count": 1,
   "metadata": {},
   "outputs": [],
   "source": [
    "%run prep.py -d accounts"
   ]
  },
  {
   "cell_type": "markdown",
   "metadata": {},
   "source": [
    "## Setup"
   ]
  },
  {
   "cell_type": "markdown",
   "metadata": {},
   "source": [
    "Again, we'll use the distributed scheduler. Schedulers will be explained in depth [later](05_distributed.ipynb)."
   ]
  },
  {
   "cell_type": "code",
   "execution_count": 2,
   "metadata": {},
   "outputs": [],
   "source": [
    "from dask.distributed import Client\n",
    "\n",
    "client = Client(n_workers=4)"
   ]
  },
  {
   "cell_type": "markdown",
   "metadata": {},
   "source": [
    "## Creation"
   ]
  },
  {
   "cell_type": "markdown",
   "metadata": {},
   "source": [
    "You can create a `Bag` from a Python sequence, from files, from data on S3, etc.\n",
    "We demonstrate using `.take()` to show elements of the data. (Doing `.take(1)` results in a tuple with one element)\n",
    "\n",
    "Note that the data are partitioned into blocks, and there are many items per block. In the first example, the two partitions contain five elements each, and in the following two, each file is partitioned into one or more bytes blocks."
   ]
  },
  {
   "cell_type": "code",
   "execution_count": 3,
   "metadata": {},
   "outputs": [
    {
     "data": {
      "text/plain": [
       "(1, 2, 3)"
      ]
     },
     "execution_count": 3,
     "metadata": {},
     "output_type": "execute_result"
    }
   ],
   "source": [
    "# each element is an integer\n",
    "import dask.bag as db\n",
    "b = db.from_sequence([1, 2, 3, 4, 5, 6, 7, 8, 9, 10], npartitions=2)\n",
    "b.take(3)"
   ]
  },
  {
   "cell_type": "code",
   "execution_count": 4,
   "metadata": {},
   "outputs": [
    {
     "data": {
      "text/plain": [
       "('{\"id\": 0, \"name\": \"Xavier\", \"transactions\": [{\"transaction-id\": 467, \"amount\": 2694}, {\"transaction-id\": 511, \"amount\": 2376}, {\"transaction-id\": 810, \"amount\": 2550}, {\"transaction-id\": 1448, \"amount\": 2647}, {\"transaction-id\": 1580, \"amount\": 2370}, {\"transaction-id\": 1692, \"amount\": 2548}, {\"transaction-id\": 1913, \"amount\": 2576}, {\"transaction-id\": 2127, \"amount\": 2560}, {\"transaction-id\": 2489, \"amount\": 2389}, {\"transaction-id\": 2709, \"amount\": 2490}, {\"transaction-id\": 3032, \"amount\": 2399}, {\"transaction-id\": 3141, \"amount\": 2159}, {\"transaction-id\": 3542, \"amount\": 2450}, {\"transaction-id\": 3562, \"amount\": 2320}, {\"transaction-id\": 3773, \"amount\": 2648}, {\"transaction-id\": 3942, \"amount\": 2601}, {\"transaction-id\": 4024, \"amount\": 2543}, {\"transaction-id\": 4443, \"amount\": 2366}, {\"transaction-id\": 4556, \"amount\": 2628}, {\"transaction-id\": 4669, \"amount\": 2753}, {\"transaction-id\": 4777, \"amount\": 2350}, {\"transaction-id\": 4844, \"amount\": 2447}, {\"transaction-id\": 5141, \"amount\": 2518}, {\"transaction-id\": 5143, \"amount\": 2217}, {\"transaction-id\": 5506, \"amount\": 2453}, {\"transaction-id\": 5565, \"amount\": 2461}, {\"transaction-id\": 5841, \"amount\": 2315}, {\"transaction-id\": 6126, \"amount\": 2643}, {\"transaction-id\": 6582, \"amount\": 2465}, {\"transaction-id\": 6659, \"amount\": 2304}, {\"transaction-id\": 7170, \"amount\": 2522}, {\"transaction-id\": 7684, \"amount\": 2355}, {\"transaction-id\": 7762, \"amount\": 2402}, {\"transaction-id\": 8143, \"amount\": 2501}, {\"transaction-id\": 8249, \"amount\": 2391}, {\"transaction-id\": 8329, \"amount\": 2572}, {\"transaction-id\": 9031, \"amount\": 2323}, {\"transaction-id\": 9261, \"amount\": 2410}, {\"transaction-id\": 9771, \"amount\": 2427}]}\\n',)"
      ]
     },
     "execution_count": 4,
     "metadata": {},
     "output_type": "execute_result"
    }
   ],
   "source": [
    "# each element is a text file, where each line is a JSON object\n",
    "# note that the compression is handled automatically\n",
    "import os\n",
    "b = db.read_text(os.path.join('data', 'accounts.*.json.gz'))\n",
    "b.take(1)"
   ]
  },
  {
   "cell_type": "code",
   "execution_count": 5,
   "metadata": {},
   "outputs": [
    {
     "data": {
      "text/plain": [
       "('VendorID,tpep_pickup_datetime,tpep_dropoff_datetime,passenger_count,trip_distance,pickup_longitude,pickup_latitude,RateCodeID,store_and_fwd_flag,dropoff_longitude,dropoff_latitude,payment_type,fare_amount,extra,mta_tax,tip_amount,tolls_amount,improvement_surcharge,total_amount\\n',)"
      ]
     },
     "execution_count": 5,
     "metadata": {},
     "output_type": "execute_result"
    }
   ],
   "source": [
    "# Requires `s3fs` library\n",
    "# each partition is a remote CSV text file\n",
    "b = db.read_text('s3://dask-data/nyc-taxi/2015/yellow_tripdata_2015-01.csv',\n",
    "                 storage_options={'anon': True})\n",
    "b.take(1)"
   ]
  },
  {
   "cell_type": "markdown",
   "metadata": {},
   "source": [
    "## Manipulation"
   ]
  },
  {
   "cell_type": "markdown",
   "metadata": {},
   "source": [
    "`Bag` objects hold the standard functional API found in projects like the Python standard library, `toolz`, or `pyspark`, including `map`, `filter`, `groupby`, etc..\n",
    "\n",
    "Operations on `Bag` objects create new bags.  Call the `.compute()` method to trigger execution, as we saw for `Delayed` objects.  "
   ]
  },
  {
   "cell_type": "code",
   "execution_count": 6,
   "metadata": {},
   "outputs": [
    {
     "data": {
      "text/plain": [
       "dask.bag<lambda, npartitions=10>"
      ]
     },
     "execution_count": 6,
     "metadata": {},
     "output_type": "execute_result"
    }
   ],
   "source": [
    "def is_even(n):\n",
    "    return n % 2 == 0\n",
    "\n",
    "b = db.from_sequence([1, 2, 3, 4, 5, 6, 7, 8, 9, 10])\n",
    "c = b.filter(is_even).map(lambda x: x ** 2)\n",
    "c"
   ]
  },
  {
   "cell_type": "code",
   "execution_count": 7,
   "metadata": {},
   "outputs": [
    {
     "data": {
      "text/plain": [
       "[4, 16, 36, 64, 100]"
      ]
     },
     "execution_count": 7,
     "metadata": {},
     "output_type": "execute_result"
    }
   ],
   "source": [
    "# blocking form: wait for completion (which is very fast in this case)\n",
    "c.compute()"
   ]
  },
  {
   "cell_type": "markdown",
   "metadata": {},
   "source": [
    "### Example: Accounts JSON data"
   ]
  },
  {
   "cell_type": "markdown",
   "metadata": {},
   "source": [
    "We've created a fake dataset of gzipped JSON data in your data directory.  This is like the example used in the `DataFrame` example we will see later, except that it has bundled up all of the entires for each individual `id` into a single record.  This is similar to data that you might collect off of a document store database or a web API.\n",
    "\n",
    "Each line is a JSON encoded dictionary with the following keys\n",
    "\n",
    "*  id: Unique identifier of the customer\n",
    "*  name: Name of the customer\n",
    "*  transactions: List of `transaction-id`, `amount` pairs, one for each transaction for the customer in that file"
   ]
  },
  {
   "cell_type": "code",
   "execution_count": 8,
   "metadata": {},
   "outputs": [
    {
     "data": {
      "text/plain": [
       "('{\"id\": 0, \"name\": \"Xavier\", \"transactions\": [{\"transaction-id\": 467, \"amount\": 2694}, {\"transaction-id\": 511, \"amount\": 2376}, {\"transaction-id\": 810, \"amount\": 2550}, {\"transaction-id\": 1448, \"amount\": 2647}, {\"transaction-id\": 1580, \"amount\": 2370}, {\"transaction-id\": 1692, \"amount\": 2548}, {\"transaction-id\": 1913, \"amount\": 2576}, {\"transaction-id\": 2127, \"amount\": 2560}, {\"transaction-id\": 2489, \"amount\": 2389}, {\"transaction-id\": 2709, \"amount\": 2490}, {\"transaction-id\": 3032, \"amount\": 2399}, {\"transaction-id\": 3141, \"amount\": 2159}, {\"transaction-id\": 3542, \"amount\": 2450}, {\"transaction-id\": 3562, \"amount\": 2320}, {\"transaction-id\": 3773, \"amount\": 2648}, {\"transaction-id\": 3942, \"amount\": 2601}, {\"transaction-id\": 4024, \"amount\": 2543}, {\"transaction-id\": 4443, \"amount\": 2366}, {\"transaction-id\": 4556, \"amount\": 2628}, {\"transaction-id\": 4669, \"amount\": 2753}, {\"transaction-id\": 4777, \"amount\": 2350}, {\"transaction-id\": 4844, \"amount\": 2447}, {\"transaction-id\": 5141, \"amount\": 2518}, {\"transaction-id\": 5143, \"amount\": 2217}, {\"transaction-id\": 5506, \"amount\": 2453}, {\"transaction-id\": 5565, \"amount\": 2461}, {\"transaction-id\": 5841, \"amount\": 2315}, {\"transaction-id\": 6126, \"amount\": 2643}, {\"transaction-id\": 6582, \"amount\": 2465}, {\"transaction-id\": 6659, \"amount\": 2304}, {\"transaction-id\": 7170, \"amount\": 2522}, {\"transaction-id\": 7684, \"amount\": 2355}, {\"transaction-id\": 7762, \"amount\": 2402}, {\"transaction-id\": 8143, \"amount\": 2501}, {\"transaction-id\": 8249, \"amount\": 2391}, {\"transaction-id\": 8329, \"amount\": 2572}, {\"transaction-id\": 9031, \"amount\": 2323}, {\"transaction-id\": 9261, \"amount\": 2410}, {\"transaction-id\": 9771, \"amount\": 2427}]}\\n',\n",
       " '{\"id\": 1, \"name\": \"Xavier\", \"transactions\": [{\"transaction-id\": 212, \"amount\": 3673}, {\"transaction-id\": 339, \"amount\": 3035}, {\"transaction-id\": 879, \"amount\": 2860}, {\"transaction-id\": 1466, \"amount\": 3046}, {\"transaction-id\": 2424, \"amount\": 3865}, {\"transaction-id\": 2520, \"amount\": 3435}, {\"transaction-id\": 2673, \"amount\": 2380}, {\"transaction-id\": 3892, \"amount\": 2552}, {\"transaction-id\": 4544, \"amount\": 3504}, {\"transaction-id\": 5450, \"amount\": 3369}, {\"transaction-id\": 5472, \"amount\": 2963}, {\"transaction-id\": 7442, \"amount\": 3315}, {\"transaction-id\": 7886, \"amount\": 3102}, {\"transaction-id\": 9041, \"amount\": 3341}, {\"transaction-id\": 9117, \"amount\": 3097}, {\"transaction-id\": 9141, \"amount\": 3673}, {\"transaction-id\": 9568, \"amount\": 3501}, {\"transaction-id\": 9622, \"amount\": 2537}]}\\n',\n",
       " '{\"id\": 2, \"name\": \"Ursula\", \"transactions\": [{\"transaction-id\": 5, \"amount\": -299}, {\"transaction-id\": 31, \"amount\": -351}, {\"transaction-id\": 62, \"amount\": -560}, {\"transaction-id\": 152, \"amount\": -238}, {\"transaction-id\": 184, \"amount\": -144}, {\"transaction-id\": 216, \"amount\": -137}, {\"transaction-id\": 455, \"amount\": -452}, {\"transaction-id\": 461, \"amount\": -186}, {\"transaction-id\": 463, \"amount\": -357}, {\"transaction-id\": 503, \"amount\": -454}, {\"transaction-id\": 515, \"amount\": -314}, {\"transaction-id\": 623, \"amount\": -800}, {\"transaction-id\": 647, \"amount\": -298}, {\"transaction-id\": 723, \"amount\": -332}, {\"transaction-id\": 821, \"amount\": -283}, {\"transaction-id\": 995, \"amount\": -50}, {\"transaction-id\": 1333, \"amount\": -386}, {\"transaction-id\": 1453, \"amount\": -142}, {\"transaction-id\": 1509, \"amount\": -274}, {\"transaction-id\": 1626, \"amount\": -648}, {\"transaction-id\": 1770, \"amount\": -227}, {\"transaction-id\": 1791, \"amount\": -479}, {\"transaction-id\": 1832, \"amount\": -457}, {\"transaction-id\": 1835, \"amount\": -328}, {\"transaction-id\": 1899, \"amount\": -311}, {\"transaction-id\": 1975, \"amount\": -362}, {\"transaction-id\": 1979, \"amount\": -179}, {\"transaction-id\": 2054, \"amount\": -193}, {\"transaction-id\": 2093, \"amount\": -332}, {\"transaction-id\": 2242, \"amount\": -423}, {\"transaction-id\": 2251, \"amount\": -189}, {\"transaction-id\": 2257, \"amount\": -400}, {\"transaction-id\": 2411, \"amount\": -497}, {\"transaction-id\": 2599, \"amount\": -464}, {\"transaction-id\": 2657, \"amount\": -245}, {\"transaction-id\": 2720, \"amount\": -281}, {\"transaction-id\": 2723, \"amount\": -445}, {\"transaction-id\": 2814, \"amount\": -352}, {\"transaction-id\": 2953, \"amount\": -399}, {\"transaction-id\": 2967, \"amount\": -153}, {\"transaction-id\": 3019, \"amount\": -93}, {\"transaction-id\": 3071, \"amount\": -357}, {\"transaction-id\": 3135, \"amount\": -260}, {\"transaction-id\": 3172, \"amount\": -352}, {\"transaction-id\": 3192, \"amount\": -400}, {\"transaction-id\": 3259, \"amount\": -507}, {\"transaction-id\": 3331, \"amount\": -79}, {\"transaction-id\": 3344, \"amount\": -341}, {\"transaction-id\": 3440, \"amount\": -135}, {\"transaction-id\": 3481, \"amount\": -410}, {\"transaction-id\": 3493, \"amount\": -188}, {\"transaction-id\": 3498, \"amount\": -385}, {\"transaction-id\": 3541, \"amount\": -529}, {\"transaction-id\": 3596, \"amount\": -343}, {\"transaction-id\": 3597, \"amount\": -293}, {\"transaction-id\": 3662, \"amount\": -256}, {\"transaction-id\": 3682, \"amount\": -357}, {\"transaction-id\": 3733, \"amount\": -358}, {\"transaction-id\": 3801, \"amount\": -152}, {\"transaction-id\": 3834, \"amount\": -377}, {\"transaction-id\": 3937, \"amount\": -114}, {\"transaction-id\": 3940, \"amount\": -361}, {\"transaction-id\": 3970, \"amount\": -381}, {\"transaction-id\": 4058, \"amount\": -335}, {\"transaction-id\": 4087, \"amount\": -150}, {\"transaction-id\": 4108, \"amount\": -50}, {\"transaction-id\": 4136, \"amount\": -267}, {\"transaction-id\": 4280, \"amount\": -378}, {\"transaction-id\": 4296, \"amount\": -621}, {\"transaction-id\": 4308, \"amount\": -289}, {\"transaction-id\": 4393, \"amount\": -231}, {\"transaction-id\": 4428, \"amount\": -376}, {\"transaction-id\": 4451, \"amount\": -359}, {\"transaction-id\": 4485, \"amount\": -242}, {\"transaction-id\": 4508, \"amount\": -80}, {\"transaction-id\": 4594, \"amount\": -228}, {\"transaction-id\": 4629, \"amount\": -246}, {\"transaction-id\": 4829, \"amount\": -473}, {\"transaction-id\": 4873, \"amount\": -374}, {\"transaction-id\": 4987, \"amount\": -434}, {\"transaction-id\": 5010, \"amount\": -374}, {\"transaction-id\": 5022, \"amount\": -417}, {\"transaction-id\": 5150, \"amount\": -365}, {\"transaction-id\": 5157, \"amount\": -274}, {\"transaction-id\": 5336, \"amount\": -498}, {\"transaction-id\": 5357, \"amount\": -389}, {\"transaction-id\": 5365, \"amount\": -544}, {\"transaction-id\": 5399, \"amount\": -160}, {\"transaction-id\": 5629, \"amount\": -493}, {\"transaction-id\": 5679, \"amount\": -102}, {\"transaction-id\": 5808, \"amount\": -328}, {\"transaction-id\": 5847, \"amount\": -543}, {\"transaction-id\": 6147, \"amount\": -383}, {\"transaction-id\": 6395, \"amount\": -326}, {\"transaction-id\": 6416, \"amount\": -483}, {\"transaction-id\": 6451, \"amount\": -335}, {\"transaction-id\": 6525, \"amount\": -239}, {\"transaction-id\": 6573, \"amount\": -308}, {\"transaction-id\": 6624, \"amount\": -598}, {\"transaction-id\": 6678, \"amount\": -321}, {\"transaction-id\": 6715, \"amount\": -412}, {\"transaction-id\": 6716, \"amount\": -283}, {\"transaction-id\": 6723, \"amount\": -396}, {\"transaction-id\": 6793, \"amount\": -354}, {\"transaction-id\": 6903, \"amount\": -473}, {\"transaction-id\": 6907, \"amount\": -304}, {\"transaction-id\": 7015, \"amount\": -604}, {\"transaction-id\": 7256, \"amount\": -347}, {\"transaction-id\": 7299, \"amount\": -767}, {\"transaction-id\": 7423, \"amount\": -190}, {\"transaction-id\": 7621, \"amount\": -372}, {\"transaction-id\": 7757, \"amount\": -300}, {\"transaction-id\": 7772, \"amount\": -459}, {\"transaction-id\": 7788, \"amount\": -191}, {\"transaction-id\": 7799, \"amount\": -298}, {\"transaction-id\": 7842, \"amount\": -298}, {\"transaction-id\": 7863, \"amount\": -322}, {\"transaction-id\": 7898, \"amount\": -388}, {\"transaction-id\": 7907, \"amount\": -349}, {\"transaction-id\": 7919, \"amount\": -384}, {\"transaction-id\": 7975, \"amount\": -557}, {\"transaction-id\": 7978, \"amount\": -332}, {\"transaction-id\": 8034, \"amount\": -246}, {\"transaction-id\": 8094, \"amount\": -293}, {\"transaction-id\": 8178, \"amount\": -361}, {\"transaction-id\": 8239, \"amount\": -220}, {\"transaction-id\": 8262, \"amount\": -297}, {\"transaction-id\": 8291, \"amount\": -355}, {\"transaction-id\": 8333, \"amount\": -388}, {\"transaction-id\": 8491, \"amount\": -448}, {\"transaction-id\": 8550, \"amount\": -272}, {\"transaction-id\": 8651, \"amount\": -334}, {\"transaction-id\": 8679, \"amount\": -359}, {\"transaction-id\": 8743, \"amount\": -388}, {\"transaction-id\": 8752, \"amount\": -524}, {\"transaction-id\": 8753, \"amount\": -389}, {\"transaction-id\": 8757, \"amount\": -79}, {\"transaction-id\": 8823, \"amount\": -613}, {\"transaction-id\": 8930, \"amount\": -337}, {\"transaction-id\": 9026, \"amount\": -378}, {\"transaction-id\": 9139, \"amount\": -409}, {\"transaction-id\": 9210, \"amount\": 41}, {\"transaction-id\": 9277, \"amount\": 3}, {\"transaction-id\": 9318, \"amount\": 34}, {\"transaction-id\": 9484, \"amount\": -463}, {\"transaction-id\": 9510, \"amount\": -504}, {\"transaction-id\": 9537, \"amount\": -242}, {\"transaction-id\": 9562, \"amount\": -361}, {\"transaction-id\": 9685, \"amount\": -378}, {\"transaction-id\": 9816, \"amount\": -182}, {\"transaction-id\": 9824, \"amount\": -347}, {\"transaction-id\": 9860, \"amount\": -95}, {\"transaction-id\": 9918, \"amount\": -510}, {\"transaction-id\": 9961, \"amount\": -180}, {\"transaction-id\": 9965, \"amount\": -304}, {\"transaction-id\": 9973, \"amount\": -207}]}\\n')"
      ]
     },
     "execution_count": 8,
     "metadata": {},
     "output_type": "execute_result"
    }
   ],
   "source": [
    "filename = os.path.join('data', 'accounts.*.json.gz')\n",
    "lines = db.read_text(filename)\n",
    "lines.take(3)"
   ]
  },
  {
   "cell_type": "markdown",
   "metadata": {},
   "source": [
    "Our data comes out of the file as lines of text. Notice that file decompression happened automatically. We can make this data look more reasonable by mapping the `json.loads` function onto our bag."
   ]
  },
  {
   "cell_type": "code",
   "execution_count": 9,
   "metadata": {},
   "outputs": [
    {
     "data": {
      "text/plain": [
       "({'id': 0,\n",
       "  'name': 'Xavier',\n",
       "  'transactions': [{'transaction-id': 467, 'amount': 2694},\n",
       "   {'transaction-id': 511, 'amount': 2376},\n",
       "   {'transaction-id': 810, 'amount': 2550},\n",
       "   {'transaction-id': 1448, 'amount': 2647},\n",
       "   {'transaction-id': 1580, 'amount': 2370},\n",
       "   {'transaction-id': 1692, 'amount': 2548},\n",
       "   {'transaction-id': 1913, 'amount': 2576},\n",
       "   {'transaction-id': 2127, 'amount': 2560},\n",
       "   {'transaction-id': 2489, 'amount': 2389},\n",
       "   {'transaction-id': 2709, 'amount': 2490},\n",
       "   {'transaction-id': 3032, 'amount': 2399},\n",
       "   {'transaction-id': 3141, 'amount': 2159},\n",
       "   {'transaction-id': 3542, 'amount': 2450},\n",
       "   {'transaction-id': 3562, 'amount': 2320},\n",
       "   {'transaction-id': 3773, 'amount': 2648},\n",
       "   {'transaction-id': 3942, 'amount': 2601},\n",
       "   {'transaction-id': 4024, 'amount': 2543},\n",
       "   {'transaction-id': 4443, 'amount': 2366},\n",
       "   {'transaction-id': 4556, 'amount': 2628},\n",
       "   {'transaction-id': 4669, 'amount': 2753},\n",
       "   {'transaction-id': 4777, 'amount': 2350},\n",
       "   {'transaction-id': 4844, 'amount': 2447},\n",
       "   {'transaction-id': 5141, 'amount': 2518},\n",
       "   {'transaction-id': 5143, 'amount': 2217},\n",
       "   {'transaction-id': 5506, 'amount': 2453},\n",
       "   {'transaction-id': 5565, 'amount': 2461},\n",
       "   {'transaction-id': 5841, 'amount': 2315},\n",
       "   {'transaction-id': 6126, 'amount': 2643},\n",
       "   {'transaction-id': 6582, 'amount': 2465},\n",
       "   {'transaction-id': 6659, 'amount': 2304},\n",
       "   {'transaction-id': 7170, 'amount': 2522},\n",
       "   {'transaction-id': 7684, 'amount': 2355},\n",
       "   {'transaction-id': 7762, 'amount': 2402},\n",
       "   {'transaction-id': 8143, 'amount': 2501},\n",
       "   {'transaction-id': 8249, 'amount': 2391},\n",
       "   {'transaction-id': 8329, 'amount': 2572},\n",
       "   {'transaction-id': 9031, 'amount': 2323},\n",
       "   {'transaction-id': 9261, 'amount': 2410},\n",
       "   {'transaction-id': 9771, 'amount': 2427}]},\n",
       " {'id': 1,\n",
       "  'name': 'Xavier',\n",
       "  'transactions': [{'transaction-id': 212, 'amount': 3673},\n",
       "   {'transaction-id': 339, 'amount': 3035},\n",
       "   {'transaction-id': 879, 'amount': 2860},\n",
       "   {'transaction-id': 1466, 'amount': 3046},\n",
       "   {'transaction-id': 2424, 'amount': 3865},\n",
       "   {'transaction-id': 2520, 'amount': 3435},\n",
       "   {'transaction-id': 2673, 'amount': 2380},\n",
       "   {'transaction-id': 3892, 'amount': 2552},\n",
       "   {'transaction-id': 4544, 'amount': 3504},\n",
       "   {'transaction-id': 5450, 'amount': 3369},\n",
       "   {'transaction-id': 5472, 'amount': 2963},\n",
       "   {'transaction-id': 7442, 'amount': 3315},\n",
       "   {'transaction-id': 7886, 'amount': 3102},\n",
       "   {'transaction-id': 9041, 'amount': 3341},\n",
       "   {'transaction-id': 9117, 'amount': 3097},\n",
       "   {'transaction-id': 9141, 'amount': 3673},\n",
       "   {'transaction-id': 9568, 'amount': 3501},\n",
       "   {'transaction-id': 9622, 'amount': 2537}]},\n",
       " {'id': 2,\n",
       "  'name': 'Ursula',\n",
       "  'transactions': [{'transaction-id': 5, 'amount': -299},\n",
       "   {'transaction-id': 31, 'amount': -351},\n",
       "   {'transaction-id': 62, 'amount': -560},\n",
       "   {'transaction-id': 152, 'amount': -238},\n",
       "   {'transaction-id': 184, 'amount': -144},\n",
       "   {'transaction-id': 216, 'amount': -137},\n",
       "   {'transaction-id': 455, 'amount': -452},\n",
       "   {'transaction-id': 461, 'amount': -186},\n",
       "   {'transaction-id': 463, 'amount': -357},\n",
       "   {'transaction-id': 503, 'amount': -454},\n",
       "   {'transaction-id': 515, 'amount': -314},\n",
       "   {'transaction-id': 623, 'amount': -800},\n",
       "   {'transaction-id': 647, 'amount': -298},\n",
       "   {'transaction-id': 723, 'amount': -332},\n",
       "   {'transaction-id': 821, 'amount': -283},\n",
       "   {'transaction-id': 995, 'amount': -50},\n",
       "   {'transaction-id': 1333, 'amount': -386},\n",
       "   {'transaction-id': 1453, 'amount': -142},\n",
       "   {'transaction-id': 1509, 'amount': -274},\n",
       "   {'transaction-id': 1626, 'amount': -648},\n",
       "   {'transaction-id': 1770, 'amount': -227},\n",
       "   {'transaction-id': 1791, 'amount': -479},\n",
       "   {'transaction-id': 1832, 'amount': -457},\n",
       "   {'transaction-id': 1835, 'amount': -328},\n",
       "   {'transaction-id': 1899, 'amount': -311},\n",
       "   {'transaction-id': 1975, 'amount': -362},\n",
       "   {'transaction-id': 1979, 'amount': -179},\n",
       "   {'transaction-id': 2054, 'amount': -193},\n",
       "   {'transaction-id': 2093, 'amount': -332},\n",
       "   {'transaction-id': 2242, 'amount': -423},\n",
       "   {'transaction-id': 2251, 'amount': -189},\n",
       "   {'transaction-id': 2257, 'amount': -400},\n",
       "   {'transaction-id': 2411, 'amount': -497},\n",
       "   {'transaction-id': 2599, 'amount': -464},\n",
       "   {'transaction-id': 2657, 'amount': -245},\n",
       "   {'transaction-id': 2720, 'amount': -281},\n",
       "   {'transaction-id': 2723, 'amount': -445},\n",
       "   {'transaction-id': 2814, 'amount': -352},\n",
       "   {'transaction-id': 2953, 'amount': -399},\n",
       "   {'transaction-id': 2967, 'amount': -153},\n",
       "   {'transaction-id': 3019, 'amount': -93},\n",
       "   {'transaction-id': 3071, 'amount': -357},\n",
       "   {'transaction-id': 3135, 'amount': -260},\n",
       "   {'transaction-id': 3172, 'amount': -352},\n",
       "   {'transaction-id': 3192, 'amount': -400},\n",
       "   {'transaction-id': 3259, 'amount': -507},\n",
       "   {'transaction-id': 3331, 'amount': -79},\n",
       "   {'transaction-id': 3344, 'amount': -341},\n",
       "   {'transaction-id': 3440, 'amount': -135},\n",
       "   {'transaction-id': 3481, 'amount': -410},\n",
       "   {'transaction-id': 3493, 'amount': -188},\n",
       "   {'transaction-id': 3498, 'amount': -385},\n",
       "   {'transaction-id': 3541, 'amount': -529},\n",
       "   {'transaction-id': 3596, 'amount': -343},\n",
       "   {'transaction-id': 3597, 'amount': -293},\n",
       "   {'transaction-id': 3662, 'amount': -256},\n",
       "   {'transaction-id': 3682, 'amount': -357},\n",
       "   {'transaction-id': 3733, 'amount': -358},\n",
       "   {'transaction-id': 3801, 'amount': -152},\n",
       "   {'transaction-id': 3834, 'amount': -377},\n",
       "   {'transaction-id': 3937, 'amount': -114},\n",
       "   {'transaction-id': 3940, 'amount': -361},\n",
       "   {'transaction-id': 3970, 'amount': -381},\n",
       "   {'transaction-id': 4058, 'amount': -335},\n",
       "   {'transaction-id': 4087, 'amount': -150},\n",
       "   {'transaction-id': 4108, 'amount': -50},\n",
       "   {'transaction-id': 4136, 'amount': -267},\n",
       "   {'transaction-id': 4280, 'amount': -378},\n",
       "   {'transaction-id': 4296, 'amount': -621},\n",
       "   {'transaction-id': 4308, 'amount': -289},\n",
       "   {'transaction-id': 4393, 'amount': -231},\n",
       "   {'transaction-id': 4428, 'amount': -376},\n",
       "   {'transaction-id': 4451, 'amount': -359},\n",
       "   {'transaction-id': 4485, 'amount': -242},\n",
       "   {'transaction-id': 4508, 'amount': -80},\n",
       "   {'transaction-id': 4594, 'amount': -228},\n",
       "   {'transaction-id': 4629, 'amount': -246},\n",
       "   {'transaction-id': 4829, 'amount': -473},\n",
       "   {'transaction-id': 4873, 'amount': -374},\n",
       "   {'transaction-id': 4987, 'amount': -434},\n",
       "   {'transaction-id': 5010, 'amount': -374},\n",
       "   {'transaction-id': 5022, 'amount': -417},\n",
       "   {'transaction-id': 5150, 'amount': -365},\n",
       "   {'transaction-id': 5157, 'amount': -274},\n",
       "   {'transaction-id': 5336, 'amount': -498},\n",
       "   {'transaction-id': 5357, 'amount': -389},\n",
       "   {'transaction-id': 5365, 'amount': -544},\n",
       "   {'transaction-id': 5399, 'amount': -160},\n",
       "   {'transaction-id': 5629, 'amount': -493},\n",
       "   {'transaction-id': 5679, 'amount': -102},\n",
       "   {'transaction-id': 5808, 'amount': -328},\n",
       "   {'transaction-id': 5847, 'amount': -543},\n",
       "   {'transaction-id': 6147, 'amount': -383},\n",
       "   {'transaction-id': 6395, 'amount': -326},\n",
       "   {'transaction-id': 6416, 'amount': -483},\n",
       "   {'transaction-id': 6451, 'amount': -335},\n",
       "   {'transaction-id': 6525, 'amount': -239},\n",
       "   {'transaction-id': 6573, 'amount': -308},\n",
       "   {'transaction-id': 6624, 'amount': -598},\n",
       "   {'transaction-id': 6678, 'amount': -321},\n",
       "   {'transaction-id': 6715, 'amount': -412},\n",
       "   {'transaction-id': 6716, 'amount': -283},\n",
       "   {'transaction-id': 6723, 'amount': -396},\n",
       "   {'transaction-id': 6793, 'amount': -354},\n",
       "   {'transaction-id': 6903, 'amount': -473},\n",
       "   {'transaction-id': 6907, 'amount': -304},\n",
       "   {'transaction-id': 7015, 'amount': -604},\n",
       "   {'transaction-id': 7256, 'amount': -347},\n",
       "   {'transaction-id': 7299, 'amount': -767},\n",
       "   {'transaction-id': 7423, 'amount': -190},\n",
       "   {'transaction-id': 7621, 'amount': -372},\n",
       "   {'transaction-id': 7757, 'amount': -300},\n",
       "   {'transaction-id': 7772, 'amount': -459},\n",
       "   {'transaction-id': 7788, 'amount': -191},\n",
       "   {'transaction-id': 7799, 'amount': -298},\n",
       "   {'transaction-id': 7842, 'amount': -298},\n",
       "   {'transaction-id': 7863, 'amount': -322},\n",
       "   {'transaction-id': 7898, 'amount': -388},\n",
       "   {'transaction-id': 7907, 'amount': -349},\n",
       "   {'transaction-id': 7919, 'amount': -384},\n",
       "   {'transaction-id': 7975, 'amount': -557},\n",
       "   {'transaction-id': 7978, 'amount': -332},\n",
       "   {'transaction-id': 8034, 'amount': -246},\n",
       "   {'transaction-id': 8094, 'amount': -293},\n",
       "   {'transaction-id': 8178, 'amount': -361},\n",
       "   {'transaction-id': 8239, 'amount': -220},\n",
       "   {'transaction-id': 8262, 'amount': -297},\n",
       "   {'transaction-id': 8291, 'amount': -355},\n",
       "   {'transaction-id': 8333, 'amount': -388},\n",
       "   {'transaction-id': 8491, 'amount': -448},\n",
       "   {'transaction-id': 8550, 'amount': -272},\n",
       "   {'transaction-id': 8651, 'amount': -334},\n",
       "   {'transaction-id': 8679, 'amount': -359},\n",
       "   {'transaction-id': 8743, 'amount': -388},\n",
       "   {'transaction-id': 8752, 'amount': -524},\n",
       "   {'transaction-id': 8753, 'amount': -389},\n",
       "   {'transaction-id': 8757, 'amount': -79},\n",
       "   {'transaction-id': 8823, 'amount': -613},\n",
       "   {'transaction-id': 8930, 'amount': -337},\n",
       "   {'transaction-id': 9026, 'amount': -378},\n",
       "   {'transaction-id': 9139, 'amount': -409},\n",
       "   {'transaction-id': 9210, 'amount': 41},\n",
       "   {'transaction-id': 9277, 'amount': 3},\n",
       "   {'transaction-id': 9318, 'amount': 34},\n",
       "   {'transaction-id': 9484, 'amount': -463},\n",
       "   {'transaction-id': 9510, 'amount': -504},\n",
       "   {'transaction-id': 9537, 'amount': -242},\n",
       "   {'transaction-id': 9562, 'amount': -361},\n",
       "   {'transaction-id': 9685, 'amount': -378},\n",
       "   {'transaction-id': 9816, 'amount': -182},\n",
       "   {'transaction-id': 9824, 'amount': -347},\n",
       "   {'transaction-id': 9860, 'amount': -95},\n",
       "   {'transaction-id': 9918, 'amount': -510},\n",
       "   {'transaction-id': 9961, 'amount': -180},\n",
       "   {'transaction-id': 9965, 'amount': -304},\n",
       "   {'transaction-id': 9973, 'amount': -207}]})"
      ]
     },
     "execution_count": 9,
     "metadata": {},
     "output_type": "execute_result"
    }
   ],
   "source": [
    "import json\n",
    "js = lines.map(json.loads)\n",
    "# take: inspect first few elements\n",
    "js.take(3)"
   ]
  },
  {
   "cell_type": "markdown",
   "metadata": {},
   "source": [
    "### Basic Queries"
   ]
  },
  {
   "cell_type": "markdown",
   "metadata": {},
   "source": [
    "Once we parse our JSON data into proper Python objects (`dict`s, `list`s, etc.) we can perform more interesting queries by creating small Python functions to run on our data."
   ]
  },
  {
   "cell_type": "code",
   "execution_count": 10,
   "metadata": {},
   "outputs": [
    {
     "data": {
      "text/plain": [
       "({'id': 36,\n",
       "  'name': 'Alice',\n",
       "  'transactions': [{'transaction-id': 244, 'amount': 5715},\n",
       "   {'transaction-id': 921, 'amount': 5349},\n",
       "   {'transaction-id': 1503, 'amount': 5681},\n",
       "   {'transaction-id': 2416, 'amount': 5544},\n",
       "   {'transaction-id': 3293, 'amount': 5608},\n",
       "   {'transaction-id': 3429, 'amount': 5777},\n",
       "   {'transaction-id': 4147, 'amount': 5775},\n",
       "   {'transaction-id': 4926, 'amount': 5714},\n",
       "   {'transaction-id': 5294, 'amount': 5847},\n",
       "   {'transaction-id': 5604, 'amount': 5819},\n",
       "   {'transaction-id': 6205, 'amount': 5859},\n",
       "   {'transaction-id': 6806, 'amount': 5229},\n",
       "   {'transaction-id': 6995, 'amount': 5788},\n",
       "   {'transaction-id': 7113, 'amount': 5332},\n",
       "   {'transaction-id': 7172, 'amount': 5722},\n",
       "   {'transaction-id': 7380, 'amount': 5684},\n",
       "   {'transaction-id': 7479, 'amount': 5392},\n",
       "   {'transaction-id': 7537, 'amount': 5581},\n",
       "   {'transaction-id': 7543, 'amount': 5866},\n",
       "   {'transaction-id': 8992, 'amount': 5833},\n",
       "   {'transaction-id': 9242, 'amount': 5404},\n",
       "   {'transaction-id': 9435, 'amount': 5731}]},\n",
       " {'id': 103,\n",
       "  'name': 'Alice',\n",
       "  'transactions': [{'transaction-id': 68, 'amount': 1565},\n",
       "   {'transaction-id': 167, 'amount': 1597},\n",
       "   {'transaction-id': 375, 'amount': 1333},\n",
       "   {'transaction-id': 568, 'amount': 1528},\n",
       "   {'transaction-id': 1341, 'amount': 1618},\n",
       "   {'transaction-id': 1351, 'amount': 1984},\n",
       "   {'transaction-id': 3153, 'amount': 1779},\n",
       "   {'transaction-id': 4302, 'amount': 1468},\n",
       "   {'transaction-id': 4565, 'amount': 1392},\n",
       "   {'transaction-id': 4619, 'amount': 1923},\n",
       "   {'transaction-id': 6079, 'amount': 1749},\n",
       "   {'transaction-id': 6993, 'amount': 1706},\n",
       "   {'transaction-id': 7245, 'amount': 1412}]},\n",
       " {'id': 165,\n",
       "  'name': 'Alice',\n",
       "  'transactions': [{'transaction-id': 183, 'amount': 314},\n",
       "   {'transaction-id': 213, 'amount': 389},\n",
       "   {'transaction-id': 474, 'amount': 305},\n",
       "   {'transaction-id': 611, 'amount': 310},\n",
       "   {'transaction-id': 685, 'amount': 337},\n",
       "   {'transaction-id': 885, 'amount': 329},\n",
       "   {'transaction-id': 1644, 'amount': 309},\n",
       "   {'transaction-id': 2036, 'amount': 185},\n",
       "   {'transaction-id': 2148, 'amount': 316},\n",
       "   {'transaction-id': 2617, 'amount': 332},\n",
       "   {'transaction-id': 2712, 'amount': 267},\n",
       "   {'transaction-id': 3594, 'amount': 236},\n",
       "   {'transaction-id': 3711, 'amount': 279},\n",
       "   {'transaction-id': 4077, 'amount': 340},\n",
       "   {'transaction-id': 4114, 'amount': 320},\n",
       "   {'transaction-id': 4132, 'amount': 242},\n",
       "   {'transaction-id': 4134, 'amount': 337},\n",
       "   {'transaction-id': 4448, 'amount': 329},\n",
       "   {'transaction-id': 4944, 'amount': 259},\n",
       "   {'transaction-id': 5078, 'amount': 227},\n",
       "   {'transaction-id': 5198, 'amount': 258},\n",
       "   {'transaction-id': 5824, 'amount': 342},\n",
       "   {'transaction-id': 5991, 'amount': 286},\n",
       "   {'transaction-id': 6343, 'amount': 293},\n",
       "   {'transaction-id': 7346, 'amount': 284},\n",
       "   {'transaction-id': 7457, 'amount': 276},\n",
       "   {'transaction-id': 7520, 'amount': 285},\n",
       "   {'transaction-id': 9085, 'amount': 314},\n",
       "   {'transaction-id': 9353, 'amount': 303}]},\n",
       " {'id': 171,\n",
       "  'name': 'Alice',\n",
       "  'transactions': [{'transaction-id': 841, 'amount': 774},\n",
       "   {'transaction-id': 1192, 'amount': 720},\n",
       "   {'transaction-id': 1231, 'amount': 898},\n",
       "   {'transaction-id': 2188, 'amount': 676},\n",
       "   {'transaction-id': 2324, 'amount': 716},\n",
       "   {'transaction-id': 2368, 'amount': 827},\n",
       "   {'transaction-id': 2793, 'amount': 829},\n",
       "   {'transaction-id': 2829, 'amount': 1080},\n",
       "   {'transaction-id': 2835, 'amount': 804},\n",
       "   {'transaction-id': 3098, 'amount': 801},\n",
       "   {'transaction-id': 3206, 'amount': 915},\n",
       "   {'transaction-id': 3410, 'amount': 848},\n",
       "   {'transaction-id': 3890, 'amount': 844},\n",
       "   {'transaction-id': 4295, 'amount': 874},\n",
       "   {'transaction-id': 4345, 'amount': 752},\n",
       "   {'transaction-id': 4351, 'amount': 963},\n",
       "   {'transaction-id': 4576, 'amount': 1087},\n",
       "   {'transaction-id': 4880, 'amount': 1062},\n",
       "   {'transaction-id': 5240, 'amount': 957},\n",
       "   {'transaction-id': 5802, 'amount': 884},\n",
       "   {'transaction-id': 6489, 'amount': 912},\n",
       "   {'transaction-id': 6706, 'amount': 901},\n",
       "   {'transaction-id': 6754, 'amount': 797},\n",
       "   {'transaction-id': 6805, 'amount': 709},\n",
       "   {'transaction-id': 7062, 'amount': 913},\n",
       "   {'transaction-id': 7237, 'amount': 864},\n",
       "   {'transaction-id': 8365, 'amount': 757},\n",
       "   {'transaction-id': 8675, 'amount': 830},\n",
       "   {'transaction-id': 8983, 'amount': 863},\n",
       "   {'transaction-id': 9062, 'amount': 753},\n",
       "   {'transaction-id': 9364, 'amount': 1007},\n",
       "   {'transaction-id': 9541, 'amount': 937},\n",
       "   {'transaction-id': 9623, 'amount': 875}]},\n",
       " {'id': 172,\n",
       "  'name': 'Alice',\n",
       "  'transactions': [{'transaction-id': 145, 'amount': -34},\n",
       "   {'transaction-id': 364, 'amount': -159},\n",
       "   {'transaction-id': 379, 'amount': 439},\n",
       "   {'transaction-id': 385, 'amount': -256},\n",
       "   {'transaction-id': 430, 'amount': -397},\n",
       "   {'transaction-id': 438, 'amount': 244},\n",
       "   {'transaction-id': 477, 'amount': 891},\n",
       "   {'transaction-id': 537, 'amount': -136},\n",
       "   {'transaction-id': 643, 'amount': 113},\n",
       "   {'transaction-id': 811, 'amount': 467},\n",
       "   {'transaction-id': 915, 'amount': 386},\n",
       "   {'transaction-id': 1241, 'amount': -320},\n",
       "   {'transaction-id': 1623, 'amount': 69},\n",
       "   {'transaction-id': 1802, 'amount': 298},\n",
       "   {'transaction-id': 1915, 'amount': 114},\n",
       "   {'transaction-id': 2238, 'amount': 163},\n",
       "   {'transaction-id': 2265, 'amount': -160},\n",
       "   {'transaction-id': 2557, 'amount': -5},\n",
       "   {'transaction-id': 2590, 'amount': 447},\n",
       "   {'transaction-id': 2867, 'amount': -101},\n",
       "   {'transaction-id': 3216, 'amount': 115},\n",
       "   {'transaction-id': 3484, 'amount': 115},\n",
       "   {'transaction-id': 3525, 'amount': 377},\n",
       "   {'transaction-id': 3897, 'amount': 573},\n",
       "   {'transaction-id': 3963, 'amount': 101},\n",
       "   {'transaction-id': 3997, 'amount': -81},\n",
       "   {'transaction-id': 4046, 'amount': -19},\n",
       "   {'transaction-id': 4085, 'amount': 246},\n",
       "   {'transaction-id': 4239, 'amount': 501},\n",
       "   {'transaction-id': 4675, 'amount': 11},\n",
       "   {'transaction-id': 4836, 'amount': -300},\n",
       "   {'transaction-id': 4903, 'amount': 50},\n",
       "   {'transaction-id': 4983, 'amount': -42},\n",
       "   {'transaction-id': 5128, 'amount': 33},\n",
       "   {'transaction-id': 5309, 'amount': -575},\n",
       "   {'transaction-id': 5578, 'amount': 596},\n",
       "   {'transaction-id': 5628, 'amount': 48},\n",
       "   {'transaction-id': 5661, 'amount': -326},\n",
       "   {'transaction-id': 5671, 'amount': -256},\n",
       "   {'transaction-id': 5774, 'amount': 547},\n",
       "   {'transaction-id': 5869, 'amount': 181},\n",
       "   {'transaction-id': 5870, 'amount': -116},\n",
       "   {'transaction-id': 5933, 'amount': 550},\n",
       "   {'transaction-id': 6005, 'amount': 197},\n",
       "   {'transaction-id': 6133, 'amount': -112},\n",
       "   {'transaction-id': 6243, 'amount': -171},\n",
       "   {'transaction-id': 6390, 'amount': 342},\n",
       "   {'transaction-id': 6962, 'amount': -99},\n",
       "   {'transaction-id': 7344, 'amount': -3},\n",
       "   {'transaction-id': 7496, 'amount': 157},\n",
       "   {'transaction-id': 7695, 'amount': 160},\n",
       "   {'transaction-id': 7933, 'amount': -435},\n",
       "   {'transaction-id': 7967, 'amount': -378},\n",
       "   {'transaction-id': 7990, 'amount': 189},\n",
       "   {'transaction-id': 8064, 'amount': 192},\n",
       "   {'transaction-id': 8147, 'amount': 52},\n",
       "   {'transaction-id': 8160, 'amount': 719},\n",
       "   {'transaction-id': 8272, 'amount': 2},\n",
       "   {'transaction-id': 8350, 'amount': -38},\n",
       "   {'transaction-id': 8385, 'amount': 330},\n",
       "   {'transaction-id': 8457, 'amount': 70},\n",
       "   {'transaction-id': 8535, 'amount': -281},\n",
       "   {'transaction-id': 8681, 'amount': 748},\n",
       "   {'transaction-id': 8761, 'amount': 59},\n",
       "   {'transaction-id': 8905, 'amount': -70},\n",
       "   {'transaction-id': 9078, 'amount': 192},\n",
       "   {'transaction-id': 9119, 'amount': 569},\n",
       "   {'transaction-id': 9191, 'amount': -366},\n",
       "   {'transaction-id': 9259, 'amount': -166},\n",
       "   {'transaction-id': 9284, 'amount': 419},\n",
       "   {'transaction-id': 9492, 'amount': 157},\n",
       "   {'transaction-id': 9526, 'amount': 374},\n",
       "   {'transaction-id': 9550, 'amount': 99},\n",
       "   {'transaction-id': 9552, 'amount': 252},\n",
       "   {'transaction-id': 9659, 'amount': -507},\n",
       "   {'transaction-id': 9696, 'amount': -238},\n",
       "   {'transaction-id': 9912, 'amount': 467},\n",
       "   {'transaction-id': 9916, 'amount': 440}]})"
      ]
     },
     "execution_count": 10,
     "metadata": {},
     "output_type": "execute_result"
    }
   ],
   "source": [
    "# filter: keep only some elements of the sequence\n",
    "js.filter(lambda record: record['name'] == 'Alice').take(5)"
   ]
  },
  {
   "cell_type": "code",
   "execution_count": 11,
   "metadata": {},
   "outputs": [
    {
     "data": {
      "text/plain": [
       "({'name': 'Alice', 'count': 22},\n",
       " {'name': 'Alice', 'count': 13},\n",
       " {'name': 'Alice', 'count': 29},\n",
       " {'name': 'Alice', 'count': 33},\n",
       " {'name': 'Alice', 'count': 78})"
      ]
     },
     "execution_count": 11,
     "metadata": {},
     "output_type": "execute_result"
    }
   ],
   "source": [
    "def count_transactions(d):\n",
    "    return {'name': d['name'], 'count': len(d['transactions'])}\n",
    "\n",
    "# map: apply a function to each element\n",
    "(js.filter(lambda record: record['name'] == 'Alice')\n",
    "   .map(count_transactions)\n",
    "   .take(5))"
   ]
  },
  {
   "cell_type": "code",
   "execution_count": 12,
   "metadata": {},
   "outputs": [
    {
     "data": {
      "text/plain": [
       "(22, 13, 29, 33, 78)"
      ]
     },
     "execution_count": 12,
     "metadata": {},
     "output_type": "execute_result"
    }
   ],
   "source": [
    "# pluck: select a field, as from a dictionary, element[field]\n",
    "(js.filter(lambda record: record['name'] == 'Alice')\n",
    "   .map(count_transactions)\n",
    "   .pluck('count')\n",
    "   .take(5))"
   ]
  },
  {
   "cell_type": "code",
   "execution_count": 13,
   "metadata": {},
   "outputs": [
    {
     "data": {
      "text/plain": [
       "36.39142857142857"
      ]
     },
     "execution_count": 13,
     "metadata": {},
     "output_type": "execute_result"
    }
   ],
   "source": [
    "# Average number of transactions for all of the Alice entries\n",
    "(js.filter(lambda record: record['name'] == 'Alice')\n",
    "   .map(count_transactions)\n",
    "   .pluck('count')\n",
    "   .mean()\n",
    "   .compute())"
   ]
  },
  {
   "cell_type": "markdown",
   "metadata": {},
   "source": [
    "### Use `flatten` to de-nest"
   ]
  },
  {
   "cell_type": "markdown",
   "metadata": {},
   "source": [
    "In the example below we see the use of `.flatten()` to flatten results.  We compute the average amount for all transactions for all Alices."
   ]
  },
  {
   "cell_type": "code",
   "execution_count": 14,
   "metadata": {},
   "outputs": [
    {
     "data": {
      "text/plain": [
       "([{'transaction-id': 244, 'amount': 5715},\n",
       "  {'transaction-id': 921, 'amount': 5349},\n",
       "  {'transaction-id': 1503, 'amount': 5681},\n",
       "  {'transaction-id': 2416, 'amount': 5544},\n",
       "  {'transaction-id': 3293, 'amount': 5608},\n",
       "  {'transaction-id': 3429, 'amount': 5777},\n",
       "  {'transaction-id': 4147, 'amount': 5775},\n",
       "  {'transaction-id': 4926, 'amount': 5714},\n",
       "  {'transaction-id': 5294, 'amount': 5847},\n",
       "  {'transaction-id': 5604, 'amount': 5819},\n",
       "  {'transaction-id': 6205, 'amount': 5859},\n",
       "  {'transaction-id': 6806, 'amount': 5229},\n",
       "  {'transaction-id': 6995, 'amount': 5788},\n",
       "  {'transaction-id': 7113, 'amount': 5332},\n",
       "  {'transaction-id': 7172, 'amount': 5722},\n",
       "  {'transaction-id': 7380, 'amount': 5684},\n",
       "  {'transaction-id': 7479, 'amount': 5392},\n",
       "  {'transaction-id': 7537, 'amount': 5581},\n",
       "  {'transaction-id': 7543, 'amount': 5866},\n",
       "  {'transaction-id': 8992, 'amount': 5833},\n",
       "  {'transaction-id': 9242, 'amount': 5404},\n",
       "  {'transaction-id': 9435, 'amount': 5731}],\n",
       " [{'transaction-id': 68, 'amount': 1565},\n",
       "  {'transaction-id': 167, 'amount': 1597},\n",
       "  {'transaction-id': 375, 'amount': 1333},\n",
       "  {'transaction-id': 568, 'amount': 1528},\n",
       "  {'transaction-id': 1341, 'amount': 1618},\n",
       "  {'transaction-id': 1351, 'amount': 1984},\n",
       "  {'transaction-id': 3153, 'amount': 1779},\n",
       "  {'transaction-id': 4302, 'amount': 1468},\n",
       "  {'transaction-id': 4565, 'amount': 1392},\n",
       "  {'transaction-id': 4619, 'amount': 1923},\n",
       "  {'transaction-id': 6079, 'amount': 1749},\n",
       "  {'transaction-id': 6993, 'amount': 1706},\n",
       "  {'transaction-id': 7245, 'amount': 1412}],\n",
       " [{'transaction-id': 183, 'amount': 314},\n",
       "  {'transaction-id': 213, 'amount': 389},\n",
       "  {'transaction-id': 474, 'amount': 305},\n",
       "  {'transaction-id': 611, 'amount': 310},\n",
       "  {'transaction-id': 685, 'amount': 337},\n",
       "  {'transaction-id': 885, 'amount': 329},\n",
       "  {'transaction-id': 1644, 'amount': 309},\n",
       "  {'transaction-id': 2036, 'amount': 185},\n",
       "  {'transaction-id': 2148, 'amount': 316},\n",
       "  {'transaction-id': 2617, 'amount': 332},\n",
       "  {'transaction-id': 2712, 'amount': 267},\n",
       "  {'transaction-id': 3594, 'amount': 236},\n",
       "  {'transaction-id': 3711, 'amount': 279},\n",
       "  {'transaction-id': 4077, 'amount': 340},\n",
       "  {'transaction-id': 4114, 'amount': 320},\n",
       "  {'transaction-id': 4132, 'amount': 242},\n",
       "  {'transaction-id': 4134, 'amount': 337},\n",
       "  {'transaction-id': 4448, 'amount': 329},\n",
       "  {'transaction-id': 4944, 'amount': 259},\n",
       "  {'transaction-id': 5078, 'amount': 227},\n",
       "  {'transaction-id': 5198, 'amount': 258},\n",
       "  {'transaction-id': 5824, 'amount': 342},\n",
       "  {'transaction-id': 5991, 'amount': 286},\n",
       "  {'transaction-id': 6343, 'amount': 293},\n",
       "  {'transaction-id': 7346, 'amount': 284},\n",
       "  {'transaction-id': 7457, 'amount': 276},\n",
       "  {'transaction-id': 7520, 'amount': 285},\n",
       "  {'transaction-id': 9085, 'amount': 314},\n",
       "  {'transaction-id': 9353, 'amount': 303}])"
      ]
     },
     "execution_count": 14,
     "metadata": {},
     "output_type": "execute_result"
    }
   ],
   "source": [
    "js.filter(lambda record: record['name'] == 'Alice').pluck('transactions').take(3)"
   ]
  },
  {
   "cell_type": "code",
   "execution_count": 15,
   "metadata": {},
   "outputs": [
    {
     "data": {
      "text/plain": [
       "({'transaction-id': 244, 'amount': 5715},\n",
       " {'transaction-id': 921, 'amount': 5349},\n",
       " {'transaction-id': 1503, 'amount': 5681})"
      ]
     },
     "execution_count": 15,
     "metadata": {},
     "output_type": "execute_result"
    }
   ],
   "source": [
    "(js.filter(lambda record: record['name'] == 'Alice')\n",
    "   .pluck('transactions')\n",
    "   .flatten()\n",
    "   .take(3))"
   ]
  },
  {
   "cell_type": "code",
   "execution_count": 16,
   "metadata": {},
   "outputs": [
    {
     "data": {
      "text/plain": [
       "(5715, 5349, 5681)"
      ]
     },
     "execution_count": 16,
     "metadata": {},
     "output_type": "execute_result"
    }
   ],
   "source": [
    "(js.filter(lambda record: record['name'] == 'Alice')\n",
    "   .pluck('transactions')\n",
    "   .flatten()\n",
    "   .pluck('amount')\n",
    "   .take(3))"
   ]
  },
  {
   "cell_type": "code",
   "execution_count": 17,
   "metadata": {},
   "outputs": [
    {
     "data": {
      "text/plain": [
       "1380.9596451283662"
      ]
     },
     "execution_count": 17,
     "metadata": {},
     "output_type": "execute_result"
    }
   ],
   "source": [
    "(js.filter(lambda record: record['name'] == 'Alice')\n",
    "   .pluck('transactions')\n",
    "   .flatten()\n",
    "   .pluck('amount')\n",
    "   .mean()\n",
    "   .compute())"
   ]
  },
  {
   "cell_type": "markdown",
   "metadata": {},
   "source": [
    "### Groupby and Foldby"
   ]
  },
  {
   "cell_type": "markdown",
   "metadata": {},
   "source": [
    "Often we want to group data by some function or key.  We can do this either with the `.groupby` method, which is straightforward but forces a full shuffle of the data (expensive) or with the harder-to-use but faster `.foldby` method, which does a streaming combined groupby and reduction.\n",
    "\n",
    "*  `groupby`:  Shuffles data so that all items with the same key are in the same key-value pair\n",
    "*  `foldby`:  Walks through the data accumulating a result per key\n",
    "\n",
    "*Note: the full groupby is particularly bad. In actual workloads you would do well to use `foldby` or switch to `DataFrame`s if possible.*"
   ]
  },
  {
   "cell_type": "markdown",
   "metadata": {},
   "source": [
    "### `groupby`"
   ]
  },
  {
   "cell_type": "markdown",
   "metadata": {},
   "source": [
    "Groupby collects items in your collection so that all items with the same value under some function are collected together into a key-value pair."
   ]
  },
  {
   "cell_type": "code",
   "execution_count": 18,
   "metadata": {},
   "outputs": [
    {
     "data": {
      "text/plain": [
       "[(7, ['Charlie']), (3, ['Bob', 'Dan']), (5, ['Alice', 'Edith', 'Frank'])]"
      ]
     },
     "execution_count": 18,
     "metadata": {},
     "output_type": "execute_result"
    }
   ],
   "source": [
    "b = db.from_sequence(['Alice', 'Bob', 'Charlie', 'Dan', 'Edith', 'Frank'])\n",
    "b.groupby(len).compute()  # names grouped by length"
   ]
  },
  {
   "cell_type": "code",
   "execution_count": 19,
   "metadata": {},
   "outputs": [
    {
     "data": {
      "text/plain": [
       "[(0, [0, 2, 4, 6, 8]), (1, [1, 3, 5, 7, 9])]"
      ]
     },
     "execution_count": 19,
     "metadata": {},
     "output_type": "execute_result"
    }
   ],
   "source": [
    "b = db.from_sequence(list(range(10)))\n",
    "b.groupby(lambda x: x % 2).compute()"
   ]
  },
  {
   "cell_type": "code",
   "execution_count": 20,
   "metadata": {},
   "outputs": [
    {
     "data": {
      "text/plain": [
       "[(0, 8), (1, 9)]"
      ]
     },
     "execution_count": 20,
     "metadata": {},
     "output_type": "execute_result"
    }
   ],
   "source": [
    "b.groupby(lambda x: x % 2).starmap(lambda k, v: (k, max(v))).compute()"
   ]
  },
  {
   "cell_type": "markdown",
   "metadata": {},
   "source": [
    "### `foldby`"
   ]
  },
  {
   "cell_type": "markdown",
   "metadata": {},
   "source": [
    "Foldby can be quite odd at first.  It is similar to the following functions from other libraries:\n",
    "\n",
    "*  [`toolz.reduceby`](http://toolz.readthedocs.io/en/latest/streaming-analytics.html#streaming-split-apply-combine)\n",
    "*  [`pyspark.RDD.combineByKey`](http://abshinn.github.io/python/apache-spark/2014/10/11/using-combinebykey-in-apache-spark/)\n",
    "\n",
    "When using `foldby` you provide \n",
    "\n",
    "1.  A key function on which to group elements\n",
    "2.  A binary operator such as you would pass to `reduce` that you use to perform reduction per each group\n",
    "3.  A combine binary operator that can combine the results of two `reduce` calls on different parts of your dataset.\n",
    "\n",
    "Your reduction must be associative.  It will happen in parallel in each of the partitions of your dataset.  Then all of these intermediate results will be combined by the `combine` binary operator."
   ]
  },
  {
   "cell_type": "code",
   "execution_count": 21,
   "metadata": {},
   "outputs": [
    {
     "data": {
      "text/plain": [
       "[(0, 8), (1, 9)]"
      ]
     },
     "execution_count": 21,
     "metadata": {},
     "output_type": "execute_result"
    }
   ],
   "source": [
    "is_even = lambda x: x % 2\n",
    "b.foldby(is_even, binop=max, combine=max).compute()"
   ]
  },
  {
   "cell_type": "markdown",
   "metadata": {},
   "source": [
    "### Example with account data"
   ]
  },
  {
   "cell_type": "markdown",
   "metadata": {},
   "source": [
    "We find the number of people with the same name."
   ]
  },
  {
   "cell_type": "code",
   "execution_count": 22,
   "metadata": {},
   "outputs": [
    {
     "name": "stdout",
     "output_type": "stream",
     "text": [
      "[('Alice', 84), ('Alice', 84), ('Alice', 84), ('Alice', 98), ('Bob', 72), ('Bob', 72), ('Bob', 72), ('Bob', 86), ('Charlie', 89), ('Charlie', 90), ('Charlie', 92), ('Charlie', 107), ('Dan', 156), ('Dan', 156), ('Dan', 156), ('Dan', 181), ('Edith', 159), ('Edith', 160), ('Edith', 163), ('Edith', 184), ('Frank', 67), ('Frank', 70), ('Frank', 72), ('Frank', 80), ('George', 78), ('George', 79), ('George', 82), ('George', 94), ('Hannah', 144), ('Hannah', 144), ('Hannah', 144), ('Hannah', 168), ('Ingrid', 104), ('Ingrid', 104), ('Ingrid', 107), ('Ingrid', 124), ('Jerry', 71), ('Jerry', 72), ('Jerry', 72), ('Jerry', 84), ('Kevin', 119), ('Kevin', 119), ('Kevin', 119), ('Kevin', 138), ('Laura', 115), ('Laura', 117), ('Laura', 118), ('Laura', 133), ('Michael', 96), ('Michael', 96), ('Michael', 208), ('Norbert', 118), ('Norbert', 135), ('Norbert', 232), ('Oliver', 107), ('Oliver', 108), ('Oliver', 108), ('Oliver', 126), ('Patricia', 52), ('Patricia', 53), ('Patricia', 55), ('Patricia', 66), ('Quinn', 126), ('Quinn', 128), ('Quinn', 129), ('Quinn', 147), ('Ray', 113), ('Ray', 114), ('Ray', 114), ('Ray', 134), ('Sarah', 120), ('Sarah', 120), ('Sarah', 120), ('Sarah', 140), ('Tim', 144), ('Tim', 144), ('Tim', 144), ('Tim', 168), ('Ursula', 72), ('Ursula', 72), ('Ursula', 72), ('Ursula', 84), ('Victor', 58), ('Victor', 59), ('Victor', 60), ('Victor', 69), ('Wendy', 204), ('Wendy', 208), ('Wendy', 446), ('Xavier', 119), ('Xavier', 120), ('Xavier', 120), ('Xavier', 140), ('Yvonne', 177), ('Yvonne', 179), ('Yvonne', 180), ('Yvonne', 209), ('Zelda', 113), ('Zelda', 114), ('Zelda', 117), ('Zelda', 132)]\n",
      "CPU times: user 7.42 s, sys: 486 ms, total: 7.91 s\n",
      "Wall time: 1min 12s\n"
     ]
    }
   ],
   "source": [
    "%%time\n",
    "# Warning, this one takes a while...\n",
    "result = js.groupby(lambda item: item['name']).starmap(lambda k, v: (k, len(v))).compute()\n",
    "print(sorted(result))"
   ]
  },
  {
   "cell_type": "code",
   "execution_count": 23,
   "metadata": {},
   "outputs": [
    {
     "name": "stdout",
     "output_type": "stream",
     "text": [
      "[('Alice', 350), ('Bob', 302), ('Charlie', 378), ('Dan', 649), ('Edith', 666), ('Frank', 289), ('George', 333), ('Hannah', 600), ('Ingrid', 439), ('Jerry', 299), ('Kevin', 495), ('Laura', 483), ('Michael', 400), ('Norbert', 485), ('Oliver', 449), ('Patricia', 226), ('Quinn', 530), ('Ray', 475), ('Sarah', 500), ('Tim', 600), ('Ursula', 300), ('Victor', 246), ('Wendy', 858), ('Xavier', 499), ('Yvonne', 745), ('Zelda', 476)]\n",
      "CPU times: user 247 ms, sys: 9.39 ms, total: 257 ms\n",
      "Wall time: 790 ms\n"
     ]
    }
   ],
   "source": [
    "%%time\n",
    "# This one is comparatively fast and produces the same result.\n",
    "from operator import add\n",
    "def incr(tot, _):\n",
    "    return tot+1\n",
    "\n",
    "result = js.foldby(key='name', \n",
    "                   binop=incr, \n",
    "                   initial=0, \n",
    "                   combine=add, \n",
    "                   combine_initial=0).compute()\n",
    "print(sorted(result))"
   ]
  },
  {
   "cell_type": "markdown",
   "metadata": {},
   "source": [
    "### Exercise: compute total amount per name"
   ]
  },
  {
   "cell_type": "markdown",
   "metadata": {},
   "source": [
    "We want to groupby (or foldby) the `name` key, then add up the all of the amounts for each name.\n",
    "\n",
    "Steps\n",
    "\n",
    "1.  Create a small function that, given a dictionary like \n",
    "\n",
    "        {'name': 'Alice', 'transactions': [{'amount': 1, 'id': 123}, {'amount': 2, 'id': 456}]}\n",
    "        \n",
    "    produces the sum of the amounts, e.g. `3`\n",
    "    \n",
    "2.  Slightly change the binary operator of the `foldby` example above so that the binary operator doesn't count the number of entries, but instead accumulates the sum of the amounts."
   ]
  },
  {
   "cell_type": "code",
   "execution_count": 24,
   "metadata": {},
   "outputs": [],
   "source": [
    "# Your code here..."
   ]
  },
  {
   "cell_type": "markdown",
   "metadata": {},
   "source": [
    "## DataFrames"
   ]
  },
  {
   "cell_type": "markdown",
   "metadata": {},
   "source": [
    "For the same reasons that Pandas is often faster than pure Python, `dask.dataframe` can be faster than `dask.bag`.  We will work more with DataFrames later, but from for the bag point of view, they are frequently the end-point of the \"messy\" part of data ingestion—once the data can be made into a data-frame, then complex split-apply-combine logic will become much more straight-forward and efficient.\n",
    "\n",
    "You can transform a bag with a simple tuple or flat dictionary structure into a `dask.dataframe` with the `to_dataframe` method."
   ]
  },
  {
   "cell_type": "code",
   "execution_count": 25,
   "metadata": {},
   "outputs": [
    {
     "data": {
      "text/html": [
       "<div>\n",
       "<style scoped>\n",
       "    .dataframe tbody tr th:only-of-type {\n",
       "        vertical-align: middle;\n",
       "    }\n",
       "\n",
       "    .dataframe tbody tr th {\n",
       "        vertical-align: top;\n",
       "    }\n",
       "\n",
       "    .dataframe thead th {\n",
       "        text-align: right;\n",
       "    }\n",
       "</style>\n",
       "<table border=\"1\" class=\"dataframe\">\n",
       "  <thead>\n",
       "    <tr style=\"text-align: right;\">\n",
       "      <th></th>\n",
       "      <th>id</th>\n",
       "      <th>name</th>\n",
       "      <th>transactions</th>\n",
       "    </tr>\n",
       "  </thead>\n",
       "  <tbody>\n",
       "    <tr>\n",
       "      <th>0</th>\n",
       "      <td>0</td>\n",
       "      <td>Xavier</td>\n",
       "      <td>[{'transaction-id': 467, 'amount': 2694}, {'tr...</td>\n",
       "    </tr>\n",
       "    <tr>\n",
       "      <th>1</th>\n",
       "      <td>1</td>\n",
       "      <td>Xavier</td>\n",
       "      <td>[{'transaction-id': 212, 'amount': 3673}, {'tr...</td>\n",
       "    </tr>\n",
       "    <tr>\n",
       "      <th>2</th>\n",
       "      <td>2</td>\n",
       "      <td>Ursula</td>\n",
       "      <td>[{'transaction-id': 5, 'amount': -299}, {'tran...</td>\n",
       "    </tr>\n",
       "    <tr>\n",
       "      <th>3</th>\n",
       "      <td>3</td>\n",
       "      <td>Wendy</td>\n",
       "      <td>[{'transaction-id': 457, 'amount': 5402}, {'tr...</td>\n",
       "    </tr>\n",
       "    <tr>\n",
       "      <th>4</th>\n",
       "      <td>4</td>\n",
       "      <td>Tim</td>\n",
       "      <td>[{'transaction-id': 10, 'amount': 203}, {'tran...</td>\n",
       "    </tr>\n",
       "  </tbody>\n",
       "</table>\n",
       "</div>"
      ],
      "text/plain": [
       "   id    name                                       transactions\n",
       "0   0  Xavier  [{'transaction-id': 467, 'amount': 2694}, {'tr...\n",
       "1   1  Xavier  [{'transaction-id': 212, 'amount': 3673}, {'tr...\n",
       "2   2  Ursula  [{'transaction-id': 5, 'amount': -299}, {'tran...\n",
       "3   3   Wendy  [{'transaction-id': 457, 'amount': 5402}, {'tr...\n",
       "4   4     Tim  [{'transaction-id': 10, 'amount': 203}, {'tran..."
      ]
     },
     "execution_count": 25,
     "metadata": {},
     "output_type": "execute_result"
    }
   ],
   "source": [
    "df1 = js.to_dataframe()\n",
    "df1.head()"
   ]
  },
  {
   "cell_type": "markdown",
   "metadata": {},
   "source": [
    "This now looks like a well-defined DataFrame, and we can apply Pandas-like computations to it efficiently."
   ]
  },
  {
   "cell_type": "markdown",
   "metadata": {},
   "source": [
    "Using a Dask DataFrame, how long does it take to do our prior computation of numbers of people with the same name?  It turns out that `dask.dataframe.groupby()` beats `dask.bag.groupby()` more than an order of magnitude; but it still cannot match `dask.bag.foldby()` for this case."
   ]
  },
  {
   "cell_type": "code",
   "execution_count": 26,
   "metadata": {},
   "outputs": [
    {
     "name": "stdout",
     "output_type": "stream",
     "text": [
      "CPU times: user 354 ms, sys: 40.3 ms, total: 394 ms\n",
      "Wall time: 2.31 s\n"
     ]
    },
    {
     "data": {
      "text/plain": [
       "name\n",
       "Alice      350\n",
       "Bob        302\n",
       "Charlie    378\n",
       "Dan        649\n",
       "Edith      666\n",
       "Name: id, dtype: int64"
      ]
     },
     "execution_count": 26,
     "metadata": {},
     "output_type": "execute_result"
    }
   ],
   "source": [
    "%time df1.groupby('name').id.count().compute().head()"
   ]
  },
  {
   "cell_type": "markdown",
   "metadata": {},
   "source": [
    "### Denormalization"
   ]
  },
  {
   "cell_type": "markdown",
   "metadata": {},
   "source": [
    "This DataFrame format is less-than-optimal because the `transactions` column is filled with nested data so Pandas has to revert to `object` dtype, which is quite slow in Pandas.  Ideally we want to transform to a dataframe only after we have flattened our data so that each record is a single `int`, `string`, `float`, etc.."
   ]
  },
  {
   "cell_type": "code",
   "execution_count": 27,
   "metadata": {},
   "outputs": [
    {
     "data": {
      "text/plain": [
       "({'id': 0, 'name': 'Xavier', 'amount': 2694, 'transaction-id': 467},\n",
       " {'id': 0, 'name': 'Xavier', 'amount': 2376, 'transaction-id': 511},\n",
       " {'id': 0, 'name': 'Xavier', 'amount': 2550, 'transaction-id': 810})"
      ]
     },
     "execution_count": 27,
     "metadata": {},
     "output_type": "execute_result"
    }
   ],
   "source": [
    "def denormalize(record):\n",
    "    # returns a list for every nested item, each transaction of each person\n",
    "    return [{'id': record['id'], \n",
    "             'name': record['name'], \n",
    "             'amount': transaction['amount'], \n",
    "             'transaction-id': transaction['transaction-id']}\n",
    "            for transaction in record['transactions']]\n",
    "\n",
    "transactions = js.map(denormalize).flatten()\n",
    "transactions.take(3)"
   ]
  },
  {
   "cell_type": "code",
   "execution_count": 28,
   "metadata": {},
   "outputs": [
    {
     "data": {
      "text/html": [
       "<div>\n",
       "<style scoped>\n",
       "    .dataframe tbody tr th:only-of-type {\n",
       "        vertical-align: middle;\n",
       "    }\n",
       "\n",
       "    .dataframe tbody tr th {\n",
       "        vertical-align: top;\n",
       "    }\n",
       "\n",
       "    .dataframe thead th {\n",
       "        text-align: right;\n",
       "    }\n",
       "</style>\n",
       "<table border=\"1\" class=\"dataframe\">\n",
       "  <thead>\n",
       "    <tr style=\"text-align: right;\">\n",
       "      <th></th>\n",
       "      <th>id</th>\n",
       "      <th>name</th>\n",
       "      <th>amount</th>\n",
       "      <th>transaction-id</th>\n",
       "    </tr>\n",
       "  </thead>\n",
       "  <tbody>\n",
       "    <tr>\n",
       "      <th>0</th>\n",
       "      <td>0</td>\n",
       "      <td>Xavier</td>\n",
       "      <td>2694</td>\n",
       "      <td>467</td>\n",
       "    </tr>\n",
       "    <tr>\n",
       "      <th>1</th>\n",
       "      <td>0</td>\n",
       "      <td>Xavier</td>\n",
       "      <td>2376</td>\n",
       "      <td>511</td>\n",
       "    </tr>\n",
       "    <tr>\n",
       "      <th>2</th>\n",
       "      <td>0</td>\n",
       "      <td>Xavier</td>\n",
       "      <td>2550</td>\n",
       "      <td>810</td>\n",
       "    </tr>\n",
       "    <tr>\n",
       "      <th>3</th>\n",
       "      <td>0</td>\n",
       "      <td>Xavier</td>\n",
       "      <td>2647</td>\n",
       "      <td>1448</td>\n",
       "    </tr>\n",
       "    <tr>\n",
       "      <th>4</th>\n",
       "      <td>0</td>\n",
       "      <td>Xavier</td>\n",
       "      <td>2370</td>\n",
       "      <td>1580</td>\n",
       "    </tr>\n",
       "  </tbody>\n",
       "</table>\n",
       "</div>"
      ],
      "text/plain": [
       "   id    name  amount  transaction-id\n",
       "0   0  Xavier    2694             467\n",
       "1   0  Xavier    2376             511\n",
       "2   0  Xavier    2550             810\n",
       "3   0  Xavier    2647            1448\n",
       "4   0  Xavier    2370            1580"
      ]
     },
     "execution_count": 28,
     "metadata": {},
     "output_type": "execute_result"
    }
   ],
   "source": [
    "df = transactions.to_dataframe()\n",
    "df.head()"
   ]
  },
  {
   "cell_type": "code",
   "execution_count": 29,
   "metadata": {},
   "outputs": [
    {
     "name": "stdout",
     "output_type": "stream",
     "text": [
      "CPU times: user 393 ms, sys: 12.5 ms, total: 405 ms\n",
      "Wall time: 1.97 s\n"
     ]
    },
    {
     "data": {
      "text/plain": [
       "name\n",
       "Alice       12737\n",
       "Bob         17780\n",
       "Charlie     11831\n",
       "Dan         25002\n",
       "Edith       29216\n",
       "Frank        7105\n",
       "George      15865\n",
       "Hannah      29255\n",
       "Ingrid      21436\n",
       "Jerry        6540\n",
       "Kevin       20947\n",
       "Laura       14147\n",
       "Michael     28429\n",
       "Norbert     22895\n",
       "Oliver      18862\n",
       "Patricia     8546\n",
       "Quinn       13105\n",
       "Ray         14894\n",
       "Sarah       20413\n",
       "Tim         20592\n",
       "Ursula      22915\n",
       "Victor       8884\n",
       "Wendy       36378\n",
       "Xavier      20344\n",
       "Yvonne      31315\n",
       "Zelda       20567\n",
       "Name: transaction-id, dtype: int64"
      ]
     },
     "execution_count": 29,
     "metadata": {},
     "output_type": "execute_result"
    }
   ],
   "source": [
    "%%time\n",
    "# number of transactions per name\n",
    "# note that the time here includes the data load and ingestion\n",
    "df.groupby('name')['transaction-id'].count().compute()"
   ]
  },
  {
   "cell_type": "markdown",
   "metadata": {},
   "source": [
    "## Limitations"
   ]
  },
  {
   "cell_type": "markdown",
   "metadata": {},
   "source": [
    "Bags provide very general computation (any Python function.)  This generality\n",
    "comes at cost.  Bags have the following known limitations\n",
    "\n",
    "1.  Bag operations tend to be slower than array/dataframe computations in the\n",
    "    same way that Python tends to be slower than NumPy/Pandas\n",
    "2.  ``Bag.groupby`` is slow.  You should try to use ``Bag.foldby`` if possible.\n",
    "    Using ``Bag.foldby`` requires more thought. Even better, consider creating\n",
    "    a normalised dataframe."
   ]
  },
  {
   "cell_type": "markdown",
   "metadata": {},
   "source": [
    "## Learn More\n",
    "\n",
    "* [Bag documentation](https://docs.dask.org/en/latest/bag.html)\n",
    "* [Bag screencast](https://youtu.be/-qIiJ1XtSv0)\n",
    "* [Bag API](https://docs.dask.org/en/latest/bag-api.html)\n",
    "* [Bag examples](https://examples.dask.org/bag.html)"
   ]
  },
  {
   "cell_type": "markdown",
   "metadata": {},
   "source": [
    "## Shutdown"
   ]
  },
  {
   "cell_type": "code",
   "execution_count": 30,
   "metadata": {},
   "outputs": [],
   "source": [
    "client.shutdown()"
   ]
  }
 ],
 "metadata": {
  "anaconda-cloud": {},
  "kernelspec": {
   "display_name": "Python 3",
   "language": "python",
   "name": "python3"
  },
  "language_info": {
   "codemirror_mode": {
    "name": "ipython",
    "version": 3
   },
   "file_extension": ".py",
   "mimetype": "text/x-python",
   "name": "python",
   "nbconvert_exporter": "python",
   "pygments_lexer": "ipython3",
   "version": "3.7.6"
  }
 },
 "nbformat": 4,
 "nbformat_minor": 4
}
