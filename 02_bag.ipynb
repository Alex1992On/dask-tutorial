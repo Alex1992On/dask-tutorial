{
 "cells": [
  {
   "cell_type": "markdown",
   "metadata": {},
   "source": [
    "<img src=\"images/dask_horizontal.svg\" align=\"right\" width=\"30%\">"
   ]
  },
  {
   "cell_type": "markdown",
   "metadata": {},
   "source": [
    "# Bag: Parallel Lists for semi-structured data"
   ]
  },
  {
   "cell_type": "markdown",
   "metadata": {},
   "source": [
    "Dask-bag excels in processing data that can be represented as a sequence of arbitrary inputs. We'll refer to this as \"messy\" data, because it can contain complex nested structures, missing fields, mixtures of data types, etc. The *functional* programming style fits very nicely with standard Python iteration, such as can be found in the `itertools` module.\n",
    "\n",
    "Messy data is often encountered at the beginning of data processing pipelines when large volumes of raw data are first consumed. The initial set of data might be JSON, CSV, XML, or any other format that does not enforce strict structure and datatypes.\n",
    "For this reason, the initial data massaging and processing is often done with Python `list`s, `dict`s, and `set`s.\n",
    "\n",
    "These core data structures are optimized for general-purpose storage and processing.  Adding streaming computation with iterators/generator expressions or libraries like `itertools` or [`toolz`](https://toolz.readthedocs.io/en/latest/) let us process large volumes in a small space.  If we combine this with parallel processing then we can churn through a fair amount of data.\n",
    "\n",
    "Dask.bag is a high level Dask collection to automate common workloads of this form.  In a nutshell\n",
    "\n",
    "    dask.bag = map, filter, toolz + parallel execution\n",
    "    \n",
    "**Related Documentation**\n",
    "\n",
    "* [Bag documentation](https://docs.dask.org/en/latest/bag.html)\n",
    "* [Bag screencast](https://youtu.be/-qIiJ1XtSv0)\n",
    "* [Bag API](https://docs.dask.org/en/latest/bag-api.html)\n",
    "* [Bag examples](https://examples.dask.org/bag.html)"
   ]
  },
  {
   "cell_type": "markdown",
   "metadata": {},
   "source": [
    "## Create data"
   ]
  },
  {
   "cell_type": "code",
   "execution_count": 1,
   "metadata": {},
   "outputs": [],
   "source": [
    "%run prep.py -d accounts"
   ]
  },
  {
   "cell_type": "markdown",
   "metadata": {},
   "source": [
    "## Setup"
   ]
  },
  {
   "cell_type": "markdown",
   "metadata": {},
   "source": [
    "Again, we'll use the distributed scheduler. Schedulers will be explained in depth [later](05_distributed.ipynb)."
   ]
  },
  {
   "cell_type": "code",
   "execution_count": 2,
   "metadata": {},
   "outputs": [],
   "source": [
    "from dask.distributed import Client\n",
    "\n",
    "client = Client(n_workers=4)"
   ]
  },
  {
   "cell_type": "markdown",
   "metadata": {},
   "source": [
    "## Creation"
   ]
  },
  {
   "cell_type": "markdown",
   "metadata": {},
   "source": [
    "You can create a `Bag` from a Python sequence, from files, from data on S3, etc.\n",
    "We demonstrate using `.take()` to show elements of the data. (Doing `.take(1)` results in a tuple with one element)\n",
    "\n",
    "Note that the data are partitioned into blocks, and there are many items per block. In the first example, the two partitions contain five elements each, and in the following two, each file is partitioned into one or more bytes blocks."
   ]
  },
  {
   "cell_type": "code",
   "execution_count": 3,
   "metadata": {},
   "outputs": [
    {
     "data": {
      "text/plain": [
       "(1, 2, 3)"
      ]
     },
     "execution_count": 3,
     "metadata": {},
     "output_type": "execute_result"
    }
   ],
   "source": [
    "# each element is an integer\n",
    "import dask.bag as db\n",
    "b = db.from_sequence([1, 2, 3, 4, 5, 6, 7, 8, 9, 10], npartitions=2)\n",
    "b.take(3)"
   ]
  },
  {
   "cell_type": "code",
   "execution_count": 4,
   "metadata": {},
   "outputs": [
    {
     "data": {
      "text/plain": [
       "('{\"id\": 0, \"name\": \"Laura\", \"transactions\": [{\"transaction-id\": 56, \"amount\": 829}, {\"transaction-id\": 116, \"amount\": 818}, {\"transaction-id\": 369, \"amount\": 822}, {\"transaction-id\": 801, \"amount\": 781}, {\"transaction-id\": 833, \"amount\": 758}, {\"transaction-id\": 1000, \"amount\": 756}, {\"transaction-id\": 1207, \"amount\": 761}, {\"transaction-id\": 1645, \"amount\": 819}, {\"transaction-id\": 2137, \"amount\": 772}, {\"transaction-id\": 2244, \"amount\": 772}, {\"transaction-id\": 2456, \"amount\": 851}, {\"transaction-id\": 2649, \"amount\": 789}, {\"transaction-id\": 2896, \"amount\": 807}, {\"transaction-id\": 2923, \"amount\": 753}, {\"transaction-id\": 2978, \"amount\": 795}, {\"transaction-id\": 3091, \"amount\": 801}, {\"transaction-id\": 3104, \"amount\": 763}, {\"transaction-id\": 3166, \"amount\": 759}, {\"transaction-id\": 3466, \"amount\": 807}, {\"transaction-id\": 3682, \"amount\": 835}, {\"transaction-id\": 3877, \"amount\": 785}, {\"transaction-id\": 4220, \"amount\": 812}, {\"transaction-id\": 4564, \"amount\": 839}, {\"transaction-id\": 4689, \"amount\": 830}, {\"transaction-id\": 5311, \"amount\": 783}, {\"transaction-id\": 5362, \"amount\": 781}, {\"transaction-id\": 5706, \"amount\": 803}, {\"transaction-id\": 5709, \"amount\": 807}, {\"transaction-id\": 5759, \"amount\": 812}, {\"transaction-id\": 5772, \"amount\": 783}, {\"transaction-id\": 5796, \"amount\": 759}, {\"transaction-id\": 5852, \"amount\": 790}, {\"transaction-id\": 5990, \"amount\": 815}, {\"transaction-id\": 6254, \"amount\": 776}, {\"transaction-id\": 6499, \"amount\": 785}, {\"transaction-id\": 6663, \"amount\": 796}, {\"transaction-id\": 6706, \"amount\": 792}, {\"transaction-id\": 6966, \"amount\": 812}, {\"transaction-id\": 7066, \"amount\": 814}, {\"transaction-id\": 7610, \"amount\": 803}, {\"transaction-id\": 7654, \"amount\": 775}, {\"transaction-id\": 7789, \"amount\": 830}, {\"transaction-id\": 7914, \"amount\": 788}, {\"transaction-id\": 7916, \"amount\": 857}, {\"transaction-id\": 8020, \"amount\": 805}, {\"transaction-id\": 8071, \"amount\": 859}, {\"transaction-id\": 8086, \"amount\": 835}, {\"transaction-id\": 8174, \"amount\": 772}, {\"transaction-id\": 8840, \"amount\": 824}, {\"transaction-id\": 8888, \"amount\": 800}, {\"transaction-id\": 8979, \"amount\": 819}, {\"transaction-id\": 9040, \"amount\": 750}, {\"transaction-id\": 9150, \"amount\": 796}, {\"transaction-id\": 9566, \"amount\": 825}, {\"transaction-id\": 9571, \"amount\": 761}, {\"transaction-id\": 9599, \"amount\": 759}, {\"transaction-id\": 9618, \"amount\": 861}, {\"transaction-id\": 9642, \"amount\": 804}, {\"transaction-id\": 9729, \"amount\": 841}]}\\n',)"
      ]
     },
     "execution_count": 4,
     "metadata": {},
     "output_type": "execute_result"
    }
   ],
   "source": [
    "# each element is a text file, where each line is a JSON object\n",
    "# note that the compression is handled automatically\n",
    "import os\n",
    "b = db.read_text(os.path.join('data', 'accounts.*.json.gz'))\n",
    "b.take(1)"
   ]
  },
  {
   "cell_type": "code",
   "execution_count": 5,
   "metadata": {},
   "outputs": [
    {
     "data": {
      "text/plain": [
       "('VendorID,tpep_pickup_datetime,tpep_dropoff_datetime,passenger_count,trip_distance,pickup_longitude,pickup_latitude,RateCodeID,store_and_fwd_flag,dropoff_longitude,dropoff_latitude,payment_type,fare_amount,extra,mta_tax,tip_amount,tolls_amount,improvement_surcharge,total_amount\\n',)"
      ]
     },
     "execution_count": 5,
     "metadata": {},
     "output_type": "execute_result"
    }
   ],
   "source": [
    "# Requires `s3fs` library\n",
    "# each partition is a remote CSV text file\n",
    "b = db.read_text('s3://dask-data/nyc-taxi/2015/yellow_tripdata_2015-01.csv',\n",
    "                 storage_options={'anon': True})\n",
    "b.take(1)"
   ]
  },
  {
   "cell_type": "markdown",
   "metadata": {},
   "source": [
    "## Manipulation"
   ]
  },
  {
   "cell_type": "markdown",
   "metadata": {},
   "source": [
    "`Bag` objects hold the standard functional API found in projects like the Python standard library, `toolz`, or `pyspark`, including `map`, `filter`, `groupby`, etc..\n",
    "\n",
    "Operations on `Bag` objects create new bags.  Call the `.compute()` method to trigger execution, as we saw for `Delayed` objects.  "
   ]
  },
  {
   "cell_type": "code",
   "execution_count": 6,
   "metadata": {},
   "outputs": [
    {
     "data": {
      "text/plain": [
       "dask.bag<lambda, npartitions=10>"
      ]
     },
     "execution_count": 6,
     "metadata": {},
     "output_type": "execute_result"
    }
   ],
   "source": [
    "def is_even(n):\n",
    "    return n % 2 == 0\n",
    "\n",
    "b = db.from_sequence([1, 2, 3, 4, 5, 6, 7, 8, 9, 10])\n",
    "c = b.filter(is_even).map(lambda x: x ** 2)\n",
    "c"
   ]
  },
  {
   "cell_type": "code",
   "execution_count": 7,
   "metadata": {},
   "outputs": [
    {
     "data": {
      "text/plain": [
       "[4, 16, 36, 64, 100]"
      ]
     },
     "execution_count": 7,
     "metadata": {},
     "output_type": "execute_result"
    }
   ],
   "source": [
    "# blocking form: wait for completion (which is very fast in this case)\n",
    "c.compute()"
   ]
  },
  {
   "cell_type": "markdown",
   "metadata": {},
   "source": [
    "### Example: Accounts JSON data"
   ]
  },
  {
   "cell_type": "markdown",
   "metadata": {},
   "source": [
    "We've created a fake dataset of gzipped JSON data in your data directory.  This is like the example used in the `DataFrame` example we will see later, except that it has bundled up all of the entires for each individual `id` into a single record.  This is similar to data that you might collect off of a document store database or a web API.\n",
    "\n",
    "Each line is a JSON encoded dictionary with the following keys\n",
    "\n",
    "*  id: Unique identifier of the customer\n",
    "*  name: Name of the customer\n",
    "*  transactions: List of `transaction-id`, `amount` pairs, one for each transaction for the customer in that file"
   ]
  },
  {
   "cell_type": "code",
   "execution_count": 8,
   "metadata": {},
   "outputs": [
    {
     "data": {
      "text/plain": [
       "('{\"id\": 0, \"name\": \"Laura\", \"transactions\": [{\"transaction-id\": 56, \"amount\": 829}, {\"transaction-id\": 116, \"amount\": 818}, {\"transaction-id\": 369, \"amount\": 822}, {\"transaction-id\": 801, \"amount\": 781}, {\"transaction-id\": 833, \"amount\": 758}, {\"transaction-id\": 1000, \"amount\": 756}, {\"transaction-id\": 1207, \"amount\": 761}, {\"transaction-id\": 1645, \"amount\": 819}, {\"transaction-id\": 2137, \"amount\": 772}, {\"transaction-id\": 2244, \"amount\": 772}, {\"transaction-id\": 2456, \"amount\": 851}, {\"transaction-id\": 2649, \"amount\": 789}, {\"transaction-id\": 2896, \"amount\": 807}, {\"transaction-id\": 2923, \"amount\": 753}, {\"transaction-id\": 2978, \"amount\": 795}, {\"transaction-id\": 3091, \"amount\": 801}, {\"transaction-id\": 3104, \"amount\": 763}, {\"transaction-id\": 3166, \"amount\": 759}, {\"transaction-id\": 3466, \"amount\": 807}, {\"transaction-id\": 3682, \"amount\": 835}, {\"transaction-id\": 3877, \"amount\": 785}, {\"transaction-id\": 4220, \"amount\": 812}, {\"transaction-id\": 4564, \"amount\": 839}, {\"transaction-id\": 4689, \"amount\": 830}, {\"transaction-id\": 5311, \"amount\": 783}, {\"transaction-id\": 5362, \"amount\": 781}, {\"transaction-id\": 5706, \"amount\": 803}, {\"transaction-id\": 5709, \"amount\": 807}, {\"transaction-id\": 5759, \"amount\": 812}, {\"transaction-id\": 5772, \"amount\": 783}, {\"transaction-id\": 5796, \"amount\": 759}, {\"transaction-id\": 5852, \"amount\": 790}, {\"transaction-id\": 5990, \"amount\": 815}, {\"transaction-id\": 6254, \"amount\": 776}, {\"transaction-id\": 6499, \"amount\": 785}, {\"transaction-id\": 6663, \"amount\": 796}, {\"transaction-id\": 6706, \"amount\": 792}, {\"transaction-id\": 6966, \"amount\": 812}, {\"transaction-id\": 7066, \"amount\": 814}, {\"transaction-id\": 7610, \"amount\": 803}, {\"transaction-id\": 7654, \"amount\": 775}, {\"transaction-id\": 7789, \"amount\": 830}, {\"transaction-id\": 7914, \"amount\": 788}, {\"transaction-id\": 7916, \"amount\": 857}, {\"transaction-id\": 8020, \"amount\": 805}, {\"transaction-id\": 8071, \"amount\": 859}, {\"transaction-id\": 8086, \"amount\": 835}, {\"transaction-id\": 8174, \"amount\": 772}, {\"transaction-id\": 8840, \"amount\": 824}, {\"transaction-id\": 8888, \"amount\": 800}, {\"transaction-id\": 8979, \"amount\": 819}, {\"transaction-id\": 9040, \"amount\": 750}, {\"transaction-id\": 9150, \"amount\": 796}, {\"transaction-id\": 9566, \"amount\": 825}, {\"transaction-id\": 9571, \"amount\": 761}, {\"transaction-id\": 9599, \"amount\": 759}, {\"transaction-id\": 9618, \"amount\": 861}, {\"transaction-id\": 9642, \"amount\": 804}, {\"transaction-id\": 9729, \"amount\": 841}]}\\n',\n",
       " '{\"id\": 1, \"name\": \"Kevin\", \"transactions\": [{\"transaction-id\": 211, \"amount\": 1970}, {\"transaction-id\": 1291, \"amount\": 1724}, {\"transaction-id\": 1580, \"amount\": 1779}, {\"transaction-id\": 2327, \"amount\": 2282}, {\"transaction-id\": 2411, \"amount\": 1607}, {\"transaction-id\": 3304, \"amount\": 1749}, {\"transaction-id\": 3884, \"amount\": 1814}, {\"transaction-id\": 4309, \"amount\": 2141}, {\"transaction-id\": 4582, \"amount\": 1993}, {\"transaction-id\": 4862, \"amount\": 2278}, {\"transaction-id\": 5124, \"amount\": 2253}, {\"transaction-id\": 5363, \"amount\": 2367}, {\"transaction-id\": 5816, \"amount\": 2344}, {\"transaction-id\": 5860, \"amount\": 1460}, {\"transaction-id\": 5922, \"amount\": 2078}, {\"transaction-id\": 7046, \"amount\": 1786}, {\"transaction-id\": 7223, \"amount\": 1864}, {\"transaction-id\": 7652, \"amount\": 2162}, {\"transaction-id\": 8419, \"amount\": 1941}, {\"transaction-id\": 8485, \"amount\": 2148}, {\"transaction-id\": 9256, \"amount\": 2051}, {\"transaction-id\": 9574, \"amount\": 2167}]}\\n',\n",
       " '{\"id\": 2, \"name\": \"Xavier\", \"transactions\": [{\"transaction-id\": 99, \"amount\": 249}, {\"transaction-id\": 186, \"amount\": 242}, {\"transaction-id\": 290, \"amount\": 235}, {\"transaction-id\": 534, \"amount\": 229}, {\"transaction-id\": 786, \"amount\": 247}, {\"transaction-id\": 978, \"amount\": 248}, {\"transaction-id\": 1184, \"amount\": 239}, {\"transaction-id\": 1233, \"amount\": 238}, {\"transaction-id\": 1508, \"amount\": 244}, {\"transaction-id\": 1626, \"amount\": 235}, {\"transaction-id\": 1672, \"amount\": 242}, {\"transaction-id\": 2213, \"amount\": 237}, {\"transaction-id\": 2321, \"amount\": 248}, {\"transaction-id\": 2601, \"amount\": 241}, {\"transaction-id\": 2679, \"amount\": 226}, {\"transaction-id\": 2690, \"amount\": 252}, {\"transaction-id\": 2694, \"amount\": 227}, {\"transaction-id\": 2959, \"amount\": 236}, {\"transaction-id\": 2977, \"amount\": 240}, {\"transaction-id\": 3467, \"amount\": 237}, {\"transaction-id\": 3850, \"amount\": 250}, {\"transaction-id\": 3989, \"amount\": 239}, {\"transaction-id\": 4349, \"amount\": 244}, {\"transaction-id\": 4355, \"amount\": 250}, {\"transaction-id\": 4473, \"amount\": 253}, {\"transaction-id\": 4593, \"amount\": 242}, {\"transaction-id\": 4634, \"amount\": 245}, {\"transaction-id\": 4857, \"amount\": 235}, {\"transaction-id\": 4913, \"amount\": 264}, {\"transaction-id\": 4915, \"amount\": 244}, {\"transaction-id\": 4918, \"amount\": 231}, {\"transaction-id\": 5126, \"amount\": 238}, {\"transaction-id\": 5391, \"amount\": 257}, {\"transaction-id\": 5499, \"amount\": 248}, {\"transaction-id\": 5565, \"amount\": 248}, {\"transaction-id\": 5624, \"amount\": 257}, {\"transaction-id\": 5633, \"amount\": 247}, {\"transaction-id\": 6084, \"amount\": 241}, {\"transaction-id\": 6224, \"amount\": 241}, {\"transaction-id\": 6236, \"amount\": 250}, {\"transaction-id\": 6333, \"amount\": 243}, {\"transaction-id\": 6343, \"amount\": 260}, {\"transaction-id\": 6346, \"amount\": 247}, {\"transaction-id\": 6585, \"amount\": 254}, {\"transaction-id\": 6615, \"amount\": 262}, {\"transaction-id\": 6712, \"amount\": 233}, {\"transaction-id\": 7011, \"amount\": 243}, {\"transaction-id\": 7118, \"amount\": 244}, {\"transaction-id\": 7311, \"amount\": 240}, {\"transaction-id\": 7314, \"amount\": 255}, {\"transaction-id\": 7328, \"amount\": 252}, {\"transaction-id\": 7559, \"amount\": 239}, {\"transaction-id\": 7615, \"amount\": 258}, {\"transaction-id\": 8084, \"amount\": 227}, {\"transaction-id\": 8123, \"amount\": 234}, {\"transaction-id\": 8705, \"amount\": 248}, {\"transaction-id\": 8787, \"amount\": 230}, {\"transaction-id\": 8892, \"amount\": 248}, {\"transaction-id\": 8963, \"amount\": 251}, {\"transaction-id\": 9035, \"amount\": 250}, {\"transaction-id\": 9036, \"amount\": 255}, {\"transaction-id\": 9163, \"amount\": 246}, {\"transaction-id\": 9358, \"amount\": 241}, {\"transaction-id\": 9427, \"amount\": 240}]}\\n')"
      ]
     },
     "execution_count": 8,
     "metadata": {},
     "output_type": "execute_result"
    }
   ],
   "source": [
    "filename = os.path.join('data', 'accounts.*.json.gz')\n",
    "lines = db.read_text(filename)\n",
    "lines.take(3)"
   ]
  },
  {
   "cell_type": "markdown",
   "metadata": {},
   "source": [
    "Our data comes out of the file as lines of text. Notice that file decompression happened automatically. We can make this data look more reasonable by mapping the `json.loads` function onto our bag."
   ]
  },
  {
   "cell_type": "code",
   "execution_count": 9,
   "metadata": {},
   "outputs": [
    {
     "data": {
      "text/plain": [
       "({'id': 0,\n",
       "  'name': 'Laura',\n",
       "  'transactions': [{'transaction-id': 56, 'amount': 829},\n",
       "   {'transaction-id': 116, 'amount': 818},\n",
       "   {'transaction-id': 369, 'amount': 822},\n",
       "   {'transaction-id': 801, 'amount': 781},\n",
       "   {'transaction-id': 833, 'amount': 758},\n",
       "   {'transaction-id': 1000, 'amount': 756},\n",
       "   {'transaction-id': 1207, 'amount': 761},\n",
       "   {'transaction-id': 1645, 'amount': 819},\n",
       "   {'transaction-id': 2137, 'amount': 772},\n",
       "   {'transaction-id': 2244, 'amount': 772},\n",
       "   {'transaction-id': 2456, 'amount': 851},\n",
       "   {'transaction-id': 2649, 'amount': 789},\n",
       "   {'transaction-id': 2896, 'amount': 807},\n",
       "   {'transaction-id': 2923, 'amount': 753},\n",
       "   {'transaction-id': 2978, 'amount': 795},\n",
       "   {'transaction-id': 3091, 'amount': 801},\n",
       "   {'transaction-id': 3104, 'amount': 763},\n",
       "   {'transaction-id': 3166, 'amount': 759},\n",
       "   {'transaction-id': 3466, 'amount': 807},\n",
       "   {'transaction-id': 3682, 'amount': 835},\n",
       "   {'transaction-id': 3877, 'amount': 785},\n",
       "   {'transaction-id': 4220, 'amount': 812},\n",
       "   {'transaction-id': 4564, 'amount': 839},\n",
       "   {'transaction-id': 4689, 'amount': 830},\n",
       "   {'transaction-id': 5311, 'amount': 783},\n",
       "   {'transaction-id': 5362, 'amount': 781},\n",
       "   {'transaction-id': 5706, 'amount': 803},\n",
       "   {'transaction-id': 5709, 'amount': 807},\n",
       "   {'transaction-id': 5759, 'amount': 812},\n",
       "   {'transaction-id': 5772, 'amount': 783},\n",
       "   {'transaction-id': 5796, 'amount': 759},\n",
       "   {'transaction-id': 5852, 'amount': 790},\n",
       "   {'transaction-id': 5990, 'amount': 815},\n",
       "   {'transaction-id': 6254, 'amount': 776},\n",
       "   {'transaction-id': 6499, 'amount': 785},\n",
       "   {'transaction-id': 6663, 'amount': 796},\n",
       "   {'transaction-id': 6706, 'amount': 792},\n",
       "   {'transaction-id': 6966, 'amount': 812},\n",
       "   {'transaction-id': 7066, 'amount': 814},\n",
       "   {'transaction-id': 7610, 'amount': 803},\n",
       "   {'transaction-id': 7654, 'amount': 775},\n",
       "   {'transaction-id': 7789, 'amount': 830},\n",
       "   {'transaction-id': 7914, 'amount': 788},\n",
       "   {'transaction-id': 7916, 'amount': 857},\n",
       "   {'transaction-id': 8020, 'amount': 805},\n",
       "   {'transaction-id': 8071, 'amount': 859},\n",
       "   {'transaction-id': 8086, 'amount': 835},\n",
       "   {'transaction-id': 8174, 'amount': 772},\n",
       "   {'transaction-id': 8840, 'amount': 824},\n",
       "   {'transaction-id': 8888, 'amount': 800},\n",
       "   {'transaction-id': 8979, 'amount': 819},\n",
       "   {'transaction-id': 9040, 'amount': 750},\n",
       "   {'transaction-id': 9150, 'amount': 796},\n",
       "   {'transaction-id': 9566, 'amount': 825},\n",
       "   {'transaction-id': 9571, 'amount': 761},\n",
       "   {'transaction-id': 9599, 'amount': 759},\n",
       "   {'transaction-id': 9618, 'amount': 861},\n",
       "   {'transaction-id': 9642, 'amount': 804},\n",
       "   {'transaction-id': 9729, 'amount': 841}]},\n",
       " {'id': 1,\n",
       "  'name': 'Kevin',\n",
       "  'transactions': [{'transaction-id': 211, 'amount': 1970},\n",
       "   {'transaction-id': 1291, 'amount': 1724},\n",
       "   {'transaction-id': 1580, 'amount': 1779},\n",
       "   {'transaction-id': 2327, 'amount': 2282},\n",
       "   {'transaction-id': 2411, 'amount': 1607},\n",
       "   {'transaction-id': 3304, 'amount': 1749},\n",
       "   {'transaction-id': 3884, 'amount': 1814},\n",
       "   {'transaction-id': 4309, 'amount': 2141},\n",
       "   {'transaction-id': 4582, 'amount': 1993},\n",
       "   {'transaction-id': 4862, 'amount': 2278},\n",
       "   {'transaction-id': 5124, 'amount': 2253},\n",
       "   {'transaction-id': 5363, 'amount': 2367},\n",
       "   {'transaction-id': 5816, 'amount': 2344},\n",
       "   {'transaction-id': 5860, 'amount': 1460},\n",
       "   {'transaction-id': 5922, 'amount': 2078},\n",
       "   {'transaction-id': 7046, 'amount': 1786},\n",
       "   {'transaction-id': 7223, 'amount': 1864},\n",
       "   {'transaction-id': 7652, 'amount': 2162},\n",
       "   {'transaction-id': 8419, 'amount': 1941},\n",
       "   {'transaction-id': 8485, 'amount': 2148},\n",
       "   {'transaction-id': 9256, 'amount': 2051},\n",
       "   {'transaction-id': 9574, 'amount': 2167}]},\n",
       " {'id': 2,\n",
       "  'name': 'Xavier',\n",
       "  'transactions': [{'transaction-id': 99, 'amount': 249},\n",
       "   {'transaction-id': 186, 'amount': 242},\n",
       "   {'transaction-id': 290, 'amount': 235},\n",
       "   {'transaction-id': 534, 'amount': 229},\n",
       "   {'transaction-id': 786, 'amount': 247},\n",
       "   {'transaction-id': 978, 'amount': 248},\n",
       "   {'transaction-id': 1184, 'amount': 239},\n",
       "   {'transaction-id': 1233, 'amount': 238},\n",
       "   {'transaction-id': 1508, 'amount': 244},\n",
       "   {'transaction-id': 1626, 'amount': 235},\n",
       "   {'transaction-id': 1672, 'amount': 242},\n",
       "   {'transaction-id': 2213, 'amount': 237},\n",
       "   {'transaction-id': 2321, 'amount': 248},\n",
       "   {'transaction-id': 2601, 'amount': 241},\n",
       "   {'transaction-id': 2679, 'amount': 226},\n",
       "   {'transaction-id': 2690, 'amount': 252},\n",
       "   {'transaction-id': 2694, 'amount': 227},\n",
       "   {'transaction-id': 2959, 'amount': 236},\n",
       "   {'transaction-id': 2977, 'amount': 240},\n",
       "   {'transaction-id': 3467, 'amount': 237},\n",
       "   {'transaction-id': 3850, 'amount': 250},\n",
       "   {'transaction-id': 3989, 'amount': 239},\n",
       "   {'transaction-id': 4349, 'amount': 244},\n",
       "   {'transaction-id': 4355, 'amount': 250},\n",
       "   {'transaction-id': 4473, 'amount': 253},\n",
       "   {'transaction-id': 4593, 'amount': 242},\n",
       "   {'transaction-id': 4634, 'amount': 245},\n",
       "   {'transaction-id': 4857, 'amount': 235},\n",
       "   {'transaction-id': 4913, 'amount': 264},\n",
       "   {'transaction-id': 4915, 'amount': 244},\n",
       "   {'transaction-id': 4918, 'amount': 231},\n",
       "   {'transaction-id': 5126, 'amount': 238},\n",
       "   {'transaction-id': 5391, 'amount': 257},\n",
       "   {'transaction-id': 5499, 'amount': 248},\n",
       "   {'transaction-id': 5565, 'amount': 248},\n",
       "   {'transaction-id': 5624, 'amount': 257},\n",
       "   {'transaction-id': 5633, 'amount': 247},\n",
       "   {'transaction-id': 6084, 'amount': 241},\n",
       "   {'transaction-id': 6224, 'amount': 241},\n",
       "   {'transaction-id': 6236, 'amount': 250},\n",
       "   {'transaction-id': 6333, 'amount': 243},\n",
       "   {'transaction-id': 6343, 'amount': 260},\n",
       "   {'transaction-id': 6346, 'amount': 247},\n",
       "   {'transaction-id': 6585, 'amount': 254},\n",
       "   {'transaction-id': 6615, 'amount': 262},\n",
       "   {'transaction-id': 6712, 'amount': 233},\n",
       "   {'transaction-id': 7011, 'amount': 243},\n",
       "   {'transaction-id': 7118, 'amount': 244},\n",
       "   {'transaction-id': 7311, 'amount': 240},\n",
       "   {'transaction-id': 7314, 'amount': 255},\n",
       "   {'transaction-id': 7328, 'amount': 252},\n",
       "   {'transaction-id': 7559, 'amount': 239},\n",
       "   {'transaction-id': 7615, 'amount': 258},\n",
       "   {'transaction-id': 8084, 'amount': 227},\n",
       "   {'transaction-id': 8123, 'amount': 234},\n",
       "   {'transaction-id': 8705, 'amount': 248},\n",
       "   {'transaction-id': 8787, 'amount': 230},\n",
       "   {'transaction-id': 8892, 'amount': 248},\n",
       "   {'transaction-id': 8963, 'amount': 251},\n",
       "   {'transaction-id': 9035, 'amount': 250},\n",
       "   {'transaction-id': 9036, 'amount': 255},\n",
       "   {'transaction-id': 9163, 'amount': 246},\n",
       "   {'transaction-id': 9358, 'amount': 241},\n",
       "   {'transaction-id': 9427, 'amount': 240}]})"
      ]
     },
     "execution_count": 9,
     "metadata": {},
     "output_type": "execute_result"
    }
   ],
   "source": [
    "import json\n",
    "js = lines.map(json.loads)\n",
    "# take: inspect first few elements\n",
    "js.take(3)"
   ]
  },
  {
   "cell_type": "markdown",
   "metadata": {},
   "source": [
    "### Basic Queries"
   ]
  },
  {
   "cell_type": "markdown",
   "metadata": {},
   "source": [
    "Once we parse our JSON data into proper Python objects (`dict`s, `list`s, etc.) we can perform more interesting queries by creating small Python functions to run on our data."
   ]
  },
  {
   "cell_type": "code",
   "execution_count": 10,
   "metadata": {},
   "outputs": [
    {
     "data": {
      "text/plain": [
       "({'id': 25,\n",
       "  'name': 'Alice',\n",
       "  'transactions': [{'transaction-id': 87, 'amount': 17},\n",
       "   {'transaction-id': 296, 'amount': 14},\n",
       "   {'transaction-id': 334, 'amount': 17},\n",
       "   {'transaction-id': 480, 'amount': 16},\n",
       "   {'transaction-id': 591, 'amount': 15},\n",
       "   {'transaction-id': 832, 'amount': 15},\n",
       "   {'transaction-id': 892, 'amount': 17},\n",
       "   {'transaction-id': 1194, 'amount': 18},\n",
       "   {'transaction-id': 1346, 'amount': 16},\n",
       "   {'transaction-id': 1627, 'amount': 17},\n",
       "   {'transaction-id': 1743, 'amount': 15},\n",
       "   {'transaction-id': 1942, 'amount': 16},\n",
       "   {'transaction-id': 2605, 'amount': 14},\n",
       "   {'transaction-id': 3703, 'amount': 16},\n",
       "   {'transaction-id': 4115, 'amount': 17},\n",
       "   {'transaction-id': 4437, 'amount': 18},\n",
       "   {'transaction-id': 4465, 'amount': 14},\n",
       "   {'transaction-id': 4596, 'amount': 17},\n",
       "   {'transaction-id': 4647, 'amount': 17},\n",
       "   {'transaction-id': 4744, 'amount': 16},\n",
       "   {'transaction-id': 4846, 'amount': 16},\n",
       "   {'transaction-id': 5191, 'amount': 16},\n",
       "   {'transaction-id': 5328, 'amount': 16},\n",
       "   {'transaction-id': 5436, 'amount': 15},\n",
       "   {'transaction-id': 5558, 'amount': 16},\n",
       "   {'transaction-id': 5595, 'amount': 17},\n",
       "   {'transaction-id': 5799, 'amount': 15},\n",
       "   {'transaction-id': 5851, 'amount': 16},\n",
       "   {'transaction-id': 6286, 'amount': 17},\n",
       "   {'transaction-id': 6358, 'amount': 15},\n",
       "   {'transaction-id': 6436, 'amount': 19},\n",
       "   {'transaction-id': 6650, 'amount': 17},\n",
       "   {'transaction-id': 6656, 'amount': 17},\n",
       "   {'transaction-id': 6698, 'amount': 15},\n",
       "   {'transaction-id': 6871, 'amount': 18},\n",
       "   {'transaction-id': 7271, 'amount': 18},\n",
       "   {'transaction-id': 7300, 'amount': 17},\n",
       "   {'transaction-id': 7334, 'amount': 17},\n",
       "   {'transaction-id': 7515, 'amount': 15},\n",
       "   {'transaction-id': 7704, 'amount': 17},\n",
       "   {'transaction-id': 7766, 'amount': 17},\n",
       "   {'transaction-id': 7922, 'amount': 18},\n",
       "   {'transaction-id': 8128, 'amount': 18},\n",
       "   {'transaction-id': 8275, 'amount': 15},\n",
       "   {'transaction-id': 8294, 'amount': 16},\n",
       "   {'transaction-id': 8618, 'amount': 15},\n",
       "   {'transaction-id': 8691, 'amount': 15},\n",
       "   {'transaction-id': 8700, 'amount': 18},\n",
       "   {'transaction-id': 8728, 'amount': 15},\n",
       "   {'transaction-id': 8812, 'amount': 16},\n",
       "   {'transaction-id': 8857, 'amount': 16},\n",
       "   {'transaction-id': 8970, 'amount': 17},\n",
       "   {'transaction-id': 9145, 'amount': 16},\n",
       "   {'transaction-id': 9239, 'amount': 16},\n",
       "   {'transaction-id': 9356, 'amount': 16},\n",
       "   {'transaction-id': 9410, 'amount': 16},\n",
       "   {'transaction-id': 9444, 'amount': 16},\n",
       "   {'transaction-id': 9493, 'amount': 16},\n",
       "   {'transaction-id': 9766, 'amount': 15},\n",
       "   {'transaction-id': 9769, 'amount': 15},\n",
       "   {'transaction-id': 9827, 'amount': 15}]},\n",
       " {'id': 29,\n",
       "  'name': 'Alice',\n",
       "  'transactions': [{'transaction-id': 408, 'amount': 1457},\n",
       "   {'transaction-id': 653, 'amount': 1463},\n",
       "   {'transaction-id': 935, 'amount': 1352},\n",
       "   {'transaction-id': 1433, 'amount': 1313},\n",
       "   {'transaction-id': 1470, 'amount': 1341},\n",
       "   {'transaction-id': 1611, 'amount': 1461},\n",
       "   {'transaction-id': 2165, 'amount': 1403},\n",
       "   {'transaction-id': 2345, 'amount': 1337},\n",
       "   {'transaction-id': 2761, 'amount': 1593},\n",
       "   {'transaction-id': 2808, 'amount': 1676},\n",
       "   {'transaction-id': 3361, 'amount': 1409},\n",
       "   {'transaction-id': 3383, 'amount': 1582},\n",
       "   {'transaction-id': 3622, 'amount': 1435},\n",
       "   {'transaction-id': 3840, 'amount': 1370},\n",
       "   {'transaction-id': 4224, 'amount': 1403},\n",
       "   {'transaction-id': 4648, 'amount': 1389},\n",
       "   {'transaction-id': 5199, 'amount': 1384},\n",
       "   {'transaction-id': 5279, 'amount': 1367},\n",
       "   {'transaction-id': 5691, 'amount': 1457},\n",
       "   {'transaction-id': 5723, 'amount': 1377},\n",
       "   {'transaction-id': 5739, 'amount': 1570},\n",
       "   {'transaction-id': 5870, 'amount': 1361},\n",
       "   {'transaction-id': 6217, 'amount': 1361},\n",
       "   {'transaction-id': 6410, 'amount': 1411},\n",
       "   {'transaction-id': 6570, 'amount': 1455},\n",
       "   {'transaction-id': 6769, 'amount': 1423},\n",
       "   {'transaction-id': 7188, 'amount': 1369},\n",
       "   {'transaction-id': 7202, 'amount': 1456},\n",
       "   {'transaction-id': 8117, 'amount': 1232},\n",
       "   {'transaction-id': 8226, 'amount': 1407},\n",
       "   {'transaction-id': 8263, 'amount': 1358},\n",
       "   {'transaction-id': 8337, 'amount': 1314},\n",
       "   {'transaction-id': 8384, 'amount': 1317},\n",
       "   {'transaction-id': 8673, 'amount': 1343},\n",
       "   {'transaction-id': 8754, 'amount': 1462},\n",
       "   {'transaction-id': 9297, 'amount': 1603},\n",
       "   {'transaction-id': 9657, 'amount': 1392},\n",
       "   {'transaction-id': 9741, 'amount': 1488},\n",
       "   {'transaction-id': 9817, 'amount': 1532}]},\n",
       " {'id': 85,\n",
       "  'name': 'Alice',\n",
       "  'transactions': [{'transaction-id': 93, 'amount': 2578},\n",
       "   {'transaction-id': 271, 'amount': 2986},\n",
       "   {'transaction-id': 1094, 'amount': 2613},\n",
       "   {'transaction-id': 1719, 'amount': 2476},\n",
       "   {'transaction-id': 2014, 'amount': 2523},\n",
       "   {'transaction-id': 2758, 'amount': 2790},\n",
       "   {'transaction-id': 3739, 'amount': 2258}]},\n",
       " {'id': 103,\n",
       "  'name': 'Alice',\n",
       "  'transactions': [{'transaction-id': 159, 'amount': 4431},\n",
       "   {'transaction-id': 403, 'amount': 4617},\n",
       "   {'transaction-id': 806, 'amount': 4455},\n",
       "   {'transaction-id': 838, 'amount': 4706},\n",
       "   {'transaction-id': 855, 'amount': 4428},\n",
       "   {'transaction-id': 1016, 'amount': 4441},\n",
       "   {'transaction-id': 1152, 'amount': 4534},\n",
       "   {'transaction-id': 1174, 'amount': 4515},\n",
       "   {'transaction-id': 1598, 'amount': 4922},\n",
       "   {'transaction-id': 1621, 'amount': 4573},\n",
       "   {'transaction-id': 1671, 'amount': 4662},\n",
       "   {'transaction-id': 1764, 'amount': 4372},\n",
       "   {'transaction-id': 1985, 'amount': 4666},\n",
       "   {'transaction-id': 2267, 'amount': 4347},\n",
       "   {'transaction-id': 2319, 'amount': 4583},\n",
       "   {'transaction-id': 2511, 'amount': 4685},\n",
       "   {'transaction-id': 2568, 'amount': 4214},\n",
       "   {'transaction-id': 2719, 'amount': 4472},\n",
       "   {'transaction-id': 2873, 'amount': 4513},\n",
       "   {'transaction-id': 2879, 'amount': 4358},\n",
       "   {'transaction-id': 2907, 'amount': 4463},\n",
       "   {'transaction-id': 2980, 'amount': 4441},\n",
       "   {'transaction-id': 2982, 'amount': 4312},\n",
       "   {'transaction-id': 3085, 'amount': 4713},\n",
       "   {'transaction-id': 3128, 'amount': 4717},\n",
       "   {'transaction-id': 3207, 'amount': 4848},\n",
       "   {'transaction-id': 3397, 'amount': 4617},\n",
       "   {'transaction-id': 3492, 'amount': 4566},\n",
       "   {'transaction-id': 3540, 'amount': 4744},\n",
       "   {'transaction-id': 3656, 'amount': 4637},\n",
       "   {'transaction-id': 3740, 'amount': 4317},\n",
       "   {'transaction-id': 3748, 'amount': 4617},\n",
       "   {'transaction-id': 3775, 'amount': 4465},\n",
       "   {'transaction-id': 3787, 'amount': 4508},\n",
       "   {'transaction-id': 3937, 'amount': 4701},\n",
       "   {'transaction-id': 4022, 'amount': 4537},\n",
       "   {'transaction-id': 4053, 'amount': 4189},\n",
       "   {'transaction-id': 4135, 'amount': 4526},\n",
       "   {'transaction-id': 4172, 'amount': 4235},\n",
       "   {'transaction-id': 4190, 'amount': 4389},\n",
       "   {'transaction-id': 4214, 'amount': 4532},\n",
       "   {'transaction-id': 4230, 'amount': 4725},\n",
       "   {'transaction-id': 4257, 'amount': 4595},\n",
       "   {'transaction-id': 4286, 'amount': 4287},\n",
       "   {'transaction-id': 4350, 'amount': 4320},\n",
       "   {'transaction-id': 4517, 'amount': 4338},\n",
       "   {'transaction-id': 4562, 'amount': 4453},\n",
       "   {'transaction-id': 4605, 'amount': 4290},\n",
       "   {'transaction-id': 4738, 'amount': 4669},\n",
       "   {'transaction-id': 5010, 'amount': 4891},\n",
       "   {'transaction-id': 5615, 'amount': 4594},\n",
       "   {'transaction-id': 5636, 'amount': 4569},\n",
       "   {'transaction-id': 5714, 'amount': 4703},\n",
       "   {'transaction-id': 5789, 'amount': 4238},\n",
       "   {'transaction-id': 5818, 'amount': 4504},\n",
       "   {'transaction-id': 5876, 'amount': 4485},\n",
       "   {'transaction-id': 6038, 'amount': 4567},\n",
       "   {'transaction-id': 6060, 'amount': 4532},\n",
       "   {'transaction-id': 6123, 'amount': 4298},\n",
       "   {'transaction-id': 6304, 'amount': 4545},\n",
       "   {'transaction-id': 6796, 'amount': 4670},\n",
       "   {'transaction-id': 7016, 'amount': 4486},\n",
       "   {'transaction-id': 7189, 'amount': 4817},\n",
       "   {'transaction-id': 7609, 'amount': 4331},\n",
       "   {'transaction-id': 7624, 'amount': 4542},\n",
       "   {'transaction-id': 7781, 'amount': 4670},\n",
       "   {'transaction-id': 8082, 'amount': 4760},\n",
       "   {'transaction-id': 8166, 'amount': 4425},\n",
       "   {'transaction-id': 8318, 'amount': 4409},\n",
       "   {'transaction-id': 8481, 'amount': 4467},\n",
       "   {'transaction-id': 8486, 'amount': 4567},\n",
       "   {'transaction-id': 8851, 'amount': 4568},\n",
       "   {'transaction-id': 8908, 'amount': 4241},\n",
       "   {'transaction-id': 9032, 'amount': 4730},\n",
       "   {'transaction-id': 9177, 'amount': 4516},\n",
       "   {'transaction-id': 9191, 'amount': 4556},\n",
       "   {'transaction-id': 9311, 'amount': 4164},\n",
       "   {'transaction-id': 9391, 'amount': 4482},\n",
       "   {'transaction-id': 9692, 'amount': 4518}]},\n",
       " {'id': 114,\n",
       "  'name': 'Alice',\n",
       "  'transactions': [{'transaction-id': 172, 'amount': -310},\n",
       "   {'transaction-id': 466, 'amount': -288},\n",
       "   {'transaction-id': 524, 'amount': -222},\n",
       "   {'transaction-id': 701, 'amount': -265},\n",
       "   {'transaction-id': 714, 'amount': -263},\n",
       "   {'transaction-id': 745, 'amount': -222},\n",
       "   {'transaction-id': 887, 'amount': -221},\n",
       "   {'transaction-id': 900, 'amount': -320},\n",
       "   {'transaction-id': 947, 'amount': -261},\n",
       "   {'transaction-id': 1215, 'amount': -238},\n",
       "   {'transaction-id': 1401, 'amount': -267},\n",
       "   {'transaction-id': 1887, 'amount': -266},\n",
       "   {'transaction-id': 1898, 'amount': -283},\n",
       "   {'transaction-id': 2118, 'amount': -185},\n",
       "   {'transaction-id': 2138, 'amount': -287},\n",
       "   {'transaction-id': 2291, 'amount': -263},\n",
       "   {'transaction-id': 2593, 'amount': -312},\n",
       "   {'transaction-id': 2680, 'amount': -228},\n",
       "   {'transaction-id': 3553, 'amount': -249},\n",
       "   {'transaction-id': 4097, 'amount': -240},\n",
       "   {'transaction-id': 4313, 'amount': -256},\n",
       "   {'transaction-id': 4583, 'amount': -237},\n",
       "   {'transaction-id': 4694, 'amount': -265},\n",
       "   {'transaction-id': 4963, 'amount': -235},\n",
       "   {'transaction-id': 4966, 'amount': -263},\n",
       "   {'transaction-id': 5047, 'amount': -241},\n",
       "   {'transaction-id': 5437, 'amount': -229},\n",
       "   {'transaction-id': 5584, 'amount': -234},\n",
       "   {'transaction-id': 5660, 'amount': -261},\n",
       "   {'transaction-id': 6172, 'amount': -242},\n",
       "   {'transaction-id': 6193, 'amount': -238},\n",
       "   {'transaction-id': 6353, 'amount': -250},\n",
       "   {'transaction-id': 6366, 'amount': -290},\n",
       "   {'transaction-id': 6434, 'amount': -282},\n",
       "   {'transaction-id': 6593, 'amount': -230},\n",
       "   {'transaction-id': 6616, 'amount': -283},\n",
       "   {'transaction-id': 6647, 'amount': -252},\n",
       "   {'transaction-id': 6664, 'amount': -260},\n",
       "   {'transaction-id': 6694, 'amount': -275},\n",
       "   {'transaction-id': 7333, 'amount': -230},\n",
       "   {'transaction-id': 7376, 'amount': -231},\n",
       "   {'transaction-id': 7408, 'amount': -294},\n",
       "   {'transaction-id': 7631, 'amount': -255},\n",
       "   {'transaction-id': 7753, 'amount': -266},\n",
       "   {'transaction-id': 7905, 'amount': -252},\n",
       "   {'transaction-id': 7985, 'amount': -255},\n",
       "   {'transaction-id': 8215, 'amount': -236},\n",
       "   {'transaction-id': 8228, 'amount': -273},\n",
       "   {'transaction-id': 8385, 'amount': -299},\n",
       "   {'transaction-id': 8747, 'amount': -252},\n",
       "   {'transaction-id': 9307, 'amount': -226},\n",
       "   {'transaction-id': 9408, 'amount': -262},\n",
       "   {'transaction-id': 9989, 'amount': -253},\n",
       "   {'transaction-id': 9996, 'amount': -250}]})"
      ]
     },
     "execution_count": 10,
     "metadata": {},
     "output_type": "execute_result"
    }
   ],
   "source": [
    "# filter: keep only some elements of the sequence\n",
    "js.filter(lambda record: record['name'] == 'Alice').take(5)"
   ]
  },
  {
   "cell_type": "code",
   "execution_count": 11,
   "metadata": {},
   "outputs": [
    {
     "data": {
      "text/plain": [
       "({'name': 'Alice', 'count': 61},\n",
       " {'name': 'Alice', 'count': 39},\n",
       " {'name': 'Alice', 'count': 7},\n",
       " {'name': 'Alice', 'count': 79},\n",
       " {'name': 'Alice', 'count': 54})"
      ]
     },
     "execution_count": 11,
     "metadata": {},
     "output_type": "execute_result"
    }
   ],
   "source": [
    "def count_transactions(d):\n",
    "    return {'name': d['name'], 'count': len(d['transactions'])}\n",
    "\n",
    "# map: apply a function to each element\n",
    "(js.filter(lambda record: record['name'] == 'Alice')\n",
    "   .map(count_transactions)\n",
    "   .take(5))"
   ]
  },
  {
   "cell_type": "code",
   "execution_count": 12,
   "metadata": {},
   "outputs": [
    {
     "data": {
      "text/plain": [
       "(61, 39, 7, 79, 54)"
      ]
     },
     "execution_count": 12,
     "metadata": {},
     "output_type": "execute_result"
    }
   ],
   "source": [
    "# pluck: select a field, as from a dictionary, element[field]\n",
    "(js.filter(lambda record: record['name'] == 'Alice')\n",
    "   .map(count_transactions)\n",
    "   .pluck('count')\n",
    "   .take(5))"
   ]
  },
  {
   "cell_type": "code",
   "execution_count": 13,
   "metadata": {},
   "outputs": [
    {
     "data": {
      "text/plain": [
       "51.353923205342234"
      ]
     },
     "execution_count": 13,
     "metadata": {},
     "output_type": "execute_result"
    }
   ],
   "source": [
    "# Average number of transactions for all of the Alice entries\n",
    "(js.filter(lambda record: record['name'] == 'Alice')\n",
    "   .map(count_transactions)\n",
    "   .pluck('count')\n",
    "   .mean()\n",
    "   .compute())"
   ]
  },
  {
   "cell_type": "markdown",
   "metadata": {},
   "source": [
    "### Use `flatten` to de-nest"
   ]
  },
  {
   "cell_type": "markdown",
   "metadata": {},
   "source": [
    "In the example below we see the use of `.flatten()` to flatten results.  We compute the average amount for all transactions for all Alices."
   ]
  },
  {
   "cell_type": "code",
   "execution_count": 14,
   "metadata": {},
   "outputs": [
    {
     "data": {
      "text/plain": [
       "([{'transaction-id': 87, 'amount': 17},\n",
       "  {'transaction-id': 296, 'amount': 14},\n",
       "  {'transaction-id': 334, 'amount': 17},\n",
       "  {'transaction-id': 480, 'amount': 16},\n",
       "  {'transaction-id': 591, 'amount': 15},\n",
       "  {'transaction-id': 832, 'amount': 15},\n",
       "  {'transaction-id': 892, 'amount': 17},\n",
       "  {'transaction-id': 1194, 'amount': 18},\n",
       "  {'transaction-id': 1346, 'amount': 16},\n",
       "  {'transaction-id': 1627, 'amount': 17},\n",
       "  {'transaction-id': 1743, 'amount': 15},\n",
       "  {'transaction-id': 1942, 'amount': 16},\n",
       "  {'transaction-id': 2605, 'amount': 14},\n",
       "  {'transaction-id': 3703, 'amount': 16},\n",
       "  {'transaction-id': 4115, 'amount': 17},\n",
       "  {'transaction-id': 4437, 'amount': 18},\n",
       "  {'transaction-id': 4465, 'amount': 14},\n",
       "  {'transaction-id': 4596, 'amount': 17},\n",
       "  {'transaction-id': 4647, 'amount': 17},\n",
       "  {'transaction-id': 4744, 'amount': 16},\n",
       "  {'transaction-id': 4846, 'amount': 16},\n",
       "  {'transaction-id': 5191, 'amount': 16},\n",
       "  {'transaction-id': 5328, 'amount': 16},\n",
       "  {'transaction-id': 5436, 'amount': 15},\n",
       "  {'transaction-id': 5558, 'amount': 16},\n",
       "  {'transaction-id': 5595, 'amount': 17},\n",
       "  {'transaction-id': 5799, 'amount': 15},\n",
       "  {'transaction-id': 5851, 'amount': 16},\n",
       "  {'transaction-id': 6286, 'amount': 17},\n",
       "  {'transaction-id': 6358, 'amount': 15},\n",
       "  {'transaction-id': 6436, 'amount': 19},\n",
       "  {'transaction-id': 6650, 'amount': 17},\n",
       "  {'transaction-id': 6656, 'amount': 17},\n",
       "  {'transaction-id': 6698, 'amount': 15},\n",
       "  {'transaction-id': 6871, 'amount': 18},\n",
       "  {'transaction-id': 7271, 'amount': 18},\n",
       "  {'transaction-id': 7300, 'amount': 17},\n",
       "  {'transaction-id': 7334, 'amount': 17},\n",
       "  {'transaction-id': 7515, 'amount': 15},\n",
       "  {'transaction-id': 7704, 'amount': 17},\n",
       "  {'transaction-id': 7766, 'amount': 17},\n",
       "  {'transaction-id': 7922, 'amount': 18},\n",
       "  {'transaction-id': 8128, 'amount': 18},\n",
       "  {'transaction-id': 8275, 'amount': 15},\n",
       "  {'transaction-id': 8294, 'amount': 16},\n",
       "  {'transaction-id': 8618, 'amount': 15},\n",
       "  {'transaction-id': 8691, 'amount': 15},\n",
       "  {'transaction-id': 8700, 'amount': 18},\n",
       "  {'transaction-id': 8728, 'amount': 15},\n",
       "  {'transaction-id': 8812, 'amount': 16},\n",
       "  {'transaction-id': 8857, 'amount': 16},\n",
       "  {'transaction-id': 8970, 'amount': 17},\n",
       "  {'transaction-id': 9145, 'amount': 16},\n",
       "  {'transaction-id': 9239, 'amount': 16},\n",
       "  {'transaction-id': 9356, 'amount': 16},\n",
       "  {'transaction-id': 9410, 'amount': 16},\n",
       "  {'transaction-id': 9444, 'amount': 16},\n",
       "  {'transaction-id': 9493, 'amount': 16},\n",
       "  {'transaction-id': 9766, 'amount': 15},\n",
       "  {'transaction-id': 9769, 'amount': 15},\n",
       "  {'transaction-id': 9827, 'amount': 15}],\n",
       " [{'transaction-id': 408, 'amount': 1457},\n",
       "  {'transaction-id': 653, 'amount': 1463},\n",
       "  {'transaction-id': 935, 'amount': 1352},\n",
       "  {'transaction-id': 1433, 'amount': 1313},\n",
       "  {'transaction-id': 1470, 'amount': 1341},\n",
       "  {'transaction-id': 1611, 'amount': 1461},\n",
       "  {'transaction-id': 2165, 'amount': 1403},\n",
       "  {'transaction-id': 2345, 'amount': 1337},\n",
       "  {'transaction-id': 2761, 'amount': 1593},\n",
       "  {'transaction-id': 2808, 'amount': 1676},\n",
       "  {'transaction-id': 3361, 'amount': 1409},\n",
       "  {'transaction-id': 3383, 'amount': 1582},\n",
       "  {'transaction-id': 3622, 'amount': 1435},\n",
       "  {'transaction-id': 3840, 'amount': 1370},\n",
       "  {'transaction-id': 4224, 'amount': 1403},\n",
       "  {'transaction-id': 4648, 'amount': 1389},\n",
       "  {'transaction-id': 5199, 'amount': 1384},\n",
       "  {'transaction-id': 5279, 'amount': 1367},\n",
       "  {'transaction-id': 5691, 'amount': 1457},\n",
       "  {'transaction-id': 5723, 'amount': 1377},\n",
       "  {'transaction-id': 5739, 'amount': 1570},\n",
       "  {'transaction-id': 5870, 'amount': 1361},\n",
       "  {'transaction-id': 6217, 'amount': 1361},\n",
       "  {'transaction-id': 6410, 'amount': 1411},\n",
       "  {'transaction-id': 6570, 'amount': 1455},\n",
       "  {'transaction-id': 6769, 'amount': 1423},\n",
       "  {'transaction-id': 7188, 'amount': 1369},\n",
       "  {'transaction-id': 7202, 'amount': 1456},\n",
       "  {'transaction-id': 8117, 'amount': 1232},\n",
       "  {'transaction-id': 8226, 'amount': 1407},\n",
       "  {'transaction-id': 8263, 'amount': 1358},\n",
       "  {'transaction-id': 8337, 'amount': 1314},\n",
       "  {'transaction-id': 8384, 'amount': 1317},\n",
       "  {'transaction-id': 8673, 'amount': 1343},\n",
       "  {'transaction-id': 8754, 'amount': 1462},\n",
       "  {'transaction-id': 9297, 'amount': 1603},\n",
       "  {'transaction-id': 9657, 'amount': 1392},\n",
       "  {'transaction-id': 9741, 'amount': 1488},\n",
       "  {'transaction-id': 9817, 'amount': 1532}],\n",
       " [{'transaction-id': 93, 'amount': 2578},\n",
       "  {'transaction-id': 271, 'amount': 2986},\n",
       "  {'transaction-id': 1094, 'amount': 2613},\n",
       "  {'transaction-id': 1719, 'amount': 2476},\n",
       "  {'transaction-id': 2014, 'amount': 2523},\n",
       "  {'transaction-id': 2758, 'amount': 2790},\n",
       "  {'transaction-id': 3739, 'amount': 2258}])"
      ]
     },
     "execution_count": 14,
     "metadata": {},
     "output_type": "execute_result"
    }
   ],
   "source": [
    "js.filter(lambda record: record['name'] == 'Alice').pluck('transactions').take(3)"
   ]
  },
  {
   "cell_type": "code",
   "execution_count": 15,
   "metadata": {},
   "outputs": [
    {
     "data": {
      "text/plain": [
       "({'transaction-id': 87, 'amount': 17},\n",
       " {'transaction-id': 296, 'amount': 14},\n",
       " {'transaction-id': 334, 'amount': 17})"
      ]
     },
     "execution_count": 15,
     "metadata": {},
     "output_type": "execute_result"
    }
   ],
   "source": [
    "(js.filter(lambda record: record['name'] == 'Alice')\n",
    "   .pluck('transactions')\n",
    "   .flatten()\n",
    "   .take(3))"
   ]
  },
  {
   "cell_type": "code",
   "execution_count": 16,
   "metadata": {},
   "outputs": [
    {
     "data": {
      "text/plain": [
       "(17, 14, 17)"
      ]
     },
     "execution_count": 16,
     "metadata": {},
     "output_type": "execute_result"
    }
   ],
   "source": [
    "(js.filter(lambda record: record['name'] == 'Alice')\n",
    "   .pluck('transactions')\n",
    "   .flatten()\n",
    "   .pluck('amount')\n",
    "   .take(3))"
   ]
  },
  {
   "cell_type": "code",
   "execution_count": 17,
   "metadata": {},
   "outputs": [
    {
     "data": {
      "text/plain": [
       "2118.1977829069274"
      ]
     },
     "execution_count": 17,
     "metadata": {},
     "output_type": "execute_result"
    }
   ],
   "source": [
    "(js.filter(lambda record: record['name'] == 'Alice')\n",
    "   .pluck('transactions')\n",
    "   .flatten()\n",
    "   .pluck('amount')\n",
    "   .mean()\n",
    "   .compute())"
   ]
  },
  {
   "cell_type": "markdown",
   "metadata": {},
   "source": [
    "### Groupby and Foldby"
   ]
  },
  {
   "cell_type": "markdown",
   "metadata": {},
   "source": [
    "Often we want to group data by some function or key.  We can do this either with the `.groupby` method, which is straightforward but forces a full shuffle of the data (expensive) or with the harder-to-use but faster `.foldby` method, which does a streaming combined groupby and reduction.\n",
    "\n",
    "*  `groupby`:  Shuffles data so that all items with the same key are in the same key-value pair\n",
    "*  `foldby`:  Walks through the data accumulating a result per key\n",
    "\n",
    "*Note: the full groupby is particularly bad. In actual workloads you would do well to use `foldby` or switch to `DataFrame`s if possible.*"
   ]
  },
  {
   "cell_type": "markdown",
   "metadata": {},
   "source": [
    "### `groupby`"
   ]
  },
  {
   "cell_type": "markdown",
   "metadata": {},
   "source": [
    "Groupby collects items in your collection so that all items with the same value under some function are collected together into a key-value pair."
   ]
  },
  {
   "cell_type": "code",
   "execution_count": 18,
   "metadata": {},
   "outputs": [
    {
     "data": {
      "text/plain": [
       "[(7, ['Charlie']), (3, ['Bob', 'Dan']), (5, ['Alice', 'Edith', 'Frank'])]"
      ]
     },
     "execution_count": 18,
     "metadata": {},
     "output_type": "execute_result"
    }
   ],
   "source": [
    "b = db.from_sequence(['Alice', 'Bob', 'Charlie', 'Dan', 'Edith', 'Frank'])\n",
    "b.groupby(len).compute()  # names grouped by length"
   ]
  },
  {
   "cell_type": "code",
   "execution_count": 19,
   "metadata": {},
   "outputs": [
    {
     "data": {
      "text/plain": [
       "[(0, [0, 2, 4, 6, 8]), (1, [1, 3, 5, 7, 9])]"
      ]
     },
     "execution_count": 19,
     "metadata": {},
     "output_type": "execute_result"
    }
   ],
   "source": [
    "b = db.from_sequence(list(range(10)))\n",
    "b.groupby(lambda x: x % 2).compute()"
   ]
  },
  {
   "cell_type": "code",
   "execution_count": 20,
   "metadata": {},
   "outputs": [
    {
     "data": {
      "text/plain": [
       "[(0, 8), (1, 9)]"
      ]
     },
     "execution_count": 20,
     "metadata": {},
     "output_type": "execute_result"
    }
   ],
   "source": [
    "b.groupby(lambda x: x % 2).starmap(lambda k, v: (k, max(v))).compute()"
   ]
  },
  {
   "cell_type": "markdown",
   "metadata": {},
   "source": [
    "### `foldby`"
   ]
  },
  {
   "cell_type": "markdown",
   "metadata": {},
   "source": [
    "Foldby can be quite odd at first.  It is similar to the following functions from other libraries:\n",
    "\n",
    "*  [`toolz.reduceby`](http://toolz.readthedocs.io/en/latest/streaming-analytics.html#streaming-split-apply-combine)\n",
    "*  [`pyspark.RDD.combineByKey`](http://abshinn.github.io/python/apache-spark/2014/10/11/using-combinebykey-in-apache-spark/)\n",
    "\n",
    "When using `foldby` you provide \n",
    "\n",
    "1.  A key function on which to group elements\n",
    "2.  A binary operator such as you would pass to `reduce` that you use to perform reduction per each group\n",
    "3.  A combine binary operator that can combine the results of two `reduce` calls on different parts of your dataset.\n",
    "\n",
    "Your reduction must be associative.  It will happen in parallel in each of the partitions of your dataset.  Then all of these intermediate results will be combined by the `combine` binary operator."
   ]
  },
  {
   "cell_type": "code",
   "execution_count": 21,
   "metadata": {},
   "outputs": [
    {
     "data": {
      "text/plain": [
       "[(0, 8), (1, 9)]"
      ]
     },
     "execution_count": 21,
     "metadata": {},
     "output_type": "execute_result"
    }
   ],
   "source": [
    "is_even = lambda x: x % 2\n",
    "b.foldby(is_even, binop=max, combine=max).compute()"
   ]
  },
  {
   "cell_type": "markdown",
   "metadata": {},
   "source": [
    "### Example with account data"
   ]
  },
  {
   "cell_type": "markdown",
   "metadata": {},
   "source": [
    "We find the number of people with the same name."
   ]
  },
  {
   "cell_type": "code",
   "execution_count": 22,
   "metadata": {},
   "outputs": [
    {
     "name": "stdout",
     "output_type": "stream",
     "text": [
      "[('Alice', 132), ('Alice', 132), ('Alice', 167), ('Alice', 168), ('Bob', 101), ('Bob', 129), ('Bob', 228), ('Charlie', 88), ('Charlie', 88), ('Charlie', 111), ('Charlie', 112), ('Dan', 88), ('Dan', 88), ('Dan', 112), ('Dan', 112), ('Edith', 128), ('Edith', 131), ('Edith', 163), ('Edith', 166), ('Frank', 53), ('Frank', 54), ('Frank', 68), ('Frank', 68), ('George', 109), ('George', 110), ('George', 140), ('George', 140), ('Hannah', 133), ('Hannah', 135), ('Hannah', 170), ('Hannah', 175), ('Ingrid', 77), ('Ingrid', 77), ('Ingrid', 98), ('Ingrid', 98), ('Jerry', 109), ('Jerry', 109), ('Jerry', 138), ('Jerry', 138), ('Kevin', 107), ('Kevin', 108), ('Kevin', 137), ('Kevin', 139), ('Laura', 121), ('Laura', 121), ('Laura', 153), ('Laura', 153), ('Michael', 99), ('Michael', 99), ('Michael', 126), ('Michael', 126), ('Norbert', 99), ('Norbert', 99), ('Norbert', 125), ('Norbert', 126), ('Oliver', 55), ('Oliver', 55), ('Oliver', 70), ('Oliver', 70), ('Patricia', 43), ('Patricia', 44), ('Patricia', 56), ('Patricia', 56), ('Quinn', 150), ('Quinn', 153), ('Quinn', 191), ('Quinn', 192), ('Ray', 99), ('Ray', 99), ('Ray', 126), ('Ray', 126), ('Sarah', 110), ('Sarah', 110), ('Sarah', 140), ('Sarah', 140), ('Tim', 88), ('Tim', 88), ('Tim', 112), ('Tim', 112), ('Ursula', 106), ('Ursula', 109), ('Ursula', 137), ('Ursula', 137), ('Victor', 165), ('Victor', 165), ('Victor', 210), ('Victor', 210), ('Wendy', 112), ('Wendy', 112), ('Wendy', 142), ('Wendy', 148), ('Xavier', 115), ('Xavier', 115), ('Xavier', 146), ('Xavier', 151), ('Yvonne', 66), ('Yvonne', 66), ('Yvonne', 84), ('Yvonne', 84), ('Zelda', 143), ('Zelda', 143), ('Zelda', 182), ('Zelda', 182)]\n",
      "CPU times: user 4.74 s, sys: 350 ms, total: 5.09 s\n",
      "Wall time: 1min 5s\n"
     ]
    }
   ],
   "source": [
    "%%time\n",
    "# Warning, this one takes a while...\n",
    "result = js.groupby(lambda item: item['name']).starmap(lambda k, v: (k, len(v))).compute()\n",
    "print(sorted(result))"
   ]
  },
  {
   "cell_type": "code",
   "execution_count": 23,
   "metadata": {},
   "outputs": [
    {
     "name": "stdout",
     "output_type": "stream",
     "text": [
      "[('Alice', 599), ('Bob', 458), ('Charlie', 399), ('Dan', 400), ('Edith', 588), ('Frank', 243), ('George', 499), ('Hannah', 613), ('Ingrid', 350), ('Jerry', 494), ('Kevin', 491), ('Laura', 548), ('Michael', 450), ('Norbert', 449), ('Oliver', 250), ('Patricia', 199), ('Quinn', 686), ('Ray', 450), ('Sarah', 500), ('Tim', 400), ('Ursula', 489), ('Victor', 750), ('Wendy', 514), ('Xavier', 527), ('Yvonne', 300), ('Zelda', 650)]\n",
      "CPU times: user 182 ms, sys: 9.15 ms, total: 191 ms\n",
      "Wall time: 632 ms\n"
     ]
    }
   ],
   "source": [
    "%%time\n",
    "# This one is comparatively fast and produces the same result.\n",
    "from operator import add\n",
    "def incr(tot, _):\n",
    "    return tot+1\n",
    "\n",
    "result = js.foldby(key='name', \n",
    "                   binop=incr, \n",
    "                   initial=0, \n",
    "                   combine=add, \n",
    "                   combine_initial=0).compute()\n",
    "print(sorted(result))"
   ]
  },
  {
   "cell_type": "markdown",
   "metadata": {},
   "source": [
    "### Exercise: compute total amount per name"
   ]
  },
  {
   "cell_type": "markdown",
   "metadata": {},
   "source": [
    "We want to groupby (or foldby) the `name` key, then add up the all of the amounts for each name.\n",
    "\n",
    "Steps\n",
    "\n",
    "1.  Create a small function that, given a dictionary like \n",
    "\n",
    "        {'name': 'Alice', 'transactions': [{'amount': 1, 'id': 123}, {'amount': 2, 'id': 456}]}\n",
    "        \n",
    "    produces the sum of the amounts, e.g. `3`\n",
    "    \n",
    "2.  Slightly change the binary operator of the `foldby` example above so that the binary operator doesn't count the number of entries, but instead accumulates the sum of the amounts."
   ]
  },
  {
   "cell_type": "code",
   "execution_count": 24,
   "metadata": {},
   "outputs": [],
   "source": [
    "# Your code here..."
   ]
  },
  {
   "cell_type": "markdown",
   "metadata": {},
   "source": [
    "## DataFrames"
   ]
  },
  {
   "cell_type": "markdown",
   "metadata": {},
   "source": [
    "For the same reasons that Pandas is often faster than pure Python, `dask.dataframe` can be faster than `dask.bag`.  We will work more with DataFrames later, but from for the bag point of view, they are frequently the end-point of the \"messy\" part of data ingestion—once the data can be made into a data-frame, then complex split-apply-combine logic will become much more straight-forward and efficient.\n",
    "\n",
    "You can transform a bag with a simple tuple or flat dictionary structure into a `dask.dataframe` with the `to_dataframe` method."
   ]
  },
  {
   "cell_type": "code",
   "execution_count": 25,
   "metadata": {},
   "outputs": [
    {
     "data": {
      "text/html": [
       "<div>\n",
       "<style scoped>\n",
       "    .dataframe tbody tr th:only-of-type {\n",
       "        vertical-align: middle;\n",
       "    }\n",
       "\n",
       "    .dataframe tbody tr th {\n",
       "        vertical-align: top;\n",
       "    }\n",
       "\n",
       "    .dataframe thead th {\n",
       "        text-align: right;\n",
       "    }\n",
       "</style>\n",
       "<table border=\"1\" class=\"dataframe\">\n",
       "  <thead>\n",
       "    <tr style=\"text-align: right;\">\n",
       "      <th></th>\n",
       "      <th>id</th>\n",
       "      <th>name</th>\n",
       "      <th>transactions</th>\n",
       "    </tr>\n",
       "  </thead>\n",
       "  <tbody>\n",
       "    <tr>\n",
       "      <th>0</th>\n",
       "      <td>0</td>\n",
       "      <td>Laura</td>\n",
       "      <td>[{'transaction-id': 56, 'amount': 829}, {'tran...</td>\n",
       "    </tr>\n",
       "    <tr>\n",
       "      <th>1</th>\n",
       "      <td>1</td>\n",
       "      <td>Kevin</td>\n",
       "      <td>[{'transaction-id': 211, 'amount': 1970}, {'tr...</td>\n",
       "    </tr>\n",
       "    <tr>\n",
       "      <th>2</th>\n",
       "      <td>2</td>\n",
       "      <td>Xavier</td>\n",
       "      <td>[{'transaction-id': 99, 'amount': 249}, {'tran...</td>\n",
       "    </tr>\n",
       "    <tr>\n",
       "      <th>3</th>\n",
       "      <td>3</td>\n",
       "      <td>Victor</td>\n",
       "      <td>[{'transaction-id': 390, 'amount': 1588}, {'tr...</td>\n",
       "    </tr>\n",
       "    <tr>\n",
       "      <th>4</th>\n",
       "      <td>4</td>\n",
       "      <td>Wendy</td>\n",
       "      <td>[{'transaction-id': 1820, 'amount': 2760}, {'t...</td>\n",
       "    </tr>\n",
       "  </tbody>\n",
       "</table>\n",
       "</div>"
      ],
      "text/plain": [
       "   id    name                                       transactions\n",
       "0   0   Laura  [{'transaction-id': 56, 'amount': 829}, {'tran...\n",
       "1   1   Kevin  [{'transaction-id': 211, 'amount': 1970}, {'tr...\n",
       "2   2  Xavier  [{'transaction-id': 99, 'amount': 249}, {'tran...\n",
       "3   3  Victor  [{'transaction-id': 390, 'amount': 1588}, {'tr...\n",
       "4   4   Wendy  [{'transaction-id': 1820, 'amount': 2760}, {'t..."
      ]
     },
     "execution_count": 25,
     "metadata": {},
     "output_type": "execute_result"
    }
   ],
   "source": [
    "df1 = js.to_dataframe()\n",
    "df1.head()"
   ]
  },
  {
   "cell_type": "markdown",
   "metadata": {},
   "source": [
    "This now looks like a well-defined DataFrame, and we can apply Pandas-like computations to it efficiently."
   ]
  },
  {
   "cell_type": "markdown",
   "metadata": {},
   "source": [
    "Using a Dask DataFrame, how long does it take to do our prior computation of numbers of people with the same name?  It turns out that `dask.dataframe.groupby()` beats `dask.bag.groupby()` more than an order of magnitude; but it still cannot match `dask.bag.foldby()` for this case."
   ]
  },
  {
   "cell_type": "code",
   "execution_count": 26,
   "metadata": {},
   "outputs": [
    {
     "name": "stdout",
     "output_type": "stream",
     "text": [
      "CPU times: user 226 ms, sys: 22.3 ms, total: 249 ms\n",
      "Wall time: 1.75 s\n"
     ]
    },
    {
     "data": {
      "text/plain": [
       "name\n",
       "Alice      599\n",
       "Bob        458\n",
       "Charlie    399\n",
       "Dan        400\n",
       "Edith      588\n",
       "Name: id, dtype: int64"
      ]
     },
     "execution_count": 26,
     "metadata": {},
     "output_type": "execute_result"
    }
   ],
   "source": [
    "%time df1.groupby('name').id.count().compute().head()"
   ]
  },
  {
   "cell_type": "markdown",
   "metadata": {},
   "source": [
    "### Denormalization"
   ]
  },
  {
   "cell_type": "markdown",
   "metadata": {},
   "source": [
    "This DataFrame format is less-than-optimal because the `transactions` column is filled with nested data so Pandas has to revert to `object` dtype, which is quite slow in Pandas.  Ideally we want to transform to a dataframe only after we have flattened our data so that each record is a single `int`, `string`, `float`, etc.."
   ]
  },
  {
   "cell_type": "code",
   "execution_count": 27,
   "metadata": {},
   "outputs": [
    {
     "data": {
      "text/plain": [
       "({'id': 0, 'name': 'Laura', 'amount': 829, 'transaction-id': 56},\n",
       " {'id': 0, 'name': 'Laura', 'amount': 818, 'transaction-id': 116},\n",
       " {'id': 0, 'name': 'Laura', 'amount': 822, 'transaction-id': 369})"
      ]
     },
     "execution_count": 27,
     "metadata": {},
     "output_type": "execute_result"
    }
   ],
   "source": [
    "def denormalize(record):\n",
    "    # returns a list for every nested item, each transaction of each person\n",
    "    return [{'id': record['id'], \n",
    "             'name': record['name'], \n",
    "             'amount': transaction['amount'], \n",
    "             'transaction-id': transaction['transaction-id']}\n",
    "            for transaction in record['transactions']]\n",
    "\n",
    "transactions = js.map(denormalize).flatten()\n",
    "transactions.take(3)"
   ]
  },
  {
   "cell_type": "code",
   "execution_count": 28,
   "metadata": {},
   "outputs": [
    {
     "data": {
      "text/html": [
       "<div>\n",
       "<style scoped>\n",
       "    .dataframe tbody tr th:only-of-type {\n",
       "        vertical-align: middle;\n",
       "    }\n",
       "\n",
       "    .dataframe tbody tr th {\n",
       "        vertical-align: top;\n",
       "    }\n",
       "\n",
       "    .dataframe thead th {\n",
       "        text-align: right;\n",
       "    }\n",
       "</style>\n",
       "<table border=\"1\" class=\"dataframe\">\n",
       "  <thead>\n",
       "    <tr style=\"text-align: right;\">\n",
       "      <th></th>\n",
       "      <th>id</th>\n",
       "      <th>name</th>\n",
       "      <th>amount</th>\n",
       "      <th>transaction-id</th>\n",
       "    </tr>\n",
       "  </thead>\n",
       "  <tbody>\n",
       "    <tr>\n",
       "      <th>0</th>\n",
       "      <td>0</td>\n",
       "      <td>Laura</td>\n",
       "      <td>829</td>\n",
       "      <td>56</td>\n",
       "    </tr>\n",
       "    <tr>\n",
       "      <th>1</th>\n",
       "      <td>0</td>\n",
       "      <td>Laura</td>\n",
       "      <td>818</td>\n",
       "      <td>116</td>\n",
       "    </tr>\n",
       "    <tr>\n",
       "      <th>2</th>\n",
       "      <td>0</td>\n",
       "      <td>Laura</td>\n",
       "      <td>822</td>\n",
       "      <td>369</td>\n",
       "    </tr>\n",
       "    <tr>\n",
       "      <th>3</th>\n",
       "      <td>0</td>\n",
       "      <td>Laura</td>\n",
       "      <td>781</td>\n",
       "      <td>801</td>\n",
       "    </tr>\n",
       "    <tr>\n",
       "      <th>4</th>\n",
       "      <td>0</td>\n",
       "      <td>Laura</td>\n",
       "      <td>758</td>\n",
       "      <td>833</td>\n",
       "    </tr>\n",
       "  </tbody>\n",
       "</table>\n",
       "</div>"
      ],
      "text/plain": [
       "   id   name  amount  transaction-id\n",
       "0   0  Laura     829              56\n",
       "1   0  Laura     818             116\n",
       "2   0  Laura     822             369\n",
       "3   0  Laura     781             801\n",
       "4   0  Laura     758             833"
      ]
     },
     "execution_count": 28,
     "metadata": {},
     "output_type": "execute_result"
    }
   ],
   "source": [
    "df = transactions.to_dataframe()\n",
    "df.head()"
   ]
  },
  {
   "cell_type": "code",
   "execution_count": 29,
   "metadata": {},
   "outputs": [
    {
     "name": "stdout",
     "output_type": "stream",
     "text": [
      "CPU times: user 237 ms, sys: 17.2 ms, total: 254 ms\n",
      "Wall time: 1.54 s\n"
     ]
    },
    {
     "data": {
      "text/plain": [
       "name\n",
       "Alice       30761\n",
       "Bob         23609\n",
       "Charlie     14374\n",
       "Dan         10755\n",
       "Edith       17300\n",
       "Frank        2731\n",
       "George      17491\n",
       "Hannah      26809\n",
       "Ingrid       8833\n",
       "Jerry       24056\n",
       "Kevin       28192\n",
       "Laura       18242\n",
       "Michael     13012\n",
       "Norbert     14154\n",
       "Oliver       4669\n",
       "Patricia     3772\n",
       "Quinn       31890\n",
       "Ray         12847\n",
       "Sarah       31531\n",
       "Tim         18266\n",
       "Ursula      24150\n",
       "Victor      38929\n",
       "Wendy       18709\n",
       "Xavier      35609\n",
       "Yvonne      11878\n",
       "Zelda       17431\n",
       "Name: transaction-id, dtype: int64"
      ]
     },
     "execution_count": 29,
     "metadata": {},
     "output_type": "execute_result"
    }
   ],
   "source": [
    "%%time\n",
    "# number of transactions per name\n",
    "# note that the time here includes the data load and ingestion\n",
    "df.groupby('name')['transaction-id'].count().compute()"
   ]
  },
  {
   "cell_type": "markdown",
   "metadata": {},
   "source": [
    "## Limitations"
   ]
  },
  {
   "cell_type": "markdown",
   "metadata": {},
   "source": [
    "Bags provide very general computation (any Python function.)  This generality\n",
    "comes at cost.  Bags have the following known limitations\n",
    "\n",
    "1.  Bag operations tend to be slower than array/dataframe computations in the\n",
    "    same way that Python tends to be slower than NumPy/Pandas\n",
    "2.  ``Bag.groupby`` is slow.  You should try to use ``Bag.foldby`` if possible.\n",
    "    Using ``Bag.foldby`` requires more thought. Even better, consider creating\n",
    "    a normalised dataframe."
   ]
  },
  {
   "cell_type": "markdown",
   "metadata": {},
   "source": [
    "## Learn More\n",
    "\n",
    "* [Bag documentation](https://docs.dask.org/en/latest/bag.html)\n",
    "* [Bag screencast](https://youtu.be/-qIiJ1XtSv0)\n",
    "* [Bag API](https://docs.dask.org/en/latest/bag-api.html)\n",
    "* [Bag examples](https://examples.dask.org/bag.html)"
   ]
  },
  {
   "cell_type": "markdown",
   "metadata": {},
   "source": [
    "## Shutdown"
   ]
  },
  {
   "cell_type": "code",
   "execution_count": 30,
   "metadata": {},
   "outputs": [],
   "source": [
    "client.shutdown()"
   ]
  }
 ],
 "metadata": {
  "anaconda-cloud": {},
  "kernelspec": {
   "display_name": "Python 3",
   "language": "python",
   "name": "python3"
  },
  "language_info": {
   "codemirror_mode": {
    "name": "ipython",
    "version": 3
   },
   "file_extension": ".py",
   "mimetype": "text/x-python",
   "name": "python",
   "nbconvert_exporter": "python",
   "pygments_lexer": "ipython3",
   "version": "3.7.6"
  }
 },
 "nbformat": 4,
 "nbformat_minor": 4
}
