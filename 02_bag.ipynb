{
 "cells": [
  {
   "cell_type": "markdown",
   "metadata": {},
   "source": [
    "<img src=\"images/dask_horizontal.svg\" align=\"right\" width=\"30%\">"
   ]
  },
  {
   "cell_type": "markdown",
   "metadata": {},
   "source": [
    "# Bag: Parallel Lists for semi-structured data"
   ]
  },
  {
   "cell_type": "markdown",
   "metadata": {},
   "source": [
    "Dask-bag excels in processing data that can be represented as a sequence of arbitrary inputs. We'll refer to this as \"messy\" data, because it can contain complex nested structures, missing fields, mixtures of data types, etc. The *functional* programming style fits very nicely with standard Python iteration, such as can be found in the `itertools` module.\n",
    "\n",
    "Messy data is often encountered at the beginning of data processing pipelines when large volumes of raw data are first consumed. The initial set of data might be JSON, CSV, XML, or any other format that does not enforce strict structure and datatypes.\n",
    "For this reason, the initial data massaging and processing is often done with Python `list`s, `dict`s, and `set`s.\n",
    "\n",
    "These core data structures are optimized for general-purpose storage and processing.  Adding streaming computation with iterators/generator expressions or libraries like `itertools` or [`toolz`](https://toolz.readthedocs.io/en/latest/) let us process large volumes in a small space.  If we combine this with parallel processing then we can churn through a fair amount of data.\n",
    "\n",
    "Dask.bag is a high level Dask collection to automate common workloads of this form.  In a nutshell\n",
    "\n",
    "    dask.bag = map, filter, toolz + parallel execution\n",
    "    \n",
    "**Related Documentation**\n",
    "\n",
    "* [Bag documentation](https://docs.dask.org/en/latest/bag.html)\n",
    "* [Bag screencast](https://youtu.be/-qIiJ1XtSv0)\n",
    "* [Bag API](https://docs.dask.org/en/latest/bag-api.html)\n",
    "* [Bag examples](https://examples.dask.org/bag.html)"
   ]
  },
  {
   "cell_type": "markdown",
   "metadata": {},
   "source": [
    "## Create data"
   ]
  },
  {
   "cell_type": "code",
   "execution_count": 1,
   "metadata": {},
   "outputs": [],
   "source": [
    "%run prep.py -d accounts"
   ]
  },
  {
   "cell_type": "markdown",
   "metadata": {},
   "source": [
    "## Setup"
   ]
  },
  {
   "cell_type": "markdown",
   "metadata": {},
   "source": [
    "Again, we'll use the distributed scheduler. Schedulers will be explained in depth [later](05_distributed.ipynb)."
   ]
  },
  {
   "cell_type": "code",
   "execution_count": 2,
   "metadata": {},
   "outputs": [],
   "source": [
    "from dask.distributed import Client\n",
    "\n",
    "client = Client(n_workers=4)"
   ]
  },
  {
   "cell_type": "markdown",
   "metadata": {},
   "source": [
    "## Creation"
   ]
  },
  {
   "cell_type": "markdown",
   "metadata": {},
   "source": [
    "You can create a `Bag` from a Python sequence, from files, from data on S3, etc.\n",
    "We demonstrate using `.take()` to show elements of the data. (Doing `.take(1)` results in a tuple with one element)\n",
    "\n",
    "Note that the data are partitioned into blocks, and there are many items per block. In the first example, the two partitions contain five elements each, and in the following two, each file is partitioned into one or more bytes blocks."
   ]
  },
  {
   "cell_type": "code",
   "execution_count": 3,
   "metadata": {},
   "outputs": [
    {
     "data": {
      "text/plain": [
       "(1, 2, 3)"
      ]
     },
     "execution_count": 3,
     "metadata": {},
     "output_type": "execute_result"
    }
   ],
   "source": [
    "# each element is an integer\n",
    "import dask.bag as db\n",
    "b = db.from_sequence([1, 2, 3, 4, 5, 6, 7, 8, 9, 10], npartitions=2)\n",
    "b.take(3)"
   ]
  },
  {
   "cell_type": "code",
   "execution_count": 4,
   "metadata": {},
   "outputs": [
    {
     "data": {
      "text/plain": [
       "('{\"id\": 0, \"name\": \"Michael\", \"transactions\": [{\"transaction-id\": 1, \"amount\": 366}, {\"transaction-id\": 2, \"amount\": 381}, {\"transaction-id\": 55, \"amount\": 346}, {\"transaction-id\": 90, \"amount\": 344}, {\"transaction-id\": 102, \"amount\": 359}, {\"transaction-id\": 155, \"amount\": 380}, {\"transaction-id\": 174, \"amount\": 391}, {\"transaction-id\": 277, \"amount\": 393}, {\"transaction-id\": 329, \"amount\": 382}, {\"transaction-id\": 505, \"amount\": 374}, {\"transaction-id\": 739, \"amount\": 322}, {\"transaction-id\": 817, \"amount\": 408}, {\"transaction-id\": 927, \"amount\": 401}, {\"transaction-id\": 1013, \"amount\": 379}, {\"transaction-id\": 1066, \"amount\": 373}, {\"transaction-id\": 1072, \"amount\": 405}, {\"transaction-id\": 1100, \"amount\": 370}, {\"transaction-id\": 1209, \"amount\": 362}, {\"transaction-id\": 1327, \"amount\": 351}, {\"transaction-id\": 1377, \"amount\": 366}, {\"transaction-id\": 1510, \"amount\": 378}, {\"transaction-id\": 1530, \"amount\": 372}, {\"transaction-id\": 1545, \"amount\": 352}, {\"transaction-id\": 1811, \"amount\": 372}, {\"transaction-id\": 1939, \"amount\": 388}, {\"transaction-id\": 1951, \"amount\": 354}, {\"transaction-id\": 1995, \"amount\": 385}, {\"transaction-id\": 2071, \"amount\": 417}, {\"transaction-id\": 2223, \"amount\": 384}, {\"transaction-id\": 2275, \"amount\": 381}, {\"transaction-id\": 2360, \"amount\": 370}, {\"transaction-id\": 2388, \"amount\": 399}, {\"transaction-id\": 2417, \"amount\": 351}, {\"transaction-id\": 2503, \"amount\": 362}, {\"transaction-id\": 2504, \"amount\": 398}, {\"transaction-id\": 2652, \"amount\": 362}, {\"transaction-id\": 2666, \"amount\": 372}, {\"transaction-id\": 2712, \"amount\": 392}, {\"transaction-id\": 2734, \"amount\": 378}, {\"transaction-id\": 2841, \"amount\": 375}, {\"transaction-id\": 2884, \"amount\": 393}, {\"transaction-id\": 2918, \"amount\": 397}, {\"transaction-id\": 3019, \"amount\": 371}, {\"transaction-id\": 3042, \"amount\": 361}, {\"transaction-id\": 3106, \"amount\": 377}, {\"transaction-id\": 3190, \"amount\": 349}, {\"transaction-id\": 3518, \"amount\": 344}, {\"transaction-id\": 3593, \"amount\": 402}, {\"transaction-id\": 3618, \"amount\": 401}, {\"transaction-id\": 3696, \"amount\": 346}, {\"transaction-id\": 3714, \"amount\": 376}, {\"transaction-id\": 3827, \"amount\": 342}, {\"transaction-id\": 3884, \"amount\": 358}, {\"transaction-id\": 3998, \"amount\": 370}, {\"transaction-id\": 4003, \"amount\": 318}, {\"transaction-id\": 4005, \"amount\": 378}, {\"transaction-id\": 4024, \"amount\": 374}, {\"transaction-id\": 4050, \"amount\": 359}, {\"transaction-id\": 4091, \"amount\": 384}, {\"transaction-id\": 4261, \"amount\": 342}, {\"transaction-id\": 4310, \"amount\": 377}, {\"transaction-id\": 4321, \"amount\": 361}, {\"transaction-id\": 4389, \"amount\": 351}, {\"transaction-id\": 4430, \"amount\": 379}, {\"transaction-id\": 4467, \"amount\": 380}, {\"transaction-id\": 4477, \"amount\": 359}, {\"transaction-id\": 4581, \"amount\": 351}, {\"transaction-id\": 4745, \"amount\": 335}, {\"transaction-id\": 4778, \"amount\": 359}, {\"transaction-id\": 4973, \"amount\": 375}, {\"transaction-id\": 5032, \"amount\": 382}, {\"transaction-id\": 5041, \"amount\": 357}, {\"transaction-id\": 5239, \"amount\": 349}, {\"transaction-id\": 5282, \"amount\": 356}, {\"transaction-id\": 5294, \"amount\": 391}, {\"transaction-id\": 5476, \"amount\": 384}, {\"transaction-id\": 5483, \"amount\": 378}, {\"transaction-id\": 5518, \"amount\": 389}, {\"transaction-id\": 5551, \"amount\": 366}, {\"transaction-id\": 5689, \"amount\": 365}, {\"transaction-id\": 5737, \"amount\": 410}, {\"transaction-id\": 5919, \"amount\": 355}, {\"transaction-id\": 6005, \"amount\": 384}, {\"transaction-id\": 6023, \"amount\": 420}, {\"transaction-id\": 6040, \"amount\": 373}, {\"transaction-id\": 6150, \"amount\": 374}, {\"transaction-id\": 6164, \"amount\": 399}, {\"transaction-id\": 6283, \"amount\": 343}, {\"transaction-id\": 6300, \"amount\": 376}, {\"transaction-id\": 6371, \"amount\": 396}, {\"transaction-id\": 6583, \"amount\": 387}, {\"transaction-id\": 6601, \"amount\": 362}, {\"transaction-id\": 6633, \"amount\": 390}, {\"transaction-id\": 6709, \"amount\": 376}, {\"transaction-id\": 6881, \"amount\": 339}, {\"transaction-id\": 6941, \"amount\": 355}, {\"transaction-id\": 6975, \"amount\": 360}, {\"transaction-id\": 7144, \"amount\": 380}, {\"transaction-id\": 7161, \"amount\": 386}, {\"transaction-id\": 7240, \"amount\": 344}, {\"transaction-id\": 7328, \"amount\": 382}, {\"transaction-id\": 7331, \"amount\": 376}, {\"transaction-id\": 7594, \"amount\": 393}, {\"transaction-id\": 7650, \"amount\": 369}, {\"transaction-id\": 7660, \"amount\": 375}, {\"transaction-id\": 7682, \"amount\": 355}, {\"transaction-id\": 7725, \"amount\": 364}, {\"transaction-id\": 7783, \"amount\": 349}, {\"transaction-id\": 8054, \"amount\": 366}, {\"transaction-id\": 8061, \"amount\": 367}, {\"transaction-id\": 8126, \"amount\": 387}, {\"transaction-id\": 8210, \"amount\": 382}, {\"transaction-id\": 8363, \"amount\": 366}, {\"transaction-id\": 8370, \"amount\": 385}, {\"transaction-id\": 8451, \"amount\": 354}, {\"transaction-id\": 8571, \"amount\": 376}, {\"transaction-id\": 8635, \"amount\": 376}, {\"transaction-id\": 8697, \"amount\": 358}, {\"transaction-id\": 8771, \"amount\": 376}, {\"transaction-id\": 9144, \"amount\": 377}, {\"transaction-id\": 9148, \"amount\": 366}, {\"transaction-id\": 9216, \"amount\": 355}, {\"transaction-id\": 9226, \"amount\": 337}, {\"transaction-id\": 9292, \"amount\": 357}, {\"transaction-id\": 9347, \"amount\": 379}, {\"transaction-id\": 9378, \"amount\": 368}, {\"transaction-id\": 9398, \"amount\": 368}, {\"transaction-id\": 9476, \"amount\": 383}, {\"transaction-id\": 9516, \"amount\": 374}, {\"transaction-id\": 9671, \"amount\": 387}, {\"transaction-id\": 9898, \"amount\": 377}]}\\n',)"
      ]
     },
     "execution_count": 4,
     "metadata": {},
     "output_type": "execute_result"
    }
   ],
   "source": [
    "# each element is a text file, where each line is a JSON object\n",
    "# note that the compression is handled automatically\n",
    "import os\n",
    "b = db.read_text(os.path.join('data', 'accounts.*.json.gz'))\n",
    "b.take(1)"
   ]
  },
  {
   "cell_type": "code",
   "execution_count": 5,
   "metadata": {},
   "outputs": [
    {
     "data": {
      "text/plain": [
       "'s3://dask-data/nyc-taxi/2015/yellow_tripdata_2015-01.csv'"
      ]
     },
     "execution_count": 5,
     "metadata": {},
     "output_type": "execute_result"
    }
   ],
   "source": [
    "# Edit sources.py to configure source locations\n",
    "import sources\n",
    "sources.bag_url"
   ]
  },
  {
   "cell_type": "code",
   "execution_count": 6,
   "metadata": {},
   "outputs": [
    {
     "data": {
      "text/plain": [
       "('VendorID,tpep_pickup_datetime,tpep_dropoff_datetime,passenger_count,trip_distance,pickup_longitude,pickup_latitude,RateCodeID,store_and_fwd_flag,dropoff_longitude,dropoff_latitude,payment_type,fare_amount,extra,mta_tax,tip_amount,tolls_amount,improvement_surcharge,total_amount\\n',)"
      ]
     },
     "execution_count": 6,
     "metadata": {},
     "output_type": "execute_result"
    }
   ],
   "source": [
    "# Requires `s3fs` library\n",
    "# each partition is a remote CSV text file\n",
    "b = db.read_text(sources.bag_url,\n",
    "                 storage_options={'anon': True})\n",
    "b.take(1)"
   ]
  },
  {
   "cell_type": "markdown",
   "metadata": {},
   "source": [
    "## Manipulation"
   ]
  },
  {
   "cell_type": "markdown",
   "metadata": {},
   "source": [
    "`Bag` objects hold the standard functional API found in projects like the Python standard library, `toolz`, or `pyspark`, including `map`, `filter`, `groupby`, etc..\n",
    "\n",
    "Operations on `Bag` objects create new bags.  Call the `.compute()` method to trigger execution, as we saw for `Delayed` objects.  "
   ]
  },
  {
   "cell_type": "code",
   "execution_count": 7,
   "metadata": {},
   "outputs": [
    {
     "data": {
      "text/plain": [
       "dask.bag<lambda, npartitions=10>"
      ]
     },
     "execution_count": 7,
     "metadata": {},
     "output_type": "execute_result"
    }
   ],
   "source": [
    "def is_even(n):\n",
    "    return n % 2 == 0\n",
    "\n",
    "b = db.from_sequence([1, 2, 3, 4, 5, 6, 7, 8, 9, 10])\n",
    "c = b.filter(is_even).map(lambda x: x ** 2)\n",
    "c"
   ]
  },
  {
   "cell_type": "code",
   "execution_count": 8,
   "metadata": {},
   "outputs": [
    {
     "data": {
      "text/plain": [
       "[4, 16, 36, 64, 100]"
      ]
     },
     "execution_count": 8,
     "metadata": {},
     "output_type": "execute_result"
    }
   ],
   "source": [
    "# blocking form: wait for completion (which is very fast in this case)\n",
    "c.compute()"
   ]
  },
  {
   "cell_type": "markdown",
   "metadata": {},
   "source": [
    "### Example: Accounts JSON data"
   ]
  },
  {
   "cell_type": "markdown",
   "metadata": {},
   "source": [
    "We've created a fake dataset of gzipped JSON data in your data directory.  This is like the example used in the `DataFrame` example we will see later, except that it has bundled up all of the entires for each individual `id` into a single record.  This is similar to data that you might collect off of a document store database or a web API.\n",
    "\n",
    "Each line is a JSON encoded dictionary with the following keys\n",
    "\n",
    "*  id: Unique identifier of the customer\n",
    "*  name: Name of the customer\n",
    "*  transactions: List of `transaction-id`, `amount` pairs, one for each transaction for the customer in that file"
   ]
  },
  {
   "cell_type": "code",
   "execution_count": 9,
   "metadata": {},
   "outputs": [
    {
     "data": {
      "text/plain": [
       "('{\"id\": 0, \"name\": \"Michael\", \"transactions\": [{\"transaction-id\": 1, \"amount\": 366}, {\"transaction-id\": 2, \"amount\": 381}, {\"transaction-id\": 55, \"amount\": 346}, {\"transaction-id\": 90, \"amount\": 344}, {\"transaction-id\": 102, \"amount\": 359}, {\"transaction-id\": 155, \"amount\": 380}, {\"transaction-id\": 174, \"amount\": 391}, {\"transaction-id\": 277, \"amount\": 393}, {\"transaction-id\": 329, \"amount\": 382}, {\"transaction-id\": 505, \"amount\": 374}, {\"transaction-id\": 739, \"amount\": 322}, {\"transaction-id\": 817, \"amount\": 408}, {\"transaction-id\": 927, \"amount\": 401}, {\"transaction-id\": 1013, \"amount\": 379}, {\"transaction-id\": 1066, \"amount\": 373}, {\"transaction-id\": 1072, \"amount\": 405}, {\"transaction-id\": 1100, \"amount\": 370}, {\"transaction-id\": 1209, \"amount\": 362}, {\"transaction-id\": 1327, \"amount\": 351}, {\"transaction-id\": 1377, \"amount\": 366}, {\"transaction-id\": 1510, \"amount\": 378}, {\"transaction-id\": 1530, \"amount\": 372}, {\"transaction-id\": 1545, \"amount\": 352}, {\"transaction-id\": 1811, \"amount\": 372}, {\"transaction-id\": 1939, \"amount\": 388}, {\"transaction-id\": 1951, \"amount\": 354}, {\"transaction-id\": 1995, \"amount\": 385}, {\"transaction-id\": 2071, \"amount\": 417}, {\"transaction-id\": 2223, \"amount\": 384}, {\"transaction-id\": 2275, \"amount\": 381}, {\"transaction-id\": 2360, \"amount\": 370}, {\"transaction-id\": 2388, \"amount\": 399}, {\"transaction-id\": 2417, \"amount\": 351}, {\"transaction-id\": 2503, \"amount\": 362}, {\"transaction-id\": 2504, \"amount\": 398}, {\"transaction-id\": 2652, \"amount\": 362}, {\"transaction-id\": 2666, \"amount\": 372}, {\"transaction-id\": 2712, \"amount\": 392}, {\"transaction-id\": 2734, \"amount\": 378}, {\"transaction-id\": 2841, \"amount\": 375}, {\"transaction-id\": 2884, \"amount\": 393}, {\"transaction-id\": 2918, \"amount\": 397}, {\"transaction-id\": 3019, \"amount\": 371}, {\"transaction-id\": 3042, \"amount\": 361}, {\"transaction-id\": 3106, \"amount\": 377}, {\"transaction-id\": 3190, \"amount\": 349}, {\"transaction-id\": 3518, \"amount\": 344}, {\"transaction-id\": 3593, \"amount\": 402}, {\"transaction-id\": 3618, \"amount\": 401}, {\"transaction-id\": 3696, \"amount\": 346}, {\"transaction-id\": 3714, \"amount\": 376}, {\"transaction-id\": 3827, \"amount\": 342}, {\"transaction-id\": 3884, \"amount\": 358}, {\"transaction-id\": 3998, \"amount\": 370}, {\"transaction-id\": 4003, \"amount\": 318}, {\"transaction-id\": 4005, \"amount\": 378}, {\"transaction-id\": 4024, \"amount\": 374}, {\"transaction-id\": 4050, \"amount\": 359}, {\"transaction-id\": 4091, \"amount\": 384}, {\"transaction-id\": 4261, \"amount\": 342}, {\"transaction-id\": 4310, \"amount\": 377}, {\"transaction-id\": 4321, \"amount\": 361}, {\"transaction-id\": 4389, \"amount\": 351}, {\"transaction-id\": 4430, \"amount\": 379}, {\"transaction-id\": 4467, \"amount\": 380}, {\"transaction-id\": 4477, \"amount\": 359}, {\"transaction-id\": 4581, \"amount\": 351}, {\"transaction-id\": 4745, \"amount\": 335}, {\"transaction-id\": 4778, \"amount\": 359}, {\"transaction-id\": 4973, \"amount\": 375}, {\"transaction-id\": 5032, \"amount\": 382}, {\"transaction-id\": 5041, \"amount\": 357}, {\"transaction-id\": 5239, \"amount\": 349}, {\"transaction-id\": 5282, \"amount\": 356}, {\"transaction-id\": 5294, \"amount\": 391}, {\"transaction-id\": 5476, \"amount\": 384}, {\"transaction-id\": 5483, \"amount\": 378}, {\"transaction-id\": 5518, \"amount\": 389}, {\"transaction-id\": 5551, \"amount\": 366}, {\"transaction-id\": 5689, \"amount\": 365}, {\"transaction-id\": 5737, \"amount\": 410}, {\"transaction-id\": 5919, \"amount\": 355}, {\"transaction-id\": 6005, \"amount\": 384}, {\"transaction-id\": 6023, \"amount\": 420}, {\"transaction-id\": 6040, \"amount\": 373}, {\"transaction-id\": 6150, \"amount\": 374}, {\"transaction-id\": 6164, \"amount\": 399}, {\"transaction-id\": 6283, \"amount\": 343}, {\"transaction-id\": 6300, \"amount\": 376}, {\"transaction-id\": 6371, \"amount\": 396}, {\"transaction-id\": 6583, \"amount\": 387}, {\"transaction-id\": 6601, \"amount\": 362}, {\"transaction-id\": 6633, \"amount\": 390}, {\"transaction-id\": 6709, \"amount\": 376}, {\"transaction-id\": 6881, \"amount\": 339}, {\"transaction-id\": 6941, \"amount\": 355}, {\"transaction-id\": 6975, \"amount\": 360}, {\"transaction-id\": 7144, \"amount\": 380}, {\"transaction-id\": 7161, \"amount\": 386}, {\"transaction-id\": 7240, \"amount\": 344}, {\"transaction-id\": 7328, \"amount\": 382}, {\"transaction-id\": 7331, \"amount\": 376}, {\"transaction-id\": 7594, \"amount\": 393}, {\"transaction-id\": 7650, \"amount\": 369}, {\"transaction-id\": 7660, \"amount\": 375}, {\"transaction-id\": 7682, \"amount\": 355}, {\"transaction-id\": 7725, \"amount\": 364}, {\"transaction-id\": 7783, \"amount\": 349}, {\"transaction-id\": 8054, \"amount\": 366}, {\"transaction-id\": 8061, \"amount\": 367}, {\"transaction-id\": 8126, \"amount\": 387}, {\"transaction-id\": 8210, \"amount\": 382}, {\"transaction-id\": 8363, \"amount\": 366}, {\"transaction-id\": 8370, \"amount\": 385}, {\"transaction-id\": 8451, \"amount\": 354}, {\"transaction-id\": 8571, \"amount\": 376}, {\"transaction-id\": 8635, \"amount\": 376}, {\"transaction-id\": 8697, \"amount\": 358}, {\"transaction-id\": 8771, \"amount\": 376}, {\"transaction-id\": 9144, \"amount\": 377}, {\"transaction-id\": 9148, \"amount\": 366}, {\"transaction-id\": 9216, \"amount\": 355}, {\"transaction-id\": 9226, \"amount\": 337}, {\"transaction-id\": 9292, \"amount\": 357}, {\"transaction-id\": 9347, \"amount\": 379}, {\"transaction-id\": 9378, \"amount\": 368}, {\"transaction-id\": 9398, \"amount\": 368}, {\"transaction-id\": 9476, \"amount\": 383}, {\"transaction-id\": 9516, \"amount\": 374}, {\"transaction-id\": 9671, \"amount\": 387}, {\"transaction-id\": 9898, \"amount\": 377}]}\\n',\n",
       " '{\"id\": 1, \"name\": \"Wendy\", \"transactions\": [{\"transaction-id\": 48, \"amount\": 118}, {\"transaction-id\": 167, \"amount\": 118}, {\"transaction-id\": 251, \"amount\": 119}, {\"transaction-id\": 338, \"amount\": 103}, {\"transaction-id\": 527, \"amount\": 102}, {\"transaction-id\": 555, \"amount\": 106}, {\"transaction-id\": 715, \"amount\": 100}, {\"transaction-id\": 838, \"amount\": 104}, {\"transaction-id\": 1036, \"amount\": 94}, {\"transaction-id\": 1295, \"amount\": 104}, {\"transaction-id\": 1579, \"amount\": 102}, {\"transaction-id\": 1832, \"amount\": 101}, {\"transaction-id\": 1860, \"amount\": 107}, {\"transaction-id\": 1908, \"amount\": 98}, {\"transaction-id\": 2448, \"amount\": 77}, {\"transaction-id\": 2850, \"amount\": 98}, {\"transaction-id\": 2887, \"amount\": 110}, {\"transaction-id\": 3258, \"amount\": 99}, {\"transaction-id\": 3262, \"amount\": 108}, {\"transaction-id\": 3489, \"amount\": 96}, {\"transaction-id\": 3545, \"amount\": 96}, {\"transaction-id\": 3739, \"amount\": 100}, {\"transaction-id\": 3848, \"amount\": 93}, {\"transaction-id\": 3880, \"amount\": 115}, {\"transaction-id\": 3939, \"amount\": 110}, {\"transaction-id\": 4630, \"amount\": 93}, {\"transaction-id\": 4730, \"amount\": 105}, {\"transaction-id\": 4853, \"amount\": 97}, {\"transaction-id\": 4881, \"amount\": 114}, {\"transaction-id\": 5067, \"amount\": 101}, {\"transaction-id\": 5232, \"amount\": 93}, {\"transaction-id\": 5393, \"amount\": 104}, {\"transaction-id\": 5404, \"amount\": 109}, {\"transaction-id\": 5637, \"amount\": 99}, {\"transaction-id\": 5713, \"amount\": 104}, {\"transaction-id\": 5808, \"amount\": 114}, {\"transaction-id\": 5963, \"amount\": 106}, {\"transaction-id\": 6224, \"amount\": 113}, {\"transaction-id\": 6272, \"amount\": 105}, {\"transaction-id\": 6637, \"amount\": 90}, {\"transaction-id\": 6666, \"amount\": 107}, {\"transaction-id\": 6819, \"amount\": 103}, {\"transaction-id\": 6892, \"amount\": 103}, {\"transaction-id\": 7195, \"amount\": 105}, {\"transaction-id\": 7251, \"amount\": 103}, {\"transaction-id\": 7272, \"amount\": 88}, {\"transaction-id\": 7273, \"amount\": 96}, {\"transaction-id\": 7291, \"amount\": 96}, {\"transaction-id\": 7542, \"amount\": 106}, {\"transaction-id\": 7654, \"amount\": 115}, {\"transaction-id\": 7799, \"amount\": 110}, {\"transaction-id\": 8177, \"amount\": 131}, {\"transaction-id\": 8197, \"amount\": 94}, {\"transaction-id\": 8317, \"amount\": 88}, {\"transaction-id\": 8341, \"amount\": 108}, {\"transaction-id\": 8365, \"amount\": 100}, {\"transaction-id\": 8560, \"amount\": 100}, {\"transaction-id\": 8757, \"amount\": 100}, {\"transaction-id\": 8930, \"amount\": 118}, {\"transaction-id\": 9118, \"amount\": 102}, {\"transaction-id\": 9121, \"amount\": 101}, {\"transaction-id\": 9174, \"amount\": 104}, {\"transaction-id\": 9441, \"amount\": 104}]}\\n',\n",
       " '{\"id\": 2, \"name\": \"Hannah\", \"transactions\": [{\"transaction-id\": 321, \"amount\": 3025}, {\"transaction-id\": 1091, \"amount\": 2901}, {\"transaction-id\": 1387, \"amount\": 2966}, {\"transaction-id\": 2080, \"amount\": 2932}, {\"transaction-id\": 2416, \"amount\": 2854}, {\"transaction-id\": 2941, \"amount\": 2907}, {\"transaction-id\": 2992, \"amount\": 2916}, {\"transaction-id\": 3031, \"amount\": 3085}, {\"transaction-id\": 3862, \"amount\": 2972}, {\"transaction-id\": 4483, \"amount\": 2923}, {\"transaction-id\": 4811, \"amount\": 2990}, {\"transaction-id\": 5825, \"amount\": 2982}, {\"transaction-id\": 6020, \"amount\": 2862}, {\"transaction-id\": 6119, \"amount\": 3144}, {\"transaction-id\": 7352, \"amount\": 2780}, {\"transaction-id\": 8167, \"amount\": 3082}, {\"transaction-id\": 8431, \"amount\": 2845}, {\"transaction-id\": 9284, \"amount\": 2933}, {\"transaction-id\": 9475, \"amount\": 3018}]}\\n')"
      ]
     },
     "execution_count": 9,
     "metadata": {},
     "output_type": "execute_result"
    }
   ],
   "source": [
    "filename = os.path.join('data', 'accounts.*.json.gz')\n",
    "lines = db.read_text(filename)\n",
    "lines.take(3)"
   ]
  },
  {
   "cell_type": "markdown",
   "metadata": {},
   "source": [
    "Our data comes out of the file as lines of text. Notice that file decompression happened automatically. We can make this data look more reasonable by mapping the `json.loads` function onto our bag."
   ]
  },
  {
   "cell_type": "code",
   "execution_count": 10,
   "metadata": {},
   "outputs": [
    {
     "data": {
      "text/plain": [
       "({'id': 0,\n",
       "  'name': 'Michael',\n",
       "  'transactions': [{'transaction-id': 1, 'amount': 366},\n",
       "   {'transaction-id': 2, 'amount': 381},\n",
       "   {'transaction-id': 55, 'amount': 346},\n",
       "   {'transaction-id': 90, 'amount': 344},\n",
       "   {'transaction-id': 102, 'amount': 359},\n",
       "   {'transaction-id': 155, 'amount': 380},\n",
       "   {'transaction-id': 174, 'amount': 391},\n",
       "   {'transaction-id': 277, 'amount': 393},\n",
       "   {'transaction-id': 329, 'amount': 382},\n",
       "   {'transaction-id': 505, 'amount': 374},\n",
       "   {'transaction-id': 739, 'amount': 322},\n",
       "   {'transaction-id': 817, 'amount': 408},\n",
       "   {'transaction-id': 927, 'amount': 401},\n",
       "   {'transaction-id': 1013, 'amount': 379},\n",
       "   {'transaction-id': 1066, 'amount': 373},\n",
       "   {'transaction-id': 1072, 'amount': 405},\n",
       "   {'transaction-id': 1100, 'amount': 370},\n",
       "   {'transaction-id': 1209, 'amount': 362},\n",
       "   {'transaction-id': 1327, 'amount': 351},\n",
       "   {'transaction-id': 1377, 'amount': 366},\n",
       "   {'transaction-id': 1510, 'amount': 378},\n",
       "   {'transaction-id': 1530, 'amount': 372},\n",
       "   {'transaction-id': 1545, 'amount': 352},\n",
       "   {'transaction-id': 1811, 'amount': 372},\n",
       "   {'transaction-id': 1939, 'amount': 388},\n",
       "   {'transaction-id': 1951, 'amount': 354},\n",
       "   {'transaction-id': 1995, 'amount': 385},\n",
       "   {'transaction-id': 2071, 'amount': 417},\n",
       "   {'transaction-id': 2223, 'amount': 384},\n",
       "   {'transaction-id': 2275, 'amount': 381},\n",
       "   {'transaction-id': 2360, 'amount': 370},\n",
       "   {'transaction-id': 2388, 'amount': 399},\n",
       "   {'transaction-id': 2417, 'amount': 351},\n",
       "   {'transaction-id': 2503, 'amount': 362},\n",
       "   {'transaction-id': 2504, 'amount': 398},\n",
       "   {'transaction-id': 2652, 'amount': 362},\n",
       "   {'transaction-id': 2666, 'amount': 372},\n",
       "   {'transaction-id': 2712, 'amount': 392},\n",
       "   {'transaction-id': 2734, 'amount': 378},\n",
       "   {'transaction-id': 2841, 'amount': 375},\n",
       "   {'transaction-id': 2884, 'amount': 393},\n",
       "   {'transaction-id': 2918, 'amount': 397},\n",
       "   {'transaction-id': 3019, 'amount': 371},\n",
       "   {'transaction-id': 3042, 'amount': 361},\n",
       "   {'transaction-id': 3106, 'amount': 377},\n",
       "   {'transaction-id': 3190, 'amount': 349},\n",
       "   {'transaction-id': 3518, 'amount': 344},\n",
       "   {'transaction-id': 3593, 'amount': 402},\n",
       "   {'transaction-id': 3618, 'amount': 401},\n",
       "   {'transaction-id': 3696, 'amount': 346},\n",
       "   {'transaction-id': 3714, 'amount': 376},\n",
       "   {'transaction-id': 3827, 'amount': 342},\n",
       "   {'transaction-id': 3884, 'amount': 358},\n",
       "   {'transaction-id': 3998, 'amount': 370},\n",
       "   {'transaction-id': 4003, 'amount': 318},\n",
       "   {'transaction-id': 4005, 'amount': 378},\n",
       "   {'transaction-id': 4024, 'amount': 374},\n",
       "   {'transaction-id': 4050, 'amount': 359},\n",
       "   {'transaction-id': 4091, 'amount': 384},\n",
       "   {'transaction-id': 4261, 'amount': 342},\n",
       "   {'transaction-id': 4310, 'amount': 377},\n",
       "   {'transaction-id': 4321, 'amount': 361},\n",
       "   {'transaction-id': 4389, 'amount': 351},\n",
       "   {'transaction-id': 4430, 'amount': 379},\n",
       "   {'transaction-id': 4467, 'amount': 380},\n",
       "   {'transaction-id': 4477, 'amount': 359},\n",
       "   {'transaction-id': 4581, 'amount': 351},\n",
       "   {'transaction-id': 4745, 'amount': 335},\n",
       "   {'transaction-id': 4778, 'amount': 359},\n",
       "   {'transaction-id': 4973, 'amount': 375},\n",
       "   {'transaction-id': 5032, 'amount': 382},\n",
       "   {'transaction-id': 5041, 'amount': 357},\n",
       "   {'transaction-id': 5239, 'amount': 349},\n",
       "   {'transaction-id': 5282, 'amount': 356},\n",
       "   {'transaction-id': 5294, 'amount': 391},\n",
       "   {'transaction-id': 5476, 'amount': 384},\n",
       "   {'transaction-id': 5483, 'amount': 378},\n",
       "   {'transaction-id': 5518, 'amount': 389},\n",
       "   {'transaction-id': 5551, 'amount': 366},\n",
       "   {'transaction-id': 5689, 'amount': 365},\n",
       "   {'transaction-id': 5737, 'amount': 410},\n",
       "   {'transaction-id': 5919, 'amount': 355},\n",
       "   {'transaction-id': 6005, 'amount': 384},\n",
       "   {'transaction-id': 6023, 'amount': 420},\n",
       "   {'transaction-id': 6040, 'amount': 373},\n",
       "   {'transaction-id': 6150, 'amount': 374},\n",
       "   {'transaction-id': 6164, 'amount': 399},\n",
       "   {'transaction-id': 6283, 'amount': 343},\n",
       "   {'transaction-id': 6300, 'amount': 376},\n",
       "   {'transaction-id': 6371, 'amount': 396},\n",
       "   {'transaction-id': 6583, 'amount': 387},\n",
       "   {'transaction-id': 6601, 'amount': 362},\n",
       "   {'transaction-id': 6633, 'amount': 390},\n",
       "   {'transaction-id': 6709, 'amount': 376},\n",
       "   {'transaction-id': 6881, 'amount': 339},\n",
       "   {'transaction-id': 6941, 'amount': 355},\n",
       "   {'transaction-id': 6975, 'amount': 360},\n",
       "   {'transaction-id': 7144, 'amount': 380},\n",
       "   {'transaction-id': 7161, 'amount': 386},\n",
       "   {'transaction-id': 7240, 'amount': 344},\n",
       "   {'transaction-id': 7328, 'amount': 382},\n",
       "   {'transaction-id': 7331, 'amount': 376},\n",
       "   {'transaction-id': 7594, 'amount': 393},\n",
       "   {'transaction-id': 7650, 'amount': 369},\n",
       "   {'transaction-id': 7660, 'amount': 375},\n",
       "   {'transaction-id': 7682, 'amount': 355},\n",
       "   {'transaction-id': 7725, 'amount': 364},\n",
       "   {'transaction-id': 7783, 'amount': 349},\n",
       "   {'transaction-id': 8054, 'amount': 366},\n",
       "   {'transaction-id': 8061, 'amount': 367},\n",
       "   {'transaction-id': 8126, 'amount': 387},\n",
       "   {'transaction-id': 8210, 'amount': 382},\n",
       "   {'transaction-id': 8363, 'amount': 366},\n",
       "   {'transaction-id': 8370, 'amount': 385},\n",
       "   {'transaction-id': 8451, 'amount': 354},\n",
       "   {'transaction-id': 8571, 'amount': 376},\n",
       "   {'transaction-id': 8635, 'amount': 376},\n",
       "   {'transaction-id': 8697, 'amount': 358},\n",
       "   {'transaction-id': 8771, 'amount': 376},\n",
       "   {'transaction-id': 9144, 'amount': 377},\n",
       "   {'transaction-id': 9148, 'amount': 366},\n",
       "   {'transaction-id': 9216, 'amount': 355},\n",
       "   {'transaction-id': 9226, 'amount': 337},\n",
       "   {'transaction-id': 9292, 'amount': 357},\n",
       "   {'transaction-id': 9347, 'amount': 379},\n",
       "   {'transaction-id': 9378, 'amount': 368},\n",
       "   {'transaction-id': 9398, 'amount': 368},\n",
       "   {'transaction-id': 9476, 'amount': 383},\n",
       "   {'transaction-id': 9516, 'amount': 374},\n",
       "   {'transaction-id': 9671, 'amount': 387},\n",
       "   {'transaction-id': 9898, 'amount': 377}]},\n",
       " {'id': 1,\n",
       "  'name': 'Wendy',\n",
       "  'transactions': [{'transaction-id': 48, 'amount': 118},\n",
       "   {'transaction-id': 167, 'amount': 118},\n",
       "   {'transaction-id': 251, 'amount': 119},\n",
       "   {'transaction-id': 338, 'amount': 103},\n",
       "   {'transaction-id': 527, 'amount': 102},\n",
       "   {'transaction-id': 555, 'amount': 106},\n",
       "   {'transaction-id': 715, 'amount': 100},\n",
       "   {'transaction-id': 838, 'amount': 104},\n",
       "   {'transaction-id': 1036, 'amount': 94},\n",
       "   {'transaction-id': 1295, 'amount': 104},\n",
       "   {'transaction-id': 1579, 'amount': 102},\n",
       "   {'transaction-id': 1832, 'amount': 101},\n",
       "   {'transaction-id': 1860, 'amount': 107},\n",
       "   {'transaction-id': 1908, 'amount': 98},\n",
       "   {'transaction-id': 2448, 'amount': 77},\n",
       "   {'transaction-id': 2850, 'amount': 98},\n",
       "   {'transaction-id': 2887, 'amount': 110},\n",
       "   {'transaction-id': 3258, 'amount': 99},\n",
       "   {'transaction-id': 3262, 'amount': 108},\n",
       "   {'transaction-id': 3489, 'amount': 96},\n",
       "   {'transaction-id': 3545, 'amount': 96},\n",
       "   {'transaction-id': 3739, 'amount': 100},\n",
       "   {'transaction-id': 3848, 'amount': 93},\n",
       "   {'transaction-id': 3880, 'amount': 115},\n",
       "   {'transaction-id': 3939, 'amount': 110},\n",
       "   {'transaction-id': 4630, 'amount': 93},\n",
       "   {'transaction-id': 4730, 'amount': 105},\n",
       "   {'transaction-id': 4853, 'amount': 97},\n",
       "   {'transaction-id': 4881, 'amount': 114},\n",
       "   {'transaction-id': 5067, 'amount': 101},\n",
       "   {'transaction-id': 5232, 'amount': 93},\n",
       "   {'transaction-id': 5393, 'amount': 104},\n",
       "   {'transaction-id': 5404, 'amount': 109},\n",
       "   {'transaction-id': 5637, 'amount': 99},\n",
       "   {'transaction-id': 5713, 'amount': 104},\n",
       "   {'transaction-id': 5808, 'amount': 114},\n",
       "   {'transaction-id': 5963, 'amount': 106},\n",
       "   {'transaction-id': 6224, 'amount': 113},\n",
       "   {'transaction-id': 6272, 'amount': 105},\n",
       "   {'transaction-id': 6637, 'amount': 90},\n",
       "   {'transaction-id': 6666, 'amount': 107},\n",
       "   {'transaction-id': 6819, 'amount': 103},\n",
       "   {'transaction-id': 6892, 'amount': 103},\n",
       "   {'transaction-id': 7195, 'amount': 105},\n",
       "   {'transaction-id': 7251, 'amount': 103},\n",
       "   {'transaction-id': 7272, 'amount': 88},\n",
       "   {'transaction-id': 7273, 'amount': 96},\n",
       "   {'transaction-id': 7291, 'amount': 96},\n",
       "   {'transaction-id': 7542, 'amount': 106},\n",
       "   {'transaction-id': 7654, 'amount': 115},\n",
       "   {'transaction-id': 7799, 'amount': 110},\n",
       "   {'transaction-id': 8177, 'amount': 131},\n",
       "   {'transaction-id': 8197, 'amount': 94},\n",
       "   {'transaction-id': 8317, 'amount': 88},\n",
       "   {'transaction-id': 8341, 'amount': 108},\n",
       "   {'transaction-id': 8365, 'amount': 100},\n",
       "   {'transaction-id': 8560, 'amount': 100},\n",
       "   {'transaction-id': 8757, 'amount': 100},\n",
       "   {'transaction-id': 8930, 'amount': 118},\n",
       "   {'transaction-id': 9118, 'amount': 102},\n",
       "   {'transaction-id': 9121, 'amount': 101},\n",
       "   {'transaction-id': 9174, 'amount': 104},\n",
       "   {'transaction-id': 9441, 'amount': 104}]},\n",
       " {'id': 2,\n",
       "  'name': 'Hannah',\n",
       "  'transactions': [{'transaction-id': 321, 'amount': 3025},\n",
       "   {'transaction-id': 1091, 'amount': 2901},\n",
       "   {'transaction-id': 1387, 'amount': 2966},\n",
       "   {'transaction-id': 2080, 'amount': 2932},\n",
       "   {'transaction-id': 2416, 'amount': 2854},\n",
       "   {'transaction-id': 2941, 'amount': 2907},\n",
       "   {'transaction-id': 2992, 'amount': 2916},\n",
       "   {'transaction-id': 3031, 'amount': 3085},\n",
       "   {'transaction-id': 3862, 'amount': 2972},\n",
       "   {'transaction-id': 4483, 'amount': 2923},\n",
       "   {'transaction-id': 4811, 'amount': 2990},\n",
       "   {'transaction-id': 5825, 'amount': 2982},\n",
       "   {'transaction-id': 6020, 'amount': 2862},\n",
       "   {'transaction-id': 6119, 'amount': 3144},\n",
       "   {'transaction-id': 7352, 'amount': 2780},\n",
       "   {'transaction-id': 8167, 'amount': 3082},\n",
       "   {'transaction-id': 8431, 'amount': 2845},\n",
       "   {'transaction-id': 9284, 'amount': 2933},\n",
       "   {'transaction-id': 9475, 'amount': 3018}]})"
      ]
     },
     "execution_count": 10,
     "metadata": {},
     "output_type": "execute_result"
    }
   ],
   "source": [
    "import json\n",
    "js = lines.map(json.loads)\n",
    "# take: inspect first few elements\n",
    "js.take(3)"
   ]
  },
  {
   "cell_type": "markdown",
   "metadata": {},
   "source": [
    "### Basic Queries"
   ]
  },
  {
   "cell_type": "markdown",
   "metadata": {},
   "source": [
    "Once we parse our JSON data into proper Python objects (`dict`s, `list`s, etc.) we can perform more interesting queries by creating small Python functions to run on our data."
   ]
  },
  {
   "cell_type": "code",
   "execution_count": 11,
   "metadata": {},
   "outputs": [
    {
     "data": {
      "text/plain": [
       "({'id': 21,\n",
       "  'name': 'Alice',\n",
       "  'transactions': [{'transaction-id': 72, 'amount': 36},\n",
       "   {'transaction-id': 282, 'amount': 48},\n",
       "   {'transaction-id': 1226, 'amount': 58},\n",
       "   {'transaction-id': 3487, 'amount': 61},\n",
       "   {'transaction-id': 4641, 'amount': 66},\n",
       "   {'transaction-id': 5615, 'amount': 45},\n",
       "   {'transaction-id': 5942, 'amount': 61},\n",
       "   {'transaction-id': 6267, 'amount': 52},\n",
       "   {'transaction-id': 6750, 'amount': 68},\n",
       "   {'transaction-id': 8041, 'amount': 49},\n",
       "   {'transaction-id': 8940, 'amount': 68}]},\n",
       " {'id': 24,\n",
       "  'name': 'Alice',\n",
       "  'transactions': [{'transaction-id': 211, 'amount': 282},\n",
       "   {'transaction-id': 375, 'amount': 302},\n",
       "   {'transaction-id': 607, 'amount': 277},\n",
       "   {'transaction-id': 903, 'amount': 298},\n",
       "   {'transaction-id': 1205, 'amount': 282},\n",
       "   {'transaction-id': 1302, 'amount': 263},\n",
       "   {'transaction-id': 1316, 'amount': 282},\n",
       "   {'transaction-id': 1683, 'amount': 288},\n",
       "   {'transaction-id': 2003, 'amount': 279},\n",
       "   {'transaction-id': 2467, 'amount': 263},\n",
       "   {'transaction-id': 2986, 'amount': 269},\n",
       "   {'transaction-id': 3105, 'amount': 280},\n",
       "   {'transaction-id': 3945, 'amount': 272},\n",
       "   {'transaction-id': 4882, 'amount': 308},\n",
       "   {'transaction-id': 5179, 'amount': 251},\n",
       "   {'transaction-id': 5260, 'amount': 291},\n",
       "   {'transaction-id': 5441, 'amount': 283},\n",
       "   {'transaction-id': 6115, 'amount': 270},\n",
       "   {'transaction-id': 6195, 'amount': 299},\n",
       "   {'transaction-id': 6466, 'amount': 311},\n",
       "   {'transaction-id': 7117, 'amount': 299},\n",
       "   {'transaction-id': 7403, 'amount': 296},\n",
       "   {'transaction-id': 7527, 'amount': 273},\n",
       "   {'transaction-id': 7926, 'amount': 261},\n",
       "   {'transaction-id': 8152, 'amount': 286},\n",
       "   {'transaction-id': 8712, 'amount': 282},\n",
       "   {'transaction-id': 8865, 'amount': 278},\n",
       "   {'transaction-id': 8937, 'amount': 271},\n",
       "   {'transaction-id': 9113, 'amount': 295},\n",
       "   {'transaction-id': 9120, 'amount': 290}]},\n",
       " {'id': 34,\n",
       "  'name': 'Alice',\n",
       "  'transactions': [{'transaction-id': 1980, 'amount': 414},\n",
       "   {'transaction-id': 3442, 'amount': 349},\n",
       "   {'transaction-id': 4539, 'amount': 349},\n",
       "   {'transaction-id': 4572, 'amount': 397},\n",
       "   {'transaction-id': 4671, 'amount': 325},\n",
       "   {'transaction-id': 4682, 'amount': 410},\n",
       "   {'transaction-id': 4709, 'amount': 370},\n",
       "   {'transaction-id': 5054, 'amount': 334},\n",
       "   {'transaction-id': 5957, 'amount': 360},\n",
       "   {'transaction-id': 7337, 'amount': 364},\n",
       "   {'transaction-id': 8176, 'amount': 327},\n",
       "   {'transaction-id': 8471, 'amount': 343},\n",
       "   {'transaction-id': 9739, 'amount': 374}]},\n",
       " {'id': 51,\n",
       "  'name': 'Alice',\n",
       "  'transactions': [{'transaction-id': 62, 'amount': 2578},\n",
       "   {'transaction-id': 582, 'amount': 2727},\n",
       "   {'transaction-id': 741, 'amount': 3057},\n",
       "   {'transaction-id': 751, 'amount': 2728},\n",
       "   {'transaction-id': 881, 'amount': 2823},\n",
       "   {'transaction-id': 961, 'amount': 2452},\n",
       "   {'transaction-id': 1051, 'amount': 2942},\n",
       "   {'transaction-id': 1306, 'amount': 2611},\n",
       "   {'transaction-id': 1322, 'amount': 2865},\n",
       "   {'transaction-id': 1421, 'amount': 2574},\n",
       "   {'transaction-id': 1481, 'amount': 2580},\n",
       "   {'transaction-id': 1511, 'amount': 3037},\n",
       "   {'transaction-id': 1591, 'amount': 2815},\n",
       "   {'transaction-id': 1656, 'amount': 2430},\n",
       "   {'transaction-id': 1769, 'amount': 2561},\n",
       "   {'transaction-id': 1946, 'amount': 2694},\n",
       "   {'transaction-id': 2056, 'amount': 2863},\n",
       "   {'transaction-id': 2308, 'amount': 2521},\n",
       "   {'transaction-id': 2343, 'amount': 2949},\n",
       "   {'transaction-id': 2420, 'amount': 2560},\n",
       "   {'transaction-id': 2637, 'amount': 2617},\n",
       "   {'transaction-id': 2687, 'amount': 2741},\n",
       "   {'transaction-id': 2863, 'amount': 3061},\n",
       "   {'transaction-id': 2977, 'amount': 2815},\n",
       "   {'transaction-id': 3096, 'amount': 2719},\n",
       "   {'transaction-id': 3211, 'amount': 2761},\n",
       "   {'transaction-id': 3748, 'amount': 2578},\n",
       "   {'transaction-id': 3800, 'amount': 2913},\n",
       "   {'transaction-id': 4109, 'amount': 2515},\n",
       "   {'transaction-id': 4121, 'amount': 2611},\n",
       "   {'transaction-id': 4205, 'amount': 2504},\n",
       "   {'transaction-id': 4216, 'amount': 2571},\n",
       "   {'transaction-id': 4373, 'amount': 2818},\n",
       "   {'transaction-id': 4809, 'amount': 2478},\n",
       "   {'transaction-id': 4893, 'amount': 2437},\n",
       "   {'transaction-id': 5111, 'amount': 2690},\n",
       "   {'transaction-id': 5336, 'amount': 2537},\n",
       "   {'transaction-id': 5384, 'amount': 2902},\n",
       "   {'transaction-id': 5400, 'amount': 2653},\n",
       "   {'transaction-id': 5501, 'amount': 3001},\n",
       "   {'transaction-id': 5607, 'amount': 2452},\n",
       "   {'transaction-id': 5783, 'amount': 2397},\n",
       "   {'transaction-id': 6028, 'amount': 2831},\n",
       "   {'transaction-id': 6104, 'amount': 2563},\n",
       "   {'transaction-id': 6187, 'amount': 2905},\n",
       "   {'transaction-id': 6226, 'amount': 2713},\n",
       "   {'transaction-id': 6301, 'amount': 2250},\n",
       "   {'transaction-id': 6785, 'amount': 2611},\n",
       "   {'transaction-id': 6980, 'amount': 2778},\n",
       "   {'transaction-id': 6983, 'amount': 2643},\n",
       "   {'transaction-id': 7026, 'amount': 2910},\n",
       "   {'transaction-id': 7638, 'amount': 2534},\n",
       "   {'transaction-id': 7647, 'amount': 2746},\n",
       "   {'transaction-id': 8099, 'amount': 2761},\n",
       "   {'transaction-id': 8367, 'amount': 2596},\n",
       "   {'transaction-id': 8372, 'amount': 2827},\n",
       "   {'transaction-id': 8435, 'amount': 2450},\n",
       "   {'transaction-id': 8627, 'amount': 2678},\n",
       "   {'transaction-id': 8755, 'amount': 2677},\n",
       "   {'transaction-id': 8773, 'amount': 2859},\n",
       "   {'transaction-id': 8821, 'amount': 2389},\n",
       "   {'transaction-id': 8822, 'amount': 2727},\n",
       "   {'transaction-id': 9298, 'amount': 2511},\n",
       "   {'transaction-id': 9596, 'amount': 2519}]},\n",
       " {'id': 59,\n",
       "  'name': 'Alice',\n",
       "  'transactions': [{'transaction-id': 163, 'amount': 997},\n",
       "   {'transaction-id': 255, 'amount': 1005},\n",
       "   {'transaction-id': 469, 'amount': 1053},\n",
       "   {'transaction-id': 491, 'amount': 1148},\n",
       "   {'transaction-id': 814, 'amount': 1020},\n",
       "   {'transaction-id': 846, 'amount': 1023},\n",
       "   {'transaction-id': 1022, 'amount': 948},\n",
       "   {'transaction-id': 1138, 'amount': 1036},\n",
       "   {'transaction-id': 1270, 'amount': 1064},\n",
       "   {'transaction-id': 1385, 'amount': 1080},\n",
       "   {'transaction-id': 1405, 'amount': 1032},\n",
       "   {'transaction-id': 1456, 'amount': 1074},\n",
       "   {'transaction-id': 1680, 'amount': 966},\n",
       "   {'transaction-id': 1844, 'amount': 1047},\n",
       "   {'transaction-id': 1989, 'amount': 917},\n",
       "   {'transaction-id': 2007, 'amount': 969},\n",
       "   {'transaction-id': 2128, 'amount': 1031},\n",
       "   {'transaction-id': 2155, 'amount': 1005},\n",
       "   {'transaction-id': 2312, 'amount': 1075},\n",
       "   {'transaction-id': 2617, 'amount': 1020},\n",
       "   {'transaction-id': 3000, 'amount': 1092},\n",
       "   {'transaction-id': 3028, 'amount': 978},\n",
       "   {'transaction-id': 3161, 'amount': 986},\n",
       "   {'transaction-id': 3163, 'amount': 1163},\n",
       "   {'transaction-id': 3451, 'amount': 1134},\n",
       "   {'transaction-id': 3592, 'amount': 1064},\n",
       "   {'transaction-id': 3635, 'amount': 999},\n",
       "   {'transaction-id': 3700, 'amount': 896},\n",
       "   {'transaction-id': 3749, 'amount': 965},\n",
       "   {'transaction-id': 3831, 'amount': 1093},\n",
       "   {'transaction-id': 3877, 'amount': 1078},\n",
       "   {'transaction-id': 3895, 'amount': 1104},\n",
       "   {'transaction-id': 3938, 'amount': 988},\n",
       "   {'transaction-id': 3960, 'amount': 1132},\n",
       "   {'transaction-id': 4240, 'amount': 940},\n",
       "   {'transaction-id': 4403, 'amount': 1110},\n",
       "   {'transaction-id': 4432, 'amount': 1026},\n",
       "   {'transaction-id': 4451, 'amount': 1033},\n",
       "   {'transaction-id': 4453, 'amount': 1078},\n",
       "   {'transaction-id': 4528, 'amount': 1061},\n",
       "   {'transaction-id': 4543, 'amount': 1054},\n",
       "   {'transaction-id': 4699, 'amount': 929},\n",
       "   {'transaction-id': 5011, 'amount': 1037},\n",
       "   {'transaction-id': 5066, 'amount': 1024},\n",
       "   {'transaction-id': 5259, 'amount': 1061},\n",
       "   {'transaction-id': 5307, 'amount': 958},\n",
       "   {'transaction-id': 5503, 'amount': 1091},\n",
       "   {'transaction-id': 5810, 'amount': 984},\n",
       "   {'transaction-id': 6158, 'amount': 1001},\n",
       "   {'transaction-id': 6178, 'amount': 1001},\n",
       "   {'transaction-id': 6643, 'amount': 981},\n",
       "   {'transaction-id': 6690, 'amount': 986},\n",
       "   {'transaction-id': 7255, 'amount': 1172},\n",
       "   {'transaction-id': 7268, 'amount': 1013},\n",
       "   {'transaction-id': 7445, 'amount': 982},\n",
       "   {'transaction-id': 7523, 'amount': 1096},\n",
       "   {'transaction-id': 7678, 'amount': 1076},\n",
       "   {'transaction-id': 7871, 'amount': 956},\n",
       "   {'transaction-id': 7954, 'amount': 1086},\n",
       "   {'transaction-id': 7983, 'amount': 1024},\n",
       "   {'transaction-id': 8071, 'amount': 949},\n",
       "   {'transaction-id': 8140, 'amount': 994},\n",
       "   {'transaction-id': 8313, 'amount': 1049},\n",
       "   {'transaction-id': 8409, 'amount': 974},\n",
       "   {'transaction-id': 8502, 'amount': 1004},\n",
       "   {'transaction-id': 8848, 'amount': 1114},\n",
       "   {'transaction-id': 8873, 'amount': 1007},\n",
       "   {'transaction-id': 9011, 'amount': 963},\n",
       "   {'transaction-id': 9135, 'amount': 1141},\n",
       "   {'transaction-id': 9183, 'amount': 1076},\n",
       "   {'transaction-id': 9219, 'amount': 1087},\n",
       "   {'transaction-id': 9231, 'amount': 1033},\n",
       "   {'transaction-id': 9269, 'amount': 912},\n",
       "   {'transaction-id': 9354, 'amount': 1015},\n",
       "   {'transaction-id': 9439, 'amount': 998},\n",
       "   {'transaction-id': 9492, 'amount': 1001},\n",
       "   {'transaction-id': 9558, 'amount': 1043},\n",
       "   {'transaction-id': 9928, 'amount': 976},\n",
       "   {'transaction-id': 9973, 'amount': 1015}]})"
      ]
     },
     "execution_count": 11,
     "metadata": {},
     "output_type": "execute_result"
    }
   ],
   "source": [
    "# filter: keep only some elements of the sequence\n",
    "js.filter(lambda record: record['name'] == 'Alice').take(5)"
   ]
  },
  {
   "cell_type": "code",
   "execution_count": 12,
   "metadata": {},
   "outputs": [
    {
     "data": {
      "text/plain": [
       "({'name': 'Alice', 'count': 11},\n",
       " {'name': 'Alice', 'count': 30},\n",
       " {'name': 'Alice', 'count': 13},\n",
       " {'name': 'Alice', 'count': 64},\n",
       " {'name': 'Alice', 'count': 79})"
      ]
     },
     "execution_count": 12,
     "metadata": {},
     "output_type": "execute_result"
    }
   ],
   "source": [
    "def count_transactions(d):\n",
    "    return {'name': d['name'], 'count': len(d['transactions'])}\n",
    "\n",
    "# map: apply a function to each element\n",
    "(js.filter(lambda record: record['name'] == 'Alice')\n",
    "   .map(count_transactions)\n",
    "   .take(5))"
   ]
  },
  {
   "cell_type": "code",
   "execution_count": 13,
   "metadata": {},
   "outputs": [
    {
     "data": {
      "text/plain": [
       "(11, 30, 13, 64, 79)"
      ]
     },
     "execution_count": 13,
     "metadata": {},
     "output_type": "execute_result"
    }
   ],
   "source": [
    "# pluck: select a field, as from a dictionary, element[field]\n",
    "(js.filter(lambda record: record['name'] == 'Alice')\n",
    "   .map(count_transactions)\n",
    "   .pluck('count')\n",
    "   .take(5))"
   ]
  },
  {
   "cell_type": "code",
   "execution_count": 14,
   "metadata": {},
   "outputs": [
    {
     "data": {
      "text/plain": [
       "42.516"
      ]
     },
     "execution_count": 14,
     "metadata": {},
     "output_type": "execute_result"
    }
   ],
   "source": [
    "# Average number of transactions for all of the Alice entries\n",
    "(js.filter(lambda record: record['name'] == 'Alice')\n",
    "   .map(count_transactions)\n",
    "   .pluck('count')\n",
    "   .mean()\n",
    "   .compute())"
   ]
  },
  {
   "cell_type": "markdown",
   "metadata": {},
   "source": [
    "### Use `flatten` to de-nest"
   ]
  },
  {
   "cell_type": "markdown",
   "metadata": {},
   "source": [
    "In the example below we see the use of `.flatten()` to flatten results.  We compute the average amount for all transactions for all Alices."
   ]
  },
  {
   "cell_type": "code",
   "execution_count": 15,
   "metadata": {},
   "outputs": [
    {
     "data": {
      "text/plain": [
       "([{'transaction-id': 72, 'amount': 36},\n",
       "  {'transaction-id': 282, 'amount': 48},\n",
       "  {'transaction-id': 1226, 'amount': 58},\n",
       "  {'transaction-id': 3487, 'amount': 61},\n",
       "  {'transaction-id': 4641, 'amount': 66},\n",
       "  {'transaction-id': 5615, 'amount': 45},\n",
       "  {'transaction-id': 5942, 'amount': 61},\n",
       "  {'transaction-id': 6267, 'amount': 52},\n",
       "  {'transaction-id': 6750, 'amount': 68},\n",
       "  {'transaction-id': 8041, 'amount': 49},\n",
       "  {'transaction-id': 8940, 'amount': 68}],\n",
       " [{'transaction-id': 211, 'amount': 282},\n",
       "  {'transaction-id': 375, 'amount': 302},\n",
       "  {'transaction-id': 607, 'amount': 277},\n",
       "  {'transaction-id': 903, 'amount': 298},\n",
       "  {'transaction-id': 1205, 'amount': 282},\n",
       "  {'transaction-id': 1302, 'amount': 263},\n",
       "  {'transaction-id': 1316, 'amount': 282},\n",
       "  {'transaction-id': 1683, 'amount': 288},\n",
       "  {'transaction-id': 2003, 'amount': 279},\n",
       "  {'transaction-id': 2467, 'amount': 263},\n",
       "  {'transaction-id': 2986, 'amount': 269},\n",
       "  {'transaction-id': 3105, 'amount': 280},\n",
       "  {'transaction-id': 3945, 'amount': 272},\n",
       "  {'transaction-id': 4882, 'amount': 308},\n",
       "  {'transaction-id': 5179, 'amount': 251},\n",
       "  {'transaction-id': 5260, 'amount': 291},\n",
       "  {'transaction-id': 5441, 'amount': 283},\n",
       "  {'transaction-id': 6115, 'amount': 270},\n",
       "  {'transaction-id': 6195, 'amount': 299},\n",
       "  {'transaction-id': 6466, 'amount': 311},\n",
       "  {'transaction-id': 7117, 'amount': 299},\n",
       "  {'transaction-id': 7403, 'amount': 296},\n",
       "  {'transaction-id': 7527, 'amount': 273},\n",
       "  {'transaction-id': 7926, 'amount': 261},\n",
       "  {'transaction-id': 8152, 'amount': 286},\n",
       "  {'transaction-id': 8712, 'amount': 282},\n",
       "  {'transaction-id': 8865, 'amount': 278},\n",
       "  {'transaction-id': 8937, 'amount': 271},\n",
       "  {'transaction-id': 9113, 'amount': 295},\n",
       "  {'transaction-id': 9120, 'amount': 290}],\n",
       " [{'transaction-id': 1980, 'amount': 414},\n",
       "  {'transaction-id': 3442, 'amount': 349},\n",
       "  {'transaction-id': 4539, 'amount': 349},\n",
       "  {'transaction-id': 4572, 'amount': 397},\n",
       "  {'transaction-id': 4671, 'amount': 325},\n",
       "  {'transaction-id': 4682, 'amount': 410},\n",
       "  {'transaction-id': 4709, 'amount': 370},\n",
       "  {'transaction-id': 5054, 'amount': 334},\n",
       "  {'transaction-id': 5957, 'amount': 360},\n",
       "  {'transaction-id': 7337, 'amount': 364},\n",
       "  {'transaction-id': 8176, 'amount': 327},\n",
       "  {'transaction-id': 8471, 'amount': 343},\n",
       "  {'transaction-id': 9739, 'amount': 374}])"
      ]
     },
     "execution_count": 15,
     "metadata": {},
     "output_type": "execute_result"
    }
   ],
   "source": [
    "js.filter(lambda record: record['name'] == 'Alice').pluck('transactions').take(3)"
   ]
  },
  {
   "cell_type": "code",
   "execution_count": 16,
   "metadata": {},
   "outputs": [
    {
     "data": {
      "text/plain": [
       "({'transaction-id': 72, 'amount': 36},\n",
       " {'transaction-id': 282, 'amount': 48},\n",
       " {'transaction-id': 1226, 'amount': 58})"
      ]
     },
     "execution_count": 16,
     "metadata": {},
     "output_type": "execute_result"
    }
   ],
   "source": [
    "(js.filter(lambda record: record['name'] == 'Alice')\n",
    "   .pluck('transactions')\n",
    "   .flatten()\n",
    "   .take(3))"
   ]
  },
  {
   "cell_type": "code",
   "execution_count": 17,
   "metadata": {},
   "outputs": [
    {
     "data": {
      "text/plain": [
       "(36, 48, 58)"
      ]
     },
     "execution_count": 17,
     "metadata": {},
     "output_type": "execute_result"
    }
   ],
   "source": [
    "(js.filter(lambda record: record['name'] == 'Alice')\n",
    "   .pluck('transactions')\n",
    "   .flatten()\n",
    "   .pluck('amount')\n",
    "   .take(3))"
   ]
  },
  {
   "cell_type": "code",
   "execution_count": 18,
   "metadata": {},
   "outputs": [
    {
     "data": {
      "text/plain": [
       "832.5890958697902"
      ]
     },
     "execution_count": 18,
     "metadata": {},
     "output_type": "execute_result"
    }
   ],
   "source": [
    "(js.filter(lambda record: record['name'] == 'Alice')\n",
    "   .pluck('transactions')\n",
    "   .flatten()\n",
    "   .pluck('amount')\n",
    "   .mean()\n",
    "   .compute())"
   ]
  },
  {
   "cell_type": "markdown",
   "metadata": {},
   "source": [
    "### Groupby and Foldby"
   ]
  },
  {
   "cell_type": "markdown",
   "metadata": {},
   "source": [
    "Often we want to group data by some function or key.  We can do this either with the `.groupby` method, which is straightforward but forces a full shuffle of the data (expensive) or with the harder-to-use but faster `.foldby` method, which does a streaming combined groupby and reduction.\n",
    "\n",
    "*  `groupby`:  Shuffles data so that all items with the same key are in the same key-value pair\n",
    "*  `foldby`:  Walks through the data accumulating a result per key\n",
    "\n",
    "*Note: the full groupby is particularly bad. In actual workloads you would do well to use `foldby` or switch to `DataFrame`s if possible.*"
   ]
  },
  {
   "cell_type": "markdown",
   "metadata": {},
   "source": [
    "### `groupby`"
   ]
  },
  {
   "cell_type": "markdown",
   "metadata": {},
   "source": [
    "Groupby collects items in your collection so that all items with the same value under some function are collected together into a key-value pair."
   ]
  },
  {
   "cell_type": "code",
   "execution_count": 19,
   "metadata": {},
   "outputs": [
    {
     "data": {
      "text/plain": [
       "[(7, ['Charlie']), (3, ['Bob', 'Dan']), (5, ['Alice', 'Edith', 'Frank'])]"
      ]
     },
     "execution_count": 19,
     "metadata": {},
     "output_type": "execute_result"
    }
   ],
   "source": [
    "b = db.from_sequence(['Alice', 'Bob', 'Charlie', 'Dan', 'Edith', 'Frank'])\n",
    "b.groupby(len).compute()  # names grouped by length"
   ]
  },
  {
   "cell_type": "code",
   "execution_count": 20,
   "metadata": {},
   "outputs": [
    {
     "data": {
      "text/plain": [
       "[(0, [0, 2, 4, 6, 8]), (1, [1, 3, 5, 7, 9])]"
      ]
     },
     "execution_count": 20,
     "metadata": {},
     "output_type": "execute_result"
    }
   ],
   "source": [
    "b = db.from_sequence(list(range(10)))\n",
    "b.groupby(lambda x: x % 2).compute()"
   ]
  },
  {
   "cell_type": "code",
   "execution_count": 21,
   "metadata": {},
   "outputs": [
    {
     "data": {
      "text/plain": [
       "[(0, 8), (1, 9)]"
      ]
     },
     "execution_count": 21,
     "metadata": {},
     "output_type": "execute_result"
    }
   ],
   "source": [
    "b.groupby(lambda x: x % 2).starmap(lambda k, v: (k, max(v))).compute()"
   ]
  },
  {
   "cell_type": "markdown",
   "metadata": {},
   "source": [
    "### `foldby`"
   ]
  },
  {
   "cell_type": "markdown",
   "metadata": {},
   "source": [
    "Foldby can be quite odd at first.  It is similar to the following functions from other libraries:\n",
    "\n",
    "*  [`toolz.reduceby`](http://toolz.readthedocs.io/en/latest/streaming-analytics.html#streaming-split-apply-combine)\n",
    "*  [`pyspark.RDD.combineByKey`](http://abshinn.github.io/python/apache-spark/2014/10/11/using-combinebykey-in-apache-spark/)\n",
    "\n",
    "When using `foldby` you provide \n",
    "\n",
    "1.  A key function on which to group elements\n",
    "2.  A binary operator such as you would pass to `reduce` that you use to perform reduction per each group\n",
    "3.  A combine binary operator that can combine the results of two `reduce` calls on different parts of your dataset.\n",
    "\n",
    "Your reduction must be associative.  It will happen in parallel in each of the partitions of your dataset.  Then all of these intermediate results will be combined by the `combine` binary operator."
   ]
  },
  {
   "cell_type": "code",
   "execution_count": 22,
   "metadata": {},
   "outputs": [
    {
     "data": {
      "text/plain": [
       "[(0, 8), (1, 9)]"
      ]
     },
     "execution_count": 22,
     "metadata": {},
     "output_type": "execute_result"
    }
   ],
   "source": [
    "is_even = lambda x: x % 2\n",
    "b.foldby(is_even, binop=max, combine=max).compute()"
   ]
  },
  {
   "cell_type": "markdown",
   "metadata": {},
   "source": [
    "### Example with account data"
   ]
  },
  {
   "cell_type": "markdown",
   "metadata": {},
   "source": [
    "We find the number of people with the same name."
   ]
  },
  {
   "cell_type": "code",
   "execution_count": 23,
   "metadata": {},
   "outputs": [
    {
     "name": "stdout",
     "output_type": "stream",
     "text": [
      "[('Alice', 110), ('Alice', 120), ('Alice', 130), ('Alice', 140), ('Bob', 109), ('Bob', 119), ('Bob', 129), ('Bob', 137), ('Charlie', 66), ('Charlie', 72), ('Charlie', 78), ('Charlie', 84), ('Dan', 154), ('Dan', 168), ('Dan', 182), ('Dan', 196), ('Edith', 88), ('Edith', 96), ('Edith', 104), ('Edith', 112), ('Frank', 110), ('Frank', 120), ('Frank', 130), ('Frank', 140), ('George', 97), ('George', 103), ('George', 114), ('George', 123), ('Hannah', 44), ('Hannah', 48), ('Hannah', 52), ('Hannah', 56), ('Ingrid', 110), ('Ingrid', 120), ('Ingrid', 130), ('Ingrid', 140), ('Jerry', 143), ('Jerry', 156), ('Jerry', 168), ('Jerry', 182), ('Kevin', 98), ('Kevin', 105), ('Kevin', 109), ('Kevin', 118), ('Laura', 82), ('Laura', 88), ('Laura', 96), ('Laura', 101), ('Michael', 110), ('Michael', 120), ('Michael', 130), ('Michael', 140), ('Norbert', 153), ('Norbert', 168), ('Norbert', 316), ('Oliver', 121), ('Oliver', 132), ('Oliver', 143), ('Oliver', 153), ('Patricia', 116), ('Patricia', 125), ('Patricia', 131), ('Patricia', 145), ('Quinn', 86), ('Quinn', 92), ('Quinn', 99), ('Quinn', 104), ('Ray', 55), ('Ray', 60), ('Ray', 65), ('Ray', 70), ('Sarah', 105), ('Sarah', 114), ('Sarah', 124), ('Sarah', 135), ('Tim', 77), ('Tim', 91), ('Tim', 182), ('Ursula', 99), ('Ursula', 108), ('Ursula', 117), ('Ursula', 126), ('Victor', 125), ('Victor', 141), ('Victor', 151), ('Victor', 163), ('Wendy', 98), ('Wendy', 108), ('Wendy', 117), ('Wendy', 125), ('Xavier', 132), ('Xavier', 144), ('Xavier', 156), ('Xavier', 168), ('Yvonne', 138), ('Yvonne', 152), ('Yvonne', 240), ('Zelda', 121), ('Zelda', 132), ('Zelda', 143), ('Zelda', 154)]\n",
      "CPU times: user 1.74 s, sys: 83.3 ms, total: 1.83 s\n",
      "Wall time: 9.15 s\n"
     ]
    }
   ],
   "source": [
    "%%time\n",
    "# Warning, this one takes a while...\n",
    "result = js.groupby(lambda item: item['name']).starmap(lambda k, v: (k, len(v))).compute()\n",
    "print(sorted(result))"
   ]
  },
  {
   "cell_type": "code",
   "execution_count": 24,
   "metadata": {},
   "outputs": [
    {
     "name": "stdout",
     "output_type": "stream",
     "text": [
      "[('Alice', 500), ('Bob', 494), ('Charlie', 300), ('Dan', 700), ('Edith', 400), ('Frank', 500), ('George', 437), ('Hannah', 200), ('Ingrid', 500), ('Jerry', 649), ('Kevin', 430), ('Laura', 367), ('Michael', 500), ('Norbert', 637), ('Oliver', 549), ('Patricia', 517), ('Quinn', 381), ('Ray', 250), ('Sarah', 478), ('Tim', 350), ('Ursula', 450), ('Victor', 580), ('Wendy', 448), ('Xavier', 600), ('Yvonne', 530), ('Zelda', 550)]\n",
      "CPU times: user 172 ms, sys: 1.57 ms, total: 174 ms\n",
      "Wall time: 620 ms\n"
     ]
    }
   ],
   "source": [
    "%%time\n",
    "# This one is comparatively fast and produces the same result.\n",
    "from operator import add\n",
    "def incr(tot, _):\n",
    "    return tot+1\n",
    "\n",
    "result = js.foldby(key='name', \n",
    "                   binop=incr, \n",
    "                   initial=0, \n",
    "                   combine=add, \n",
    "                   combine_initial=0).compute()\n",
    "print(sorted(result))"
   ]
  },
  {
   "cell_type": "markdown",
   "metadata": {},
   "source": [
    "### Exercise: compute total amount per name"
   ]
  },
  {
   "cell_type": "markdown",
   "metadata": {},
   "source": [
    "We want to groupby (or foldby) the `name` key, then add up the all of the amounts for each name.\n",
    "\n",
    "Steps\n",
    "\n",
    "1.  Create a small function that, given a dictionary like \n",
    "\n",
    "        {'name': 'Alice', 'transactions': [{'amount': 1, 'id': 123}, {'amount': 2, 'id': 456}]}\n",
    "        \n",
    "    produces the sum of the amounts, e.g. `3`\n",
    "    \n",
    "2.  Slightly change the binary operator of the `foldby` example above so that the binary operator doesn't count the number of entries, but instead accumulates the sum of the amounts."
   ]
  },
  {
   "cell_type": "code",
   "execution_count": 25,
   "metadata": {},
   "outputs": [],
   "source": [
    "# Your code here..."
   ]
  },
  {
   "cell_type": "markdown",
   "metadata": {},
   "source": [
    "## DataFrames"
   ]
  },
  {
   "cell_type": "markdown",
   "metadata": {},
   "source": [
    "For the same reasons that Pandas is often faster than pure Python, `dask.dataframe` can be faster than `dask.bag`.  We will work more with DataFrames later, but from for the bag point of view, they are frequently the end-point of the \"messy\" part of data ingestion—once the data can be made into a data-frame, then complex split-apply-combine logic will become much more straight-forward and efficient.\n",
    "\n",
    "You can transform a bag with a simple tuple or flat dictionary structure into a `dask.dataframe` with the `to_dataframe` method."
   ]
  },
  {
   "cell_type": "code",
   "execution_count": 26,
   "metadata": {},
   "outputs": [
    {
     "data": {
      "text/html": [
       "<div>\n",
       "<style scoped>\n",
       "    .dataframe tbody tr th:only-of-type {\n",
       "        vertical-align: middle;\n",
       "    }\n",
       "\n",
       "    .dataframe tbody tr th {\n",
       "        vertical-align: top;\n",
       "    }\n",
       "\n",
       "    .dataframe thead th {\n",
       "        text-align: right;\n",
       "    }\n",
       "</style>\n",
       "<table border=\"1\" class=\"dataframe\">\n",
       "  <thead>\n",
       "    <tr style=\"text-align: right;\">\n",
       "      <th></th>\n",
       "      <th>id</th>\n",
       "      <th>name</th>\n",
       "      <th>transactions</th>\n",
       "    </tr>\n",
       "  </thead>\n",
       "  <tbody>\n",
       "    <tr>\n",
       "      <th>0</th>\n",
       "      <td>0</td>\n",
       "      <td>Michael</td>\n",
       "      <td>[{'transaction-id': 1, 'amount': 366}, {'trans...</td>\n",
       "    </tr>\n",
       "    <tr>\n",
       "      <th>1</th>\n",
       "      <td>1</td>\n",
       "      <td>Wendy</td>\n",
       "      <td>[{'transaction-id': 48, 'amount': 118}, {'tran...</td>\n",
       "    </tr>\n",
       "    <tr>\n",
       "      <th>2</th>\n",
       "      <td>2</td>\n",
       "      <td>Hannah</td>\n",
       "      <td>[{'transaction-id': 321, 'amount': 3025}, {'tr...</td>\n",
       "    </tr>\n",
       "    <tr>\n",
       "      <th>3</th>\n",
       "      <td>3</td>\n",
       "      <td>Tim</td>\n",
       "      <td>[{'transaction-id': 421, 'amount': 1453}, {'tr...</td>\n",
       "    </tr>\n",
       "    <tr>\n",
       "      <th>4</th>\n",
       "      <td>4</td>\n",
       "      <td>Jerry</td>\n",
       "      <td>[{'transaction-id': 6, 'amount': 931}, {'trans...</td>\n",
       "    </tr>\n",
       "  </tbody>\n",
       "</table>\n",
       "</div>"
      ],
      "text/plain": [
       "   id     name                                       transactions\n",
       "0   0  Michael  [{'transaction-id': 1, 'amount': 366}, {'trans...\n",
       "1   1    Wendy  [{'transaction-id': 48, 'amount': 118}, {'tran...\n",
       "2   2   Hannah  [{'transaction-id': 321, 'amount': 3025}, {'tr...\n",
       "3   3      Tim  [{'transaction-id': 421, 'amount': 1453}, {'tr...\n",
       "4   4    Jerry  [{'transaction-id': 6, 'amount': 931}, {'trans..."
      ]
     },
     "execution_count": 26,
     "metadata": {},
     "output_type": "execute_result"
    }
   ],
   "source": [
    "df1 = js.to_dataframe()\n",
    "df1.head()"
   ]
  },
  {
   "cell_type": "markdown",
   "metadata": {},
   "source": [
    "This now looks like a well-defined DataFrame, and we can apply Pandas-like computations to it efficiently."
   ]
  },
  {
   "cell_type": "markdown",
   "metadata": {},
   "source": [
    "Using a Dask DataFrame, how long does it take to do our prior computation of numbers of people with the same name?  It turns out that `dask.dataframe.groupby()` beats `dask.bag.groupby()` more than an order of magnitude; but it still cannot match `dask.bag.foldby()` for this case."
   ]
  },
  {
   "cell_type": "code",
   "execution_count": 27,
   "metadata": {},
   "outputs": [
    {
     "name": "stdout",
     "output_type": "stream",
     "text": [
      "CPU times: user 234 ms, sys: 20.5 ms, total: 255 ms\n",
      "Wall time: 1.89 s\n"
     ]
    },
    {
     "data": {
      "text/plain": [
       "name\n",
       "Alice      500\n",
       "Bob        494\n",
       "Charlie    300\n",
       "Dan        700\n",
       "Edith      400\n",
       "Name: id, dtype: int64"
      ]
     },
     "execution_count": 27,
     "metadata": {},
     "output_type": "execute_result"
    }
   ],
   "source": [
    "%time df1.groupby('name').id.count().compute().head()"
   ]
  },
  {
   "cell_type": "markdown",
   "metadata": {},
   "source": [
    "### Denormalization"
   ]
  },
  {
   "cell_type": "markdown",
   "metadata": {},
   "source": [
    "This DataFrame format is less-than-optimal because the `transactions` column is filled with nested data so Pandas has to revert to `object` dtype, which is quite slow in Pandas.  Ideally we want to transform to a dataframe only after we have flattened our data so that each record is a single `int`, `string`, `float`, etc.."
   ]
  },
  {
   "cell_type": "code",
   "execution_count": 28,
   "metadata": {},
   "outputs": [
    {
     "data": {
      "text/plain": [
       "({'id': 0, 'name': 'Michael', 'amount': 366, 'transaction-id': 1},\n",
       " {'id': 0, 'name': 'Michael', 'amount': 381, 'transaction-id': 2},\n",
       " {'id': 0, 'name': 'Michael', 'amount': 346, 'transaction-id': 55})"
      ]
     },
     "execution_count": 28,
     "metadata": {},
     "output_type": "execute_result"
    }
   ],
   "source": [
    "def denormalize(record):\n",
    "    # returns a list for every nested item, each transaction of each person\n",
    "    return [{'id': record['id'], \n",
    "             'name': record['name'], \n",
    "             'amount': transaction['amount'], \n",
    "             'transaction-id': transaction['transaction-id']}\n",
    "            for transaction in record['transactions']]\n",
    "\n",
    "transactions = js.map(denormalize).flatten()\n",
    "transactions.take(3)"
   ]
  },
  {
   "cell_type": "code",
   "execution_count": 29,
   "metadata": {},
   "outputs": [
    {
     "data": {
      "text/html": [
       "<div>\n",
       "<style scoped>\n",
       "    .dataframe tbody tr th:only-of-type {\n",
       "        vertical-align: middle;\n",
       "    }\n",
       "\n",
       "    .dataframe tbody tr th {\n",
       "        vertical-align: top;\n",
       "    }\n",
       "\n",
       "    .dataframe thead th {\n",
       "        text-align: right;\n",
       "    }\n",
       "</style>\n",
       "<table border=\"1\" class=\"dataframe\">\n",
       "  <thead>\n",
       "    <tr style=\"text-align: right;\">\n",
       "      <th></th>\n",
       "      <th>id</th>\n",
       "      <th>name</th>\n",
       "      <th>amount</th>\n",
       "      <th>transaction-id</th>\n",
       "    </tr>\n",
       "  </thead>\n",
       "  <tbody>\n",
       "    <tr>\n",
       "      <th>0</th>\n",
       "      <td>0</td>\n",
       "      <td>Michael</td>\n",
       "      <td>366</td>\n",
       "      <td>1</td>\n",
       "    </tr>\n",
       "    <tr>\n",
       "      <th>1</th>\n",
       "      <td>0</td>\n",
       "      <td>Michael</td>\n",
       "      <td>381</td>\n",
       "      <td>2</td>\n",
       "    </tr>\n",
       "    <tr>\n",
       "      <th>2</th>\n",
       "      <td>0</td>\n",
       "      <td>Michael</td>\n",
       "      <td>346</td>\n",
       "      <td>55</td>\n",
       "    </tr>\n",
       "    <tr>\n",
       "      <th>3</th>\n",
       "      <td>0</td>\n",
       "      <td>Michael</td>\n",
       "      <td>344</td>\n",
       "      <td>90</td>\n",
       "    </tr>\n",
       "    <tr>\n",
       "      <th>4</th>\n",
       "      <td>0</td>\n",
       "      <td>Michael</td>\n",
       "      <td>359</td>\n",
       "      <td>102</td>\n",
       "    </tr>\n",
       "  </tbody>\n",
       "</table>\n",
       "</div>"
      ],
      "text/plain": [
       "   id     name  amount  transaction-id\n",
       "0   0  Michael     366               1\n",
       "1   0  Michael     381               2\n",
       "2   0  Michael     346              55\n",
       "3   0  Michael     344              90\n",
       "4   0  Michael     359             102"
      ]
     },
     "execution_count": 29,
     "metadata": {},
     "output_type": "execute_result"
    }
   ],
   "source": [
    "df = transactions.to_dataframe()\n",
    "df.head()"
   ]
  },
  {
   "cell_type": "code",
   "execution_count": 30,
   "metadata": {},
   "outputs": [
    {
     "name": "stdout",
     "output_type": "stream",
     "text": [
      "CPU times: user 209 ms, sys: 8.46 ms, total: 218 ms\n",
      "Wall time: 1.48 s\n"
     ]
    },
    {
     "data": {
      "text/plain": [
       "name\n",
       "Alice       21258\n",
       "Bob         17514\n",
       "Charlie     17756\n",
       "Dan         17623\n",
       "Edith       13393\n",
       "Frank       21895\n",
       "George      20243\n",
       "Hannah       3411\n",
       "Ingrid      15925\n",
       "Jerry       24062\n",
       "Kevin       24465\n",
       "Laura       19602\n",
       "Michael     17079\n",
       "Norbert     30471\n",
       "Oliver      16215\n",
       "Patricia    26444\n",
       "Quinn       18460\n",
       "Ray          8638\n",
       "Sarah       13305\n",
       "Tim         19465\n",
       "Ursula      13439\n",
       "Victor      18974\n",
       "Wendy       18297\n",
       "Xavier      35375\n",
       "Yvonne      16255\n",
       "Zelda       30436\n",
       "Name: transaction-id, dtype: int64"
      ]
     },
     "execution_count": 30,
     "metadata": {},
     "output_type": "execute_result"
    }
   ],
   "source": [
    "%%time\n",
    "# number of transactions per name\n",
    "# note that the time here includes the data load and ingestion\n",
    "df.groupby('name')['transaction-id'].count().compute()"
   ]
  },
  {
   "cell_type": "markdown",
   "metadata": {},
   "source": [
    "## Limitations"
   ]
  },
  {
   "cell_type": "markdown",
   "metadata": {},
   "source": [
    "Bags provide very general computation (any Python function.)  This generality\n",
    "comes at cost.  Bags have the following known limitations\n",
    "\n",
    "1.  Bag operations tend to be slower than array/dataframe computations in the\n",
    "    same way that Python tends to be slower than NumPy/Pandas\n",
    "2.  ``Bag.groupby`` is slow.  You should try to use ``Bag.foldby`` if possible.\n",
    "    Using ``Bag.foldby`` requires more thought. Even better, consider creating\n",
    "    a normalised dataframe."
   ]
  },
  {
   "cell_type": "markdown",
   "metadata": {},
   "source": [
    "## Learn More\n",
    "\n",
    "* [Bag documentation](https://docs.dask.org/en/latest/bag.html)\n",
    "* [Bag screencast](https://youtu.be/-qIiJ1XtSv0)\n",
    "* [Bag API](https://docs.dask.org/en/latest/bag-api.html)\n",
    "* [Bag examples](https://examples.dask.org/bag.html)"
   ]
  },
  {
   "cell_type": "markdown",
   "metadata": {},
   "source": [
    "## Shutdown"
   ]
  },
  {
   "cell_type": "code",
   "execution_count": 31,
   "metadata": {},
   "outputs": [],
   "source": [
    "client.shutdown()"
   ]
  }
 ],
 "metadata": {
  "anaconda-cloud": {},
  "kernelspec": {
   "display_name": "Python 3",
   "language": "python",
   "name": "python3"
  },
  "language_info": {
   "codemirror_mode": {
    "name": "ipython",
    "version": 3
   },
   "file_extension": ".py",
   "mimetype": "text/x-python",
   "name": "python",
   "nbconvert_exporter": "python",
   "pygments_lexer": "ipython3",
   "version": "3.8.5"
  }
 },
 "nbformat": 4,
 "nbformat_minor": 4
}
