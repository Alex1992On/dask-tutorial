{
 "cells": [
  {
   "cell_type": "markdown",
   "metadata": {},
   "source": [
    "<img src=\"images/dask_horizontal.svg\" align=\"right\" width=\"30%\">"
   ]
  },
  {
   "cell_type": "markdown",
   "metadata": {},
   "source": [
    "# Bag: Parallel Lists for semi-structured data"
   ]
  },
  {
   "cell_type": "markdown",
   "metadata": {},
   "source": [
    "Dask-bag excels in processing data that can be represented as a sequence of arbitrary inputs. We'll refer to this as \"messy\" data, because it can contain complex nested structures, missing fields, mixtures of data types, etc. The *functional* programming style fits very nicely with standard Python iteration, such as can be found in the `itertools` module.\n",
    "\n",
    "Messy data is often encountered at the beginning of data processing pipelines when large volumes of raw data are first consumed. The initial set of data might be JSON, CSV, XML, or any other format that does not enforce strict structure and datatypes.\n",
    "For this reason, the initial data massaging and processing is often done with Python `list`s, `dict`s, and `set`s.\n",
    "\n",
    "These core data structures are optimized for general-purpose storage and processing.  Adding streaming computation with iterators/generator expressions or libraries like `itertools` or [`toolz`](https://toolz.readthedocs.io/en/latest/) let us process large volumes in a small space.  If we combine this with parallel processing then we can churn through a fair amount of data.\n",
    "\n",
    "Dask.bag is a high level Dask collection to automate common workloads of this form.  In a nutshell\n",
    "\n",
    "    dask.bag = map, filter, toolz + parallel execution\n",
    "    \n",
    "**Related Documentation**\n",
    "\n",
    "* [Bag documentation](https://docs.dask.org/en/latest/bag.html)\n",
    "* [Bag screencast](https://youtu.be/-qIiJ1XtSv0)\n",
    "* [Bag API](https://docs.dask.org/en/latest/bag-api.html)\n",
    "* [Bag examples](https://examples.dask.org/bag.html)"
   ]
  },
  {
   "cell_type": "markdown",
   "metadata": {},
   "source": [
    "## Create data"
   ]
  },
  {
   "cell_type": "code",
   "execution_count": 1,
   "metadata": {
    "execution": {
     "iopub.execute_input": "2020-12-01T14:10:23.264159Z",
     "iopub.status.busy": "2020-12-01T14:10:23.263716Z",
     "iopub.status.idle": "2020-12-01T14:10:23.790653Z",
     "shell.execute_reply": "2020-12-01T14:10:23.791216Z"
    }
   },
   "outputs": [],
   "source": [
    "%run prep.py -d accounts"
   ]
  },
  {
   "cell_type": "markdown",
   "metadata": {},
   "source": [
    "## Setup"
   ]
  },
  {
   "cell_type": "markdown",
   "metadata": {},
   "source": [
    "Again, we'll use the distributed scheduler. Schedulers will be explained in depth [later](05_distributed.ipynb)."
   ]
  },
  {
   "cell_type": "code",
   "execution_count": 2,
   "metadata": {
    "execution": {
     "iopub.execute_input": "2020-12-01T14:10:23.795671Z",
     "iopub.status.busy": "2020-12-01T14:10:23.794979Z",
     "iopub.status.idle": "2020-12-01T14:10:25.627187Z",
     "shell.execute_reply": "2020-12-01T14:10:25.627817Z"
    }
   },
   "outputs": [],
   "source": [
    "from dask.distributed import Client\n",
    "\n",
    "client = Client(n_workers=4)"
   ]
  },
  {
   "cell_type": "markdown",
   "metadata": {},
   "source": [
    "## Creation"
   ]
  },
  {
   "cell_type": "markdown",
   "metadata": {},
   "source": [
    "You can create a `Bag` from a Python sequence, from files, from data on S3, etc.\n",
    "We demonstrate using `.take()` to show elements of the data. (Doing `.take(1)` results in a tuple with one element)\n",
    "\n",
    "Note that the data are partitioned into blocks, and there are many items per block. In the first example, the two partitions contain five elements each, and in the following two, each file is partitioned into one or more bytes blocks."
   ]
  },
  {
   "cell_type": "code",
   "execution_count": 3,
   "metadata": {
    "execution": {
     "iopub.execute_input": "2020-12-01T14:10:25.633061Z",
     "iopub.status.busy": "2020-12-01T14:10:25.632445Z",
     "iopub.status.idle": "2020-12-01T14:10:25.680119Z",
     "shell.execute_reply": "2020-12-01T14:10:25.681024Z"
    }
   },
   "outputs": [
    {
     "data": {
      "text/plain": [
       "(1, 2, 3)"
      ]
     },
     "execution_count": 1,
     "metadata": {},
     "output_type": "execute_result"
    }
   ],
   "source": [
    "# each element is an integer\n",
    "import dask.bag as db\n",
    "b = db.from_sequence([1, 2, 3, 4, 5, 6, 7, 8, 9, 10], npartitions=2)\n",
    "b.take(3)"
   ]
  },
  {
   "cell_type": "code",
   "execution_count": 4,
   "metadata": {
    "execution": {
     "iopub.execute_input": "2020-12-01T14:10:25.685788Z",
     "iopub.status.busy": "2020-12-01T14:10:25.684793Z",
     "iopub.status.idle": "2020-12-01T14:10:25.711958Z",
     "shell.execute_reply": "2020-12-01T14:10:25.712552Z"
    }
   },
   "outputs": [
    {
     "data": {
      "text/plain": [
       "('{\"id\": 0, \"name\": \"Sarah\", \"transactions\": [{\"transaction-id\": 330, \"amount\": -323}, {\"transaction-id\": 409, \"amount\": -377}, {\"transaction-id\": 658, \"amount\": -412}, {\"transaction-id\": 763, \"amount\": -538}, {\"transaction-id\": 853, \"amount\": -256}, {\"transaction-id\": 1004, \"amount\": -380}, {\"transaction-id\": 1075, \"amount\": -344}, {\"transaction-id\": 1224, \"amount\": -353}, {\"transaction-id\": 1388, \"amount\": -386}, {\"transaction-id\": 1527, \"amount\": -457}, {\"transaction-id\": 1575, \"amount\": -596}, {\"transaction-id\": 1588, \"amount\": -251}, {\"transaction-id\": 1703, \"amount\": -407}, {\"transaction-id\": 2092, \"amount\": -333}, {\"transaction-id\": 2576, \"amount\": -361}, {\"transaction-id\": 2707, \"amount\": -288}, {\"transaction-id\": 2794, \"amount\": -583}, {\"transaction-id\": 2846, \"amount\": -277}, {\"transaction-id\": 2939, \"amount\": -271}, {\"transaction-id\": 3248, \"amount\": -599}, {\"transaction-id\": 3305, \"amount\": -716}, {\"transaction-id\": 3308, \"amount\": -264}, {\"transaction-id\": 3628, \"amount\": -329}, {\"transaction-id\": 3708, \"amount\": -543}, {\"transaction-id\": 4055, \"amount\": -243}, {\"transaction-id\": 4404, \"amount\": -536}, {\"transaction-id\": 4544, \"amount\": -629}, {\"transaction-id\": 4566, \"amount\": -84}, {\"transaction-id\": 5554, \"amount\": -199}, {\"transaction-id\": 5668, \"amount\": -276}, {\"transaction-id\": 6143, \"amount\": -278}, {\"transaction-id\": 6943, \"amount\": -320}, {\"transaction-id\": 6955, \"amount\": -338}, {\"transaction-id\": 7413, \"amount\": -299}, {\"transaction-id\": 7447, \"amount\": -417}, {\"transaction-id\": 7768, \"amount\": -290}, {\"transaction-id\": 8260, \"amount\": -352}, {\"transaction-id\": 8343, \"amount\": -293}, {\"transaction-id\": 8901, \"amount\": -370}, {\"transaction-id\": 9384, \"amount\": -426}, {\"transaction-id\": 9498, \"amount\": -474}, {\"transaction-id\": 9524, \"amount\": -527}, {\"transaction-id\": 9768, \"amount\": -651}, {\"transaction-id\": 9836, \"amount\": -437}, {\"transaction-id\": 9994, \"amount\": -445}]}\\n',)"
      ]
     },
     "execution_count": 1,
     "metadata": {},
     "output_type": "execute_result"
    }
   ],
   "source": [
    "# each element is a text file, where each line is a JSON object\n",
    "# note that the compression is handled automatically\n",
    "import os\n",
    "b = db.read_text(os.path.join('data', 'accounts.*.json.gz'))\n",
    "b.take(1)"
   ]
  },
  {
   "cell_type": "code",
   "execution_count": 5,
   "metadata": {
    "execution": {
     "iopub.execute_input": "2020-12-01T14:10:25.716004Z",
     "iopub.status.busy": "2020-12-01T14:10:25.715537Z",
     "iopub.status.idle": "2020-12-01T14:10:25.720293Z",
     "shell.execute_reply": "2020-12-01T14:10:25.719873Z"
    }
   },
   "outputs": [
    {
     "data": {
      "text/plain": [
       "'s3://dask-data/nyc-taxi/2015/yellow_tripdata_2015-01.csv'"
      ]
     },
     "execution_count": 1,
     "metadata": {},
     "output_type": "execute_result"
    }
   ],
   "source": [
    "# Edit sources.py to configure source locations\n",
    "import sources\n",
    "sources.bag_url"
   ]
  },
  {
   "cell_type": "code",
   "execution_count": 6,
   "metadata": {
    "execution": {
     "iopub.execute_input": "2020-12-01T14:10:25.723727Z",
     "iopub.status.busy": "2020-12-01T14:10:25.723191Z",
     "iopub.status.idle": "2020-12-01T14:10:26.492091Z",
     "shell.execute_reply": "2020-12-01T14:10:26.491285Z"
    }
   },
   "outputs": [
    {
     "data": {
      "text/plain": [
       "('VendorID,tpep_pickup_datetime,tpep_dropoff_datetime,passenger_count,trip_distance,pickup_longitude,pickup_latitude,RateCodeID,store_and_fwd_flag,dropoff_longitude,dropoff_latitude,payment_type,fare_amount,extra,mta_tax,tip_amount,tolls_amount,improvement_surcharge,total_amount\\n',)"
      ]
     },
     "execution_count": 1,
     "metadata": {},
     "output_type": "execute_result"
    }
   ],
   "source": [
    "# Requires `s3fs` library\n",
    "# each partition is a remote CSV text file\n",
    "b = db.read_text(sources.bag_url,\n",
    "                 storage_options={'anon': True})\n",
    "b.take(1)"
   ]
  },
  {
   "cell_type": "markdown",
   "metadata": {},
   "source": [
    "## Manipulation"
   ]
  },
  {
   "cell_type": "markdown",
   "metadata": {},
   "source": [
    "`Bag` objects hold the standard functional API found in projects like the Python standard library, `toolz`, or `pyspark`, including `map`, `filter`, `groupby`, etc..\n",
    "\n",
    "Operations on `Bag` objects create new bags.  Call the `.compute()` method to trigger execution, as we saw for `Delayed` objects.  "
   ]
  },
  {
   "cell_type": "code",
   "execution_count": 7,
   "metadata": {
    "execution": {
     "iopub.execute_input": "2020-12-01T14:10:26.496985Z",
     "iopub.status.busy": "2020-12-01T14:10:26.496409Z",
     "iopub.status.idle": "2020-12-01T14:10:26.500997Z",
     "shell.execute_reply": "2020-12-01T14:10:26.501596Z"
    }
   },
   "outputs": [
    {
     "data": {
      "text/plain": [
       "dask.bag<lambda, npartitions=10>"
      ]
     },
     "execution_count": 1,
     "metadata": {},
     "output_type": "execute_result"
    }
   ],
   "source": [
    "def is_even(n):\n",
    "    return n % 2 == 0\n",
    "\n",
    "b = db.from_sequence([1, 2, 3, 4, 5, 6, 7, 8, 9, 10])\n",
    "c = b.filter(is_even).map(lambda x: x ** 2)\n",
    "c"
   ]
  },
  {
   "cell_type": "code",
   "execution_count": 8,
   "metadata": {
    "execution": {
     "iopub.execute_input": "2020-12-01T14:10:26.504728Z",
     "iopub.status.busy": "2020-12-01T14:10:26.504252Z",
     "iopub.status.idle": "2020-12-01T14:10:26.580743Z",
     "shell.execute_reply": "2020-12-01T14:10:26.580180Z"
    }
   },
   "outputs": [
    {
     "data": {
      "text/plain": [
       "[4, 16, 36, 64, 100]"
      ]
     },
     "execution_count": 1,
     "metadata": {},
     "output_type": "execute_result"
    }
   ],
   "source": [
    "# blocking form: wait for completion (which is very fast in this case)\n",
    "c.compute()"
   ]
  },
  {
   "cell_type": "markdown",
   "metadata": {},
   "source": [
    "### Example: Accounts JSON data"
   ]
  },
  {
   "cell_type": "markdown",
   "metadata": {},
   "source": [
    "We've created a fake dataset of gzipped JSON data in your data directory.  This is like the example used in the `DataFrame` example we will see later, except that it has bundled up all of the entires for each individual `id` into a single record.  This is similar to data that you might collect off of a document store database or a web API.\n",
    "\n",
    "Each line is a JSON encoded dictionary with the following keys\n",
    "\n",
    "*  id: Unique identifier of the customer\n",
    "*  name: Name of the customer\n",
    "*  transactions: List of `transaction-id`, `amount` pairs, one for each transaction for the customer in that file"
   ]
  },
  {
   "cell_type": "code",
   "execution_count": 9,
   "metadata": {
    "execution": {
     "iopub.execute_input": "2020-12-01T14:10:26.584645Z",
     "iopub.status.busy": "2020-12-01T14:10:26.584153Z",
     "iopub.status.idle": "2020-12-01T14:10:26.610809Z",
     "shell.execute_reply": "2020-12-01T14:10:26.611456Z"
    }
   },
   "outputs": [
    {
     "data": {
      "text/plain": [
       "('{\"id\": 0, \"name\": \"Sarah\", \"transactions\": [{\"transaction-id\": 330, \"amount\": -323}, {\"transaction-id\": 409, \"amount\": -377}, {\"transaction-id\": 658, \"amount\": -412}, {\"transaction-id\": 763, \"amount\": -538}, {\"transaction-id\": 853, \"amount\": -256}, {\"transaction-id\": 1004, \"amount\": -380}, {\"transaction-id\": 1075, \"amount\": -344}, {\"transaction-id\": 1224, \"amount\": -353}, {\"transaction-id\": 1388, \"amount\": -386}, {\"transaction-id\": 1527, \"amount\": -457}, {\"transaction-id\": 1575, \"amount\": -596}, {\"transaction-id\": 1588, \"amount\": -251}, {\"transaction-id\": 1703, \"amount\": -407}, {\"transaction-id\": 2092, \"amount\": -333}, {\"transaction-id\": 2576, \"amount\": -361}, {\"transaction-id\": 2707, \"amount\": -288}, {\"transaction-id\": 2794, \"amount\": -583}, {\"transaction-id\": 2846, \"amount\": -277}, {\"transaction-id\": 2939, \"amount\": -271}, {\"transaction-id\": 3248, \"amount\": -599}, {\"transaction-id\": 3305, \"amount\": -716}, {\"transaction-id\": 3308, \"amount\": -264}, {\"transaction-id\": 3628, \"amount\": -329}, {\"transaction-id\": 3708, \"amount\": -543}, {\"transaction-id\": 4055, \"amount\": -243}, {\"transaction-id\": 4404, \"amount\": -536}, {\"transaction-id\": 4544, \"amount\": -629}, {\"transaction-id\": 4566, \"amount\": -84}, {\"transaction-id\": 5554, \"amount\": -199}, {\"transaction-id\": 5668, \"amount\": -276}, {\"transaction-id\": 6143, \"amount\": -278}, {\"transaction-id\": 6943, \"amount\": -320}, {\"transaction-id\": 6955, \"amount\": -338}, {\"transaction-id\": 7413, \"amount\": -299}, {\"transaction-id\": 7447, \"amount\": -417}, {\"transaction-id\": 7768, \"amount\": -290}, {\"transaction-id\": 8260, \"amount\": -352}, {\"transaction-id\": 8343, \"amount\": -293}, {\"transaction-id\": 8901, \"amount\": -370}, {\"transaction-id\": 9384, \"amount\": -426}, {\"transaction-id\": 9498, \"amount\": -474}, {\"transaction-id\": 9524, \"amount\": -527}, {\"transaction-id\": 9768, \"amount\": -651}, {\"transaction-id\": 9836, \"amount\": -437}, {\"transaction-id\": 9994, \"amount\": -445}]}\\n',\n",
       " '{\"id\": 1, \"name\": \"Zelda\", \"transactions\": [{\"transaction-id\": 1319, \"amount\": 32}, {\"transaction-id\": 6003, \"amount\": 73}, {\"transaction-id\": 6500, \"amount\": 2}]}\\n',\n",
       " '{\"id\": 2, \"name\": \"Jerry\", \"transactions\": [{\"transaction-id\": 369, \"amount\": 437}, {\"transaction-id\": 592, \"amount\": 374}, {\"transaction-id\": 1114, \"amount\": 383}, {\"transaction-id\": 1116, \"amount\": 375}, {\"transaction-id\": 2288, \"amount\": 337}, {\"transaction-id\": 2713, \"amount\": 381}, {\"transaction-id\": 2773, \"amount\": 401}, {\"transaction-id\": 3062, \"amount\": 466}, {\"transaction-id\": 3271, \"amount\": 356}, {\"transaction-id\": 3445, \"amount\": 300}, {\"transaction-id\": 4455, \"amount\": 396}, {\"transaction-id\": 4888, \"amount\": 427}, {\"transaction-id\": 5123, \"amount\": 400}, {\"transaction-id\": 5194, \"amount\": 373}, {\"transaction-id\": 5627, \"amount\": 393}, {\"transaction-id\": 5963, \"amount\": 335}, {\"transaction-id\": 7774, \"amount\": 414}, {\"transaction-id\": 7939, \"amount\": 423}, {\"transaction-id\": 7959, \"amount\": 384}, {\"transaction-id\": 8289, \"amount\": 345}, {\"transaction-id\": 8929, \"amount\": 368}, {\"transaction-id\": 8980, \"amount\": 405}, {\"transaction-id\": 9396, \"amount\": 415}]}\\n')"
      ]
     },
     "execution_count": 1,
     "metadata": {},
     "output_type": "execute_result"
    }
   ],
   "source": [
    "filename = os.path.join('data', 'accounts.*.json.gz')\n",
    "lines = db.read_text(filename)\n",
    "lines.take(3)"
   ]
  },
  {
   "cell_type": "markdown",
   "metadata": {},
   "source": [
    "Our data comes out of the file as lines of text. Notice that file decompression happened automatically. We can make this data look more reasonable by mapping the `json.loads` function onto our bag."
   ]
  },
  {
   "cell_type": "code",
   "execution_count": 10,
   "metadata": {
    "execution": {
     "iopub.execute_input": "2020-12-01T14:10:26.615989Z",
     "iopub.status.busy": "2020-12-01T14:10:26.614782Z",
     "iopub.status.idle": "2020-12-01T14:10:26.640172Z",
     "shell.execute_reply": "2020-12-01T14:10:26.639581Z"
    }
   },
   "outputs": [
    {
     "data": {
      "text/plain": [
       "({'id': 0,\n",
       "  'name': 'Sarah',\n",
       "  'transactions': [{'transaction-id': 330, 'amount': -323},\n",
       "   {'transaction-id': 409, 'amount': -377},\n",
       "   {'transaction-id': 658, 'amount': -412},\n",
       "   {'transaction-id': 763, 'amount': -538},\n",
       "   {'transaction-id': 853, 'amount': -256},\n",
       "   {'transaction-id': 1004, 'amount': -380},\n",
       "   {'transaction-id': 1075, 'amount': -344},\n",
       "   {'transaction-id': 1224, 'amount': -353},\n",
       "   {'transaction-id': 1388, 'amount': -386},\n",
       "   {'transaction-id': 1527, 'amount': -457},\n",
       "   {'transaction-id': 1575, 'amount': -596},\n",
       "   {'transaction-id': 1588, 'amount': -251},\n",
       "   {'transaction-id': 1703, 'amount': -407},\n",
       "   {'transaction-id': 2092, 'amount': -333},\n",
       "   {'transaction-id': 2576, 'amount': -361},\n",
       "   {'transaction-id': 2707, 'amount': -288},\n",
       "   {'transaction-id': 2794, 'amount': -583},\n",
       "   {'transaction-id': 2846, 'amount': -277},\n",
       "   {'transaction-id': 2939, 'amount': -271},\n",
       "   {'transaction-id': 3248, 'amount': -599},\n",
       "   {'transaction-id': 3305, 'amount': -716},\n",
       "   {'transaction-id': 3308, 'amount': -264},\n",
       "   {'transaction-id': 3628, 'amount': -329},\n",
       "   {'transaction-id': 3708, 'amount': -543},\n",
       "   {'transaction-id': 4055, 'amount': -243},\n",
       "   {'transaction-id': 4404, 'amount': -536},\n",
       "   {'transaction-id': 4544, 'amount': -629},\n",
       "   {'transaction-id': 4566, 'amount': -84},\n",
       "   {'transaction-id': 5554, 'amount': -199},\n",
       "   {'transaction-id': 5668, 'amount': -276},\n",
       "   {'transaction-id': 6143, 'amount': -278},\n",
       "   {'transaction-id': 6943, 'amount': -320},\n",
       "   {'transaction-id': 6955, 'amount': -338},\n",
       "   {'transaction-id': 7413, 'amount': -299},\n",
       "   {'transaction-id': 7447, 'amount': -417},\n",
       "   {'transaction-id': 7768, 'amount': -290},\n",
       "   {'transaction-id': 8260, 'amount': -352},\n",
       "   {'transaction-id': 8343, 'amount': -293},\n",
       "   {'transaction-id': 8901, 'amount': -370},\n",
       "   {'transaction-id': 9384, 'amount': -426},\n",
       "   {'transaction-id': 9498, 'amount': -474},\n",
       "   {'transaction-id': 9524, 'amount': -527},\n",
       "   {'transaction-id': 9768, 'amount': -651},\n",
       "   {'transaction-id': 9836, 'amount': -437},\n",
       "   {'transaction-id': 9994, 'amount': -445}]},\n",
       " {'id': 1,\n",
       "  'name': 'Zelda',\n",
       "  'transactions': [{'transaction-id': 1319, 'amount': 32},\n",
       "   {'transaction-id': 6003, 'amount': 73},\n",
       "   {'transaction-id': 6500, 'amount': 2}]},\n",
       " {'id': 2,\n",
       "  'name': 'Jerry',\n",
       "  'transactions': [{'transaction-id': 369, 'amount': 437},\n",
       "   {'transaction-id': 592, 'amount': 374},\n",
       "   {'transaction-id': 1114, 'amount': 383},\n",
       "   {'transaction-id': 1116, 'amount': 375},\n",
       "   {'transaction-id': 2288, 'amount': 337},\n",
       "   {'transaction-id': 2713, 'amount': 381},\n",
       "   {'transaction-id': 2773, 'amount': 401},\n",
       "   {'transaction-id': 3062, 'amount': 466},\n",
       "   {'transaction-id': 3271, 'amount': 356},\n",
       "   {'transaction-id': 3445, 'amount': 300},\n",
       "   {'transaction-id': 4455, 'amount': 396},\n",
       "   {'transaction-id': 4888, 'amount': 427},\n",
       "   {'transaction-id': 5123, 'amount': 400},\n",
       "   {'transaction-id': 5194, 'amount': 373},\n",
       "   {'transaction-id': 5627, 'amount': 393},\n",
       "   {'transaction-id': 5963, 'amount': 335},\n",
       "   {'transaction-id': 7774, 'amount': 414},\n",
       "   {'transaction-id': 7939, 'amount': 423},\n",
       "   {'transaction-id': 7959, 'amount': 384},\n",
       "   {'transaction-id': 8289, 'amount': 345},\n",
       "   {'transaction-id': 8929, 'amount': 368},\n",
       "   {'transaction-id': 8980, 'amount': 405},\n",
       "   {'transaction-id': 9396, 'amount': 415}]})"
      ]
     },
     "execution_count": 1,
     "metadata": {},
     "output_type": "execute_result"
    }
   ],
   "source": [
    "import json\n",
    "js = lines.map(json.loads)\n",
    "# take: inspect first few elements\n",
    "js.take(3)"
   ]
  },
  {
   "cell_type": "markdown",
   "metadata": {},
   "source": [
    "### Basic Queries"
   ]
  },
  {
   "cell_type": "markdown",
   "metadata": {},
   "source": [
    "Once we parse our JSON data into proper Python objects (`dict`s, `list`s, etc.) we can perform more interesting queries by creating small Python functions to run on our data."
   ]
  },
  {
   "cell_type": "code",
   "execution_count": 11,
   "metadata": {
    "execution": {
     "iopub.execute_input": "2020-12-01T14:10:26.645010Z",
     "iopub.status.busy": "2020-12-01T14:10:26.644030Z",
     "iopub.status.idle": "2020-12-01T14:10:26.681805Z",
     "shell.execute_reply": "2020-12-01T14:10:26.681117Z"
    }
   },
   "outputs": [
    {
     "data": {
      "text/plain": [
       "({'id': 48,\n",
       "  'name': 'Alice',\n",
       "  'transactions': [{'transaction-id': 800, 'amount': -144},\n",
       "   {'transaction-id': 901, 'amount': -83},\n",
       "   {'transaction-id': 1112, 'amount': -106},\n",
       "   {'transaction-id': 1115, 'amount': -86},\n",
       "   {'transaction-id': 1933, 'amount': -113},\n",
       "   {'transaction-id': 1951, 'amount': -119},\n",
       "   {'transaction-id': 2025, 'amount': -214},\n",
       "   {'transaction-id': 2034, 'amount': -134},\n",
       "   {'transaction-id': 2181, 'amount': 26},\n",
       "   {'transaction-id': 2629, 'amount': -155},\n",
       "   {'transaction-id': 2641, 'amount': -172},\n",
       "   {'transaction-id': 2744, 'amount': -94},\n",
       "   {'transaction-id': 2842, 'amount': -86},\n",
       "   {'transaction-id': 2859, 'amount': -222},\n",
       "   {'transaction-id': 2951, 'amount': -82},\n",
       "   {'transaction-id': 3008, 'amount': -48},\n",
       "   {'transaction-id': 3217, 'amount': -141},\n",
       "   {'transaction-id': 3873, 'amount': -141},\n",
       "   {'transaction-id': 3934, 'amount': -115},\n",
       "   {'transaction-id': 4029, 'amount': -132},\n",
       "   {'transaction-id': 4142, 'amount': -190},\n",
       "   {'transaction-id': 4212, 'amount': -49},\n",
       "   {'transaction-id': 4414, 'amount': -48},\n",
       "   {'transaction-id': 4613, 'amount': -121},\n",
       "   {'transaction-id': 4683, 'amount': -135},\n",
       "   {'transaction-id': 4782, 'amount': -31},\n",
       "   {'transaction-id': 4850, 'amount': -135},\n",
       "   {'transaction-id': 5285, 'amount': -147},\n",
       "   {'transaction-id': 5704, 'amount': -123},\n",
       "   {'transaction-id': 5910, 'amount': -150},\n",
       "   {'transaction-id': 6343, 'amount': -112},\n",
       "   {'transaction-id': 6437, 'amount': -28},\n",
       "   {'transaction-id': 6918, 'amount': -137},\n",
       "   {'transaction-id': 7163, 'amount': -72},\n",
       "   {'transaction-id': 7776, 'amount': -161},\n",
       "   {'transaction-id': 7839, 'amount': -75},\n",
       "   {'transaction-id': 7911, 'amount': -160},\n",
       "   {'transaction-id': 8427, 'amount': -127},\n",
       "   {'transaction-id': 8643, 'amount': -112},\n",
       "   {'transaction-id': 8688, 'amount': -132},\n",
       "   {'transaction-id': 8702, 'amount': -111},\n",
       "   {'transaction-id': 8798, 'amount': -250},\n",
       "   {'transaction-id': 8930, 'amount': -81},\n",
       "   {'transaction-id': 8979, 'amount': -41},\n",
       "   {'transaction-id': 8988, 'amount': -90},\n",
       "   {'transaction-id': 8995, 'amount': -119},\n",
       "   {'transaction-id': 9264, 'amount': -49},\n",
       "   {'transaction-id': 9339, 'amount': -147},\n",
       "   {'transaction-id': 9390, 'amount': -145},\n",
       "   {'transaction-id': 9433, 'amount': -155},\n",
       "   {'transaction-id': 9643, 'amount': -144},\n",
       "   {'transaction-id': 9861, 'amount': -176},\n",
       "   {'transaction-id': 9953, 'amount': -90}]},\n",
       " {'id': 53,\n",
       "  'name': 'Alice',\n",
       "  'transactions': [{'transaction-id': 232, 'amount': 112},\n",
       "   {'transaction-id': 457, 'amount': 129},\n",
       "   {'transaction-id': 506, 'amount': 111},\n",
       "   {'transaction-id': 510, 'amount': 143},\n",
       "   {'transaction-id': 831, 'amount': 114},\n",
       "   {'transaction-id': 1064, 'amount': 93},\n",
       "   {'transaction-id': 1752, 'amount': 117},\n",
       "   {'transaction-id': 1997, 'amount': 103},\n",
       "   {'transaction-id': 2041, 'amount': 118},\n",
       "   {'transaction-id': 2050, 'amount': 162},\n",
       "   {'transaction-id': 2305, 'amount': 155},\n",
       "   {'transaction-id': 3118, 'amount': 198},\n",
       "   {'transaction-id': 3309, 'amount': 97},\n",
       "   {'transaction-id': 3315, 'amount': 172},\n",
       "   {'transaction-id': 3542, 'amount': 217},\n",
       "   {'transaction-id': 3633, 'amount': 182},\n",
       "   {'transaction-id': 3657, 'amount': 110},\n",
       "   {'transaction-id': 3739, 'amount': 48},\n",
       "   {'transaction-id': 3887, 'amount': 233},\n",
       "   {'transaction-id': 4107, 'amount': 128},\n",
       "   {'transaction-id': 4225, 'amount': 159},\n",
       "   {'transaction-id': 4365, 'amount': 138},\n",
       "   {'transaction-id': 4452, 'amount': 118},\n",
       "   {'transaction-id': 4484, 'amount': 163},\n",
       "   {'transaction-id': 4530, 'amount': 206},\n",
       "   {'transaction-id': 4553, 'amount': 144},\n",
       "   {'transaction-id': 4608, 'amount': 191},\n",
       "   {'transaction-id': 5055, 'amount': 152},\n",
       "   {'transaction-id': 5063, 'amount': 105},\n",
       "   {'transaction-id': 5371, 'amount': 194},\n",
       "   {'transaction-id': 5467, 'amount': 190},\n",
       "   {'transaction-id': 5606, 'amount': 190},\n",
       "   {'transaction-id': 5735, 'amount': 155},\n",
       "   {'transaction-id': 5799, 'amount': 172},\n",
       "   {'transaction-id': 6238, 'amount': 234},\n",
       "   {'transaction-id': 6759, 'amount': 137},\n",
       "   {'transaction-id': 6785, 'amount': -34},\n",
       "   {'transaction-id': 6797, 'amount': 226},\n",
       "   {'transaction-id': 6862, 'amount': 238},\n",
       "   {'transaction-id': 7120, 'amount': 185},\n",
       "   {'transaction-id': 7353, 'amount': 198},\n",
       "   {'transaction-id': 7431, 'amount': 154},\n",
       "   {'transaction-id': 7852, 'amount': 163},\n",
       "   {'transaction-id': 8074, 'amount': 128},\n",
       "   {'transaction-id': 8078, 'amount': 89},\n",
       "   {'transaction-id': 8114, 'amount': 113},\n",
       "   {'transaction-id': 8131, 'amount': 240},\n",
       "   {'transaction-id': 8508, 'amount': 101},\n",
       "   {'transaction-id': 8667, 'amount': 63},\n",
       "   {'transaction-id': 8866, 'amount': 122},\n",
       "   {'transaction-id': 9303, 'amount': 154},\n",
       "   {'transaction-id': 9426, 'amount': 115},\n",
       "   {'transaction-id': 9478, 'amount': 114},\n",
       "   {'transaction-id': 9940, 'amount': 185}]},\n",
       " {'id': 62,\n",
       "  'name': 'Alice',\n",
       "  'transactions': [{'transaction-id': 315, 'amount': 843},\n",
       "   {'transaction-id': 441, 'amount': 504},\n",
       "   {'transaction-id': 1047, 'amount': 849},\n",
       "   {'transaction-id': 1401, 'amount': 553},\n",
       "   {'transaction-id': 1741, 'amount': 1106},\n",
       "   {'transaction-id': 2000, 'amount': 588},\n",
       "   {'transaction-id': 3019, 'amount': 771},\n",
       "   {'transaction-id': 3485, 'amount': 840},\n",
       "   {'transaction-id': 3637, 'amount': 765},\n",
       "   {'transaction-id': 4164, 'amount': 1144},\n",
       "   {'transaction-id': 4201, 'amount': 1084},\n",
       "   {'transaction-id': 4265, 'amount': 500},\n",
       "   {'transaction-id': 4309, 'amount': 970},\n",
       "   {'transaction-id': 4354, 'amount': 672},\n",
       "   {'transaction-id': 4677, 'amount': 887},\n",
       "   {'transaction-id': 4809, 'amount': 765},\n",
       "   {'transaction-id': 5009, 'amount': 555},\n",
       "   {'transaction-id': 5190, 'amount': 854},\n",
       "   {'transaction-id': 5308, 'amount': 803},\n",
       "   {'transaction-id': 5571, 'amount': 964},\n",
       "   {'transaction-id': 6215, 'amount': 461},\n",
       "   {'transaction-id': 6728, 'amount': 825},\n",
       "   {'transaction-id': 7323, 'amount': 902},\n",
       "   {'transaction-id': 7566, 'amount': 710},\n",
       "   {'transaction-id': 7750, 'amount': 938},\n",
       "   {'transaction-id': 7965, 'amount': 926},\n",
       "   {'transaction-id': 9072, 'amount': 896},\n",
       "   {'transaction-id': 9159, 'amount': 877},\n",
       "   {'transaction-id': 9715, 'amount': 830},\n",
       "   {'transaction-id': 9741, 'amount': 800},\n",
       "   {'transaction-id': 9743, 'amount': 640},\n",
       "   {'transaction-id': 9795, 'amount': 714}]},\n",
       " {'id': 100,\n",
       "  'name': 'Alice',\n",
       "  'transactions': [{'transaction-id': 184, 'amount': -11},\n",
       "   {'transaction-id': 351, 'amount': -7},\n",
       "   {'transaction-id': 489, 'amount': -12},\n",
       "   {'transaction-id': 530, 'amount': -5},\n",
       "   {'transaction-id': 2457, 'amount': -11},\n",
       "   {'transaction-id': 2468, 'amount': -10},\n",
       "   {'transaction-id': 2563, 'amount': -3},\n",
       "   {'transaction-id': 3454, 'amount': -11},\n",
       "   {'transaction-id': 3776, 'amount': -5},\n",
       "   {'transaction-id': 3907, 'amount': -7},\n",
       "   {'transaction-id': 4216, 'amount': -10},\n",
       "   {'transaction-id': 4757, 'amount': -4},\n",
       "   {'transaction-id': 5914, 'amount': -9},\n",
       "   {'transaction-id': 7064, 'amount': -9},\n",
       "   {'transaction-id': 7136, 'amount': -6},\n",
       "   {'transaction-id': 7223, 'amount': -4},\n",
       "   {'transaction-id': 7283, 'amount': -10},\n",
       "   {'transaction-id': 7591, 'amount': -7},\n",
       "   {'transaction-id': 7607, 'amount': -7},\n",
       "   {'transaction-id': 7892, 'amount': -7},\n",
       "   {'transaction-id': 7960, 'amount': -9},\n",
       "   {'transaction-id': 8312, 'amount': -7},\n",
       "   {'transaction-id': 8573, 'amount': -6},\n",
       "   {'transaction-id': 9138, 'amount': -8},\n",
       "   {'transaction-id': 9689, 'amount': -12},\n",
       "   {'transaction-id': 9958, 'amount': -8}]},\n",
       " {'id': 109,\n",
       "  'name': 'Alice',\n",
       "  'transactions': [{'transaction-id': 249, 'amount': 225},\n",
       "   {'transaction-id': 306, 'amount': 236},\n",
       "   {'transaction-id': 461, 'amount': 244},\n",
       "   {'transaction-id': 668, 'amount': 244},\n",
       "   {'transaction-id': 1803, 'amount': 240},\n",
       "   {'transaction-id': 1901, 'amount': 231},\n",
       "   {'transaction-id': 2463, 'amount': 257},\n",
       "   {'transaction-id': 2822, 'amount': 200},\n",
       "   {'transaction-id': 2973, 'amount': 229},\n",
       "   {'transaction-id': 3095, 'amount': 228},\n",
       "   {'transaction-id': 3661, 'amount': 266},\n",
       "   {'transaction-id': 4363, 'amount': 225},\n",
       "   {'transaction-id': 4431, 'amount': 237},\n",
       "   {'transaction-id': 4810, 'amount': 239},\n",
       "   {'transaction-id': 5100, 'amount': 229},\n",
       "   {'transaction-id': 6057, 'amount': 228},\n",
       "   {'transaction-id': 6380, 'amount': 241},\n",
       "   {'transaction-id': 6632, 'amount': 202},\n",
       "   {'transaction-id': 8423, 'amount': 247},\n",
       "   {'transaction-id': 8450, 'amount': 222},\n",
       "   {'transaction-id': 8454, 'amount': 231},\n",
       "   {'transaction-id': 8820, 'amount': 222},\n",
       "   {'transaction-id': 9166, 'amount': 246},\n",
       "   {'transaction-id': 9290, 'amount': 250},\n",
       "   {'transaction-id': 9428, 'amount': 216}]})"
      ]
     },
     "execution_count": 1,
     "metadata": {},
     "output_type": "execute_result"
    }
   ],
   "source": [
    "# filter: keep only some elements of the sequence\n",
    "js.filter(lambda record: record['name'] == 'Alice').take(5)"
   ]
  },
  {
   "cell_type": "code",
   "execution_count": 12,
   "metadata": {
    "execution": {
     "iopub.execute_input": "2020-12-01T14:10:26.688120Z",
     "iopub.status.busy": "2020-12-01T14:10:26.687584Z",
     "iopub.status.idle": "2020-12-01T14:10:26.706543Z",
     "shell.execute_reply": "2020-12-01T14:10:26.705590Z"
    }
   },
   "outputs": [
    {
     "data": {
      "text/plain": [
       "({'name': 'Alice', 'count': 53},\n",
       " {'name': 'Alice', 'count': 54},\n",
       " {'name': 'Alice', 'count': 32},\n",
       " {'name': 'Alice', 'count': 26},\n",
       " {'name': 'Alice', 'count': 25})"
      ]
     },
     "execution_count": 1,
     "metadata": {},
     "output_type": "execute_result"
    }
   ],
   "source": [
    "def count_transactions(d):\n",
    "    return {'name': d['name'], 'count': len(d['transactions'])}\n",
    "\n",
    "# map: apply a function to each element\n",
    "(js.filter(lambda record: record['name'] == 'Alice')\n",
    "   .map(count_transactions)\n",
    "   .take(5))"
   ]
  },
  {
   "cell_type": "code",
   "execution_count": 13,
   "metadata": {
    "execution": {
     "iopub.execute_input": "2020-12-01T14:10:26.713521Z",
     "iopub.status.busy": "2020-12-01T14:10:26.712602Z",
     "iopub.status.idle": "2020-12-01T14:10:26.731114Z",
     "shell.execute_reply": "2020-12-01T14:10:26.731883Z"
    }
   },
   "outputs": [
    {
     "data": {
      "text/plain": [
       "(53, 54, 32, 26, 25)"
      ]
     },
     "execution_count": 1,
     "metadata": {},
     "output_type": "execute_result"
    }
   ],
   "source": [
    "# pluck: select a field, as from a dictionary, element[field]\n",
    "(js.filter(lambda record: record['name'] == 'Alice')\n",
    "   .map(count_transactions)\n",
    "   .pluck('count')\n",
    "   .take(5))"
   ]
  },
  {
   "cell_type": "code",
   "execution_count": 14,
   "metadata": {
    "execution": {
     "iopub.execute_input": "2020-12-01T14:10:26.752094Z",
     "iopub.status.busy": "2020-12-01T14:10:26.748079Z",
     "iopub.status.idle": "2020-12-01T14:10:27.217384Z",
     "shell.execute_reply": "2020-12-01T14:10:27.216919Z"
    }
   },
   "outputs": [
    {
     "data": {
      "text/plain": [
       "47.585034013605444"
      ]
     },
     "execution_count": 1,
     "metadata": {},
     "output_type": "execute_result"
    }
   ],
   "source": [
    "# Average number of transactions for all of the Alice entries\n",
    "(js.filter(lambda record: record['name'] == 'Alice')\n",
    "   .map(count_transactions)\n",
    "   .pluck('count')\n",
    "   .mean()\n",
    "   .compute())"
   ]
  },
  {
   "cell_type": "markdown",
   "metadata": {},
   "source": [
    "### Use `flatten` to de-nest"
   ]
  },
  {
   "cell_type": "markdown",
   "metadata": {},
   "source": [
    "In the example below we see the use of `.flatten()` to flatten results.  We compute the average amount for all transactions for all Alices."
   ]
  },
  {
   "cell_type": "code",
   "execution_count": 15,
   "metadata": {
    "execution": {
     "iopub.execute_input": "2020-12-01T14:10:27.222001Z",
     "iopub.status.busy": "2020-12-01T14:10:27.221192Z",
     "iopub.status.idle": "2020-12-01T14:10:27.250823Z",
     "shell.execute_reply": "2020-12-01T14:10:27.251266Z"
    }
   },
   "outputs": [
    {
     "data": {
      "text/plain": [
       "([{'transaction-id': 800, 'amount': -144},\n",
       "  {'transaction-id': 901, 'amount': -83},\n",
       "  {'transaction-id': 1112, 'amount': -106},\n",
       "  {'transaction-id': 1115, 'amount': -86},\n",
       "  {'transaction-id': 1933, 'amount': -113},\n",
       "  {'transaction-id': 1951, 'amount': -119},\n",
       "  {'transaction-id': 2025, 'amount': -214},\n",
       "  {'transaction-id': 2034, 'amount': -134},\n",
       "  {'transaction-id': 2181, 'amount': 26},\n",
       "  {'transaction-id': 2629, 'amount': -155},\n",
       "  {'transaction-id': 2641, 'amount': -172},\n",
       "  {'transaction-id': 2744, 'amount': -94},\n",
       "  {'transaction-id': 2842, 'amount': -86},\n",
       "  {'transaction-id': 2859, 'amount': -222},\n",
       "  {'transaction-id': 2951, 'amount': -82},\n",
       "  {'transaction-id': 3008, 'amount': -48},\n",
       "  {'transaction-id': 3217, 'amount': -141},\n",
       "  {'transaction-id': 3873, 'amount': -141},\n",
       "  {'transaction-id': 3934, 'amount': -115},\n",
       "  {'transaction-id': 4029, 'amount': -132},\n",
       "  {'transaction-id': 4142, 'amount': -190},\n",
       "  {'transaction-id': 4212, 'amount': -49},\n",
       "  {'transaction-id': 4414, 'amount': -48},\n",
       "  {'transaction-id': 4613, 'amount': -121},\n",
       "  {'transaction-id': 4683, 'amount': -135},\n",
       "  {'transaction-id': 4782, 'amount': -31},\n",
       "  {'transaction-id': 4850, 'amount': -135},\n",
       "  {'transaction-id': 5285, 'amount': -147},\n",
       "  {'transaction-id': 5704, 'amount': -123},\n",
       "  {'transaction-id': 5910, 'amount': -150},\n",
       "  {'transaction-id': 6343, 'amount': -112},\n",
       "  {'transaction-id': 6437, 'amount': -28},\n",
       "  {'transaction-id': 6918, 'amount': -137},\n",
       "  {'transaction-id': 7163, 'amount': -72},\n",
       "  {'transaction-id': 7776, 'amount': -161},\n",
       "  {'transaction-id': 7839, 'amount': -75},\n",
       "  {'transaction-id': 7911, 'amount': -160},\n",
       "  {'transaction-id': 8427, 'amount': -127},\n",
       "  {'transaction-id': 8643, 'amount': -112},\n",
       "  {'transaction-id': 8688, 'amount': -132},\n",
       "  {'transaction-id': 8702, 'amount': -111},\n",
       "  {'transaction-id': 8798, 'amount': -250},\n",
       "  {'transaction-id': 8930, 'amount': -81},\n",
       "  {'transaction-id': 8979, 'amount': -41},\n",
       "  {'transaction-id': 8988, 'amount': -90},\n",
       "  {'transaction-id': 8995, 'amount': -119},\n",
       "  {'transaction-id': 9264, 'amount': -49},\n",
       "  {'transaction-id': 9339, 'amount': -147},\n",
       "  {'transaction-id': 9390, 'amount': -145},\n",
       "  {'transaction-id': 9433, 'amount': -155},\n",
       "  {'transaction-id': 9643, 'amount': -144},\n",
       "  {'transaction-id': 9861, 'amount': -176},\n",
       "  {'transaction-id': 9953, 'amount': -90}],\n",
       " [{'transaction-id': 232, 'amount': 112},\n",
       "  {'transaction-id': 457, 'amount': 129},\n",
       "  {'transaction-id': 506, 'amount': 111},\n",
       "  {'transaction-id': 510, 'amount': 143},\n",
       "  {'transaction-id': 831, 'amount': 114},\n",
       "  {'transaction-id': 1064, 'amount': 93},\n",
       "  {'transaction-id': 1752, 'amount': 117},\n",
       "  {'transaction-id': 1997, 'amount': 103},\n",
       "  {'transaction-id': 2041, 'amount': 118},\n",
       "  {'transaction-id': 2050, 'amount': 162},\n",
       "  {'transaction-id': 2305, 'amount': 155},\n",
       "  {'transaction-id': 3118, 'amount': 198},\n",
       "  {'transaction-id': 3309, 'amount': 97},\n",
       "  {'transaction-id': 3315, 'amount': 172},\n",
       "  {'transaction-id': 3542, 'amount': 217},\n",
       "  {'transaction-id': 3633, 'amount': 182},\n",
       "  {'transaction-id': 3657, 'amount': 110},\n",
       "  {'transaction-id': 3739, 'amount': 48},\n",
       "  {'transaction-id': 3887, 'amount': 233},\n",
       "  {'transaction-id': 4107, 'amount': 128},\n",
       "  {'transaction-id': 4225, 'amount': 159},\n",
       "  {'transaction-id': 4365, 'amount': 138},\n",
       "  {'transaction-id': 4452, 'amount': 118},\n",
       "  {'transaction-id': 4484, 'amount': 163},\n",
       "  {'transaction-id': 4530, 'amount': 206},\n",
       "  {'transaction-id': 4553, 'amount': 144},\n",
       "  {'transaction-id': 4608, 'amount': 191},\n",
       "  {'transaction-id': 5055, 'amount': 152},\n",
       "  {'transaction-id': 5063, 'amount': 105},\n",
       "  {'transaction-id': 5371, 'amount': 194},\n",
       "  {'transaction-id': 5467, 'amount': 190},\n",
       "  {'transaction-id': 5606, 'amount': 190},\n",
       "  {'transaction-id': 5735, 'amount': 155},\n",
       "  {'transaction-id': 5799, 'amount': 172},\n",
       "  {'transaction-id': 6238, 'amount': 234},\n",
       "  {'transaction-id': 6759, 'amount': 137},\n",
       "  {'transaction-id': 6785, 'amount': -34},\n",
       "  {'transaction-id': 6797, 'amount': 226},\n",
       "  {'transaction-id': 6862, 'amount': 238},\n",
       "  {'transaction-id': 7120, 'amount': 185},\n",
       "  {'transaction-id': 7353, 'amount': 198},\n",
       "  {'transaction-id': 7431, 'amount': 154},\n",
       "  {'transaction-id': 7852, 'amount': 163},\n",
       "  {'transaction-id': 8074, 'amount': 128},\n",
       "  {'transaction-id': 8078, 'amount': 89},\n",
       "  {'transaction-id': 8114, 'amount': 113},\n",
       "  {'transaction-id': 8131, 'amount': 240},\n",
       "  {'transaction-id': 8508, 'amount': 101},\n",
       "  {'transaction-id': 8667, 'amount': 63},\n",
       "  {'transaction-id': 8866, 'amount': 122},\n",
       "  {'transaction-id': 9303, 'amount': 154},\n",
       "  {'transaction-id': 9426, 'amount': 115},\n",
       "  {'transaction-id': 9478, 'amount': 114},\n",
       "  {'transaction-id': 9940, 'amount': 185}],\n",
       " [{'transaction-id': 315, 'amount': 843},\n",
       "  {'transaction-id': 441, 'amount': 504},\n",
       "  {'transaction-id': 1047, 'amount': 849},\n",
       "  {'transaction-id': 1401, 'amount': 553},\n",
       "  {'transaction-id': 1741, 'amount': 1106},\n",
       "  {'transaction-id': 2000, 'amount': 588},\n",
       "  {'transaction-id': 3019, 'amount': 771},\n",
       "  {'transaction-id': 3485, 'amount': 840},\n",
       "  {'transaction-id': 3637, 'amount': 765},\n",
       "  {'transaction-id': 4164, 'amount': 1144},\n",
       "  {'transaction-id': 4201, 'amount': 1084},\n",
       "  {'transaction-id': 4265, 'amount': 500},\n",
       "  {'transaction-id': 4309, 'amount': 970},\n",
       "  {'transaction-id': 4354, 'amount': 672},\n",
       "  {'transaction-id': 4677, 'amount': 887},\n",
       "  {'transaction-id': 4809, 'amount': 765},\n",
       "  {'transaction-id': 5009, 'amount': 555},\n",
       "  {'transaction-id': 5190, 'amount': 854},\n",
       "  {'transaction-id': 5308, 'amount': 803},\n",
       "  {'transaction-id': 5571, 'amount': 964},\n",
       "  {'transaction-id': 6215, 'amount': 461},\n",
       "  {'transaction-id': 6728, 'amount': 825},\n",
       "  {'transaction-id': 7323, 'amount': 902},\n",
       "  {'transaction-id': 7566, 'amount': 710},\n",
       "  {'transaction-id': 7750, 'amount': 938},\n",
       "  {'transaction-id': 7965, 'amount': 926},\n",
       "  {'transaction-id': 9072, 'amount': 896},\n",
       "  {'transaction-id': 9159, 'amount': 877},\n",
       "  {'transaction-id': 9715, 'amount': 830},\n",
       "  {'transaction-id': 9741, 'amount': 800},\n",
       "  {'transaction-id': 9743, 'amount': 640},\n",
       "  {'transaction-id': 9795, 'amount': 714}])"
      ]
     },
     "execution_count": 1,
     "metadata": {},
     "output_type": "execute_result"
    }
   ],
   "source": [
    "(js.filter(lambda record: record['name'] == 'Alice')\n",
    "   .pluck('transactions')\n",
    "   .take(3))"
   ]
  },
  {
   "cell_type": "code",
   "execution_count": 16,
   "metadata": {
    "execution": {
     "iopub.execute_input": "2020-12-01T14:10:27.257400Z",
     "iopub.status.busy": "2020-12-01T14:10:27.256118Z",
     "iopub.status.idle": "2020-12-01T14:10:27.271774Z",
     "shell.execute_reply": "2020-12-01T14:10:27.272220Z"
    }
   },
   "outputs": [
    {
     "data": {
      "text/plain": [
       "({'transaction-id': 800, 'amount': -144},\n",
       " {'transaction-id': 901, 'amount': -83},\n",
       " {'transaction-id': 1112, 'amount': -106})"
      ]
     },
     "execution_count": 1,
     "metadata": {},
     "output_type": "execute_result"
    }
   ],
   "source": [
    "(js.filter(lambda record: record['name'] == 'Alice')\n",
    "   .pluck('transactions')\n",
    "   .flatten()\n",
    "   .take(3))"
   ]
  },
  {
   "cell_type": "code",
   "execution_count": 17,
   "metadata": {
    "execution": {
     "iopub.execute_input": "2020-12-01T14:10:27.278915Z",
     "iopub.status.busy": "2020-12-01T14:10:27.277670Z",
     "iopub.status.idle": "2020-12-01T14:10:27.298354Z",
     "shell.execute_reply": "2020-12-01T14:10:27.297896Z"
    }
   },
   "outputs": [
    {
     "data": {
      "text/plain": [
       "(-144, -83, -106)"
      ]
     },
     "execution_count": 1,
     "metadata": {},
     "output_type": "execute_result"
    }
   ],
   "source": [
    "(js.filter(lambda record: record['name'] == 'Alice')\n",
    "   .pluck('transactions')\n",
    "   .flatten()\n",
    "   .pluck('amount')\n",
    "   .take(3))"
   ]
  },
  {
   "cell_type": "code",
   "execution_count": 18,
   "metadata": {
    "execution": {
     "iopub.execute_input": "2020-12-01T14:10:27.302510Z",
     "iopub.status.busy": "2020-12-01T14:10:27.301975Z",
     "iopub.status.idle": "2020-12-01T14:10:27.761054Z",
     "shell.execute_reply": "2020-12-01T14:10:27.761467Z"
    }
   },
   "outputs": [
    {
     "data": {
      "text/plain": [
       "338.6870264474625"
      ]
     },
     "execution_count": 1,
     "metadata": {},
     "output_type": "execute_result"
    }
   ],
   "source": [
    "(js.filter(lambda record: record['name'] == 'Alice')\n",
    "   .pluck('transactions')\n",
    "   .flatten()\n",
    "   .pluck('amount')\n",
    "   .mean()\n",
    "   .compute())"
   ]
  },
  {
   "cell_type": "markdown",
   "metadata": {},
   "source": [
    "### Groupby and Foldby"
   ]
  },
  {
   "cell_type": "markdown",
   "metadata": {},
   "source": [
    "Often we want to group data by some function or key.  We can do this either with the `.groupby` method, which is straightforward but forces a full shuffle of the data (expensive) or with the harder-to-use but faster `.foldby` method, which does a streaming combined groupby and reduction.\n",
    "\n",
    "*  `groupby`:  Shuffles data so that all items with the same key are in the same key-value pair\n",
    "*  `foldby`:  Walks through the data accumulating a result per key\n",
    "\n",
    "*Note: the full groupby is particularly bad. In actual workloads you would do well to use `foldby` or switch to `DataFrame`s if possible.*"
   ]
  },
  {
   "cell_type": "markdown",
   "metadata": {},
   "source": [
    "### `groupby`"
   ]
  },
  {
   "cell_type": "markdown",
   "metadata": {},
   "source": [
    "Groupby collects items in your collection so that all items with the same value under some function are collected together into a key-value pair."
   ]
  },
  {
   "cell_type": "code",
   "execution_count": 19,
   "metadata": {
    "execution": {
     "iopub.execute_input": "2020-12-01T14:10:27.772190Z",
     "iopub.status.busy": "2020-12-01T14:10:27.770016Z",
     "iopub.status.idle": "2020-12-01T14:10:27.860497Z",
     "shell.execute_reply": "2020-12-01T14:10:27.861075Z"
    }
   },
   "outputs": [
    {
     "data": {
      "text/plain": [
       "[(7, ['Charlie']), (3, ['Bob', 'Dan']), (5, ['Alice', 'Edith', 'Frank'])]"
      ]
     },
     "execution_count": 1,
     "metadata": {},
     "output_type": "execute_result"
    }
   ],
   "source": [
    "b = db.from_sequence(['Alice', 'Bob', 'Charlie', 'Dan', 'Edith', 'Frank'])\n",
    "b.groupby(len).compute()  # names grouped by length"
   ]
  },
  {
   "cell_type": "code",
   "execution_count": 20,
   "metadata": {
    "execution": {
     "iopub.execute_input": "2020-12-01T14:10:27.870548Z",
     "iopub.status.busy": "2020-12-01T14:10:27.865301Z",
     "iopub.status.idle": "2020-12-01T14:10:28.039948Z",
     "shell.execute_reply": "2020-12-01T14:10:28.038917Z"
    }
   },
   "outputs": [
    {
     "data": {
      "text/plain": [
       "[(0, [0, 2, 4, 6, 8]), (1, [1, 3, 5, 7, 9])]"
      ]
     },
     "execution_count": 1,
     "metadata": {},
     "output_type": "execute_result"
    }
   ],
   "source": [
    "b = db.from_sequence(list(range(10)))\n",
    "b.groupby(lambda x: x % 2).compute()"
   ]
  },
  {
   "cell_type": "code",
   "execution_count": 21,
   "metadata": {
    "execution": {
     "iopub.execute_input": "2020-12-01T14:10:28.059463Z",
     "iopub.status.busy": "2020-12-01T14:10:28.053614Z",
     "iopub.status.idle": "2020-12-01T14:10:28.212183Z",
     "shell.execute_reply": "2020-12-01T14:10:28.211340Z"
    }
   },
   "outputs": [
    {
     "data": {
      "text/plain": [
       "[(0, 8), (1, 9)]"
      ]
     },
     "execution_count": 1,
     "metadata": {},
     "output_type": "execute_result"
    }
   ],
   "source": [
    "b.groupby(lambda x: x % 2).starmap(lambda k, v: (k, max(v))).compute()"
   ]
  },
  {
   "cell_type": "markdown",
   "metadata": {},
   "source": [
    "### `foldby`"
   ]
  },
  {
   "cell_type": "markdown",
   "metadata": {},
   "source": [
    "Foldby can be quite odd at first.  It is similar to the following functions from other libraries:\n",
    "\n",
    "*  [`toolz.reduceby`](http://toolz.readthedocs.io/en/latest/streaming-analytics.html#streaming-split-apply-combine)\n",
    "*  [`pyspark.RDD.combineByKey`](http://abshinn.github.io/python/apache-spark/2014/10/11/using-combinebykey-in-apache-spark/)\n",
    "\n",
    "When using `foldby` you provide \n",
    "\n",
    "1.  A key function on which to group elements\n",
    "2.  A binary operator such as you would pass to `reduce` that you use to perform reduction per each group\n",
    "3.  A combine binary operator that can combine the results of two `reduce` calls on different parts of your dataset.\n",
    "\n",
    "Your reduction must be associative.  It will happen in parallel in each of the partitions of your dataset.  Then all of these intermediate results will be combined by the `combine` binary operator."
   ]
  },
  {
   "cell_type": "code",
   "execution_count": 22,
   "metadata": {
    "execution": {
     "iopub.execute_input": "2020-12-01T14:10:28.219816Z",
     "iopub.status.busy": "2020-12-01T14:10:28.218263Z",
     "iopub.status.idle": "2020-12-01T14:10:28.263476Z",
     "shell.execute_reply": "2020-12-01T14:10:28.263981Z"
    }
   },
   "outputs": [
    {
     "data": {
      "text/plain": [
       "[(0, 8), (1, 9)]"
      ]
     },
     "execution_count": 1,
     "metadata": {},
     "output_type": "execute_result"
    }
   ],
   "source": [
    "b.foldby(lambda x: x % 2, binop=max, combine=max).compute()"
   ]
  },
  {
   "cell_type": "markdown",
   "metadata": {},
   "source": [
    "### Example with account data"
   ]
  },
  {
   "cell_type": "markdown",
   "metadata": {},
   "source": [
    "We find the number of people with the same name."
   ]
  },
  {
   "cell_type": "code",
   "execution_count": 23,
   "metadata": {
    "execution": {
     "iopub.execute_input": "2020-12-01T14:10:28.277763Z",
     "iopub.status.busy": "2020-12-01T14:10:28.271811Z",
     "iopub.status.idle": "2020-12-01T14:10:34.813447Z",
     "shell.execute_reply": "2020-12-01T14:10:34.812875Z"
    }
   },
   "outputs": [
    {
     "name": "stdout",
     "output_type": "stream",
     "text": [
      "[('Alice', 141), ('Alice', 143), ('Alice', 151), ('Alice', 153), ('Bob', 72), ('Bob', 72), ('Bob', 78), ('Bob', 78), ('Charlie', 108), ('Charlie', 108), ('Charlie', 117), ('Charlie', 117), ('Dan', 102), ('Dan', 104), ('Dan', 111), ('Dan', 113), ('Edith', 126), ('Edith', 127), ('Edith', 137), ('Edith', 138), ('Frank', 48), ('Frank', 48), ('Frank', 52), ('Frank', 52), ('George', 142), ('George', 144), ('George', 154), ('George', 154), ('Hannah', 83), ('Hannah', 83), ('Hannah', 85), ('Hannah', 90), ('Ingrid', 132), ('Ingrid', 132), ('Ingrid', 142), ('Ingrid', 143), ('Jerry', 72), ('Jerry', 78), ('Jerry', 150), ('Kevin', 60), ('Kevin', 60), ('Kevin', 65), ('Kevin', 65), ('Laura', 86), ('Laura', 88), ('Laura', 94), ('Laura', 99), ('Michael', 99), ('Michael', 99), ('Michael', 107), ('Michael', 108), ('Norbert', 132), ('Norbert', 132), ('Norbert', 143), ('Norbert', 143), ('Oliver', 72), ('Oliver', 72), ('Oliver', 78), ('Oliver', 78), ('Patricia', 144), ('Patricia', 144), ('Patricia', 156), ('Patricia', 156), ('Quinn', 128), ('Quinn', 129), ('Quinn', 138), ('Quinn', 141), ('Ray', 131), ('Ray', 132), ('Ray', 142), ('Ray', 143), ('Sarah', 136), ('Sarah', 137), ('Sarah', 145), ('Sarah', 146), ('Tim', 108), ('Tim', 108), ('Tim', 117), ('Tim', 117), ('Ursula', 108), ('Ursula', 108), ('Ursula', 117), ('Ursula', 117), ('Victor', 120), ('Victor', 120), ('Victor', 130), ('Victor', 130), ('Wendy', 96), ('Wendy', 96), ('Wendy', 104), ('Wendy', 104), ('Xavier', 136), ('Xavier', 148), ('Xavier', 291), ('Yvonne', 186), ('Yvonne', 186), ('Yvonne', 201), ('Yvonne', 203), ('Zelda', 168), ('Zelda', 168), ('Zelda', 181), ('Zelda', 182)]\n",
      "CPU times: user 1.32 s, sys: 66.6 ms, total: 1.39 s\n",
      "Wall time: 6.53 s\n"
     ]
    }
   ],
   "source": [
    "%%time\n",
    "# Warning, this one takes a while...\n",
    "result = js.groupby(lambda item: item['name']).starmap(lambda k, v: (k, len(v))).compute()\n",
    "print(sorted(result))"
   ]
  },
  {
   "cell_type": "code",
   "execution_count": 24,
   "metadata": {
    "execution": {
     "iopub.execute_input": "2020-12-01T14:10:34.838482Z",
     "iopub.status.busy": "2020-12-01T14:10:34.833805Z",
     "iopub.status.idle": "2020-12-01T14:10:35.322060Z",
     "shell.execute_reply": "2020-12-01T14:10:35.322602Z"
    }
   },
   "outputs": [
    {
     "name": "stdout",
     "output_type": "stream",
     "text": [
      "[('Alice', 588), ('Bob', 300), ('Charlie', 450), ('Dan', 430), ('Edith', 528), ('Frank', 200), ('George', 594), ('Hannah', 341), ('Ingrid', 549), ('Jerry', 300), ('Kevin', 250), ('Laura', 367), ('Michael', 413), ('Norbert', 550), ('Oliver', 300), ('Patricia', 600), ('Quinn', 536), ('Ray', 548), ('Sarah', 564), ('Tim', 450), ('Ursula', 450), ('Victor', 500), ('Wendy', 400), ('Xavier', 575), ('Yvonne', 776), ('Zelda', 699)]\n",
      "CPU times: user 126 ms, sys: 11.2 ms, total: 137 ms\n",
      "Wall time: 494 ms\n"
     ]
    }
   ],
   "source": [
    "%%time\n",
    "# This one is comparatively fast and produces the same result.\n",
    "from operator import add\n",
    "def incr(tot, _):\n",
    "    return tot + 1\n",
    "\n",
    "result = js.foldby(key='name', \n",
    "                   binop=incr, \n",
    "                   initial=0, \n",
    "                   combine=add, \n",
    "                   combine_initial=0).compute()\n",
    "print(sorted(result))"
   ]
  },
  {
   "cell_type": "markdown",
   "metadata": {},
   "source": [
    "### Exercise: compute total amount per name"
   ]
  },
  {
   "cell_type": "markdown",
   "metadata": {},
   "source": [
    "We want to groupby (or foldby) the `name` key, then add up the all of the amounts for each name.\n",
    "\n",
    "Steps\n",
    "\n",
    "1.  Create a small function that, given a dictionary like \n",
    "\n",
    "        {'name': 'Alice', 'transactions': [{'amount': 1, 'id': 123}, {'amount': 2, 'id': 456}]}\n",
    "        \n",
    "    produces the sum of the amounts, e.g. `3`\n",
    "    \n",
    "2.  Slightly change the binary operator of the `foldby` example above so that the binary operator doesn't count the number of entries, but instead accumulates the sum of the amounts."
   ]
  },
  {
   "cell_type": "code",
   "execution_count": 25,
   "metadata": {
    "execution": {
     "iopub.execute_input": "2020-12-01T14:10:35.326536Z",
     "iopub.status.busy": "2020-12-01T14:10:35.325790Z",
     "iopub.status.idle": "2020-12-01T14:10:35.329893Z",
     "shell.execute_reply": "2020-12-01T14:10:35.329267Z"
    }
   },
   "outputs": [],
   "source": [
    "# Your code here..."
   ]
  },
  {
   "cell_type": "markdown",
   "metadata": {},
   "source": [
    "## DataFrames"
   ]
  },
  {
   "cell_type": "markdown",
   "metadata": {},
   "source": [
    "For the same reasons that Pandas is often faster than pure Python, `dask.dataframe` can be faster than `dask.bag`.  We will work more with DataFrames later, but from the point of view of a Bag, it is frequently the end-point of the \"messy\" part of data ingestion—once the data can be made into a data-frame, then complex split-apply-combine logic will become much more straight-forward and efficient.\n",
    "\n",
    "You can transform a bag with a simple tuple or flat dictionary structure into a `dask.dataframe` with the `to_dataframe` method."
   ]
  },
  {
   "cell_type": "code",
   "execution_count": 26,
   "metadata": {
    "execution": {
     "iopub.execute_input": "2020-12-01T14:10:35.333313Z",
     "iopub.status.busy": "2020-12-01T14:10:35.332725Z",
     "iopub.status.idle": "2020-12-01T14:10:35.998207Z",
     "shell.execute_reply": "2020-12-01T14:10:35.998984Z"
    }
   },
   "outputs": [
    {
     "data": {
      "text/html": [
       "<div>\n",
       "<style scoped>\n",
       "    .dataframe tbody tr th:only-of-type {\n",
       "        vertical-align: middle;\n",
       "    }\n",
       "\n",
       "    .dataframe tbody tr th {\n",
       "        vertical-align: top;\n",
       "    }\n",
       "\n",
       "    .dataframe thead th {\n",
       "        text-align: right;\n",
       "    }\n",
       "</style>\n",
       "<table border=\"1\" class=\"dataframe\">\n",
       "  <thead>\n",
       "    <tr style=\"text-align: right;\">\n",
       "      <th></th>\n",
       "      <th>id</th>\n",
       "      <th>name</th>\n",
       "      <th>transactions</th>\n",
       "    </tr>\n",
       "  </thead>\n",
       "  <tbody>\n",
       "    <tr>\n",
       "      <th>0</th>\n",
       "      <td>0</td>\n",
       "      <td>Sarah</td>\n",
       "      <td>[{'transaction-id': 330, 'amount': -323}, {'tr...</td>\n",
       "    </tr>\n",
       "    <tr>\n",
       "      <th>1</th>\n",
       "      <td>1</td>\n",
       "      <td>Zelda</td>\n",
       "      <td>[{'transaction-id': 1319, 'amount': 32}, {'tra...</td>\n",
       "    </tr>\n",
       "    <tr>\n",
       "      <th>2</th>\n",
       "      <td>2</td>\n",
       "      <td>Jerry</td>\n",
       "      <td>[{'transaction-id': 369, 'amount': 437}, {'tra...</td>\n",
       "    </tr>\n",
       "    <tr>\n",
       "      <th>3</th>\n",
       "      <td>3</td>\n",
       "      <td>Oliver</td>\n",
       "      <td>[{'transaction-id': 4, 'amount': 753}, {'trans...</td>\n",
       "    </tr>\n",
       "    <tr>\n",
       "      <th>4</th>\n",
       "      <td>4</td>\n",
       "      <td>Charlie</td>\n",
       "      <td>[{'transaction-id': 80, 'amount': 343}, {'tran...</td>\n",
       "    </tr>\n",
       "  </tbody>\n",
       "</table>\n",
       "</div>"
      ],
      "text/plain": [
       "   id     name                                       transactions\n",
       "0   0    Sarah  [{'transaction-id': 330, 'amount': -323}, {'tr...\n",
       "1   1    Zelda  [{'transaction-id': 1319, 'amount': 32}, {'tra...\n",
       "2   2    Jerry  [{'transaction-id': 369, 'amount': 437}, {'tra...\n",
       "3   3   Oliver  [{'transaction-id': 4, 'amount': 753}, {'trans...\n",
       "4   4  Charlie  [{'transaction-id': 80, 'amount': 343}, {'tran..."
      ]
     },
     "execution_count": 1,
     "metadata": {},
     "output_type": "execute_result"
    }
   ],
   "source": [
    "df1 = js.to_dataframe()\n",
    "df1.head()"
   ]
  },
  {
   "cell_type": "markdown",
   "metadata": {},
   "source": [
    "This now looks like a well-defined DataFrame, and we can apply Pandas-like computations to it efficiently."
   ]
  },
  {
   "cell_type": "markdown",
   "metadata": {},
   "source": [
    "Using a Dask DataFrame, how long does it take to do our prior computation of numbers of people with the same name?  It turns out that `dask.dataframe.groupby()` beats `dask.bag.groupby()` by more than an order of magnitude; but it still cannot match `dask.bag.foldby()` for this case."
   ]
  },
  {
   "cell_type": "code",
   "execution_count": 27,
   "metadata": {
    "execution": {
     "iopub.execute_input": "2020-12-01T14:10:36.019085Z",
     "iopub.status.busy": "2020-12-01T14:10:36.015128Z",
     "iopub.status.idle": "2020-12-01T14:10:37.375104Z",
     "shell.execute_reply": "2020-12-01T14:10:37.374213Z"
    }
   },
   "outputs": [
    {
     "name": "stdout",
     "output_type": "stream",
     "text": [
      "CPU times: user 158 ms, sys: 15.2 ms, total: 174 ms\n",
      "Wall time: 1.36 s\n"
     ]
    },
    {
     "data": {
      "text/plain": [
       "name\n",
       "Alice      588\n",
       "Bob        300\n",
       "Charlie    450\n",
       "Dan        430\n",
       "Edith      528\n",
       "Name: id, dtype: int64"
      ]
     },
     "execution_count": 1,
     "metadata": {},
     "output_type": "execute_result"
    }
   ],
   "source": [
    "%time df1.groupby('name').id.count().compute().head()"
   ]
  },
  {
   "cell_type": "markdown",
   "metadata": {},
   "source": [
    "### Denormalization"
   ]
  },
  {
   "cell_type": "markdown",
   "metadata": {},
   "source": [
    "This DataFrame format is less-than-optimal because the `transactions` column is filled with nested data so Pandas has to revert to `object` dtype, which is quite slow in Pandas.  Ideally we want to transform to a dataframe only after we have flattened our data so that each record is a single `int`, `string`, `float`, etc.."
   ]
  },
  {
   "cell_type": "code",
   "execution_count": 28,
   "metadata": {
    "execution": {
     "iopub.execute_input": "2020-12-01T14:10:37.381171Z",
     "iopub.status.busy": "2020-12-01T14:10:37.380554Z",
     "iopub.status.idle": "2020-12-01T14:10:37.398951Z",
     "shell.execute_reply": "2020-12-01T14:10:37.399448Z"
    }
   },
   "outputs": [
    {
     "data": {
      "text/plain": [
       "({'id': 0, 'name': 'Sarah', 'amount': -323, 'transaction-id': 330},\n",
       " {'id': 0, 'name': 'Sarah', 'amount': -377, 'transaction-id': 409},\n",
       " {'id': 0, 'name': 'Sarah', 'amount': -412, 'transaction-id': 658})"
      ]
     },
     "execution_count": 1,
     "metadata": {},
     "output_type": "execute_result"
    }
   ],
   "source": [
    "def denormalize(record):\n",
    "    # returns a list for each person, one item per transaction\n",
    "    return [{'id': record['id'], \n",
    "             'name': record['name'], \n",
    "             'amount': transaction['amount'], \n",
    "             'transaction-id': transaction['transaction-id']}\n",
    "            for transaction in record['transactions']]\n",
    "\n",
    "transactions = js.map(denormalize).flatten()\n",
    "transactions.take(3)"
   ]
  },
  {
   "cell_type": "code",
   "execution_count": 29,
   "metadata": {
    "execution": {
     "iopub.execute_input": "2020-12-01T14:10:37.404093Z",
     "iopub.status.busy": "2020-12-01T14:10:37.403179Z",
     "iopub.status.idle": "2020-12-01T14:10:37.483332Z",
     "shell.execute_reply": "2020-12-01T14:10:37.482778Z"
    }
   },
   "outputs": [
    {
     "data": {
      "text/html": [
       "<div>\n",
       "<style scoped>\n",
       "    .dataframe tbody tr th:only-of-type {\n",
       "        vertical-align: middle;\n",
       "    }\n",
       "\n",
       "    .dataframe tbody tr th {\n",
       "        vertical-align: top;\n",
       "    }\n",
       "\n",
       "    .dataframe thead th {\n",
       "        text-align: right;\n",
       "    }\n",
       "</style>\n",
       "<table border=\"1\" class=\"dataframe\">\n",
       "  <thead>\n",
       "    <tr style=\"text-align: right;\">\n",
       "      <th></th>\n",
       "      <th>id</th>\n",
       "      <th>name</th>\n",
       "      <th>amount</th>\n",
       "      <th>transaction-id</th>\n",
       "    </tr>\n",
       "  </thead>\n",
       "  <tbody>\n",
       "    <tr>\n",
       "      <th>0</th>\n",
       "      <td>0</td>\n",
       "      <td>Sarah</td>\n",
       "      <td>-323</td>\n",
       "      <td>330</td>\n",
       "    </tr>\n",
       "    <tr>\n",
       "      <th>1</th>\n",
       "      <td>0</td>\n",
       "      <td>Sarah</td>\n",
       "      <td>-377</td>\n",
       "      <td>409</td>\n",
       "    </tr>\n",
       "    <tr>\n",
       "      <th>2</th>\n",
       "      <td>0</td>\n",
       "      <td>Sarah</td>\n",
       "      <td>-412</td>\n",
       "      <td>658</td>\n",
       "    </tr>\n",
       "    <tr>\n",
       "      <th>3</th>\n",
       "      <td>0</td>\n",
       "      <td>Sarah</td>\n",
       "      <td>-538</td>\n",
       "      <td>763</td>\n",
       "    </tr>\n",
       "    <tr>\n",
       "      <th>4</th>\n",
       "      <td>0</td>\n",
       "      <td>Sarah</td>\n",
       "      <td>-256</td>\n",
       "      <td>853</td>\n",
       "    </tr>\n",
       "  </tbody>\n",
       "</table>\n",
       "</div>"
      ],
      "text/plain": [
       "   id   name  amount  transaction-id\n",
       "0   0  Sarah    -323             330\n",
       "1   0  Sarah    -377             409\n",
       "2   0  Sarah    -412             658\n",
       "3   0  Sarah    -538             763\n",
       "4   0  Sarah    -256             853"
      ]
     },
     "execution_count": 1,
     "metadata": {},
     "output_type": "execute_result"
    }
   ],
   "source": [
    "df = transactions.to_dataframe()\n",
    "df.head()"
   ]
  },
  {
   "cell_type": "code",
   "execution_count": 30,
   "metadata": {
    "execution": {
     "iopub.execute_input": "2020-12-01T14:10:37.491303Z",
     "iopub.status.busy": "2020-12-01T14:10:37.485748Z",
     "iopub.status.idle": "2020-12-01T14:10:38.582925Z",
     "shell.execute_reply": "2020-12-01T14:10:38.579808Z"
    }
   },
   "outputs": [
    {
     "name": "stdout",
     "output_type": "stream",
     "text": [
      "CPU times: user 157 ms, sys: 14.8 ms, total: 172 ms\n",
      "Wall time: 1.08 s\n"
     ]
    },
    {
     "data": {
      "text/plain": [
       "name\n",
       "Alice       27980\n",
       "Bob         10882\n",
       "Charlie     10719\n",
       "Dan         13575\n",
       "Edith       16656\n",
       "Frank        9619\n",
       "George      21470\n",
       "Hannah      15856\n",
       "Ingrid      24979\n",
       "Jerry       10928\n",
       "Kevin        6898\n",
       "Laura        8932\n",
       "Michael     25527\n",
       "Norbert     26490\n",
       "Oliver      12852\n",
       "Patricia    35166\n",
       "Quinn       19093\n",
       "Ray         20706\n",
       "Sarah       28351\n",
       "Tim         17831\n",
       "Ursula      19280\n",
       "Victor      17691\n",
       "Wendy       19258\n",
       "Xavier      28413\n",
       "Yvonne      17917\n",
       "Zelda       32931\n",
       "Name: transaction-id, dtype: int64"
      ]
     },
     "execution_count": 1,
     "metadata": {},
     "output_type": "execute_result"
    }
   ],
   "source": [
    "%%time\n",
    "# number of transactions per name\n",
    "# note that the time here includes the data load and ingestion\n",
    "df.groupby('name')['transaction-id'].count().compute()"
   ]
  },
  {
   "cell_type": "markdown",
   "metadata": {},
   "source": [
    "## Limitations"
   ]
  },
  {
   "cell_type": "markdown",
   "metadata": {},
   "source": [
    "Bags provide very general computation (any Python function.)  This generality\n",
    "comes at cost.  Bags have the following known limitations\n",
    "\n",
    "1.  Bag operations tend to be slower than array/dataframe computations in the\n",
    "    same way that Python tends to be slower than NumPy/Pandas\n",
    "2.  ``Bag.groupby`` is slow.  You should try to use ``Bag.foldby`` if possible.\n",
    "    Using ``Bag.foldby`` requires more thought. Even better, consider creating\n",
    "    a normalised dataframe."
   ]
  },
  {
   "cell_type": "markdown",
   "metadata": {},
   "source": [
    "## Learn More\n",
    "\n",
    "* [Bag documentation](https://docs.dask.org/en/latest/bag.html)\n",
    "* [Bag screencast](https://youtu.be/-qIiJ1XtSv0)\n",
    "* [Bag API](https://docs.dask.org/en/latest/bag-api.html)\n",
    "* [Bag examples](https://examples.dask.org/bag.html)"
   ]
  },
  {
   "cell_type": "markdown",
   "metadata": {},
   "source": [
    "## Shutdown"
   ]
  },
  {
   "cell_type": "code",
   "execution_count": 31,
   "metadata": {
    "execution": {
     "iopub.execute_input": "2020-12-01T14:10:38.587585Z",
     "iopub.status.busy": "2020-12-01T14:10:38.587106Z",
     "iopub.status.idle": "2020-12-01T14:10:40.016569Z",
     "shell.execute_reply": "2020-12-01T14:10:40.015816Z"
    }
   },
   "outputs": [],
   "source": [
    "client.shutdown()"
   ]
  }
 ],
 "metadata": {
  "anaconda-cloud": {},
  "kernelspec": {
   "display_name": "Python 3",
   "language": "python",
   "name": "python3"
  },
  "language_info": {
   "codemirror_mode": {
    "name": "ipython",
    "version": 3
   },
   "file_extension": ".py",
   "mimetype": "text/x-python",
   "name": "python",
   "nbconvert_exporter": "python",
   "pygments_lexer": "ipython3",
   "version": "3.8.6"
  }
 },
 "nbformat": 4,
 "nbformat_minor": 4
}
