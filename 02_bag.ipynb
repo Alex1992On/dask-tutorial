{
 "cells": [
  {
   "cell_type": "markdown",
   "metadata": {},
   "source": [
    "<img src=\"images/dask_horizontal.svg\" align=\"right\" width=\"30%\">"
   ]
  },
  {
   "cell_type": "markdown",
   "metadata": {},
   "source": [
    "# Bag: Parallel Lists for semi-structured data"
   ]
  },
  {
   "cell_type": "markdown",
   "metadata": {},
   "source": [
    "Dask-bag excels in processing data that can be represented as a sequence of arbitrary inputs. We'll refer to this as \"messy\" data, because it can contain complex nested structures, missing fields, mixtures of data types, etc. The *functional* programming style fits very nicely with standard Python iteration, such as can be found in the `itertools` module.\n",
    "\n",
    "Messy data is often encountered at the beginning of data processing pipelines when large volumes of raw data are first consumed. The initial set of data might be JSON, CSV, XML, or any other format that does not enforce strict structure and datatypes.\n",
    "For this reason, the initial data massaging and processing is often done with Python `list`s, `dict`s, and `set`s.\n",
    "\n",
    "These core data structures are optimized for general-purpose storage and processing.  Adding streaming computation with iterators/generator expressions or libraries like `itertools` or [`toolz`](https://toolz.readthedocs.io/en/latest/) let us process large volumes in a small space.  If we combine this with parallel processing then we can churn through a fair amount of data.\n",
    "\n",
    "Dask.bag is a high level Dask collection to automate common workloads of this form.  In a nutshell\n",
    "\n",
    "    dask.bag = map, filter, toolz + parallel execution\n",
    "    \n",
    "**Related Documentation**\n",
    "\n",
    "* [Bag documentation](https://docs.dask.org/en/latest/bag.html)\n",
    "* [Bag screencast](https://youtu.be/-qIiJ1XtSv0)\n",
    "* [Bag API](https://docs.dask.org/en/latest/bag-api.html)\n",
    "* [Bag examples](https://examples.dask.org/bag.html)"
   ]
  },
  {
   "cell_type": "markdown",
   "metadata": {},
   "source": [
    "## Create data"
   ]
  },
  {
   "cell_type": "code",
   "execution_count": 1,
   "metadata": {
    "execution": {
     "iopub.execute_input": "2020-11-09T19:19:16.312878Z",
     "iopub.status.busy": "2020-11-09T19:19:16.312317Z",
     "iopub.status.idle": "2020-11-09T19:19:16.839465Z",
     "shell.execute_reply": "2020-11-09T19:19:16.838591Z"
    }
   },
   "outputs": [],
   "source": [
    "%run prep.py -d accounts"
   ]
  },
  {
   "cell_type": "markdown",
   "metadata": {},
   "source": [
    "## Setup"
   ]
  },
  {
   "cell_type": "markdown",
   "metadata": {},
   "source": [
    "Again, we'll use the distributed scheduler. Schedulers will be explained in depth [later](05_distributed.ipynb)."
   ]
  },
  {
   "cell_type": "code",
   "execution_count": 2,
   "metadata": {
    "execution": {
     "iopub.execute_input": "2020-11-09T19:19:16.843569Z",
     "iopub.status.busy": "2020-11-09T19:19:16.842971Z",
     "iopub.status.idle": "2020-11-09T19:19:18.761555Z",
     "shell.execute_reply": "2020-11-09T19:19:18.762015Z"
    }
   },
   "outputs": [],
   "source": [
    "from dask.distributed import Client\n",
    "\n",
    "client = Client(n_workers=4)"
   ]
  },
  {
   "cell_type": "markdown",
   "metadata": {},
   "source": [
    "## Creation"
   ]
  },
  {
   "cell_type": "markdown",
   "metadata": {},
   "source": [
    "You can create a `Bag` from a Python sequence, from files, from data on S3, etc.\n",
    "We demonstrate using `.take()` to show elements of the data. (Doing `.take(1)` results in a tuple with one element)\n",
    "\n",
    "Note that the data are partitioned into blocks, and there are many items per block. In the first example, the two partitions contain five elements each, and in the following two, each file is partitioned into one or more bytes blocks."
   ]
  },
  {
   "cell_type": "code",
   "execution_count": 3,
   "metadata": {
    "execution": {
     "iopub.execute_input": "2020-11-09T19:19:18.765049Z",
     "iopub.status.busy": "2020-11-09T19:19:18.764509Z",
     "iopub.status.idle": "2020-11-09T19:19:18.810926Z",
     "shell.execute_reply": "2020-11-09T19:19:18.810265Z"
    }
   },
   "outputs": [
    {
     "data": {
      "text/plain": [
       "(1, 2, 3)"
      ]
     },
     "execution_count": 1,
     "metadata": {},
     "output_type": "execute_result"
    }
   ],
   "source": [
    "# each element is an integer\n",
    "import dask.bag as db\n",
    "b = db.from_sequence([1, 2, 3, 4, 5, 6, 7, 8, 9, 10], npartitions=2)\n",
    "b.take(3)"
   ]
  },
  {
   "cell_type": "code",
   "execution_count": 4,
   "metadata": {
    "execution": {
     "iopub.execute_input": "2020-11-09T19:19:18.816259Z",
     "iopub.status.busy": "2020-11-09T19:19:18.814899Z",
     "iopub.status.idle": "2020-11-09T19:19:18.845543Z",
     "shell.execute_reply": "2020-11-09T19:19:18.845069Z"
    }
   },
   "outputs": [
    {
     "data": {
      "text/plain": [
       "('{\"id\": 0, \"name\": \"Charlie\", \"transactions\": [{\"transaction-id\": 300, \"amount\": -790}, {\"transaction-id\": 331, \"amount\": -510}, {\"transaction-id\": 417, \"amount\": -658}, {\"transaction-id\": 654, \"amount\": -665}, {\"transaction-id\": 838, \"amount\": -682}, {\"transaction-id\": 1041, \"amount\": -674}, {\"transaction-id\": 1660, \"amount\": -739}, {\"transaction-id\": 1870, \"amount\": -740}, {\"transaction-id\": 2025, \"amount\": -697}, {\"transaction-id\": 2211, \"amount\": -729}, {\"transaction-id\": 2523, \"amount\": -671}, {\"transaction-id\": 2628, \"amount\": -726}, {\"transaction-id\": 2642, \"amount\": -768}, {\"transaction-id\": 2948, \"amount\": -681}, {\"transaction-id\": 3388, \"amount\": -862}, {\"transaction-id\": 3604, \"amount\": -920}, {\"transaction-id\": 3732, \"amount\": -736}, {\"transaction-id\": 3981, \"amount\": -877}, {\"transaction-id\": 4048, \"amount\": -917}, {\"transaction-id\": 4173, \"amount\": -648}, {\"transaction-id\": 4428, \"amount\": -790}, {\"transaction-id\": 5061, \"amount\": -886}, {\"transaction-id\": 5344, \"amount\": -641}, {\"transaction-id\": 5498, \"amount\": -751}, {\"transaction-id\": 5730, \"amount\": -728}, {\"transaction-id\": 5826, \"amount\": -824}, {\"transaction-id\": 6109, \"amount\": -610}, {\"transaction-id\": 6164, \"amount\": -685}, {\"transaction-id\": 6340, \"amount\": -690}, {\"transaction-id\": 6409, \"amount\": -768}, {\"transaction-id\": 6436, \"amount\": -693}, {\"transaction-id\": 6483, \"amount\": -764}, {\"transaction-id\": 6886, \"amount\": -654}, {\"transaction-id\": 7150, \"amount\": -672}, {\"transaction-id\": 7187, \"amount\": -840}, {\"transaction-id\": 7256, \"amount\": -482}, {\"transaction-id\": 7350, \"amount\": -735}, {\"transaction-id\": 7401, \"amount\": -799}, {\"transaction-id\": 7488, \"amount\": -800}, {\"transaction-id\": 7596, \"amount\": -776}, {\"transaction-id\": 7698, \"amount\": -718}, {\"transaction-id\": 7947, \"amount\": -698}, {\"transaction-id\": 8020, \"amount\": -725}, {\"transaction-id\": 8177, \"amount\": -763}, {\"transaction-id\": 8365, \"amount\": -689}, {\"transaction-id\": 8538, \"amount\": -747}, {\"transaction-id\": 8623, \"amount\": -618}, {\"transaction-id\": 8663, \"amount\": -598}, {\"transaction-id\": 8792, \"amount\": -732}, {\"transaction-id\": 9627, \"amount\": -791}, {\"transaction-id\": 9864, \"amount\": -810}]}\\n',)"
      ]
     },
     "execution_count": 1,
     "metadata": {},
     "output_type": "execute_result"
    }
   ],
   "source": [
    "# each element is a text file, where each line is a JSON object\n",
    "# note that the compression is handled automatically\n",
    "import os\n",
    "b = db.read_text(os.path.join('data', 'accounts.*.json.gz'))\n",
    "b.take(1)"
   ]
  },
  {
   "cell_type": "code",
   "execution_count": 5,
   "metadata": {
    "execution": {
     "iopub.execute_input": "2020-11-09T19:19:18.849412Z",
     "iopub.status.busy": "2020-11-09T19:19:18.848488Z",
     "iopub.status.idle": "2020-11-09T19:19:18.853966Z",
     "shell.execute_reply": "2020-11-09T19:19:18.853502Z"
    }
   },
   "outputs": [
    {
     "data": {
      "text/plain": [
       "'s3://dask-data/nyc-taxi/2015/yellow_tripdata_2015-01.csv'"
      ]
     },
     "execution_count": 1,
     "metadata": {},
     "output_type": "execute_result"
    }
   ],
   "source": [
    "# Edit sources.py to configure source locations\n",
    "import sources\n",
    "sources.bag_url"
   ]
  },
  {
   "cell_type": "code",
   "execution_count": 6,
   "metadata": {
    "execution": {
     "iopub.execute_input": "2020-11-09T19:19:18.858280Z",
     "iopub.status.busy": "2020-11-09T19:19:18.856994Z",
     "iopub.status.idle": "2020-11-09T19:19:19.655652Z",
     "shell.execute_reply": "2020-11-09T19:19:19.656205Z"
    }
   },
   "outputs": [
    {
     "data": {
      "text/plain": [
       "('VendorID,tpep_pickup_datetime,tpep_dropoff_datetime,passenger_count,trip_distance,pickup_longitude,pickup_latitude,RateCodeID,store_and_fwd_flag,dropoff_longitude,dropoff_latitude,payment_type,fare_amount,extra,mta_tax,tip_amount,tolls_amount,improvement_surcharge,total_amount\\n',)"
      ]
     },
     "execution_count": 1,
     "metadata": {},
     "output_type": "execute_result"
    }
   ],
   "source": [
    "# Requires `s3fs` library\n",
    "# each partition is a remote CSV text file\n",
    "b = db.read_text(sources.bag_url,\n",
    "                 storage_options={'anon': True})\n",
    "b.take(1)"
   ]
  },
  {
   "cell_type": "markdown",
   "metadata": {},
   "source": [
    "## Manipulation"
   ]
  },
  {
   "cell_type": "markdown",
   "metadata": {},
   "source": [
    "`Bag` objects hold the standard functional API found in projects like the Python standard library, `toolz`, or `pyspark`, including `map`, `filter`, `groupby`, etc..\n",
    "\n",
    "Operations on `Bag` objects create new bags.  Call the `.compute()` method to trigger execution, as we saw for `Delayed` objects.  "
   ]
  },
  {
   "cell_type": "code",
   "execution_count": 7,
   "metadata": {
    "execution": {
     "iopub.execute_input": "2020-11-09T19:19:19.661568Z",
     "iopub.status.busy": "2020-11-09T19:19:19.661009Z",
     "iopub.status.idle": "2020-11-09T19:19:19.665419Z",
     "shell.execute_reply": "2020-11-09T19:19:19.665955Z"
    }
   },
   "outputs": [
    {
     "data": {
      "text/plain": [
       "dask.bag<lambda, npartitions=10>"
      ]
     },
     "execution_count": 1,
     "metadata": {},
     "output_type": "execute_result"
    }
   ],
   "source": [
    "def is_even(n):\n",
    "    return n % 2 == 0\n",
    "\n",
    "b = db.from_sequence([1, 2, 3, 4, 5, 6, 7, 8, 9, 10])\n",
    "c = b.filter(is_even).map(lambda x: x ** 2)\n",
    "c"
   ]
  },
  {
   "cell_type": "code",
   "execution_count": 8,
   "metadata": {
    "execution": {
     "iopub.execute_input": "2020-11-09T19:19:19.676211Z",
     "iopub.status.busy": "2020-11-09T19:19:19.675679Z",
     "iopub.status.idle": "2020-11-09T19:19:19.744029Z",
     "shell.execute_reply": "2020-11-09T19:19:19.743110Z"
    }
   },
   "outputs": [
    {
     "data": {
      "text/plain": [
       "[4, 16, 36, 64, 100]"
      ]
     },
     "execution_count": 1,
     "metadata": {},
     "output_type": "execute_result"
    }
   ],
   "source": [
    "# blocking form: wait for completion (which is very fast in this case)\n",
    "c.compute()"
   ]
  },
  {
   "cell_type": "markdown",
   "metadata": {},
   "source": [
    "### Example: Accounts JSON data"
   ]
  },
  {
   "cell_type": "markdown",
   "metadata": {},
   "source": [
    "We've created a fake dataset of gzipped JSON data in your data directory.  This is like the example used in the `DataFrame` example we will see later, except that it has bundled up all of the entires for each individual `id` into a single record.  This is similar to data that you might collect off of a document store database or a web API.\n",
    "\n",
    "Each line is a JSON encoded dictionary with the following keys\n",
    "\n",
    "*  id: Unique identifier of the customer\n",
    "*  name: Name of the customer\n",
    "*  transactions: List of `transaction-id`, `amount` pairs, one for each transaction for the customer in that file"
   ]
  },
  {
   "cell_type": "code",
   "execution_count": 9,
   "metadata": {
    "execution": {
     "iopub.execute_input": "2020-11-09T19:19:19.747933Z",
     "iopub.status.busy": "2020-11-09T19:19:19.747404Z",
     "iopub.status.idle": "2020-11-09T19:19:19.776142Z",
     "shell.execute_reply": "2020-11-09T19:19:19.776866Z"
    }
   },
   "outputs": [
    {
     "data": {
      "text/plain": [
       "('{\"id\": 0, \"name\": \"Charlie\", \"transactions\": [{\"transaction-id\": 300, \"amount\": -790}, {\"transaction-id\": 331, \"amount\": -510}, {\"transaction-id\": 417, \"amount\": -658}, {\"transaction-id\": 654, \"amount\": -665}, {\"transaction-id\": 838, \"amount\": -682}, {\"transaction-id\": 1041, \"amount\": -674}, {\"transaction-id\": 1660, \"amount\": -739}, {\"transaction-id\": 1870, \"amount\": -740}, {\"transaction-id\": 2025, \"amount\": -697}, {\"transaction-id\": 2211, \"amount\": -729}, {\"transaction-id\": 2523, \"amount\": -671}, {\"transaction-id\": 2628, \"amount\": -726}, {\"transaction-id\": 2642, \"amount\": -768}, {\"transaction-id\": 2948, \"amount\": -681}, {\"transaction-id\": 3388, \"amount\": -862}, {\"transaction-id\": 3604, \"amount\": -920}, {\"transaction-id\": 3732, \"amount\": -736}, {\"transaction-id\": 3981, \"amount\": -877}, {\"transaction-id\": 4048, \"amount\": -917}, {\"transaction-id\": 4173, \"amount\": -648}, {\"transaction-id\": 4428, \"amount\": -790}, {\"transaction-id\": 5061, \"amount\": -886}, {\"transaction-id\": 5344, \"amount\": -641}, {\"transaction-id\": 5498, \"amount\": -751}, {\"transaction-id\": 5730, \"amount\": -728}, {\"transaction-id\": 5826, \"amount\": -824}, {\"transaction-id\": 6109, \"amount\": -610}, {\"transaction-id\": 6164, \"amount\": -685}, {\"transaction-id\": 6340, \"amount\": -690}, {\"transaction-id\": 6409, \"amount\": -768}, {\"transaction-id\": 6436, \"amount\": -693}, {\"transaction-id\": 6483, \"amount\": -764}, {\"transaction-id\": 6886, \"amount\": -654}, {\"transaction-id\": 7150, \"amount\": -672}, {\"transaction-id\": 7187, \"amount\": -840}, {\"transaction-id\": 7256, \"amount\": -482}, {\"transaction-id\": 7350, \"amount\": -735}, {\"transaction-id\": 7401, \"amount\": -799}, {\"transaction-id\": 7488, \"amount\": -800}, {\"transaction-id\": 7596, \"amount\": -776}, {\"transaction-id\": 7698, \"amount\": -718}, {\"transaction-id\": 7947, \"amount\": -698}, {\"transaction-id\": 8020, \"amount\": -725}, {\"transaction-id\": 8177, \"amount\": -763}, {\"transaction-id\": 8365, \"amount\": -689}, {\"transaction-id\": 8538, \"amount\": -747}, {\"transaction-id\": 8623, \"amount\": -618}, {\"transaction-id\": 8663, \"amount\": -598}, {\"transaction-id\": 8792, \"amount\": -732}, {\"transaction-id\": 9627, \"amount\": -791}, {\"transaction-id\": 9864, \"amount\": -810}]}\\n',\n",
       " '{\"id\": 1, \"name\": \"Quinn\", \"transactions\": [{\"transaction-id\": 349, \"amount\": 0}, {\"transaction-id\": 2138, \"amount\": -11}, {\"transaction-id\": 2297, \"amount\": -7}, {\"transaction-id\": 3209, \"amount\": -10}, {\"transaction-id\": 3264, \"amount\": -6}, {\"transaction-id\": 3605, \"amount\": -12}, {\"transaction-id\": 4127, \"amount\": -11}, {\"transaction-id\": 4132, \"amount\": -19}, {\"transaction-id\": 4306, \"amount\": -14}, {\"transaction-id\": 4964, \"amount\": -17}, {\"transaction-id\": 5551, \"amount\": 0}, {\"transaction-id\": 5860, \"amount\": -3}, {\"transaction-id\": 6192, \"amount\": -6}, {\"transaction-id\": 6287, \"amount\": -16}, {\"transaction-id\": 6971, \"amount\": -1}, {\"transaction-id\": 8096, \"amount\": -12}, {\"transaction-id\": 8308, \"amount\": -13}, {\"transaction-id\": 9025, \"amount\": -7}]}\\n',\n",
       " '{\"id\": 2, \"name\": \"Edith\", \"transactions\": [{\"transaction-id\": 578, \"amount\": 56}, {\"transaction-id\": 1181, \"amount\": -13}, {\"transaction-id\": 1227, \"amount\": 25}, {\"transaction-id\": 1302, \"amount\": 25}, {\"transaction-id\": 2105, \"amount\": 74}, {\"transaction-id\": 2668, \"amount\": 44}, {\"transaction-id\": 2722, \"amount\": -15}, {\"transaction-id\": 3456, \"amount\": 7}, {\"transaction-id\": 3579, \"amount\": 17}, {\"transaction-id\": 3844, \"amount\": -33}, {\"transaction-id\": 3989, \"amount\": 48}, {\"transaction-id\": 4828, \"amount\": 15}, {\"transaction-id\": 5275, \"amount\": 19}, {\"transaction-id\": 7389, \"amount\": 36}, {\"transaction-id\": 8506, \"amount\": 75}, {\"transaction-id\": 8944, \"amount\": 9}, {\"transaction-id\": 9255, \"amount\": 11}]}\\n')"
      ]
     },
     "execution_count": 1,
     "metadata": {},
     "output_type": "execute_result"
    }
   ],
   "source": [
    "filename = os.path.join('data', 'accounts.*.json.gz')\n",
    "lines = db.read_text(filename)\n",
    "lines.take(3)"
   ]
  },
  {
   "cell_type": "markdown",
   "metadata": {},
   "source": [
    "Our data comes out of the file as lines of text. Notice that file decompression happened automatically. We can make this data look more reasonable by mapping the `json.loads` function onto our bag."
   ]
  },
  {
   "cell_type": "code",
   "execution_count": 10,
   "metadata": {
    "execution": {
     "iopub.execute_input": "2020-11-09T19:19:19.781572Z",
     "iopub.status.busy": "2020-11-09T19:19:19.780400Z",
     "iopub.status.idle": "2020-11-09T19:19:19.807032Z",
     "shell.execute_reply": "2020-11-09T19:19:19.806392Z"
    }
   },
   "outputs": [
    {
     "data": {
      "text/plain": [
       "({'id': 0,\n",
       "  'name': 'Charlie',\n",
       "  'transactions': [{'transaction-id': 300, 'amount': -790},\n",
       "   {'transaction-id': 331, 'amount': -510},\n",
       "   {'transaction-id': 417, 'amount': -658},\n",
       "   {'transaction-id': 654, 'amount': -665},\n",
       "   {'transaction-id': 838, 'amount': -682},\n",
       "   {'transaction-id': 1041, 'amount': -674},\n",
       "   {'transaction-id': 1660, 'amount': -739},\n",
       "   {'transaction-id': 1870, 'amount': -740},\n",
       "   {'transaction-id': 2025, 'amount': -697},\n",
       "   {'transaction-id': 2211, 'amount': -729},\n",
       "   {'transaction-id': 2523, 'amount': -671},\n",
       "   {'transaction-id': 2628, 'amount': -726},\n",
       "   {'transaction-id': 2642, 'amount': -768},\n",
       "   {'transaction-id': 2948, 'amount': -681},\n",
       "   {'transaction-id': 3388, 'amount': -862},\n",
       "   {'transaction-id': 3604, 'amount': -920},\n",
       "   {'transaction-id': 3732, 'amount': -736},\n",
       "   {'transaction-id': 3981, 'amount': -877},\n",
       "   {'transaction-id': 4048, 'amount': -917},\n",
       "   {'transaction-id': 4173, 'amount': -648},\n",
       "   {'transaction-id': 4428, 'amount': -790},\n",
       "   {'transaction-id': 5061, 'amount': -886},\n",
       "   {'transaction-id': 5344, 'amount': -641},\n",
       "   {'transaction-id': 5498, 'amount': -751},\n",
       "   {'transaction-id': 5730, 'amount': -728},\n",
       "   {'transaction-id': 5826, 'amount': -824},\n",
       "   {'transaction-id': 6109, 'amount': -610},\n",
       "   {'transaction-id': 6164, 'amount': -685},\n",
       "   {'transaction-id': 6340, 'amount': -690},\n",
       "   {'transaction-id': 6409, 'amount': -768},\n",
       "   {'transaction-id': 6436, 'amount': -693},\n",
       "   {'transaction-id': 6483, 'amount': -764},\n",
       "   {'transaction-id': 6886, 'amount': -654},\n",
       "   {'transaction-id': 7150, 'amount': -672},\n",
       "   {'transaction-id': 7187, 'amount': -840},\n",
       "   {'transaction-id': 7256, 'amount': -482},\n",
       "   {'transaction-id': 7350, 'amount': -735},\n",
       "   {'transaction-id': 7401, 'amount': -799},\n",
       "   {'transaction-id': 7488, 'amount': -800},\n",
       "   {'transaction-id': 7596, 'amount': -776},\n",
       "   {'transaction-id': 7698, 'amount': -718},\n",
       "   {'transaction-id': 7947, 'amount': -698},\n",
       "   {'transaction-id': 8020, 'amount': -725},\n",
       "   {'transaction-id': 8177, 'amount': -763},\n",
       "   {'transaction-id': 8365, 'amount': -689},\n",
       "   {'transaction-id': 8538, 'amount': -747},\n",
       "   {'transaction-id': 8623, 'amount': -618},\n",
       "   {'transaction-id': 8663, 'amount': -598},\n",
       "   {'transaction-id': 8792, 'amount': -732},\n",
       "   {'transaction-id': 9627, 'amount': -791},\n",
       "   {'transaction-id': 9864, 'amount': -810}]},\n",
       " {'id': 1,\n",
       "  'name': 'Quinn',\n",
       "  'transactions': [{'transaction-id': 349, 'amount': 0},\n",
       "   {'transaction-id': 2138, 'amount': -11},\n",
       "   {'transaction-id': 2297, 'amount': -7},\n",
       "   {'transaction-id': 3209, 'amount': -10},\n",
       "   {'transaction-id': 3264, 'amount': -6},\n",
       "   {'transaction-id': 3605, 'amount': -12},\n",
       "   {'transaction-id': 4127, 'amount': -11},\n",
       "   {'transaction-id': 4132, 'amount': -19},\n",
       "   {'transaction-id': 4306, 'amount': -14},\n",
       "   {'transaction-id': 4964, 'amount': -17},\n",
       "   {'transaction-id': 5551, 'amount': 0},\n",
       "   {'transaction-id': 5860, 'amount': -3},\n",
       "   {'transaction-id': 6192, 'amount': -6},\n",
       "   {'transaction-id': 6287, 'amount': -16},\n",
       "   {'transaction-id': 6971, 'amount': -1},\n",
       "   {'transaction-id': 8096, 'amount': -12},\n",
       "   {'transaction-id': 8308, 'amount': -13},\n",
       "   {'transaction-id': 9025, 'amount': -7}]},\n",
       " {'id': 2,\n",
       "  'name': 'Edith',\n",
       "  'transactions': [{'transaction-id': 578, 'amount': 56},\n",
       "   {'transaction-id': 1181, 'amount': -13},\n",
       "   {'transaction-id': 1227, 'amount': 25},\n",
       "   {'transaction-id': 1302, 'amount': 25},\n",
       "   {'transaction-id': 2105, 'amount': 74},\n",
       "   {'transaction-id': 2668, 'amount': 44},\n",
       "   {'transaction-id': 2722, 'amount': -15},\n",
       "   {'transaction-id': 3456, 'amount': 7},\n",
       "   {'transaction-id': 3579, 'amount': 17},\n",
       "   {'transaction-id': 3844, 'amount': -33},\n",
       "   {'transaction-id': 3989, 'amount': 48},\n",
       "   {'transaction-id': 4828, 'amount': 15},\n",
       "   {'transaction-id': 5275, 'amount': 19},\n",
       "   {'transaction-id': 7389, 'amount': 36},\n",
       "   {'transaction-id': 8506, 'amount': 75},\n",
       "   {'transaction-id': 8944, 'amount': 9},\n",
       "   {'transaction-id': 9255, 'amount': 11}]})"
      ]
     },
     "execution_count": 1,
     "metadata": {},
     "output_type": "execute_result"
    }
   ],
   "source": [
    "import json\n",
    "js = lines.map(json.loads)\n",
    "# take: inspect first few elements\n",
    "js.take(3)"
   ]
  },
  {
   "cell_type": "markdown",
   "metadata": {},
   "source": [
    "### Basic Queries"
   ]
  },
  {
   "cell_type": "markdown",
   "metadata": {},
   "source": [
    "Once we parse our JSON data into proper Python objects (`dict`s, `list`s, etc.) we can perform more interesting queries by creating small Python functions to run on our data."
   ]
  },
  {
   "cell_type": "code",
   "execution_count": 11,
   "metadata": {
    "execution": {
     "iopub.execute_input": "2020-11-09T19:19:19.811958Z",
     "iopub.status.busy": "2020-11-09T19:19:19.811432Z",
     "iopub.status.idle": "2020-11-09T19:19:19.848817Z",
     "shell.execute_reply": "2020-11-09T19:19:19.849472Z"
    }
   },
   "outputs": [
    {
     "data": {
      "text/plain": [
       "({'id': 61,\n",
       "  'name': 'Alice',\n",
       "  'transactions': [{'transaction-id': 232, 'amount': -2199},\n",
       "   {'transaction-id': 619, 'amount': -2681},\n",
       "   {'transaction-id': 696, 'amount': -2537},\n",
       "   {'transaction-id': 866, 'amount': -2621},\n",
       "   {'transaction-id': 903, 'amount': -2042},\n",
       "   {'transaction-id': 1031, 'amount': -2784},\n",
       "   {'transaction-id': 1086, 'amount': -3101},\n",
       "   {'transaction-id': 2502, 'amount': -2485},\n",
       "   {'transaction-id': 2866, 'amount': -2532},\n",
       "   {'transaction-id': 3225, 'amount': -2478},\n",
       "   {'transaction-id': 3705, 'amount': -2368},\n",
       "   {'transaction-id': 3725, 'amount': -2753},\n",
       "   {'transaction-id': 3813, 'amount': -2698},\n",
       "   {'transaction-id': 3817, 'amount': -2244},\n",
       "   {'transaction-id': 4476, 'amount': -3024},\n",
       "   {'transaction-id': 4561, 'amount': -2474},\n",
       "   {'transaction-id': 4707, 'amount': -2091},\n",
       "   {'transaction-id': 4847, 'amount': -2664},\n",
       "   {'transaction-id': 4946, 'amount': -2426},\n",
       "   {'transaction-id': 5356, 'amount': -2701},\n",
       "   {'transaction-id': 5582, 'amount': -2186},\n",
       "   {'transaction-id': 6020, 'amount': -2466},\n",
       "   {'transaction-id': 7630, 'amount': -2427},\n",
       "   {'transaction-id': 8514, 'amount': -2312},\n",
       "   {'transaction-id': 8796, 'amount': -2612},\n",
       "   {'transaction-id': 8832, 'amount': -2762},\n",
       "   {'transaction-id': 9109, 'amount': -2500},\n",
       "   {'transaction-id': 9494, 'amount': -2144},\n",
       "   {'transaction-id': 9675, 'amount': -2706},\n",
       "   {'transaction-id': 9744, 'amount': -2534}]},\n",
       " {'id': 70,\n",
       "  'name': 'Alice',\n",
       "  'transactions': [{'transaction-id': 166, 'amount': 710},\n",
       "   {'transaction-id': 181, 'amount': 592},\n",
       "   {'transaction-id': 353, 'amount': 655},\n",
       "   {'transaction-id': 689, 'amount': 651},\n",
       "   {'transaction-id': 725, 'amount': 660},\n",
       "   {'transaction-id': 889, 'amount': 645},\n",
       "   {'transaction-id': 1705, 'amount': 651},\n",
       "   {'transaction-id': 1902, 'amount': 679},\n",
       "   {'transaction-id': 2102, 'amount': 682},\n",
       "   {'transaction-id': 2256, 'amount': 660},\n",
       "   {'transaction-id': 2271, 'amount': 651},\n",
       "   {'transaction-id': 2292, 'amount': 658},\n",
       "   {'transaction-id': 2299, 'amount': 632},\n",
       "   {'transaction-id': 2465, 'amount': 701},\n",
       "   {'transaction-id': 3008, 'amount': 701},\n",
       "   {'transaction-id': 3537, 'amount': 715},\n",
       "   {'transaction-id': 3936, 'amount': 613},\n",
       "   {'transaction-id': 3963, 'amount': 641},\n",
       "   {'transaction-id': 4108, 'amount': 622},\n",
       "   {'transaction-id': 4599, 'amount': 671},\n",
       "   {'transaction-id': 4629, 'amount': 699},\n",
       "   {'transaction-id': 5099, 'amount': 685},\n",
       "   {'transaction-id': 5248, 'amount': 627},\n",
       "   {'transaction-id': 5410, 'amount': 663},\n",
       "   {'transaction-id': 5455, 'amount': 675},\n",
       "   {'transaction-id': 5510, 'amount': 717},\n",
       "   {'transaction-id': 5597, 'amount': 636},\n",
       "   {'transaction-id': 5656, 'amount': 677},\n",
       "   {'transaction-id': 5895, 'amount': 669},\n",
       "   {'transaction-id': 6394, 'amount': 642},\n",
       "   {'transaction-id': 6670, 'amount': 636},\n",
       "   {'transaction-id': 6927, 'amount': 674},\n",
       "   {'transaction-id': 7420, 'amount': 723},\n",
       "   {'transaction-id': 8035, 'amount': 663},\n",
       "   {'transaction-id': 8132, 'amount': 721},\n",
       "   {'transaction-id': 8343, 'amount': 616},\n",
       "   {'transaction-id': 8499, 'amount': 716},\n",
       "   {'transaction-id': 8840, 'amount': 683},\n",
       "   {'transaction-id': 8971, 'amount': 635},\n",
       "   {'transaction-id': 9226, 'amount': 623},\n",
       "   {'transaction-id': 9233, 'amount': 719},\n",
       "   {'transaction-id': 9355, 'amount': 651},\n",
       "   {'transaction-id': 9826, 'amount': 621},\n",
       "   {'transaction-id': 9835, 'amount': 641},\n",
       "   {'transaction-id': 9945, 'amount': 696},\n",
       "   {'transaction-id': 9974, 'amount': 637}]},\n",
       " {'id': 77,\n",
       "  'name': 'Alice',\n",
       "  'transactions': [{'transaction-id': 735, 'amount': 1727},\n",
       "   {'transaction-id': 833, 'amount': 1774},\n",
       "   {'transaction-id': 989, 'amount': 1636},\n",
       "   {'transaction-id': 1022, 'amount': 1673},\n",
       "   {'transaction-id': 1194, 'amount': 1858},\n",
       "   {'transaction-id': 1739, 'amount': 1629},\n",
       "   {'transaction-id': 2128, 'amount': 1721},\n",
       "   {'transaction-id': 2537, 'amount': 1802},\n",
       "   {'transaction-id': 2605, 'amount': 1744},\n",
       "   {'transaction-id': 3186, 'amount': 1855},\n",
       "   {'transaction-id': 3688, 'amount': 1717},\n",
       "   {'transaction-id': 4066, 'amount': 1805},\n",
       "   {'transaction-id': 4438, 'amount': 1765},\n",
       "   {'transaction-id': 5035, 'amount': 1750},\n",
       "   {'transaction-id': 5792, 'amount': 1748},\n",
       "   {'transaction-id': 5892, 'amount': 1687},\n",
       "   {'transaction-id': 6231, 'amount': 1839},\n",
       "   {'transaction-id': 6313, 'amount': 1751},\n",
       "   {'transaction-id': 6386, 'amount': 1699},\n",
       "   {'transaction-id': 6982, 'amount': 1821},\n",
       "   {'transaction-id': 7326, 'amount': 1848},\n",
       "   {'transaction-id': 7347, 'amount': 1817},\n",
       "   {'transaction-id': 7546, 'amount': 1574},\n",
       "   {'transaction-id': 7892, 'amount': 1724},\n",
       "   {'transaction-id': 8414, 'amount': 1855},\n",
       "   {'transaction-id': 8857, 'amount': 2059},\n",
       "   {'transaction-id': 9179, 'amount': 1917},\n",
       "   {'transaction-id': 9221, 'amount': 1740},\n",
       "   {'transaction-id': 9704, 'amount': 1740},\n",
       "   {'transaction-id': 9734, 'amount': 1633}]},\n",
       " {'id': 78,\n",
       "  'name': 'Alice',\n",
       "  'transactions': [{'transaction-id': 94, 'amount': 2747},\n",
       "   {'transaction-id': 925, 'amount': 2588},\n",
       "   {'transaction-id': 1156, 'amount': 2588}]},\n",
       " {'id': 81,\n",
       "  'name': 'Alice',\n",
       "  'transactions': [{'transaction-id': 39, 'amount': 697},\n",
       "   {'transaction-id': 48, 'amount': 768},\n",
       "   {'transaction-id': 133, 'amount': 670},\n",
       "   {'transaction-id': 333, 'amount': 719},\n",
       "   {'transaction-id': 345, 'amount': 658},\n",
       "   {'transaction-id': 377, 'amount': 605},\n",
       "   {'transaction-id': 496, 'amount': 686},\n",
       "   {'transaction-id': 797, 'amount': 670},\n",
       "   {'transaction-id': 840, 'amount': 717},\n",
       "   {'transaction-id': 872, 'amount': 582},\n",
       "   {'transaction-id': 930, 'amount': 636},\n",
       "   {'transaction-id': 1053, 'amount': 690},\n",
       "   {'transaction-id': 1341, 'amount': 784},\n",
       "   {'transaction-id': 1357, 'amount': 763},\n",
       "   {'transaction-id': 1402, 'amount': 752},\n",
       "   {'transaction-id': 1439, 'amount': 590},\n",
       "   {'transaction-id': 1694, 'amount': 694},\n",
       "   {'transaction-id': 1704, 'amount': 642},\n",
       "   {'transaction-id': 1742, 'amount': 723},\n",
       "   {'transaction-id': 1750, 'amount': 637},\n",
       "   {'transaction-id': 1796, 'amount': 654},\n",
       "   {'transaction-id': 1858, 'amount': 735},\n",
       "   {'transaction-id': 1925, 'amount': 854},\n",
       "   {'transaction-id': 1929, 'amount': 761},\n",
       "   {'transaction-id': 2034, 'amount': 644},\n",
       "   {'transaction-id': 2194, 'amount': 744},\n",
       "   {'transaction-id': 2308, 'amount': 631},\n",
       "   {'transaction-id': 2328, 'amount': 710},\n",
       "   {'transaction-id': 2333, 'amount': 728},\n",
       "   {'transaction-id': 2501, 'amount': 479},\n",
       "   {'transaction-id': 2532, 'amount': 738},\n",
       "   {'transaction-id': 2569, 'amount': 780},\n",
       "   {'transaction-id': 2733, 'amount': 668},\n",
       "   {'transaction-id': 2745, 'amount': 626},\n",
       "   {'transaction-id': 2885, 'amount': 793},\n",
       "   {'transaction-id': 2887, 'amount': 594},\n",
       "   {'transaction-id': 2965, 'amount': 673},\n",
       "   {'transaction-id': 3101, 'amount': 628},\n",
       "   {'transaction-id': 3112, 'amount': 673},\n",
       "   {'transaction-id': 3173, 'amount': 703},\n",
       "   {'transaction-id': 3200, 'amount': 772},\n",
       "   {'transaction-id': 3214, 'amount': 691},\n",
       "   {'transaction-id': 3295, 'amount': 638},\n",
       "   {'transaction-id': 3318, 'amount': 689},\n",
       "   {'transaction-id': 3328, 'amount': 697},\n",
       "   {'transaction-id': 3344, 'amount': 715},\n",
       "   {'transaction-id': 3400, 'amount': 812},\n",
       "   {'transaction-id': 3421, 'amount': 615},\n",
       "   {'transaction-id': 3494, 'amount': 730},\n",
       "   {'transaction-id': 3523, 'amount': 725},\n",
       "   {'transaction-id': 3578, 'amount': 672},\n",
       "   {'transaction-id': 3622, 'amount': 795},\n",
       "   {'transaction-id': 3789, 'amount': 716},\n",
       "   {'transaction-id': 3810, 'amount': 630},\n",
       "   {'transaction-id': 3833, 'amount': 682},\n",
       "   {'transaction-id': 3840, 'amount': 632},\n",
       "   {'transaction-id': 3871, 'amount': 755},\n",
       "   {'transaction-id': 3873, 'amount': 639},\n",
       "   {'transaction-id': 3918, 'amount': 519},\n",
       "   {'transaction-id': 3969, 'amount': 657},\n",
       "   {'transaction-id': 4061, 'amount': 642},\n",
       "   {'transaction-id': 4113, 'amount': 598},\n",
       "   {'transaction-id': 4282, 'amount': 650},\n",
       "   {'transaction-id': 4295, 'amount': 751},\n",
       "   {'transaction-id': 4327, 'amount': 777},\n",
       "   {'transaction-id': 4404, 'amount': 550},\n",
       "   {'transaction-id': 4775, 'amount': 639},\n",
       "   {'transaction-id': 4881, 'amount': 564},\n",
       "   {'transaction-id': 4958, 'amount': 699},\n",
       "   {'transaction-id': 4987, 'amount': 613},\n",
       "   {'transaction-id': 5028, 'amount': 785},\n",
       "   {'transaction-id': 5121, 'amount': 696},\n",
       "   {'transaction-id': 5190, 'amount': 701},\n",
       "   {'transaction-id': 5246, 'amount': 731},\n",
       "   {'transaction-id': 5359, 'amount': 665},\n",
       "   {'transaction-id': 5716, 'amount': 687},\n",
       "   {'transaction-id': 5720, 'amount': 574},\n",
       "   {'transaction-id': 5883, 'amount': 641},\n",
       "   {'transaction-id': 5894, 'amount': 701},\n",
       "   {'transaction-id': 6063, 'amount': 627},\n",
       "   {'transaction-id': 6083, 'amount': 618},\n",
       "   {'transaction-id': 6118, 'amount': 573},\n",
       "   {'transaction-id': 6256, 'amount': 682},\n",
       "   {'transaction-id': 6258, 'amount': 645},\n",
       "   {'transaction-id': 6277, 'amount': 634},\n",
       "   {'transaction-id': 6596, 'amount': 666},\n",
       "   {'transaction-id': 6792, 'amount': 643},\n",
       "   {'transaction-id': 6813, 'amount': 640},\n",
       "   {'transaction-id': 6932, 'amount': 708},\n",
       "   {'transaction-id': 6989, 'amount': 629},\n",
       "   {'transaction-id': 7162, 'amount': 661},\n",
       "   {'transaction-id': 7224, 'amount': 587},\n",
       "   {'transaction-id': 7236, 'amount': 741},\n",
       "   {'transaction-id': 7239, 'amount': 618},\n",
       "   {'transaction-id': 7263, 'amount': 654},\n",
       "   {'transaction-id': 7453, 'amount': 650},\n",
       "   {'transaction-id': 7470, 'amount': 665},\n",
       "   {'transaction-id': 7475, 'amount': 824},\n",
       "   {'transaction-id': 7638, 'amount': 702},\n",
       "   {'transaction-id': 7691, 'amount': 752},\n",
       "   {'transaction-id': 7695, 'amount': 667},\n",
       "   {'transaction-id': 7726, 'amount': 595},\n",
       "   {'transaction-id': 7910, 'amount': 748},\n",
       "   {'transaction-id': 8090, 'amount': 648},\n",
       "   {'transaction-id': 8105, 'amount': 698},\n",
       "   {'transaction-id': 8150, 'amount': 765},\n",
       "   {'transaction-id': 8260, 'amount': 738},\n",
       "   {'transaction-id': 8311, 'amount': 734},\n",
       "   {'transaction-id': 8317, 'amount': 649},\n",
       "   {'transaction-id': 8327, 'amount': 768},\n",
       "   {'transaction-id': 8354, 'amount': 764},\n",
       "   {'transaction-id': 8438, 'amount': 713},\n",
       "   {'transaction-id': 8507, 'amount': 801},\n",
       "   {'transaction-id': 8602, 'amount': 721},\n",
       "   {'transaction-id': 8824, 'amount': 615},\n",
       "   {'transaction-id': 8853, 'amount': 734},\n",
       "   {'transaction-id': 8880, 'amount': 623},\n",
       "   {'transaction-id': 8941, 'amount': 668},\n",
       "   {'transaction-id': 9263, 'amount': 644},\n",
       "   {'transaction-id': 9279, 'amount': 689},\n",
       "   {'transaction-id': 9312, 'amount': 669},\n",
       "   {'transaction-id': 9336, 'amount': 693},\n",
       "   {'transaction-id': 9379, 'amount': 703},\n",
       "   {'transaction-id': 9389, 'amount': 814},\n",
       "   {'transaction-id': 9404, 'amount': 608},\n",
       "   {'transaction-id': 9466, 'amount': 627},\n",
       "   {'transaction-id': 9513, 'amount': 696},\n",
       "   {'transaction-id': 9579, 'amount': 571},\n",
       "   {'transaction-id': 9769, 'amount': 690},\n",
       "   {'transaction-id': 9858, 'amount': 636},\n",
       "   {'transaction-id': 9870, 'amount': 699}]})"
      ]
     },
     "execution_count": 1,
     "metadata": {},
     "output_type": "execute_result"
    }
   ],
   "source": [
    "# filter: keep only some elements of the sequence\n",
    "js.filter(lambda record: record['name'] == 'Alice').take(5)"
   ]
  },
  {
   "cell_type": "code",
   "execution_count": 12,
   "metadata": {
    "execution": {
     "iopub.execute_input": "2020-11-09T19:19:19.856335Z",
     "iopub.status.busy": "2020-11-09T19:19:19.854736Z",
     "iopub.status.idle": "2020-11-09T19:19:19.874087Z",
     "shell.execute_reply": "2020-11-09T19:19:19.874824Z"
    }
   },
   "outputs": [
    {
     "data": {
      "text/plain": [
       "({'name': 'Alice', 'count': 30},\n",
       " {'name': 'Alice', 'count': 46},\n",
       " {'name': 'Alice', 'count': 30},\n",
       " {'name': 'Alice', 'count': 3},\n",
       " {'name': 'Alice', 'count': 131})"
      ]
     },
     "execution_count": 1,
     "metadata": {},
     "output_type": "execute_result"
    }
   ],
   "source": [
    "def count_transactions(d):\n",
    "    return {'name': d['name'], 'count': len(d['transactions'])}\n",
    "\n",
    "# map: apply a function to each element\n",
    "(js.filter(lambda record: record['name'] == 'Alice')\n",
    "   .map(count_transactions)\n",
    "   .take(5))"
   ]
  },
  {
   "cell_type": "code",
   "execution_count": 13,
   "metadata": {
    "execution": {
     "iopub.execute_input": "2020-11-09T19:19:19.878787Z",
     "iopub.status.busy": "2020-11-09T19:19:19.878181Z",
     "iopub.status.idle": "2020-11-09T19:19:19.895997Z",
     "shell.execute_reply": "2020-11-09T19:19:19.895267Z"
    }
   },
   "outputs": [
    {
     "data": {
      "text/plain": [
       "(30, 46, 30, 3, 131)"
      ]
     },
     "execution_count": 1,
     "metadata": {},
     "output_type": "execute_result"
    }
   ],
   "source": [
    "# pluck: select a field, as from a dictionary, element[field]\n",
    "(js.filter(lambda record: record['name'] == 'Alice')\n",
    "   .map(count_transactions)\n",
    "   .pluck('count')\n",
    "   .take(5))"
   ]
  },
  {
   "cell_type": "code",
   "execution_count": 14,
   "metadata": {
    "execution": {
     "iopub.execute_input": "2020-11-09T19:19:19.905531Z",
     "iopub.status.busy": "2020-11-09T19:19:19.904192Z",
     "iopub.status.idle": "2020-11-09T19:19:20.414318Z",
     "shell.execute_reply": "2020-11-09T19:19:20.414878Z"
    }
   },
   "outputs": [
    {
     "data": {
      "text/plain": [
       "42.391117478510026"
      ]
     },
     "execution_count": 1,
     "metadata": {},
     "output_type": "execute_result"
    }
   ],
   "source": [
    "# Average number of transactions for all of the Alice entries\n",
    "(js.filter(lambda record: record['name'] == 'Alice')\n",
    "   .map(count_transactions)\n",
    "   .pluck('count')\n",
    "   .mean()\n",
    "   .compute())"
   ]
  },
  {
   "cell_type": "markdown",
   "metadata": {},
   "source": [
    "### Use `flatten` to de-nest"
   ]
  },
  {
   "cell_type": "markdown",
   "metadata": {},
   "source": [
    "In the example below we see the use of `.flatten()` to flatten results.  We compute the average amount for all transactions for all Alices."
   ]
  },
  {
   "cell_type": "code",
   "execution_count": 15,
   "metadata": {
    "execution": {
     "iopub.execute_input": "2020-11-09T19:19:20.419492Z",
     "iopub.status.busy": "2020-11-09T19:19:20.418960Z",
     "iopub.status.idle": "2020-11-09T19:19:20.448239Z",
     "shell.execute_reply": "2020-11-09T19:19:20.448848Z"
    }
   },
   "outputs": [
    {
     "data": {
      "text/plain": [
       "([{'transaction-id': 232, 'amount': -2199},\n",
       "  {'transaction-id': 619, 'amount': -2681},\n",
       "  {'transaction-id': 696, 'amount': -2537},\n",
       "  {'transaction-id': 866, 'amount': -2621},\n",
       "  {'transaction-id': 903, 'amount': -2042},\n",
       "  {'transaction-id': 1031, 'amount': -2784},\n",
       "  {'transaction-id': 1086, 'amount': -3101},\n",
       "  {'transaction-id': 2502, 'amount': -2485},\n",
       "  {'transaction-id': 2866, 'amount': -2532},\n",
       "  {'transaction-id': 3225, 'amount': -2478},\n",
       "  {'transaction-id': 3705, 'amount': -2368},\n",
       "  {'transaction-id': 3725, 'amount': -2753},\n",
       "  {'transaction-id': 3813, 'amount': -2698},\n",
       "  {'transaction-id': 3817, 'amount': -2244},\n",
       "  {'transaction-id': 4476, 'amount': -3024},\n",
       "  {'transaction-id': 4561, 'amount': -2474},\n",
       "  {'transaction-id': 4707, 'amount': -2091},\n",
       "  {'transaction-id': 4847, 'amount': -2664},\n",
       "  {'transaction-id': 4946, 'amount': -2426},\n",
       "  {'transaction-id': 5356, 'amount': -2701},\n",
       "  {'transaction-id': 5582, 'amount': -2186},\n",
       "  {'transaction-id': 6020, 'amount': -2466},\n",
       "  {'transaction-id': 7630, 'amount': -2427},\n",
       "  {'transaction-id': 8514, 'amount': -2312},\n",
       "  {'transaction-id': 8796, 'amount': -2612},\n",
       "  {'transaction-id': 8832, 'amount': -2762},\n",
       "  {'transaction-id': 9109, 'amount': -2500},\n",
       "  {'transaction-id': 9494, 'amount': -2144},\n",
       "  {'transaction-id': 9675, 'amount': -2706},\n",
       "  {'transaction-id': 9744, 'amount': -2534}],\n",
       " [{'transaction-id': 166, 'amount': 710},\n",
       "  {'transaction-id': 181, 'amount': 592},\n",
       "  {'transaction-id': 353, 'amount': 655},\n",
       "  {'transaction-id': 689, 'amount': 651},\n",
       "  {'transaction-id': 725, 'amount': 660},\n",
       "  {'transaction-id': 889, 'amount': 645},\n",
       "  {'transaction-id': 1705, 'amount': 651},\n",
       "  {'transaction-id': 1902, 'amount': 679},\n",
       "  {'transaction-id': 2102, 'amount': 682},\n",
       "  {'transaction-id': 2256, 'amount': 660},\n",
       "  {'transaction-id': 2271, 'amount': 651},\n",
       "  {'transaction-id': 2292, 'amount': 658},\n",
       "  {'transaction-id': 2299, 'amount': 632},\n",
       "  {'transaction-id': 2465, 'amount': 701},\n",
       "  {'transaction-id': 3008, 'amount': 701},\n",
       "  {'transaction-id': 3537, 'amount': 715},\n",
       "  {'transaction-id': 3936, 'amount': 613},\n",
       "  {'transaction-id': 3963, 'amount': 641},\n",
       "  {'transaction-id': 4108, 'amount': 622},\n",
       "  {'transaction-id': 4599, 'amount': 671},\n",
       "  {'transaction-id': 4629, 'amount': 699},\n",
       "  {'transaction-id': 5099, 'amount': 685},\n",
       "  {'transaction-id': 5248, 'amount': 627},\n",
       "  {'transaction-id': 5410, 'amount': 663},\n",
       "  {'transaction-id': 5455, 'amount': 675},\n",
       "  {'transaction-id': 5510, 'amount': 717},\n",
       "  {'transaction-id': 5597, 'amount': 636},\n",
       "  {'transaction-id': 5656, 'amount': 677},\n",
       "  {'transaction-id': 5895, 'amount': 669},\n",
       "  {'transaction-id': 6394, 'amount': 642},\n",
       "  {'transaction-id': 6670, 'amount': 636},\n",
       "  {'transaction-id': 6927, 'amount': 674},\n",
       "  {'transaction-id': 7420, 'amount': 723},\n",
       "  {'transaction-id': 8035, 'amount': 663},\n",
       "  {'transaction-id': 8132, 'amount': 721},\n",
       "  {'transaction-id': 8343, 'amount': 616},\n",
       "  {'transaction-id': 8499, 'amount': 716},\n",
       "  {'transaction-id': 8840, 'amount': 683},\n",
       "  {'transaction-id': 8971, 'amount': 635},\n",
       "  {'transaction-id': 9226, 'amount': 623},\n",
       "  {'transaction-id': 9233, 'amount': 719},\n",
       "  {'transaction-id': 9355, 'amount': 651},\n",
       "  {'transaction-id': 9826, 'amount': 621},\n",
       "  {'transaction-id': 9835, 'amount': 641},\n",
       "  {'transaction-id': 9945, 'amount': 696},\n",
       "  {'transaction-id': 9974, 'amount': 637}],\n",
       " [{'transaction-id': 735, 'amount': 1727},\n",
       "  {'transaction-id': 833, 'amount': 1774},\n",
       "  {'transaction-id': 989, 'amount': 1636},\n",
       "  {'transaction-id': 1022, 'amount': 1673},\n",
       "  {'transaction-id': 1194, 'amount': 1858},\n",
       "  {'transaction-id': 1739, 'amount': 1629},\n",
       "  {'transaction-id': 2128, 'amount': 1721},\n",
       "  {'transaction-id': 2537, 'amount': 1802},\n",
       "  {'transaction-id': 2605, 'amount': 1744},\n",
       "  {'transaction-id': 3186, 'amount': 1855},\n",
       "  {'transaction-id': 3688, 'amount': 1717},\n",
       "  {'transaction-id': 4066, 'amount': 1805},\n",
       "  {'transaction-id': 4438, 'amount': 1765},\n",
       "  {'transaction-id': 5035, 'amount': 1750},\n",
       "  {'transaction-id': 5792, 'amount': 1748},\n",
       "  {'transaction-id': 5892, 'amount': 1687},\n",
       "  {'transaction-id': 6231, 'amount': 1839},\n",
       "  {'transaction-id': 6313, 'amount': 1751},\n",
       "  {'transaction-id': 6386, 'amount': 1699},\n",
       "  {'transaction-id': 6982, 'amount': 1821},\n",
       "  {'transaction-id': 7326, 'amount': 1848},\n",
       "  {'transaction-id': 7347, 'amount': 1817},\n",
       "  {'transaction-id': 7546, 'amount': 1574},\n",
       "  {'transaction-id': 7892, 'amount': 1724},\n",
       "  {'transaction-id': 8414, 'amount': 1855},\n",
       "  {'transaction-id': 8857, 'amount': 2059},\n",
       "  {'transaction-id': 9179, 'amount': 1917},\n",
       "  {'transaction-id': 9221, 'amount': 1740},\n",
       "  {'transaction-id': 9704, 'amount': 1740},\n",
       "  {'transaction-id': 9734, 'amount': 1633}])"
      ]
     },
     "execution_count": 1,
     "metadata": {},
     "output_type": "execute_result"
    }
   ],
   "source": [
    "js.filter(lambda record: record['name'] == 'Alice').pluck('transactions').take(3)"
   ]
  },
  {
   "cell_type": "code",
   "execution_count": 16,
   "metadata": {
    "execution": {
     "iopub.execute_input": "2020-11-09T19:19:20.455679Z",
     "iopub.status.busy": "2020-11-09T19:19:20.454537Z",
     "iopub.status.idle": "2020-11-09T19:19:20.475388Z",
     "shell.execute_reply": "2020-11-09T19:19:20.475952Z"
    }
   },
   "outputs": [
    {
     "data": {
      "text/plain": [
       "({'transaction-id': 232, 'amount': -2199},\n",
       " {'transaction-id': 619, 'amount': -2681},\n",
       " {'transaction-id': 696, 'amount': -2537})"
      ]
     },
     "execution_count": 1,
     "metadata": {},
     "output_type": "execute_result"
    }
   ],
   "source": [
    "(js.filter(lambda record: record['name'] == 'Alice')\n",
    "   .pluck('transactions')\n",
    "   .flatten()\n",
    "   .take(3))"
   ]
  },
  {
   "cell_type": "code",
   "execution_count": 17,
   "metadata": {
    "execution": {
     "iopub.execute_input": "2020-11-09T19:19:20.481563Z",
     "iopub.status.busy": "2020-11-09T19:19:20.481003Z",
     "iopub.status.idle": "2020-11-09T19:19:20.498417Z",
     "shell.execute_reply": "2020-11-09T19:19:20.497820Z"
    }
   },
   "outputs": [
    {
     "data": {
      "text/plain": [
       "(-2199, -2681, -2537)"
      ]
     },
     "execution_count": 1,
     "metadata": {},
     "output_type": "execute_result"
    }
   ],
   "source": [
    "(js.filter(lambda record: record['name'] == 'Alice')\n",
    "   .pluck('transactions')\n",
    "   .flatten()\n",
    "   .pluck('amount')\n",
    "   .take(3))"
   ]
  },
  {
   "cell_type": "code",
   "execution_count": 18,
   "metadata": {
    "execution": {
     "iopub.execute_input": "2020-11-09T19:19:20.502863Z",
     "iopub.status.busy": "2020-11-09T19:19:20.502323Z",
     "iopub.status.idle": "2020-11-09T19:19:20.953867Z",
     "shell.execute_reply": "2020-11-09T19:19:20.953223Z"
    }
   },
   "outputs": [
    {
     "data": {
      "text/plain": [
       "1157.1420122342763"
      ]
     },
     "execution_count": 1,
     "metadata": {},
     "output_type": "execute_result"
    }
   ],
   "source": [
    "(js.filter(lambda record: record['name'] == 'Alice')\n",
    "   .pluck('transactions')\n",
    "   .flatten()\n",
    "   .pluck('amount')\n",
    "   .mean()\n",
    "   .compute())"
   ]
  },
  {
   "cell_type": "markdown",
   "metadata": {},
   "source": [
    "### Groupby and Foldby"
   ]
  },
  {
   "cell_type": "markdown",
   "metadata": {},
   "source": [
    "Often we want to group data by some function or key.  We can do this either with the `.groupby` method, which is straightforward but forces a full shuffle of the data (expensive) or with the harder-to-use but faster `.foldby` method, which does a streaming combined groupby and reduction.\n",
    "\n",
    "*  `groupby`:  Shuffles data so that all items with the same key are in the same key-value pair\n",
    "*  `foldby`:  Walks through the data accumulating a result per key\n",
    "\n",
    "*Note: the full groupby is particularly bad. In actual workloads you would do well to use `foldby` or switch to `DataFrame`s if possible.*"
   ]
  },
  {
   "cell_type": "markdown",
   "metadata": {},
   "source": [
    "### `groupby`"
   ]
  },
  {
   "cell_type": "markdown",
   "metadata": {},
   "source": [
    "Groupby collects items in your collection so that all items with the same value under some function are collected together into a key-value pair."
   ]
  },
  {
   "cell_type": "code",
   "execution_count": 19,
   "metadata": {
    "execution": {
     "iopub.execute_input": "2020-11-09T19:19:20.963018Z",
     "iopub.status.busy": "2020-11-09T19:19:20.956141Z",
     "iopub.status.idle": "2020-11-09T19:19:21.053767Z",
     "shell.execute_reply": "2020-11-09T19:19:21.052556Z"
    }
   },
   "outputs": [
    {
     "data": {
      "text/plain": [
       "[(7, ['Charlie']), (3, ['Bob', 'Dan']), (5, ['Alice', 'Edith', 'Frank'])]"
      ]
     },
     "execution_count": 1,
     "metadata": {},
     "output_type": "execute_result"
    }
   ],
   "source": [
    "b = db.from_sequence(['Alice', 'Bob', 'Charlie', 'Dan', 'Edith', 'Frank'])\n",
    "b.groupby(len).compute()  # names grouped by length"
   ]
  },
  {
   "cell_type": "code",
   "execution_count": 20,
   "metadata": {
    "execution": {
     "iopub.execute_input": "2020-11-09T19:19:21.070990Z",
     "iopub.status.busy": "2020-11-09T19:19:21.061735Z",
     "iopub.status.idle": "2020-11-09T19:19:21.217289Z",
     "shell.execute_reply": "2020-11-09T19:19:21.217849Z"
    }
   },
   "outputs": [
    {
     "data": {
      "text/plain": [
       "[(0, [0, 2, 4, 6, 8]), (1, [1, 3, 5, 7, 9])]"
      ]
     },
     "execution_count": 1,
     "metadata": {},
     "output_type": "execute_result"
    }
   ],
   "source": [
    "b = db.from_sequence(list(range(10)))\n",
    "b.groupby(lambda x: x % 2).compute()"
   ]
  },
  {
   "cell_type": "code",
   "execution_count": 21,
   "metadata": {
    "execution": {
     "iopub.execute_input": "2020-11-09T19:19:21.228495Z",
     "iopub.status.busy": "2020-11-09T19:19:21.227773Z",
     "iopub.status.idle": "2020-11-09T19:19:21.393002Z",
     "shell.execute_reply": "2020-11-09T19:19:21.392246Z"
    }
   },
   "outputs": [
    {
     "data": {
      "text/plain": [
       "[(0, 8), (1, 9)]"
      ]
     },
     "execution_count": 1,
     "metadata": {},
     "output_type": "execute_result"
    }
   ],
   "source": [
    "b.groupby(lambda x: x % 2).starmap(lambda k, v: (k, max(v))).compute()"
   ]
  },
  {
   "cell_type": "markdown",
   "metadata": {},
   "source": [
    "### `foldby`"
   ]
  },
  {
   "cell_type": "markdown",
   "metadata": {},
   "source": [
    "Foldby can be quite odd at first.  It is similar to the following functions from other libraries:\n",
    "\n",
    "*  [`toolz.reduceby`](http://toolz.readthedocs.io/en/latest/streaming-analytics.html#streaming-split-apply-combine)\n",
    "*  [`pyspark.RDD.combineByKey`](http://abshinn.github.io/python/apache-spark/2014/10/11/using-combinebykey-in-apache-spark/)\n",
    "\n",
    "When using `foldby` you provide \n",
    "\n",
    "1.  A key function on which to group elements\n",
    "2.  A binary operator such as you would pass to `reduce` that you use to perform reduction per each group\n",
    "3.  A combine binary operator that can combine the results of two `reduce` calls on different parts of your dataset.\n",
    "\n",
    "Your reduction must be associative.  It will happen in parallel in each of the partitions of your dataset.  Then all of these intermediate results will be combined by the `combine` binary operator."
   ]
  },
  {
   "cell_type": "code",
   "execution_count": 22,
   "metadata": {
    "execution": {
     "iopub.execute_input": "2020-11-09T19:19:21.400473Z",
     "iopub.status.busy": "2020-11-09T19:19:21.395324Z",
     "iopub.status.idle": "2020-11-09T19:19:21.444894Z",
     "shell.execute_reply": "2020-11-09T19:19:21.444106Z"
    }
   },
   "outputs": [
    {
     "data": {
      "text/plain": [
       "[(0, 8), (1, 9)]"
      ]
     },
     "execution_count": 1,
     "metadata": {},
     "output_type": "execute_result"
    }
   ],
   "source": [
    "is_even = lambda x: x % 2\n",
    "b.foldby(is_even, binop=max, combine=max).compute()"
   ]
  },
  {
   "cell_type": "markdown",
   "metadata": {},
   "source": [
    "### Example with account data"
   ]
  },
  {
   "cell_type": "markdown",
   "metadata": {},
   "source": [
    "We find the number of people with the same name."
   ]
  },
  {
   "cell_type": "code",
   "execution_count": 23,
   "metadata": {
    "execution": {
     "iopub.execute_input": "2020-11-09T19:19:21.455305Z",
     "iopub.status.busy": "2020-11-09T19:19:21.454767Z",
     "iopub.status.idle": "2020-11-09T19:19:28.222699Z",
     "shell.execute_reply": "2020-11-09T19:19:28.223154Z"
    }
   },
   "outputs": [
    {
     "name": "stdout",
     "output_type": "stream",
     "text": [
      "[('Alice', 167), ('Alice', 167), ('Alice', 168), ('Alice', 196), ('Bob', 105), ('Bob', 105), ('Bob', 106), ('Bob', 123), ('Charlie', 143), ('Charlie', 143), ('Charlie', 144), ('Charlie', 166), ('Dan', 72), ('Dan', 72), ('Dan', 72), ('Dan', 84), ('Edith', 96), ('Edith', 96), ('Edith', 96), ('Edith', 112), ('Frank', 94), ('Frank', 95), ('Frank', 96), ('Frank', 110), ('George', 84), ('George', 84), ('George', 84), ('George', 98), ('Hannah', 90), ('Hannah', 91), ('Hannah', 91), ('Hannah', 103), ('Ingrid', 60), ('Ingrid', 60), ('Ingrid', 60), ('Ingrid', 69), ('Jerry', 96), ('Jerry', 96), ('Jerry', 96), ('Jerry', 112), ('Kevin', 60), ('Kevin', 60), ('Kevin', 60), ('Kevin', 70), ('Laura', 102), ('Laura', 106), ('Laura', 106), ('Laura', 123), ('Michael', 168), ('Michael', 168), ('Michael', 168), ('Michael', 196), ('Norbert', 82), ('Norbert', 83), ('Norbert', 84), ('Norbert', 97), ('Oliver', 76), ('Oliver', 77), ('Oliver', 78), ('Oliver', 88), ('Patricia', 96), ('Patricia', 96), ('Patricia', 96), ('Patricia', 112), ('Quinn', 108), ('Quinn', 108), ('Quinn', 108), ('Quinn', 126), ('Ray', 167), ('Ray', 167), ('Ray', 168), ('Ray', 195), ('Sarah', 215), ('Sarah', 216), ('Sarah', 216), ('Sarah', 252), ('Tim', 156), ('Tim', 156), ('Tim', 156), ('Tim', 182), ('Ursula', 85), ('Ursula', 86), ('Ursula', 87), ('Ursula', 97), ('Victor', 99), ('Victor', 101), ('Victor', 107), ('Victor', 113), ('Wendy', 83), ('Wendy', 84), ('Wendy', 84), ('Wendy', 97), ('Xavier', 132), ('Xavier', 154), ('Xavier', 264), ('Yvonne', 142), ('Yvonne', 143), ('Yvonne', 143), ('Yvonne', 167), ('Zelda', 125), ('Zelda', 125), ('Zelda', 129), ('Zelda', 148)]\n",
      "CPU times: user 1.35 s, sys: 62.6 ms, total: 1.41 s\n",
      "Wall time: 6.75 s\n"
     ]
    }
   ],
   "source": [
    "%%time\n",
    "# Warning, this one takes a while...\n",
    "result = js.groupby(lambda item: item['name']).starmap(lambda k, v: (k, len(v))).compute()\n",
    "print(sorted(result))"
   ]
  },
  {
   "cell_type": "code",
   "execution_count": 24,
   "metadata": {
    "execution": {
     "iopub.execute_input": "2020-11-09T19:19:28.227345Z",
     "iopub.status.busy": "2020-11-09T19:19:28.225627Z",
     "iopub.status.idle": "2020-11-09T19:19:28.727295Z",
     "shell.execute_reply": "2020-11-09T19:19:28.726818Z"
    }
   },
   "outputs": [
    {
     "name": "stdout",
     "output_type": "stream",
     "text": [
      "[('Alice', 698), ('Bob', 439), ('Charlie', 596), ('Dan', 300), ('Edith', 400), ('Frank', 395), ('George', 350), ('Hannah', 375), ('Ingrid', 249), ('Jerry', 400), ('Kevin', 250), ('Laura', 437), ('Michael', 700), ('Norbert', 346), ('Oliver', 319), ('Patricia', 400), ('Quinn', 450), ('Ray', 697), ('Sarah', 899), ('Tim', 650), ('Ursula', 355), ('Victor', 420), ('Wendy', 348), ('Xavier', 550), ('Yvonne', 595), ('Zelda', 527)]\n",
      "CPU times: user 114 ms, sys: 14.6 ms, total: 128 ms\n",
      "Wall time: 495 ms\n"
     ]
    }
   ],
   "source": [
    "%%time\n",
    "# This one is comparatively fast and produces the same result.\n",
    "from operator import add\n",
    "def incr(tot, _):\n",
    "    return tot+1\n",
    "\n",
    "result = js.foldby(key='name', \n",
    "                   binop=incr, \n",
    "                   initial=0, \n",
    "                   combine=add, \n",
    "                   combine_initial=0).compute()\n",
    "print(sorted(result))"
   ]
  },
  {
   "cell_type": "markdown",
   "metadata": {},
   "source": [
    "### Exercise: compute total amount per name"
   ]
  },
  {
   "cell_type": "markdown",
   "metadata": {},
   "source": [
    "We want to groupby (or foldby) the `name` key, then add up the all of the amounts for each name.\n",
    "\n",
    "Steps\n",
    "\n",
    "1.  Create a small function that, given a dictionary like \n",
    "\n",
    "        {'name': 'Alice', 'transactions': [{'amount': 1, 'id': 123}, {'amount': 2, 'id': 456}]}\n",
    "        \n",
    "    produces the sum of the amounts, e.g. `3`\n",
    "    \n",
    "2.  Slightly change the binary operator of the `foldby` example above so that the binary operator doesn't count the number of entries, but instead accumulates the sum of the amounts."
   ]
  },
  {
   "cell_type": "code",
   "execution_count": 25,
   "metadata": {
    "execution": {
     "iopub.execute_input": "2020-11-09T19:19:28.732370Z",
     "iopub.status.busy": "2020-11-09T19:19:28.731803Z",
     "iopub.status.idle": "2020-11-09T19:19:28.735340Z",
     "shell.execute_reply": "2020-11-09T19:19:28.734879Z"
    }
   },
   "outputs": [],
   "source": [
    "# Your code here..."
   ]
  },
  {
   "cell_type": "markdown",
   "metadata": {},
   "source": [
    "## DataFrames"
   ]
  },
  {
   "cell_type": "markdown",
   "metadata": {},
   "source": [
    "For the same reasons that Pandas is often faster than pure Python, `dask.dataframe` can be faster than `dask.bag`.  We will work more with DataFrames later, but from for the bag point of view, they are frequently the end-point of the \"messy\" part of data ingestion—once the data can be made into a data-frame, then complex split-apply-combine logic will become much more straight-forward and efficient.\n",
    "\n",
    "You can transform a bag with a simple tuple or flat dictionary structure into a `dask.dataframe` with the `to_dataframe` method."
   ]
  },
  {
   "cell_type": "code",
   "execution_count": 26,
   "metadata": {
    "execution": {
     "iopub.execute_input": "2020-11-09T19:19:28.738762Z",
     "iopub.status.busy": "2020-11-09T19:19:28.738217Z",
     "iopub.status.idle": "2020-11-09T19:19:29.421238Z",
     "shell.execute_reply": "2020-11-09T19:19:29.421759Z"
    }
   },
   "outputs": [
    {
     "data": {
      "text/html": [
       "<div>\n",
       "<style scoped>\n",
       "    .dataframe tbody tr th:only-of-type {\n",
       "        vertical-align: middle;\n",
       "    }\n",
       "\n",
       "    .dataframe tbody tr th {\n",
       "        vertical-align: top;\n",
       "    }\n",
       "\n",
       "    .dataframe thead th {\n",
       "        text-align: right;\n",
       "    }\n",
       "</style>\n",
       "<table border=\"1\" class=\"dataframe\">\n",
       "  <thead>\n",
       "    <tr style=\"text-align: right;\">\n",
       "      <th></th>\n",
       "      <th>id</th>\n",
       "      <th>name</th>\n",
       "      <th>transactions</th>\n",
       "    </tr>\n",
       "  </thead>\n",
       "  <tbody>\n",
       "    <tr>\n",
       "      <th>0</th>\n",
       "      <td>0</td>\n",
       "      <td>Charlie</td>\n",
       "      <td>[{'transaction-id': 300, 'amount': -790}, {'tr...</td>\n",
       "    </tr>\n",
       "    <tr>\n",
       "      <th>1</th>\n",
       "      <td>1</td>\n",
       "      <td>Quinn</td>\n",
       "      <td>[{'transaction-id': 349, 'amount': 0}, {'trans...</td>\n",
       "    </tr>\n",
       "    <tr>\n",
       "      <th>2</th>\n",
       "      <td>2</td>\n",
       "      <td>Edith</td>\n",
       "      <td>[{'transaction-id': 578, 'amount': 56}, {'tran...</td>\n",
       "    </tr>\n",
       "    <tr>\n",
       "      <th>3</th>\n",
       "      <td>3</td>\n",
       "      <td>Frank</td>\n",
       "      <td>[{'transaction-id': 61, 'amount': 92}, {'trans...</td>\n",
       "    </tr>\n",
       "    <tr>\n",
       "      <th>4</th>\n",
       "      <td>4</td>\n",
       "      <td>Patricia</td>\n",
       "      <td>[{'transaction-id': 29, 'amount': 50}, {'trans...</td>\n",
       "    </tr>\n",
       "  </tbody>\n",
       "</table>\n",
       "</div>"
      ],
      "text/plain": [
       "   id      name                                       transactions\n",
       "0   0   Charlie  [{'transaction-id': 300, 'amount': -790}, {'tr...\n",
       "1   1     Quinn  [{'transaction-id': 349, 'amount': 0}, {'trans...\n",
       "2   2     Edith  [{'transaction-id': 578, 'amount': 56}, {'tran...\n",
       "3   3     Frank  [{'transaction-id': 61, 'amount': 92}, {'trans...\n",
       "4   4  Patricia  [{'transaction-id': 29, 'amount': 50}, {'trans..."
      ]
     },
     "execution_count": 1,
     "metadata": {},
     "output_type": "execute_result"
    }
   ],
   "source": [
    "df1 = js.to_dataframe()\n",
    "df1.head()"
   ]
  },
  {
   "cell_type": "markdown",
   "metadata": {},
   "source": [
    "This now looks like a well-defined DataFrame, and we can apply Pandas-like computations to it efficiently."
   ]
  },
  {
   "cell_type": "markdown",
   "metadata": {},
   "source": [
    "Using a Dask DataFrame, how long does it take to do our prior computation of numbers of people with the same name?  It turns out that `dask.dataframe.groupby()` beats `dask.bag.groupby()` more than an order of magnitude; but it still cannot match `dask.bag.foldby()` for this case."
   ]
  },
  {
   "cell_type": "code",
   "execution_count": 27,
   "metadata": {
    "execution": {
     "iopub.execute_input": "2020-11-09T19:19:29.456332Z",
     "iopub.status.busy": "2020-11-09T19:19:29.446512Z",
     "iopub.status.idle": "2020-11-09T19:19:30.866798Z",
     "shell.execute_reply": "2020-11-09T19:19:30.866289Z"
    }
   },
   "outputs": [
    {
     "name": "stdout",
     "output_type": "stream",
     "text": [
      "CPU times: user 185 ms, sys: 6.51 ms, total: 192 ms\n",
      "Wall time: 1.43 s\n"
     ]
    },
    {
     "data": {
      "text/plain": [
       "name\n",
       "Alice      698\n",
       "Bob        439\n",
       "Charlie    596\n",
       "Dan        300\n",
       "Edith      400\n",
       "Name: id, dtype: int64"
      ]
     },
     "execution_count": 1,
     "metadata": {},
     "output_type": "execute_result"
    }
   ],
   "source": [
    "%time df1.groupby('name').id.count().compute().head()"
   ]
  },
  {
   "cell_type": "markdown",
   "metadata": {},
   "source": [
    "### Denormalization"
   ]
  },
  {
   "cell_type": "markdown",
   "metadata": {},
   "source": [
    "This DataFrame format is less-than-optimal because the `transactions` column is filled with nested data so Pandas has to revert to `object` dtype, which is quite slow in Pandas.  Ideally we want to transform to a dataframe only after we have flattened our data so that each record is a single `int`, `string`, `float`, etc.."
   ]
  },
  {
   "cell_type": "code",
   "execution_count": 28,
   "metadata": {
    "execution": {
     "iopub.execute_input": "2020-11-09T19:19:30.875058Z",
     "iopub.status.busy": "2020-11-09T19:19:30.871860Z",
     "iopub.status.idle": "2020-11-09T19:19:30.888777Z",
     "shell.execute_reply": "2020-11-09T19:19:30.888179Z"
    }
   },
   "outputs": [
    {
     "data": {
      "text/plain": [
       "({'id': 0, 'name': 'Charlie', 'amount': -790, 'transaction-id': 300},\n",
       " {'id': 0, 'name': 'Charlie', 'amount': -510, 'transaction-id': 331},\n",
       " {'id': 0, 'name': 'Charlie', 'amount': -658, 'transaction-id': 417})"
      ]
     },
     "execution_count": 1,
     "metadata": {},
     "output_type": "execute_result"
    }
   ],
   "source": [
    "def denormalize(record):\n",
    "    # returns a list for every nested item, each transaction of each person\n",
    "    return [{'id': record['id'], \n",
    "             'name': record['name'], \n",
    "             'amount': transaction['amount'], \n",
    "             'transaction-id': transaction['transaction-id']}\n",
    "            for transaction in record['transactions']]\n",
    "\n",
    "transactions = js.map(denormalize).flatten()\n",
    "transactions.take(3)"
   ]
  },
  {
   "cell_type": "code",
   "execution_count": 29,
   "metadata": {
    "execution": {
     "iopub.execute_input": "2020-11-09T19:19:30.892761Z",
     "iopub.status.busy": "2020-11-09T19:19:30.892174Z",
     "iopub.status.idle": "2020-11-09T19:19:30.969454Z",
     "shell.execute_reply": "2020-11-09T19:19:30.969893Z"
    }
   },
   "outputs": [
    {
     "data": {
      "text/html": [
       "<div>\n",
       "<style scoped>\n",
       "    .dataframe tbody tr th:only-of-type {\n",
       "        vertical-align: middle;\n",
       "    }\n",
       "\n",
       "    .dataframe tbody tr th {\n",
       "        vertical-align: top;\n",
       "    }\n",
       "\n",
       "    .dataframe thead th {\n",
       "        text-align: right;\n",
       "    }\n",
       "</style>\n",
       "<table border=\"1\" class=\"dataframe\">\n",
       "  <thead>\n",
       "    <tr style=\"text-align: right;\">\n",
       "      <th></th>\n",
       "      <th>id</th>\n",
       "      <th>name</th>\n",
       "      <th>amount</th>\n",
       "      <th>transaction-id</th>\n",
       "    </tr>\n",
       "  </thead>\n",
       "  <tbody>\n",
       "    <tr>\n",
       "      <th>0</th>\n",
       "      <td>0</td>\n",
       "      <td>Charlie</td>\n",
       "      <td>-790</td>\n",
       "      <td>300</td>\n",
       "    </tr>\n",
       "    <tr>\n",
       "      <th>1</th>\n",
       "      <td>0</td>\n",
       "      <td>Charlie</td>\n",
       "      <td>-510</td>\n",
       "      <td>331</td>\n",
       "    </tr>\n",
       "    <tr>\n",
       "      <th>2</th>\n",
       "      <td>0</td>\n",
       "      <td>Charlie</td>\n",
       "      <td>-658</td>\n",
       "      <td>417</td>\n",
       "    </tr>\n",
       "    <tr>\n",
       "      <th>3</th>\n",
       "      <td>0</td>\n",
       "      <td>Charlie</td>\n",
       "      <td>-665</td>\n",
       "      <td>654</td>\n",
       "    </tr>\n",
       "    <tr>\n",
       "      <th>4</th>\n",
       "      <td>0</td>\n",
       "      <td>Charlie</td>\n",
       "      <td>-682</td>\n",
       "      <td>838</td>\n",
       "    </tr>\n",
       "  </tbody>\n",
       "</table>\n",
       "</div>"
      ],
      "text/plain": [
       "   id     name  amount  transaction-id\n",
       "0   0  Charlie    -790             300\n",
       "1   0  Charlie    -510             331\n",
       "2   0  Charlie    -658             417\n",
       "3   0  Charlie    -665             654\n",
       "4   0  Charlie    -682             838"
      ]
     },
     "execution_count": 1,
     "metadata": {},
     "output_type": "execute_result"
    }
   ],
   "source": [
    "df = transactions.to_dataframe()\n",
    "df.head()"
   ]
  },
  {
   "cell_type": "code",
   "execution_count": 30,
   "metadata": {
    "execution": {
     "iopub.execute_input": "2020-11-09T19:19:30.986467Z",
     "iopub.status.busy": "2020-11-09T19:19:30.972188Z",
     "iopub.status.idle": "2020-11-09T19:19:32.094800Z",
     "shell.execute_reply": "2020-11-09T19:19:32.094085Z"
    }
   },
   "outputs": [
    {
     "name": "stdout",
     "output_type": "stream",
     "text": [
      "CPU times: user 160 ms, sys: 17.7 ms, total: 177 ms\n",
      "Wall time: 1.11 s\n"
     ]
    },
    {
     "data": {
      "text/plain": [
       "name\n",
       "Alice       29589\n",
       "Bob         23876\n",
       "Charlie     27344\n",
       "Dan          6912\n",
       "Edith       16409\n",
       "Frank       11822\n",
       "George      13101\n",
       "Hannah      13073\n",
       "Ingrid       6268\n",
       "Jerry       30426\n",
       "Kevin       12315\n",
       "Laura       10104\n",
       "Michael     38669\n",
       "Norbert     12121\n",
       "Oliver       6760\n",
       "Patricia    23878\n",
       "Quinn       22840\n",
       "Ray         33826\n",
       "Sarah       38694\n",
       "Tim         21841\n",
       "Ursula       6313\n",
       "Victor       6821\n",
       "Wendy       16058\n",
       "Xavier      19759\n",
       "Yvonne      25110\n",
       "Zelda       26071\n",
       "Name: transaction-id, dtype: int64"
      ]
     },
     "execution_count": 1,
     "metadata": {},
     "output_type": "execute_result"
    }
   ],
   "source": [
    "%%time\n",
    "# number of transactions per name\n",
    "# note that the time here includes the data load and ingestion\n",
    "df.groupby('name')['transaction-id'].count().compute()"
   ]
  },
  {
   "cell_type": "markdown",
   "metadata": {},
   "source": [
    "## Limitations"
   ]
  },
  {
   "cell_type": "markdown",
   "metadata": {},
   "source": [
    "Bags provide very general computation (any Python function.)  This generality\n",
    "comes at cost.  Bags have the following known limitations\n",
    "\n",
    "1.  Bag operations tend to be slower than array/dataframe computations in the\n",
    "    same way that Python tends to be slower than NumPy/Pandas\n",
    "2.  ``Bag.groupby`` is slow.  You should try to use ``Bag.foldby`` if possible.\n",
    "    Using ``Bag.foldby`` requires more thought. Even better, consider creating\n",
    "    a normalised dataframe."
   ]
  },
  {
   "cell_type": "markdown",
   "metadata": {},
   "source": [
    "## Learn More\n",
    "\n",
    "* [Bag documentation](https://docs.dask.org/en/latest/bag.html)\n",
    "* [Bag screencast](https://youtu.be/-qIiJ1XtSv0)\n",
    "* [Bag API](https://docs.dask.org/en/latest/bag-api.html)\n",
    "* [Bag examples](https://examples.dask.org/bag.html)"
   ]
  },
  {
   "cell_type": "markdown",
   "metadata": {},
   "source": [
    "## Shutdown"
   ]
  },
  {
   "cell_type": "code",
   "execution_count": 31,
   "metadata": {
    "execution": {
     "iopub.execute_input": "2020-11-09T19:19:32.099482Z",
     "iopub.status.busy": "2020-11-09T19:19:32.098712Z",
     "iopub.status.idle": "2020-11-09T19:19:33.578080Z",
     "shell.execute_reply": "2020-11-09T19:19:33.577478Z"
    }
   },
   "outputs": [],
   "source": [
    "client.shutdown()"
   ]
  }
 ],
 "metadata": {
  "anaconda-cloud": {},
  "kernelspec": {
   "display_name": "Python 3",
   "language": "python",
   "name": "python3"
  },
  "language_info": {
   "codemirror_mode": {
    "name": "ipython",
    "version": 3
   },
   "file_extension": ".py",
   "mimetype": "text/x-python",
   "name": "python",
   "nbconvert_exporter": "python",
   "pygments_lexer": "ipython3",
   "version": "3.8.6"
  }
 },
 "nbformat": 4,
 "nbformat_minor": 4
}
