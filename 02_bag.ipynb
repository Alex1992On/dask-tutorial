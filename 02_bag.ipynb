{
 "cells": [
  {
   "cell_type": "markdown",
   "metadata": {},
   "source": [
    "<img src=\"images/dask_horizontal.svg\" align=\"right\" width=\"30%\">"
   ]
  },
  {
   "cell_type": "markdown",
   "metadata": {},
   "source": [
    "# Bag: Parallel Lists for semi-structured data"
   ]
  },
  {
   "cell_type": "markdown",
   "metadata": {},
   "source": [
    "Dask-bag excels in processing data that can be represented as a sequence of arbitrary inputs. We'll refer to this as \"messy\" data, because it can contain complex nested structures, missing fields, mixtures of data types, etc. The *functional* programming style fits very nicely with standard Python iteration, such as can be found in the `itertools` module.\n",
    "\n",
    "Messy data is often encountered at the beginning of data processing pipelines when large volumes of raw data are first consumed. The initial set of data might be JSON, CSV, XML, or any other format that does not enforce strict structure and datatypes.\n",
    "For this reason, the initial data massaging and processing is often done with Python `list`s, `dict`s, and `set`s.\n",
    "\n",
    "These core data structures are optimized for general-purpose storage and processing.  Adding streaming computation with iterators/generator expressions or libraries like `itertools` or [`toolz`](https://toolz.readthedocs.io/en/latest/) let us process large volumes in a small space.  If we combine this with parallel processing then we can churn through a fair amount of data.\n",
    "\n",
    "Dask.bag is a high level Dask collection to automate common workloads of this form.  In a nutshell\n",
    "\n",
    "    dask.bag = map, filter, toolz + parallel execution\n",
    "    \n",
    "**Related Documentation**\n",
    "\n",
    "* [Bag documentation](https://docs.dask.org/en/latest/bag.html)\n",
    "* [Bag screencast](https://youtu.be/-qIiJ1XtSv0)\n",
    "* [Bag API](https://docs.dask.org/en/latest/bag-api.html)\n",
    "* [Bag examples](https://examples.dask.org/bag.html)"
   ]
  },
  {
   "cell_type": "markdown",
   "metadata": {},
   "source": [
    "## Create data"
   ]
  },
  {
   "cell_type": "code",
   "execution_count": 1,
   "metadata": {},
   "outputs": [],
   "source": [
    "%run prep.py -d accounts"
   ]
  },
  {
   "cell_type": "markdown",
   "metadata": {},
   "source": [
    "## Setup"
   ]
  },
  {
   "cell_type": "markdown",
   "metadata": {},
   "source": [
    "Again, we'll use the distributed scheduler. Schedulers will be explained in depth [later](05_distributed.ipynb)."
   ]
  },
  {
   "cell_type": "code",
   "execution_count": 2,
   "metadata": {},
   "outputs": [],
   "source": [
    "from dask.distributed import Client\n",
    "\n",
    "client = Client(n_workers=4)"
   ]
  },
  {
   "cell_type": "markdown",
   "metadata": {},
   "source": [
    "## Creation"
   ]
  },
  {
   "cell_type": "markdown",
   "metadata": {},
   "source": [
    "You can create a `Bag` from a Python sequence, from files, from data on S3, etc.\n",
    "We demonstrate using `.take()` to show elements of the data. (Doing `.take(1)` results in a tuple with one element)\n",
    "\n",
    "Note that the data are partitioned into blocks, and there are many items per block. In the first example, the two partitions contain five elements each, and in the following two, each file is partitioned into one or more bytes blocks."
   ]
  },
  {
   "cell_type": "code",
   "execution_count": 3,
   "metadata": {},
   "outputs": [
    {
     "data": {
      "text/plain": [
       "(1, 2, 3)"
      ]
     },
     "execution_count": 3,
     "metadata": {},
     "output_type": "execute_result"
    }
   ],
   "source": [
    "# each element is an integer\n",
    "import dask.bag as db\n",
    "b = db.from_sequence([1, 2, 3, 4, 5, 6, 7, 8, 9, 10], npartitions=2)\n",
    "b.take(3)"
   ]
  },
  {
   "cell_type": "code",
   "execution_count": 4,
   "metadata": {},
   "outputs": [
    {
     "data": {
      "text/plain": [
       "('{\"id\": 0, \"name\": \"Alice\", \"transactions\": [{\"transaction-id\": 249, \"amount\": 542}, {\"transaction-id\": 1169, \"amount\": 582}, {\"transaction-id\": 1536, \"amount\": 571}, {\"transaction-id\": 2610, \"amount\": 604}, {\"transaction-id\": 3188, \"amount\": 525}, {\"transaction-id\": 3513, \"amount\": 619}, {\"transaction-id\": 3584, \"amount\": 566}, {\"transaction-id\": 3686, \"amount\": 558}, {\"transaction-id\": 4214, \"amount\": 575}, {\"transaction-id\": 4543, \"amount\": 541}, {\"transaction-id\": 4957, \"amount\": 576}, {\"transaction-id\": 5080, \"amount\": 583}, {\"transaction-id\": 5238, \"amount\": 641}, {\"transaction-id\": 5503, \"amount\": 652}, {\"transaction-id\": 5969, \"amount\": 538}, {\"transaction-id\": 6230, \"amount\": 629}, {\"transaction-id\": 6343, \"amount\": 575}, {\"transaction-id\": 6485, \"amount\": 654}, {\"transaction-id\": 6514, \"amount\": 607}, {\"transaction-id\": 6956, \"amount\": 583}, {\"transaction-id\": 7000, \"amount\": 616}, {\"transaction-id\": 7032, \"amount\": 561}, {\"transaction-id\": 7365, \"amount\": 554}, {\"transaction-id\": 7889, \"amount\": 607}, {\"transaction-id\": 8147, \"amount\": 599}, {\"transaction-id\": 8965, \"amount\": 558}, {\"transaction-id\": 9320, \"amount\": 574}, {\"transaction-id\": 9595, \"amount\": 559}, {\"transaction-id\": 9925, \"amount\": 554}]}\\n',)"
      ]
     },
     "execution_count": 4,
     "metadata": {},
     "output_type": "execute_result"
    }
   ],
   "source": [
    "# each element is a text file, where each line is a JSON object\n",
    "# note that the compression is handled automatically\n",
    "import os\n",
    "b = db.read_text(os.path.join('data', 'accounts.*.json.gz'))\n",
    "b.take(1)"
   ]
  },
  {
   "cell_type": "code",
   "execution_count": 5,
   "metadata": {},
   "outputs": [
    {
     "data": {
      "text/plain": [
       "'s3://dask-data/nyc-taxi/2015/yellow_tripdata_2015-01.csv'"
      ]
     },
     "execution_count": 5,
     "metadata": {},
     "output_type": "execute_result"
    }
   ],
   "source": [
    "# Edit sources.py to configure source locations\n",
    "import sources\n",
    "sources.bag_url"
   ]
  },
  {
   "cell_type": "code",
   "execution_count": 6,
   "metadata": {},
   "outputs": [
    {
     "data": {
      "text/plain": [
       "('VendorID,tpep_pickup_datetime,tpep_dropoff_datetime,passenger_count,trip_distance,pickup_longitude,pickup_latitude,RateCodeID,store_and_fwd_flag,dropoff_longitude,dropoff_latitude,payment_type,fare_amount,extra,mta_tax,tip_amount,tolls_amount,improvement_surcharge,total_amount\\n',)"
      ]
     },
     "execution_count": 6,
     "metadata": {},
     "output_type": "execute_result"
    }
   ],
   "source": [
    "# Requires `s3fs` library\n",
    "# each partition is a remote CSV text file\n",
    "b = db.read_text(sources.bag_url,\n",
    "                 storage_options={'anon': True})\n",
    "b.take(1)"
   ]
  },
  {
   "cell_type": "markdown",
   "metadata": {},
   "source": [
    "## Manipulation"
   ]
  },
  {
   "cell_type": "markdown",
   "metadata": {},
   "source": [
    "`Bag` objects hold the standard functional API found in projects like the Python standard library, `toolz`, or `pyspark`, including `map`, `filter`, `groupby`, etc..\n",
    "\n",
    "Operations on `Bag` objects create new bags.  Call the `.compute()` method to trigger execution, as we saw for `Delayed` objects.  "
   ]
  },
  {
   "cell_type": "code",
   "execution_count": 7,
   "metadata": {},
   "outputs": [
    {
     "data": {
      "text/plain": [
       "dask.bag<lambda, npartitions=10>"
      ]
     },
     "execution_count": 7,
     "metadata": {},
     "output_type": "execute_result"
    }
   ],
   "source": [
    "def is_even(n):\n",
    "    return n % 2 == 0\n",
    "\n",
    "b = db.from_sequence([1, 2, 3, 4, 5, 6, 7, 8, 9, 10])\n",
    "c = b.filter(is_even).map(lambda x: x ** 2)\n",
    "c"
   ]
  },
  {
   "cell_type": "code",
   "execution_count": 8,
   "metadata": {},
   "outputs": [
    {
     "data": {
      "text/plain": [
       "[4, 16, 36, 64, 100]"
      ]
     },
     "execution_count": 8,
     "metadata": {},
     "output_type": "execute_result"
    }
   ],
   "source": [
    "# blocking form: wait for completion (which is very fast in this case)\n",
    "c.compute()"
   ]
  },
  {
   "cell_type": "markdown",
   "metadata": {},
   "source": [
    "### Example: Accounts JSON data"
   ]
  },
  {
   "cell_type": "markdown",
   "metadata": {},
   "source": [
    "We've created a fake dataset of gzipped JSON data in your data directory.  This is like the example used in the `DataFrame` example we will see later, except that it has bundled up all of the entires for each individual `id` into a single record.  This is similar to data that you might collect off of a document store database or a web API.\n",
    "\n",
    "Each line is a JSON encoded dictionary with the following keys\n",
    "\n",
    "*  id: Unique identifier of the customer\n",
    "*  name: Name of the customer\n",
    "*  transactions: List of `transaction-id`, `amount` pairs, one for each transaction for the customer in that file"
   ]
  },
  {
   "cell_type": "code",
   "execution_count": 9,
   "metadata": {},
   "outputs": [
    {
     "data": {
      "text/plain": [
       "('{\"id\": 0, \"name\": \"Alice\", \"transactions\": [{\"transaction-id\": 249, \"amount\": 542}, {\"transaction-id\": 1169, \"amount\": 582}, {\"transaction-id\": 1536, \"amount\": 571}, {\"transaction-id\": 2610, \"amount\": 604}, {\"transaction-id\": 3188, \"amount\": 525}, {\"transaction-id\": 3513, \"amount\": 619}, {\"transaction-id\": 3584, \"amount\": 566}, {\"transaction-id\": 3686, \"amount\": 558}, {\"transaction-id\": 4214, \"amount\": 575}, {\"transaction-id\": 4543, \"amount\": 541}, {\"transaction-id\": 4957, \"amount\": 576}, {\"transaction-id\": 5080, \"amount\": 583}, {\"transaction-id\": 5238, \"amount\": 641}, {\"transaction-id\": 5503, \"amount\": 652}, {\"transaction-id\": 5969, \"amount\": 538}, {\"transaction-id\": 6230, \"amount\": 629}, {\"transaction-id\": 6343, \"amount\": 575}, {\"transaction-id\": 6485, \"amount\": 654}, {\"transaction-id\": 6514, \"amount\": 607}, {\"transaction-id\": 6956, \"amount\": 583}, {\"transaction-id\": 7000, \"amount\": 616}, {\"transaction-id\": 7032, \"amount\": 561}, {\"transaction-id\": 7365, \"amount\": 554}, {\"transaction-id\": 7889, \"amount\": 607}, {\"transaction-id\": 8147, \"amount\": 599}, {\"transaction-id\": 8965, \"amount\": 558}, {\"transaction-id\": 9320, \"amount\": 574}, {\"transaction-id\": 9595, \"amount\": 559}, {\"transaction-id\": 9925, \"amount\": 554}]}\\n',\n",
       " '{\"id\": 1, \"name\": \"Edith\", \"transactions\": [{\"transaction-id\": 298, \"amount\": 226}, {\"transaction-id\": 510, \"amount\": 217}, {\"transaction-id\": 596, \"amount\": 225}, {\"transaction-id\": 642, \"amount\": 210}, {\"transaction-id\": 965, \"amount\": 225}, {\"transaction-id\": 1062, \"amount\": 221}, {\"transaction-id\": 1193, \"amount\": 212}, {\"transaction-id\": 1236, \"amount\": 225}, {\"transaction-id\": 1282, \"amount\": 215}, {\"transaction-id\": 1367, \"amount\": 221}, {\"transaction-id\": 1467, \"amount\": 226}, {\"transaction-id\": 1505, \"amount\": 216}, {\"transaction-id\": 1528, \"amount\": 201}, {\"transaction-id\": 1543, \"amount\": 206}, {\"transaction-id\": 1727, \"amount\": 199}, {\"transaction-id\": 2495, \"amount\": 229}, {\"transaction-id\": 2678, \"amount\": 221}, {\"transaction-id\": 2776, \"amount\": 243}, {\"transaction-id\": 2890, \"amount\": 215}, {\"transaction-id\": 2894, \"amount\": 187}, {\"transaction-id\": 2976, \"amount\": 225}, {\"transaction-id\": 3555, \"amount\": 215}, {\"transaction-id\": 3629, \"amount\": 213}, {\"transaction-id\": 3670, \"amount\": 213}, {\"transaction-id\": 3732, \"amount\": 228}, {\"transaction-id\": 3787, \"amount\": 222}, {\"transaction-id\": 3872, \"amount\": 209}, {\"transaction-id\": 4257, \"amount\": 223}, {\"transaction-id\": 4320, \"amount\": 224}, {\"transaction-id\": 4483, \"amount\": 233}, {\"transaction-id\": 4486, \"amount\": 223}, {\"transaction-id\": 4803, \"amount\": 209}, {\"transaction-id\": 4950, \"amount\": 230}, {\"transaction-id\": 5304, \"amount\": 226}, {\"transaction-id\": 5422, \"amount\": 207}, {\"transaction-id\": 5458, \"amount\": 233}, {\"transaction-id\": 5461, \"amount\": 201}, {\"transaction-id\": 5506, \"amount\": 217}, {\"transaction-id\": 5589, \"amount\": 210}, {\"transaction-id\": 5642, \"amount\": 226}, {\"transaction-id\": 5769, \"amount\": 210}, {\"transaction-id\": 5938, \"amount\": 219}, {\"transaction-id\": 5962, \"amount\": 217}, {\"transaction-id\": 6040, \"amount\": 207}, {\"transaction-id\": 6317, \"amount\": 241}, {\"transaction-id\": 6328, \"amount\": 228}, {\"transaction-id\": 6382, \"amount\": 232}, {\"transaction-id\": 6436, \"amount\": 211}, {\"transaction-id\": 6523, \"amount\": 223}, {\"transaction-id\": 6637, \"amount\": 216}, {\"transaction-id\": 6850, \"amount\": 224}, {\"transaction-id\": 6873, \"amount\": 212}, {\"transaction-id\": 6886, \"amount\": 237}, {\"transaction-id\": 7035, \"amount\": 220}, {\"transaction-id\": 7068, \"amount\": 207}, {\"transaction-id\": 7071, \"amount\": 219}, {\"transaction-id\": 7092, \"amount\": 206}, {\"transaction-id\": 7111, \"amount\": 226}, {\"transaction-id\": 7349, \"amount\": 218}, {\"transaction-id\": 7502, \"amount\": 208}, {\"transaction-id\": 7517, \"amount\": 197}, {\"transaction-id\": 8127, \"amount\": 208}, {\"transaction-id\": 8249, \"amount\": 219}, {\"transaction-id\": 8471, \"amount\": 221}, {\"transaction-id\": 8650, \"amount\": 199}, {\"transaction-id\": 8847, \"amount\": 212}, {\"transaction-id\": 8941, \"amount\": 214}, {\"transaction-id\": 9004, \"amount\": 198}, {\"transaction-id\": 9012, \"amount\": 203}, {\"transaction-id\": 9076, \"amount\": 209}, {\"transaction-id\": 9242, \"amount\": 213}, {\"transaction-id\": 9308, \"amount\": 219}, {\"transaction-id\": 9429, \"amount\": 207}, {\"transaction-id\": 9501, \"amount\": 195}, {\"transaction-id\": 9686, \"amount\": 215}, {\"transaction-id\": 9711, \"amount\": 229}, {\"transaction-id\": 9784, \"amount\": 207}, {\"transaction-id\": 9896, \"amount\": 220}, {\"transaction-id\": 9911, \"amount\": 207}, {\"transaction-id\": 9944, \"amount\": 215}]}\\n',\n",
       " '{\"id\": 2, \"name\": \"Bob\", \"transactions\": [{\"transaction-id\": 363, \"amount\": 256}, {\"transaction-id\": 368, \"amount\": 251}, {\"transaction-id\": 1466, \"amount\": 251}, {\"transaction-id\": 1529, \"amount\": 268}, {\"transaction-id\": 1633, \"amount\": 273}, {\"transaction-id\": 3161, \"amount\": 255}, {\"transaction-id\": 3407, \"amount\": 245}, {\"transaction-id\": 3712, \"amount\": 288}, {\"transaction-id\": 3852, \"amount\": 264}, {\"transaction-id\": 4055, \"amount\": 270}, {\"transaction-id\": 4490, \"amount\": 261}, {\"transaction-id\": 4504, \"amount\": 249}, {\"transaction-id\": 4557, \"amount\": 240}, {\"transaction-id\": 5085, \"amount\": 255}, {\"transaction-id\": 6030, \"amount\": 259}, {\"transaction-id\": 6299, \"amount\": 247}, {\"transaction-id\": 6321, \"amount\": 272}, {\"transaction-id\": 6524, \"amount\": 292}, {\"transaction-id\": 6742, \"amount\": 234}, {\"transaction-id\": 6880, \"amount\": 268}, {\"transaction-id\": 7156, \"amount\": 299}, {\"transaction-id\": 7279, \"amount\": 236}, {\"transaction-id\": 7322, \"amount\": 271}, {\"transaction-id\": 7875, \"amount\": 270}, {\"transaction-id\": 8145, \"amount\": 260}, {\"transaction-id\": 8307, \"amount\": 255}, {\"transaction-id\": 9307, \"amount\": 254}, {\"transaction-id\": 9466, \"amount\": 255}, {\"transaction-id\": 9888, \"amount\": 248}]}\\n')"
      ]
     },
     "execution_count": 9,
     "metadata": {},
     "output_type": "execute_result"
    }
   ],
   "source": [
    "filename = os.path.join('data', 'accounts.*.json.gz')\n",
    "lines = db.read_text(filename)\n",
    "lines.take(3)"
   ]
  },
  {
   "cell_type": "markdown",
   "metadata": {},
   "source": [
    "Our data comes out of the file as lines of text. Notice that file decompression happened automatically. We can make this data look more reasonable by mapping the `json.loads` function onto our bag."
   ]
  },
  {
   "cell_type": "code",
   "execution_count": 10,
   "metadata": {},
   "outputs": [
    {
     "data": {
      "text/plain": [
       "({'id': 0,\n",
       "  'name': 'Alice',\n",
       "  'transactions': [{'transaction-id': 249, 'amount': 542},\n",
       "   {'transaction-id': 1169, 'amount': 582},\n",
       "   {'transaction-id': 1536, 'amount': 571},\n",
       "   {'transaction-id': 2610, 'amount': 604},\n",
       "   {'transaction-id': 3188, 'amount': 525},\n",
       "   {'transaction-id': 3513, 'amount': 619},\n",
       "   {'transaction-id': 3584, 'amount': 566},\n",
       "   {'transaction-id': 3686, 'amount': 558},\n",
       "   {'transaction-id': 4214, 'amount': 575},\n",
       "   {'transaction-id': 4543, 'amount': 541},\n",
       "   {'transaction-id': 4957, 'amount': 576},\n",
       "   {'transaction-id': 5080, 'amount': 583},\n",
       "   {'transaction-id': 5238, 'amount': 641},\n",
       "   {'transaction-id': 5503, 'amount': 652},\n",
       "   {'transaction-id': 5969, 'amount': 538},\n",
       "   {'transaction-id': 6230, 'amount': 629},\n",
       "   {'transaction-id': 6343, 'amount': 575},\n",
       "   {'transaction-id': 6485, 'amount': 654},\n",
       "   {'transaction-id': 6514, 'amount': 607},\n",
       "   {'transaction-id': 6956, 'amount': 583},\n",
       "   {'transaction-id': 7000, 'amount': 616},\n",
       "   {'transaction-id': 7032, 'amount': 561},\n",
       "   {'transaction-id': 7365, 'amount': 554},\n",
       "   {'transaction-id': 7889, 'amount': 607},\n",
       "   {'transaction-id': 8147, 'amount': 599},\n",
       "   {'transaction-id': 8965, 'amount': 558},\n",
       "   {'transaction-id': 9320, 'amount': 574},\n",
       "   {'transaction-id': 9595, 'amount': 559},\n",
       "   {'transaction-id': 9925, 'amount': 554}]},\n",
       " {'id': 1,\n",
       "  'name': 'Edith',\n",
       "  'transactions': [{'transaction-id': 298, 'amount': 226},\n",
       "   {'transaction-id': 510, 'amount': 217},\n",
       "   {'transaction-id': 596, 'amount': 225},\n",
       "   {'transaction-id': 642, 'amount': 210},\n",
       "   {'transaction-id': 965, 'amount': 225},\n",
       "   {'transaction-id': 1062, 'amount': 221},\n",
       "   {'transaction-id': 1193, 'amount': 212},\n",
       "   {'transaction-id': 1236, 'amount': 225},\n",
       "   {'transaction-id': 1282, 'amount': 215},\n",
       "   {'transaction-id': 1367, 'amount': 221},\n",
       "   {'transaction-id': 1467, 'amount': 226},\n",
       "   {'transaction-id': 1505, 'amount': 216},\n",
       "   {'transaction-id': 1528, 'amount': 201},\n",
       "   {'transaction-id': 1543, 'amount': 206},\n",
       "   {'transaction-id': 1727, 'amount': 199},\n",
       "   {'transaction-id': 2495, 'amount': 229},\n",
       "   {'transaction-id': 2678, 'amount': 221},\n",
       "   {'transaction-id': 2776, 'amount': 243},\n",
       "   {'transaction-id': 2890, 'amount': 215},\n",
       "   {'transaction-id': 2894, 'amount': 187},\n",
       "   {'transaction-id': 2976, 'amount': 225},\n",
       "   {'transaction-id': 3555, 'amount': 215},\n",
       "   {'transaction-id': 3629, 'amount': 213},\n",
       "   {'transaction-id': 3670, 'amount': 213},\n",
       "   {'transaction-id': 3732, 'amount': 228},\n",
       "   {'transaction-id': 3787, 'amount': 222},\n",
       "   {'transaction-id': 3872, 'amount': 209},\n",
       "   {'transaction-id': 4257, 'amount': 223},\n",
       "   {'transaction-id': 4320, 'amount': 224},\n",
       "   {'transaction-id': 4483, 'amount': 233},\n",
       "   {'transaction-id': 4486, 'amount': 223},\n",
       "   {'transaction-id': 4803, 'amount': 209},\n",
       "   {'transaction-id': 4950, 'amount': 230},\n",
       "   {'transaction-id': 5304, 'amount': 226},\n",
       "   {'transaction-id': 5422, 'amount': 207},\n",
       "   {'transaction-id': 5458, 'amount': 233},\n",
       "   {'transaction-id': 5461, 'amount': 201},\n",
       "   {'transaction-id': 5506, 'amount': 217},\n",
       "   {'transaction-id': 5589, 'amount': 210},\n",
       "   {'transaction-id': 5642, 'amount': 226},\n",
       "   {'transaction-id': 5769, 'amount': 210},\n",
       "   {'transaction-id': 5938, 'amount': 219},\n",
       "   {'transaction-id': 5962, 'amount': 217},\n",
       "   {'transaction-id': 6040, 'amount': 207},\n",
       "   {'transaction-id': 6317, 'amount': 241},\n",
       "   {'transaction-id': 6328, 'amount': 228},\n",
       "   {'transaction-id': 6382, 'amount': 232},\n",
       "   {'transaction-id': 6436, 'amount': 211},\n",
       "   {'transaction-id': 6523, 'amount': 223},\n",
       "   {'transaction-id': 6637, 'amount': 216},\n",
       "   {'transaction-id': 6850, 'amount': 224},\n",
       "   {'transaction-id': 6873, 'amount': 212},\n",
       "   {'transaction-id': 6886, 'amount': 237},\n",
       "   {'transaction-id': 7035, 'amount': 220},\n",
       "   {'transaction-id': 7068, 'amount': 207},\n",
       "   {'transaction-id': 7071, 'amount': 219},\n",
       "   {'transaction-id': 7092, 'amount': 206},\n",
       "   {'transaction-id': 7111, 'amount': 226},\n",
       "   {'transaction-id': 7349, 'amount': 218},\n",
       "   {'transaction-id': 7502, 'amount': 208},\n",
       "   {'transaction-id': 7517, 'amount': 197},\n",
       "   {'transaction-id': 8127, 'amount': 208},\n",
       "   {'transaction-id': 8249, 'amount': 219},\n",
       "   {'transaction-id': 8471, 'amount': 221},\n",
       "   {'transaction-id': 8650, 'amount': 199},\n",
       "   {'transaction-id': 8847, 'amount': 212},\n",
       "   {'transaction-id': 8941, 'amount': 214},\n",
       "   {'transaction-id': 9004, 'amount': 198},\n",
       "   {'transaction-id': 9012, 'amount': 203},\n",
       "   {'transaction-id': 9076, 'amount': 209},\n",
       "   {'transaction-id': 9242, 'amount': 213},\n",
       "   {'transaction-id': 9308, 'amount': 219},\n",
       "   {'transaction-id': 9429, 'amount': 207},\n",
       "   {'transaction-id': 9501, 'amount': 195},\n",
       "   {'transaction-id': 9686, 'amount': 215},\n",
       "   {'transaction-id': 9711, 'amount': 229},\n",
       "   {'transaction-id': 9784, 'amount': 207},\n",
       "   {'transaction-id': 9896, 'amount': 220},\n",
       "   {'transaction-id': 9911, 'amount': 207},\n",
       "   {'transaction-id': 9944, 'amount': 215}]},\n",
       " {'id': 2,\n",
       "  'name': 'Bob',\n",
       "  'transactions': [{'transaction-id': 363, 'amount': 256},\n",
       "   {'transaction-id': 368, 'amount': 251},\n",
       "   {'transaction-id': 1466, 'amount': 251},\n",
       "   {'transaction-id': 1529, 'amount': 268},\n",
       "   {'transaction-id': 1633, 'amount': 273},\n",
       "   {'transaction-id': 3161, 'amount': 255},\n",
       "   {'transaction-id': 3407, 'amount': 245},\n",
       "   {'transaction-id': 3712, 'amount': 288},\n",
       "   {'transaction-id': 3852, 'amount': 264},\n",
       "   {'transaction-id': 4055, 'amount': 270},\n",
       "   {'transaction-id': 4490, 'amount': 261},\n",
       "   {'transaction-id': 4504, 'amount': 249},\n",
       "   {'transaction-id': 4557, 'amount': 240},\n",
       "   {'transaction-id': 5085, 'amount': 255},\n",
       "   {'transaction-id': 6030, 'amount': 259},\n",
       "   {'transaction-id': 6299, 'amount': 247},\n",
       "   {'transaction-id': 6321, 'amount': 272},\n",
       "   {'transaction-id': 6524, 'amount': 292},\n",
       "   {'transaction-id': 6742, 'amount': 234},\n",
       "   {'transaction-id': 6880, 'amount': 268},\n",
       "   {'transaction-id': 7156, 'amount': 299},\n",
       "   {'transaction-id': 7279, 'amount': 236},\n",
       "   {'transaction-id': 7322, 'amount': 271},\n",
       "   {'transaction-id': 7875, 'amount': 270},\n",
       "   {'transaction-id': 8145, 'amount': 260},\n",
       "   {'transaction-id': 8307, 'amount': 255},\n",
       "   {'transaction-id': 9307, 'amount': 254},\n",
       "   {'transaction-id': 9466, 'amount': 255},\n",
       "   {'transaction-id': 9888, 'amount': 248}]})"
      ]
     },
     "execution_count": 10,
     "metadata": {},
     "output_type": "execute_result"
    }
   ],
   "source": [
    "import json\n",
    "js = lines.map(json.loads)\n",
    "# take: inspect first few elements\n",
    "js.take(3)"
   ]
  },
  {
   "cell_type": "markdown",
   "metadata": {},
   "source": [
    "### Basic Queries"
   ]
  },
  {
   "cell_type": "markdown",
   "metadata": {},
   "source": [
    "Once we parse our JSON data into proper Python objects (`dict`s, `list`s, etc.) we can perform more interesting queries by creating small Python functions to run on our data."
   ]
  },
  {
   "cell_type": "code",
   "execution_count": 11,
   "metadata": {},
   "outputs": [
    {
     "data": {
      "text/plain": [
       "({'id': 0,\n",
       "  'name': 'Alice',\n",
       "  'transactions': [{'transaction-id': 249, 'amount': 542},\n",
       "   {'transaction-id': 1169, 'amount': 582},\n",
       "   {'transaction-id': 1536, 'amount': 571},\n",
       "   {'transaction-id': 2610, 'amount': 604},\n",
       "   {'transaction-id': 3188, 'amount': 525},\n",
       "   {'transaction-id': 3513, 'amount': 619},\n",
       "   {'transaction-id': 3584, 'amount': 566},\n",
       "   {'transaction-id': 3686, 'amount': 558},\n",
       "   {'transaction-id': 4214, 'amount': 575},\n",
       "   {'transaction-id': 4543, 'amount': 541},\n",
       "   {'transaction-id': 4957, 'amount': 576},\n",
       "   {'transaction-id': 5080, 'amount': 583},\n",
       "   {'transaction-id': 5238, 'amount': 641},\n",
       "   {'transaction-id': 5503, 'amount': 652},\n",
       "   {'transaction-id': 5969, 'amount': 538},\n",
       "   {'transaction-id': 6230, 'amount': 629},\n",
       "   {'transaction-id': 6343, 'amount': 575},\n",
       "   {'transaction-id': 6485, 'amount': 654},\n",
       "   {'transaction-id': 6514, 'amount': 607},\n",
       "   {'transaction-id': 6956, 'amount': 583},\n",
       "   {'transaction-id': 7000, 'amount': 616},\n",
       "   {'transaction-id': 7032, 'amount': 561},\n",
       "   {'transaction-id': 7365, 'amount': 554},\n",
       "   {'transaction-id': 7889, 'amount': 607},\n",
       "   {'transaction-id': 8147, 'amount': 599},\n",
       "   {'transaction-id': 8965, 'amount': 558},\n",
       "   {'transaction-id': 9320, 'amount': 574},\n",
       "   {'transaction-id': 9595, 'amount': 559},\n",
       "   {'transaction-id': 9925, 'amount': 554}]},\n",
       " {'id': 5,\n",
       "  'name': 'Alice',\n",
       "  'transactions': [{'transaction-id': 44, 'amount': 1559},\n",
       "   {'transaction-id': 594, 'amount': 1901},\n",
       "   {'transaction-id': 857, 'amount': 2867},\n",
       "   {'transaction-id': 900, 'amount': 1736},\n",
       "   {'transaction-id': 1196, 'amount': 2201},\n",
       "   {'transaction-id': 1202, 'amount': 2077},\n",
       "   {'transaction-id': 1554, 'amount': 2042},\n",
       "   {'transaction-id': 1720, 'amount': 2591},\n",
       "   {'transaction-id': 1737, 'amount': 2016},\n",
       "   {'transaction-id': 2118, 'amount': 1890},\n",
       "   {'transaction-id': 2226, 'amount': 1621},\n",
       "   {'transaction-id': 2306, 'amount': 1960},\n",
       "   {'transaction-id': 2331, 'amount': 1927},\n",
       "   {'transaction-id': 2816, 'amount': 2102},\n",
       "   {'transaction-id': 3134, 'amount': 2079},\n",
       "   {'transaction-id': 3175, 'amount': 2317},\n",
       "   {'transaction-id': 3651, 'amount': 2301},\n",
       "   {'transaction-id': 3847, 'amount': 2464},\n",
       "   {'transaction-id': 4256, 'amount': 2155},\n",
       "   {'transaction-id': 4293, 'amount': 2095},\n",
       "   {'transaction-id': 4647, 'amount': 1750},\n",
       "   {'transaction-id': 4768, 'amount': 1686},\n",
       "   {'transaction-id': 5149, 'amount': 1946},\n",
       "   {'transaction-id': 5600, 'amount': 2171},\n",
       "   {'transaction-id': 5714, 'amount': 2445},\n",
       "   {'transaction-id': 6076, 'amount': 2424},\n",
       "   {'transaction-id': 6253, 'amount': 1847},\n",
       "   {'transaction-id': 6375, 'amount': 2475},\n",
       "   {'transaction-id': 6781, 'amount': 2089},\n",
       "   {'transaction-id': 6958, 'amount': 2556},\n",
       "   {'transaction-id': 7298, 'amount': 2423},\n",
       "   {'transaction-id': 7521, 'amount': 2200},\n",
       "   {'transaction-id': 7591, 'amount': 2360},\n",
       "   {'transaction-id': 7835, 'amount': 2090},\n",
       "   {'transaction-id': 8201, 'amount': 2258},\n",
       "   {'transaction-id': 8365, 'amount': 2118},\n",
       "   {'transaction-id': 8748, 'amount': 1809},\n",
       "   {'transaction-id': 9235, 'amount': 2562},\n",
       "   {'transaction-id': 9786, 'amount': 1444},\n",
       "   {'transaction-id': 9829, 'amount': 1799},\n",
       "   {'transaction-id': 9960, 'amount': 1701}]},\n",
       " {'id': 12,\n",
       "  'name': 'Alice',\n",
       "  'transactions': [{'transaction-id': 137, 'amount': 1533},\n",
       "   {'transaction-id': 414, 'amount': 1308},\n",
       "   {'transaction-id': 795, 'amount': 1657},\n",
       "   {'transaction-id': 816, 'amount': 1436},\n",
       "   {'transaction-id': 1195, 'amount': 1253},\n",
       "   {'transaction-id': 1377, 'amount': 685},\n",
       "   {'transaction-id': 1394, 'amount': 1011},\n",
       "   {'transaction-id': 1834, 'amount': 1336},\n",
       "   {'transaction-id': 2301, 'amount': 1091},\n",
       "   {'transaction-id': 2376, 'amount': 1557},\n",
       "   {'transaction-id': 2515, 'amount': 1725},\n",
       "   {'transaction-id': 2528, 'amount': 1301},\n",
       "   {'transaction-id': 2621, 'amount': 1514},\n",
       "   {'transaction-id': 3033, 'amount': 1458},\n",
       "   {'transaction-id': 3119, 'amount': 918},\n",
       "   {'transaction-id': 3250, 'amount': 1363},\n",
       "   {'transaction-id': 3271, 'amount': 1674},\n",
       "   {'transaction-id': 3453, 'amount': 1809},\n",
       "   {'transaction-id': 3461, 'amount': 1924},\n",
       "   {'transaction-id': 3652, 'amount': 1613},\n",
       "   {'transaction-id': 3834, 'amount': 1514},\n",
       "   {'transaction-id': 4009, 'amount': 1490},\n",
       "   {'transaction-id': 4084, 'amount': 1423},\n",
       "   {'transaction-id': 4169, 'amount': 1579},\n",
       "   {'transaction-id': 4715, 'amount': 1477},\n",
       "   {'transaction-id': 4743, 'amount': 1778},\n",
       "   {'transaction-id': 4749, 'amount': 1548},\n",
       "   {'transaction-id': 4906, 'amount': 1316},\n",
       "   {'transaction-id': 5119, 'amount': 1650},\n",
       "   {'transaction-id': 5396, 'amount': 1140},\n",
       "   {'transaction-id': 5596, 'amount': 1319},\n",
       "   {'transaction-id': 5876, 'amount': 1992},\n",
       "   {'transaction-id': 6183, 'amount': 1212},\n",
       "   {'transaction-id': 6198, 'amount': 1504},\n",
       "   {'transaction-id': 6219, 'amount': 1679},\n",
       "   {'transaction-id': 6275, 'amount': 1839},\n",
       "   {'transaction-id': 6596, 'amount': 1494},\n",
       "   {'transaction-id': 7076, 'amount': 2148},\n",
       "   {'transaction-id': 7154, 'amount': 1867},\n",
       "   {'transaction-id': 7340, 'amount': 1477},\n",
       "   {'transaction-id': 7841, 'amount': 1923},\n",
       "   {'transaction-id': 8374, 'amount': 1070},\n",
       "   {'transaction-id': 8615, 'amount': 1323},\n",
       "   {'transaction-id': 9212, 'amount': 1516},\n",
       "   {'transaction-id': 9420, 'amount': 1854},\n",
       "   {'transaction-id': 9785, 'amount': 1711},\n",
       "   {'transaction-id': 9900, 'amount': 1471}]},\n",
       " {'id': 81,\n",
       "  'name': 'Alice',\n",
       "  'transactions': [{'transaction-id': 891, 'amount': 3985},\n",
       "   {'transaction-id': 3494, 'amount': 3299},\n",
       "   {'transaction-id': 3881, 'amount': 4061},\n",
       "   {'transaction-id': 4061, 'amount': 3679},\n",
       "   {'transaction-id': 4208, 'amount': 3842},\n",
       "   {'transaction-id': 4921, 'amount': 4140},\n",
       "   {'transaction-id': 6123, 'amount': 3781}]},\n",
       " {'id': 193,\n",
       "  'name': 'Alice',\n",
       "  'transactions': [{'transaction-id': 46, 'amount': 11744},\n",
       "   {'transaction-id': 55, 'amount': 11565},\n",
       "   {'transaction-id': 77, 'amount': 11461},\n",
       "   {'transaction-id': 99, 'amount': 11059},\n",
       "   {'transaction-id': 533, 'amount': 11441},\n",
       "   {'transaction-id': 916, 'amount': 10942},\n",
       "   {'transaction-id': 1793, 'amount': 11991},\n",
       "   {'transaction-id': 2016, 'amount': 11001},\n",
       "   {'transaction-id': 2184, 'amount': 9934},\n",
       "   {'transaction-id': 2459, 'amount': 11836},\n",
       "   {'transaction-id': 2491, 'amount': 12104},\n",
       "   {'transaction-id': 2539, 'amount': 10900},\n",
       "   {'transaction-id': 2639, 'amount': 10779},\n",
       "   {'transaction-id': 2666, 'amount': 11309},\n",
       "   {'transaction-id': 2898, 'amount': 11381},\n",
       "   {'transaction-id': 2931, 'amount': 10896},\n",
       "   {'transaction-id': 3005, 'amount': 10918},\n",
       "   {'transaction-id': 3342, 'amount': 11816},\n",
       "   {'transaction-id': 3578, 'amount': 10802},\n",
       "   {'transaction-id': 3739, 'amount': 10886},\n",
       "   {'transaction-id': 3877, 'amount': 10640},\n",
       "   {'transaction-id': 4230, 'amount': 11017},\n",
       "   {'transaction-id': 4338, 'amount': 11880},\n",
       "   {'transaction-id': 4414, 'amount': 10140},\n",
       "   {'transaction-id': 5150, 'amount': 11017},\n",
       "   {'transaction-id': 5174, 'amount': 10578},\n",
       "   {'transaction-id': 5661, 'amount': 11799},\n",
       "   {'transaction-id': 5707, 'amount': 11317},\n",
       "   {'transaction-id': 5930, 'amount': 11515},\n",
       "   {'transaction-id': 5988, 'amount': 11385},\n",
       "   {'transaction-id': 6372, 'amount': 11716},\n",
       "   {'transaction-id': 6440, 'amount': 12310},\n",
       "   {'transaction-id': 6535, 'amount': 11683},\n",
       "   {'transaction-id': 6860, 'amount': 11072},\n",
       "   {'transaction-id': 7245, 'amount': 11127},\n",
       "   {'transaction-id': 7826, 'amount': 10341},\n",
       "   {'transaction-id': 8026, 'amount': 11251},\n",
       "   {'transaction-id': 8803, 'amount': 12100},\n",
       "   {'transaction-id': 8934, 'amount': 10674},\n",
       "   {'transaction-id': 9253, 'amount': 10708},\n",
       "   {'transaction-id': 9269, 'amount': 11149},\n",
       "   {'transaction-id': 9474, 'amount': 11579}]})"
      ]
     },
     "execution_count": 11,
     "metadata": {},
     "output_type": "execute_result"
    }
   ],
   "source": [
    "# filter: keep only some elements of the sequence\n",
    "js.filter(lambda record: record['name'] == 'Alice').take(5)"
   ]
  },
  {
   "cell_type": "code",
   "execution_count": 12,
   "metadata": {},
   "outputs": [
    {
     "data": {
      "text/plain": [
       "({'name': 'Alice', 'count': 29},\n",
       " {'name': 'Alice', 'count': 41},\n",
       " {'name': 'Alice', 'count': 47},\n",
       " {'name': 'Alice', 'count': 7},\n",
       " {'name': 'Alice', 'count': 42})"
      ]
     },
     "execution_count": 12,
     "metadata": {},
     "output_type": "execute_result"
    }
   ],
   "source": [
    "def count_transactions(d):\n",
    "    return {'name': d['name'], 'count': len(d['transactions'])}\n",
    "\n",
    "# map: apply a function to each element\n",
    "(js.filter(lambda record: record['name'] == 'Alice')\n",
    "   .map(count_transactions)\n",
    "   .take(5))"
   ]
  },
  {
   "cell_type": "code",
   "execution_count": 13,
   "metadata": {},
   "outputs": [
    {
     "data": {
      "text/plain": [
       "(29, 41, 47, 7, 42)"
      ]
     },
     "execution_count": 13,
     "metadata": {},
     "output_type": "execute_result"
    }
   ],
   "source": [
    "# pluck: select a field, as from a dictionary, element[field]\n",
    "(js.filter(lambda record: record['name'] == 'Alice')\n",
    "   .map(count_transactions)\n",
    "   .pluck('count')\n",
    "   .take(5))"
   ]
  },
  {
   "cell_type": "code",
   "execution_count": 14,
   "metadata": {},
   "outputs": [
    {
     "data": {
      "text/plain": [
       "26.975155279503106"
      ]
     },
     "execution_count": 14,
     "metadata": {},
     "output_type": "execute_result"
    }
   ],
   "source": [
    "# Average number of transactions for all of the Alice entries\n",
    "(js.filter(lambda record: record['name'] == 'Alice')\n",
    "   .map(count_transactions)\n",
    "   .pluck('count')\n",
    "   .mean()\n",
    "   .compute())"
   ]
  },
  {
   "cell_type": "markdown",
   "metadata": {},
   "source": [
    "### Use `flatten` to de-nest"
   ]
  },
  {
   "cell_type": "markdown",
   "metadata": {},
   "source": [
    "In the example below we see the use of `.flatten()` to flatten results.  We compute the average amount for all transactions for all Alices."
   ]
  },
  {
   "cell_type": "code",
   "execution_count": 15,
   "metadata": {},
   "outputs": [
    {
     "data": {
      "text/plain": [
       "([{'transaction-id': 249, 'amount': 542},\n",
       "  {'transaction-id': 1169, 'amount': 582},\n",
       "  {'transaction-id': 1536, 'amount': 571},\n",
       "  {'transaction-id': 2610, 'amount': 604},\n",
       "  {'transaction-id': 3188, 'amount': 525},\n",
       "  {'transaction-id': 3513, 'amount': 619},\n",
       "  {'transaction-id': 3584, 'amount': 566},\n",
       "  {'transaction-id': 3686, 'amount': 558},\n",
       "  {'transaction-id': 4214, 'amount': 575},\n",
       "  {'transaction-id': 4543, 'amount': 541},\n",
       "  {'transaction-id': 4957, 'amount': 576},\n",
       "  {'transaction-id': 5080, 'amount': 583},\n",
       "  {'transaction-id': 5238, 'amount': 641},\n",
       "  {'transaction-id': 5503, 'amount': 652},\n",
       "  {'transaction-id': 5969, 'amount': 538},\n",
       "  {'transaction-id': 6230, 'amount': 629},\n",
       "  {'transaction-id': 6343, 'amount': 575},\n",
       "  {'transaction-id': 6485, 'amount': 654},\n",
       "  {'transaction-id': 6514, 'amount': 607},\n",
       "  {'transaction-id': 6956, 'amount': 583},\n",
       "  {'transaction-id': 7000, 'amount': 616},\n",
       "  {'transaction-id': 7032, 'amount': 561},\n",
       "  {'transaction-id': 7365, 'amount': 554},\n",
       "  {'transaction-id': 7889, 'amount': 607},\n",
       "  {'transaction-id': 8147, 'amount': 599},\n",
       "  {'transaction-id': 8965, 'amount': 558},\n",
       "  {'transaction-id': 9320, 'amount': 574},\n",
       "  {'transaction-id': 9595, 'amount': 559},\n",
       "  {'transaction-id': 9925, 'amount': 554}],\n",
       " [{'transaction-id': 44, 'amount': 1559},\n",
       "  {'transaction-id': 594, 'amount': 1901},\n",
       "  {'transaction-id': 857, 'amount': 2867},\n",
       "  {'transaction-id': 900, 'amount': 1736},\n",
       "  {'transaction-id': 1196, 'amount': 2201},\n",
       "  {'transaction-id': 1202, 'amount': 2077},\n",
       "  {'transaction-id': 1554, 'amount': 2042},\n",
       "  {'transaction-id': 1720, 'amount': 2591},\n",
       "  {'transaction-id': 1737, 'amount': 2016},\n",
       "  {'transaction-id': 2118, 'amount': 1890},\n",
       "  {'transaction-id': 2226, 'amount': 1621},\n",
       "  {'transaction-id': 2306, 'amount': 1960},\n",
       "  {'transaction-id': 2331, 'amount': 1927},\n",
       "  {'transaction-id': 2816, 'amount': 2102},\n",
       "  {'transaction-id': 3134, 'amount': 2079},\n",
       "  {'transaction-id': 3175, 'amount': 2317},\n",
       "  {'transaction-id': 3651, 'amount': 2301},\n",
       "  {'transaction-id': 3847, 'amount': 2464},\n",
       "  {'transaction-id': 4256, 'amount': 2155},\n",
       "  {'transaction-id': 4293, 'amount': 2095},\n",
       "  {'transaction-id': 4647, 'amount': 1750},\n",
       "  {'transaction-id': 4768, 'amount': 1686},\n",
       "  {'transaction-id': 5149, 'amount': 1946},\n",
       "  {'transaction-id': 5600, 'amount': 2171},\n",
       "  {'transaction-id': 5714, 'amount': 2445},\n",
       "  {'transaction-id': 6076, 'amount': 2424},\n",
       "  {'transaction-id': 6253, 'amount': 1847},\n",
       "  {'transaction-id': 6375, 'amount': 2475},\n",
       "  {'transaction-id': 6781, 'amount': 2089},\n",
       "  {'transaction-id': 6958, 'amount': 2556},\n",
       "  {'transaction-id': 7298, 'amount': 2423},\n",
       "  {'transaction-id': 7521, 'amount': 2200},\n",
       "  {'transaction-id': 7591, 'amount': 2360},\n",
       "  {'transaction-id': 7835, 'amount': 2090},\n",
       "  {'transaction-id': 8201, 'amount': 2258},\n",
       "  {'transaction-id': 8365, 'amount': 2118},\n",
       "  {'transaction-id': 8748, 'amount': 1809},\n",
       "  {'transaction-id': 9235, 'amount': 2562},\n",
       "  {'transaction-id': 9786, 'amount': 1444},\n",
       "  {'transaction-id': 9829, 'amount': 1799},\n",
       "  {'transaction-id': 9960, 'amount': 1701}],\n",
       " [{'transaction-id': 137, 'amount': 1533},\n",
       "  {'transaction-id': 414, 'amount': 1308},\n",
       "  {'transaction-id': 795, 'amount': 1657},\n",
       "  {'transaction-id': 816, 'amount': 1436},\n",
       "  {'transaction-id': 1195, 'amount': 1253},\n",
       "  {'transaction-id': 1377, 'amount': 685},\n",
       "  {'transaction-id': 1394, 'amount': 1011},\n",
       "  {'transaction-id': 1834, 'amount': 1336},\n",
       "  {'transaction-id': 2301, 'amount': 1091},\n",
       "  {'transaction-id': 2376, 'amount': 1557},\n",
       "  {'transaction-id': 2515, 'amount': 1725},\n",
       "  {'transaction-id': 2528, 'amount': 1301},\n",
       "  {'transaction-id': 2621, 'amount': 1514},\n",
       "  {'transaction-id': 3033, 'amount': 1458},\n",
       "  {'transaction-id': 3119, 'amount': 918},\n",
       "  {'transaction-id': 3250, 'amount': 1363},\n",
       "  {'transaction-id': 3271, 'amount': 1674},\n",
       "  {'transaction-id': 3453, 'amount': 1809},\n",
       "  {'transaction-id': 3461, 'amount': 1924},\n",
       "  {'transaction-id': 3652, 'amount': 1613},\n",
       "  {'transaction-id': 3834, 'amount': 1514},\n",
       "  {'transaction-id': 4009, 'amount': 1490},\n",
       "  {'transaction-id': 4084, 'amount': 1423},\n",
       "  {'transaction-id': 4169, 'amount': 1579},\n",
       "  {'transaction-id': 4715, 'amount': 1477},\n",
       "  {'transaction-id': 4743, 'amount': 1778},\n",
       "  {'transaction-id': 4749, 'amount': 1548},\n",
       "  {'transaction-id': 4906, 'amount': 1316},\n",
       "  {'transaction-id': 5119, 'amount': 1650},\n",
       "  {'transaction-id': 5396, 'amount': 1140},\n",
       "  {'transaction-id': 5596, 'amount': 1319},\n",
       "  {'transaction-id': 5876, 'amount': 1992},\n",
       "  {'transaction-id': 6183, 'amount': 1212},\n",
       "  {'transaction-id': 6198, 'amount': 1504},\n",
       "  {'transaction-id': 6219, 'amount': 1679},\n",
       "  {'transaction-id': 6275, 'amount': 1839},\n",
       "  {'transaction-id': 6596, 'amount': 1494},\n",
       "  {'transaction-id': 7076, 'amount': 2148},\n",
       "  {'transaction-id': 7154, 'amount': 1867},\n",
       "  {'transaction-id': 7340, 'amount': 1477},\n",
       "  {'transaction-id': 7841, 'amount': 1923},\n",
       "  {'transaction-id': 8374, 'amount': 1070},\n",
       "  {'transaction-id': 8615, 'amount': 1323},\n",
       "  {'transaction-id': 9212, 'amount': 1516},\n",
       "  {'transaction-id': 9420, 'amount': 1854},\n",
       "  {'transaction-id': 9785, 'amount': 1711},\n",
       "  {'transaction-id': 9900, 'amount': 1471}])"
      ]
     },
     "execution_count": 15,
     "metadata": {},
     "output_type": "execute_result"
    }
   ],
   "source": [
    "js.filter(lambda record: record['name'] == 'Alice').pluck('transactions').take(3)"
   ]
  },
  {
   "cell_type": "code",
   "execution_count": 16,
   "metadata": {},
   "outputs": [
    {
     "data": {
      "text/plain": [
       "({'transaction-id': 249, 'amount': 542},\n",
       " {'transaction-id': 1169, 'amount': 582},\n",
       " {'transaction-id': 1536, 'amount': 571})"
      ]
     },
     "execution_count": 16,
     "metadata": {},
     "output_type": "execute_result"
    }
   ],
   "source": [
    "(js.filter(lambda record: record['name'] == 'Alice')\n",
    "   .pluck('transactions')\n",
    "   .flatten()\n",
    "   .take(3))"
   ]
  },
  {
   "cell_type": "code",
   "execution_count": 17,
   "metadata": {},
   "outputs": [
    {
     "data": {
      "text/plain": [
       "(542, 582, 571)"
      ]
     },
     "execution_count": 17,
     "metadata": {},
     "output_type": "execute_result"
    }
   ],
   "source": [
    "(js.filter(lambda record: record['name'] == 'Alice')\n",
    "   .pluck('transactions')\n",
    "   .flatten()\n",
    "   .pluck('amount')\n",
    "   .take(3))"
   ]
  },
  {
   "cell_type": "code",
   "execution_count": 18,
   "metadata": {},
   "outputs": [
    {
     "data": {
      "text/plain": [
       "3605.875777112595"
      ]
     },
     "execution_count": 18,
     "metadata": {},
     "output_type": "execute_result"
    }
   ],
   "source": [
    "(js.filter(lambda record: record['name'] == 'Alice')\n",
    "   .pluck('transactions')\n",
    "   .flatten()\n",
    "   .pluck('amount')\n",
    "   .mean()\n",
    "   .compute())"
   ]
  },
  {
   "cell_type": "markdown",
   "metadata": {},
   "source": [
    "### Groupby and Foldby"
   ]
  },
  {
   "cell_type": "markdown",
   "metadata": {},
   "source": [
    "Often we want to group data by some function or key.  We can do this either with the `.groupby` method, which is straightforward but forces a full shuffle of the data (expensive) or with the harder-to-use but faster `.foldby` method, which does a streaming combined groupby and reduction.\n",
    "\n",
    "*  `groupby`:  Shuffles data so that all items with the same key are in the same key-value pair\n",
    "*  `foldby`:  Walks through the data accumulating a result per key\n",
    "\n",
    "*Note: the full groupby is particularly bad. In actual workloads you would do well to use `foldby` or switch to `DataFrame`s if possible.*"
   ]
  },
  {
   "cell_type": "markdown",
   "metadata": {},
   "source": [
    "### `groupby`"
   ]
  },
  {
   "cell_type": "markdown",
   "metadata": {},
   "source": [
    "Groupby collects items in your collection so that all items with the same value under some function are collected together into a key-value pair."
   ]
  },
  {
   "cell_type": "code",
   "execution_count": 19,
   "metadata": {},
   "outputs": [
    {
     "data": {
      "text/plain": [
       "[(7, ['Charlie']), (3, ['Bob', 'Dan']), (5, ['Alice', 'Edith', 'Frank'])]"
      ]
     },
     "execution_count": 19,
     "metadata": {},
     "output_type": "execute_result"
    }
   ],
   "source": [
    "b = db.from_sequence(['Alice', 'Bob', 'Charlie', 'Dan', 'Edith', 'Frank'])\n",
    "b.groupby(len).compute()  # names grouped by length"
   ]
  },
  {
   "cell_type": "code",
   "execution_count": 20,
   "metadata": {},
   "outputs": [
    {
     "data": {
      "text/plain": [
       "[(0, [0, 2, 4, 6, 8]), (1, [1, 3, 5, 7, 9])]"
      ]
     },
     "execution_count": 20,
     "metadata": {},
     "output_type": "execute_result"
    }
   ],
   "source": [
    "b = db.from_sequence(list(range(10)))\n",
    "b.groupby(lambda x: x % 2).compute()"
   ]
  },
  {
   "cell_type": "code",
   "execution_count": 21,
   "metadata": {},
   "outputs": [
    {
     "data": {
      "text/plain": [
       "[(0, 8), (1, 9)]"
      ]
     },
     "execution_count": 21,
     "metadata": {},
     "output_type": "execute_result"
    }
   ],
   "source": [
    "b.groupby(lambda x: x % 2).starmap(lambda k, v: (k, max(v))).compute()"
   ]
  },
  {
   "cell_type": "markdown",
   "metadata": {},
   "source": [
    "### `foldby`"
   ]
  },
  {
   "cell_type": "markdown",
   "metadata": {},
   "source": [
    "Foldby can be quite odd at first.  It is similar to the following functions from other libraries:\n",
    "\n",
    "*  [`toolz.reduceby`](http://toolz.readthedocs.io/en/latest/streaming-analytics.html#streaming-split-apply-combine)\n",
    "*  [`pyspark.RDD.combineByKey`](http://abshinn.github.io/python/apache-spark/2014/10/11/using-combinebykey-in-apache-spark/)\n",
    "\n",
    "When using `foldby` you provide \n",
    "\n",
    "1.  A key function on which to group elements\n",
    "2.  A binary operator such as you would pass to `reduce` that you use to perform reduction per each group\n",
    "3.  A combine binary operator that can combine the results of two `reduce` calls on different parts of your dataset.\n",
    "\n",
    "Your reduction must be associative.  It will happen in parallel in each of the partitions of your dataset.  Then all of these intermediate results will be combined by the `combine` binary operator."
   ]
  },
  {
   "cell_type": "code",
   "execution_count": 22,
   "metadata": {},
   "outputs": [
    {
     "data": {
      "text/plain": [
       "[(0, 8), (1, 9)]"
      ]
     },
     "execution_count": 22,
     "metadata": {},
     "output_type": "execute_result"
    }
   ],
   "source": [
    "is_even = lambda x: x % 2\n",
    "b.foldby(is_even, binop=max, combine=max).compute()"
   ]
  },
  {
   "cell_type": "markdown",
   "metadata": {},
   "source": [
    "### Example with account data"
   ]
  },
  {
   "cell_type": "markdown",
   "metadata": {},
   "source": [
    "We find the number of people with the same name."
   ]
  },
  {
   "cell_type": "code",
   "execution_count": 23,
   "metadata": {},
   "outputs": [
    {
     "name": "stdout",
     "output_type": "stream",
     "text": [
      "[('Alice', 76), ('Alice', 76), ('Alice', 78), ('Alice', 92), ('Bob', 138), ('Bob', 139), ('Bob', 142), ('Bob', 167), ('Charlie', 59), ('Charlie', 60), ('Charlie', 60), ('Charlie', 67), ('Dan', 147), ('Dan', 175), ('Dan', 300), ('Edith', 130), ('Edith', 132), ('Edith', 132), ('Edith', 154), ('Frank', 116), ('Frank', 118), ('Frank', 118), ('Frank', 137), ('George', 60), ('George', 60), ('George', 60), ('George', 70), ('Hannah', 104), ('Hannah', 105), ('Hannah', 107), ('Hannah', 123), ('Ingrid', 107), ('Ingrid', 109), ('Ingrid', 111), ('Ingrid', 128), ('Jerry', 107), ('Jerry', 126), ('Jerry', 215), ('Kevin', 166), ('Kevin', 168), ('Kevin', 168), ('Kevin', 193), ('Laura', 285), ('Laura', 308), ('Michael', 160), ('Michael', 162), ('Michael', 164), ('Michael', 189), ('Norbert', 72), ('Norbert', 72), ('Norbert', 72), ('Norbert', 84), ('Oliver', 96), ('Oliver', 96), ('Oliver', 96), ('Oliver', 112), ('Patricia', 83), ('Patricia', 84), ('Patricia', 84), ('Patricia', 96), ('Quinn', 116), ('Quinn', 118), ('Quinn', 120), ('Quinn', 140), ('Ray', 107), ('Ray', 107), ('Ray', 108), ('Ray', 124), ('Sarah', 96), ('Sarah', 96), ('Sarah', 96), ('Sarah', 112), ('Tim', 108), ('Tim', 108), ('Tim', 108), ('Tim', 126), ('Ursula', 120), ('Ursula', 120), ('Ursula', 120), ('Ursula', 140), ('Victor', 165), ('Victor', 167), ('Victor', 359), ('Wendy', 108), ('Wendy', 108), ('Wendy', 108), ('Wendy', 126), ('Xavier', 136), ('Xavier', 140), ('Xavier', 142), ('Xavier', 162), ('Yvonne', 99), ('Yvonne', 103), ('Yvonne', 104), ('Yvonne', 118), ('Zelda', 96), ('Zelda', 96), ('Zelda', 96), ('Zelda', 112)]\n",
      "CPU times: user 1.6 s, sys: 117 ms, total: 1.72 s\n",
      "Wall time: 8.91 s\n"
     ]
    }
   ],
   "source": [
    "%%time\n",
    "# Warning, this one takes a while...\n",
    "result = js.groupby(lambda item: item['name']).starmap(lambda k, v: (k, len(v))).compute()\n",
    "print(sorted(result))"
   ]
  },
  {
   "cell_type": "code",
   "execution_count": 24,
   "metadata": {},
   "outputs": [
    {
     "name": "stdout",
     "output_type": "stream",
     "text": [
      "[('Alice', 322), ('Bob', 586), ('Charlie', 246), ('Dan', 622), ('Edith', 548), ('Frank', 489), ('George', 250), ('Hannah', 439), ('Ingrid', 455), ('Jerry', 448), ('Kevin', 695), ('Laura', 593), ('Michael', 675), ('Norbert', 300), ('Oliver', 400), ('Patricia', 347), ('Quinn', 494), ('Ray', 446), ('Sarah', 400), ('Tim', 450), ('Ursula', 500), ('Victor', 691), ('Wendy', 450), ('Xavier', 580), ('Yvonne', 424), ('Zelda', 400)]\n",
      "CPU times: user 157 ms, sys: 9.12 ms, total: 166 ms\n",
      "Wall time: 608 ms\n"
     ]
    }
   ],
   "source": [
    "%%time\n",
    "# This one is comparatively fast and produces the same result.\n",
    "from operator import add\n",
    "def incr(tot, _):\n",
    "    return tot+1\n",
    "\n",
    "result = js.foldby(key='name', \n",
    "                   binop=incr, \n",
    "                   initial=0, \n",
    "                   combine=add, \n",
    "                   combine_initial=0).compute()\n",
    "print(sorted(result))"
   ]
  },
  {
   "cell_type": "markdown",
   "metadata": {},
   "source": [
    "### Exercise: compute total amount per name"
   ]
  },
  {
   "cell_type": "markdown",
   "metadata": {},
   "source": [
    "We want to groupby (or foldby) the `name` key, then add up the all of the amounts for each name.\n",
    "\n",
    "Steps\n",
    "\n",
    "1.  Create a small function that, given a dictionary like \n",
    "\n",
    "        {'name': 'Alice', 'transactions': [{'amount': 1, 'id': 123}, {'amount': 2, 'id': 456}]}\n",
    "        \n",
    "    produces the sum of the amounts, e.g. `3`\n",
    "    \n",
    "2.  Slightly change the binary operator of the `foldby` example above so that the binary operator doesn't count the number of entries, but instead accumulates the sum of the amounts."
   ]
  },
  {
   "cell_type": "code",
   "execution_count": 25,
   "metadata": {},
   "outputs": [],
   "source": [
    "# Your code here..."
   ]
  },
  {
   "cell_type": "markdown",
   "metadata": {},
   "source": [
    "## DataFrames"
   ]
  },
  {
   "cell_type": "markdown",
   "metadata": {},
   "source": [
    "For the same reasons that Pandas is often faster than pure Python, `dask.dataframe` can be faster than `dask.bag`.  We will work more with DataFrames later, but from for the bag point of view, they are frequently the end-point of the \"messy\" part of data ingestion—once the data can be made into a data-frame, then complex split-apply-combine logic will become much more straight-forward and efficient.\n",
    "\n",
    "You can transform a bag with a simple tuple or flat dictionary structure into a `dask.dataframe` with the `to_dataframe` method."
   ]
  },
  {
   "cell_type": "code",
   "execution_count": 26,
   "metadata": {},
   "outputs": [
    {
     "data": {
      "text/html": [
       "<div>\n",
       "<style scoped>\n",
       "    .dataframe tbody tr th:only-of-type {\n",
       "        vertical-align: middle;\n",
       "    }\n",
       "\n",
       "    .dataframe tbody tr th {\n",
       "        vertical-align: top;\n",
       "    }\n",
       "\n",
       "    .dataframe thead th {\n",
       "        text-align: right;\n",
       "    }\n",
       "</style>\n",
       "<table border=\"1\" class=\"dataframe\">\n",
       "  <thead>\n",
       "    <tr style=\"text-align: right;\">\n",
       "      <th></th>\n",
       "      <th>id</th>\n",
       "      <th>name</th>\n",
       "      <th>transactions</th>\n",
       "    </tr>\n",
       "  </thead>\n",
       "  <tbody>\n",
       "    <tr>\n",
       "      <th>0</th>\n",
       "      <td>0</td>\n",
       "      <td>Alice</td>\n",
       "      <td>[{'transaction-id': 249, 'amount': 542}, {'tra...</td>\n",
       "    </tr>\n",
       "    <tr>\n",
       "      <th>1</th>\n",
       "      <td>1</td>\n",
       "      <td>Edith</td>\n",
       "      <td>[{'transaction-id': 298, 'amount': 226}, {'tra...</td>\n",
       "    </tr>\n",
       "    <tr>\n",
       "      <th>2</th>\n",
       "      <td>2</td>\n",
       "      <td>Bob</td>\n",
       "      <td>[{'transaction-id': 363, 'amount': 256}, {'tra...</td>\n",
       "    </tr>\n",
       "    <tr>\n",
       "      <th>3</th>\n",
       "      <td>3</td>\n",
       "      <td>Laura</td>\n",
       "      <td>[{'transaction-id': 229, 'amount': 587}, {'tra...</td>\n",
       "    </tr>\n",
       "    <tr>\n",
       "      <th>4</th>\n",
       "      <td>4</td>\n",
       "      <td>Dan</td>\n",
       "      <td>[{'transaction-id': 43, 'amount': -368}, {'tra...</td>\n",
       "    </tr>\n",
       "  </tbody>\n",
       "</table>\n",
       "</div>"
      ],
      "text/plain": [
       "   id   name                                       transactions\n",
       "0   0  Alice  [{'transaction-id': 249, 'amount': 542}, {'tra...\n",
       "1   1  Edith  [{'transaction-id': 298, 'amount': 226}, {'tra...\n",
       "2   2    Bob  [{'transaction-id': 363, 'amount': 256}, {'tra...\n",
       "3   3  Laura  [{'transaction-id': 229, 'amount': 587}, {'tra...\n",
       "4   4    Dan  [{'transaction-id': 43, 'amount': -368}, {'tra..."
      ]
     },
     "execution_count": 26,
     "metadata": {},
     "output_type": "execute_result"
    }
   ],
   "source": [
    "df1 = js.to_dataframe()\n",
    "df1.head()"
   ]
  },
  {
   "cell_type": "markdown",
   "metadata": {},
   "source": [
    "This now looks like a well-defined DataFrame, and we can apply Pandas-like computations to it efficiently."
   ]
  },
  {
   "cell_type": "markdown",
   "metadata": {},
   "source": [
    "Using a Dask DataFrame, how long does it take to do our prior computation of numbers of people with the same name?  It turns out that `dask.dataframe.groupby()` beats `dask.bag.groupby()` more than an order of magnitude; but it still cannot match `dask.bag.foldby()` for this case."
   ]
  },
  {
   "cell_type": "code",
   "execution_count": 27,
   "metadata": {},
   "outputs": [
    {
     "name": "stdout",
     "output_type": "stream",
     "text": [
      "CPU times: user 191 ms, sys: 19.3 ms, total: 210 ms\n",
      "Wall time: 1.68 s\n"
     ]
    },
    {
     "data": {
      "text/plain": [
       "name\n",
       "Alice      322\n",
       "Bob        586\n",
       "Charlie    246\n",
       "Dan        622\n",
       "Edith      548\n",
       "Name: id, dtype: int64"
      ]
     },
     "execution_count": 27,
     "metadata": {},
     "output_type": "execute_result"
    }
   ],
   "source": [
    "%time df1.groupby('name').id.count().compute().head()"
   ]
  },
  {
   "cell_type": "markdown",
   "metadata": {},
   "source": [
    "### Denormalization"
   ]
  },
  {
   "cell_type": "markdown",
   "metadata": {},
   "source": [
    "This DataFrame format is less-than-optimal because the `transactions` column is filled with nested data so Pandas has to revert to `object` dtype, which is quite slow in Pandas.  Ideally we want to transform to a dataframe only after we have flattened our data so that each record is a single `int`, `string`, `float`, etc.."
   ]
  },
  {
   "cell_type": "code",
   "execution_count": 28,
   "metadata": {},
   "outputs": [
    {
     "data": {
      "text/plain": [
       "({'id': 0, 'name': 'Alice', 'amount': 542, 'transaction-id': 249},\n",
       " {'id': 0, 'name': 'Alice', 'amount': 582, 'transaction-id': 1169},\n",
       " {'id': 0, 'name': 'Alice', 'amount': 571, 'transaction-id': 1536})"
      ]
     },
     "execution_count": 28,
     "metadata": {},
     "output_type": "execute_result"
    }
   ],
   "source": [
    "def denormalize(record):\n",
    "    # returns a list for every nested item, each transaction of each person\n",
    "    return [{'id': record['id'], \n",
    "             'name': record['name'], \n",
    "             'amount': transaction['amount'], \n",
    "             'transaction-id': transaction['transaction-id']}\n",
    "            for transaction in record['transactions']]\n",
    "\n",
    "transactions = js.map(denormalize).flatten()\n",
    "transactions.take(3)"
   ]
  },
  {
   "cell_type": "code",
   "execution_count": 29,
   "metadata": {},
   "outputs": [
    {
     "data": {
      "text/html": [
       "<div>\n",
       "<style scoped>\n",
       "    .dataframe tbody tr th:only-of-type {\n",
       "        vertical-align: middle;\n",
       "    }\n",
       "\n",
       "    .dataframe tbody tr th {\n",
       "        vertical-align: top;\n",
       "    }\n",
       "\n",
       "    .dataframe thead th {\n",
       "        text-align: right;\n",
       "    }\n",
       "</style>\n",
       "<table border=\"1\" class=\"dataframe\">\n",
       "  <thead>\n",
       "    <tr style=\"text-align: right;\">\n",
       "      <th></th>\n",
       "      <th>id</th>\n",
       "      <th>name</th>\n",
       "      <th>amount</th>\n",
       "      <th>transaction-id</th>\n",
       "    </tr>\n",
       "  </thead>\n",
       "  <tbody>\n",
       "    <tr>\n",
       "      <th>0</th>\n",
       "      <td>0</td>\n",
       "      <td>Alice</td>\n",
       "      <td>542</td>\n",
       "      <td>249</td>\n",
       "    </tr>\n",
       "    <tr>\n",
       "      <th>1</th>\n",
       "      <td>0</td>\n",
       "      <td>Alice</td>\n",
       "      <td>582</td>\n",
       "      <td>1169</td>\n",
       "    </tr>\n",
       "    <tr>\n",
       "      <th>2</th>\n",
       "      <td>0</td>\n",
       "      <td>Alice</td>\n",
       "      <td>571</td>\n",
       "      <td>1536</td>\n",
       "    </tr>\n",
       "    <tr>\n",
       "      <th>3</th>\n",
       "      <td>0</td>\n",
       "      <td>Alice</td>\n",
       "      <td>604</td>\n",
       "      <td>2610</td>\n",
       "    </tr>\n",
       "    <tr>\n",
       "      <th>4</th>\n",
       "      <td>0</td>\n",
       "      <td>Alice</td>\n",
       "      <td>525</td>\n",
       "      <td>3188</td>\n",
       "    </tr>\n",
       "  </tbody>\n",
       "</table>\n",
       "</div>"
      ],
      "text/plain": [
       "   id   name  amount  transaction-id\n",
       "0   0  Alice     542             249\n",
       "1   0  Alice     582            1169\n",
       "2   0  Alice     571            1536\n",
       "3   0  Alice     604            2610\n",
       "4   0  Alice     525            3188"
      ]
     },
     "execution_count": 29,
     "metadata": {},
     "output_type": "execute_result"
    }
   ],
   "source": [
    "df = transactions.to_dataframe()\n",
    "df.head()"
   ]
  },
  {
   "cell_type": "code",
   "execution_count": 30,
   "metadata": {},
   "outputs": [
    {
     "name": "stdout",
     "output_type": "stream",
     "text": [
      "CPU times: user 195 ms, sys: 17.3 ms, total: 212 ms\n",
      "Wall time: 1.47 s\n"
     ]
    },
    {
     "data": {
      "text/plain": [
       "name\n",
       "Alice        8686\n",
       "Bob         25415\n",
       "Charlie     10941\n",
       "Dan         15501\n",
       "Edith       28684\n",
       "Frank       22323\n",
       "George      12147\n",
       "Hannah      14994\n",
       "Ingrid      31831\n",
       "Jerry        8086\n",
       "Kevin       37982\n",
       "Laura       15948\n",
       "Michael     23236\n",
       "Norbert     13792\n",
       "Oliver      21010\n",
       "Patricia    12385\n",
       "Quinn       17927\n",
       "Ray         10705\n",
       "Sarah       10635\n",
       "Tim         25638\n",
       "Ursula      15534\n",
       "Victor      31657\n",
       "Wendy       32119\n",
       "Xavier      29894\n",
       "Yvonne      10052\n",
       "Zelda       12878\n",
       "Name: transaction-id, dtype: int64"
      ]
     },
     "execution_count": 30,
     "metadata": {},
     "output_type": "execute_result"
    }
   ],
   "source": [
    "%%time\n",
    "# number of transactions per name\n",
    "# note that the time here includes the data load and ingestion\n",
    "df.groupby('name')['transaction-id'].count().compute()"
   ]
  },
  {
   "cell_type": "markdown",
   "metadata": {},
   "source": [
    "## Limitations"
   ]
  },
  {
   "cell_type": "markdown",
   "metadata": {},
   "source": [
    "Bags provide very general computation (any Python function.)  This generality\n",
    "comes at cost.  Bags have the following known limitations\n",
    "\n",
    "1.  Bag operations tend to be slower than array/dataframe computations in the\n",
    "    same way that Python tends to be slower than NumPy/Pandas\n",
    "2.  ``Bag.groupby`` is slow.  You should try to use ``Bag.foldby`` if possible.\n",
    "    Using ``Bag.foldby`` requires more thought. Even better, consider creating\n",
    "    a normalised dataframe."
   ]
  },
  {
   "cell_type": "markdown",
   "metadata": {},
   "source": [
    "## Learn More\n",
    "\n",
    "* [Bag documentation](https://docs.dask.org/en/latest/bag.html)\n",
    "* [Bag screencast](https://youtu.be/-qIiJ1XtSv0)\n",
    "* [Bag API](https://docs.dask.org/en/latest/bag-api.html)\n",
    "* [Bag examples](https://examples.dask.org/bag.html)"
   ]
  },
  {
   "cell_type": "markdown",
   "metadata": {},
   "source": [
    "## Shutdown"
   ]
  },
  {
   "cell_type": "code",
   "execution_count": 31,
   "metadata": {},
   "outputs": [],
   "source": [
    "client.shutdown()"
   ]
  }
 ],
 "metadata": {
  "anaconda-cloud": {},
  "kernelspec": {
   "display_name": "Python 3",
   "language": "python",
   "name": "python3"
  },
  "language_info": {
   "codemirror_mode": {
    "name": "ipython",
    "version": 3
   },
   "file_extension": ".py",
   "mimetype": "text/x-python",
   "name": "python",
   "nbconvert_exporter": "python",
   "pygments_lexer": "ipython3",
   "version": "3.8.3"
  }
 },
 "nbformat": 4,
 "nbformat_minor": 4
}
