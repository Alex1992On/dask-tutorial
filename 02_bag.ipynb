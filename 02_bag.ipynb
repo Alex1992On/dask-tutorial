{
 "cells": [
  {
   "cell_type": "markdown",
   "metadata": {},
   "source": [
    "<img src=\"images/dask_horizontal.svg\" align=\"right\" width=\"30%\">"
   ]
  },
  {
   "cell_type": "markdown",
   "metadata": {},
   "source": [
    "# Bag: Parallel Lists for semi-structured data"
   ]
  },
  {
   "cell_type": "markdown",
   "metadata": {},
   "source": [
    "Dask-bag excels in processing data that can be represented as a sequence of arbitrary inputs. We'll refer to this as \"messy\" data, because it can contain complex nested structures, missing fields, mixtures of data types, etc. The *functional* programming style fits very nicely with standard Python iteration, such as can be found in the `itertools` module.\n",
    "\n",
    "Messy data is often encountered at the beginning of data processing pipelines when large volumes of raw data are first consumed. The initial set of data might be JSON, CSV, XML, or any other format that does not enforce strict structure and datatypes.\n",
    "For this reason, the initial data massaging and processing is often done with Python `list`s, `dict`s, and `set`s.\n",
    "\n",
    "These core data structures are optimized for general-purpose storage and processing.  Adding streaming computation with iterators/generator expressions or libraries like `itertools` or [`toolz`](https://toolz.readthedocs.io/en/latest/) let us process large volumes in a small space.  If we combine this with parallel processing then we can churn through a fair amount of data.\n",
    "\n",
    "Dask.bag is a high level Dask collection to automate common workloads of this form.  In a nutshell\n",
    "\n",
    "    dask.bag = map, filter, toolz + parallel execution\n",
    "    \n",
    "**Related Documentation**\n",
    "\n",
    "* [Bag documentation](https://docs.dask.org/en/latest/bag.html)\n",
    "* [Bag screencast](https://youtu.be/-qIiJ1XtSv0)\n",
    "* [Bag API](https://docs.dask.org/en/latest/bag-api.html)\n",
    "* [Bag examples](https://examples.dask.org/bag.html)"
   ]
  },
  {
   "cell_type": "markdown",
   "metadata": {},
   "source": [
    "## Create data"
   ]
  },
  {
   "cell_type": "code",
   "execution_count": 1,
   "metadata": {},
   "outputs": [],
   "source": [
    "%run prep.py -d accounts"
   ]
  },
  {
   "cell_type": "markdown",
   "metadata": {},
   "source": [
    "## Setup"
   ]
  },
  {
   "cell_type": "markdown",
   "metadata": {},
   "source": [
    "Again, we'll use the distributed scheduler. Schedulers will be explained in depth [later](05_distributed.ipynb)."
   ]
  },
  {
   "cell_type": "code",
   "execution_count": 2,
   "metadata": {},
   "outputs": [],
   "source": [
    "from dask.distributed import Client\n",
    "\n",
    "client = Client(n_workers=4)"
   ]
  },
  {
   "cell_type": "markdown",
   "metadata": {},
   "source": [
    "## Creation"
   ]
  },
  {
   "cell_type": "markdown",
   "metadata": {},
   "source": [
    "You can create a `Bag` from a Python sequence, from files, from data on S3, etc.\n",
    "We demonstrate using `.take()` to show elements of the data. (Doing `.take(1)` results in a tuple with one element)\n",
    "\n",
    "Note that the data are partitioned into blocks, and there are many items per block. In the first example, the two partitions contain five elements each, and in the following two, each file is partitioned into one or more bytes blocks."
   ]
  },
  {
   "cell_type": "code",
   "execution_count": 3,
   "metadata": {},
   "outputs": [
    {
     "data": {
      "text/plain": [
       "(1, 2, 3)"
      ]
     },
     "execution_count": 3,
     "metadata": {},
     "output_type": "execute_result"
    }
   ],
   "source": [
    "# each element is an integer\n",
    "import dask.bag as db\n",
    "b = db.from_sequence([1, 2, 3, 4, 5, 6, 7, 8, 9, 10], npartitions=2)\n",
    "b.take(3)"
   ]
  },
  {
   "cell_type": "code",
   "execution_count": 4,
   "metadata": {},
   "outputs": [
    {
     "data": {
      "text/plain": [
       "('{\"id\": 0, \"name\": \"Ingrid\", \"transactions\": [{\"transaction-id\": 28, \"amount\": 40}, {\"transaction-id\": 53, \"amount\": 40}, {\"transaction-id\": 135, \"amount\": 44}, {\"transaction-id\": 214, \"amount\": 44}, {\"transaction-id\": 278, \"amount\": 42}, {\"transaction-id\": 307, \"amount\": 46}, {\"transaction-id\": 453, \"amount\": 41}, {\"transaction-id\": 472, \"amount\": 44}, {\"transaction-id\": 545, \"amount\": 44}, {\"transaction-id\": 648, \"amount\": 43}, {\"transaction-id\": 691, \"amount\": 40}, {\"transaction-id\": 717, \"amount\": 42}, {\"transaction-id\": 987, \"amount\": 44}, {\"transaction-id\": 1016, \"amount\": 42}, {\"transaction-id\": 1026, \"amount\": 46}, {\"transaction-id\": 1150, \"amount\": 44}, {\"transaction-id\": 1240, \"amount\": 45}, {\"transaction-id\": 1339, \"amount\": 44}, {\"transaction-id\": 1368, \"amount\": 39}, {\"transaction-id\": 1439, \"amount\": 43}, {\"transaction-id\": 1504, \"amount\": 38}, {\"transaction-id\": 1541, \"amount\": 37}, {\"transaction-id\": 1641, \"amount\": 45}, {\"transaction-id\": 1690, \"amount\": 43}, {\"transaction-id\": 1694, \"amount\": 44}, {\"transaction-id\": 1743, \"amount\": 45}, {\"transaction-id\": 1782, \"amount\": 45}, {\"transaction-id\": 1828, \"amount\": 40}, {\"transaction-id\": 1863, \"amount\": 39}, {\"transaction-id\": 1937, \"amount\": 40}, {\"transaction-id\": 2021, \"amount\": 44}, {\"transaction-id\": 2041, \"amount\": 46}, {\"transaction-id\": 2057, \"amount\": 45}, {\"transaction-id\": 2127, \"amount\": 46}, {\"transaction-id\": 2381, \"amount\": 44}, {\"transaction-id\": 2489, \"amount\": 45}, {\"transaction-id\": 2510, \"amount\": 43}, {\"transaction-id\": 2563, \"amount\": 42}, {\"transaction-id\": 2583, \"amount\": 41}, {\"transaction-id\": 2623, \"amount\": 43}, {\"transaction-id\": 2674, \"amount\": 43}, {\"transaction-id\": 2711, \"amount\": 42}, {\"transaction-id\": 2721, \"amount\": 39}, {\"transaction-id\": 2751, \"amount\": 42}, {\"transaction-id\": 2848, \"amount\": 42}, {\"transaction-id\": 2909, \"amount\": 44}, {\"transaction-id\": 2951, \"amount\": 43}, {\"transaction-id\": 3010, \"amount\": 44}, {\"transaction-id\": 3020, \"amount\": 43}, {\"transaction-id\": 3145, \"amount\": 41}, {\"transaction-id\": 3147, \"amount\": 44}, {\"transaction-id\": 3152, \"amount\": 43}, {\"transaction-id\": 3210, \"amount\": 44}, {\"transaction-id\": 3218, \"amount\": 45}, {\"transaction-id\": 3238, \"amount\": 47}, {\"transaction-id\": 3306, \"amount\": 43}, {\"transaction-id\": 3620, \"amount\": 46}, {\"transaction-id\": 3681, \"amount\": 40}, {\"transaction-id\": 3724, \"amount\": 46}, {\"transaction-id\": 3745, \"amount\": 43}, {\"transaction-id\": 3859, \"amount\": 48}, {\"transaction-id\": 3983, \"amount\": 41}, {\"transaction-id\": 4044, \"amount\": 40}, {\"transaction-id\": 4047, \"amount\": 40}, {\"transaction-id\": 4072, \"amount\": 41}, {\"transaction-id\": 4528, \"amount\": 43}, {\"transaction-id\": 4625, \"amount\": 40}, {\"transaction-id\": 4683, \"amount\": 42}, {\"transaction-id\": 4721, \"amount\": 40}, {\"transaction-id\": 4760, \"amount\": 40}, {\"transaction-id\": 4895, \"amount\": 41}, {\"transaction-id\": 5003, \"amount\": 40}, {\"transaction-id\": 5079, \"amount\": 44}, {\"transaction-id\": 5150, \"amount\": 44}, {\"transaction-id\": 5192, \"amount\": 43}, {\"transaction-id\": 5233, \"amount\": 40}, {\"transaction-id\": 5257, \"amount\": 41}, {\"transaction-id\": 5274, \"amount\": 46}, {\"transaction-id\": 5450, \"amount\": 40}, {\"transaction-id\": 5509, \"amount\": 44}, {\"transaction-id\": 5596, \"amount\": 41}, {\"transaction-id\": 5671, \"amount\": 44}, {\"transaction-id\": 5720, \"amount\": 44}, {\"transaction-id\": 5969, \"amount\": 39}, {\"transaction-id\": 5983, \"amount\": 48}, {\"transaction-id\": 6031, \"amount\": 44}, {\"transaction-id\": 6102, \"amount\": 42}, {\"transaction-id\": 6147, \"amount\": 41}, {\"transaction-id\": 6191, \"amount\": 42}, {\"transaction-id\": 6321, \"amount\": 44}, {\"transaction-id\": 6429, \"amount\": 39}, {\"transaction-id\": 6467, \"amount\": 42}, {\"transaction-id\": 6763, \"amount\": 42}, {\"transaction-id\": 6952, \"amount\": 45}, {\"transaction-id\": 6957, \"amount\": 43}, {\"transaction-id\": 6988, \"amount\": 42}, {\"transaction-id\": 6995, \"amount\": 38}, {\"transaction-id\": 7018, \"amount\": 40}, {\"transaction-id\": 7035, \"amount\": 36}, {\"transaction-id\": 7053, \"amount\": 44}, {\"transaction-id\": 7066, \"amount\": 43}, {\"transaction-id\": 7100, \"amount\": 38}, {\"transaction-id\": 7147, \"amount\": 44}, {\"transaction-id\": 7361, \"amount\": 44}, {\"transaction-id\": 7394, \"amount\": 37}, {\"transaction-id\": 7435, \"amount\": 42}, {\"transaction-id\": 7446, \"amount\": 42}, {\"transaction-id\": 7479, \"amount\": 40}, {\"transaction-id\": 7509, \"amount\": 45}, {\"transaction-id\": 7514, \"amount\": 45}, {\"transaction-id\": 7530, \"amount\": 41}, {\"transaction-id\": 7595, \"amount\": 43}, {\"transaction-id\": 7647, \"amount\": 40}, {\"transaction-id\": 7674, \"amount\": 48}, {\"transaction-id\": 7680, \"amount\": 45}, {\"transaction-id\": 7724, \"amount\": 44}, {\"transaction-id\": 7737, \"amount\": 41}, {\"transaction-id\": 7869, \"amount\": 45}, {\"transaction-id\": 7974, \"amount\": 39}, {\"transaction-id\": 8275, \"amount\": 42}, {\"transaction-id\": 8321, \"amount\": 46}, {\"transaction-id\": 8346, \"amount\": 40}, {\"transaction-id\": 8639, \"amount\": 42}, {\"transaction-id\": 8675, \"amount\": 42}, {\"transaction-id\": 8771, \"amount\": 44}, {\"transaction-id\": 8797, \"amount\": 44}, {\"transaction-id\": 8813, \"amount\": 38}, {\"transaction-id\": 8878, \"amount\": 40}, {\"transaction-id\": 9045, \"amount\": 41}, {\"transaction-id\": 9116, \"amount\": 42}, {\"transaction-id\": 9145, \"amount\": 44}, {\"transaction-id\": 9187, \"amount\": 37}, {\"transaction-id\": 9192, \"amount\": 44}, {\"transaction-id\": 9364, \"amount\": 45}, {\"transaction-id\": 9422, \"amount\": 41}, {\"transaction-id\": 9466, \"amount\": 43}, {\"transaction-id\": 9626, \"amount\": 44}, {\"transaction-id\": 9660, \"amount\": 43}, {\"transaction-id\": 9822, \"amount\": 39}, {\"transaction-id\": 9857, \"amount\": 42}, {\"transaction-id\": 9959, \"amount\": 42}, {\"transaction-id\": 9975, \"amount\": 46}, {\"transaction-id\": 9985, \"amount\": 40}]}\\n',)"
      ]
     },
     "execution_count": 4,
     "metadata": {},
     "output_type": "execute_result"
    }
   ],
   "source": [
    "# each element is a text file, where each line is a JSON object\n",
    "# note that the compression is handled automatically\n",
    "import os\n",
    "b = db.read_text(os.path.join('data', 'accounts.*.json.gz'))\n",
    "b.take(1)"
   ]
  },
  {
   "cell_type": "code",
   "execution_count": 5,
   "metadata": {},
   "outputs": [
    {
     "data": {
      "text/plain": [
       "('VendorID,tpep_pickup_datetime,tpep_dropoff_datetime,passenger_count,trip_distance,pickup_longitude,pickup_latitude,RateCodeID,store_and_fwd_flag,dropoff_longitude,dropoff_latitude,payment_type,fare_amount,extra,mta_tax,tip_amount,tolls_amount,improvement_surcharge,total_amount\\n',)"
      ]
     },
     "execution_count": 5,
     "metadata": {},
     "output_type": "execute_result"
    }
   ],
   "source": [
    "# Requires `s3fs` library\n",
    "# each partition is a remote CSV text file\n",
    "b = db.read_text('s3://dask-data/nyc-taxi/2015/yellow_tripdata_2015-01.csv',\n",
    "                 storage_options={'anon': True})\n",
    "b.take(1)"
   ]
  },
  {
   "cell_type": "markdown",
   "metadata": {},
   "source": [
    "## Manipulation"
   ]
  },
  {
   "cell_type": "markdown",
   "metadata": {},
   "source": [
    "`Bag` objects hold the standard functional API found in projects like the Python standard library, `toolz`, or `pyspark`, including `map`, `filter`, `groupby`, etc..\n",
    "\n",
    "Operations on `Bag` objects create new bags.  Call the `.compute()` method to trigger execution, as we saw for `Delayed` objects.  "
   ]
  },
  {
   "cell_type": "code",
   "execution_count": 6,
   "metadata": {},
   "outputs": [
    {
     "data": {
      "text/plain": [
       "dask.bag<lambda, npartitions=10>"
      ]
     },
     "execution_count": 6,
     "metadata": {},
     "output_type": "execute_result"
    }
   ],
   "source": [
    "def is_even(n):\n",
    "    return n % 2 == 0\n",
    "\n",
    "b = db.from_sequence([1, 2, 3, 4, 5, 6, 7, 8, 9, 10])\n",
    "c = b.filter(is_even).map(lambda x: x ** 2)\n",
    "c"
   ]
  },
  {
   "cell_type": "code",
   "execution_count": 7,
   "metadata": {},
   "outputs": [
    {
     "data": {
      "text/plain": [
       "[4, 16, 36, 64, 100]"
      ]
     },
     "execution_count": 7,
     "metadata": {},
     "output_type": "execute_result"
    }
   ],
   "source": [
    "# blocking form: wait for completion (which is very fast in this case)\n",
    "c.compute()"
   ]
  },
  {
   "cell_type": "markdown",
   "metadata": {},
   "source": [
    "### Example: Accounts JSON data"
   ]
  },
  {
   "cell_type": "markdown",
   "metadata": {},
   "source": [
    "We've created a fake dataset of gzipped JSON data in your data directory.  This is like the example used in the `DataFrame` example we will see later, except that it has bundled up all of the entires for each individual `id` into a single record.  This is similar to data that you might collect off of a document store database or a web API.\n",
    "\n",
    "Each line is a JSON encoded dictionary with the following keys\n",
    "\n",
    "*  id: Unique identifier of the customer\n",
    "*  name: Name of the customer\n",
    "*  transactions: List of `transaction-id`, `amount` pairs, one for each transaction for the customer in that file"
   ]
  },
  {
   "cell_type": "code",
   "execution_count": 8,
   "metadata": {},
   "outputs": [
    {
     "data": {
      "text/plain": [
       "('{\"id\": 0, \"name\": \"Ingrid\", \"transactions\": [{\"transaction-id\": 28, \"amount\": 40}, {\"transaction-id\": 53, \"amount\": 40}, {\"transaction-id\": 135, \"amount\": 44}, {\"transaction-id\": 214, \"amount\": 44}, {\"transaction-id\": 278, \"amount\": 42}, {\"transaction-id\": 307, \"amount\": 46}, {\"transaction-id\": 453, \"amount\": 41}, {\"transaction-id\": 472, \"amount\": 44}, {\"transaction-id\": 545, \"amount\": 44}, {\"transaction-id\": 648, \"amount\": 43}, {\"transaction-id\": 691, \"amount\": 40}, {\"transaction-id\": 717, \"amount\": 42}, {\"transaction-id\": 987, \"amount\": 44}, {\"transaction-id\": 1016, \"amount\": 42}, {\"transaction-id\": 1026, \"amount\": 46}, {\"transaction-id\": 1150, \"amount\": 44}, {\"transaction-id\": 1240, \"amount\": 45}, {\"transaction-id\": 1339, \"amount\": 44}, {\"transaction-id\": 1368, \"amount\": 39}, {\"transaction-id\": 1439, \"amount\": 43}, {\"transaction-id\": 1504, \"amount\": 38}, {\"transaction-id\": 1541, \"amount\": 37}, {\"transaction-id\": 1641, \"amount\": 45}, {\"transaction-id\": 1690, \"amount\": 43}, {\"transaction-id\": 1694, \"amount\": 44}, {\"transaction-id\": 1743, \"amount\": 45}, {\"transaction-id\": 1782, \"amount\": 45}, {\"transaction-id\": 1828, \"amount\": 40}, {\"transaction-id\": 1863, \"amount\": 39}, {\"transaction-id\": 1937, \"amount\": 40}, {\"transaction-id\": 2021, \"amount\": 44}, {\"transaction-id\": 2041, \"amount\": 46}, {\"transaction-id\": 2057, \"amount\": 45}, {\"transaction-id\": 2127, \"amount\": 46}, {\"transaction-id\": 2381, \"amount\": 44}, {\"transaction-id\": 2489, \"amount\": 45}, {\"transaction-id\": 2510, \"amount\": 43}, {\"transaction-id\": 2563, \"amount\": 42}, {\"transaction-id\": 2583, \"amount\": 41}, {\"transaction-id\": 2623, \"amount\": 43}, {\"transaction-id\": 2674, \"amount\": 43}, {\"transaction-id\": 2711, \"amount\": 42}, {\"transaction-id\": 2721, \"amount\": 39}, {\"transaction-id\": 2751, \"amount\": 42}, {\"transaction-id\": 2848, \"amount\": 42}, {\"transaction-id\": 2909, \"amount\": 44}, {\"transaction-id\": 2951, \"amount\": 43}, {\"transaction-id\": 3010, \"amount\": 44}, {\"transaction-id\": 3020, \"amount\": 43}, {\"transaction-id\": 3145, \"amount\": 41}, {\"transaction-id\": 3147, \"amount\": 44}, {\"transaction-id\": 3152, \"amount\": 43}, {\"transaction-id\": 3210, \"amount\": 44}, {\"transaction-id\": 3218, \"amount\": 45}, {\"transaction-id\": 3238, \"amount\": 47}, {\"transaction-id\": 3306, \"amount\": 43}, {\"transaction-id\": 3620, \"amount\": 46}, {\"transaction-id\": 3681, \"amount\": 40}, {\"transaction-id\": 3724, \"amount\": 46}, {\"transaction-id\": 3745, \"amount\": 43}, {\"transaction-id\": 3859, \"amount\": 48}, {\"transaction-id\": 3983, \"amount\": 41}, {\"transaction-id\": 4044, \"amount\": 40}, {\"transaction-id\": 4047, \"amount\": 40}, {\"transaction-id\": 4072, \"amount\": 41}, {\"transaction-id\": 4528, \"amount\": 43}, {\"transaction-id\": 4625, \"amount\": 40}, {\"transaction-id\": 4683, \"amount\": 42}, {\"transaction-id\": 4721, \"amount\": 40}, {\"transaction-id\": 4760, \"amount\": 40}, {\"transaction-id\": 4895, \"amount\": 41}, {\"transaction-id\": 5003, \"amount\": 40}, {\"transaction-id\": 5079, \"amount\": 44}, {\"transaction-id\": 5150, \"amount\": 44}, {\"transaction-id\": 5192, \"amount\": 43}, {\"transaction-id\": 5233, \"amount\": 40}, {\"transaction-id\": 5257, \"amount\": 41}, {\"transaction-id\": 5274, \"amount\": 46}, {\"transaction-id\": 5450, \"amount\": 40}, {\"transaction-id\": 5509, \"amount\": 44}, {\"transaction-id\": 5596, \"amount\": 41}, {\"transaction-id\": 5671, \"amount\": 44}, {\"transaction-id\": 5720, \"amount\": 44}, {\"transaction-id\": 5969, \"amount\": 39}, {\"transaction-id\": 5983, \"amount\": 48}, {\"transaction-id\": 6031, \"amount\": 44}, {\"transaction-id\": 6102, \"amount\": 42}, {\"transaction-id\": 6147, \"amount\": 41}, {\"transaction-id\": 6191, \"amount\": 42}, {\"transaction-id\": 6321, \"amount\": 44}, {\"transaction-id\": 6429, \"amount\": 39}, {\"transaction-id\": 6467, \"amount\": 42}, {\"transaction-id\": 6763, \"amount\": 42}, {\"transaction-id\": 6952, \"amount\": 45}, {\"transaction-id\": 6957, \"amount\": 43}, {\"transaction-id\": 6988, \"amount\": 42}, {\"transaction-id\": 6995, \"amount\": 38}, {\"transaction-id\": 7018, \"amount\": 40}, {\"transaction-id\": 7035, \"amount\": 36}, {\"transaction-id\": 7053, \"amount\": 44}, {\"transaction-id\": 7066, \"amount\": 43}, {\"transaction-id\": 7100, \"amount\": 38}, {\"transaction-id\": 7147, \"amount\": 44}, {\"transaction-id\": 7361, \"amount\": 44}, {\"transaction-id\": 7394, \"amount\": 37}, {\"transaction-id\": 7435, \"amount\": 42}, {\"transaction-id\": 7446, \"amount\": 42}, {\"transaction-id\": 7479, \"amount\": 40}, {\"transaction-id\": 7509, \"amount\": 45}, {\"transaction-id\": 7514, \"amount\": 45}, {\"transaction-id\": 7530, \"amount\": 41}, {\"transaction-id\": 7595, \"amount\": 43}, {\"transaction-id\": 7647, \"amount\": 40}, {\"transaction-id\": 7674, \"amount\": 48}, {\"transaction-id\": 7680, \"amount\": 45}, {\"transaction-id\": 7724, \"amount\": 44}, {\"transaction-id\": 7737, \"amount\": 41}, {\"transaction-id\": 7869, \"amount\": 45}, {\"transaction-id\": 7974, \"amount\": 39}, {\"transaction-id\": 8275, \"amount\": 42}, {\"transaction-id\": 8321, \"amount\": 46}, {\"transaction-id\": 8346, \"amount\": 40}, {\"transaction-id\": 8639, \"amount\": 42}, {\"transaction-id\": 8675, \"amount\": 42}, {\"transaction-id\": 8771, \"amount\": 44}, {\"transaction-id\": 8797, \"amount\": 44}, {\"transaction-id\": 8813, \"amount\": 38}, {\"transaction-id\": 8878, \"amount\": 40}, {\"transaction-id\": 9045, \"amount\": 41}, {\"transaction-id\": 9116, \"amount\": 42}, {\"transaction-id\": 9145, \"amount\": 44}, {\"transaction-id\": 9187, \"amount\": 37}, {\"transaction-id\": 9192, \"amount\": 44}, {\"transaction-id\": 9364, \"amount\": 45}, {\"transaction-id\": 9422, \"amount\": 41}, {\"transaction-id\": 9466, \"amount\": 43}, {\"transaction-id\": 9626, \"amount\": 44}, {\"transaction-id\": 9660, \"amount\": 43}, {\"transaction-id\": 9822, \"amount\": 39}, {\"transaction-id\": 9857, \"amount\": 42}, {\"transaction-id\": 9959, \"amount\": 42}, {\"transaction-id\": 9975, \"amount\": 46}, {\"transaction-id\": 9985, \"amount\": 40}]}\\n',\n",
       " '{\"id\": 1, \"name\": \"Sarah\", \"transactions\": [{\"transaction-id\": 8, \"amount\": 1674}, {\"transaction-id\": 85, \"amount\": 1655}, {\"transaction-id\": 145, \"amount\": 1678}, {\"transaction-id\": 157, \"amount\": 1758}, {\"transaction-id\": 170, \"amount\": 1818}, {\"transaction-id\": 177, \"amount\": 1852}, {\"transaction-id\": 195, \"amount\": 1684}, {\"transaction-id\": 265, \"amount\": 1903}, {\"transaction-id\": 279, \"amount\": 1653}, {\"transaction-id\": 281, \"amount\": 1534}, {\"transaction-id\": 332, \"amount\": 1706}, {\"transaction-id\": 366, \"amount\": 1793}, {\"transaction-id\": 411, \"amount\": 1661}, {\"transaction-id\": 425, \"amount\": 1740}, {\"transaction-id\": 450, \"amount\": 1684}, {\"transaction-id\": 461, \"amount\": 1652}, {\"transaction-id\": 467, \"amount\": 2087}, {\"transaction-id\": 473, \"amount\": 1829}, {\"transaction-id\": 521, \"amount\": 1681}, {\"transaction-id\": 526, \"amount\": 1816}, {\"transaction-id\": 537, \"amount\": 1808}, {\"transaction-id\": 564, \"amount\": 1547}, {\"transaction-id\": 609, \"amount\": 1720}, {\"transaction-id\": 702, \"amount\": 1520}, {\"transaction-id\": 772, \"amount\": 1679}, {\"transaction-id\": 815, \"amount\": 1875}, {\"transaction-id\": 898, \"amount\": 1736}, {\"transaction-id\": 909, \"amount\": 1541}, {\"transaction-id\": 919, \"amount\": 1897}, {\"transaction-id\": 924, \"amount\": 1696}, {\"transaction-id\": 1089, \"amount\": 1577}, {\"transaction-id\": 1135, \"amount\": 2023}, {\"transaction-id\": 1151, \"amount\": 1827}, {\"transaction-id\": 1165, \"amount\": 1334}, {\"transaction-id\": 1215, \"amount\": 1557}, {\"transaction-id\": 1267, \"amount\": 1885}, {\"transaction-id\": 1346, \"amount\": 1767}, {\"transaction-id\": 1449, \"amount\": 1644}, {\"transaction-id\": 1490, \"amount\": 1802}, {\"transaction-id\": 1575, \"amount\": 1455}, {\"transaction-id\": 1617, \"amount\": 1727}, {\"transaction-id\": 1623, \"amount\": 1911}, {\"transaction-id\": 1629, \"amount\": 1643}, {\"transaction-id\": 1718, \"amount\": 1772}, {\"transaction-id\": 1725, \"amount\": 1903}, {\"transaction-id\": 1770, \"amount\": 1660}, {\"transaction-id\": 1772, \"amount\": 1925}, {\"transaction-id\": 1778, \"amount\": 1879}, {\"transaction-id\": 1897, \"amount\": 1785}, {\"transaction-id\": 1926, \"amount\": 1825}, {\"transaction-id\": 1962, \"amount\": 1743}, {\"transaction-id\": 1992, \"amount\": 1846}, {\"transaction-id\": 2048, \"amount\": 2048}, {\"transaction-id\": 2075, \"amount\": 1908}, {\"transaction-id\": 2079, \"amount\": 1665}, {\"transaction-id\": 2139, \"amount\": 1669}, {\"transaction-id\": 2142, \"amount\": 1977}, {\"transaction-id\": 2231, \"amount\": 1623}, {\"transaction-id\": 2265, \"amount\": 1825}, {\"transaction-id\": 2288, \"amount\": 1686}, {\"transaction-id\": 2291, \"amount\": 1609}, {\"transaction-id\": 2318, \"amount\": 1499}, {\"transaction-id\": 2329, \"amount\": 1741}, {\"transaction-id\": 2362, \"amount\": 1814}, {\"transaction-id\": 2389, \"amount\": 1766}, {\"transaction-id\": 2400, \"amount\": 1545}, {\"transaction-id\": 2436, \"amount\": 1748}, {\"transaction-id\": 2627, \"amount\": 1358}, {\"transaction-id\": 2673, \"amount\": 1633}, {\"transaction-id\": 2684, \"amount\": 1860}, {\"transaction-id\": 2734, \"amount\": 1557}, {\"transaction-id\": 2738, \"amount\": 1821}, {\"transaction-id\": 2989, \"amount\": 1834}, {\"transaction-id\": 3017, \"amount\": 1627}, {\"transaction-id\": 3023, \"amount\": 1786}, {\"transaction-id\": 3029, \"amount\": 1757}, {\"transaction-id\": 3093, \"amount\": 1718}, {\"transaction-id\": 3202, \"amount\": 1756}, {\"transaction-id\": 3293, \"amount\": 1709}, {\"transaction-id\": 3351, \"amount\": 1874}, {\"transaction-id\": 3352, \"amount\": 2049}, {\"transaction-id\": 3358, \"amount\": 1768}, {\"transaction-id\": 3385, \"amount\": 1629}, {\"transaction-id\": 3432, \"amount\": 1858}, {\"transaction-id\": 3437, \"amount\": 1706}, {\"transaction-id\": 3493, \"amount\": 1767}, {\"transaction-id\": 3564, \"amount\": 1698}, {\"transaction-id\": 3578, \"amount\": 1793}, {\"transaction-id\": 3610, \"amount\": 1512}, {\"transaction-id\": 3786, \"amount\": 1514}, {\"transaction-id\": 3836, \"amount\": 1880}, {\"transaction-id\": 3923, \"amount\": 1564}, {\"transaction-id\": 3926, \"amount\": 1606}, {\"transaction-id\": 3951, \"amount\": 1694}, {\"transaction-id\": 4054, \"amount\": 1869}, {\"transaction-id\": 4170, \"amount\": 1890}, {\"transaction-id\": 4229, \"amount\": 1702}, {\"transaction-id\": 4241, \"amount\": 1758}, {\"transaction-id\": 4280, \"amount\": 1930}, {\"transaction-id\": 4314, \"amount\": 1758}, {\"transaction-id\": 4599, \"amount\": 1503}, {\"transaction-id\": 4600, \"amount\": 1738}, {\"transaction-id\": 4653, \"amount\": 2011}, {\"transaction-id\": 4656, \"amount\": 1894}, {\"transaction-id\": 4731, \"amount\": 1756}, {\"transaction-id\": 4746, \"amount\": 1652}, {\"transaction-id\": 4747, \"amount\": 1831}, {\"transaction-id\": 4755, \"amount\": 1771}, {\"transaction-id\": 4763, \"amount\": 1712}, {\"transaction-id\": 4790, \"amount\": 1843}, {\"transaction-id\": 4792, \"amount\": 1780}, {\"transaction-id\": 4836, \"amount\": 1890}, {\"transaction-id\": 4854, \"amount\": 1891}, {\"transaction-id\": 4872, \"amount\": 1670}, {\"transaction-id\": 4946, \"amount\": 1645}, {\"transaction-id\": 4948, \"amount\": 1789}, {\"transaction-id\": 4951, \"amount\": 1670}, {\"transaction-id\": 4971, \"amount\": 1704}, {\"transaction-id\": 5085, \"amount\": 1823}, {\"transaction-id\": 5092, \"amount\": 1829}, {\"transaction-id\": 5145, \"amount\": 1510}, {\"transaction-id\": 5151, \"amount\": 1883}, {\"transaction-id\": 5185, \"amount\": 1769}, {\"transaction-id\": 5258, \"amount\": 1736}, {\"transaction-id\": 5277, \"amount\": 1642}, {\"transaction-id\": 5322, \"amount\": 1615}, {\"transaction-id\": 5333, \"amount\": 2051}, {\"transaction-id\": 5358, \"amount\": 1646}, {\"transaction-id\": 5372, \"amount\": 1839}, {\"transaction-id\": 5703, \"amount\": 1625}, {\"transaction-id\": 5813, \"amount\": 1762}, {\"transaction-id\": 5936, \"amount\": 1504}, {\"transaction-id\": 5953, \"amount\": 1813}, {\"transaction-id\": 6011, \"amount\": 1685}, {\"transaction-id\": 6029, \"amount\": 1977}, {\"transaction-id\": 6044, \"amount\": 1886}, {\"transaction-id\": 6155, \"amount\": 1454}, {\"transaction-id\": 6210, \"amount\": 1641}, {\"transaction-id\": 6236, \"amount\": 1667}, {\"transaction-id\": 6237, \"amount\": 1552}, {\"transaction-id\": 6245, \"amount\": 1875}, {\"transaction-id\": 6271, \"amount\": 2035}, {\"transaction-id\": 6329, \"amount\": 1839}, {\"transaction-id\": 6354, \"amount\": 1757}, {\"transaction-id\": 6393, \"amount\": 1620}, {\"transaction-id\": 6442, \"amount\": 1536}, {\"transaction-id\": 6508, \"amount\": 1848}, {\"transaction-id\": 6542, \"amount\": 1661}, {\"transaction-id\": 6557, \"amount\": 1609}, {\"transaction-id\": 6560, \"amount\": 1624}, {\"transaction-id\": 6642, \"amount\": 1743}, {\"transaction-id\": 6651, \"amount\": 1908}, {\"transaction-id\": 6682, \"amount\": 1731}, {\"transaction-id\": 6702, \"amount\": 1543}, {\"transaction-id\": 6783, \"amount\": 1728}, {\"transaction-id\": 6799, \"amount\": 1849}, {\"transaction-id\": 6855, \"amount\": 1947}, {\"transaction-id\": 6877, \"amount\": 1861}, {\"transaction-id\": 6922, \"amount\": 1617}, {\"transaction-id\": 6963, \"amount\": 1605}, {\"transaction-id\": 7042, \"amount\": 1682}, {\"transaction-id\": 7059, \"amount\": 1731}, {\"transaction-id\": 7134, \"amount\": 1628}, {\"transaction-id\": 7140, \"amount\": 1980}, {\"transaction-id\": 7183, \"amount\": 1619}, {\"transaction-id\": 7214, \"amount\": 1677}, {\"transaction-id\": 7258, \"amount\": 1630}, {\"transaction-id\": 7306, \"amount\": 1739}, {\"transaction-id\": 7325, \"amount\": 1763}, {\"transaction-id\": 7386, \"amount\": 1423}, {\"transaction-id\": 7468, \"amount\": 1615}, {\"transaction-id\": 7618, \"amount\": 1605}, {\"transaction-id\": 7629, \"amount\": 1684}, {\"transaction-id\": 7731, \"amount\": 1795}, {\"transaction-id\": 7855, \"amount\": 1942}, {\"transaction-id\": 7905, \"amount\": 1798}, {\"transaction-id\": 7951, \"amount\": 1711}, {\"transaction-id\": 7968, \"amount\": 1802}, {\"transaction-id\": 7991, \"amount\": 1901}, {\"transaction-id\": 8028, \"amount\": 1881}, {\"transaction-id\": 8044, \"amount\": 1746}, {\"transaction-id\": 8057, \"amount\": 1699}, {\"transaction-id\": 8071, \"amount\": 1873}, {\"transaction-id\": 8098, \"amount\": 1504}, {\"transaction-id\": 8109, \"amount\": 1884}, {\"transaction-id\": 8210, \"amount\": 1848}, {\"transaction-id\": 8225, \"amount\": 1852}, {\"transaction-id\": 8256, \"amount\": 1766}, {\"transaction-id\": 8303, \"amount\": 1631}, {\"transaction-id\": 8542, \"amount\": 1973}, {\"transaction-id\": 8632, \"amount\": 1597}, {\"transaction-id\": 8670, \"amount\": 1719}, {\"transaction-id\": 8680, \"amount\": 1644}, {\"transaction-id\": 8723, \"amount\": 1861}, {\"transaction-id\": 8740, \"amount\": 2035}, {\"transaction-id\": 8748, \"amount\": 1817}, {\"transaction-id\": 8762, \"amount\": 1762}, {\"transaction-id\": 8957, \"amount\": 1759}, {\"transaction-id\": 9106, \"amount\": 1816}, {\"transaction-id\": 9165, \"amount\": 1565}, {\"transaction-id\": 9182, \"amount\": 1727}, {\"transaction-id\": 9236, \"amount\": 1734}, {\"transaction-id\": 9269, \"amount\": 1860}, {\"transaction-id\": 9297, \"amount\": 1655}, {\"transaction-id\": 9319, \"amount\": 1697}, {\"transaction-id\": 9462, \"amount\": 1652}, {\"transaction-id\": 9487, \"amount\": 1796}, {\"transaction-id\": 9537, \"amount\": 1806}, {\"transaction-id\": 9714, \"amount\": 1796}, {\"transaction-id\": 9860, \"amount\": 1703}, {\"transaction-id\": 9956, \"amount\": 1890}]}\\n',\n",
       " '{\"id\": 2, \"name\": \"Edith\", \"transactions\": [{\"transaction-id\": 651, \"amount\": -1031}, {\"transaction-id\": 1364, \"amount\": -775}, {\"transaction-id\": 3260, \"amount\": -998}, {\"transaction-id\": 3518, \"amount\": -1270}, {\"transaction-id\": 3777, \"amount\": -1165}, {\"transaction-id\": 4440, \"amount\": -770}, {\"transaction-id\": 4873, \"amount\": -1040}, {\"transaction-id\": 5697, \"amount\": -964}, {\"transaction-id\": 5934, \"amount\": -1025}, {\"transaction-id\": 6461, \"amount\": -556}, {\"transaction-id\": 8726, \"amount\": -790}, {\"transaction-id\": 9680, \"amount\": -956}]}\\n')"
      ]
     },
     "execution_count": 8,
     "metadata": {},
     "output_type": "execute_result"
    }
   ],
   "source": [
    "filename = os.path.join('data', 'accounts.*.json.gz')\n",
    "lines = db.read_text(filename)\n",
    "lines.take(3)"
   ]
  },
  {
   "cell_type": "markdown",
   "metadata": {},
   "source": [
    "Our data comes out of the file as lines of text. Notice that file decompression happened automatically. We can make this data look more reasonable by mapping the `json.loads` function onto our bag."
   ]
  },
  {
   "cell_type": "code",
   "execution_count": 9,
   "metadata": {},
   "outputs": [
    {
     "data": {
      "text/plain": [
       "({'id': 0,\n",
       "  'name': 'Ingrid',\n",
       "  'transactions': [{'transaction-id': 28, 'amount': 40},\n",
       "   {'transaction-id': 53, 'amount': 40},\n",
       "   {'transaction-id': 135, 'amount': 44},\n",
       "   {'transaction-id': 214, 'amount': 44},\n",
       "   {'transaction-id': 278, 'amount': 42},\n",
       "   {'transaction-id': 307, 'amount': 46},\n",
       "   {'transaction-id': 453, 'amount': 41},\n",
       "   {'transaction-id': 472, 'amount': 44},\n",
       "   {'transaction-id': 545, 'amount': 44},\n",
       "   {'transaction-id': 648, 'amount': 43},\n",
       "   {'transaction-id': 691, 'amount': 40},\n",
       "   {'transaction-id': 717, 'amount': 42},\n",
       "   {'transaction-id': 987, 'amount': 44},\n",
       "   {'transaction-id': 1016, 'amount': 42},\n",
       "   {'transaction-id': 1026, 'amount': 46},\n",
       "   {'transaction-id': 1150, 'amount': 44},\n",
       "   {'transaction-id': 1240, 'amount': 45},\n",
       "   {'transaction-id': 1339, 'amount': 44},\n",
       "   {'transaction-id': 1368, 'amount': 39},\n",
       "   {'transaction-id': 1439, 'amount': 43},\n",
       "   {'transaction-id': 1504, 'amount': 38},\n",
       "   {'transaction-id': 1541, 'amount': 37},\n",
       "   {'transaction-id': 1641, 'amount': 45},\n",
       "   {'transaction-id': 1690, 'amount': 43},\n",
       "   {'transaction-id': 1694, 'amount': 44},\n",
       "   {'transaction-id': 1743, 'amount': 45},\n",
       "   {'transaction-id': 1782, 'amount': 45},\n",
       "   {'transaction-id': 1828, 'amount': 40},\n",
       "   {'transaction-id': 1863, 'amount': 39},\n",
       "   {'transaction-id': 1937, 'amount': 40},\n",
       "   {'transaction-id': 2021, 'amount': 44},\n",
       "   {'transaction-id': 2041, 'amount': 46},\n",
       "   {'transaction-id': 2057, 'amount': 45},\n",
       "   {'transaction-id': 2127, 'amount': 46},\n",
       "   {'transaction-id': 2381, 'amount': 44},\n",
       "   {'transaction-id': 2489, 'amount': 45},\n",
       "   {'transaction-id': 2510, 'amount': 43},\n",
       "   {'transaction-id': 2563, 'amount': 42},\n",
       "   {'transaction-id': 2583, 'amount': 41},\n",
       "   {'transaction-id': 2623, 'amount': 43},\n",
       "   {'transaction-id': 2674, 'amount': 43},\n",
       "   {'transaction-id': 2711, 'amount': 42},\n",
       "   {'transaction-id': 2721, 'amount': 39},\n",
       "   {'transaction-id': 2751, 'amount': 42},\n",
       "   {'transaction-id': 2848, 'amount': 42},\n",
       "   {'transaction-id': 2909, 'amount': 44},\n",
       "   {'transaction-id': 2951, 'amount': 43},\n",
       "   {'transaction-id': 3010, 'amount': 44},\n",
       "   {'transaction-id': 3020, 'amount': 43},\n",
       "   {'transaction-id': 3145, 'amount': 41},\n",
       "   {'transaction-id': 3147, 'amount': 44},\n",
       "   {'transaction-id': 3152, 'amount': 43},\n",
       "   {'transaction-id': 3210, 'amount': 44},\n",
       "   {'transaction-id': 3218, 'amount': 45},\n",
       "   {'transaction-id': 3238, 'amount': 47},\n",
       "   {'transaction-id': 3306, 'amount': 43},\n",
       "   {'transaction-id': 3620, 'amount': 46},\n",
       "   {'transaction-id': 3681, 'amount': 40},\n",
       "   {'transaction-id': 3724, 'amount': 46},\n",
       "   {'transaction-id': 3745, 'amount': 43},\n",
       "   {'transaction-id': 3859, 'amount': 48},\n",
       "   {'transaction-id': 3983, 'amount': 41},\n",
       "   {'transaction-id': 4044, 'amount': 40},\n",
       "   {'transaction-id': 4047, 'amount': 40},\n",
       "   {'transaction-id': 4072, 'amount': 41},\n",
       "   {'transaction-id': 4528, 'amount': 43},\n",
       "   {'transaction-id': 4625, 'amount': 40},\n",
       "   {'transaction-id': 4683, 'amount': 42},\n",
       "   {'transaction-id': 4721, 'amount': 40},\n",
       "   {'transaction-id': 4760, 'amount': 40},\n",
       "   {'transaction-id': 4895, 'amount': 41},\n",
       "   {'transaction-id': 5003, 'amount': 40},\n",
       "   {'transaction-id': 5079, 'amount': 44},\n",
       "   {'transaction-id': 5150, 'amount': 44},\n",
       "   {'transaction-id': 5192, 'amount': 43},\n",
       "   {'transaction-id': 5233, 'amount': 40},\n",
       "   {'transaction-id': 5257, 'amount': 41},\n",
       "   {'transaction-id': 5274, 'amount': 46},\n",
       "   {'transaction-id': 5450, 'amount': 40},\n",
       "   {'transaction-id': 5509, 'amount': 44},\n",
       "   {'transaction-id': 5596, 'amount': 41},\n",
       "   {'transaction-id': 5671, 'amount': 44},\n",
       "   {'transaction-id': 5720, 'amount': 44},\n",
       "   {'transaction-id': 5969, 'amount': 39},\n",
       "   {'transaction-id': 5983, 'amount': 48},\n",
       "   {'transaction-id': 6031, 'amount': 44},\n",
       "   {'transaction-id': 6102, 'amount': 42},\n",
       "   {'transaction-id': 6147, 'amount': 41},\n",
       "   {'transaction-id': 6191, 'amount': 42},\n",
       "   {'transaction-id': 6321, 'amount': 44},\n",
       "   {'transaction-id': 6429, 'amount': 39},\n",
       "   {'transaction-id': 6467, 'amount': 42},\n",
       "   {'transaction-id': 6763, 'amount': 42},\n",
       "   {'transaction-id': 6952, 'amount': 45},\n",
       "   {'transaction-id': 6957, 'amount': 43},\n",
       "   {'transaction-id': 6988, 'amount': 42},\n",
       "   {'transaction-id': 6995, 'amount': 38},\n",
       "   {'transaction-id': 7018, 'amount': 40},\n",
       "   {'transaction-id': 7035, 'amount': 36},\n",
       "   {'transaction-id': 7053, 'amount': 44},\n",
       "   {'transaction-id': 7066, 'amount': 43},\n",
       "   {'transaction-id': 7100, 'amount': 38},\n",
       "   {'transaction-id': 7147, 'amount': 44},\n",
       "   {'transaction-id': 7361, 'amount': 44},\n",
       "   {'transaction-id': 7394, 'amount': 37},\n",
       "   {'transaction-id': 7435, 'amount': 42},\n",
       "   {'transaction-id': 7446, 'amount': 42},\n",
       "   {'transaction-id': 7479, 'amount': 40},\n",
       "   {'transaction-id': 7509, 'amount': 45},\n",
       "   {'transaction-id': 7514, 'amount': 45},\n",
       "   {'transaction-id': 7530, 'amount': 41},\n",
       "   {'transaction-id': 7595, 'amount': 43},\n",
       "   {'transaction-id': 7647, 'amount': 40},\n",
       "   {'transaction-id': 7674, 'amount': 48},\n",
       "   {'transaction-id': 7680, 'amount': 45},\n",
       "   {'transaction-id': 7724, 'amount': 44},\n",
       "   {'transaction-id': 7737, 'amount': 41},\n",
       "   {'transaction-id': 7869, 'amount': 45},\n",
       "   {'transaction-id': 7974, 'amount': 39},\n",
       "   {'transaction-id': 8275, 'amount': 42},\n",
       "   {'transaction-id': 8321, 'amount': 46},\n",
       "   {'transaction-id': 8346, 'amount': 40},\n",
       "   {'transaction-id': 8639, 'amount': 42},\n",
       "   {'transaction-id': 8675, 'amount': 42},\n",
       "   {'transaction-id': 8771, 'amount': 44},\n",
       "   {'transaction-id': 8797, 'amount': 44},\n",
       "   {'transaction-id': 8813, 'amount': 38},\n",
       "   {'transaction-id': 8878, 'amount': 40},\n",
       "   {'transaction-id': 9045, 'amount': 41},\n",
       "   {'transaction-id': 9116, 'amount': 42},\n",
       "   {'transaction-id': 9145, 'amount': 44},\n",
       "   {'transaction-id': 9187, 'amount': 37},\n",
       "   {'transaction-id': 9192, 'amount': 44},\n",
       "   {'transaction-id': 9364, 'amount': 45},\n",
       "   {'transaction-id': 9422, 'amount': 41},\n",
       "   {'transaction-id': 9466, 'amount': 43},\n",
       "   {'transaction-id': 9626, 'amount': 44},\n",
       "   {'transaction-id': 9660, 'amount': 43},\n",
       "   {'transaction-id': 9822, 'amount': 39},\n",
       "   {'transaction-id': 9857, 'amount': 42},\n",
       "   {'transaction-id': 9959, 'amount': 42},\n",
       "   {'transaction-id': 9975, 'amount': 46},\n",
       "   {'transaction-id': 9985, 'amount': 40}]},\n",
       " {'id': 1,\n",
       "  'name': 'Sarah',\n",
       "  'transactions': [{'transaction-id': 8, 'amount': 1674},\n",
       "   {'transaction-id': 85, 'amount': 1655},\n",
       "   {'transaction-id': 145, 'amount': 1678},\n",
       "   {'transaction-id': 157, 'amount': 1758},\n",
       "   {'transaction-id': 170, 'amount': 1818},\n",
       "   {'transaction-id': 177, 'amount': 1852},\n",
       "   {'transaction-id': 195, 'amount': 1684},\n",
       "   {'transaction-id': 265, 'amount': 1903},\n",
       "   {'transaction-id': 279, 'amount': 1653},\n",
       "   {'transaction-id': 281, 'amount': 1534},\n",
       "   {'transaction-id': 332, 'amount': 1706},\n",
       "   {'transaction-id': 366, 'amount': 1793},\n",
       "   {'transaction-id': 411, 'amount': 1661},\n",
       "   {'transaction-id': 425, 'amount': 1740},\n",
       "   {'transaction-id': 450, 'amount': 1684},\n",
       "   {'transaction-id': 461, 'amount': 1652},\n",
       "   {'transaction-id': 467, 'amount': 2087},\n",
       "   {'transaction-id': 473, 'amount': 1829},\n",
       "   {'transaction-id': 521, 'amount': 1681},\n",
       "   {'transaction-id': 526, 'amount': 1816},\n",
       "   {'transaction-id': 537, 'amount': 1808},\n",
       "   {'transaction-id': 564, 'amount': 1547},\n",
       "   {'transaction-id': 609, 'amount': 1720},\n",
       "   {'transaction-id': 702, 'amount': 1520},\n",
       "   {'transaction-id': 772, 'amount': 1679},\n",
       "   {'transaction-id': 815, 'amount': 1875},\n",
       "   {'transaction-id': 898, 'amount': 1736},\n",
       "   {'transaction-id': 909, 'amount': 1541},\n",
       "   {'transaction-id': 919, 'amount': 1897},\n",
       "   {'transaction-id': 924, 'amount': 1696},\n",
       "   {'transaction-id': 1089, 'amount': 1577},\n",
       "   {'transaction-id': 1135, 'amount': 2023},\n",
       "   {'transaction-id': 1151, 'amount': 1827},\n",
       "   {'transaction-id': 1165, 'amount': 1334},\n",
       "   {'transaction-id': 1215, 'amount': 1557},\n",
       "   {'transaction-id': 1267, 'amount': 1885},\n",
       "   {'transaction-id': 1346, 'amount': 1767},\n",
       "   {'transaction-id': 1449, 'amount': 1644},\n",
       "   {'transaction-id': 1490, 'amount': 1802},\n",
       "   {'transaction-id': 1575, 'amount': 1455},\n",
       "   {'transaction-id': 1617, 'amount': 1727},\n",
       "   {'transaction-id': 1623, 'amount': 1911},\n",
       "   {'transaction-id': 1629, 'amount': 1643},\n",
       "   {'transaction-id': 1718, 'amount': 1772},\n",
       "   {'transaction-id': 1725, 'amount': 1903},\n",
       "   {'transaction-id': 1770, 'amount': 1660},\n",
       "   {'transaction-id': 1772, 'amount': 1925},\n",
       "   {'transaction-id': 1778, 'amount': 1879},\n",
       "   {'transaction-id': 1897, 'amount': 1785},\n",
       "   {'transaction-id': 1926, 'amount': 1825},\n",
       "   {'transaction-id': 1962, 'amount': 1743},\n",
       "   {'transaction-id': 1992, 'amount': 1846},\n",
       "   {'transaction-id': 2048, 'amount': 2048},\n",
       "   {'transaction-id': 2075, 'amount': 1908},\n",
       "   {'transaction-id': 2079, 'amount': 1665},\n",
       "   {'transaction-id': 2139, 'amount': 1669},\n",
       "   {'transaction-id': 2142, 'amount': 1977},\n",
       "   {'transaction-id': 2231, 'amount': 1623},\n",
       "   {'transaction-id': 2265, 'amount': 1825},\n",
       "   {'transaction-id': 2288, 'amount': 1686},\n",
       "   {'transaction-id': 2291, 'amount': 1609},\n",
       "   {'transaction-id': 2318, 'amount': 1499},\n",
       "   {'transaction-id': 2329, 'amount': 1741},\n",
       "   {'transaction-id': 2362, 'amount': 1814},\n",
       "   {'transaction-id': 2389, 'amount': 1766},\n",
       "   {'transaction-id': 2400, 'amount': 1545},\n",
       "   {'transaction-id': 2436, 'amount': 1748},\n",
       "   {'transaction-id': 2627, 'amount': 1358},\n",
       "   {'transaction-id': 2673, 'amount': 1633},\n",
       "   {'transaction-id': 2684, 'amount': 1860},\n",
       "   {'transaction-id': 2734, 'amount': 1557},\n",
       "   {'transaction-id': 2738, 'amount': 1821},\n",
       "   {'transaction-id': 2989, 'amount': 1834},\n",
       "   {'transaction-id': 3017, 'amount': 1627},\n",
       "   {'transaction-id': 3023, 'amount': 1786},\n",
       "   {'transaction-id': 3029, 'amount': 1757},\n",
       "   {'transaction-id': 3093, 'amount': 1718},\n",
       "   {'transaction-id': 3202, 'amount': 1756},\n",
       "   {'transaction-id': 3293, 'amount': 1709},\n",
       "   {'transaction-id': 3351, 'amount': 1874},\n",
       "   {'transaction-id': 3352, 'amount': 2049},\n",
       "   {'transaction-id': 3358, 'amount': 1768},\n",
       "   {'transaction-id': 3385, 'amount': 1629},\n",
       "   {'transaction-id': 3432, 'amount': 1858},\n",
       "   {'transaction-id': 3437, 'amount': 1706},\n",
       "   {'transaction-id': 3493, 'amount': 1767},\n",
       "   {'transaction-id': 3564, 'amount': 1698},\n",
       "   {'transaction-id': 3578, 'amount': 1793},\n",
       "   {'transaction-id': 3610, 'amount': 1512},\n",
       "   {'transaction-id': 3786, 'amount': 1514},\n",
       "   {'transaction-id': 3836, 'amount': 1880},\n",
       "   {'transaction-id': 3923, 'amount': 1564},\n",
       "   {'transaction-id': 3926, 'amount': 1606},\n",
       "   {'transaction-id': 3951, 'amount': 1694},\n",
       "   {'transaction-id': 4054, 'amount': 1869},\n",
       "   {'transaction-id': 4170, 'amount': 1890},\n",
       "   {'transaction-id': 4229, 'amount': 1702},\n",
       "   {'transaction-id': 4241, 'amount': 1758},\n",
       "   {'transaction-id': 4280, 'amount': 1930},\n",
       "   {'transaction-id': 4314, 'amount': 1758},\n",
       "   {'transaction-id': 4599, 'amount': 1503},\n",
       "   {'transaction-id': 4600, 'amount': 1738},\n",
       "   {'transaction-id': 4653, 'amount': 2011},\n",
       "   {'transaction-id': 4656, 'amount': 1894},\n",
       "   {'transaction-id': 4731, 'amount': 1756},\n",
       "   {'transaction-id': 4746, 'amount': 1652},\n",
       "   {'transaction-id': 4747, 'amount': 1831},\n",
       "   {'transaction-id': 4755, 'amount': 1771},\n",
       "   {'transaction-id': 4763, 'amount': 1712},\n",
       "   {'transaction-id': 4790, 'amount': 1843},\n",
       "   {'transaction-id': 4792, 'amount': 1780},\n",
       "   {'transaction-id': 4836, 'amount': 1890},\n",
       "   {'transaction-id': 4854, 'amount': 1891},\n",
       "   {'transaction-id': 4872, 'amount': 1670},\n",
       "   {'transaction-id': 4946, 'amount': 1645},\n",
       "   {'transaction-id': 4948, 'amount': 1789},\n",
       "   {'transaction-id': 4951, 'amount': 1670},\n",
       "   {'transaction-id': 4971, 'amount': 1704},\n",
       "   {'transaction-id': 5085, 'amount': 1823},\n",
       "   {'transaction-id': 5092, 'amount': 1829},\n",
       "   {'transaction-id': 5145, 'amount': 1510},\n",
       "   {'transaction-id': 5151, 'amount': 1883},\n",
       "   {'transaction-id': 5185, 'amount': 1769},\n",
       "   {'transaction-id': 5258, 'amount': 1736},\n",
       "   {'transaction-id': 5277, 'amount': 1642},\n",
       "   {'transaction-id': 5322, 'amount': 1615},\n",
       "   {'transaction-id': 5333, 'amount': 2051},\n",
       "   {'transaction-id': 5358, 'amount': 1646},\n",
       "   {'transaction-id': 5372, 'amount': 1839},\n",
       "   {'transaction-id': 5703, 'amount': 1625},\n",
       "   {'transaction-id': 5813, 'amount': 1762},\n",
       "   {'transaction-id': 5936, 'amount': 1504},\n",
       "   {'transaction-id': 5953, 'amount': 1813},\n",
       "   {'transaction-id': 6011, 'amount': 1685},\n",
       "   {'transaction-id': 6029, 'amount': 1977},\n",
       "   {'transaction-id': 6044, 'amount': 1886},\n",
       "   {'transaction-id': 6155, 'amount': 1454},\n",
       "   {'transaction-id': 6210, 'amount': 1641},\n",
       "   {'transaction-id': 6236, 'amount': 1667},\n",
       "   {'transaction-id': 6237, 'amount': 1552},\n",
       "   {'transaction-id': 6245, 'amount': 1875},\n",
       "   {'transaction-id': 6271, 'amount': 2035},\n",
       "   {'transaction-id': 6329, 'amount': 1839},\n",
       "   {'transaction-id': 6354, 'amount': 1757},\n",
       "   {'transaction-id': 6393, 'amount': 1620},\n",
       "   {'transaction-id': 6442, 'amount': 1536},\n",
       "   {'transaction-id': 6508, 'amount': 1848},\n",
       "   {'transaction-id': 6542, 'amount': 1661},\n",
       "   {'transaction-id': 6557, 'amount': 1609},\n",
       "   {'transaction-id': 6560, 'amount': 1624},\n",
       "   {'transaction-id': 6642, 'amount': 1743},\n",
       "   {'transaction-id': 6651, 'amount': 1908},\n",
       "   {'transaction-id': 6682, 'amount': 1731},\n",
       "   {'transaction-id': 6702, 'amount': 1543},\n",
       "   {'transaction-id': 6783, 'amount': 1728},\n",
       "   {'transaction-id': 6799, 'amount': 1849},\n",
       "   {'transaction-id': 6855, 'amount': 1947},\n",
       "   {'transaction-id': 6877, 'amount': 1861},\n",
       "   {'transaction-id': 6922, 'amount': 1617},\n",
       "   {'transaction-id': 6963, 'amount': 1605},\n",
       "   {'transaction-id': 7042, 'amount': 1682},\n",
       "   {'transaction-id': 7059, 'amount': 1731},\n",
       "   {'transaction-id': 7134, 'amount': 1628},\n",
       "   {'transaction-id': 7140, 'amount': 1980},\n",
       "   {'transaction-id': 7183, 'amount': 1619},\n",
       "   {'transaction-id': 7214, 'amount': 1677},\n",
       "   {'transaction-id': 7258, 'amount': 1630},\n",
       "   {'transaction-id': 7306, 'amount': 1739},\n",
       "   {'transaction-id': 7325, 'amount': 1763},\n",
       "   {'transaction-id': 7386, 'amount': 1423},\n",
       "   {'transaction-id': 7468, 'amount': 1615},\n",
       "   {'transaction-id': 7618, 'amount': 1605},\n",
       "   {'transaction-id': 7629, 'amount': 1684},\n",
       "   {'transaction-id': 7731, 'amount': 1795},\n",
       "   {'transaction-id': 7855, 'amount': 1942},\n",
       "   {'transaction-id': 7905, 'amount': 1798},\n",
       "   {'transaction-id': 7951, 'amount': 1711},\n",
       "   {'transaction-id': 7968, 'amount': 1802},\n",
       "   {'transaction-id': 7991, 'amount': 1901},\n",
       "   {'transaction-id': 8028, 'amount': 1881},\n",
       "   {'transaction-id': 8044, 'amount': 1746},\n",
       "   {'transaction-id': 8057, 'amount': 1699},\n",
       "   {'transaction-id': 8071, 'amount': 1873},\n",
       "   {'transaction-id': 8098, 'amount': 1504},\n",
       "   {'transaction-id': 8109, 'amount': 1884},\n",
       "   {'transaction-id': 8210, 'amount': 1848},\n",
       "   {'transaction-id': 8225, 'amount': 1852},\n",
       "   {'transaction-id': 8256, 'amount': 1766},\n",
       "   {'transaction-id': 8303, 'amount': 1631},\n",
       "   {'transaction-id': 8542, 'amount': 1973},\n",
       "   {'transaction-id': 8632, 'amount': 1597},\n",
       "   {'transaction-id': 8670, 'amount': 1719},\n",
       "   {'transaction-id': 8680, 'amount': 1644},\n",
       "   {'transaction-id': 8723, 'amount': 1861},\n",
       "   {'transaction-id': 8740, 'amount': 2035},\n",
       "   {'transaction-id': 8748, 'amount': 1817},\n",
       "   {'transaction-id': 8762, 'amount': 1762},\n",
       "   {'transaction-id': 8957, 'amount': 1759},\n",
       "   {'transaction-id': 9106, 'amount': 1816},\n",
       "   {'transaction-id': 9165, 'amount': 1565},\n",
       "   {'transaction-id': 9182, 'amount': 1727},\n",
       "   {'transaction-id': 9236, 'amount': 1734},\n",
       "   {'transaction-id': 9269, 'amount': 1860},\n",
       "   {'transaction-id': 9297, 'amount': 1655},\n",
       "   {'transaction-id': 9319, 'amount': 1697},\n",
       "   {'transaction-id': 9462, 'amount': 1652},\n",
       "   {'transaction-id': 9487, 'amount': 1796},\n",
       "   {'transaction-id': 9537, 'amount': 1806},\n",
       "   {'transaction-id': 9714, 'amount': 1796},\n",
       "   {'transaction-id': 9860, 'amount': 1703},\n",
       "   {'transaction-id': 9956, 'amount': 1890}]},\n",
       " {'id': 2,\n",
       "  'name': 'Edith',\n",
       "  'transactions': [{'transaction-id': 651, 'amount': -1031},\n",
       "   {'transaction-id': 1364, 'amount': -775},\n",
       "   {'transaction-id': 3260, 'amount': -998},\n",
       "   {'transaction-id': 3518, 'amount': -1270},\n",
       "   {'transaction-id': 3777, 'amount': -1165},\n",
       "   {'transaction-id': 4440, 'amount': -770},\n",
       "   {'transaction-id': 4873, 'amount': -1040},\n",
       "   {'transaction-id': 5697, 'amount': -964},\n",
       "   {'transaction-id': 5934, 'amount': -1025},\n",
       "   {'transaction-id': 6461, 'amount': -556},\n",
       "   {'transaction-id': 8726, 'amount': -790},\n",
       "   {'transaction-id': 9680, 'amount': -956}]})"
      ]
     },
     "execution_count": 9,
     "metadata": {},
     "output_type": "execute_result"
    }
   ],
   "source": [
    "import json\n",
    "js = lines.map(json.loads)\n",
    "# take: inspect first few elements\n",
    "js.take(3)"
   ]
  },
  {
   "cell_type": "markdown",
   "metadata": {},
   "source": [
    "### Basic Queries"
   ]
  },
  {
   "cell_type": "markdown",
   "metadata": {},
   "source": [
    "Once we parse our JSON data into proper Python objects (`dict`s, `list`s, etc.) we can perform more interesting queries by creating small Python functions to run on our data."
   ]
  },
  {
   "cell_type": "code",
   "execution_count": 10,
   "metadata": {},
   "outputs": [
    {
     "data": {
      "text/plain": [
       "({'id': 28,\n",
       "  'name': 'Alice',\n",
       "  'transactions': [{'transaction-id': 35, 'amount': 257},\n",
       "   {'transaction-id': 230, 'amount': 241},\n",
       "   {'transaction-id': 874, 'amount': 271},\n",
       "   {'transaction-id': 934, 'amount': 270},\n",
       "   {'transaction-id': 1310, 'amount': 247},\n",
       "   {'transaction-id': 1414, 'amount': 227},\n",
       "   {'transaction-id': 1428, 'amount': 240},\n",
       "   {'transaction-id': 1443, 'amount': 234},\n",
       "   {'transaction-id': 1462, 'amount': 264},\n",
       "   {'transaction-id': 1498, 'amount': 283},\n",
       "   {'transaction-id': 2574, 'amount': 285},\n",
       "   {'transaction-id': 2663, 'amount': 212},\n",
       "   {'transaction-id': 2681, 'amount': 263},\n",
       "   {'transaction-id': 3025, 'amount': 206},\n",
       "   {'transaction-id': 3050, 'amount': 269},\n",
       "   {'transaction-id': 3436, 'amount': 222},\n",
       "   {'transaction-id': 3703, 'amount': 301},\n",
       "   {'transaction-id': 3864, 'amount': 229},\n",
       "   {'transaction-id': 4002, 'amount': 255},\n",
       "   {'transaction-id': 4332, 'amount': 250},\n",
       "   {'transaction-id': 4801, 'amount': 249},\n",
       "   {'transaction-id': 4824, 'amount': 305},\n",
       "   {'transaction-id': 4942, 'amount': 265},\n",
       "   {'transaction-id': 5027, 'amount': 230},\n",
       "   {'transaction-id': 5212, 'amount': 261},\n",
       "   {'transaction-id': 5230, 'amount': 234},\n",
       "   {'transaction-id': 5342, 'amount': 259},\n",
       "   {'transaction-id': 5403, 'amount': 261},\n",
       "   {'transaction-id': 5412, 'amount': 283},\n",
       "   {'transaction-id': 5477, 'amount': 242},\n",
       "   {'transaction-id': 5700, 'amount': 220},\n",
       "   {'transaction-id': 5827, 'amount': 205},\n",
       "   {'transaction-id': 5951, 'amount': 218},\n",
       "   {'transaction-id': 6010, 'amount': 259},\n",
       "   {'transaction-id': 6535, 'amount': 251},\n",
       "   {'transaction-id': 6703, 'amount': 247},\n",
       "   {'transaction-id': 7033, 'amount': 238},\n",
       "   {'transaction-id': 7127, 'amount': 226},\n",
       "   {'transaction-id': 7481, 'amount': 204},\n",
       "   {'transaction-id': 7605, 'amount': 254},\n",
       "   {'transaction-id': 7763, 'amount': 226},\n",
       "   {'transaction-id': 7796, 'amount': 212},\n",
       "   {'transaction-id': 7807, 'amount': 269},\n",
       "   {'transaction-id': 7984, 'amount': 251},\n",
       "   {'transaction-id': 8373, 'amount': 258},\n",
       "   {'transaction-id': 8842, 'amount': 260},\n",
       "   {'transaction-id': 9197, 'amount': 304},\n",
       "   {'transaction-id': 9509, 'amount': 222},\n",
       "   {'transaction-id': 9687, 'amount': 246}]},\n",
       " {'id': 38,\n",
       "  'name': 'Alice',\n",
       "  'transactions': [{'transaction-id': 1284, 'amount': 70},\n",
       "   {'transaction-id': 3312, 'amount': 59},\n",
       "   {'transaction-id': 4221, 'amount': 70},\n",
       "   {'transaction-id': 7132, 'amount': 51},\n",
       "   {'transaction-id': 7263, 'amount': 58},\n",
       "   {'transaction-id': 9115, 'amount': 50},\n",
       "   {'transaction-id': 9673, 'amount': 72}]},\n",
       " {'id': 70,\n",
       "  'name': 'Alice',\n",
       "  'transactions': [{'transaction-id': 23, 'amount': 737},\n",
       "   {'transaction-id': 58, 'amount': 695},\n",
       "   {'transaction-id': 105, 'amount': 764},\n",
       "   {'transaction-id': 380, 'amount': 749},\n",
       "   {'transaction-id': 405, 'amount': 700},\n",
       "   {'transaction-id': 414, 'amount': 701},\n",
       "   {'transaction-id': 592, 'amount': 668},\n",
       "   {'transaction-id': 786, 'amount': 741},\n",
       "   {'transaction-id': 833, 'amount': 664},\n",
       "   {'transaction-id': 843, 'amount': 775},\n",
       "   {'transaction-id': 860, 'amount': 694},\n",
       "   {'transaction-id': 892, 'amount': 752},\n",
       "   {'transaction-id': 955, 'amount': 739},\n",
       "   {'transaction-id': 990, 'amount': 758},\n",
       "   {'transaction-id': 1274, 'amount': 737},\n",
       "   {'transaction-id': 1488, 'amount': 712},\n",
       "   {'transaction-id': 1491, 'amount': 763},\n",
       "   {'transaction-id': 1729, 'amount': 684},\n",
       "   {'transaction-id': 1731, 'amount': 713},\n",
       "   {'transaction-id': 1818, 'amount': 688},\n",
       "   {'transaction-id': 1971, 'amount': 680},\n",
       "   {'transaction-id': 2002, 'amount': 686},\n",
       "   {'transaction-id': 2141, 'amount': 722},\n",
       "   {'transaction-id': 2165, 'amount': 694},\n",
       "   {'transaction-id': 2248, 'amount': 725},\n",
       "   {'transaction-id': 2458, 'amount': 736},\n",
       "   {'transaction-id': 2570, 'amount': 732},\n",
       "   {'transaction-id': 2606, 'amount': 753},\n",
       "   {'transaction-id': 2691, 'amount': 743},\n",
       "   {'transaction-id': 2714, 'amount': 729},\n",
       "   {'transaction-id': 2953, 'amount': 762},\n",
       "   {'transaction-id': 2991, 'amount': 717},\n",
       "   {'transaction-id': 3111, 'amount': 715},\n",
       "   {'transaction-id': 3263, 'amount': 709},\n",
       "   {'transaction-id': 3354, 'amount': 737},\n",
       "   {'transaction-id': 3362, 'amount': 769},\n",
       "   {'transaction-id': 3364, 'amount': 693},\n",
       "   {'transaction-id': 3374, 'amount': 699},\n",
       "   {'transaction-id': 3514, 'amount': 711},\n",
       "   {'transaction-id': 3656, 'amount': 700},\n",
       "   {'transaction-id': 3690, 'amount': 754},\n",
       "   {'transaction-id': 3692, 'amount': 815},\n",
       "   {'transaction-id': 3801, 'amount': 749},\n",
       "   {'transaction-id': 3856, 'amount': 741},\n",
       "   {'transaction-id': 3939, 'amount': 753},\n",
       "   {'transaction-id': 3982, 'amount': 775},\n",
       "   {'transaction-id': 4214, 'amount': 743},\n",
       "   {'transaction-id': 4486, 'amount': 782},\n",
       "   {'transaction-id': 4488, 'amount': 749},\n",
       "   {'transaction-id': 4499, 'amount': 744},\n",
       "   {'transaction-id': 4610, 'amount': 733},\n",
       "   {'transaction-id': 4686, 'amount': 741},\n",
       "   {'transaction-id': 4888, 'amount': 772},\n",
       "   {'transaction-id': 4896, 'amount': 699},\n",
       "   {'transaction-id': 4913, 'amount': 722},\n",
       "   {'transaction-id': 4935, 'amount': 715},\n",
       "   {'transaction-id': 4987, 'amount': 713},\n",
       "   {'transaction-id': 5064, 'amount': 717},\n",
       "   {'transaction-id': 5404, 'amount': 678},\n",
       "   {'transaction-id': 5420, 'amount': 750},\n",
       "   {'transaction-id': 5650, 'amount': 772},\n",
       "   {'transaction-id': 5687, 'amount': 765},\n",
       "   {'transaction-id': 5860, 'amount': 734},\n",
       "   {'transaction-id': 5905, 'amount': 734},\n",
       "   {'transaction-id': 6064, 'amount': 734},\n",
       "   {'transaction-id': 6148, 'amount': 727},\n",
       "   {'transaction-id': 6168, 'amount': 784},\n",
       "   {'transaction-id': 6293, 'amount': 726},\n",
       "   {'transaction-id': 6415, 'amount': 697},\n",
       "   {'transaction-id': 6453, 'amount': 684},\n",
       "   {'transaction-id': 6739, 'amount': 682},\n",
       "   {'transaction-id': 6841, 'amount': 636},\n",
       "   {'transaction-id': 6847, 'amount': 766},\n",
       "   {'transaction-id': 6981, 'amount': 722},\n",
       "   {'transaction-id': 7037, 'amount': 763},\n",
       "   {'transaction-id': 7155, 'amount': 739},\n",
       "   {'transaction-id': 7235, 'amount': 726},\n",
       "   {'transaction-id': 7321, 'amount': 724},\n",
       "   {'transaction-id': 7403, 'amount': 677},\n",
       "   {'transaction-id': 7589, 'amount': 694},\n",
       "   {'transaction-id': 7782, 'amount': 710},\n",
       "   {'transaction-id': 7910, 'amount': 713},\n",
       "   {'transaction-id': 8027, 'amount': 753},\n",
       "   {'transaction-id': 8167, 'amount': 735},\n",
       "   {'transaction-id': 8394, 'amount': 748},\n",
       "   {'transaction-id': 8451, 'amount': 656},\n",
       "   {'transaction-id': 8475, 'amount': 699},\n",
       "   {'transaction-id': 8481, 'amount': 766},\n",
       "   {'transaction-id': 8487, 'amount': 757},\n",
       "   {'transaction-id': 8551, 'amount': 698},\n",
       "   {'transaction-id': 8637, 'amount': 722},\n",
       "   {'transaction-id': 8713, 'amount': 744},\n",
       "   {'transaction-id': 8764, 'amount': 779},\n",
       "   {'transaction-id': 8807, 'amount': 786},\n",
       "   {'transaction-id': 8876, 'amount': 741},\n",
       "   {'transaction-id': 8901, 'amount': 703},\n",
       "   {'transaction-id': 9157, 'amount': 756},\n",
       "   {'transaction-id': 9167, 'amount': 723},\n",
       "   {'transaction-id': 9248, 'amount': 693},\n",
       "   {'transaction-id': 9266, 'amount': 735},\n",
       "   {'transaction-id': 9338, 'amount': 765},\n",
       "   {'transaction-id': 9363, 'amount': 718},\n",
       "   {'transaction-id': 9389, 'amount': 749},\n",
       "   {'transaction-id': 9482, 'amount': 739},\n",
       "   {'transaction-id': 9540, 'amount': 731},\n",
       "   {'transaction-id': 9615, 'amount': 731},\n",
       "   {'transaction-id': 9710, 'amount': 728},\n",
       "   {'transaction-id': 9715, 'amount': 788},\n",
       "   {'transaction-id': 9759, 'amount': 676},\n",
       "   {'transaction-id': 9870, 'amount': 765}]},\n",
       " {'id': 159,\n",
       "  'name': 'Alice',\n",
       "  'transactions': [{'transaction-id': 223, 'amount': 500},\n",
       "   {'transaction-id': 513, 'amount': 539},\n",
       "   {'transaction-id': 637, 'amount': 481},\n",
       "   {'transaction-id': 1890, 'amount': 477},\n",
       "   {'transaction-id': 1977, 'amount': 560},\n",
       "   {'transaction-id': 2324, 'amount': 444},\n",
       "   {'transaction-id': 2367, 'amount': 412},\n",
       "   {'transaction-id': 3034, 'amount': 570},\n",
       "   {'transaction-id': 3751, 'amount': 567},\n",
       "   {'transaction-id': 3887, 'amount': 591},\n",
       "   {'transaction-id': 4673, 'amount': 641},\n",
       "   {'transaction-id': 5002, 'amount': 557},\n",
       "   {'transaction-id': 6036, 'amount': 642},\n",
       "   {'transaction-id': 6530, 'amount': 385},\n",
       "   {'transaction-id': 6741, 'amount': 700},\n",
       "   {'transaction-id': 7011, 'amount': 627},\n",
       "   {'transaction-id': 7777, 'amount': 435},\n",
       "   {'transaction-id': 8532, 'amount': 499},\n",
       "   {'transaction-id': 9904, 'amount': 317}]})"
      ]
     },
     "execution_count": 10,
     "metadata": {},
     "output_type": "execute_result"
    }
   ],
   "source": [
    "# filter: keep only some elements of the sequence\n",
    "js.filter(lambda record: record['name'] == 'Alice').take(5)"
   ]
  },
  {
   "cell_type": "code",
   "execution_count": 11,
   "metadata": {},
   "outputs": [
    {
     "data": {
      "text/plain": [
       "({'name': 'Alice', 'count': 49},\n",
       " {'name': 'Alice', 'count': 7},\n",
       " {'name': 'Alice', 'count': 110},\n",
       " {'name': 'Alice', 'count': 19})"
      ]
     },
     "execution_count": 11,
     "metadata": {},
     "output_type": "execute_result"
    }
   ],
   "source": [
    "def count_transactions(d):\n",
    "    return {'name': d['name'], 'count': len(d['transactions'])}\n",
    "\n",
    "# map: apply a function to each element\n",
    "(js.filter(lambda record: record['name'] == 'Alice')\n",
    "   .map(count_transactions)\n",
    "   .take(5))"
   ]
  },
  {
   "cell_type": "code",
   "execution_count": 12,
   "metadata": {},
   "outputs": [
    {
     "data": {
      "text/plain": [
       "(49, 7, 110, 19)"
      ]
     },
     "execution_count": 12,
     "metadata": {},
     "output_type": "execute_result"
    }
   ],
   "source": [
    "# pluck: select a field, as from a dictionary, element[field]\n",
    "(js.filter(lambda record: record['name'] == 'Alice')\n",
    "   .map(count_transactions)\n",
    "   .pluck('count')\n",
    "   .take(5))"
   ]
  },
  {
   "cell_type": "code",
   "execution_count": 13,
   "metadata": {},
   "outputs": [
    {
     "data": {
      "text/plain": [
       "46.23"
      ]
     },
     "execution_count": 13,
     "metadata": {},
     "output_type": "execute_result"
    }
   ],
   "source": [
    "# Average number of transactions for all of the Alice entries\n",
    "(js.filter(lambda record: record['name'] == 'Alice')\n",
    "   .map(count_transactions)\n",
    "   .pluck('count')\n",
    "   .mean()\n",
    "   .compute())"
   ]
  },
  {
   "cell_type": "markdown",
   "metadata": {},
   "source": [
    "### Use `flatten` to de-nest"
   ]
  },
  {
   "cell_type": "markdown",
   "metadata": {},
   "source": [
    "In the example below we see the use of `.flatten()` to flatten results.  We compute the average amount for all transactions for all Alices."
   ]
  },
  {
   "cell_type": "code",
   "execution_count": 14,
   "metadata": {},
   "outputs": [
    {
     "data": {
      "text/plain": [
       "([{'transaction-id': 35, 'amount': 257},\n",
       "  {'transaction-id': 230, 'amount': 241},\n",
       "  {'transaction-id': 874, 'amount': 271},\n",
       "  {'transaction-id': 934, 'amount': 270},\n",
       "  {'transaction-id': 1310, 'amount': 247},\n",
       "  {'transaction-id': 1414, 'amount': 227},\n",
       "  {'transaction-id': 1428, 'amount': 240},\n",
       "  {'transaction-id': 1443, 'amount': 234},\n",
       "  {'transaction-id': 1462, 'amount': 264},\n",
       "  {'transaction-id': 1498, 'amount': 283},\n",
       "  {'transaction-id': 2574, 'amount': 285},\n",
       "  {'transaction-id': 2663, 'amount': 212},\n",
       "  {'transaction-id': 2681, 'amount': 263},\n",
       "  {'transaction-id': 3025, 'amount': 206},\n",
       "  {'transaction-id': 3050, 'amount': 269},\n",
       "  {'transaction-id': 3436, 'amount': 222},\n",
       "  {'transaction-id': 3703, 'amount': 301},\n",
       "  {'transaction-id': 3864, 'amount': 229},\n",
       "  {'transaction-id': 4002, 'amount': 255},\n",
       "  {'transaction-id': 4332, 'amount': 250},\n",
       "  {'transaction-id': 4801, 'amount': 249},\n",
       "  {'transaction-id': 4824, 'amount': 305},\n",
       "  {'transaction-id': 4942, 'amount': 265},\n",
       "  {'transaction-id': 5027, 'amount': 230},\n",
       "  {'transaction-id': 5212, 'amount': 261},\n",
       "  {'transaction-id': 5230, 'amount': 234},\n",
       "  {'transaction-id': 5342, 'amount': 259},\n",
       "  {'transaction-id': 5403, 'amount': 261},\n",
       "  {'transaction-id': 5412, 'amount': 283},\n",
       "  {'transaction-id': 5477, 'amount': 242},\n",
       "  {'transaction-id': 5700, 'amount': 220},\n",
       "  {'transaction-id': 5827, 'amount': 205},\n",
       "  {'transaction-id': 5951, 'amount': 218},\n",
       "  {'transaction-id': 6010, 'amount': 259},\n",
       "  {'transaction-id': 6535, 'amount': 251},\n",
       "  {'transaction-id': 6703, 'amount': 247},\n",
       "  {'transaction-id': 7033, 'amount': 238},\n",
       "  {'transaction-id': 7127, 'amount': 226},\n",
       "  {'transaction-id': 7481, 'amount': 204},\n",
       "  {'transaction-id': 7605, 'amount': 254},\n",
       "  {'transaction-id': 7763, 'amount': 226},\n",
       "  {'transaction-id': 7796, 'amount': 212},\n",
       "  {'transaction-id': 7807, 'amount': 269},\n",
       "  {'transaction-id': 7984, 'amount': 251},\n",
       "  {'transaction-id': 8373, 'amount': 258},\n",
       "  {'transaction-id': 8842, 'amount': 260},\n",
       "  {'transaction-id': 9197, 'amount': 304},\n",
       "  {'transaction-id': 9509, 'amount': 222},\n",
       "  {'transaction-id': 9687, 'amount': 246}],\n",
       " [{'transaction-id': 1284, 'amount': 70},\n",
       "  {'transaction-id': 3312, 'amount': 59},\n",
       "  {'transaction-id': 4221, 'amount': 70},\n",
       "  {'transaction-id': 7132, 'amount': 51},\n",
       "  {'transaction-id': 7263, 'amount': 58},\n",
       "  {'transaction-id': 9115, 'amount': 50},\n",
       "  {'transaction-id': 9673, 'amount': 72}],\n",
       " [{'transaction-id': 23, 'amount': 737},\n",
       "  {'transaction-id': 58, 'amount': 695},\n",
       "  {'transaction-id': 105, 'amount': 764},\n",
       "  {'transaction-id': 380, 'amount': 749},\n",
       "  {'transaction-id': 405, 'amount': 700},\n",
       "  {'transaction-id': 414, 'amount': 701},\n",
       "  {'transaction-id': 592, 'amount': 668},\n",
       "  {'transaction-id': 786, 'amount': 741},\n",
       "  {'transaction-id': 833, 'amount': 664},\n",
       "  {'transaction-id': 843, 'amount': 775},\n",
       "  {'transaction-id': 860, 'amount': 694},\n",
       "  {'transaction-id': 892, 'amount': 752},\n",
       "  {'transaction-id': 955, 'amount': 739},\n",
       "  {'transaction-id': 990, 'amount': 758},\n",
       "  {'transaction-id': 1274, 'amount': 737},\n",
       "  {'transaction-id': 1488, 'amount': 712},\n",
       "  {'transaction-id': 1491, 'amount': 763},\n",
       "  {'transaction-id': 1729, 'amount': 684},\n",
       "  {'transaction-id': 1731, 'amount': 713},\n",
       "  {'transaction-id': 1818, 'amount': 688},\n",
       "  {'transaction-id': 1971, 'amount': 680},\n",
       "  {'transaction-id': 2002, 'amount': 686},\n",
       "  {'transaction-id': 2141, 'amount': 722},\n",
       "  {'transaction-id': 2165, 'amount': 694},\n",
       "  {'transaction-id': 2248, 'amount': 725},\n",
       "  {'transaction-id': 2458, 'amount': 736},\n",
       "  {'transaction-id': 2570, 'amount': 732},\n",
       "  {'transaction-id': 2606, 'amount': 753},\n",
       "  {'transaction-id': 2691, 'amount': 743},\n",
       "  {'transaction-id': 2714, 'amount': 729},\n",
       "  {'transaction-id': 2953, 'amount': 762},\n",
       "  {'transaction-id': 2991, 'amount': 717},\n",
       "  {'transaction-id': 3111, 'amount': 715},\n",
       "  {'transaction-id': 3263, 'amount': 709},\n",
       "  {'transaction-id': 3354, 'amount': 737},\n",
       "  {'transaction-id': 3362, 'amount': 769},\n",
       "  {'transaction-id': 3364, 'amount': 693},\n",
       "  {'transaction-id': 3374, 'amount': 699},\n",
       "  {'transaction-id': 3514, 'amount': 711},\n",
       "  {'transaction-id': 3656, 'amount': 700},\n",
       "  {'transaction-id': 3690, 'amount': 754},\n",
       "  {'transaction-id': 3692, 'amount': 815},\n",
       "  {'transaction-id': 3801, 'amount': 749},\n",
       "  {'transaction-id': 3856, 'amount': 741},\n",
       "  {'transaction-id': 3939, 'amount': 753},\n",
       "  {'transaction-id': 3982, 'amount': 775},\n",
       "  {'transaction-id': 4214, 'amount': 743},\n",
       "  {'transaction-id': 4486, 'amount': 782},\n",
       "  {'transaction-id': 4488, 'amount': 749},\n",
       "  {'transaction-id': 4499, 'amount': 744},\n",
       "  {'transaction-id': 4610, 'amount': 733},\n",
       "  {'transaction-id': 4686, 'amount': 741},\n",
       "  {'transaction-id': 4888, 'amount': 772},\n",
       "  {'transaction-id': 4896, 'amount': 699},\n",
       "  {'transaction-id': 4913, 'amount': 722},\n",
       "  {'transaction-id': 4935, 'amount': 715},\n",
       "  {'transaction-id': 4987, 'amount': 713},\n",
       "  {'transaction-id': 5064, 'amount': 717},\n",
       "  {'transaction-id': 5404, 'amount': 678},\n",
       "  {'transaction-id': 5420, 'amount': 750},\n",
       "  {'transaction-id': 5650, 'amount': 772},\n",
       "  {'transaction-id': 5687, 'amount': 765},\n",
       "  {'transaction-id': 5860, 'amount': 734},\n",
       "  {'transaction-id': 5905, 'amount': 734},\n",
       "  {'transaction-id': 6064, 'amount': 734},\n",
       "  {'transaction-id': 6148, 'amount': 727},\n",
       "  {'transaction-id': 6168, 'amount': 784},\n",
       "  {'transaction-id': 6293, 'amount': 726},\n",
       "  {'transaction-id': 6415, 'amount': 697},\n",
       "  {'transaction-id': 6453, 'amount': 684},\n",
       "  {'transaction-id': 6739, 'amount': 682},\n",
       "  {'transaction-id': 6841, 'amount': 636},\n",
       "  {'transaction-id': 6847, 'amount': 766},\n",
       "  {'transaction-id': 6981, 'amount': 722},\n",
       "  {'transaction-id': 7037, 'amount': 763},\n",
       "  {'transaction-id': 7155, 'amount': 739},\n",
       "  {'transaction-id': 7235, 'amount': 726},\n",
       "  {'transaction-id': 7321, 'amount': 724},\n",
       "  {'transaction-id': 7403, 'amount': 677},\n",
       "  {'transaction-id': 7589, 'amount': 694},\n",
       "  {'transaction-id': 7782, 'amount': 710},\n",
       "  {'transaction-id': 7910, 'amount': 713},\n",
       "  {'transaction-id': 8027, 'amount': 753},\n",
       "  {'transaction-id': 8167, 'amount': 735},\n",
       "  {'transaction-id': 8394, 'amount': 748},\n",
       "  {'transaction-id': 8451, 'amount': 656},\n",
       "  {'transaction-id': 8475, 'amount': 699},\n",
       "  {'transaction-id': 8481, 'amount': 766},\n",
       "  {'transaction-id': 8487, 'amount': 757},\n",
       "  {'transaction-id': 8551, 'amount': 698},\n",
       "  {'transaction-id': 8637, 'amount': 722},\n",
       "  {'transaction-id': 8713, 'amount': 744},\n",
       "  {'transaction-id': 8764, 'amount': 779},\n",
       "  {'transaction-id': 8807, 'amount': 786},\n",
       "  {'transaction-id': 8876, 'amount': 741},\n",
       "  {'transaction-id': 8901, 'amount': 703},\n",
       "  {'transaction-id': 9157, 'amount': 756},\n",
       "  {'transaction-id': 9167, 'amount': 723},\n",
       "  {'transaction-id': 9248, 'amount': 693},\n",
       "  {'transaction-id': 9266, 'amount': 735},\n",
       "  {'transaction-id': 9338, 'amount': 765},\n",
       "  {'transaction-id': 9363, 'amount': 718},\n",
       "  {'transaction-id': 9389, 'amount': 749},\n",
       "  {'transaction-id': 9482, 'amount': 739},\n",
       "  {'transaction-id': 9540, 'amount': 731},\n",
       "  {'transaction-id': 9615, 'amount': 731},\n",
       "  {'transaction-id': 9710, 'amount': 728},\n",
       "  {'transaction-id': 9715, 'amount': 788},\n",
       "  {'transaction-id': 9759, 'amount': 676},\n",
       "  {'transaction-id': 9870, 'amount': 765}])"
      ]
     },
     "execution_count": 14,
     "metadata": {},
     "output_type": "execute_result"
    }
   ],
   "source": [
    "js.filter(lambda record: record['name'] == 'Alice').pluck('transactions').take(3)"
   ]
  },
  {
   "cell_type": "code",
   "execution_count": 15,
   "metadata": {},
   "outputs": [
    {
     "data": {
      "text/plain": [
       "({'transaction-id': 35, 'amount': 257},\n",
       " {'transaction-id': 230, 'amount': 241},\n",
       " {'transaction-id': 874, 'amount': 271})"
      ]
     },
     "execution_count": 15,
     "metadata": {},
     "output_type": "execute_result"
    }
   ],
   "source": [
    "(js.filter(lambda record: record['name'] == 'Alice')\n",
    "   .pluck('transactions')\n",
    "   .flatten()\n",
    "   .take(3))"
   ]
  },
  {
   "cell_type": "code",
   "execution_count": 16,
   "metadata": {},
   "outputs": [
    {
     "data": {
      "text/plain": [
       "(257, 241, 271)"
      ]
     },
     "execution_count": 16,
     "metadata": {},
     "output_type": "execute_result"
    }
   ],
   "source": [
    "(js.filter(lambda record: record['name'] == 'Alice')\n",
    "   .pluck('transactions')\n",
    "   .flatten()\n",
    "   .pluck('amount')\n",
    "   .take(3))"
   ]
  },
  {
   "cell_type": "code",
   "execution_count": 17,
   "metadata": {},
   "outputs": [
    {
     "data": {
      "text/plain": [
       "569.220311486048"
      ]
     },
     "execution_count": 17,
     "metadata": {},
     "output_type": "execute_result"
    }
   ],
   "source": [
    "(js.filter(lambda record: record['name'] == 'Alice')\n",
    "   .pluck('transactions')\n",
    "   .flatten()\n",
    "   .pluck('amount')\n",
    "   .mean()\n",
    "   .compute())"
   ]
  },
  {
   "cell_type": "markdown",
   "metadata": {},
   "source": [
    "### Groupby and Foldby"
   ]
  },
  {
   "cell_type": "markdown",
   "metadata": {},
   "source": [
    "Often we want to group data by some function or key.  We can do this either with the `.groupby` method, which is straightforward but forces a full shuffle of the data (expensive) or with the harder-to-use but faster `.foldby` method, which does a streaming combined groupby and reduction.\n",
    "\n",
    "*  `groupby`:  Shuffles data so that all items with the same key are in the same key-value pair\n",
    "*  `foldby`:  Walks through the data accumulating a result per key\n",
    "\n",
    "*Note: the full groupby is particularly bad. In actual workloads you would do well to use `foldby` or switch to `DataFrame`s if possible.*"
   ]
  },
  {
   "cell_type": "markdown",
   "metadata": {},
   "source": [
    "### `groupby`"
   ]
  },
  {
   "cell_type": "markdown",
   "metadata": {},
   "source": [
    "Groupby collects items in your collection so that all items with the same value under some function are collected together into a key-value pair."
   ]
  },
  {
   "cell_type": "code",
   "execution_count": 18,
   "metadata": {},
   "outputs": [
    {
     "data": {
      "text/plain": [
       "[(7, ['Charlie']), (3, ['Bob', 'Dan']), (5, ['Alice', 'Edith', 'Frank'])]"
      ]
     },
     "execution_count": 18,
     "metadata": {},
     "output_type": "execute_result"
    }
   ],
   "source": [
    "b = db.from_sequence(['Alice', 'Bob', 'Charlie', 'Dan', 'Edith', 'Frank'])\n",
    "b.groupby(len).compute()  # names grouped by length"
   ]
  },
  {
   "cell_type": "code",
   "execution_count": 19,
   "metadata": {},
   "outputs": [
    {
     "data": {
      "text/plain": [
       "[(0, [0, 2, 4, 6, 8]), (1, [1, 3, 5, 7, 9])]"
      ]
     },
     "execution_count": 19,
     "metadata": {},
     "output_type": "execute_result"
    }
   ],
   "source": [
    "b = db.from_sequence(list(range(10)))\n",
    "b.groupby(lambda x: x % 2).compute()"
   ]
  },
  {
   "cell_type": "code",
   "execution_count": 20,
   "metadata": {},
   "outputs": [
    {
     "data": {
      "text/plain": [
       "[(0, 8), (1, 9)]"
      ]
     },
     "execution_count": 20,
     "metadata": {},
     "output_type": "execute_result"
    }
   ],
   "source": [
    "b.groupby(lambda x: x % 2).starmap(lambda k, v: (k, max(v))).compute()"
   ]
  },
  {
   "cell_type": "markdown",
   "metadata": {},
   "source": [
    "### `foldby`"
   ]
  },
  {
   "cell_type": "markdown",
   "metadata": {},
   "source": [
    "Foldby can be quite odd at first.  It is similar to the following functions from other libraries:\n",
    "\n",
    "*  [`toolz.reduceby`](http://toolz.readthedocs.io/en/latest/streaming-analytics.html#streaming-split-apply-combine)\n",
    "*  [`pyspark.RDD.combineByKey`](http://abshinn.github.io/python/apache-spark/2014/10/11/using-combinebykey-in-apache-spark/)\n",
    "\n",
    "When using `foldby` you provide \n",
    "\n",
    "1.  A key function on which to group elements\n",
    "2.  A binary operator such as you would pass to `reduce` that you use to perform reduction per each group\n",
    "3.  A combine binary operator that can combine the results of two `reduce` calls on different parts of your dataset.\n",
    "\n",
    "Your reduction must be associative.  It will happen in parallel in each of the partitions of your dataset.  Then all of these intermediate results will be combined by the `combine` binary operator."
   ]
  },
  {
   "cell_type": "code",
   "execution_count": 21,
   "metadata": {},
   "outputs": [
    {
     "data": {
      "text/plain": [
       "[(0, 8), (1, 9)]"
      ]
     },
     "execution_count": 21,
     "metadata": {},
     "output_type": "execute_result"
    }
   ],
   "source": [
    "is_even = lambda x: x % 2\n",
    "b.foldby(is_even, binop=max, combine=max).compute()"
   ]
  },
  {
   "cell_type": "markdown",
   "metadata": {},
   "source": [
    "### Example with account data"
   ]
  },
  {
   "cell_type": "markdown",
   "metadata": {},
   "source": [
    "We find the number of people with the same name."
   ]
  },
  {
   "cell_type": "code",
   "execution_count": 22,
   "metadata": {},
   "outputs": [
    {
     "name": "stdout",
     "output_type": "stream",
     "text": [
      "[('Alice', 48), ('Alice', 48), ('Alice', 48), ('Alice', 56), ('Bob', 143), ('Bob', 145), ('Bob', 315), ('Charlie', 168), ('Charlie', 169), ('Charlie', 170), ('Charlie', 196), ('Dan', 84), ('Dan', 84), ('Dan', 84), ('Dan', 98), ('Edith', 146), ('Edith', 146), ('Edith', 146), ('Edith', 168), ('Frank', 84), ('Frank', 84), ('Frank', 84), ('Frank', 98), ('George', 72), ('George', 72), ('George', 72), ('George', 84), ('Hannah', 156), ('Hannah', 156), ('Hannah', 156), ('Hannah', 182), ('Ingrid', 95), ('Ingrid', 96), ('Ingrid', 96), ('Ingrid', 112), ('Jerry', 132), ('Jerry', 132), ('Jerry', 132), ('Jerry', 154), ('Kevin', 144), ('Kevin', 144), ('Kevin', 144), ('Kevin', 168), ('Laura', 94), ('Laura', 96), ('Laura', 96), ('Laura', 112), ('Michael', 108), ('Michael', 108), ('Michael', 108), ('Michael', 126), ('Norbert', 108), ('Norbert', 108), ('Norbert', 108), ('Norbert', 126), ('Oliver', 95), ('Oliver', 96), ('Oliver', 96), ('Oliver', 110), ('Patricia', 86), ('Patricia', 88), ('Patricia', 90), ('Patricia', 103), ('Quinn', 107), ('Quinn', 107), ('Quinn', 108), ('Quinn', 126), ('Ray', 156), ('Ray', 184), ('Ray', 312), ('Sarah', 107), ('Sarah', 125), ('Sarah', 213), ('Tim', 79), ('Tim', 80), ('Tim', 82), ('Tim', 94), ('Ursula', 120), ('Ursula', 120), ('Ursula', 120), ('Ursula', 140), ('Victor', 94), ('Victor', 99), ('Victor', 101), ('Victor', 116), ('Wendy', 153), ('Wendy', 153), ('Wendy', 154), ('Wendy', 180), ('Xavier', 120), ('Xavier', 120), ('Xavier', 120), ('Xavier', 139), ('Yvonne', 95), ('Yvonne', 96), ('Yvonne', 96), ('Yvonne', 112), ('Zelda', 120), ('Zelda', 120), ('Zelda', 120), ('Zelda', 140)]\n",
      "CPU times: user 5.29 s, sys: 373 ms, total: 5.66 s\n",
      "Wall time: 1min 4s\n"
     ]
    }
   ],
   "source": [
    "%%time\n",
    "# Warning, this one takes a while...\n",
    "result = js.groupby(lambda item: item['name']).starmap(lambda k, v: (k, len(v))).compute()\n",
    "print(sorted(result))"
   ]
  },
  {
   "cell_type": "code",
   "execution_count": 23,
   "metadata": {},
   "outputs": [
    {
     "name": "stdout",
     "output_type": "stream",
     "text": [
      "[('Alice', 200), ('Bob', 603), ('Charlie', 703), ('Dan', 350), ('Edith', 606), ('Frank', 350), ('George', 300), ('Hannah', 650), ('Ingrid', 399), ('Jerry', 550), ('Kevin', 600), ('Laura', 398), ('Michael', 450), ('Norbert', 450), ('Oliver', 397), ('Patricia', 367), ('Quinn', 448), ('Ray', 652), ('Sarah', 445), ('Tim', 335), ('Ursula', 500), ('Victor', 410), ('Wendy', 640), ('Xavier', 499), ('Yvonne', 399), ('Zelda', 500)]\n",
      "CPU times: user 186 ms, sys: 19.2 ms, total: 205 ms\n",
      "Wall time: 660 ms\n"
     ]
    }
   ],
   "source": [
    "%%time\n",
    "# This one is comparatively fast and produces the same result.\n",
    "from operator import add\n",
    "def incr(tot, _):\n",
    "    return tot+1\n",
    "\n",
    "result = js.foldby(key='name', \n",
    "                   binop=incr, \n",
    "                   initial=0, \n",
    "                   combine=add, \n",
    "                   combine_initial=0).compute()\n",
    "print(sorted(result))"
   ]
  },
  {
   "cell_type": "markdown",
   "metadata": {},
   "source": [
    "### Exercise: compute total amount per name"
   ]
  },
  {
   "cell_type": "markdown",
   "metadata": {},
   "source": [
    "We want to groupby (or foldby) the `name` key, then add up the all of the amounts for each name.\n",
    "\n",
    "Steps\n",
    "\n",
    "1.  Create a small function that, given a dictionary like \n",
    "\n",
    "        {'name': 'Alice', 'transactions': [{'amount': 1, 'id': 123}, {'amount': 2, 'id': 456}]}\n",
    "        \n",
    "    produces the sum of the amounts, e.g. `3`\n",
    "    \n",
    "2.  Slightly change the binary operator of the `foldby` example above so that the binary operator doesn't count the number of entries, but instead accumulates the sum of the amounts."
   ]
  },
  {
   "cell_type": "code",
   "execution_count": 24,
   "metadata": {},
   "outputs": [],
   "source": [
    "# Your code here..."
   ]
  },
  {
   "cell_type": "markdown",
   "metadata": {},
   "source": [
    "## DataFrames"
   ]
  },
  {
   "cell_type": "markdown",
   "metadata": {},
   "source": [
    "For the same reasons that Pandas is often faster than pure Python, `dask.dataframe` can be faster than `dask.bag`.  We will work more with DataFrames later, but from for the bag point of view, they are frequently the end-point of the \"messy\" part of data ingestion—once the data can be made into a data-frame, then complex split-apply-combine logic will become much more straight-forward and efficient.\n",
    "\n",
    "You can transform a bag with a simple tuple or flat dictionary structure into a `dask.dataframe` with the `to_dataframe` method."
   ]
  },
  {
   "cell_type": "code",
   "execution_count": 25,
   "metadata": {},
   "outputs": [
    {
     "data": {
      "text/html": [
       "<div>\n",
       "<style scoped>\n",
       "    .dataframe tbody tr th:only-of-type {\n",
       "        vertical-align: middle;\n",
       "    }\n",
       "\n",
       "    .dataframe tbody tr th {\n",
       "        vertical-align: top;\n",
       "    }\n",
       "\n",
       "    .dataframe thead th {\n",
       "        text-align: right;\n",
       "    }\n",
       "</style>\n",
       "<table border=\"1\" class=\"dataframe\">\n",
       "  <thead>\n",
       "    <tr style=\"text-align: right;\">\n",
       "      <th></th>\n",
       "      <th>id</th>\n",
       "      <th>name</th>\n",
       "      <th>transactions</th>\n",
       "    </tr>\n",
       "  </thead>\n",
       "  <tbody>\n",
       "    <tr>\n",
       "      <th>0</th>\n",
       "      <td>0</td>\n",
       "      <td>Ingrid</td>\n",
       "      <td>[{'transaction-id': 28, 'amount': 40}, {'trans...</td>\n",
       "    </tr>\n",
       "    <tr>\n",
       "      <th>1</th>\n",
       "      <td>1</td>\n",
       "      <td>Sarah</td>\n",
       "      <td>[{'transaction-id': 8, 'amount': 1674}, {'tran...</td>\n",
       "    </tr>\n",
       "    <tr>\n",
       "      <th>2</th>\n",
       "      <td>2</td>\n",
       "      <td>Edith</td>\n",
       "      <td>[{'transaction-id': 651, 'amount': -1031}, {'t...</td>\n",
       "    </tr>\n",
       "    <tr>\n",
       "      <th>3</th>\n",
       "      <td>3</td>\n",
       "      <td>Ursula</td>\n",
       "      <td>[{'transaction-id': 1390, 'amount': 2614}, {'t...</td>\n",
       "    </tr>\n",
       "    <tr>\n",
       "      <th>4</th>\n",
       "      <td>4</td>\n",
       "      <td>Ursula</td>\n",
       "      <td>[{'transaction-id': 1862, 'amount': -47}, {'tr...</td>\n",
       "    </tr>\n",
       "  </tbody>\n",
       "</table>\n",
       "</div>"
      ],
      "text/plain": [
       "   id    name                                       transactions\n",
       "0   0  Ingrid  [{'transaction-id': 28, 'amount': 40}, {'trans...\n",
       "1   1   Sarah  [{'transaction-id': 8, 'amount': 1674}, {'tran...\n",
       "2   2   Edith  [{'transaction-id': 651, 'amount': -1031}, {'t...\n",
       "3   3  Ursula  [{'transaction-id': 1390, 'amount': 2614}, {'t...\n",
       "4   4  Ursula  [{'transaction-id': 1862, 'amount': -47}, {'tr..."
      ]
     },
     "execution_count": 25,
     "metadata": {},
     "output_type": "execute_result"
    }
   ],
   "source": [
    "df1 = js.to_dataframe()\n",
    "df1.head()"
   ]
  },
  {
   "cell_type": "markdown",
   "metadata": {},
   "source": [
    "This now looks like a well-defined DataFrame, and we can apply Pandas-like computations to it efficiently."
   ]
  },
  {
   "cell_type": "markdown",
   "metadata": {},
   "source": [
    "Using a Dask DataFrame, how long does it take to do our prior computation of numbers of people with the same name?  It turns out that `dask.dataframe.groupby()` beats `dask.bag.groupby()` more than an order of magnitude; but it still cannot match `dask.bag.foldby()` for this case."
   ]
  },
  {
   "cell_type": "code",
   "execution_count": 26,
   "metadata": {},
   "outputs": [
    {
     "name": "stdout",
     "output_type": "stream",
     "text": [
      "CPU times: user 262 ms, sys: 23.9 ms, total: 286 ms\n",
      "Wall time: 1.86 s\n"
     ]
    },
    {
     "data": {
      "text/plain": [
       "name\n",
       "Alice      200\n",
       "Bob        603\n",
       "Charlie    703\n",
       "Dan        350\n",
       "Edith      606\n",
       "Name: id, dtype: int64"
      ]
     },
     "execution_count": 26,
     "metadata": {},
     "output_type": "execute_result"
    }
   ],
   "source": [
    "%time df1.groupby('name').id.count().compute().head()"
   ]
  },
  {
   "cell_type": "markdown",
   "metadata": {},
   "source": [
    "### Denormalization"
   ]
  },
  {
   "cell_type": "markdown",
   "metadata": {},
   "source": [
    "This DataFrame format is less-than-optimal because the `transactions` column is filled with nested data so Pandas has to revert to `object` dtype, which is quite slow in Pandas.  Ideally we want to transform to a dataframe only after we have flattened our data so that each record is a single `int`, `string`, `float`, etc.."
   ]
  },
  {
   "cell_type": "code",
   "execution_count": 27,
   "metadata": {},
   "outputs": [
    {
     "data": {
      "text/plain": [
       "({'id': 0, 'name': 'Ingrid', 'amount': 40, 'transaction-id': 28},\n",
       " {'id': 0, 'name': 'Ingrid', 'amount': 40, 'transaction-id': 53},\n",
       " {'id': 0, 'name': 'Ingrid', 'amount': 44, 'transaction-id': 135})"
      ]
     },
     "execution_count": 27,
     "metadata": {},
     "output_type": "execute_result"
    }
   ],
   "source": [
    "def denormalize(record):\n",
    "    # returns a list for every nested item, each transaction of each person\n",
    "    return [{'id': record['id'], \n",
    "             'name': record['name'], \n",
    "             'amount': transaction['amount'], \n",
    "             'transaction-id': transaction['transaction-id']}\n",
    "            for transaction in record['transactions']]\n",
    "\n",
    "transactions = js.map(denormalize).flatten()\n",
    "transactions.take(3)"
   ]
  },
  {
   "cell_type": "code",
   "execution_count": 28,
   "metadata": {},
   "outputs": [
    {
     "data": {
      "text/html": [
       "<div>\n",
       "<style scoped>\n",
       "    .dataframe tbody tr th:only-of-type {\n",
       "        vertical-align: middle;\n",
       "    }\n",
       "\n",
       "    .dataframe tbody tr th {\n",
       "        vertical-align: top;\n",
       "    }\n",
       "\n",
       "    .dataframe thead th {\n",
       "        text-align: right;\n",
       "    }\n",
       "</style>\n",
       "<table border=\"1\" class=\"dataframe\">\n",
       "  <thead>\n",
       "    <tr style=\"text-align: right;\">\n",
       "      <th></th>\n",
       "      <th>id</th>\n",
       "      <th>name</th>\n",
       "      <th>amount</th>\n",
       "      <th>transaction-id</th>\n",
       "    </tr>\n",
       "  </thead>\n",
       "  <tbody>\n",
       "    <tr>\n",
       "      <th>0</th>\n",
       "      <td>0</td>\n",
       "      <td>Ingrid</td>\n",
       "      <td>40</td>\n",
       "      <td>28</td>\n",
       "    </tr>\n",
       "    <tr>\n",
       "      <th>1</th>\n",
       "      <td>0</td>\n",
       "      <td>Ingrid</td>\n",
       "      <td>40</td>\n",
       "      <td>53</td>\n",
       "    </tr>\n",
       "    <tr>\n",
       "      <th>2</th>\n",
       "      <td>0</td>\n",
       "      <td>Ingrid</td>\n",
       "      <td>44</td>\n",
       "      <td>135</td>\n",
       "    </tr>\n",
       "    <tr>\n",
       "      <th>3</th>\n",
       "      <td>0</td>\n",
       "      <td>Ingrid</td>\n",
       "      <td>44</td>\n",
       "      <td>214</td>\n",
       "    </tr>\n",
       "    <tr>\n",
       "      <th>4</th>\n",
       "      <td>0</td>\n",
       "      <td>Ingrid</td>\n",
       "      <td>42</td>\n",
       "      <td>278</td>\n",
       "    </tr>\n",
       "  </tbody>\n",
       "</table>\n",
       "</div>"
      ],
      "text/plain": [
       "   id    name  amount  transaction-id\n",
       "0   0  Ingrid      40              28\n",
       "1   0  Ingrid      40              53\n",
       "2   0  Ingrid      44             135\n",
       "3   0  Ingrid      44             214\n",
       "4   0  Ingrid      42             278"
      ]
     },
     "execution_count": 28,
     "metadata": {},
     "output_type": "execute_result"
    }
   ],
   "source": [
    "df = transactions.to_dataframe()\n",
    "df.head()"
   ]
  },
  {
   "cell_type": "code",
   "execution_count": 29,
   "metadata": {},
   "outputs": [
    {
     "name": "stdout",
     "output_type": "stream",
     "text": [
      "CPU times: user 258 ms, sys: 25.8 ms, total: 284 ms\n",
      "Wall time: 1.63 s\n"
     ]
    },
    {
     "data": {
      "text/plain": [
       "name\n",
       "Alice        9246\n",
       "Bob         27473\n",
       "Charlie     26748\n",
       "Dan         16365\n",
       "Edith       20892\n",
       "Frank       14092\n",
       "George       9029\n",
       "Hannah      26913\n",
       "Ingrid      18962\n",
       "Jerry       17437\n",
       "Kevin       45661\n",
       "Laura       14296\n",
       "Michael     17069\n",
       "Norbert     18147\n",
       "Oliver      12555\n",
       "Patricia    11873\n",
       "Quinn       17993\n",
       "Ray         31460\n",
       "Sarah       24499\n",
       "Tim         13146\n",
       "Ursula      19057\n",
       "Victor       8188\n",
       "Wendy       23578\n",
       "Xavier      18227\n",
       "Yvonne      18503\n",
       "Zelda       18591\n",
       "Name: transaction-id, dtype: int64"
      ]
     },
     "execution_count": 29,
     "metadata": {},
     "output_type": "execute_result"
    }
   ],
   "source": [
    "%%time\n",
    "# number of transactions per name\n",
    "# note that the time here includes the data load and ingestion\n",
    "df.groupby('name')['transaction-id'].count().compute()"
   ]
  },
  {
   "cell_type": "markdown",
   "metadata": {},
   "source": [
    "## Limitations"
   ]
  },
  {
   "cell_type": "markdown",
   "metadata": {},
   "source": [
    "Bags provide very general computation (any Python function.)  This generality\n",
    "comes at cost.  Bags have the following known limitations\n",
    "\n",
    "1.  Bag operations tend to be slower than array/dataframe computations in the\n",
    "    same way that Python tends to be slower than NumPy/Pandas\n",
    "2.  ``Bag.groupby`` is slow.  You should try to use ``Bag.foldby`` if possible.\n",
    "    Using ``Bag.foldby`` requires more thought. Even better, consider creating\n",
    "    a normalised dataframe."
   ]
  },
  {
   "cell_type": "markdown",
   "metadata": {},
   "source": [
    "## Learn More\n",
    "\n",
    "* [Bag documentation](https://docs.dask.org/en/latest/bag.html)\n",
    "* [Bag screencast](https://youtu.be/-qIiJ1XtSv0)\n",
    "* [Bag API](https://docs.dask.org/en/latest/bag-api.html)\n",
    "* [Bag examples](https://examples.dask.org/bag.html)"
   ]
  },
  {
   "cell_type": "markdown",
   "metadata": {},
   "source": [
    "## Shutdown"
   ]
  },
  {
   "cell_type": "code",
   "execution_count": 30,
   "metadata": {},
   "outputs": [],
   "source": [
    "client.shutdown()"
   ]
  },
  {
   "cell_type": "code",
   "execution_count": null,
   "metadata": {},
   "outputs": [],
   "source": []
  }
 ],
 "metadata": {
  "anaconda-cloud": {},
  "kernelspec": {
   "display_name": "Python 3",
   "language": "python",
   "name": "python3"
  },
  "language_info": {
   "codemirror_mode": {
    "name": "ipython",
    "version": 3
   },
   "file_extension": ".py",
   "mimetype": "text/x-python",
   "name": "python",
   "nbconvert_exporter": "python",
   "pygments_lexer": "ipython3",
   "version": "3.7.6"
  }
 },
 "nbformat": 4,
 "nbformat_minor": 4
}
